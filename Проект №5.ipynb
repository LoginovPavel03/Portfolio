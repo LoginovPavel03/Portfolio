{
 "cells": [
  {
   "cell_type": "markdown",
   "id": "e06910dd",
   "metadata": {
    "id": "e06910dd"
   },
   "source": [
    "# Проект третьего модуля\n",
    "\n",
    "- Автор: Логинов Павел Александрович\n",
    "- Дата: 08.05.2025"
   ]
  },
  {
   "cell_type": "markdown",
   "id": "e176942d",
   "metadata": {},
   "source": [
    "# Часть 1. Проверка гипотезы в Python и составление аналитической записки"
   ]
  },
  {
   "cell_type": "markdown",
   "id": "4149134c",
   "metadata": {
    "id": "4149134c"
   },
   "source": [
    "## Введение\n",
    "\n",
    "### Цели и задачи проекта\n",
    "\n",
    "**Цель проекта**: \n",
    "\n",
    "*Часть 1. Проверка гипотезы в Python и составление аналитической записки*\n",
    "\n",
    "Проверка гипотезы о среднем времени чтения и прослушивания книг в приложении сервиса Яндекс Книги среди пользователей из Москвы и Санкт-Петербурга\n",
    "\n",
    "*Часть 2. Анализ результатов A/B-тестирования*\n",
    "\n",
    "Анализ результатов A/B-тестирования интернет-магазина BitMotion Kit\n",
    "\n",
    "**Задачи проекта**:\n",
    "\n",
    "*Часть 1. Проверка гипотезы в Python и составление аналитической записки*\n",
    "\n",
    "- Загрузить и изучить данные\n",
    "- Проверить гипотезу\n",
    "- Составить аналитическую записку\n",
    "\n",
    "*Часть 2. Анализ результатов A/B-тестирования*\n",
    "\n",
    "- Загрузить данные и оценить их целостность\n",
    "- Оценить корректность проведения A/B-тестирования\n",
    "- Провести оценку результатов A/B-тестирования"
   ]
  },
  {
   "cell_type": "markdown",
   "id": "728986ea",
   "metadata": {
    "id": "728986ea"
   },
   "source": [
    "### Описание данных\n",
    "\n",
    "Файл `/datasets/yandex_knigi_data.csv` содержит данные пользователей из Москвы и Санкт-Петербурга c их активностью (суммой часов чтения и прослушивания):\n",
    "\n",
    "- `Unnamed: 0` - порядковый номер строки;\n",
    "- `city` - город или регион географического положения;\n",
    "- `puid` - идентификатор пользователя;\n",
    "- `hours` - длительность чтения или прослушивания в часах.\n",
    "\n",
    "Файл `/datasets/ab_test_participants.csv` содержит данные об участниках A/B-тестирования:\n",
    "\n",
    "- `user_id` — идентификатор пользователя;\n",
    "- `group` — группа пользователя;\n",
    "- `ab_test` — название теста;\n",
    "- `device` — устройство, с которого происходила регистрация.\n",
    "\n",
    "Архив `/datasets/ab_test_events.zip` содержит один csv-файл с данными о событиях 2020 года:\n",
    "\n",
    "- `user_id` — идентификатор пользователя;\n",
    "- `event_dt` — дата и время события;\n",
    "- `event_name` — тип события;\n",
    "- `details` — дополнительные данные о событии."
   ]
  },
  {
   "cell_type": "markdown",
   "id": "4fecaf95",
   "metadata": {
    "id": "4fecaf95"
   },
   "source": [
    "### Содержимое проекта\n",
    "\n",
    "1. Часть 1. Проверка гипотезы в Python и составление аналитической записки\n",
    "- 1.1. Загрузка данных и знакомство с ними\n",
    "- 1.2. Проверка гипотезы в Python\n",
    "- 1.3. Аналитическая записка\n",
    "2. Часть 2. Анализ результатов A/B-тестирования\n",
    "- 2.1. Описание целей исследования\n",
    "- 2.2. Загрузка данных и оценка их целостности\n",
    "- 2.3. Оценка корректности проведения теста\n",
    "- 2.4. Оценка результатов A/B-тестирования\n",
    "\n",
    "---"
   ]
  },
  {
   "cell_type": "markdown",
   "id": "1e199840",
   "metadata": {},
   "source": [
    "## Часть 1. Проверка гипотезы в Python и составление аналитической записки"
   ]
  },
  {
   "cell_type": "markdown",
   "id": "6f7d21d6",
   "metadata": {
    "id": "6f7d21d6"
   },
   "source": [
    "### 1.1. Загрузка данных и знакомство с ними"
   ]
  },
  {
   "cell_type": "markdown",
   "id": "c9b804ce",
   "metadata": {},
   "source": [
    "Начнём с загрузки библиотеки `pandas` (для работы со структурированными табличными данными), `matplotlib` (для визуализации данных), `numpy` (для работы с массивами и выполнения математических операций), `ttest_ind` (для проведения статистического t-теста с двумя выборками), `mannwhitneyu` (для проведения непараметрического теста с двумя выборками), `proportions_ztest` (для проведения статистического Z-теста пропорций с двумя выборками) и датасета `yandex_knigi_data.csv`. Данные датасета сохраним в переменной `df`"
   ]
  },
  {
   "cell_type": "code",
   "execution_count": 1,
   "id": "a8ac6023",
   "metadata": {},
   "outputs": [],
   "source": [
    "# Импортируем библиотеки\n",
    "\n",
    "import pandas as pd\n",
    "import matplotlib.pyplot as plt\n",
    "import numpy as np\n",
    "from scipy.stats import ttest_ind, mannwhitneyu\n",
    "from statsmodels.stats.proportion import proportions_ztest"
   ]
  },
  {
   "cell_type": "code",
   "execution_count": 2,
   "id": "f2d3dbfd",
   "metadata": {},
   "outputs": [],
   "source": [
    "# Выгружаем данные в переменные\n",
    "try:\n",
    "    df = pd.read_csv('C:/Users/Student/Desktop/yandex_knigi_data.csv')\n",
    "except:\n",
    "    df = pd.read_csv('https://code.s3.yandex.net/datasets/yandex_knigi_data.csv')"
   ]
  },
  {
   "cell_type": "markdown",
   "id": "a9613f98",
   "metadata": {},
   "source": [
    "Познакомимся с данными датасета `yandex_knigi_data.csv` — выведем первые строки методом `head()`, а информацию о датафрейме методом `info()`:"
   ]
  },
  {
   "cell_type": "code",
   "execution_count": 3,
   "id": "df72493d",
   "metadata": {},
   "outputs": [
    {
     "data": {
      "text/html": [
       "<div>\n",
       "<style scoped>\n",
       "    .dataframe tbody tr th:only-of-type {\n",
       "        vertical-align: middle;\n",
       "    }\n",
       "\n",
       "    .dataframe tbody tr th {\n",
       "        vertical-align: top;\n",
       "    }\n",
       "\n",
       "    .dataframe thead th {\n",
       "        text-align: right;\n",
       "    }\n",
       "</style>\n",
       "<table border=\"1\" class=\"dataframe\">\n",
       "  <thead>\n",
       "    <tr style=\"text-align: right;\">\n",
       "      <th></th>\n",
       "      <th>Unnamed: 0</th>\n",
       "      <th>city</th>\n",
       "      <th>puid</th>\n",
       "      <th>hours</th>\n",
       "    </tr>\n",
       "  </thead>\n",
       "  <tbody>\n",
       "    <tr>\n",
       "      <th>0</th>\n",
       "      <td>0</td>\n",
       "      <td>Москва</td>\n",
       "      <td>9668</td>\n",
       "      <td>26.167776</td>\n",
       "    </tr>\n",
       "    <tr>\n",
       "      <th>1</th>\n",
       "      <td>1</td>\n",
       "      <td>Москва</td>\n",
       "      <td>16598</td>\n",
       "      <td>82.111217</td>\n",
       "    </tr>\n",
       "    <tr>\n",
       "      <th>2</th>\n",
       "      <td>2</td>\n",
       "      <td>Москва</td>\n",
       "      <td>80401</td>\n",
       "      <td>4.656906</td>\n",
       "    </tr>\n",
       "    <tr>\n",
       "      <th>3</th>\n",
       "      <td>3</td>\n",
       "      <td>Москва</td>\n",
       "      <td>140205</td>\n",
       "      <td>1.840556</td>\n",
       "    </tr>\n",
       "    <tr>\n",
       "      <th>4</th>\n",
       "      <td>4</td>\n",
       "      <td>Москва</td>\n",
       "      <td>248755</td>\n",
       "      <td>151.326434</td>\n",
       "    </tr>\n",
       "  </tbody>\n",
       "</table>\n",
       "</div>"
      ],
      "text/plain": [
       "   Unnamed: 0    city    puid       hours\n",
       "0           0  Москва    9668   26.167776\n",
       "1           1  Москва   16598   82.111217\n",
       "2           2  Москва   80401    4.656906\n",
       "3           3  Москва  140205    1.840556\n",
       "4           4  Москва  248755  151.326434"
      ]
     },
     "execution_count": 3,
     "metadata": {},
     "output_type": "execute_result"
    }
   ],
   "source": [
    "# Выводим первые строки датафрейма на экран\n",
    "\n",
    "df.head()"
   ]
  },
  {
   "cell_type": "code",
   "execution_count": 4,
   "id": "1d40ec29",
   "metadata": {},
   "outputs": [
    {
     "name": "stdout",
     "output_type": "stream",
     "text": [
      "<class 'pandas.core.frame.DataFrame'>\n",
      "RangeIndex: 8784 entries, 0 to 8783\n",
      "Data columns (total 4 columns):\n",
      " #   Column      Non-Null Count  Dtype  \n",
      "---  ------      --------------  -----  \n",
      " 0   Unnamed: 0  8784 non-null   int64  \n",
      " 1   city        8784 non-null   object \n",
      " 2   puid        8784 non-null   int64  \n",
      " 3   hours       8784 non-null   float64\n",
      "dtypes: float64(1), int64(2), object(1)\n",
      "memory usage: 274.6+ KB\n"
     ]
    }
   ],
   "source": [
    "# Выводим информацию о датафрейме\n",
    "\n",
    "df.info()"
   ]
  },
  {
   "cell_type": "markdown",
   "id": "96b4fe07",
   "metadata": {},
   "source": [
    "Датафрейм `df` содержит 4 столбца и 8783 строки, в котором представлена информация о данных пользователей из Москвы и Санкт-Петербурга c их активностью (суммой часов чтения и прослушивания)\n",
    "\n",
    "После первичного анализа данных можно сделать следующие выводы:\n",
    "\n",
    "- Названия столбцов `city`. `puid`, `hours` приведены к единому виду. Названия столбца `Unnamed: 0` не приведено к единому виду. Исходя из специфики данных, можно сделать вывод о том, что в данном столбце содержится порядковый номер строки. Поэтому определим данный столбец как индекс\n",
    "- Все представленные данные хранятся в типах данных `int64` (целочисленные значения), `object` (строковые данные) или `float64` (числовые значения с плавающей точкой).\n",
    "\n",
    "- **Строковые данные (object).** 1 столбец имеет тип данных `object`:\n",
    "    - `city` - город географического положения (Москва или Санкт-Петербург);\n",
    "    \n",
    "Для данного столбца верно подобран строковый тип данных, поскольку отображается текстовая информация, которая не может быть представлена в числовом формате\n",
    "\n",
    "- **Целочисленные значения (int64).**. 2 столбца имеют тип данных `int64`:\n",
    "    - `Unnamed: 0` - порядковый номер строки;\n",
    "    - `puid` - идентификатор пользователя;\n",
    "    \n",
    "Для данных столбцов верно подобран целочисленный тип данных, поскольку отображается числовая информация о порядковом номере и идентификаторе, которые являются целыми числами (без дробной части)\n",
    "    \n",
    "- **Числовые значения с плавающей точкой (float64).** 1 столбец имеет тип данных `float64`:\n",
    "    - `hours` - длительность чтения или прослушивания в часах.\n",
    "\n",
    "Для данного столбца верно подобран числовой тип данных с плавающей точкой, поскольку длиительность чтения или прослушивания может выражаться не только в формате целого числа, но и дробного, включающего в себя не только часы, но и минуты\n",
    "\n",
    "- Столбцы датафрейма не содержат пропусков\n",
    "- Судя по первому знакомству с данными, значения в столбцах соответствуют своему описанию. Однако стоит проверить наличие дубликатов в идентификаторах пользователей, а также сравнить размеры групп и их статистики."
   ]
  },
  {
   "cell_type": "markdown",
   "id": "1fcae4c1",
   "metadata": {},
   "source": [
    "Исходя из выводов по первичному анализу данных, выполним следующие преобразования:\n",
    "\n",
    "- Определим столбец `Unnamed: 0` как индекс\n",
    "- Проверим наличие дубликатов в идентификаторах пользователей, а также сравнить размеры групп и их статистики."
   ]
  },
  {
   "cell_type": "code",
   "execution_count": 5,
   "id": "62e1df97",
   "metadata": {},
   "outputs": [],
   "source": [
    "# Определяем столбец `Unnamed: 0` как индекс\n",
    "\n",
    "df = df.set_index('Unnamed: 0')"
   ]
  },
  {
   "cell_type": "markdown",
   "id": "90d2fc4a",
   "metadata": {
    "id": "05faf34b"
   },
   "source": [
    "Проверим наличие дубликатов в идентификаторах пользователей"
   ]
  },
  {
   "cell_type": "code",
   "execution_count": 6,
   "id": "b8da6419",
   "metadata": {
    "id": "ce87c1db"
   },
   "outputs": [
    {
     "data": {
      "text/plain": [
       "244"
      ]
     },
     "execution_count": 6,
     "metadata": {},
     "output_type": "execute_result"
    }
   ],
   "source": [
    "# Проверяем наличие дубликатов в идентификаторах пользователей\n",
    "\n",
    "dupl = df['puid'].duplicated().sum()\n",
    "dupl"
   ]
  },
  {
   "cell_type": "markdown",
   "id": "315697ce",
   "metadata": {},
   "source": [
    "Можем заметить, что в столбце `puid` обнаружено 244 дубликата. Для проверки гипотезы необходимо учитывать только уникальных пользователей. Поэтому удалим имеющиеся дубликаты"
   ]
  },
  {
   "cell_type": "code",
   "execution_count": 7,
   "id": "01f8b700",
   "metadata": {},
   "outputs": [],
   "source": [
    "# Удаляем дубликаты в столбце с идентификаторами пользователей\n",
    "\n",
    "df = df.drop_duplicates(subset = 'puid')"
   ]
  },
  {
   "cell_type": "markdown",
   "id": "657cf02d",
   "metadata": {},
   "source": [
    "Проверяем, что в этом столбце дубликатов нет"
   ]
  },
  {
   "cell_type": "code",
   "execution_count": 8,
   "id": "8227c09f",
   "metadata": {},
   "outputs": [
    {
     "data": {
      "text/plain": [
       "0"
      ]
     },
     "execution_count": 8,
     "metadata": {},
     "output_type": "execute_result"
    }
   ],
   "source": [
    "# Проверяет отсутствие дубликатов\n",
    "\n",
    "dupl1 = df['puid'].duplicated().sum()\n",
    "dupl1"
   ]
  },
  {
   "cell_type": "markdown",
   "id": "a59b875d",
   "metadata": {},
   "source": [
    "Затем сравниваем размеры групп в абсолютном и процентном соотношении"
   ]
  },
  {
   "cell_type": "code",
   "execution_count": 9,
   "id": "a95d8fc7",
   "metadata": {},
   "outputs": [
    {
     "data": {
      "text/plain": [
       "Москва             6234\n",
       "Санкт-Петербург    2306\n",
       "Name: city, dtype: int64"
      ]
     },
     "metadata": {},
     "output_type": "display_data"
    },
    {
     "data": {
      "text/plain": [
       "Москва             0.729977\n",
       "Санкт-Петербург    0.270023\n",
       "Name: city, dtype: float64"
      ]
     },
     "metadata": {},
     "output_type": "display_data"
    }
   ],
   "source": [
    "count_city = df['city'].value_counts()\n",
    "display(count_city)\n",
    "prop_count_city = df['city'].value_counts()/df['city'].count()\n",
    "display(prop_count_city)"
   ]
  },
  {
   "cell_type": "markdown",
   "id": "5030b3f6",
   "metadata": {},
   "source": [
    "Мы можем увидеть, что выборка пользователей из Москвы включает в себя 6234 пользователя, а из Санкт-Петербурга - 2306 пользователей. Размер выборок отличается более чем на 40%, однако это не мешает проверить гипотезу, поскольку при достаточно большом количестве наблюдений (обычно более 30) центральная предельная теорема (ЦПТ) гарантирует, что у выборочного среднего будет нормальное распределение. Количество наблюдений в наших выборках сильно превышает значение 30"
   ]
  },
  {
   "cell_type": "markdown",
   "id": "b3ec5043",
   "metadata": {},
   "source": [
    "Ознакомимся с обновлёнными данными датасета `yandex_knigi_data.csv` — выведем первые строки методом `head()`, а информацию о датафрейме методом `info()`:"
   ]
  },
  {
   "cell_type": "code",
   "execution_count": 10,
   "id": "85e82783",
   "metadata": {},
   "outputs": [
    {
     "data": {
      "text/html": [
       "<div>\n",
       "<style scoped>\n",
       "    .dataframe tbody tr th:only-of-type {\n",
       "        vertical-align: middle;\n",
       "    }\n",
       "\n",
       "    .dataframe tbody tr th {\n",
       "        vertical-align: top;\n",
       "    }\n",
       "\n",
       "    .dataframe thead th {\n",
       "        text-align: right;\n",
       "    }\n",
       "</style>\n",
       "<table border=\"1\" class=\"dataframe\">\n",
       "  <thead>\n",
       "    <tr style=\"text-align: right;\">\n",
       "      <th></th>\n",
       "      <th>city</th>\n",
       "      <th>puid</th>\n",
       "      <th>hours</th>\n",
       "    </tr>\n",
       "    <tr>\n",
       "      <th>Unnamed: 0</th>\n",
       "      <th></th>\n",
       "      <th></th>\n",
       "      <th></th>\n",
       "    </tr>\n",
       "  </thead>\n",
       "  <tbody>\n",
       "    <tr>\n",
       "      <th>0</th>\n",
       "      <td>Москва</td>\n",
       "      <td>9668</td>\n",
       "      <td>26.167776</td>\n",
       "    </tr>\n",
       "    <tr>\n",
       "      <th>1</th>\n",
       "      <td>Москва</td>\n",
       "      <td>16598</td>\n",
       "      <td>82.111217</td>\n",
       "    </tr>\n",
       "    <tr>\n",
       "      <th>2</th>\n",
       "      <td>Москва</td>\n",
       "      <td>80401</td>\n",
       "      <td>4.656906</td>\n",
       "    </tr>\n",
       "    <tr>\n",
       "      <th>3</th>\n",
       "      <td>Москва</td>\n",
       "      <td>140205</td>\n",
       "      <td>1.840556</td>\n",
       "    </tr>\n",
       "    <tr>\n",
       "      <th>4</th>\n",
       "      <td>Москва</td>\n",
       "      <td>248755</td>\n",
       "      <td>151.326434</td>\n",
       "    </tr>\n",
       "  </tbody>\n",
       "</table>\n",
       "</div>"
      ],
      "text/plain": [
       "              city    puid       hours\n",
       "Unnamed: 0                            \n",
       "0           Москва    9668   26.167776\n",
       "1           Москва   16598   82.111217\n",
       "2           Москва   80401    4.656906\n",
       "3           Москва  140205    1.840556\n",
       "4           Москва  248755  151.326434"
      ]
     },
     "execution_count": 10,
     "metadata": {},
     "output_type": "execute_result"
    }
   ],
   "source": [
    "# Выводим первые строки датафрейма на экран\n",
    "\n",
    "df.head()"
   ]
  },
  {
   "cell_type": "code",
   "execution_count": 11,
   "id": "b0a80139",
   "metadata": {},
   "outputs": [
    {
     "name": "stdout",
     "output_type": "stream",
     "text": [
      "<class 'pandas.core.frame.DataFrame'>\n",
      "Int64Index: 8540 entries, 0 to 8783\n",
      "Data columns (total 3 columns):\n",
      " #   Column  Non-Null Count  Dtype  \n",
      "---  ------  --------------  -----  \n",
      " 0   city    8540 non-null   object \n",
      " 1   puid    8540 non-null   int64  \n",
      " 2   hours   8540 non-null   float64\n",
      "dtypes: float64(1), int64(1), object(1)\n",
      "memory usage: 266.9+ KB\n"
     ]
    }
   ],
   "source": [
    "# Выводим информацию о датафрейме\n",
    "\n",
    "df.info()"
   ]
  },
  {
   "cell_type": "markdown",
   "id": "1f1994f7",
   "metadata": {},
   "source": [
    "Таким образом, мы получаем обновлённый датафрейм, который содержит в себе 3 столбца (столбец 'Unnamed: 0' определили как индекс) и 8540 строк (из-за удаления дубликатов). Названия столбцов приведены к единому виду, пропуски в столбцах - отсутствуют, все столбцы имеют корректный тип данных"
   ]
  },
  {
   "cell_type": "markdown",
   "id": "956e82e2",
   "metadata": {
    "id": "956e82e2"
   },
   "source": [
    "### 1.2. Проверка гипотезы в Python\n",
    "\n",
    "Гипотеза звучит так: пользователи из Санкт-Петербурга проводят в среднем больше времени за чтением и прослушиванием книг в приложении, чем пользователи из Москвы. Докажем это статистически, используя одностороннюю проверку гипотезы с двумя выборками"
   ]
  },
  {
   "cell_type": "markdown",
   "id": "c8ce1cbc",
   "metadata": {},
   "source": [
    "Cоздадим два среза данных: пользователи, которые входят в группу A (Санкт-Петербург), пользователи, которые входят в группу B (Москва)"
   ]
  },
  {
   "cell_type": "code",
   "execution_count": 12,
   "id": "eafb072b",
   "metadata": {},
   "outputs": [],
   "source": [
    "# Создаём срезы данных\n",
    "\n",
    "group_a = df[df['city'] == 'Санкт-Петербург']\n",
    "group_b = df[df['city'] == 'Москва']"
   ]
  },
  {
   "cell_type": "markdown",
   "id": "e01d4184",
   "metadata": {},
   "source": [
    "Теперь проверим, что пользователи из Санкт-Петербурга проводят в среднем больше времени за чтением и прослушиванием книг в приложении, чем пользователи из Москвы. Для этого сформулируем нулевую и альтернативную гипотезу:\n",
    "\n",
    "- Нулевая гипотеза H₀: Средняя активность пользователей в Санкт-Петербурге не больше, чем в Москве\n",
    "\n",
    "- Альтернативная гипотеза H₁: Средняя активность пользователей в Санкт-Петербурге больше, и это различие статистически значимо."
   ]
  },
  {
   "cell_type": "markdown",
   "id": "80794c90",
   "metadata": {},
   "source": [
    "Для выбора подходящего статистического теста изучим выбросы в двух выборках. Начнём с группы A"
   ]
  },
  {
   "cell_type": "code",
   "execution_count": 13,
   "id": "7c6726e1",
   "metadata": {},
   "outputs": [
    {
     "data": {
      "image/png": "[encoded data removed]",
      "text/plain": [
       "<Figure size 504x216 with 1 Axes>"
      ]
     },
     "metadata": {
      "needs_background": "light"
     },
     "output_type": "display_data"
    },
    {
     "data": {
      "text/plain": [
       "count    2306.000000\n",
       "mean       11.264433\n",
       "std        39.831755\n",
       "min         0.000025\n",
       "25%         0.060173\n",
       "50%         0.875355\n",
       "75%         6.138424\n",
       "80%         9.102964\n",
       "85%        15.218584\n",
       "90%        28.070483\n",
       "95%        56.545642\n",
       "96%        62.213175\n",
       "97%        81.399764\n",
       "98%       102.444175\n",
       "99%       146.847159\n",
       "max       978.764775\n",
       "Name: hours, dtype: float64"
      ]
     },
     "execution_count": 13,
     "metadata": {},
     "output_type": "execute_result"
    }
   ],
   "source": [
    "# Изучаем выбросы в группе A\n",
    "\n",
    "plt.figure(figsize=(7, 3))\n",
    "\n",
    "# Строим гистограмму с помощью pandas через plot(kind='hist')\n",
    "group_a['hours'].plot(\n",
    "                kind='hist', # Тип графика — гистограмма\n",
    "                bins=30, # Устанавливаем количество корзин\n",
    "                alpha=0.75,\n",
    "                edgecolor='black',\n",
    ")\n",
    "\n",
    "# Настраиваем оформление графика\n",
    "plt.title('Распределение количества время прослушивания в группе A')\n",
    "plt.xlabel('Количество часов')\n",
    "plt.ylabel('Частота')\n",
    "\n",
    "# Добавляем сетку графика\n",
    "plt.grid()\n",
    "\n",
    "# Выводим график\n",
    "plt.show()\n",
    "\n",
    "group_a['hours'].describe(percentiles=[0.25, 0.5, 0.75, 0.8, 0.85, 0.9, 0.95, 0.96, 0.97, 0.98, 0.99])"
   ]
  },
  {
   "cell_type": "markdown",
   "id": "2f634494",
   "metadata": {},
   "source": [
    "Мы можем заметить, что у 99% пользователей количество часов прослушиваний не превышает 146 часов. Однако максимальное значение равно 978 часам. Вероятно, что данное значение является выбросом, который не нужно учитывать при проверки гипотезы. Исходя из этого, мы можем сделать вывод о том, что для проверки гипотезы наиболее подходящим тестом будет являться устойчивый к выбросам (нечувствительный к выбросам) тест Манна-Уитни, который можно применять к любым числовым данным, поскольку он не требует нормальности выборочных средних. Перед этим изучим выбросы в группе B"
   ]
  },
  {
   "cell_type": "code",
   "execution_count": 14,
   "id": "f9486a63",
   "metadata": {},
   "outputs": [
    {
     "data": {
      "image/png": "[encoded data removed]",
      "text/plain": [
       "<Figure size 504x216 with 1 Axes>"
      ]
     },
     "metadata": {
      "needs_background": "light"
     },
     "output_type": "display_data"
    },
    {
     "data": {
      "text/plain": [
       "count    6234.000000\n",
       "mean       10.881092\n",
       "std        36.851683\n",
       "min         0.000018\n",
       "25%         0.059903\n",
       "50%         0.924498\n",
       "75%         5.939972\n",
       "80%         8.772156\n",
       "85%        13.787899\n",
       "90%        24.337397\n",
       "95%        54.871469\n",
       "96%        67.189784\n",
       "97%        83.293019\n",
       "98%       112.667548\n",
       "99%       158.361304\n",
       "max       857.209373\n",
       "Name: hours, dtype: float64"
      ]
     },
     "execution_count": 14,
     "metadata": {},
     "output_type": "execute_result"
    }
   ],
   "source": [
    "# Изучаем выбросы в группе B\n",
    "\n",
    "plt.figure(figsize=(7, 3))\n",
    "\n",
    "# Строим гистограмму с помощью pandas через plot(kind='hist')\n",
    "group_b['hours'].plot(\n",
    "                kind='hist', # Тип графика — гистограмма\n",
    "                bins=30, # Устанавливаем количество корзин\n",
    "                alpha=0.75,\n",
    "                edgecolor='black',\n",
    ")\n",
    "\n",
    "# Настраиваем оформление графика\n",
    "plt.title('Распределение количества время прослушивания в группе B')\n",
    "plt.xlabel('Количество часов')\n",
    "plt.ylabel('Частота')\n",
    "\n",
    "# Добавляем сетку графика\n",
    "plt.grid()\n",
    "\n",
    "# Выводим график\n",
    "plt.show()\n",
    "\n",
    "group_b['hours'].describe(percentiles=[0.25, 0.5, 0.75, 0.8, 0.85, 0.9, 0.95, 0.96, 0.97, 0.98, 0.99])"
   ]
  },
  {
   "cell_type": "markdown",
   "id": "56ce722b",
   "metadata": {},
   "source": [
    "Мы можем заметить, что у 99% пользователей количество часов прослушиваний не превышает 158 часов. Однако максимальное значение равно 857 часам. Вероятно, что данное значение является выбросом, который (также как и в случае с группой A) не нужно учитывать при проверки гипотезы. Теперь мы убедились, что тест Манна-Уитни подойдёт для проверки гипотезы"
   ]
  },
  {
   "cell_type": "markdown",
   "id": "6a7a11f0",
   "metadata": {},
   "source": [
    "Далее сравним дисперсии двух выборок"
   ]
  },
  {
   "cell_type": "code",
   "execution_count": 15,
   "id": "4092f908",
   "metadata": {},
   "outputs": [
    {
     "name": "stdout",
     "output_type": "stream",
     "text": [
      "Дисперсия выборки: puid     6.064588e+27\n",
      "hours    1.586569e+03\n",
      "dtype: float64\n",
      "Дисперсия выборки: puid     1.257506e+28\n",
      "hours    1.358047e+03\n",
      "dtype: float64\n"
     ]
    }
   ],
   "source": [
    "# Вычислим дисперсии выборок\n",
    "\n",
    "sample_variance_a = group_a.var(ddof = 1)\n",
    "print('Дисперсия выборки:', sample_variance_a)\n",
    "\n",
    "sample_variance_b = group_b.var(ddof = 1)\n",
    "print('Дисперсия выборки:', sample_variance_b)"
   ]
  },
  {
   "cell_type": "markdown",
   "id": "e13eef1e",
   "metadata": {},
   "source": [
    "Так как выборки A и B отличаются по размеру, содержат в себе выбросы, а дисперсии этих двух выборок - различаются, мы можем использовать тест Манна-Уитни, который позволит сделать вывод о распределении метрики"
   ]
  },
  {
   "cell_type": "code",
   "execution_count": 16,
   "id": "34593eb2",
   "metadata": {},
   "outputs": [
    {
     "name": "stdout",
     "output_type": "stream",
     "text": [
      "pvalue = 0.6189600878052618 > 0.05\n",
      "Не получилось отвергнуть нулевую гипотезу\n"
     ]
    }
   ],
   "source": [
    "# Выборка столбца hours для группы А\n",
    "sample_a = group_a['hours']\n",
    "# Выборка столбца hours для группы B\n",
    "sample_b = group_b['hours']\n",
    "\n",
    "# Применяем тест Манна — Уитни\n",
    "\n",
    "test_result = mannwhitneyu(\n",
    "    sample_a,\n",
    "    sample_b,\n",
    "    alternative='greater', # HO: mu_a <= mu_b, H1: mu_a > mu_b    \n",
    ")\n",
    "\n",
    "# Фиксируем уровень значимости\n",
    "alpha = 0.05\n",
    "\n",
    "if test_result.pvalue > alpha:\n",
    "    print(f'pvalue = {test_result.pvalue} > {alpha}')\n",
    "    print('Не получилось отвергнуть нулевую гипотезу')\n",
    "else:\n",
    "    print(f'pvalue = {test_result.pvalue} < {alpha}')\n",
    "    print('Отвергаем нулевую гипотезу')"
   ]
  },
  {
   "cell_type": "markdown",
   "id": "4f805dcd",
   "metadata": {},
   "source": [
    "Так как pvalue = 0.6189600878052618 > 0.05, мы можем сделать вывод о том, что нулевую гипотезу отвергнуть не получилось. Это значит, что средняя активность пользователей в Санкт-Петербурге не больше, чем в Москве при заданном уровне значимости alpha = 0.05"
   ]
  },
  {
   "cell_type": "markdown",
   "id": "6953e84c",
   "metadata": {
    "id": "6953e84c"
   },
   "source": [
    "### 1.3. Аналитическая записка\n",
    "\n",
    "По результатам анализа данных составлена аналитическая записка, включающая в себя следующую информацию:\n",
    "\n",
    "- Выбранный тип теста - непараметрический тест Манна-Уитни для проверки гипотез с двумя выборками (устойчив к выбросам). Уровень статистической значимости - 5%\n",
    "- Результат теста - не получилось отвергнуть нулевую гипотезу, так как pvalue = 0.6189600878052618 > 0.05, то есть, выше заданного уровня значимости\n",
    "- Cредняя активность пользователей в Санкт-Петербурге не больше, чем в Москве\n",
    "- Причины, объясняющие полученные результаты:\n",
    "    - Различия в объёмах выборок: размер выборки, состоящей из пользователей Санкт-Петербурга, более чем на 40% меньше, чем размер выборки, состоящей из пользователей Москвы. Возможно, при увеличении количества наблюдений активности пользователей Санкт-Петербурга непараметрический тест Манна-Уитни подтвердил бы то, что средняя активность пользователей в Санкт-Петербурге - больше, и это различие статистически значимо\n",
    "    - Различия в выборочных дисперсиях: больший разброс значений среди наблюдений активности пользователей из Санкт-Петербурга повлиял на среднее данной выборки, из-за чего непараметрический тест Манна-Уитни не подтвердил, что средняя активность пользователей в Санкт-Петербурге - больше, и это различие статистически значимо\n",
    "    - Различия в датах активности: датафрейм, на основе которого была проведена проверка гипотезы, не включал в себя информацию о дате события. Сезонные или временные факторы могли повлиять на изменение длительности чтения или прослушивания в часах только в одной из двух выборок"
   ]
  },
  {
   "cell_type": "markdown",
   "id": "hc1d6jVISegz",
   "metadata": {
    "id": "hc1d6jVISegz"
   },
   "source": [
    "----"
   ]
  },
  {
   "cell_type": "markdown",
   "id": "NqOUIYhbrIfC",
   "metadata": {
    "id": "NqOUIYhbrIfC"
   },
   "source": [
    "## Часть 2. Анализ результатов A/B-тестирования"
   ]
  },
  {
   "cell_type": "markdown",
   "id": "UNXAAyF5r9Rk",
   "metadata": {
    "id": "UNXAAyF5r9Rk"
   },
   "source": [
    "### 2.1. Цели исследования"
   ]
  },
  {
   "cell_type": "markdown",
   "id": "3def67a0",
   "metadata": {
    "id": "kHx-51yES8bd"
   },
   "source": [
    "**Цель исследования**: изучение результатов A/B-тестирования интернет-магазина BitMotion Kit для оценки:\n",
    "- изменения пользовательской активности в тестовой группе по сравнению с контрольной \n",
    "- достижения ожидаемого эффекта в изменении конверсии"
   ]
  },
  {
   "cell_type": "markdown",
   "id": "_CZryx2OsH-s",
   "metadata": {
    "id": "_CZryx2OsH-s"
   },
   "source": [
    "### 2.2. Загрузка данных и оценка их целостности"
   ]
  },
  {
   "cell_type": "markdown",
   "id": "bd2953c1",
   "metadata": {},
   "source": [
    "Начнём с загрузки датасетов `/datasets/ab_test_participants.csv` и `/datasets/ab_test_events.zip`. Данные датасетов сохраним в два датафрейма - `participants` и `events` соответственно"
   ]
  },
  {
   "cell_type": "code",
   "execution_count": 17,
   "id": "DjFcJbeGsTIg",
   "metadata": {
    "id": "DjFcJbeGsTIg"
   },
   "outputs": [],
   "source": [
    "# Выгружаем данные в переменные\n",
    "\n",
    "participants = pd.read_csv('https://code.s3.yandex.net/datasets/ab_test_participants.csv')\n",
    "events = pd.read_csv('https://code.s3.yandex.net/datasets/ab_test_events.zip',\n",
    "                     parse_dates=['event_dt'], low_memory=False)"
   ]
  },
  {
   "cell_type": "markdown",
   "id": "cc70f635",
   "metadata": {},
   "source": [
    "Оценим целостность датасета `ab_test_participants.csv` — выведем первые строки методом `head()`, а информацию о датафрейме методом `info()`:"
   ]
  },
  {
   "cell_type": "code",
   "execution_count": 18,
   "id": "9d0e32e3",
   "metadata": {},
   "outputs": [
    {
     "data": {
      "text/html": [
       "<div>\n",
       "<style scoped>\n",
       "    .dataframe tbody tr th:only-of-type {\n",
       "        vertical-align: middle;\n",
       "    }\n",
       "\n",
       "    .dataframe tbody tr th {\n",
       "        vertical-align: top;\n",
       "    }\n",
       "\n",
       "    .dataframe thead th {\n",
       "        text-align: right;\n",
       "    }\n",
       "</style>\n",
       "<table border=\"1\" class=\"dataframe\">\n",
       "  <thead>\n",
       "    <tr style=\"text-align: right;\">\n",
       "      <th></th>\n",
       "      <th>user_id</th>\n",
       "      <th>group</th>\n",
       "      <th>ab_test</th>\n",
       "      <th>device</th>\n",
       "    </tr>\n",
       "  </thead>\n",
       "  <tbody>\n",
       "    <tr>\n",
       "      <th>0</th>\n",
       "      <td>0002CE61FF2C4011</td>\n",
       "      <td>B</td>\n",
       "      <td>interface_eu_test</td>\n",
       "      <td>Mac</td>\n",
       "    </tr>\n",
       "    <tr>\n",
       "      <th>1</th>\n",
       "      <td>001064FEAAB631A1</td>\n",
       "      <td>B</td>\n",
       "      <td>recommender_system_test</td>\n",
       "      <td>Android</td>\n",
       "    </tr>\n",
       "    <tr>\n",
       "      <th>2</th>\n",
       "      <td>001064FEAAB631A1</td>\n",
       "      <td>A</td>\n",
       "      <td>interface_eu_test</td>\n",
       "      <td>Android</td>\n",
       "    </tr>\n",
       "    <tr>\n",
       "      <th>3</th>\n",
       "      <td>0010A1C096941592</td>\n",
       "      <td>A</td>\n",
       "      <td>recommender_system_test</td>\n",
       "      <td>Android</td>\n",
       "    </tr>\n",
       "    <tr>\n",
       "      <th>4</th>\n",
       "      <td>001E72F50D1C48FA</td>\n",
       "      <td>A</td>\n",
       "      <td>interface_eu_test</td>\n",
       "      <td>Mac</td>\n",
       "    </tr>\n",
       "  </tbody>\n",
       "</table>\n",
       "</div>"
      ],
      "text/plain": [
       "            user_id group                  ab_test   device\n",
       "0  0002CE61FF2C4011     B        interface_eu_test      Mac\n",
       "1  001064FEAAB631A1     B  recommender_system_test  Android\n",
       "2  001064FEAAB631A1     A        interface_eu_test  Android\n",
       "3  0010A1C096941592     A  recommender_system_test  Android\n",
       "4  001E72F50D1C48FA     A        interface_eu_test      Mac"
      ]
     },
     "execution_count": 18,
     "metadata": {},
     "output_type": "execute_result"
    }
   ],
   "source": [
    "# Выводим первые строки датафрейма на экран\n",
    "\n",
    "participants.head()"
   ]
  },
  {
   "cell_type": "code",
   "execution_count": 19,
   "id": "f5a9a3f7",
   "metadata": {},
   "outputs": [
    {
     "name": "stdout",
     "output_type": "stream",
     "text": [
      "<class 'pandas.core.frame.DataFrame'>\n",
      "RangeIndex: 14525 entries, 0 to 14524\n",
      "Data columns (total 4 columns):\n",
      " #   Column   Non-Null Count  Dtype \n",
      "---  ------   --------------  ----- \n",
      " 0   user_id  14525 non-null  object\n",
      " 1   group    14525 non-null  object\n",
      " 2   ab_test  14525 non-null  object\n",
      " 3   device   14525 non-null  object\n",
      "dtypes: object(4)\n",
      "memory usage: 454.0+ KB\n"
     ]
    }
   ],
   "source": [
    "# Выводим информацию о датафрейме\n",
    "\n",
    "participants.info()"
   ]
  },
  {
   "cell_type": "markdown",
   "id": "8b2b80fa",
   "metadata": {},
   "source": [
    "Датасет `ab_test_participants.csv` не содержит пропусков. Однако по первый строкам мы видим, что в таблице находятся результаты не только одного теста. Изучим этот столбец на уникальные значения"
   ]
  },
  {
   "cell_type": "code",
   "execution_count": 20,
   "id": "163bbbfe",
   "metadata": {},
   "outputs": [
    {
     "data": {
      "text/plain": [
       "array(['interface_eu_test', 'recommender_system_test'], dtype=object)"
      ]
     },
     "execution_count": 20,
     "metadata": {},
     "output_type": "execute_result"
    }
   ],
   "source": [
    "participants_ab_test_unique = participants['ab_test'].unique()\n",
    "participants_ab_test_unique"
   ]
  },
  {
   "cell_type": "markdown",
   "id": "fb92b679",
   "metadata": {},
   "source": [
    "Так как в данных представлены результаты двух тестов, следует убедиться, что нет пользователей, попавших в оба теста сразу. В частности, нас интересует, есть ли пользователи, попавшие в группу В в двух тестах сразу. Если такие пользователи будут, по ним мы не сможем оценить эффект от нововведения, так как не сможем понять, под воздействием какого нововведения было совершено целевое событие - от изменений в нашем тесте или в конкурирующем. Таких пользователей лучше всего удалить для корректной оценки метрик нашего теста. Для этого разделим датасет `ab_test_participants.csv` на два датафрейма - участники тестовой группы B, которые участвуют в тесте `interface_eu_test` и участники тестовой группы B, которые участвуют в тесте `recommender_system_test` и посмотрим на пересечения участников в этих группах"
   ]
  },
  {
   "cell_type": "code",
   "execution_count": 21,
   "id": "b06f602f",
   "metadata": {},
   "outputs": [
    {
     "name": "stdout",
     "output_type": "stream",
     "text": [
      "['C74B6E95352ADE79', '4122B8F30EB2271C', 'FE8F9858BBE502D9', '13FBEB715F4AAE10', '9F0571C70D4BD33B', '72742C5F312A1FEC', '24FB1A84E1C30291', '902F92052587344F', '1AD9F88DA92AC4E5', 'EE9E527A761299B2', '1D831F7D0F539AFA', 'F71DD44DAB783CEB', '8FC9D1BB3017BE66', 'C7750723906C925A', 'E0272BC86CC88DC7', '3B3F68DC5779E517', '63F5FC15B31DB5A6', '3DEA2F9B3EDA8B91', '38189578561F38CB', '0C2E77C6A381704A', 'BA98FD8F84C838C7', 'BE0FDC8CC0D5455D', 'EE25BC8FA059151D', 'ABB61823786179CC', '4CF756542084F860', 'A8C25A605F613665', '53732758D90FB1E4', 'DD4352CDCF8C3D57', 'E1EA339E17C0D568', '430C998549E88DAE', 'BA9906DF9975512E', 'A35BD08F60AC00B8', '14AEC962812EB706', '565EF59DDD36B95B', '4FE90CB247C78EC5', 'C1E43A9B1D675927', 'E391353FC3A4056D', 'EF449601C94D2496', '23E633E92EDCD195', 'EAFB9027A27D510C', '502902B3C32C72FF', '0A0141A363E2E051', '115ABCFDBDDB5950', 'BBE0583F0240AABB', '94464DF2E5398E26', 'C89E24F4C723CEF4', 'FC2DA0D7EF375B27', '886E52074D084B18', '59D9BD2A3172D3F4', '894A2506B3A50D03', '65A30CEC01FAB999', '5B1F39B5D751B669', 'D9BAC4C97F9C107F', '30DEB75B33B92DC8', '8FF91E21E27A330D', 'AEB9B39AE54D3598', '6A581C74EF4D5F44', 'CF03E97B314C5632', '3A6D88AB973BD99D', 'A6E6ECF8E4924633', 'FFF28D02B1EACBE1', '649CE5D5A38BFA8B', '75013CAAF42E90A9', '4B34A5BD1D1AEF0D', 'C04E36E535A6F740', '5207E56E697027E9', '8C69C35FB5E142F8', 'CBDE46A45FD5E6A4', '70CE04E185154AD7', 'E68002AA33773AD5', '8FFA1D6F89AAEA40', 'C33D8C1C81C7AA23', 'FEA0C585A53E7027', 'BEF16764A13AEC34', 'E3780F6861A69868', 'B582D211C1BE1FFD', '23F551153080EBAB', '993BDE69A0DE0391', 'F8564F547AFFC0B9', '6610064A4B2303D1', '067D05BD30F04F2E', '95401934D6D6D4FC', '98D45D3A9D7E3911', 'C0924D3FF1BEAA05', 'E7CC63BF20618321', 'BF1EB8E6FA3F19B8', 'DD9FB2652AE4ACBA', 'EA8341F38EFFE04C', 'C4F3A9D7BB596E6E', '13AA9B89A2885F8E', 'A3D5BA3E276CD84C', 'CA6F4DAED160E5B1', '84AAB026310D49C4', 'D1DFCE26FF3C713F', 'F1B93BAE75EE0FB2', '3FAA6AD64C3B47E8', '6B72CFAE1935C789', '1E7B931452B2F965', '928364C4C9F13FA8', 'AE49EDDFB9DABE03', '82F72EC6CDC1BA8F', '573EF5CB449265BE', 'D40A89E14F1C10BD', '0FBF679EA1340786', '13AE4DFAC67ACEB3', '47ADBF580CF107E1', '1B52830A832D33F5', '2D6A6472D7F46812', '9918D1C354A1383A', '7D8970118A695D48', 'B3059CB4FD2DE0FA', '739656E0D7B50B30', '3F52D53AB33C9FD6', '6786C23A54D59DD4', '88FB1EDF3E249223', 'E32D4C0315D6BFBE']\n"
     ]
    }
   ],
   "source": [
    "# Проверяем пересечения между двумя группами\n",
    "\n",
    "group_interface_eu_test = participants[(participants['group'] == 'B')&(participants['ab_test'] == 'interface_eu_test')]['user_id']\n",
    "group_recommender_system_test = participants[(participants['group'] == 'B')&(participants['ab_test'] == 'recommender_system_test')]['user_id']\n",
    "\n",
    "intersection = list(set(group_interface_eu_test) & set(group_recommender_system_test))\n",
    "print(intersection)"
   ]
  },
  {
   "cell_type": "markdown",
   "id": "b7f4805a",
   "metadata": {},
   "source": [
    "Мы видим, что есть пользователи, попавшие в оба теста сразу. Для корректной оценки метрик нашего теста удалим этих пользователей из обеих групп"
   ]
  },
  {
   "cell_type": "code",
   "execution_count": 22,
   "id": "9f2db28a",
   "metadata": {},
   "outputs": [],
   "source": [
    "# Удаляем пересечения\n",
    "\n",
    "participants = participants[~participants['user_id'].isin(intersection)] "
   ]
  },
  {
   "cell_type": "markdown",
   "id": "e4cdccb7",
   "metadata": {},
   "source": [
    "Убедимся, что пересечений больше нет"
   ]
  },
  {
   "cell_type": "code",
   "execution_count": 23,
   "id": "e7384a19",
   "metadata": {},
   "outputs": [
    {
     "name": "stdout",
     "output_type": "stream",
     "text": [
      "[]\n"
     ]
    }
   ],
   "source": [
    "# Проверяем пересечения между двумя группами\n",
    "\n",
    "group_interface_eu_test = participants[(participants['group'] == 'B')&(participants['ab_test'] == 'interface_eu_test')]['user_id']\n",
    "group_recommender_system_test = participants[(participants['group'] == 'B')&(participants['ab_test'] == 'recommender_system_test')]['user_id']\n",
    "\n",
    "intersection = list(set(group_interface_eu_test) & set(group_recommender_system_test))\n",
    "print(intersection)"
   ]
  },
  {
   "cell_type": "markdown",
   "id": "3f75ed3e",
   "metadata": {},
   "source": [
    "Пересечений пользователей, попавших в оба теста сразу из группы B - нет"
   ]
  },
  {
   "cell_type": "markdown",
   "id": "b42ee020",
   "metadata": {},
   "source": [
    "Далее оценим целостность датасета `ab_test_events.zip.csv` — выведем первые строки методом `head()`, а информацию о датафрейме методом `info()`:"
   ]
  },
  {
   "cell_type": "code",
   "execution_count": 24,
   "id": "e6460a22",
   "metadata": {},
   "outputs": [
    {
     "data": {
      "text/html": [
       "<div>\n",
       "<style scoped>\n",
       "    .dataframe tbody tr th:only-of-type {\n",
       "        vertical-align: middle;\n",
       "    }\n",
       "\n",
       "    .dataframe tbody tr th {\n",
       "        vertical-align: top;\n",
       "    }\n",
       "\n",
       "    .dataframe thead th {\n",
       "        text-align: right;\n",
       "    }\n",
       "</style>\n",
       "<table border=\"1\" class=\"dataframe\">\n",
       "  <thead>\n",
       "    <tr style=\"text-align: right;\">\n",
       "      <th></th>\n",
       "      <th>user_id</th>\n",
       "      <th>event_dt</th>\n",
       "      <th>event_name</th>\n",
       "      <th>details</th>\n",
       "    </tr>\n",
       "  </thead>\n",
       "  <tbody>\n",
       "    <tr>\n",
       "      <th>0</th>\n",
       "      <td>GLOBAL</td>\n",
       "      <td>2020-12-01 00:00:00</td>\n",
       "      <td>End of Black Friday Ads Campaign</td>\n",
       "      <td>ZONE_CODE15</td>\n",
       "    </tr>\n",
       "    <tr>\n",
       "      <th>1</th>\n",
       "      <td>CCBE9E7E99F94A08</td>\n",
       "      <td>2020-12-01 00:00:11</td>\n",
       "      <td>registration</td>\n",
       "      <td>0.0</td>\n",
       "    </tr>\n",
       "    <tr>\n",
       "      <th>2</th>\n",
       "      <td>GLOBAL</td>\n",
       "      <td>2020-12-01 00:00:25</td>\n",
       "      <td>product_page</td>\n",
       "      <td>NaN</td>\n",
       "    </tr>\n",
       "    <tr>\n",
       "      <th>3</th>\n",
       "      <td>CCBE9E7E99F94A08</td>\n",
       "      <td>2020-12-01 00:00:33</td>\n",
       "      <td>login</td>\n",
       "      <td>NaN</td>\n",
       "    </tr>\n",
       "    <tr>\n",
       "      <th>4</th>\n",
       "      <td>CCBE9E7E99F94A08</td>\n",
       "      <td>2020-12-01 00:00:52</td>\n",
       "      <td>product_page</td>\n",
       "      <td>NaN</td>\n",
       "    </tr>\n",
       "  </tbody>\n",
       "</table>\n",
       "</div>"
      ],
      "text/plain": [
       "            user_id            event_dt                        event_name  \\\n",
       "0            GLOBAL 2020-12-01 00:00:00  End of Black Friday Ads Campaign   \n",
       "1  CCBE9E7E99F94A08 2020-12-01 00:00:11                      registration   \n",
       "2            GLOBAL 2020-12-01 00:00:25                      product_page   \n",
       "3  CCBE9E7E99F94A08 2020-12-01 00:00:33                             login   \n",
       "4  CCBE9E7E99F94A08 2020-12-01 00:00:52                      product_page   \n",
       "\n",
       "       details  \n",
       "0  ZONE_CODE15  \n",
       "1          0.0  \n",
       "2          NaN  \n",
       "3          NaN  \n",
       "4          NaN  "
      ]
     },
     "execution_count": 24,
     "metadata": {},
     "output_type": "execute_result"
    }
   ],
   "source": [
    "# Выводим первые строки датафрейма на экран\n",
    "\n",
    "events.head()"
   ]
  },
  {
   "cell_type": "code",
   "execution_count": 25,
   "id": "7718c058",
   "metadata": {},
   "outputs": [
    {
     "name": "stdout",
     "output_type": "stream",
     "text": [
      "<class 'pandas.core.frame.DataFrame'>\n",
      "RangeIndex: 787286 entries, 0 to 787285\n",
      "Data columns (total 4 columns):\n",
      " #   Column      Non-Null Count   Dtype         \n",
      "---  ------      --------------   -----         \n",
      " 0   user_id     787286 non-null  object        \n",
      " 1   event_dt    787286 non-null  datetime64[ns]\n",
      " 2   event_name  787286 non-null  object        \n",
      " 3   details     249022 non-null  object        \n",
      "dtypes: datetime64[ns](1), object(3)\n",
      "memory usage: 24.0+ MB\n"
     ]
    }
   ],
   "source": [
    "# Выводим информацию о датафрейме\n",
    "\n",
    "events.info()"
   ]
  },
  {
   "cell_type": "markdown",
   "id": "310aeabe",
   "metadata": {},
   "source": [
    "Датасет `ab_test_events.zip.csv` содержит пропуски только в одном столбце - `details`. Однако удалить строки с пропущенными значениями в данном столбце или заменить пропуски на какое-либо значением мы не можем, поскольку в данном столбце содержатся дополнительные данные о событиях в формате строковых данных `object`"
   ]
  },
  {
   "cell_type": "markdown",
   "id": "1aec9e6d",
   "metadata": {},
   "source": [
    "Проверим датасет `ab_test_events.zip.csv` на наличие дубликатов"
   ]
  },
  {
   "cell_type": "code",
   "execution_count": 26,
   "id": "b26c6702",
   "metadata": {},
   "outputs": [
    {
     "data": {
      "text/plain": [
       "36318"
      ]
     },
     "execution_count": 26,
     "metadata": {},
     "output_type": "execute_result"
    }
   ],
   "source": [
    "# Проверяем наличие дубликатов\n",
    "\n",
    "duplicates_events = events.duplicated().sum()\n",
    "duplicates_events"
   ]
  },
  {
   "cell_type": "markdown",
   "id": "c1420dd1",
   "metadata": {},
   "source": [
    "Обнаружено 36318 дубликатов. Удалим данные дубликаты"
   ]
  },
  {
   "cell_type": "code",
   "execution_count": 27,
   "id": "e8cf9c40",
   "metadata": {},
   "outputs": [],
   "source": [
    "# Удаляем дубликаты\n",
    "\n",
    "events = events.drop_duplicates()"
   ]
  },
  {
   "cell_type": "markdown",
   "id": "ec67ae4c",
   "metadata": {},
   "source": [
    "Проверим, что дубликаты - удалены"
   ]
  },
  {
   "cell_type": "code",
   "execution_count": 28,
   "id": "d42ef11a",
   "metadata": {},
   "outputs": [
    {
     "data": {
      "text/plain": [
       "0"
      ]
     },
     "execution_count": 28,
     "metadata": {},
     "output_type": "execute_result"
    }
   ],
   "source": [
    "# Проверяем наличие дубликатов\n",
    "\n",
    "duplicates_events = events.duplicated().sum()\n",
    "duplicates_events"
   ]
  },
  {
   "cell_type": "markdown",
   "id": "0a12ee28",
   "metadata": {},
   "source": [
    "Дубликаты в датасете `ab_test_events.zip.csv` - отсутствуют"
   ]
  },
  {
   "cell_type": "markdown",
   "id": "CnzA-efasUrk",
   "metadata": {
    "id": "CnzA-efasUrk"
   },
   "source": [
    "### 2.3. Оценка корректности проведения теста по таблице `ab_test_participants`"
   ]
  },
  {
   "cell_type": "markdown",
   "id": "6e82a262",
   "metadata": {},
   "source": [
    "Выделим пользователей, участвующих в тесте `interface_eu_test` в отдельный датафрейм под названием `ab_test_participants`"
   ]
  },
  {
   "cell_type": "code",
   "execution_count": 29,
   "id": "7f8afaa9",
   "metadata": {},
   "outputs": [],
   "source": [
    "# Выделяем пользователей, участвующих в тесте `interface_eu_test` в отдельный датафрейм\n",
    "\n",
    "ab_test_participants = participants[participants['ab_test'] == 'interface_eu_test']"
   ]
  },
  {
   "cell_type": "markdown",
   "id": "916862ee",
   "metadata": {},
   "source": [
    "Проверим, чтобы в новом датафрейме были только пользователи, участвующие в тесте `interface_eu_test`"
   ]
  },
  {
   "cell_type": "code",
   "execution_count": 30,
   "id": "3eeb90f6",
   "metadata": {},
   "outputs": [
    {
     "data": {
      "text/plain": [
       "array(['interface_eu_test'], dtype=object)"
      ]
     },
     "execution_count": 30,
     "metadata": {},
     "output_type": "execute_result"
    }
   ],
   "source": [
    "# Проверяем, чтобы в новом датафрейме были только пользователи, участвующие в тесте `interface_eu_test`\n",
    "\n",
    "ab_test_participants_unique = ab_test_participants['ab_test'].unique()\n",
    "ab_test_participants_unique"
   ]
  },
  {
   "cell_type": "markdown",
   "id": "0f07000c",
   "metadata": {},
   "source": [
    "Убедимся, что в новой датафрейме всего 2 группы - контрольная (A) и тестовая (B)"
   ]
  },
  {
   "cell_type": "code",
   "execution_count": 31,
   "id": "3ead79cc",
   "metadata": {},
   "outputs": [
    {
     "data": {
      "text/plain": [
       "array(['B', 'A'], dtype=object)"
      ]
     },
     "execution_count": 31,
     "metadata": {},
     "output_type": "execute_result"
    }
   ],
   "source": [
    "# Проверяем уникальные значения в столбце group\n",
    "\n",
    "ab_test_participants_group = ab_test_participants['group'].unique()\n",
    "ab_test_participants_group"
   ]
  },
  {
   "cell_type": "markdown",
   "id": "2b56bd0c",
   "metadata": {},
   "source": [
    "Так мы убедились, что таблица `ab_test_participants` соответствует требованиям технического задания"
   ]
  },
  {
   "cell_type": "markdown",
   "id": "204580c1",
   "metadata": {},
   "source": [
    "Затем рассчитаем количество уникальных пользователей в каждой из экспериментальных групп"
   ]
  },
  {
   "cell_type": "code",
   "execution_count": 32,
   "id": "e1f1aeb5",
   "metadata": {},
   "outputs": [
    {
     "data": {
      "text/plain": [
       "group\n",
       "A    5383\n",
       "B    5351\n",
       "Name: user_id, dtype: int64"
      ]
     },
     "execution_count": 32,
     "metadata": {},
     "output_type": "execute_result"
    }
   ],
   "source": [
    "# Рассчитываем количество уникальных пользователей\n",
    "\n",
    "count_test_group = ab_test_participants.groupby('group')['user_id'].nunique()\n",
    "count_test_group"
   ]
  },
  {
   "cell_type": "markdown",
   "id": "0167113f",
   "metadata": {},
   "source": [
    "Исходя из вычислений, можем увидеть, что в контрольной группе (А) содержится 5383 уникальных пользователей, а в тестовой группе (B) содержится 5351 уникальный пользователь"
   ]
  },
  {
   "cell_type": "markdown",
   "id": "62aa4083",
   "metadata": {},
   "source": [
    "Рассчитаем и выведем на экран процентную разницу в количестве пользователей в группах A и B\n",
    "\n",
    "Для расчёта процентной разницы воспользуемся формулой:\n",
    "$$P = 100 \\cdot  \\frac{|A − B|}{A}$$"
   ]
  },
  {
   "cell_type": "code",
   "execution_count": 33,
   "id": "aac5719b",
   "metadata": {},
   "outputs": [
    {
     "data": {
      "text/plain": [
       "0.5944640535017648"
      ]
     },
     "execution_count": 33,
     "metadata": {},
     "output_type": "execute_result"
    }
   ],
   "source": [
    "# Рассчитываем процентную разницу в количестве пользователей в группах A и B\n",
    "\n",
    "A = ab_test_participants[ab_test_participants['group'] == 'A']['user_id'].nunique()\n",
    "B = ab_test_participants[ab_test_participants['group'] == 'B']['user_id'].nunique()\n",
    "\n",
    "difference_a_b = 100 * (abs(A-B)/A)\n",
    "difference_a_b"
   ]
  },
  {
   "cell_type": "markdown",
   "id": "c3bea582",
   "metadata": {},
   "source": [
    "Расхождение стало более наглядным — кажется, оно небольшое (меньше 1% - соответственно, соблюдена равномерность распределения пользователей по группам теста), и им можно пренебречь. "
   ]
  },
  {
   "cell_type": "markdown",
   "id": "8c64fdbb",
   "metadata": {},
   "source": [
    "Тем не менее стоит проверить, возможно, дело в пользователях, которые могли попасть в обе группы"
   ]
  },
  {
   "cell_type": "code",
   "execution_count": 34,
   "id": "57efb46f",
   "metadata": {},
   "outputs": [
    {
     "name": "stdout",
     "output_type": "stream",
     "text": [
      "[]\n"
     ]
    }
   ],
   "source": [
    "# Проверяем пересечения между двумя группами\n",
    "\n",
    "a1 = ab_test_participants[ab_test_participants['group'] == 'A']['user_id']\n",
    "b1 = ab_test_participants[ab_test_participants['group'] == 'B']['user_id']\n",
    "\n",
    "intersection_1 = list(set(a1) & set(b1))\n",
    "print(intersection_1)"
   ]
  },
  {
   "cell_type": "markdown",
   "id": "07ceb586",
   "metadata": {},
   "source": [
    "После выполнения данного кода мы видим, что пользователей, которые встречаются одновременного в группах A и B - нет"
   ]
  },
  {
   "cell_type": "markdown",
   "id": "6d5ef8fc",
   "metadata": {},
   "source": [
    "Проверим датафрейм `ab_test_participants` на наличие дубликатов в столбце с идентификаторами пользователей"
   ]
  },
  {
   "cell_type": "code",
   "execution_count": 35,
   "id": "d66b328b",
   "metadata": {},
   "outputs": [
    {
     "data": {
      "text/plain": [
       "0"
      ]
     },
     "execution_count": 35,
     "metadata": {},
     "output_type": "execute_result"
    }
   ],
   "source": [
    "ab_test_participants['user_id'].duplicated().sum()"
   ]
  },
  {
   "cell_type": "markdown",
   "id": "9b962a1f",
   "metadata": {},
   "source": [
    "Дубликаты - отсутствуют"
   ]
  },
  {
   "cell_type": "markdown",
   "id": "7a6e2c3f",
   "metadata": {},
   "source": [
    "Таким образом, мы делаем вывод о том, что в датафрейме `ab_test_participants`:\n",
    "\n",
    "- Содержатся данные, которые соответствуют требованиям технического задания\n",
    "- Равномерность распределения пользователей по группам теста - соблюдена\n",
    "- Пересечений с конкурирующим тестов - не выявлено"
   ]
  },
  {
   "cell_type": "markdown",
   "id": "GjulgSrlsqUU",
   "metadata": {
    "id": "GjulgSrlsqUU"
   },
   "source": [
    "### 2.4. Анализ данных о пользовательской активности по таблице `ab_test_events`"
   ]
  },
  {
   "cell_type": "markdown",
   "id": "c15425f7",
   "metadata": {
    "id": "QMt0Ybo_swDK"
   },
   "source": [
    "Создадим датафрейм `ab_test_events`, в котором будут только те события, которые связаны с участвующими в изучаемом тесте пользователями"
   ]
  },
  {
   "cell_type": "code",
   "execution_count": 36,
   "id": "d4925f1b",
   "metadata": {},
   "outputs": [
    {
     "name": "stdout",
     "output_type": "stream",
     "text": [
      "<class 'pandas.core.frame.DataFrame'>\n",
      "Int64Index: 20261 entries, 64672 to 777488\n",
      "Data columns (total 4 columns):\n",
      " #   Column      Non-Null Count  Dtype         \n",
      "---  ------      --------------  -----         \n",
      " 0   user_id     20261 non-null  object        \n",
      " 1   event_dt    20261 non-null  datetime64[ns]\n",
      " 2   event_name  20261 non-null  object        \n",
      " 3   details     20261 non-null  object        \n",
      "dtypes: datetime64[ns](1), object(3)\n",
      "memory usage: 791.4+ KB\n"
     ]
    },
    {
     "data": {
      "text/html": [
       "<div>\n",
       "<style scoped>\n",
       "    .dataframe tbody tr th:only-of-type {\n",
       "        vertical-align: middle;\n",
       "    }\n",
       "\n",
       "    .dataframe tbody tr th {\n",
       "        vertical-align: top;\n",
       "    }\n",
       "\n",
       "    .dataframe thead th {\n",
       "        text-align: right;\n",
       "    }\n",
       "</style>\n",
       "<table border=\"1\" class=\"dataframe\">\n",
       "  <thead>\n",
       "    <tr style=\"text-align: right;\">\n",
       "      <th></th>\n",
       "      <th>user_id</th>\n",
       "      <th>event_dt</th>\n",
       "      <th>event_name</th>\n",
       "      <th>details</th>\n",
       "    </tr>\n",
       "  </thead>\n",
       "  <tbody>\n",
       "    <tr>\n",
       "      <th>64672</th>\n",
       "      <td>5F506CEBEDC05D30</td>\n",
       "      <td>2020-12-06 14:10:01</td>\n",
       "      <td>registration</td>\n",
       "      <td>0.0</td>\n",
       "    </tr>\n",
       "    <tr>\n",
       "      <th>64946</th>\n",
       "      <td>51278A006E918D97</td>\n",
       "      <td>2020-12-06 14:37:25</td>\n",
       "      <td>registration</td>\n",
       "      <td>-3.8</td>\n",
       "    </tr>\n",
       "    <tr>\n",
       "      <th>66585</th>\n",
       "      <td>A0C1E8EFAD874D8B</td>\n",
       "      <td>2020-12-06 17:20:22</td>\n",
       "      <td>registration</td>\n",
       "      <td>-3.32</td>\n",
       "    </tr>\n",
       "    <tr>\n",
       "      <th>67873</th>\n",
       "      <td>275A8D6254ACF530</td>\n",
       "      <td>2020-12-06 19:36:54</td>\n",
       "      <td>registration</td>\n",
       "      <td>-0.48</td>\n",
       "    </tr>\n",
       "    <tr>\n",
       "      <th>67930</th>\n",
       "      <td>0B704EB2DC7FCA4B</td>\n",
       "      <td>2020-12-06 19:42:20</td>\n",
       "      <td>registration</td>\n",
       "      <td>0.0</td>\n",
       "    </tr>\n",
       "  </tbody>\n",
       "</table>\n",
       "</div>"
      ],
      "text/plain": [
       "                user_id            event_dt    event_name details\n",
       "64672  5F506CEBEDC05D30 2020-12-06 14:10:01  registration     0.0\n",
       "64946  51278A006E918D97 2020-12-06 14:37:25  registration    -3.8\n",
       "66585  A0C1E8EFAD874D8B 2020-12-06 17:20:22  registration   -3.32\n",
       "67873  275A8D6254ACF530 2020-12-06 19:36:54  registration   -0.48\n",
       "67930  0B704EB2DC7FCA4B 2020-12-06 19:42:20  registration     0.0"
      ]
     },
     "execution_count": 36,
     "metadata": {},
     "output_type": "execute_result"
    }
   ],
   "source": [
    "# Создаём датафрейм ab_test_events, выводим информацию о нём и первые строки\n",
    "\n",
    "ab_test_events = events[events['user_id'].isin(ab_test_participants['user_id'])]\n",
    "ab_test_events = ab_test_events[(ab_test_events['event_name'] == 'registration') | (ab_test_events['event_name'] == 'purchase')]\n",
    "ab_test_events.info()\n",
    "ab_test_events.head()"
   ]
  },
  {
   "cell_type": "markdown",
   "id": "5a8dfe64",
   "metadata": {},
   "source": [
    "Новый датафрейм `ab_test_events` содержит только события, которые связаны с участвующими в изучаемом тесте пользователями, взятыми из датафрейма `ab_test_participants`. Количество этих событий - 21075"
   ]
  },
  {
   "cell_type": "markdown",
   "id": "fBZ4DC2xswZJ",
   "metadata": {
    "id": "fBZ4DC2xswZJ"
   },
   "source": [
    "### 2.5. Определение горизонта анализа"
   ]
  },
  {
   "cell_type": "markdown",
   "id": "76b80f44",
   "metadata": {
    "id": "sES4-dKts0Yb"
   },
   "source": [
    "Определим горизонт анализа: рассчитаем время (лайфтайм) совершения события пользователем после регистрации и оставим только те события, которые были выполнены в течение первых семи дней с момента регистрации"
   ]
  },
  {
   "cell_type": "markdown",
   "id": "4f39db0e",
   "metadata": {},
   "source": [
    "Для начала извлечём события регистрации"
   ]
  },
  {
   "cell_type": "code",
   "execution_count": 37,
   "id": "1ec5a034",
   "metadata": {},
   "outputs": [
    {
     "data": {
      "text/html": [
       "<div>\n",
       "<style scoped>\n",
       "    .dataframe tbody tr th:only-of-type {\n",
       "        vertical-align: middle;\n",
       "    }\n",
       "\n",
       "    .dataframe tbody tr th {\n",
       "        vertical-align: top;\n",
       "    }\n",
       "\n",
       "    .dataframe thead th {\n",
       "        text-align: right;\n",
       "    }\n",
       "</style>\n",
       "<table border=\"1\" class=\"dataframe\">\n",
       "  <thead>\n",
       "    <tr style=\"text-align: right;\">\n",
       "      <th></th>\n",
       "      <th>user_id</th>\n",
       "      <th>registration_dt</th>\n",
       "    </tr>\n",
       "  </thead>\n",
       "  <tbody>\n",
       "    <tr>\n",
       "      <th>64672</th>\n",
       "      <td>5F506CEBEDC05D30</td>\n",
       "      <td>2020-12-06 14:10:01</td>\n",
       "    </tr>\n",
       "    <tr>\n",
       "      <th>64946</th>\n",
       "      <td>51278A006E918D97</td>\n",
       "      <td>2020-12-06 14:37:25</td>\n",
       "    </tr>\n",
       "    <tr>\n",
       "      <th>66585</th>\n",
       "      <td>A0C1E8EFAD874D8B</td>\n",
       "      <td>2020-12-06 17:20:22</td>\n",
       "    </tr>\n",
       "    <tr>\n",
       "      <th>67873</th>\n",
       "      <td>275A8D6254ACF530</td>\n",
       "      <td>2020-12-06 19:36:54</td>\n",
       "    </tr>\n",
       "    <tr>\n",
       "      <th>67930</th>\n",
       "      <td>0B704EB2DC7FCA4B</td>\n",
       "      <td>2020-12-06 19:42:20</td>\n",
       "    </tr>\n",
       "    <tr>\n",
       "      <th>...</th>\n",
       "      <td>...</td>\n",
       "      <td>...</td>\n",
       "    </tr>\n",
       "    <tr>\n",
       "      <th>654517</th>\n",
       "      <td>52B5A81EFC31AF1D</td>\n",
       "      <td>2020-12-23 23:44:45</td>\n",
       "    </tr>\n",
       "    <tr>\n",
       "      <th>654518</th>\n",
       "      <td>B1D88FBD4BA58E1B</td>\n",
       "      <td>2020-12-23 23:44:47</td>\n",
       "    </tr>\n",
       "    <tr>\n",
       "      <th>654581</th>\n",
       "      <td>38CA3A3C4FE3FEFD</td>\n",
       "      <td>2020-12-23 23:47:47</td>\n",
       "    </tr>\n",
       "    <tr>\n",
       "      <th>654640</th>\n",
       "      <td>16CCB1C8C4DCF1AF</td>\n",
       "      <td>2020-12-23 23:50:29</td>\n",
       "    </tr>\n",
       "    <tr>\n",
       "      <th>680872</th>\n",
       "      <td>2DDC948BD76ABC57</td>\n",
       "      <td>2020-12-24 21:57:10</td>\n",
       "    </tr>\n",
       "  </tbody>\n",
       "</table>\n",
       "<p>10734 rows × 2 columns</p>\n",
       "</div>"
      ],
      "text/plain": [
       "                 user_id     registration_dt\n",
       "64672   5F506CEBEDC05D30 2020-12-06 14:10:01\n",
       "64946   51278A006E918D97 2020-12-06 14:37:25\n",
       "66585   A0C1E8EFAD874D8B 2020-12-06 17:20:22\n",
       "67873   275A8D6254ACF530 2020-12-06 19:36:54\n",
       "67930   0B704EB2DC7FCA4B 2020-12-06 19:42:20\n",
       "...                  ...                 ...\n",
       "654517  52B5A81EFC31AF1D 2020-12-23 23:44:45\n",
       "654518  B1D88FBD4BA58E1B 2020-12-23 23:44:47\n",
       "654581  38CA3A3C4FE3FEFD 2020-12-23 23:47:47\n",
       "654640  16CCB1C8C4DCF1AF 2020-12-23 23:50:29\n",
       "680872  2DDC948BD76ABC57 2020-12-24 21:57:10\n",
       "\n",
       "[10734 rows x 2 columns]"
      ]
     },
     "execution_count": 37,
     "metadata": {},
     "output_type": "execute_result"
    }
   ],
   "source": [
    "# Извлекаем события регистрации\n",
    "\n",
    "registration_dt = ab_test_events[ab_test_events['event_name'] == 'registration'][['user_id', 'event_dt']].rename(columns={'event_dt': 'registration_dt'})\n",
    "registration_dt"
   ]
  },
  {
   "cell_type": "markdown",
   "id": "6addfcdc",
   "metadata": {},
   "source": [
    "Объединим данные с регистрациями с датафреймом `ab_test_events`"
   ]
  },
  {
   "cell_type": "code",
   "execution_count": 38,
   "id": "ebcf154d",
   "metadata": {},
   "outputs": [
    {
     "data": {
      "text/html": [
       "<div>\n",
       "<style scoped>\n",
       "    .dataframe tbody tr th:only-of-type {\n",
       "        vertical-align: middle;\n",
       "    }\n",
       "\n",
       "    .dataframe tbody tr th {\n",
       "        vertical-align: top;\n",
       "    }\n",
       "\n",
       "    .dataframe thead th {\n",
       "        text-align: right;\n",
       "    }\n",
       "</style>\n",
       "<table border=\"1\" class=\"dataframe\">\n",
       "  <thead>\n",
       "    <tr style=\"text-align: right;\">\n",
       "      <th></th>\n",
       "      <th>user_id</th>\n",
       "      <th>event_dt</th>\n",
       "      <th>event_name</th>\n",
       "      <th>details</th>\n",
       "      <th>registration_dt</th>\n",
       "    </tr>\n",
       "  </thead>\n",
       "  <tbody>\n",
       "    <tr>\n",
       "      <th>0</th>\n",
       "      <td>5F506CEBEDC05D30</td>\n",
       "      <td>2020-12-06 14:10:01</td>\n",
       "      <td>registration</td>\n",
       "      <td>0.0</td>\n",
       "      <td>2020-12-06 14:10:01</td>\n",
       "    </tr>\n",
       "    <tr>\n",
       "      <th>1</th>\n",
       "      <td>51278A006E918D97</td>\n",
       "      <td>2020-12-06 14:37:25</td>\n",
       "      <td>registration</td>\n",
       "      <td>-3.8</td>\n",
       "      <td>2020-12-06 14:37:25</td>\n",
       "    </tr>\n",
       "    <tr>\n",
       "      <th>2</th>\n",
       "      <td>A0C1E8EFAD874D8B</td>\n",
       "      <td>2020-12-06 17:20:22</td>\n",
       "      <td>registration</td>\n",
       "      <td>-3.32</td>\n",
       "      <td>2020-12-06 17:20:22</td>\n",
       "    </tr>\n",
       "    <tr>\n",
       "      <th>3</th>\n",
       "      <td>275A8D6254ACF530</td>\n",
       "      <td>2020-12-06 19:36:54</td>\n",
       "      <td>registration</td>\n",
       "      <td>-0.48</td>\n",
       "      <td>2020-12-06 19:36:54</td>\n",
       "    </tr>\n",
       "    <tr>\n",
       "      <th>4</th>\n",
       "      <td>0B704EB2DC7FCA4B</td>\n",
       "      <td>2020-12-06 19:42:20</td>\n",
       "      <td>registration</td>\n",
       "      <td>0.0</td>\n",
       "      <td>2020-12-06 19:42:20</td>\n",
       "    </tr>\n",
       "    <tr>\n",
       "      <th>...</th>\n",
       "      <td>...</td>\n",
       "      <td>...</td>\n",
       "      <td>...</td>\n",
       "      <td>...</td>\n",
       "      <td>...</td>\n",
       "    </tr>\n",
       "    <tr>\n",
       "      <th>20256</th>\n",
       "      <td>5C31C0607EFC3C98</td>\n",
       "      <td>2020-12-30 02:13:55</td>\n",
       "      <td>purchase</td>\n",
       "      <td>4.29</td>\n",
       "      <td>2020-12-07 20:20:40</td>\n",
       "    </tr>\n",
       "    <tr>\n",
       "      <th>20257</th>\n",
       "      <td>4584E51B99DE51AE</td>\n",
       "      <td>2020-12-30 07:48:27</td>\n",
       "      <td>purchase</td>\n",
       "      <td>8.99</td>\n",
       "      <td>2020-12-07 11:37:58</td>\n",
       "    </tr>\n",
       "    <tr>\n",
       "      <th>20258</th>\n",
       "      <td>F80C9BDDEA02E53C</td>\n",
       "      <td>2020-12-30 10:01:32</td>\n",
       "      <td>purchase</td>\n",
       "      <td>4.49</td>\n",
       "      <td>2020-12-07 10:05:54</td>\n",
       "    </tr>\n",
       "    <tr>\n",
       "      <th>20259</th>\n",
       "      <td>F80C9BDDEA02E53C</td>\n",
       "      <td>2020-12-30 10:02:43</td>\n",
       "      <td>purchase</td>\n",
       "      <td>4.49</td>\n",
       "      <td>2020-12-07 10:05:54</td>\n",
       "    </tr>\n",
       "    <tr>\n",
       "      <th>20260</th>\n",
       "      <td>F80C9BDDEA02E53C</td>\n",
       "      <td>2020-12-30 10:03:51</td>\n",
       "      <td>purchase</td>\n",
       "      <td>4.49</td>\n",
       "      <td>2020-12-07 10:05:54</td>\n",
       "    </tr>\n",
       "  </tbody>\n",
       "</table>\n",
       "<p>20261 rows × 5 columns</p>\n",
       "</div>"
      ],
      "text/plain": [
       "                user_id            event_dt    event_name details  \\\n",
       "0      5F506CEBEDC05D30 2020-12-06 14:10:01  registration     0.0   \n",
       "1      51278A006E918D97 2020-12-06 14:37:25  registration    -3.8   \n",
       "2      A0C1E8EFAD874D8B 2020-12-06 17:20:22  registration   -3.32   \n",
       "3      275A8D6254ACF530 2020-12-06 19:36:54  registration   -0.48   \n",
       "4      0B704EB2DC7FCA4B 2020-12-06 19:42:20  registration     0.0   \n",
       "...                 ...                 ...           ...     ...   \n",
       "20256  5C31C0607EFC3C98 2020-12-30 02:13:55      purchase    4.29   \n",
       "20257  4584E51B99DE51AE 2020-12-30 07:48:27      purchase    8.99   \n",
       "20258  F80C9BDDEA02E53C 2020-12-30 10:01:32      purchase    4.49   \n",
       "20259  F80C9BDDEA02E53C 2020-12-30 10:02:43      purchase    4.49   \n",
       "20260  F80C9BDDEA02E53C 2020-12-30 10:03:51      purchase    4.49   \n",
       "\n",
       "          registration_dt  \n",
       "0     2020-12-06 14:10:01  \n",
       "1     2020-12-06 14:37:25  \n",
       "2     2020-12-06 17:20:22  \n",
       "3     2020-12-06 19:36:54  \n",
       "4     2020-12-06 19:42:20  \n",
       "...                   ...  \n",
       "20256 2020-12-07 20:20:40  \n",
       "20257 2020-12-07 11:37:58  \n",
       "20258 2020-12-07 10:05:54  \n",
       "20259 2020-12-07 10:05:54  \n",
       "20260 2020-12-07 10:05:54  \n",
       "\n",
       "[20261 rows x 5 columns]"
      ]
     },
     "execution_count": 38,
     "metadata": {},
     "output_type": "execute_result"
    }
   ],
   "source": [
    "# Объединяем данные с регистрациями с датафреймом `ab_test_events`\n",
    "\n",
    "ab_test_events = ab_test_events.merge(registration_dt, on='user_id', how='left')\n",
    "ab_test_events"
   ]
  },
  {
   "cell_type": "markdown",
   "id": "b361930d",
   "metadata": {},
   "source": [
    "Далее вычислим разницу во времени в днях между событием и регистрацией"
   ]
  },
  {
   "cell_type": "code",
   "execution_count": 39,
   "id": "87d4258e",
   "metadata": {},
   "outputs": [
    {
     "data": {
      "text/html": [
       "<div>\n",
       "<style scoped>\n",
       "    .dataframe tbody tr th:only-of-type {\n",
       "        vertical-align: middle;\n",
       "    }\n",
       "\n",
       "    .dataframe tbody tr th {\n",
       "        vertical-align: top;\n",
       "    }\n",
       "\n",
       "    .dataframe thead th {\n",
       "        text-align: right;\n",
       "    }\n",
       "</style>\n",
       "<table border=\"1\" class=\"dataframe\">\n",
       "  <thead>\n",
       "    <tr style=\"text-align: right;\">\n",
       "      <th></th>\n",
       "      <th>user_id</th>\n",
       "      <th>event_dt</th>\n",
       "      <th>event_name</th>\n",
       "      <th>details</th>\n",
       "      <th>registration_dt</th>\n",
       "      <th>after_registration_dt</th>\n",
       "    </tr>\n",
       "  </thead>\n",
       "  <tbody>\n",
       "    <tr>\n",
       "      <th>0</th>\n",
       "      <td>5F506CEBEDC05D30</td>\n",
       "      <td>2020-12-06 14:10:01</td>\n",
       "      <td>registration</td>\n",
       "      <td>0.0</td>\n",
       "      <td>2020-12-06 14:10:01</td>\n",
       "      <td>0</td>\n",
       "    </tr>\n",
       "    <tr>\n",
       "      <th>1</th>\n",
       "      <td>51278A006E918D97</td>\n",
       "      <td>2020-12-06 14:37:25</td>\n",
       "      <td>registration</td>\n",
       "      <td>-3.8</td>\n",
       "      <td>2020-12-06 14:37:25</td>\n",
       "      <td>0</td>\n",
       "    </tr>\n",
       "    <tr>\n",
       "      <th>2</th>\n",
       "      <td>A0C1E8EFAD874D8B</td>\n",
       "      <td>2020-12-06 17:20:22</td>\n",
       "      <td>registration</td>\n",
       "      <td>-3.32</td>\n",
       "      <td>2020-12-06 17:20:22</td>\n",
       "      <td>0</td>\n",
       "    </tr>\n",
       "    <tr>\n",
       "      <th>3</th>\n",
       "      <td>275A8D6254ACF530</td>\n",
       "      <td>2020-12-06 19:36:54</td>\n",
       "      <td>registration</td>\n",
       "      <td>-0.48</td>\n",
       "      <td>2020-12-06 19:36:54</td>\n",
       "      <td>0</td>\n",
       "    </tr>\n",
       "    <tr>\n",
       "      <th>4</th>\n",
       "      <td>0B704EB2DC7FCA4B</td>\n",
       "      <td>2020-12-06 19:42:20</td>\n",
       "      <td>registration</td>\n",
       "      <td>0.0</td>\n",
       "      <td>2020-12-06 19:42:20</td>\n",
       "      <td>0</td>\n",
       "    </tr>\n",
       "    <tr>\n",
       "      <th>...</th>\n",
       "      <td>...</td>\n",
       "      <td>...</td>\n",
       "      <td>...</td>\n",
       "      <td>...</td>\n",
       "      <td>...</td>\n",
       "      <td>...</td>\n",
       "    </tr>\n",
       "    <tr>\n",
       "      <th>20256</th>\n",
       "      <td>5C31C0607EFC3C98</td>\n",
       "      <td>2020-12-30 02:13:55</td>\n",
       "      <td>purchase</td>\n",
       "      <td>4.29</td>\n",
       "      <td>2020-12-07 20:20:40</td>\n",
       "      <td>22</td>\n",
       "    </tr>\n",
       "    <tr>\n",
       "      <th>20257</th>\n",
       "      <td>4584E51B99DE51AE</td>\n",
       "      <td>2020-12-30 07:48:27</td>\n",
       "      <td>purchase</td>\n",
       "      <td>8.99</td>\n",
       "      <td>2020-12-07 11:37:58</td>\n",
       "      <td>22</td>\n",
       "    </tr>\n",
       "    <tr>\n",
       "      <th>20258</th>\n",
       "      <td>F80C9BDDEA02E53C</td>\n",
       "      <td>2020-12-30 10:01:32</td>\n",
       "      <td>purchase</td>\n",
       "      <td>4.49</td>\n",
       "      <td>2020-12-07 10:05:54</td>\n",
       "      <td>22</td>\n",
       "    </tr>\n",
       "    <tr>\n",
       "      <th>20259</th>\n",
       "      <td>F80C9BDDEA02E53C</td>\n",
       "      <td>2020-12-30 10:02:43</td>\n",
       "      <td>purchase</td>\n",
       "      <td>4.49</td>\n",
       "      <td>2020-12-07 10:05:54</td>\n",
       "      <td>22</td>\n",
       "    </tr>\n",
       "    <tr>\n",
       "      <th>20260</th>\n",
       "      <td>F80C9BDDEA02E53C</td>\n",
       "      <td>2020-12-30 10:03:51</td>\n",
       "      <td>purchase</td>\n",
       "      <td>4.49</td>\n",
       "      <td>2020-12-07 10:05:54</td>\n",
       "      <td>22</td>\n",
       "    </tr>\n",
       "  </tbody>\n",
       "</table>\n",
       "<p>20261 rows × 6 columns</p>\n",
       "</div>"
      ],
      "text/plain": [
       "                user_id            event_dt    event_name details  \\\n",
       "0      5F506CEBEDC05D30 2020-12-06 14:10:01  registration     0.0   \n",
       "1      51278A006E918D97 2020-12-06 14:37:25  registration    -3.8   \n",
       "2      A0C1E8EFAD874D8B 2020-12-06 17:20:22  registration   -3.32   \n",
       "3      275A8D6254ACF530 2020-12-06 19:36:54  registration   -0.48   \n",
       "4      0B704EB2DC7FCA4B 2020-12-06 19:42:20  registration     0.0   \n",
       "...                 ...                 ...           ...     ...   \n",
       "20256  5C31C0607EFC3C98 2020-12-30 02:13:55      purchase    4.29   \n",
       "20257  4584E51B99DE51AE 2020-12-30 07:48:27      purchase    8.99   \n",
       "20258  F80C9BDDEA02E53C 2020-12-30 10:01:32      purchase    4.49   \n",
       "20259  F80C9BDDEA02E53C 2020-12-30 10:02:43      purchase    4.49   \n",
       "20260  F80C9BDDEA02E53C 2020-12-30 10:03:51      purchase    4.49   \n",
       "\n",
       "          registration_dt  after_registration_dt  \n",
       "0     2020-12-06 14:10:01                      0  \n",
       "1     2020-12-06 14:37:25                      0  \n",
       "2     2020-12-06 17:20:22                      0  \n",
       "3     2020-12-06 19:36:54                      0  \n",
       "4     2020-12-06 19:42:20                      0  \n",
       "...                   ...                    ...  \n",
       "20256 2020-12-07 20:20:40                     22  \n",
       "20257 2020-12-07 11:37:58                     22  \n",
       "20258 2020-12-07 10:05:54                     22  \n",
       "20259 2020-12-07 10:05:54                     22  \n",
       "20260 2020-12-07 10:05:54                     22  \n",
       "\n",
       "[20261 rows x 6 columns]"
      ]
     },
     "execution_count": 39,
     "metadata": {},
     "output_type": "execute_result"
    }
   ],
   "source": [
    "# Вычисляем разницу во времени в днях между событием и регистрацией\n",
    "\n",
    "ab_test_events['after_registration_dt'] = (ab_test_events['event_dt'] - ab_test_events['registration_dt']).dt.days\n",
    "ab_test_events"
   ]
  },
  {
   "cell_type": "markdown",
   "id": "3462c64f",
   "metadata": {},
   "source": [
    "Оставим только те события, которые были выполнены в течение первых семи дней с момента регистрации"
   ]
  },
  {
   "cell_type": "code",
   "execution_count": 40,
   "id": "89c3f804",
   "metadata": {},
   "outputs": [
    {
     "data": {
      "text/html": [
       "<div>\n",
       "<style scoped>\n",
       "    .dataframe tbody tr th:only-of-type {\n",
       "        vertical-align: middle;\n",
       "    }\n",
       "\n",
       "    .dataframe tbody tr th {\n",
       "        vertical-align: top;\n",
       "    }\n",
       "\n",
       "    .dataframe thead th {\n",
       "        text-align: right;\n",
       "    }\n",
       "</style>\n",
       "<table border=\"1\" class=\"dataframe\">\n",
       "  <thead>\n",
       "    <tr style=\"text-align: right;\">\n",
       "      <th></th>\n",
       "      <th>user_id</th>\n",
       "      <th>event_dt</th>\n",
       "      <th>event_name</th>\n",
       "      <th>details</th>\n",
       "      <th>registration_dt</th>\n",
       "      <th>after_registration_dt</th>\n",
       "    </tr>\n",
       "  </thead>\n",
       "  <tbody>\n",
       "    <tr>\n",
       "      <th>0</th>\n",
       "      <td>5F506CEBEDC05D30</td>\n",
       "      <td>2020-12-06 14:10:01</td>\n",
       "      <td>registration</td>\n",
       "      <td>0.0</td>\n",
       "      <td>2020-12-06 14:10:01</td>\n",
       "      <td>0</td>\n",
       "    </tr>\n",
       "    <tr>\n",
       "      <th>1</th>\n",
       "      <td>51278A006E918D97</td>\n",
       "      <td>2020-12-06 14:37:25</td>\n",
       "      <td>registration</td>\n",
       "      <td>-3.8</td>\n",
       "      <td>2020-12-06 14:37:25</td>\n",
       "      <td>0</td>\n",
       "    </tr>\n",
       "    <tr>\n",
       "      <th>2</th>\n",
       "      <td>A0C1E8EFAD874D8B</td>\n",
       "      <td>2020-12-06 17:20:22</td>\n",
       "      <td>registration</td>\n",
       "      <td>-3.32</td>\n",
       "      <td>2020-12-06 17:20:22</td>\n",
       "      <td>0</td>\n",
       "    </tr>\n",
       "    <tr>\n",
       "      <th>3</th>\n",
       "      <td>275A8D6254ACF530</td>\n",
       "      <td>2020-12-06 19:36:54</td>\n",
       "      <td>registration</td>\n",
       "      <td>-0.48</td>\n",
       "      <td>2020-12-06 19:36:54</td>\n",
       "      <td>0</td>\n",
       "    </tr>\n",
       "    <tr>\n",
       "      <th>4</th>\n",
       "      <td>0B704EB2DC7FCA4B</td>\n",
       "      <td>2020-12-06 19:42:20</td>\n",
       "      <td>registration</td>\n",
       "      <td>0.0</td>\n",
       "      <td>2020-12-06 19:42:20</td>\n",
       "      <td>0</td>\n",
       "    </tr>\n",
       "    <tr>\n",
       "      <th>...</th>\n",
       "      <td>...</td>\n",
       "      <td>...</td>\n",
       "      <td>...</td>\n",
       "      <td>...</td>\n",
       "      <td>...</td>\n",
       "      <td>...</td>\n",
       "    </tr>\n",
       "    <tr>\n",
       "      <th>20155</th>\n",
       "      <td>96371D85BF5A99DD</td>\n",
       "      <td>2020-12-29 19:11:11</td>\n",
       "      <td>purchase</td>\n",
       "      <td>4.49</td>\n",
       "      <td>2020-12-23 13:16:19</td>\n",
       "      <td>6</td>\n",
       "    </tr>\n",
       "    <tr>\n",
       "      <th>20157</th>\n",
       "      <td>96371D85BF5A99DD</td>\n",
       "      <td>2020-12-29 19:12:42</td>\n",
       "      <td>purchase</td>\n",
       "      <td>89.99</td>\n",
       "      <td>2020-12-23 13:16:19</td>\n",
       "      <td>6</td>\n",
       "    </tr>\n",
       "    <tr>\n",
       "      <th>20165</th>\n",
       "      <td>2CD92B2BD7A136C2</td>\n",
       "      <td>2020-12-29 19:47:22</td>\n",
       "      <td>purchase</td>\n",
       "      <td>4.49</td>\n",
       "      <td>2020-12-22 22:27:30</td>\n",
       "      <td>6</td>\n",
       "    </tr>\n",
       "    <tr>\n",
       "      <th>20166</th>\n",
       "      <td>2CD92B2BD7A136C2</td>\n",
       "      <td>2020-12-29 19:47:38</td>\n",
       "      <td>purchase</td>\n",
       "      <td>4.49</td>\n",
       "      <td>2020-12-22 22:27:30</td>\n",
       "      <td>6</td>\n",
       "    </tr>\n",
       "    <tr>\n",
       "      <th>20176</th>\n",
       "      <td>60B500A3F5E2F7BC</td>\n",
       "      <td>2020-12-29 20:22:58</td>\n",
       "      <td>purchase</td>\n",
       "      <td>89.99</td>\n",
       "      <td>2020-12-23 02:37:08</td>\n",
       "      <td>6</td>\n",
       "    </tr>\n",
       "  </tbody>\n",
       "</table>\n",
       "<p>16969 rows × 6 columns</p>\n",
       "</div>"
      ],
      "text/plain": [
       "                user_id            event_dt    event_name details  \\\n",
       "0      5F506CEBEDC05D30 2020-12-06 14:10:01  registration     0.0   \n",
       "1      51278A006E918D97 2020-12-06 14:37:25  registration    -3.8   \n",
       "2      A0C1E8EFAD874D8B 2020-12-06 17:20:22  registration   -3.32   \n",
       "3      275A8D6254ACF530 2020-12-06 19:36:54  registration   -0.48   \n",
       "4      0B704EB2DC7FCA4B 2020-12-06 19:42:20  registration     0.0   \n",
       "...                 ...                 ...           ...     ...   \n",
       "20155  96371D85BF5A99DD 2020-12-29 19:11:11      purchase    4.49   \n",
       "20157  96371D85BF5A99DD 2020-12-29 19:12:42      purchase   89.99   \n",
       "20165  2CD92B2BD7A136C2 2020-12-29 19:47:22      purchase    4.49   \n",
       "20166  2CD92B2BD7A136C2 2020-12-29 19:47:38      purchase    4.49   \n",
       "20176  60B500A3F5E2F7BC 2020-12-29 20:22:58      purchase   89.99   \n",
       "\n",
       "          registration_dt  after_registration_dt  \n",
       "0     2020-12-06 14:10:01                      0  \n",
       "1     2020-12-06 14:37:25                      0  \n",
       "2     2020-12-06 17:20:22                      0  \n",
       "3     2020-12-06 19:36:54                      0  \n",
       "4     2020-12-06 19:42:20                      0  \n",
       "...                   ...                    ...  \n",
       "20155 2020-12-23 13:16:19                      6  \n",
       "20157 2020-12-23 13:16:19                      6  \n",
       "20165 2020-12-22 22:27:30                      6  \n",
       "20166 2020-12-22 22:27:30                      6  \n",
       "20176 2020-12-23 02:37:08                      6  \n",
       "\n",
       "[16969 rows x 6 columns]"
      ]
     },
     "execution_count": 40,
     "metadata": {},
     "output_type": "execute_result"
    }
   ],
   "source": [
    "# Фильтруем события за первые семь дней с момента регистрации\n",
    "\n",
    "ab_test_events = ab_test_events[ab_test_events['after_registration_dt'] <= 6]\n",
    "ab_test_events"
   ]
  },
  {
   "cell_type": "markdown",
   "id": "a6d61340",
   "metadata": {},
   "source": [
    "Получаем обновлённый датафрейм `ab_test_events` с событиями регистрации и покупок, выполненных в течение первых семи дней с момента регистрации"
   ]
  },
  {
   "cell_type": "markdown",
   "id": "7cf1df48",
   "metadata": {},
   "source": [
    "### 2.6. Оценка достаточности выборки\n",
    "\n",
    "Оценим достаточность выборки для получения статистически значимых результатов A/B-теста при заданных параметрах:\n",
    "\n",
    "- базовый показатель конверсии — 30%,\n",
    "\n",
    "- мощность теста — 80%,\n",
    "\n",
    "- достоверность теста — 95%.\n",
    "\n",
    "- минимальный детектируемый эффект, или MDE, — 3% (ожидаемый эффект от нововведения - увеличение конверсии зарегистрированных пользователей в покупателей как минимум на 3 процентных пункта);"
   ]
  },
  {
   "attachments": {
    "1.PNG": {
     "image/png": "[encoded data removed]"
    }
   },
   "cell_type": "markdown",
   "id": "394ecbbd",
   "metadata": {},
   "source": [
    "Для оценки достаточности выборки для получения статистически значимых результатов A/B-теста был использован калькулятор Эвана Миллера, предназначенный для расчёта размера выборки А/B-теста строго с долевой метрикой (в нашем случае - конверсия). При заданных параметрах минимальный размер выборки составил 3692 пользователя на одну группу.\n",
    "\n",
    "![1.PNG](attachment:1.PNG)\n",
    "\n",
    "Исходя из ранее сделанных вычислений, мы помним, что в контрольной группе (А) содержится 5383 уникальных пользователей, а в тестовой группе (B) содержится 5351 уникальных пользователей. Следовательно, размер выборки достаточен для получения статичестически значимых результатов A/B-теста"
   ]
  },
  {
   "cell_type": "markdown",
   "id": "SadyUDgZs0t3",
   "metadata": {
    "id": "SadyUDgZs0t3"
   },
   "source": [
    "### 2.7. Расчёт количество посетителей, сделавших покупку, для каждой группы и общего количества посетителей"
   ]
  },
  {
   "cell_type": "markdown",
   "id": "03e221a0",
   "metadata": {},
   "source": [
    "Создадим датафрейм, включающий в себя идентификатор посетителя и название группы, в которую он входит"
   ]
  },
  {
   "cell_type": "code",
   "execution_count": 41,
   "id": "db4b9c1a",
   "metadata": {},
   "outputs": [
    {
     "data": {
      "text/html": [
       "<div>\n",
       "<style scoped>\n",
       "    .dataframe tbody tr th:only-of-type {\n",
       "        vertical-align: middle;\n",
       "    }\n",
       "\n",
       "    .dataframe tbody tr th {\n",
       "        vertical-align: top;\n",
       "    }\n",
       "\n",
       "    .dataframe thead th {\n",
       "        text-align: right;\n",
       "    }\n",
       "</style>\n",
       "<table border=\"1\" class=\"dataframe\">\n",
       "  <thead>\n",
       "    <tr style=\"text-align: right;\">\n",
       "      <th></th>\n",
       "      <th>user_id</th>\n",
       "      <th>group</th>\n",
       "    </tr>\n",
       "  </thead>\n",
       "  <tbody>\n",
       "    <tr>\n",
       "      <th>0</th>\n",
       "      <td>0002CE61FF2C4011</td>\n",
       "      <td>B</td>\n",
       "    </tr>\n",
       "    <tr>\n",
       "      <th>2</th>\n",
       "      <td>001064FEAAB631A1</td>\n",
       "      <td>A</td>\n",
       "    </tr>\n",
       "    <tr>\n",
       "      <th>4</th>\n",
       "      <td>001E72F50D1C48FA</td>\n",
       "      <td>A</td>\n",
       "    </tr>\n",
       "    <tr>\n",
       "      <th>5</th>\n",
       "      <td>002412F1EB3F6E38</td>\n",
       "      <td>B</td>\n",
       "    </tr>\n",
       "    <tr>\n",
       "      <th>6</th>\n",
       "      <td>002540BE89C930FB</td>\n",
       "      <td>B</td>\n",
       "    </tr>\n",
       "    <tr>\n",
       "      <th>...</th>\n",
       "      <td>...</td>\n",
       "      <td>...</td>\n",
       "    </tr>\n",
       "    <tr>\n",
       "      <th>14518</th>\n",
       "      <td>FFE5B14BD55C1C5C</td>\n",
       "      <td>A</td>\n",
       "    </tr>\n",
       "    <tr>\n",
       "      <th>14519</th>\n",
       "      <td>FFE600EEC4BA7685</td>\n",
       "      <td>B</td>\n",
       "    </tr>\n",
       "    <tr>\n",
       "      <th>14520</th>\n",
       "      <td>FFE7FC140521F5F6</td>\n",
       "      <td>A</td>\n",
       "    </tr>\n",
       "    <tr>\n",
       "      <th>14521</th>\n",
       "      <td>FFEFC0E55C1CCD4F</td>\n",
       "      <td>A</td>\n",
       "    </tr>\n",
       "    <tr>\n",
       "      <th>14524</th>\n",
       "      <td>FFF58BC33966EB51</td>\n",
       "      <td>A</td>\n",
       "    </tr>\n",
       "  </tbody>\n",
       "</table>\n",
       "<p>10734 rows × 2 columns</p>\n",
       "</div>"
      ],
      "text/plain": [
       "                user_id group\n",
       "0      0002CE61FF2C4011     B\n",
       "2      001064FEAAB631A1     A\n",
       "4      001E72F50D1C48FA     A\n",
       "5      002412F1EB3F6E38     B\n",
       "6      002540BE89C930FB     B\n",
       "...                 ...   ...\n",
       "14518  FFE5B14BD55C1C5C     A\n",
       "14519  FFE600EEC4BA7685     B\n",
       "14520  FFE7FC140521F5F6     A\n",
       "14521  FFEFC0E55C1CCD4F     A\n",
       "14524  FFF58BC33966EB51     A\n",
       "\n",
       "[10734 rows x 2 columns]"
      ]
     },
     "execution_count": 41,
     "metadata": {},
     "output_type": "execute_result"
    }
   ],
   "source": [
    "# Извлекаем идентификатор посетителя и название группы, в которую он входит\n",
    "\n",
    "a_b_group = ab_test_participants[['user_id', 'group']]\n",
    "a_b_group"
   ]
  },
  {
   "cell_type": "markdown",
   "id": "15e44dc7",
   "metadata": {},
   "source": [
    "Объединим данные датафрейма `ab_test_events` и датафрейма `a_b_group`"
   ]
  },
  {
   "cell_type": "code",
   "execution_count": 42,
   "id": "3d828b8c",
   "metadata": {},
   "outputs": [
    {
     "data": {
      "text/html": [
       "<div>\n",
       "<style scoped>\n",
       "    .dataframe tbody tr th:only-of-type {\n",
       "        vertical-align: middle;\n",
       "    }\n",
       "\n",
       "    .dataframe tbody tr th {\n",
       "        vertical-align: top;\n",
       "    }\n",
       "\n",
       "    .dataframe thead th {\n",
       "        text-align: right;\n",
       "    }\n",
       "</style>\n",
       "<table border=\"1\" class=\"dataframe\">\n",
       "  <thead>\n",
       "    <tr style=\"text-align: right;\">\n",
       "      <th></th>\n",
       "      <th>user_id</th>\n",
       "      <th>event_dt</th>\n",
       "      <th>event_name</th>\n",
       "      <th>details</th>\n",
       "      <th>registration_dt</th>\n",
       "      <th>after_registration_dt</th>\n",
       "      <th>group</th>\n",
       "    </tr>\n",
       "  </thead>\n",
       "  <tbody>\n",
       "    <tr>\n",
       "      <th>0</th>\n",
       "      <td>5F506CEBEDC05D30</td>\n",
       "      <td>2020-12-06 14:10:01</td>\n",
       "      <td>registration</td>\n",
       "      <td>0.0</td>\n",
       "      <td>2020-12-06 14:10:01</td>\n",
       "      <td>0</td>\n",
       "      <td>A</td>\n",
       "    </tr>\n",
       "    <tr>\n",
       "      <th>1</th>\n",
       "      <td>51278A006E918D97</td>\n",
       "      <td>2020-12-06 14:37:25</td>\n",
       "      <td>registration</td>\n",
       "      <td>-3.8</td>\n",
       "      <td>2020-12-06 14:37:25</td>\n",
       "      <td>0</td>\n",
       "      <td>A</td>\n",
       "    </tr>\n",
       "    <tr>\n",
       "      <th>2</th>\n",
       "      <td>A0C1E8EFAD874D8B</td>\n",
       "      <td>2020-12-06 17:20:22</td>\n",
       "      <td>registration</td>\n",
       "      <td>-3.32</td>\n",
       "      <td>2020-12-06 17:20:22</td>\n",
       "      <td>0</td>\n",
       "      <td>B</td>\n",
       "    </tr>\n",
       "    <tr>\n",
       "      <th>3</th>\n",
       "      <td>275A8D6254ACF530</td>\n",
       "      <td>2020-12-06 19:36:54</td>\n",
       "      <td>registration</td>\n",
       "      <td>-0.48</td>\n",
       "      <td>2020-12-06 19:36:54</td>\n",
       "      <td>0</td>\n",
       "      <td>A</td>\n",
       "    </tr>\n",
       "    <tr>\n",
       "      <th>4</th>\n",
       "      <td>0B704EB2DC7FCA4B</td>\n",
       "      <td>2020-12-06 19:42:20</td>\n",
       "      <td>registration</td>\n",
       "      <td>0.0</td>\n",
       "      <td>2020-12-06 19:42:20</td>\n",
       "      <td>0</td>\n",
       "      <td>B</td>\n",
       "    </tr>\n",
       "    <tr>\n",
       "      <th>...</th>\n",
       "      <td>...</td>\n",
       "      <td>...</td>\n",
       "      <td>...</td>\n",
       "      <td>...</td>\n",
       "      <td>...</td>\n",
       "      <td>...</td>\n",
       "      <td>...</td>\n",
       "    </tr>\n",
       "    <tr>\n",
       "      <th>16964</th>\n",
       "      <td>96371D85BF5A99DD</td>\n",
       "      <td>2020-12-29 19:11:11</td>\n",
       "      <td>purchase</td>\n",
       "      <td>4.49</td>\n",
       "      <td>2020-12-23 13:16:19</td>\n",
       "      <td>6</td>\n",
       "      <td>B</td>\n",
       "    </tr>\n",
       "    <tr>\n",
       "      <th>16965</th>\n",
       "      <td>96371D85BF5A99DD</td>\n",
       "      <td>2020-12-29 19:12:42</td>\n",
       "      <td>purchase</td>\n",
       "      <td>89.99</td>\n",
       "      <td>2020-12-23 13:16:19</td>\n",
       "      <td>6</td>\n",
       "      <td>B</td>\n",
       "    </tr>\n",
       "    <tr>\n",
       "      <th>16966</th>\n",
       "      <td>2CD92B2BD7A136C2</td>\n",
       "      <td>2020-12-29 19:47:22</td>\n",
       "      <td>purchase</td>\n",
       "      <td>4.49</td>\n",
       "      <td>2020-12-22 22:27:30</td>\n",
       "      <td>6</td>\n",
       "      <td>B</td>\n",
       "    </tr>\n",
       "    <tr>\n",
       "      <th>16967</th>\n",
       "      <td>2CD92B2BD7A136C2</td>\n",
       "      <td>2020-12-29 19:47:38</td>\n",
       "      <td>purchase</td>\n",
       "      <td>4.49</td>\n",
       "      <td>2020-12-22 22:27:30</td>\n",
       "      <td>6</td>\n",
       "      <td>B</td>\n",
       "    </tr>\n",
       "    <tr>\n",
       "      <th>16968</th>\n",
       "      <td>60B500A3F5E2F7BC</td>\n",
       "      <td>2020-12-29 20:22:58</td>\n",
       "      <td>purchase</td>\n",
       "      <td>89.99</td>\n",
       "      <td>2020-12-23 02:37:08</td>\n",
       "      <td>6</td>\n",
       "      <td>A</td>\n",
       "    </tr>\n",
       "  </tbody>\n",
       "</table>\n",
       "<p>16969 rows × 7 columns</p>\n",
       "</div>"
      ],
      "text/plain": [
       "                user_id            event_dt    event_name details  \\\n",
       "0      5F506CEBEDC05D30 2020-12-06 14:10:01  registration     0.0   \n",
       "1      51278A006E918D97 2020-12-06 14:37:25  registration    -3.8   \n",
       "2      A0C1E8EFAD874D8B 2020-12-06 17:20:22  registration   -3.32   \n",
       "3      275A8D6254ACF530 2020-12-06 19:36:54  registration   -0.48   \n",
       "4      0B704EB2DC7FCA4B 2020-12-06 19:42:20  registration     0.0   \n",
       "...                 ...                 ...           ...     ...   \n",
       "16964  96371D85BF5A99DD 2020-12-29 19:11:11      purchase    4.49   \n",
       "16965  96371D85BF5A99DD 2020-12-29 19:12:42      purchase   89.99   \n",
       "16966  2CD92B2BD7A136C2 2020-12-29 19:47:22      purchase    4.49   \n",
       "16967  2CD92B2BD7A136C2 2020-12-29 19:47:38      purchase    4.49   \n",
       "16968  60B500A3F5E2F7BC 2020-12-29 20:22:58      purchase   89.99   \n",
       "\n",
       "          registration_dt  after_registration_dt group  \n",
       "0     2020-12-06 14:10:01                      0     A  \n",
       "1     2020-12-06 14:37:25                      0     A  \n",
       "2     2020-12-06 17:20:22                      0     B  \n",
       "3     2020-12-06 19:36:54                      0     A  \n",
       "4     2020-12-06 19:42:20                      0     B  \n",
       "...                   ...                    ...   ...  \n",
       "16964 2020-12-23 13:16:19                      6     B  \n",
       "16965 2020-12-23 13:16:19                      6     B  \n",
       "16966 2020-12-22 22:27:30                      6     B  \n",
       "16967 2020-12-22 22:27:30                      6     B  \n",
       "16968 2020-12-23 02:37:08                      6     A  \n",
       "\n",
       "[16969 rows x 7 columns]"
      ]
     },
     "execution_count": 42,
     "metadata": {},
     "output_type": "execute_result"
    }
   ],
   "source": [
    "# Объединяем данные датафрейма `ab_test_events` и датафрейма `a_b_group`\n",
    "\n",
    "ab_test_events = ab_test_events.merge(a_b_group, on='user_id', how='left')\n",
    "ab_test_events"
   ]
  },
  {
   "cell_type": "markdown",
   "id": "41811bbc",
   "metadata": {},
   "source": [
    "Рассчитаем для каждой группы количество посетителей, сделавших покупку, и общее количество посетителей"
   ]
  },
  {
   "cell_type": "code",
   "execution_count": 43,
   "id": "4aca17f5",
   "metadata": {},
   "outputs": [
    {
     "data": {
      "text/html": [
       "<div>\n",
       "<style scoped>\n",
       "    .dataframe tbody tr th:only-of-type {\n",
       "        vertical-align: middle;\n",
       "    }\n",
       "\n",
       "    .dataframe tbody tr th {\n",
       "        vertical-align: top;\n",
       "    }\n",
       "\n",
       "    .dataframe thead th {\n",
       "        text-align: right;\n",
       "    }\n",
       "</style>\n",
       "<table border=\"1\" class=\"dataframe\">\n",
       "  <thead>\n",
       "    <tr style=\"text-align: right;\">\n",
       "      <th>event_name</th>\n",
       "      <th>purchase</th>\n",
       "      <th>registration</th>\n",
       "    </tr>\n",
       "    <tr>\n",
       "      <th>group</th>\n",
       "      <th></th>\n",
       "      <th></th>\n",
       "    </tr>\n",
       "  </thead>\n",
       "  <tbody>\n",
       "    <tr>\n",
       "      <th>A</th>\n",
       "      <td>1480</td>\n",
       "      <td>5383</td>\n",
       "    </tr>\n",
       "    <tr>\n",
       "      <th>B</th>\n",
       "      <td>1579</td>\n",
       "      <td>5351</td>\n",
       "    </tr>\n",
       "  </tbody>\n",
       "</table>\n",
       "</div>"
      ],
      "text/plain": [
       "event_name  purchase  registration\n",
       "group                             \n",
       "A               1480          5383\n",
       "B               1579          5351"
      ]
     },
     "execution_count": 43,
     "metadata": {},
     "output_type": "execute_result"
    }
   ],
   "source": [
    "# Рассчитываем для каждой группы количество посетителей, сделавших покупку, и общее количество посетителей\n",
    "\n",
    "pivot_table_ab_test_events = ab_test_events[ab_test_events['event_name'].isin(['registration', 'purchase'])].pivot_table(index='group',\n",
    "                                                                        columns='event_name',\n",
    "                                                                        values='user_id',\n",
    "                                                                        aggfunc='nunique')\n",
    "pivot_table_ab_test_events"
   ]
  },
  {
   "cell_type": "markdown",
   "id": "e11ba545",
   "metadata": {},
   "source": [
    "Рассчитаем конверсию зарегистрированных пользователей в покупателей в %"
   ]
  },
  {
   "cell_type": "code",
   "execution_count": 44,
   "id": "6bafafc7",
   "metadata": {},
   "outputs": [
    {
     "data": {
      "text/plain": [
       "group\n",
       "A    27.493962\n",
       "B    29.508503\n",
       "dtype: float64"
      ]
     },
     "execution_count": 44,
     "metadata": {},
     "output_type": "execute_result"
    }
   ],
   "source": [
    "# Рассчитываем конверсию зарегистрированных пользователей в покупателей в %\n",
    "\n",
    "cr = (pivot_table_ab_test_events['purchase']/pivot_table_ab_test_events['registration'])*100\n",
    "cr"
   ]
  },
  {
   "cell_type": "markdown",
   "id": "934dd3dd",
   "metadata": {},
   "source": [
    "Определим разницу в значениях конверсии между контрольной и тестовой группами в %"
   ]
  },
  {
   "cell_type": "code",
   "execution_count": 45,
   "id": "a02b692c",
   "metadata": {},
   "outputs": [
    {
     "data": {
      "text/plain": [
       "2.0145406090791624"
      ]
     },
     "execution_count": 45,
     "metadata": {},
     "output_type": "execute_result"
    }
   ],
   "source": [
    "# Определяем разницу в значениях конверсии между контрольной и тестовой группами в %\n",
    "\n",
    "cr_diff = cr.values[1] - cr.values[0]\n",
    "cr_diff"
   ]
  },
  {
   "cell_type": "markdown",
   "id": "95660c4c",
   "metadata": {},
   "source": [
    "Рассчитаем общее количество посетителей"
   ]
  },
  {
   "cell_type": "code",
   "execution_count": 46,
   "id": "87636276",
   "metadata": {},
   "outputs": [
    {
     "name": "stdout",
     "output_type": "stream",
     "text": [
      "Общее количество посетителей: 10734\n"
     ]
    }
   ],
   "source": [
    "# Рассчитываем общее количество посетителей\n",
    "\n",
    "count_user_id = ab_test_events['user_id'].nunique()\n",
    "print(f'Общее количество посетителей: {count_user_id}')"
   ]
  },
  {
   "cell_type": "markdown",
   "id": "b48543dc",
   "metadata": {},
   "source": [
    "Общее количество посетителей составило 10734 человека"
   ]
  },
  {
   "cell_type": "markdown",
   "id": "sh1JpGvAs5E3",
   "metadata": {
    "id": "sh1JpGvAs5E3"
   },
   "source": [
    "### 2.8. Предварительный общий вывод об изменении пользовательской активности в тестовой группе по сравнению с контрольной"
   ]
  },
  {
   "cell_type": "markdown",
   "id": "52e3f968",
   "metadata": {
    "id": "hHTHPkJYs8mE"
   },
   "source": [
    "Исходя из полученных вычислений, мы можем сделать предварительный вывод о том, что после упрощения интерфейса количество покупок в тестовой группе (B) увеличилось на 2 процентных пункта по сравнению с контрольной группой (A). То есть, конверсия зарегистрированных пользователей в покупателей увеличилась на 2 процентных пункта"
   ]
  },
  {
   "cell_type": "markdown",
   "id": "IKZ1Oo3Ws919",
   "metadata": {
    "id": "IKZ1Oo3Ws919"
   },
   "source": [
    "### 2.9. Оценка результатов A/B-тестирования"
   ]
  },
  {
   "cell_type": "markdown",
   "id": "dcUdBSmvtC-E",
   "metadata": {
    "id": "dcUdBSmvtC-E"
   },
   "source": [
    "#### 2.9.1. Проверка изменения конверсии подходящим статистическим тестом с учётом всех этапов проверки гипотез"
   ]
  },
  {
   "cell_type": "markdown",
   "id": "f1463177",
   "metadata": {
    "id": "l_KOziBQtL3t"
   },
   "source": [
    "Наиболее подходящим статистическим тестом будет являться Z-тест пропорций, поскольку диапазон значений нашей метрики колеблется от 0 до 1 (речь идёт о конверсии). Поэтому мы создадим перемеменные и внесём в них данные, необходимые для проведения статистического теста"
   ]
  },
  {
   "cell_type": "code",
   "execution_count": 47,
   "id": "32b1bb1d",
   "metadata": {},
   "outputs": [
    {
     "name": "stdout",
     "output_type": "stream",
     "text": [
      "Размер группы A: 5383\n",
      "Размер группы B: 5351\n",
      "Количество посетителей, соверших покупку в группе A: 1480\n",
      "Количество посетителей, соверших покупку в группе B: 1579\n"
     ]
    }
   ],
   "source": [
    "# Создаём переменные с необходимыми данные для проведения статистического теста\n",
    "\n",
    "n_a = pivot_table_ab_test_events['registration'][0]  # Размер группы A\n",
    "n_b = pivot_table_ab_test_events['registration'][1] # Размер группы B\n",
    "m_a = pivot_table_ab_test_events['purchase'][0] # Количество посетителей, соверших покупку в группе A\n",
    "m_b = pivot_table_ab_test_events['purchase'][1] # Количество посетителей, соверших покупку в группе B\n",
    "\n",
    "print(f'Размер группы A: {n_a}')\n",
    "print(f'Размер группы B: {n_b}')\n",
    "print(f'Количество посетителей, соверших покупку в группе A: {m_a}')\n",
    "print(f'Количество посетителей, соверших покупку в группе B: {m_b}')"
   ]
  },
  {
   "cell_type": "markdown",
   "id": "02555bb1",
   "metadata": {},
   "source": [
    "Рассчитаем, является ли изменение конверсии зарегистрированных пользователей в покупателей статистически значимым. Сформулируем гипотезы перед проведением теста:\n",
    "\n",
    "- Нулевая гипотеза H₀: конверсия зарегистрированных пользователей в покупателей в группе B не выше, чем в группе A\n",
    "- Альтернативная гипотеза H₁: конверсия зарегистрированных пользователей в покупателей в группе B выше, и это различие статистически значимо\n",
    "\n",
    "Перед проведением теста проверим предпосылку о достаточном количестве данных для проведения Z-теста пропорций"
   ]
  },
  {
   "cell_type": "code",
   "execution_count": 48,
   "id": "70c893e5",
   "metadata": {},
   "outputs": [
    {
     "name": "stdout",
     "output_type": "stream",
     "text": [
      "Предпосылка о достаточном количестве данных выполняется!\n"
     ]
    }
   ],
   "source": [
    "# Проверяем предпосылку о достаточном количестве данных\n",
    "\n",
    "p_a, p_b = m_a/n_a, m_b/n_b # доли покупок для каждой группы: A и B\n",
    "\n",
    "if (p_a*n_a>10)and((1-p_a)*n_a>10)and(p_b*n_b>10)and((1-p_b)*n_b>10): \n",
    "    print('Предпосылка о достаточном количестве данных выполняется!')\n",
    "else:\n",
    "    print('Предпосылка о достаточном количестве данных не выполняется!')"
   ]
  },
  {
   "cell_type": "markdown",
   "id": "6e60f63e",
   "metadata": {},
   "source": [
    "Так мы убедились, что предпосылка о достаточном количестве данных выполняется. Именно она является условием для проведения Z-теста пропорций"
   ]
  },
  {
   "cell_type": "code",
   "execution_count": 49,
   "id": "0f25772f",
   "metadata": {},
   "outputs": [
    {
     "name": "stdout",
     "output_type": "stream",
     "text": [
      "pvalue = 0.010393282955333764 < 0.05\n",
      "Отвергаем нулевую гипотезу\n",
      "Наблюдается статистически значимое увеличение конверсии зарегистрированных пользователей в покупателей в группе B по сравнению с группой A\n"
     ]
    }
   ],
   "source": [
    "# Устанавливаем уровень значимости\n",
    "\n",
    "alpha = 0.05 \n",
    "\n",
    "# Проводим статистический тест\n",
    "\n",
    "stat_ztest, p_value_ztest = proportions_ztest(\n",
    "  [m_b, m_a],\n",
    "  [n_b, n_a],\n",
    "  alternative='larger' # проводим Z-тест пропорций, H0: p_a >= p_b, H1: p_a < p_b, так как мы проверяем: значимо ли статистически изменение конверсии зарегистрированных пользователей в покупателей в группе B по сравнению с группой A\n",
    ") \n",
    "\n",
    "if p_value_ztest > alpha:\n",
    "    print(f'pvalue = {p_value_ztest} > {alpha}')\n",
    "    print('Не получилось отвергнуть нулевую гипотезу')\n",
    "    print('Статистически значимое увеличение конверсии зарегистрированных пользователей в покупателей в группе B по сравнению с группой A - не наблюдается')\n",
    "else:\n",
    "    print(f'pvalue = {p_value_ztest} < {alpha}')\n",
    "    print('Отвергаем нулевую гипотезу')\n",
    "    print('Наблюдается статистически значимое увеличение конверсии зарегистрированных пользователей в покупателей в группе B по сравнению с группой A')"
   ]
  },
  {
   "cell_type": "markdown",
   "id": "68aa6af0",
   "metadata": {},
   "source": [
    "Так как pvalue = 0.010393282955333764 < 0.05, мы можем сделать вывод о том, что мы отвергаем нулевую гипотезу. Это значит, что наблюдается статичестически значимое увеличение конверсии зарегистрированных пользователей в покупателей в группе B по сравнению с группой A при уровне значимости alpha = 0.05"
   ]
  },
  {
   "cell_type": "markdown",
   "id": "9jkyKOjgtGoc",
   "metadata": {
    "id": "9jkyKOjgtGoc"
   },
   "source": [
    "#### 2.9.2. Описание выводов по проведённой оценке результатов A/B-тестирования"
   ]
  },
  {
   "cell_type": "markdown",
   "id": "779933bd",
   "metadata": {},
   "source": [
    "Характеристики проведённого эксперимента:\n",
    "\n",
    "- Базовый показатель конверсии — 30%;\n",
    "- Мощность теста — 80%;\n",
    "- Достоверность теста — 95%;\n",
    "- Минимальный детектируемый эффект, или MDE, — 3% (ожидаемый эффект от нововведения - увеличение конверсии зарегистрированных пользователей в покупателей как минимум на 3 процентных пункта);\n",
    "- Необходимый размер выборки для каждой группы: 3962 пользователь.\n",
    "\n",
    "На основе проведённого анализа результатов теста по вышезаданным параметрам мы можем сделать следующие выводы:\n",
    "\n",
    "- Упрощение интерфейса увеличило конверсию зарегистрированных пользователей в покупателей на 2 процентных пункта.\n",
    "- 0.010393282955333764 - значение p-value, которое использовалось для оценки статистической значимости выявленного эффекта\n",
    "- Ожидаемый эффект в изменении конверсии - не достигнут, однако данное нововведение стоит внедрить в сайт, поскольку проведённый Z-тест пропорций показал, что существует статистически значимое различие конверсии зарегистрированных пользователей в покупателей в группе B по сравнению с группой A. Если быть точнее, то в тестовой группе B наблюдается статически значимое увеличение конверсии зарегистрированных пользователей в покупателей по сравнению с контрольной группой A на 2 процентных пункта. В будущем можно добиться ожидаемого эффекта в изменении конверсии, поскольку уже сейчас наблюдается положительная динамика"
   ]
  }
 ],
 "metadata": {
  "ExecuteTimeLog": [
   {
    "duration": 1437,
    "start_time": "2025-05-01T10:00:34.956Z"
   },
   {
    "duration": 79,
    "start_time": "2025-05-01T10:01:14.141Z"
   },
   {
    "duration": 109,
    "start_time": "2025-05-01T10:01:39.925Z"
   },
   {
    "duration": 15,
    "start_time": "2025-05-01T10:01:46.870Z"
   },
   {
    "duration": 63,
    "start_time": "2025-05-01T10:01:58.487Z"
   },
   {
    "duration": 21,
    "start_time": "2025-05-01T10:02:00.699Z"
   },
   {
    "duration": 18,
    "start_time": "2025-05-01T10:03:19.608Z"
   },
   {
    "duration": 1481,
    "start_time": "2025-05-01T10:05:40.728Z"
   },
   {
    "duration": 12,
    "start_time": "2025-05-01T10:05:57.534Z"
   },
   {
    "duration": 112,
    "start_time": "2025-05-01T10:06:04.730Z"
   },
   {
    "duration": 64,
    "start_time": "2025-05-01T10:18:02.010Z"
   },
   {
    "duration": 22,
    "start_time": "2025-05-01T10:22:33.675Z"
   },
   {
    "duration": 3,
    "start_time": "2025-05-01T10:25:30.221Z"
   },
   {
    "duration": 3,
    "start_time": "2025-05-01T10:25:30.793Z"
   },
   {
    "duration": 1129,
    "start_time": "2025-05-01T10:26:13.098Z"
   },
   {
    "duration": 100,
    "start_time": "2025-05-01T10:26:14.694Z"
   },
   {
    "duration": 103,
    "start_time": "2025-05-01T10:26:16.326Z"
   },
   {
    "duration": 12,
    "start_time": "2025-05-01T10:26:24.351Z"
   },
   {
    "duration": 11,
    "start_time": "2025-05-01T10:26:24.929Z"
   },
   {
    "duration": 12,
    "start_time": "2025-05-01T10:43:03.887Z"
   },
   {
    "duration": 2,
    "start_time": "2025-05-01T10:43:06.645Z"
   },
   {
    "duration": 59,
    "start_time": "2025-05-01T10:54:04.992Z"
   },
   {
    "duration": 1167,
    "start_time": "2025-05-01T10:54:08.404Z"
   },
   {
    "duration": 99,
    "start_time": "2025-05-01T10:54:09.927Z"
   },
   {
    "duration": 16,
    "start_time": "2025-05-01T10:54:14.305Z"
   },
   {
    "duration": 12,
    "start_time": "2025-05-01T10:54:14.748Z"
   },
   {
    "duration": 3,
    "start_time": "2025-05-01T10:54:16.827Z"
   },
   {
    "duration": 4,
    "start_time": "2025-05-01T10:54:17.226Z"
   },
   {
    "duration": 8,
    "start_time": "2025-05-01T10:56:05.906Z"
   },
   {
    "duration": 15,
    "start_time": "2025-05-01T10:56:10.900Z"
   },
   {
    "duration": 10,
    "start_time": "2025-05-01T10:56:16.781Z"
   },
   {
    "duration": 16,
    "start_time": "2025-05-01T10:56:23.690Z"
   },
   {
    "duration": 16,
    "start_time": "2025-05-01T10:56:26.897Z"
   },
   {
    "duration": 11,
    "start_time": "2025-05-01T10:56:51.796Z"
   },
   {
    "duration": 10,
    "start_time": "2025-05-01T10:57:38.694Z"
   },
   {
    "duration": 6,
    "start_time": "2025-05-01T10:58:11.459Z"
   },
   {
    "duration": 7,
    "start_time": "2025-05-01T10:59:49.959Z"
   },
   {
    "duration": 15,
    "start_time": "2025-05-01T10:59:56.981Z"
   },
   {
    "duration": 9,
    "start_time": "2025-05-01T11:00:07.273Z"
   },
   {
    "duration": 22,
    "start_time": "2025-05-01T11:01:40.976Z"
   },
   {
    "duration": 4,
    "start_time": "2025-05-01T11:01:49.938Z"
   },
   {
    "duration": 4,
    "start_time": "2025-05-01T11:04:30.558Z"
   },
   {
    "duration": 79,
    "start_time": "2025-05-01T11:04:53.424Z"
   },
   {
    "duration": 665,
    "start_time": "2025-05-01T11:04:58.322Z"
   },
   {
    "duration": 1216,
    "start_time": "2025-05-01T11:05:11.887Z"
   },
   {
    "duration": 125,
    "start_time": "2025-05-01T11:05:13.627Z"
   },
   {
    "duration": 13,
    "start_time": "2025-05-01T11:05:15.104Z"
   },
   {
    "duration": 13,
    "start_time": "2025-05-01T11:05:15.605Z"
   },
   {
    "duration": 10,
    "start_time": "2025-05-01T11:05:18.194Z"
   },
   {
    "duration": 6,
    "start_time": "2025-05-01T11:05:19.455Z"
   },
   {
    "duration": 3,
    "start_time": "2025-05-01T11:05:22.456Z"
   },
   {
    "duration": 4,
    "start_time": "2025-05-01T11:05:22.745Z"
   },
   {
    "duration": 722,
    "start_time": "2025-05-01T11:05:55.338Z"
   },
   {
    "duration": 620,
    "start_time": "2025-05-01T11:06:16.713Z"
   },
   {
    "duration": 10,
    "start_time": "2025-05-01T11:06:33.401Z"
   },
   {
    "duration": 1182,
    "start_time": "2025-05-01T11:07:39.112Z"
   },
   {
    "duration": 91,
    "start_time": "2025-05-01T11:07:40.303Z"
   },
   {
    "duration": 14,
    "start_time": "2025-05-01T11:07:41.498Z"
   },
   {
    "duration": 13,
    "start_time": "2025-05-01T11:07:42.140Z"
   },
   {
    "duration": 3,
    "start_time": "2025-05-01T11:07:44.236Z"
   },
   {
    "duration": 6,
    "start_time": "2025-05-01T11:07:46.342Z"
   },
   {
    "duration": 5,
    "start_time": "2025-05-01T11:07:58.722Z"
   },
   {
    "duration": 100,
    "start_time": "2025-05-01T11:07:59.962Z"
   },
   {
    "duration": 5,
    "start_time": "2025-05-01T11:08:03.839Z"
   },
   {
    "duration": 5,
    "start_time": "2025-05-01T11:08:48.736Z"
   },
   {
    "duration": 6,
    "start_time": "2025-05-01T11:08:53.132Z"
   },
   {
    "duration": 14,
    "start_time": "2025-05-01T11:20:29.281Z"
   },
   {
    "duration": 15,
    "start_time": "2025-05-01T11:20:31.088Z"
   },
   {
    "duration": 107,
    "start_time": "2025-05-01T11:21:48.108Z"
   },
   {
    "duration": 1632,
    "start_time": "2025-05-01T11:21:50.266Z"
   },
   {
    "duration": 12,
    "start_time": "2025-05-01T11:21:52.833Z"
   },
   {
    "duration": 132,
    "start_time": "2025-05-01T11:21:53.722Z"
   },
   {
    "duration": 6,
    "start_time": "2025-05-01T11:26:26.113Z"
   },
   {
    "duration": 12,
    "start_time": "2025-05-01T11:26:29.359Z"
   },
   {
    "duration": 11,
    "start_time": "2025-05-01T11:28:09.274Z"
   },
   {
    "duration": 6,
    "start_time": "2025-05-01T11:32:49.822Z"
   },
   {
    "duration": 19,
    "start_time": "2025-05-01T11:32:50.283Z"
   },
   {
    "duration": 12,
    "start_time": "2025-05-01T11:32:51.914Z"
   },
   {
    "duration": 7,
    "start_time": "2025-05-01T11:34:38.444Z"
   },
   {
    "duration": 71,
    "start_time": "2025-05-01T11:43:45.842Z"
   },
   {
    "duration": 13,
    "start_time": "2025-05-01T11:44:16.818Z"
   },
   {
    "duration": 12,
    "start_time": "2025-05-01T11:47:17.836Z"
   },
   {
    "duration": 13,
    "start_time": "2025-05-01T11:47:19.359Z"
   },
   {
    "duration": 6,
    "start_time": "2025-05-01T11:58:45.530Z"
   },
   {
    "duration": 5,
    "start_time": "2025-05-01T11:59:32.335Z"
   },
   {
    "duration": 5,
    "start_time": "2025-05-01T11:59:36.709Z"
   },
   {
    "duration": 6,
    "start_time": "2025-05-01T12:05:27.841Z"
   },
   {
    "duration": 7,
    "start_time": "2025-05-01T12:05:44.709Z"
   },
   {
    "duration": 6,
    "start_time": "2025-05-01T12:06:05.794Z"
   },
   {
    "duration": 7,
    "start_time": "2025-05-01T12:06:07.068Z"
   },
   {
    "duration": 12,
    "start_time": "2025-05-01T12:06:28.942Z"
   },
   {
    "duration": 12,
    "start_time": "2025-05-01T12:06:32.107Z"
   },
   {
    "duration": 5,
    "start_time": "2025-05-01T12:10:30.769Z"
   },
   {
    "duration": 10,
    "start_time": "2025-05-01T12:11:51.441Z"
   },
   {
    "duration": 10,
    "start_time": "2025-05-01T12:12:04.108Z"
   },
   {
    "duration": 9,
    "start_time": "2025-05-01T12:18:41.618Z"
   },
   {
    "duration": 8,
    "start_time": "2025-05-01T12:18:56.476Z"
   },
   {
    "duration": 7,
    "start_time": "2025-05-01T12:19:01.169Z"
   },
   {
    "duration": 10,
    "start_time": "2025-05-01T12:19:04.733Z"
   },
   {
    "duration": 108,
    "start_time": "2025-05-01T12:21:17.245Z"
   },
   {
    "duration": 8,
    "start_time": "2025-05-01T12:21:39.333Z"
   },
   {
    "duration": 9,
    "start_time": "2025-05-01T12:27:57.855Z"
   },
   {
    "duration": 5,
    "start_time": "2025-05-01T12:30:20.579Z"
   },
   {
    "duration": 7,
    "start_time": "2025-05-01T12:32:30.857Z"
   },
   {
    "duration": 6,
    "start_time": "2025-05-01T12:33:41.636Z"
   },
   {
    "duration": 6,
    "start_time": "2025-05-01T12:33:46.161Z"
   },
   {
    "duration": 10,
    "start_time": "2025-05-01T12:35:00.148Z"
   },
   {
    "duration": 26,
    "start_time": "2025-05-01T12:35:15.235Z"
   },
   {
    "duration": 26,
    "start_time": "2025-05-01T12:35:21.553Z"
   },
   {
    "duration": 8,
    "start_time": "2025-05-01T12:35:38.999Z"
   },
   {
    "duration": 1214,
    "start_time": "2025-05-01T12:36:11.250Z"
   },
   {
    "duration": 83,
    "start_time": "2025-05-01T12:36:12.803Z"
   },
   {
    "duration": 11,
    "start_time": "2025-05-01T12:36:13.666Z"
   },
   {
    "duration": 12,
    "start_time": "2025-05-01T12:36:14.006Z"
   },
   {
    "duration": 4,
    "start_time": "2025-05-01T12:36:14.838Z"
   },
   {
    "duration": 5,
    "start_time": "2025-05-01T12:36:15.506Z"
   },
   {
    "duration": 5,
    "start_time": "2025-05-01T12:36:16.015Z"
   },
   {
    "duration": 5,
    "start_time": "2025-05-01T12:36:16.505Z"
   },
   {
    "duration": 13,
    "start_time": "2025-05-01T12:36:16.986Z"
   },
   {
    "duration": 8,
    "start_time": "2025-05-01T12:36:17.889Z"
   },
   {
    "duration": 12,
    "start_time": "2025-05-01T12:36:18.178Z"
   },
   {
    "duration": 5,
    "start_time": "2025-05-01T12:36:19.395Z"
   },
   {
    "duration": 8,
    "start_time": "2025-05-01T12:36:20.549Z"
   },
   {
    "duration": 6,
    "start_time": "2025-05-01T12:36:23.543Z"
   },
   {
    "duration": 8,
    "start_time": "2025-05-01T12:37:18.224Z"
   },
   {
    "duration": 6,
    "start_time": "2025-05-01T12:37:51.899Z"
   },
   {
    "duration": 8,
    "start_time": "2025-05-01T12:38:06.358Z"
   },
   {
    "duration": 6,
    "start_time": "2025-05-01T12:38:16.785Z"
   },
   {
    "duration": 8,
    "start_time": "2025-05-01T12:38:19.769Z"
   },
   {
    "duration": 8,
    "start_time": "2025-05-01T12:38:22.074Z"
   },
   {
    "duration": 7,
    "start_time": "2025-05-01T12:38:33.280Z"
   },
   {
    "duration": 7,
    "start_time": "2025-05-01T12:38:34.659Z"
   },
   {
    "duration": 7,
    "start_time": "2025-05-01T12:38:36.056Z"
   },
   {
    "duration": 7,
    "start_time": "2025-05-01T12:38:38.458Z"
   },
   {
    "duration": 6,
    "start_time": "2025-05-01T12:38:41.557Z"
   },
   {
    "duration": 6,
    "start_time": "2025-05-01T12:38:44.379Z"
   },
   {
    "duration": 7,
    "start_time": "2025-05-01T12:38:49.535Z"
   },
   {
    "duration": 7,
    "start_time": "2025-05-01T12:38:54.926Z"
   },
   {
    "duration": 8,
    "start_time": "2025-05-01T12:38:56.765Z"
   },
   {
    "duration": 8,
    "start_time": "2025-05-01T12:57:54.407Z"
   },
   {
    "duration": 6,
    "start_time": "2025-05-01T12:58:06.021Z"
   },
   {
    "duration": 8,
    "start_time": "2025-05-01T12:58:17.466Z"
   },
   {
    "duration": 8,
    "start_time": "2025-05-01T12:58:22.895Z"
   },
   {
    "duration": 7,
    "start_time": "2025-05-01T12:58:41.866Z"
   },
   {
    "duration": 8,
    "start_time": "2025-05-01T12:58:52.954Z"
   },
   {
    "duration": 8,
    "start_time": "2025-05-01T12:58:56.134Z"
   },
   {
    "duration": 1205,
    "start_time": "2025-05-01T13:00:32.684Z"
   },
   {
    "duration": 102,
    "start_time": "2025-05-01T13:00:33.891Z"
   },
   {
    "duration": 14,
    "start_time": "2025-05-01T13:00:33.994Z"
   },
   {
    "duration": 36,
    "start_time": "2025-05-01T13:00:34.009Z"
   },
   {
    "duration": 21,
    "start_time": "2025-05-01T13:00:34.048Z"
   },
   {
    "duration": 11,
    "start_time": "2025-05-01T13:00:34.070Z"
   },
   {
    "duration": 10,
    "start_time": "2025-05-01T13:00:34.082Z"
   },
   {
    "duration": 5,
    "start_time": "2025-05-01T13:00:34.094Z"
   },
   {
    "duration": 100,
    "start_time": "2025-05-01T13:00:34.100Z"
   },
   {
    "duration": 20,
    "start_time": "2025-05-01T13:00:34.202Z"
   },
   {
    "duration": 30,
    "start_time": "2025-05-01T13:00:34.223Z"
   },
   {
    "duration": 25,
    "start_time": "2025-05-01T13:00:34.255Z"
   },
   {
    "duration": 55,
    "start_time": "2025-05-01T13:00:34.282Z"
   },
   {
    "duration": 52,
    "start_time": "2025-05-01T13:00:34.340Z"
   },
   {
    "duration": 1660,
    "start_time": "2025-05-01T13:00:34.394Z"
   },
   {
    "duration": 20,
    "start_time": "2025-05-01T13:00:36.056Z"
   },
   {
    "duration": 205,
    "start_time": "2025-05-01T13:00:36.078Z"
   },
   {
    "duration": 1366,
    "start_time": "2025-05-02T13:04:36.147Z"
   },
   {
    "duration": 79,
    "start_time": "2025-05-02T13:04:37.515Z"
   },
   {
    "duration": 11,
    "start_time": "2025-05-02T13:04:37.596Z"
   },
   {
    "duration": 13,
    "start_time": "2025-05-02T13:04:37.609Z"
   },
   {
    "duration": 5,
    "start_time": "2025-05-02T13:04:37.624Z"
   },
   {
    "duration": 7,
    "start_time": "2025-05-02T13:04:37.630Z"
   },
   {
    "duration": 5,
    "start_time": "2025-05-02T13:04:37.638Z"
   },
   {
    "duration": 5,
    "start_time": "2025-05-02T13:04:37.644Z"
   },
   {
    "duration": 11,
    "start_time": "2025-05-02T13:04:37.650Z"
   },
   {
    "duration": 7,
    "start_time": "2025-05-02T13:04:37.662Z"
   },
   {
    "duration": 10,
    "start_time": "2025-05-02T13:04:37.671Z"
   },
   {
    "duration": 6,
    "start_time": "2025-05-02T13:04:37.683Z"
   },
   {
    "duration": 46,
    "start_time": "2025-05-02T13:04:37.691Z"
   },
   {
    "duration": 6,
    "start_time": "2025-05-02T13:04:37.740Z"
   },
   {
    "duration": 1462,
    "start_time": "2025-05-02T13:04:37.747Z"
   },
   {
    "duration": 13,
    "start_time": "2025-05-02T13:04:39.211Z"
   },
   {
    "duration": 128,
    "start_time": "2025-05-02T13:04:39.225Z"
   },
   {
    "duration": 13,
    "start_time": "2025-05-02T13:09:43.082Z"
   },
   {
    "duration": 8,
    "start_time": "2025-05-02T13:09:46.404Z"
   },
   {
    "duration": 18,
    "start_time": "2025-05-02T13:09:47.154Z"
   },
   {
    "duration": 11,
    "start_time": "2025-05-02T13:10:50.554Z"
   },
   {
    "duration": 109,
    "start_time": "2025-05-02T13:10:51.154Z"
   },
   {
    "duration": 111,
    "start_time": "2025-05-02T13:10:55.129Z"
   },
   {
    "duration": 7,
    "start_time": "2025-05-02T13:14:29.035Z"
   },
   {
    "duration": 8,
    "start_time": "2025-05-02T13:20:27.431Z"
   },
   {
    "duration": 5,
    "start_time": "2025-05-02T13:24:36.810Z"
   },
   {
    "duration": 97,
    "start_time": "2025-05-02T13:24:52.541Z"
   },
   {
    "duration": 9,
    "start_time": "2025-05-02T13:25:09.463Z"
   },
   {
    "duration": 9,
    "start_time": "2025-05-02T13:25:11.407Z"
   },
   {
    "duration": 17,
    "start_time": "2025-05-02T13:25:17.152Z"
   },
   {
    "duration": 6,
    "start_time": "2025-05-02T13:25:33.524Z"
   },
   {
    "duration": 7,
    "start_time": "2025-05-02T13:25:52.622Z"
   },
   {
    "duration": 11,
    "start_time": "2025-05-02T13:27:33.972Z"
   },
   {
    "duration": 8,
    "start_time": "2025-05-02T13:27:38.129Z"
   },
   {
    "duration": 434,
    "start_time": "2025-05-02T13:28:39.666Z"
   },
   {
    "duration": 8,
    "start_time": "2025-05-02T13:29:43.502Z"
   },
   {
    "duration": 3,
    "start_time": "2025-05-02T13:30:10.067Z"
   },
   {
    "duration": 3,
    "start_time": "2025-05-02T13:30:44.658Z"
   },
   {
    "duration": 9,
    "start_time": "2025-05-02T13:31:13.383Z"
   },
   {
    "duration": 7,
    "start_time": "2025-05-02T13:31:20.130Z"
   },
   {
    "duration": 12,
    "start_time": "2025-05-02T13:31:25.820Z"
   },
   {
    "duration": 10,
    "start_time": "2025-05-02T13:31:47.146Z"
   },
   {
    "duration": 9,
    "start_time": "2025-05-02T13:33:43.718Z"
   },
   {
    "duration": 13,
    "start_time": "2025-05-02T13:34:37.348Z"
   },
   {
    "duration": 11,
    "start_time": "2025-05-02T13:36:03.664Z"
   },
   {
    "duration": 5,
    "start_time": "2025-05-02T13:37:30.306Z"
   },
   {
    "duration": 28,
    "start_time": "2025-05-02T13:39:03.604Z"
   },
   {
    "duration": 26,
    "start_time": "2025-05-02T13:39:12.006Z"
   },
   {
    "duration": 97,
    "start_time": "2025-05-02T13:39:15.910Z"
   },
   {
    "duration": 23,
    "start_time": "2025-05-02T13:39:24.466Z"
   },
   {
    "duration": 17,
    "start_time": "2025-05-02T13:39:35.967Z"
   },
   {
    "duration": 60,
    "start_time": "2025-05-02T13:46:26.443Z"
   },
   {
    "duration": 13,
    "start_time": "2025-05-02T13:46:31.862Z"
   },
   {
    "duration": 50,
    "start_time": "2025-05-02T13:47:09.141Z"
   },
   {
    "duration": 1114,
    "start_time": "2025-05-02T13:47:14.012Z"
   },
   {
    "duration": 1120,
    "start_time": "2025-05-02T13:47:26.103Z"
   },
   {
    "duration": 1419,
    "start_time": "2025-05-02T13:47:32.179Z"
   },
   {
    "duration": 12,
    "start_time": "2025-05-02T13:47:33.935Z"
   },
   {
    "duration": 12,
    "start_time": "2025-05-02T13:47:34.531Z"
   },
   {
    "duration": 8,
    "start_time": "2025-05-02T13:47:36.747Z"
   },
   {
    "duration": 107,
    "start_time": "2025-05-02T13:47:37.254Z"
   },
   {
    "duration": 9,
    "start_time": "2025-05-02T13:47:42.264Z"
   },
   {
    "duration": 12,
    "start_time": "2025-05-02T13:47:45.699Z"
   },
   {
    "duration": 10,
    "start_time": "2025-05-02T13:48:39.527Z"
   },
   {
    "duration": 13,
    "start_time": "2025-05-02T13:49:07.021Z"
   },
   {
    "duration": 20,
    "start_time": "2025-05-02T13:49:23.894Z"
   },
   {
    "duration": 13,
    "start_time": "2025-05-02T13:49:32.612Z"
   },
   {
    "duration": 12,
    "start_time": "2025-05-02T13:50:07.754Z"
   },
   {
    "duration": 8,
    "start_time": "2025-05-02T13:51:33.375Z"
   },
   {
    "duration": 6,
    "start_time": "2025-05-02T13:52:21.612Z"
   },
   {
    "duration": 18,
    "start_time": "2025-05-02T13:53:05.355Z"
   },
   {
    "duration": 10,
    "start_time": "2025-05-02T13:53:24.693Z"
   },
   {
    "duration": 10,
    "start_time": "2025-05-02T13:54:39.316Z"
   },
   {
    "duration": 1187,
    "start_time": "2025-05-02T13:55:04.855Z"
   },
   {
    "duration": 97,
    "start_time": "2025-05-02T13:55:13.227Z"
   },
   {
    "duration": 1526,
    "start_time": "2025-05-02T13:55:16.282Z"
   },
   {
    "duration": 13,
    "start_time": "2025-05-02T13:55:20.105Z"
   },
   {
    "duration": 12,
    "start_time": "2025-05-02T13:55:22.593Z"
   },
   {
    "duration": 16,
    "start_time": "2025-05-02T13:55:32.095Z"
   },
   {
    "duration": 5,
    "start_time": "2025-05-02T13:55:35.795Z"
   },
   {
    "duration": 18,
    "start_time": "2025-05-02T13:55:37.827Z"
   },
   {
    "duration": 11,
    "start_time": "2025-05-02T13:56:45.406Z"
   },
   {
    "duration": 1049,
    "start_time": "2025-05-02T13:57:42.681Z"
   },
   {
    "duration": 1398,
    "start_time": "2025-05-02T13:57:51.725Z"
   },
   {
    "duration": 11,
    "start_time": "2025-05-02T13:57:55.289Z"
   },
   {
    "duration": 12,
    "start_time": "2025-05-02T13:57:59.492Z"
   },
   {
    "duration": 11,
    "start_time": "2025-05-02T13:59:38.794Z"
   },
   {
    "duration": 5,
    "start_time": "2025-05-02T14:00:16.396Z"
   },
   {
    "duration": 9,
    "start_time": "2025-05-02T14:00:31.320Z"
   },
   {
    "duration": 1090,
    "start_time": "2025-05-02T14:00:52.329Z"
   },
   {
    "duration": 1362,
    "start_time": "2025-05-02T14:00:57.294Z"
   },
   {
    "duration": 13,
    "start_time": "2025-05-02T14:01:07.145Z"
   },
   {
    "duration": 12,
    "start_time": "2025-05-02T14:01:07.987Z"
   },
   {
    "duration": 11,
    "start_time": "2025-05-02T14:01:09.787Z"
   },
   {
    "duration": 6,
    "start_time": "2025-05-02T14:01:14.118Z"
   },
   {
    "duration": 3,
    "start_time": "2025-05-02T14:01:18.906Z"
   },
   {
    "duration": 11,
    "start_time": "2025-05-02T14:02:31.927Z"
   },
   {
    "duration": 91,
    "start_time": "2025-05-02T14:05:08.247Z"
   },
   {
    "duration": 7,
    "start_time": "2025-05-02T14:05:15.133Z"
   },
   {
    "duration": 12,
    "start_time": "2025-05-02T14:06:06.276Z"
   },
   {
    "duration": 13,
    "start_time": "2025-05-02T14:06:07.120Z"
   },
   {
    "duration": 9,
    "start_time": "2025-05-02T14:06:10.019Z"
   },
   {
    "duration": 103,
    "start_time": "2025-05-02T14:06:10.906Z"
   },
   {
    "duration": 1113,
    "start_time": "2025-05-02T14:07:24.615Z"
   },
   {
    "duration": 1333,
    "start_time": "2025-05-02T14:07:30.271Z"
   },
   {
    "duration": 11,
    "start_time": "2025-05-02T14:07:32.697Z"
   },
   {
    "duration": 12,
    "start_time": "2025-05-02T14:07:33.385Z"
   },
   {
    "duration": 10,
    "start_time": "2025-05-02T14:07:36.154Z"
   },
   {
    "duration": 108,
    "start_time": "2025-05-02T14:07:36.216Z"
   },
   {
    "duration": 62,
    "start_time": "2025-05-02T14:08:22.510Z"
   },
   {
    "duration": 5,
    "start_time": "2025-05-02T14:08:30.173Z"
   },
   {
    "duration": 4,
    "start_time": "2025-05-02T14:09:39.868Z"
   },
   {
    "duration": 4,
    "start_time": "2025-05-02T14:09:53.585Z"
   },
   {
    "duration": 63,
    "start_time": "2025-05-02T14:11:20.079Z"
   },
   {
    "duration": 4,
    "start_time": "2025-05-02T14:11:43.954Z"
   },
   {
    "duration": 6,
    "start_time": "2025-05-02T14:11:47.564Z"
   },
   {
    "duration": 5,
    "start_time": "2025-05-02T14:11:53.165Z"
   },
   {
    "duration": 10,
    "start_time": "2025-05-02T14:13:06.741Z"
   },
   {
    "duration": 12,
    "start_time": "2025-05-02T14:13:25.753Z"
   },
   {
    "duration": 11,
    "start_time": "2025-05-02T14:13:32.414Z"
   },
   {
    "duration": 9,
    "start_time": "2025-05-02T14:14:27.966Z"
   },
   {
    "duration": 5,
    "start_time": "2025-05-02T14:15:05.691Z"
   },
   {
    "duration": 93,
    "start_time": "2025-05-02T14:15:31.128Z"
   },
   {
    "duration": 1140,
    "start_time": "2025-05-02T14:18:19.477Z"
   },
   {
    "duration": 91,
    "start_time": "2025-05-02T14:18:20.619Z"
   },
   {
    "duration": 11,
    "start_time": "2025-05-02T14:18:20.711Z"
   },
   {
    "duration": 18,
    "start_time": "2025-05-02T14:18:20.724Z"
   },
   {
    "duration": 3,
    "start_time": "2025-05-02T14:18:20.745Z"
   },
   {
    "duration": 6,
    "start_time": "2025-05-02T14:18:20.750Z"
   },
   {
    "duration": 7,
    "start_time": "2025-05-02T14:18:20.757Z"
   },
   {
    "duration": 14,
    "start_time": "2025-05-02T14:18:20.765Z"
   },
   {
    "duration": 11,
    "start_time": "2025-05-02T14:18:20.780Z"
   },
   {
    "duration": 8,
    "start_time": "2025-05-02T14:18:20.792Z"
   },
   {
    "duration": 34,
    "start_time": "2025-05-02T14:18:20.801Z"
   },
   {
    "duration": 5,
    "start_time": "2025-05-02T14:18:20.837Z"
   },
   {
    "duration": 18,
    "start_time": "2025-05-02T14:18:20.843Z"
   },
   {
    "duration": 6,
    "start_time": "2025-05-02T14:18:20.863Z"
   },
   {
    "duration": 1447,
    "start_time": "2025-05-02T14:18:20.871Z"
   },
   {
    "duration": 8,
    "start_time": "2025-05-02T14:18:22.319Z"
   },
   {
    "duration": 16,
    "start_time": "2025-05-02T14:18:22.328Z"
   },
   {
    "duration": 8,
    "start_time": "2025-05-02T14:18:22.346Z"
   },
   {
    "duration": 119,
    "start_time": "2025-05-02T14:18:22.356Z"
   },
   {
    "duration": 4,
    "start_time": "2025-05-02T14:18:22.477Z"
   },
   {
    "duration": 6,
    "start_time": "2025-05-02T14:18:22.483Z"
   },
   {
    "duration": 13,
    "start_time": "2025-05-02T14:18:22.490Z"
   },
   {
    "duration": 8,
    "start_time": "2025-05-02T14:18:22.504Z"
   },
   {
    "duration": 25,
    "start_time": "2025-05-02T14:18:22.513Z"
   },
   {
    "duration": 117,
    "start_time": "2025-05-02T14:18:22.540Z"
   },
   {
    "duration": 11,
    "start_time": "2025-05-02T14:18:22.658Z"
   },
   {
    "duration": 11,
    "start_time": "2025-05-02T14:33:11.329Z"
   },
   {
    "duration": 78,
    "start_time": "2025-05-02T14:39:30.910Z"
   },
   {
    "duration": 82,
    "start_time": "2025-05-02T14:39:35.793Z"
   },
   {
    "duration": 69,
    "start_time": "2025-05-02T14:39:50.119Z"
   },
   {
    "duration": 95,
    "start_time": "2025-05-02T14:40:01.687Z"
   },
   {
    "duration": 10,
    "start_time": "2025-05-02T14:49:07.287Z"
   },
   {
    "duration": 19,
    "start_time": "2025-05-02T14:49:11.122Z"
   },
   {
    "duration": 9,
    "start_time": "2025-05-02T14:53:20.816Z"
   },
   {
    "duration": 12,
    "start_time": "2025-05-02T14:53:25.089Z"
   },
   {
    "duration": 10,
    "start_time": "2025-05-02T14:53:31.173Z"
   },
   {
    "duration": 9,
    "start_time": "2025-05-02T14:53:42.288Z"
   },
   {
    "duration": 105,
    "start_time": "2025-05-02T14:55:03.683Z"
   },
   {
    "duration": 92,
    "start_time": "2025-05-02T14:55:15.153Z"
   },
   {
    "duration": 92,
    "start_time": "2025-05-02T14:55:21.775Z"
   },
   {
    "duration": 13,
    "start_time": "2025-05-02T14:56:34.685Z"
   },
   {
    "duration": 83,
    "start_time": "2025-05-02T14:57:04.074Z"
   },
   {
    "duration": 13,
    "start_time": "2025-05-02T14:57:37.345Z"
   },
   {
    "duration": 13,
    "start_time": "2025-05-02T14:58:11.244Z"
   },
   {
    "duration": 13,
    "start_time": "2025-05-02T14:58:15.546Z"
   },
   {
    "duration": 62,
    "start_time": "2025-05-02T14:59:06.850Z"
   },
   {
    "duration": 13,
    "start_time": "2025-05-02T15:00:10.661Z"
   },
   {
    "duration": 19,
    "start_time": "2025-05-02T15:00:14.422Z"
   },
   {
    "duration": 69,
    "start_time": "2025-05-02T15:01:19.873Z"
   },
   {
    "duration": 92,
    "start_time": "2025-05-02T15:02:01.748Z"
   },
   {
    "duration": 6,
    "start_time": "2025-05-02T15:02:04.190Z"
   },
   {
    "duration": 14,
    "start_time": "2025-05-02T15:02:09.396Z"
   },
   {
    "duration": 5,
    "start_time": "2025-05-02T15:04:04.070Z"
   },
   {
    "duration": 14,
    "start_time": "2025-05-02T15:04:07.475Z"
   },
   {
    "duration": 131,
    "start_time": "2025-05-02T15:06:19.941Z"
   },
   {
    "duration": 25,
    "start_time": "2025-05-02T15:11:00.767Z"
   },
   {
    "duration": 28,
    "start_time": "2025-05-02T15:11:38.746Z"
   },
   {
    "duration": 28,
    "start_time": "2025-05-02T15:11:43.354Z"
   },
   {
    "duration": 32,
    "start_time": "2025-05-02T15:11:45.961Z"
   },
   {
    "duration": 27,
    "start_time": "2025-05-02T15:11:51.421Z"
   },
   {
    "duration": 27,
    "start_time": "2025-05-02T15:11:53.945Z"
   },
   {
    "duration": 35,
    "start_time": "2025-05-02T15:12:17.802Z"
   },
   {
    "duration": 101,
    "start_time": "2025-05-02T15:14:31.716Z"
   },
   {
    "duration": 105,
    "start_time": "2025-05-02T15:14:34.680Z"
   },
   {
    "duration": 93,
    "start_time": "2025-05-02T15:14:48.983Z"
   },
   {
    "duration": 9,
    "start_time": "2025-05-02T15:14:52.410Z"
   },
   {
    "duration": 1222,
    "start_time": "2025-05-02T15:15:52.824Z"
   },
   {
    "duration": 99,
    "start_time": "2025-05-02T15:15:54.049Z"
   },
   {
    "duration": 20,
    "start_time": "2025-05-02T15:15:54.153Z"
   },
   {
    "duration": 18,
    "start_time": "2025-05-02T15:15:54.176Z"
   },
   {
    "duration": 5,
    "start_time": "2025-05-02T15:15:54.196Z"
   },
   {
    "duration": 10,
    "start_time": "2025-05-02T15:15:54.202Z"
   },
   {
    "duration": 5,
    "start_time": "2025-05-02T15:15:54.213Z"
   },
   {
    "duration": 7,
    "start_time": "2025-05-02T15:15:54.236Z"
   },
   {
    "duration": 21,
    "start_time": "2025-05-02T15:15:54.245Z"
   },
   {
    "duration": 23,
    "start_time": "2025-05-02T15:15:54.268Z"
   },
   {
    "duration": 13,
    "start_time": "2025-05-02T15:15:54.292Z"
   },
   {
    "duration": 7,
    "start_time": "2025-05-02T15:15:54.307Z"
   },
   {
    "duration": 28,
    "start_time": "2025-05-02T15:15:54.315Z"
   },
   {
    "duration": 7,
    "start_time": "2025-05-02T15:15:54.346Z"
   },
   {
    "duration": 1561,
    "start_time": "2025-05-02T15:15:54.354Z"
   },
   {
    "duration": 10,
    "start_time": "2025-05-02T15:15:55.917Z"
   },
   {
    "duration": 25,
    "start_time": "2025-05-02T15:15:55.928Z"
   },
   {
    "duration": 9,
    "start_time": "2025-05-02T15:15:55.955Z"
   },
   {
    "duration": 140,
    "start_time": "2025-05-02T15:15:55.966Z"
   },
   {
    "duration": 5,
    "start_time": "2025-05-02T15:15:56.108Z"
   },
   {
    "duration": 5,
    "start_time": "2025-05-02T15:15:56.115Z"
   },
   {
    "duration": 20,
    "start_time": "2025-05-02T15:15:56.121Z"
   },
   {
    "duration": 22,
    "start_time": "2025-05-02T15:15:56.143Z"
   },
   {
    "duration": 11,
    "start_time": "2025-05-02T15:15:56.166Z"
   },
   {
    "duration": 9,
    "start_time": "2025-05-02T15:15:56.178Z"
   },
   {
    "duration": 6,
    "start_time": "2025-05-02T15:15:56.188Z"
   },
   {
    "duration": 132,
    "start_time": "2025-05-02T15:15:56.195Z"
   },
   {
    "duration": 17,
    "start_time": "2025-05-02T15:15:56.329Z"
   },
   {
    "duration": 14,
    "start_time": "2025-05-02T15:15:56.348Z"
   },
   {
    "duration": 31,
    "start_time": "2025-05-02T15:15:56.364Z"
   },
   {
    "duration": 14,
    "start_time": "2025-05-02T15:15:56.396Z"
   },
   {
    "duration": 31,
    "start_time": "2025-05-02T15:15:56.412Z"
   },
   {
    "duration": 15,
    "start_time": "2025-05-02T15:16:41.379Z"
   },
   {
    "duration": 16,
    "start_time": "2025-05-02T15:16:54.592Z"
   },
   {
    "duration": 109,
    "start_time": "2025-05-02T15:17:14.855Z"
   },
   {
    "duration": 103,
    "start_time": "2025-05-02T15:17:23.184Z"
   },
   {
    "duration": 117,
    "start_time": "2025-05-02T15:17:38.982Z"
   },
   {
    "duration": 198,
    "start_time": "2025-05-02T15:17:47.412Z"
   },
   {
    "duration": 115,
    "start_time": "2025-05-02T15:17:53.053Z"
   },
   {
    "duration": 101,
    "start_time": "2025-05-02T15:18:02.461Z"
   },
   {
    "duration": 15,
    "start_time": "2025-05-02T15:18:15.451Z"
   },
   {
    "duration": 22,
    "start_time": "2025-05-02T15:18:20.737Z"
   },
   {
    "duration": 97,
    "start_time": "2025-05-02T15:18:34.539Z"
   },
   {
    "duration": 14,
    "start_time": "2025-05-02T15:18:37.952Z"
   },
   {
    "duration": 15,
    "start_time": "2025-05-02T15:18:39.905Z"
   },
   {
    "duration": 19,
    "start_time": "2025-05-02T15:18:46.957Z"
   },
   {
    "duration": 14,
    "start_time": "2025-05-02T15:18:48.707Z"
   },
   {
    "duration": 15,
    "start_time": "2025-05-02T15:18:51.123Z"
   },
   {
    "duration": 32,
    "start_time": "2025-05-02T15:21:11.428Z"
   },
   {
    "duration": 27,
    "start_time": "2025-05-02T15:21:14.139Z"
   },
   {
    "duration": 17,
    "start_time": "2025-05-02T15:21:18.924Z"
   },
   {
    "duration": 25,
    "start_time": "2025-05-02T15:26:53.244Z"
   },
   {
    "duration": 37,
    "start_time": "2025-05-02T15:26:56.692Z"
   },
   {
    "duration": 16,
    "start_time": "2025-05-02T15:28:04.675Z"
   },
   {
    "duration": 22,
    "start_time": "2025-05-02T15:28:15.263Z"
   },
   {
    "duration": 38,
    "start_time": "2025-05-02T15:28:18.602Z"
   },
   {
    "duration": 61,
    "start_time": "2025-05-02T15:28:35.610Z"
   },
   {
    "duration": 1410,
    "start_time": "2025-05-02T15:29:06.332Z"
   },
   {
    "duration": 84,
    "start_time": "2025-05-02T15:29:07.747Z"
   },
   {
    "duration": 30,
    "start_time": "2025-05-02T15:29:07.835Z"
   },
   {
    "duration": 16,
    "start_time": "2025-05-02T15:29:07.868Z"
   },
   {
    "duration": 4,
    "start_time": "2025-05-02T15:29:07.885Z"
   },
   {
    "duration": 5,
    "start_time": "2025-05-02T15:29:07.890Z"
   },
   {
    "duration": 6,
    "start_time": "2025-05-02T15:29:07.896Z"
   },
   {
    "duration": 37,
    "start_time": "2025-05-02T15:29:07.903Z"
   },
   {
    "duration": 18,
    "start_time": "2025-05-02T15:29:07.941Z"
   },
   {
    "duration": 10,
    "start_time": "2025-05-02T15:29:07.961Z"
   },
   {
    "duration": 12,
    "start_time": "2025-05-02T15:29:07.973Z"
   },
   {
    "duration": 6,
    "start_time": "2025-05-02T15:29:07.986Z"
   },
   {
    "duration": 49,
    "start_time": "2025-05-02T15:29:07.996Z"
   },
   {
    "duration": 9,
    "start_time": "2025-05-02T15:29:08.049Z"
   },
   {
    "duration": 1676,
    "start_time": "2025-05-02T15:29:08.061Z"
   },
   {
    "duration": 11,
    "start_time": "2025-05-02T15:29:09.740Z"
   },
   {
    "duration": 20,
    "start_time": "2025-05-02T15:29:09.754Z"
   },
   {
    "duration": 13,
    "start_time": "2025-05-02T15:29:09.777Z"
   },
   {
    "duration": 184,
    "start_time": "2025-05-02T15:29:09.792Z"
   },
   {
    "duration": 6,
    "start_time": "2025-05-02T15:29:09.977Z"
   },
   {
    "duration": 12,
    "start_time": "2025-05-02T15:29:09.985Z"
   },
   {
    "duration": 20,
    "start_time": "2025-05-02T15:29:09.999Z"
   },
   {
    "duration": 12,
    "start_time": "2025-05-02T15:29:10.021Z"
   },
   {
    "duration": 25,
    "start_time": "2025-05-02T15:29:10.035Z"
   },
   {
    "duration": 12,
    "start_time": "2025-05-02T15:29:10.068Z"
   },
   {
    "duration": 6,
    "start_time": "2025-05-02T15:29:10.081Z"
   },
   {
    "duration": 140,
    "start_time": "2025-05-02T15:29:10.088Z"
   },
   {
    "duration": 23,
    "start_time": "2025-05-02T15:29:10.230Z"
   },
   {
    "duration": 134,
    "start_time": "2025-05-02T15:29:10.256Z"
   },
   {
    "duration": 0,
    "start_time": "2025-05-02T15:29:10.391Z"
   },
   {
    "duration": 0,
    "start_time": "2025-05-02T15:29:10.393Z"
   },
   {
    "duration": 0,
    "start_time": "2025-05-02T15:29:10.394Z"
   },
   {
    "duration": 0,
    "start_time": "2025-05-02T15:29:10.395Z"
   },
   {
    "duration": 41,
    "start_time": "2025-05-02T15:29:23.527Z"
   },
   {
    "duration": 60,
    "start_time": "2025-05-02T15:29:45.134Z"
   },
   {
    "duration": 25,
    "start_time": "2025-05-02T15:29:48.111Z"
   },
   {
    "duration": 1170,
    "start_time": "2025-05-02T15:30:00.795Z"
   },
   {
    "duration": 103,
    "start_time": "2025-05-02T15:30:01.968Z"
   },
   {
    "duration": 16,
    "start_time": "2025-05-02T15:30:02.074Z"
   },
   {
    "duration": 40,
    "start_time": "2025-05-02T15:30:02.092Z"
   },
   {
    "duration": 14,
    "start_time": "2025-05-02T15:30:02.134Z"
   },
   {
    "duration": 7,
    "start_time": "2025-05-02T15:30:02.154Z"
   },
   {
    "duration": 53,
    "start_time": "2025-05-02T15:30:02.162Z"
   },
   {
    "duration": 82,
    "start_time": "2025-05-02T15:30:02.216Z"
   },
   {
    "duration": 55,
    "start_time": "2025-05-02T15:30:02.300Z"
   },
   {
    "duration": 9,
    "start_time": "2025-05-02T15:30:02.358Z"
   },
   {
    "duration": 56,
    "start_time": "2025-05-02T15:30:02.369Z"
   },
   {
    "duration": 28,
    "start_time": "2025-05-02T15:30:02.427Z"
   },
   {
    "duration": 57,
    "start_time": "2025-05-02T15:30:02.457Z"
   },
   {
    "duration": 39,
    "start_time": "2025-05-02T15:30:02.517Z"
   },
   {
    "duration": 1638,
    "start_time": "2025-05-02T15:30:02.557Z"
   },
   {
    "duration": 14,
    "start_time": "2025-05-02T15:30:04.198Z"
   },
   {
    "duration": 15,
    "start_time": "2025-05-02T15:30:04.215Z"
   },
   {
    "duration": 19,
    "start_time": "2025-05-02T15:30:04.240Z"
   },
   {
    "duration": 145,
    "start_time": "2025-05-02T15:30:04.261Z"
   },
   {
    "duration": 5,
    "start_time": "2025-05-02T15:30:04.408Z"
   },
   {
    "duration": 39,
    "start_time": "2025-05-02T15:30:04.415Z"
   },
   {
    "duration": 31,
    "start_time": "2025-05-02T15:30:04.456Z"
   },
   {
    "duration": 11,
    "start_time": "2025-05-02T15:30:04.489Z"
   },
   {
    "duration": 13,
    "start_time": "2025-05-02T15:30:04.502Z"
   },
   {
    "duration": 10,
    "start_time": "2025-05-02T15:30:04.517Z"
   },
   {
    "duration": 10,
    "start_time": "2025-05-02T15:30:04.528Z"
   },
   {
    "duration": 126,
    "start_time": "2025-05-02T15:30:04.540Z"
   },
   {
    "duration": 15,
    "start_time": "2025-05-02T15:30:04.668Z"
   },
   {
    "duration": 127,
    "start_time": "2025-05-02T15:30:04.685Z"
   },
   {
    "duration": 0,
    "start_time": "2025-05-02T15:30:04.814Z"
   },
   {
    "duration": 0,
    "start_time": "2025-05-02T15:30:04.815Z"
   },
   {
    "duration": 0,
    "start_time": "2025-05-02T15:30:04.816Z"
   },
   {
    "duration": 0,
    "start_time": "2025-05-02T15:30:04.817Z"
   },
   {
    "duration": 38,
    "start_time": "2025-05-02T15:30:08.516Z"
   },
   {
    "duration": 878,
    "start_time": "2025-05-02T15:31:16.632Z"
   },
   {
    "duration": 18,
    "start_time": "2025-05-02T15:31:26.325Z"
   },
   {
    "duration": 18,
    "start_time": "2025-05-02T15:33:53.347Z"
   },
   {
    "duration": 14,
    "start_time": "2025-05-02T15:35:30.291Z"
   },
   {
    "duration": 9,
    "start_time": "2025-05-02T15:35:31.156Z"
   },
   {
    "duration": 24,
    "start_time": "2025-05-02T15:35:37.421Z"
   },
   {
    "duration": 881,
    "start_time": "2025-05-02T15:35:39.620Z"
   },
   {
    "duration": 17,
    "start_time": "2025-05-02T15:35:44.346Z"
   },
   {
    "duration": 14,
    "start_time": "2025-05-02T15:35:47.799Z"
   },
   {
    "duration": 202,
    "start_time": "2025-05-02T15:49:36.953Z"
   },
   {
    "duration": 131,
    "start_time": "2025-05-02T15:49:47.234Z"
   },
   {
    "duration": 14,
    "start_time": "2025-05-02T15:51:47.511Z"
   },
   {
    "duration": 17,
    "start_time": "2025-05-02T15:52:28.451Z"
   },
   {
    "duration": 66,
    "start_time": "2025-05-02T15:53:16.615Z"
   },
   {
    "duration": 16,
    "start_time": "2025-05-02T15:53:25.663Z"
   },
   {
    "duration": 90,
    "start_time": "2025-05-02T15:53:26.326Z"
   },
   {
    "duration": 10,
    "start_time": "2025-05-02T15:54:51.748Z"
   },
   {
    "duration": 21,
    "start_time": "2025-05-02T15:58:22.168Z"
   },
   {
    "duration": 22,
    "start_time": "2025-05-02T15:58:52.710Z"
   },
   {
    "duration": 23,
    "start_time": "2025-05-02T15:59:43.147Z"
   },
   {
    "duration": 21,
    "start_time": "2025-05-02T15:59:47.902Z"
   },
   {
    "duration": 30,
    "start_time": "2025-05-02T15:59:59.723Z"
   },
   {
    "duration": 5,
    "start_time": "2025-05-02T16:02:00.927Z"
   },
   {
    "duration": 19,
    "start_time": "2025-05-02T16:02:14.813Z"
   },
   {
    "duration": 29,
    "start_time": "2025-05-02T16:02:24.166Z"
   },
   {
    "duration": 1191,
    "start_time": "2025-05-02T16:02:57.116Z"
   },
   {
    "duration": 88,
    "start_time": "2025-05-02T16:02:58.309Z"
   },
   {
    "duration": 13,
    "start_time": "2025-05-02T16:02:58.399Z"
   },
   {
    "duration": 34,
    "start_time": "2025-05-02T16:02:58.413Z"
   },
   {
    "duration": 3,
    "start_time": "2025-05-02T16:02:58.451Z"
   },
   {
    "duration": 18,
    "start_time": "2025-05-02T16:02:58.455Z"
   },
   {
    "duration": 11,
    "start_time": "2025-05-02T16:02:58.475Z"
   },
   {
    "duration": 6,
    "start_time": "2025-05-02T16:02:58.488Z"
   },
   {
    "duration": 19,
    "start_time": "2025-05-02T16:02:58.496Z"
   },
   {
    "duration": 8,
    "start_time": "2025-05-02T16:02:58.516Z"
   },
   {
    "duration": 24,
    "start_time": "2025-05-02T16:02:58.525Z"
   },
   {
    "duration": 7,
    "start_time": "2025-05-02T16:02:58.551Z"
   },
   {
    "duration": 11,
    "start_time": "2025-05-02T16:02:58.559Z"
   },
   {
    "duration": 5,
    "start_time": "2025-05-02T16:02:58.574Z"
   },
   {
    "duration": 1547,
    "start_time": "2025-05-02T16:02:58.581Z"
   },
   {
    "duration": 12,
    "start_time": "2025-05-02T16:03:00.130Z"
   },
   {
    "duration": 18,
    "start_time": "2025-05-02T16:03:00.143Z"
   },
   {
    "duration": 14,
    "start_time": "2025-05-02T16:03:00.162Z"
   },
   {
    "duration": 137,
    "start_time": "2025-05-02T16:03:00.177Z"
   },
   {
    "duration": 5,
    "start_time": "2025-05-02T16:03:00.316Z"
   },
   {
    "duration": 28,
    "start_time": "2025-05-02T16:03:00.322Z"
   },
   {
    "duration": 27,
    "start_time": "2025-05-02T16:03:00.352Z"
   },
   {
    "duration": 26,
    "start_time": "2025-05-02T16:03:00.381Z"
   },
   {
    "duration": 19,
    "start_time": "2025-05-02T16:03:00.409Z"
   },
   {
    "duration": 23,
    "start_time": "2025-05-02T16:03:00.430Z"
   },
   {
    "duration": 16,
    "start_time": "2025-05-02T16:03:00.455Z"
   },
   {
    "duration": 132,
    "start_time": "2025-05-02T16:03:00.472Z"
   },
   {
    "duration": 16,
    "start_time": "2025-05-02T16:03:00.605Z"
   },
   {
    "duration": 34,
    "start_time": "2025-05-02T16:03:00.637Z"
   },
   {
    "duration": 17,
    "start_time": "2025-05-02T16:03:00.673Z"
   },
   {
    "duration": 19,
    "start_time": "2025-05-02T16:03:00.692Z"
   },
   {
    "duration": 8,
    "start_time": "2025-05-02T16:04:43.707Z"
   },
   {
    "duration": 12,
    "start_time": "2025-05-02T16:06:19.262Z"
   },
   {
    "duration": 14,
    "start_time": "2025-05-02T16:06:28.818Z"
   },
   {
    "duration": 89,
    "start_time": "2025-05-02T16:07:27.067Z"
   },
   {
    "duration": 10,
    "start_time": "2025-05-02T16:10:39.889Z"
   },
   {
    "duration": 29,
    "start_time": "2025-05-02T16:11:57.758Z"
   },
   {
    "duration": 62,
    "start_time": "2025-05-02T16:14:56.852Z"
   },
   {
    "duration": 23,
    "start_time": "2025-05-02T16:16:31.769Z"
   },
   {
    "duration": 15,
    "start_time": "2025-05-02T16:17:20.789Z"
   },
   {
    "duration": 18,
    "start_time": "2025-05-02T16:18:21.328Z"
   },
   {
    "duration": 18,
    "start_time": "2025-05-02T16:18:33.048Z"
   },
   {
    "duration": 24,
    "start_time": "2025-05-02T16:18:51.611Z"
   },
   {
    "duration": 19,
    "start_time": "2025-05-02T16:18:58.305Z"
   },
   {
    "duration": 29,
    "start_time": "2025-05-02T16:19:01.470Z"
   },
   {
    "duration": 17,
    "start_time": "2025-05-02T16:19:14.749Z"
   },
   {
    "duration": 27,
    "start_time": "2025-05-02T16:19:18.635Z"
   },
   {
    "duration": 19,
    "start_time": "2025-05-02T16:19:53.154Z"
   },
   {
    "duration": 49,
    "start_time": "2025-05-02T16:22:13.813Z"
   },
   {
    "duration": 41,
    "start_time": "2025-05-02T16:22:27.720Z"
   },
   {
    "duration": 51,
    "start_time": "2025-05-02T16:23:46.549Z"
   },
   {
    "duration": 3,
    "start_time": "2025-05-02T16:44:14.195Z"
   },
   {
    "duration": 7,
    "start_time": "2025-05-02T16:47:32.838Z"
   },
   {
    "duration": 7,
    "start_time": "2025-05-02T16:48:14.663Z"
   },
   {
    "duration": 14,
    "start_time": "2025-05-02T16:56:37.493Z"
   },
   {
    "duration": 24,
    "start_time": "2025-05-02T16:57:31.586Z"
   },
   {
    "duration": 17,
    "start_time": "2025-05-02T16:57:33.870Z"
   },
   {
    "duration": 7,
    "start_time": "2025-05-02T17:03:18.617Z"
   },
   {
    "duration": 841,
    "start_time": "2025-05-02T17:31:28.935Z"
   },
   {
    "duration": 86,
    "start_time": "2025-05-02T17:31:29.778Z"
   },
   {
    "duration": 15,
    "start_time": "2025-05-02T17:31:29.866Z"
   },
   {
    "duration": 12,
    "start_time": "2025-05-02T17:31:29.884Z"
   },
   {
    "duration": 2,
    "start_time": "2025-05-02T17:31:29.898Z"
   },
   {
    "duration": 8,
    "start_time": "2025-05-02T17:31:29.902Z"
   },
   {
    "duration": 5,
    "start_time": "2025-05-02T17:31:29.911Z"
   },
   {
    "duration": 11,
    "start_time": "2025-05-02T17:31:29.917Z"
   },
   {
    "duration": 11,
    "start_time": "2025-05-02T17:31:29.935Z"
   },
   {
    "duration": 8,
    "start_time": "2025-05-02T17:31:29.949Z"
   },
   {
    "duration": 10,
    "start_time": "2025-05-02T17:31:29.958Z"
   },
   {
    "duration": 6,
    "start_time": "2025-05-02T17:31:29.970Z"
   },
   {
    "duration": 9,
    "start_time": "2025-05-02T17:31:29.978Z"
   },
   {
    "duration": 6,
    "start_time": "2025-05-02T17:31:29.989Z"
   },
   {
    "duration": 1624,
    "start_time": "2025-05-02T17:31:30.036Z"
   },
   {
    "duration": 8,
    "start_time": "2025-05-02T17:31:31.661Z"
   },
   {
    "duration": 33,
    "start_time": "2025-05-02T17:31:31.670Z"
   },
   {
    "duration": 9,
    "start_time": "2025-05-02T17:31:31.704Z"
   },
   {
    "duration": 110,
    "start_time": "2025-05-02T17:31:31.715Z"
   },
   {
    "duration": 10,
    "start_time": "2025-05-02T17:31:31.827Z"
   },
   {
    "duration": 53,
    "start_time": "2025-05-02T17:31:31.839Z"
   },
   {
    "duration": 28,
    "start_time": "2025-05-02T17:31:31.894Z"
   },
   {
    "duration": 12,
    "start_time": "2025-05-02T17:31:31.923Z"
   },
   {
    "duration": 16,
    "start_time": "2025-05-02T17:31:31.937Z"
   },
   {
    "duration": 7,
    "start_time": "2025-05-02T17:31:31.955Z"
   },
   {
    "duration": 4,
    "start_time": "2025-05-02T17:31:31.964Z"
   },
   {
    "duration": 120,
    "start_time": "2025-05-02T17:31:31.970Z"
   },
   {
    "duration": 14,
    "start_time": "2025-05-02T17:31:32.093Z"
   },
   {
    "duration": 78,
    "start_time": "2025-05-02T17:31:32.109Z"
   },
   {
    "duration": 46,
    "start_time": "2025-05-02T17:31:32.189Z"
   },
   {
    "duration": 16,
    "start_time": "2025-05-02T17:31:32.237Z"
   },
   {
    "duration": 9,
    "start_time": "2025-05-02T17:31:32.254Z"
   },
   {
    "duration": 29,
    "start_time": "2025-05-02T17:31:32.265Z"
   },
   {
    "duration": 66,
    "start_time": "2025-05-02T17:31:32.296Z"
   },
   {
    "duration": 3,
    "start_time": "2025-05-02T17:31:32.363Z"
   },
   {
    "duration": 23,
    "start_time": "2025-05-02T17:31:32.367Z"
   },
   {
    "duration": 898,
    "start_time": "2025-05-02T17:37:18.597Z"
   },
   {
    "duration": 96,
    "start_time": "2025-05-02T17:37:19.497Z"
   },
   {
    "duration": 23,
    "start_time": "2025-05-02T17:37:19.595Z"
   },
   {
    "duration": 19,
    "start_time": "2025-05-02T17:37:19.621Z"
   },
   {
    "duration": 4,
    "start_time": "2025-05-02T17:37:19.642Z"
   },
   {
    "duration": 7,
    "start_time": "2025-05-02T17:37:19.648Z"
   },
   {
    "duration": 6,
    "start_time": "2025-05-02T17:37:19.657Z"
   },
   {
    "duration": 6,
    "start_time": "2025-05-02T17:37:19.665Z"
   },
   {
    "duration": 17,
    "start_time": "2025-05-02T17:37:19.674Z"
   },
   {
    "duration": 48,
    "start_time": "2025-05-02T17:37:19.695Z"
   },
   {
    "duration": 15,
    "start_time": "2025-05-02T17:37:19.745Z"
   },
   {
    "duration": 7,
    "start_time": "2025-05-02T17:37:19.762Z"
   },
   {
    "duration": 11,
    "start_time": "2025-05-02T17:37:19.771Z"
   },
   {
    "duration": 7,
    "start_time": "2025-05-02T17:37:19.785Z"
   },
   {
    "duration": 1613,
    "start_time": "2025-05-02T17:37:19.793Z"
   },
   {
    "duration": 9,
    "start_time": "2025-05-02T17:37:21.408Z"
   },
   {
    "duration": 30,
    "start_time": "2025-05-02T17:37:21.419Z"
   },
   {
    "duration": 9,
    "start_time": "2025-05-02T17:37:21.451Z"
   },
   {
    "duration": 163,
    "start_time": "2025-05-02T17:37:21.463Z"
   },
   {
    "duration": 7,
    "start_time": "2025-05-02T17:37:21.635Z"
   },
   {
    "duration": 7,
    "start_time": "2025-05-02T17:37:21.644Z"
   },
   {
    "duration": 29,
    "start_time": "2025-05-02T17:37:21.653Z"
   },
   {
    "duration": 39,
    "start_time": "2025-05-02T17:37:21.684Z"
   },
   {
    "duration": 16,
    "start_time": "2025-05-02T17:37:21.726Z"
   },
   {
    "duration": 13,
    "start_time": "2025-05-02T17:37:21.744Z"
   },
   {
    "duration": 7,
    "start_time": "2025-05-02T17:37:21.759Z"
   },
   {
    "duration": 129,
    "start_time": "2025-05-02T17:37:21.768Z"
   },
   {
    "duration": 37,
    "start_time": "2025-05-02T17:37:21.900Z"
   },
   {
    "duration": 28,
    "start_time": "2025-05-02T17:37:21.939Z"
   },
   {
    "duration": 106,
    "start_time": "2025-05-02T17:37:21.969Z"
   },
   {
    "duration": 27,
    "start_time": "2025-05-02T17:37:22.078Z"
   },
   {
    "duration": 10,
    "start_time": "2025-05-02T17:37:22.107Z"
   },
   {
    "duration": 33,
    "start_time": "2025-05-02T17:37:22.119Z"
   },
   {
    "duration": 42,
    "start_time": "2025-05-02T17:37:22.154Z"
   },
   {
    "duration": 3,
    "start_time": "2025-05-02T17:37:22.198Z"
   },
   {
    "duration": 37,
    "start_time": "2025-05-02T17:37:22.203Z"
   },
   {
    "duration": 909,
    "start_time": "2025-05-02T17:40:14.142Z"
   },
   {
    "duration": 79,
    "start_time": "2025-05-02T17:40:15.054Z"
   },
   {
    "duration": 28,
    "start_time": "2025-05-02T17:40:15.135Z"
   },
   {
    "duration": 14,
    "start_time": "2025-05-02T17:40:15.165Z"
   },
   {
    "duration": 71,
    "start_time": "2025-05-02T17:40:15.182Z"
   },
   {
    "duration": 20,
    "start_time": "2025-05-02T17:40:15.255Z"
   },
   {
    "duration": 16,
    "start_time": "2025-05-02T17:40:15.277Z"
   },
   {
    "duration": 7,
    "start_time": "2025-05-02T17:40:15.295Z"
   },
   {
    "duration": 11,
    "start_time": "2025-05-02T17:40:15.304Z"
   },
   {
    "duration": 8,
    "start_time": "2025-05-02T17:40:15.317Z"
   },
   {
    "duration": 22,
    "start_time": "2025-05-02T17:40:15.326Z"
   },
   {
    "duration": 7,
    "start_time": "2025-05-02T17:40:15.349Z"
   },
   {
    "duration": 10,
    "start_time": "2025-05-02T17:40:15.357Z"
   },
   {
    "duration": 12,
    "start_time": "2025-05-02T17:40:15.369Z"
   },
   {
    "duration": 1581,
    "start_time": "2025-05-02T17:40:15.383Z"
   },
   {
    "duration": 8,
    "start_time": "2025-05-02T17:40:16.966Z"
   },
   {
    "duration": 17,
    "start_time": "2025-05-02T17:40:16.976Z"
   },
   {
    "duration": 9,
    "start_time": "2025-05-02T17:40:16.994Z"
   },
   {
    "duration": 156,
    "start_time": "2025-05-02T17:40:17.004Z"
   },
   {
    "duration": 5,
    "start_time": "2025-05-02T17:40:17.162Z"
   },
   {
    "duration": 8,
    "start_time": "2025-05-02T17:40:17.168Z"
   },
   {
    "duration": 6,
    "start_time": "2025-05-02T17:40:17.178Z"
   },
   {
    "duration": 10,
    "start_time": "2025-05-02T17:40:17.186Z"
   },
   {
    "duration": 53,
    "start_time": "2025-05-02T17:40:17.197Z"
   },
   {
    "duration": 10,
    "start_time": "2025-05-02T17:40:17.252Z"
   },
   {
    "duration": 6,
    "start_time": "2025-05-02T17:40:17.263Z"
   },
   {
    "duration": 119,
    "start_time": "2025-05-02T17:40:17.271Z"
   },
   {
    "duration": 15,
    "start_time": "2025-05-02T17:40:17.392Z"
   },
   {
    "duration": 37,
    "start_time": "2025-05-02T17:40:17.409Z"
   },
   {
    "duration": 20,
    "start_time": "2025-05-02T17:40:17.448Z"
   },
   {
    "duration": 17,
    "start_time": "2025-05-02T17:40:17.470Z"
   },
   {
    "duration": 9,
    "start_time": "2025-05-02T17:40:17.489Z"
   },
   {
    "duration": 56,
    "start_time": "2025-05-02T17:40:17.500Z"
   },
   {
    "duration": 34,
    "start_time": "2025-05-02T17:40:17.558Z"
   },
   {
    "duration": 3,
    "start_time": "2025-05-02T17:40:17.593Z"
   },
   {
    "duration": 6,
    "start_time": "2025-05-02T17:40:17.598Z"
   },
   {
    "duration": 47,
    "start_time": "2025-05-02T17:43:01.777Z"
   },
   {
    "duration": 983,
    "start_time": "2025-05-02T17:43:09.819Z"
   },
   {
    "duration": 105,
    "start_time": "2025-05-02T17:43:10.804Z"
   },
   {
    "duration": 14,
    "start_time": "2025-05-02T17:43:10.911Z"
   },
   {
    "duration": 22,
    "start_time": "2025-05-02T17:43:10.927Z"
   },
   {
    "duration": 5,
    "start_time": "2025-05-02T17:43:10.955Z"
   },
   {
    "duration": 9,
    "start_time": "2025-05-02T17:43:10.965Z"
   },
   {
    "duration": 16,
    "start_time": "2025-05-02T17:43:10.976Z"
   },
   {
    "duration": 9,
    "start_time": "2025-05-02T17:43:10.994Z"
   },
   {
    "duration": 12,
    "start_time": "2025-05-02T17:43:11.005Z"
   },
   {
    "duration": 28,
    "start_time": "2025-05-02T17:43:11.019Z"
   },
   {
    "duration": 18,
    "start_time": "2025-05-02T17:43:11.048Z"
   },
   {
    "duration": 8,
    "start_time": "2025-05-02T17:43:11.069Z"
   },
   {
    "duration": 12,
    "start_time": "2025-05-02T17:43:11.079Z"
   },
   {
    "duration": 76,
    "start_time": "2025-05-02T17:43:11.094Z"
   },
   {
    "duration": 1884,
    "start_time": "2025-05-02T17:43:11.172Z"
   },
   {
    "duration": 14,
    "start_time": "2025-05-02T17:43:13.067Z"
   },
   {
    "duration": 88,
    "start_time": "2025-05-02T17:43:13.083Z"
   },
   {
    "duration": 10,
    "start_time": "2025-05-02T17:43:13.173Z"
   },
   {
    "duration": 218,
    "start_time": "2025-05-02T17:43:13.185Z"
   },
   {
    "duration": 5,
    "start_time": "2025-05-02T17:43:13.404Z"
   },
   {
    "duration": 6,
    "start_time": "2025-05-02T17:43:13.410Z"
   },
   {
    "duration": 6,
    "start_time": "2025-05-02T17:43:13.418Z"
   },
   {
    "duration": 22,
    "start_time": "2025-05-02T17:43:13.426Z"
   },
   {
    "duration": 30,
    "start_time": "2025-05-02T17:43:13.450Z"
   },
   {
    "duration": 10,
    "start_time": "2025-05-02T17:43:13.481Z"
   },
   {
    "duration": 5,
    "start_time": "2025-05-02T17:43:13.493Z"
   },
   {
    "duration": 157,
    "start_time": "2025-05-02T17:43:13.499Z"
   },
   {
    "duration": 18,
    "start_time": "2025-05-02T17:43:13.661Z"
   },
   {
    "duration": 26,
    "start_time": "2025-05-02T17:43:13.681Z"
   },
   {
    "duration": 34,
    "start_time": "2025-05-02T17:43:13.709Z"
   },
   {
    "duration": 27,
    "start_time": "2025-05-02T17:43:13.745Z"
   },
   {
    "duration": 11,
    "start_time": "2025-05-02T17:43:13.774Z"
   },
   {
    "duration": 50,
    "start_time": "2025-05-02T17:43:13.787Z"
   },
   {
    "duration": 62,
    "start_time": "2025-05-02T17:43:13.840Z"
   },
   {
    "duration": 9,
    "start_time": "2025-05-02T17:43:13.904Z"
   },
   {
    "duration": 30,
    "start_time": "2025-05-02T17:43:13.914Z"
   },
   {
    "duration": 890,
    "start_time": "2025-05-02T17:46:24.677Z"
   },
   {
    "duration": 97,
    "start_time": "2025-05-02T17:46:25.572Z"
   },
   {
    "duration": 19,
    "start_time": "2025-05-02T17:46:25.676Z"
   },
   {
    "duration": 13,
    "start_time": "2025-05-02T17:46:25.697Z"
   },
   {
    "duration": 4,
    "start_time": "2025-05-02T17:46:25.712Z"
   },
   {
    "duration": 9,
    "start_time": "2025-05-02T17:46:25.717Z"
   },
   {
    "duration": 11,
    "start_time": "2025-05-02T17:46:25.728Z"
   },
   {
    "duration": 5,
    "start_time": "2025-05-02T17:46:25.743Z"
   },
   {
    "duration": 20,
    "start_time": "2025-05-02T17:46:25.750Z"
   },
   {
    "duration": 12,
    "start_time": "2025-05-02T17:46:25.772Z"
   },
   {
    "duration": 16,
    "start_time": "2025-05-02T17:46:25.786Z"
   },
   {
    "duration": 37,
    "start_time": "2025-05-02T17:46:25.805Z"
   },
   {
    "duration": 16,
    "start_time": "2025-05-02T17:46:25.846Z"
   },
   {
    "duration": 48,
    "start_time": "2025-05-02T17:46:25.866Z"
   },
   {
    "duration": 1759,
    "start_time": "2025-05-02T17:46:25.916Z"
   },
   {
    "duration": 8,
    "start_time": "2025-05-02T17:46:27.678Z"
   },
   {
    "duration": 22,
    "start_time": "2025-05-02T17:46:27.688Z"
   },
   {
    "duration": 11,
    "start_time": "2025-05-02T17:46:27.712Z"
   },
   {
    "duration": 155,
    "start_time": "2025-05-02T17:46:27.740Z"
   },
   {
    "duration": 6,
    "start_time": "2025-05-02T17:46:27.897Z"
   },
   {
    "duration": 5,
    "start_time": "2025-05-02T17:46:27.905Z"
   },
   {
    "duration": 27,
    "start_time": "2025-05-02T17:46:27.912Z"
   },
   {
    "duration": 23,
    "start_time": "2025-05-02T17:46:27.944Z"
   },
   {
    "duration": 23,
    "start_time": "2025-05-02T17:46:27.969Z"
   },
   {
    "duration": 23,
    "start_time": "2025-05-02T17:46:27.994Z"
   },
   {
    "duration": 6,
    "start_time": "2025-05-02T17:46:28.019Z"
   },
   {
    "duration": 146,
    "start_time": "2025-05-02T17:46:28.026Z"
   },
   {
    "duration": 16,
    "start_time": "2025-05-02T17:46:28.174Z"
   },
   {
    "duration": 93,
    "start_time": "2025-05-02T17:46:28.191Z"
   },
   {
    "duration": 24,
    "start_time": "2025-05-02T17:46:28.286Z"
   },
   {
    "duration": 28,
    "start_time": "2025-05-02T17:46:28.313Z"
   },
   {
    "duration": 13,
    "start_time": "2025-05-02T17:46:28.352Z"
   },
   {
    "duration": 33,
    "start_time": "2025-05-02T17:46:28.367Z"
   },
   {
    "duration": 77,
    "start_time": "2025-05-02T17:46:28.402Z"
   },
   {
    "duration": 3,
    "start_time": "2025-05-02T17:46:28.481Z"
   },
   {
    "duration": 8,
    "start_time": "2025-05-02T17:46:28.486Z"
   },
   {
    "duration": 96,
    "start_time": "2025-05-04T07:21:03.920Z"
   },
   {
    "duration": 860,
    "start_time": "2025-05-04T07:33:49.279Z"
   },
   {
    "duration": 155,
    "start_time": "2025-05-04T07:33:50.141Z"
   },
   {
    "duration": 14,
    "start_time": "2025-05-04T07:33:50.297Z"
   },
   {
    "duration": 31,
    "start_time": "2025-05-04T07:33:50.313Z"
   },
   {
    "duration": 11,
    "start_time": "2025-05-04T07:33:50.346Z"
   },
   {
    "duration": 18,
    "start_time": "2025-05-04T07:33:50.359Z"
   },
   {
    "duration": 5,
    "start_time": "2025-05-04T07:33:50.379Z"
   },
   {
    "duration": 10,
    "start_time": "2025-05-04T07:33:50.386Z"
   },
   {
    "duration": 18,
    "start_time": "2025-05-04T07:33:50.398Z"
   },
   {
    "duration": 8,
    "start_time": "2025-05-04T07:33:50.420Z"
   },
   {
    "duration": 15,
    "start_time": "2025-05-04T07:33:50.429Z"
   },
   {
    "duration": 12,
    "start_time": "2025-05-04T07:33:50.446Z"
   },
   {
    "duration": 18,
    "start_time": "2025-05-04T07:33:50.461Z"
   },
   {
    "duration": 92,
    "start_time": "2025-05-04T07:33:50.481Z"
   },
   {
    "duration": 0,
    "start_time": "2025-05-04T07:33:50.578Z"
   },
   {
    "duration": 0,
    "start_time": "2025-05-04T07:33:50.579Z"
   },
   {
    "duration": 0,
    "start_time": "2025-05-04T07:33:50.580Z"
   },
   {
    "duration": 0,
    "start_time": "2025-05-04T07:33:50.581Z"
   },
   {
    "duration": 0,
    "start_time": "2025-05-04T07:33:50.584Z"
   },
   {
    "duration": 0,
    "start_time": "2025-05-04T07:33:50.585Z"
   },
   {
    "duration": 0,
    "start_time": "2025-05-04T07:33:50.586Z"
   },
   {
    "duration": 0,
    "start_time": "2025-05-04T07:33:50.588Z"
   },
   {
    "duration": 0,
    "start_time": "2025-05-04T07:33:50.589Z"
   },
   {
    "duration": 0,
    "start_time": "2025-05-04T07:33:50.590Z"
   },
   {
    "duration": 0,
    "start_time": "2025-05-04T07:33:50.592Z"
   },
   {
    "duration": 0,
    "start_time": "2025-05-04T07:33:50.593Z"
   },
   {
    "duration": 0,
    "start_time": "2025-05-04T07:33:50.594Z"
   },
   {
    "duration": 0,
    "start_time": "2025-05-04T07:33:50.596Z"
   },
   {
    "duration": 0,
    "start_time": "2025-05-04T07:33:50.597Z"
   },
   {
    "duration": 0,
    "start_time": "2025-05-04T07:33:50.599Z"
   },
   {
    "duration": 0,
    "start_time": "2025-05-04T07:33:50.600Z"
   },
   {
    "duration": 0,
    "start_time": "2025-05-04T07:33:50.602Z"
   },
   {
    "duration": 0,
    "start_time": "2025-05-04T07:33:50.603Z"
   },
   {
    "duration": 0,
    "start_time": "2025-05-04T07:33:50.604Z"
   },
   {
    "duration": 0,
    "start_time": "2025-05-04T07:33:50.606Z"
   },
   {
    "duration": 0,
    "start_time": "2025-05-04T07:33:50.608Z"
   },
   {
    "duration": 0,
    "start_time": "2025-05-04T07:33:50.609Z"
   },
   {
    "duration": 0,
    "start_time": "2025-05-04T07:33:50.611Z"
   },
   {
    "duration": 0,
    "start_time": "2025-05-04T07:33:50.612Z"
   },
   {
    "duration": 0,
    "start_time": "2025-05-04T07:33:50.612Z"
   },
   {
    "duration": 0,
    "start_time": "2025-05-04T07:33:50.614Z"
   },
   {
    "duration": 489,
    "start_time": "2025-05-04T07:35:15.127Z"
   },
   {
    "duration": 192,
    "start_time": "2025-05-04T07:35:21.023Z"
   },
   {
    "duration": 199,
    "start_time": "2025-05-04T07:36:00.021Z"
   },
   {
    "duration": 154,
    "start_time": "2025-05-04T07:36:05.334Z"
   },
   {
    "duration": 156,
    "start_time": "2025-05-04T07:36:33.915Z"
   },
   {
    "duration": 179,
    "start_time": "2025-05-04T07:36:44.155Z"
   },
   {
    "duration": 164,
    "start_time": "2025-05-04T07:37:19.887Z"
   },
   {
    "duration": 161,
    "start_time": "2025-05-04T07:37:44.434Z"
   },
   {
    "duration": 163,
    "start_time": "2025-05-04T07:42:44.769Z"
   },
   {
    "duration": 234,
    "start_time": "2025-05-04T07:44:29.512Z"
   },
   {
    "duration": 175,
    "start_time": "2025-05-04T07:47:33.950Z"
   },
   {
    "duration": 150,
    "start_time": "2025-05-04T07:47:45.879Z"
   },
   {
    "duration": 141,
    "start_time": "2025-05-04T07:49:36.569Z"
   },
   {
    "duration": 167,
    "start_time": "2025-05-04T07:50:42.426Z"
   },
   {
    "duration": 157,
    "start_time": "2025-05-04T07:51:57.540Z"
   },
   {
    "duration": 9,
    "start_time": "2025-05-04T07:54:03.474Z"
   },
   {
    "duration": 9,
    "start_time": "2025-05-04T07:56:29.978Z"
   },
   {
    "duration": 9,
    "start_time": "2025-05-04T07:56:41.967Z"
   },
   {
    "duration": 8,
    "start_time": "2025-05-04T07:56:49.301Z"
   },
   {
    "duration": 9,
    "start_time": "2025-05-04T07:56:58.965Z"
   },
   {
    "duration": 10,
    "start_time": "2025-05-04T07:57:24.474Z"
   },
   {
    "duration": 6,
    "start_time": "2025-05-04T08:08:57.005Z"
   },
   {
    "duration": 5,
    "start_time": "2025-05-04T08:10:01.018Z"
   },
   {
    "duration": 7,
    "start_time": "2025-05-04T08:10:06.558Z"
   },
   {
    "duration": 83,
    "start_time": "2025-05-04T08:10:56.566Z"
   },
   {
    "duration": 1109,
    "start_time": "2025-05-04T08:12:27.693Z"
   },
   {
    "duration": 113,
    "start_time": "2025-05-04T08:12:28.804Z"
   },
   {
    "duration": 11,
    "start_time": "2025-05-04T08:12:28.918Z"
   },
   {
    "duration": 14,
    "start_time": "2025-05-04T08:12:28.930Z"
   },
   {
    "duration": 3,
    "start_time": "2025-05-04T08:12:28.947Z"
   },
   {
    "duration": 9,
    "start_time": "2025-05-04T08:12:28.951Z"
   },
   {
    "duration": 5,
    "start_time": "2025-05-04T08:12:28.962Z"
   },
   {
    "duration": 5,
    "start_time": "2025-05-04T08:12:28.968Z"
   },
   {
    "duration": 19,
    "start_time": "2025-05-04T08:12:28.974Z"
   },
   {
    "duration": 7,
    "start_time": "2025-05-04T08:12:28.995Z"
   },
   {
    "duration": 11,
    "start_time": "2025-05-04T08:12:29.004Z"
   },
   {
    "duration": 5,
    "start_time": "2025-05-04T08:12:29.016Z"
   },
   {
    "duration": 192,
    "start_time": "2025-05-04T08:12:29.023Z"
   },
   {
    "duration": 178,
    "start_time": "2025-05-04T08:12:29.218Z"
   },
   {
    "duration": 158,
    "start_time": "2025-05-04T08:12:29.397Z"
   },
   {
    "duration": 149,
    "start_time": "2025-05-04T08:12:29.557Z"
   },
   {
    "duration": 158,
    "start_time": "2025-05-04T08:12:29.707Z"
   },
   {
    "duration": 168,
    "start_time": "2025-05-04T08:12:29.867Z"
   },
   {
    "duration": 26,
    "start_time": "2025-05-04T08:12:30.037Z"
   },
   {
    "duration": 6,
    "start_time": "2025-05-04T08:12:30.065Z"
   },
   {
    "duration": 1713,
    "start_time": "2025-05-04T08:12:30.073Z"
   },
   {
    "duration": 7,
    "start_time": "2025-05-04T08:12:31.788Z"
   },
   {
    "duration": 12,
    "start_time": "2025-05-04T08:12:31.797Z"
   },
   {
    "duration": 15,
    "start_time": "2025-05-04T08:12:31.811Z"
   },
   {
    "duration": 124,
    "start_time": "2025-05-04T08:12:31.827Z"
   },
   {
    "duration": 10,
    "start_time": "2025-05-04T08:12:31.952Z"
   },
   {
    "duration": 4,
    "start_time": "2025-05-04T08:12:31.964Z"
   },
   {
    "duration": 19,
    "start_time": "2025-05-04T08:12:31.970Z"
   },
   {
    "duration": 20,
    "start_time": "2025-05-04T08:12:31.990Z"
   },
   {
    "duration": 10,
    "start_time": "2025-05-04T08:12:32.011Z"
   },
   {
    "duration": 9,
    "start_time": "2025-05-04T08:12:32.022Z"
   },
   {
    "duration": 5,
    "start_time": "2025-05-04T08:12:32.033Z"
   },
   {
    "duration": 113,
    "start_time": "2025-05-04T08:12:32.040Z"
   },
   {
    "duration": 18,
    "start_time": "2025-05-04T08:12:32.155Z"
   },
   {
    "duration": 31,
    "start_time": "2025-05-04T08:12:32.175Z"
   },
   {
    "duration": 16,
    "start_time": "2025-05-04T08:12:32.208Z"
   },
   {
    "duration": 39,
    "start_time": "2025-05-04T08:12:32.226Z"
   },
   {
    "duration": 10,
    "start_time": "2025-05-04T08:12:32.267Z"
   },
   {
    "duration": 31,
    "start_time": "2025-05-04T08:12:32.279Z"
   },
   {
    "duration": 56,
    "start_time": "2025-05-04T08:12:32.312Z"
   },
   {
    "duration": 2,
    "start_time": "2025-05-04T08:12:32.373Z"
   },
   {
    "duration": 23,
    "start_time": "2025-05-04T08:12:32.377Z"
   },
   {
    "duration": 7,
    "start_time": "2025-05-04T08:12:32.401Z"
   },
   {
    "duration": 4,
    "start_time": "2025-05-04T08:12:32.410Z"
   },
   {
    "duration": 4,
    "start_time": "2025-05-04T08:12:32.416Z"
   },
   {
    "duration": 286,
    "start_time": "2025-05-04T08:15:13.070Z"
   },
   {
    "duration": 286,
    "start_time": "2025-05-04T08:16:16.767Z"
   },
   {
    "duration": 288,
    "start_time": "2025-05-04T08:16:19.478Z"
   },
   {
    "duration": 82,
    "start_time": "2025-05-04T08:16:25.261Z"
   },
   {
    "duration": 99,
    "start_time": "2025-05-04T08:16:44.216Z"
   },
   {
    "duration": 9,
    "start_time": "2025-05-04T08:17:08.677Z"
   },
   {
    "duration": 315,
    "start_time": "2025-05-04T08:17:30.105Z"
   },
   {
    "duration": 311,
    "start_time": "2025-05-04T08:17:45.203Z"
   },
   {
    "duration": 123,
    "start_time": "2025-05-04T08:19:06.570Z"
   },
   {
    "duration": 85,
    "start_time": "2025-05-04T08:19:25.032Z"
   },
   {
    "duration": 5,
    "start_time": "2025-05-04T08:25:54.372Z"
   },
   {
    "duration": 12,
    "start_time": "2025-05-04T08:29:04.141Z"
   },
   {
    "duration": 9,
    "start_time": "2025-05-04T08:29:27.378Z"
   },
   {
    "duration": 85,
    "start_time": "2025-05-04T08:30:59.161Z"
   },
   {
    "duration": 11,
    "start_time": "2025-05-04T08:31:13.082Z"
   },
   {
    "duration": 10,
    "start_time": "2025-05-04T08:31:51.234Z"
   },
   {
    "duration": 10,
    "start_time": "2025-05-04T08:31:57.524Z"
   },
   {
    "duration": 10,
    "start_time": "2025-05-04T08:33:16.906Z"
   },
   {
    "duration": 15,
    "start_time": "2025-05-04T08:33:45.839Z"
   },
   {
    "duration": 15,
    "start_time": "2025-05-04T08:33:53.397Z"
   },
   {
    "duration": 120,
    "start_time": "2025-05-04T08:34:01.779Z"
   },
   {
    "duration": 9,
    "start_time": "2025-05-04T08:34:04.808Z"
   },
   {
    "duration": 83,
    "start_time": "2025-05-04T08:35:13.501Z"
   },
   {
    "duration": 11,
    "start_time": "2025-05-04T08:35:41.213Z"
   },
   {
    "duration": 5,
    "start_time": "2025-05-04T08:36:05.857Z"
   },
   {
    "duration": 10,
    "start_time": "2025-05-04T08:36:44.734Z"
   },
   {
    "duration": 1105,
    "start_time": "2025-05-04T08:37:41.217Z"
   },
   {
    "duration": 160,
    "start_time": "2025-05-04T08:37:42.324Z"
   },
   {
    "duration": 13,
    "start_time": "2025-05-04T08:37:42.486Z"
   },
   {
    "duration": 12,
    "start_time": "2025-05-04T08:37:42.500Z"
   },
   {
    "duration": 8,
    "start_time": "2025-05-04T08:37:42.515Z"
   },
   {
    "duration": 7,
    "start_time": "2025-05-04T08:37:42.525Z"
   },
   {
    "duration": 7,
    "start_time": "2025-05-04T08:37:42.534Z"
   },
   {
    "duration": 20,
    "start_time": "2025-05-04T08:37:42.543Z"
   },
   {
    "duration": 12,
    "start_time": "2025-05-04T08:37:42.565Z"
   },
   {
    "duration": 71,
    "start_time": "2025-05-04T08:37:42.579Z"
   },
   {
    "duration": 15,
    "start_time": "2025-05-04T08:37:42.652Z"
   },
   {
    "duration": 13,
    "start_time": "2025-05-04T08:37:42.668Z"
   },
   {
    "duration": 164,
    "start_time": "2025-05-04T08:37:42.682Z"
   },
   {
    "duration": 171,
    "start_time": "2025-05-04T08:37:42.849Z"
   },
   {
    "duration": 155,
    "start_time": "2025-05-04T08:37:43.021Z"
   },
   {
    "duration": 155,
    "start_time": "2025-05-04T08:37:43.177Z"
   },
   {
    "duration": 153,
    "start_time": "2025-05-04T08:37:43.333Z"
   },
   {
    "duration": 160,
    "start_time": "2025-05-04T08:37:43.488Z"
   },
   {
    "duration": 16,
    "start_time": "2025-05-04T08:37:43.649Z"
   },
   {
    "duration": 5,
    "start_time": "2025-05-04T08:37:43.667Z"
   },
   {
    "duration": 1494,
    "start_time": "2025-05-04T08:37:43.673Z"
   },
   {
    "duration": 8,
    "start_time": "2025-05-04T08:37:45.169Z"
   },
   {
    "duration": 46,
    "start_time": "2025-05-04T08:37:45.179Z"
   },
   {
    "duration": 29,
    "start_time": "2025-05-04T08:37:45.227Z"
   },
   {
    "duration": 34,
    "start_time": "2025-05-04T08:37:45.257Z"
   },
   {
    "duration": 60,
    "start_time": "2025-05-04T08:37:45.293Z"
   },
   {
    "duration": 39,
    "start_time": "2025-05-04T08:37:45.354Z"
   },
   {
    "duration": 14,
    "start_time": "2025-05-04T08:37:45.394Z"
   },
   {
    "duration": 123,
    "start_time": "2025-05-04T08:37:45.410Z"
   },
   {
    "duration": 293,
    "start_time": "2025-05-04T08:37:45.534Z"
   },
   {
    "duration": 314,
    "start_time": "2025-05-04T08:37:45.829Z"
   },
   {
    "duration": 312,
    "start_time": "2025-05-04T08:37:46.145Z"
   },
   {
    "duration": 4,
    "start_time": "2025-05-04T08:37:46.463Z"
   },
   {
    "duration": 7,
    "start_time": "2025-05-04T08:37:46.469Z"
   },
   {
    "duration": 8,
    "start_time": "2025-05-04T08:37:46.477Z"
   },
   {
    "duration": 14,
    "start_time": "2025-05-04T08:37:46.486Z"
   },
   {
    "duration": 10,
    "start_time": "2025-05-04T08:37:46.501Z"
   },
   {
    "duration": 33,
    "start_time": "2025-05-04T08:37:46.513Z"
   },
   {
    "duration": 5,
    "start_time": "2025-05-04T08:37:46.547Z"
   },
   {
    "duration": 97,
    "start_time": "2025-05-04T08:37:46.554Z"
   },
   {
    "duration": 20,
    "start_time": "2025-05-04T08:37:46.655Z"
   },
   {
    "duration": 24,
    "start_time": "2025-05-04T08:37:46.677Z"
   },
   {
    "duration": 16,
    "start_time": "2025-05-04T08:37:46.703Z"
   },
   {
    "duration": 41,
    "start_time": "2025-05-04T08:37:46.721Z"
   },
   {
    "duration": 11,
    "start_time": "2025-05-04T08:37:46.764Z"
   },
   {
    "duration": 27,
    "start_time": "2025-05-04T08:37:46.776Z"
   },
   {
    "duration": 31,
    "start_time": "2025-05-04T08:37:46.805Z"
   },
   {
    "duration": 3,
    "start_time": "2025-05-04T08:37:46.862Z"
   },
   {
    "duration": 13,
    "start_time": "2025-05-04T08:37:46.866Z"
   },
   {
    "duration": 7,
    "start_time": "2025-05-04T08:37:46.880Z"
   },
   {
    "duration": 5,
    "start_time": "2025-05-04T08:37:46.888Z"
   },
   {
    "duration": 20,
    "start_time": "2025-05-04T08:37:46.895Z"
   },
   {
    "duration": 17,
    "start_time": "2025-05-04T08:42:48.610Z"
   },
   {
    "duration": 90,
    "start_time": "2025-05-04T08:44:45.661Z"
   },
   {
    "duration": 79,
    "start_time": "2025-05-04T08:45:04.598Z"
   },
   {
    "duration": 81,
    "start_time": "2025-05-04T08:46:27.204Z"
   },
   {
    "duration": 24,
    "start_time": "2025-05-04T08:50:48.333Z"
   },
   {
    "duration": 25,
    "start_time": "2025-05-04T08:53:47.335Z"
   },
   {
    "duration": 6,
    "start_time": "2025-05-04T08:54:23.620Z"
   },
   {
    "duration": 6,
    "start_time": "2025-05-04T08:55:10.522Z"
   },
   {
    "duration": 4,
    "start_time": "2025-05-04T08:56:00.198Z"
   },
   {
    "duration": 1506,
    "start_time": "2025-05-04T08:56:46.773Z"
   },
   {
    "duration": 5,
    "start_time": "2025-05-04T08:58:47.587Z"
   },
   {
    "duration": 7,
    "start_time": "2025-05-04T08:58:53.470Z"
   },
   {
    "duration": 5,
    "start_time": "2025-05-04T08:59:00.832Z"
   },
   {
    "duration": 6,
    "start_time": "2025-05-04T08:59:05.130Z"
   },
   {
    "duration": 5,
    "start_time": "2025-05-04T08:59:11.256Z"
   },
   {
    "duration": 8,
    "start_time": "2025-05-04T09:01:33.763Z"
   },
   {
    "duration": 9,
    "start_time": "2025-05-04T09:03:33.494Z"
   },
   {
    "duration": 8,
    "start_time": "2025-05-04T09:03:35.754Z"
   },
   {
    "duration": 5,
    "start_time": "2025-05-04T09:03:45.032Z"
   },
   {
    "duration": 5,
    "start_time": "2025-05-04T09:04:02.085Z"
   },
   {
    "duration": 23,
    "start_time": "2025-05-04T09:04:17.593Z"
   },
   {
    "duration": 23,
    "start_time": "2025-05-04T09:04:40.270Z"
   },
   {
    "duration": 24,
    "start_time": "2025-05-04T09:04:45.909Z"
   },
   {
    "duration": 24,
    "start_time": "2025-05-04T09:05:02.262Z"
   },
   {
    "duration": 23,
    "start_time": "2025-05-04T09:05:08.009Z"
   },
   {
    "duration": 23,
    "start_time": "2025-05-04T09:05:15.780Z"
   },
   {
    "duration": 24,
    "start_time": "2025-05-04T09:05:19.790Z"
   },
   {
    "duration": 32,
    "start_time": "2025-05-04T09:05:29.061Z"
   },
   {
    "duration": 23,
    "start_time": "2025-05-04T09:05:35.506Z"
   },
   {
    "duration": 35,
    "start_time": "2025-05-04T09:06:07.269Z"
   },
   {
    "duration": 26,
    "start_time": "2025-05-04T09:06:36.524Z"
   },
   {
    "duration": 23,
    "start_time": "2025-05-04T09:06:44.090Z"
   },
   {
    "duration": 25,
    "start_time": "2025-05-04T09:06:47.687Z"
   },
   {
    "duration": 27,
    "start_time": "2025-05-04T09:06:53.520Z"
   },
   {
    "duration": 26,
    "start_time": "2025-05-04T09:06:57.334Z"
   },
   {
    "duration": 26,
    "start_time": "2025-05-04T09:07:01.491Z"
   },
   {
    "duration": 26,
    "start_time": "2025-05-04T09:07:05.202Z"
   },
   {
    "duration": 24,
    "start_time": "2025-05-04T09:07:08.676Z"
   },
   {
    "duration": 25,
    "start_time": "2025-05-04T09:07:14.294Z"
   },
   {
    "duration": 23,
    "start_time": "2025-05-04T09:07:17.334Z"
   },
   {
    "duration": 4,
    "start_time": "2025-05-04T09:07:37.781Z"
   },
   {
    "duration": 4,
    "start_time": "2025-05-04T09:08:06.599Z"
   },
   {
    "duration": 5,
    "start_time": "2025-05-04T09:11:33.372Z"
   },
   {
    "duration": 8,
    "start_time": "2025-05-04T09:12:23.151Z"
   },
   {
    "duration": 97,
    "start_time": "2025-05-04T09:13:02.666Z"
   },
   {
    "duration": 8,
    "start_time": "2025-05-04T09:13:34.139Z"
   },
   {
    "duration": 87,
    "start_time": "2025-05-04T09:13:46.839Z"
   },
   {
    "duration": 1249,
    "start_time": "2025-05-04T09:19:08.388Z"
   },
   {
    "duration": 5,
    "start_time": "2025-05-04T09:19:16.260Z"
   },
   {
    "duration": 5,
    "start_time": "2025-05-04T09:20:14.592Z"
   },
   {
    "duration": 5,
    "start_time": "2025-05-04T09:20:25.328Z"
   },
   {
    "duration": 5,
    "start_time": "2025-05-04T09:20:27.429Z"
   },
   {
    "duration": 6,
    "start_time": "2025-05-04T09:20:31.351Z"
   },
   {
    "duration": 5,
    "start_time": "2025-05-04T09:20:36.638Z"
   },
   {
    "duration": 5,
    "start_time": "2025-05-04T09:20:57.822Z"
   },
   {
    "duration": 4,
    "start_time": "2025-05-04T09:26:46.813Z"
   },
   {
    "duration": 77,
    "start_time": "2025-05-04T09:27:02.266Z"
   },
   {
    "duration": 81,
    "start_time": "2025-05-04T09:27:12.502Z"
   },
   {
    "duration": 5,
    "start_time": "2025-05-04T09:41:04.922Z"
   },
   {
    "duration": 12,
    "start_time": "2025-05-04T09:41:16.597Z"
   },
   {
    "duration": 5,
    "start_time": "2025-05-04T09:41:26.734Z"
   },
   {
    "duration": 5,
    "start_time": "2025-05-04T09:44:06.219Z"
   },
   {
    "duration": 5,
    "start_time": "2025-05-04T09:44:14.666Z"
   },
   {
    "duration": 5,
    "start_time": "2025-05-04T09:44:25.981Z"
   },
   {
    "duration": 5,
    "start_time": "2025-05-04T09:44:28.476Z"
   },
   {
    "duration": 4,
    "start_time": "2025-05-04T09:44:33.866Z"
   },
   {
    "duration": 5,
    "start_time": "2025-05-04T09:44:37.477Z"
   },
   {
    "duration": 5,
    "start_time": "2025-05-04T09:45:42.944Z"
   },
   {
    "duration": 5,
    "start_time": "2025-05-04T09:55:12.301Z"
   },
   {
    "duration": 6,
    "start_time": "2025-05-04T09:55:14.271Z"
   },
   {
    "duration": 1096,
    "start_time": "2025-05-04T10:00:36.540Z"
   },
   {
    "duration": 162,
    "start_time": "2025-05-04T10:00:37.637Z"
   },
   {
    "duration": 13,
    "start_time": "2025-05-04T10:00:37.800Z"
   },
   {
    "duration": 11,
    "start_time": "2025-05-04T10:00:37.814Z"
   },
   {
    "duration": 6,
    "start_time": "2025-05-04T10:00:37.826Z"
   },
   {
    "duration": 16,
    "start_time": "2025-05-04T10:00:37.833Z"
   },
   {
    "duration": 6,
    "start_time": "2025-05-04T10:00:37.850Z"
   },
   {
    "duration": 4,
    "start_time": "2025-05-04T10:00:37.857Z"
   },
   {
    "duration": 15,
    "start_time": "2025-05-04T10:00:37.863Z"
   },
   {
    "duration": 14,
    "start_time": "2025-05-04T10:00:37.881Z"
   },
   {
    "duration": 17,
    "start_time": "2025-05-04T10:00:37.896Z"
   },
   {
    "duration": 49,
    "start_time": "2025-05-04T10:00:37.915Z"
   },
   {
    "duration": 167,
    "start_time": "2025-05-04T10:00:37.966Z"
   },
   {
    "duration": 164,
    "start_time": "2025-05-04T10:00:38.134Z"
   },
   {
    "duration": 154,
    "start_time": "2025-05-04T10:00:38.299Z"
   },
   {
    "duration": 151,
    "start_time": "2025-05-04T10:00:38.455Z"
   },
   {
    "duration": 161,
    "start_time": "2025-05-04T10:00:38.607Z"
   },
   {
    "duration": 163,
    "start_time": "2025-05-04T10:00:38.769Z"
   },
   {
    "duration": 8,
    "start_time": "2025-05-04T10:00:38.934Z"
   },
   {
    "duration": 5,
    "start_time": "2025-05-04T10:00:38.943Z"
   },
   {
    "duration": 1463,
    "start_time": "2025-05-04T10:00:38.962Z"
   },
   {
    "duration": 8,
    "start_time": "2025-05-04T10:00:40.427Z"
   },
   {
    "duration": 11,
    "start_time": "2025-05-04T10:00:40.436Z"
   },
   {
    "duration": 3,
    "start_time": "2025-05-04T10:00:40.462Z"
   },
   {
    "duration": 29,
    "start_time": "2025-05-04T10:00:40.467Z"
   },
   {
    "duration": 4,
    "start_time": "2025-05-04T10:00:40.498Z"
   },
   {
    "duration": 11,
    "start_time": "2025-05-04T10:00:40.503Z"
   },
   {
    "duration": 7,
    "start_time": "2025-05-04T10:00:40.517Z"
   },
   {
    "duration": 122,
    "start_time": "2025-05-04T10:00:40.526Z"
   },
   {
    "duration": 281,
    "start_time": "2025-05-04T10:00:40.649Z"
   },
   {
    "duration": 315,
    "start_time": "2025-05-04T10:00:40.932Z"
   },
   {
    "duration": 279,
    "start_time": "2025-05-04T10:00:41.249Z"
   },
   {
    "duration": 6,
    "start_time": "2025-05-04T10:00:41.530Z"
   },
   {
    "duration": 6,
    "start_time": "2025-05-04T10:00:41.537Z"
   },
   {
    "duration": 18,
    "start_time": "2025-05-04T10:00:41.545Z"
   },
   {
    "duration": 9,
    "start_time": "2025-05-04T10:00:41.565Z"
   },
   {
    "duration": 22,
    "start_time": "2025-05-04T10:00:41.576Z"
   },
   {
    "duration": 82,
    "start_time": "2025-05-04T10:00:41.599Z"
   },
   {
    "duration": 5,
    "start_time": "2025-05-04T10:00:41.682Z"
   },
   {
    "duration": 97,
    "start_time": "2025-05-04T10:00:41.688Z"
   },
   {
    "duration": 15,
    "start_time": "2025-05-04T10:00:41.787Z"
   },
   {
    "duration": 23,
    "start_time": "2025-05-04T10:00:41.803Z"
   },
   {
    "duration": 40,
    "start_time": "2025-05-04T10:00:41.827Z"
   },
   {
    "duration": 16,
    "start_time": "2025-05-04T10:00:41.869Z"
   },
   {
    "duration": 9,
    "start_time": "2025-05-04T10:00:41.887Z"
   },
   {
    "duration": 62,
    "start_time": "2025-05-04T10:00:41.898Z"
   },
   {
    "duration": 41,
    "start_time": "2025-05-04T10:00:41.962Z"
   },
   {
    "duration": 5,
    "start_time": "2025-05-04T10:00:42.005Z"
   },
   {
    "duration": 7,
    "start_time": "2025-05-04T10:00:42.012Z"
   },
   {
    "duration": 8,
    "start_time": "2025-05-04T10:00:42.021Z"
   },
   {
    "duration": 6,
    "start_time": "2025-05-04T10:00:42.030Z"
   },
   {
    "duration": 6,
    "start_time": "2025-05-04T10:00:42.038Z"
   },
   {
    "duration": 20,
    "start_time": "2025-05-04T10:00:42.046Z"
   },
   {
    "duration": 1148,
    "start_time": "2025-05-04T10:02:17.367Z"
   },
   {
    "duration": 111,
    "start_time": "2025-05-04T10:02:18.516Z"
   },
   {
    "duration": 12,
    "start_time": "2025-05-04T10:02:18.629Z"
   },
   {
    "duration": 13,
    "start_time": "2025-05-04T10:02:18.642Z"
   },
   {
    "duration": 6,
    "start_time": "2025-05-04T10:02:18.656Z"
   },
   {
    "duration": 21,
    "start_time": "2025-05-04T10:02:18.663Z"
   },
   {
    "duration": 8,
    "start_time": "2025-05-04T10:02:18.685Z"
   },
   {
    "duration": 4,
    "start_time": "2025-05-04T10:02:18.695Z"
   },
   {
    "duration": 15,
    "start_time": "2025-05-04T10:02:18.701Z"
   },
   {
    "duration": 9,
    "start_time": "2025-05-04T10:02:18.719Z"
   },
   {
    "duration": 15,
    "start_time": "2025-05-04T10:02:18.729Z"
   },
   {
    "duration": 21,
    "start_time": "2025-05-04T10:02:18.745Z"
   },
   {
    "duration": 166,
    "start_time": "2025-05-04T10:02:18.768Z"
   },
   {
    "duration": 164,
    "start_time": "2025-05-04T10:02:18.936Z"
   },
   {
    "duration": 150,
    "start_time": "2025-05-04T10:02:19.102Z"
   },
   {
    "duration": 138,
    "start_time": "2025-05-04T10:02:19.254Z"
   },
   {
    "duration": 160,
    "start_time": "2025-05-04T10:02:19.394Z"
   },
   {
    "duration": 165,
    "start_time": "2025-05-04T10:02:19.555Z"
   },
   {
    "duration": 9,
    "start_time": "2025-05-04T10:02:19.722Z"
   },
   {
    "duration": 6,
    "start_time": "2025-05-04T10:02:19.732Z"
   },
   {
    "duration": 1415,
    "start_time": "2025-05-04T10:02:19.739Z"
   },
   {
    "duration": 8,
    "start_time": "2025-05-04T10:02:21.162Z"
   },
   {
    "duration": 54,
    "start_time": "2025-05-04T10:02:21.171Z"
   },
   {
    "duration": 9,
    "start_time": "2025-05-04T10:02:21.226Z"
   },
   {
    "duration": 17,
    "start_time": "2025-05-04T10:02:21.237Z"
   },
   {
    "duration": 5,
    "start_time": "2025-05-04T10:02:21.256Z"
   },
   {
    "duration": 16,
    "start_time": "2025-05-04T10:02:21.262Z"
   },
   {
    "duration": 27,
    "start_time": "2025-05-04T10:02:21.281Z"
   },
   {
    "duration": 117,
    "start_time": "2025-05-04T10:02:21.310Z"
   },
   {
    "duration": 277,
    "start_time": "2025-05-04T10:02:21.429Z"
   },
   {
    "duration": 451,
    "start_time": "2025-05-04T10:02:21.708Z"
   },
   {
    "duration": 286,
    "start_time": "2025-05-04T10:02:22.160Z"
   },
   {
    "duration": 5,
    "start_time": "2025-05-04T10:02:22.447Z"
   },
   {
    "duration": 26,
    "start_time": "2025-05-04T10:02:22.461Z"
   },
   {
    "duration": 26,
    "start_time": "2025-05-04T10:02:22.488Z"
   },
   {
    "duration": 34,
    "start_time": "2025-05-04T10:02:22.515Z"
   },
   {
    "duration": 25,
    "start_time": "2025-05-04T10:02:22.550Z"
   },
   {
    "duration": 30,
    "start_time": "2025-05-04T10:02:22.576Z"
   },
   {
    "duration": 24,
    "start_time": "2025-05-04T10:02:22.608Z"
   },
   {
    "duration": 87,
    "start_time": "2025-05-04T10:02:22.634Z"
   },
   {
    "duration": 13,
    "start_time": "2025-05-04T10:02:22.723Z"
   },
   {
    "duration": 40,
    "start_time": "2025-05-04T10:02:22.738Z"
   },
   {
    "duration": 17,
    "start_time": "2025-05-04T10:02:22.779Z"
   },
   {
    "duration": 23,
    "start_time": "2025-05-04T10:02:22.798Z"
   },
   {
    "duration": 15,
    "start_time": "2025-05-04T10:02:22.822Z"
   },
   {
    "duration": 49,
    "start_time": "2025-05-04T10:02:22.838Z"
   },
   {
    "duration": 38,
    "start_time": "2025-05-04T10:02:22.888Z"
   },
   {
    "duration": 5,
    "start_time": "2025-05-04T10:02:22.927Z"
   },
   {
    "duration": 16,
    "start_time": "2025-05-04T10:02:22.934Z"
   },
   {
    "duration": 10,
    "start_time": "2025-05-04T10:02:22.951Z"
   },
   {
    "duration": 47,
    "start_time": "2025-05-04T10:02:22.962Z"
   },
   {
    "duration": 20,
    "start_time": "2025-05-04T10:02:23.010Z"
   },
   {
    "duration": 26,
    "start_time": "2025-05-04T10:02:23.032Z"
   },
   {
    "duration": 1170,
    "start_time": "2025-05-04T10:06:47.359Z"
   },
   {
    "duration": 111,
    "start_time": "2025-05-04T10:06:48.530Z"
   },
   {
    "duration": 12,
    "start_time": "2025-05-04T10:06:48.643Z"
   },
   {
    "duration": 12,
    "start_time": "2025-05-04T10:06:48.657Z"
   },
   {
    "duration": 4,
    "start_time": "2025-05-04T10:06:48.670Z"
   },
   {
    "duration": 6,
    "start_time": "2025-05-04T10:06:48.675Z"
   },
   {
    "duration": 6,
    "start_time": "2025-05-04T10:06:48.683Z"
   },
   {
    "duration": 11,
    "start_time": "2025-05-04T10:06:48.690Z"
   },
   {
    "duration": 12,
    "start_time": "2025-05-04T10:06:48.703Z"
   },
   {
    "duration": 7,
    "start_time": "2025-05-04T10:06:48.717Z"
   },
   {
    "duration": 38,
    "start_time": "2025-05-04T10:06:48.726Z"
   },
   {
    "duration": 6,
    "start_time": "2025-05-04T10:06:48.765Z"
   },
   {
    "duration": 182,
    "start_time": "2025-05-04T10:06:48.773Z"
   },
   {
    "duration": 160,
    "start_time": "2025-05-04T10:06:48.962Z"
   },
   {
    "duration": 152,
    "start_time": "2025-05-04T10:06:49.124Z"
   },
   {
    "duration": 154,
    "start_time": "2025-05-04T10:06:49.278Z"
   },
   {
    "duration": 160,
    "start_time": "2025-05-04T10:06:49.434Z"
   },
   {
    "duration": 167,
    "start_time": "2025-05-04T10:06:49.596Z"
   },
   {
    "duration": 8,
    "start_time": "2025-05-04T10:06:49.764Z"
   },
   {
    "duration": 5,
    "start_time": "2025-05-04T10:06:49.774Z"
   },
   {
    "duration": 1361,
    "start_time": "2025-05-04T10:06:49.780Z"
   },
   {
    "duration": 8,
    "start_time": "2025-05-04T10:06:51.143Z"
   },
   {
    "duration": 30,
    "start_time": "2025-05-04T10:06:51.152Z"
   },
   {
    "duration": 24,
    "start_time": "2025-05-04T10:06:51.183Z"
   },
   {
    "duration": 12,
    "start_time": "2025-05-04T10:06:51.208Z"
   },
   {
    "duration": 12,
    "start_time": "2025-05-04T10:06:51.221Z"
   },
   {
    "duration": 10,
    "start_time": "2025-05-04T10:06:51.234Z"
   },
   {
    "duration": 7,
    "start_time": "2025-05-04T10:06:51.248Z"
   },
   {
    "duration": 105,
    "start_time": "2025-05-04T10:06:51.257Z"
   },
   {
    "duration": 270,
    "start_time": "2025-05-04T10:06:51.363Z"
   },
   {
    "duration": 309,
    "start_time": "2025-05-04T10:06:51.635Z"
   },
   {
    "duration": 291,
    "start_time": "2025-05-04T10:06:51.946Z"
   },
   {
    "duration": 5,
    "start_time": "2025-05-04T10:06:52.238Z"
   },
   {
    "duration": 25,
    "start_time": "2025-05-04T10:06:52.244Z"
   },
   {
    "duration": 10,
    "start_time": "2025-05-04T10:06:52.271Z"
   },
   {
    "duration": 16,
    "start_time": "2025-05-04T10:06:52.283Z"
   },
   {
    "duration": 10,
    "start_time": "2025-05-04T10:06:52.300Z"
   },
   {
    "duration": 60,
    "start_time": "2025-05-04T10:06:52.312Z"
   },
   {
    "duration": 15,
    "start_time": "2025-05-04T10:06:52.374Z"
   },
   {
    "duration": 91,
    "start_time": "2025-05-04T10:06:52.390Z"
   },
   {
    "duration": 12,
    "start_time": "2025-05-04T10:06:52.483Z"
   },
   {
    "duration": 23,
    "start_time": "2025-05-04T10:06:52.497Z"
   },
   {
    "duration": 17,
    "start_time": "2025-05-04T10:06:52.521Z"
   },
   {
    "duration": 18,
    "start_time": "2025-05-04T10:06:52.561Z"
   },
   {
    "duration": 12,
    "start_time": "2025-05-04T10:06:52.581Z"
   },
   {
    "duration": 34,
    "start_time": "2025-05-04T10:06:52.595Z"
   },
   {
    "duration": 37,
    "start_time": "2025-05-04T10:06:52.631Z"
   },
   {
    "duration": 5,
    "start_time": "2025-05-04T10:06:52.670Z"
   },
   {
    "duration": 6,
    "start_time": "2025-05-04T10:06:52.677Z"
   },
   {
    "duration": 24,
    "start_time": "2025-05-04T10:06:52.684Z"
   },
   {
    "duration": 6,
    "start_time": "2025-05-04T10:06:52.711Z"
   },
   {
    "duration": 13,
    "start_time": "2025-05-04T10:06:52.719Z"
   },
   {
    "duration": 6,
    "start_time": "2025-05-04T10:06:52.734Z"
   },
   {
    "duration": 163,
    "start_time": "2025-05-04T10:07:29.699Z"
   },
   {
    "duration": 136,
    "start_time": "2025-05-04T10:07:33.810Z"
   },
   {
    "duration": 215,
    "start_time": "2025-05-04T10:07:36.955Z"
   },
   {
    "duration": 144,
    "start_time": "2025-05-04T10:07:40.219Z"
   },
   {
    "duration": 156,
    "start_time": "2025-05-04T10:07:44.374Z"
   },
   {
    "duration": 158,
    "start_time": "2025-05-04T10:08:25.036Z"
   },
   {
    "duration": 172,
    "start_time": "2025-05-04T10:08:32.132Z"
   },
   {
    "duration": 175,
    "start_time": "2025-05-04T10:08:40.348Z"
   },
   {
    "duration": 162,
    "start_time": "2025-05-04T10:08:47.704Z"
   },
   {
    "duration": 142,
    "start_time": "2025-05-04T10:08:51.500Z"
   },
   {
    "duration": 139,
    "start_time": "2025-05-04T10:08:55.508Z"
   },
   {
    "duration": 144,
    "start_time": "2025-05-04T10:09:00.156Z"
   },
   {
    "duration": 175,
    "start_time": "2025-05-04T10:09:05.694Z"
   },
   {
    "duration": 258,
    "start_time": "2025-05-04T10:09:10.064Z"
   },
   {
    "duration": 9,
    "start_time": "2025-05-04T10:09:16.870Z"
   },
   {
    "duration": 9,
    "start_time": "2025-05-04T10:09:30.288Z"
   },
   {
    "duration": 9,
    "start_time": "2025-05-04T10:09:37.719Z"
   },
   {
    "duration": 10,
    "start_time": "2025-05-04T10:09:43.352Z"
   },
   {
    "duration": 9,
    "start_time": "2025-05-04T10:09:48.413Z"
   },
   {
    "duration": 10,
    "start_time": "2025-05-04T10:09:53.018Z"
   },
   {
    "duration": 9,
    "start_time": "2025-05-04T10:09:59.248Z"
   },
   {
    "duration": 9,
    "start_time": "2025-05-04T10:10:10.192Z"
   },
   {
    "duration": 9,
    "start_time": "2025-05-04T10:10:18.476Z"
   },
   {
    "duration": 1118,
    "start_time": "2025-05-04T10:10:39.544Z"
   },
   {
    "duration": 111,
    "start_time": "2025-05-04T10:10:40.664Z"
   },
   {
    "duration": 11,
    "start_time": "2025-05-04T10:10:40.776Z"
   },
   {
    "duration": 12,
    "start_time": "2025-05-04T10:10:40.789Z"
   },
   {
    "duration": 8,
    "start_time": "2025-05-04T10:10:40.803Z"
   },
   {
    "duration": 8,
    "start_time": "2025-05-04T10:10:40.813Z"
   },
   {
    "duration": 12,
    "start_time": "2025-05-04T10:10:40.822Z"
   },
   {
    "duration": 6,
    "start_time": "2025-05-04T10:10:40.836Z"
   },
   {
    "duration": 21,
    "start_time": "2025-05-04T10:10:40.843Z"
   },
   {
    "duration": 13,
    "start_time": "2025-05-04T10:10:40.867Z"
   },
   {
    "duration": 16,
    "start_time": "2025-05-04T10:10:40.881Z"
   },
   {
    "duration": 5,
    "start_time": "2025-05-04T10:10:40.898Z"
   },
   {
    "duration": 184,
    "start_time": "2025-05-04T10:10:40.905Z"
   },
   {
    "duration": 173,
    "start_time": "2025-05-04T10:10:41.090Z"
   },
   {
    "duration": 147,
    "start_time": "2025-05-04T10:10:41.265Z"
   },
   {
    "duration": 172,
    "start_time": "2025-05-04T10:10:41.413Z"
   },
   {
    "duration": 177,
    "start_time": "2025-05-04T10:10:41.586Z"
   },
   {
    "duration": 156,
    "start_time": "2025-05-04T10:10:41.764Z"
   },
   {
    "duration": 8,
    "start_time": "2025-05-04T10:10:41.922Z"
   },
   {
    "duration": 7,
    "start_time": "2025-05-04T10:10:41.931Z"
   },
   {
    "duration": 1549,
    "start_time": "2025-05-04T10:10:41.940Z"
   },
   {
    "duration": 8,
    "start_time": "2025-05-04T10:10:43.491Z"
   },
   {
    "duration": 30,
    "start_time": "2025-05-04T10:10:43.501Z"
   },
   {
    "duration": 8,
    "start_time": "2025-05-04T10:10:43.532Z"
   },
   {
    "duration": 11,
    "start_time": "2025-05-04T10:10:43.542Z"
   },
   {
    "duration": 11,
    "start_time": "2025-05-04T10:10:43.554Z"
   },
   {
    "duration": 11,
    "start_time": "2025-05-04T10:10:43.566Z"
   },
   {
    "duration": 9,
    "start_time": "2025-05-04T10:10:43.580Z"
   },
   {
    "duration": 126,
    "start_time": "2025-05-04T10:10:43.590Z"
   },
   {
    "duration": 287,
    "start_time": "2025-05-04T10:10:43.718Z"
   },
   {
    "duration": 334,
    "start_time": "2025-05-04T10:10:44.006Z"
   },
   {
    "duration": 282,
    "start_time": "2025-05-04T10:10:44.342Z"
   },
   {
    "duration": 5,
    "start_time": "2025-05-04T10:10:44.625Z"
   },
   {
    "duration": 11,
    "start_time": "2025-05-04T10:10:44.631Z"
   },
   {
    "duration": 7,
    "start_time": "2025-05-04T10:10:44.643Z"
   },
   {
    "duration": 7,
    "start_time": "2025-05-04T10:10:44.663Z"
   },
   {
    "duration": 10,
    "start_time": "2025-05-04T10:10:44.671Z"
   },
   {
    "duration": 8,
    "start_time": "2025-05-04T10:10:44.682Z"
   },
   {
    "duration": 5,
    "start_time": "2025-05-04T10:10:44.692Z"
   },
   {
    "duration": 133,
    "start_time": "2025-05-04T10:10:44.698Z"
   },
   {
    "duration": 13,
    "start_time": "2025-05-04T10:10:44.833Z"
   },
   {
    "duration": 34,
    "start_time": "2025-05-04T10:10:44.848Z"
   },
   {
    "duration": 15,
    "start_time": "2025-05-04T10:10:44.884Z"
   },
   {
    "duration": 15,
    "start_time": "2025-05-04T10:10:44.900Z"
   },
   {
    "duration": 9,
    "start_time": "2025-05-04T10:10:44.916Z"
   },
   {
    "duration": 51,
    "start_time": "2025-05-04T10:10:44.927Z"
   },
   {
    "duration": 25,
    "start_time": "2025-05-04T10:10:44.980Z"
   },
   {
    "duration": 5,
    "start_time": "2025-05-04T10:10:45.007Z"
   },
   {
    "duration": 108,
    "start_time": "2025-05-04T10:10:45.014Z"
   },
   {
    "duration": 32,
    "start_time": "2025-05-04T10:10:45.124Z"
   },
   {
    "duration": 15,
    "start_time": "2025-05-04T10:10:45.157Z"
   },
   {
    "duration": 29,
    "start_time": "2025-05-04T10:10:45.173Z"
   },
   {
    "duration": 48,
    "start_time": "2025-05-04T10:10:45.203Z"
   },
   {
    "duration": 157,
    "start_time": "2025-05-04T10:12:23.366Z"
   },
   {
    "duration": 160,
    "start_time": "2025-05-04T10:12:25.975Z"
   },
   {
    "duration": 230,
    "start_time": "2025-05-04T10:12:29.733Z"
   },
   {
    "duration": 1149,
    "start_time": "2025-05-04T10:14:17.378Z"
   },
   {
    "duration": 112,
    "start_time": "2025-05-04T10:14:18.529Z"
   },
   {
    "duration": 13,
    "start_time": "2025-05-04T10:14:18.643Z"
   },
   {
    "duration": 13,
    "start_time": "2025-05-04T10:14:18.658Z"
   },
   {
    "duration": 4,
    "start_time": "2025-05-04T10:14:18.673Z"
   },
   {
    "duration": 7,
    "start_time": "2025-05-04T10:14:18.678Z"
   },
   {
    "duration": 6,
    "start_time": "2025-05-04T10:14:18.687Z"
   },
   {
    "duration": 12,
    "start_time": "2025-05-04T10:14:18.695Z"
   },
   {
    "duration": 12,
    "start_time": "2025-05-04T10:14:18.709Z"
   },
   {
    "duration": 8,
    "start_time": "2025-05-04T10:14:18.723Z"
   },
   {
    "duration": 41,
    "start_time": "2025-05-04T10:14:18.732Z"
   },
   {
    "duration": 6,
    "start_time": "2025-05-04T10:14:18.774Z"
   },
   {
    "duration": 203,
    "start_time": "2025-05-04T10:14:18.782Z"
   },
   {
    "duration": 182,
    "start_time": "2025-05-04T10:14:18.986Z"
   },
   {
    "duration": 159,
    "start_time": "2025-05-04T10:14:19.170Z"
   },
   {
    "duration": 170,
    "start_time": "2025-05-04T10:14:19.331Z"
   },
   {
    "duration": 179,
    "start_time": "2025-05-04T10:14:19.503Z"
   },
   {
    "duration": 173,
    "start_time": "2025-05-04T10:14:19.684Z"
   },
   {
    "duration": 13,
    "start_time": "2025-05-04T10:14:19.862Z"
   },
   {
    "duration": 6,
    "start_time": "2025-05-04T10:14:19.877Z"
   },
   {
    "duration": 1493,
    "start_time": "2025-05-04T10:14:19.885Z"
   },
   {
    "duration": 9,
    "start_time": "2025-05-04T10:14:21.379Z"
   },
   {
    "duration": 16,
    "start_time": "2025-05-04T10:14:21.390Z"
   },
   {
    "duration": 9,
    "start_time": "2025-05-04T10:14:21.407Z"
   },
   {
    "duration": 15,
    "start_time": "2025-05-04T10:14:21.418Z"
   },
   {
    "duration": 29,
    "start_time": "2025-05-04T10:14:21.435Z"
   },
   {
    "duration": 20,
    "start_time": "2025-05-04T10:14:21.465Z"
   },
   {
    "duration": 8,
    "start_time": "2025-05-04T10:14:21.488Z"
   },
   {
    "duration": 115,
    "start_time": "2025-05-04T10:14:21.497Z"
   },
   {
    "duration": 262,
    "start_time": "2025-05-04T10:14:21.614Z"
   },
   {
    "duration": 303,
    "start_time": "2025-05-04T10:14:21.878Z"
   },
   {
    "duration": 284,
    "start_time": "2025-05-04T10:14:22.182Z"
   },
   {
    "duration": 5,
    "start_time": "2025-05-04T10:14:22.468Z"
   },
   {
    "duration": 14,
    "start_time": "2025-05-04T10:14:22.475Z"
   },
   {
    "duration": 5,
    "start_time": "2025-05-04T10:14:22.491Z"
   },
   {
    "duration": 8,
    "start_time": "2025-05-04T10:14:22.498Z"
   },
   {
    "duration": 10,
    "start_time": "2025-05-04T10:14:22.507Z"
   },
   {
    "duration": 7,
    "start_time": "2025-05-04T10:14:22.518Z"
   },
   {
    "duration": 5,
    "start_time": "2025-05-04T10:14:22.526Z"
   },
   {
    "duration": 86,
    "start_time": "2025-05-04T10:14:22.563Z"
   },
   {
    "duration": 22,
    "start_time": "2025-05-04T10:14:22.650Z"
   },
   {
    "duration": 21,
    "start_time": "2025-05-04T10:14:22.673Z"
   },
   {
    "duration": 14,
    "start_time": "2025-05-04T10:14:22.696Z"
   },
   {
    "duration": 15,
    "start_time": "2025-05-04T10:14:22.711Z"
   },
   {
    "duration": 36,
    "start_time": "2025-05-04T10:14:22.727Z"
   },
   {
    "duration": 32,
    "start_time": "2025-05-04T10:14:22.765Z"
   },
   {
    "duration": 23,
    "start_time": "2025-05-04T10:14:22.798Z"
   },
   {
    "duration": 5,
    "start_time": "2025-05-04T10:14:22.822Z"
   },
   {
    "duration": 45,
    "start_time": "2025-05-04T10:14:22.829Z"
   },
   {
    "duration": 13,
    "start_time": "2025-05-04T10:14:22.876Z"
   },
   {
    "duration": 5,
    "start_time": "2025-05-04T10:14:22.890Z"
   },
   {
    "duration": 15,
    "start_time": "2025-05-04T10:14:22.896Z"
   },
   {
    "duration": 9,
    "start_time": "2025-05-04T10:14:22.912Z"
   },
   {
    "duration": 1133,
    "start_time": "2025-05-04T10:15:14.096Z"
   },
   {
    "duration": 111,
    "start_time": "2025-05-04T10:15:15.231Z"
   },
   {
    "duration": 11,
    "start_time": "2025-05-04T10:15:15.344Z"
   },
   {
    "duration": 25,
    "start_time": "2025-05-04T10:15:15.358Z"
   },
   {
    "duration": 10,
    "start_time": "2025-05-04T10:15:15.384Z"
   },
   {
    "duration": 14,
    "start_time": "2025-05-04T10:15:15.396Z"
   },
   {
    "duration": 29,
    "start_time": "2025-05-04T10:15:15.411Z"
   },
   {
    "duration": 18,
    "start_time": "2025-05-04T10:15:15.441Z"
   },
   {
    "duration": 25,
    "start_time": "2025-05-04T10:15:15.460Z"
   },
   {
    "duration": 7,
    "start_time": "2025-05-04T10:15:15.487Z"
   },
   {
    "duration": 14,
    "start_time": "2025-05-04T10:15:15.496Z"
   },
   {
    "duration": 5,
    "start_time": "2025-05-04T10:15:15.511Z"
   },
   {
    "duration": 188,
    "start_time": "2025-05-04T10:15:15.517Z"
   },
   {
    "duration": 184,
    "start_time": "2025-05-04T10:15:15.706Z"
   },
   {
    "duration": 172,
    "start_time": "2025-05-04T10:15:15.891Z"
   },
   {
    "duration": 163,
    "start_time": "2025-05-04T10:15:16.065Z"
   },
   {
    "duration": 174,
    "start_time": "2025-05-04T10:15:16.229Z"
   },
   {
    "duration": 160,
    "start_time": "2025-05-04T10:15:16.404Z"
   },
   {
    "duration": 8,
    "start_time": "2025-05-04T10:15:16.566Z"
   },
   {
    "duration": 12,
    "start_time": "2025-05-04T10:15:16.575Z"
   },
   {
    "duration": 1384,
    "start_time": "2025-05-04T10:15:16.589Z"
   },
   {
    "duration": 9,
    "start_time": "2025-05-04T10:15:17.977Z"
   },
   {
    "duration": 13,
    "start_time": "2025-05-04T10:15:17.988Z"
   },
   {
    "duration": 8,
    "start_time": "2025-05-04T10:15:18.003Z"
   },
   {
    "duration": 11,
    "start_time": "2025-05-04T10:15:18.012Z"
   },
   {
    "duration": 37,
    "start_time": "2025-05-04T10:15:18.025Z"
   },
   {
    "duration": 11,
    "start_time": "2025-05-04T10:15:18.064Z"
   },
   {
    "duration": 7,
    "start_time": "2025-05-04T10:15:18.079Z"
   },
   {
    "duration": 122,
    "start_time": "2025-05-04T10:15:18.088Z"
   },
   {
    "duration": 285,
    "start_time": "2025-05-04T10:15:18.212Z"
   },
   {
    "duration": 316,
    "start_time": "2025-05-04T10:15:18.499Z"
   },
   {
    "duration": 290,
    "start_time": "2025-05-04T10:15:18.817Z"
   },
   {
    "duration": 5,
    "start_time": "2025-05-04T10:15:19.110Z"
   },
   {
    "duration": 6,
    "start_time": "2025-05-04T10:15:19.117Z"
   },
   {
    "duration": 5,
    "start_time": "2025-05-04T10:15:19.125Z"
   },
   {
    "duration": 32,
    "start_time": "2025-05-04T10:15:19.132Z"
   },
   {
    "duration": 11,
    "start_time": "2025-05-04T10:15:19.166Z"
   },
   {
    "duration": 13,
    "start_time": "2025-05-04T10:15:19.179Z"
   },
   {
    "duration": 8,
    "start_time": "2025-05-04T10:15:19.194Z"
   },
   {
    "duration": 112,
    "start_time": "2025-05-04T10:15:19.204Z"
   },
   {
    "duration": 13,
    "start_time": "2025-05-04T10:15:19.318Z"
   },
   {
    "duration": 43,
    "start_time": "2025-05-04T10:15:19.332Z"
   },
   {
    "duration": 15,
    "start_time": "2025-05-04T10:15:19.377Z"
   },
   {
    "duration": 16,
    "start_time": "2025-05-04T10:15:19.394Z"
   },
   {
    "duration": 9,
    "start_time": "2025-05-04T10:15:19.412Z"
   },
   {
    "duration": 54,
    "start_time": "2025-05-04T10:15:19.422Z"
   },
   {
    "duration": 24,
    "start_time": "2025-05-04T10:15:19.478Z"
   },
   {
    "duration": 15,
    "start_time": "2025-05-04T10:15:19.503Z"
   },
   {
    "duration": 4,
    "start_time": "2025-05-04T10:15:19.520Z"
   },
   {
    "duration": 7,
    "start_time": "2025-05-04T10:15:19.526Z"
   },
   {
    "duration": 4,
    "start_time": "2025-05-04T10:15:19.535Z"
   },
   {
    "duration": 24,
    "start_time": "2025-05-04T10:15:19.540Z"
   },
   {
    "duration": 6,
    "start_time": "2025-05-04T10:15:19.565Z"
   },
   {
    "duration": 1118,
    "start_time": "2025-05-04T10:16:53.582Z"
   },
   {
    "duration": 106,
    "start_time": "2025-05-04T10:16:54.702Z"
   },
   {
    "duration": 12,
    "start_time": "2025-05-04T10:16:54.809Z"
   },
   {
    "duration": 11,
    "start_time": "2025-05-04T10:16:54.823Z"
   },
   {
    "duration": 15,
    "start_time": "2025-05-04T10:16:54.836Z"
   },
   {
    "duration": 6,
    "start_time": "2025-05-04T10:16:54.852Z"
   },
   {
    "duration": 10,
    "start_time": "2025-05-04T10:16:54.859Z"
   },
   {
    "duration": 8,
    "start_time": "2025-05-04T10:16:54.871Z"
   },
   {
    "duration": 29,
    "start_time": "2025-05-04T10:16:54.880Z"
   },
   {
    "duration": 8,
    "start_time": "2025-05-04T10:16:54.912Z"
   },
   {
    "duration": 22,
    "start_time": "2025-05-04T10:16:54.921Z"
   },
   {
    "duration": 7,
    "start_time": "2025-05-04T10:16:54.945Z"
   },
   {
    "duration": 182,
    "start_time": "2025-05-04T10:16:54.954Z"
   },
   {
    "duration": 188,
    "start_time": "2025-05-04T10:16:55.138Z"
   },
   {
    "duration": 150,
    "start_time": "2025-05-04T10:16:55.328Z"
   },
   {
    "duration": 176,
    "start_time": "2025-05-04T10:16:55.480Z"
   },
   {
    "duration": 175,
    "start_time": "2025-05-04T10:16:55.662Z"
   },
   {
    "duration": 168,
    "start_time": "2025-05-04T10:16:55.838Z"
   },
   {
    "duration": 8,
    "start_time": "2025-05-04T10:16:56.008Z"
   },
   {
    "duration": 15,
    "start_time": "2025-05-04T10:16:56.018Z"
   },
   {
    "duration": 1411,
    "start_time": "2025-05-04T10:16:56.034Z"
   },
   {
    "duration": 15,
    "start_time": "2025-05-04T10:16:57.447Z"
   },
   {
    "duration": 12,
    "start_time": "2025-05-04T10:16:57.464Z"
   },
   {
    "duration": 40,
    "start_time": "2025-05-04T10:16:57.478Z"
   },
   {
    "duration": 40,
    "start_time": "2025-05-04T10:16:57.520Z"
   },
   {
    "duration": 18,
    "start_time": "2025-05-04T10:16:57.562Z"
   },
   {
    "duration": 32,
    "start_time": "2025-05-04T10:16:57.581Z"
   },
   {
    "duration": 70,
    "start_time": "2025-05-04T10:16:57.617Z"
   },
   {
    "duration": 137,
    "start_time": "2025-05-04T10:16:57.689Z"
   },
   {
    "duration": 303,
    "start_time": "2025-05-04T10:16:57.828Z"
   },
   {
    "duration": 314,
    "start_time": "2025-05-04T10:16:58.132Z"
   },
   {
    "duration": 283,
    "start_time": "2025-05-04T10:16:58.448Z"
   },
   {
    "duration": 4,
    "start_time": "2025-05-04T10:16:58.733Z"
   },
   {
    "duration": 29,
    "start_time": "2025-05-04T10:16:58.739Z"
   },
   {
    "duration": 32,
    "start_time": "2025-05-04T10:16:58.769Z"
   },
   {
    "duration": 25,
    "start_time": "2025-05-04T10:16:58.803Z"
   },
   {
    "duration": 25,
    "start_time": "2025-05-04T10:16:58.830Z"
   },
   {
    "duration": 55,
    "start_time": "2025-05-04T10:16:58.857Z"
   },
   {
    "duration": 27,
    "start_time": "2025-05-04T10:16:58.914Z"
   },
   {
    "duration": 127,
    "start_time": "2025-05-04T10:16:58.942Z"
   },
   {
    "duration": 16,
    "start_time": "2025-05-04T10:16:59.071Z"
   },
   {
    "duration": 41,
    "start_time": "2025-05-04T10:16:59.088Z"
   },
   {
    "duration": 16,
    "start_time": "2025-05-04T10:16:59.131Z"
   },
   {
    "duration": 16,
    "start_time": "2025-05-04T10:16:59.162Z"
   },
   {
    "duration": 14,
    "start_time": "2025-05-04T10:16:59.180Z"
   },
   {
    "duration": 48,
    "start_time": "2025-05-04T10:16:59.195Z"
   },
   {
    "duration": 26,
    "start_time": "2025-05-04T10:16:59.245Z"
   },
   {
    "duration": 19,
    "start_time": "2025-05-04T10:16:59.273Z"
   },
   {
    "duration": 36,
    "start_time": "2025-05-04T10:16:59.294Z"
   },
   {
    "duration": 54,
    "start_time": "2025-05-04T10:16:59.332Z"
   },
   {
    "duration": 23,
    "start_time": "2025-05-04T10:16:59.388Z"
   },
   {
    "duration": 43,
    "start_time": "2025-05-04T10:16:59.413Z"
   },
   {
    "duration": 27,
    "start_time": "2025-05-04T10:16:59.458Z"
   },
   {
    "duration": 6,
    "start_time": "2025-05-04T10:17:19.199Z"
   },
   {
    "duration": 6,
    "start_time": "2025-05-04T10:17:44.646Z"
   },
   {
    "duration": 1017,
    "start_time": "2025-05-04T10:18:23.113Z"
   },
   {
    "duration": 153,
    "start_time": "2025-05-04T10:18:24.132Z"
   },
   {
    "duration": 11,
    "start_time": "2025-05-04T10:18:24.287Z"
   },
   {
    "duration": 11,
    "start_time": "2025-05-04T10:18:24.300Z"
   },
   {
    "duration": 3,
    "start_time": "2025-05-04T10:18:24.313Z"
   },
   {
    "duration": 15,
    "start_time": "2025-05-04T10:18:24.318Z"
   },
   {
    "duration": 64,
    "start_time": "2025-05-04T10:18:24.335Z"
   },
   {
    "duration": 5,
    "start_time": "2025-05-04T10:18:24.400Z"
   },
   {
    "duration": 24,
    "start_time": "2025-05-04T10:18:24.407Z"
   },
   {
    "duration": 6,
    "start_time": "2025-05-04T10:18:24.434Z"
   },
   {
    "duration": 10,
    "start_time": "2025-05-04T10:18:24.442Z"
   },
   {
    "duration": 5,
    "start_time": "2025-05-04T10:18:24.453Z"
   },
   {
    "duration": 177,
    "start_time": "2025-05-04T10:18:24.459Z"
   },
   {
    "duration": 177,
    "start_time": "2025-05-04T10:18:24.638Z"
   },
   {
    "duration": 154,
    "start_time": "2025-05-04T10:18:24.816Z"
   },
   {
    "duration": 173,
    "start_time": "2025-05-04T10:18:24.971Z"
   },
   {
    "duration": 192,
    "start_time": "2025-05-04T10:18:25.146Z"
   },
   {
    "duration": 154,
    "start_time": "2025-05-04T10:18:25.340Z"
   },
   {
    "duration": 9,
    "start_time": "2025-05-04T10:18:25.496Z"
   },
   {
    "duration": 5,
    "start_time": "2025-05-04T10:18:25.507Z"
   },
   {
    "duration": 1490,
    "start_time": "2025-05-04T10:18:25.514Z"
   },
   {
    "duration": 7,
    "start_time": "2025-05-04T10:18:27.006Z"
   },
   {
    "duration": 14,
    "start_time": "2025-05-04T10:18:27.015Z"
   },
   {
    "duration": 6,
    "start_time": "2025-05-04T10:18:27.031Z"
   },
   {
    "duration": 11,
    "start_time": "2025-05-04T10:18:27.062Z"
   },
   {
    "duration": 11,
    "start_time": "2025-05-04T10:18:27.075Z"
   },
   {
    "duration": 10,
    "start_time": "2025-05-04T10:18:27.087Z"
   },
   {
    "duration": 8,
    "start_time": "2025-05-04T10:18:27.101Z"
   },
   {
    "duration": 128,
    "start_time": "2025-05-04T10:18:27.110Z"
   },
   {
    "duration": 280,
    "start_time": "2025-05-04T10:18:27.240Z"
   },
   {
    "duration": 308,
    "start_time": "2025-05-04T10:18:27.522Z"
   },
   {
    "duration": 313,
    "start_time": "2025-05-04T10:18:27.831Z"
   },
   {
    "duration": 5,
    "start_time": "2025-05-04T10:18:28.145Z"
   },
   {
    "duration": 4,
    "start_time": "2025-05-04T10:18:28.162Z"
   },
   {
    "duration": 8,
    "start_time": "2025-05-04T10:18:28.167Z"
   },
   {
    "duration": 20,
    "start_time": "2025-05-04T10:18:28.176Z"
   },
   {
    "duration": 31,
    "start_time": "2025-05-04T10:18:28.198Z"
   },
   {
    "duration": 16,
    "start_time": "2025-05-04T10:18:28.230Z"
   },
   {
    "duration": 5,
    "start_time": "2025-05-04T10:18:28.247Z"
   },
   {
    "duration": 90,
    "start_time": "2025-05-04T10:18:28.253Z"
   },
   {
    "duration": 23,
    "start_time": "2025-05-04T10:18:28.345Z"
   },
   {
    "duration": 24,
    "start_time": "2025-05-04T10:18:28.370Z"
   },
   {
    "duration": 15,
    "start_time": "2025-05-04T10:18:28.396Z"
   },
   {
    "duration": 16,
    "start_time": "2025-05-04T10:18:28.412Z"
   },
   {
    "duration": 34,
    "start_time": "2025-05-04T10:18:28.429Z"
   },
   {
    "duration": 28,
    "start_time": "2025-05-04T10:18:28.465Z"
   },
   {
    "duration": 23,
    "start_time": "2025-05-04T10:18:28.494Z"
   },
   {
    "duration": 5,
    "start_time": "2025-05-04T10:18:28.519Z"
   },
   {
    "duration": 6,
    "start_time": "2025-05-04T10:18:28.526Z"
   },
   {
    "duration": 29,
    "start_time": "2025-05-04T10:18:28.533Z"
   },
   {
    "duration": 6,
    "start_time": "2025-05-04T10:18:28.564Z"
   },
   {
    "duration": 10,
    "start_time": "2025-05-04T10:18:28.571Z"
   },
   {
    "duration": 5,
    "start_time": "2025-05-04T10:18:28.583Z"
   },
   {
    "duration": 1120,
    "start_time": "2025-05-04T10:21:42.983Z"
   },
   {
    "duration": 111,
    "start_time": "2025-05-04T10:21:44.105Z"
   },
   {
    "duration": 10,
    "start_time": "2025-05-04T10:21:44.218Z"
   },
   {
    "duration": 12,
    "start_time": "2025-05-04T10:21:44.231Z"
   },
   {
    "duration": 6,
    "start_time": "2025-05-04T10:21:44.245Z"
   },
   {
    "duration": 6,
    "start_time": "2025-05-04T10:21:44.253Z"
   },
   {
    "duration": 5,
    "start_time": "2025-05-04T10:21:44.260Z"
   },
   {
    "duration": 5,
    "start_time": "2025-05-04T10:21:44.267Z"
   },
   {
    "duration": 14,
    "start_time": "2025-05-04T10:21:44.274Z"
   },
   {
    "duration": 7,
    "start_time": "2025-05-04T10:21:44.291Z"
   },
   {
    "duration": 11,
    "start_time": "2025-05-04T10:21:44.299Z"
   },
   {
    "duration": 4,
    "start_time": "2025-05-04T10:21:44.312Z"
   },
   {
    "duration": 205,
    "start_time": "2025-05-04T10:21:44.318Z"
   },
   {
    "duration": 183,
    "start_time": "2025-05-04T10:21:44.525Z"
   },
   {
    "duration": 153,
    "start_time": "2025-05-04T10:21:44.710Z"
   },
   {
    "duration": 179,
    "start_time": "2025-05-04T10:21:44.864Z"
   },
   {
    "duration": 187,
    "start_time": "2025-05-04T10:21:45.045Z"
   },
   {
    "duration": 172,
    "start_time": "2025-05-04T10:21:45.234Z"
   },
   {
    "duration": 8,
    "start_time": "2025-05-04T10:21:45.408Z"
   },
   {
    "duration": 12,
    "start_time": "2025-05-04T10:21:45.418Z"
   },
   {
    "duration": 1520,
    "start_time": "2025-05-04T10:21:45.432Z"
   },
   {
    "duration": 12,
    "start_time": "2025-05-04T10:21:46.955Z"
   },
   {
    "duration": 16,
    "start_time": "2025-05-04T10:21:46.968Z"
   },
   {
    "duration": 6,
    "start_time": "2025-05-04T10:21:46.985Z"
   },
   {
    "duration": 11,
    "start_time": "2025-05-04T10:21:46.992Z"
   },
   {
    "duration": 4,
    "start_time": "2025-05-04T10:21:47.004Z"
   },
   {
    "duration": 13,
    "start_time": "2025-05-04T10:21:47.009Z"
   },
   {
    "duration": 39,
    "start_time": "2025-05-04T10:21:47.025Z"
   },
   {
    "duration": 111,
    "start_time": "2025-05-04T10:21:47.065Z"
   },
   {
    "duration": 266,
    "start_time": "2025-05-04T10:21:47.178Z"
   },
   {
    "duration": 306,
    "start_time": "2025-05-04T10:21:47.445Z"
   },
   {
    "duration": 304,
    "start_time": "2025-05-04T10:21:47.752Z"
   },
   {
    "duration": 5,
    "start_time": "2025-05-04T10:21:48.061Z"
   },
   {
    "duration": 13,
    "start_time": "2025-05-04T10:21:48.068Z"
   },
   {
    "duration": 21,
    "start_time": "2025-05-04T10:21:48.082Z"
   },
   {
    "duration": 8,
    "start_time": "2025-05-04T10:21:48.104Z"
   },
   {
    "duration": 11,
    "start_time": "2025-05-04T10:21:48.113Z"
   },
   {
    "duration": 8,
    "start_time": "2025-05-04T10:21:48.125Z"
   },
   {
    "duration": 5,
    "start_time": "2025-05-04T10:21:48.134Z"
   },
   {
    "duration": 103,
    "start_time": "2025-05-04T10:21:48.140Z"
   },
   {
    "duration": 21,
    "start_time": "2025-05-04T10:21:48.245Z"
   },
   {
    "duration": 22,
    "start_time": "2025-05-04T10:21:48.267Z"
   },
   {
    "duration": 16,
    "start_time": "2025-05-04T10:21:48.291Z"
   },
   {
    "duration": 17,
    "start_time": "2025-05-04T10:21:48.308Z"
   },
   {
    "duration": 39,
    "start_time": "2025-05-04T10:21:48.327Z"
   },
   {
    "duration": 83,
    "start_time": "2025-05-04T10:21:48.367Z"
   },
   {
    "duration": 23,
    "start_time": "2025-05-04T10:21:48.452Z"
   },
   {
    "duration": 5,
    "start_time": "2025-05-04T10:21:48.476Z"
   },
   {
    "duration": 6,
    "start_time": "2025-05-04T10:21:48.482Z"
   },
   {
    "duration": 7,
    "start_time": "2025-05-04T10:21:48.489Z"
   },
   {
    "duration": 4,
    "start_time": "2025-05-04T10:21:48.498Z"
   },
   {
    "duration": 6,
    "start_time": "2025-05-04T10:21:48.503Z"
   },
   {
    "duration": 8,
    "start_time": "2025-05-04T10:21:48.511Z"
   },
   {
    "duration": 1084,
    "start_time": "2025-05-04T10:22:53.843Z"
   },
   {
    "duration": 122,
    "start_time": "2025-05-04T10:22:54.928Z"
   },
   {
    "duration": 12,
    "start_time": "2025-05-04T10:22:55.053Z"
   },
   {
    "duration": 13,
    "start_time": "2025-05-04T10:22:55.067Z"
   },
   {
    "duration": 7,
    "start_time": "2025-05-04T10:22:55.081Z"
   },
   {
    "duration": 5,
    "start_time": "2025-05-04T10:22:55.089Z"
   },
   {
    "duration": 5,
    "start_time": "2025-05-04T10:22:55.095Z"
   },
   {
    "duration": 3,
    "start_time": "2025-05-04T10:22:55.102Z"
   },
   {
    "duration": 13,
    "start_time": "2025-05-04T10:22:55.106Z"
   },
   {
    "duration": 7,
    "start_time": "2025-05-04T10:22:55.120Z"
   },
   {
    "duration": 40,
    "start_time": "2025-05-04T10:22:55.128Z"
   },
   {
    "duration": 7,
    "start_time": "2025-05-04T10:22:55.169Z"
   },
   {
    "duration": 197,
    "start_time": "2025-05-04T10:22:55.178Z"
   },
   {
    "duration": 177,
    "start_time": "2025-05-04T10:22:55.376Z"
   },
   {
    "duration": 147,
    "start_time": "2025-05-04T10:22:55.554Z"
   },
   {
    "duration": 176,
    "start_time": "2025-05-04T10:22:55.703Z"
   },
   {
    "duration": 183,
    "start_time": "2025-05-04T10:22:55.880Z"
   },
   {
    "duration": 163,
    "start_time": "2025-05-04T10:22:56.065Z"
   },
   {
    "duration": 8,
    "start_time": "2025-05-04T10:22:56.230Z"
   },
   {
    "duration": 12,
    "start_time": "2025-05-04T10:22:56.239Z"
   },
   {
    "duration": 1377,
    "start_time": "2025-05-04T10:22:56.261Z"
   },
   {
    "duration": 7,
    "start_time": "2025-05-04T10:22:57.640Z"
   },
   {
    "duration": 21,
    "start_time": "2025-05-04T10:22:57.648Z"
   },
   {
    "duration": 4,
    "start_time": "2025-05-04T10:22:57.671Z"
   },
   {
    "duration": 24,
    "start_time": "2025-05-04T10:22:57.676Z"
   },
   {
    "duration": 5,
    "start_time": "2025-05-04T10:22:57.701Z"
   },
   {
    "duration": 10,
    "start_time": "2025-05-04T10:22:57.707Z"
   },
   {
    "duration": 13,
    "start_time": "2025-05-04T10:22:57.718Z"
   },
   {
    "duration": 113,
    "start_time": "2025-05-04T10:22:57.732Z"
   },
   {
    "duration": 292,
    "start_time": "2025-05-04T10:22:57.847Z"
   },
   {
    "duration": 303,
    "start_time": "2025-05-04T10:22:58.140Z"
   },
   {
    "duration": 277,
    "start_time": "2025-05-04T10:22:58.445Z"
   },
   {
    "duration": 5,
    "start_time": "2025-05-04T10:22:58.723Z"
   },
   {
    "duration": 14,
    "start_time": "2025-05-04T10:22:58.729Z"
   },
   {
    "duration": 5,
    "start_time": "2025-05-04T10:22:58.744Z"
   },
   {
    "duration": 16,
    "start_time": "2025-05-04T10:22:58.751Z"
   },
   {
    "duration": 11,
    "start_time": "2025-05-04T10:22:58.768Z"
   },
   {
    "duration": 9,
    "start_time": "2025-05-04T10:22:58.780Z"
   },
   {
    "duration": 5,
    "start_time": "2025-05-04T10:22:58.790Z"
   },
   {
    "duration": 114,
    "start_time": "2025-05-04T10:22:58.798Z"
   },
   {
    "duration": 12,
    "start_time": "2025-05-04T10:22:58.914Z"
   },
   {
    "duration": 38,
    "start_time": "2025-05-04T10:22:58.928Z"
   },
   {
    "duration": 15,
    "start_time": "2025-05-04T10:22:58.968Z"
   },
   {
    "duration": 15,
    "start_time": "2025-05-04T10:22:58.984Z"
   },
   {
    "duration": 8,
    "start_time": "2025-05-04T10:22:59.001Z"
   },
   {
    "duration": 24,
    "start_time": "2025-05-04T10:22:59.011Z"
   },
   {
    "duration": 50,
    "start_time": "2025-05-04T10:22:59.037Z"
   },
   {
    "duration": 5,
    "start_time": "2025-05-04T10:22:59.089Z"
   },
   {
    "duration": 4,
    "start_time": "2025-05-04T10:22:59.095Z"
   },
   {
    "duration": 8,
    "start_time": "2025-05-04T10:22:59.100Z"
   },
   {
    "duration": 4,
    "start_time": "2025-05-04T10:22:59.110Z"
   },
   {
    "duration": 5,
    "start_time": "2025-05-04T10:22:59.116Z"
   },
   {
    "duration": 39,
    "start_time": "2025-05-04T10:22:59.123Z"
   },
   {
    "duration": 1095,
    "start_time": "2025-05-04T10:23:47.726Z"
   },
   {
    "duration": 134,
    "start_time": "2025-05-04T10:23:48.823Z"
   },
   {
    "duration": 11,
    "start_time": "2025-05-04T10:23:48.958Z"
   },
   {
    "duration": 10,
    "start_time": "2025-05-04T10:23:48.971Z"
   },
   {
    "duration": 3,
    "start_time": "2025-05-04T10:23:48.982Z"
   },
   {
    "duration": 5,
    "start_time": "2025-05-04T10:23:48.987Z"
   },
   {
    "duration": 4,
    "start_time": "2025-05-04T10:23:48.994Z"
   },
   {
    "duration": 4,
    "start_time": "2025-05-04T10:23:48.999Z"
   },
   {
    "duration": 18,
    "start_time": "2025-05-04T10:23:49.004Z"
   },
   {
    "duration": 8,
    "start_time": "2025-05-04T10:23:49.023Z"
   },
   {
    "duration": 40,
    "start_time": "2025-05-04T10:23:49.032Z"
   },
   {
    "duration": 6,
    "start_time": "2025-05-04T10:23:49.074Z"
   },
   {
    "duration": 207,
    "start_time": "2025-05-04T10:23:49.081Z"
   },
   {
    "duration": 178,
    "start_time": "2025-05-04T10:23:49.291Z"
   },
   {
    "duration": 148,
    "start_time": "2025-05-04T10:23:49.471Z"
   },
   {
    "duration": 174,
    "start_time": "2025-05-04T10:23:49.620Z"
   },
   {
    "duration": 184,
    "start_time": "2025-05-04T10:23:49.795Z"
   },
   {
    "duration": 192,
    "start_time": "2025-05-04T10:23:49.980Z"
   },
   {
    "duration": 8,
    "start_time": "2025-05-04T10:23:50.173Z"
   },
   {
    "duration": 5,
    "start_time": "2025-05-04T10:23:50.183Z"
   },
   {
    "duration": 1328,
    "start_time": "2025-05-04T10:23:50.189Z"
   },
   {
    "duration": 8,
    "start_time": "2025-05-04T10:23:51.519Z"
   },
   {
    "duration": 24,
    "start_time": "2025-05-04T10:23:51.528Z"
   },
   {
    "duration": 8,
    "start_time": "2025-05-04T10:23:51.554Z"
   },
   {
    "duration": 42,
    "start_time": "2025-05-04T10:23:51.564Z"
   },
   {
    "duration": 38,
    "start_time": "2025-05-04T10:23:51.608Z"
   },
   {
    "duration": 90,
    "start_time": "2025-05-04T10:23:51.648Z"
   },
   {
    "duration": 59,
    "start_time": "2025-05-04T10:23:51.740Z"
   },
   {
    "duration": 117,
    "start_time": "2025-05-04T10:23:51.801Z"
   },
   {
    "duration": 298,
    "start_time": "2025-05-04T10:23:51.919Z"
   },
   {
    "duration": 301,
    "start_time": "2025-05-04T10:23:52.219Z"
   },
   {
    "duration": 276,
    "start_time": "2025-05-04T10:23:52.521Z"
   },
   {
    "duration": 5,
    "start_time": "2025-05-04T10:23:52.798Z"
   },
   {
    "duration": 11,
    "start_time": "2025-05-04T10:23:52.804Z"
   },
   {
    "duration": 3,
    "start_time": "2025-05-04T10:23:52.817Z"
   },
   {
    "duration": 8,
    "start_time": "2025-05-04T10:23:52.822Z"
   },
   {
    "duration": 10,
    "start_time": "2025-05-04T10:23:52.831Z"
   },
   {
    "duration": 8,
    "start_time": "2025-05-04T10:23:52.862Z"
   },
   {
    "duration": 81,
    "start_time": "2025-05-04T10:23:52.871Z"
   },
   {
    "duration": 87,
    "start_time": "2025-05-04T10:23:52.954Z"
   },
   {
    "duration": 18,
    "start_time": "2025-05-04T10:23:53.045Z"
   },
   {
    "duration": 25,
    "start_time": "2025-05-04T10:23:53.065Z"
   },
   {
    "duration": 16,
    "start_time": "2025-05-04T10:23:53.091Z"
   },
   {
    "duration": 15,
    "start_time": "2025-05-04T10:23:53.109Z"
   },
   {
    "duration": 37,
    "start_time": "2025-05-04T10:23:53.126Z"
   },
   {
    "duration": 36,
    "start_time": "2025-05-04T10:23:53.164Z"
   },
   {
    "duration": 23,
    "start_time": "2025-05-04T10:23:53.201Z"
   },
   {
    "duration": 5,
    "start_time": "2025-05-04T10:23:53.225Z"
   },
   {
    "duration": 11,
    "start_time": "2025-05-04T10:23:53.232Z"
   },
   {
    "duration": 23,
    "start_time": "2025-05-04T10:23:53.245Z"
   },
   {
    "duration": 7,
    "start_time": "2025-05-04T10:23:53.270Z"
   },
   {
    "duration": 8,
    "start_time": "2025-05-04T10:23:53.278Z"
   },
   {
    "duration": 6,
    "start_time": "2025-05-04T10:23:53.288Z"
   },
   {
    "duration": 6,
    "start_time": "2025-05-04T10:24:01.370Z"
   },
   {
    "duration": 5,
    "start_time": "2025-05-04T10:24:02.807Z"
   },
   {
    "duration": 8,
    "start_time": "2025-05-04T10:24:36.009Z"
   },
   {
    "duration": 1087,
    "start_time": "2025-05-04T10:25:18.437Z"
   },
   {
    "duration": 156,
    "start_time": "2025-05-04T10:25:19.526Z"
   },
   {
    "duration": 12,
    "start_time": "2025-05-04T10:25:19.683Z"
   },
   {
    "duration": 39,
    "start_time": "2025-05-04T10:25:19.696Z"
   },
   {
    "duration": 3,
    "start_time": "2025-05-04T10:25:19.737Z"
   },
   {
    "duration": 7,
    "start_time": "2025-05-04T10:25:19.741Z"
   },
   {
    "duration": 4,
    "start_time": "2025-05-04T10:25:19.750Z"
   },
   {
    "duration": 4,
    "start_time": "2025-05-04T10:25:19.756Z"
   },
   {
    "duration": 11,
    "start_time": "2025-05-04T10:25:19.761Z"
   },
   {
    "duration": 7,
    "start_time": "2025-05-04T10:25:19.774Z"
   },
   {
    "duration": 12,
    "start_time": "2025-05-04T10:25:19.782Z"
   },
   {
    "duration": 7,
    "start_time": "2025-05-04T10:25:19.795Z"
   },
   {
    "duration": 196,
    "start_time": "2025-05-04T10:25:19.803Z"
   },
   {
    "duration": 192,
    "start_time": "2025-05-04T10:25:20.001Z"
   },
   {
    "duration": 148,
    "start_time": "2025-05-04T10:25:20.194Z"
   },
   {
    "duration": 175,
    "start_time": "2025-05-04T10:25:20.344Z"
   },
   {
    "duration": 189,
    "start_time": "2025-05-04T10:25:20.521Z"
   },
   {
    "duration": 164,
    "start_time": "2025-05-04T10:25:20.711Z"
   },
   {
    "duration": 7,
    "start_time": "2025-05-04T10:25:20.877Z"
   },
   {
    "duration": 63,
    "start_time": "2025-05-04T10:25:20.885Z"
   },
   {
    "duration": 1323,
    "start_time": "2025-05-04T10:25:20.949Z"
   },
   {
    "duration": 8,
    "start_time": "2025-05-04T10:25:22.273Z"
   },
   {
    "duration": 14,
    "start_time": "2025-05-04T10:25:22.283Z"
   },
   {
    "duration": 5,
    "start_time": "2025-05-04T10:25:22.298Z"
   },
   {
    "duration": 16,
    "start_time": "2025-05-04T10:25:22.304Z"
   },
   {
    "duration": 5,
    "start_time": "2025-05-04T10:25:22.322Z"
   },
   {
    "duration": 37,
    "start_time": "2025-05-04T10:25:22.329Z"
   },
   {
    "duration": 8,
    "start_time": "2025-05-04T10:25:22.370Z"
   },
   {
    "duration": 159,
    "start_time": "2025-05-04T10:25:22.380Z"
   },
   {
    "duration": 284,
    "start_time": "2025-05-04T10:25:22.541Z"
   },
   {
    "duration": 326,
    "start_time": "2025-05-04T10:25:22.827Z"
   },
   {
    "duration": 284,
    "start_time": "2025-05-04T10:25:23.155Z"
   },
   {
    "duration": 5,
    "start_time": "2025-05-04T10:25:23.440Z"
   },
   {
    "duration": 18,
    "start_time": "2025-05-04T10:25:23.446Z"
   },
   {
    "duration": 6,
    "start_time": "2025-05-04T10:25:23.466Z"
   },
   {
    "duration": 17,
    "start_time": "2025-05-04T10:25:23.473Z"
   },
   {
    "duration": 9,
    "start_time": "2025-05-04T10:25:23.491Z"
   },
   {
    "duration": 32,
    "start_time": "2025-05-04T10:25:23.502Z"
   },
   {
    "duration": 5,
    "start_time": "2025-05-04T10:25:23.536Z"
   },
   {
    "duration": 96,
    "start_time": "2025-05-04T10:25:23.543Z"
   },
   {
    "duration": 22,
    "start_time": "2025-05-04T10:25:23.641Z"
   },
   {
    "duration": 25,
    "start_time": "2025-05-04T10:25:23.664Z"
   },
   {
    "duration": 65,
    "start_time": "2025-05-04T10:25:23.691Z"
   },
   {
    "duration": 17,
    "start_time": "2025-05-04T10:25:23.758Z"
   },
   {
    "duration": 12,
    "start_time": "2025-05-04T10:25:23.778Z"
   },
   {
    "duration": 28,
    "start_time": "2025-05-04T10:25:23.792Z"
   },
   {
    "duration": 51,
    "start_time": "2025-05-04T10:25:23.822Z"
   },
   {
    "duration": 4,
    "start_time": "2025-05-04T10:25:23.875Z"
   },
   {
    "duration": 4,
    "start_time": "2025-05-04T10:25:23.881Z"
   },
   {
    "duration": 10,
    "start_time": "2025-05-04T10:25:23.886Z"
   },
   {
    "duration": 5,
    "start_time": "2025-05-04T10:25:23.898Z"
   },
   {
    "duration": 13,
    "start_time": "2025-05-04T10:25:23.904Z"
   },
   {
    "duration": 9,
    "start_time": "2025-05-04T10:25:23.919Z"
   },
   {
    "duration": 997,
    "start_time": "2025-05-04T10:29:48.917Z"
   },
   {
    "duration": 114,
    "start_time": "2025-05-04T10:29:49.915Z"
   },
   {
    "duration": 12,
    "start_time": "2025-05-04T10:29:50.031Z"
   },
   {
    "duration": 13,
    "start_time": "2025-05-04T10:29:50.046Z"
   },
   {
    "duration": 39,
    "start_time": "2025-05-04T10:29:50.060Z"
   },
   {
    "duration": 6,
    "start_time": "2025-05-04T10:29:50.102Z"
   },
   {
    "duration": 6,
    "start_time": "2025-05-04T10:29:50.110Z"
   },
   {
    "duration": 5,
    "start_time": "2025-05-04T10:29:50.119Z"
   },
   {
    "duration": 12,
    "start_time": "2025-05-04T10:29:50.126Z"
   },
   {
    "duration": 8,
    "start_time": "2025-05-04T10:29:50.140Z"
   },
   {
    "duration": 10,
    "start_time": "2025-05-04T10:29:50.149Z"
   },
   {
    "duration": 5,
    "start_time": "2025-05-04T10:29:50.160Z"
   },
   {
    "duration": 180,
    "start_time": "2025-05-04T10:29:50.167Z"
   },
   {
    "duration": 176,
    "start_time": "2025-05-04T10:29:50.348Z"
   },
   {
    "duration": 156,
    "start_time": "2025-05-04T10:29:50.526Z"
   },
   {
    "duration": 174,
    "start_time": "2025-05-04T10:29:50.684Z"
   },
   {
    "duration": 175,
    "start_time": "2025-05-04T10:29:50.862Z"
   },
   {
    "duration": 154,
    "start_time": "2025-05-04T10:29:51.038Z"
   },
   {
    "duration": 9,
    "start_time": "2025-05-04T10:29:51.194Z"
   },
   {
    "duration": 15,
    "start_time": "2025-05-04T10:29:51.205Z"
   },
   {
    "duration": 1409,
    "start_time": "2025-05-04T10:29:51.221Z"
   },
   {
    "duration": 8,
    "start_time": "2025-05-04T10:29:52.632Z"
   },
   {
    "duration": 24,
    "start_time": "2025-05-04T10:29:52.641Z"
   },
   {
    "duration": 11,
    "start_time": "2025-05-04T10:29:52.667Z"
   },
   {
    "duration": 19,
    "start_time": "2025-05-04T10:29:52.679Z"
   },
   {
    "duration": 4,
    "start_time": "2025-05-04T10:29:52.700Z"
   },
   {
    "duration": 17,
    "start_time": "2025-05-04T10:29:52.706Z"
   },
   {
    "duration": 21,
    "start_time": "2025-05-04T10:29:52.726Z"
   },
   {
    "duration": 106,
    "start_time": "2025-05-04T10:29:52.749Z"
   },
   {
    "duration": 282,
    "start_time": "2025-05-04T10:29:52.856Z"
   },
   {
    "duration": 295,
    "start_time": "2025-05-04T10:29:53.140Z"
   },
   {
    "duration": 276,
    "start_time": "2025-05-04T10:29:53.437Z"
   },
   {
    "duration": 4,
    "start_time": "2025-05-04T10:29:53.715Z"
   },
   {
    "duration": 62,
    "start_time": "2025-05-04T10:29:53.721Z"
   },
   {
    "duration": 28,
    "start_time": "2025-05-04T10:29:53.785Z"
   },
   {
    "duration": 22,
    "start_time": "2025-05-04T10:29:53.814Z"
   },
   {
    "duration": 13,
    "start_time": "2025-05-04T10:29:53.838Z"
   },
   {
    "duration": 14,
    "start_time": "2025-05-04T10:29:53.852Z"
   },
   {
    "duration": 18,
    "start_time": "2025-05-04T10:29:53.867Z"
   },
   {
    "duration": 116,
    "start_time": "2025-05-04T10:29:53.887Z"
   },
   {
    "duration": 14,
    "start_time": "2025-05-04T10:29:54.004Z"
   },
   {
    "duration": 106,
    "start_time": "2025-05-04T10:29:54.019Z"
   },
   {
    "duration": 15,
    "start_time": "2025-05-04T10:29:54.127Z"
   },
   {
    "duration": 15,
    "start_time": "2025-05-04T10:29:54.144Z"
   },
   {
    "duration": 8,
    "start_time": "2025-05-04T10:29:54.161Z"
   },
   {
    "duration": 49,
    "start_time": "2025-05-04T10:29:54.171Z"
   },
   {
    "duration": 33,
    "start_time": "2025-05-04T10:29:54.222Z"
   },
   {
    "duration": 6,
    "start_time": "2025-05-04T10:29:54.257Z"
   },
   {
    "duration": 5,
    "start_time": "2025-05-04T10:29:54.264Z"
   },
   {
    "duration": 26,
    "start_time": "2025-05-04T10:29:54.270Z"
   },
   {
    "duration": 7,
    "start_time": "2025-05-04T10:29:54.298Z"
   },
   {
    "duration": 10,
    "start_time": "2025-05-04T10:29:54.306Z"
   },
   {
    "duration": 5,
    "start_time": "2025-05-04T10:29:54.317Z"
   },
   {
    "duration": 1304,
    "start_time": "2025-05-05T17:07:52.001Z"
   },
   {
    "duration": 98,
    "start_time": "2025-05-05T17:07:53.307Z"
   },
   {
    "duration": 12,
    "start_time": "2025-05-05T17:07:53.406Z"
   },
   {
    "duration": 16,
    "start_time": "2025-05-05T17:07:53.420Z"
   },
   {
    "duration": 3,
    "start_time": "2025-05-05T17:07:53.438Z"
   },
   {
    "duration": 5,
    "start_time": "2025-05-05T17:07:53.443Z"
   },
   {
    "duration": 5,
    "start_time": "2025-05-05T17:07:53.449Z"
   },
   {
    "duration": 4,
    "start_time": "2025-05-05T17:07:53.456Z"
   },
   {
    "duration": 11,
    "start_time": "2025-05-05T17:07:53.461Z"
   },
   {
    "duration": 7,
    "start_time": "2025-05-05T17:07:53.474Z"
   },
   {
    "duration": 9,
    "start_time": "2025-05-05T17:07:53.483Z"
   },
   {
    "duration": 45,
    "start_time": "2025-05-05T17:07:53.493Z"
   },
   {
    "duration": 192,
    "start_time": "2025-05-05T17:07:53.539Z"
   },
   {
    "duration": 177,
    "start_time": "2025-05-05T17:07:53.733Z"
   },
   {
    "duration": 148,
    "start_time": "2025-05-05T17:07:53.911Z"
   },
   {
    "duration": 189,
    "start_time": "2025-05-05T17:07:54.060Z"
   },
   {
    "duration": 186,
    "start_time": "2025-05-05T17:07:54.250Z"
   },
   {
    "duration": 162,
    "start_time": "2025-05-05T17:07:54.437Z"
   },
   {
    "duration": 8,
    "start_time": "2025-05-05T17:07:54.601Z"
   },
   {
    "duration": 25,
    "start_time": "2025-05-05T17:07:54.611Z"
   },
   {
    "duration": 1433,
    "start_time": "2025-05-05T17:07:54.637Z"
   },
   {
    "duration": 8,
    "start_time": "2025-05-05T17:07:56.071Z"
   },
   {
    "duration": 14,
    "start_time": "2025-05-05T17:07:56.081Z"
   },
   {
    "duration": 8,
    "start_time": "2025-05-05T17:07:56.096Z"
   },
   {
    "duration": 30,
    "start_time": "2025-05-05T17:07:56.106Z"
   },
   {
    "duration": 5,
    "start_time": "2025-05-05T17:07:56.137Z"
   },
   {
    "duration": 14,
    "start_time": "2025-05-05T17:07:56.143Z"
   },
   {
    "duration": 10,
    "start_time": "2025-05-05T17:07:56.160Z"
   },
   {
    "duration": 152,
    "start_time": "2025-05-05T17:07:56.172Z"
   },
   {
    "duration": 293,
    "start_time": "2025-05-05T17:07:56.325Z"
   },
   {
    "duration": 318,
    "start_time": "2025-05-05T17:07:56.620Z"
   },
   {
    "duration": 301,
    "start_time": "2025-05-05T17:07:56.939Z"
   },
   {
    "duration": 5,
    "start_time": "2025-05-05T17:07:57.242Z"
   },
   {
    "duration": 6,
    "start_time": "2025-05-05T17:07:57.248Z"
   },
   {
    "duration": 5,
    "start_time": "2025-05-05T17:07:57.255Z"
   },
   {
    "duration": 10,
    "start_time": "2025-05-05T17:07:57.261Z"
   },
   {
    "duration": 10,
    "start_time": "2025-05-05T17:07:57.272Z"
   },
   {
    "duration": 7,
    "start_time": "2025-05-05T17:07:57.283Z"
   },
   {
    "duration": 6,
    "start_time": "2025-05-05T17:07:57.292Z"
   },
   {
    "duration": 105,
    "start_time": "2025-05-05T17:07:57.335Z"
   },
   {
    "duration": 13,
    "start_time": "2025-05-05T17:07:57.441Z"
   },
   {
    "duration": 23,
    "start_time": "2025-05-05T17:07:57.456Z"
   },
   {
    "duration": 16,
    "start_time": "2025-05-05T17:07:57.480Z"
   },
   {
    "duration": 43,
    "start_time": "2025-05-05T17:07:57.497Z"
   },
   {
    "duration": 9,
    "start_time": "2025-05-05T17:07:57.541Z"
   },
   {
    "duration": 33,
    "start_time": "2025-05-05T17:07:57.552Z"
   },
   {
    "duration": 24,
    "start_time": "2025-05-05T17:07:57.586Z"
   },
   {
    "duration": 84,
    "start_time": "2025-05-05T17:07:57.611Z"
   },
   {
    "duration": 5,
    "start_time": "2025-05-05T17:07:57.697Z"
   },
   {
    "duration": 12,
    "start_time": "2025-05-05T17:07:57.703Z"
   },
   {
    "duration": 4,
    "start_time": "2025-05-05T17:07:57.716Z"
   },
   {
    "duration": 9,
    "start_time": "2025-05-05T17:07:57.722Z"
   },
   {
    "duration": 14,
    "start_time": "2025-05-05T17:07:57.733Z"
   },
   {
    "duration": 1203,
    "start_time": "2025-05-05T17:09:31.713Z"
   },
   {
    "duration": 138,
    "start_time": "2025-05-05T17:09:33.417Z"
   },
   {
    "duration": 13,
    "start_time": "2025-05-05T17:09:40.712Z"
   },
   {
    "duration": 12,
    "start_time": "2025-05-05T17:09:43.050Z"
   },
   {
    "duration": 13,
    "start_time": "2025-05-05T17:10:02.388Z"
   },
   {
    "duration": 1113,
    "start_time": "2025-05-05T17:10:21.232Z"
   },
   {
    "duration": 85,
    "start_time": "2025-05-05T17:10:22.821Z"
   },
   {
    "duration": 12,
    "start_time": "2025-05-05T17:10:24.820Z"
   },
   {
    "duration": 12,
    "start_time": "2025-05-05T17:10:30.386Z"
   },
   {
    "duration": 4,
    "start_time": "2025-05-05T17:10:34.685Z"
   },
   {
    "duration": 5,
    "start_time": "2025-05-05T17:10:35.420Z"
   },
   {
    "duration": 6,
    "start_time": "2025-05-05T17:10:36.085Z"
   },
   {
    "duration": 5,
    "start_time": "2025-05-05T17:10:37.722Z"
   },
   {
    "duration": 13,
    "start_time": "2025-05-05T17:10:41.375Z"
   },
   {
    "duration": 8,
    "start_time": "2025-05-05T17:10:43.790Z"
   },
   {
    "duration": 10,
    "start_time": "2025-05-05T17:10:44.366Z"
   },
   {
    "duration": 102,
    "start_time": "2025-05-05T17:12:59.868Z"
   },
   {
    "duration": 1102,
    "start_time": "2025-05-05T17:13:14.227Z"
   },
   {
    "duration": 81,
    "start_time": "2025-05-05T17:13:15.846Z"
   },
   {
    "duration": 12,
    "start_time": "2025-05-05T17:13:18.083Z"
   },
   {
    "duration": 14,
    "start_time": "2025-05-05T17:13:19.892Z"
   },
   {
    "duration": 4,
    "start_time": "2025-05-05T17:13:22.422Z"
   },
   {
    "duration": 5,
    "start_time": "2025-05-05T17:13:23.337Z"
   },
   {
    "duration": 6,
    "start_time": "2025-05-05T17:13:23.867Z"
   },
   {
    "duration": 5,
    "start_time": "2025-05-05T17:13:25.169Z"
   },
   {
    "duration": 12,
    "start_time": "2025-05-05T17:13:27.251Z"
   },
   {
    "duration": 8,
    "start_time": "2025-05-05T17:13:29.974Z"
   },
   {
    "duration": 11,
    "start_time": "2025-05-05T17:13:30.751Z"
   },
   {
    "duration": 98,
    "start_time": "2025-05-05T17:14:32.516Z"
   },
   {
    "duration": 1128,
    "start_time": "2025-05-05T17:14:57.390Z"
   },
   {
    "duration": 77,
    "start_time": "2025-05-05T17:14:58.520Z"
   },
   {
    "duration": 11,
    "start_time": "2025-05-05T17:14:58.599Z"
   },
   {
    "duration": 11,
    "start_time": "2025-05-05T17:14:58.612Z"
   },
   {
    "duration": 3,
    "start_time": "2025-05-05T17:14:58.625Z"
   },
   {
    "duration": 5,
    "start_time": "2025-05-05T17:14:58.630Z"
   },
   {
    "duration": 13,
    "start_time": "2025-05-05T17:14:58.636Z"
   },
   {
    "duration": 6,
    "start_time": "2025-05-05T17:14:58.652Z"
   },
   {
    "duration": 12,
    "start_time": "2025-05-05T17:14:58.660Z"
   },
   {
    "duration": 8,
    "start_time": "2025-05-05T17:14:58.673Z"
   },
   {
    "duration": 11,
    "start_time": "2025-05-05T17:14:58.683Z"
   },
   {
    "duration": 41,
    "start_time": "2025-05-05T17:14:58.697Z"
   },
   {
    "duration": 244,
    "start_time": "2025-05-05T17:14:58.740Z"
   },
   {
    "duration": 215,
    "start_time": "2025-05-05T17:14:58.987Z"
   },
   {
    "duration": 176,
    "start_time": "2025-05-05T17:14:59.204Z"
   },
   {
    "duration": 188,
    "start_time": "2025-05-05T17:14:59.382Z"
   },
   {
    "duration": 202,
    "start_time": "2025-05-05T17:14:59.571Z"
   },
   {
    "duration": 173,
    "start_time": "2025-05-05T17:14:59.774Z"
   },
   {
    "duration": 20,
    "start_time": "2025-05-05T17:14:59.949Z"
   },
   {
    "duration": 7,
    "start_time": "2025-05-05T17:14:59.971Z"
   },
   {
    "duration": 2030,
    "start_time": "2025-05-05T17:14:59.980Z"
   },
   {
    "duration": 9,
    "start_time": "2025-05-05T17:15:02.012Z"
   },
   {
    "duration": 33,
    "start_time": "2025-05-05T17:15:02.022Z"
   },
   {
    "duration": 5,
    "start_time": "2025-05-05T17:15:02.056Z"
   },
   {
    "duration": 14,
    "start_time": "2025-05-05T17:15:02.063Z"
   },
   {
    "duration": 21,
    "start_time": "2025-05-05T17:15:02.079Z"
   },
   {
    "duration": 13,
    "start_time": "2025-05-05T17:15:02.102Z"
   },
   {
    "duration": 44,
    "start_time": "2025-05-05T17:15:02.116Z"
   },
   {
    "duration": 130,
    "start_time": "2025-05-05T17:15:02.162Z"
   },
   {
    "duration": 314,
    "start_time": "2025-05-05T17:15:02.294Z"
   },
   {
    "duration": 368,
    "start_time": "2025-05-05T17:15:02.610Z"
   },
   {
    "duration": 341,
    "start_time": "2025-05-05T17:15:02.979Z"
   },
   {
    "duration": 5,
    "start_time": "2025-05-05T17:15:03.321Z"
   },
   {
    "duration": 70,
    "start_time": "2025-05-05T17:15:03.336Z"
   },
   {
    "duration": 5,
    "start_time": "2025-05-05T17:15:03.408Z"
   },
   {
    "duration": 9,
    "start_time": "2025-05-05T17:15:03.414Z"
   },
   {
    "duration": 28,
    "start_time": "2025-05-05T17:15:03.424Z"
   },
   {
    "duration": 10,
    "start_time": "2025-05-05T17:15:03.454Z"
   },
   {
    "duration": 34,
    "start_time": "2025-05-05T17:15:03.465Z"
   },
   {
    "duration": 116,
    "start_time": "2025-05-05T17:15:03.500Z"
   },
   {
    "duration": 29,
    "start_time": "2025-05-05T17:15:03.620Z"
   },
   {
    "duration": 69,
    "start_time": "2025-05-05T17:15:03.652Z"
   },
   {
    "duration": 23,
    "start_time": "2025-05-05T17:15:03.723Z"
   },
   {
    "duration": 19,
    "start_time": "2025-05-05T17:15:03.750Z"
   },
   {
    "duration": 13,
    "start_time": "2025-05-05T17:15:03.771Z"
   },
   {
    "duration": 33,
    "start_time": "2025-05-05T17:15:03.785Z"
   },
   {
    "duration": 48,
    "start_time": "2025-05-05T17:15:03.819Z"
   },
   {
    "duration": 19,
    "start_time": "2025-05-05T17:15:03.869Z"
   },
   {
    "duration": 21,
    "start_time": "2025-05-05T17:15:03.889Z"
   },
   {
    "duration": 10,
    "start_time": "2025-05-05T17:15:03.912Z"
   },
   {
    "duration": 7,
    "start_time": "2025-05-05T17:15:03.924Z"
   },
   {
    "duration": 22,
    "start_time": "2025-05-05T17:15:03.936Z"
   },
   {
    "duration": 8,
    "start_time": "2025-05-05T17:15:03.959Z"
   },
   {
    "duration": 60,
    "start_time": "2025-05-05T17:20:08.763Z"
   },
   {
    "duration": 74,
    "start_time": "2025-05-05T17:22:27.881Z"
   },
   {
    "duration": 6,
    "start_time": "2025-05-05T17:22:46.821Z"
   },
   {
    "duration": 5,
    "start_time": "2025-05-05T17:23:02.858Z"
   },
   {
    "duration": 66,
    "start_time": "2025-05-05T17:26:38.467Z"
   },
   {
    "duration": 60,
    "start_time": "2025-05-05T17:30:17.041Z"
   },
   {
    "duration": 21,
    "start_time": "2025-05-05T17:32:09.582Z"
   },
   {
    "duration": 65,
    "start_time": "2025-05-05T17:32:30.147Z"
   },
   {
    "duration": 112,
    "start_time": "2025-05-05T17:32:37.125Z"
   },
   {
    "duration": 22,
    "start_time": "2025-05-05T17:32:59.865Z"
   },
   {
    "duration": 25,
    "start_time": "2025-05-05T17:34:32.696Z"
   },
   {
    "duration": 79,
    "start_time": "2025-05-05T17:36:48.612Z"
   },
   {
    "duration": 68,
    "start_time": "2025-05-05T17:38:02.002Z"
   },
   {
    "duration": 68,
    "start_time": "2025-05-05T17:39:12.136Z"
   },
   {
    "duration": 76,
    "start_time": "2025-05-05T17:48:17.925Z"
   },
   {
    "duration": 1095,
    "start_time": "2025-05-05T17:55:55.528Z"
   },
   {
    "duration": 87,
    "start_time": "2025-05-05T17:55:56.625Z"
   },
   {
    "duration": 10,
    "start_time": "2025-05-05T17:55:56.714Z"
   },
   {
    "duration": 11,
    "start_time": "2025-05-05T17:55:56.726Z"
   },
   {
    "duration": 3,
    "start_time": "2025-05-05T17:55:56.738Z"
   },
   {
    "duration": 30,
    "start_time": "2025-05-05T17:55:56.743Z"
   },
   {
    "duration": 5,
    "start_time": "2025-05-05T17:55:56.775Z"
   },
   {
    "duration": 4,
    "start_time": "2025-05-05T17:55:56.781Z"
   },
   {
    "duration": 12,
    "start_time": "2025-05-05T17:55:56.786Z"
   },
   {
    "duration": 8,
    "start_time": "2025-05-05T17:55:56.800Z"
   },
   {
    "duration": 84,
    "start_time": "2025-05-05T17:55:56.809Z"
   },
   {
    "duration": 6,
    "start_time": "2025-05-05T17:55:56.895Z"
   },
   {
    "duration": 178,
    "start_time": "2025-05-05T17:55:56.902Z"
   },
   {
    "duration": 191,
    "start_time": "2025-05-05T17:55:57.081Z"
   },
   {
    "duration": 164,
    "start_time": "2025-05-05T17:55:57.274Z"
   },
   {
    "duration": 175,
    "start_time": "2025-05-05T17:55:57.440Z"
   },
   {
    "duration": 186,
    "start_time": "2025-05-05T17:55:57.617Z"
   },
   {
    "duration": 167,
    "start_time": "2025-05-05T17:55:57.805Z"
   },
   {
    "duration": 9,
    "start_time": "2025-05-05T17:55:57.974Z"
   },
   {
    "duration": 6,
    "start_time": "2025-05-05T17:55:57.985Z"
   },
   {
    "duration": 1431,
    "start_time": "2025-05-05T17:55:57.992Z"
   },
   {
    "duration": 16,
    "start_time": "2025-05-05T17:55:59.425Z"
   },
   {
    "duration": 12,
    "start_time": "2025-05-05T17:55:59.443Z"
   },
   {
    "duration": 4,
    "start_time": "2025-05-05T17:55:59.456Z"
   },
   {
    "duration": 11,
    "start_time": "2025-05-05T17:55:59.462Z"
   },
   {
    "duration": 64,
    "start_time": "2025-05-05T17:55:59.474Z"
   },
   {
    "duration": 15,
    "start_time": "2025-05-05T17:55:59.539Z"
   },
   {
    "duration": 7,
    "start_time": "2025-05-05T17:55:59.557Z"
   },
   {
    "duration": 127,
    "start_time": "2025-05-05T17:55:59.566Z"
   },
   {
    "duration": 280,
    "start_time": "2025-05-05T17:55:59.694Z"
   },
   {
    "duration": 327,
    "start_time": "2025-05-05T17:55:59.976Z"
   },
   {
    "duration": 309,
    "start_time": "2025-05-05T17:56:00.305Z"
   },
   {
    "duration": 5,
    "start_time": "2025-05-05T17:56:00.616Z"
   },
   {
    "duration": 16,
    "start_time": "2025-05-05T17:56:00.622Z"
   },
   {
    "duration": 10,
    "start_time": "2025-05-05T17:56:00.639Z"
   },
   {
    "duration": 15,
    "start_time": "2025-05-05T17:56:00.651Z"
   },
   {
    "duration": 31,
    "start_time": "2025-05-05T17:56:00.667Z"
   },
   {
    "duration": 8,
    "start_time": "2025-05-05T17:56:00.699Z"
   },
   {
    "duration": 29,
    "start_time": "2025-05-05T17:56:00.709Z"
   },
   {
    "duration": 98,
    "start_time": "2025-05-05T17:56:00.739Z"
   },
   {
    "duration": 12,
    "start_time": "2025-05-05T17:56:00.838Z"
   },
   {
    "duration": 69,
    "start_time": "2025-05-05T17:56:00.851Z"
   },
   {
    "duration": 15,
    "start_time": "2025-05-05T17:56:00.922Z"
   },
   {
    "duration": 14,
    "start_time": "2025-05-05T17:56:00.939Z"
   },
   {
    "duration": 8,
    "start_time": "2025-05-05T17:56:00.955Z"
   },
   {
    "duration": 33,
    "start_time": "2025-05-05T17:56:00.965Z"
   },
   {
    "duration": 43,
    "start_time": "2025-05-05T17:56:00.999Z"
   },
   {
    "duration": 6,
    "start_time": "2025-05-05T17:56:01.044Z"
   },
   {
    "duration": 8,
    "start_time": "2025-05-05T17:56:01.051Z"
   },
   {
    "duration": 12,
    "start_time": "2025-05-05T17:56:01.060Z"
   },
   {
    "duration": 5,
    "start_time": "2025-05-05T17:56:01.073Z"
   },
   {
    "duration": 10,
    "start_time": "2025-05-05T17:56:01.079Z"
   },
   {
    "duration": 7,
    "start_time": "2025-05-05T17:56:01.090Z"
   },
   {
    "duration": 6,
    "start_time": "2025-05-05T17:56:31.742Z"
   },
   {
    "duration": 5,
    "start_time": "2025-05-05T17:56:33.724Z"
   },
   {
    "duration": 5,
    "start_time": "2025-05-05T17:56:38.754Z"
   },
   {
    "duration": 1101,
    "start_time": "2025-05-05T17:57:13.583Z"
   },
   {
    "duration": 129,
    "start_time": "2025-05-05T17:57:14.686Z"
   },
   {
    "duration": 11,
    "start_time": "2025-05-05T17:57:14.817Z"
   },
   {
    "duration": 53,
    "start_time": "2025-05-05T17:57:14.830Z"
   },
   {
    "duration": 6,
    "start_time": "2025-05-05T17:57:14.885Z"
   },
   {
    "duration": 9,
    "start_time": "2025-05-05T17:57:14.892Z"
   },
   {
    "duration": 15,
    "start_time": "2025-05-05T17:57:14.902Z"
   },
   {
    "duration": 4,
    "start_time": "2025-05-05T17:57:14.919Z"
   },
   {
    "duration": 11,
    "start_time": "2025-05-05T17:57:14.924Z"
   },
   {
    "duration": 7,
    "start_time": "2025-05-05T17:57:14.937Z"
   },
   {
    "duration": 10,
    "start_time": "2025-05-05T17:57:14.945Z"
   },
   {
    "duration": 5,
    "start_time": "2025-05-05T17:57:14.956Z"
   },
   {
    "duration": 194,
    "start_time": "2025-05-05T17:57:14.962Z"
   },
   {
    "duration": 179,
    "start_time": "2025-05-05T17:57:15.158Z"
   },
   {
    "duration": 150,
    "start_time": "2025-05-05T17:57:15.339Z"
   },
   {
    "duration": 168,
    "start_time": "2025-05-05T17:57:15.491Z"
   },
   {
    "duration": 183,
    "start_time": "2025-05-05T17:57:15.660Z"
   },
   {
    "duration": 166,
    "start_time": "2025-05-05T17:57:15.845Z"
   },
   {
    "duration": 9,
    "start_time": "2025-05-05T17:57:16.012Z"
   },
   {
    "duration": 18,
    "start_time": "2025-05-05T17:57:16.022Z"
   },
   {
    "duration": 1594,
    "start_time": "2025-05-05T17:57:16.041Z"
   },
   {
    "duration": 8,
    "start_time": "2025-05-05T17:57:17.636Z"
   },
   {
    "duration": 14,
    "start_time": "2025-05-05T17:57:17.646Z"
   },
   {
    "duration": 7,
    "start_time": "2025-05-05T17:57:17.662Z"
   },
   {
    "duration": 16,
    "start_time": "2025-05-05T17:57:17.671Z"
   },
   {
    "duration": 5,
    "start_time": "2025-05-05T17:57:17.688Z"
   },
   {
    "duration": 24,
    "start_time": "2025-05-05T17:57:17.694Z"
   },
   {
    "duration": 8,
    "start_time": "2025-05-05T17:57:17.738Z"
   },
   {
    "duration": 155,
    "start_time": "2025-05-05T17:57:17.747Z"
   },
   {
    "duration": 291,
    "start_time": "2025-05-05T17:57:17.903Z"
   },
   {
    "duration": 329,
    "start_time": "2025-05-05T17:57:18.195Z"
   },
   {
    "duration": 301,
    "start_time": "2025-05-05T17:57:18.525Z"
   },
   {
    "duration": 5,
    "start_time": "2025-05-05T17:57:18.836Z"
   },
   {
    "duration": 47,
    "start_time": "2025-05-05T17:57:18.843Z"
   },
   {
    "duration": 8,
    "start_time": "2025-05-05T17:57:18.892Z"
   },
   {
    "duration": 10,
    "start_time": "2025-05-05T17:57:18.902Z"
   },
   {
    "duration": 11,
    "start_time": "2025-05-05T17:57:18.913Z"
   },
   {
    "duration": 10,
    "start_time": "2025-05-05T17:57:18.926Z"
   },
   {
    "duration": 6,
    "start_time": "2025-05-05T17:57:18.937Z"
   },
   {
    "duration": 109,
    "start_time": "2025-05-05T17:57:18.945Z"
   },
   {
    "duration": 13,
    "start_time": "2025-05-05T17:57:19.055Z"
   },
   {
    "duration": 24,
    "start_time": "2025-05-05T17:57:19.070Z"
   },
   {
    "duration": 40,
    "start_time": "2025-05-05T17:57:19.096Z"
   },
   {
    "duration": 18,
    "start_time": "2025-05-05T17:57:19.138Z"
   },
   {
    "duration": 10,
    "start_time": "2025-05-05T17:57:19.157Z"
   },
   {
    "duration": 29,
    "start_time": "2025-05-05T17:57:19.169Z"
   },
   {
    "duration": 50,
    "start_time": "2025-05-05T17:57:19.200Z"
   },
   {
    "duration": 6,
    "start_time": "2025-05-05T17:57:19.252Z"
   },
   {
    "duration": 15,
    "start_time": "2025-05-05T17:57:19.259Z"
   },
   {
    "duration": 12,
    "start_time": "2025-05-05T17:57:19.276Z"
   },
   {
    "duration": 4,
    "start_time": "2025-05-05T17:57:19.290Z"
   },
   {
    "duration": 5,
    "start_time": "2025-05-05T17:57:19.296Z"
   },
   {
    "duration": 5,
    "start_time": "2025-05-05T17:57:19.303Z"
   },
   {
    "duration": 20,
    "start_time": "2025-05-06T17:54:04.759Z"
   },
   {
    "duration": 1297,
    "start_time": "2025-05-06T17:58:23.872Z"
   },
   {
    "duration": 77,
    "start_time": "2025-05-06T17:58:25.171Z"
   },
   {
    "duration": 12,
    "start_time": "2025-05-06T17:58:25.250Z"
   },
   {
    "duration": 14,
    "start_time": "2025-05-06T17:58:25.265Z"
   },
   {
    "duration": 5,
    "start_time": "2025-05-06T17:58:25.281Z"
   },
   {
    "duration": 7,
    "start_time": "2025-05-06T17:58:25.288Z"
   },
   {
    "duration": 6,
    "start_time": "2025-05-06T17:58:25.297Z"
   },
   {
    "duration": 5,
    "start_time": "2025-05-06T17:58:25.305Z"
   },
   {
    "duration": 56,
    "start_time": "2025-05-06T17:58:25.312Z"
   },
   {
    "duration": 9,
    "start_time": "2025-05-06T17:58:25.372Z"
   },
   {
    "duration": 12,
    "start_time": "2025-05-06T17:58:25.383Z"
   },
   {
    "duration": 7,
    "start_time": "2025-05-06T17:58:25.398Z"
   },
   {
    "duration": 242,
    "start_time": "2025-05-06T17:58:25.406Z"
   },
   {
    "duration": 237,
    "start_time": "2025-05-06T17:58:25.660Z"
   },
   {
    "duration": 190,
    "start_time": "2025-05-06T17:58:25.899Z"
   },
   {
    "duration": 214,
    "start_time": "2025-05-06T17:58:26.092Z"
   },
   {
    "duration": 224,
    "start_time": "2025-05-06T17:58:26.308Z"
   },
   {
    "duration": 190,
    "start_time": "2025-05-06T17:58:26.533Z"
   },
   {
    "duration": 10,
    "start_time": "2025-05-06T17:58:26.726Z"
   },
   {
    "duration": 26,
    "start_time": "2025-05-06T17:58:26.738Z"
   },
   {
    "duration": 1498,
    "start_time": "2025-05-06T17:58:26.766Z"
   },
   {
    "duration": 9,
    "start_time": "2025-05-06T17:58:28.266Z"
   },
   {
    "duration": 13,
    "start_time": "2025-05-06T17:58:28.277Z"
   },
   {
    "duration": 6,
    "start_time": "2025-05-06T17:58:28.292Z"
   },
   {
    "duration": 14,
    "start_time": "2025-05-06T17:58:28.301Z"
   },
   {
    "duration": 42,
    "start_time": "2025-05-06T17:58:28.318Z"
   },
   {
    "duration": 14,
    "start_time": "2025-05-06T17:58:28.363Z"
   },
   {
    "duration": 10,
    "start_time": "2025-05-06T17:58:28.382Z"
   },
   {
    "duration": 171,
    "start_time": "2025-05-06T17:58:28.394Z"
   },
   {
    "duration": 334,
    "start_time": "2025-05-06T17:58:28.567Z"
   },
   {
    "duration": 405,
    "start_time": "2025-05-06T17:58:28.903Z"
   },
   {
    "duration": 346,
    "start_time": "2025-05-06T17:58:29.311Z"
   },
   {
    "duration": 6,
    "start_time": "2025-05-06T17:58:29.661Z"
   },
   {
    "duration": 7,
    "start_time": "2025-05-06T17:58:29.669Z"
   },
   {
    "duration": 7,
    "start_time": "2025-05-06T17:58:29.678Z"
   },
   {
    "duration": 10,
    "start_time": "2025-05-06T17:58:29.687Z"
   },
   {
    "duration": 13,
    "start_time": "2025-05-06T17:58:29.698Z"
   },
   {
    "duration": 54,
    "start_time": "2025-05-06T17:58:29.712Z"
   },
   {
    "duration": 6,
    "start_time": "2025-05-06T17:58:29.768Z"
   },
   {
    "duration": 125,
    "start_time": "2025-05-06T17:58:29.776Z"
   },
   {
    "duration": 17,
    "start_time": "2025-05-06T17:58:29.904Z"
   },
   {
    "duration": 54,
    "start_time": "2025-05-06T17:58:29.923Z"
   },
   {
    "duration": 19,
    "start_time": "2025-05-06T17:58:29.979Z"
   },
   {
    "duration": 64,
    "start_time": "2025-05-06T17:58:30.000Z"
   },
   {
    "duration": 23,
    "start_time": "2025-05-06T17:58:30.066Z"
   },
   {
    "duration": 65,
    "start_time": "2025-05-06T17:58:30.091Z"
   },
   {
    "duration": 31,
    "start_time": "2025-05-06T17:58:30.158Z"
   },
   {
    "duration": 6,
    "start_time": "2025-05-06T17:58:30.191Z"
   },
   {
    "duration": 33,
    "start_time": "2025-05-06T17:58:30.199Z"
   },
   {
    "duration": 13,
    "start_time": "2025-05-06T17:58:30.234Z"
   },
   {
    "duration": 23,
    "start_time": "2025-05-06T17:58:30.249Z"
   },
   {
    "duration": 10,
    "start_time": "2025-05-06T17:58:30.274Z"
   },
   {
    "duration": 7,
    "start_time": "2025-05-06T17:58:30.286Z"
   },
   {
    "duration": 1486,
    "start_time": "2025-05-06T21:39:23.985Z"
   },
   {
    "duration": 108,
    "start_time": "2025-05-06T21:39:25.474Z"
   },
   {
    "duration": 14,
    "start_time": "2025-05-06T21:39:25.584Z"
   },
   {
    "duration": 65,
    "start_time": "2025-05-06T21:39:25.601Z"
   },
   {
    "duration": 7,
    "start_time": "2025-05-06T21:39:25.668Z"
   },
   {
    "duration": 33,
    "start_time": "2025-05-06T21:39:25.677Z"
   },
   {
    "duration": 17,
    "start_time": "2025-05-06T21:39:25.712Z"
   },
   {
    "duration": 13,
    "start_time": "2025-05-06T21:39:25.731Z"
   },
   {
    "duration": 31,
    "start_time": "2025-05-06T21:39:25.746Z"
   },
   {
    "duration": 14,
    "start_time": "2025-05-06T21:39:25.780Z"
   },
   {
    "duration": 25,
    "start_time": "2025-05-06T21:39:25.796Z"
   },
   {
    "duration": 12,
    "start_time": "2025-05-06T21:39:25.823Z"
   },
   {
    "duration": 224,
    "start_time": "2025-05-06T21:39:25.837Z"
   },
   {
    "duration": 201,
    "start_time": "2025-05-06T21:39:26.063Z"
   },
   {
    "duration": 186,
    "start_time": "2025-05-06T21:39:26.267Z"
   },
   {
    "duration": 217,
    "start_time": "2025-05-06T21:39:26.455Z"
   },
   {
    "duration": 231,
    "start_time": "2025-05-06T21:39:26.674Z"
   },
   {
    "duration": 206,
    "start_time": "2025-05-06T21:39:26.908Z"
   },
   {
    "duration": 12,
    "start_time": "2025-05-06T21:39:27.117Z"
   },
   {
    "duration": 44,
    "start_time": "2025-05-06T21:39:27.131Z"
   },
   {
    "duration": 1704,
    "start_time": "2025-05-06T21:39:27.177Z"
   },
   {
    "duration": 10,
    "start_time": "2025-05-06T21:39:28.883Z"
   },
   {
    "duration": 14,
    "start_time": "2025-05-06T21:39:28.905Z"
   },
   {
    "duration": 20,
    "start_time": "2025-05-06T21:39:28.921Z"
   },
   {
    "duration": 16,
    "start_time": "2025-05-06T21:39:28.943Z"
   },
   {
    "duration": 33,
    "start_time": "2025-05-06T21:39:28.961Z"
   },
   {
    "duration": 15,
    "start_time": "2025-05-06T21:39:28.996Z"
   },
   {
    "duration": 18,
    "start_time": "2025-05-06T21:39:29.016Z"
   },
   {
    "duration": 133,
    "start_time": "2025-05-06T21:39:29.036Z"
   },
   {
    "duration": 350,
    "start_time": "2025-05-06T21:39:29.172Z"
   },
   {
    "duration": 394,
    "start_time": "2025-05-06T21:39:29.523Z"
   },
   {
    "duration": 360,
    "start_time": "2025-05-06T21:39:29.919Z"
   },
   {
    "duration": 6,
    "start_time": "2025-05-06T21:39:30.280Z"
   },
   {
    "duration": 73,
    "start_time": "2025-05-06T21:39:30.288Z"
   },
   {
    "duration": 12,
    "start_time": "2025-05-06T21:39:30.363Z"
   },
   {
    "duration": 23,
    "start_time": "2025-05-06T21:39:30.377Z"
   },
   {
    "duration": 29,
    "start_time": "2025-05-06T21:39:30.402Z"
   },
   {
    "duration": 51,
    "start_time": "2025-05-06T21:39:30.433Z"
   },
   {
    "duration": 25,
    "start_time": "2025-05-06T21:39:30.485Z"
   },
   {
    "duration": 142,
    "start_time": "2025-05-06T21:39:30.512Z"
   },
   {
    "duration": 81,
    "start_time": "2025-05-06T21:39:30.656Z"
   },
   {
    "duration": 36,
    "start_time": "2025-05-06T21:39:30.739Z"
   },
   {
    "duration": 20,
    "start_time": "2025-05-06T21:39:30.777Z"
   },
   {
    "duration": 29,
    "start_time": "2025-05-06T21:39:30.799Z"
   },
   {
    "duration": 12,
    "start_time": "2025-05-06T21:39:30.829Z"
   },
   {
    "duration": 48,
    "start_time": "2025-05-06T21:39:30.843Z"
   },
   {
    "duration": 28,
    "start_time": "2025-05-06T21:39:30.893Z"
   },
   {
    "duration": 9,
    "start_time": "2025-05-06T21:39:30.923Z"
   },
   {
    "duration": 29,
    "start_time": "2025-05-06T21:39:30.933Z"
   },
   {
    "duration": 15,
    "start_time": "2025-05-06T21:39:30.964Z"
   },
   {
    "duration": 11,
    "start_time": "2025-05-06T21:39:30.980Z"
   },
   {
    "duration": 19,
    "start_time": "2025-05-06T21:39:30.993Z"
   },
   {
    "duration": 13,
    "start_time": "2025-05-06T21:39:31.014Z"
   },
   {
    "duration": 10,
    "start_time": "2025-05-06T21:46:23.727Z"
   },
   {
    "duration": 158,
    "start_time": "2025-05-06T21:51:40.047Z"
   },
   {
    "duration": 1297,
    "start_time": "2025-05-06T21:52:01.825Z"
   },
   {
    "duration": 84,
    "start_time": "2025-05-06T21:52:03.124Z"
   },
   {
    "duration": 13,
    "start_time": "2025-05-06T21:52:03.210Z"
   },
   {
    "duration": 56,
    "start_time": "2025-05-06T21:52:03.225Z"
   },
   {
    "duration": 13,
    "start_time": "2025-05-06T21:52:03.282Z"
   },
   {
    "duration": 22,
    "start_time": "2025-05-06T21:52:03.297Z"
   },
   {
    "duration": 30,
    "start_time": "2025-05-06T21:52:03.321Z"
   },
   {
    "duration": 6,
    "start_time": "2025-05-06T21:52:03.353Z"
   },
   {
    "duration": 16,
    "start_time": "2025-05-06T21:52:03.360Z"
   },
   {
    "duration": 10,
    "start_time": "2025-05-06T21:52:03.380Z"
   },
   {
    "duration": 17,
    "start_time": "2025-05-06T21:52:03.392Z"
   },
   {
    "duration": 14,
    "start_time": "2025-05-06T21:52:03.411Z"
   },
   {
    "duration": 216,
    "start_time": "2025-05-06T21:52:03.427Z"
   },
   {
    "duration": 200,
    "start_time": "2025-05-06T21:52:03.645Z"
   },
   {
    "duration": 10,
    "start_time": "2025-05-06T21:52:03.848Z"
   },
   {
    "duration": 122,
    "start_time": "2025-05-06T21:52:03.860Z"
   },
   {
    "duration": 0,
    "start_time": "2025-05-06T21:52:03.985Z"
   },
   {
    "duration": 0,
    "start_time": "2025-05-06T21:52:03.986Z"
   },
   {
    "duration": 0,
    "start_time": "2025-05-06T21:52:03.987Z"
   },
   {
    "duration": 0,
    "start_time": "2025-05-06T21:52:03.988Z"
   },
   {
    "duration": 0,
    "start_time": "2025-05-06T21:52:03.989Z"
   },
   {
    "duration": 0,
    "start_time": "2025-05-06T21:52:03.991Z"
   },
   {
    "duration": 0,
    "start_time": "2025-05-06T21:52:04.003Z"
   },
   {
    "duration": 0,
    "start_time": "2025-05-06T21:52:04.005Z"
   },
   {
    "duration": 0,
    "start_time": "2025-05-06T21:52:04.006Z"
   },
   {
    "duration": 0,
    "start_time": "2025-05-06T21:52:04.007Z"
   },
   {
    "duration": 0,
    "start_time": "2025-05-06T21:52:04.007Z"
   },
   {
    "duration": 0,
    "start_time": "2025-05-06T21:52:04.009Z"
   },
   {
    "duration": 0,
    "start_time": "2025-05-06T21:52:04.009Z"
   },
   {
    "duration": 0,
    "start_time": "2025-05-06T21:52:04.010Z"
   },
   {
    "duration": 0,
    "start_time": "2025-05-06T21:52:04.012Z"
   },
   {
    "duration": 0,
    "start_time": "2025-05-06T21:52:04.013Z"
   },
   {
    "duration": 0,
    "start_time": "2025-05-06T21:52:04.014Z"
   },
   {
    "duration": 0,
    "start_time": "2025-05-06T21:52:04.015Z"
   },
   {
    "duration": 0,
    "start_time": "2025-05-06T21:52:04.016Z"
   },
   {
    "duration": 0,
    "start_time": "2025-05-06T21:52:04.017Z"
   },
   {
    "duration": 0,
    "start_time": "2025-05-06T21:52:04.018Z"
   },
   {
    "duration": 0,
    "start_time": "2025-05-06T21:52:04.019Z"
   },
   {
    "duration": 0,
    "start_time": "2025-05-06T21:52:04.020Z"
   },
   {
    "duration": 0,
    "start_time": "2025-05-06T21:52:04.021Z"
   },
   {
    "duration": 0,
    "start_time": "2025-05-06T21:52:04.022Z"
   },
   {
    "duration": 0,
    "start_time": "2025-05-06T21:52:04.023Z"
   },
   {
    "duration": 0,
    "start_time": "2025-05-06T21:52:04.024Z"
   },
   {
    "duration": 0,
    "start_time": "2025-05-06T21:52:04.025Z"
   },
   {
    "duration": 0,
    "start_time": "2025-05-06T21:52:04.026Z"
   },
   {
    "duration": 0,
    "start_time": "2025-05-06T21:52:04.027Z"
   },
   {
    "duration": 0,
    "start_time": "2025-05-06T21:52:04.028Z"
   },
   {
    "duration": 0,
    "start_time": "2025-05-06T21:52:04.029Z"
   },
   {
    "duration": 0,
    "start_time": "2025-05-06T21:52:04.030Z"
   },
   {
    "duration": 6,
    "start_time": "2025-05-06T21:54:39.184Z"
   },
   {
    "duration": 11,
    "start_time": "2025-05-06T21:55:32.393Z"
   },
   {
    "duration": 3,
    "start_time": "2025-05-06T21:57:30.712Z"
   },
   {
    "duration": 12,
    "start_time": "2025-05-06T21:57:37.733Z"
   },
   {
    "duration": 6,
    "start_time": "2025-05-06T21:57:53.901Z"
   },
   {
    "duration": 12,
    "start_time": "2025-05-06T21:57:55.635Z"
   },
   {
    "duration": 12,
    "start_time": "2025-05-06T21:58:00.370Z"
   },
   {
    "duration": 1366,
    "start_time": "2025-05-06T22:06:24.463Z"
   },
   {
    "duration": 77,
    "start_time": "2025-05-06T22:06:25.831Z"
   },
   {
    "duration": 15,
    "start_time": "2025-05-06T22:06:25.910Z"
   },
   {
    "duration": 18,
    "start_time": "2025-05-06T22:06:25.928Z"
   },
   {
    "duration": 5,
    "start_time": "2025-05-06T22:06:25.948Z"
   },
   {
    "duration": 8,
    "start_time": "2025-05-06T22:06:25.955Z"
   },
   {
    "duration": 39,
    "start_time": "2025-05-06T22:06:25.965Z"
   },
   {
    "duration": 5,
    "start_time": "2025-05-06T22:06:26.006Z"
   },
   {
    "duration": 13,
    "start_time": "2025-05-06T22:06:26.013Z"
   },
   {
    "duration": 9,
    "start_time": "2025-05-06T22:06:26.029Z"
   },
   {
    "duration": 17,
    "start_time": "2025-05-06T22:06:26.040Z"
   },
   {
    "duration": 51,
    "start_time": "2025-05-06T22:06:26.060Z"
   },
   {
    "duration": 229,
    "start_time": "2025-05-06T22:06:26.113Z"
   },
   {
    "duration": 207,
    "start_time": "2025-05-06T22:06:26.344Z"
   },
   {
    "duration": 10,
    "start_time": "2025-05-06T22:06:26.552Z"
   },
   {
    "duration": 41,
    "start_time": "2025-05-06T22:06:26.564Z"
   },
   {
    "duration": 1847,
    "start_time": "2025-05-06T22:06:26.607Z"
   },
   {
    "duration": 11,
    "start_time": "2025-05-06T22:06:28.456Z"
   },
   {
    "duration": 27,
    "start_time": "2025-05-06T22:06:28.469Z"
   },
   {
    "duration": 6,
    "start_time": "2025-05-06T22:06:28.505Z"
   },
   {
    "duration": 21,
    "start_time": "2025-05-06T22:06:28.512Z"
   },
   {
    "duration": 17,
    "start_time": "2025-05-06T22:06:28.535Z"
   },
   {
    "duration": 24,
    "start_time": "2025-05-06T22:06:28.554Z"
   },
   {
    "duration": 31,
    "start_time": "2025-05-06T22:06:28.580Z"
   },
   {
    "duration": 143,
    "start_time": "2025-05-06T22:06:28.614Z"
   },
   {
    "duration": 410,
    "start_time": "2025-05-06T22:06:28.759Z"
   },
   {
    "duration": 453,
    "start_time": "2025-05-06T22:06:29.171Z"
   },
   {
    "duration": 397,
    "start_time": "2025-05-06T22:06:29.628Z"
   },
   {
    "duration": 7,
    "start_time": "2025-05-06T22:06:30.028Z"
   },
   {
    "duration": 26,
    "start_time": "2025-05-06T22:06:30.037Z"
   },
   {
    "duration": 45,
    "start_time": "2025-05-06T22:06:30.066Z"
   },
   {
    "duration": 36,
    "start_time": "2025-05-06T22:06:30.113Z"
   },
   {
    "duration": 74,
    "start_time": "2025-05-06T22:06:30.151Z"
   },
   {
    "duration": 30,
    "start_time": "2025-05-06T22:06:30.228Z"
   },
   {
    "duration": 33,
    "start_time": "2025-05-06T22:06:30.261Z"
   },
   {
    "duration": 198,
    "start_time": "2025-05-06T22:06:30.296Z"
   },
   {
    "duration": 18,
    "start_time": "2025-05-06T22:06:30.505Z"
   },
   {
    "duration": 54,
    "start_time": "2025-05-06T22:06:30.525Z"
   },
   {
    "duration": 31,
    "start_time": "2025-05-06T22:06:30.581Z"
   },
   {
    "duration": 21,
    "start_time": "2025-05-06T22:06:30.615Z"
   },
   {
    "duration": 13,
    "start_time": "2025-05-06T22:06:30.638Z"
   },
   {
    "duration": 73,
    "start_time": "2025-05-06T22:06:30.653Z"
   },
   {
    "duration": 132,
    "start_time": "2025-05-06T22:06:30.728Z"
   },
   {
    "duration": 7,
    "start_time": "2025-05-06T22:06:30.862Z"
   },
   {
    "duration": 34,
    "start_time": "2025-05-06T22:06:30.871Z"
   },
   {
    "duration": 22,
    "start_time": "2025-05-06T22:06:30.907Z"
   },
   {
    "duration": 23,
    "start_time": "2025-05-06T22:06:30.930Z"
   },
   {
    "duration": 11,
    "start_time": "2025-05-06T22:06:30.955Z"
   },
   {
    "duration": 14,
    "start_time": "2025-05-06T22:06:30.968Z"
   },
   {
    "duration": 6,
    "start_time": "2025-05-06T22:14:06.415Z"
   },
   {
    "duration": 6,
    "start_time": "2025-05-06T22:14:25.293Z"
   },
   {
    "duration": 6,
    "start_time": "2025-05-06T22:14:30.910Z"
   },
   {
    "duration": 6,
    "start_time": "2025-05-06T22:14:37.393Z"
   },
   {
    "duration": 8,
    "start_time": "2025-05-06T22:15:32.002Z"
   },
   {
    "duration": 1203,
    "start_time": "2025-05-06T22:19:37.585Z"
   },
   {
    "duration": 134,
    "start_time": "2025-05-06T22:19:38.790Z"
   },
   {
    "duration": 14,
    "start_time": "2025-05-06T22:19:38.926Z"
   },
   {
    "duration": 13,
    "start_time": "2025-05-06T22:19:38.942Z"
   },
   {
    "duration": 14,
    "start_time": "2025-05-06T22:19:38.957Z"
   },
   {
    "duration": 5,
    "start_time": "2025-05-06T22:19:38.973Z"
   },
   {
    "duration": 7,
    "start_time": "2025-05-06T22:19:38.980Z"
   },
   {
    "duration": 19,
    "start_time": "2025-05-06T22:19:38.989Z"
   },
   {
    "duration": 30,
    "start_time": "2025-05-06T22:19:39.010Z"
   },
   {
    "duration": 8,
    "start_time": "2025-05-06T22:19:39.043Z"
   },
   {
    "duration": 24,
    "start_time": "2025-05-06T22:19:39.053Z"
   },
   {
    "duration": 6,
    "start_time": "2025-05-06T22:19:39.079Z"
   },
   {
    "duration": 203,
    "start_time": "2025-05-06T22:19:39.087Z"
   },
   {
    "duration": 197,
    "start_time": "2025-05-06T22:19:39.291Z"
   },
   {
    "duration": 19,
    "start_time": "2025-05-06T22:19:39.490Z"
   },
   {
    "duration": 12,
    "start_time": "2025-05-06T22:19:39.510Z"
   },
   {
    "duration": 1565,
    "start_time": "2025-05-06T22:19:39.524Z"
   },
   {
    "duration": 15,
    "start_time": "2025-05-06T22:19:41.091Z"
   },
   {
    "duration": 13,
    "start_time": "2025-05-06T22:19:41.108Z"
   },
   {
    "duration": 6,
    "start_time": "2025-05-06T22:19:41.123Z"
   },
   {
    "duration": 13,
    "start_time": "2025-05-06T22:19:41.131Z"
   },
   {
    "duration": 5,
    "start_time": "2025-05-06T22:19:41.146Z"
   },
   {
    "duration": 12,
    "start_time": "2025-05-06T22:19:41.152Z"
   },
   {
    "duration": 9,
    "start_time": "2025-05-06T22:19:41.205Z"
   },
   {
    "duration": 149,
    "start_time": "2025-05-06T22:19:41.216Z"
   },
   {
    "duration": 397,
    "start_time": "2025-05-06T22:19:41.366Z"
   },
   {
    "duration": 420,
    "start_time": "2025-05-06T22:19:41.765Z"
   },
   {
    "duration": 361,
    "start_time": "2025-05-06T22:19:42.189Z"
   },
   {
    "duration": 6,
    "start_time": "2025-05-06T22:19:42.552Z"
   },
   {
    "duration": 9,
    "start_time": "2025-05-06T22:19:42.559Z"
   },
   {
    "duration": 12,
    "start_time": "2025-05-06T22:19:42.570Z"
   },
   {
    "duration": 28,
    "start_time": "2025-05-06T22:19:42.584Z"
   },
   {
    "duration": 34,
    "start_time": "2025-05-06T22:19:42.614Z"
   },
   {
    "duration": 10,
    "start_time": "2025-05-06T22:19:42.650Z"
   },
   {
    "duration": 5,
    "start_time": "2025-05-06T22:19:42.662Z"
   },
   {
    "duration": 137,
    "start_time": "2025-05-06T22:19:42.669Z"
   },
   {
    "duration": 86,
    "start_time": "2025-05-06T22:19:42.808Z"
   },
   {
    "duration": 42,
    "start_time": "2025-05-06T22:19:42.897Z"
   },
   {
    "duration": 20,
    "start_time": "2025-05-06T22:19:42.941Z"
   },
   {
    "duration": 69,
    "start_time": "2025-05-06T22:19:42.963Z"
   },
   {
    "duration": 12,
    "start_time": "2025-05-06T22:19:43.034Z"
   },
   {
    "duration": 32,
    "start_time": "2025-05-06T22:19:43.048Z"
   },
   {
    "duration": 41,
    "start_time": "2025-05-06T22:19:43.082Z"
   },
   {
    "duration": 6,
    "start_time": "2025-05-06T22:19:43.125Z"
   },
   {
    "duration": 6,
    "start_time": "2025-05-06T22:19:43.132Z"
   },
   {
    "duration": 12,
    "start_time": "2025-05-06T22:19:43.139Z"
   },
   {
    "duration": 8,
    "start_time": "2025-05-06T22:19:43.152Z"
   },
   {
    "duration": 4,
    "start_time": "2025-05-06T22:19:43.162Z"
   },
   {
    "duration": 5,
    "start_time": "2025-05-06T22:19:43.204Z"
   },
   {
    "duration": 1217,
    "start_time": "2025-05-06T22:20:38.890Z"
   },
   {
    "duration": 107,
    "start_time": "2025-05-06T22:20:40.109Z"
   },
   {
    "duration": 13,
    "start_time": "2025-05-06T22:20:40.218Z"
   },
   {
    "duration": 16,
    "start_time": "2025-05-06T22:20:40.233Z"
   },
   {
    "duration": 8,
    "start_time": "2025-05-06T22:20:40.251Z"
   },
   {
    "duration": 8,
    "start_time": "2025-05-06T22:20:40.261Z"
   },
   {
    "duration": 6,
    "start_time": "2025-05-06T22:20:40.271Z"
   },
   {
    "duration": 30,
    "start_time": "2025-05-06T22:20:40.278Z"
   },
   {
    "duration": 28,
    "start_time": "2025-05-06T22:20:40.309Z"
   },
   {
    "duration": 9,
    "start_time": "2025-05-06T22:20:40.340Z"
   },
   {
    "duration": 15,
    "start_time": "2025-05-06T22:20:40.351Z"
   },
   {
    "duration": 13,
    "start_time": "2025-05-06T22:20:40.368Z"
   },
   {
    "duration": 222,
    "start_time": "2025-05-06T22:20:40.383Z"
   },
   {
    "duration": 190,
    "start_time": "2025-05-06T22:20:40.607Z"
   },
   {
    "duration": 11,
    "start_time": "2025-05-06T22:20:40.803Z"
   },
   {
    "duration": 55,
    "start_time": "2025-05-06T22:20:40.815Z"
   },
   {
    "duration": 1534,
    "start_time": "2025-05-06T22:20:40.872Z"
   },
   {
    "duration": 9,
    "start_time": "2025-05-06T22:20:42.408Z"
   },
   {
    "duration": 13,
    "start_time": "2025-05-06T22:20:42.419Z"
   },
   {
    "duration": 77,
    "start_time": "2025-05-06T22:20:42.434Z"
   },
   {
    "duration": 17,
    "start_time": "2025-05-06T22:20:42.513Z"
   },
   {
    "duration": 6,
    "start_time": "2025-05-06T22:20:42.532Z"
   },
   {
    "duration": 14,
    "start_time": "2025-05-06T22:20:42.540Z"
   },
   {
    "duration": 9,
    "start_time": "2025-05-06T22:20:42.556Z"
   },
   {
    "duration": 143,
    "start_time": "2025-05-06T22:20:42.567Z"
   },
   {
    "duration": 324,
    "start_time": "2025-05-06T22:20:42.712Z"
   },
   {
    "duration": 374,
    "start_time": "2025-05-06T22:20:43.038Z"
   },
   {
    "duration": 370,
    "start_time": "2025-05-06T22:20:43.415Z"
   },
   {
    "duration": 5,
    "start_time": "2025-05-06T22:20:43.787Z"
   },
   {
    "duration": 15,
    "start_time": "2025-05-06T22:20:43.794Z"
   },
   {
    "duration": 30,
    "start_time": "2025-05-06T22:20:43.811Z"
   },
   {
    "duration": 20,
    "start_time": "2025-05-06T22:20:43.843Z"
   },
   {
    "duration": 38,
    "start_time": "2025-05-06T22:20:43.865Z"
   },
   {
    "duration": 10,
    "start_time": "2025-05-06T22:20:43.905Z"
   },
   {
    "duration": 7,
    "start_time": "2025-05-06T22:20:43.917Z"
   },
   {
    "duration": 136,
    "start_time": "2025-05-06T22:20:43.925Z"
   },
   {
    "duration": 17,
    "start_time": "2025-05-06T22:20:44.063Z"
   },
   {
    "duration": 43,
    "start_time": "2025-05-06T22:20:44.082Z"
   },
   {
    "duration": 18,
    "start_time": "2025-05-06T22:20:44.126Z"
   },
   {
    "duration": 20,
    "start_time": "2025-05-06T22:20:44.146Z"
   },
   {
    "duration": 37,
    "start_time": "2025-05-06T22:20:44.168Z"
   },
   {
    "duration": 33,
    "start_time": "2025-05-06T22:20:44.207Z"
   },
   {
    "duration": 30,
    "start_time": "2025-05-06T22:20:44.242Z"
   },
   {
    "duration": 31,
    "start_time": "2025-05-06T22:20:44.274Z"
   },
   {
    "duration": 4,
    "start_time": "2025-05-06T22:20:44.307Z"
   },
   {
    "duration": 20,
    "start_time": "2025-05-06T22:20:44.312Z"
   },
   {
    "duration": 5,
    "start_time": "2025-05-06T22:20:44.334Z"
   },
   {
    "duration": 4,
    "start_time": "2025-05-06T22:20:44.341Z"
   },
   {
    "duration": 6,
    "start_time": "2025-05-06T22:20:44.347Z"
   },
   {
    "duration": 1225,
    "start_time": "2025-05-06T22:35:40.193Z"
   },
   {
    "duration": 80,
    "start_time": "2025-05-06T22:35:41.420Z"
   },
   {
    "duration": 12,
    "start_time": "2025-05-06T22:35:41.501Z"
   },
   {
    "duration": 24,
    "start_time": "2025-05-06T22:35:41.516Z"
   },
   {
    "duration": 4,
    "start_time": "2025-05-06T22:35:41.542Z"
   },
   {
    "duration": 5,
    "start_time": "2025-05-06T22:35:41.548Z"
   },
   {
    "duration": 6,
    "start_time": "2025-05-06T22:35:41.554Z"
   },
   {
    "duration": 5,
    "start_time": "2025-05-06T22:35:41.561Z"
   },
   {
    "duration": 13,
    "start_time": "2025-05-06T22:35:41.567Z"
   },
   {
    "duration": 9,
    "start_time": "2025-05-06T22:35:41.603Z"
   },
   {
    "duration": 14,
    "start_time": "2025-05-06T22:35:41.614Z"
   },
   {
    "duration": 7,
    "start_time": "2025-05-06T22:35:41.630Z"
   },
   {
    "duration": 217,
    "start_time": "2025-05-06T22:35:41.639Z"
   },
   {
    "duration": 192,
    "start_time": "2025-05-06T22:35:41.857Z"
   },
   {
    "duration": 8,
    "start_time": "2025-05-06T22:35:42.051Z"
   },
   {
    "duration": 12,
    "start_time": "2025-05-06T22:35:42.060Z"
   },
   {
    "duration": 1748,
    "start_time": "2025-05-06T22:35:42.073Z"
   },
   {
    "duration": 9,
    "start_time": "2025-05-06T22:35:43.822Z"
   },
   {
    "duration": 17,
    "start_time": "2025-05-06T22:35:43.833Z"
   },
   {
    "duration": 29,
    "start_time": "2025-05-06T22:35:43.852Z"
   },
   {
    "duration": 13,
    "start_time": "2025-05-06T22:35:43.883Z"
   },
   {
    "duration": 5,
    "start_time": "2025-05-06T22:35:43.904Z"
   },
   {
    "duration": 15,
    "start_time": "2025-05-06T22:35:43.911Z"
   },
   {
    "duration": 9,
    "start_time": "2025-05-06T22:35:43.928Z"
   },
   {
    "duration": 141,
    "start_time": "2025-05-06T22:35:43.938Z"
   },
   {
    "duration": 377,
    "start_time": "2025-05-06T22:35:44.081Z"
   },
   {
    "duration": 414,
    "start_time": "2025-05-06T22:35:44.460Z"
   },
   {
    "duration": 366,
    "start_time": "2025-05-06T22:35:44.878Z"
   },
   {
    "duration": 6,
    "start_time": "2025-05-06T22:35:45.245Z"
   },
   {
    "duration": 8,
    "start_time": "2025-05-06T22:35:45.253Z"
   },
   {
    "duration": 16,
    "start_time": "2025-05-06T22:35:45.262Z"
   },
   {
    "duration": 25,
    "start_time": "2025-05-06T22:35:45.280Z"
   },
   {
    "duration": 29,
    "start_time": "2025-05-06T22:35:45.307Z"
   },
   {
    "duration": 10,
    "start_time": "2025-05-06T22:35:45.338Z"
   },
   {
    "duration": 6,
    "start_time": "2025-05-06T22:35:45.350Z"
   },
   {
    "duration": 131,
    "start_time": "2025-05-06T22:35:45.358Z"
   },
   {
    "duration": 24,
    "start_time": "2025-05-06T22:35:45.491Z"
   },
   {
    "duration": 35,
    "start_time": "2025-05-06T22:35:45.518Z"
   },
   {
    "duration": 17,
    "start_time": "2025-05-06T22:35:45.555Z"
   },
   {
    "duration": 44,
    "start_time": "2025-05-06T22:35:45.574Z"
   },
   {
    "duration": 11,
    "start_time": "2025-05-06T22:35:45.620Z"
   },
   {
    "duration": 33,
    "start_time": "2025-05-06T22:35:45.633Z"
   },
   {
    "duration": 58,
    "start_time": "2025-05-06T22:35:45.668Z"
   },
   {
    "duration": 6,
    "start_time": "2025-05-06T22:35:45.728Z"
   },
   {
    "duration": 79,
    "start_time": "2025-05-06T22:35:45.736Z"
   },
   {
    "duration": 16,
    "start_time": "2025-05-06T22:35:45.818Z"
   },
   {
    "duration": 22,
    "start_time": "2025-05-06T22:35:45.836Z"
   },
   {
    "duration": 14,
    "start_time": "2025-05-06T22:35:45.859Z"
   },
   {
    "duration": 8,
    "start_time": "2025-05-06T22:35:45.875Z"
   },
   {
    "duration": 80,
    "start_time": "2025-05-07T22:27:41.227Z"
   },
   {
    "duration": 68,
    "start_time": "2025-05-07T22:27:59.962Z"
   },
   {
    "duration": 69,
    "start_time": "2025-05-07T22:30:20.065Z"
   },
   {
    "duration": 46,
    "start_time": "2025-05-07T22:30:24.038Z"
   },
   {
    "duration": 6,
    "start_time": "2025-05-07T22:30:27.006Z"
   },
   {
    "duration": 6,
    "start_time": "2025-05-07T22:30:28.727Z"
   },
   {
    "duration": 1365,
    "start_time": "2025-05-07T22:30:45.960Z"
   },
   {
    "duration": 108,
    "start_time": "2025-05-07T22:30:47.327Z"
   },
   {
    "duration": 12,
    "start_time": "2025-05-07T22:30:47.436Z"
   },
   {
    "duration": 12,
    "start_time": "2025-05-07T22:30:47.451Z"
   },
   {
    "duration": 3,
    "start_time": "2025-05-07T22:30:47.465Z"
   },
   {
    "duration": 4,
    "start_time": "2025-05-07T22:30:47.470Z"
   },
   {
    "duration": 5,
    "start_time": "2025-05-07T22:30:47.476Z"
   },
   {
    "duration": 23,
    "start_time": "2025-05-07T22:30:47.483Z"
   },
   {
    "duration": 13,
    "start_time": "2025-05-07T22:30:47.507Z"
   },
   {
    "duration": 8,
    "start_time": "2025-05-07T22:30:47.522Z"
   },
   {
    "duration": 11,
    "start_time": "2025-05-07T22:30:47.531Z"
   },
   {
    "duration": 6,
    "start_time": "2025-05-07T22:30:47.543Z"
   },
   {
    "duration": 227,
    "start_time": "2025-05-07T22:30:47.551Z"
   },
   {
    "duration": 191,
    "start_time": "2025-05-07T22:30:47.779Z"
   },
   {
    "duration": 9,
    "start_time": "2025-05-07T22:30:47.972Z"
   },
   {
    "duration": 47,
    "start_time": "2025-05-07T22:30:47.983Z"
   },
   {
    "duration": 1591,
    "start_time": "2025-05-07T22:30:48.032Z"
   },
   {
    "duration": 8,
    "start_time": "2025-05-07T22:30:49.625Z"
   },
   {
    "duration": 16,
    "start_time": "2025-05-07T22:30:49.635Z"
   },
   {
    "duration": 11,
    "start_time": "2025-05-07T22:30:49.653Z"
   },
   {
    "duration": 12,
    "start_time": "2025-05-07T22:30:49.666Z"
   },
   {
    "duration": 27,
    "start_time": "2025-05-07T22:30:49.680Z"
   },
   {
    "duration": 14,
    "start_time": "2025-05-07T22:30:49.708Z"
   },
   {
    "duration": 10,
    "start_time": "2025-05-07T22:30:49.723Z"
   },
   {
    "duration": 137,
    "start_time": "2025-05-07T22:30:49.734Z"
   },
   {
    "duration": 360,
    "start_time": "2025-05-07T22:30:49.873Z"
   },
   {
    "duration": 391,
    "start_time": "2025-05-07T22:30:50.235Z"
   },
   {
    "duration": 336,
    "start_time": "2025-05-07T22:30:50.630Z"
   },
   {
    "duration": 6,
    "start_time": "2025-05-07T22:30:50.967Z"
   },
   {
    "duration": 46,
    "start_time": "2025-05-07T22:30:50.975Z"
   },
   {
    "duration": 22,
    "start_time": "2025-05-07T22:30:51.022Z"
   },
   {
    "duration": 25,
    "start_time": "2025-05-07T22:30:51.046Z"
   },
   {
    "duration": 52,
    "start_time": "2025-05-07T22:30:51.073Z"
   },
   {
    "duration": 25,
    "start_time": "2025-05-07T22:30:51.127Z"
   },
   {
    "duration": 6,
    "start_time": "2025-05-07T22:30:51.154Z"
   },
   {
    "duration": 106,
    "start_time": "2025-05-07T22:30:51.162Z"
   },
   {
    "duration": 15,
    "start_time": "2025-05-07T22:30:51.270Z"
   },
   {
    "duration": 41,
    "start_time": "2025-05-07T22:30:51.287Z"
   },
   {
    "duration": 17,
    "start_time": "2025-05-07T22:30:51.329Z"
   },
   {
    "duration": 31,
    "start_time": "2025-05-07T22:30:51.348Z"
   },
   {
    "duration": 25,
    "start_time": "2025-05-07T22:30:51.381Z"
   },
   {
    "duration": 29,
    "start_time": "2025-05-07T22:30:51.408Z"
   },
   {
    "duration": 27,
    "start_time": "2025-05-07T22:30:51.439Z"
   },
   {
    "duration": 5,
    "start_time": "2025-05-07T22:30:51.468Z"
   },
   {
    "duration": 34,
    "start_time": "2025-05-07T22:30:51.475Z"
   },
   {
    "duration": 11,
    "start_time": "2025-05-07T22:30:51.511Z"
   },
   {
    "duration": 8,
    "start_time": "2025-05-07T22:30:51.525Z"
   },
   {
    "duration": 16,
    "start_time": "2025-05-07T22:30:51.535Z"
   },
   {
    "duration": 6,
    "start_time": "2025-05-07T22:30:51.553Z"
   },
   {
    "duration": 1143,
    "start_time": "2025-05-07T22:32:13.063Z"
   },
   {
    "duration": 83,
    "start_time": "2025-05-07T22:32:14.208Z"
   },
   {
    "duration": 14,
    "start_time": "2025-05-07T22:32:14.293Z"
   },
   {
    "duration": 12,
    "start_time": "2025-05-07T22:32:14.309Z"
   },
   {
    "duration": 97,
    "start_time": "2025-05-07T22:32:14.322Z"
   },
   {
    "duration": 9,
    "start_time": "2025-05-07T22:32:14.420Z"
   },
   {
    "duration": 7,
    "start_time": "2025-05-07T22:32:14.430Z"
   },
   {
    "duration": 5,
    "start_time": "2025-05-07T22:32:14.439Z"
   },
   {
    "duration": 18,
    "start_time": "2025-05-07T22:32:14.445Z"
   },
   {
    "duration": 18,
    "start_time": "2025-05-07T22:32:14.465Z"
   },
   {
    "duration": 13,
    "start_time": "2025-05-07T22:32:14.485Z"
   },
   {
    "duration": 27,
    "start_time": "2025-05-07T22:32:14.506Z"
   },
   {
    "duration": 201,
    "start_time": "2025-05-07T22:32:14.535Z"
   },
   {
    "duration": 198,
    "start_time": "2025-05-07T22:32:14.737Z"
   },
   {
    "duration": 13,
    "start_time": "2025-05-07T22:32:14.937Z"
   },
   {
    "duration": 93,
    "start_time": "2025-05-07T22:32:14.952Z"
   },
   {
    "duration": 1632,
    "start_time": "2025-05-07T22:32:15.047Z"
   },
   {
    "duration": 8,
    "start_time": "2025-05-07T22:32:16.681Z"
   },
   {
    "duration": 22,
    "start_time": "2025-05-07T22:32:16.691Z"
   },
   {
    "duration": 17,
    "start_time": "2025-05-07T22:32:16.715Z"
   },
   {
    "duration": 12,
    "start_time": "2025-05-07T22:32:16.734Z"
   },
   {
    "duration": 12,
    "start_time": "2025-05-07T22:32:16.747Z"
   },
   {
    "duration": 11,
    "start_time": "2025-05-07T22:32:16.761Z"
   },
   {
    "duration": 14,
    "start_time": "2025-05-07T22:32:16.773Z"
   },
   {
    "duration": 133,
    "start_time": "2025-05-07T22:32:16.789Z"
   },
   {
    "duration": 356,
    "start_time": "2025-05-07T22:32:16.924Z"
   },
   {
    "duration": 394,
    "start_time": "2025-05-07T22:32:17.282Z"
   },
   {
    "duration": 339,
    "start_time": "2025-05-07T22:32:17.680Z"
   },
   {
    "duration": 5,
    "start_time": "2025-05-07T22:32:18.021Z"
   },
   {
    "duration": 8,
    "start_time": "2025-05-07T22:32:18.027Z"
   },
   {
    "duration": 5,
    "start_time": "2025-05-07T22:32:18.037Z"
   },
   {
    "duration": 15,
    "start_time": "2025-05-07T22:32:18.043Z"
   },
   {
    "duration": 10,
    "start_time": "2025-05-07T22:32:18.060Z"
   },
   {
    "duration": 40,
    "start_time": "2025-05-07T22:32:18.072Z"
   },
   {
    "duration": 119,
    "start_time": "2025-05-07T22:32:18.114Z"
   },
   {
    "duration": 106,
    "start_time": "2025-05-07T22:32:18.235Z"
   },
   {
    "duration": 72,
    "start_time": "2025-05-07T22:32:18.344Z"
   },
   {
    "duration": 27,
    "start_time": "2025-05-07T22:32:18.418Z"
   },
   {
    "duration": 16,
    "start_time": "2025-05-07T22:32:18.447Z"
   },
   {
    "duration": 41,
    "start_time": "2025-05-07T22:32:18.465Z"
   },
   {
    "duration": 10,
    "start_time": "2025-05-07T22:32:18.508Z"
   },
   {
    "duration": 32,
    "start_time": "2025-05-07T22:32:18.520Z"
   },
   {
    "duration": 29,
    "start_time": "2025-05-07T22:32:18.553Z"
   },
   {
    "duration": 6,
    "start_time": "2025-05-07T22:32:18.606Z"
   },
   {
    "duration": 10,
    "start_time": "2025-05-07T22:32:18.614Z"
   },
   {
    "duration": 10,
    "start_time": "2025-05-07T22:32:18.626Z"
   },
   {
    "duration": 6,
    "start_time": "2025-05-07T22:32:18.638Z"
   },
   {
    "duration": 21,
    "start_time": "2025-05-07T22:32:18.646Z"
   },
   {
    "duration": 5,
    "start_time": "2025-05-07T22:32:18.669Z"
   },
   {
    "duration": 1139,
    "start_time": "2025-05-07T22:32:47.556Z"
   },
   {
    "duration": 82,
    "start_time": "2025-05-07T22:32:48.697Z"
   },
   {
    "duration": 12,
    "start_time": "2025-05-07T22:32:48.781Z"
   },
   {
    "duration": 49,
    "start_time": "2025-05-07T22:32:48.795Z"
   },
   {
    "duration": 31,
    "start_time": "2025-05-07T22:32:48.846Z"
   },
   {
    "duration": 29,
    "start_time": "2025-05-07T22:32:48.879Z"
   },
   {
    "duration": 27,
    "start_time": "2025-05-07T22:32:48.909Z"
   },
   {
    "duration": 74,
    "start_time": "2025-05-07T22:32:48.937Z"
   },
   {
    "duration": 30,
    "start_time": "2025-05-07T22:32:49.013Z"
   },
   {
    "duration": 24,
    "start_time": "2025-05-07T22:32:49.046Z"
   },
   {
    "duration": 17,
    "start_time": "2025-05-07T22:32:49.072Z"
   },
   {
    "duration": 111,
    "start_time": "2025-05-07T22:32:49.091Z"
   },
   {
    "duration": 203,
    "start_time": "2025-05-07T22:32:49.204Z"
   },
   {
    "duration": 191,
    "start_time": "2025-05-07T22:32:49.408Z"
   },
   {
    "duration": 9,
    "start_time": "2025-05-07T22:32:49.606Z"
   },
   {
    "duration": 12,
    "start_time": "2025-05-07T22:32:49.617Z"
   },
   {
    "duration": 1750,
    "start_time": "2025-05-07T22:32:49.631Z"
   },
   {
    "duration": 12,
    "start_time": "2025-05-07T22:32:51.383Z"
   },
   {
    "duration": 26,
    "start_time": "2025-05-07T22:32:51.397Z"
   },
   {
    "duration": 28,
    "start_time": "2025-05-07T22:32:51.424Z"
   },
   {
    "duration": 17,
    "start_time": "2025-05-07T22:32:51.454Z"
   },
   {
    "duration": 6,
    "start_time": "2025-05-07T22:32:51.473Z"
   },
   {
    "duration": 13,
    "start_time": "2025-05-07T22:32:51.480Z"
   },
   {
    "duration": 18,
    "start_time": "2025-05-07T22:32:51.496Z"
   },
   {
    "duration": 131,
    "start_time": "2025-05-07T22:32:51.516Z"
   },
   {
    "duration": 391,
    "start_time": "2025-05-07T22:32:51.649Z"
   },
   {
    "duration": 382,
    "start_time": "2025-05-07T22:32:52.042Z"
   },
   {
    "duration": 351,
    "start_time": "2025-05-07T22:32:52.427Z"
   },
   {
    "duration": 6,
    "start_time": "2025-05-07T22:32:52.780Z"
   },
   {
    "duration": 25,
    "start_time": "2025-05-07T22:32:52.788Z"
   },
   {
    "duration": 16,
    "start_time": "2025-05-07T22:32:52.814Z"
   },
   {
    "duration": 9,
    "start_time": "2025-05-07T22:32:52.831Z"
   },
   {
    "duration": 10,
    "start_time": "2025-05-07T22:32:52.842Z"
   },
   {
    "duration": 25,
    "start_time": "2025-05-07T22:32:52.854Z"
   },
   {
    "duration": 20,
    "start_time": "2025-05-07T22:32:52.881Z"
   },
   {
    "duration": 114,
    "start_time": "2025-05-07T22:32:52.903Z"
   },
   {
    "duration": 14,
    "start_time": "2025-05-07T22:32:53.019Z"
   },
   {
    "duration": 36,
    "start_time": "2025-05-07T22:32:53.035Z"
   },
   {
    "duration": 45,
    "start_time": "2025-05-07T22:32:53.072Z"
   },
   {
    "duration": 102,
    "start_time": "2025-05-07T22:32:53.119Z"
   },
   {
    "duration": 10,
    "start_time": "2025-05-07T22:32:53.223Z"
   },
   {
    "duration": 44,
    "start_time": "2025-05-07T22:32:53.235Z"
   },
   {
    "duration": 29,
    "start_time": "2025-05-07T22:32:53.281Z"
   },
   {
    "duration": 6,
    "start_time": "2025-05-07T22:32:53.311Z"
   },
   {
    "duration": 34,
    "start_time": "2025-05-07T22:32:53.318Z"
   },
   {
    "duration": 9,
    "start_time": "2025-05-07T22:32:53.354Z"
   },
   {
    "duration": 16,
    "start_time": "2025-05-07T22:32:53.365Z"
   },
   {
    "duration": 6,
    "start_time": "2025-05-07T22:32:53.382Z"
   },
   {
    "duration": 18,
    "start_time": "2025-05-07T22:32:53.390Z"
   },
   {
    "duration": 1164,
    "start_time": "2025-05-07T22:33:02.639Z"
   },
   {
    "duration": 102,
    "start_time": "2025-05-07T22:33:03.805Z"
   },
   {
    "duration": 13,
    "start_time": "2025-05-07T22:33:03.909Z"
   },
   {
    "duration": 38,
    "start_time": "2025-05-07T22:33:03.925Z"
   },
   {
    "duration": 5,
    "start_time": "2025-05-07T22:33:03.965Z"
   },
   {
    "duration": 27,
    "start_time": "2025-05-07T22:33:03.972Z"
   },
   {
    "duration": 11,
    "start_time": "2025-05-07T22:33:04.001Z"
   },
   {
    "duration": 43,
    "start_time": "2025-05-07T22:33:04.014Z"
   },
   {
    "duration": 22,
    "start_time": "2025-05-07T22:33:04.058Z"
   },
   {
    "duration": 127,
    "start_time": "2025-05-07T22:33:04.083Z"
   },
   {
    "duration": 41,
    "start_time": "2025-05-07T22:33:04.212Z"
   },
   {
    "duration": 28,
    "start_time": "2025-05-07T22:33:04.255Z"
   },
   {
    "duration": 212,
    "start_time": "2025-05-07T22:33:04.285Z"
   },
   {
    "duration": 196,
    "start_time": "2025-05-07T22:33:04.506Z"
   },
   {
    "duration": 10,
    "start_time": "2025-05-07T22:33:04.705Z"
   },
   {
    "duration": 12,
    "start_time": "2025-05-07T22:33:04.717Z"
   },
   {
    "duration": 1565,
    "start_time": "2025-05-07T22:33:04.730Z"
   },
   {
    "duration": 13,
    "start_time": "2025-05-07T22:33:06.298Z"
   },
   {
    "duration": 110,
    "start_time": "2025-05-07T22:33:06.313Z"
   },
   {
    "duration": 32,
    "start_time": "2025-05-07T22:33:06.425Z"
   },
   {
    "duration": 23,
    "start_time": "2025-05-07T22:33:06.458Z"
   },
   {
    "duration": 19,
    "start_time": "2025-05-07T22:33:06.483Z"
   },
   {
    "duration": 26,
    "start_time": "2025-05-07T22:33:06.504Z"
   },
   {
    "duration": 56,
    "start_time": "2025-05-07T22:33:06.532Z"
   },
   {
    "duration": 148,
    "start_time": "2025-05-07T22:33:06.589Z"
   },
   {
    "duration": 325,
    "start_time": "2025-05-07T22:33:06.739Z"
   },
   {
    "duration": 366,
    "start_time": "2025-05-07T22:33:07.065Z"
   },
   {
    "duration": 358,
    "start_time": "2025-05-07T22:33:07.434Z"
   },
   {
    "duration": 15,
    "start_time": "2025-05-07T22:33:07.794Z"
   },
   {
    "duration": 41,
    "start_time": "2025-05-07T22:33:07.811Z"
   },
   {
    "duration": 7,
    "start_time": "2025-05-07T22:33:07.854Z"
   },
   {
    "duration": 17,
    "start_time": "2025-05-07T22:33:07.862Z"
   },
   {
    "duration": 23,
    "start_time": "2025-05-07T22:33:07.881Z"
   },
   {
    "duration": 11,
    "start_time": "2025-05-07T22:33:07.906Z"
   },
   {
    "duration": 44,
    "start_time": "2025-05-07T22:33:07.918Z"
   },
   {
    "duration": 225,
    "start_time": "2025-05-07T22:33:07.964Z"
   },
   {
    "duration": 69,
    "start_time": "2025-05-07T22:33:08.191Z"
   },
   {
    "duration": 28,
    "start_time": "2025-05-07T22:33:08.262Z"
   },
   {
    "duration": 31,
    "start_time": "2025-05-07T22:33:08.293Z"
   },
   {
    "duration": 18,
    "start_time": "2025-05-07T22:33:08.326Z"
   },
   {
    "duration": 77,
    "start_time": "2025-05-07T22:33:08.346Z"
   },
   {
    "duration": 32,
    "start_time": "2025-05-07T22:33:08.425Z"
   },
   {
    "duration": 29,
    "start_time": "2025-05-07T22:33:08.459Z"
   },
   {
    "duration": 20,
    "start_time": "2025-05-07T22:33:08.490Z"
   },
   {
    "duration": 8,
    "start_time": "2025-05-07T22:33:08.512Z"
   },
   {
    "duration": 11,
    "start_time": "2025-05-07T22:33:08.521Z"
   },
   {
    "duration": 6,
    "start_time": "2025-05-07T22:33:08.534Z"
   },
   {
    "duration": 16,
    "start_time": "2025-05-07T22:33:08.542Z"
   },
   {
    "duration": 8,
    "start_time": "2025-05-07T22:33:08.560Z"
   }
  ],
  "colab": {
   "provenance": [],
   "toc_visible": true
  },
  "kernelspec": {
   "display_name": "Python 3 (ipykernel)",
   "language": "python",
   "name": "python3"
  },
  "language_info": {
   "codemirror_mode": {
    "name": "ipython",
    "version": 3
   },
   "file_extension": ".py",
   "mimetype": "text/x-python",
   "name": "python",
   "nbconvert_exporter": "python",
   "pygments_lexer": "ipython3",
   "version": "3.9.7"
  },
  "toc": {
   "base_numbering": 1,
   "nav_menu": {},
   "number_sections": true,
   "sideBar": true,
   "skip_h1_title": true,
   "title_cell": "Table of Contents",
   "title_sidebar": "Contents",
   "toc_cell": false,
   "toc_position": {
    "height": "calc(100% - 180px)",
    "left": "10px",
    "top": "150px",
    "width": "265.99px"
   },
   "toc_section_display": true,
   "toc_window_display": true
  }
 },
 "nbformat": 4,
 "nbformat_minor": 5
}
