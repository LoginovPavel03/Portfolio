{
 "cells": [
  {
   "cell_type": "markdown",
   "id": "e06910dd",
   "metadata": {
    "id": "e06910dd"
   },
   "source": [
    "# Изучение развития игровой индустрии (с 2000 по 2013 год)\n",
    "\n",
    "- Автор: Логинов Павел Александрович\n",
    "- Дата: 02.02.2025"
   ]
  },
  {
   "cell_type": "markdown",
   "id": "4149134c",
   "metadata": {
    "id": "4149134c"
   },
   "source": [
    "### Цели и задачи проекта\n",
    "\n",
    "\n",
    "**Цель проекта**: изучить объёмы продаж игр разных жанров и региональные предпочтения игроков с 2000 по 2013 год\n",
    "\n",
    "**Задачи проекта**:\n",
    "\n",
    "- Изучить данные\n",
    "- Проверить корректность данных\n",
    "- Провести преобработку данных\n",
    "- Провести фильтрацию данных\n",
    "- Провести категоризацию данных:\n",
    "    - Категоризовать игры по оценкам пользователей\n",
    "    - Категоризовать игры по оценкам экспертов\n",
    "    - Выделить топ-7 платформ по количеству игр, выпущенных за весь требуемый период"
   ]
  },
  {
   "cell_type": "markdown",
   "id": "2704e3ba",
   "metadata": {
    "id": "728986ea"
   },
   "source": [
    "### Описание данных\n",
    "\n",
    "Данные `/datasets/new_games.csv` содержат информацию о продажах игр разных жанров и платформ, а также пользовательские и экспертные оценки игр:\n",
    "- `Name` — название игры.\n",
    "- `Platform` — название платформы.\n",
    "- `Year of Release` — год выпуска игры.\n",
    "- `Genre` — жанр игры.\n",
    "- `NA sales` — продажи в Северной Америке (в миллионах проданных копий).\n",
    "- `EU sales` — продажи в Европе (в миллионах проданных копий).\n",
    "- `JP sales` — продажи в Японии (в миллионах проданных копий).\n",
    "- `Other sales` — продажи в других странах (в миллионах проданных копий).\n",
    "- `Critic Score` — оценка критиков (от 0 до 100).\n",
    "- `User Score` — оценка пользователей (от 0 до 10).\n",
    "- `Rating` — рейтинг организации ESRB (англ. Entertainment Software Rating Board). Эта ассоциация определяет рейтинг компьютерных игр и присваивает им подходящую возрастную категорию."
   ]
  },
  {
   "cell_type": "markdown",
   "id": "4fecaf95",
   "metadata": {
    "id": "4fecaf95"
   },
   "source": [
    "### Содержимое проекта\n",
    "\n",
    "1. Загрузка данных и знакомство с ними \n",
    "2. Проверка ошибок в данных и их предобработка\n",
    "- 2.1. Названия, или метки, столбцов датафрейма\n",
    "- 2.2. Типы данных\n",
    "- 2.3. Наличие пропусков в данных\n",
    "- 2.4. Явные и неявные дубликаты в данных\n",
    "3. Фильтрация данных\n",
    "4. Категоризация данных\n",
    "5. Итоговый вывод"
   ]
  },
  {
   "cell_type": "markdown",
   "id": "40d075e4",
   "metadata": {},
   "source": [
    "### Краткое описание проекта\n",
    "\n",
    "Суть проекта заключается в том, чтобы изучить развитие игровой индустрии с 2000 по 2013 год включительно. Предварительно необходимо загрузить и обработать имеющиеся данные, а затем отфильтровать их в соответствии с условием об анализе конкретного временного промежутка. Под анализом проекта понимается категоризация данных в зависимости от оценок пользователей и критиков, а также составление рейтинга самых популярных платформ, на которых выпускались различные игры в период с 2000 по 2013 год включительно"
   ]
  },
  {
   "cell_type": "markdown",
   "id": "6f7d21d6",
   "metadata": {
    "id": "6f7d21d6"
   },
   "source": [
    "## 1. Загрузка данных и знакомство с ними"
   ]
  },
  {
   "cell_type": "code",
   "execution_count": 1,
   "id": "38bcc4e6",
   "metadata": {},
   "outputs": [],
   "source": [
    "# Импортируем библиотеку pandas\n",
    "\n",
    "import pandas as pd"
   ]
  },
  {
   "cell_type": "code",
   "execution_count": 2,
   "id": "02619d01",
   "metadata": {},
   "outputs": [],
   "source": [
    "# Выгружаем данные из датасета new_games.csv в датафрейм games\n",
    "\n",
    "games = pd.read_csv('https://code.s3.yandex.net/datasets/new_games.csv')"
   ]
  },
  {
   "cell_type": "markdown",
   "id": "e0a8705f",
   "metadata": {
    "id": "e0a8705f"
   },
   "source": [
    "Познакомимся с данными: выведем первые строки и результат метода `info()`\n"
   ]
  },
  {
   "cell_type": "code",
   "execution_count": 3,
   "id": "3937acf7",
   "metadata": {
    "id": "3937acf7"
   },
   "outputs": [
    {
     "name": "stdout",
     "output_type": "stream",
     "text": [
      "                       Name Platform  Year of Release         Genre  NA sales  \\\n",
      "0                Wii Sports      Wii           2006.0        Sports     41.36   \n",
      "1         Super Mario Bros.      NES           1985.0      Platform     29.08   \n",
      "2            Mario Kart Wii      Wii           2008.0        Racing     15.68   \n",
      "3         Wii Sports Resort      Wii           2009.0        Sports     15.61   \n",
      "4  Pokemon Red/Pokemon Blue       GB           1996.0  Role-Playing     11.27   \n",
      "\n",
      "  EU sales JP sales  Other sales  Critic Score User Score Rating  \n",
      "0    28.96     3.77         8.45          76.0          8      E  \n",
      "1     3.58     6.81         0.77           NaN        NaN    NaN  \n",
      "2    12.76     3.79         3.29          82.0        8.3      E  \n",
      "3    10.93     3.28         2.95          80.0          8      E  \n",
      "4     8.89    10.22         1.00           NaN        NaN    NaN  \n"
     ]
    }
   ],
   "source": [
    "# Выводим первые строки датафрейма на экран\n",
    "\n",
    "print(games.head())"
   ]
  },
  {
   "cell_type": "code",
   "execution_count": 4,
   "id": "9257786d",
   "metadata": {},
   "outputs": [
    {
     "name": "stdout",
     "output_type": "stream",
     "text": [
      "Выводим с помощью print\n",
      "                       Name Platform  Year of Release         Genre  NA sales  \\\n",
      "0                Wii Sports      Wii           2006.0        Sports     41.36   \n",
      "1         Super Mario Bros.      NES           1985.0      Platform     29.08   \n",
      "2            Mario Kart Wii      Wii           2008.0        Racing     15.68   \n",
      "3         Wii Sports Resort      Wii           2009.0        Sports     15.61   \n",
      "4  Pokemon Red/Pokemon Blue       GB           1996.0  Role-Playing     11.27   \n",
      "\n",
      "  EU sales JP sales  Other sales  Critic Score User Score Rating  \n",
      "0    28.96     3.77         8.45          76.0          8      E  \n",
      "1     3.58     6.81         0.77           NaN        NaN    NaN  \n",
      "2    12.76     3.79         3.29          82.0        8.3      E  \n",
      "3    10.93     3.28         2.95          80.0          8      E  \n",
      "4     8.89    10.22         1.00           NaN        NaN    NaN  \n",
      "\n",
      "Выводим с помощью display\n"
     ]
    },
    {
     "data": {
      "text/html": [
       "<div>\n",
       "<style scoped>\n",
       "    .dataframe tbody tr th:only-of-type {\n",
       "        vertical-align: middle;\n",
       "    }\n",
       "\n",
       "    .dataframe tbody tr th {\n",
       "        vertical-align: top;\n",
       "    }\n",
       "\n",
       "    .dataframe thead th {\n",
       "        text-align: right;\n",
       "    }\n",
       "</style>\n",
       "<table border=\"1\" class=\"dataframe\">\n",
       "  <thead>\n",
       "    <tr style=\"text-align: right;\">\n",
       "      <th></th>\n",
       "      <th>Name</th>\n",
       "      <th>Platform</th>\n",
       "      <th>Year of Release</th>\n",
       "      <th>Genre</th>\n",
       "      <th>NA sales</th>\n",
       "      <th>EU sales</th>\n",
       "      <th>JP sales</th>\n",
       "      <th>Other sales</th>\n",
       "      <th>Critic Score</th>\n",
       "      <th>User Score</th>\n",
       "      <th>Rating</th>\n",
       "    </tr>\n",
       "  </thead>\n",
       "  <tbody>\n",
       "    <tr>\n",
       "      <th>0</th>\n",
       "      <td>Wii Sports</td>\n",
       "      <td>Wii</td>\n",
       "      <td>2006.0</td>\n",
       "      <td>Sports</td>\n",
       "      <td>41.36</td>\n",
       "      <td>28.96</td>\n",
       "      <td>3.77</td>\n",
       "      <td>8.45</td>\n",
       "      <td>76.0</td>\n",
       "      <td>8</td>\n",
       "      <td>E</td>\n",
       "    </tr>\n",
       "    <tr>\n",
       "      <th>1</th>\n",
       "      <td>Super Mario Bros.</td>\n",
       "      <td>NES</td>\n",
       "      <td>1985.0</td>\n",
       "      <td>Platform</td>\n",
       "      <td>29.08</td>\n",
       "      <td>3.58</td>\n",
       "      <td>6.81</td>\n",
       "      <td>0.77</td>\n",
       "      <td>NaN</td>\n",
       "      <td>NaN</td>\n",
       "      <td>NaN</td>\n",
       "    </tr>\n",
       "    <tr>\n",
       "      <th>2</th>\n",
       "      <td>Mario Kart Wii</td>\n",
       "      <td>Wii</td>\n",
       "      <td>2008.0</td>\n",
       "      <td>Racing</td>\n",
       "      <td>15.68</td>\n",
       "      <td>12.76</td>\n",
       "      <td>3.79</td>\n",
       "      <td>3.29</td>\n",
       "      <td>82.0</td>\n",
       "      <td>8.3</td>\n",
       "      <td>E</td>\n",
       "    </tr>\n",
       "    <tr>\n",
       "      <th>3</th>\n",
       "      <td>Wii Sports Resort</td>\n",
       "      <td>Wii</td>\n",
       "      <td>2009.0</td>\n",
       "      <td>Sports</td>\n",
       "      <td>15.61</td>\n",
       "      <td>10.93</td>\n",
       "      <td>3.28</td>\n",
       "      <td>2.95</td>\n",
       "      <td>80.0</td>\n",
       "      <td>8</td>\n",
       "      <td>E</td>\n",
       "    </tr>\n",
       "    <tr>\n",
       "      <th>4</th>\n",
       "      <td>Pokemon Red/Pokemon Blue</td>\n",
       "      <td>GB</td>\n",
       "      <td>1996.0</td>\n",
       "      <td>Role-Playing</td>\n",
       "      <td>11.27</td>\n",
       "      <td>8.89</td>\n",
       "      <td>10.22</td>\n",
       "      <td>1.00</td>\n",
       "      <td>NaN</td>\n",
       "      <td>NaN</td>\n",
       "      <td>NaN</td>\n",
       "    </tr>\n",
       "  </tbody>\n",
       "</table>\n",
       "</div>"
      ],
      "text/plain": [
       "                       Name Platform  Year of Release         Genre  NA sales  \\\n",
       "0                Wii Sports      Wii           2006.0        Sports     41.36   \n",
       "1         Super Mario Bros.      NES           1985.0      Platform     29.08   \n",
       "2            Mario Kart Wii      Wii           2008.0        Racing     15.68   \n",
       "3         Wii Sports Resort      Wii           2009.0        Sports     15.61   \n",
       "4  Pokemon Red/Pokemon Blue       GB           1996.0  Role-Playing     11.27   \n",
       "\n",
       "  EU sales JP sales  Other sales  Critic Score User Score Rating  \n",
       "0    28.96     3.77         8.45          76.0          8      E  \n",
       "1     3.58     6.81         0.77           NaN        NaN    NaN  \n",
       "2    12.76     3.79         3.29          82.0        8.3      E  \n",
       "3    10.93     3.28         2.95          80.0          8      E  \n",
       "4     8.89    10.22         1.00           NaN        NaN    NaN  "
      ]
     },
     "metadata": {},
     "output_type": "display_data"
    },
    {
     "name": "stdout",
     "output_type": "stream",
     "text": [
      "\n",
      "Можно просто переменную оставить в последней строке ячейки и она отобразится, как display\n"
     ]
    },
    {
     "data": {
      "text/html": [
       "<div>\n",
       "<style scoped>\n",
       "    .dataframe tbody tr th:only-of-type {\n",
       "        vertical-align: middle;\n",
       "    }\n",
       "\n",
       "    .dataframe tbody tr th {\n",
       "        vertical-align: top;\n",
       "    }\n",
       "\n",
       "    .dataframe thead th {\n",
       "        text-align: right;\n",
       "    }\n",
       "</style>\n",
       "<table border=\"1\" class=\"dataframe\">\n",
       "  <thead>\n",
       "    <tr style=\"text-align: right;\">\n",
       "      <th></th>\n",
       "      <th>Name</th>\n",
       "      <th>Platform</th>\n",
       "      <th>Year of Release</th>\n",
       "      <th>Genre</th>\n",
       "      <th>NA sales</th>\n",
       "      <th>EU sales</th>\n",
       "      <th>JP sales</th>\n",
       "      <th>Other sales</th>\n",
       "      <th>Critic Score</th>\n",
       "      <th>User Score</th>\n",
       "      <th>Rating</th>\n",
       "    </tr>\n",
       "  </thead>\n",
       "  <tbody>\n",
       "    <tr>\n",
       "      <th>0</th>\n",
       "      <td>Wii Sports</td>\n",
       "      <td>Wii</td>\n",
       "      <td>2006.0</td>\n",
       "      <td>Sports</td>\n",
       "      <td>41.36</td>\n",
       "      <td>28.96</td>\n",
       "      <td>3.77</td>\n",
       "      <td>8.45</td>\n",
       "      <td>76.0</td>\n",
       "      <td>8</td>\n",
       "      <td>E</td>\n",
       "    </tr>\n",
       "    <tr>\n",
       "      <th>1</th>\n",
       "      <td>Super Mario Bros.</td>\n",
       "      <td>NES</td>\n",
       "      <td>1985.0</td>\n",
       "      <td>Platform</td>\n",
       "      <td>29.08</td>\n",
       "      <td>3.58</td>\n",
       "      <td>6.81</td>\n",
       "      <td>0.77</td>\n",
       "      <td>NaN</td>\n",
       "      <td>NaN</td>\n",
       "      <td>NaN</td>\n",
       "    </tr>\n",
       "    <tr>\n",
       "      <th>2</th>\n",
       "      <td>Mario Kart Wii</td>\n",
       "      <td>Wii</td>\n",
       "      <td>2008.0</td>\n",
       "      <td>Racing</td>\n",
       "      <td>15.68</td>\n",
       "      <td>12.76</td>\n",
       "      <td>3.79</td>\n",
       "      <td>3.29</td>\n",
       "      <td>82.0</td>\n",
       "      <td>8.3</td>\n",
       "      <td>E</td>\n",
       "    </tr>\n",
       "    <tr>\n",
       "      <th>3</th>\n",
       "      <td>Wii Sports Resort</td>\n",
       "      <td>Wii</td>\n",
       "      <td>2009.0</td>\n",
       "      <td>Sports</td>\n",
       "      <td>15.61</td>\n",
       "      <td>10.93</td>\n",
       "      <td>3.28</td>\n",
       "      <td>2.95</td>\n",
       "      <td>80.0</td>\n",
       "      <td>8</td>\n",
       "      <td>E</td>\n",
       "    </tr>\n",
       "    <tr>\n",
       "      <th>4</th>\n",
       "      <td>Pokemon Red/Pokemon Blue</td>\n",
       "      <td>GB</td>\n",
       "      <td>1996.0</td>\n",
       "      <td>Role-Playing</td>\n",
       "      <td>11.27</td>\n",
       "      <td>8.89</td>\n",
       "      <td>10.22</td>\n",
       "      <td>1.00</td>\n",
       "      <td>NaN</td>\n",
       "      <td>NaN</td>\n",
       "      <td>NaN</td>\n",
       "    </tr>\n",
       "  </tbody>\n",
       "</table>\n",
       "</div>"
      ],
      "text/plain": [
       "                       Name Platform  Year of Release         Genre  NA sales  \\\n",
       "0                Wii Sports      Wii           2006.0        Sports     41.36   \n",
       "1         Super Mario Bros.      NES           1985.0      Platform     29.08   \n",
       "2            Mario Kart Wii      Wii           2008.0        Racing     15.68   \n",
       "3         Wii Sports Resort      Wii           2009.0        Sports     15.61   \n",
       "4  Pokemon Red/Pokemon Blue       GB           1996.0  Role-Playing     11.27   \n",
       "\n",
       "  EU sales JP sales  Other sales  Critic Score User Score Rating  \n",
       "0    28.96     3.77         8.45          76.0          8      E  \n",
       "1     3.58     6.81         0.77           NaN        NaN    NaN  \n",
       "2    12.76     3.79         3.29          82.0        8.3      E  \n",
       "3    10.93     3.28         2.95          80.0          8      E  \n",
       "4     8.89    10.22         1.00           NaN        NaN    NaN  "
      ]
     },
     "execution_count": 4,
     "metadata": {},
     "output_type": "execute_result"
    }
   ],
   "source": [
    "# Код ревьюера\n",
    "\n",
    "print('Выводим с помощью print')\n",
    "print(games.head())\n",
    "\n",
    "print()\n",
    "\n",
    "print('Выводим с помощью display')\n",
    "display(games.head())\n",
    "\n",
    "print()\n",
    "\n",
    "print('Можно просто переменную оставить в последней строке ячейки и она отобразится, как display')\n",
    "games.head()"
   ]
  },
  {
   "cell_type": "code",
   "execution_count": 5,
   "id": "d7c8eb4b",
   "metadata": {
    "id": "d7c8eb4b"
   },
   "outputs": [
    {
     "name": "stdout",
     "output_type": "stream",
     "text": [
      "<class 'pandas.core.frame.DataFrame'>\n",
      "RangeIndex: 16956 entries, 0 to 16955\n",
      "Data columns (total 11 columns):\n",
      " #   Column           Non-Null Count  Dtype  \n",
      "---  ------           --------------  -----  \n",
      " 0   Name             16954 non-null  object \n",
      " 1   Platform         16956 non-null  object \n",
      " 2   Year of Release  16681 non-null  float64\n",
      " 3   Genre            16954 non-null  object \n",
      " 4   NA sales         16956 non-null  float64\n",
      " 5   EU sales         16956 non-null  object \n",
      " 6   JP sales         16956 non-null  object \n",
      " 7   Other sales      16956 non-null  float64\n",
      " 8   Critic Score     8242 non-null   float64\n",
      " 9   User Score       10152 non-null  object \n",
      " 10  Rating           10085 non-null  object \n",
      "dtypes: float64(4), object(7)\n",
      "memory usage: 1.4+ MB\n",
      "None\n"
     ]
    }
   ],
   "source": [
    "# Выводим информацию о датафрейме\n",
    "\n",
    "print(games.info())"
   ]
  },
  {
   "cell_type": "code",
   "execution_count": 6,
   "id": "8251bb54",
   "metadata": {},
   "outputs": [
    {
     "name": "stdout",
     "output_type": "stream",
     "text": [
      "Количество строк: 16956\n",
      "Количество столбцов: 11\n"
     ]
    }
   ],
   "source": [
    "# Выводим информацию о количестве строк и столбцов\n",
    "\n",
    "len_row = games.shape[0]\n",
    "print(f'Количество строк: {len_row}')\n",
    "len_column = games.shape[1]\n",
    "print(f'Количество столбцов: {len_column}')"
   ]
  },
  {
   "cell_type": "code",
   "execution_count": 7,
   "id": "f843da27",
   "metadata": {},
   "outputs": [
    {
     "name": "stdout",
     "output_type": "stream",
     "text": [
      "Name                  2\n",
      "Platform              0\n",
      "Year of Release     275\n",
      "Genre                 2\n",
      "NA sales              0\n",
      "EU sales              0\n",
      "JP sales              0\n",
      "Other sales           0\n",
      "Critic Score       8714\n",
      "User Score         6804\n",
      "Rating             6871\n",
      "dtype: int64\n"
     ]
    }
   ],
   "source": [
    "# Выводим информацию о количество пропусков в каждом столбце датафрейма\n",
    "\n",
    "print(games.isna().sum())"
   ]
  },
  {
   "cell_type": "code",
   "execution_count": 8,
   "id": "09d75081",
   "metadata": {},
   "outputs": [
    {
     "name": "stdout",
     "output_type": "stream",
     "text": [
      "Name                0.01\n",
      "Platform            0.00\n",
      "Year of Release     1.62\n",
      "Genre               0.01\n",
      "NA sales            0.00\n",
      "EU sales            0.00\n",
      "JP sales            0.00\n",
      "Other sales         0.00\n",
      "Critic Score       51.39\n",
      "User Score         40.13\n",
      "Rating             40.52\n",
      "dtype: float64\n"
     ]
    }
   ],
   "source": [
    "# Вычисляем долю пропусков от общего количество значений всего датафрейма (в %)\n",
    "\n",
    "prop = (games.isna().sum()/len(games))*100\n",
    "print(round(prop, 2))"
   ]
  },
  {
   "cell_type": "markdown",
   "id": "de9b3624",
   "metadata": {
    "id": "81651b8d"
   },
   "source": [
    "Датасет `new_games.csv` содержит 11 столбцов и 16956 строк, в которых представлена информация о продаже игр разных жанров и платформ, а также пользовательские и экспертные оценки игр.\n",
    "\n",
    "Изучим типы данных и их корректность:\n",
    "\n",
    "- **Строковые данные (object).** 7 столбцов имеют тип данных `object`:\n",
    "    - `name`, `platform`, `genre` содержат строковую информацию о названии игры, названии платформы и жанре игры, что логично для текстовых данных. Здесь тип данных object подходит.\n",
    "    - `EU sales`, `JP sales` содержат информацию о продажах игр в Европе и Японии соответственно. Так как информация о продажах передана в миллионах проданных копий, будет логичнее преобразовать данные столбцы к типу данных `float64`, как это сделано в случае с информацией о продажах игр в Северной Америке.\n",
    "    - `User Score` содержат информацию об оценке пользователей. Так как оценка пользователей производится по шкале от 0 до 10 и может представлять из себя число с плавающей точкой, будет логичнее преобразовать данный стобец к типу данных `float64`, как это сделано в случае с информацией об оценках критиков.\n",
    "    - `Rating` содержит информацию о рейтинге организации ESRB. Шкала оценок данной организации состоит из буквенных и численных обозначений. Поэтому будет логичнее оставить имеющийся тип данных `object` и обрабатывать информацию как строковую.\n",
    "\n",
    "- **Числовые значения с плавающей точкой (float64).** 4 столбца имеют тип данных `float64`:\n",
    "    - `Year of Release` содержит информацию о годе выпуска игры. Поскольку год - это дата, то будет логичнее преобразовать данный столбец к типу данных `datetime64`, который хранит информацию о дате и времени.\n",
    "    - `NA sales`, `Other sales` содержит информацию о продажах игр в Северной Америке и других странах. Поскольку информация о продажах передана в миллионах проданных копий, будет логично оставить имеющийся тип данных `float64` и обрабатывать информацию как числовые значения с плавающей точкой.\n",
    "    - `Critic Score` содержит информацию об оценке критиков. Так как оценка критиков производится по шкале от 0 до 100 и может представлять из себя число с плавающей точкой, будет логичнее оставить имеющийся тип данных `float64` и обрабатывать информацию как числовые значения с плавающей точкой.\n",
    "    \n",
    "После анализа типов данных видно, что большинство столбцов представлены корректно. Однако для дальнейшего анализа данных необходимо изменить типы данных для некоторых столбцов:\n",
    "\n",
    "- `EU sales`, `JP sales`, `User Score` - преобразовать к типу данных `float64` (числовые значения с плавающей точкой).\n",
    "- `Year of Release` - преобразовать к `datetime64` (информация о дате и времени).\n",
    "\n",
    "Все названия столбцов корректно отображают содержимое данных. Однако 6 из 11 столбцов имеют пропуски:\n",
    "\n",
    "- `Name`: 2 пропуска (меньше 1% от всех значений датафрейма)\n",
    "- `Year of Release`: 275 пропусков (1,62% от всех значений датафрейма)\n",
    "- `Genre`: 2 пропуска (меньше 1% от всех значений датафрейма)\n",
    "- `Critic Score`: 8714 пропусков (51,39% от всех значений датафрейма)\n",
    "- `User Score`: 6804 пропуска (40,13% от всех значений датафрейма)\n",
    "- `Rating`: 6871 пропуск (40,52% от всех значений датафрейма)\n",
    "\n",
    "Все названия столбцов начинаются с заглавной буквы, однако далее регистр - отличается. Для того, чтобы избежать частых ошибок при анализе, на этапе предобработки данных можно перевести все значения в нижний регистр. В таком формате будет удобнее обращаться к названиям столбцов датафрейма"
   ]
  },
  {
   "cell_type": "markdown",
   "id": "774bf76e",
   "metadata": {
    "id": "774bf76e"
   },
   "source": [
    "---\n",
    "\n",
    "## 2.  Проверка ошибок в данных и их предобработка\n",
    "\n",
    "\n",
    "### 2.1. Названия, или метки, столбцов датафрейма\n",
    "\n",
    "Выведем на экран названия всех столбцов датафрейма и проверим их стиль написания."
   ]
  },
  {
   "cell_type": "code",
   "execution_count": 9,
   "id": "b9276a2b",
   "metadata": {
    "id": "b9276a2b"
   },
   "outputs": [
    {
     "name": "stdout",
     "output_type": "stream",
     "text": [
      "Index(['Name', 'Platform', 'Year of Release', 'Genre', 'NA sales', 'EU sales',\n",
      "       'JP sales', 'Other sales', 'Critic Score', 'User Score', 'Rating'],\n",
      "      dtype='object')\n"
     ]
    }
   ],
   "source": [
    "# Выводим информацию о названия всех столбцов датафрейма\n",
    "\n",
    "print(games.columns)"
   ]
  },
  {
   "cell_type": "markdown",
   "id": "a6921565",
   "metadata": {
    "id": "d554563c"
   },
   "source": [
    "Как и говорилось ранее, для удобной работы со всеми столбцами датафрейма необходимо привести их к стилю snake case. Для этого названия столбцов переведём в нижний регистр, а вместо пробелов добавим подчёркивания"
   ]
  },
  {
   "cell_type": "code",
   "execution_count": 10,
   "id": "87b573dd",
   "metadata": {
    "id": "87b573dd"
   },
   "outputs": [
    {
     "name": "stdout",
     "output_type": "stream",
     "text": [
      "Index(['name', 'platform', 'year_of_release', 'genre', 'na_sales', 'eu_sales',\n",
      "       'jp_sales', 'other_sales', 'critic_score', 'user_score', 'rating'],\n",
      "      dtype='object')\n",
      "\n",
      "                       name platform  year_of_release         genre  na_sales  \\\n",
      "0                Wii Sports      Wii           2006.0        Sports     41.36   \n",
      "1         Super Mario Bros.      NES           1985.0      Platform     29.08   \n",
      "2            Mario Kart Wii      Wii           2008.0        Racing     15.68   \n",
      "3         Wii Sports Resort      Wii           2009.0        Sports     15.61   \n",
      "4  Pokemon Red/Pokemon Blue       GB           1996.0  Role-Playing     11.27   \n",
      "\n",
      "  eu_sales jp_sales  other_sales  critic_score user_score rating  \n",
      "0    28.96     3.77         8.45          76.0          8      E  \n",
      "1     3.58     6.81         0.77           NaN        NaN    NaN  \n",
      "2    12.76     3.79         3.29          82.0        8.3      E  \n",
      "3    10.93     3.28         2.95          80.0          8      E  \n",
      "4     8.89    10.22         1.00           NaN        NaN    NaN  \n"
     ]
    }
   ],
   "source": [
    "# Приводим названия столбцов к стилю snake case и проверяем, что в исходном датафрейме названия столбцов измениилсь\n",
    "\n",
    "games.columns = games.columns.str.lower()\n",
    "games.columns = games.columns.str.replace(' ', '_')\n",
    "\n",
    "print(games.columns)\n",
    "print()\n",
    "print(games.head())"
   ]
  },
  {
   "cell_type": "markdown",
   "id": "41bc6bf8",
   "metadata": {
    "id": "41bc6bf8"
   },
   "source": [
    "### 2.2. Типы данных"
   ]
  },
  {
   "cell_type": "markdown",
   "id": "d87899f8",
   "metadata": {
    "id": "8adaac81"
   },
   "source": [
    "Ранее было обнаружено, что 4 столбца имеют неподходящий тип данных:\n",
    "\n",
    "- `eu_sales`\n",
    "- `jp_sales`\n",
    "- `user_score`\n",
    "- `year_of_release`\n",
    "\n",
    "Разделим эти столбцы на две группы в зависимости от того, к какому типу данных необходимо их преобразовать:\n",
    "\n",
    "- `eu_sales`,`jp_sales`, `user_score`. Причина некорректного типа этих данных кроется в том, что некоторые данные представлены не в виде чисел, а в виде строковых значений. Именно поэтому текущие данные представлены типом данных `object`\n",
    "- `year_of_release`. Возможно некорректность типа этих данных связана с неверной кодировкой датасета, представленном в формате `.csv`. Также проблема может заключаться в отличающихся разделителях или форматах.\n",
    "\n",
    "Поэтому необходимо преобразовать тип данных 4 столбцов:\n",
    "\n",
    "- `eu_sales`, `jp_sales`, `user_score` - преобразовать к типу данных float64 (числовые значения с плавающей точкой).\n",
    "- `year_of_release` - преобразовать к datetime64 (информация о дате и времени).\n",
    "\n",
    "Сначала произведём преобразование типа данных первых трёх столбцов - `eu_sales`, `jp_sales`, `user_score`"
   ]
  },
  {
   "cell_type": "markdown",
   "id": "06c816fd",
   "metadata": {},
   "source": [
    "Но перед этим необходимо заменить все нечисловые значения на пропуски. Для этого мы воспользуемся методом `pd.to_numeric()`, с помощью которого сможем заменить все нечисловые значения на пропуски"
   ]
  },
  {
   "cell_type": "code",
   "execution_count": 11,
   "id": "5cc2bc8c",
   "metadata": {},
   "outputs": [],
   "source": [
    "# Изменяем нечисловые значения на корректный формат пропусков\n",
    "\n",
    "games[['eu_sales', 'jp_sales', 'user_score']] = games[['eu_sales', 'jp_sales', 'user_score']].apply(pd.to_numeric, errors='coerce')"
   ]
  },
  {
   "cell_type": "markdown",
   "id": "8c390929",
   "metadata": {},
   "source": [
    "Далее необходимо преобразовать тип данных столбцов `eu_sales`, `jp_sales`, `user_score` к типу данных float64 (числовые значения с плавающей точкой)"
   ]
  },
  {
   "cell_type": "code",
   "execution_count": 12,
   "id": "e8412c01",
   "metadata": {
    "id": "e8412c01"
   },
   "outputs": [],
   "source": [
    "# Преобразовываем тип данных столбцов `eu_sales`, `jp_sales`, `user_score` к типу данных float64\n",
    "\n",
    "games[['eu_sales', 'jp_sales', 'user_score']] = games[['eu_sales', 'jp_sales', 'user_score']].astype('float64')"
   ]
  },
  {
   "cell_type": "code",
   "execution_count": 13,
   "id": "9e53cff4",
   "metadata": {
    "id": "9e53cff4"
   },
   "outputs": [
    {
     "name": "stdout",
     "output_type": "stream",
     "text": [
      "<class 'pandas.core.frame.DataFrame'>\n",
      "RangeIndex: 16956 entries, 0 to 16955\n",
      "Data columns (total 11 columns):\n",
      " #   Column           Non-Null Count  Dtype  \n",
      "---  ------           --------------  -----  \n",
      " 0   name             16954 non-null  object \n",
      " 1   platform         16956 non-null  object \n",
      " 2   year_of_release  16681 non-null  float64\n",
      " 3   genre            16954 non-null  object \n",
      " 4   na_sales         16956 non-null  float64\n",
      " 5   eu_sales         16950 non-null  float64\n",
      " 6   jp_sales         16952 non-null  float64\n",
      " 7   other_sales      16956 non-null  float64\n",
      " 8   critic_score     8242 non-null   float64\n",
      " 9   user_score       7688 non-null   float64\n",
      " 10  rating           10085 non-null  object \n",
      "dtypes: float64(7), object(4)\n",
      "memory usage: 1.4+ MB\n",
      "None\n"
     ]
    }
   ],
   "source": [
    "# Проверяем, что преобразование типа данных столбцов `eu_sales`, `jp_sales`, `user_score` к типу данных float64 прошло успешно\n",
    "\n",
    "print(games.info())"
   ]
  },
  {
   "cell_type": "markdown",
   "id": "33418907",
   "metadata": {},
   "source": [
    "Таким образом, мы преобразовали тип данных столбцов `eu_sales`, `jp_sales`, `user_score`к типу данных `float64` (числовые значения с плавающей точкой)\n",
    "\n",
    "Далее необходимо изменить тип последнего столбца с некорректным типом данных - `year_of_release`. Поскольку тип данного столбца необходимо преобразовать к типу данных `datetime64` (информация о дате и времени), мы воспользуемся методом `pd.to_datetime`"
   ]
  },
  {
   "cell_type": "code",
   "execution_count": 14,
   "id": "16654a2b",
   "metadata": {},
   "outputs": [],
   "source": [
    "# Преобразовываем тип данных столбца 'year_of_release' к типу данных datetime64\n",
    "\n",
    "games['year_of_release'] = pd.to_datetime(games['year_of_release'], format = '%Y')"
   ]
  },
  {
   "cell_type": "code",
   "execution_count": 15,
   "id": "7d50ea6e",
   "metadata": {},
   "outputs": [
    {
     "name": "stdout",
     "output_type": "stream",
     "text": [
      "<class 'pandas.core.frame.DataFrame'>\n",
      "RangeIndex: 16956 entries, 0 to 16955\n",
      "Data columns (total 11 columns):\n",
      " #   Column           Non-Null Count  Dtype         \n",
      "---  ------           --------------  -----         \n",
      " 0   name             16954 non-null  object        \n",
      " 1   platform         16956 non-null  object        \n",
      " 2   year_of_release  16681 non-null  datetime64[ns]\n",
      " 3   genre            16954 non-null  object        \n",
      " 4   na_sales         16956 non-null  float64       \n",
      " 5   eu_sales         16950 non-null  float64       \n",
      " 6   jp_sales         16952 non-null  float64       \n",
      " 7   other_sales      16956 non-null  float64       \n",
      " 8   critic_score     8242 non-null   float64       \n",
      " 9   user_score       7688 non-null   float64       \n",
      " 10  rating           10085 non-null  object        \n",
      "dtypes: datetime64[ns](1), float64(6), object(4)\n",
      "memory usage: 1.4+ MB\n",
      "None\n"
     ]
    }
   ],
   "source": [
    "# Проверяем, что преобразование типа данных столбца 'year_of_release' к типу данных datetime64 прошло успешно\n",
    "\n",
    "print(games.info())"
   ]
  },
  {
   "cell_type": "markdown",
   "id": "e35d2393",
   "metadata": {},
   "source": [
    "Таким образом, мы преобразовали тип данных столбца `year_of_release` к типу данных `datetime64` (информация о дате и времени)"
   ]
  },
  {
   "cell_type": "markdown",
   "id": "675d766c",
   "metadata": {},
   "source": [
    "Проверим, что все типы данных были преобразованы корректно"
   ]
  },
  {
   "cell_type": "code",
   "execution_count": 16,
   "id": "b098a096",
   "metadata": {},
   "outputs": [
    {
     "name": "stdout",
     "output_type": "stream",
     "text": [
      "                       name platform year_of_release         genre  na_sales  \\\n",
      "0                Wii Sports      Wii      2006-01-01        Sports     41.36   \n",
      "1         Super Mario Bros.      NES      1985-01-01      Platform     29.08   \n",
      "2            Mario Kart Wii      Wii      2008-01-01        Racing     15.68   \n",
      "3         Wii Sports Resort      Wii      2009-01-01        Sports     15.61   \n",
      "4  Pokemon Red/Pokemon Blue       GB      1996-01-01  Role-Playing     11.27   \n",
      "\n",
      "   eu_sales  jp_sales  other_sales  critic_score  user_score rating  \n",
      "0     28.96      3.77         8.45          76.0         8.0      E  \n",
      "1      3.58      6.81         0.77           NaN         NaN    NaN  \n",
      "2     12.76      3.79         3.29          82.0         8.3      E  \n",
      "3     10.93      3.28         2.95          80.0         8.0      E  \n",
      "4      8.89     10.22         1.00           NaN         NaN    NaN  \n",
      "\n",
      "<class 'pandas.core.frame.DataFrame'>\n",
      "RangeIndex: 16956 entries, 0 to 16955\n",
      "Data columns (total 11 columns):\n",
      " #   Column           Non-Null Count  Dtype         \n",
      "---  ------           --------------  -----         \n",
      " 0   name             16954 non-null  object        \n",
      " 1   platform         16956 non-null  object        \n",
      " 2   year_of_release  16681 non-null  datetime64[ns]\n",
      " 3   genre            16954 non-null  object        \n",
      " 4   na_sales         16956 non-null  float64       \n",
      " 5   eu_sales         16950 non-null  float64       \n",
      " 6   jp_sales         16952 non-null  float64       \n",
      " 7   other_sales      16956 non-null  float64       \n",
      " 8   critic_score     8242 non-null   float64       \n",
      " 9   user_score       7688 non-null   float64       \n",
      " 10  rating           10085 non-null  object        \n",
      "dtypes: datetime64[ns](1), float64(6), object(4)\n",
      "memory usage: 1.4+ MB\n",
      "None\n"
     ]
    }
   ],
   "source": [
    "# Выводим первые строки датафрейма на экран и информацию о датафрейме\n",
    "\n",
    "print(games.head())\n",
    "print()\n",
    "print(games.info())"
   ]
  },
  {
   "cell_type": "markdown",
   "id": "7cccf972",
   "metadata": {},
   "source": [
    "Таким образом, мы преобразовали типы данных в соответствии с содержанием датафрейма. На данный момент датафрейм включает в себя данные трёх типов:\n",
    "    \n",
    "- **object** - `name`, `platform`, `genre`, `rating`\n",
    "- **datetime64** - `year_of_release`\n",
    "- **float64** - `na_sales`, `eu_sales`, `jp_sales`, `other_sales`, `critic_score`, `user_score`"
   ]
  },
  {
   "cell_type": "markdown",
   "id": "b39893cb",
   "metadata": {
    "id": "b39893cb"
   },
   "source": [
    "### 2.3. Наличие пропусков в данных\n",
    "\n",
    "Посчитаем количество пропусков в каждом столбце в абсолютных и относительных значениях\n"
   ]
  },
  {
   "cell_type": "code",
   "execution_count": 17,
   "id": "0f1c91a8",
   "metadata": {
    "id": "0f1c91a8"
   },
   "outputs": [
    {
     "name": "stdout",
     "output_type": "stream",
     "text": [
      "Количество пропусков в абсолютных значениях:\n",
      "\n",
      "name                  2\n",
      "platform              0\n",
      "year_of_release     275\n",
      "genre                 2\n",
      "na_sales              0\n",
      "eu_sales              6\n",
      "jp_sales              4\n",
      "other_sales           0\n",
      "critic_score       8714\n",
      "user_score         9268\n",
      "rating             6871\n",
      "dtype: int64\n"
     ]
    }
   ],
   "source": [
    "# Выводим информацию о количество пропусков в каждом столбце датафрейма\n",
    "\n",
    "abs_nan = games.isna().sum()\n",
    "print('Количество пропусков в абсолютных значениях:')\n",
    "print()\n",
    "print(abs_nan)"
   ]
  },
  {
   "cell_type": "code",
   "execution_count": 18,
   "id": "286a7be0",
   "metadata": {},
   "outputs": [
    {
     "name": "stdout",
     "output_type": "stream",
     "text": [
      "Количество пропусков в относительных значениях:\n",
      "\n",
      "name               0.000118\n",
      "platform           0.000000\n",
      "year_of_release    0.016218\n",
      "genre              0.000118\n",
      "na_sales           0.000000\n",
      "eu_sales           0.000354\n",
      "jp_sales           0.000236\n",
      "other_sales        0.000000\n",
      "critic_score       0.513918\n",
      "user_score         0.546591\n",
      "rating             0.405225\n",
      "dtype: float64\n"
     ]
    }
   ],
   "source": [
    "# Вычисляем долю пропусков от общего количество значений всего датафрейма\n",
    "\n",
    "prop_nan = (games.isna().sum()/len(games))\n",
    "print('Количество пропусков в относительных значениях:')\n",
    "print()\n",
    "print(prop_nan)"
   ]
  },
  {
   "cell_type": "markdown",
   "id": "cf796f51",
   "metadata": {
    "id": "cf796f51"
   },
   "source": [
    "Изучим данные с пропущенными значениями\n"
   ]
  },
  {
   "cell_type": "markdown",
   "id": "436f27c0",
   "metadata": {
    "id": "bd69e642"
   },
   "source": [
    "После замены строковых значений и преобразования типа данных нескольких столбцов, мы можем увидеть, что количество столбцов с пропусками значений сменилось с 6 на 8. То есть, теперь 8 из 11 стобцов имеют пропуски:\n",
    "\n",
    "- `name`: 2 пропуска (меньше 1% от всех значений датафрейма)\n",
    "- `year_of_release`: 275 пропусков (1,62% от всех значений датафрейма)\n",
    "- `Genre`: 2 пропуска (меньше 1% от всех значений датафрейма)\n",
    "- `eu_sales`: 6 пропусков (меньше 1% от всех значений датафрейма)\n",
    "- `jp_sales`: 4 пропуска (меньше 1% от всех значений датафрейма)\n",
    "- `critic_score`: 8714 пропусков (51,39% от всех значений датафрейма)\n",
    "- `user_score`: 9268 пропуска (54,66% от всех значений датафрейма)\n",
    "- `rating`: 6871 пропуск (40,52% от всех значений датафрейма)\n",
    "\n",
    "Столбцы `name`, `genre`, `eu_sales`, `jp_sales` имеют крайне малое количество пропусков (меньше 1%). \n",
    "\n",
    "Столбец `year_of_release` также имеет малое количество пропусков (меньше 2%).\n",
    "\n",
    "Для того, чтобы понять, как обрабатывать строки с пропущенными значениями, необходимо понять, как распределены пропуски"
   ]
  },
  {
   "cell_type": "code",
   "execution_count": 19,
   "id": "9b25033b",
   "metadata": {},
   "outputs": [
    {
     "name": "stdout",
     "output_type": "stream",
     "text": [
      "      name platform year_of_release genre  na_sales  eu_sales  jp_sales  \\\n",
      "661    NaN      GEN      1993-01-01   NaN      1.78      0.53      0.00   \n",
      "14439  NaN      GEN      1993-01-01   NaN      0.00      0.00      0.03   \n",
      "\n",
      "       other_sales  critic_score  user_score rating  \n",
      "661           0.08           NaN         NaN    NaN  \n",
      "14439         0.00           NaN         NaN    NaN  \n",
      "\n"
     ]
    }
   ],
   "source": [
    "# Проверяем строки с пропущенными значениями в столбце name\n",
    "\n",
    "print(games[games['name'].isna()])\n",
    "print()"
   ]
  },
  {
   "cell_type": "code",
   "execution_count": 20,
   "id": "da79f870",
   "metadata": {},
   "outputs": [
    {
     "name": "stdout",
     "output_type": "stream",
     "text": [
      "      name platform year_of_release genre  na_sales  eu_sales  jp_sales  \\\n",
      "661    NaN      GEN      1993-01-01   NaN      1.78      0.53      0.00   \n",
      "14439  NaN      GEN      1993-01-01   NaN      0.00      0.00      0.03   \n",
      "\n",
      "       other_sales  critic_score  user_score rating  \n",
      "661           0.08           NaN         NaN    NaN  \n",
      "14439         0.00           NaN         NaN    NaN  \n",
      "\n"
     ]
    }
   ],
   "source": [
    "# Проверяем строки с пропущенными значениями в столбце genre\n",
    "\n",
    "print(games[games['genre'].isna()])\n",
    "print()"
   ]
  },
  {
   "cell_type": "code",
   "execution_count": 21,
   "id": "25eab0e0",
   "metadata": {},
   "outputs": [
    {
     "name": "stdout",
     "output_type": "stream",
     "text": [
      "                                  name platform year_of_release     genre  \\\n",
      "446                      Rhythm Heaven       DS      2008-01-01      Misc   \n",
      "802                        Dead Rising     X360      2006-01-01    Action   \n",
      "1131  Prince of Persia: Warrior Within      PS2      2004-01-01    Action   \n",
      "1132                         Far Cry 4     XOne      2014-01-01   Shooter   \n",
      "1394                   Sonic Advance 3      GBA      2004-01-01  Platform   \n",
      "1612                       Ratatouille       DS      2007-01-01    Action   \n",
      "\n",
      "      na_sales  eu_sales  jp_sales  other_sales  critic_score  user_score  \\\n",
      "446       0.55       NaN      1.93         0.13          83.0         9.0   \n",
      "802       1.16       NaN      0.08         0.20          85.0         7.6   \n",
      "1131      0.54       NaN      0.00         0.22          83.0         8.5   \n",
      "1132      0.80       NaN      0.01         0.14          82.0         7.5   \n",
      "1394      0.74       NaN      0.08         0.06          79.0         8.4   \n",
      "1612      0.49       NaN      0.00         0.14           NaN         NaN   \n",
      "\n",
      "     rating  \n",
      "446       E  \n",
      "802       M  \n",
      "1131      M  \n",
      "1132      M  \n",
      "1394      E  \n",
      "1612    NaN  \n",
      "\n"
     ]
    }
   ],
   "source": [
    "# Проверяем строки с пропущенными значениями в столбце eu_sales\n",
    "\n",
    "print(games[games['eu_sales'].isna()])\n",
    "print()"
   ]
  },
  {
   "cell_type": "code",
   "execution_count": 22,
   "id": "e527d29b",
   "metadata": {},
   "outputs": [
    {
     "name": "stdout",
     "output_type": "stream",
     "text": [
      "                                       name platform year_of_release  \\\n",
      "467                            Saints Row 2     X360      2008-01-01   \n",
      "819                     UFC 2009 Undisputed     X360      2009-01-01   \n",
      "1379                      Hello Kitty Party       DS      2007-01-01   \n",
      "4732  Castlevania: The Dracula X Chronicles      PSP      2007-01-01   \n",
      "\n",
      "         genre  na_sales  eu_sales  jp_sales  other_sales  critic_score  \\\n",
      "467     Action      1.94      0.79       NaN         0.28          81.0   \n",
      "819   Fighting      1.48      0.39       NaN         0.19          83.0   \n",
      "1379      Misc      0.78      0.51       NaN         0.12           NaN   \n",
      "4732  Platform      0.22      0.09       NaN         0.07          80.0   \n",
      "\n",
      "      user_score rating  \n",
      "467          8.1      M  \n",
      "819          7.9      T  \n",
      "1379         NaN      E  \n",
      "4732         7.8      T  \n",
      "\n"
     ]
    }
   ],
   "source": [
    "# Проверяем строки с пропущенными значениями в столбце jp_sales\n",
    "\n",
    "print(games[games['jp_sales'].isna()])\n",
    "print()"
   ]
  },
  {
   "cell_type": "code",
   "execution_count": 23,
   "id": "4be157c7",
   "metadata": {},
   "outputs": [
    {
     "name": "stdout",
     "output_type": "stream",
     "text": [
      "                                    name platform year_of_release  \\\n",
      "183                      Madden NFL 2004      PS2             NaT   \n",
      "379                     FIFA Soccer 2004      PS2             NaT   \n",
      "458           LEGO Batman: The Videogame      Wii             NaT   \n",
      "477           wwe Smackdown vs. Raw 2006      PS2             NaT   \n",
      "611                       Space Invaders     2600             NaT   \n",
      "...                                  ...      ...             ...   \n",
      "16609  PDC World Championship Darts 2008      PSP             NaT   \n",
      "16641                      Freaky Flyers       GC             NaT   \n",
      "16685                          Inversion       PC             NaT   \n",
      "16695        Hakuouki: Shinsengumi Kitan      PS3             NaT   \n",
      "16760                       Virtua Quest       GC             NaT   \n",
      "\n",
      "              genre  na_sales  eu_sales  jp_sales  other_sales  critic_score  \\\n",
      "183          Sports      4.26      0.26      0.01         0.71          94.0   \n",
      "379          Sports      0.59      2.36      0.04         0.51          84.0   \n",
      "458          Action      1.80      0.97      0.00         0.29          74.0   \n",
      "477        Fighting      1.57      1.02      0.00         0.41           NaN   \n",
      "611         Shooter      2.36      0.14      0.00         0.03           NaN   \n",
      "...             ...       ...       ...       ...          ...           ...   \n",
      "16609        Sports      0.01      0.00      0.00         0.00          43.0   \n",
      "16641        Racing      0.01      0.00      0.00         0.00          69.0   \n",
      "16685       Shooter      0.01      0.00      0.00         0.00          59.0   \n",
      "16695     Adventure      0.01      0.00      0.00         0.00           NaN   \n",
      "16760  Role-Playing      0.01      0.00      0.00         0.00          55.0   \n",
      "\n",
      "       user_score rating  \n",
      "183           8.5      E  \n",
      "379           6.4      E  \n",
      "458           7.9   E10+  \n",
      "477           NaN    NaN  \n",
      "611           NaN    NaN  \n",
      "...           ...    ...  \n",
      "16609         NaN   E10+  \n",
      "16641         6.5      T  \n",
      "16685         6.7      M  \n",
      "16695         NaN    NaN  \n",
      "16760         5.5      T  \n",
      "\n",
      "[275 rows x 11 columns]\n",
      "\n"
     ]
    }
   ],
   "source": [
    "# Проверяем строки с пропущенными значениями в столбце year_of_release\n",
    "\n",
    "print(games[games['year_of_release'].isna()])\n",
    "print()"
   ]
  },
  {
   "cell_type": "markdown",
   "id": "c7fcf048",
   "metadata": {},
   "source": [
    "В данном случае наиболее правильным решением будет заменить значения в столбцах `eu_sales` и `jp_sales` на медианные значения. Сделаем это с помощью метода `apply()`, предварительно написав пользовательскую функцию, которая будет применять к столбцам `eu_sales` и `jp_sales`"
   ]
  },
  {
   "cell_type": "code",
   "execution_count": 24,
   "id": "a91abd44",
   "metadata": {},
   "outputs": [],
   "source": [
    "# Формируем пользовательскую функцию и заменяем пропуски в столбцах `eu_sales` и `jp_sales` на медианные значения\n",
    "\n",
    "def value_median(value):\n",
    "    value['eu_sales'].fillna(value['eu_sales'].median(), inplace=True)\n",
    "    value['jp_sales'].fillna(value['jp_sales'].median(), inplace=True)\n",
    "    return value\n",
    "\n",
    "games = games.groupby(['platform', 'year_of_release']).apply(value_median)"
   ]
  },
  {
   "cell_type": "code",
   "execution_count": 25,
   "id": "449b23c5",
   "metadata": {},
   "outputs": [],
   "source": [
    "# Код ревьюера\n",
    "\n",
    "games['jp_sales'] = games['jp_sales']\\\n",
    "    .fillna(games.groupby(['platform', 'year_of_release'])['jp_sales'].transform('mean'))"
   ]
  },
  {
   "cell_type": "code",
   "execution_count": 26,
   "id": "18067b21",
   "metadata": {},
   "outputs": [
    {
     "name": "stdout",
     "output_type": "stream",
     "text": [
      "Количество пропусков в абсолютных значениях:\n",
      "\n",
      "name                  2\n",
      "platform              0\n",
      "year_of_release       0\n",
      "genre                 2\n",
      "na_sales              0\n",
      "eu_sales              0\n",
      "jp_sales              0\n",
      "other_sales           0\n",
      "critic_score       8596\n",
      "user_score         9123\n",
      "rating             6780\n",
      "dtype: int64\n"
     ]
    }
   ],
   "source": [
    "# Выводим информацию о количество пропусков в каждом столбце датафрейма\n",
    "\n",
    "abs_nan = games.isna().sum()\n",
    "print('Количество пропусков в абсолютных значениях:')\n",
    "print()\n",
    "print(abs_nan)"
   ]
  },
  {
   "cell_type": "markdown",
   "id": "ac496fea",
   "metadata": {},
   "source": [
    "Пропуски в столбцах `eu_sales`, `jp_sales` были успешно заменены медианными значениями"
   ]
  },
  {
   "cell_type": "markdown",
   "id": "eb54fe31",
   "metadata": {
    "id": "cc2d1374"
   },
   "source": [
    "Однако столбцы `critic_score`, `user_score`, `rating` имеют существенное количество пропусков (около 50%). Получается, что больше половины игр не получили оценки критиков и пользователей, и чуть меньше половины игры не получили оценки согласно рейтингу организации ESRB. Поэтому мы можем заменить пропуски в столбцах `critic_score`, `user_score` только на значение-заглушку. Пропуски в столбце `rating` заменить не получится, поскольку тип данных столбца - `object`, то есть, строковый\n",
    "\n",
    "Прежде чем заменять пропуски в столбцах `critic_score`, `user_score` на значение-заглушку, необходимо выбрать значение, которое не входит в список значений в столбцах `critic_score`, `user_score`. Для этого с помощью метода `unique()` выведем список уникальных значений в столбцах `critic_score`, `user_score`"
   ]
  },
  {
   "cell_type": "code",
   "execution_count": 27,
   "id": "9560911a",
   "metadata": {},
   "outputs": [
    {
     "name": "stdout",
     "output_type": "stream",
     "text": [
      "[76. nan 82. 80. 89. 58. 87. 91. 61. 97. 95. 77. 88. 83. 94. 93. 85. 86.\n",
      " 98. 96. 90. 84. 73. 74. 78. 92. 71. 72. 68. 62. 49. 67. 81. 66. 56. 79.\n",
      " 70. 59. 64. 75. 60. 63. 69. 50. 25. 42. 44. 55. 48. 57. 29. 47. 65. 54.\n",
      " 20. 53. 37. 38. 33. 52. 30. 32. 43. 45. 51. 40. 46. 39. 34. 41. 36. 31.\n",
      " 27. 35. 26. 19. 28. 23. 24. 21. 17. 13.]\n",
      "\n",
      "Минимальное значение списка: 13.0\n",
      "\n",
      "Максимальное значение списка: 98.0\n"
     ]
    }
   ],
   "source": [
    "# Выводим список уникальных значений в столбце `critic_score`, а также минимальное и максимальное значение этого списка\n",
    "\n",
    "uniq_critic_score = games['critic_score'].unique()\n",
    "print(uniq_critic_score)\n",
    "print()\n",
    "print(f'Минимальное значение списка: {min(uniq_critic_score)}')\n",
    "print()\n",
    "print(f'Максимальное значение списка: {max(uniq_critic_score)}')"
   ]
  },
  {
   "cell_type": "code",
   "execution_count": 28,
   "id": "8c8623cc",
   "metadata": {},
   "outputs": [
    {
     "name": "stdout",
     "output_type": "stream",
     "text": [
      "[8.  nan 8.3 8.5 6.6 8.4 8.6 7.7 6.3 7.4 8.2 9.  7.9 8.1 8.7 7.1 3.4 5.3\n",
      " 4.8 3.2 8.9 6.4 7.8 7.5 2.6 7.2 9.2 7.  7.3 4.3 7.6 5.7 5.  9.1 6.5 8.8\n",
      " 6.9 9.4 6.8 6.1 6.7 5.4 4.  4.9 4.5 9.3 6.2 4.2 6.  3.7 4.1 5.8 5.6 5.5\n",
      " 4.4 4.6 5.9 3.9 3.1 2.9 5.2 3.3 4.7 5.1 3.5 2.5 1.9 3.  2.7 2.2 2.  9.5\n",
      " 2.1 3.6 2.8 1.8 3.8 0.  1.6 9.6 2.4 1.7 1.1 0.3 1.5 0.7 1.2 2.3 0.5 1.3\n",
      " 0.2 0.6 1.4 0.9 1.  9.7]\n",
      "\n",
      "Минимальное значение списка: 0.0\n",
      "\n",
      "Максимальное значение списка: 9.7\n"
     ]
    }
   ],
   "source": [
    "# Выводим список уникальных значений в столбце `user_score`, а также минимальное и максимальное значение этого списка\n",
    "\n",
    "uniq_user_score = games['user_score'].unique()\n",
    "print(uniq_user_score)\n",
    "print()\n",
    "print(f'Минимальное значение списка: {min(uniq_user_score)}')\n",
    "print()\n",
    "print(f'Максимальное значение списка: {max(uniq_user_score)}')"
   ]
  },
  {
   "cell_type": "markdown",
   "id": "0c7945d2",
   "metadata": {},
   "source": [
    "Исходя из минимального и максимального значений обоих списков, логичнее всего в качестве заглушки использовать отрицательное значение, например, -1, поскольку обе шкалы оценивания включают в себя только положительные значения. Поэтому заменяем пропуски в столбцах `critic_score`, `user_score` с помощью метода `fillna()`"
   ]
  },
  {
   "cell_type": "code",
   "execution_count": 29,
   "id": "98cc043d",
   "metadata": {},
   "outputs": [],
   "source": [
    "# Заменяем пропуски в столбцах critic_score и user_score значением-заглушкой\n",
    "\n",
    "games['critic_score'] = games['critic_score'].fillna(-1)\n",
    "games['user_score'] = games['user_score'].fillna(-1)"
   ]
  },
  {
   "cell_type": "code",
   "execution_count": 30,
   "id": "8ea5bcb4",
   "metadata": {},
   "outputs": [
    {
     "name": "stdout",
     "output_type": "stream",
     "text": [
      "Количество пропусков в абсолютных значениях:\n",
      "\n",
      "name                  2\n",
      "platform              0\n",
      "year_of_release       0\n",
      "genre                 2\n",
      "na_sales              0\n",
      "eu_sales              0\n",
      "jp_sales              0\n",
      "other_sales           0\n",
      "critic_score          0\n",
      "user_score            0\n",
      "rating             6780\n",
      "dtype: int64\n"
     ]
    }
   ],
   "source": [
    "# Выводим информацию о количество пропусков в каждом столбце датафрейма\n",
    "\n",
    "abs_nan = games.isna().sum()\n",
    "print('Количество пропусков в абсолютных значениях:')\n",
    "print()\n",
    "print(abs_nan)"
   ]
  },
  {
   "cell_type": "markdown",
   "id": "a63363fd",
   "metadata": {
    "id": "a63363fd"
   },
   "source": [
    "### 2.4. Явные и неявные дубликаты в данных"
   ]
  },
  {
   "cell_type": "markdown",
   "id": "311100c4",
   "metadata": {
    "id": "491c9c39"
   },
   "source": [
    "Изучим уникальные значения в следующих столбцах с категориальными данными:\n",
    "- `name`\n",
    "- `genre`\n",
    "- `platform`\n",
    "- `rating`\n",
    "- `year_of_release`"
   ]
  },
  {
   "cell_type": "code",
   "execution_count": 31,
   "id": "5fa6def4",
   "metadata": {},
   "outputs": [
    {
     "name": "stdout",
     "output_type": "stream",
     "text": [
      "['Wii Sports' 'Super Mario Bros.' 'Mario Kart Wii' ...\n",
      " 'Woody Woodpecker in Crazy Castle 5' 'LMA Manager 2007'\n",
      " 'Haitaka no Psychedelica']\n"
     ]
    }
   ],
   "source": [
    "# Выводим информацию об уникальных значениях в столбце name\n",
    "\n",
    "uniq_name = games['name'].unique()\n",
    "print(uniq_name)"
   ]
  },
  {
   "cell_type": "code",
   "execution_count": 32,
   "id": "f1627198",
   "metadata": {
    "id": "f1627198"
   },
   "outputs": [
    {
     "name": "stdout",
     "output_type": "stream",
     "text": [
      "['Sports' 'Platform' 'Racing' 'Role-Playing' 'Puzzle' 'Misc' 'Shooter'\n",
      " 'Simulation' 'Action' 'Fighting' 'Adventure' 'Strategy' nan 'MISC'\n",
      " 'ROLE-PLAYING' 'RACING' 'ACTION' 'SHOOTER' 'FIGHTING' 'SPORTS' 'PLATFORM'\n",
      " 'ADVENTURE' 'SIMULATION' 'PUZZLE' 'STRATEGY']\n"
     ]
    }
   ],
   "source": [
    "# Выводим информацию об уникальных значениях в столбце genre\n",
    "\n",
    "uniq_genre = games['genre'].unique()\n",
    "print(uniq_genre)"
   ]
  },
  {
   "cell_type": "code",
   "execution_count": 33,
   "id": "a0cac80c",
   "metadata": {
    "id": "a0cac80c"
   },
   "outputs": [
    {
     "name": "stdout",
     "output_type": "stream",
     "text": [
      "['Wii' 'NES' 'GB' 'DS' 'X360' 'PS3' 'PS2' 'SNES' 'GBA' 'PS4' '3DS' 'N64'\n",
      " 'PS' 'XB' 'PC' '2600' 'PSP' 'XOne' 'WiiU' 'GC' 'GEN' 'DC' 'PSV' 'SAT'\n",
      " 'SCD' 'WS' 'NG' 'TG16' '3DO' 'GG' 'PCFX']\n"
     ]
    }
   ],
   "source": [
    "# Выводим информацию об уникальных значениях в столбце platform\n",
    "\n",
    "uniq_platform = games['platform'].unique()\n",
    "print(uniq_platform)"
   ]
  },
  {
   "cell_type": "code",
   "execution_count": 34,
   "id": "2ce20d50",
   "metadata": {},
   "outputs": [
    {
     "name": "stdout",
     "output_type": "stream",
     "text": [
      "['E' nan 'M' 'T' 'E10+' 'K-A' 'AO' 'EC' 'RP']\n"
     ]
    }
   ],
   "source": [
    "# Выводим информацию об уникальных значениях в столбце rating\n",
    "\n",
    "uniq_rating = games['rating'].unique()\n",
    "print(uniq_rating)"
   ]
  },
  {
   "cell_type": "code",
   "execution_count": 35,
   "id": "abb564e3",
   "metadata": {},
   "outputs": [
    {
     "name": "stdout",
     "output_type": "stream",
     "text": [
      "['2006-01-01T00:00:00.000000000' '1985-01-01T00:00:00.000000000'\n",
      " '2008-01-01T00:00:00.000000000' '2009-01-01T00:00:00.000000000'\n",
      " '1996-01-01T00:00:00.000000000' '1989-01-01T00:00:00.000000000'\n",
      " '1984-01-01T00:00:00.000000000' '2005-01-01T00:00:00.000000000'\n",
      " '1999-01-01T00:00:00.000000000' '2007-01-01T00:00:00.000000000'\n",
      " '2010-01-01T00:00:00.000000000' '2013-01-01T00:00:00.000000000'\n",
      " '2004-01-01T00:00:00.000000000' '1990-01-01T00:00:00.000000000'\n",
      " '1988-01-01T00:00:00.000000000' '2002-01-01T00:00:00.000000000'\n",
      " '2001-01-01T00:00:00.000000000' '2011-01-01T00:00:00.000000000'\n",
      " '1998-01-01T00:00:00.000000000' '2015-01-01T00:00:00.000000000'\n",
      " '2012-01-01T00:00:00.000000000' '2014-01-01T00:00:00.000000000'\n",
      " '1992-01-01T00:00:00.000000000' '1997-01-01T00:00:00.000000000'\n",
      " '1993-01-01T00:00:00.000000000' '1994-01-01T00:00:00.000000000'\n",
      " '1982-01-01T00:00:00.000000000' '2016-01-01T00:00:00.000000000'\n",
      " '2003-01-01T00:00:00.000000000' '1986-01-01T00:00:00.000000000'\n",
      " '2000-01-01T00:00:00.000000000' '1995-01-01T00:00:00.000000000'\n",
      " '1991-01-01T00:00:00.000000000' '1981-01-01T00:00:00.000000000'\n",
      " '1987-01-01T00:00:00.000000000' '1980-01-01T00:00:00.000000000'\n",
      " '1983-01-01T00:00:00.000000000']\n"
     ]
    }
   ],
   "source": [
    "# Выводим информацию об уникальных значениях в столбце year_of_release\n",
    "\n",
    "uniq_year_of_release = games['year_of_release'].unique()\n",
    "print(uniq_year_of_release)"
   ]
  },
  {
   "cell_type": "markdown",
   "id": "8a55c354",
   "metadata": {},
   "source": [
    "Среди изученных уникальных значений в столбцах `name`, `genre`, `platform`, `rating`, `year_of_release` мы видим, что неявные дубликаты наблюдаются только в столбце `genre`. Это связано с тем, что названия жанров написаны в разном регистре. Поэтому все названия жанров мы переведём в нижний регистр"
   ]
  },
  {
   "cell_type": "code",
   "execution_count": 36,
   "id": "0c2348f1",
   "metadata": {},
   "outputs": [
    {
     "name": "stdout",
     "output_type": "stream",
     "text": [
      "['sports' 'platform' 'racing' 'role-playing' 'puzzle' 'misc' 'shooter'\n",
      " 'simulation' 'action' 'fighting' 'adventure' 'strategy' nan]\n"
     ]
    }
   ],
   "source": [
    "# Переводим все названия жанров в нижний регистр и проверяем, что дубликаты были устранены\n",
    "\n",
    "games['genre'] = games['genre'].str.lower()\n",
    "uniq_genre_new = games['genre'].unique()\n",
    "print(uniq_genre_new)"
   ]
  },
  {
   "cell_type": "markdown",
   "id": "e8ef3961",
   "metadata": {},
   "source": [
    "Все названия жанров были переведены в нижний регистр. Вследствие этого действия все неявные дубликаты были удалены"
   ]
  },
  {
   "cell_type": "markdown",
   "id": "fb0d5acd",
   "metadata": {},
   "source": [
    "После нормализации данных и устранения неявных дубликатов, необходимо проверить наличие явных дубликатов в данных. Исходя из логики датасета, только столбец с названием игры `name` может включать в себя явные дубликаты. Но одна и та же игра не может быть выпущена несколько раз (в разные года на нескольких платформах). В этом мы можем убедиться, если сравним количество уникальных значений в столбце `name` и общем количестве игр. Сначала выведем количество уникальных значений в столбце `name`"
   ]
  },
  {
   "cell_type": "code",
   "execution_count": 37,
   "id": "a1895ed4",
   "metadata": {},
   "outputs": [
    {
     "name": "stdout",
     "output_type": "stream",
     "text": [
      "Количество уникальных значений в столбце name: 11426\n"
     ]
    }
   ],
   "source": [
    "# Выведем количество уникальных значений в столбце name\n",
    "\n",
    "nuniq_name = games['name'].nunique()\n",
    "print(f'Количество уникальных значений в столбце name: {nuniq_name}')"
   ]
  },
  {
   "cell_type": "markdown",
   "id": "50c2c349",
   "metadata": {},
   "source": [
    "Затем выведем общее количество игр"
   ]
  },
  {
   "cell_type": "code",
   "execution_count": 38,
   "id": "5f8bbd45",
   "metadata": {},
   "outputs": [
    {
     "name": "stdout",
     "output_type": "stream",
     "text": [
      "Количество игр: 16681\n"
     ]
    }
   ],
   "source": [
    "# Выведем общее количество игр\n",
    "\n",
    "len_name = len(games['name'])\n",
    "print(f'Количество игр: {len_name}')"
   ]
  },
  {
   "cell_type": "markdown",
   "id": "ddcb4de8",
   "metadata": {},
   "source": [
    "Применим метод `duplicated`, чтобы точно убедиться в том, что в столбце `name` содержатся одинаковые названия игр"
   ]
  },
  {
   "cell_type": "code",
   "execution_count": 39,
   "id": "24cd4a51",
   "metadata": {},
   "outputs": [
    {
     "name": "stdout",
     "output_type": "stream",
     "text": [
      "Количество одинаковых названий игр в столбце name: 5254\n"
     ]
    }
   ],
   "source": [
    "# Количество одинаковых названий игр в столбце name\n",
    "\n",
    "names_duplicated = games.duplicated(subset = 'name', keep = 'first').sum()\n",
    "print(f'Количество одинаковых названий игр в столбце name: {names_duplicated}')"
   ]
  },
  {
   "cell_type": "markdown",
   "id": "0219e457",
   "metadata": {},
   "source": [
    "Исходя из этого, можно сделать вывод, что столбец с названием игры `name` не включает в себя явные дубликаты"
   ]
  },
  {
   "cell_type": "markdown",
   "id": "78b97647",
   "metadata": {},
   "source": [
    "Выведем общую информацию о датафрейме после внесённых изменений"
   ]
  },
  {
   "cell_type": "code",
   "execution_count": 40,
   "id": "5dc4f3a5",
   "metadata": {},
   "outputs": [
    {
     "name": "stdout",
     "output_type": "stream",
     "text": [
      "<class 'pandas.core.frame.DataFrame'>\n",
      "Int64Index: 16681 entries, 0 to 16955\n",
      "Data columns (total 11 columns):\n",
      " #   Column           Non-Null Count  Dtype         \n",
      "---  ------           --------------  -----         \n",
      " 0   name             16679 non-null  object        \n",
      " 1   platform         16681 non-null  object        \n",
      " 2   year_of_release  16681 non-null  datetime64[ns]\n",
      " 3   genre            16679 non-null  object        \n",
      " 4   na_sales         16681 non-null  float64       \n",
      " 5   eu_sales         16681 non-null  float64       \n",
      " 6   jp_sales         16681 non-null  float64       \n",
      " 7   other_sales      16681 non-null  float64       \n",
      " 8   critic_score     16681 non-null  float64       \n",
      " 9   user_score       16681 non-null  float64       \n",
      " 10  rating           9901 non-null   object        \n",
      "dtypes: datetime64[ns](1), float64(6), object(4)\n",
      "memory usage: 2.0+ MB\n",
      "None\n"
     ]
    }
   ],
   "source": [
    "# Выводим информацию о датафрейме\n",
    "\n",
    "print(games.info())"
   ]
  },
  {
   "cell_type": "markdown",
   "id": "b45eaa81",
   "metadata": {},
   "source": [
    "Для обработки неявных дубликатов мы изучили столбцы с категориальными данными и выяснили, что жанры игр были записаны в разных регистрах. Поэтому названия всех жанров игр были переведены в нижний регистр."
   ]
  },
  {
   "cell_type": "code",
   "execution_count": 41,
   "id": "89ec5d4f",
   "metadata": {},
   "outputs": [
    {
     "name": "stdout",
     "output_type": "stream",
     "text": [
      "['sports' 'platform' 'racing' 'role-playing' 'puzzle' 'misc' 'shooter'\n",
      " 'simulation' 'action' 'fighting' 'adventure' 'strategy' nan]\n"
     ]
    }
   ],
   "source": [
    "# Текущие названия жанров игр после обработки неявных дубликатов\n",
    "\n",
    "print(uniq_genre_new)"
   ]
  },
  {
   "cell_type": "code",
   "execution_count": 42,
   "id": "2f2fee4e",
   "metadata": {},
   "outputs": [
    {
     "name": "stdout",
     "output_type": "stream",
     "text": [
      "Количество удалённых дубликатов в столбце genre: 12\n"
     ]
    }
   ],
   "source": [
    "# Количество удалённых дубликатов в столбце genre\n",
    "\n",
    "count_no_uniq_genre = len(uniq_genre) - len(uniq_genre_new)\n",
    "print(f'Количество удалённых дубликатов в столбце genre: {count_no_uniq_genre}')"
   ]
  },
  {
   "cell_type": "markdown",
   "id": "a1678450",
   "metadata": {
    "id": "f9d8ee19"
   },
   "source": [
    "После обработки пропусков, ошибок и дубликатов, подсчитаем количество удалённых строк в абсолютном и относительном значениях"
   ]
  },
  {
   "cell_type": "code",
   "execution_count": 43,
   "id": "3d7a9d8e",
   "metadata": {
    "id": "3d7a9d8e"
   },
   "outputs": [
    {
     "name": "stdout",
     "output_type": "stream",
     "text": [
      "Количество удалённых строк в абсолютном значении: 275\n",
      "Количество удалённых строк в относительном значении: 0.01621844774711012\n"
     ]
    }
   ],
   "source": [
    "# Подсчитываем количество удалённых строк в абсолютном и относительном значениях\n",
    "\n",
    "count_delete = len_row - games.shape[0]\n",
    "print(f'Количество удалённых строк в абсолютном значении: {count_delete}')\n",
    "count_delete_prop = 1 - (games.shape[0]/len_row)\n",
    "print(f'Количество удалённых строк в относительном значении: {count_delete_prop}')"
   ]
  },
  {
   "cell_type": "markdown",
   "id": "7bb7d4eb",
   "metadata": {},
   "source": [
    "Всего было удалено 275 строк, что составляет меньше 2% от исходного объёма данных. Данный показатель говорит о том, что потери - незначительные, а значит, они не сильно повлияют на дальнейшее исследование"
   ]
  },
  {
   "cell_type": "markdown",
   "id": "c4ea9db6",
   "metadata": {
    "id": "1e48a7ce"
   },
   "source": [
    "Преобработка данных завершена. Для наглядности ещё раз выведем общую информацию о датафрейме после его предобработки"
   ]
  },
  {
   "cell_type": "code",
   "execution_count": 44,
   "id": "3345515c",
   "metadata": {},
   "outputs": [
    {
     "name": "stdout",
     "output_type": "stream",
     "text": [
      "<class 'pandas.core.frame.DataFrame'>\n",
      "Int64Index: 16681 entries, 0 to 16955\n",
      "Data columns (total 11 columns):\n",
      " #   Column           Non-Null Count  Dtype         \n",
      "---  ------           --------------  -----         \n",
      " 0   name             16679 non-null  object        \n",
      " 1   platform         16681 non-null  object        \n",
      " 2   year_of_release  16681 non-null  datetime64[ns]\n",
      " 3   genre            16679 non-null  object        \n",
      " 4   na_sales         16681 non-null  float64       \n",
      " 5   eu_sales         16681 non-null  float64       \n",
      " 6   jp_sales         16681 non-null  float64       \n",
      " 7   other_sales      16681 non-null  float64       \n",
      " 8   critic_score     16681 non-null  float64       \n",
      " 9   user_score       16681 non-null  float64       \n",
      " 10  rating           9901 non-null   object        \n",
      "dtypes: datetime64[ns](1), float64(6), object(4)\n",
      "memory usage: 2.0+ MB\n",
      "None\n"
     ]
    }
   ],
   "source": [
    "# Выводим информацию о датафрейме\n",
    "\n",
    "print(games.info())"
   ]
  },
  {
   "cell_type": "markdown",
   "id": "dc6c3b95",
   "metadata": {
    "id": "5166fdf8"
   },
   "source": [
    "После проведения предообработки данных мы можем сделать следующие выводы:\n",
    "- Обновлённый датафрейм содержит 16681 строку и 11 столбцов\n",
    "- Обновлённый датафрейм включает в себя столбцы со следующими типами данных:\n",
    "    - **object**: `name`, `platform`, `genre`, `rating`\n",
    "    - **float64**: `na_sales`, `eu_sales`, `jp_sales`, `other_sales`, `critic_score`, `user_score`\n",
    "    - **datetime64**: `year_of_release`\n",
    "- Пропуски данных имеются только в столбце `rating`, поскольку данный столбец имеет тип данных `object`, а значит, найти среднее значение - не получится\n",
    "- Все значения в столбце `genre` были приведены к нижнему регистру для обработки неявных дубликатов\n",
    "- После предобработки данных было удалено 275 строк, что составляет меньше 2% от изначального количества строк в исходном датасете"
   ]
  },
  {
   "cell_type": "markdown",
   "id": "613f0eb0",
   "metadata": {
    "id": "613f0eb0"
   },
   "source": [
    "---\n",
    "\n",
    "## 3. Фильтрация данных"
   ]
  },
  {
   "cell_type": "markdown",
   "id": "3870e18b",
   "metadata": {
    "id": "2344916d"
   },
   "source": [
    "Нас интересует развитие игровой индустрии, начиная с 2000 и заканчивая 2013 годом (включительно). Поэтому мы проведём фильтрацию данных с помощью атрибута `loc` и сохраним новый срез в отдельном датафрейме `games_actual`"
   ]
  },
  {
   "cell_type": "code",
   "execution_count": 45,
   "id": "44d7529f",
   "metadata": {
    "id": "44d7529f"
   },
   "outputs": [],
   "source": [
    "# Отбираем данные по времени выхода игры (с 2000 по 2013 год включительно) и сохраняем их в отдельный датафрейм\n",
    "\n",
    "games_actual = games.loc[(games['year_of_release'] > '2000-01-01') & (games['year_of_release'] <= '2013-12-31')].copy()"
   ]
  },
  {
   "cell_type": "code",
   "execution_count": 46,
   "id": "906577e8",
   "metadata": {
    "id": "906577e8"
   },
   "outputs": [
    {
     "name": "stdout",
     "output_type": "stream",
     "text": [
      "['2006-01-01T00:00:00.000000000' '2008-01-01T00:00:00.000000000'\n",
      " '2009-01-01T00:00:00.000000000' '2005-01-01T00:00:00.000000000'\n",
      " '2007-01-01T00:00:00.000000000' '2010-01-01T00:00:00.000000000'\n",
      " '2013-01-01T00:00:00.000000000' '2004-01-01T00:00:00.000000000'\n",
      " '2002-01-01T00:00:00.000000000' '2001-01-01T00:00:00.000000000'\n",
      " '2011-01-01T00:00:00.000000000' '2012-01-01T00:00:00.000000000'\n",
      " '2003-01-01T00:00:00.000000000']\n"
     ]
    }
   ],
   "source": [
    "# Выводим информацию об уникальных значениях в столбце year_of_release в новом датафрейме\n",
    "\n",
    "uniq_year_of_release_new = games_actual['year_of_release'].unique()\n",
    "\n",
    "print(uniq_year_of_release_new)"
   ]
  },
  {
   "cell_type": "markdown",
   "id": "29ad79b6",
   "metadata": {},
   "source": [
    "Таким образом, мы отфильтровали данные по времени выхода игры и сохранили в новый датафрейм информацию о тех играх, которые были выпущены в период с 2000 по 2013 год включительно"
   ]
  },
  {
   "cell_type": "markdown",
   "id": "a6f10b01",
   "metadata": {
    "id": "a6f10b01"
   },
   "source": [
    "---\n",
    "\n",
    "## 4. Категоризация данных\n",
    "    \n",
    "Проведём категоризацию данных: разделим игры по оценкам пользователей и по оценкам критиков"
   ]
  },
  {
   "cell_type": "markdown",
   "id": "cad89c37",
   "metadata": {
    "id": "9b0ca0f2"
   },
   "source": [
    "Для разделения игр по оценкам пользователей воспользуемся методом `apply()`, который позволит разделить игры по трём категориям:\n",
    "- высокая оценка (от 8 до 10 включительно)\n",
    "- средняя оценка (от 3 до 8, не включая правую границу интервала)\n",
    "- низкая оценка (от 0 до 3, не включая правую границу интервала)"
   ]
  },
  {
   "cell_type": "code",
   "execution_count": 47,
   "id": "35438bd6",
   "metadata": {
    "id": "35438bd6"
   },
   "outputs": [
    {
     "name": "stdout",
     "output_type": "stream",
     "text": [
      "                                                   name platform  \\\n",
      "0                                            Wii Sports      Wii   \n",
      "2                                        Mario Kart Wii      Wii   \n",
      "3                                     Wii Sports Resort      Wii   \n",
      "6                                 New Super Mario Bros.       DS   \n",
      "7                                              Wii Play      Wii   \n",
      "...                                                 ...      ...   \n",
      "16947                     Men in Black II: Alien Escape       GC   \n",
      "16949                Woody Woodpecker in Crazy Castle 5      GBA   \n",
      "16950  SCORE International Baja 1000: The Official Game      PS2   \n",
      "16952                                  LMA Manager 2007     X360   \n",
      "16954                                  Spirits & Spells      GBA   \n",
      "\n",
      "      year_of_release     genre  na_sales  eu_sales  jp_sales  other_sales  \\\n",
      "0          2006-01-01    sports     41.36     28.96      3.77         8.45   \n",
      "2          2008-01-01    racing     15.68     12.76      3.79         3.29   \n",
      "3          2009-01-01    sports     15.61     10.93      3.28         2.95   \n",
      "6          2006-01-01  platform     11.28      9.14      6.50         2.88   \n",
      "7          2006-01-01      misc     13.96      9.18      2.93         2.84   \n",
      "...               ...       ...       ...       ...       ...          ...   \n",
      "16947      2003-01-01   shooter      0.01      0.00      0.00         0.00   \n",
      "16949      2002-01-01  platform      0.01      0.00      0.00         0.00   \n",
      "16950      2008-01-01    racing      0.00      0.00      0.00         0.00   \n",
      "16952      2006-01-01    sports      0.00      0.01      0.00         0.00   \n",
      "16954      2003-01-01  platform      0.01      0.00      0.00         0.00   \n",
      "\n",
      "       critic_score  user_score rating category_user_score  \n",
      "0              76.0         8.0      E      высокая оценка  \n",
      "2              82.0         8.3      E      высокая оценка  \n",
      "3              80.0         8.0      E      высокая оценка  \n",
      "6              89.0         8.5      E      высокая оценка  \n",
      "7              58.0         6.6      E      средняя оценка  \n",
      "...             ...         ...    ...                 ...  \n",
      "16947          -1.0        -1.0      T          нет данных  \n",
      "16949          -1.0        -1.0    NaN          нет данных  \n",
      "16950          -1.0        -1.0    NaN          нет данных  \n",
      "16952          -1.0        -1.0    NaN          нет данных  \n",
      "16954          -1.0        -1.0    NaN          нет данных  \n",
      "\n",
      "[12623 rows x 12 columns]\n"
     ]
    }
   ],
   "source": [
    "# Разделяем игры по трём кагегориям в засимости от оценки пользователей\n",
    "\n",
    "def user_score_category(value):\n",
    "    if 8 <= value < 10:\n",
    "        return 'высокая оценка'\n",
    "    elif 3 <= value < 8:\n",
    "        return 'средняя оценка'\n",
    "    elif 0 <= value < 3:\n",
    "        return 'низкая оценка'\n",
    "    else:\n",
    "        return 'нет данных'\n",
    "\n",
    "games_actual['category_user_score'] = games['user_score'].apply(user_score_category)\n",
    "print(games_actual)"
   ]
  },
  {
   "cell_type": "markdown",
   "id": "cc34619a",
   "metadata": {
    "id": "e3f7acb0"
   },
   "source": [
    "Для разделения игр по оценкам критиков воспользуемся функцией `pd.cut`, которая позволит разделить игры по трём категориям:\n",
    "\n",
    "- высокая оценка (от 80 до 100 включительно)\n",
    "- средняя оценка (от 30 до 80, не включая правую границу интервала)\n",
    "- низкая оценка (от 0 до 30, не включая правую границу интервала)"
   ]
  },
  {
   "cell_type": "code",
   "execution_count": 48,
   "id": "548fde17",
   "metadata": {
    "id": "548fde17"
   },
   "outputs": [
    {
     "name": "stdout",
     "output_type": "stream",
     "text": [
      "                                                   name platform  \\\n",
      "0                                            Wii Sports      Wii   \n",
      "2                                        Mario Kart Wii      Wii   \n",
      "3                                     Wii Sports Resort      Wii   \n",
      "6                                 New Super Mario Bros.       DS   \n",
      "7                                              Wii Play      Wii   \n",
      "...                                                 ...      ...   \n",
      "16947                     Men in Black II: Alien Escape       GC   \n",
      "16949                Woody Woodpecker in Crazy Castle 5      GBA   \n",
      "16950  SCORE International Baja 1000: The Official Game      PS2   \n",
      "16952                                  LMA Manager 2007     X360   \n",
      "16954                                  Spirits & Spells      GBA   \n",
      "\n",
      "      year_of_release     genre  na_sales  eu_sales  jp_sales  other_sales  \\\n",
      "0          2006-01-01    sports     41.36     28.96      3.77         8.45   \n",
      "2          2008-01-01    racing     15.68     12.76      3.79         3.29   \n",
      "3          2009-01-01    sports     15.61     10.93      3.28         2.95   \n",
      "6          2006-01-01  platform     11.28      9.14      6.50         2.88   \n",
      "7          2006-01-01      misc     13.96      9.18      2.93         2.84   \n",
      "...               ...       ...       ...       ...       ...          ...   \n",
      "16947      2003-01-01   shooter      0.01      0.00      0.00         0.00   \n",
      "16949      2002-01-01  platform      0.01      0.00      0.00         0.00   \n",
      "16950      2008-01-01    racing      0.00      0.00      0.00         0.00   \n",
      "16952      2006-01-01    sports      0.00      0.01      0.00         0.00   \n",
      "16954      2003-01-01  platform      0.01      0.00      0.00         0.00   \n",
      "\n",
      "       critic_score  user_score rating category_user_score  \\\n",
      "0              76.0         8.0      E      высокая оценка   \n",
      "2              82.0         8.3      E      высокая оценка   \n",
      "3              80.0         8.0      E      высокая оценка   \n",
      "6              89.0         8.5      E      высокая оценка   \n",
      "7              58.0         6.6      E      средняя оценка   \n",
      "...             ...         ...    ...                 ...   \n",
      "16947          -1.0        -1.0      T          нет данных   \n",
      "16949          -1.0        -1.0    NaN          нет данных   \n",
      "16950          -1.0        -1.0    NaN          нет данных   \n",
      "16952          -1.0        -1.0    NaN          нет данных   \n",
      "16954          -1.0        -1.0    NaN          нет данных   \n",
      "\n",
      "      category_critic_score  \n",
      "0            средняя оценка  \n",
      "2            высокая оценка  \n",
      "3            высокая оценка  \n",
      "6            высокая оценка  \n",
      "7            средняя оценка  \n",
      "...                     ...  \n",
      "16947            нет данных  \n",
      "16949            нет данных  \n",
      "16950            нет данных  \n",
      "16952            нет данных  \n",
      "16954            нет данных  \n",
      "\n",
      "[12623 rows x 13 columns]\n"
     ]
    }
   ],
   "source": [
    "# Разделяем игры по трём кагегориям в засимости от оценки критиков\n",
    "\n",
    "games_actual['category_critic_score'] = pd.cut(games_actual['critic_score'], bins = [-1, 0, 30, 80, 101], labels = [\"нет данных\", \"низкая оценка\", \"средняя оценка\", \"высокая оценка\"], right=False)\n",
    "print(games_actual)"
   ]
  },
  {
   "cell_type": "markdown",
   "id": "3266e923",
   "metadata": {
    "id": "HW0Nsp-4UMSL"
   },
   "source": [
    "После категоризации данных проверим результат: сгруппируем данные по выделенным категориям в зависимости от оценки пользователей и посчитаем количество игр в каждой категории c помощью функции `value_counts()`"
   ]
  },
  {
   "cell_type": "code",
   "execution_count": 49,
   "id": "x2ne0HIpUMMD",
   "metadata": {
    "id": "x2ne0HIpUMMD"
   },
   "outputs": [
    {
     "name": "stdout",
     "output_type": "stream",
     "text": [
      "Количество игр в каждой категории исходя из категоризации данных по оценкам пользователей:\n",
      "\n",
      "нет данных        6158\n",
      "средняя оценка    4094\n",
      "высокая оценка    2256\n",
      "низкая оценка      115\n",
      "Name: category_user_score, dtype: int64\n"
     ]
    }
   ],
   "source": [
    "# Группируем данные по выделенным категориям и подсчитываем количество игр в каждой категории\n",
    "\n",
    "category_user_score_count = games_actual['category_user_score'].value_counts()\n",
    "print('Количество игр в каждой категории исходя из категоризации данных по оценкам пользователей:')\n",
    "print()\n",
    "print(category_user_score_count)"
   ]
  },
  {
   "cell_type": "markdown",
   "id": "d5af9aa1",
   "metadata": {
    "id": "U6kiXU3JUMCc"
   },
   "source": [
    "По аналогии сгруппируем данные по выделенным категориям в зависимости от оценки критиков и посчитаем количество игр в каждой категории c помощью функции `value_counts()`"
   ]
  },
  {
   "cell_type": "code",
   "execution_count": 50,
   "id": "0e5ee083",
   "metadata": {},
   "outputs": [
    {
     "name": "stdout",
     "output_type": "stream",
     "text": [
      "Количество игр в каждой категории исходя из категоризации данных по оценкам критиков:\n",
      "\n",
      "нет данных        5500\n",
      "средняя оценка    5397\n",
      "высокая оценка    1674\n",
      "низкая оценка       52\n",
      "Name: category_critic_score, dtype: int64\n"
     ]
    }
   ],
   "source": [
    "# Группируем данные по выделенным категориям и подсчитываем количество игр в каждой категории\n",
    "\n",
    "category_critic_score_count = games_actual['category_critic_score'].value_counts()\n",
    "print('Количество игр в каждой категории исходя из категоризации данных по оценкам критиков:')\n",
    "print()\n",
    "print(category_critic_score_count)"
   ]
  },
  {
   "cell_type": "markdown",
   "id": "b738948e",
   "metadata": {},
   "source": [
    "Выделим топ-7 платформ по количеству игр, выпущенных за весь актуальный период, c помощью функции `value_counts()`"
   ]
  },
  {
   "cell_type": "code",
   "execution_count": 51,
   "id": "003caa2c",
   "metadata": {
    "id": "003caa2c"
   },
   "outputs": [
    {
     "name": "stdout",
     "output_type": "stream",
     "text": [
      "Топ-7 платформ по количеству игр, выпущенных за весь актуальный период:\n",
      "\n",
      "DS      2146\n",
      "PS2     2072\n",
      "Wii     1294\n",
      "PSP     1199\n",
      "X360    1138\n",
      "PS3     1107\n",
      "GBA      825\n",
      "Name: platform, dtype: int64\n"
     ]
    }
   ],
   "source": [
    "# Группируем платформы по количеству игр, выпущенных за весь актуальный период\n",
    "\n",
    "top7_platform = games_actual['platform'].value_counts()\n",
    "print('Топ-7 платформ по количеству игр, выпущенных за весь актуальный период:')\n",
    "print()\n",
    "print(top7_platform.head(7))"
   ]
  },
  {
   "cell_type": "markdown",
   "id": "cd69cc54",
   "metadata": {},
   "source": [
    "Выведем информацию о новом датафрейме (срезе данных)"
   ]
  },
  {
   "cell_type": "code",
   "execution_count": 52,
   "id": "0cfb2dbb",
   "metadata": {},
   "outputs": [
    {
     "name": "stdout",
     "output_type": "stream",
     "text": [
      "<class 'pandas.core.frame.DataFrame'>\n",
      "Int64Index: 12623 entries, 0 to 16954\n",
      "Data columns (total 13 columns):\n",
      " #   Column                 Non-Null Count  Dtype         \n",
      "---  ------                 --------------  -----         \n",
      " 0   name                   12623 non-null  object        \n",
      " 1   platform               12623 non-null  object        \n",
      " 2   year_of_release        12623 non-null  datetime64[ns]\n",
      " 3   genre                  12623 non-null  object        \n",
      " 4   na_sales               12623 non-null  float64       \n",
      " 5   eu_sales               12623 non-null  float64       \n",
      " 6   jp_sales               12623 non-null  float64       \n",
      " 7   other_sales            12623 non-null  float64       \n",
      " 8   critic_score           12623 non-null  float64       \n",
      " 9   user_score             12623 non-null  float64       \n",
      " 10  rating                 8697 non-null   object        \n",
      " 11  category_user_score    12623 non-null  object        \n",
      " 12  category_critic_score  12623 non-null  category      \n",
      "dtypes: category(1), datetime64[ns](1), float64(6), object(5)\n",
      "memory usage: 1.3+ MB\n",
      "None\n"
     ]
    }
   ],
   "source": [
    "# Выводим информацию о датафрейме\n",
    "\n",
    "print(games_actual.info())"
   ]
  },
  {
   "cell_type": "markdown",
   "id": "c0158881",
   "metadata": {
    "id": "c0158881"
   },
   "source": [
    "---\n",
    "\n",
    "## 5. Итоговый вывод"
   ]
  },
  {
   "cell_type": "markdown",
   "id": "1b4b428e",
   "metadata": {
    "id": "20175f5b"
   },
   "source": [
    "Были загружены данные `/datasets/new_games.csv`. Они содержат 11 столбцов и 16956 строк, в которых представлена информация о продажах игр разных жанров и платформ, а также пользовательские и экспертные оценки игр. При первичном знакомстве с данными и их преобработке мы получили такие результаты:\n",
    "\n",
    "- Пропущенные данные были обработаны в 5 столбцах:\n",
    "    - `year_of_release`: 275 пропусков (1,62% от всех значений датафрейма)\n",
    "    - `eu_sales`: 6 пропусков (меньше 1% от всех значений датафрейма)\n",
    "    - `jp_sales`: 4 пропуска (меньше 1% от всех значений датафрейма)\n",
    "    - `critic_score`: 8714 пропусков (51,39% от всех значений датафрейма)\n",
    "    - `user_score`: 9268 пропуска (54,66% от всех значений датафрейма)\n",
    "\n",
    "В столбце `rating`: 6871 пропуск (40,52% от всех значений датафрейма) был оставлен без изменения, поскольку оценки рейтинга организации ESRB представлены в виде строковых значений, а значит, заменить пропуски средним значением - не получится. Таким образом, в датафрейме содержится всего один столбец с пропусками\n",
    "\n",
    "Для оптимизации работы с данными в датафрейме были произведены следующие изменения:\n",
    "\n",
    "- `name` - преобразование названия столбца (изменение регистра и разделителя)\n",
    "- `platform` - преобразование названия столбца (изменение регистра и разделителя)\n",
    "- `year_of_release` - изменение типа данных столбца на datetime64, преобразование названия столбца (изменение регистра и разделителя)\n",
    "- `genre` - обработка неявных дубликатов (изменение регистра), преобразование названия столбца (изменение регистра и разделителя)\n",
    "- `na_sales` - замена строковых значений на пропуски, преобразование названия столбца (изменение регистра и разделителя)\n",
    "- `eu_sales` - замена строковых значений на пропуски, замена пропусков на медианные значения, изменение типа данных столбца на float64, преобразование названия столбца (изменение регистра и разделителя)\n",
    "- `jp_sales` - замена строковых значений на пропуски, замена пропусков на медианные значения, изменение типа данных столбца на float64, преобразование названия столбца (изменение регистра и разделителя)\n",
    "- `other_sales` - преобразование названия столбца (изменение регистра и разделителя)\n",
    "- `critic_score` - произведена замена пропусков на значение-заглушку, преобразование названия столбца (изменение регистра и разделителя)\n",
    "- `user_score` - произведена замена пропусков на значение-заглушку, преобразование названия столбца (изменение регистра и разделителя)\n",
    "\n",
    "Фильтрация данных была проведена с учётом условия о том, что необходимо изучить развитие игровой индустрии, начиная с 2000 и заканчивая 2013 годом включительно. Результаты среза данных были сохранены в новый датафрейм `games_actual`\n",
    "\n",
    "Категоризация данных была проведена в разрезе двух столбцов:\n",
    "\n",
    "- Категоризация игр по оценкам пользователей (столбец `category_user_score`)\n",
    "- Категоризация игр по оценкам критиков (столбец `category_critic_score`)\n",
    "\n",
    "Результаты категоризации игр были добавлены в виде столбцов `category_user_score` и `category_critic_score` в новый датафрейм `games_actual`\n",
    "\n",
    "Также был составлен топ-7 платформ по количеству игр, выпущенных за весь актуальный период. Результаты составления этого рейтинга были добавлены в виде столбца `top7_platform` в новый датафрейм `games_actual`\n",
    "\n",
    "По результатам этого рейтинга, мы определили топ-7 платформ по количеству игр, выпущенных за весь актуальный период. К ним относятся:\n",
    " \n",
    "- `DS` - 2146 игр\n",
    "- `PS2` - 2072 игры\n",
    "- `Wii` - 1294 игры\n",
    "- `PSP` - 1199 игр\n",
    "- `X360` - 1138 игр\n",
    "- `PS3` - 1107 игр\n",
    "- `GBA` - 825 игр\n",
    "\n",
    "Новый датафрейм `games_actual` содержит 13 столбцов и 12623 строки, в которых представлена информация о продажах игр разных жанров и платформ, пользовательские и экспертные оценки игр, категоризация игр в зависимости от оценок пользователей и критиков во временном периоде с 2000 по 2013 год включительно\n",
    "\n",
    "Типы данных нового датафрейма `games_actual`:\n",
    "\n",
    "- **object** (cтроковые данные): `name`, `platform`, `genre`, `rating`\n",
    "- **float64** (числовые значения с плавающей точкой): `na_sales`, `eu_sales`, `jp_sales`, `other_sales`, `critic_score`, `user_score`\n",
    "- **datetime64** (информация о дате и времени): `year_of_release`\n",
    "- **category** (информации о категории данных): `category_user_score`, `category_critic_score`\n",
    "\n",
    "Пропуски содержатся только в столбце `rating`, так как оценки рейтинга организации ESRB представлены в виде строковых значений, а значит, заменить пропуски средним значением - не получится\n",
    "\n",
    "В исходный датасет новые столбцы - не добавлены, поскольку вся необходимая информация о категоризации данных и составлении рейтинга топ-7 платформ по количеству игр, выпущенных за весь актуальный период, находится в новом датафрейме `games_actual`, в котором произведена фильтрация данных по играм, которые были выпущены в период с 2000 по 2013 год включительно"
   ]
  }
 ],
 "metadata": {
  "ExecuteTimeLog": [
   {
    "duration": 431,
    "start_time": "2025-02-01T10:26:16.582Z"
   },
   {
    "duration": 157,
    "start_time": "2025-02-01T10:27:04.992Z"
   },
   {
    "duration": 65,
    "start_time": "2025-02-01T10:27:58.566Z"
   },
   {
    "duration": 3,
    "start_time": "2025-02-01T10:28:18.270Z"
   },
   {
    "duration": 104,
    "start_time": "2025-02-01T10:28:22.463Z"
   },
   {
    "duration": 9,
    "start_time": "2025-02-01T10:28:27.363Z"
   },
   {
    "duration": 17,
    "start_time": "2025-02-01T10:28:57.832Z"
   },
   {
    "duration": 14,
    "start_time": "2025-02-01T10:38:44.131Z"
   },
   {
    "duration": 13,
    "start_time": "2025-02-01T10:38:48.815Z"
   },
   {
    "duration": 8,
    "start_time": "2025-02-01T10:38:57.003Z"
   },
   {
    "duration": 14,
    "start_time": "2025-02-01T10:59:55.378Z"
   },
   {
    "duration": 13,
    "start_time": "2025-02-01T11:00:05.894Z"
   },
   {
    "duration": 11,
    "start_time": "2025-02-01T11:00:24.800Z"
   },
   {
    "duration": 13,
    "start_time": "2025-02-01T11:00:40.427Z"
   },
   {
    "duration": 12,
    "start_time": "2025-02-01T11:01:42.893Z"
   },
   {
    "duration": 17,
    "start_time": "2025-02-01T11:03:17.931Z"
   },
   {
    "duration": 12,
    "start_time": "2025-02-01T11:05:26.945Z"
   },
   {
    "duration": 1072,
    "start_time": "2025-02-01T11:05:46.182Z"
   },
   {
    "duration": 19,
    "start_time": "2025-02-01T11:05:52.526Z"
   },
   {
    "duration": 3871,
    "start_time": "2025-02-01T11:06:30.785Z"
   },
   {
    "duration": 2096,
    "start_time": "2025-02-01T11:07:37.591Z"
   },
   {
    "duration": 2070,
    "start_time": "2025-02-01T11:08:48.108Z"
   },
   {
    "duration": 12,
    "start_time": "2025-02-01T11:09:09.521Z"
   },
   {
    "duration": 11,
    "start_time": "2025-02-01T11:09:35.628Z"
   },
   {
    "duration": 4,
    "start_time": "2025-02-01T11:10:25.740Z"
   },
   {
    "duration": 18,
    "start_time": "2025-02-01T11:10:28.306Z"
   },
   {
    "duration": 15,
    "start_time": "2025-02-01T11:10:50.869Z"
   },
   {
    "duration": 11,
    "start_time": "2025-02-01T11:11:07.489Z"
   },
   {
    "duration": 12,
    "start_time": "2025-02-01T11:11:35.141Z"
   },
   {
    "duration": 11,
    "start_time": "2025-02-01T11:11:42.680Z"
   },
   {
    "duration": 11,
    "start_time": "2025-02-01T11:11:59.443Z"
   },
   {
    "duration": 11,
    "start_time": "2025-02-01T11:12:03.823Z"
   },
   {
    "duration": 13,
    "start_time": "2025-02-01T11:12:30.869Z"
   },
   {
    "duration": 11,
    "start_time": "2025-02-01T11:12:35.713Z"
   },
   {
    "duration": 11,
    "start_time": "2025-02-01T11:12:43.956Z"
   },
   {
    "duration": 3,
    "start_time": "2025-02-01T11:20:57.161Z"
   },
   {
    "duration": 3,
    "start_time": "2025-02-01T11:21:07.805Z"
   },
   {
    "duration": 3,
    "start_time": "2025-02-01T11:21:35.588Z"
   },
   {
    "duration": 8,
    "start_time": "2025-02-01T11:23:16.309Z"
   },
   {
    "duration": 8,
    "start_time": "2025-02-01T11:23:24.691Z"
   },
   {
    "duration": 3,
    "start_time": "2025-02-01T11:25:57.569Z"
   },
   {
    "duration": 3,
    "start_time": "2025-02-01T11:26:01.905Z"
   },
   {
    "duration": 4,
    "start_time": "2025-02-01T11:26:10.394Z"
   },
   {
    "duration": 5,
    "start_time": "2025-02-01T11:26:14.326Z"
   },
   {
    "duration": 5,
    "start_time": "2025-02-01T11:27:42.693Z"
   },
   {
    "duration": 5,
    "start_time": "2025-02-01T11:27:50.767Z"
   },
   {
    "duration": 4,
    "start_time": "2025-02-01T11:28:09.257Z"
   },
   {
    "duration": 9,
    "start_time": "2025-02-01T11:28:23.295Z"
   },
   {
    "duration": 11,
    "start_time": "2025-02-01T11:28:30.087Z"
   },
   {
    "duration": 10,
    "start_time": "2025-02-01T11:28:35.252Z"
   },
   {
    "duration": 10,
    "start_time": "2025-02-01T11:28:39.716Z"
   },
   {
    "duration": 10,
    "start_time": "2025-02-01T11:28:43.800Z"
   },
   {
    "duration": 12,
    "start_time": "2025-02-01T11:29:11.885Z"
   },
   {
    "duration": 2,
    "start_time": "2025-02-01T11:30:19.043Z"
   },
   {
    "duration": 2,
    "start_time": "2025-02-01T11:30:19.201Z"
   },
   {
    "duration": 97,
    "start_time": "2025-02-01T11:30:19.375Z"
   },
   {
    "duration": 8,
    "start_time": "2025-02-01T11:30:19.706Z"
   },
   {
    "duration": 23,
    "start_time": "2025-02-01T11:30:19.861Z"
   },
   {
    "duration": 10,
    "start_time": "2025-02-01T11:30:20.151Z"
   },
   {
    "duration": 12,
    "start_time": "2025-02-01T11:30:20.302Z"
   },
   {
    "duration": 3,
    "start_time": "2025-02-01T11:30:22.057Z"
   },
   {
    "duration": 10,
    "start_time": "2025-02-01T11:30:26.791Z"
   },
   {
    "duration": 15,
    "start_time": "2025-02-01T11:51:47.615Z"
   },
   {
    "duration": 7,
    "start_time": "2025-02-01T11:57:23.287Z"
   },
   {
    "duration": 7,
    "start_time": "2025-02-01T11:57:33.767Z"
   },
   {
    "duration": 18,
    "start_time": "2025-02-01T11:57:38.441Z"
   },
   {
    "duration": 12,
    "start_time": "2025-02-01T11:58:23.224Z"
   },
   {
    "duration": 12,
    "start_time": "2025-02-01T11:58:25.847Z"
   },
   {
    "duration": 15,
    "start_time": "2025-02-01T11:58:41.737Z"
   },
   {
    "duration": 8,
    "start_time": "2025-02-01T11:58:55.550Z"
   },
   {
    "duration": 8,
    "start_time": "2025-02-01T11:59:39.102Z"
   },
   {
    "duration": 7,
    "start_time": "2025-02-01T12:07:51.062Z"
   },
   {
    "duration": 5,
    "start_time": "2025-02-01T12:08:08.054Z"
   },
   {
    "duration": 4,
    "start_time": "2025-02-01T12:08:14.536Z"
   },
   {
    "duration": 15,
    "start_time": "2025-02-01T12:08:16.564Z"
   },
   {
    "duration": 14,
    "start_time": "2025-02-01T12:08:54.897Z"
   },
   {
    "duration": 8,
    "start_time": "2025-02-01T12:09:31.490Z"
   },
   {
    "duration": 5,
    "start_time": "2025-02-01T12:09:31.821Z"
   },
   {
    "duration": 15,
    "start_time": "2025-02-01T12:09:31.975Z"
   },
   {
    "duration": 4,
    "start_time": "2025-02-01T12:14:12.857Z"
   },
   {
    "duration": 4,
    "start_time": "2025-02-01T12:14:24.287Z"
   },
   {
    "duration": 4,
    "start_time": "2025-02-01T12:15:24.409Z"
   },
   {
    "duration": 15,
    "start_time": "2025-02-01T12:16:17.148Z"
   },
   {
    "duration": 1273,
    "start_time": "2025-02-01T12:19:00.297Z"
   },
   {
    "duration": 20,
    "start_time": "2025-02-01T12:19:33.479Z"
   },
   {
    "duration": 5,
    "start_time": "2025-02-01T12:20:21.294Z"
   },
   {
    "duration": 14,
    "start_time": "2025-02-01T12:20:23.906Z"
   },
   {
    "duration": 13,
    "start_time": "2025-02-01T12:20:35.309Z"
   },
   {
    "duration": 19,
    "start_time": "2025-02-01T12:20:37.307Z"
   },
   {
    "duration": 12,
    "start_time": "2025-02-01T12:22:01.684Z"
   },
   {
    "duration": 6,
    "start_time": "2025-02-01T12:22:22.528Z"
   },
   {
    "duration": 15,
    "start_time": "2025-02-01T12:22:25.450Z"
   },
   {
    "duration": 0,
    "start_time": "2025-02-01T12:25:05.541Z"
   },
   {
    "duration": 0,
    "start_time": "2025-02-01T12:25:05.542Z"
   },
   {
    "duration": 0,
    "start_time": "2025-02-01T12:25:05.543Z"
   },
   {
    "duration": 0,
    "start_time": "2025-02-01T12:25:05.544Z"
   },
   {
    "duration": 0,
    "start_time": "2025-02-01T12:25:05.545Z"
   },
   {
    "duration": 0,
    "start_time": "2025-02-01T12:25:05.546Z"
   },
   {
    "duration": 0,
    "start_time": "2025-02-01T12:25:05.547Z"
   },
   {
    "duration": 0,
    "start_time": "2025-02-01T12:25:05.549Z"
   },
   {
    "duration": 0,
    "start_time": "2025-02-01T12:25:05.550Z"
   },
   {
    "duration": 0,
    "start_time": "2025-02-01T12:25:05.552Z"
   },
   {
    "duration": 0,
    "start_time": "2025-02-01T12:25:05.554Z"
   },
   {
    "duration": 0,
    "start_time": "2025-02-01T12:25:05.555Z"
   },
   {
    "duration": 0,
    "start_time": "2025-02-01T12:25:05.557Z"
   },
   {
    "duration": 0,
    "start_time": "2025-02-01T12:25:05.558Z"
   },
   {
    "duration": 0,
    "start_time": "2025-02-01T12:25:05.559Z"
   },
   {
    "duration": 3,
    "start_time": "2025-02-01T12:26:39.296Z"
   },
   {
    "duration": 433,
    "start_time": "2025-02-01T12:26:39.300Z"
   },
   {
    "duration": 137,
    "start_time": "2025-02-01T12:26:39.734Z"
   },
   {
    "duration": 10,
    "start_time": "2025-02-01T12:26:39.873Z"
   },
   {
    "duration": 18,
    "start_time": "2025-02-01T12:26:39.885Z"
   },
   {
    "duration": 21,
    "start_time": "2025-02-01T12:26:39.905Z"
   },
   {
    "duration": 21,
    "start_time": "2025-02-01T12:26:39.928Z"
   },
   {
    "duration": 4,
    "start_time": "2025-02-01T12:26:39.950Z"
   },
   {
    "duration": 14,
    "start_time": "2025-02-01T12:26:39.955Z"
   },
   {
    "duration": 14,
    "start_time": "2025-02-01T12:26:39.972Z"
   },
   {
    "duration": 11,
    "start_time": "2025-02-01T12:26:39.987Z"
   },
   {
    "duration": 33,
    "start_time": "2025-02-01T12:26:40.000Z"
   },
   {
    "duration": 25422,
    "start_time": "2025-02-01T12:26:40.035Z"
   },
   {
    "duration": 0,
    "start_time": "2025-02-01T12:27:05.459Z"
   },
   {
    "duration": 0,
    "start_time": "2025-02-01T12:27:05.461Z"
   },
   {
    "duration": 5,
    "start_time": "2025-02-01T12:27:15.103Z"
   },
   {
    "duration": 15,
    "start_time": "2025-02-01T12:27:17.391Z"
   },
   {
    "duration": 20,
    "start_time": "2025-02-01T12:27:21.662Z"
   },
   {
    "duration": 65,
    "start_time": "2025-02-01T12:28:42.492Z"
   },
   {
    "duration": 19,
    "start_time": "2025-02-01T12:28:43.523Z"
   },
   {
    "duration": 19,
    "start_time": "2025-02-01T12:28:46.155Z"
   },
   {
    "duration": 32,
    "start_time": "2025-02-01T12:30:01.217Z"
   },
   {
    "duration": 20,
    "start_time": "2025-02-01T12:30:27.110Z"
   },
   {
    "duration": 18,
    "start_time": "2025-02-01T12:30:27.906Z"
   },
   {
    "duration": 20,
    "start_time": "2025-02-01T12:30:31.250Z"
   },
   {
    "duration": 7,
    "start_time": "2025-02-01T12:30:42.705Z"
   },
   {
    "duration": 17,
    "start_time": "2025-02-01T12:30:43.505Z"
   },
   {
    "duration": 5,
    "start_time": "2025-02-01T12:30:48.497Z"
   },
   {
    "duration": 16,
    "start_time": "2025-02-01T12:30:49.161Z"
   },
   {
    "duration": 20,
    "start_time": "2025-02-01T12:30:52.688Z"
   },
   {
    "duration": 14,
    "start_time": "2025-02-01T12:31:18.214Z"
   },
   {
    "duration": 58,
    "start_time": "2025-02-01T12:31:18.229Z"
   },
   {
    "duration": 20,
    "start_time": "2025-02-01T12:31:21.052Z"
   },
   {
    "duration": 13,
    "start_time": "2025-02-01T12:31:40.039Z"
   },
   {
    "duration": 14,
    "start_time": "2025-02-01T12:31:40.749Z"
   },
   {
    "duration": 20,
    "start_time": "2025-02-01T12:31:43.569Z"
   },
   {
    "duration": 12,
    "start_time": "2025-02-01T12:31:59.302Z"
   },
   {
    "duration": 15,
    "start_time": "2025-02-01T12:31:59.969Z"
   },
   {
    "duration": 20,
    "start_time": "2025-02-01T12:32:02.147Z"
   },
   {
    "duration": 4,
    "start_time": "2025-02-01T12:32:42.344Z"
   },
   {
    "duration": 494,
    "start_time": "2025-02-01T12:32:42.350Z"
   },
   {
    "duration": 123,
    "start_time": "2025-02-01T12:32:42.846Z"
   },
   {
    "duration": 11,
    "start_time": "2025-02-01T12:32:42.971Z"
   },
   {
    "duration": 18,
    "start_time": "2025-02-01T12:32:42.983Z"
   },
   {
    "duration": 11,
    "start_time": "2025-02-01T12:32:43.002Z"
   },
   {
    "duration": 12,
    "start_time": "2025-02-01T12:32:43.016Z"
   },
   {
    "duration": 3,
    "start_time": "2025-02-01T12:32:43.029Z"
   },
   {
    "duration": 11,
    "start_time": "2025-02-01T12:32:43.034Z"
   },
   {
    "duration": 11,
    "start_time": "2025-02-01T12:32:43.046Z"
   },
   {
    "duration": 10,
    "start_time": "2025-02-01T12:32:43.058Z"
   },
   {
    "duration": 48,
    "start_time": "2025-02-01T12:32:43.070Z"
   },
   {
    "duration": 0,
    "start_time": "2025-02-01T12:33:21.108Z"
   },
   {
    "duration": 0,
    "start_time": "2025-02-01T12:33:21.110Z"
   },
   {
    "duration": 0,
    "start_time": "2025-02-01T12:33:21.111Z"
   },
   {
    "duration": 26,
    "start_time": "2025-02-01T12:33:22.514Z"
   },
   {
    "duration": 0,
    "start_time": "2025-02-01T12:34:02.988Z"
   },
   {
    "duration": 15,
    "start_time": "2025-02-01T12:34:05.266Z"
   },
   {
    "duration": 20,
    "start_time": "2025-02-01T12:34:09.934Z"
   },
   {
    "duration": 0,
    "start_time": "2025-02-01T12:34:40.146Z"
   },
   {
    "duration": 0,
    "start_time": "2025-02-01T12:34:40.147Z"
   },
   {
    "duration": 0,
    "start_time": "2025-02-01T12:34:40.148Z"
   },
   {
    "duration": 0,
    "start_time": "2025-02-01T12:34:40.149Z"
   },
   {
    "duration": 0,
    "start_time": "2025-02-01T12:34:40.150Z"
   },
   {
    "duration": 0,
    "start_time": "2025-02-01T12:34:40.151Z"
   },
   {
    "duration": 0,
    "start_time": "2025-02-01T12:34:40.152Z"
   },
   {
    "duration": 0,
    "start_time": "2025-02-01T12:34:40.153Z"
   },
   {
    "duration": 0,
    "start_time": "2025-02-01T12:34:40.154Z"
   },
   {
    "duration": 0,
    "start_time": "2025-02-01T12:34:40.155Z"
   },
   {
    "duration": 3,
    "start_time": "2025-02-01T12:34:52.830Z"
   },
   {
    "duration": 439,
    "start_time": "2025-02-01T12:34:53.298Z"
   },
   {
    "duration": 143,
    "start_time": "2025-02-01T12:34:54.182Z"
   },
   {
    "duration": 11,
    "start_time": "2025-02-01T12:34:55.528Z"
   },
   {
    "duration": 18,
    "start_time": "2025-02-01T12:34:56.151Z"
   },
   {
    "duration": 11,
    "start_time": "2025-02-01T12:34:56.839Z"
   },
   {
    "duration": 21,
    "start_time": "2025-02-01T12:34:57.925Z"
   },
   {
    "duration": 4,
    "start_time": "2025-02-01T12:35:01.602Z"
   },
   {
    "duration": 11,
    "start_time": "2025-02-01T12:35:03.528Z"
   },
   {
    "duration": 12,
    "start_time": "2025-02-01T12:35:05.524Z"
   },
   {
    "duration": 12,
    "start_time": "2025-02-01T12:35:06.277Z"
   },
   {
    "duration": 17,
    "start_time": "2025-02-01T12:35:06.676Z"
   },
   {
    "duration": 0,
    "start_time": "2025-02-01T12:35:49.117Z"
   },
   {
    "duration": 4,
    "start_time": "2025-02-01T12:36:38.740Z"
   },
   {
    "duration": 381,
    "start_time": "2025-02-01T12:36:39.161Z"
   },
   {
    "duration": 124,
    "start_time": "2025-02-01T12:36:39.627Z"
   },
   {
    "duration": 10,
    "start_time": "2025-02-01T12:36:40.537Z"
   },
   {
    "duration": 19,
    "start_time": "2025-02-01T12:36:40.736Z"
   },
   {
    "duration": 11,
    "start_time": "2025-02-01T12:36:41.223Z"
   },
   {
    "duration": 21,
    "start_time": "2025-02-01T12:36:41.756Z"
   },
   {
    "duration": 3,
    "start_time": "2025-02-01T12:36:43.063Z"
   },
   {
    "duration": 11,
    "start_time": "2025-02-01T12:36:43.865Z"
   },
   {
    "duration": 11,
    "start_time": "2025-02-01T12:36:45.293Z"
   },
   {
    "duration": 11,
    "start_time": "2025-02-01T12:36:46.625Z"
   },
   {
    "duration": 16,
    "start_time": "2025-02-01T12:36:47.800Z"
   },
   {
    "duration": 21779,
    "start_time": "2025-02-01T12:36:50.622Z"
   },
   {
    "duration": 6,
    "start_time": "2025-02-01T12:37:27.490Z"
   },
   {
    "duration": 16,
    "start_time": "2025-02-01T12:37:28.761Z"
   },
   {
    "duration": 21,
    "start_time": "2025-02-01T12:37:31.089Z"
   },
   {
    "duration": 64,
    "start_time": "2025-02-01T12:39:34.142Z"
   },
   {
    "duration": 21,
    "start_time": "2025-02-01T12:39:35.123Z"
   },
   {
    "duration": 22,
    "start_time": "2025-02-01T12:39:38.187Z"
   },
   {
    "duration": 8,
    "start_time": "2025-02-01T12:39:53.072Z"
   },
   {
    "duration": 16,
    "start_time": "2025-02-01T12:39:53.943Z"
   },
   {
    "duration": 19,
    "start_time": "2025-02-01T12:39:55.673Z"
   },
   {
    "duration": 7,
    "start_time": "2025-02-01T12:40:03.084Z"
   },
   {
    "duration": 14,
    "start_time": "2025-02-01T12:40:03.572Z"
   },
   {
    "duration": 26,
    "start_time": "2025-02-01T12:40:05.101Z"
   },
   {
    "duration": 8,
    "start_time": "2025-02-01T12:40:12.414Z"
   },
   {
    "duration": 16,
    "start_time": "2025-02-01T12:40:12.879Z"
   },
   {
    "duration": 23,
    "start_time": "2025-02-01T12:40:14.788Z"
   },
   {
    "duration": 63,
    "start_time": "2025-02-01T12:40:34.360Z"
   },
   {
    "duration": 481,
    "start_time": "2025-02-01T12:40:34.425Z"
   },
   {
    "duration": 104,
    "start_time": "2025-02-01T12:40:34.907Z"
   },
   {
    "duration": 19,
    "start_time": "2025-02-01T12:40:35.013Z"
   },
   {
    "duration": 21,
    "start_time": "2025-02-01T12:40:35.036Z"
   },
   {
    "duration": 29,
    "start_time": "2025-02-01T12:40:35.058Z"
   },
   {
    "duration": 23,
    "start_time": "2025-02-01T12:40:35.088Z"
   },
   {
    "duration": 7,
    "start_time": "2025-02-01T12:40:35.113Z"
   },
   {
    "duration": 20,
    "start_time": "2025-02-01T12:40:35.123Z"
   },
   {
    "duration": 11,
    "start_time": "2025-02-01T12:40:40.003Z"
   },
   {
    "duration": 11,
    "start_time": "2025-02-01T12:40:40.602Z"
   },
   {
    "duration": 15,
    "start_time": "2025-02-01T12:40:40.891Z"
   },
   {
    "duration": 7,
    "start_time": "2025-02-01T12:40:42.898Z"
   },
   {
    "duration": 15,
    "start_time": "2025-02-01T12:40:43.295Z"
   },
   {
    "duration": 20,
    "start_time": "2025-02-01T12:40:47.067Z"
   },
   {
    "duration": 6,
    "start_time": "2025-02-01T12:41:15.094Z"
   },
   {
    "duration": 15,
    "start_time": "2025-02-01T12:41:15.451Z"
   },
   {
    "duration": 20,
    "start_time": "2025-02-01T12:41:17.274Z"
   },
   {
    "duration": 53,
    "start_time": "2025-02-01T12:41:51.956Z"
   },
   {
    "duration": 19,
    "start_time": "2025-02-01T12:41:52.553Z"
   },
   {
    "duration": 38,
    "start_time": "2025-02-01T12:41:55.818Z"
   },
   {
    "duration": 12,
    "start_time": "2025-02-01T12:42:06.683Z"
   },
   {
    "duration": 16,
    "start_time": "2025-02-01T12:42:06.972Z"
   },
   {
    "duration": 27,
    "start_time": "2025-02-01T12:42:08.503Z"
   },
   {
    "duration": 13,
    "start_time": "2025-02-01T12:42:15.503Z"
   },
   {
    "duration": 33,
    "start_time": "2025-02-01T12:42:15.809Z"
   },
   {
    "duration": 20,
    "start_time": "2025-02-01T12:42:17.760Z"
   },
   {
    "duration": 7,
    "start_time": "2025-02-01T12:42:49.083Z"
   },
   {
    "duration": 5,
    "start_time": "2025-02-01T12:42:49.698Z"
   },
   {
    "duration": 35,
    "start_time": "2025-02-01T12:42:50.514Z"
   },
   {
    "duration": 12,
    "start_time": "2025-02-01T12:42:53.153Z"
   },
   {
    "duration": 15,
    "start_time": "2025-02-01T12:42:53.463Z"
   },
   {
    "duration": 25,
    "start_time": "2025-02-01T12:42:54.436Z"
   },
   {
    "duration": 18,
    "start_time": "2025-02-01T12:43:33.915Z"
   },
   {
    "duration": 11,
    "start_time": "2025-02-01T12:43:40.363Z"
   },
   {
    "duration": 8,
    "start_time": "2025-02-01T12:45:01.169Z"
   },
   {
    "duration": 7,
    "start_time": "2025-02-01T12:45:01.836Z"
   },
   {
    "duration": 28,
    "start_time": "2025-02-01T12:45:02.326Z"
   },
   {
    "duration": 18,
    "start_time": "2025-02-01T12:45:04.229Z"
   },
   {
    "duration": 14,
    "start_time": "2025-02-01T12:45:04.582Z"
   },
   {
    "duration": 21,
    "start_time": "2025-02-01T12:45:07.148Z"
   },
   {
    "duration": 3,
    "start_time": "2025-02-01T12:48:13.770Z"
   },
   {
    "duration": 388,
    "start_time": "2025-02-01T12:48:13.775Z"
   },
   {
    "duration": 91,
    "start_time": "2025-02-01T12:48:14.165Z"
   },
   {
    "duration": 11,
    "start_time": "2025-02-01T12:48:14.258Z"
   },
   {
    "duration": 25,
    "start_time": "2025-02-01T12:48:14.271Z"
   },
   {
    "duration": 40,
    "start_time": "2025-02-01T12:48:14.297Z"
   },
   {
    "duration": 12,
    "start_time": "2025-02-01T12:48:14.339Z"
   },
   {
    "duration": 3,
    "start_time": "2025-02-01T12:48:14.353Z"
   },
   {
    "duration": 10,
    "start_time": "2025-02-01T12:48:14.358Z"
   },
   {
    "duration": 11,
    "start_time": "2025-02-01T12:48:14.370Z"
   },
   {
    "duration": 44,
    "start_time": "2025-02-01T12:48:14.382Z"
   },
   {
    "duration": 16,
    "start_time": "2025-02-01T12:48:14.428Z"
   },
   {
    "duration": 6,
    "start_time": "2025-02-01T12:48:14.446Z"
   },
   {
    "duration": 18,
    "start_time": "2025-02-01T12:48:14.455Z"
   },
   {
    "duration": 61,
    "start_time": "2025-02-01T12:48:14.475Z"
   },
   {
    "duration": 3,
    "start_time": "2025-02-01T13:03:54.050Z"
   },
   {
    "duration": 439,
    "start_time": "2025-02-01T13:03:54.055Z"
   },
   {
    "duration": 96,
    "start_time": "2025-02-01T13:03:54.496Z"
   },
   {
    "duration": 10,
    "start_time": "2025-02-01T13:03:54.594Z"
   },
   {
    "duration": 54,
    "start_time": "2025-02-01T13:03:54.607Z"
   },
   {
    "duration": 25,
    "start_time": "2025-02-01T13:03:54.663Z"
   },
   {
    "duration": 13,
    "start_time": "2025-02-01T13:03:54.689Z"
   },
   {
    "duration": 4,
    "start_time": "2025-02-01T13:03:54.703Z"
   },
   {
    "duration": 10,
    "start_time": "2025-02-01T13:03:54.709Z"
   },
   {
    "duration": 13,
    "start_time": "2025-02-01T13:03:54.721Z"
   },
   {
    "duration": 11,
    "start_time": "2025-02-01T13:03:54.735Z"
   },
   {
    "duration": 14,
    "start_time": "2025-02-01T13:03:54.748Z"
   },
   {
    "duration": 5,
    "start_time": "2025-02-01T13:03:54.763Z"
   },
   {
    "duration": 18,
    "start_time": "2025-02-01T13:03:54.771Z"
   },
   {
    "duration": 42,
    "start_time": "2025-02-01T13:03:54.790Z"
   },
   {
    "duration": 3,
    "start_time": "2025-02-01T17:50:42.079Z"
   },
   {
    "duration": 370,
    "start_time": "2025-02-01T17:50:42.084Z"
   },
   {
    "duration": 84,
    "start_time": "2025-02-01T17:50:42.455Z"
   },
   {
    "duration": 9,
    "start_time": "2025-02-01T17:50:42.541Z"
   },
   {
    "duration": 15,
    "start_time": "2025-02-01T17:50:42.552Z"
   },
   {
    "duration": 10,
    "start_time": "2025-02-01T17:50:42.568Z"
   },
   {
    "duration": 12,
    "start_time": "2025-02-01T17:50:42.579Z"
   },
   {
    "duration": 3,
    "start_time": "2025-02-01T17:50:42.592Z"
   },
   {
    "duration": 13,
    "start_time": "2025-02-01T17:50:42.596Z"
   },
   {
    "duration": 45,
    "start_time": "2025-02-01T17:50:42.610Z"
   },
   {
    "duration": 10,
    "start_time": "2025-02-01T17:50:42.657Z"
   },
   {
    "duration": 14,
    "start_time": "2025-02-01T17:50:42.668Z"
   },
   {
    "duration": 4,
    "start_time": "2025-02-01T17:50:42.683Z"
   },
   {
    "duration": 13,
    "start_time": "2025-02-01T17:50:42.689Z"
   },
   {
    "duration": 45,
    "start_time": "2025-02-01T17:50:42.703Z"
   },
   {
    "duration": 48,
    "start_time": "2025-02-01T17:51:27.768Z"
   },
   {
    "duration": 15,
    "start_time": "2025-02-01T17:51:28.864Z"
   },
   {
    "duration": 19,
    "start_time": "2025-02-01T17:51:31.069Z"
   },
   {
    "duration": 11,
    "start_time": "2025-02-01T17:51:44.962Z"
   },
   {
    "duration": 13,
    "start_time": "2025-02-01T17:51:45.526Z"
   },
   {
    "duration": 18,
    "start_time": "2025-02-01T17:51:48.280Z"
   },
   {
    "duration": 3,
    "start_time": "2025-02-01T17:52:08.469Z"
   },
   {
    "duration": 401,
    "start_time": "2025-02-01T17:52:08.650Z"
   },
   {
    "duration": 103,
    "start_time": "2025-02-01T17:52:09.053Z"
   },
   {
    "duration": 10,
    "start_time": "2025-02-01T17:52:09.764Z"
   },
   {
    "duration": 15,
    "start_time": "2025-02-01T17:52:09.919Z"
   },
   {
    "duration": 9,
    "start_time": "2025-02-01T17:52:10.142Z"
   },
   {
    "duration": 13,
    "start_time": "2025-02-01T17:52:10.384Z"
   },
   {
    "duration": 3,
    "start_time": "2025-02-01T17:52:12.546Z"
   },
   {
    "duration": 9,
    "start_time": "2025-02-01T17:52:13.093Z"
   },
   {
    "duration": 10,
    "start_time": "2025-02-01T17:52:14.257Z"
   },
   {
    "duration": 10,
    "start_time": "2025-02-01T17:52:14.917Z"
   },
   {
    "duration": 14,
    "start_time": "2025-02-01T17:52:15.185Z"
   },
   {
    "duration": 914,
    "start_time": "2025-02-01T17:52:16.373Z"
   },
   {
    "duration": 0,
    "start_time": "2025-02-01T17:52:17.288Z"
   },
   {
    "duration": 5,
    "start_time": "2025-02-01T17:52:25.540Z"
   },
   {
    "duration": 13,
    "start_time": "2025-02-01T17:52:26.316Z"
   },
   {
    "duration": 18,
    "start_time": "2025-02-01T17:52:27.724Z"
   },
   {
    "duration": 18,
    "start_time": "2025-02-01T17:53:28.167Z"
   },
   {
    "duration": 15,
    "start_time": "2025-02-01T17:54:06.311Z"
   },
   {
    "duration": 14,
    "start_time": "2025-02-01T17:54:25.637Z"
   },
   {
    "duration": 17,
    "start_time": "2025-02-01T17:54:30.385Z"
   },
   {
    "duration": 14,
    "start_time": "2025-02-01T17:54:42.680Z"
   },
   {
    "duration": 3,
    "start_time": "2025-02-01T17:55:40.406Z"
   },
   {
    "duration": 415,
    "start_time": "2025-02-01T17:55:40.538Z"
   },
   {
    "duration": 110,
    "start_time": "2025-02-01T17:55:41.040Z"
   },
   {
    "duration": 9,
    "start_time": "2025-02-01T17:55:41.152Z"
   },
   {
    "duration": 16,
    "start_time": "2025-02-01T17:55:41.163Z"
   },
   {
    "duration": 16,
    "start_time": "2025-02-01T17:55:41.180Z"
   },
   {
    "duration": 11,
    "start_time": "2025-02-01T17:55:41.233Z"
   },
   {
    "duration": 3,
    "start_time": "2025-02-01T17:55:41.427Z"
   },
   {
    "duration": 10,
    "start_time": "2025-02-01T17:55:41.580Z"
   },
   {
    "duration": 12,
    "start_time": "2025-02-01T17:55:42.642Z"
   },
   {
    "duration": 11,
    "start_time": "2025-02-01T17:55:42.967Z"
   },
   {
    "duration": 13,
    "start_time": "2025-02-01T17:55:43.145Z"
   },
   {
    "duration": 6,
    "start_time": "2025-02-01T17:55:43.476Z"
   },
   {
    "duration": 14,
    "start_time": "2025-02-01T17:55:43.651Z"
   },
   {
    "duration": 28,
    "start_time": "2025-02-01T17:55:44.398Z"
   },
   {
    "duration": 14,
    "start_time": "2025-02-01T17:55:46.595Z"
   },
   {
    "duration": 15,
    "start_time": "2025-02-01T17:56:44.165Z"
   },
   {
    "duration": 14,
    "start_time": "2025-02-01T17:57:12.658Z"
   },
   {
    "duration": 14,
    "start_time": "2025-02-01T17:59:16.074Z"
   },
   {
    "duration": 11,
    "start_time": "2025-02-01T17:59:18.160Z"
   },
   {
    "duration": 10,
    "start_time": "2025-02-01T17:59:27.722Z"
   },
   {
    "duration": 10,
    "start_time": "2025-02-01T17:59:46.199Z"
   },
   {
    "duration": 9,
    "start_time": "2025-02-01T17:59:49.186Z"
   },
   {
    "duration": 11,
    "start_time": "2025-02-01T17:59:51.284Z"
   },
   {
    "duration": 71,
    "start_time": "2025-02-01T18:18:31.787Z"
   },
   {
    "duration": 3,
    "start_time": "2025-02-01T18:19:08.210Z"
   },
   {
    "duration": 2,
    "start_time": "2025-02-01T18:19:11.792Z"
   },
   {
    "duration": 10,
    "start_time": "2025-02-01T18:20:24.121Z"
   },
   {
    "duration": 9,
    "start_time": "2025-02-01T18:20:28.145Z"
   },
   {
    "duration": 9,
    "start_time": "2025-02-01T18:20:46.249Z"
   },
   {
    "duration": 6,
    "start_time": "2025-02-01T18:20:46.605Z"
   },
   {
    "duration": 3,
    "start_time": "2025-02-01T18:21:21.104Z"
   },
   {
    "duration": 380,
    "start_time": "2025-02-01T18:21:21.368Z"
   },
   {
    "duration": 88,
    "start_time": "2025-02-01T18:21:21.750Z"
   },
   {
    "duration": 9,
    "start_time": "2025-02-01T18:21:21.965Z"
   },
   {
    "duration": 15,
    "start_time": "2025-02-01T18:21:22.166Z"
   },
   {
    "duration": 9,
    "start_time": "2025-02-01T18:21:22.343Z"
   },
   {
    "duration": 11,
    "start_time": "2025-02-01T18:21:22.718Z"
   },
   {
    "duration": 4,
    "start_time": "2025-02-01T18:21:23.690Z"
   },
   {
    "duration": 10,
    "start_time": "2025-02-01T18:21:24.640Z"
   },
   {
    "duration": 10,
    "start_time": "2025-02-01T18:21:26.280Z"
   },
   {
    "duration": 11,
    "start_time": "2025-02-01T18:21:26.807Z"
   },
   {
    "duration": 14,
    "start_time": "2025-02-01T18:21:27.295Z"
   },
   {
    "duration": 5,
    "start_time": "2025-02-01T18:21:28.576Z"
   },
   {
    "duration": 14,
    "start_time": "2025-02-01T18:21:29.017Z"
   },
   {
    "duration": 18,
    "start_time": "2025-02-01T18:21:30.650Z"
   },
   {
    "duration": 10,
    "start_time": "2025-02-01T18:21:32.807Z"
   },
   {
    "duration": 10,
    "start_time": "2025-02-01T18:21:33.626Z"
   },
   {
    "duration": 12,
    "start_time": "2025-02-01T18:21:34.777Z"
   },
   {
    "duration": 9,
    "start_time": "2025-02-01T18:21:35.477Z"
   },
   {
    "duration": 3,
    "start_time": "2025-02-01T18:22:21.143Z"
   },
   {
    "duration": 410,
    "start_time": "2025-02-01T18:22:21.344Z"
   },
   {
    "duration": 112,
    "start_time": "2025-02-01T18:22:21.756Z"
   },
   {
    "duration": 10,
    "start_time": "2025-02-01T18:22:22.116Z"
   },
   {
    "duration": 15,
    "start_time": "2025-02-01T18:22:22.252Z"
   },
   {
    "duration": 10,
    "start_time": "2025-02-01T18:22:22.401Z"
   },
   {
    "duration": 12,
    "start_time": "2025-02-01T18:22:22.666Z"
   },
   {
    "duration": 3,
    "start_time": "2025-02-01T18:22:23.483Z"
   },
   {
    "duration": 10,
    "start_time": "2025-02-01T18:22:23.774Z"
   },
   {
    "duration": 11,
    "start_time": "2025-02-01T18:22:24.369Z"
   },
   {
    "duration": 10,
    "start_time": "2025-02-01T18:22:24.961Z"
   },
   {
    "duration": 13,
    "start_time": "2025-02-01T18:22:25.272Z"
   },
   {
    "duration": 5,
    "start_time": "2025-02-01T18:22:25.733Z"
   },
   {
    "duration": 14,
    "start_time": "2025-02-01T18:22:25.934Z"
   },
   {
    "duration": 17,
    "start_time": "2025-02-01T18:22:26.682Z"
   },
   {
    "duration": 9,
    "start_time": "2025-02-01T18:22:28.355Z"
   },
   {
    "duration": 9,
    "start_time": "2025-02-01T18:22:28.709Z"
   },
   {
    "duration": 10,
    "start_time": "2025-02-01T18:22:30.142Z"
   },
   {
    "duration": 8,
    "start_time": "2025-02-01T18:22:30.962Z"
   },
   {
    "duration": 3,
    "start_time": "2025-02-01T18:23:27.094Z"
   },
   {
    "duration": 376,
    "start_time": "2025-02-01T18:23:27.313Z"
   },
   {
    "duration": 141,
    "start_time": "2025-02-01T18:23:27.691Z"
   },
   {
    "duration": 9,
    "start_time": "2025-02-01T18:23:27.834Z"
   },
   {
    "duration": 17,
    "start_time": "2025-02-01T18:23:27.949Z"
   },
   {
    "duration": 10,
    "start_time": "2025-02-01T18:23:28.102Z"
   },
   {
    "duration": 12,
    "start_time": "2025-02-01T18:23:28.412Z"
   },
   {
    "duration": 3,
    "start_time": "2025-02-01T18:23:29.337Z"
   },
   {
    "duration": 9,
    "start_time": "2025-02-01T18:23:29.674Z"
   },
   {
    "duration": 11,
    "start_time": "2025-02-01T18:23:30.335Z"
   },
   {
    "duration": 10,
    "start_time": "2025-02-01T18:23:30.662Z"
   },
   {
    "duration": 14,
    "start_time": "2025-02-01T18:23:30.840Z"
   },
   {
    "duration": 5,
    "start_time": "2025-02-01T18:23:31.174Z"
   },
   {
    "duration": 15,
    "start_time": "2025-02-01T18:23:31.373Z"
   },
   {
    "duration": 18,
    "start_time": "2025-02-01T18:23:31.971Z"
   },
   {
    "duration": 9,
    "start_time": "2025-02-01T18:23:36.346Z"
   },
   {
    "duration": 9,
    "start_time": "2025-02-01T18:23:36.957Z"
   },
   {
    "duration": 10,
    "start_time": "2025-02-01T18:24:05.157Z"
   },
   {
    "duration": 34,
    "start_time": "2025-02-01T18:24:48.299Z"
   },
   {
    "duration": 9,
    "start_time": "2025-02-01T18:29:18.493Z"
   },
   {
    "duration": 8,
    "start_time": "2025-02-01T18:29:19.565Z"
   },
   {
    "duration": 9,
    "start_time": "2025-02-01T18:29:22.368Z"
   },
   {
    "duration": 9,
    "start_time": "2025-02-01T18:29:25.350Z"
   },
   {
    "duration": 13,
    "start_time": "2025-02-01T18:29:29.052Z"
   },
   {
    "duration": 10,
    "start_time": "2025-02-01T18:30:44.474Z"
   },
   {
    "duration": 9,
    "start_time": "2025-02-01T18:30:44.804Z"
   },
   {
    "duration": 4,
    "start_time": "2025-02-01T18:31:55.836Z"
   },
   {
    "duration": 364,
    "start_time": "2025-02-01T18:31:55.991Z"
   },
   {
    "duration": 134,
    "start_time": "2025-02-01T18:31:56.357Z"
   },
   {
    "duration": 10,
    "start_time": "2025-02-01T18:31:56.493Z"
   },
   {
    "duration": 31,
    "start_time": "2025-02-01T18:31:56.504Z"
   },
   {
    "duration": 9,
    "start_time": "2025-02-01T18:31:56.858Z"
   },
   {
    "duration": 11,
    "start_time": "2025-02-01T18:31:57.123Z"
   },
   {
    "duration": 4,
    "start_time": "2025-02-01T18:31:58.013Z"
   },
   {
    "duration": 9,
    "start_time": "2025-02-01T18:31:58.922Z"
   },
   {
    "duration": 10,
    "start_time": "2025-02-01T18:31:59.564Z"
   },
   {
    "duration": 11,
    "start_time": "2025-02-01T18:31:59.896Z"
   },
   {
    "duration": 16,
    "start_time": "2025-02-01T18:32:00.052Z"
   },
   {
    "duration": 6,
    "start_time": "2025-02-01T18:32:02.070Z"
   },
   {
    "duration": 15,
    "start_time": "2025-02-01T18:32:02.205Z"
   },
   {
    "duration": 19,
    "start_time": "2025-02-01T18:32:03.204Z"
   },
   {
    "duration": 9,
    "start_time": "2025-02-01T18:32:06.786Z"
   },
   {
    "duration": 10,
    "start_time": "2025-02-01T18:32:07.163Z"
   },
   {
    "duration": 9,
    "start_time": "2025-02-01T18:32:10.086Z"
   },
   {
    "duration": 8,
    "start_time": "2025-02-01T18:32:10.997Z"
   },
   {
    "duration": 9,
    "start_time": "2025-02-01T18:32:11.203Z"
   },
   {
    "duration": 11,
    "start_time": "2025-02-01T18:32:11.444Z"
   },
   {
    "duration": 12,
    "start_time": "2025-02-01T18:32:11.665Z"
   },
   {
    "duration": 11,
    "start_time": "2025-02-01T18:34:30.068Z"
   },
   {
    "duration": 9,
    "start_time": "2025-02-01T18:34:31.620Z"
   },
   {
    "duration": 3,
    "start_time": "2025-02-01T18:35:16.936Z"
   },
   {
    "duration": 378,
    "start_time": "2025-02-01T18:35:17.202Z"
   },
   {
    "duration": 126,
    "start_time": "2025-02-01T18:35:17.582Z"
   },
   {
    "duration": 9,
    "start_time": "2025-02-01T18:35:17.709Z"
   },
   {
    "duration": 16,
    "start_time": "2025-02-01T18:35:18.066Z"
   },
   {
    "duration": 10,
    "start_time": "2025-02-01T18:35:18.199Z"
   },
   {
    "duration": 12,
    "start_time": "2025-02-01T18:35:18.508Z"
   },
   {
    "duration": 3,
    "start_time": "2025-02-01T18:35:19.353Z"
   },
   {
    "duration": 9,
    "start_time": "2025-02-01T18:35:19.662Z"
   },
   {
    "duration": 10,
    "start_time": "2025-02-01T18:35:20.262Z"
   },
   {
    "duration": 10,
    "start_time": "2025-02-01T18:35:20.570Z"
   },
   {
    "duration": 13,
    "start_time": "2025-02-01T18:35:20.725Z"
   },
   {
    "duration": 6,
    "start_time": "2025-02-01T18:35:21.079Z"
   },
   {
    "duration": 13,
    "start_time": "2025-02-01T18:35:21.240Z"
   },
   {
    "duration": 19,
    "start_time": "2025-02-01T18:35:21.766Z"
   },
   {
    "duration": 9,
    "start_time": "2025-02-01T18:35:23.589Z"
   },
   {
    "duration": 10,
    "start_time": "2025-02-01T18:35:23.879Z"
   },
   {
    "duration": 9,
    "start_time": "2025-02-01T18:35:24.989Z"
   },
   {
    "duration": 8,
    "start_time": "2025-02-01T18:35:25.212Z"
   },
   {
    "duration": 9,
    "start_time": "2025-02-01T18:35:25.366Z"
   },
   {
    "duration": 8,
    "start_time": "2025-02-01T18:35:25.631Z"
   },
   {
    "duration": 12,
    "start_time": "2025-02-01T18:35:25.831Z"
   },
   {
    "duration": 12,
    "start_time": "2025-02-01T18:35:26.325Z"
   },
   {
    "duration": 2,
    "start_time": "2025-02-01T18:35:36.813Z"
   },
   {
    "duration": 394,
    "start_time": "2025-02-01T18:35:36.946Z"
   },
   {
    "duration": 94,
    "start_time": "2025-02-01T18:35:37.342Z"
   },
   {
    "duration": 9,
    "start_time": "2025-02-01T18:35:37.438Z"
   },
   {
    "duration": 16,
    "start_time": "2025-02-01T18:35:37.454Z"
   },
   {
    "duration": 11,
    "start_time": "2025-02-01T18:35:37.589Z"
   },
   {
    "duration": 12,
    "start_time": "2025-02-01T18:35:37.855Z"
   },
   {
    "duration": 3,
    "start_time": "2025-02-01T18:35:38.565Z"
   },
   {
    "duration": 10,
    "start_time": "2025-02-01T18:35:39.203Z"
   },
   {
    "duration": 11,
    "start_time": "2025-02-01T18:35:39.332Z"
   },
   {
    "duration": 11,
    "start_time": "2025-02-01T18:35:39.397Z"
   },
   {
    "duration": 14,
    "start_time": "2025-02-01T18:35:39.921Z"
   },
   {
    "duration": 6,
    "start_time": "2025-02-01T18:35:40.192Z"
   },
   {
    "duration": 18,
    "start_time": "2025-02-01T18:35:40.323Z"
   },
   {
    "duration": 19,
    "start_time": "2025-02-01T18:35:40.700Z"
   },
   {
    "duration": 8,
    "start_time": "2025-02-01T18:35:41.368Z"
   },
   {
    "duration": 9,
    "start_time": "2025-02-01T18:35:41.501Z"
   },
   {
    "duration": 8,
    "start_time": "2025-02-01T18:35:41.968Z"
   },
   {
    "duration": 8,
    "start_time": "2025-02-01T18:35:42.344Z"
   },
   {
    "duration": 8,
    "start_time": "2025-02-01T18:35:42.588Z"
   },
   {
    "duration": 9,
    "start_time": "2025-02-01T18:35:42.787Z"
   },
   {
    "duration": 11,
    "start_time": "2025-02-01T18:35:43.033Z"
   },
   {
    "duration": 63,
    "start_time": "2025-02-01T18:36:56.828Z"
   },
   {
    "duration": 8,
    "start_time": "2025-02-01T18:37:13.240Z"
   },
   {
    "duration": 9,
    "start_time": "2025-02-01T18:37:16.811Z"
   },
   {
    "duration": 5,
    "start_time": "2025-02-01T18:37:32.982Z"
   },
   {
    "duration": 5,
    "start_time": "2025-02-01T18:37:35.813Z"
   },
   {
    "duration": 5,
    "start_time": "2025-02-01T18:37:37.636Z"
   },
   {
    "duration": 5,
    "start_time": "2025-02-01T18:37:39.147Z"
   },
   {
    "duration": 6,
    "start_time": "2025-02-01T18:37:41.252Z"
   },
   {
    "duration": 3,
    "start_time": "2025-02-01T18:38:50.320Z"
   },
   {
    "duration": 347,
    "start_time": "2025-02-01T18:38:50.606Z"
   },
   {
    "duration": 107,
    "start_time": "2025-02-01T18:38:50.955Z"
   },
   {
    "duration": 9,
    "start_time": "2025-02-01T18:38:51.450Z"
   },
   {
    "duration": 15,
    "start_time": "2025-02-01T18:38:51.605Z"
   },
   {
    "duration": 10,
    "start_time": "2025-02-01T18:38:51.781Z"
   },
   {
    "duration": 12,
    "start_time": "2025-02-01T18:38:52.072Z"
   },
   {
    "duration": 3,
    "start_time": "2025-02-01T18:38:52.912Z"
   },
   {
    "duration": 9,
    "start_time": "2025-02-01T18:38:53.201Z"
   },
   {
    "duration": 11,
    "start_time": "2025-02-01T18:38:53.817Z"
   },
   {
    "duration": 11,
    "start_time": "2025-02-01T18:38:54.107Z"
   },
   {
    "duration": 21,
    "start_time": "2025-02-01T18:38:54.241Z"
   },
   {
    "duration": 6,
    "start_time": "2025-02-01T18:38:54.729Z"
   },
   {
    "duration": 12,
    "start_time": "2025-02-01T18:38:54.906Z"
   },
   {
    "duration": 18,
    "start_time": "2025-02-01T18:38:55.396Z"
   },
   {
    "duration": 10,
    "start_time": "2025-02-01T18:38:56.238Z"
   },
   {
    "duration": 10,
    "start_time": "2025-02-01T18:38:56.436Z"
   },
   {
    "duration": 10,
    "start_time": "2025-02-01T18:38:57.192Z"
   },
   {
    "duration": 9,
    "start_time": "2025-02-01T18:38:57.616Z"
   },
   {
    "duration": 10,
    "start_time": "2025-02-01T18:38:57.769Z"
   },
   {
    "duration": 9,
    "start_time": "2025-02-01T18:38:57.996Z"
   },
   {
    "duration": 13,
    "start_time": "2025-02-01T18:38:58.148Z"
   },
   {
    "duration": 10,
    "start_time": "2025-02-01T18:38:58.637Z"
   },
   {
    "duration": 10,
    "start_time": "2025-02-01T18:38:58.882Z"
   },
   {
    "duration": 4,
    "start_time": "2025-02-01T18:44:54.825Z"
   },
   {
    "duration": 3,
    "start_time": "2025-02-01T18:45:01.588Z"
   },
   {
    "duration": 3,
    "start_time": "2025-02-01T18:45:17.722Z"
   },
   {
    "duration": 65,
    "start_time": "2025-02-01T18:45:57.090Z"
   },
   {
    "duration": 6,
    "start_time": "2025-02-01T18:46:04.157Z"
   },
   {
    "duration": 5,
    "start_time": "2025-02-01T18:53:03.145Z"
   },
   {
    "duration": 3,
    "start_time": "2025-02-01T19:04:39.989Z"
   },
   {
    "duration": 7,
    "start_time": "2025-02-01T19:04:45.616Z"
   },
   {
    "duration": 5,
    "start_time": "2025-02-01T19:06:17.542Z"
   },
   {
    "duration": 14,
    "start_time": "2025-02-01T19:06:31.769Z"
   },
   {
    "duration": 8,
    "start_time": "2025-02-01T19:06:42.152Z"
   },
   {
    "duration": 3,
    "start_time": "2025-02-01T19:07:31.112Z"
   },
   {
    "duration": 397,
    "start_time": "2025-02-01T19:07:31.248Z"
   },
   {
    "duration": 134,
    "start_time": "2025-02-01T19:07:31.647Z"
   },
   {
    "duration": 10,
    "start_time": "2025-02-01T19:07:31.783Z"
   },
   {
    "duration": 23,
    "start_time": "2025-02-01T19:07:31.824Z"
   },
   {
    "duration": 9,
    "start_time": "2025-02-01T19:07:31.958Z"
   },
   {
    "duration": 12,
    "start_time": "2025-02-01T19:07:32.229Z"
   },
   {
    "duration": 3,
    "start_time": "2025-02-01T19:07:33.135Z"
   },
   {
    "duration": 10,
    "start_time": "2025-02-01T19:07:33.426Z"
   },
   {
    "duration": 10,
    "start_time": "2025-02-01T19:07:33.962Z"
   },
   {
    "duration": 11,
    "start_time": "2025-02-01T19:07:34.274Z"
   },
   {
    "duration": 14,
    "start_time": "2025-02-01T19:07:34.430Z"
   },
   {
    "duration": 5,
    "start_time": "2025-02-01T19:07:34.718Z"
   },
   {
    "duration": 16,
    "start_time": "2025-02-01T19:07:34.851Z"
   },
   {
    "duration": 19,
    "start_time": "2025-02-01T19:07:35.231Z"
   },
   {
    "duration": 9,
    "start_time": "2025-02-01T19:07:35.913Z"
   },
   {
    "duration": 16,
    "start_time": "2025-02-01T19:07:36.049Z"
   },
   {
    "duration": 10,
    "start_time": "2025-02-01T19:07:36.514Z"
   },
   {
    "duration": 9,
    "start_time": "2025-02-01T19:07:36.669Z"
   },
   {
    "duration": 10,
    "start_time": "2025-02-01T19:07:37.002Z"
   },
   {
    "duration": 9,
    "start_time": "2025-02-01T19:07:37.205Z"
   },
   {
    "duration": 13,
    "start_time": "2025-02-01T19:07:39.688Z"
   },
   {
    "duration": 10,
    "start_time": "2025-02-01T19:07:40.116Z"
   },
   {
    "duration": 9,
    "start_time": "2025-02-01T19:07:40.312Z"
   },
   {
    "duration": 4,
    "start_time": "2025-02-01T19:08:16.983Z"
   },
   {
    "duration": 4,
    "start_time": "2025-02-01T19:08:23.431Z"
   },
   {
    "duration": 4,
    "start_time": "2025-02-01T19:09:12.384Z"
   },
   {
    "duration": 5,
    "start_time": "2025-02-01T19:11:34.511Z"
   },
   {
    "duration": 4,
    "start_time": "2025-02-01T19:11:35.072Z"
   },
   {
    "duration": 6,
    "start_time": "2025-02-01T19:14:36.877Z"
   },
   {
    "duration": 8,
    "start_time": "2025-02-01T19:14:38.905Z"
   },
   {
    "duration": 3,
    "start_time": "2025-02-01T19:14:51.928Z"
   },
   {
    "duration": 393,
    "start_time": "2025-02-01T19:14:52.108Z"
   },
   {
    "duration": 134,
    "start_time": "2025-02-01T19:14:52.503Z"
   },
   {
    "duration": 10,
    "start_time": "2025-02-01T19:14:52.639Z"
   },
   {
    "duration": 15,
    "start_time": "2025-02-01T19:14:52.710Z"
   },
   {
    "duration": 14,
    "start_time": "2025-02-01T19:14:52.862Z"
   },
   {
    "duration": 16,
    "start_time": "2025-02-01T19:14:53.128Z"
   },
   {
    "duration": 3,
    "start_time": "2025-02-01T19:14:54.037Z"
   },
   {
    "duration": 8,
    "start_time": "2025-02-01T19:14:54.345Z"
   },
   {
    "duration": 11,
    "start_time": "2025-02-01T19:14:55.009Z"
   },
   {
    "duration": 11,
    "start_time": "2025-02-01T19:14:55.321Z"
   },
   {
    "duration": 13,
    "start_time": "2025-02-01T19:14:55.499Z"
   },
   {
    "duration": 5,
    "start_time": "2025-02-01T19:14:55.833Z"
   },
   {
    "duration": 13,
    "start_time": "2025-02-01T19:14:56.011Z"
   },
   {
    "duration": 17,
    "start_time": "2025-02-01T19:14:56.480Z"
   },
   {
    "duration": 8,
    "start_time": "2025-02-01T19:14:57.280Z"
   },
   {
    "duration": 8,
    "start_time": "2025-02-01T19:14:57.458Z"
   },
   {
    "duration": 9,
    "start_time": "2025-02-01T19:14:57.970Z"
   },
   {
    "duration": 9,
    "start_time": "2025-02-01T19:14:58.148Z"
   },
   {
    "duration": 9,
    "start_time": "2025-02-01T19:14:58.369Z"
   },
   {
    "duration": 10,
    "start_time": "2025-02-01T19:14:58.569Z"
   },
   {
    "duration": 18,
    "start_time": "2025-02-01T19:14:58.770Z"
   },
   {
    "duration": 8,
    "start_time": "2025-02-01T19:14:59.480Z"
   },
   {
    "duration": 9,
    "start_time": "2025-02-01T19:15:00.057Z"
   },
   {
    "duration": 4,
    "start_time": "2025-02-01T19:15:01.675Z"
   },
   {
    "duration": 5,
    "start_time": "2025-02-01T19:15:03.073Z"
   },
   {
    "duration": 243,
    "start_time": "2025-02-01T19:16:24.455Z"
   },
   {
    "duration": 131,
    "start_time": "2025-02-01T19:16:28.460Z"
   },
   {
    "duration": 12,
    "start_time": "2025-02-01T19:17:11.719Z"
   },
   {
    "duration": 11,
    "start_time": "2025-02-01T19:17:23.730Z"
   },
   {
    "duration": 4,
    "start_time": "2025-02-01T19:17:39.885Z"
   },
   {
    "duration": 413,
    "start_time": "2025-02-01T19:17:40.149Z"
   },
   {
    "duration": 88,
    "start_time": "2025-02-01T19:17:40.566Z"
   },
   {
    "duration": 10,
    "start_time": "2025-02-01T19:17:41.018Z"
   },
   {
    "duration": 15,
    "start_time": "2025-02-01T19:17:41.196Z"
   },
   {
    "duration": 10,
    "start_time": "2025-02-01T19:17:41.396Z"
   },
   {
    "duration": 12,
    "start_time": "2025-02-01T19:17:41.687Z"
   },
   {
    "duration": 3,
    "start_time": "2025-02-01T19:17:42.664Z"
   },
   {
    "duration": 9,
    "start_time": "2025-02-01T19:17:42.969Z"
   },
   {
    "duration": 10,
    "start_time": "2025-02-01T19:17:43.652Z"
   },
   {
    "duration": 11,
    "start_time": "2025-02-01T19:17:43.965Z"
   },
   {
    "duration": 13,
    "start_time": "2025-02-01T19:17:44.121Z"
   },
   {
    "duration": 5,
    "start_time": "2025-02-01T19:17:44.456Z"
   },
   {
    "duration": 13,
    "start_time": "2025-02-01T19:17:44.634Z"
   },
   {
    "duration": 17,
    "start_time": "2025-02-01T19:17:45.101Z"
   },
   {
    "duration": 9,
    "start_time": "2025-02-01T19:17:45.942Z"
   },
   {
    "duration": 9,
    "start_time": "2025-02-01T19:17:46.120Z"
   },
   {
    "duration": 10,
    "start_time": "2025-02-01T19:17:47.408Z"
   },
   {
    "duration": 8,
    "start_time": "2025-02-01T19:17:47.539Z"
   },
   {
    "duration": 8,
    "start_time": "2025-02-01T19:17:47.672Z"
   },
   {
    "duration": 9,
    "start_time": "2025-02-01T19:17:47.850Z"
   },
   {
    "duration": 12,
    "start_time": "2025-02-01T19:17:48.005Z"
   },
   {
    "duration": 9,
    "start_time": "2025-02-01T19:17:50.939Z"
   },
   {
    "duration": 8,
    "start_time": "2025-02-01T19:17:51.183Z"
   },
   {
    "duration": 5,
    "start_time": "2025-02-01T19:17:52.426Z"
   },
   {
    "duration": 5,
    "start_time": "2025-02-01T19:17:52.918Z"
   },
   {
    "duration": 8,
    "start_time": "2025-02-01T19:18:21.511Z"
   },
   {
    "duration": 6,
    "start_time": "2025-02-01T19:18:26.780Z"
   },
   {
    "duration": 9,
    "start_time": "2025-02-01T19:18:29.242Z"
   },
   {
    "duration": 5,
    "start_time": "2025-02-01T19:22:35.637Z"
   },
   {
    "duration": 60,
    "start_time": "2025-02-01T19:22:37.953Z"
   },
   {
    "duration": 4,
    "start_time": "2025-02-01T19:22:53.107Z"
   },
   {
    "duration": 5,
    "start_time": "2025-02-01T19:22:59.798Z"
   },
   {
    "duration": 5,
    "start_time": "2025-02-01T19:23:05.305Z"
   },
   {
    "duration": 9,
    "start_time": "2025-02-01T19:26:41.000Z"
   },
   {
    "duration": 9,
    "start_time": "2025-02-01T19:26:52.793Z"
   },
   {
    "duration": 3,
    "start_time": "2025-02-01T19:27:24.786Z"
   },
   {
    "duration": 406,
    "start_time": "2025-02-01T19:27:24.918Z"
   },
   {
    "duration": 109,
    "start_time": "2025-02-01T19:27:25.326Z"
   },
   {
    "duration": 9,
    "start_time": "2025-02-01T19:27:25.437Z"
   },
   {
    "duration": 32,
    "start_time": "2025-02-01T19:27:25.447Z"
   },
   {
    "duration": 9,
    "start_time": "2025-02-01T19:27:25.481Z"
   },
   {
    "duration": 19,
    "start_time": "2025-02-01T19:27:26.072Z"
   },
   {
    "duration": 3,
    "start_time": "2025-02-01T19:27:26.780Z"
   },
   {
    "duration": 10,
    "start_time": "2025-02-01T19:27:27.269Z"
   },
   {
    "duration": 11,
    "start_time": "2025-02-01T19:27:27.644Z"
   },
   {
    "duration": 11,
    "start_time": "2025-02-01T19:27:27.863Z"
   },
   {
    "duration": 12,
    "start_time": "2025-02-01T19:27:27.973Z"
   },
   {
    "duration": 5,
    "start_time": "2025-02-01T19:27:28.196Z"
   },
   {
    "duration": 12,
    "start_time": "2025-02-01T19:27:28.308Z"
   },
   {
    "duration": 17,
    "start_time": "2025-02-01T19:27:28.539Z"
   },
   {
    "duration": 9,
    "start_time": "2025-02-01T19:27:28.999Z"
   },
   {
    "duration": 10,
    "start_time": "2025-02-01T19:27:29.108Z"
   },
   {
    "duration": 9,
    "start_time": "2025-02-01T19:27:29.507Z"
   },
   {
    "duration": 9,
    "start_time": "2025-02-01T19:27:29.596Z"
   },
   {
    "duration": 9,
    "start_time": "2025-02-01T19:27:29.862Z"
   },
   {
    "duration": 9,
    "start_time": "2025-02-01T19:27:30.018Z"
   },
   {
    "duration": 15,
    "start_time": "2025-02-01T19:27:30.151Z"
   },
   {
    "duration": 9,
    "start_time": "2025-02-01T19:27:30.792Z"
   },
   {
    "duration": 9,
    "start_time": "2025-02-01T19:27:30.926Z"
   },
   {
    "duration": 5,
    "start_time": "2025-02-01T19:27:31.664Z"
   },
   {
    "duration": 4,
    "start_time": "2025-02-01T19:27:32.173Z"
   },
   {
    "duration": 6,
    "start_time": "2025-02-01T19:27:32.701Z"
   },
   {
    "duration": 9,
    "start_time": "2025-02-01T19:27:32.947Z"
   },
   {
    "duration": 4,
    "start_time": "2025-02-01T19:27:38.320Z"
   },
   {
    "duration": 4,
    "start_time": "2025-02-01T19:27:38.497Z"
   },
   {
    "duration": 4,
    "start_time": "2025-02-01T19:27:38.764Z"
   },
   {
    "duration": 5,
    "start_time": "2025-02-01T19:27:39.317Z"
   },
   {
    "duration": 8,
    "start_time": "2025-02-01T19:29:23.774Z"
   },
   {
    "duration": 10,
    "start_time": "2025-02-01T19:29:38.602Z"
   },
   {
    "duration": 10,
    "start_time": "2025-02-01T19:30:29.563Z"
   },
   {
    "duration": 10,
    "start_time": "2025-02-01T19:30:32.217Z"
   },
   {
    "duration": 10,
    "start_time": "2025-02-01T19:30:51.050Z"
   },
   {
    "duration": 72,
    "start_time": "2025-02-01T19:31:28.924Z"
   },
   {
    "duration": 5,
    "start_time": "2025-02-01T19:33:08.979Z"
   },
   {
    "duration": 9,
    "start_time": "2025-02-01T19:33:56.410Z"
   },
   {
    "duration": 66,
    "start_time": "2025-02-01T19:35:43.595Z"
   },
   {
    "duration": 10,
    "start_time": "2025-02-01T19:36:03.709Z"
   },
   {
    "duration": 16,
    "start_time": "2025-02-01T19:36:27.937Z"
   },
   {
    "duration": 3,
    "start_time": "2025-02-01T19:37:13.721Z"
   },
   {
    "duration": 385,
    "start_time": "2025-02-01T19:37:13.874Z"
   },
   {
    "duration": 108,
    "start_time": "2025-02-01T19:37:14.261Z"
   },
   {
    "duration": 10,
    "start_time": "2025-02-01T19:37:14.607Z"
   },
   {
    "duration": 16,
    "start_time": "2025-02-01T19:37:14.784Z"
   },
   {
    "duration": 10,
    "start_time": "2025-02-01T19:37:14.942Z"
   },
   {
    "duration": 12,
    "start_time": "2025-02-01T19:37:15.256Z"
   },
   {
    "duration": 3,
    "start_time": "2025-02-01T19:37:16.125Z"
   },
   {
    "duration": 10,
    "start_time": "2025-02-01T19:37:16.437Z"
   },
   {
    "duration": 9,
    "start_time": "2025-02-01T19:37:17.083Z"
   },
   {
    "duration": 12,
    "start_time": "2025-02-01T19:37:17.391Z"
   },
   {
    "duration": 14,
    "start_time": "2025-02-01T19:37:17.547Z"
   },
   {
    "duration": 5,
    "start_time": "2025-02-01T19:37:17.858Z"
   },
   {
    "duration": 14,
    "start_time": "2025-02-01T19:37:17.993Z"
   },
   {
    "duration": 18,
    "start_time": "2025-02-01T19:37:18.433Z"
   },
   {
    "duration": 9,
    "start_time": "2025-02-01T19:37:19.212Z"
   },
   {
    "duration": 10,
    "start_time": "2025-02-01T19:37:19.345Z"
   },
   {
    "duration": 9,
    "start_time": "2025-02-01T19:37:19.787Z"
   },
   {
    "duration": 9,
    "start_time": "2025-02-01T19:37:19.967Z"
   },
   {
    "duration": 9,
    "start_time": "2025-02-01T19:37:20.121Z"
   },
   {
    "duration": 8,
    "start_time": "2025-02-01T19:37:20.273Z"
   },
   {
    "duration": 12,
    "start_time": "2025-02-01T19:37:20.452Z"
   },
   {
    "duration": 9,
    "start_time": "2025-02-01T19:37:20.781Z"
   },
   {
    "duration": 8,
    "start_time": "2025-02-01T19:37:20.965Z"
   },
   {
    "duration": 6,
    "start_time": "2025-02-01T19:37:21.761Z"
   },
   {
    "duration": 5,
    "start_time": "2025-02-01T19:37:21.964Z"
   },
   {
    "duration": 6,
    "start_time": "2025-02-01T19:37:22.299Z"
   },
   {
    "duration": 8,
    "start_time": "2025-02-01T19:37:22.453Z"
   },
   {
    "duration": 8,
    "start_time": "2025-02-01T19:37:23.319Z"
   },
   {
    "duration": 5,
    "start_time": "2025-02-01T19:37:23.474Z"
   },
   {
    "duration": 3,
    "start_time": "2025-02-01T19:37:23.652Z"
   },
   {
    "duration": 4,
    "start_time": "2025-02-01T19:37:23.808Z"
   },
   {
    "duration": 5,
    "start_time": "2025-02-01T19:37:24.011Z"
   },
   {
    "duration": 9,
    "start_time": "2025-02-01T19:37:24.343Z"
   },
   {
    "duration": 66,
    "start_time": "2025-02-01T19:42:39.460Z"
   },
   {
    "duration": 18,
    "start_time": "2025-02-01T19:42:52.364Z"
   },
   {
    "duration": 72,
    "start_time": "2025-02-01T19:44:21.503Z"
   },
   {
    "duration": 79,
    "start_time": "2025-02-01T19:44:25.994Z"
   },
   {
    "duration": 7,
    "start_time": "2025-02-01T19:44:35.600Z"
   },
   {
    "duration": 7,
    "start_time": "2025-02-01T19:47:40.437Z"
   },
   {
    "duration": 7,
    "start_time": "2025-02-01T19:47:51.343Z"
   },
   {
    "duration": 7,
    "start_time": "2025-02-01T19:47:57.520Z"
   },
   {
    "duration": 8,
    "start_time": "2025-02-01T19:48:42.385Z"
   },
   {
    "duration": 7,
    "start_time": "2025-02-01T19:48:55.502Z"
   },
   {
    "duration": 6,
    "start_time": "2025-02-01T19:50:04.107Z"
   },
   {
    "duration": 6,
    "start_time": "2025-02-01T19:51:59.327Z"
   },
   {
    "duration": 7,
    "start_time": "2025-02-01T19:52:05.535Z"
   },
   {
    "duration": 7,
    "start_time": "2025-02-01T19:54:31.815Z"
   },
   {
    "duration": 7,
    "start_time": "2025-02-01T19:54:34.573Z"
   },
   {
    "duration": 8,
    "start_time": "2025-02-01T19:54:52.863Z"
   },
   {
    "duration": 6,
    "start_time": "2025-02-01T19:54:55.384Z"
   },
   {
    "duration": 8,
    "start_time": "2025-02-01T19:55:00.677Z"
   },
   {
    "duration": 3,
    "start_time": "2025-02-01T19:55:16.861Z"
   },
   {
    "duration": 391,
    "start_time": "2025-02-01T19:55:17.216Z"
   },
   {
    "duration": 136,
    "start_time": "2025-02-01T19:55:17.608Z"
   },
   {
    "duration": 9,
    "start_time": "2025-02-01T19:55:18.153Z"
   },
   {
    "duration": 14,
    "start_time": "2025-02-01T19:55:18.330Z"
   },
   {
    "duration": 9,
    "start_time": "2025-02-01T19:55:18.490Z"
   },
   {
    "duration": 12,
    "start_time": "2025-02-01T19:55:18.819Z"
   },
   {
    "duration": 3,
    "start_time": "2025-02-01T19:55:19.771Z"
   },
   {
    "duration": 10,
    "start_time": "2025-02-01T19:55:20.146Z"
   },
   {
    "duration": 13,
    "start_time": "2025-02-01T19:55:20.789Z"
   },
   {
    "duration": 13,
    "start_time": "2025-02-01T19:55:21.077Z"
   },
   {
    "duration": 13,
    "start_time": "2025-02-01T19:55:21.256Z"
   },
   {
    "duration": 6,
    "start_time": "2025-02-01T19:55:21.592Z"
   },
   {
    "duration": 14,
    "start_time": "2025-02-01T19:55:21.748Z"
   },
   {
    "duration": 18,
    "start_time": "2025-02-01T19:55:22.190Z"
   },
   {
    "duration": 9,
    "start_time": "2025-02-01T19:55:22.967Z"
   },
   {
    "duration": 9,
    "start_time": "2025-02-01T19:55:23.122Z"
   },
   {
    "duration": 9,
    "start_time": "2025-02-01T19:55:23.611Z"
   },
   {
    "duration": 8,
    "start_time": "2025-02-01T19:55:23.788Z"
   },
   {
    "duration": 9,
    "start_time": "2025-02-01T19:55:23.962Z"
   },
   {
    "duration": 8,
    "start_time": "2025-02-01T19:55:24.116Z"
   },
   {
    "duration": 11,
    "start_time": "2025-02-01T19:55:24.270Z"
   },
   {
    "duration": 9,
    "start_time": "2025-02-01T19:55:24.584Z"
   },
   {
    "duration": 8,
    "start_time": "2025-02-01T19:55:24.741Z"
   },
   {
    "duration": 4,
    "start_time": "2025-02-01T19:55:25.186Z"
   },
   {
    "duration": 5,
    "start_time": "2025-02-01T19:55:25.407Z"
   },
   {
    "duration": 6,
    "start_time": "2025-02-01T19:55:25.740Z"
   },
   {
    "duration": 14,
    "start_time": "2025-02-01T19:55:26.050Z"
   },
   {
    "duration": 7,
    "start_time": "2025-02-01T19:55:26.915Z"
   },
   {
    "duration": 4,
    "start_time": "2025-02-01T19:55:27.138Z"
   },
   {
    "duration": 5,
    "start_time": "2025-02-01T19:55:27.382Z"
   },
   {
    "duration": 4,
    "start_time": "2025-02-01T19:55:27.626Z"
   },
   {
    "duration": 4,
    "start_time": "2025-02-01T19:55:27.781Z"
   },
   {
    "duration": 11,
    "start_time": "2025-02-01T19:55:28.228Z"
   },
   {
    "duration": 7,
    "start_time": "2025-02-01T19:55:28.849Z"
   },
   {
    "duration": 9,
    "start_time": "2025-02-01T19:55:29.336Z"
   },
   {
    "duration": 8,
    "start_time": "2025-02-01T19:55:39.291Z"
   },
   {
    "duration": 15,
    "start_time": "2025-02-01T19:55:55.807Z"
   },
   {
    "duration": 18,
    "start_time": "2025-02-01T19:56:15.167Z"
   },
   {
    "duration": 7,
    "start_time": "2025-02-01T19:57:01.788Z"
   },
   {
    "duration": 15,
    "start_time": "2025-02-01T19:58:10.066Z"
   },
   {
    "duration": 15,
    "start_time": "2025-02-01T19:58:13.213Z"
   },
   {
    "duration": 14,
    "start_time": "2025-02-01T19:58:17.123Z"
   },
   {
    "duration": 105,
    "start_time": "2025-02-01T19:58:50.054Z"
   },
   {
    "duration": 67,
    "start_time": "2025-02-01T20:00:08.619Z"
   },
   {
    "duration": 3,
    "start_time": "2025-02-01T20:01:00.960Z"
   },
   {
    "duration": 8,
    "start_time": "2025-02-01T20:03:08.357Z"
   },
   {
    "duration": 9,
    "start_time": "2025-02-01T20:03:18.969Z"
   },
   {
    "duration": 3,
    "start_time": "2025-02-01T20:03:26.367Z"
   },
   {
    "duration": 419,
    "start_time": "2025-02-01T20:03:26.523Z"
   },
   {
    "duration": 96,
    "start_time": "2025-02-01T20:03:26.944Z"
   },
   {
    "duration": 9,
    "start_time": "2025-02-01T20:03:27.042Z"
   },
   {
    "duration": 22,
    "start_time": "2025-02-01T20:03:27.052Z"
   },
   {
    "duration": 10,
    "start_time": "2025-02-01T20:03:27.495Z"
   },
   {
    "duration": 30,
    "start_time": "2025-02-01T20:03:27.560Z"
   },
   {
    "duration": 3,
    "start_time": "2025-02-01T20:03:27.753Z"
   },
   {
    "duration": 9,
    "start_time": "2025-02-01T20:03:27.824Z"
   },
   {
    "duration": 10,
    "start_time": "2025-02-01T20:03:27.947Z"
   },
   {
    "duration": 10,
    "start_time": "2025-02-01T20:03:28.015Z"
   },
   {
    "duration": 12,
    "start_time": "2025-02-01T20:03:28.044Z"
   },
   {
    "duration": 5,
    "start_time": "2025-02-01T20:03:28.110Z"
   },
   {
    "duration": 13,
    "start_time": "2025-02-01T20:03:28.142Z"
   },
   {
    "duration": 20,
    "start_time": "2025-02-01T20:03:28.241Z"
   },
   {
    "duration": 10,
    "start_time": "2025-02-01T20:03:29.311Z"
   },
   {
    "duration": 11,
    "start_time": "2025-02-01T20:03:29.378Z"
   },
   {
    "duration": 10,
    "start_time": "2025-02-01T20:03:29.480Z"
   },
   {
    "duration": 8,
    "start_time": "2025-02-01T20:03:29.506Z"
   },
   {
    "duration": 32,
    "start_time": "2025-02-01T20:03:29.537Z"
   },
   {
    "duration": 11,
    "start_time": "2025-02-01T20:03:29.572Z"
   },
   {
    "duration": 11,
    "start_time": "2025-02-01T20:03:29.602Z"
   },
   {
    "duration": 9,
    "start_time": "2025-02-01T20:03:29.671Z"
   },
   {
    "duration": 10,
    "start_time": "2025-02-01T20:03:29.699Z"
   },
   {
    "duration": 4,
    "start_time": "2025-02-01T20:03:29.828Z"
   },
   {
    "duration": 62,
    "start_time": "2025-02-01T20:03:29.860Z"
   },
   {
    "duration": 5,
    "start_time": "2025-02-01T20:03:29.926Z"
   },
   {
    "duration": 8,
    "start_time": "2025-02-01T20:03:29.956Z"
   },
   {
    "duration": 8,
    "start_time": "2025-02-01T20:03:31.928Z"
   },
   {
    "duration": 4,
    "start_time": "2025-02-01T20:03:32.060Z"
   },
   {
    "duration": 5,
    "start_time": "2025-02-01T20:03:32.191Z"
   },
   {
    "duration": 4,
    "start_time": "2025-02-01T20:03:32.322Z"
   },
   {
    "duration": 4,
    "start_time": "2025-02-01T20:03:32.706Z"
   },
   {
    "duration": 11,
    "start_time": "2025-02-01T20:03:33.859Z"
   },
   {
    "duration": 6,
    "start_time": "2025-02-01T20:03:36.628Z"
   },
   {
    "duration": 7,
    "start_time": "2025-02-01T20:03:47.873Z"
   },
   {
    "duration": 15,
    "start_time": "2025-02-01T20:03:50.217Z"
   },
   {
    "duration": 3,
    "start_time": "2025-02-01T20:03:55.941Z"
   },
   {
    "duration": 14,
    "start_time": "2025-02-01T20:04:11.181Z"
   },
   {
    "duration": 60,
    "start_time": "2025-02-01T20:04:15.675Z"
   },
   {
    "duration": 7,
    "start_time": "2025-02-01T20:04:19.705Z"
   },
   {
    "duration": 3,
    "start_time": "2025-02-01T20:04:37.293Z"
   },
   {
    "duration": 7,
    "start_time": "2025-02-01T20:05:57.735Z"
   },
   {
    "duration": 7,
    "start_time": "2025-02-01T20:06:14.105Z"
   },
   {
    "duration": 7,
    "start_time": "2025-02-01T20:06:31.379Z"
   },
   {
    "duration": 7,
    "start_time": "2025-02-01T20:06:54.411Z"
   },
   {
    "duration": 6,
    "start_time": "2025-02-01T20:07:50.830Z"
   },
   {
    "duration": 3,
    "start_time": "2025-02-01T20:08:20.859Z"
   },
   {
    "duration": 3,
    "start_time": "2025-02-01T20:08:31.522Z"
   },
   {
    "duration": 7,
    "start_time": "2025-02-01T20:09:39.700Z"
   },
   {
    "duration": 5,
    "start_time": "2025-02-01T20:11:23.358Z"
   },
   {
    "duration": 9,
    "start_time": "2025-02-01T20:11:36.837Z"
   },
   {
    "duration": 2,
    "start_time": "2025-02-01T20:11:45.780Z"
   },
   {
    "duration": 3,
    "start_time": "2025-02-01T20:11:55.508Z"
   },
   {
    "duration": 409,
    "start_time": "2025-02-01T20:11:55.539Z"
   },
   {
    "duration": 116,
    "start_time": "2025-02-01T20:11:55.950Z"
   },
   {
    "duration": 12,
    "start_time": "2025-02-01T20:11:56.069Z"
   },
   {
    "duration": 21,
    "start_time": "2025-02-01T20:11:56.084Z"
   },
   {
    "duration": 10,
    "start_time": "2025-02-01T20:11:56.106Z"
   },
   {
    "duration": 33,
    "start_time": "2025-02-01T20:11:56.118Z"
   },
   {
    "duration": 3,
    "start_time": "2025-02-01T20:11:56.153Z"
   },
   {
    "duration": 14,
    "start_time": "2025-02-01T20:11:56.157Z"
   },
   {
    "duration": 13,
    "start_time": "2025-02-01T20:11:56.173Z"
   },
   {
    "duration": 11,
    "start_time": "2025-02-01T20:11:56.223Z"
   },
   {
    "duration": 13,
    "start_time": "2025-02-01T20:11:56.251Z"
   },
   {
    "duration": 6,
    "start_time": "2025-02-01T20:11:56.317Z"
   },
   {
    "duration": 14,
    "start_time": "2025-02-01T20:11:56.351Z"
   },
   {
    "duration": 18,
    "start_time": "2025-02-01T20:11:56.447Z"
   },
   {
    "duration": 9,
    "start_time": "2025-02-01T20:11:56.610Z"
   },
   {
    "duration": 9,
    "start_time": "2025-02-01T20:11:56.671Z"
   },
   {
    "duration": 9,
    "start_time": "2025-02-01T20:11:56.770Z"
   },
   {
    "duration": 8,
    "start_time": "2025-02-01T20:11:56.801Z"
   },
   {
    "duration": 8,
    "start_time": "2025-02-01T20:11:56.839Z"
   },
   {
    "duration": 8,
    "start_time": "2025-02-01T20:11:56.866Z"
   },
   {
    "duration": 11,
    "start_time": "2025-02-01T20:11:56.900Z"
   },
   {
    "duration": 8,
    "start_time": "2025-02-01T20:11:57.759Z"
   },
   {
    "duration": 8,
    "start_time": "2025-02-01T20:11:58.262Z"
   },
   {
    "duration": 4,
    "start_time": "2025-02-01T20:11:58.391Z"
   },
   {
    "duration": 5,
    "start_time": "2025-02-01T20:11:58.423Z"
   },
   {
    "duration": 5,
    "start_time": "2025-02-01T20:11:58.489Z"
   },
   {
    "duration": 8,
    "start_time": "2025-02-01T20:11:58.521Z"
   },
   {
    "duration": 8,
    "start_time": "2025-02-01T20:11:58.747Z"
   },
   {
    "duration": 4,
    "start_time": "2025-02-01T20:11:58.779Z"
   },
   {
    "duration": 4,
    "start_time": "2025-02-01T20:11:58.812Z"
   },
   {
    "duration": 4,
    "start_time": "2025-02-01T20:11:58.846Z"
   },
   {
    "duration": 4,
    "start_time": "2025-02-01T20:11:58.879Z"
   },
   {
    "duration": 10,
    "start_time": "2025-02-01T20:11:58.947Z"
   },
   {
    "duration": 39,
    "start_time": "2025-02-01T20:11:59.040Z"
   },
   {
    "duration": 2,
    "start_time": "2025-02-01T20:11:59.104Z"
   },
   {
    "duration": 9,
    "start_time": "2025-02-01T20:11:59.167Z"
   },
   {
    "duration": 14,
    "start_time": "2025-02-01T20:11:59.234Z"
   },
   {
    "duration": 3,
    "start_time": "2025-02-01T20:11:59.330Z"
   },
   {
    "duration": 3,
    "start_time": "2025-02-01T20:11:59.362Z"
   },
   {
    "duration": 57,
    "start_time": "2025-02-01T20:12:14.450Z"
   },
   {
    "duration": 7,
    "start_time": "2025-02-01T20:12:38.060Z"
   },
   {
    "duration": 7,
    "start_time": "2025-02-01T20:12:55.740Z"
   },
   {
    "duration": 7,
    "start_time": "2025-02-01T20:13:11.073Z"
   },
   {
    "duration": 7,
    "start_time": "2025-02-01T20:13:18.549Z"
   },
   {
    "duration": 8,
    "start_time": "2025-02-01T20:13:20.663Z"
   },
   {
    "duration": 12,
    "start_time": "2025-02-01T20:14:33.772Z"
   },
   {
    "duration": 6,
    "start_time": "2025-02-01T20:14:54.862Z"
   },
   {
    "duration": 6,
    "start_time": "2025-02-01T20:16:43.106Z"
   },
   {
    "duration": 3,
    "start_time": "2025-02-01T20:17:02.135Z"
   },
   {
    "duration": 431,
    "start_time": "2025-02-01T20:17:02.637Z"
   },
   {
    "duration": 100,
    "start_time": "2025-02-01T20:17:03.070Z"
   },
   {
    "duration": 10,
    "start_time": "2025-02-01T20:17:03.171Z"
   },
   {
    "duration": 16,
    "start_time": "2025-02-01T20:17:03.183Z"
   },
   {
    "duration": 26,
    "start_time": "2025-02-01T20:17:03.201Z"
   },
   {
    "duration": 21,
    "start_time": "2025-02-01T20:17:03.229Z"
   },
   {
    "duration": 39,
    "start_time": "2025-02-01T20:17:03.251Z"
   },
   {
    "duration": 25,
    "start_time": "2025-02-01T20:17:03.292Z"
   },
   {
    "duration": 20,
    "start_time": "2025-02-01T20:17:03.318Z"
   },
   {
    "duration": 17,
    "start_time": "2025-02-01T20:17:03.340Z"
   },
   {
    "duration": 26,
    "start_time": "2025-02-01T20:17:03.359Z"
   },
   {
    "duration": 5,
    "start_time": "2025-02-01T20:17:03.417Z"
   },
   {
    "duration": 14,
    "start_time": "2025-02-01T20:17:03.444Z"
   },
   {
    "duration": 19,
    "start_time": "2025-02-01T20:17:03.546Z"
   },
   {
    "duration": 8,
    "start_time": "2025-02-01T20:17:03.703Z"
   },
   {
    "duration": 10,
    "start_time": "2025-02-01T20:17:03.772Z"
   },
   {
    "duration": 10,
    "start_time": "2025-02-01T20:17:03.868Z"
   },
   {
    "duration": 9,
    "start_time": "2025-02-01T20:17:03.896Z"
   },
   {
    "duration": 9,
    "start_time": "2025-02-01T20:17:03.935Z"
   },
   {
    "duration": 8,
    "start_time": "2025-02-01T20:17:03.962Z"
   },
   {
    "duration": 11,
    "start_time": "2025-02-01T20:17:03.994Z"
   },
   {
    "duration": 9,
    "start_time": "2025-02-01T20:17:04.065Z"
   },
   {
    "duration": 8,
    "start_time": "2025-02-01T20:17:04.095Z"
   },
   {
    "duration": 5,
    "start_time": "2025-02-01T20:17:04.220Z"
   },
   {
    "duration": 5,
    "start_time": "2025-02-01T20:17:04.252Z"
   },
   {
    "duration": 6,
    "start_time": "2025-02-01T20:17:04.317Z"
   },
   {
    "duration": 8,
    "start_time": "2025-02-01T20:17:04.350Z"
   },
   {
    "duration": 8,
    "start_time": "2025-02-01T20:17:04.577Z"
   },
   {
    "duration": 4,
    "start_time": "2025-02-01T20:17:04.607Z"
   },
   {
    "duration": 4,
    "start_time": "2025-02-01T20:17:04.640Z"
   },
   {
    "duration": 4,
    "start_time": "2025-02-01T20:17:04.673Z"
   },
   {
    "duration": 4,
    "start_time": "2025-02-01T20:17:04.710Z"
   },
   {
    "duration": 10,
    "start_time": "2025-02-01T20:17:04.770Z"
   },
   {
    "duration": 7,
    "start_time": "2025-02-01T20:17:06.008Z"
   },
   {
    "duration": 7,
    "start_time": "2025-02-01T20:17:06.076Z"
   },
   {
    "duration": 8,
    "start_time": "2025-02-01T20:17:06.137Z"
   },
   {
    "duration": 7,
    "start_time": "2025-02-01T20:17:06.204Z"
   },
   {
    "duration": 17,
    "start_time": "2025-02-01T20:17:06.265Z"
   },
   {
    "duration": 3,
    "start_time": "2025-02-01T20:17:06.362Z"
   },
   {
    "duration": 4,
    "start_time": "2025-02-01T20:17:06.393Z"
   },
   {
    "duration": 2,
    "start_time": "2025-02-01T20:17:06.460Z"
   },
   {
    "duration": 3,
    "start_time": "2025-02-01T20:17:50.527Z"
   },
   {
    "duration": 6,
    "start_time": "2025-02-01T20:18:35.226Z"
   },
   {
    "duration": 3,
    "start_time": "2025-02-01T20:18:47.863Z"
   },
   {
    "duration": 370,
    "start_time": "2025-02-01T20:18:48.173Z"
   },
   {
    "duration": 93,
    "start_time": "2025-02-01T20:18:48.679Z"
   },
   {
    "duration": 9,
    "start_time": "2025-02-01T20:18:48.774Z"
   },
   {
    "duration": 15,
    "start_time": "2025-02-01T20:18:48.784Z"
   },
   {
    "duration": 9,
    "start_time": "2025-02-01T20:18:48.805Z"
   },
   {
    "duration": 12,
    "start_time": "2025-02-01T20:18:48.871Z"
   },
   {
    "duration": 3,
    "start_time": "2025-02-01T20:18:49.065Z"
   },
   {
    "duration": 9,
    "start_time": "2025-02-01T20:18:49.136Z"
   },
   {
    "duration": 9,
    "start_time": "2025-02-01T20:18:49.260Z"
   },
   {
    "duration": 10,
    "start_time": "2025-02-01T20:18:49.326Z"
   },
   {
    "duration": 12,
    "start_time": "2025-02-01T20:18:49.356Z"
   },
   {
    "duration": 5,
    "start_time": "2025-02-01T20:18:49.428Z"
   },
   {
    "duration": 13,
    "start_time": "2025-02-01T20:18:49.457Z"
   },
   {
    "duration": 18,
    "start_time": "2025-02-01T20:18:49.554Z"
   },
   {
    "duration": 9,
    "start_time": "2025-02-01T20:18:49.713Z"
   },
   {
    "duration": 9,
    "start_time": "2025-02-01T20:18:49.783Z"
   },
   {
    "duration": 9,
    "start_time": "2025-02-01T20:18:49.875Z"
   },
   {
    "duration": 45,
    "start_time": "2025-02-01T20:18:49.909Z"
   },
   {
    "duration": 13,
    "start_time": "2025-02-01T20:18:49.956Z"
   },
   {
    "duration": 16,
    "start_time": "2025-02-01T20:18:49.972Z"
   },
   {
    "duration": 11,
    "start_time": "2025-02-01T20:18:50.009Z"
   },
   {
    "duration": 8,
    "start_time": "2025-02-01T20:18:50.074Z"
   },
   {
    "duration": 8,
    "start_time": "2025-02-01T20:18:50.104Z"
   },
   {
    "duration": 5,
    "start_time": "2025-02-01T20:18:50.231Z"
   },
   {
    "duration": 5,
    "start_time": "2025-02-01T20:18:50.263Z"
   },
   {
    "duration": 7,
    "start_time": "2025-02-01T20:18:50.328Z"
   },
   {
    "duration": 10,
    "start_time": "2025-02-01T20:18:50.360Z"
   },
   {
    "duration": 9,
    "start_time": "2025-02-01T20:18:52.056Z"
   },
   {
    "duration": 4,
    "start_time": "2025-02-01T20:18:52.210Z"
   },
   {
    "duration": 4,
    "start_time": "2025-02-01T20:18:52.366Z"
   },
   {
    "duration": 5,
    "start_time": "2025-02-01T20:18:52.701Z"
   },
   {
    "duration": 4,
    "start_time": "2025-02-01T20:18:52.790Z"
   },
   {
    "duration": 10,
    "start_time": "2025-02-01T20:18:53.278Z"
   },
   {
    "duration": 7,
    "start_time": "2025-02-01T20:18:54.917Z"
   },
   {
    "duration": 3,
    "start_time": "2025-02-01T20:18:55.827Z"
   },
   {
    "duration": 8,
    "start_time": "2025-02-01T20:18:56.557Z"
   },
   {
    "duration": 7,
    "start_time": "2025-02-01T20:18:57.179Z"
   },
   {
    "duration": 16,
    "start_time": "2025-02-01T20:18:58.843Z"
   },
   {
    "duration": 3,
    "start_time": "2025-02-01T20:19:01.997Z"
   },
   {
    "duration": 4,
    "start_time": "2025-02-01T20:19:02.239Z"
   },
   {
    "duration": 3,
    "start_time": "2025-02-01T20:19:03.082Z"
   },
   {
    "duration": 95,
    "start_time": "2025-02-01T20:22:57.995Z"
   },
   {
    "duration": 8,
    "start_time": "2025-02-01T20:23:03.327Z"
   },
   {
    "duration": 10,
    "start_time": "2025-02-01T20:23:18.349Z"
   },
   {
    "duration": 8,
    "start_time": "2025-02-01T20:25:30.778Z"
   },
   {
    "duration": 3,
    "start_time": "2025-02-01T20:25:44.930Z"
   },
   {
    "duration": 355,
    "start_time": "2025-02-01T20:25:45.087Z"
   },
   {
    "duration": 97,
    "start_time": "2025-02-01T20:25:45.443Z"
   },
   {
    "duration": 9,
    "start_time": "2025-02-01T20:25:45.807Z"
   },
   {
    "duration": 15,
    "start_time": "2025-02-01T20:25:45.839Z"
   },
   {
    "duration": 9,
    "start_time": "2025-02-01T20:25:45.871Z"
   },
   {
    "duration": 12,
    "start_time": "2025-02-01T20:25:45.938Z"
   },
   {
    "duration": 3,
    "start_time": "2025-02-01T20:25:48.079Z"
   },
   {
    "duration": 10,
    "start_time": "2025-02-01T20:25:48.787Z"
   },
   {
    "duration": 10,
    "start_time": "2025-02-01T20:25:50.889Z"
   },
   {
    "duration": 10,
    "start_time": "2025-02-01T20:25:51.665Z"
   },
   {
    "duration": 13,
    "start_time": "2025-02-01T20:25:51.956Z"
   },
   {
    "duration": 6,
    "start_time": "2025-02-01T20:25:56.433Z"
   },
   {
    "duration": 13,
    "start_time": "2025-02-01T20:25:56.611Z"
   },
   {
    "duration": 19,
    "start_time": "2025-02-01T20:25:58.947Z"
   },
   {
    "duration": 4,
    "start_time": "2025-02-01T20:26:09.673Z"
   },
   {
    "duration": 424,
    "start_time": "2025-02-01T20:26:10.026Z"
   },
   {
    "duration": 90,
    "start_time": "2025-02-01T20:26:10.452Z"
   },
   {
    "duration": 9,
    "start_time": "2025-02-01T20:26:13.085Z"
   },
   {
    "duration": 14,
    "start_time": "2025-02-01T20:26:15.048Z"
   },
   {
    "duration": 3,
    "start_time": "2025-02-01T20:27:34.034Z"
   },
   {
    "duration": 9,
    "start_time": "2025-02-01T20:27:38.963Z"
   },
   {
    "duration": 16,
    "start_time": "2025-02-01T20:27:39.820Z"
   },
   {
    "duration": 4,
    "start_time": "2025-02-01T20:27:40.013Z"
   },
   {
    "duration": 9,
    "start_time": "2025-02-01T20:27:40.078Z"
   },
   {
    "duration": 10,
    "start_time": "2025-02-01T20:27:40.208Z"
   },
   {
    "duration": 11,
    "start_time": "2025-02-01T20:27:40.272Z"
   },
   {
    "duration": 13,
    "start_time": "2025-02-01T20:27:40.304Z"
   },
   {
    "duration": 5,
    "start_time": "2025-02-01T20:27:40.370Z"
   },
   {
    "duration": 14,
    "start_time": "2025-02-01T20:27:40.400Z"
   },
   {
    "duration": 18,
    "start_time": "2025-02-01T20:27:40.501Z"
   },
   {
    "duration": 9,
    "start_time": "2025-02-01T20:27:40.660Z"
   },
   {
    "duration": 9,
    "start_time": "2025-02-01T20:27:40.729Z"
   },
   {
    "duration": 9,
    "start_time": "2025-02-01T20:27:40.823Z"
   },
   {
    "duration": 9,
    "start_time": "2025-02-01T20:27:40.855Z"
   },
   {
    "duration": 8,
    "start_time": "2025-02-01T20:27:40.889Z"
   },
   {
    "duration": 8,
    "start_time": "2025-02-01T20:27:40.923Z"
   },
   {
    "duration": 12,
    "start_time": "2025-02-01T20:27:40.951Z"
   },
   {
    "duration": 9,
    "start_time": "2025-02-01T20:27:41.015Z"
   },
   {
    "duration": 8,
    "start_time": "2025-02-01T20:27:41.054Z"
   },
   {
    "duration": 4,
    "start_time": "2025-02-01T20:27:42.167Z"
   },
   {
    "duration": 4,
    "start_time": "2025-02-01T20:27:42.346Z"
   },
   {
    "duration": 8,
    "start_time": "2025-02-01T20:27:42.698Z"
   },
   {
    "duration": 10,
    "start_time": "2025-02-01T20:27:42.872Z"
   },
   {
    "duration": 9,
    "start_time": "2025-02-01T20:27:44.298Z"
   },
   {
    "duration": 4,
    "start_time": "2025-02-01T20:27:44.454Z"
   },
   {
    "duration": 4,
    "start_time": "2025-02-01T20:27:44.609Z"
   },
   {
    "duration": 5,
    "start_time": "2025-02-01T20:27:44.742Z"
   },
   {
    "duration": 5,
    "start_time": "2025-02-01T20:27:44.873Z"
   },
   {
    "duration": 9,
    "start_time": "2025-02-01T20:27:45.161Z"
   },
   {
    "duration": 6,
    "start_time": "2025-02-01T20:27:45.588Z"
   },
   {
    "duration": 4,
    "start_time": "2025-02-01T20:27:47.943Z"
   },
   {
    "duration": 7,
    "start_time": "2025-02-01T20:27:48.256Z"
   },
   {
    "duration": 7,
    "start_time": "2025-02-01T20:27:48.547Z"
   },
   {
    "duration": 16,
    "start_time": "2025-02-01T20:27:48.812Z"
   },
   {
    "duration": 3,
    "start_time": "2025-02-01T20:27:51.340Z"
   },
   {
    "duration": 3,
    "start_time": "2025-02-01T20:27:51.498Z"
   },
   {
    "duration": 2,
    "start_time": "2025-02-01T20:27:52.160Z"
   },
   {
    "duration": 3,
    "start_time": "2025-02-01T20:28:21.504Z"
   },
   {
    "duration": 3,
    "start_time": "2025-02-01T20:28:31.540Z"
   },
   {
    "duration": 4,
    "start_time": "2025-02-01T20:29:35.776Z"
   },
   {
    "duration": 62,
    "start_time": "2025-02-01T20:31:17.366Z"
   },
   {
    "duration": 84,
    "start_time": "2025-02-01T20:31:22.848Z"
   },
   {
    "duration": 13,
    "start_time": "2025-02-01T20:31:29.487Z"
   },
   {
    "duration": 4,
    "start_time": "2025-02-01T20:38:46.891Z"
   },
   {
    "duration": 6,
    "start_time": "2025-02-01T20:39:26.079Z"
   },
   {
    "duration": 11,
    "start_time": "2025-02-01T20:39:26.655Z"
   },
   {
    "duration": 18,
    "start_time": "2025-02-01T20:42:43.111Z"
   },
   {
    "duration": 4,
    "start_time": "2025-02-01T20:43:34.230Z"
   },
   {
    "duration": 444,
    "start_time": "2025-02-01T20:43:34.236Z"
   },
   {
    "duration": 117,
    "start_time": "2025-02-01T20:43:34.681Z"
   },
   {
    "duration": 9,
    "start_time": "2025-02-01T20:43:34.800Z"
   },
   {
    "duration": 94,
    "start_time": "2025-02-01T20:43:34.812Z"
   },
   {
    "duration": 37,
    "start_time": "2025-02-01T20:43:34.908Z"
   },
   {
    "duration": 46,
    "start_time": "2025-02-01T20:43:34.947Z"
   },
   {
    "duration": 13,
    "start_time": "2025-02-01T20:43:34.995Z"
   },
   {
    "duration": 19,
    "start_time": "2025-02-01T20:43:35.010Z"
   },
   {
    "duration": 62,
    "start_time": "2025-02-01T20:43:35.031Z"
   },
   {
    "duration": 151,
    "start_time": "2025-02-01T20:43:35.095Z"
   },
   {
    "duration": 38,
    "start_time": "2025-02-01T20:43:35.248Z"
   },
   {
    "duration": 29,
    "start_time": "2025-02-01T20:43:35.287Z"
   },
   {
    "duration": 15,
    "start_time": "2025-02-01T20:43:35.319Z"
   },
   {
    "duration": 35,
    "start_time": "2025-02-01T20:43:35.336Z"
   },
   {
    "duration": 41,
    "start_time": "2025-02-01T20:43:35.373Z"
   },
   {
    "duration": 30,
    "start_time": "2025-02-01T20:43:35.416Z"
   },
   {
    "duration": 50,
    "start_time": "2025-02-01T20:43:35.448Z"
   },
   {
    "duration": 31,
    "start_time": "2025-02-01T20:43:35.500Z"
   },
   {
    "duration": 8,
    "start_time": "2025-02-01T20:43:35.533Z"
   },
   {
    "duration": 24,
    "start_time": "2025-02-01T20:43:35.543Z"
   },
   {
    "duration": 20,
    "start_time": "2025-02-01T20:43:35.569Z"
   },
   {
    "duration": 23,
    "start_time": "2025-02-01T20:43:35.591Z"
   },
   {
    "duration": 119,
    "start_time": "2025-02-01T20:43:35.616Z"
   },
   {
    "duration": 9,
    "start_time": "2025-02-01T20:43:35.737Z"
   },
   {
    "duration": 28,
    "start_time": "2025-02-01T20:43:35.748Z"
   },
   {
    "duration": 53,
    "start_time": "2025-02-01T20:43:35.777Z"
   },
   {
    "duration": 23,
    "start_time": "2025-02-01T20:43:35.831Z"
   },
   {
    "duration": 24,
    "start_time": "2025-02-01T20:43:35.855Z"
   },
   {
    "duration": 26,
    "start_time": "2025-02-01T20:43:35.880Z"
   },
   {
    "duration": 20,
    "start_time": "2025-02-01T20:43:35.908Z"
   },
   {
    "duration": 6,
    "start_time": "2025-02-01T20:43:35.930Z"
   },
   {
    "duration": 34,
    "start_time": "2025-02-01T20:43:35.937Z"
   },
   {
    "duration": 14,
    "start_time": "2025-02-01T20:43:35.973Z"
   },
   {
    "duration": 124,
    "start_time": "2025-02-01T20:43:35.989Z"
   },
   {
    "duration": 25,
    "start_time": "2025-02-01T20:43:36.114Z"
   },
   {
    "duration": 9,
    "start_time": "2025-02-01T20:43:36.141Z"
   },
   {
    "duration": 21,
    "start_time": "2025-02-01T20:43:36.152Z"
   },
   {
    "duration": 14,
    "start_time": "2025-02-01T20:43:36.175Z"
   },
   {
    "duration": 30,
    "start_time": "2025-02-01T20:43:36.190Z"
   },
   {
    "duration": 3,
    "start_time": "2025-02-01T20:43:36.224Z"
   },
   {
    "duration": 4,
    "start_time": "2025-02-01T20:43:36.228Z"
   },
   {
    "duration": 4,
    "start_time": "2025-02-01T20:43:36.233Z"
   },
   {
    "duration": 6,
    "start_time": "2025-02-01T20:43:36.238Z"
   },
   {
    "duration": 17,
    "start_time": "2025-02-01T20:43:36.249Z"
   },
   {
    "duration": 54,
    "start_time": "2025-02-02T11:02:41.770Z"
   },
   {
    "duration": 7,
    "start_time": "2025-02-02T11:02:58.136Z"
   },
   {
    "duration": 3,
    "start_time": "2025-02-02T11:03:19.331Z"
   },
   {
    "duration": 455,
    "start_time": "2025-02-02T11:03:19.361Z"
   },
   {
    "duration": 96,
    "start_time": "2025-02-02T11:03:19.818Z"
   },
   {
    "duration": 10,
    "start_time": "2025-02-02T11:03:19.916Z"
   },
   {
    "duration": 20,
    "start_time": "2025-02-02T11:03:19.929Z"
   },
   {
    "duration": 4,
    "start_time": "2025-02-02T11:03:19.951Z"
   },
   {
    "duration": 12,
    "start_time": "2025-02-02T11:03:19.971Z"
   },
   {
    "duration": 16,
    "start_time": "2025-02-02T11:03:19.986Z"
   },
   {
    "duration": 18,
    "start_time": "2025-02-02T11:03:20.004Z"
   },
   {
    "duration": 13,
    "start_time": "2025-02-02T11:03:20.024Z"
   },
   {
    "duration": 40,
    "start_time": "2025-02-02T11:03:20.040Z"
   },
   {
    "duration": 48,
    "start_time": "2025-02-02T11:03:20.082Z"
   },
   {
    "duration": 59,
    "start_time": "2025-02-02T11:03:20.132Z"
   },
   {
    "duration": 33,
    "start_time": "2025-02-02T11:03:20.193Z"
   },
   {
    "duration": 22,
    "start_time": "2025-02-02T11:03:20.228Z"
   },
   {
    "duration": 21,
    "start_time": "2025-02-02T11:03:20.301Z"
   },
   {
    "duration": 10,
    "start_time": "2025-02-02T11:03:20.465Z"
   },
   {
    "duration": 11,
    "start_time": "2025-02-02T11:03:20.559Z"
   },
   {
    "duration": 11,
    "start_time": "2025-02-02T11:03:20.658Z"
   },
   {
    "duration": 10,
    "start_time": "2025-02-02T11:03:20.686Z"
   },
   {
    "duration": 11,
    "start_time": "2025-02-02T11:03:20.718Z"
   },
   {
    "duration": 11,
    "start_time": "2025-02-02T11:03:20.751Z"
   },
   {
    "duration": 15,
    "start_time": "2025-02-02T11:03:20.785Z"
   },
   {
    "duration": 11,
    "start_time": "2025-02-02T11:03:20.848Z"
   },
   {
    "duration": 10,
    "start_time": "2025-02-02T11:03:20.883Z"
   },
   {
    "duration": 5,
    "start_time": "2025-02-02T11:03:21.010Z"
   },
   {
    "duration": 6,
    "start_time": "2025-02-02T11:03:21.042Z"
   },
   {
    "duration": 8,
    "start_time": "2025-02-02T11:03:21.110Z"
   },
   {
    "duration": 10,
    "start_time": "2025-02-02T11:03:21.144Z"
   },
   {
    "duration": 9,
    "start_time": "2025-02-02T11:03:22.544Z"
   },
   {
    "duration": 5,
    "start_time": "2025-02-02T11:03:22.574Z"
   },
   {
    "duration": 5,
    "start_time": "2025-02-02T11:03:22.607Z"
   },
   {
    "duration": 6,
    "start_time": "2025-02-02T11:03:22.638Z"
   },
   {
    "duration": 5,
    "start_time": "2025-02-02T11:03:22.672Z"
   },
   {
    "duration": 12,
    "start_time": "2025-02-02T11:03:22.736Z"
   },
   {
    "duration": 7,
    "start_time": "2025-02-02T11:03:23.523Z"
   },
   {
    "duration": 3,
    "start_time": "2025-02-02T11:03:23.855Z"
   },
   {
    "duration": 8,
    "start_time": "2025-02-02T11:03:24.392Z"
   },
   {
    "duration": 7,
    "start_time": "2025-02-02T11:03:24.461Z"
   },
   {
    "duration": 18,
    "start_time": "2025-02-02T11:03:24.522Z"
   },
   {
    "duration": 4,
    "start_time": "2025-02-02T11:03:25.203Z"
   },
   {
    "duration": 4,
    "start_time": "2025-02-02T11:03:25.450Z"
   },
   {
    "duration": 3,
    "start_time": "2025-02-02T11:03:25.761Z"
   },
   {
    "duration": 4,
    "start_time": "2025-02-02T11:03:27.735Z"
   },
   {
    "duration": 14,
    "start_time": "2025-02-02T11:03:28.245Z"
   },
   {
    "duration": 68,
    "start_time": "2025-02-02T11:03:31.388Z"
   },
   {
    "duration": 1247,
    "start_time": "2025-02-02T11:03:58.128Z"
   },
   {
    "duration": 22,
    "start_time": "2025-02-02T11:05:02.365Z"
   },
   {
    "duration": 6,
    "start_time": "2025-02-02T11:06:00.703Z"
   },
   {
    "duration": 7,
    "start_time": "2025-02-02T11:06:49.234Z"
   },
   {
    "duration": 16,
    "start_time": "2025-02-02T11:07:07.561Z"
   },
   {
    "duration": 6,
    "start_time": "2025-02-02T11:08:16.021Z"
   },
   {
    "duration": 12,
    "start_time": "2025-02-02T11:09:09.691Z"
   },
   {
    "duration": 10,
    "start_time": "2025-02-02T11:09:50.136Z"
   },
   {
    "duration": 9,
    "start_time": "2025-02-02T11:10:42.498Z"
   },
   {
    "duration": 4,
    "start_time": "2025-02-02T11:10:56.060Z"
   },
   {
    "duration": 13,
    "start_time": "2025-02-02T11:15:51.711Z"
   },
   {
    "duration": 5,
    "start_time": "2025-02-02T11:16:00.890Z"
   },
   {
    "duration": 4,
    "start_time": "2025-02-02T11:20:39.789Z"
   },
   {
    "duration": 427,
    "start_time": "2025-02-02T11:20:39.796Z"
   },
   {
    "duration": 93,
    "start_time": "2025-02-02T11:20:40.225Z"
   },
   {
    "duration": 11,
    "start_time": "2025-02-02T11:20:40.321Z"
   },
   {
    "duration": 35,
    "start_time": "2025-02-02T11:20:40.334Z"
   },
   {
    "duration": 10,
    "start_time": "2025-02-02T11:20:40.371Z"
   },
   {
    "duration": 48,
    "start_time": "2025-02-02T11:20:40.383Z"
   },
   {
    "duration": 49,
    "start_time": "2025-02-02T11:20:40.433Z"
   },
   {
    "duration": 30,
    "start_time": "2025-02-02T11:20:40.485Z"
   },
   {
    "duration": 84,
    "start_time": "2025-02-02T11:20:40.518Z"
   },
   {
    "duration": 29,
    "start_time": "2025-02-02T11:20:40.604Z"
   },
   {
    "duration": 13,
    "start_time": "2025-02-02T11:20:40.635Z"
   },
   {
    "duration": 40,
    "start_time": "2025-02-02T11:20:40.650Z"
   },
   {
    "duration": 8,
    "start_time": "2025-02-02T11:20:40.691Z"
   },
   {
    "duration": 32,
    "start_time": "2025-02-02T11:20:40.701Z"
   },
   {
    "duration": 24,
    "start_time": "2025-02-02T11:20:40.735Z"
   },
   {
    "duration": 11,
    "start_time": "2025-02-02T11:20:40.771Z"
   },
   {
    "duration": 10,
    "start_time": "2025-02-02T11:20:40.785Z"
   },
   {
    "duration": 12,
    "start_time": "2025-02-02T11:20:40.797Z"
   },
   {
    "duration": 12,
    "start_time": "2025-02-02T11:20:40.811Z"
   },
   {
    "duration": 48,
    "start_time": "2025-02-02T11:20:40.825Z"
   },
   {
    "duration": 10,
    "start_time": "2025-02-02T11:20:40.875Z"
   },
   {
    "duration": 15,
    "start_time": "2025-02-02T11:20:40.888Z"
   },
   {
    "duration": 13,
    "start_time": "2025-02-02T11:20:40.906Z"
   },
   {
    "duration": 26,
    "start_time": "2025-02-02T11:20:40.921Z"
   },
   {
    "duration": 24,
    "start_time": "2025-02-02T11:20:40.950Z"
   },
   {
    "duration": 9,
    "start_time": "2025-02-02T11:20:40.976Z"
   },
   {
    "duration": 10,
    "start_time": "2025-02-02T11:20:40.990Z"
   },
   {
    "duration": 11,
    "start_time": "2025-02-02T11:20:41.002Z"
   },
   {
    "duration": 12,
    "start_time": "2025-02-02T11:20:41.015Z"
   },
   {
    "duration": 5,
    "start_time": "2025-02-02T11:20:41.028Z"
   },
   {
    "duration": 39,
    "start_time": "2025-02-02T11:20:41.035Z"
   },
   {
    "duration": 7,
    "start_time": "2025-02-02T11:20:41.076Z"
   },
   {
    "duration": 18,
    "start_time": "2025-02-02T11:20:41.085Z"
   },
   {
    "duration": 13,
    "start_time": "2025-02-02T11:20:41.105Z"
   },
   {
    "duration": 8,
    "start_time": "2025-02-02T11:20:41.119Z"
   },
   {
    "duration": 4,
    "start_time": "2025-02-02T11:20:41.129Z"
   },
   {
    "duration": 37,
    "start_time": "2025-02-02T11:20:41.135Z"
   },
   {
    "duration": 9,
    "start_time": "2025-02-02T11:20:41.174Z"
   },
   {
    "duration": 22,
    "start_time": "2025-02-02T11:20:41.185Z"
   },
   {
    "duration": 4,
    "start_time": "2025-02-02T11:20:41.209Z"
   },
   {
    "duration": 9,
    "start_time": "2025-02-02T11:20:41.216Z"
   },
   {
    "duration": 4,
    "start_time": "2025-02-02T11:20:41.227Z"
   },
   {
    "duration": 40,
    "start_time": "2025-02-02T11:20:41.233Z"
   },
   {
    "duration": 20,
    "start_time": "2025-02-02T11:20:41.274Z"
   },
   {
    "duration": 5,
    "start_time": "2025-02-02T11:20:41.296Z"
   },
   {
    "duration": 4,
    "start_time": "2025-02-02T11:20:41.303Z"
   },
   {
    "duration": 7,
    "start_time": "2025-02-02T11:28:14.455Z"
   },
   {
    "duration": 7,
    "start_time": "2025-02-02T11:29:00.413Z"
   },
   {
    "duration": 65,
    "start_time": "2025-02-02T11:32:22.280Z"
   },
   {
    "duration": 8,
    "start_time": "2025-02-02T11:32:27.340Z"
   },
   {
    "duration": 7,
    "start_time": "2025-02-02T11:32:56.859Z"
   },
   {
    "duration": 6,
    "start_time": "2025-02-02T11:33:08.374Z"
   },
   {
    "duration": 16,
    "start_time": "2025-02-02T11:33:26.079Z"
   },
   {
    "duration": 4,
    "start_time": "2025-02-02T11:35:08.879Z"
   },
   {
    "duration": 452,
    "start_time": "2025-02-02T11:35:08.885Z"
   },
   {
    "duration": 116,
    "start_time": "2025-02-02T11:35:09.339Z"
   },
   {
    "duration": 12,
    "start_time": "2025-02-02T11:35:09.457Z"
   },
   {
    "duration": 24,
    "start_time": "2025-02-02T11:35:09.471Z"
   },
   {
    "duration": 4,
    "start_time": "2025-02-02T11:35:09.497Z"
   },
   {
    "duration": 14,
    "start_time": "2025-02-02T11:35:09.503Z"
   },
   {
    "duration": 16,
    "start_time": "2025-02-02T11:35:09.519Z"
   },
   {
    "duration": 36,
    "start_time": "2025-02-02T11:35:09.538Z"
   },
   {
    "duration": 24,
    "start_time": "2025-02-02T11:35:09.576Z"
   },
   {
    "duration": 25,
    "start_time": "2025-02-02T11:35:09.602Z"
   },
   {
    "duration": 13,
    "start_time": "2025-02-02T11:35:09.629Z"
   },
   {
    "duration": 21,
    "start_time": "2025-02-02T11:35:09.644Z"
   },
   {
    "duration": 28,
    "start_time": "2025-02-02T11:35:09.673Z"
   },
   {
    "duration": 30,
    "start_time": "2025-02-02T11:35:09.703Z"
   },
   {
    "duration": 67,
    "start_time": "2025-02-02T11:35:09.735Z"
   },
   {
    "duration": 10,
    "start_time": "2025-02-02T11:35:09.805Z"
   },
   {
    "duration": 23,
    "start_time": "2025-02-02T11:35:09.817Z"
   },
   {
    "duration": 13,
    "start_time": "2025-02-02T11:35:09.842Z"
   },
   {
    "duration": 23,
    "start_time": "2025-02-02T11:35:09.856Z"
   },
   {
    "duration": 11,
    "start_time": "2025-02-02T11:35:09.881Z"
   },
   {
    "duration": 19,
    "start_time": "2025-02-02T11:35:09.893Z"
   },
   {
    "duration": 15,
    "start_time": "2025-02-02T11:35:09.914Z"
   },
   {
    "duration": 11,
    "start_time": "2025-02-02T11:35:09.931Z"
   },
   {
    "duration": 36,
    "start_time": "2025-02-02T11:35:09.944Z"
   },
   {
    "duration": 9,
    "start_time": "2025-02-02T11:35:09.982Z"
   },
   {
    "duration": 17,
    "start_time": "2025-02-02T11:35:09.993Z"
   },
   {
    "duration": 31,
    "start_time": "2025-02-02T11:35:10.011Z"
   },
   {
    "duration": 10,
    "start_time": "2025-02-02T11:35:10.044Z"
   },
   {
    "duration": 16,
    "start_time": "2025-02-02T11:35:10.056Z"
   },
   {
    "duration": 5,
    "start_time": "2025-02-02T11:35:10.074Z"
   },
   {
    "duration": 5,
    "start_time": "2025-02-02T11:35:10.081Z"
   },
   {
    "duration": 16,
    "start_time": "2025-02-02T11:35:10.088Z"
   },
   {
    "duration": 9,
    "start_time": "2025-02-02T11:35:10.106Z"
   },
   {
    "duration": 14,
    "start_time": "2025-02-02T11:35:10.117Z"
   },
   {
    "duration": 7,
    "start_time": "2025-02-02T11:35:10.132Z"
   },
   {
    "duration": 3,
    "start_time": "2025-02-02T11:35:10.141Z"
   },
   {
    "duration": 9,
    "start_time": "2025-02-02T11:35:10.171Z"
   },
   {
    "duration": 9,
    "start_time": "2025-02-02T11:35:10.182Z"
   },
   {
    "duration": 19,
    "start_time": "2025-02-02T11:35:10.192Z"
   },
   {
    "duration": 3,
    "start_time": "2025-02-02T11:35:10.215Z"
   },
   {
    "duration": 12,
    "start_time": "2025-02-02T11:35:10.220Z"
   },
   {
    "duration": 7,
    "start_time": "2025-02-02T11:35:10.234Z"
   },
   {
    "duration": 4,
    "start_time": "2025-02-02T11:35:10.273Z"
   },
   {
    "duration": 18,
    "start_time": "2025-02-02T11:35:10.278Z"
   },
   {
    "duration": 6,
    "start_time": "2025-02-02T11:35:10.297Z"
   },
   {
    "duration": 10,
    "start_time": "2025-02-02T11:35:10.305Z"
   },
   {
    "duration": 1001,
    "start_time": "2025-02-02T11:38:51.021Z"
   },
   {
    "duration": 1030,
    "start_time": "2025-02-02T11:39:04.924Z"
   },
   {
    "duration": 19,
    "start_time": "2025-02-02T11:39:24.452Z"
   },
   {
    "duration": 17,
    "start_time": "2025-02-02T11:40:42.752Z"
   },
   {
    "duration": 22,
    "start_time": "2025-02-02T11:41:00.331Z"
   },
   {
    "duration": 4,
    "start_time": "2025-02-02T11:41:12.950Z"
   },
   {
    "duration": 475,
    "start_time": "2025-02-02T11:41:12.957Z"
   },
   {
    "duration": 89,
    "start_time": "2025-02-02T11:41:13.434Z"
   },
   {
    "duration": 12,
    "start_time": "2025-02-02T11:41:13.525Z"
   },
   {
    "duration": 19,
    "start_time": "2025-02-02T11:41:13.539Z"
   },
   {
    "duration": 12,
    "start_time": "2025-02-02T11:41:13.560Z"
   },
   {
    "duration": 12,
    "start_time": "2025-02-02T11:41:13.575Z"
   },
   {
    "duration": 19,
    "start_time": "2025-02-02T11:41:13.589Z"
   },
   {
    "duration": 4,
    "start_time": "2025-02-02T11:41:13.610Z"
   },
   {
    "duration": 37,
    "start_time": "2025-02-02T11:41:13.617Z"
   },
   {
    "duration": 34,
    "start_time": "2025-02-02T11:41:13.656Z"
   },
   {
    "duration": 13,
    "start_time": "2025-02-02T11:41:13.692Z"
   },
   {
    "duration": 26,
    "start_time": "2025-02-02T11:41:13.707Z"
   },
   {
    "duration": 8,
    "start_time": "2025-02-02T11:41:13.734Z"
   },
   {
    "duration": 29,
    "start_time": "2025-02-02T11:41:13.743Z"
   },
   {
    "duration": 30,
    "start_time": "2025-02-02T11:41:13.775Z"
   },
   {
    "duration": 26,
    "start_time": "2025-02-02T11:41:13.808Z"
   },
   {
    "duration": 12,
    "start_time": "2025-02-02T11:41:13.837Z"
   },
   {
    "duration": 29,
    "start_time": "2025-02-02T11:41:13.851Z"
   },
   {
    "duration": 27,
    "start_time": "2025-02-02T11:41:13.882Z"
   },
   {
    "duration": 17,
    "start_time": "2025-02-02T11:41:13.911Z"
   },
   {
    "duration": 23,
    "start_time": "2025-02-02T11:41:13.930Z"
   },
   {
    "duration": 18,
    "start_time": "2025-02-02T11:41:13.955Z"
   },
   {
    "duration": 22,
    "start_time": "2025-02-02T11:41:13.975Z"
   },
   {
    "duration": 12,
    "start_time": "2025-02-02T11:41:13.999Z"
   },
   {
    "duration": 9,
    "start_time": "2025-02-02T11:41:14.013Z"
   },
   {
    "duration": 8,
    "start_time": "2025-02-02T11:41:14.025Z"
   },
   {
    "duration": 7,
    "start_time": "2025-02-02T11:41:14.037Z"
   },
   {
    "duration": 32,
    "start_time": "2025-02-02T11:41:14.046Z"
   },
   {
    "duration": 9,
    "start_time": "2025-02-02T11:41:14.080Z"
   },
   {
    "duration": 5,
    "start_time": "2025-02-02T11:41:14.091Z"
   },
   {
    "duration": 7,
    "start_time": "2025-02-02T11:41:14.098Z"
   },
   {
    "duration": 8,
    "start_time": "2025-02-02T11:41:14.107Z"
   },
   {
    "duration": 7,
    "start_time": "2025-02-02T11:41:14.117Z"
   },
   {
    "duration": 49,
    "start_time": "2025-02-02T11:41:14.126Z"
   },
   {
    "duration": 9,
    "start_time": "2025-02-02T11:41:14.177Z"
   },
   {
    "duration": 4,
    "start_time": "2025-02-02T11:41:14.187Z"
   },
   {
    "duration": 31,
    "start_time": "2025-02-02T11:41:14.193Z"
   },
   {
    "duration": 9,
    "start_time": "2025-02-02T11:41:14.226Z"
   },
   {
    "duration": 38,
    "start_time": "2025-02-02T11:41:14.237Z"
   },
   {
    "duration": 3,
    "start_time": "2025-02-02T11:41:14.278Z"
   },
   {
    "duration": 6,
    "start_time": "2025-02-02T11:41:14.283Z"
   },
   {
    "duration": 5,
    "start_time": "2025-02-02T11:41:14.292Z"
   },
   {
    "duration": 5,
    "start_time": "2025-02-02T11:41:14.299Z"
   },
   {
    "duration": 16,
    "start_time": "2025-02-02T11:41:14.305Z"
   },
   {
    "duration": 6,
    "start_time": "2025-02-02T11:41:14.323Z"
   },
   {
    "duration": 41,
    "start_time": "2025-02-02T11:41:14.331Z"
   },
   {
    "duration": 19,
    "start_time": "2025-02-02T11:41:14.374Z"
   },
   {
    "duration": 7,
    "start_time": "2025-02-02T11:43:54.842Z"
   },
   {
    "duration": 5,
    "start_time": "2025-02-02T11:43:55.861Z"
   },
   {
    "duration": 19,
    "start_time": "2025-02-02T11:44:02.355Z"
   },
   {
    "duration": 17,
    "start_time": "2025-02-02T11:44:17.714Z"
   },
   {
    "duration": 6,
    "start_time": "2025-02-02T11:44:46.152Z"
   },
   {
    "duration": 5,
    "start_time": "2025-02-02T11:44:46.618Z"
   },
   {
    "duration": 17,
    "start_time": "2025-02-02T11:44:48.422Z"
   },
   {
    "duration": 17,
    "start_time": "2025-02-02T11:45:00.870Z"
   },
   {
    "duration": 1088,
    "start_time": "2025-02-02T11:46:44.726Z"
   },
   {
    "duration": 19,
    "start_time": "2025-02-02T11:46:55.105Z"
   },
   {
    "duration": 4,
    "start_time": "2025-02-02T11:50:26.005Z"
   },
   {
    "duration": 3,
    "start_time": "2025-02-02T11:50:28.719Z"
   },
   {
    "duration": 3,
    "start_time": "2025-02-02T11:50:39.152Z"
   },
   {
    "duration": 10,
    "start_time": "2025-02-02T11:50:49.499Z"
   },
   {
    "duration": 4,
    "start_time": "2025-02-02T11:50:59.800Z"
   },
   {
    "duration": 3,
    "start_time": "2025-02-02T11:51:00.485Z"
   },
   {
    "duration": 98,
    "start_time": "2025-02-02T11:51:26.029Z"
   },
   {
    "duration": 3,
    "start_time": "2025-02-02T11:51:36.731Z"
   },
   {
    "duration": 4,
    "start_time": "2025-02-02T11:53:00.828Z"
   },
   {
    "duration": 498,
    "start_time": "2025-02-02T11:53:00.834Z"
   },
   {
    "duration": 138,
    "start_time": "2025-02-02T11:53:01.334Z"
   },
   {
    "duration": 12,
    "start_time": "2025-02-02T11:53:01.474Z"
   },
   {
    "duration": 23,
    "start_time": "2025-02-02T11:53:01.488Z"
   },
   {
    "duration": 5,
    "start_time": "2025-02-02T11:53:01.513Z"
   },
   {
    "duration": 11,
    "start_time": "2025-02-02T11:53:01.573Z"
   },
   {
    "duration": 17,
    "start_time": "2025-02-02T11:53:01.586Z"
   },
   {
    "duration": 10,
    "start_time": "2025-02-02T11:53:01.605Z"
   },
   {
    "duration": 13,
    "start_time": "2025-02-02T11:53:01.617Z"
   },
   {
    "duration": 13,
    "start_time": "2025-02-02T11:53:01.632Z"
   },
   {
    "duration": 13,
    "start_time": "2025-02-02T11:53:01.673Z"
   },
   {
    "duration": 39,
    "start_time": "2025-02-02T11:53:01.688Z"
   },
   {
    "duration": 9,
    "start_time": "2025-02-02T11:53:01.730Z"
   },
   {
    "duration": 23,
    "start_time": "2025-02-02T11:53:01.741Z"
   },
   {
    "duration": 29,
    "start_time": "2025-02-02T11:53:01.767Z"
   },
   {
    "duration": 37,
    "start_time": "2025-02-02T11:53:01.799Z"
   },
   {
    "duration": 11,
    "start_time": "2025-02-02T11:53:01.838Z"
   },
   {
    "duration": 37,
    "start_time": "2025-02-02T11:53:01.851Z"
   },
   {
    "duration": 11,
    "start_time": "2025-02-02T11:53:01.890Z"
   },
   {
    "duration": 16,
    "start_time": "2025-02-02T11:53:01.903Z"
   },
   {
    "duration": 11,
    "start_time": "2025-02-02T11:53:01.921Z"
   },
   {
    "duration": 19,
    "start_time": "2025-02-02T11:53:01.934Z"
   },
   {
    "duration": 33,
    "start_time": "2025-02-02T11:53:01.955Z"
   },
   {
    "duration": 9,
    "start_time": "2025-02-02T11:53:01.990Z"
   },
   {
    "duration": 16,
    "start_time": "2025-02-02T11:53:02.001Z"
   },
   {
    "duration": 20,
    "start_time": "2025-02-02T11:53:02.019Z"
   },
   {
    "duration": 27,
    "start_time": "2025-02-02T11:53:02.040Z"
   },
   {
    "duration": 26,
    "start_time": "2025-02-02T11:53:02.069Z"
   },
   {
    "duration": 14,
    "start_time": "2025-02-02T11:53:02.097Z"
   },
   {
    "duration": 7,
    "start_time": "2025-02-02T11:53:02.113Z"
   },
   {
    "duration": 6,
    "start_time": "2025-02-02T11:53:02.122Z"
   },
   {
    "duration": 6,
    "start_time": "2025-02-02T11:53:02.130Z"
   },
   {
    "duration": 32,
    "start_time": "2025-02-02T11:53:02.137Z"
   },
   {
    "duration": 16,
    "start_time": "2025-02-02T11:53:02.170Z"
   },
   {
    "duration": 17,
    "start_time": "2025-02-02T11:53:02.188Z"
   },
   {
    "duration": 14,
    "start_time": "2025-02-02T11:53:02.206Z"
   },
   {
    "duration": 9,
    "start_time": "2025-02-02T11:53:02.221Z"
   },
   {
    "duration": 8,
    "start_time": "2025-02-02T11:53:02.232Z"
   },
   {
    "duration": 31,
    "start_time": "2025-02-02T11:53:02.241Z"
   },
   {
    "duration": 3,
    "start_time": "2025-02-02T11:53:02.277Z"
   },
   {
    "duration": 4,
    "start_time": "2025-02-02T11:53:02.282Z"
   },
   {
    "duration": 16,
    "start_time": "2025-02-02T11:53:02.288Z"
   },
   {
    "duration": 12,
    "start_time": "2025-02-02T11:53:02.306Z"
   },
   {
    "duration": 33,
    "start_time": "2025-02-02T11:53:02.320Z"
   },
   {
    "duration": 29,
    "start_time": "2025-02-02T11:53:02.355Z"
   },
   {
    "duration": 5,
    "start_time": "2025-02-02T11:53:02.386Z"
   },
   {
    "duration": 28,
    "start_time": "2025-02-02T11:53:02.393Z"
   },
   {
    "duration": 19,
    "start_time": "2025-02-02T11:53:02.423Z"
   },
   {
    "duration": 81,
    "start_time": "2025-02-02T11:53:38.997Z"
   },
   {
    "duration": 68,
    "start_time": "2025-02-02T11:54:34.033Z"
   },
   {
    "duration": 4,
    "start_time": "2025-02-02T11:54:40.871Z"
   },
   {
    "duration": 4,
    "start_time": "2025-02-02T11:54:51.393Z"
   },
   {
    "duration": 5,
    "start_time": "2025-02-02T11:55:52.344Z"
   },
   {
    "duration": 4,
    "start_time": "2025-02-02T11:55:52.852Z"
   },
   {
    "duration": 4,
    "start_time": "2025-02-02T11:56:00.486Z"
   },
   {
    "duration": 5,
    "start_time": "2025-02-02T11:56:10.279Z"
   },
   {
    "duration": 5,
    "start_time": "2025-02-02T11:56:18.772Z"
   },
   {
    "duration": 6,
    "start_time": "2025-02-02T11:56:24.723Z"
   },
   {
    "duration": 5,
    "start_time": "2025-02-02T11:56:31.615Z"
   },
   {
    "duration": 72,
    "start_time": "2025-02-02T11:57:17.928Z"
   },
   {
    "duration": 5,
    "start_time": "2025-02-02T11:57:54.317Z"
   },
   {
    "duration": 5,
    "start_time": "2025-02-02T11:59:41.528Z"
   },
   {
    "duration": 7,
    "start_time": "2025-02-02T11:59:52.936Z"
   },
   {
    "duration": 7,
    "start_time": "2025-02-02T12:00:13.436Z"
   },
   {
    "duration": 6,
    "start_time": "2025-02-02T12:00:16.721Z"
   },
   {
    "duration": 62,
    "start_time": "2025-02-02T12:01:59.353Z"
   },
   {
    "duration": 6,
    "start_time": "2025-02-02T12:02:03.668Z"
   },
   {
    "duration": 6,
    "start_time": "2025-02-02T12:02:25.201Z"
   },
   {
    "duration": 5,
    "start_time": "2025-02-02T12:02:25.466Z"
   },
   {
    "duration": 6,
    "start_time": "2025-02-02T12:02:25.840Z"
   },
   {
    "duration": 4,
    "start_time": "2025-02-02T12:02:41.339Z"
   },
   {
    "duration": 473,
    "start_time": "2025-02-02T12:02:41.345Z"
   },
   {
    "duration": 103,
    "start_time": "2025-02-02T12:02:41.820Z"
   },
   {
    "duration": 11,
    "start_time": "2025-02-02T12:02:41.925Z"
   },
   {
    "duration": 20,
    "start_time": "2025-02-02T12:02:41.939Z"
   },
   {
    "duration": 4,
    "start_time": "2025-02-02T12:02:41.960Z"
   },
   {
    "duration": 11,
    "start_time": "2025-02-02T12:02:41.973Z"
   },
   {
    "duration": 24,
    "start_time": "2025-02-02T12:02:41.986Z"
   },
   {
    "duration": 4,
    "start_time": "2025-02-02T12:02:42.012Z"
   },
   {
    "duration": 20,
    "start_time": "2025-02-02T12:02:42.017Z"
   },
   {
    "duration": 13,
    "start_time": "2025-02-02T12:02:42.038Z"
   },
   {
    "duration": 13,
    "start_time": "2025-02-02T12:02:42.073Z"
   },
   {
    "duration": 16,
    "start_time": "2025-02-02T12:02:42.088Z"
   },
   {
    "duration": 7,
    "start_time": "2025-02-02T12:02:42.108Z"
   },
   {
    "duration": 30,
    "start_time": "2025-02-02T12:02:42.117Z"
   },
   {
    "duration": 38,
    "start_time": "2025-02-02T12:02:42.149Z"
   },
   {
    "duration": 10,
    "start_time": "2025-02-02T12:02:42.189Z"
   },
   {
    "duration": 15,
    "start_time": "2025-02-02T12:02:42.201Z"
   },
   {
    "duration": 25,
    "start_time": "2025-02-02T12:02:42.218Z"
   },
   {
    "duration": 10,
    "start_time": "2025-02-02T12:02:42.245Z"
   },
   {
    "duration": 10,
    "start_time": "2025-02-02T12:02:42.273Z"
   },
   {
    "duration": 10,
    "start_time": "2025-02-02T12:02:42.285Z"
   },
   {
    "duration": 14,
    "start_time": "2025-02-02T12:02:42.297Z"
   },
   {
    "duration": 10,
    "start_time": "2025-02-02T12:02:42.313Z"
   },
   {
    "duration": 47,
    "start_time": "2025-02-02T12:02:42.325Z"
   },
   {
    "duration": 6,
    "start_time": "2025-02-02T12:02:42.374Z"
   },
   {
    "duration": 8,
    "start_time": "2025-02-02T12:02:42.381Z"
   },
   {
    "duration": 8,
    "start_time": "2025-02-02T12:02:42.390Z"
   },
   {
    "duration": 10,
    "start_time": "2025-02-02T12:02:42.400Z"
   },
   {
    "duration": 21,
    "start_time": "2025-02-02T12:02:42.411Z"
   },
   {
    "duration": 5,
    "start_time": "2025-02-02T12:02:42.434Z"
   },
   {
    "duration": 33,
    "start_time": "2025-02-02T12:02:42.440Z"
   },
   {
    "duration": 5,
    "start_time": "2025-02-02T12:02:42.475Z"
   },
   {
    "duration": 25,
    "start_time": "2025-02-02T12:02:42.482Z"
   },
   {
    "duration": 49,
    "start_time": "2025-02-02T12:02:42.509Z"
   },
   {
    "duration": 8,
    "start_time": "2025-02-02T12:02:42.560Z"
   },
   {
    "duration": 28,
    "start_time": "2025-02-02T12:02:42.570Z"
   },
   {
    "duration": 44,
    "start_time": "2025-02-02T12:02:42.600Z"
   },
   {
    "duration": 23,
    "start_time": "2025-02-02T12:02:42.646Z"
   },
   {
    "duration": 46,
    "start_time": "2025-02-02T12:02:42.671Z"
   },
   {
    "duration": 10,
    "start_time": "2025-02-02T12:02:42.723Z"
   },
   {
    "duration": 5,
    "start_time": "2025-02-02T12:02:42.735Z"
   },
   {
    "duration": 32,
    "start_time": "2025-02-02T12:02:42.742Z"
   },
   {
    "duration": 28,
    "start_time": "2025-02-02T12:02:42.776Z"
   },
   {
    "duration": 23,
    "start_time": "2025-02-02T12:02:42.806Z"
   },
   {
    "duration": 6,
    "start_time": "2025-02-02T12:02:42.831Z"
   },
   {
    "duration": 5,
    "start_time": "2025-02-02T12:02:42.839Z"
   },
   {
    "duration": 17,
    "start_time": "2025-02-02T12:02:42.846Z"
   },
   {
    "duration": 23,
    "start_time": "2025-02-02T12:02:42.865Z"
   },
   {
    "duration": 5,
    "start_time": "2025-02-02T12:02:42.890Z"
   },
   {
    "duration": 6,
    "start_time": "2025-02-02T12:02:42.897Z"
   },
   {
    "duration": 9,
    "start_time": "2025-02-02T12:02:42.904Z"
   },
   {
    "duration": 16,
    "start_time": "2025-02-02T12:33:26.794Z"
   },
   {
    "duration": 6,
    "start_time": "2025-02-02T12:34:39.521Z"
   },
   {
    "duration": 7,
    "start_time": "2025-02-02T12:34:56.895Z"
   },
   {
    "duration": 16,
    "start_time": "2025-02-02T12:35:18.705Z"
   },
   {
    "duration": 2,
    "start_time": "2025-02-02T12:53:56.895Z"
   },
   {
    "duration": 163,
    "start_time": "2025-02-02T12:53:57.402Z"
   },
   {
    "duration": 9,
    "start_time": "2025-02-02T12:54:22.893Z"
   },
   {
    "duration": 17,
    "start_time": "2025-02-02T12:54:23.268Z"
   },
   {
    "duration": 4,
    "start_time": "2025-02-02T12:54:24.851Z"
   },
   {
    "duration": 12,
    "start_time": "2025-02-02T12:54:25.275Z"
   },
   {
    "duration": 61,
    "start_time": "2025-02-02T12:55:13.330Z"
   },
   {
    "duration": 125,
    "start_time": "2025-02-02T12:55:42.108Z"
   },
   {
    "duration": 190,
    "start_time": "2025-02-02T12:55:51.157Z"
   },
   {
    "duration": 57,
    "start_time": "2025-02-02T12:56:52.867Z"
   },
   {
    "duration": 68,
    "start_time": "2025-02-02T12:57:05.477Z"
   },
   {
    "duration": 4,
    "start_time": "2025-02-02T12:57:29.819Z"
   },
   {
    "duration": 5,
    "start_time": "2025-02-02T12:57:35.153Z"
   },
   {
    "duration": 398,
    "start_time": "2025-02-02T12:57:46.525Z"
   },
   {
    "duration": 105,
    "start_time": "2025-02-02T12:57:47.961Z"
   },
   {
    "duration": 11,
    "start_time": "2025-02-02T12:57:48.913Z"
   },
   {
    "duration": 18,
    "start_time": "2025-02-02T12:57:52.715Z"
   },
   {
    "duration": 4,
    "start_time": "2025-02-02T12:57:54.677Z"
   },
   {
    "duration": 11,
    "start_time": "2025-02-02T12:57:56.786Z"
   },
   {
    "duration": 14,
    "start_time": "2025-02-02T12:58:03.466Z"
   },
   {
    "duration": 3,
    "start_time": "2025-02-02T13:00:46.580Z"
   },
   {
    "duration": 12,
    "start_time": "2025-02-02T13:00:52.818Z"
   },
   {
    "duration": 10,
    "start_time": "2025-02-02T13:01:13.605Z"
   },
   {
    "duration": 12,
    "start_time": "2025-02-02T13:01:30.968Z"
   },
   {
    "duration": 12,
    "start_time": "2025-02-02T13:01:33.828Z"
   },
   {
    "duration": 20,
    "start_time": "2025-02-02T13:01:34.183Z"
   },
   {
    "duration": 7,
    "start_time": "2025-02-02T13:01:52.226Z"
   },
   {
    "duration": 18,
    "start_time": "2025-02-02T13:01:52.604Z"
   },
   {
    "duration": 22,
    "start_time": "2025-02-02T13:01:56.795Z"
   },
   {
    "duration": 11,
    "start_time": "2025-02-02T13:02:49.616Z"
   },
   {
    "duration": 11,
    "start_time": "2025-02-02T13:03:00.280Z"
   },
   {
    "duration": 14,
    "start_time": "2025-02-02T13:04:25.244Z"
   },
   {
    "duration": 12,
    "start_time": "2025-02-02T13:04:27.186Z"
   },
   {
    "duration": 15,
    "start_time": "2025-02-02T13:04:29.039Z"
   },
   {
    "duration": 12,
    "start_time": "2025-02-02T13:04:29.510Z"
   },
   {
    "duration": 15,
    "start_time": "2025-02-02T13:04:30.707Z"
   },
   {
    "duration": 10,
    "start_time": "2025-02-02T13:04:33.725Z"
   },
   {
    "duration": 9,
    "start_time": "2025-02-02T13:04:36.323Z"
   },
   {
    "duration": 7,
    "start_time": "2025-02-02T13:04:49.792Z"
   },
   {
    "duration": 7,
    "start_time": "2025-02-02T13:04:51.181Z"
   },
   {
    "duration": 8,
    "start_time": "2025-02-02T13:05:07.671Z"
   },
   {
    "duration": 14,
    "start_time": "2025-02-02T13:05:10.793Z"
   },
   {
    "duration": 9,
    "start_time": "2025-02-02T13:06:21.351Z"
   },
   {
    "duration": 4,
    "start_time": "2025-02-02T13:06:21.661Z"
   },
   {
    "duration": 5,
    "start_time": "2025-02-02T13:06:22.108Z"
   },
   {
    "duration": 10,
    "start_time": "2025-02-02T13:06:31.384Z"
   },
   {
    "duration": 9,
    "start_time": "2025-02-02T13:06:31.766Z"
   },
   {
    "duration": 4,
    "start_time": "2025-02-02T13:06:33.030Z"
   },
   {
    "duration": 5,
    "start_time": "2025-02-02T13:06:33.408Z"
   },
   {
    "duration": 6,
    "start_time": "2025-02-02T13:06:34.592Z"
   },
   {
    "duration": 6,
    "start_time": "2025-02-02T13:07:21.604Z"
   },
   {
    "duration": 5,
    "start_time": "2025-02-02T13:07:23.562Z"
   },
   {
    "duration": 5,
    "start_time": "2025-02-02T13:07:24.357Z"
   },
   {
    "duration": 6,
    "start_time": "2025-02-02T13:07:25.526Z"
   },
   {
    "duration": 5,
    "start_time": "2025-02-02T13:07:25.899Z"
   },
   {
    "duration": 11,
    "start_time": "2025-02-02T13:07:36.593Z"
   },
   {
    "duration": 7,
    "start_time": "2025-02-02T13:07:42.237Z"
   },
   {
    "duration": 7,
    "start_time": "2025-02-02T13:08:16.350Z"
   },
   {
    "duration": 4,
    "start_time": "2025-02-02T13:08:19.123Z"
   },
   {
    "duration": 4,
    "start_time": "2025-02-02T13:08:37.906Z"
   },
   {
    "duration": 10,
    "start_time": "2025-02-02T13:08:40.030Z"
   },
   {
    "duration": 81,
    "start_time": "2025-02-02T13:08:57.207Z"
   },
   {
    "duration": 8,
    "start_time": "2025-02-02T13:09:06.102Z"
   },
   {
    "duration": 9,
    "start_time": "2025-02-02T13:09:13.514Z"
   },
   {
    "duration": 22,
    "start_time": "2025-02-02T13:09:15.251Z"
   },
   {
    "duration": 18,
    "start_time": "2025-02-02T13:09:46.292Z"
   },
   {
    "duration": 18,
    "start_time": "2025-02-02T13:10:26.934Z"
   },
   {
    "duration": 4,
    "start_time": "2025-02-02T13:10:43.005Z"
   },
   {
    "duration": 4,
    "start_time": "2025-02-02T13:10:46.086Z"
   },
   {
    "duration": 4,
    "start_time": "2025-02-02T13:11:04.895Z"
   },
   {
    "duration": 3,
    "start_time": "2025-02-02T13:11:07.446Z"
   },
   {
    "duration": 4,
    "start_time": "2025-02-02T13:11:22.172Z"
   },
   {
    "duration": 3,
    "start_time": "2025-02-02T13:11:56.024Z"
   },
   {
    "duration": 62,
    "start_time": "2025-02-02T13:12:52.095Z"
   },
   {
    "duration": 4,
    "start_time": "2025-02-02T13:12:56.344Z"
   },
   {
    "duration": 16,
    "start_time": "2025-02-02T13:13:06.385Z"
   },
   {
    "duration": 14,
    "start_time": "2025-02-02T13:13:31.399Z"
   },
   {
    "duration": 7,
    "start_time": "2025-02-02T13:14:12.529Z"
   },
   {
    "duration": 5,
    "start_time": "2025-02-02T13:14:14.464Z"
   },
   {
    "duration": 4,
    "start_time": "2025-02-02T13:14:31.388Z"
   },
   {
    "duration": 17,
    "start_time": "2025-02-02T13:15:12.834Z"
   },
   {
    "duration": 17,
    "start_time": "2025-02-02T13:16:17.670Z"
   },
   {
    "duration": 18,
    "start_time": "2025-02-02T13:16:48.020Z"
   },
   {
    "duration": 18,
    "start_time": "2025-02-02T13:16:49.856Z"
   },
   {
    "duration": 18,
    "start_time": "2025-02-02T13:17:49.209Z"
   },
   {
    "duration": 5,
    "start_time": "2025-02-02T13:17:52.766Z"
   },
   {
    "duration": 6,
    "start_time": "2025-02-02T13:17:53.833Z"
   },
   {
    "duration": 7,
    "start_time": "2025-02-02T13:18:20.121Z"
   },
   {
    "duration": 16,
    "start_time": "2025-02-02T13:18:22.097Z"
   },
   {
    "duration": 463,
    "start_time": "2025-02-02T13:20:50.257Z"
   },
   {
    "duration": 114,
    "start_time": "2025-02-02T13:20:50.722Z"
   },
   {
    "duration": 11,
    "start_time": "2025-02-02T13:20:50.837Z"
   },
   {
    "duration": 19,
    "start_time": "2025-02-02T13:20:50.850Z"
   },
   {
    "duration": 13,
    "start_time": "2025-02-02T13:20:50.872Z"
   },
   {
    "duration": 25,
    "start_time": "2025-02-02T13:20:50.887Z"
   },
   {
    "duration": 15,
    "start_time": "2025-02-02T13:20:50.914Z"
   },
   {
    "duration": 4,
    "start_time": "2025-02-02T13:20:50.930Z"
   },
   {
    "duration": 11,
    "start_time": "2025-02-02T13:20:50.936Z"
   },
   {
    "duration": 29,
    "start_time": "2025-02-02T13:20:50.949Z"
   },
   {
    "duration": 18,
    "start_time": "2025-02-02T13:20:50.980Z"
   },
   {
    "duration": 15,
    "start_time": "2025-02-02T13:20:51.000Z"
   },
   {
    "duration": 7,
    "start_time": "2025-02-02T13:20:51.016Z"
   },
   {
    "duration": 15,
    "start_time": "2025-02-02T13:20:51.027Z"
   },
   {
    "duration": 58,
    "start_time": "2025-02-02T13:20:51.043Z"
   },
   {
    "duration": 10,
    "start_time": "2025-02-02T13:20:51.103Z"
   },
   {
    "duration": 12,
    "start_time": "2025-02-02T13:20:51.115Z"
   },
   {
    "duration": 11,
    "start_time": "2025-02-02T13:20:51.129Z"
   },
   {
    "duration": 39,
    "start_time": "2025-02-02T13:20:51.142Z"
   },
   {
    "duration": 12,
    "start_time": "2025-02-02T13:20:51.184Z"
   },
   {
    "duration": 11,
    "start_time": "2025-02-02T13:20:51.199Z"
   },
   {
    "duration": 19,
    "start_time": "2025-02-02T13:20:51.212Z"
   },
   {
    "duration": 20,
    "start_time": "2025-02-02T13:20:51.274Z"
   },
   {
    "duration": 10,
    "start_time": "2025-02-02T13:20:51.296Z"
   },
   {
    "duration": 11,
    "start_time": "2025-02-02T13:20:51.307Z"
   },
   {
    "duration": 13,
    "start_time": "2025-02-02T13:20:51.320Z"
   },
   {
    "duration": 10,
    "start_time": "2025-02-02T13:20:51.334Z"
   },
   {
    "duration": 32,
    "start_time": "2025-02-02T13:20:51.347Z"
   },
   {
    "duration": 9,
    "start_time": "2025-02-02T13:20:51.381Z"
   },
   {
    "duration": 9,
    "start_time": "2025-02-02T13:20:51.392Z"
   },
   {
    "duration": 6,
    "start_time": "2025-02-02T13:20:51.403Z"
   },
   {
    "duration": 23,
    "start_time": "2025-02-02T13:20:51.411Z"
   },
   {
    "duration": 22,
    "start_time": "2025-02-02T13:20:51.436Z"
   },
   {
    "duration": 29,
    "start_time": "2025-02-02T13:20:51.460Z"
   },
   {
    "duration": 10,
    "start_time": "2025-02-02T13:20:51.490Z"
   },
   {
    "duration": 7,
    "start_time": "2025-02-02T13:20:51.501Z"
   },
   {
    "duration": 10,
    "start_time": "2025-02-02T13:20:51.510Z"
   },
   {
    "duration": 51,
    "start_time": "2025-02-02T13:20:51.522Z"
   },
   {
    "duration": 21,
    "start_time": "2025-02-02T13:20:51.576Z"
   },
   {
    "duration": 10,
    "start_time": "2025-02-02T13:20:51.599Z"
   },
   {
    "duration": 17,
    "start_time": "2025-02-02T13:20:51.613Z"
   },
   {
    "duration": 5,
    "start_time": "2025-02-02T13:20:51.632Z"
   },
   {
    "duration": 4,
    "start_time": "2025-02-02T13:20:51.639Z"
   },
   {
    "duration": 17,
    "start_time": "2025-02-02T13:20:51.671Z"
   },
   {
    "duration": 7,
    "start_time": "2025-02-02T13:20:51.690Z"
   },
   {
    "duration": 6,
    "start_time": "2025-02-02T13:20:51.699Z"
   },
   {
    "duration": 20,
    "start_time": "2025-02-02T13:20:51.706Z"
   },
   {
    "duration": 58,
    "start_time": "2025-02-02T13:20:51.728Z"
   },
   {
    "duration": 6,
    "start_time": "2025-02-02T13:20:51.789Z"
   },
   {
    "duration": 36,
    "start_time": "2025-02-02T13:20:51.797Z"
   },
   {
    "duration": 7,
    "start_time": "2025-02-02T13:20:51.835Z"
   },
   {
    "duration": 18,
    "start_time": "2025-02-02T13:20:51.844Z"
   },
   {
    "duration": 469,
    "start_time": "2025-02-02T13:26:54.795Z"
   },
   {
    "duration": 154,
    "start_time": "2025-02-02T13:26:55.266Z"
   },
   {
    "duration": 12,
    "start_time": "2025-02-02T13:26:55.422Z"
   },
   {
    "duration": 20,
    "start_time": "2025-02-02T13:26:55.436Z"
   },
   {
    "duration": 14,
    "start_time": "2025-02-02T13:26:55.459Z"
   },
   {
    "duration": 22,
    "start_time": "2025-02-02T13:26:55.475Z"
   },
   {
    "duration": 15,
    "start_time": "2025-02-02T13:26:55.500Z"
   },
   {
    "duration": 5,
    "start_time": "2025-02-02T13:26:55.517Z"
   },
   {
    "duration": 47,
    "start_time": "2025-02-02T13:26:55.526Z"
   },
   {
    "duration": 14,
    "start_time": "2025-02-02T13:26:55.575Z"
   },
   {
    "duration": 19,
    "start_time": "2025-02-02T13:26:55.591Z"
   },
   {
    "duration": 17,
    "start_time": "2025-02-02T13:26:55.613Z"
   },
   {
    "duration": 40,
    "start_time": "2025-02-02T13:26:55.632Z"
   },
   {
    "duration": 17,
    "start_time": "2025-02-02T13:26:55.677Z"
   },
   {
    "duration": 34,
    "start_time": "2025-02-02T13:26:55.697Z"
   },
   {
    "duration": 38,
    "start_time": "2025-02-02T13:26:55.734Z"
   },
   {
    "duration": 13,
    "start_time": "2025-02-02T13:26:55.775Z"
   },
   {
    "duration": 19,
    "start_time": "2025-02-02T13:26:55.790Z"
   },
   {
    "duration": 11,
    "start_time": "2025-02-02T13:26:55.811Z"
   },
   {
    "duration": 13,
    "start_time": "2025-02-02T13:26:55.824Z"
   },
   {
    "duration": 24,
    "start_time": "2025-02-02T13:26:55.871Z"
   },
   {
    "duration": 15,
    "start_time": "2025-02-02T13:26:55.897Z"
   },
   {
    "duration": 16,
    "start_time": "2025-02-02T13:26:55.915Z"
   },
   {
    "duration": 12,
    "start_time": "2025-02-02T13:26:55.934Z"
   },
   {
    "duration": 5,
    "start_time": "2025-02-02T13:26:55.948Z"
   },
   {
    "duration": 9,
    "start_time": "2025-02-02T13:26:55.972Z"
   },
   {
    "duration": 8,
    "start_time": "2025-02-02T13:26:55.982Z"
   },
   {
    "duration": 10,
    "start_time": "2025-02-02T13:26:55.992Z"
   },
   {
    "duration": 6,
    "start_time": "2025-02-02T13:26:56.003Z"
   },
   {
    "duration": 4,
    "start_time": "2025-02-02T13:26:56.011Z"
   },
   {
    "duration": 5,
    "start_time": "2025-02-02T13:26:56.017Z"
   },
   {
    "duration": 49,
    "start_time": "2025-02-02T13:26:56.024Z"
   },
   {
    "duration": 6,
    "start_time": "2025-02-02T13:26:56.075Z"
   },
   {
    "duration": 14,
    "start_time": "2025-02-02T13:26:56.083Z"
   },
   {
    "duration": 9,
    "start_time": "2025-02-02T13:26:56.099Z"
   },
   {
    "duration": 3,
    "start_time": "2025-02-02T13:26:56.111Z"
   },
   {
    "duration": 59,
    "start_time": "2025-02-02T13:26:56.117Z"
   },
   {
    "duration": 11,
    "start_time": "2025-02-02T13:26:56.178Z"
   },
   {
    "duration": 25,
    "start_time": "2025-02-02T13:26:56.192Z"
   },
   {
    "duration": 4,
    "start_time": "2025-02-02T13:26:56.219Z"
   },
   {
    "duration": 44,
    "start_time": "2025-02-02T13:26:56.229Z"
   },
   {
    "duration": 4,
    "start_time": "2025-02-02T13:26:56.275Z"
   },
   {
    "duration": 13,
    "start_time": "2025-02-02T13:26:56.280Z"
   },
   {
    "duration": 29,
    "start_time": "2025-02-02T13:26:56.295Z"
   },
   {
    "duration": 7,
    "start_time": "2025-02-02T13:26:56.326Z"
   },
   {
    "duration": 6,
    "start_time": "2025-02-02T13:26:56.335Z"
   },
   {
    "duration": 36,
    "start_time": "2025-02-02T13:26:56.342Z"
   },
   {
    "duration": 20,
    "start_time": "2025-02-02T13:26:56.380Z"
   },
   {
    "duration": 7,
    "start_time": "2025-02-02T13:26:56.402Z"
   },
   {
    "duration": 15,
    "start_time": "2025-02-02T13:26:56.411Z"
   },
   {
    "duration": 8,
    "start_time": "2025-02-02T13:26:56.428Z"
   },
   {
    "duration": 50,
    "start_time": "2025-02-02T13:26:56.438Z"
   },
   {
    "duration": 389,
    "start_time": "2025-02-03T07:23:53.932Z"
   },
   {
    "duration": 102,
    "start_time": "2025-02-03T07:23:54.323Z"
   },
   {
    "duration": 10,
    "start_time": "2025-02-03T07:23:54.427Z"
   },
   {
    "duration": 75,
    "start_time": "2025-02-03T07:23:54.438Z"
   },
   {
    "duration": 15,
    "start_time": "2025-02-03T07:23:54.515Z"
   },
   {
    "duration": 3,
    "start_time": "2025-02-03T07:23:54.531Z"
   },
   {
    "duration": 11,
    "start_time": "2025-02-03T07:23:54.536Z"
   },
   {
    "duration": 12,
    "start_time": "2025-02-03T07:23:54.549Z"
   },
   {
    "duration": 14,
    "start_time": "2025-02-03T07:23:54.562Z"
   },
   {
    "duration": 29,
    "start_time": "2025-02-03T07:23:54.578Z"
   },
   {
    "duration": 16,
    "start_time": "2025-02-03T07:23:54.609Z"
   },
   {
    "duration": 9,
    "start_time": "2025-02-03T07:23:54.627Z"
   },
   {
    "duration": 14,
    "start_time": "2025-02-03T07:23:54.638Z"
   },
   {
    "duration": 6,
    "start_time": "2025-02-03T07:23:54.655Z"
   },
   {
    "duration": 38,
    "start_time": "2025-02-03T07:23:54.662Z"
   },
   {
    "duration": 20,
    "start_time": "2025-02-03T07:23:54.701Z"
   },
   {
    "duration": 8,
    "start_time": "2025-02-03T07:23:54.722Z"
   },
   {
    "duration": 9,
    "start_time": "2025-02-03T07:23:54.732Z"
   },
   {
    "duration": 11,
    "start_time": "2025-02-03T07:23:54.743Z"
   },
   {
    "duration": 9,
    "start_time": "2025-02-03T07:23:54.755Z"
   },
   {
    "duration": 9,
    "start_time": "2025-02-03T07:23:54.801Z"
   },
   {
    "duration": 10,
    "start_time": "2025-02-03T07:23:54.812Z"
   },
   {
    "duration": 12,
    "start_time": "2025-02-03T07:23:54.824Z"
   },
   {
    "duration": 9,
    "start_time": "2025-02-03T07:23:54.838Z"
   },
   {
    "duration": 12,
    "start_time": "2025-02-03T07:23:54.849Z"
   },
   {
    "duration": 37,
    "start_time": "2025-02-03T07:23:54.863Z"
   },
   {
    "duration": 5,
    "start_time": "2025-02-03T07:23:54.903Z"
   },
   {
    "duration": 24,
    "start_time": "2025-02-03T07:23:54.910Z"
   },
   {
    "duration": 8,
    "start_time": "2025-02-03T07:23:54.935Z"
   },
   {
    "duration": 6,
    "start_time": "2025-02-03T07:23:54.944Z"
   },
   {
    "duration": 4,
    "start_time": "2025-02-03T07:23:54.951Z"
   },
   {
    "duration": 4,
    "start_time": "2025-02-03T07:23:54.957Z"
   },
   {
    "duration": 6,
    "start_time": "2025-02-03T07:23:54.962Z"
   },
   {
    "duration": 30,
    "start_time": "2025-02-03T07:23:54.970Z"
   },
   {
    "duration": 26,
    "start_time": "2025-02-03T07:23:55.002Z"
   },
   {
    "duration": 12,
    "start_time": "2025-02-03T07:23:55.030Z"
   },
   {
    "duration": 11,
    "start_time": "2025-02-03T07:23:55.044Z"
   },
   {
    "duration": 21,
    "start_time": "2025-02-03T07:23:55.057Z"
   },
   {
    "duration": 16,
    "start_time": "2025-02-03T07:23:55.081Z"
   },
   {
    "duration": 34,
    "start_time": "2025-02-03T07:23:55.098Z"
   },
   {
    "duration": 2,
    "start_time": "2025-02-03T07:23:55.137Z"
   },
   {
    "duration": 4,
    "start_time": "2025-02-03T07:23:55.141Z"
   },
   {
    "duration": 3,
    "start_time": "2025-02-03T07:23:55.147Z"
   },
   {
    "duration": 4,
    "start_time": "2025-02-03T07:23:55.152Z"
   },
   {
    "duration": 14,
    "start_time": "2025-02-03T07:23:55.158Z"
   },
   {
    "duration": 5,
    "start_time": "2025-02-03T07:23:55.173Z"
   },
   {
    "duration": 4,
    "start_time": "2025-02-03T07:23:55.199Z"
   },
   {
    "duration": 106,
    "start_time": "2025-02-03T07:23:55.204Z"
   },
   {
    "duration": 90,
    "start_time": "2025-02-03T07:23:55.311Z"
   },
   {
    "duration": 5,
    "start_time": "2025-02-03T07:23:55.403Z"
   },
   {
    "duration": 18,
    "start_time": "2025-02-03T07:23:55.410Z"
   },
   {
    "duration": 8,
    "start_time": "2025-02-03T07:23:55.430Z"
   },
   {
    "duration": 20,
    "start_time": "2025-02-03T07:23:55.440Z"
   },
   {
    "duration": 50,
    "start_time": "2025-02-03T18:26:19.398Z"
   },
   {
    "duration": 415,
    "start_time": "2025-02-03T18:26:42.964Z"
   },
   {
    "duration": 92,
    "start_time": "2025-02-03T18:26:43.381Z"
   },
   {
    "duration": 10,
    "start_time": "2025-02-03T18:26:43.474Z"
   },
   {
    "duration": 37,
    "start_time": "2025-02-03T18:26:43.486Z"
   },
   {
    "duration": 35,
    "start_time": "2025-02-03T18:26:43.524Z"
   },
   {
    "duration": 3,
    "start_time": "2025-02-03T18:26:43.561Z"
   },
   {
    "duration": 12,
    "start_time": "2025-02-03T18:26:43.566Z"
   },
   {
    "duration": 11,
    "start_time": "2025-02-03T18:26:43.580Z"
   },
   {
    "duration": 3,
    "start_time": "2025-02-03T18:26:43.593Z"
   },
   {
    "duration": 11,
    "start_time": "2025-02-03T18:26:43.600Z"
   },
   {
    "duration": 48,
    "start_time": "2025-02-03T18:26:43.612Z"
   },
   {
    "duration": 10,
    "start_time": "2025-02-03T18:26:43.662Z"
   },
   {
    "duration": 14,
    "start_time": "2025-02-03T18:26:43.674Z"
   },
   {
    "duration": 5,
    "start_time": "2025-02-03T18:26:43.689Z"
   },
   {
    "duration": 14,
    "start_time": "2025-02-03T18:26:43.696Z"
   },
   {
    "duration": 49,
    "start_time": "2025-02-03T18:26:43.712Z"
   },
   {
    "duration": 9,
    "start_time": "2025-02-03T18:26:43.763Z"
   },
   {
    "duration": 11,
    "start_time": "2025-02-03T18:26:43.774Z"
   },
   {
    "duration": 12,
    "start_time": "2025-02-03T18:26:43.787Z"
   },
   {
    "duration": 11,
    "start_time": "2025-02-03T18:26:43.800Z"
   },
   {
    "duration": 55,
    "start_time": "2025-02-03T18:26:43.812Z"
   },
   {
    "duration": 9,
    "start_time": "2025-02-03T18:26:43.868Z"
   },
   {
    "duration": 13,
    "start_time": "2025-02-03T18:26:43.879Z"
   },
   {
    "duration": 9,
    "start_time": "2025-02-03T18:26:43.893Z"
   },
   {
    "duration": 8,
    "start_time": "2025-02-03T18:26:43.904Z"
   },
   {
    "duration": 4,
    "start_time": "2025-02-03T18:26:43.913Z"
   },
   {
    "duration": 43,
    "start_time": "2025-02-03T18:26:43.918Z"
   },
   {
    "duration": 6,
    "start_time": "2025-02-03T18:26:43.964Z"
   },
   {
    "duration": 10,
    "start_time": "2025-02-03T18:26:43.972Z"
   },
   {
    "duration": 8,
    "start_time": "2025-02-03T18:26:43.983Z"
   },
   {
    "duration": 5,
    "start_time": "2025-02-03T18:26:43.993Z"
   },
   {
    "duration": 4,
    "start_time": "2025-02-03T18:26:44.000Z"
   },
   {
    "duration": 5,
    "start_time": "2025-02-03T18:26:44.006Z"
   },
   {
    "duration": 51,
    "start_time": "2025-02-03T18:26:44.013Z"
   },
   {
    "duration": 10,
    "start_time": "2025-02-03T18:26:44.065Z"
   },
   {
    "duration": 7,
    "start_time": "2025-02-03T18:26:44.077Z"
   },
   {
    "duration": 3,
    "start_time": "2025-02-03T18:26:44.086Z"
   },
   {
    "duration": 8,
    "start_time": "2025-02-03T18:26:44.091Z"
   },
   {
    "duration": 8,
    "start_time": "2025-02-03T18:26:44.101Z"
   },
   {
    "duration": 59,
    "start_time": "2025-02-03T18:26:44.110Z"
   },
   {
    "duration": 4,
    "start_time": "2025-02-03T18:26:44.170Z"
   },
   {
    "duration": 5,
    "start_time": "2025-02-03T18:26:44.175Z"
   },
   {
    "duration": 3,
    "start_time": "2025-02-03T18:26:44.181Z"
   },
   {
    "duration": 4,
    "start_time": "2025-02-03T18:26:44.185Z"
   },
   {
    "duration": 12,
    "start_time": "2025-02-03T18:26:44.191Z"
   },
   {
    "duration": 5,
    "start_time": "2025-02-03T18:26:44.205Z"
   },
   {
    "duration": 8,
    "start_time": "2025-02-03T18:26:44.212Z"
   },
   {
    "duration": 17,
    "start_time": "2025-02-03T18:26:44.259Z"
   },
   {
    "duration": 18,
    "start_time": "2025-02-03T18:26:44.278Z"
   },
   {
    "duration": 4,
    "start_time": "2025-02-03T18:26:44.298Z"
   },
   {
    "duration": 29,
    "start_time": "2025-02-03T18:26:44.303Z"
   },
   {
    "duration": 6,
    "start_time": "2025-02-03T18:26:44.333Z"
   },
   {
    "duration": 27,
    "start_time": "2025-02-03T18:26:44.340Z"
   },
   {
    "duration": 7,
    "start_time": "2025-02-03T18:29:21.680Z"
   },
   {
    "duration": 63,
    "start_time": "2025-02-03T18:29:59.714Z"
   },
   {
    "duration": 10,
    "start_time": "2025-02-03T18:30:36.567Z"
   },
   {
    "duration": 9,
    "start_time": "2025-02-03T18:35:29.533Z"
   },
   {
    "duration": 1165,
    "start_time": "2025-02-03T18:35:33.940Z"
   },
   {
    "duration": 10,
    "start_time": "2025-02-03T18:37:03.123Z"
   },
   {
    "duration": 6,
    "start_time": "2025-02-03T18:37:52.356Z"
   },
   {
    "duration": 7,
    "start_time": "2025-02-03T18:44:53.346Z"
   },
   {
    "duration": 329,
    "start_time": "2025-02-03T18:45:02.098Z"
   },
   {
    "duration": 284,
    "start_time": "2025-02-03T18:49:17.228Z"
   },
   {
    "duration": 369,
    "start_time": "2025-02-03T18:49:46.603Z"
   },
   {
    "duration": 107,
    "start_time": "2025-02-03T18:49:46.974Z"
   },
   {
    "duration": 11,
    "start_time": "2025-02-03T18:49:47.083Z"
   },
   {
    "duration": 39,
    "start_time": "2025-02-03T18:49:47.862Z"
   },
   {
    "duration": 15,
    "start_time": "2025-02-03T18:49:47.903Z"
   },
   {
    "duration": 4,
    "start_time": "2025-02-03T18:49:47.960Z"
   },
   {
    "duration": 10,
    "start_time": "2025-02-03T18:49:47.994Z"
   },
   {
    "duration": 12,
    "start_time": "2025-02-03T18:49:48.023Z"
   },
   {
    "duration": 4,
    "start_time": "2025-02-03T18:49:49.332Z"
   },
   {
    "duration": 10,
    "start_time": "2025-02-03T18:49:49.687Z"
   },
   {
    "duration": 10,
    "start_time": "2025-02-03T18:49:51.749Z"
   },
   {
    "duration": 10,
    "start_time": "2025-02-03T18:49:52.438Z"
   },
   {
    "duration": 15,
    "start_time": "2025-02-03T18:49:52.878Z"
   },
   {
    "duration": 5,
    "start_time": "2025-02-03T18:49:53.213Z"
   },
   {
    "duration": 15,
    "start_time": "2025-02-03T18:49:53.412Z"
   },
   {
    "duration": 21,
    "start_time": "2025-02-03T18:49:53.988Z"
   },
   {
    "duration": 9,
    "start_time": "2025-02-03T18:49:54.787Z"
   },
   {
    "duration": 14,
    "start_time": "2025-02-03T18:49:55.165Z"
   },
   {
    "duration": 16,
    "start_time": "2025-02-03T18:49:55.652Z"
   },
   {
    "duration": 10,
    "start_time": "2025-02-03T18:49:55.918Z"
   },
   {
    "duration": 9,
    "start_time": "2025-02-03T18:49:56.164Z"
   },
   {
    "duration": 9,
    "start_time": "2025-02-03T18:49:56.521Z"
   },
   {
    "duration": 14,
    "start_time": "2025-02-03T18:49:57.060Z"
   },
   {
    "duration": 345,
    "start_time": "2025-02-03T18:50:00.041Z"
   },
   {
    "duration": 9,
    "start_time": "2025-02-03T18:50:02.217Z"
   },
   {
    "duration": 5,
    "start_time": "2025-02-03T18:51:52.605Z"
   },
   {
    "duration": 5,
    "start_time": "2025-02-03T18:51:53.313Z"
   },
   {
    "duration": 2,
    "start_time": "2025-02-03T18:52:58.964Z"
   },
   {
    "duration": 5,
    "start_time": "2025-02-03T19:00:11.651Z"
   },
   {
    "duration": 5,
    "start_time": "2025-02-03T19:00:23.006Z"
   },
   {
    "duration": 5,
    "start_time": "2025-02-03T19:01:15.455Z"
   },
   {
    "duration": 4,
    "start_time": "2025-02-03T19:01:23.361Z"
   },
   {
    "duration": 5,
    "start_time": "2025-02-03T19:01:31.529Z"
   },
   {
    "duration": 5,
    "start_time": "2025-02-03T19:01:43.799Z"
   },
   {
    "duration": 5,
    "start_time": "2025-02-03T19:02:15.933Z"
   },
   {
    "duration": 73,
    "start_time": "2025-02-03T19:03:11.283Z"
   },
   {
    "duration": 4,
    "start_time": "2025-02-03T19:04:18.761Z"
   },
   {
    "duration": 10,
    "start_time": "2025-02-03T19:04:21.354Z"
   },
   {
    "duration": 6,
    "start_time": "2025-02-03T19:05:03.719Z"
   },
   {
    "duration": 4,
    "start_time": "2025-02-03T19:05:03.896Z"
   },
   {
    "duration": 5,
    "start_time": "2025-02-03T19:05:04.095Z"
   },
   {
    "duration": 4,
    "start_time": "2025-02-03T19:05:05.610Z"
   },
   {
    "duration": 5,
    "start_time": "2025-02-03T19:05:05.808Z"
   },
   {
    "duration": 10,
    "start_time": "2025-02-03T19:05:07.523Z"
   },
   {
    "duration": 7,
    "start_time": "2025-02-03T19:05:09.903Z"
   },
   {
    "duration": 3,
    "start_time": "2025-02-03T19:05:10.707Z"
   },
   {
    "duration": 7,
    "start_time": "2025-02-03T19:05:13.122Z"
   },
   {
    "duration": 371,
    "start_time": "2025-02-03T19:05:40.818Z"
   },
   {
    "duration": 153,
    "start_time": "2025-02-03T19:05:41.191Z"
   },
   {
    "duration": 10,
    "start_time": "2025-02-03T19:05:41.695Z"
   },
   {
    "duration": 38,
    "start_time": "2025-02-03T19:05:41.756Z"
   },
   {
    "duration": 15,
    "start_time": "2025-02-03T19:05:41.795Z"
   },
   {
    "duration": 4,
    "start_time": "2025-02-03T19:05:41.857Z"
   },
   {
    "duration": 10,
    "start_time": "2025-02-03T19:05:41.887Z"
   },
   {
    "duration": 12,
    "start_time": "2025-02-03T19:05:41.920Z"
   },
   {
    "duration": 4,
    "start_time": "2025-02-03T19:05:42.079Z"
   },
   {
    "duration": 10,
    "start_time": "2025-02-03T19:05:42.149Z"
   },
   {
    "duration": 11,
    "start_time": "2025-02-03T19:05:42.306Z"
   },
   {
    "duration": 10,
    "start_time": "2025-02-03T19:05:42.435Z"
   },
   {
    "duration": 14,
    "start_time": "2025-02-03T19:05:46.208Z"
   },
   {
    "duration": 5,
    "start_time": "2025-02-03T19:05:48.244Z"
   },
   {
    "duration": 15,
    "start_time": "2025-02-03T19:05:48.399Z"
   },
   {
    "duration": 20,
    "start_time": "2025-02-03T19:05:49.152Z"
   },
   {
    "duration": 9,
    "start_time": "2025-02-03T19:05:50.504Z"
   },
   {
    "duration": 10,
    "start_time": "2025-02-03T19:05:50.683Z"
   },
   {
    "duration": 10,
    "start_time": "2025-02-03T19:05:51.298Z"
   },
   {
    "duration": 9,
    "start_time": "2025-02-03T19:05:51.591Z"
   },
   {
    "duration": 10,
    "start_time": "2025-02-03T19:05:54.895Z"
   },
   {
    "duration": 11,
    "start_time": "2025-02-03T19:05:55.092Z"
   },
   {
    "duration": 16,
    "start_time": "2025-02-03T19:05:56.018Z"
   },
   {
    "duration": 342,
    "start_time": "2025-02-03T19:05:59.860Z"
   },
   {
    "duration": 9,
    "start_time": "2025-02-03T19:06:07.965Z"
   },
   {
    "duration": 5,
    "start_time": "2025-02-03T19:06:30.529Z"
   },
   {
    "duration": 5,
    "start_time": "2025-02-03T19:06:32.151Z"
   },
   {
    "duration": 5,
    "start_time": "2025-02-03T19:06:35.113Z"
   },
   {
    "duration": 13,
    "start_time": "2025-02-03T19:06:36.702Z"
   },
   {
    "duration": 6,
    "start_time": "2025-02-03T19:06:39.420Z"
   },
   {
    "duration": 6,
    "start_time": "2025-02-03T19:06:39.639Z"
   },
   {
    "duration": 4,
    "start_time": "2025-02-03T19:06:41.230Z"
   },
   {
    "duration": 4,
    "start_time": "2025-02-03T19:06:41.404Z"
   },
   {
    "duration": 6,
    "start_time": "2025-02-03T19:06:41.581Z"
   },
   {
    "duration": 11,
    "start_time": "2025-02-03T19:06:43.758Z"
   },
   {
    "duration": 7,
    "start_time": "2025-02-03T19:09:00.861Z"
   },
   {
    "duration": 7,
    "start_time": "2025-02-03T19:09:25.132Z"
   },
   {
    "duration": 3,
    "start_time": "2025-02-03T19:09:36.052Z"
   },
   {
    "duration": 7,
    "start_time": "2025-02-03T19:11:27.379Z"
   },
   {
    "duration": 3,
    "start_time": "2025-02-03T19:11:54.332Z"
   },
   {
    "duration": 8,
    "start_time": "2025-02-03T19:12:36.115Z"
   },
   {
    "duration": 9,
    "start_time": "2025-02-03T19:12:42.549Z"
   },
   {
    "duration": 17,
    "start_time": "2025-02-03T19:13:21.220Z"
   },
   {
    "duration": 14,
    "start_time": "2025-02-03T19:14:29.469Z"
   },
   {
    "duration": 3,
    "start_time": "2025-02-03T19:14:46.710Z"
   },
   {
    "duration": 4,
    "start_time": "2025-02-03T19:14:49.306Z"
   },
   {
    "duration": 3,
    "start_time": "2025-02-03T19:14:57.515Z"
   },
   {
    "duration": 4,
    "start_time": "2025-02-03T19:15:07.666Z"
   },
   {
    "duration": 89,
    "start_time": "2025-02-03T19:17:07.191Z"
   },
   {
    "duration": 14,
    "start_time": "2025-02-03T19:17:48.464Z"
   },
   {
    "duration": 3,
    "start_time": "2025-02-03T19:17:51.186Z"
   },
   {
    "duration": 4,
    "start_time": "2025-02-03T19:17:52.359Z"
   },
   {
    "duration": 5,
    "start_time": "2025-02-03T19:17:53.134Z"
   },
   {
    "duration": 13,
    "start_time": "2025-02-03T19:17:56.979Z"
   },
   {
    "duration": 390,
    "start_time": "2025-02-03T19:19:56.380Z"
   },
   {
    "duration": 146,
    "start_time": "2025-02-03T19:19:56.772Z"
   },
   {
    "duration": 10,
    "start_time": "2025-02-03T19:19:57.152Z"
   },
   {
    "duration": 36,
    "start_time": "2025-02-03T19:19:57.574Z"
   },
   {
    "duration": 20,
    "start_time": "2025-02-03T19:19:57.840Z"
   },
   {
    "duration": 4,
    "start_time": "2025-02-03T19:19:58.375Z"
   },
   {
    "duration": 10,
    "start_time": "2025-02-03T19:19:58.641Z"
   },
   {
    "duration": 12,
    "start_time": "2025-02-03T19:19:59.507Z"
   },
   {
    "duration": 3,
    "start_time": "2025-02-03T19:20:01.234Z"
   },
   {
    "duration": 10,
    "start_time": "2025-02-03T19:20:01.857Z"
   },
   {
    "duration": 10,
    "start_time": "2025-02-03T19:20:08.691Z"
   },
   {
    "duration": 11,
    "start_time": "2025-02-03T19:20:35.523Z"
   },
   {
    "duration": 15,
    "start_time": "2025-02-03T19:20:37.101Z"
   },
   {
    "duration": 6,
    "start_time": "2025-02-03T19:20:46.033Z"
   },
   {
    "duration": 14,
    "start_time": "2025-02-03T19:20:46.297Z"
   },
   {
    "duration": 20,
    "start_time": "2025-02-03T19:20:49.542Z"
   },
   {
    "duration": 10,
    "start_time": "2025-02-03T19:20:53.068Z"
   },
   {
    "duration": 10,
    "start_time": "2025-02-03T19:20:55.584Z"
   },
   {
    "duration": 10,
    "start_time": "2025-02-03T19:21:01.618Z"
   },
   {
    "duration": 9,
    "start_time": "2025-02-03T19:21:01.907Z"
   },
   {
    "duration": 9,
    "start_time": "2025-02-03T19:21:03.382Z"
   },
   {
    "duration": 9,
    "start_time": "2025-02-03T19:21:03.580Z"
   },
   {
    "duration": 13,
    "start_time": "2025-02-03T19:21:05.322Z"
   },
   {
    "duration": 357,
    "start_time": "2025-02-03T19:21:14.941Z"
   },
   {
    "duration": 9,
    "start_time": "2025-02-03T19:21:19.419Z"
   },
   {
    "duration": 5,
    "start_time": "2025-02-03T19:21:23.236Z"
   },
   {
    "duration": 6,
    "start_time": "2025-02-03T19:21:24.786Z"
   },
   {
    "duration": 5,
    "start_time": "2025-02-03T19:21:26.640Z"
   },
   {
    "duration": 9,
    "start_time": "2025-02-03T19:21:29.413Z"
   },
   {
    "duration": 5,
    "start_time": "2025-02-03T19:21:31.372Z"
   },
   {
    "duration": 6,
    "start_time": "2025-02-03T19:21:31.685Z"
   },
   {
    "duration": 5,
    "start_time": "2025-02-03T19:21:32.062Z"
   },
   {
    "duration": 5,
    "start_time": "2025-02-03T19:21:33.619Z"
   },
   {
    "duration": 5,
    "start_time": "2025-02-03T19:21:33.974Z"
   },
   {
    "duration": 11,
    "start_time": "2025-02-03T19:21:34.772Z"
   },
   {
    "duration": 9,
    "start_time": "2025-02-03T19:21:36.946Z"
   },
   {
    "duration": 3,
    "start_time": "2025-02-03T19:21:39.258Z"
   },
   {
    "duration": 8,
    "start_time": "2025-02-03T19:21:42.187Z"
   },
   {
    "duration": 15,
    "start_time": "2025-02-03T19:21:44.979Z"
   },
   {
    "duration": 3,
    "start_time": "2025-02-03T19:21:49.220Z"
   },
   {
    "duration": 4,
    "start_time": "2025-02-03T19:21:49.664Z"
   },
   {
    "duration": 4,
    "start_time": "2025-02-03T19:21:51.759Z"
   },
   {
    "duration": 13,
    "start_time": "2025-02-03T19:22:19.325Z"
   },
   {
    "duration": 6,
    "start_time": "2025-02-03T19:22:23.037Z"
   },
   {
    "duration": 5,
    "start_time": "2025-02-03T19:22:23.412Z"
   },
   {
    "duration": 8,
    "start_time": "2025-02-03T19:28:27.317Z"
   },
   {
    "duration": 9,
    "start_time": "2025-02-03T19:29:09.026Z"
   },
   {
    "duration": 16,
    "start_time": "2025-02-03T19:29:10.814Z"
   },
   {
    "duration": 20,
    "start_time": "2025-02-03T19:29:58.906Z"
   },
   {
    "duration": 19,
    "start_time": "2025-02-03T19:30:06.717Z"
   },
   {
    "duration": 14,
    "start_time": "2025-02-03T19:30:10.255Z"
   },
   {
    "duration": 1458,
    "start_time": "2025-02-03T19:30:18.394Z"
   },
   {
    "duration": 417,
    "start_time": "2025-02-03T19:31:02.552Z"
   },
   {
    "duration": 104,
    "start_time": "2025-02-03T19:31:03.506Z"
   },
   {
    "duration": 10,
    "start_time": "2025-02-03T19:31:04.562Z"
   },
   {
    "duration": 38,
    "start_time": "2025-02-03T19:31:04.625Z"
   },
   {
    "duration": 18,
    "start_time": "2025-02-03T19:31:04.666Z"
   },
   {
    "duration": 4,
    "start_time": "2025-02-03T19:31:04.722Z"
   },
   {
    "duration": 10,
    "start_time": "2025-02-03T19:31:04.754Z"
   },
   {
    "duration": 12,
    "start_time": "2025-02-03T19:31:04.790Z"
   },
   {
    "duration": 4,
    "start_time": "2025-02-03T19:31:04.946Z"
   },
   {
    "duration": 10,
    "start_time": "2025-02-03T19:31:05.017Z"
   },
   {
    "duration": 17,
    "start_time": "2025-02-03T19:31:05.175Z"
   },
   {
    "duration": 10,
    "start_time": "2025-02-03T19:31:05.272Z"
   },
   {
    "duration": 14,
    "start_time": "2025-02-03T19:31:05.334Z"
   },
   {
    "duration": 5,
    "start_time": "2025-02-03T19:31:05.406Z"
   },
   {
    "duration": 14,
    "start_time": "2025-02-03T19:31:06.347Z"
   },
   {
    "duration": 21,
    "start_time": "2025-02-03T19:31:07.159Z"
   },
   {
    "duration": 9,
    "start_time": "2025-02-03T19:31:07.261Z"
   },
   {
    "duration": 9,
    "start_time": "2025-02-03T19:31:07.289Z"
   },
   {
    "duration": 12,
    "start_time": "2025-02-03T19:31:07.392Z"
   },
   {
    "duration": 8,
    "start_time": "2025-02-03T19:31:07.418Z"
   },
   {
    "duration": 9,
    "start_time": "2025-02-03T19:31:07.452Z"
   },
   {
    "duration": 9,
    "start_time": "2025-02-03T19:31:07.483Z"
   },
   {
    "duration": 13,
    "start_time": "2025-02-03T19:31:07.518Z"
   },
   {
    "duration": 343,
    "start_time": "2025-02-03T19:31:07.581Z"
   },
   {
    "duration": 8,
    "start_time": "2025-02-03T19:31:07.926Z"
   },
   {
    "duration": 5,
    "start_time": "2025-02-03T19:31:07.936Z"
   },
   {
    "duration": 18,
    "start_time": "2025-02-03T19:31:07.942Z"
   },
   {
    "duration": 4,
    "start_time": "2025-02-03T19:31:07.961Z"
   },
   {
    "duration": 8,
    "start_time": "2025-02-03T19:31:07.966Z"
   },
   {
    "duration": 6,
    "start_time": "2025-02-03T19:31:09.852Z"
   },
   {
    "duration": 4,
    "start_time": "2025-02-03T19:31:09.987Z"
   },
   {
    "duration": 4,
    "start_time": "2025-02-03T19:31:10.143Z"
   },
   {
    "duration": 4,
    "start_time": "2025-02-03T19:31:10.297Z"
   },
   {
    "duration": 5,
    "start_time": "2025-02-03T19:31:10.428Z"
   },
   {
    "duration": 10,
    "start_time": "2025-02-03T19:31:10.717Z"
   },
   {
    "duration": 7,
    "start_time": "2025-02-03T19:31:11.537Z"
   },
   {
    "duration": 2,
    "start_time": "2025-02-03T19:31:11.915Z"
   },
   {
    "duration": 8,
    "start_time": "2025-02-03T19:31:12.202Z"
   },
   {
    "duration": 13,
    "start_time": "2025-02-03T19:31:12.671Z"
   },
   {
    "duration": 4,
    "start_time": "2025-02-03T19:31:13.511Z"
   },
   {
    "duration": 3,
    "start_time": "2025-02-03T19:31:13.730Z"
   },
   {
    "duration": 3,
    "start_time": "2025-02-03T19:31:14.090Z"
   },
   {
    "duration": 13,
    "start_time": "2025-02-03T19:31:15.062Z"
   },
   {
    "duration": 7,
    "start_time": "2025-02-03T19:31:16.280Z"
   },
   {
    "duration": 4,
    "start_time": "2025-02-03T19:31:16.479Z"
   },
   {
    "duration": 18,
    "start_time": "2025-02-03T19:31:41.360Z"
   },
   {
    "duration": 21,
    "start_time": "2025-02-03T19:32:49.865Z"
   },
   {
    "duration": 408,
    "start_time": "2025-02-03T19:34:24.882Z"
   },
   {
    "duration": 102,
    "start_time": "2025-02-03T19:34:25.417Z"
   },
   {
    "duration": 10,
    "start_time": "2025-02-03T19:34:25.521Z"
   },
   {
    "duration": 37,
    "start_time": "2025-02-03T19:34:25.547Z"
   },
   {
    "duration": 18,
    "start_time": "2025-02-03T19:34:25.585Z"
   },
   {
    "duration": 4,
    "start_time": "2025-02-03T19:34:25.644Z"
   },
   {
    "duration": 15,
    "start_time": "2025-02-03T19:34:25.678Z"
   },
   {
    "duration": 18,
    "start_time": "2025-02-03T19:34:25.708Z"
   },
   {
    "duration": 3,
    "start_time": "2025-02-03T19:34:25.869Z"
   },
   {
    "duration": 10,
    "start_time": "2025-02-03T19:34:25.939Z"
   },
   {
    "duration": 11,
    "start_time": "2025-02-03T19:34:26.095Z"
   },
   {
    "duration": 12,
    "start_time": "2025-02-03T19:34:26.192Z"
   },
   {
    "duration": 16,
    "start_time": "2025-02-03T19:34:26.258Z"
   },
   {
    "duration": 5,
    "start_time": "2025-02-03T19:34:26.323Z"
   },
   {
    "duration": 14,
    "start_time": "2025-02-03T19:34:26.355Z"
   },
   {
    "duration": 21,
    "start_time": "2025-02-03T19:34:26.454Z"
   },
   {
    "duration": 10,
    "start_time": "2025-02-03T19:34:26.549Z"
   },
   {
    "duration": 10,
    "start_time": "2025-02-03T19:34:26.580Z"
   },
   {
    "duration": 10,
    "start_time": "2025-02-03T19:34:27.196Z"
   },
   {
    "duration": 9,
    "start_time": "2025-02-03T19:34:27.347Z"
   },
   {
    "duration": 10,
    "start_time": "2025-02-03T19:34:27.850Z"
   },
   {
    "duration": 9,
    "start_time": "2025-02-03T19:34:27.882Z"
   },
   {
    "duration": 13,
    "start_time": "2025-02-03T19:34:27.919Z"
   },
   {
    "duration": 340,
    "start_time": "2025-02-03T19:34:27.979Z"
   },
   {
    "duration": 8,
    "start_time": "2025-02-03T19:34:28.321Z"
   },
   {
    "duration": 5,
    "start_time": "2025-02-03T19:34:28.331Z"
   },
   {
    "duration": 6,
    "start_time": "2025-02-03T19:34:28.806Z"
   },
   {
    "duration": 4,
    "start_time": "2025-02-03T19:34:29.342Z"
   },
   {
    "duration": 9,
    "start_time": "2025-02-03T19:34:29.406Z"
   },
   {
    "duration": 6,
    "start_time": "2025-02-03T19:34:29.504Z"
   },
   {
    "duration": 5,
    "start_time": "2025-02-03T19:34:29.536Z"
   },
   {
    "duration": 6,
    "start_time": "2025-02-03T19:34:29.568Z"
   },
   {
    "duration": 5,
    "start_time": "2025-02-03T19:34:30.273Z"
   },
   {
    "duration": 4,
    "start_time": "2025-02-03T19:34:30.428Z"
   },
   {
    "duration": 11,
    "start_time": "2025-02-03T19:34:30.715Z"
   },
   {
    "duration": 7,
    "start_time": "2025-02-03T19:34:31.331Z"
   },
   {
    "duration": 4,
    "start_time": "2025-02-03T19:34:31.659Z"
   },
   {
    "duration": 8,
    "start_time": "2025-02-03T19:34:31.952Z"
   },
   {
    "duration": 14,
    "start_time": "2025-02-03T19:34:32.351Z"
   },
   {
    "duration": 3,
    "start_time": "2025-02-03T19:34:34.393Z"
   },
   {
    "duration": 3,
    "start_time": "2025-02-03T19:34:34.550Z"
   },
   {
    "duration": 4,
    "start_time": "2025-02-03T19:34:34.816Z"
   },
   {
    "duration": 13,
    "start_time": "2025-02-03T19:34:35.527Z"
   },
   {
    "duration": 7,
    "start_time": "2025-02-03T19:34:36.700Z"
   },
   {
    "duration": 5,
    "start_time": "2025-02-03T19:34:36.835Z"
   },
   {
    "duration": 18,
    "start_time": "2025-02-03T19:34:40.042Z"
   },
   {
    "duration": 17,
    "start_time": "2025-02-03T19:34:50.802Z"
   },
   {
    "duration": 6,
    "start_time": "2025-02-03T19:35:01.810Z"
   },
   {
    "duration": 5,
    "start_time": "2025-02-03T19:35:07.912Z"
   },
   {
    "duration": 6,
    "start_time": "2025-02-03T19:35:11.711Z"
   },
   {
    "duration": 15,
    "start_time": "2025-02-03T19:35:14.956Z"
   },
   {
    "duration": 368,
    "start_time": "2025-02-03T19:49:20.103Z"
   },
   {
    "duration": 93,
    "start_time": "2025-02-03T19:49:20.473Z"
   },
   {
    "duration": 11,
    "start_time": "2025-02-03T19:49:20.568Z"
   },
   {
    "duration": 37,
    "start_time": "2025-02-03T19:49:20.581Z"
   },
   {
    "duration": 17,
    "start_time": "2025-02-03T19:49:20.620Z"
   },
   {
    "duration": 4,
    "start_time": "2025-02-03T19:49:20.658Z"
   },
   {
    "duration": 11,
    "start_time": "2025-02-03T19:49:20.663Z"
   },
   {
    "duration": 12,
    "start_time": "2025-02-03T19:49:20.676Z"
   },
   {
    "duration": 3,
    "start_time": "2025-02-03T19:49:20.690Z"
   },
   {
    "duration": 9,
    "start_time": "2025-02-03T19:49:20.697Z"
   },
   {
    "duration": 10,
    "start_time": "2025-02-03T19:49:20.707Z"
   },
   {
    "duration": 47,
    "start_time": "2025-02-03T19:49:20.719Z"
   },
   {
    "duration": 18,
    "start_time": "2025-02-03T19:49:20.767Z"
   },
   {
    "duration": 5,
    "start_time": "2025-02-03T19:49:20.787Z"
   },
   {
    "duration": 14,
    "start_time": "2025-02-03T19:49:20.793Z"
   },
   {
    "duration": 20,
    "start_time": "2025-02-03T19:49:20.809Z"
   },
   {
    "duration": 11,
    "start_time": "2025-02-03T19:49:20.858Z"
   },
   {
    "duration": 12,
    "start_time": "2025-02-03T19:49:20.870Z"
   },
   {
    "duration": 11,
    "start_time": "2025-02-03T19:49:20.884Z"
   },
   {
    "duration": 8,
    "start_time": "2025-02-03T19:49:20.897Z"
   },
   {
    "duration": 10,
    "start_time": "2025-02-03T19:49:20.907Z"
   },
   {
    "duration": 9,
    "start_time": "2025-02-03T19:49:20.958Z"
   },
   {
    "duration": 13,
    "start_time": "2025-02-03T19:49:20.968Z"
   },
   {
    "duration": 359,
    "start_time": "2025-02-03T19:49:20.983Z"
   },
   {
    "duration": 14,
    "start_time": "2025-02-03T19:49:21.344Z"
   },
   {
    "duration": 6,
    "start_time": "2025-02-03T19:49:21.359Z"
   },
   {
    "duration": 5,
    "start_time": "2025-02-03T19:49:21.367Z"
   },
   {
    "duration": 4,
    "start_time": "2025-02-03T19:49:21.375Z"
   },
   {
    "duration": 8,
    "start_time": "2025-02-03T19:49:21.380Z"
   },
   {
    "duration": 5,
    "start_time": "2025-02-03T19:49:21.390Z"
   },
   {
    "duration": 5,
    "start_time": "2025-02-03T19:49:21.396Z"
   },
   {
    "duration": 9,
    "start_time": "2025-02-03T19:49:21.402Z"
   },
   {
    "duration": 7,
    "start_time": "2025-02-03T19:49:21.412Z"
   },
   {
    "duration": 41,
    "start_time": "2025-02-03T19:49:21.420Z"
   },
   {
    "duration": 10,
    "start_time": "2025-02-03T19:49:21.463Z"
   },
   {
    "duration": 20,
    "start_time": "2025-02-03T19:49:21.474Z"
   },
   {
    "duration": 3,
    "start_time": "2025-02-03T19:49:21.495Z"
   },
   {
    "duration": 7,
    "start_time": "2025-02-03T19:49:21.500Z"
   },
   {
    "duration": 29,
    "start_time": "2025-02-03T19:49:21.509Z"
   },
   {
    "duration": 3,
    "start_time": "2025-02-03T19:49:21.539Z"
   },
   {
    "duration": 16,
    "start_time": "2025-02-03T19:49:21.543Z"
   },
   {
    "duration": 47,
    "start_time": "2025-02-03T19:49:21.561Z"
   },
   {
    "duration": 19,
    "start_time": "2025-02-03T19:49:21.610Z"
   },
   {
    "duration": 7,
    "start_time": "2025-02-03T19:49:21.631Z"
   },
   {
    "duration": 13,
    "start_time": "2025-02-03T19:49:21.639Z"
   },
   {
    "duration": 18,
    "start_time": "2025-02-03T19:49:21.654Z"
   },
   {
    "duration": 14,
    "start_time": "2025-02-03T19:49:21.674Z"
   },
   {
    "duration": 5,
    "start_time": "2025-02-03T19:49:21.689Z"
   },
   {
    "duration": 5,
    "start_time": "2025-02-03T19:49:21.696Z"
   },
   {
    "duration": 5,
    "start_time": "2025-02-03T19:49:21.702Z"
   },
   {
    "duration": 20,
    "start_time": "2025-02-03T19:49:21.709Z"
   },
   {
    "duration": 6,
    "start_time": "2025-02-03T19:50:57.753Z"
   },
   {
    "duration": 7,
    "start_time": "2025-02-03T19:51:02.554Z"
   },
   {
    "duration": 7,
    "start_time": "2025-02-03T19:51:06.333Z"
   },
   {
    "duration": 6,
    "start_time": "2025-02-03T19:51:10.207Z"
   },
   {
    "duration": 6,
    "start_time": "2025-02-03T19:51:23.527Z"
   },
   {
    "duration": 6,
    "start_time": "2025-02-03T19:52:38.778Z"
   },
   {
    "duration": 6,
    "start_time": "2025-02-03T19:52:46.213Z"
   },
   {
    "duration": 5,
    "start_time": "2025-02-03T19:52:52.501Z"
   },
   {
    "duration": 7,
    "start_time": "2025-02-03T19:53:00.367Z"
   },
   {
    "duration": 6,
    "start_time": "2025-02-03T19:53:07.911Z"
   },
   {
    "duration": 15,
    "start_time": "2025-02-03T19:53:12.902Z"
   },
   {
    "duration": 419,
    "start_time": "2025-02-03T19:53:46.553Z"
   },
   {
    "duration": 101,
    "start_time": "2025-02-03T19:53:46.974Z"
   },
   {
    "duration": 9,
    "start_time": "2025-02-03T19:53:47.077Z"
   },
   {
    "duration": 35,
    "start_time": "2025-02-03T19:53:47.087Z"
   },
   {
    "duration": 36,
    "start_time": "2025-02-03T19:53:47.123Z"
   },
   {
    "duration": 4,
    "start_time": "2025-02-03T19:53:47.160Z"
   },
   {
    "duration": 13,
    "start_time": "2025-02-03T19:53:47.165Z"
   },
   {
    "duration": 12,
    "start_time": "2025-02-03T19:53:47.179Z"
   },
   {
    "duration": 4,
    "start_time": "2025-02-03T19:53:47.192Z"
   },
   {
    "duration": 11,
    "start_time": "2025-02-03T19:53:47.199Z"
   },
   {
    "duration": 11,
    "start_time": "2025-02-03T19:53:47.212Z"
   },
   {
    "duration": 42,
    "start_time": "2025-02-03T19:53:47.224Z"
   },
   {
    "duration": 14,
    "start_time": "2025-02-03T19:53:47.267Z"
   },
   {
    "duration": 5,
    "start_time": "2025-02-03T19:53:47.283Z"
   },
   {
    "duration": 13,
    "start_time": "2025-02-03T19:53:47.290Z"
   },
   {
    "duration": 20,
    "start_time": "2025-02-03T19:53:47.304Z"
   },
   {
    "duration": 40,
    "start_time": "2025-02-03T19:53:47.325Z"
   },
   {
    "duration": 10,
    "start_time": "2025-02-03T19:53:47.367Z"
   },
   {
    "duration": 14,
    "start_time": "2025-02-03T19:53:47.379Z"
   },
   {
    "duration": 9,
    "start_time": "2025-02-03T19:53:47.395Z"
   },
   {
    "duration": 17,
    "start_time": "2025-02-03T19:53:47.406Z"
   },
   {
    "duration": 37,
    "start_time": "2025-02-03T19:53:47.425Z"
   },
   {
    "duration": 13,
    "start_time": "2025-02-03T19:53:47.464Z"
   },
   {
    "duration": 348,
    "start_time": "2025-02-03T19:53:47.479Z"
   },
   {
    "duration": 10,
    "start_time": "2025-02-03T19:53:47.829Z"
   },
   {
    "duration": 20,
    "start_time": "2025-02-03T19:53:47.841Z"
   },
   {
    "duration": 6,
    "start_time": "2025-02-03T19:53:47.862Z"
   },
   {
    "duration": 8,
    "start_time": "2025-02-03T19:53:47.871Z"
   },
   {
    "duration": 10,
    "start_time": "2025-02-03T19:53:47.881Z"
   },
   {
    "duration": 6,
    "start_time": "2025-02-03T19:53:47.892Z"
   },
   {
    "duration": 8,
    "start_time": "2025-02-03T19:53:47.899Z"
   },
   {
    "duration": 13,
    "start_time": "2025-02-03T19:53:47.908Z"
   },
   {
    "duration": 10,
    "start_time": "2025-02-03T19:53:47.922Z"
   },
   {
    "duration": 25,
    "start_time": "2025-02-03T19:53:47.933Z"
   },
   {
    "duration": 11,
    "start_time": "2025-02-03T19:53:47.959Z"
   },
   {
    "duration": 7,
    "start_time": "2025-02-03T19:53:47.971Z"
   },
   {
    "duration": 6,
    "start_time": "2025-02-03T19:53:47.980Z"
   },
   {
    "duration": 8,
    "start_time": "2025-02-03T19:53:47.987Z"
   },
   {
    "duration": 13,
    "start_time": "2025-02-03T19:53:47.997Z"
   },
   {
    "duration": 3,
    "start_time": "2025-02-03T19:53:48.011Z"
   },
   {
    "duration": 42,
    "start_time": "2025-02-03T19:53:48.016Z"
   },
   {
    "duration": 9,
    "start_time": "2025-02-03T19:53:48.060Z"
   },
   {
    "duration": 16,
    "start_time": "2025-02-03T19:53:48.071Z"
   },
   {
    "duration": 6,
    "start_time": "2025-02-03T19:53:48.088Z"
   },
   {
    "duration": 6,
    "start_time": "2025-02-03T19:53:48.096Z"
   },
   {
    "duration": 17,
    "start_time": "2025-02-03T19:53:48.103Z"
   },
   {
    "duration": 43,
    "start_time": "2025-02-03T19:53:48.122Z"
   },
   {
    "duration": 6,
    "start_time": "2025-02-03T19:53:48.167Z"
   },
   {
    "duration": 5,
    "start_time": "2025-02-03T19:53:48.174Z"
   },
   {
    "duration": 5,
    "start_time": "2025-02-03T19:53:48.181Z"
   },
   {
    "duration": 16,
    "start_time": "2025-02-03T19:53:48.188Z"
   },
   {
    "duration": 386,
    "start_time": "2025-02-03T19:59:06.996Z"
   },
   {
    "duration": 115,
    "start_time": "2025-02-03T19:59:07.384Z"
   },
   {
    "duration": 10,
    "start_time": "2025-02-03T19:59:07.500Z"
   },
   {
    "duration": 36,
    "start_time": "2025-02-03T19:59:07.512Z"
   },
   {
    "duration": 22,
    "start_time": "2025-02-03T19:59:07.550Z"
   },
   {
    "duration": 4,
    "start_time": "2025-02-03T19:59:07.574Z"
   },
   {
    "duration": 41,
    "start_time": "2025-02-03T19:59:07.579Z"
   },
   {
    "duration": 13,
    "start_time": "2025-02-03T19:59:07.622Z"
   },
   {
    "duration": 3,
    "start_time": "2025-02-03T19:59:07.636Z"
   },
   {
    "duration": 15,
    "start_time": "2025-02-03T19:59:07.643Z"
   },
   {
    "duration": 11,
    "start_time": "2025-02-03T19:59:07.659Z"
   },
   {
    "duration": 11,
    "start_time": "2025-02-03T19:59:07.671Z"
   },
   {
    "duration": 14,
    "start_time": "2025-02-03T19:59:07.683Z"
   },
   {
    "duration": 5,
    "start_time": "2025-02-03T19:59:07.699Z"
   },
   {
    "duration": 14,
    "start_time": "2025-02-03T19:59:07.705Z"
   },
   {
    "duration": 53,
    "start_time": "2025-02-03T19:59:07.720Z"
   },
   {
    "duration": 8,
    "start_time": "2025-02-03T19:59:07.775Z"
   },
   {
    "duration": 9,
    "start_time": "2025-02-03T19:59:07.785Z"
   },
   {
    "duration": 9,
    "start_time": "2025-02-03T19:59:07.796Z"
   },
   {
    "duration": 8,
    "start_time": "2025-02-03T19:59:07.807Z"
   },
   {
    "duration": 52,
    "start_time": "2025-02-03T19:59:07.817Z"
   },
   {
    "duration": 9,
    "start_time": "2025-02-03T19:59:07.870Z"
   },
   {
    "duration": 11,
    "start_time": "2025-02-03T19:59:07.881Z"
   },
   {
    "duration": 364,
    "start_time": "2025-02-03T19:59:07.893Z"
   },
   {
    "duration": 8,
    "start_time": "2025-02-03T19:59:08.259Z"
   },
   {
    "duration": 5,
    "start_time": "2025-02-03T19:59:08.268Z"
   },
   {
    "duration": 5,
    "start_time": "2025-02-03T19:59:08.275Z"
   },
   {
    "duration": 3,
    "start_time": "2025-02-03T19:59:08.283Z"
   },
   {
    "duration": 8,
    "start_time": "2025-02-03T19:59:08.288Z"
   },
   {
    "duration": 5,
    "start_time": "2025-02-03T19:59:08.297Z"
   },
   {
    "duration": 4,
    "start_time": "2025-02-03T19:59:08.303Z"
   },
   {
    "duration": 51,
    "start_time": "2025-02-03T19:59:08.309Z"
   },
   {
    "duration": 4,
    "start_time": "2025-02-03T19:59:08.362Z"
   },
   {
    "duration": 5,
    "start_time": "2025-02-03T19:59:08.367Z"
   },
   {
    "duration": 10,
    "start_time": "2025-02-03T19:59:08.373Z"
   },
   {
    "duration": 6,
    "start_time": "2025-02-03T19:59:08.384Z"
   },
   {
    "duration": 2,
    "start_time": "2025-02-03T19:59:08.392Z"
   },
   {
    "duration": 8,
    "start_time": "2025-02-03T19:59:08.395Z"
   },
   {
    "duration": 13,
    "start_time": "2025-02-03T19:59:08.404Z"
   },
   {
    "duration": 3,
    "start_time": "2025-02-03T19:59:08.419Z"
   },
   {
    "duration": 36,
    "start_time": "2025-02-03T19:59:08.423Z"
   },
   {
    "duration": 5,
    "start_time": "2025-02-03T19:59:08.460Z"
   },
   {
    "duration": 14,
    "start_time": "2025-02-03T19:59:08.466Z"
   },
   {
    "duration": 5,
    "start_time": "2025-02-03T19:59:08.482Z"
   },
   {
    "duration": 4,
    "start_time": "2025-02-03T19:59:08.488Z"
   },
   {
    "duration": 18,
    "start_time": "2025-02-03T19:59:08.493Z"
   },
   {
    "duration": 14,
    "start_time": "2025-02-03T19:59:08.513Z"
   },
   {
    "duration": 5,
    "start_time": "2025-02-03T19:59:08.529Z"
   },
   {
    "duration": 5,
    "start_time": "2025-02-03T19:59:08.535Z"
   },
   {
    "duration": 19,
    "start_time": "2025-02-03T19:59:08.541Z"
   },
   {
    "duration": 15,
    "start_time": "2025-02-03T19:59:08.562Z"
   },
   {
    "duration": 51,
    "start_time": "2025-02-04T06:56:10.974Z"
   },
   {
    "duration": 417,
    "start_time": "2025-02-04T06:56:20.867Z"
   },
   {
    "duration": 151,
    "start_time": "2025-02-04T06:56:21.286Z"
   },
   {
    "duration": 10,
    "start_time": "2025-02-04T06:56:21.439Z"
   },
   {
    "duration": 72,
    "start_time": "2025-02-04T06:56:21.451Z"
   },
   {
    "duration": 31,
    "start_time": "2025-02-04T06:56:21.524Z"
   },
   {
    "duration": 14,
    "start_time": "2025-02-04T06:56:21.556Z"
   },
   {
    "duration": 52,
    "start_time": "2025-02-04T06:56:21.572Z"
   },
   {
    "duration": 33,
    "start_time": "2025-02-04T06:56:21.626Z"
   },
   {
    "duration": 26,
    "start_time": "2025-02-04T06:56:21.661Z"
   },
   {
    "duration": 14,
    "start_time": "2025-02-04T06:56:21.690Z"
   },
   {
    "duration": 36,
    "start_time": "2025-02-04T06:56:21.705Z"
   },
   {
    "duration": 20,
    "start_time": "2025-02-04T06:56:23.709Z"
   },
   {
    "duration": 973,
    "start_time": "2025-02-04T06:56:32.886Z"
   },
   {
    "duration": 964,
    "start_time": "2025-02-04T06:57:09.264Z"
   },
   {
    "duration": 6,
    "start_time": "2025-02-04T06:57:17.696Z"
   },
   {
    "duration": 2,
    "start_time": "2025-02-04T06:57:25.385Z"
   },
   {
    "duration": 113,
    "start_time": "2025-02-04T06:57:25.389Z"
   },
   {
    "duration": 10,
    "start_time": "2025-02-04T06:57:25.504Z"
   },
   {
    "duration": 34,
    "start_time": "2025-02-04T06:57:25.516Z"
   },
   {
    "duration": 17,
    "start_time": "2025-02-04T06:57:25.552Z"
   },
   {
    "duration": 28,
    "start_time": "2025-02-04T06:57:25.571Z"
   },
   {
    "duration": 30,
    "start_time": "2025-02-04T06:57:25.601Z"
   },
   {
    "duration": 15,
    "start_time": "2025-02-04T06:57:25.633Z"
   },
   {
    "duration": 3,
    "start_time": "2025-02-04T06:57:25.650Z"
   },
   {
    "duration": 13,
    "start_time": "2025-02-04T06:57:25.654Z"
   },
   {
    "duration": 11,
    "start_time": "2025-02-04T06:57:25.669Z"
   },
   {
    "duration": 35,
    "start_time": "2025-02-04T06:57:25.682Z"
   },
   {
    "duration": 15,
    "start_time": "2025-02-04T06:57:30.861Z"
   },
   {
    "duration": 484,
    "start_time": "2025-02-04T06:59:59.982Z"
   },
   {
    "duration": 291,
    "start_time": "2025-02-04T07:00:00.469Z"
   },
   {
    "duration": 11,
    "start_time": "2025-02-04T07:00:00.762Z"
   },
   {
    "duration": 58,
    "start_time": "2025-02-04T07:00:00.775Z"
   },
   {
    "duration": 18,
    "start_time": "2025-02-04T07:00:00.836Z"
   },
   {
    "duration": 50,
    "start_time": "2025-02-04T07:00:00.856Z"
   },
   {
    "duration": 34,
    "start_time": "2025-02-04T07:00:00.908Z"
   },
   {
    "duration": 28,
    "start_time": "2025-02-04T07:00:00.944Z"
   },
   {
    "duration": 32,
    "start_time": "2025-02-04T07:00:00.974Z"
   },
   {
    "duration": 47,
    "start_time": "2025-02-04T07:00:01.007Z"
   },
   {
    "duration": 46,
    "start_time": "2025-02-04T07:00:01.056Z"
   },
   {
    "duration": 39,
    "start_time": "2025-02-04T07:00:01.104Z"
   },
   {
    "duration": 39,
    "start_time": "2025-02-04T07:00:01.145Z"
   },
   {
    "duration": 54,
    "start_time": "2025-02-04T07:00:01.188Z"
   },
   {
    "duration": 54,
    "start_time": "2025-02-04T07:00:01.244Z"
   },
   {
    "duration": 49,
    "start_time": "2025-02-04T07:00:01.300Z"
   },
   {
    "duration": 49,
    "start_time": "2025-02-04T07:00:01.352Z"
   },
   {
    "duration": 47,
    "start_time": "2025-02-04T07:00:01.404Z"
   },
   {
    "duration": 16,
    "start_time": "2025-02-04T07:00:01.453Z"
   },
   {
    "duration": 16,
    "start_time": "2025-02-04T07:00:01.470Z"
   },
   {
    "duration": 80,
    "start_time": "2025-02-04T07:00:01.488Z"
   },
   {
    "duration": 24,
    "start_time": "2025-02-04T07:00:01.569Z"
   },
   {
    "duration": 102,
    "start_time": "2025-02-04T07:00:01.595Z"
   },
   {
    "duration": 474,
    "start_time": "2025-02-04T07:00:01.699Z"
   },
   {
    "duration": 8,
    "start_time": "2025-02-04T07:00:02.175Z"
   },
   {
    "duration": 42,
    "start_time": "2025-02-04T07:00:02.184Z"
   },
   {
    "duration": 131,
    "start_time": "2025-02-04T07:00:02.228Z"
   },
   {
    "duration": 79,
    "start_time": "2025-02-04T07:00:02.361Z"
   },
   {
    "duration": 43,
    "start_time": "2025-02-04T07:00:02.442Z"
   },
   {
    "duration": 81,
    "start_time": "2025-02-04T07:00:02.486Z"
   },
   {
    "duration": 78,
    "start_time": "2025-02-04T07:00:02.569Z"
   },
   {
    "duration": 112,
    "start_time": "2025-02-04T07:00:02.649Z"
   },
   {
    "duration": 63,
    "start_time": "2025-02-04T07:00:02.762Z"
   },
   {
    "duration": 120,
    "start_time": "2025-02-04T07:00:02.827Z"
   },
   {
    "duration": 57,
    "start_time": "2025-02-04T07:00:02.949Z"
   },
   {
    "duration": 40,
    "start_time": "2025-02-04T07:00:03.008Z"
   },
   {
    "duration": 38,
    "start_time": "2025-02-04T07:00:03.050Z"
   },
   {
    "duration": 54,
    "start_time": "2025-02-04T07:00:03.090Z"
   },
   {
    "duration": 43,
    "start_time": "2025-02-04T07:00:03.146Z"
   },
   {
    "duration": 53,
    "start_time": "2025-02-04T07:00:03.191Z"
   },
   {
    "duration": 27,
    "start_time": "2025-02-04T07:00:03.250Z"
   },
   {
    "duration": 11,
    "start_time": "2025-02-04T07:00:03.279Z"
   },
   {
    "duration": 74,
    "start_time": "2025-02-04T07:00:03.292Z"
   },
   {
    "duration": 35,
    "start_time": "2025-02-04T07:00:03.367Z"
   },
   {
    "duration": 55,
    "start_time": "2025-02-04T07:00:03.404Z"
   },
   {
    "duration": 31,
    "start_time": "2025-02-04T07:00:03.461Z"
   },
   {
    "duration": 65,
    "start_time": "2025-02-04T07:00:03.494Z"
   },
   {
    "duration": 16,
    "start_time": "2025-02-04T07:00:03.561Z"
   },
   {
    "duration": 105,
    "start_time": "2025-02-04T07:00:03.579Z"
   },
   {
    "duration": 47,
    "start_time": "2025-02-04T07:00:03.686Z"
   },
   {
    "duration": 36,
    "start_time": "2025-02-04T07:00:03.735Z"
   },
   {
    "duration": 72,
    "start_time": "2025-02-04T07:00:03.773Z"
   },
   {
    "duration": 48,
    "start_time": "2025-02-04T07:19:19.764Z"
   },
   {
    "duration": 443,
    "start_time": "2025-02-04T07:19:55.134Z"
   },
   {
    "duration": 106,
    "start_time": "2025-02-04T07:19:55.620Z"
   },
   {
    "duration": 11,
    "start_time": "2025-02-04T07:19:55.932Z"
   },
   {
    "duration": 38,
    "start_time": "2025-02-04T07:19:56.262Z"
   },
   {
    "duration": 16,
    "start_time": "2025-02-04T07:19:56.354Z"
   },
   {
    "duration": 3,
    "start_time": "2025-02-04T07:19:56.951Z"
   },
   {
    "duration": 10,
    "start_time": "2025-02-04T07:19:57.150Z"
   },
   {
    "duration": 12,
    "start_time": "2025-02-04T07:19:57.328Z"
   },
   {
    "duration": 3,
    "start_time": "2025-02-04T07:19:58.629Z"
   },
   {
    "duration": 11,
    "start_time": "2025-02-04T07:19:59.007Z"
   },
   {
    "duration": 23,
    "start_time": "2025-02-04T07:20:03.998Z"
   },
   {
    "duration": 6,
    "start_time": "2025-02-04T07:20:10.298Z"
   },
   {
    "duration": 16,
    "start_time": "2025-02-04T07:20:11.689Z"
   },
   {
    "duration": 6,
    "start_time": "2025-02-04T07:20:15.531Z"
   },
   {
    "duration": 14,
    "start_time": "2025-02-04T07:20:17.043Z"
   },
   {
    "duration": 18,
    "start_time": "2025-02-04T07:20:19.640Z"
   },
   {
    "duration": 5,
    "start_time": "2025-02-04T07:21:25.584Z"
   },
   {
    "duration": 14,
    "start_time": "2025-02-04T07:21:27.706Z"
   },
   {
    "duration": 440,
    "start_time": "2025-02-04T07:23:21.850Z"
   },
   {
    "duration": 126,
    "start_time": "2025-02-04T07:23:22.292Z"
   },
   {
    "duration": 11,
    "start_time": "2025-02-04T07:23:22.420Z"
   },
   {
    "duration": 52,
    "start_time": "2025-02-04T07:23:22.434Z"
   },
   {
    "duration": 28,
    "start_time": "2025-02-04T07:23:22.488Z"
   },
   {
    "duration": 5,
    "start_time": "2025-02-04T07:23:22.517Z"
   },
   {
    "duration": 30,
    "start_time": "2025-02-04T07:23:22.524Z"
   },
   {
    "duration": 13,
    "start_time": "2025-02-04T07:23:22.556Z"
   },
   {
    "duration": 19,
    "start_time": "2025-02-04T07:23:22.571Z"
   },
   {
    "duration": 19,
    "start_time": "2025-02-04T07:23:22.594Z"
   },
   {
    "duration": 38,
    "start_time": "2025-02-04T07:23:22.615Z"
   },
   {
    "duration": 6,
    "start_time": "2025-02-04T07:23:22.655Z"
   },
   {
    "duration": 22,
    "start_time": "2025-02-04T07:23:22.664Z"
   },
   {
    "duration": 10,
    "start_time": "2025-02-04T07:23:22.688Z"
   },
   {
    "duration": 23,
    "start_time": "2025-02-04T07:23:22.700Z"
   },
   {
    "duration": 48,
    "start_time": "2025-02-04T07:23:22.726Z"
   },
   {
    "duration": 10,
    "start_time": "2025-02-04T07:23:22.776Z"
   },
   {
    "duration": 21,
    "start_time": "2025-02-04T07:23:22.788Z"
   },
   {
    "duration": 15,
    "start_time": "2025-02-04T07:23:22.811Z"
   },
   {
    "duration": 32,
    "start_time": "2025-02-04T07:23:22.828Z"
   },
   {
    "duration": 30,
    "start_time": "2025-02-04T07:23:22.862Z"
   },
   {
    "duration": 12,
    "start_time": "2025-02-04T07:23:22.895Z"
   },
   {
    "duration": 14,
    "start_time": "2025-02-04T07:23:22.909Z"
   },
   {
    "duration": 389,
    "start_time": "2025-02-04T07:23:22.925Z"
   },
   {
    "duration": 8,
    "start_time": "2025-02-04T07:23:23.316Z"
   },
   {
    "duration": 20,
    "start_time": "2025-02-04T07:23:23.326Z"
   },
   {
    "duration": 5,
    "start_time": "2025-02-04T07:23:23.355Z"
   },
   {
    "duration": 6,
    "start_time": "2025-02-04T07:23:23.364Z"
   },
   {
    "duration": 7,
    "start_time": "2025-02-04T07:23:23.372Z"
   },
   {
    "duration": 23,
    "start_time": "2025-02-04T07:23:23.380Z"
   },
   {
    "duration": 7,
    "start_time": "2025-02-04T07:23:23.405Z"
   },
   {
    "duration": 17,
    "start_time": "2025-02-04T07:23:23.414Z"
   },
   {
    "duration": 23,
    "start_time": "2025-02-04T07:23:23.434Z"
   },
   {
    "duration": 11,
    "start_time": "2025-02-04T07:23:23.459Z"
   },
   {
    "duration": 22,
    "start_time": "2025-02-04T07:23:23.472Z"
   },
   {
    "duration": 21,
    "start_time": "2025-02-04T07:23:23.496Z"
   },
   {
    "duration": 7,
    "start_time": "2025-02-04T07:23:23.519Z"
   },
   {
    "duration": 4,
    "start_time": "2025-02-04T07:23:23.528Z"
   },
   {
    "duration": 24,
    "start_time": "2025-02-04T07:23:23.534Z"
   },
   {
    "duration": 16,
    "start_time": "2025-02-04T07:23:23.560Z"
   },
   {
    "duration": 3,
    "start_time": "2025-02-04T07:23:23.578Z"
   },
   {
    "duration": 24,
    "start_time": "2025-02-04T07:23:23.583Z"
   },
   {
    "duration": 7,
    "start_time": "2025-02-04T07:23:23.609Z"
   },
   {
    "duration": 19,
    "start_time": "2025-02-04T07:23:23.617Z"
   },
   {
    "duration": 24,
    "start_time": "2025-02-04T07:23:23.637Z"
   },
   {
    "duration": 11,
    "start_time": "2025-02-04T07:23:23.662Z"
   },
   {
    "duration": 28,
    "start_time": "2025-02-04T07:23:23.674Z"
   },
   {
    "duration": 16,
    "start_time": "2025-02-04T07:23:23.703Z"
   },
   {
    "duration": 38,
    "start_time": "2025-02-04T07:23:23.721Z"
   },
   {
    "duration": 13,
    "start_time": "2025-02-04T07:23:23.761Z"
   },
   {
    "duration": 8,
    "start_time": "2025-02-04T07:23:23.775Z"
   },
   {
    "duration": 21,
    "start_time": "2025-02-04T07:23:23.785Z"
   },
   {
    "duration": 384,
    "start_time": "2025-02-04T07:24:51.288Z"
   },
   {
    "duration": 140,
    "start_time": "2025-02-04T07:24:51.675Z"
   },
   {
    "duration": 10,
    "start_time": "2025-02-04T07:24:51.817Z"
   },
   {
    "duration": 80,
    "start_time": "2025-02-04T07:24:51.829Z"
   },
   {
    "duration": 19,
    "start_time": "2025-02-04T07:24:51.911Z"
   },
   {
    "duration": 9,
    "start_time": "2025-02-04T07:24:51.932Z"
   },
   {
    "duration": 57,
    "start_time": "2025-02-04T07:24:51.943Z"
   },
   {
    "duration": 25,
    "start_time": "2025-02-04T07:24:52.002Z"
   },
   {
    "duration": 23,
    "start_time": "2025-02-04T07:24:52.029Z"
   },
   {
    "duration": 38,
    "start_time": "2025-02-04T07:24:52.056Z"
   },
   {
    "duration": 32,
    "start_time": "2025-02-04T07:24:52.095Z"
   },
   {
    "duration": 10,
    "start_time": "2025-02-04T07:24:52.128Z"
   },
   {
    "duration": 16,
    "start_time": "2025-02-04T07:24:52.140Z"
   },
   {
    "duration": 40,
    "start_time": "2025-02-04T07:24:52.158Z"
   },
   {
    "duration": 18,
    "start_time": "2025-02-04T07:24:52.200Z"
   },
   {
    "duration": 42,
    "start_time": "2025-02-04T07:24:52.220Z"
   },
   {
    "duration": 25,
    "start_time": "2025-02-04T07:24:52.264Z"
   },
   {
    "duration": 17,
    "start_time": "2025-02-04T07:24:52.290Z"
   },
   {
    "duration": 19,
    "start_time": "2025-02-04T07:24:52.309Z"
   },
   {
    "duration": 25,
    "start_time": "2025-02-04T07:24:52.329Z"
   },
   {
    "duration": 21,
    "start_time": "2025-02-04T07:24:52.356Z"
   },
   {
    "duration": 10,
    "start_time": "2025-02-04T07:24:52.379Z"
   },
   {
    "duration": 26,
    "start_time": "2025-02-04T07:24:52.391Z"
   },
   {
    "duration": 399,
    "start_time": "2025-02-04T07:24:52.419Z"
   },
   {
    "duration": 8,
    "start_time": "2025-02-04T07:24:52.819Z"
   },
   {
    "duration": 51,
    "start_time": "2025-02-04T07:24:52.829Z"
   },
   {
    "duration": 24,
    "start_time": "2025-02-04T07:24:52.882Z"
   },
   {
    "duration": 21,
    "start_time": "2025-02-04T07:24:52.911Z"
   },
   {
    "duration": 8,
    "start_time": "2025-02-04T07:24:52.934Z"
   },
   {
    "duration": 23,
    "start_time": "2025-02-04T07:24:52.944Z"
   },
   {
    "duration": 13,
    "start_time": "2025-02-04T07:24:52.968Z"
   },
   {
    "duration": 7,
    "start_time": "2025-02-04T07:24:52.982Z"
   },
   {
    "duration": 22,
    "start_time": "2025-02-04T07:24:52.990Z"
   },
   {
    "duration": 16,
    "start_time": "2025-02-04T07:24:53.014Z"
   },
   {
    "duration": 15,
    "start_time": "2025-02-04T07:24:53.034Z"
   },
   {
    "duration": 38,
    "start_time": "2025-02-04T07:24:53.051Z"
   },
   {
    "duration": 20,
    "start_time": "2025-02-04T07:24:53.091Z"
   },
   {
    "duration": 11,
    "start_time": "2025-02-04T07:24:53.113Z"
   },
   {
    "duration": 21,
    "start_time": "2025-02-04T07:24:53.126Z"
   },
   {
    "duration": 16,
    "start_time": "2025-02-04T07:24:53.148Z"
   },
   {
    "duration": 18,
    "start_time": "2025-02-04T07:24:53.166Z"
   },
   {
    "duration": 102,
    "start_time": "2025-02-04T07:24:53.186Z"
   },
   {
    "duration": 32,
    "start_time": "2025-02-04T07:24:53.290Z"
   },
   {
    "duration": 26,
    "start_time": "2025-02-04T07:24:53.324Z"
   },
   {
    "duration": 12,
    "start_time": "2025-02-04T07:24:53.352Z"
   },
   {
    "duration": 19,
    "start_time": "2025-02-04T07:24:53.366Z"
   },
   {
    "duration": 30,
    "start_time": "2025-02-04T07:24:53.386Z"
   },
   {
    "duration": 25,
    "start_time": "2025-02-04T07:24:53.418Z"
   },
   {
    "duration": 8,
    "start_time": "2025-02-04T07:24:53.444Z"
   },
   {
    "duration": 22,
    "start_time": "2025-02-04T07:24:53.454Z"
   },
   {
    "duration": 18,
    "start_time": "2025-02-04T07:24:53.478Z"
   },
   {
    "duration": 20,
    "start_time": "2025-02-04T07:24:53.498Z"
   }
  ],
  "colab": {
   "provenance": []
  },
  "kernelspec": {
   "display_name": "Python 3 (ipykernel)",
   "language": "python",
   "name": "python3"
  },
  "language_info": {
   "codemirror_mode": {
    "name": "ipython",
    "version": 3
   },
   "file_extension": ".py",
   "mimetype": "text/x-python",
   "name": "python",
   "nbconvert_exporter": "python",
   "pygments_lexer": "ipython3",
   "version": "3.9.7"
  },
  "toc": {
   "base_numbering": 1,
   "nav_menu": {},
   "number_sections": true,
   "sideBar": true,
   "skip_h1_title": true,
   "title_cell": "Table of Contents",
   "title_sidebar": "Contents",
   "toc_cell": false,
   "toc_position": {
    "height": "calc(100% - 180px)",
    "left": "10px",
    "top": "150px",
    "width": "426.667px"
   },
   "toc_section_display": true,
   "toc_window_display": true
  }
 },
 "nbformat": 4,
 "nbformat_minor": 5
}
