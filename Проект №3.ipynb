{
 "cells": [
  {
   "cell_type": "markdown",
   "metadata": {
    "id": "4mJbK1knrJgz"
   },
   "source": [
    "# Проект: Исследование стартапов\n",
    "\n",
    "- Автор: Логинов Павел Александрович\n",
    "- Дата: 27.02.2025"
   ]
  },
  {
   "cell_type": "markdown",
   "metadata": {
    "id": "P6j0r3worJg0"
   },
   "source": [
    "## Введение\n",
    "\n",
    "### Цели и задачи проекта\n",
    "\n",
    "**Цель проекта**: проведение исследовательского анализа данных инвестиционного рынка для покупки, развития и последующей перепродажи перспективных стартапов\n",
    "\n",
    "**Задачи проекта**:\n",
    "\n",
    "- Изучить данные\n",
    "- Провести преобработку данных\n",
    "- Провести исследовательский анализ объединённых таблиц:\n",
    "    - Провести корректное объединение данных\n",
    "    - Проанализировать имеющиеся выбросы\n",
    "    - Исследовать компании, которые были проданы за ноль или за один доллар\n",
    "    - Выделить категории стартапов, которые характеризуются наибольшими типичными ценами и наибольшим разбросом цен за стартап\n",
    "    - Изучить сколько раундов продержится стартап перед покупкой\n",
    "- Сформулировать итоговый вывод и рекомендации"
   ]
  },
  {
   "cell_type": "markdown",
   "metadata": {},
   "source": [
    "### Описание данных\n",
    "\n",
    "Файл `/datasets/acquisition.csv` содержит информацию о покупках одними компаниями других компаний:\n",
    "\n",
    "- `id` — идентификатор покупки.\n",
    "- `acquiring_company_id` — идентификатор покупающей компании.\n",
    "- `acquired_company_id` — идентификатор покупаемой компании.\n",
    "- `term_code` — варианты расчёта.\n",
    "- `price_amount` — сумма сделки.\n",
    "- `acquired_at` — дата сделки.\n",
    "\n",
    "Файл `/datasets/company_and_rounds.csv` содержит информацию о компаниях и раундах финансирования:\n",
    "\n",
    "- `company ID` — идентификатор компании.\n",
    "- `name` — название компании.\n",
    "- `category code` — категория области деятельности компании.\n",
    "- `status` — статус компании.\n",
    "- `founded at` — дата инвестирования.\n",
    "- `closed at` — дата закрытия компании.\n",
    "- `domain` — официальный сайт компании.\n",
    "- `network username` — ник компании в сети.\n",
    "- `country code` — код страны компании.\n",
    "- `investment rounds` — число инвестиционных раундов.\n",
    "- `funding rounds` — число раундов финансирования.\n",
    "- `funding total` — сумма финансирования.\n",
    "- `milestones` — вехи финансирования.\n",
    "- `funding round id` — идентификатор этапа финансирования.\n",
    "- `company id` — идентификатор компании.\n",
    "- `funded at` — дата финансирования.\n",
    "- `funding round type` — тип финансирования.\n",
    "- `raised amount` — сумма финансирования.\n",
    "- `pre money valuation` — предварительная денежная оценка.\n",
    "- `participants` — число участников.\n",
    "- `is first round` — является ли раунд первым.\n",
    "- `is last round` — является раунд последним.\n",
    "\n",
    "Файл `/datasets/education.csv` содержит информацию об образовании сотрудника:\n",
    "\n",
    "- `id` — идентификатор записи об образовании.\n",
    "- `person_id` — идентификатор работника.\n",
    "- `instituition` — название учебного заведения.\n",
    "- `graduated_at` — дата получения образования.\n",
    "\n",
    "Файл `/datasets/people.csv` содержит информацию о сотрудниках:\n",
    "\n",
    "- `id` — идентификатор сотрудника.\n",
    "- `first_name` — имя сотрудника.\n",
    "- `last_name` — фамилия сотрудника.\n",
    "- `company_id` — идентификатор компании.\n",
    "- `network_username` — ник в социальных сетях.\n",
    "\n",
    "Файл `/datasets/degrees.csv` содержит информацию типе образования сотрудника:\n",
    "\n",
    "- `id` — идентификатор записи.\n",
    "- `object_id` — идентификатор сотрудника.\n",
    "- `degree_type` — тип образования.\n",
    "- `subject` — специальность.\n",
    "\n",
    "Файл `/datasets/fund.csv` содержит информацию о фондах:\n",
    "\n",
    "- `id` — идентификатор фонда.\n",
    "- `name` — название фонда.\n",
    "- `founded_at` — дата создания фонда.\n",
    "- `domain` — сайт фонда.\n",
    "- `network_username` — ник фонда в сети.\n",
    "- `country_code` — код страны фонда.\n",
    "- `investment_rounds` — число инвестиционных раундов.\n",
    "- `invested_companies` — число профинансированных компаний.\n",
    "- `milestones` — вехи финансирования.\n",
    "\n",
    "Файл `/datasets/investment.csv` содержит информацию о раундах инвестирования:\n",
    "\n",
    "- `id` — идентификатор этапа инвестирования.\n",
    "- `funding_round_id` — идентификатор раунда инвестирования.\n",
    "- `company_id` — индентификатор компании.\n",
    "- `fund_id` — идентификатор фонда."
   ]
  },
  {
   "cell_type": "markdown",
   "metadata": {},
   "source": [
    "### Содержимое проекта\n",
    "\n",
    "1. Знакомство с данными: загрузка и первичная предобработка\n",
    "    - 1.1. Вывод общей информации, исправление названия столбцов\n",
    "    - 1.2. Смена типов и анализ пропусков\n",
    "2. Предобработка данных, предварительное исследование\n",
    "    - 2.1. Раунды финансирования по годам\n",
    "    - 2.2. Люди и их образование\n",
    "    - 2.3. Объединять или не объединять — вот в чём вопрос\n",
    "    - 2.4. Проблемный датасет и причина возникновения пропусков\n",
    "3. Исследовательский анализ объединённых таблиц\n",
    "    - 3.1. Объединение данных\n",
    "    - 3.2. Анализ выбросов\n",
    "    - 3.3. Куплены забесплатно?\n",
    "    - 3.4. Цены стартапов по категориям\n",
    "    - 3.5. Сколько раундов продержится стартап перед покупкой\n",
    "4. Итоговый вывод и рекомендации"
   ]
  },
  {
   "cell_type": "markdown",
   "metadata": {
    "id": "xqr6uttCrJg0"
   },
   "source": [
    "\n",
    "## Шаг 1. Знакомство с данными: загрузка и первичная предобработка\n",
    "\n",
    "\n",
    "### 1.1. Вывод общей информации, исправление названия столбцов\n",
    "\n",
    "Начнём с загрузки библиотек и датасетов `acquisition.csv`, `company_and_rounds.csv`, `education.csv`, `people.csv`, `degrees.csv`, `fund.csv` и `investment.csv`,   Будем использовать *pandas* и *numpy* и библиотеки визуализации данных *matplotlib* и *seaborn*, а также *phik* для построения матрицы корреляции. Данные датасетов сохраним в следующих переменных: `acquisition_df`, `company_and_rounds_df`, `education_df`, `people_df` `degrees_df`,  `fund_df` и `investment_df`."
   ]
  },
  {
   "cell_type": "code",
   "execution_count": 1,
   "metadata": {},
   "outputs": [],
   "source": [
    "# Импортируем библиотеки\n",
    "\n",
    "import pandas as pd\n",
    "import numpy as np\n",
    "from scipy.stats import iqr\n",
    "\n",
    "# Загружаем библиотеки для визуализации данных\n",
    "\n",
    "import matplotlib.pyplot as plt\n",
    "import seaborn as sns"
   ]
  },
  {
   "cell_type": "code",
   "execution_count": 2,
   "metadata": {},
   "outputs": [],
   "source": [
    "# Выгружаем данные в переменные\n",
    "try:\n",
    "    acquisition_df = pd.read_csv('C:/Users/Student/Desktop/acquisition.csv')\n",
    "    company_and_rounds_df = pd.read_csv('C:/Users/Student/Desktop/company_and_rounds.csv')\n",
    "    education_df = pd.read_csv('C:/Users/Student/Desktop/education.csv')\n",
    "    people_df = pd.read_csv('C:/Users/Student/Desktop/people.csv')\n",
    "    degrees_df = pd.read_csv('C:/Users/Student/Desktop/degrees.csv')\n",
    "    fund_df = pd.read_csv('C:/Users/Student/Desktop/fund.csv')\n",
    "    investment_df = pd.read_csv('C:/Users/Student/Desktop/investment.csv')\n",
    "except:\n",
    "    acquisition_df = pd.read_csv('https://code.s3.yandex.net/datasets/acquisition.csv')\n",
    "    company_and_rounds_df = pd.read_csv('https://code.s3.yandex.net/datasets/company_and_rounds.csv')\n",
    "    education_df = pd.read_csv('https://code.s3.yandex.net/datasets/education.csv')\n",
    "    people_df = pd.read_csv('https://code.s3.yandex.net/datasets/people.csv')\n",
    "    degrees_df = pd.read_csv('https://code.s3.yandex.net/datasets/degrees.csv')\n",
    "    fund_df = pd.read_csv('https://code.s3.yandex.net/datasets/fund.csv')\n",
    "    investment_df = pd.read_csv('https://code.s3.yandex.net/datasets/investment.csv')"
   ]
  },
  {
   "cell_type": "markdown",
   "metadata": {},
   "source": [
    "Познакомимся с данными датасета `acquisition.csv` — выведем первые строки методом `head()`, а информацию о датафрейме методом `info()`:"
   ]
  },
  {
   "cell_type": "code",
   "execution_count": 3,
   "metadata": {},
   "outputs": [
    {
     "data": {
      "text/html": [
       "<div>\n",
       "<style scoped>\n",
       "    .dataframe tbody tr th:only-of-type {\n",
       "        vertical-align: middle;\n",
       "    }\n",
       "\n",
       "    .dataframe tbody tr th {\n",
       "        vertical-align: top;\n",
       "    }\n",
       "\n",
       "    .dataframe thead th {\n",
       "        text-align: right;\n",
       "    }\n",
       "</style>\n",
       "<table border=\"1\" class=\"dataframe\">\n",
       "  <thead>\n",
       "    <tr style=\"text-align: right;\">\n",
       "      <th></th>\n",
       "      <th>id</th>\n",
       "      <th>acquiring_company_id</th>\n",
       "      <th>acquired_company_id</th>\n",
       "      <th>term_code</th>\n",
       "      <th>price_amount</th>\n",
       "      <th>acquired_at</th>\n",
       "    </tr>\n",
       "  </thead>\n",
       "  <tbody>\n",
       "    <tr>\n",
       "      <th>0</th>\n",
       "      <td>1</td>\n",
       "      <td>11</td>\n",
       "      <td>10</td>\n",
       "      <td>NaN</td>\n",
       "      <td>20000000</td>\n",
       "      <td>2007-05-30</td>\n",
       "    </tr>\n",
       "    <tr>\n",
       "      <th>1</th>\n",
       "      <td>7</td>\n",
       "      <td>59</td>\n",
       "      <td>72</td>\n",
       "      <td>cash</td>\n",
       "      <td>60000000</td>\n",
       "      <td>2007-07-01</td>\n",
       "    </tr>\n",
       "    <tr>\n",
       "      <th>2</th>\n",
       "      <td>8</td>\n",
       "      <td>24</td>\n",
       "      <td>132</td>\n",
       "      <td>cash</td>\n",
       "      <td>280000000</td>\n",
       "      <td>2007-05-01</td>\n",
       "    </tr>\n",
       "    <tr>\n",
       "      <th>3</th>\n",
       "      <td>9</td>\n",
       "      <td>59</td>\n",
       "      <td>155</td>\n",
       "      <td>cash</td>\n",
       "      <td>100000000</td>\n",
       "      <td>2007-06-01</td>\n",
       "    </tr>\n",
       "    <tr>\n",
       "      <th>4</th>\n",
       "      <td>10</td>\n",
       "      <td>212</td>\n",
       "      <td>215</td>\n",
       "      <td>cash</td>\n",
       "      <td>25000000</td>\n",
       "      <td>2007-07-01</td>\n",
       "    </tr>\n",
       "  </tbody>\n",
       "</table>\n",
       "</div>"
      ],
      "text/plain": [
       "   id  acquiring_company_id  acquired_company_id term_code  price_amount  \\\n",
       "0   1                    11                   10       NaN      20000000   \n",
       "1   7                    59                   72      cash      60000000   \n",
       "2   8                    24                  132      cash     280000000   \n",
       "3   9                    59                  155      cash     100000000   \n",
       "4  10                   212                  215      cash      25000000   \n",
       "\n",
       "  acquired_at  \n",
       "0  2007-05-30  \n",
       "1  2007-07-01  \n",
       "2  2007-05-01  \n",
       "3  2007-06-01  \n",
       "4  2007-07-01  "
      ]
     },
     "execution_count": 3,
     "metadata": {},
     "output_type": "execute_result"
    }
   ],
   "source": [
    "# Выводим первые строки датафрейма на экран\n",
    "\n",
    "acquisition_df.head()"
   ]
  },
  {
   "cell_type": "code",
   "execution_count": 4,
   "metadata": {},
   "outputs": [
    {
     "name": "stdout",
     "output_type": "stream",
     "text": [
      "<class 'pandas.core.frame.DataFrame'>\n",
      "RangeIndex: 9407 entries, 0 to 9406\n",
      "Data columns (total 6 columns):\n",
      " #   Column                Non-Null Count  Dtype \n",
      "---  ------                --------------  ----- \n",
      " 0   id                    9407 non-null   int64 \n",
      " 1   acquiring_company_id  9407 non-null   int64 \n",
      " 2   acquired_company_id   9407 non-null   int64 \n",
      " 3   term_code             1831 non-null   object\n",
      " 4   price_amount          9407 non-null   int64 \n",
      " 5   acquired_at           9378 non-null   object\n",
      "dtypes: int64(4), object(2)\n",
      "memory usage: 441.1+ KB\n"
     ]
    }
   ],
   "source": [
    "# Выводим информацию о датафрейме\n",
    "\n",
    "acquisition_df.info()"
   ]
  },
  {
   "cell_type": "markdown",
   "metadata": {},
   "source": [
    "Теперь познакомимся с данными датасета `company_and_rounds.csv`."
   ]
  },
  {
   "cell_type": "code",
   "execution_count": 5,
   "metadata": {},
   "outputs": [
    {
     "data": {
      "text/html": [
       "<div>\n",
       "<style scoped>\n",
       "    .dataframe tbody tr th:only-of-type {\n",
       "        vertical-align: middle;\n",
       "    }\n",
       "\n",
       "    .dataframe tbody tr th {\n",
       "        vertical-align: top;\n",
       "    }\n",
       "\n",
       "    .dataframe thead th {\n",
       "        text-align: right;\n",
       "    }\n",
       "</style>\n",
       "<table border=\"1\" class=\"dataframe\">\n",
       "  <thead>\n",
       "    <tr style=\"text-align: right;\">\n",
       "      <th></th>\n",
       "      <th>company  ID</th>\n",
       "      <th>name</th>\n",
       "      <th>category  code</th>\n",
       "      <th>status</th>\n",
       "      <th>founded  at</th>\n",
       "      <th>closed  at</th>\n",
       "      <th>domain</th>\n",
       "      <th>network  username</th>\n",
       "      <th>country  code</th>\n",
       "      <th>investment  rounds</th>\n",
       "      <th>...</th>\n",
       "      <th>milestones</th>\n",
       "      <th>funding  round  id</th>\n",
       "      <th>company  id</th>\n",
       "      <th>funded  at</th>\n",
       "      <th>funding  round  type</th>\n",
       "      <th>raised  amount</th>\n",
       "      <th>pre  money  valuation</th>\n",
       "      <th>participants</th>\n",
       "      <th>is  first  round</th>\n",
       "      <th>is  last  round</th>\n",
       "    </tr>\n",
       "  </thead>\n",
       "  <tbody>\n",
       "    <tr>\n",
       "      <th>0</th>\n",
       "      <td>1.0</td>\n",
       "      <td>Wetpaint</td>\n",
       "      <td>web</td>\n",
       "      <td>operating</td>\n",
       "      <td>2005-10-17</td>\n",
       "      <td>NaN</td>\n",
       "      <td>wetpaint-inc.com</td>\n",
       "      <td>BachelrWetpaint</td>\n",
       "      <td>USA</td>\n",
       "      <td>0.0</td>\n",
       "      <td>...</td>\n",
       "      <td>5.0</td>\n",
       "      <td>888.0</td>\n",
       "      <td>1.0</td>\n",
       "      <td>2005-10-01</td>\n",
       "      <td>series-a</td>\n",
       "      <td>5250000.0</td>\n",
       "      <td>0.0</td>\n",
       "      <td>2.0</td>\n",
       "      <td>0.0</td>\n",
       "      <td>1.0</td>\n",
       "    </tr>\n",
       "    <tr>\n",
       "      <th>1</th>\n",
       "      <td>1.0</td>\n",
       "      <td>Wetpaint</td>\n",
       "      <td>web</td>\n",
       "      <td>operating</td>\n",
       "      <td>2005-10-17</td>\n",
       "      <td>NaN</td>\n",
       "      <td>wetpaint-inc.com</td>\n",
       "      <td>BachelrWetpaint</td>\n",
       "      <td>USA</td>\n",
       "      <td>0.0</td>\n",
       "      <td>...</td>\n",
       "      <td>5.0</td>\n",
       "      <td>889.0</td>\n",
       "      <td>1.0</td>\n",
       "      <td>2007-01-01</td>\n",
       "      <td>series-b</td>\n",
       "      <td>9500000.0</td>\n",
       "      <td>0.0</td>\n",
       "      <td>3.0</td>\n",
       "      <td>0.0</td>\n",
       "      <td>0.0</td>\n",
       "    </tr>\n",
       "    <tr>\n",
       "      <th>2</th>\n",
       "      <td>1.0</td>\n",
       "      <td>Wetpaint</td>\n",
       "      <td>web</td>\n",
       "      <td>operating</td>\n",
       "      <td>2005-10-17</td>\n",
       "      <td>NaN</td>\n",
       "      <td>wetpaint-inc.com</td>\n",
       "      <td>BachelrWetpaint</td>\n",
       "      <td>USA</td>\n",
       "      <td>0.0</td>\n",
       "      <td>...</td>\n",
       "      <td>5.0</td>\n",
       "      <td>2312.0</td>\n",
       "      <td>1.0</td>\n",
       "      <td>2008-05-19</td>\n",
       "      <td>series-c+</td>\n",
       "      <td>25000000.0</td>\n",
       "      <td>0.0</td>\n",
       "      <td>4.0</td>\n",
       "      <td>1.0</td>\n",
       "      <td>0.0</td>\n",
       "    </tr>\n",
       "    <tr>\n",
       "      <th>3</th>\n",
       "      <td>10.0</td>\n",
       "      <td>Flektor</td>\n",
       "      <td>games_video</td>\n",
       "      <td>acquired</td>\n",
       "      <td>NaN</td>\n",
       "      <td>NaN</td>\n",
       "      <td>flektor.com</td>\n",
       "      <td>NaN</td>\n",
       "      <td>USA</td>\n",
       "      <td>0.0</td>\n",
       "      <td>...</td>\n",
       "      <td>0.0</td>\n",
       "      <td>NaN</td>\n",
       "      <td>NaN</td>\n",
       "      <td>NaN</td>\n",
       "      <td>NaN</td>\n",
       "      <td>NaN</td>\n",
       "      <td>NaN</td>\n",
       "      <td>NaN</td>\n",
       "      <td>NaN</td>\n",
       "      <td>NaN</td>\n",
       "    </tr>\n",
       "    <tr>\n",
       "      <th>4</th>\n",
       "      <td>100.0</td>\n",
       "      <td>There</td>\n",
       "      <td>games_video</td>\n",
       "      <td>acquired</td>\n",
       "      <td>NaN</td>\n",
       "      <td>NaN</td>\n",
       "      <td>there.com</td>\n",
       "      <td>NaN</td>\n",
       "      <td>USA</td>\n",
       "      <td>0.0</td>\n",
       "      <td>...</td>\n",
       "      <td>4.0</td>\n",
       "      <td>NaN</td>\n",
       "      <td>NaN</td>\n",
       "      <td>NaN</td>\n",
       "      <td>NaN</td>\n",
       "      <td>NaN</td>\n",
       "      <td>NaN</td>\n",
       "      <td>NaN</td>\n",
       "      <td>NaN</td>\n",
       "      <td>NaN</td>\n",
       "    </tr>\n",
       "  </tbody>\n",
       "</table>\n",
       "<p>5 rows × 22 columns</p>\n",
       "</div>"
      ],
      "text/plain": [
       "   company  ID      name category  code     status founded  at closed  at  \\\n",
       "0          1.0  Wetpaint            web  operating  2005-10-17        NaN   \n",
       "1          1.0  Wetpaint            web  operating  2005-10-17        NaN   \n",
       "2          1.0  Wetpaint            web  operating  2005-10-17        NaN   \n",
       "3         10.0   Flektor    games_video   acquired         NaN        NaN   \n",
       "4        100.0     There    games_video   acquired         NaN        NaN   \n",
       "\n",
       "             domain network  username country  code  investment  rounds  ...  \\\n",
       "0  wetpaint-inc.com   BachelrWetpaint           USA                 0.0  ...   \n",
       "1  wetpaint-inc.com   BachelrWetpaint           USA                 0.0  ...   \n",
       "2  wetpaint-inc.com   BachelrWetpaint           USA                 0.0  ...   \n",
       "3       flektor.com               NaN           USA                 0.0  ...   \n",
       "4         there.com               NaN           USA                 0.0  ...   \n",
       "\n",
       "   milestones  funding  round  id  company  id  funded  at  \\\n",
       "0         5.0               888.0          1.0  2005-10-01   \n",
       "1         5.0               889.0          1.0  2007-01-01   \n",
       "2         5.0              2312.0          1.0  2008-05-19   \n",
       "3         0.0                 NaN          NaN         NaN   \n",
       "4         4.0                 NaN          NaN         NaN   \n",
       "\n",
       "   funding  round  type raised  amount pre  money  valuation  participants  \\\n",
       "0              series-a      5250000.0                   0.0           2.0   \n",
       "1              series-b      9500000.0                   0.0           3.0   \n",
       "2             series-c+     25000000.0                   0.0           4.0   \n",
       "3                   NaN            NaN                   NaN           NaN   \n",
       "4                   NaN            NaN                   NaN           NaN   \n",
       "\n",
       "   is  first  round  is  last  round  \n",
       "0               0.0              1.0  \n",
       "1               0.0              0.0  \n",
       "2               1.0              0.0  \n",
       "3               NaN              NaN  \n",
       "4               NaN              NaN  \n",
       "\n",
       "[5 rows x 22 columns]"
      ]
     },
     "execution_count": 5,
     "metadata": {},
     "output_type": "execute_result"
    }
   ],
   "source": [
    "# Выводим первые строки датафрейма на экран\n",
    "\n",
    "company_and_rounds_df.head()"
   ]
  },
  {
   "cell_type": "code",
   "execution_count": 6,
   "metadata": {},
   "outputs": [
    {
     "name": "stdout",
     "output_type": "stream",
     "text": [
      "<class 'pandas.core.frame.DataFrame'>\n",
      "RangeIndex: 217774 entries, 0 to 217773\n",
      "Data columns (total 22 columns):\n",
      " #   Column                 Non-Null Count   Dtype  \n",
      "---  ------                 --------------   -----  \n",
      " 0   company  ID            217472 non-null  float64\n",
      " 1   name                   217472 non-null  object \n",
      " 2   category  code         143886 non-null  object \n",
      " 3   status                 217472 non-null  object \n",
      " 4   founded  at            109956 non-null  object \n",
      " 5   closed  at             3449 non-null    object \n",
      " 6   domain                 147159 non-null  object \n",
      " 7   network  username      95534 non-null   object \n",
      " 8   country  code          108607 non-null  object \n",
      " 9   investment  rounds     217472 non-null  float64\n",
      " 10  funding  rounds        217472 non-null  float64\n",
      " 11  funding  total         217472 non-null  float64\n",
      " 12  milestones             217472 non-null  float64\n",
      " 13  funding  round  id     52928 non-null   float64\n",
      " 14  company  id            52928 non-null   float64\n",
      " 15  funded  at             52680 non-null   object \n",
      " 16  funding  round  type   52928 non-null   object \n",
      " 17  raised  amount         52928 non-null   float64\n",
      " 18  pre  money  valuation  52928 non-null   float64\n",
      " 19  participants           52928 non-null   float64\n",
      " 20  is  first  round       52928 non-null   float64\n",
      " 21  is  last  round        52928 non-null   float64\n",
      "dtypes: float64(12), object(10)\n",
      "memory usage: 36.6+ MB\n"
     ]
    }
   ],
   "source": [
    "# Выводим информацию о датафрейме\n",
    "\n",
    "company_and_rounds_df.info()"
   ]
  },
  {
   "cell_type": "markdown",
   "metadata": {},
   "source": [
    "Заметим, что в данном датафрейме содержится два столбца с практически одинаковым названием - `company ID` и `company id`. Данную проблему будет необходимо исправить на этапе преобработки данных, когда будет производиться более детальное преобразование этого датафрейма (`Шаг 2. Предобработка данных, предварительное исследование. 2.4. Проблемный датасет и причина возникновения пропусков`)"
   ]
  },
  {
   "cell_type": "markdown",
   "metadata": {},
   "source": [
    "Теперь познакомимся с данными датасета `education.csv`."
   ]
  },
  {
   "cell_type": "code",
   "execution_count": 7,
   "metadata": {},
   "outputs": [
    {
     "data": {
      "text/html": [
       "<div>\n",
       "<style scoped>\n",
       "    .dataframe tbody tr th:only-of-type {\n",
       "        vertical-align: middle;\n",
       "    }\n",
       "\n",
       "    .dataframe tbody tr th {\n",
       "        vertical-align: top;\n",
       "    }\n",
       "\n",
       "    .dataframe thead th {\n",
       "        text-align: right;\n",
       "    }\n",
       "</style>\n",
       "<table border=\"1\" class=\"dataframe\">\n",
       "  <thead>\n",
       "    <tr style=\"text-align: right;\">\n",
       "      <th></th>\n",
       "      <th>id</th>\n",
       "      <th>person_id</th>\n",
       "      <th>instituition</th>\n",
       "      <th>graduated_at</th>\n",
       "    </tr>\n",
       "  </thead>\n",
       "  <tbody>\n",
       "    <tr>\n",
       "      <th>0</th>\n",
       "      <td>1</td>\n",
       "      <td>6117</td>\n",
       "      <td>NaN</td>\n",
       "      <td>NaN</td>\n",
       "    </tr>\n",
       "    <tr>\n",
       "      <th>1</th>\n",
       "      <td>2</td>\n",
       "      <td>6136</td>\n",
       "      <td>Washington University, St. Louis</td>\n",
       "      <td>1990-01-01</td>\n",
       "    </tr>\n",
       "    <tr>\n",
       "      <th>2</th>\n",
       "      <td>3</td>\n",
       "      <td>6136</td>\n",
       "      <td>Boston University</td>\n",
       "      <td>1992-01-01</td>\n",
       "    </tr>\n",
       "    <tr>\n",
       "      <th>3</th>\n",
       "      <td>4</td>\n",
       "      <td>6005</td>\n",
       "      <td>University of Greenwich</td>\n",
       "      <td>2006-01-01</td>\n",
       "    </tr>\n",
       "    <tr>\n",
       "      <th>4</th>\n",
       "      <td>5</td>\n",
       "      <td>5832</td>\n",
       "      <td>Rice University</td>\n",
       "      <td>NaN</td>\n",
       "    </tr>\n",
       "  </tbody>\n",
       "</table>\n",
       "</div>"
      ],
      "text/plain": [
       "   id  person_id                      instituition graduated_at\n",
       "0   1       6117                               NaN          NaN\n",
       "1   2       6136  Washington University, St. Louis   1990-01-01\n",
       "2   3       6136                 Boston University   1992-01-01\n",
       "3   4       6005           University of Greenwich   2006-01-01\n",
       "4   5       5832                   Rice University          NaN"
      ]
     },
     "execution_count": 7,
     "metadata": {},
     "output_type": "execute_result"
    }
   ],
   "source": [
    "# Выводим первые строки датафрейма на экран\n",
    "\n",
    "education_df.head()"
   ]
  },
  {
   "cell_type": "code",
   "execution_count": 8,
   "metadata": {},
   "outputs": [
    {
     "name": "stdout",
     "output_type": "stream",
     "text": [
      "<class 'pandas.core.frame.DataFrame'>\n",
      "RangeIndex: 109610 entries, 0 to 109609\n",
      "Data columns (total 4 columns):\n",
      " #   Column        Non-Null Count   Dtype \n",
      "---  ------        --------------   ----- \n",
      " 0   id            109610 non-null  int64 \n",
      " 1   person_id     109610 non-null  int64 \n",
      " 2   instituition  109555 non-null  object\n",
      " 3   graduated_at  58054 non-null   object\n",
      "dtypes: int64(2), object(2)\n",
      "memory usage: 3.3+ MB\n"
     ]
    }
   ],
   "source": [
    "# Выводим информацию о датафрейме\n",
    "\n",
    "education_df.info()"
   ]
  },
  {
   "cell_type": "markdown",
   "metadata": {},
   "source": [
    "Теперь познакомимся с данными датасета `people.csv`."
   ]
  },
  {
   "cell_type": "code",
   "execution_count": 9,
   "metadata": {},
   "outputs": [
    {
     "data": {
      "text/html": [
       "<div>\n",
       "<style scoped>\n",
       "    .dataframe tbody tr th:only-of-type {\n",
       "        vertical-align: middle;\n",
       "    }\n",
       "\n",
       "    .dataframe tbody tr th {\n",
       "        vertical-align: top;\n",
       "    }\n",
       "\n",
       "    .dataframe thead th {\n",
       "        text-align: right;\n",
       "    }\n",
       "</style>\n",
       "<table border=\"1\" class=\"dataframe\">\n",
       "  <thead>\n",
       "    <tr style=\"text-align: right;\">\n",
       "      <th></th>\n",
       "      <th>id</th>\n",
       "      <th>first_name</th>\n",
       "      <th>last_name</th>\n",
       "      <th>company_id</th>\n",
       "      <th>network_username</th>\n",
       "    </tr>\n",
       "  </thead>\n",
       "  <tbody>\n",
       "    <tr>\n",
       "      <th>0</th>\n",
       "      <td>10</td>\n",
       "      <td>Mark</td>\n",
       "      <td>Zuckerberg</td>\n",
       "      <td>5.0</td>\n",
       "      <td>NaN</td>\n",
       "    </tr>\n",
       "    <tr>\n",
       "      <th>1</th>\n",
       "      <td>100</td>\n",
       "      <td>Peter</td>\n",
       "      <td>Lester</td>\n",
       "      <td>27.0</td>\n",
       "      <td>NaN</td>\n",
       "    </tr>\n",
       "    <tr>\n",
       "      <th>2</th>\n",
       "      <td>1000</td>\n",
       "      <td>Dr. Steven</td>\n",
       "      <td>E. Saunders</td>\n",
       "      <td>292.0</td>\n",
       "      <td>NaN</td>\n",
       "    </tr>\n",
       "    <tr>\n",
       "      <th>3</th>\n",
       "      <td>10000</td>\n",
       "      <td>Neil</td>\n",
       "      <td>Capel</td>\n",
       "      <td>2526.0</td>\n",
       "      <td>NaN</td>\n",
       "    </tr>\n",
       "    <tr>\n",
       "      <th>4</th>\n",
       "      <td>100000</td>\n",
       "      <td>Sue</td>\n",
       "      <td>Pilsch</td>\n",
       "      <td>NaN</td>\n",
       "      <td>NaN</td>\n",
       "    </tr>\n",
       "  </tbody>\n",
       "</table>\n",
       "</div>"
      ],
      "text/plain": [
       "       id  first_name    last_name  company_id network_username\n",
       "0      10        Mark   Zuckerberg         5.0              NaN\n",
       "1     100       Peter       Lester        27.0              NaN\n",
       "2    1000  Dr. Steven  E. Saunders       292.0              NaN\n",
       "3   10000        Neil        Capel      2526.0              NaN\n",
       "4  100000         Sue       Pilsch         NaN              NaN"
      ]
     },
     "execution_count": 9,
     "metadata": {},
     "output_type": "execute_result"
    }
   ],
   "source": [
    "# Выводим первые строки датафрейма на экран\n",
    "\n",
    "people_df.head()"
   ]
  },
  {
   "cell_type": "code",
   "execution_count": 10,
   "metadata": {},
   "outputs": [
    {
     "name": "stdout",
     "output_type": "stream",
     "text": [
      "<class 'pandas.core.frame.DataFrame'>\n",
      "RangeIndex: 226709 entries, 0 to 226708\n",
      "Data columns (total 5 columns):\n",
      " #   Column            Non-Null Count   Dtype  \n",
      "---  ------            --------------   -----  \n",
      " 0   id                226709 non-null  int64  \n",
      " 1   first_name        226704 non-null  object \n",
      " 2   last_name         226708 non-null  object \n",
      " 3   company_id        34615 non-null   float64\n",
      " 4   network_username  38867 non-null   object \n",
      "dtypes: float64(1), int64(1), object(3)\n",
      "memory usage: 8.6+ MB\n"
     ]
    }
   ],
   "source": [
    "# Выводим информацию о датафрейме\n",
    "\n",
    "people_df.info()"
   ]
  },
  {
   "cell_type": "markdown",
   "metadata": {},
   "source": [
    "Теперь познакомимся с данными датасета `degrees.csv`."
   ]
  },
  {
   "cell_type": "code",
   "execution_count": 11,
   "metadata": {},
   "outputs": [
    {
     "data": {
      "text/html": [
       "<div>\n",
       "<style scoped>\n",
       "    .dataframe tbody tr th:only-of-type {\n",
       "        vertical-align: middle;\n",
       "    }\n",
       "\n",
       "    .dataframe tbody tr th {\n",
       "        vertical-align: top;\n",
       "    }\n",
       "\n",
       "    .dataframe thead th {\n",
       "        text-align: right;\n",
       "    }\n",
       "</style>\n",
       "<table border=\"1\" class=\"dataframe\">\n",
       "  <thead>\n",
       "    <tr style=\"text-align: right;\">\n",
       "      <th></th>\n",
       "      <th>id</th>\n",
       "      <th>object_id</th>\n",
       "      <th>degree_type</th>\n",
       "      <th>subject</th>\n",
       "    </tr>\n",
       "  </thead>\n",
       "  <tbody>\n",
       "    <tr>\n",
       "      <th>0</th>\n",
       "      <td>1</td>\n",
       "      <td>p:6117</td>\n",
       "      <td>MBA</td>\n",
       "      <td>NaN</td>\n",
       "    </tr>\n",
       "    <tr>\n",
       "      <th>1</th>\n",
       "      <td>2</td>\n",
       "      <td>p:6136</td>\n",
       "      <td>BA</td>\n",
       "      <td>English, French</td>\n",
       "    </tr>\n",
       "    <tr>\n",
       "      <th>2</th>\n",
       "      <td>3</td>\n",
       "      <td>p:6136</td>\n",
       "      <td>MS</td>\n",
       "      <td>Mass Communication</td>\n",
       "    </tr>\n",
       "    <tr>\n",
       "      <th>3</th>\n",
       "      <td>4</td>\n",
       "      <td>p:6005</td>\n",
       "      <td>MS</td>\n",
       "      <td>Internet Technology</td>\n",
       "    </tr>\n",
       "    <tr>\n",
       "      <th>4</th>\n",
       "      <td>5</td>\n",
       "      <td>p:5832</td>\n",
       "      <td>BCS</td>\n",
       "      <td>Computer Science, Psychology</td>\n",
       "    </tr>\n",
       "  </tbody>\n",
       "</table>\n",
       "</div>"
      ],
      "text/plain": [
       "   id object_id degree_type                       subject\n",
       "0   1    p:6117         MBA                           NaN\n",
       "1   2    p:6136          BA               English, French\n",
       "2   3    p:6136          MS            Mass Communication\n",
       "3   4    p:6005          MS           Internet Technology\n",
       "4   5    p:5832         BCS  Computer Science, Psychology"
      ]
     },
     "execution_count": 11,
     "metadata": {},
     "output_type": "execute_result"
    }
   ],
   "source": [
    "# Выводим первые строки датафрейма на экран\n",
    "\n",
    "degrees_df.head()"
   ]
  },
  {
   "cell_type": "code",
   "execution_count": 12,
   "metadata": {},
   "outputs": [
    {
     "name": "stdout",
     "output_type": "stream",
     "text": [
      "<class 'pandas.core.frame.DataFrame'>\n",
      "RangeIndex: 109610 entries, 0 to 109609\n",
      "Data columns (total 4 columns):\n",
      " #   Column       Non-Null Count   Dtype \n",
      "---  ------       --------------   ----- \n",
      " 0   id           109610 non-null  int64 \n",
      " 1   object_id    109610 non-null  object\n",
      " 2   degree_type  98392 non-null   object\n",
      " 3   subject      81298 non-null   object\n",
      "dtypes: int64(1), object(3)\n",
      "memory usage: 3.3+ MB\n"
     ]
    }
   ],
   "source": [
    "# Выводим информацию о датафрейме\n",
    "\n",
    "degrees_df.info()"
   ]
  },
  {
   "cell_type": "markdown",
   "metadata": {},
   "source": [
    "Теперь познакомимся с данными датасета `fund.csv`."
   ]
  },
  {
   "cell_type": "code",
   "execution_count": 13,
   "metadata": {},
   "outputs": [
    {
     "data": {
      "text/html": [
       "<div>\n",
       "<style scoped>\n",
       "    .dataframe tbody tr th:only-of-type {\n",
       "        vertical-align: middle;\n",
       "    }\n",
       "\n",
       "    .dataframe tbody tr th {\n",
       "        vertical-align: top;\n",
       "    }\n",
       "\n",
       "    .dataframe thead th {\n",
       "        text-align: right;\n",
       "    }\n",
       "</style>\n",
       "<table border=\"1\" class=\"dataframe\">\n",
       "  <thead>\n",
       "    <tr style=\"text-align: right;\">\n",
       "      <th></th>\n",
       "      <th>id</th>\n",
       "      <th>name</th>\n",
       "      <th>founded_at</th>\n",
       "      <th>domain</th>\n",
       "      <th>network_username</th>\n",
       "      <th>country_code</th>\n",
       "      <th>investment_rounds</th>\n",
       "      <th>invested_companies</th>\n",
       "      <th>milestones</th>\n",
       "    </tr>\n",
       "  </thead>\n",
       "  <tbody>\n",
       "    <tr>\n",
       "      <th>0</th>\n",
       "      <td>13131</td>\n",
       "      <td>NaN</td>\n",
       "      <td>NaN</td>\n",
       "      <td>NaN</td>\n",
       "      <td>NaN</td>\n",
       "      <td>NaN</td>\n",
       "      <td>0</td>\n",
       "      <td>0</td>\n",
       "      <td>0</td>\n",
       "    </tr>\n",
       "    <tr>\n",
       "      <th>1</th>\n",
       "      <td>1</td>\n",
       "      <td>Greylock Partners</td>\n",
       "      <td>1965-01-01</td>\n",
       "      <td>greylock.com</td>\n",
       "      <td>greylockvc</td>\n",
       "      <td>USA</td>\n",
       "      <td>307</td>\n",
       "      <td>196</td>\n",
       "      <td>0</td>\n",
       "    </tr>\n",
       "    <tr>\n",
       "      <th>2</th>\n",
       "      <td>10</td>\n",
       "      <td>Mission Ventures</td>\n",
       "      <td>1996-01-01</td>\n",
       "      <td>missionventures.com</td>\n",
       "      <td>NaN</td>\n",
       "      <td>USA</td>\n",
       "      <td>58</td>\n",
       "      <td>33</td>\n",
       "      <td>0</td>\n",
       "    </tr>\n",
       "    <tr>\n",
       "      <th>3</th>\n",
       "      <td>100</td>\n",
       "      <td>Kapor Enterprises, Inc.</td>\n",
       "      <td>NaN</td>\n",
       "      <td>kei.com</td>\n",
       "      <td>NaN</td>\n",
       "      <td>USA</td>\n",
       "      <td>2</td>\n",
       "      <td>1</td>\n",
       "      <td>0</td>\n",
       "    </tr>\n",
       "    <tr>\n",
       "      <th>4</th>\n",
       "      <td>1000</td>\n",
       "      <td>Speed Ventures</td>\n",
       "      <td>NaN</td>\n",
       "      <td>NaN</td>\n",
       "      <td>NaN</td>\n",
       "      <td>NaN</td>\n",
       "      <td>0</td>\n",
       "      <td>0</td>\n",
       "      <td>1</td>\n",
       "    </tr>\n",
       "  </tbody>\n",
       "</table>\n",
       "</div>"
      ],
      "text/plain": [
       "      id                     name  founded_at               domain  \\\n",
       "0  13131                      NaN         NaN                  NaN   \n",
       "1      1        Greylock Partners  1965-01-01         greylock.com   \n",
       "2     10         Mission Ventures  1996-01-01  missionventures.com   \n",
       "3    100  Kapor Enterprises, Inc.         NaN              kei.com   \n",
       "4   1000           Speed Ventures         NaN                  NaN   \n",
       "\n",
       "  network_username country_code  investment_rounds  invested_companies  \\\n",
       "0              NaN          NaN                  0                   0   \n",
       "1       greylockvc          USA                307                 196   \n",
       "2              NaN          USA                 58                  33   \n",
       "3              NaN          USA                  2                   1   \n",
       "4              NaN          NaN                  0                   0   \n",
       "\n",
       "   milestones  \n",
       "0           0  \n",
       "1           0  \n",
       "2           0  \n",
       "3           0  \n",
       "4           1  "
      ]
     },
     "execution_count": 13,
     "metadata": {},
     "output_type": "execute_result"
    }
   ],
   "source": [
    "# Выводим первые строки датафрейма на экран\n",
    "\n",
    "fund_df.head()"
   ]
  },
  {
   "cell_type": "code",
   "execution_count": 14,
   "metadata": {},
   "outputs": [
    {
     "name": "stdout",
     "output_type": "stream",
     "text": [
      "<class 'pandas.core.frame.DataFrame'>\n",
      "RangeIndex: 11652 entries, 0 to 11651\n",
      "Data columns (total 9 columns):\n",
      " #   Column              Non-Null Count  Dtype \n",
      "---  ------              --------------  ----- \n",
      " 0   id                  11652 non-null  int64 \n",
      " 1   name                11650 non-null  object\n",
      " 2   founded_at          4605 non-null   object\n",
      " 3   domain              7362 non-null   object\n",
      " 4   network_username    2149 non-null   object\n",
      " 5   country_code        7053 non-null   object\n",
      " 6   investment_rounds   11652 non-null  int64 \n",
      " 7   invested_companies  11652 non-null  int64 \n",
      " 8   milestones          11652 non-null  int64 \n",
      "dtypes: int64(4), object(5)\n",
      "memory usage: 819.4+ KB\n"
     ]
    }
   ],
   "source": [
    "# Выводим информацию о датафрейме\n",
    "\n",
    "fund_df.info()"
   ]
  },
  {
   "cell_type": "markdown",
   "metadata": {},
   "source": [
    "Теперь познакомимся с данными датасета `investment.csv`."
   ]
  },
  {
   "cell_type": "code",
   "execution_count": 15,
   "metadata": {},
   "outputs": [
    {
     "data": {
      "text/html": [
       "<div>\n",
       "<style scoped>\n",
       "    .dataframe tbody tr th:only-of-type {\n",
       "        vertical-align: middle;\n",
       "    }\n",
       "\n",
       "    .dataframe tbody tr th {\n",
       "        vertical-align: top;\n",
       "    }\n",
       "\n",
       "    .dataframe thead th {\n",
       "        text-align: right;\n",
       "    }\n",
       "</style>\n",
       "<table border=\"1\" class=\"dataframe\">\n",
       "  <thead>\n",
       "    <tr style=\"text-align: right;\">\n",
       "      <th></th>\n",
       "      <th>id</th>\n",
       "      <th>funding_round_id</th>\n",
       "      <th>company_id</th>\n",
       "      <th>fund_id</th>\n",
       "    </tr>\n",
       "  </thead>\n",
       "  <tbody>\n",
       "    <tr>\n",
       "      <th>0</th>\n",
       "      <td>1</td>\n",
       "      <td>1</td>\n",
       "      <td>4</td>\n",
       "      <td>1</td>\n",
       "    </tr>\n",
       "    <tr>\n",
       "      <th>1</th>\n",
       "      <td>2</td>\n",
       "      <td>1</td>\n",
       "      <td>4</td>\n",
       "      <td>2</td>\n",
       "    </tr>\n",
       "    <tr>\n",
       "      <th>2</th>\n",
       "      <td>3</td>\n",
       "      <td>3</td>\n",
       "      <td>5</td>\n",
       "      <td>4</td>\n",
       "    </tr>\n",
       "    <tr>\n",
       "      <th>3</th>\n",
       "      <td>4</td>\n",
       "      <td>4</td>\n",
       "      <td>5</td>\n",
       "      <td>1</td>\n",
       "    </tr>\n",
       "    <tr>\n",
       "      <th>4</th>\n",
       "      <td>5</td>\n",
       "      <td>4</td>\n",
       "      <td>5</td>\n",
       "      <td>5</td>\n",
       "    </tr>\n",
       "  </tbody>\n",
       "</table>\n",
       "</div>"
      ],
      "text/plain": [
       "   id  funding_round_id  company_id  fund_id\n",
       "0   1                 1           4        1\n",
       "1   2                 1           4        2\n",
       "2   3                 3           5        4\n",
       "3   4                 4           5        1\n",
       "4   5                 4           5        5"
      ]
     },
     "execution_count": 15,
     "metadata": {},
     "output_type": "execute_result"
    }
   ],
   "source": [
    "# Выводим первые строки датафрейма на экран\n",
    "\n",
    "investment_df.head()"
   ]
  },
  {
   "cell_type": "code",
   "execution_count": 16,
   "metadata": {},
   "outputs": [
    {
     "name": "stdout",
     "output_type": "stream",
     "text": [
      "<class 'pandas.core.frame.DataFrame'>\n",
      "RangeIndex: 61403 entries, 0 to 61402\n",
      "Data columns (total 4 columns):\n",
      " #   Column            Non-Null Count  Dtype\n",
      "---  ------            --------------  -----\n",
      " 0   id                61403 non-null  int64\n",
      " 1   funding_round_id  61403 non-null  int64\n",
      " 2   company_id        61403 non-null  int64\n",
      " 3   fund_id           61403 non-null  int64\n",
      "dtypes: int64(4)\n",
      "memory usage: 1.9 MB\n"
     ]
    }
   ],
   "source": [
    "# Выводим информацию о датафрейме\n",
    "\n",
    "investment_df.info()"
   ]
  },
  {
   "cell_type": "markdown",
   "metadata": {},
   "source": [
    "Проверим названия столбцов на одинаковый стиль написания"
   ]
  },
  {
   "cell_type": "code",
   "execution_count": 17,
   "metadata": {},
   "outputs": [
    {
     "name": "stdout",
     "output_type": "stream",
     "text": [
      "Названия столбцов датафрейма acquisition_df:\n"
     ]
    },
    {
     "data": {
      "text/plain": [
       "Index(['id', 'acquiring_company_id', 'acquired_company_id', 'term_code',\n",
       "       'price_amount', 'acquired_at'],\n",
       "      dtype='object')"
      ]
     },
     "metadata": {},
     "output_type": "display_data"
    },
    {
     "name": "stdout",
     "output_type": "stream",
     "text": [
      "\n",
      "Названия столбцов датафрейма company_and_rounds_df:\n"
     ]
    },
    {
     "data": {
      "text/plain": [
       "Index(['company  ID', 'name', 'category  code', 'status', 'founded  at',\n",
       "       'closed  at', 'domain', 'network  username', 'country  code',\n",
       "       'investment  rounds', 'funding  rounds', 'funding  total', 'milestones',\n",
       "       'funding  round  id', 'company  id', 'funded  at',\n",
       "       'funding  round  type', 'raised  amount', 'pre  money  valuation',\n",
       "       'participants', 'is  first  round', 'is  last  round'],\n",
       "      dtype='object')"
      ]
     },
     "metadata": {},
     "output_type": "display_data"
    },
    {
     "name": "stdout",
     "output_type": "stream",
     "text": [
      "\n",
      "Названия столбцов датафрейма education_df:\n"
     ]
    },
    {
     "data": {
      "text/plain": [
       "Index(['id', 'person_id', 'instituition', 'graduated_at'], dtype='object')"
      ]
     },
     "metadata": {},
     "output_type": "display_data"
    },
    {
     "name": "stdout",
     "output_type": "stream",
     "text": [
      "\n",
      "Названия столбцов датафрейма people_df:\n"
     ]
    },
    {
     "data": {
      "text/plain": [
       "Index(['id', 'first_name', 'last_name', 'company_id', 'network_username'], dtype='object')"
      ]
     },
     "metadata": {},
     "output_type": "display_data"
    },
    {
     "name": "stdout",
     "output_type": "stream",
     "text": [
      "\n",
      "Названия столбцов датафрейма degrees_df:\n"
     ]
    },
    {
     "data": {
      "text/plain": [
       "Index(['id', 'object_id', 'degree_type', 'subject'], dtype='object')"
      ]
     },
     "metadata": {},
     "output_type": "display_data"
    },
    {
     "name": "stdout",
     "output_type": "stream",
     "text": [
      "\n",
      "Названия столбцов датафрейма fund_df:\n"
     ]
    },
    {
     "data": {
      "text/plain": [
       "Index(['id', 'name', 'founded_at', 'domain', 'network_username',\n",
       "       'country_code', 'investment_rounds', 'invested_companies',\n",
       "       'milestones'],\n",
       "      dtype='object')"
      ]
     },
     "metadata": {},
     "output_type": "display_data"
    },
    {
     "name": "stdout",
     "output_type": "stream",
     "text": [
      "\n",
      "Названия столбцов датафрейма investment_df:\n"
     ]
    },
    {
     "data": {
      "text/plain": [
       "Index(['id', 'funding_round_id', 'company_id', 'fund_id'], dtype='object')"
      ]
     },
     "metadata": {},
     "output_type": "display_data"
    }
   ],
   "source": [
    "print('Названия столбцов датафрейма acquisition_df:')\n",
    "display(acquisition_df.columns)\n",
    "print()\n",
    "print('Названия столбцов датафрейма company_and_rounds_df:')\n",
    "display(company_and_rounds_df.columns)\n",
    "print()\n",
    "print('Названия столбцов датафрейма education_df:')\n",
    "display(education_df.columns)\n",
    "print()\n",
    "print('Названия столбцов датафрейма people_df:')\n",
    "display(people_df.columns)\n",
    "print()\n",
    "print('Названия столбцов датафрейма degrees_df:')\n",
    "display(degrees_df.columns)\n",
    "print()\n",
    "print('Названия столбцов датафрейма fund_df:')\n",
    "display(fund_df.columns)\n",
    "print()\n",
    "print('Названия столбцов датафрейма investment_df:')\n",
    "display(investment_df.columns)"
   ]
  },
  {
   "cell_type": "markdown",
   "metadata": {},
   "source": [
    "Названия столбцов имеют одинаковый стиль написания за исключением датафрейма `company_and_rounds_df`. Поэтому названия столбцов в данном датафрейме необходимо привести к стилю `snake case`. Для этого названия столбцов переведём в нижний регистр, а вместо пробелов добавим подчёркивания"
   ]
  },
  {
   "cell_type": "code",
   "execution_count": 18,
   "metadata": {},
   "outputs": [
    {
     "name": "stdout",
     "output_type": "stream",
     "text": [
      "Обновлённые названия столбцов датафрейма company_and_rounds_df:\n"
     ]
    },
    {
     "data": {
      "text/plain": [
       "Index(['company_id', 'name', 'category_code', 'status', 'founded_at',\n",
       "       'closed_at', 'domain', 'network_username', 'country_code',\n",
       "       'investment_rounds', 'funding_rounds', 'funding_total', 'milestones',\n",
       "       'funding_round_id', 'company_id', 'funded_at', 'funding_round_type',\n",
       "       'raised_amount', 'pre_money_valuation', 'participants',\n",
       "       'is_first_round', 'is_last_round'],\n",
       "      dtype='object')"
      ]
     },
     "metadata": {},
     "output_type": "display_data"
    },
    {
     "name": "stdout",
     "output_type": "stream",
     "text": [
      "\n"
     ]
    },
    {
     "data": {
      "text/html": [
       "<div>\n",
       "<style scoped>\n",
       "    .dataframe tbody tr th:only-of-type {\n",
       "        vertical-align: middle;\n",
       "    }\n",
       "\n",
       "    .dataframe tbody tr th {\n",
       "        vertical-align: top;\n",
       "    }\n",
       "\n",
       "    .dataframe thead th {\n",
       "        text-align: right;\n",
       "    }\n",
       "</style>\n",
       "<table border=\"1\" class=\"dataframe\">\n",
       "  <thead>\n",
       "    <tr style=\"text-align: right;\">\n",
       "      <th></th>\n",
       "      <th>company_id</th>\n",
       "      <th>name</th>\n",
       "      <th>category_code</th>\n",
       "      <th>status</th>\n",
       "      <th>founded_at</th>\n",
       "      <th>closed_at</th>\n",
       "      <th>domain</th>\n",
       "      <th>network_username</th>\n",
       "      <th>country_code</th>\n",
       "      <th>investment_rounds</th>\n",
       "      <th>...</th>\n",
       "      <th>milestones</th>\n",
       "      <th>funding_round_id</th>\n",
       "      <th>company_id</th>\n",
       "      <th>funded_at</th>\n",
       "      <th>funding_round_type</th>\n",
       "      <th>raised_amount</th>\n",
       "      <th>pre_money_valuation</th>\n",
       "      <th>participants</th>\n",
       "      <th>is_first_round</th>\n",
       "      <th>is_last_round</th>\n",
       "    </tr>\n",
       "  </thead>\n",
       "  <tbody>\n",
       "    <tr>\n",
       "      <th>0</th>\n",
       "      <td>1.0</td>\n",
       "      <td>Wetpaint</td>\n",
       "      <td>web</td>\n",
       "      <td>operating</td>\n",
       "      <td>2005-10-17</td>\n",
       "      <td>NaN</td>\n",
       "      <td>wetpaint-inc.com</td>\n",
       "      <td>BachelrWetpaint</td>\n",
       "      <td>USA</td>\n",
       "      <td>0.0</td>\n",
       "      <td>...</td>\n",
       "      <td>5.0</td>\n",
       "      <td>888.0</td>\n",
       "      <td>1.0</td>\n",
       "      <td>2005-10-01</td>\n",
       "      <td>series-a</td>\n",
       "      <td>5250000.0</td>\n",
       "      <td>0.0</td>\n",
       "      <td>2.0</td>\n",
       "      <td>0.0</td>\n",
       "      <td>1.0</td>\n",
       "    </tr>\n",
       "    <tr>\n",
       "      <th>1</th>\n",
       "      <td>1.0</td>\n",
       "      <td>Wetpaint</td>\n",
       "      <td>web</td>\n",
       "      <td>operating</td>\n",
       "      <td>2005-10-17</td>\n",
       "      <td>NaN</td>\n",
       "      <td>wetpaint-inc.com</td>\n",
       "      <td>BachelrWetpaint</td>\n",
       "      <td>USA</td>\n",
       "      <td>0.0</td>\n",
       "      <td>...</td>\n",
       "      <td>5.0</td>\n",
       "      <td>889.0</td>\n",
       "      <td>1.0</td>\n",
       "      <td>2007-01-01</td>\n",
       "      <td>series-b</td>\n",
       "      <td>9500000.0</td>\n",
       "      <td>0.0</td>\n",
       "      <td>3.0</td>\n",
       "      <td>0.0</td>\n",
       "      <td>0.0</td>\n",
       "    </tr>\n",
       "    <tr>\n",
       "      <th>2</th>\n",
       "      <td>1.0</td>\n",
       "      <td>Wetpaint</td>\n",
       "      <td>web</td>\n",
       "      <td>operating</td>\n",
       "      <td>2005-10-17</td>\n",
       "      <td>NaN</td>\n",
       "      <td>wetpaint-inc.com</td>\n",
       "      <td>BachelrWetpaint</td>\n",
       "      <td>USA</td>\n",
       "      <td>0.0</td>\n",
       "      <td>...</td>\n",
       "      <td>5.0</td>\n",
       "      <td>2312.0</td>\n",
       "      <td>1.0</td>\n",
       "      <td>2008-05-19</td>\n",
       "      <td>series-c+</td>\n",
       "      <td>25000000.0</td>\n",
       "      <td>0.0</td>\n",
       "      <td>4.0</td>\n",
       "      <td>1.0</td>\n",
       "      <td>0.0</td>\n",
       "    </tr>\n",
       "    <tr>\n",
       "      <th>3</th>\n",
       "      <td>10.0</td>\n",
       "      <td>Flektor</td>\n",
       "      <td>games_video</td>\n",
       "      <td>acquired</td>\n",
       "      <td>NaN</td>\n",
       "      <td>NaN</td>\n",
       "      <td>flektor.com</td>\n",
       "      <td>NaN</td>\n",
       "      <td>USA</td>\n",
       "      <td>0.0</td>\n",
       "      <td>...</td>\n",
       "      <td>0.0</td>\n",
       "      <td>NaN</td>\n",
       "      <td>NaN</td>\n",
       "      <td>NaN</td>\n",
       "      <td>NaN</td>\n",
       "      <td>NaN</td>\n",
       "      <td>NaN</td>\n",
       "      <td>NaN</td>\n",
       "      <td>NaN</td>\n",
       "      <td>NaN</td>\n",
       "    </tr>\n",
       "    <tr>\n",
       "      <th>4</th>\n",
       "      <td>100.0</td>\n",
       "      <td>There</td>\n",
       "      <td>games_video</td>\n",
       "      <td>acquired</td>\n",
       "      <td>NaN</td>\n",
       "      <td>NaN</td>\n",
       "      <td>there.com</td>\n",
       "      <td>NaN</td>\n",
       "      <td>USA</td>\n",
       "      <td>0.0</td>\n",
       "      <td>...</td>\n",
       "      <td>4.0</td>\n",
       "      <td>NaN</td>\n",
       "      <td>NaN</td>\n",
       "      <td>NaN</td>\n",
       "      <td>NaN</td>\n",
       "      <td>NaN</td>\n",
       "      <td>NaN</td>\n",
       "      <td>NaN</td>\n",
       "      <td>NaN</td>\n",
       "      <td>NaN</td>\n",
       "    </tr>\n",
       "  </tbody>\n",
       "</table>\n",
       "<p>5 rows × 22 columns</p>\n",
       "</div>"
      ],
      "text/plain": [
       "   company_id      name category_code     status  founded_at closed_at  \\\n",
       "0         1.0  Wetpaint           web  operating  2005-10-17       NaN   \n",
       "1         1.0  Wetpaint           web  operating  2005-10-17       NaN   \n",
       "2         1.0  Wetpaint           web  operating  2005-10-17       NaN   \n",
       "3        10.0   Flektor   games_video   acquired         NaN       NaN   \n",
       "4       100.0     There   games_video   acquired         NaN       NaN   \n",
       "\n",
       "             domain network_username country_code  investment_rounds  ...  \\\n",
       "0  wetpaint-inc.com  BachelrWetpaint          USA                0.0  ...   \n",
       "1  wetpaint-inc.com  BachelrWetpaint          USA                0.0  ...   \n",
       "2  wetpaint-inc.com  BachelrWetpaint          USA                0.0  ...   \n",
       "3       flektor.com              NaN          USA                0.0  ...   \n",
       "4         there.com              NaN          USA                0.0  ...   \n",
       "\n",
       "   milestones  funding_round_id  company_id   funded_at  funding_round_type  \\\n",
       "0         5.0             888.0         1.0  2005-10-01            series-a   \n",
       "1         5.0             889.0         1.0  2007-01-01            series-b   \n",
       "2         5.0            2312.0         1.0  2008-05-19           series-c+   \n",
       "3         0.0               NaN         NaN         NaN                 NaN   \n",
       "4         4.0               NaN         NaN         NaN                 NaN   \n",
       "\n",
       "  raised_amount pre_money_valuation  participants  is_first_round  \\\n",
       "0     5250000.0                 0.0           2.0             0.0   \n",
       "1     9500000.0                 0.0           3.0             0.0   \n",
       "2    25000000.0                 0.0           4.0             1.0   \n",
       "3           NaN                 NaN           NaN             NaN   \n",
       "4           NaN                 NaN           NaN             NaN   \n",
       "\n",
       "   is_last_round  \n",
       "0            1.0  \n",
       "1            0.0  \n",
       "2            0.0  \n",
       "3            NaN  \n",
       "4            NaN  \n",
       "\n",
       "[5 rows x 22 columns]"
      ]
     },
     "metadata": {},
     "output_type": "display_data"
    }
   ],
   "source": [
    "# Приводим названия столбцов к стилю snake case и проверяем, что в исходном датафрейме названия столбцов измениилсь\n",
    "\n",
    "company_and_rounds_df.columns = company_and_rounds_df.columns.str.lower()\n",
    "company_and_rounds_df.columns = company_and_rounds_df.columns.str.replace('  ', '_')\n",
    "\n",
    "print('Обновлённые названия столбцов датафрейма company_and_rounds_df:')\n",
    "display(company_and_rounds_df.columns)\n",
    "print()\n",
    "display(company_and_rounds_df.head())"
   ]
  },
  {
   "cell_type": "markdown",
   "metadata": {},
   "source": [
    "Названия столбцов датафрейма `company_and_rounds_df` к стилю `snake case` - приведены"
   ]
  },
  {
   "cell_type": "markdown",
   "metadata": {
    "id": "4u9np9gSnyqT"
   },
   "source": [
    "Проверим некоторые категориальные данные на наличие дубликатов. Для этого выведем список из уникальных значений в данных столбцах"
   ]
  },
  {
   "cell_type": "code",
   "execution_count": 19,
   "metadata": {
    "id": "W_W4jRazrJg0"
   },
   "outputs": [
    {
     "name": "stdout",
     "output_type": "stream",
     "text": [
      "Уникальные значения категориальных данных в датафрейме acquisition_df\n",
      "\n",
      "Уникальные значения в столбце term_code: [nan 'cash' 'stock' 'cash_and_stock']\n",
      "Количество уникальных значений в столбце term_code: 3\n",
      "\n",
      "Уникальные значения в столбце acquired_at: ['2007-05-30' '2007-07-01' '2007-05-01' ... '2013-12-11' '2013-08-31'\n",
      " '2013-12-12']\n",
      "Количество уникальных значений в столбце acquired_at: 2627\n"
     ]
    }
   ],
   "source": [
    "# Выводим список уникальных значений категориальных данных в датафрейме acquisition_df\n",
    "\n",
    "print('Уникальные значения категориальных данных в датафрейме acquisition_df')\n",
    "print()\n",
    "unique_term_code = acquisition_df['term_code'].unique()\n",
    "nunique_term_code = acquisition_df['term_code'].nunique()\n",
    "print(f'Уникальные значения в столбце term_code: {unique_term_code}')\n",
    "print(f'Количество уникальных значений в столбце term_code: {nunique_term_code}')\n",
    "print()\n",
    "unique_acquired_at = acquisition_df['acquired_at'].unique()\n",
    "nunique_acquired_at = acquisition_df['acquired_at'].nunique()\n",
    "print(f'Уникальные значения в столбце acquired_at: {unique_acquired_at}')\n",
    "print(f'Количество уникальных значений в столбце acquired_at: {nunique_acquired_at}')"
   ]
  },
  {
   "cell_type": "code",
   "execution_count": 20,
   "metadata": {},
   "outputs": [
    {
     "name": "stdout",
     "output_type": "stream",
     "text": [
      "Уникальные значения категориальных данных в датафрейме company_and_rounds_df\n",
      "\n",
      "Уникальные значения в столбце name: ['Wetpaint' 'Flektor' 'There' ... 'Pphotonet' 'Photonet' nan]\n",
      "Количество уникальных значений в столбце name: 196506\n",
      "\n",
      "Уникальные значения в столбце category_code: ['web' 'games_video' 'network_hosting' 'advertising' 'cleantech' nan\n",
      " 'enterprise' 'other' 'consulting' 'mobile' 'health' 'software'\n",
      " 'analytics' 'finance' 'education' 'medical' 'manufacturing' 'biotech'\n",
      " 'ecommerce' 'public_relations' 'hardware' 'search' 'news' 'government'\n",
      " 'security' 'photo_video' 'travel' 'semiconductor' 'social' 'legal'\n",
      " 'transportation' 'hospitality' 'sports' 'nonprofit' 'fashion' 'messaging'\n",
      " 'music' 'automotive' 'design' 'real_estate' 'local' 'nanotech' 'pets']\n",
      "Количество уникальных значений в столбце category_code: 42\n",
      "\n",
      "Уникальные значения в столбце status: ['operating' 'acquired' 'closed' 'ipo' nan]\n",
      "Количество уникальных значений в столбце status: 4\n",
      "\n",
      "Уникальные значения в столбце domain: ['wetpaint-inc.com' 'flektor.com' 'there.com' ... 'flowgram.com'\n",
      " 'pPhotonet.co' 'Photonet.com']\n",
      "Количество уникальных значений в столбце domain: 125498\n",
      "\n",
      "Уникальные значения в столбце network_username: ['BachelrWetpaint' nan 'Hostnine' ... 'networkzend' 'pPhotonet' 'Photonet']\n",
      "Количество уникальных значений в столбце network_username: 79571\n",
      "\n",
      "Уникальные значения в столбце milestones: [ 5.  0.  4.  1.  3.  2.  6.  8.  7.  9. nan]\n",
      "Количество уникальных значений в столбце milestones: 10\n",
      "\n",
      "Уникальные значения в столбце funding_round_type: ['series-a' 'series-b' 'series-c+' nan 'angel' 'venture' 'other'\n",
      " 'private-equity' 'post-ipo' 'crowdfunding']\n",
      "Количество уникальных значений в столбце funding_round_type: 9\n",
      "\n",
      "Уникальные значения в столбце is_first_round: [ 0.  1. nan]\n",
      "Количество уникальных значений в столбце is_first_round: 2\n",
      "\n",
      "Уникальные значения в столбце is_last_round: [ 1.  0. nan]\n",
      "Количество уникальных значений в столбце is_last_round: 2\n"
     ]
    }
   ],
   "source": [
    "# Выводим список уникальных значений категориальных данных в датафрейме company_and_rounds_df\n",
    "\n",
    "print('Уникальные значения категориальных данных в датафрейме company_and_rounds_df')\n",
    "print()\n",
    "unique_name = company_and_rounds_df['name'].unique()\n",
    "nunique_name = company_and_rounds_df['name'].nunique()\n",
    "print(f'Уникальные значения в столбце name: {unique_name}')\n",
    "print(f'Количество уникальных значений в столбце name: {nunique_name}')\n",
    "print()\n",
    "unique_category_code = company_and_rounds_df['category_code'].unique()\n",
    "nunique_category_code = company_and_rounds_df['category_code'].nunique()\n",
    "print(f'Уникальные значения в столбце category_code: {unique_category_code}')\n",
    "print(f'Количество уникальных значений в столбце category_code: {nunique_category_code}')\n",
    "print()\n",
    "unique_status = company_and_rounds_df['status'].unique()\n",
    "nunique_status = company_and_rounds_df['status'].nunique()\n",
    "print(f'Уникальные значения в столбце status: {unique_status}')\n",
    "print(f'Количество уникальных значений в столбце status: {nunique_status}')\n",
    "print()\n",
    "unique_domain = company_and_rounds_df['domain'].unique()\n",
    "nunique_domain = company_and_rounds_df['domain'].nunique()\n",
    "print(f'Уникальные значения в столбце domain: {unique_domain}')\n",
    "print(f'Количество уникальных значений в столбце domain: {nunique_domain}')\n",
    "print()\n",
    "unique_network_username = company_and_rounds_df['network_username'].unique()\n",
    "nunique_network_username = company_and_rounds_df['network_username'].nunique()\n",
    "print(f'Уникальные значения в столбце network_username: {unique_network_username}')\n",
    "print(f'Количество уникальных значений в столбце network_username: {nunique_network_username}')\n",
    "print()\n",
    "unique_milestones = company_and_rounds_df['milestones'].unique()\n",
    "nunique_milestones = company_and_rounds_df['milestones'].nunique()\n",
    "print(f'Уникальные значения в столбце milestones: {unique_milestones}')\n",
    "print(f'Количество уникальных значений в столбце milestones: {nunique_milestones}')\n",
    "print()\n",
    "unique_funding_round_type = company_and_rounds_df['funding_round_type'].unique()\n",
    "nunique_funding_round_type = company_and_rounds_df['funding_round_type'].nunique()\n",
    "print(f'Уникальные значения в столбце funding_round_type: {unique_funding_round_type}')\n",
    "print(f'Количество уникальных значений в столбце funding_round_type: {nunique_funding_round_type}')\n",
    "print()\n",
    "unique_is_first_round = company_and_rounds_df['is_first_round'].unique()\n",
    "nunique_is_first_round = company_and_rounds_df['is_first_round'].nunique()\n",
    "print(f'Уникальные значения в столбце is_first_round: {unique_is_first_round}')\n",
    "print(f'Количество уникальных значений в столбце is_first_round: {nunique_is_first_round}')\n",
    "print()\n",
    "unique_is_last_round = company_and_rounds_df['is_last_round'].unique()\n",
    "nunique_is_last_round = company_and_rounds_df['is_last_round'].nunique()\n",
    "print(f'Уникальные значения в столбце is_last_round: {unique_is_last_round}')\n",
    "print(f'Количество уникальных значений в столбце is_last_round: {nunique_is_last_round}')"
   ]
  },
  {
   "cell_type": "code",
   "execution_count": 21,
   "metadata": {},
   "outputs": [
    {
     "name": "stdout",
     "output_type": "stream",
     "text": [
      "Уникальные значения категориальных данных в датафрейме education_df\n",
      "\n",
      "Уникальные значения в столбце instituition: [nan 'Washington University, St. Louis' 'Boston University' ...\n",
      " 'Auburn University, Auburn, Alabama'\n",
      " 'Loyola University, New Orleans, Louisiana'\n",
      " 'Rutgers University, Newark, New Jersey']\n",
      "Количество уникальных значений в столбце instituition: 21067\n",
      "\n",
      "Уникальные значения в столбце graduated_at: [nan '1990-01-01' '1992-01-01' '2006-01-01' '1988-01-01' '2002-01-01'\n",
      " '1997-01-01' '1989-01-01' '2008-01-01' '1993-01-01' '2007-01-01'\n",
      " '1999-01-01' '2004-01-01' '1996-01-01' '2005-01-01' '1995-01-01'\n",
      " '2000-01-01' '1998-01-01' '2003-01-01' '1994-01-01' '1986-01-01'\n",
      " '1985-01-01' '1975-01-01' '1982-01-01' '1979-01-01' '1980-01-01'\n",
      " '1984-01-01' '2001-01-01' '1976-01-01' '1978-01-01' '1970-01-01'\n",
      " '1983-01-01' '1949-01-01' '1987-01-01' '1991-01-01' '1974-01-01'\n",
      " '1981-01-01' '1977-01-01' '2009-01-01' '1965-01-01' '2011-01-01'\n",
      " '1969-01-01' '1973-01-01' '1924-01-01' '1956-01-01' '1968-01-01'\n",
      " '1967-01-01' '1972-01-01' '2013-01-01' '2010-01-01' '1964-01-01'\n",
      " '1971-01-01' '1966-01-01' '1962-01-01' '1941-01-01' '1921-01-01'\n",
      " '1920-01-01' '1963-01-01' '1961-01-01' '2012-01-01' '1955-01-01'\n",
      " '1960-01-01' '1959-01-01' '1958-01-01' '1957-01-01' '1953-01-01'\n",
      " '1954-01-01' '1929-01-01' '1952-01-01' '2015-01-01' '1933-01-01'\n",
      " '1951-01-01']\n",
      "Количество уникальных значений в столбце graduated_at: 71\n"
     ]
    }
   ],
   "source": [
    "# Выводим список уникальных значений категориальных данных в датафрейме education_df\n",
    "\n",
    "print('Уникальные значения категориальных данных в датафрейме education_df')\n",
    "print()\n",
    "unique_instituition = education_df['instituition'].unique()\n",
    "nunique_instituition = education_df['instituition'].nunique()\n",
    "print(f'Уникальные значения в столбце instituition: {unique_instituition}')\n",
    "print(f'Количество уникальных значений в столбце instituition: {nunique_instituition}')\n",
    "print()\n",
    "unique_graduated_at = education_df['graduated_at'].unique()\n",
    "nunique_graduated_at = education_df['graduated_at'].nunique()\n",
    "print(f'Уникальные значения в столбце graduated_at: {unique_graduated_at}')\n",
    "print(f'Количество уникальных значений в столбце graduated_at: {nunique_graduated_at}')"
   ]
  },
  {
   "cell_type": "code",
   "execution_count": 22,
   "metadata": {},
   "outputs": [
    {
     "name": "stdout",
     "output_type": "stream",
     "text": [
      "Уникальные значения категориальных данных в датафрейме people_df\n",
      "\n",
      "Уникальные значения в столбце first_name: ['Mark' 'Peter' 'Dr. Steven' ... 'Ã\\x89lie' 'Tanis' 'Dr. Ray']\n",
      "Количество уникальных значений в столбце first_name: 28422\n",
      "\n",
      "Уникальные значения в столбце last_name: ['Zuckerberg' 'Lester' 'E. Saunders' ... 'Manda' 'Gench' 'Tamberrino']\n",
      "Количество уникальных значений в столбце last_name: 107772\n",
      "\n",
      "Уникальные значения в столбце name: [nan 'jobsbostontech' 'fbroulette' ... 'itechsocialnet' 'socialnethubs'\n",
      " 'esocialnetlike']\n",
      "Количество уникальных значений в столбце network_username: 38421\n"
     ]
    }
   ],
   "source": [
    "# Выводим список уникальных значений категориальных данных в датафрейме people_df\n",
    "\n",
    "print('Уникальные значения категориальных данных в датафрейме people_df')\n",
    "print()\n",
    "unique_first_name = people_df['first_name'].unique()\n",
    "nunique_first_name = people_df['first_name'].nunique()\n",
    "print(f'Уникальные значения в столбце first_name: {unique_first_name}')\n",
    "print(f'Количество уникальных значений в столбце first_name: {nunique_first_name}')\n",
    "print()\n",
    "unique_last_name = people_df['last_name'].unique()\n",
    "nunique_last_name = people_df['last_name'].nunique()\n",
    "print(f'Уникальные значения в столбце last_name: {unique_last_name}')\n",
    "print(f'Количество уникальных значений в столбце last_name: {nunique_last_name}')\n",
    "print()\n",
    "unique_network_username1 = people_df['network_username'].unique()\n",
    "nunique_network_username1 = people_df['network_username'].nunique()\n",
    "print(f'Уникальные значения в столбце name: {unique_network_username1}')\n",
    "print(f'Количество уникальных значений в столбце network_username: {nunique_network_username1}')"
   ]
  },
  {
   "cell_type": "code",
   "execution_count": 23,
   "metadata": {},
   "outputs": [
    {
     "name": "stdout",
     "output_type": "stream",
     "text": [
      "Уникальные значения категориальных данных в датафрейме degrees_df\n",
      "\n",
      "Уникальные значения в столбце degree_type: ['MBA' 'BA' 'MS' ... 'Master of Public Health' \"Master's of Music\"\n",
      " 'bachelors']\n",
      "Количество уникальных значений в столбце degree_type: 7148\n",
      "\n",
      "Уникальные значения в столбце subject: [nan 'English, French' 'Mass Communication' ...\n",
      " 'Executive Senior Management Program'\n",
      " \"Bachelor's of Music, Composition, Studio Production\"\n",
      " 'Business/Managerial Economics - Political Science']\n",
      "Количество уникальных значений в столбце subject: 20050\n"
     ]
    }
   ],
   "source": [
    "# Выводим список уникальных значений категориальных данных в датафрейме degrees_df\n",
    "\n",
    "print('Уникальные значения категориальных данных в датафрейме degrees_df')\n",
    "print()\n",
    "unique_degree_type = degrees_df['degree_type'].unique()\n",
    "nunique_degree_type = degrees_df['degree_type'].nunique()\n",
    "print(f'Уникальные значения в столбце degree_type: {unique_degree_type}')\n",
    "print(f'Количество уникальных значений в столбце degree_type: {nunique_degree_type}')\n",
    "print()\n",
    "unique_subject = degrees_df['subject'].unique()\n",
    "nunique_subject = degrees_df['subject'].nunique()\n",
    "print(f'Уникальные значения в столбце subject: {unique_subject}')\n",
    "print(f'Количество уникальных значений в столбце subject: {nunique_subject}')"
   ]
  },
  {
   "cell_type": "code",
   "execution_count": 24,
   "metadata": {},
   "outputs": [
    {
     "name": "stdout",
     "output_type": "stream",
     "text": [
      "Уникальные значения категориальных данных в датафрейме fund_df\n",
      "\n",
      "Уникальные значения в столбце name: [nan 'Greylock Partners' 'Mission Ventures' ... 'CalSTRS' 'Haystack'\n",
      " 'fbFund']\n",
      "Количество уникальных значений в столбце name: 11648\n",
      "\n",
      "Уникальные значения в столбце domain: [nan 'greylock.com' 'missionventures.com' ... 'calstrs.com'\n",
      " 'network.com::haystack_fund' 'developers.socialnet.com::fbfund.php']\n",
      "Количество уникальных значений в столбце domain: 7231\n",
      "\n",
      "Уникальные значения в столбце network_username: [nan 'greylockvc' 'imi_vc' ... 'CalSTRS' 'haystack_fund' 'fbFund']\n",
      "Количество уникальных значений в столбце network_username: 2098\n",
      "\n",
      "Уникальные значения в столбце milestones: [0 1 4 2 3 5 6 7]\n",
      "Количество уникальных значений в столбце milestones: 8\n"
     ]
    }
   ],
   "source": [
    "# Выводим список уникальных значений категориальных данных в датафрейме fund_df\n",
    "\n",
    "print('Уникальные значения категориальных данных в датафрейме fund_df')\n",
    "print()\n",
    "unique_name1 = fund_df['name'].unique()\n",
    "nunique_name1 = fund_df['name'].nunique()\n",
    "print(f'Уникальные значения в столбце name: {unique_name1}')\n",
    "print(f'Количество уникальных значений в столбце name: {nunique_name1}')\n",
    "print()\n",
    "unique_domain1 = fund_df['domain'].unique()\n",
    "nunique_domain1 = fund_df['domain'].nunique()\n",
    "print(f'Уникальные значения в столбце domain: {unique_domain1}')\n",
    "print(f'Количество уникальных значений в столбце domain: {nunique_domain1}')\n",
    "print()\n",
    "unique_network_username2 = fund_df['network_username'].unique()\n",
    "nunique_network_username2 = fund_df['network_username'].nunique()\n",
    "print(f'Уникальные значения в столбце network_username: {unique_network_username2}')\n",
    "print(f'Количество уникальных значений в столбце network_username: {nunique_network_username2}')\n",
    "print()\n",
    "unique_milestones = fund_df['milestones'].unique()\n",
    "nunique_milestones = fund_df['milestones'].nunique()\n",
    "print(f'Уникальные значения в столбце milestones: {unique_milestones}')\n",
    "print(f'Количество уникальных значений в столбце milestones: {nunique_milestones}')"
   ]
  },
  {
   "cell_type": "markdown",
   "metadata": {},
   "source": [
    "В датафрейме `investment_df` содержатся лишь идентификаторы"
   ]
  },
  {
   "cell_type": "markdown",
   "metadata": {},
   "source": [
    "Поскольку во многих столбцах огромное количество уникальных данных, есть вероятность наличия дубликатов, например, из-за разницы в регистрах. Поэтому приведём все значения данных столбцов к нижнему регистру и уберём пробелы в начале и в конце строки"
   ]
  },
  {
   "cell_type": "code",
   "execution_count": 25,
   "metadata": {},
   "outputs": [],
   "source": [
    "# Приводим значения к нижнему регистру и убираем пробелы в начале и в конце строки\n",
    "\n",
    "company_and_rounds_df[['name', 'category_code', 'domain', 'network_username']] = company_and_rounds_df[['name', 'category_code', 'domain', 'network_username']].apply(lambda x: x.str.lower())\n",
    "\n",
    "company_and_rounds_df[['name', 'category_code', 'domain', 'network_username']] = company_and_rounds_df[['name', 'category_code', 'domain', 'network_username']].apply(lambda x: x.str.strip())\n",
    "\n",
    "education_df['instituition'] = education_df['instituition'].str.lower()\n",
    "education_df['instituition'] = education_df['instituition'].str.strip()\n",
    "\n",
    "people_df[['first_name', 'last_name', 'network_username']] = people_df[['first_name', 'last_name', 'network_username']].apply(lambda x: x.str.lower())\n",
    "\n",
    "people_df[['first_name', 'last_name', 'network_username']] = people_df[['first_name', 'last_name', 'network_username']].apply(lambda x: x.str.strip())\n",
    "\n",
    "degrees_df[['degree_type', 'subject']] = degrees_df[['degree_type', 'subject']].apply(lambda x: x.str.lower())\n",
    "\n",
    "degrees_df[['degree_type', 'subject']] = degrees_df[['degree_type', 'subject']].apply(lambda x: x.str.strip())\n",
    "\n",
    "fund_df[['name', 'domain', 'network_username']] = fund_df[['name', 'domain', 'network_username']].apply(lambda x: x.str.lower())\n",
    "\n",
    "fund_df[['name', 'domain', 'network_username']] = fund_df[['name', 'domain', 'network_username']].apply(lambda x: x.str.strip())"
   ]
  },
  {
   "cell_type": "code",
   "execution_count": 26,
   "metadata": {},
   "outputs": [
    {
     "name": "stdout",
     "output_type": "stream",
     "text": [
      "Количество уникальных значений в столбце name: 196504\n",
      "Обработано дубликатов: 2\n",
      "\n",
      "Количество уникальных значений в столбце category_code: 42\n",
      "Обработано дубликатов: 0\n",
      "\n",
      "Количество уникальных значений в столбце domain: 125498\n",
      "Обработано дубликатов: 0\n",
      "\n",
      "Количество уникальных значений в столбце network_username: 79374\n",
      "Обработано дубликатов: 197\n"
     ]
    }
   ],
   "source": [
    "# Выводим количество уникальных значений и обработанных дубликатов после преобразований в датафрейме company_and_rounds_df\n",
    "\n",
    "nunique_name_new = company_and_rounds_df['name'].nunique()\n",
    "print(f'Количество уникальных значений в столбце name: {nunique_name_new}')\n",
    "print(f'Обработано дубликатов: {nunique_name - nunique_name_new}')\n",
    "print()\n",
    "nunique_category_code_new = company_and_rounds_df['category_code'].nunique()\n",
    "print(f'Количество уникальных значений в столбце category_code: {nunique_category_code_new}')\n",
    "print(f'Обработано дубликатов: {nunique_category_code - nunique_category_code_new}')\n",
    "print()\n",
    "nunique_domain_new = company_and_rounds_df['domain'].nunique()\n",
    "print(f'Количество уникальных значений в столбце domain: {nunique_domain_new}')\n",
    "print(f'Обработано дубликатов: {nunique_domain - nunique_domain_new}')\n",
    "print()\n",
    "nunique_network_username_new = company_and_rounds_df['network_username'].nunique()\n",
    "print(f'Количество уникальных значений в столбце network_username: {nunique_network_username_new}')\n",
    "print(f'Обработано дубликатов: {nunique_network_username - nunique_network_username_new}')"
   ]
  },
  {
   "cell_type": "code",
   "execution_count": 27,
   "metadata": {},
   "outputs": [
    {
     "name": "stdout",
     "output_type": "stream",
     "text": [
      "Количество уникальных значений в столбце instituition: 20531\n",
      "Обработано дубликатов: 536\n"
     ]
    }
   ],
   "source": [
    "# Выводим количество уникальных значений и обработанных дубликатов после преобразований в датафрейме education_df\n",
    "\n",
    "nunique_instituition_new = education_df['instituition'].nunique()\n",
    "print(f'Количество уникальных значений в столбце instituition: {nunique_instituition_new}')\n",
    "print(f'Обработано дубликатов: {nunique_instituition - nunique_instituition_new}')"
   ]
  },
  {
   "cell_type": "code",
   "execution_count": 28,
   "metadata": {},
   "outputs": [
    {
     "name": "stdout",
     "output_type": "stream",
     "text": [
      "Количество уникальных значений в столбце first_name: 26718\n",
      "Обработано дубликатов: 1704\n",
      "\n",
      "Количество уникальных значений в столбце last_name: 105539\n",
      "Обработано дубликатов: 2233\n",
      "\n",
      "Количество уникальных значений в столбце network_username: 38384\n",
      "Обработано дубликатов: 37\n"
     ]
    }
   ],
   "source": [
    "# Выводим количество уникальных значений и обработанных дубликатов после преобразований в датафрейме people_df\n",
    "\n",
    "nunique_first_name_new = people_df['first_name'].nunique()\n",
    "print(f'Количество уникальных значений в столбце first_name: {nunique_first_name_new}')\n",
    "print(f'Обработано дубликатов: {nunique_first_name - nunique_first_name_new}')\n",
    "print()\n",
    "nunique_last_name_new = people_df['last_name'].nunique()\n",
    "print(f'Количество уникальных значений в столбце last_name: {nunique_last_name_new}')\n",
    "print(f'Обработано дубликатов: {nunique_last_name - nunique_last_name_new}')\n",
    "print()\n",
    "nunique_network_username1_new = people_df['network_username'].nunique()\n",
    "print(f'Количество уникальных значений в столбце network_username: {nunique_network_username1_new}')\n",
    "print(f'Обработано дубликатов: {nunique_network_username1 - nunique_network_username1_new}')"
   ]
  },
  {
   "cell_type": "code",
   "execution_count": 29,
   "metadata": {},
   "outputs": [
    {
     "name": "stdout",
     "output_type": "stream",
     "text": [
      "Количество уникальных значений в столбце degree_type: 6743\n",
      "Обработано дубликатов: 405\n",
      "\n",
      "Количество уникальных значений в столбце subject: 19182\n",
      "Обработано дубликатов: 868\n"
     ]
    }
   ],
   "source": [
    "# Выводим количество уникальных значений и обработанных дубликатов после преобразований в датафрейме degrees_df\n",
    "\n",
    "nunique_degree_type_new = degrees_df['degree_type'].nunique()\n",
    "print(f'Количество уникальных значений в столбце degree_type: {nunique_degree_type_new}')\n",
    "print(f'Обработано дубликатов: {nunique_degree_type - nunique_degree_type_new}')\n",
    "print()\n",
    "nunique_subject_new = degrees_df['subject'].nunique()\n",
    "print(f'Количество уникальных значений в столбце subject: {nunique_subject_new}')\n",
    "print(f'Обработано дубликатов: {nunique_subject - nunique_subject_new}')"
   ]
  },
  {
   "cell_type": "code",
   "execution_count": 30,
   "metadata": {},
   "outputs": [
    {
     "name": "stdout",
     "output_type": "stream",
     "text": [
      "Количество уникальных значений в столбце name: 11648\n",
      "Обработано дубликатов: 0\n",
      "\n",
      "Количество уникальных значений в столбце domain: 7231\n",
      "Обработано дубликатов: 0\n",
      "\n",
      "Количество уникальных значений в столбце network_username: 2091\n",
      "Обработано дубликатов: 7\n"
     ]
    }
   ],
   "source": [
    "# Выводим количество уникальных значений и обработанных дубликатов после преобразований в датафрейме fund_df\n",
    "\n",
    "nunique_name1_new = fund_df['name'].nunique()\n",
    "print(f'Количество уникальных значений в столбце name: {nunique_name1_new}')\n",
    "print(f'Обработано дубликатов: {nunique_name1 - nunique_name1_new}')\n",
    "print()\n",
    "nunique_domain1_new = fund_df['domain'].nunique()\n",
    "print(f'Количество уникальных значений в столбце domain: {nunique_domain1_new}')\n",
    "print(f'Обработано дубликатов: {nunique_domain1 - nunique_domain1_new}')\n",
    "print()\n",
    "nunique_network_username2_new = fund_df['network_username'].nunique()\n",
    "print(f'Количество уникальных значений в столбце network_username: {nunique_network_username2_new}')\n",
    "print(f'Обработано дубликатов: {nunique_network_username2 - nunique_network_username2_new}')"
   ]
  },
  {
   "cell_type": "markdown",
   "metadata": {},
   "source": [
    "Можем заметить, что количество уникальных значений - уменьшилось, а значит, были обработаны неявные дубликаты"
   ]
  },
  {
   "cell_type": "markdown",
   "metadata": {},
   "source": [
    "Теперь проверим полные дубликаты по всем датафреймам с помощью метода `duplicated().sum()`"
   ]
  },
  {
   "cell_type": "code",
   "execution_count": 31,
   "metadata": {},
   "outputs": [
    {
     "name": "stdout",
     "output_type": "stream",
     "text": [
      "Количество полных дубликатов в датафрейме acquisition_df: 0\n",
      "\n",
      "Количество полных дубликатов в датафрейме company_and_rounds_df: 0\n",
      "\n",
      "Количество полных дубликатов в датафрейме education_df: 0\n",
      "\n",
      "Количество полных дубликатов в датафрейме people_df: 0\n",
      "\n",
      "Количество полных дубликатов в датафрейме degrees_df: 0\n",
      "\n",
      "Количество полных дубликатов в датафрейме fund_df: 0\n",
      "\n",
      "Количество полных дубликатов в датафрейме investment_df: 0\n"
     ]
    }
   ],
   "source": [
    "# Проверим полные дубликаты по всем датафреймам  \n",
    "\n",
    "full_duplicated_acquisition_df = acquisition_df.duplicated().sum()\n",
    "print(f'Количество полных дубликатов в датафрейме acquisition_df: {full_duplicated_acquisition_df}')\n",
    "print()\n",
    "full_duplicated_company_and_rounds_df = company_and_rounds_df.duplicated().sum()\n",
    "print(f'Количество полных дубликатов в датафрейме company_and_rounds_df: {full_duplicated_company_and_rounds_df}')\n",
    "print()\n",
    "full_duplicated_education_df = education_df.duplicated().sum()\n",
    "print(f'Количество полных дубликатов в датафрейме education_df: {full_duplicated_education_df}')\n",
    "print()\n",
    "full_duplicated_people_df = people_df.duplicated().sum()\n",
    "print(f'Количество полных дубликатов в датафрейме people_df: {full_duplicated_people_df}')\n",
    "print()\n",
    "full_duplicated_degrees_df = degrees_df.duplicated().sum()\n",
    "print(f'Количество полных дубликатов в датафрейме degrees_df: {full_duplicated_degrees_df}')\n",
    "print()\n",
    "full_duplicated_fund_df = fund_df.duplicated().sum()\n",
    "print(f'Количество полных дубликатов в датафрейме fund_df: {full_duplicated_fund_df}')\n",
    "print()\n",
    "full_duplicated_investment_df = investment_df.duplicated().sum()\n",
    "print(f'Количество полных дубликатов в датафрейме investment_df: {full_duplicated_investment_df}')"
   ]
  },
  {
   "cell_type": "markdown",
   "metadata": {},
   "source": [
    "Мы видим, что после предыдущих преобразований полные дубликаты - отсутствуют"
   ]
  },
  {
   "cell_type": "markdown",
   "metadata": {
    "id": "mg2gEwh0rJg0"
   },
   "source": [
    "### 1.2. Смена типов и анализ пропусков"
   ]
  },
  {
   "cell_type": "markdown",
   "metadata": {},
   "source": [
    "Заметим, что в некоторых датафреймах есть столбцы с информацией о дате и времени, которые представлены в неподходящем типе данных `object` вместо корректного типа данных `datetime64`. К этим столбцам относятся:\n",
    "\n",
    "- `acquired_at` - датафрейм `acquisition_df`\n",
    "- `founded_at`  - датафрейм `company_and_rounds_df`\n",
    "- `closed_at` - датафрейм `company_and_rounds_df`\n",
    "- `funded_at` - датафрейм `company_and_rounds_df`\n",
    "- `founded_at` - датафрейм `fund_df`\n",
    "\n",
    "Для корректного исследовательского анализа данных мы изменим тип данных этих столбцов на `datetime64` с помощью метода `pd.to_datetime`"
   ]
  },
  {
   "cell_type": "code",
   "execution_count": 32,
   "metadata": {},
   "outputs": [],
   "source": [
    "# Преобразовываем текущий тип данных столбцов к типу данных datetime64\n",
    "\n",
    "acquisition_df['acquired_at'] = pd.to_datetime(acquisition_df['acquired_at'])\n",
    "company_and_rounds_df['founded_at'] = pd.to_datetime(company_and_rounds_df['founded_at'])\n",
    "company_and_rounds_df['closed_at'] = pd.to_datetime(company_and_rounds_df['closed_at'])\n",
    "company_and_rounds_df['funded_at'] = pd.to_datetime(company_and_rounds_df['funded_at'])\n",
    "fund_df['founded_at'] = pd.to_datetime(fund_df['founded_at'])"
   ]
  },
  {
   "cell_type": "code",
   "execution_count": 33,
   "metadata": {},
   "outputs": [
    {
     "name": "stdout",
     "output_type": "stream",
     "text": [
      "<class 'pandas.core.frame.DataFrame'>\n",
      "RangeIndex: 9407 entries, 0 to 9406\n",
      "Data columns (total 6 columns):\n",
      " #   Column                Non-Null Count  Dtype         \n",
      "---  ------                --------------  -----         \n",
      " 0   id                    9407 non-null   int64         \n",
      " 1   acquiring_company_id  9407 non-null   int64         \n",
      " 2   acquired_company_id   9407 non-null   int64         \n",
      " 3   term_code             1831 non-null   object        \n",
      " 4   price_amount          9407 non-null   int64         \n",
      " 5   acquired_at           9378 non-null   datetime64[ns]\n",
      "dtypes: datetime64[ns](1), int64(4), object(1)\n",
      "memory usage: 441.1+ KB\n"
     ]
    },
    {
     "data": {
      "text/plain": [
       "None"
      ]
     },
     "metadata": {},
     "output_type": "display_data"
    },
    {
     "name": "stdout",
     "output_type": "stream",
     "text": [
      "\n",
      "<class 'pandas.core.frame.DataFrame'>\n",
      "RangeIndex: 217774 entries, 0 to 217773\n",
      "Data columns (total 22 columns):\n",
      " #   Column               Non-Null Count   Dtype         \n",
      "---  ------               --------------   -----         \n",
      " 0   company_id           217472 non-null  float64       \n",
      " 1   name                 217472 non-null  object        \n",
      " 2   category_code        143886 non-null  object        \n",
      " 3   status               217472 non-null  object        \n",
      " 4   founded_at           109956 non-null  datetime64[ns]\n",
      " 5   closed_at            3449 non-null    datetime64[ns]\n",
      " 6   domain               147159 non-null  object        \n",
      " 7   network_username     95534 non-null   object        \n",
      " 8   country_code         108607 non-null  object        \n",
      " 9   investment_rounds    217472 non-null  float64       \n",
      " 10  funding_rounds       217472 non-null  float64       \n",
      " 11  funding_total        217472 non-null  float64       \n",
      " 12  milestones           217472 non-null  float64       \n",
      " 13  funding_round_id     52928 non-null   float64       \n",
      " 14  company_id           52928 non-null   float64       \n",
      " 15  funded_at            52680 non-null   datetime64[ns]\n",
      " 16  funding_round_type   52928 non-null   object        \n",
      " 17  raised_amount        52928 non-null   float64       \n",
      " 18  pre_money_valuation  52928 non-null   float64       \n",
      " 19  participants         52928 non-null   float64       \n",
      " 20  is_first_round       52928 non-null   float64       \n",
      " 21  is_last_round        52928 non-null   float64       \n",
      "dtypes: datetime64[ns](3), float64(12), object(7)\n",
      "memory usage: 36.6+ MB\n"
     ]
    },
    {
     "data": {
      "text/plain": [
       "None"
      ]
     },
     "metadata": {},
     "output_type": "display_data"
    },
    {
     "name": "stdout",
     "output_type": "stream",
     "text": [
      "\n",
      "<class 'pandas.core.frame.DataFrame'>\n",
      "RangeIndex: 11652 entries, 0 to 11651\n",
      "Data columns (total 9 columns):\n",
      " #   Column              Non-Null Count  Dtype         \n",
      "---  ------              --------------  -----         \n",
      " 0   id                  11652 non-null  int64         \n",
      " 1   name                11650 non-null  object        \n",
      " 2   founded_at          4605 non-null   datetime64[ns]\n",
      " 3   domain              7362 non-null   object        \n",
      " 4   network_username    2149 non-null   object        \n",
      " 5   country_code        7053 non-null   object        \n",
      " 6   investment_rounds   11652 non-null  int64         \n",
      " 7   invested_companies  11652 non-null  int64         \n",
      " 8   milestones          11652 non-null  int64         \n",
      "dtypes: datetime64[ns](1), int64(4), object(4)\n",
      "memory usage: 819.4+ KB\n"
     ]
    },
    {
     "data": {
      "text/plain": [
       "None"
      ]
     },
     "metadata": {},
     "output_type": "display_data"
    }
   ],
   "source": [
    "# Проверяем, что преобразование текущего типа данных столбцов к типу данных datetime64 прошло успешно\n",
    "\n",
    "display(acquisition_df.info())\n",
    "print()\n",
    "display(company_and_rounds_df.info())\n",
    "print()\n",
    "display(fund_df.info())"
   ]
  },
  {
   "cell_type": "markdown",
   "metadata": {},
   "source": [
    "Тип данных столбцов - `acquired_at`, `founded_at`, `closed_at`, `funded_at`, `founded_at` успешно изменён на `datetime64`"
   ]
  },
  {
   "cell_type": "markdown",
   "metadata": {
    "id": "FsL0A8RBrJg1"
   },
   "source": [
    "Оценим полноту данных - проверим все датафреймы на имеющиеся пропуски в различных столбцах. Для этого узнаем абсолютное и относительное количество пропусков во всех столбцах"
   ]
  },
  {
   "cell_type": "code",
   "execution_count": 34,
   "metadata": {},
   "outputs": [
    {
     "name": "stdout",
     "output_type": "stream",
     "text": [
      "Количество пропусков в датафрейме acquisition_df:\n"
     ]
    },
    {
     "data": {
      "text/html": [
       "<style  type=\"text/css\" >\n",
       "#T_94a45_row0_col0,#T_94a45_row0_col1{\n",
       "            background-color:  #b40426;\n",
       "            color:  #f1f1f1;\n",
       "        }#T_94a45_row1_col0,#T_94a45_row1_col1,#T_94a45_row2_col0,#T_94a45_row2_col1,#T_94a45_row3_col0,#T_94a45_row3_col1,#T_94a45_row4_col0,#T_94a45_row4_col1,#T_94a45_row5_col0,#T_94a45_row5_col1{\n",
       "            background-color:  #3b4cc0;\n",
       "            color:  #f1f1f1;\n",
       "        }</style><table id=\"T_94a45_\" ><thead>    <tr>        <th class=\"blank level0\" ></th>        <th class=\"col_heading level0 col0\" >Кол-во пропусков</th>        <th class=\"col_heading level0 col1\" >Доля пропусков (в %)</th>    </tr></thead><tbody>\n",
       "                <tr>\n",
       "                        <th id=\"T_94a45_level0_row0\" class=\"row_heading level0 row0\" >term_code</th>\n",
       "                        <td id=\"T_94a45_row0_col0\" class=\"data row0 col0\" >7576</td>\n",
       "                        <td id=\"T_94a45_row0_col1\" class=\"data row0 col1\" >80.535771</td>\n",
       "            </tr>\n",
       "            <tr>\n",
       "                        <th id=\"T_94a45_level0_row1\" class=\"row_heading level0 row1\" >acquired_at</th>\n",
       "                        <td id=\"T_94a45_row1_col0\" class=\"data row1 col0\" >29</td>\n",
       "                        <td id=\"T_94a45_row1_col1\" class=\"data row1 col1\" >0.308281</td>\n",
       "            </tr>\n",
       "            <tr>\n",
       "                        <th id=\"T_94a45_level0_row2\" class=\"row_heading level0 row2\" >id</th>\n",
       "                        <td id=\"T_94a45_row2_col0\" class=\"data row2 col0\" >0</td>\n",
       "                        <td id=\"T_94a45_row2_col1\" class=\"data row2 col1\" >0.000000</td>\n",
       "            </tr>\n",
       "            <tr>\n",
       "                        <th id=\"T_94a45_level0_row3\" class=\"row_heading level0 row3\" >acquiring_company_id</th>\n",
       "                        <td id=\"T_94a45_row3_col0\" class=\"data row3 col0\" >0</td>\n",
       "                        <td id=\"T_94a45_row3_col1\" class=\"data row3 col1\" >0.000000</td>\n",
       "            </tr>\n",
       "            <tr>\n",
       "                        <th id=\"T_94a45_level0_row4\" class=\"row_heading level0 row4\" >acquired_company_id</th>\n",
       "                        <td id=\"T_94a45_row4_col0\" class=\"data row4 col0\" >0</td>\n",
       "                        <td id=\"T_94a45_row4_col1\" class=\"data row4 col1\" >0.000000</td>\n",
       "            </tr>\n",
       "            <tr>\n",
       "                        <th id=\"T_94a45_level0_row5\" class=\"row_heading level0 row5\" >price_amount</th>\n",
       "                        <td id=\"T_94a45_row5_col0\" class=\"data row5 col0\" >0</td>\n",
       "                        <td id=\"T_94a45_row5_col1\" class=\"data row5 col1\" >0.000000</td>\n",
       "            </tr>\n",
       "    </tbody></table>"
      ],
      "text/plain": [
       "<pandas.io.formats.style.Styler at 0x7f0450098b50>"
      ]
     },
     "metadata": {},
     "output_type": "display_data"
    }
   ],
   "source": [
    "# Выводим абсолютное и относительное количество пропусков в датафрейме\n",
    "\n",
    "print('Количество пропусков в датафрейме acquisition_df:')\n",
    "display(pd.DataFrame({'Кол-во пропусков': acquisition_df.isna().sum(), \n",
    "               'Доля пропусков (в %)': acquisition_df.isna().mean()*100})\n",
    "           .sort_values(by='Кол-во пропусков', ascending=False)\n",
    "           .style.background_gradient(cmap='coolwarm'))"
   ]
  },
  {
   "cell_type": "code",
   "execution_count": 35,
   "metadata": {},
   "outputs": [
    {
     "name": "stdout",
     "output_type": "stream",
     "text": [
      "Количество пропусков в датафрейме company_and_rounds_df:\n"
     ]
    },
    {
     "data": {
      "text/html": [
       "<style  type=\"text/css\" >\n",
       "#T_3bd20_row0_col1,#T_3bd20_row0_col2{\n",
       "            background-color:  #b40426;\n",
       "            color:  #f1f1f1;\n",
       "        }#T_3bd20_row1_col1,#T_3bd20_row1_col2{\n",
       "            background-color:  #f29072;\n",
       "            color:  #000000;\n",
       "        }#T_3bd20_row2_col1,#T_3bd20_row2_col2,#T_3bd20_row3_col1,#T_3bd20_row3_col2,#T_3bd20_row4_col1,#T_3bd20_row4_col2,#T_3bd20_row5_col1,#T_3bd20_row5_col2,#T_3bd20_row6_col1,#T_3bd20_row6_col2,#T_3bd20_row7_col1,#T_3bd20_row7_col2,#T_3bd20_row8_col1,#T_3bd20_row8_col2,#T_3bd20_row9_col1,#T_3bd20_row9_col2{\n",
       "            background-color:  #f29274;\n",
       "            color:  #000000;\n",
       "        }#T_3bd20_row10_col1,#T_3bd20_row10_col2{\n",
       "            background-color:  #edd2c3;\n",
       "            color:  #000000;\n",
       "        }#T_3bd20_row11_col1,#T_3bd20_row11_col2{\n",
       "            background-color:  #dfdbd9;\n",
       "            color:  #000000;\n",
       "        }#T_3bd20_row12_col1,#T_3bd20_row12_col2{\n",
       "            background-color:  #dddcdc;\n",
       "            color:  #000000;\n",
       "        }#T_3bd20_row13_col1,#T_3bd20_row13_col2{\n",
       "            background-color:  #aec9fc;\n",
       "            color:  #000000;\n",
       "        }#T_3bd20_row14_col1,#T_3bd20_row14_col2{\n",
       "            background-color:  #a9c6fd;\n",
       "            color:  #000000;\n",
       "        }#T_3bd20_row15_col1,#T_3bd20_row15_col2,#T_3bd20_row16_col1,#T_3bd20_row16_col2,#T_3bd20_row17_col1,#T_3bd20_row17_col2,#T_3bd20_row18_col1,#T_3bd20_row18_col2,#T_3bd20_row19_col1,#T_3bd20_row19_col2,#T_3bd20_row20_col1,#T_3bd20_row20_col2,#T_3bd20_row21_col1,#T_3bd20_row21_col2{\n",
       "            background-color:  #3b4cc0;\n",
       "            color:  #f1f1f1;\n",
       "        }</style><table id=\"T_3bd20_\" ><thead>    <tr>        <th class=\"blank level0\" ></th>        <th class=\"col_heading level0 col0\" >index</th>        <th class=\"col_heading level0 col1\" >Кол-во пропусков</th>        <th class=\"col_heading level0 col2\" >Доля пропусков (в %)</th>    </tr></thead><tbody>\n",
       "                <tr>\n",
       "                        <th id=\"T_3bd20_level0_row0\" class=\"row_heading level0 row0\" >5</th>\n",
       "                        <td id=\"T_3bd20_row0_col0\" class=\"data row0 col0\" >closed_at</td>\n",
       "                        <td id=\"T_3bd20_row0_col1\" class=\"data row0 col1\" >214325</td>\n",
       "                        <td id=\"T_3bd20_row0_col2\" class=\"data row0 col2\" >98.416248</td>\n",
       "            </tr>\n",
       "            <tr>\n",
       "                        <th id=\"T_3bd20_level0_row1\" class=\"row_heading level0 row1\" >15</th>\n",
       "                        <td id=\"T_3bd20_row1_col0\" class=\"data row1 col0\" >funded_at</td>\n",
       "                        <td id=\"T_3bd20_row1_col1\" class=\"data row1 col1\" >165094</td>\n",
       "                        <td id=\"T_3bd20_row1_col2\" class=\"data row1 col2\" >75.809784</td>\n",
       "            </tr>\n",
       "            <tr>\n",
       "                        <th id=\"T_3bd20_level0_row2\" class=\"row_heading level0 row2\" >21</th>\n",
       "                        <td id=\"T_3bd20_row2_col0\" class=\"data row2 col0\" >is_last_round</td>\n",
       "                        <td id=\"T_3bd20_row2_col1\" class=\"data row2 col1\" >164846</td>\n",
       "                        <td id=\"T_3bd20_row2_col2\" class=\"data row2 col2\" >75.695905</td>\n",
       "            </tr>\n",
       "            <tr>\n",
       "                        <th id=\"T_3bd20_level0_row3\" class=\"row_heading level0 row3\" >20</th>\n",
       "                        <td id=\"T_3bd20_row3_col0\" class=\"data row3 col0\" >is_first_round</td>\n",
       "                        <td id=\"T_3bd20_row3_col1\" class=\"data row3 col1\" >164846</td>\n",
       "                        <td id=\"T_3bd20_row3_col2\" class=\"data row3 col2\" >75.695905</td>\n",
       "            </tr>\n",
       "            <tr>\n",
       "                        <th id=\"T_3bd20_level0_row4\" class=\"row_heading level0 row4\" >19</th>\n",
       "                        <td id=\"T_3bd20_row4_col0\" class=\"data row4 col0\" >participants</td>\n",
       "                        <td id=\"T_3bd20_row4_col1\" class=\"data row4 col1\" >164846</td>\n",
       "                        <td id=\"T_3bd20_row4_col2\" class=\"data row4 col2\" >75.695905</td>\n",
       "            </tr>\n",
       "            <tr>\n",
       "                        <th id=\"T_3bd20_level0_row5\" class=\"row_heading level0 row5\" >18</th>\n",
       "                        <td id=\"T_3bd20_row5_col0\" class=\"data row5 col0\" >pre_money_valuation</td>\n",
       "                        <td id=\"T_3bd20_row5_col1\" class=\"data row5 col1\" >164846</td>\n",
       "                        <td id=\"T_3bd20_row5_col2\" class=\"data row5 col2\" >75.695905</td>\n",
       "            </tr>\n",
       "            <tr>\n",
       "                        <th id=\"T_3bd20_level0_row6\" class=\"row_heading level0 row6\" >17</th>\n",
       "                        <td id=\"T_3bd20_row6_col0\" class=\"data row6 col0\" >raised_amount</td>\n",
       "                        <td id=\"T_3bd20_row6_col1\" class=\"data row6 col1\" >164846</td>\n",
       "                        <td id=\"T_3bd20_row6_col2\" class=\"data row6 col2\" >75.695905</td>\n",
       "            </tr>\n",
       "            <tr>\n",
       "                        <th id=\"T_3bd20_level0_row7\" class=\"row_heading level0 row7\" >16</th>\n",
       "                        <td id=\"T_3bd20_row7_col0\" class=\"data row7 col0\" >funding_round_type</td>\n",
       "                        <td id=\"T_3bd20_row7_col1\" class=\"data row7 col1\" >164846</td>\n",
       "                        <td id=\"T_3bd20_row7_col2\" class=\"data row7 col2\" >75.695905</td>\n",
       "            </tr>\n",
       "            <tr>\n",
       "                        <th id=\"T_3bd20_level0_row8\" class=\"row_heading level0 row8\" >13</th>\n",
       "                        <td id=\"T_3bd20_row8_col0\" class=\"data row8 col0\" >funding_round_id</td>\n",
       "                        <td id=\"T_3bd20_row8_col1\" class=\"data row8 col1\" >164846</td>\n",
       "                        <td id=\"T_3bd20_row8_col2\" class=\"data row8 col2\" >75.695905</td>\n",
       "            </tr>\n",
       "            <tr>\n",
       "                        <th id=\"T_3bd20_level0_row9\" class=\"row_heading level0 row9\" >14</th>\n",
       "                        <td id=\"T_3bd20_row9_col0\" class=\"data row9 col0\" >company_id</td>\n",
       "                        <td id=\"T_3bd20_row9_col1\" class=\"data row9 col1\" >164846</td>\n",
       "                        <td id=\"T_3bd20_row9_col2\" class=\"data row9 col2\" >75.695905</td>\n",
       "            </tr>\n",
       "            <tr>\n",
       "                        <th id=\"T_3bd20_level0_row10\" class=\"row_heading level0 row10\" >7</th>\n",
       "                        <td id=\"T_3bd20_row10_col0\" class=\"data row10 col0\" >network_username</td>\n",
       "                        <td id=\"T_3bd20_row10_col1\" class=\"data row10 col1\" >122240</td>\n",
       "                        <td id=\"T_3bd20_row10_col2\" class=\"data row10 col2\" >56.131586</td>\n",
       "            </tr>\n",
       "            <tr>\n",
       "                        <th id=\"T_3bd20_level0_row11\" class=\"row_heading level0 row11\" >8</th>\n",
       "                        <td id=\"T_3bd20_row11_col0\" class=\"data row11 col0\" >country_code</td>\n",
       "                        <td id=\"T_3bd20_row11_col1\" class=\"data row11 col1\" >109167</td>\n",
       "                        <td id=\"T_3bd20_row11_col2\" class=\"data row11 col2\" >50.128574</td>\n",
       "            </tr>\n",
       "            <tr>\n",
       "                        <th id=\"T_3bd20_level0_row12\" class=\"row_heading level0 row12\" >4</th>\n",
       "                        <td id=\"T_3bd20_row12_col0\" class=\"data row12 col0\" >founded_at</td>\n",
       "                        <td id=\"T_3bd20_row12_col1\" class=\"data row12 col1\" >107818</td>\n",
       "                        <td id=\"T_3bd20_row12_col2\" class=\"data row12 col2\" >49.509124</td>\n",
       "            </tr>\n",
       "            <tr>\n",
       "                        <th id=\"T_3bd20_level0_row13\" class=\"row_heading level0 row13\" >2</th>\n",
       "                        <td id=\"T_3bd20_row13_col0\" class=\"data row13 col0\" >category_code</td>\n",
       "                        <td id=\"T_3bd20_row13_col1\" class=\"data row13 col1\" >73888</td>\n",
       "                        <td id=\"T_3bd20_row13_col2\" class=\"data row13 col2\" >33.928752</td>\n",
       "            </tr>\n",
       "            <tr>\n",
       "                        <th id=\"T_3bd20_level0_row14\" class=\"row_heading level0 row14\" >6</th>\n",
       "                        <td id=\"T_3bd20_row14_col0\" class=\"data row14 col0\" >domain</td>\n",
       "                        <td id=\"T_3bd20_row14_col1\" class=\"data row14 col1\" >70615</td>\n",
       "                        <td id=\"T_3bd20_row14_col2\" class=\"data row14 col2\" >32.425818</td>\n",
       "            </tr>\n",
       "            <tr>\n",
       "                        <th id=\"T_3bd20_level0_row15\" class=\"row_heading level0 row15\" >0</th>\n",
       "                        <td id=\"T_3bd20_row15_col0\" class=\"data row15 col0\" >company_id</td>\n",
       "                        <td id=\"T_3bd20_row15_col1\" class=\"data row15 col1\" >302</td>\n",
       "                        <td id=\"T_3bd20_row15_col2\" class=\"data row15 col2\" >0.138676</td>\n",
       "            </tr>\n",
       "            <tr>\n",
       "                        <th id=\"T_3bd20_level0_row16\" class=\"row_heading level0 row16\" >12</th>\n",
       "                        <td id=\"T_3bd20_row16_col0\" class=\"data row16 col0\" >milestones</td>\n",
       "                        <td id=\"T_3bd20_row16_col1\" class=\"data row16 col1\" >302</td>\n",
       "                        <td id=\"T_3bd20_row16_col2\" class=\"data row16 col2\" >0.138676</td>\n",
       "            </tr>\n",
       "            <tr>\n",
       "                        <th id=\"T_3bd20_level0_row17\" class=\"row_heading level0 row17\" >1</th>\n",
       "                        <td id=\"T_3bd20_row17_col0\" class=\"data row17 col0\" >name</td>\n",
       "                        <td id=\"T_3bd20_row17_col1\" class=\"data row17 col1\" >302</td>\n",
       "                        <td id=\"T_3bd20_row17_col2\" class=\"data row17 col2\" >0.138676</td>\n",
       "            </tr>\n",
       "            <tr>\n",
       "                        <th id=\"T_3bd20_level0_row18\" class=\"row_heading level0 row18\" >10</th>\n",
       "                        <td id=\"T_3bd20_row18_col0\" class=\"data row18 col0\" >funding_rounds</td>\n",
       "                        <td id=\"T_3bd20_row18_col1\" class=\"data row18 col1\" >302</td>\n",
       "                        <td id=\"T_3bd20_row18_col2\" class=\"data row18 col2\" >0.138676</td>\n",
       "            </tr>\n",
       "            <tr>\n",
       "                        <th id=\"T_3bd20_level0_row19\" class=\"row_heading level0 row19\" >9</th>\n",
       "                        <td id=\"T_3bd20_row19_col0\" class=\"data row19 col0\" >investment_rounds</td>\n",
       "                        <td id=\"T_3bd20_row19_col1\" class=\"data row19 col1\" >302</td>\n",
       "                        <td id=\"T_3bd20_row19_col2\" class=\"data row19 col2\" >0.138676</td>\n",
       "            </tr>\n",
       "            <tr>\n",
       "                        <th id=\"T_3bd20_level0_row20\" class=\"row_heading level0 row20\" >3</th>\n",
       "                        <td id=\"T_3bd20_row20_col0\" class=\"data row20 col0\" >status</td>\n",
       "                        <td id=\"T_3bd20_row20_col1\" class=\"data row20 col1\" >302</td>\n",
       "                        <td id=\"T_3bd20_row20_col2\" class=\"data row20 col2\" >0.138676</td>\n",
       "            </tr>\n",
       "            <tr>\n",
       "                        <th id=\"T_3bd20_level0_row21\" class=\"row_heading level0 row21\" >11</th>\n",
       "                        <td id=\"T_3bd20_row21_col0\" class=\"data row21 col0\" >funding_total</td>\n",
       "                        <td id=\"T_3bd20_row21_col1\" class=\"data row21 col1\" >302</td>\n",
       "                        <td id=\"T_3bd20_row21_col2\" class=\"data row21 col2\" >0.138676</td>\n",
       "            </tr>\n",
       "    </tbody></table>"
      ],
      "text/plain": [
       "<pandas.io.formats.style.Styler at 0x7f044fff4610>"
      ]
     },
     "metadata": {},
     "output_type": "display_data"
    }
   ],
   "source": [
    "# Выводим абсолютное и относительное количество пропусков в датафрейме company_and_rounds_df\n",
    "\n",
    "print('Количество пропусков в датафрейме company_and_rounds_df:')\n",
    "display(pd.DataFrame({'Кол-во пропусков': company_and_rounds_df.isna().sum(), \n",
    "               'Доля пропусков (в %)': company_and_rounds_df.isna().mean()*100}).reset_index()\n",
    "           .sort_values(by='Кол-во пропусков', ascending=False)\n",
    "           .style.background_gradient(cmap='coolwarm'))"
   ]
  },
  {
   "cell_type": "code",
   "execution_count": 36,
   "metadata": {},
   "outputs": [
    {
     "name": "stdout",
     "output_type": "stream",
     "text": [
      "Количество пропусков в датафрейме education_df:\n"
     ]
    },
    {
     "data": {
      "text/html": [
       "<style  type=\"text/css\" >\n",
       "#T_253aa_row0_col0,#T_253aa_row0_col1{\n",
       "            background-color:  #b40426;\n",
       "            color:  #f1f1f1;\n",
       "        }#T_253aa_row1_col0,#T_253aa_row1_col1,#T_253aa_row2_col0,#T_253aa_row2_col1,#T_253aa_row3_col0,#T_253aa_row3_col1{\n",
       "            background-color:  #3b4cc0;\n",
       "            color:  #f1f1f1;\n",
       "        }</style><table id=\"T_253aa_\" ><thead>    <tr>        <th class=\"blank level0\" ></th>        <th class=\"col_heading level0 col0\" >Кол-во пропусков</th>        <th class=\"col_heading level0 col1\" >Доля пропусков (в %)</th>    </tr></thead><tbody>\n",
       "                <tr>\n",
       "                        <th id=\"T_253aa_level0_row0\" class=\"row_heading level0 row0\" >graduated_at</th>\n",
       "                        <td id=\"T_253aa_row0_col0\" class=\"data row0 col0\" >51556</td>\n",
       "                        <td id=\"T_253aa_row0_col1\" class=\"data row0 col1\" >47.035854</td>\n",
       "            </tr>\n",
       "            <tr>\n",
       "                        <th id=\"T_253aa_level0_row1\" class=\"row_heading level0 row1\" >instituition</th>\n",
       "                        <td id=\"T_253aa_row1_col0\" class=\"data row1 col0\" >55</td>\n",
       "                        <td id=\"T_253aa_row1_col1\" class=\"data row1 col1\" >0.050178</td>\n",
       "            </tr>\n",
       "            <tr>\n",
       "                        <th id=\"T_253aa_level0_row2\" class=\"row_heading level0 row2\" >id</th>\n",
       "                        <td id=\"T_253aa_row2_col0\" class=\"data row2 col0\" >0</td>\n",
       "                        <td id=\"T_253aa_row2_col1\" class=\"data row2 col1\" >0.000000</td>\n",
       "            </tr>\n",
       "            <tr>\n",
       "                        <th id=\"T_253aa_level0_row3\" class=\"row_heading level0 row3\" >person_id</th>\n",
       "                        <td id=\"T_253aa_row3_col0\" class=\"data row3 col0\" >0</td>\n",
       "                        <td id=\"T_253aa_row3_col1\" class=\"data row3 col1\" >0.000000</td>\n",
       "            </tr>\n",
       "    </tbody></table>"
      ],
      "text/plain": [
       "<pandas.io.formats.style.Styler at 0x7f045009edc0>"
      ]
     },
     "metadata": {},
     "output_type": "display_data"
    }
   ],
   "source": [
    "# Выводим абсолютное и относительное количество пропусков в датафрейме education_df\n",
    "\n",
    "print('Количество пропусков в датафрейме education_df:')\n",
    "display(pd.DataFrame({'Кол-во пропусков': education_df.isna().sum(), \n",
    "               'Доля пропусков (в %)': education_df.isna().mean()*100})\n",
    "           .sort_values(by='Кол-во пропусков', ascending=False)\n",
    "           .style.background_gradient(cmap='coolwarm'))"
   ]
  },
  {
   "cell_type": "code",
   "execution_count": 37,
   "metadata": {
    "id": "5Sg2O8zNnzKc"
   },
   "outputs": [
    {
     "name": "stdout",
     "output_type": "stream",
     "text": [
      "Количество пропусков в датафрейме people_df:\n"
     ]
    },
    {
     "data": {
      "text/html": [
       "<style  type=\"text/css\" >\n",
       "#T_cdb5a_row0_col0,#T_cdb5a_row0_col1{\n",
       "            background-color:  #b40426;\n",
       "            color:  #f1f1f1;\n",
       "        }#T_cdb5a_row1_col0,#T_cdb5a_row1_col1{\n",
       "            background-color:  #bb1b2c;\n",
       "            color:  #f1f1f1;\n",
       "        }#T_cdb5a_row2_col0,#T_cdb5a_row2_col1,#T_cdb5a_row3_col0,#T_cdb5a_row3_col1,#T_cdb5a_row4_col0,#T_cdb5a_row4_col1{\n",
       "            background-color:  #3b4cc0;\n",
       "            color:  #f1f1f1;\n",
       "        }</style><table id=\"T_cdb5a_\" ><thead>    <tr>        <th class=\"blank level0\" ></th>        <th class=\"col_heading level0 col0\" >Кол-во пропусков</th>        <th class=\"col_heading level0 col1\" >Доля пропусков (в %)</th>    </tr></thead><tbody>\n",
       "                <tr>\n",
       "                        <th id=\"T_cdb5a_level0_row0\" class=\"row_heading level0 row0\" >company_id</th>\n",
       "                        <td id=\"T_cdb5a_row0_col0\" class=\"data row0 col0\" >192094</td>\n",
       "                        <td id=\"T_cdb5a_row0_col1\" class=\"data row0 col1\" >84.731528</td>\n",
       "            </tr>\n",
       "            <tr>\n",
       "                        <th id=\"T_cdb5a_level0_row1\" class=\"row_heading level0 row1\" >network_username</th>\n",
       "                        <td id=\"T_cdb5a_row1_col0\" class=\"data row1 col0\" >187842</td>\n",
       "                        <td id=\"T_cdb5a_row1_col1\" class=\"data row1 col1\" >82.855996</td>\n",
       "            </tr>\n",
       "            <tr>\n",
       "                        <th id=\"T_cdb5a_level0_row2\" class=\"row_heading level0 row2\" >first_name</th>\n",
       "                        <td id=\"T_cdb5a_row2_col0\" class=\"data row2 col0\" >5</td>\n",
       "                        <td id=\"T_cdb5a_row2_col1\" class=\"data row2 col1\" >0.002205</td>\n",
       "            </tr>\n",
       "            <tr>\n",
       "                        <th id=\"T_cdb5a_level0_row3\" class=\"row_heading level0 row3\" >last_name</th>\n",
       "                        <td id=\"T_cdb5a_row3_col0\" class=\"data row3 col0\" >1</td>\n",
       "                        <td id=\"T_cdb5a_row3_col1\" class=\"data row3 col1\" >0.000441</td>\n",
       "            </tr>\n",
       "            <tr>\n",
       "                        <th id=\"T_cdb5a_level0_row4\" class=\"row_heading level0 row4\" >id</th>\n",
       "                        <td id=\"T_cdb5a_row4_col0\" class=\"data row4 col0\" >0</td>\n",
       "                        <td id=\"T_cdb5a_row4_col1\" class=\"data row4 col1\" >0.000000</td>\n",
       "            </tr>\n",
       "    </tbody></table>"
      ],
      "text/plain": [
       "<pandas.io.formats.style.Styler at 0x7f04ddbfbac0>"
      ]
     },
     "metadata": {},
     "output_type": "display_data"
    }
   ],
   "source": [
    "# Выводим абсолютное и относительное количество пропусков в датафрейме people_df\n",
    "\n",
    "print('Количество пропусков в датафрейме people_df:')\n",
    "display(pd.DataFrame({'Кол-во пропусков': people_df.isna().sum(), \n",
    "               'Доля пропусков (в %)': people_df.isna().mean()*100})\n",
    "           .sort_values(by='Кол-во пропусков', ascending=False)\n",
    "           .style.background_gradient(cmap='coolwarm'))"
   ]
  },
  {
   "cell_type": "code",
   "execution_count": 38,
   "metadata": {},
   "outputs": [
    {
     "name": "stdout",
     "output_type": "stream",
     "text": [
      "Количество пропусков в датафрейме degrees_df:\n"
     ]
    },
    {
     "data": {
      "text/html": [
       "<style  type=\"text/css\" >\n",
       "#T_1caba_row0_col0,#T_1caba_row0_col1{\n",
       "            background-color:  #b40426;\n",
       "            color:  #f1f1f1;\n",
       "        }#T_1caba_row1_col0,#T_1caba_row1_col1{\n",
       "            background-color:  #bfd3f6;\n",
       "            color:  #000000;\n",
       "        }#T_1caba_row2_col0,#T_1caba_row2_col1,#T_1caba_row3_col0,#T_1caba_row3_col1{\n",
       "            background-color:  #3b4cc0;\n",
       "            color:  #f1f1f1;\n",
       "        }</style><table id=\"T_1caba_\" ><thead>    <tr>        <th class=\"blank level0\" ></th>        <th class=\"col_heading level0 col0\" >Кол-во пропусков</th>        <th class=\"col_heading level0 col1\" >Доля пропусков (в %)</th>    </tr></thead><tbody>\n",
       "                <tr>\n",
       "                        <th id=\"T_1caba_level0_row0\" class=\"row_heading level0 row0\" >subject</th>\n",
       "                        <td id=\"T_1caba_row0_col0\" class=\"data row0 col0\" >28312</td>\n",
       "                        <td id=\"T_1caba_row0_col1\" class=\"data row0 col1\" >25.829760</td>\n",
       "            </tr>\n",
       "            <tr>\n",
       "                        <th id=\"T_1caba_level0_row1\" class=\"row_heading level0 row1\" >degree_type</th>\n",
       "                        <td id=\"T_1caba_row1_col0\" class=\"data row1 col0\" >11218</td>\n",
       "                        <td id=\"T_1caba_row1_col1\" class=\"data row1 col1\" >10.234468</td>\n",
       "            </tr>\n",
       "            <tr>\n",
       "                        <th id=\"T_1caba_level0_row2\" class=\"row_heading level0 row2\" >id</th>\n",
       "                        <td id=\"T_1caba_row2_col0\" class=\"data row2 col0\" >0</td>\n",
       "                        <td id=\"T_1caba_row2_col1\" class=\"data row2 col1\" >0.000000</td>\n",
       "            </tr>\n",
       "            <tr>\n",
       "                        <th id=\"T_1caba_level0_row3\" class=\"row_heading level0 row3\" >object_id</th>\n",
       "                        <td id=\"T_1caba_row3_col0\" class=\"data row3 col0\" >0</td>\n",
       "                        <td id=\"T_1caba_row3_col1\" class=\"data row3 col1\" >0.000000</td>\n",
       "            </tr>\n",
       "    </tbody></table>"
      ],
      "text/plain": [
       "<pandas.io.formats.style.Styler at 0x7f044ff5e190>"
      ]
     },
     "metadata": {},
     "output_type": "display_data"
    }
   ],
   "source": [
    "# Выводим абсолютное и относительное количество пропусков в датафрейме degrees_df\n",
    "\n",
    "print('Количество пропусков в датафрейме degrees_df:')\n",
    "display(pd.DataFrame({'Кол-во пропусков': degrees_df.isna().sum(), \n",
    "               'Доля пропусков (в %)': degrees_df.isna().mean()*100})\n",
    "           .sort_values(by='Кол-во пропусков', ascending=False)\n",
    "           .style.background_gradient(cmap='coolwarm'))"
   ]
  },
  {
   "cell_type": "code",
   "execution_count": 39,
   "metadata": {},
   "outputs": [
    {
     "name": "stdout",
     "output_type": "stream",
     "text": [
      "Количество пропусков в датафрейме fund_df:\n"
     ]
    },
    {
     "data": {
      "text/html": [
       "<style  type=\"text/css\" >\n",
       "#T_abc54_row0_col0,#T_abc54_row0_col1{\n",
       "            background-color:  #b40426;\n",
       "            color:  #f1f1f1;\n",
       "        }#T_abc54_row1_col0,#T_abc54_row1_col1{\n",
       "            background-color:  #f59d7e;\n",
       "            color:  #000000;\n",
       "        }#T_abc54_row2_col0,#T_abc54_row2_col1{\n",
       "            background-color:  #d8dce2;\n",
       "            color:  #000000;\n",
       "        }#T_abc54_row3_col0,#T_abc54_row3_col1{\n",
       "            background-color:  #cfdaea;\n",
       "            color:  #000000;\n",
       "        }#T_abc54_row4_col0,#T_abc54_row4_col1,#T_abc54_row5_col0,#T_abc54_row5_col1,#T_abc54_row6_col0,#T_abc54_row6_col1,#T_abc54_row7_col0,#T_abc54_row7_col1,#T_abc54_row8_col0,#T_abc54_row8_col1{\n",
       "            background-color:  #3b4cc0;\n",
       "            color:  #f1f1f1;\n",
       "        }</style><table id=\"T_abc54_\" ><thead>    <tr>        <th class=\"blank level0\" ></th>        <th class=\"col_heading level0 col0\" >Кол-во пропусков</th>        <th class=\"col_heading level0 col1\" >Доля пропусков (в %)</th>    </tr></thead><tbody>\n",
       "                <tr>\n",
       "                        <th id=\"T_abc54_level0_row0\" class=\"row_heading level0 row0\" >network_username</th>\n",
       "                        <td id=\"T_abc54_row0_col0\" class=\"data row0 col0\" >9503</td>\n",
       "                        <td id=\"T_abc54_row0_col1\" class=\"data row0 col1\" >81.556814</td>\n",
       "            </tr>\n",
       "            <tr>\n",
       "                        <th id=\"T_abc54_level0_row1\" class=\"row_heading level0 row1\" >founded_at</th>\n",
       "                        <td id=\"T_abc54_row1_col0\" class=\"data row1 col0\" >7047</td>\n",
       "                        <td id=\"T_abc54_row1_col1\" class=\"data row1 col1\" >60.478888</td>\n",
       "            </tr>\n",
       "            <tr>\n",
       "                        <th id=\"T_abc54_level0_row2\" class=\"row_heading level0 row2\" >country_code</th>\n",
       "                        <td id=\"T_abc54_row2_col0\" class=\"data row2 col0\" >4599</td>\n",
       "                        <td id=\"T_abc54_row2_col1\" class=\"data row2 col1\" >39.469619</td>\n",
       "            </tr>\n",
       "            <tr>\n",
       "                        <th id=\"T_abc54_level0_row3\" class=\"row_heading level0 row3\" >domain</th>\n",
       "                        <td id=\"T_abc54_row3_col0\" class=\"data row3 col0\" >4290</td>\n",
       "                        <td id=\"T_abc54_row3_col1\" class=\"data row3 col1\" >36.817714</td>\n",
       "            </tr>\n",
       "            <tr>\n",
       "                        <th id=\"T_abc54_level0_row4\" class=\"row_heading level0 row4\" >name</th>\n",
       "                        <td id=\"T_abc54_row4_col0\" class=\"data row4 col0\" >2</td>\n",
       "                        <td id=\"T_abc54_row4_col1\" class=\"data row4 col1\" >0.017164</td>\n",
       "            </tr>\n",
       "            <tr>\n",
       "                        <th id=\"T_abc54_level0_row5\" class=\"row_heading level0 row5\" >id</th>\n",
       "                        <td id=\"T_abc54_row5_col0\" class=\"data row5 col0\" >0</td>\n",
       "                        <td id=\"T_abc54_row5_col1\" class=\"data row5 col1\" >0.000000</td>\n",
       "            </tr>\n",
       "            <tr>\n",
       "                        <th id=\"T_abc54_level0_row6\" class=\"row_heading level0 row6\" >investment_rounds</th>\n",
       "                        <td id=\"T_abc54_row6_col0\" class=\"data row6 col0\" >0</td>\n",
       "                        <td id=\"T_abc54_row6_col1\" class=\"data row6 col1\" >0.000000</td>\n",
       "            </tr>\n",
       "            <tr>\n",
       "                        <th id=\"T_abc54_level0_row7\" class=\"row_heading level0 row7\" >invested_companies</th>\n",
       "                        <td id=\"T_abc54_row7_col0\" class=\"data row7 col0\" >0</td>\n",
       "                        <td id=\"T_abc54_row7_col1\" class=\"data row7 col1\" >0.000000</td>\n",
       "            </tr>\n",
       "            <tr>\n",
       "                        <th id=\"T_abc54_level0_row8\" class=\"row_heading level0 row8\" >milestones</th>\n",
       "                        <td id=\"T_abc54_row8_col0\" class=\"data row8 col0\" >0</td>\n",
       "                        <td id=\"T_abc54_row8_col1\" class=\"data row8 col1\" >0.000000</td>\n",
       "            </tr>\n",
       "    </tbody></table>"
      ],
      "text/plain": [
       "<pandas.io.formats.style.Styler at 0x7f04598b74c0>"
      ]
     },
     "metadata": {},
     "output_type": "display_data"
    }
   ],
   "source": [
    "# Выводим абсолютное и относительное количество пропусков в датафрейме fund_df\n",
    "\n",
    "print('Количество пропусков в датафрейме fund_df:')\n",
    "display(pd.DataFrame({'Кол-во пропусков': fund_df.isna().sum(), \n",
    "               'Доля пропусков (в %)': fund_df.isna().mean()*100})\n",
    "           .sort_values(by='Кол-во пропусков', ascending=False)\n",
    "           .style.background_gradient(cmap='coolwarm'))"
   ]
  },
  {
   "cell_type": "code",
   "execution_count": 40,
   "metadata": {},
   "outputs": [
    {
     "name": "stdout",
     "output_type": "stream",
     "text": [
      "Количество пропусков в датафрейме investment_df:\n"
     ]
    },
    {
     "data": {
      "text/html": [
       "<style  type=\"text/css\" >\n",
       "#T_bed03_row0_col0,#T_bed03_row0_col1,#T_bed03_row1_col0,#T_bed03_row1_col1,#T_bed03_row2_col0,#T_bed03_row2_col1,#T_bed03_row3_col0,#T_bed03_row3_col1{\n",
       "            background-color:  #3b4cc0;\n",
       "            color:  #f1f1f1;\n",
       "        }</style><table id=\"T_bed03_\" ><thead>    <tr>        <th class=\"blank level0\" ></th>        <th class=\"col_heading level0 col0\" >Кол-во пропусков</th>        <th class=\"col_heading level0 col1\" >Доля пропусков (в %)</th>    </tr></thead><tbody>\n",
       "                <tr>\n",
       "                        <th id=\"T_bed03_level0_row0\" class=\"row_heading level0 row0\" >id</th>\n",
       "                        <td id=\"T_bed03_row0_col0\" class=\"data row0 col0\" >0</td>\n",
       "                        <td id=\"T_bed03_row0_col1\" class=\"data row0 col1\" >0.000000</td>\n",
       "            </tr>\n",
       "            <tr>\n",
       "                        <th id=\"T_bed03_level0_row1\" class=\"row_heading level0 row1\" >funding_round_id</th>\n",
       "                        <td id=\"T_bed03_row1_col0\" class=\"data row1 col0\" >0</td>\n",
       "                        <td id=\"T_bed03_row1_col1\" class=\"data row1 col1\" >0.000000</td>\n",
       "            </tr>\n",
       "            <tr>\n",
       "                        <th id=\"T_bed03_level0_row2\" class=\"row_heading level0 row2\" >company_id</th>\n",
       "                        <td id=\"T_bed03_row2_col0\" class=\"data row2 col0\" >0</td>\n",
       "                        <td id=\"T_bed03_row2_col1\" class=\"data row2 col1\" >0.000000</td>\n",
       "            </tr>\n",
       "            <tr>\n",
       "                        <th id=\"T_bed03_level0_row3\" class=\"row_heading level0 row3\" >fund_id</th>\n",
       "                        <td id=\"T_bed03_row3_col0\" class=\"data row3 col0\" >0</td>\n",
       "                        <td id=\"T_bed03_row3_col1\" class=\"data row3 col1\" >0.000000</td>\n",
       "            </tr>\n",
       "    </tbody></table>"
      ],
      "text/plain": [
       "<pandas.io.formats.style.Styler at 0x7f0459896760>"
      ]
     },
     "metadata": {},
     "output_type": "display_data"
    }
   ],
   "source": [
    "# Выводим абсолютное и относительное количество пропусков в датафрейме investment_df\n",
    "\n",
    "print('Количество пропусков в датафрейме investment_df:')\n",
    "display(pd.DataFrame({'Кол-во пропусков': investment_df.isna().sum(), \n",
    "               'Доля пропусков (в %)': investment_df.isna().mean()*100})\n",
    "           .sort_values(by='Кол-во пропусков', ascending=False)\n",
    "           .style.background_gradient(cmap='coolwarm'))"
   ]
  },
  {
   "cell_type": "markdown",
   "metadata": {},
   "source": [
    "Исходя из полученной информации о имеющихся пропусках, можно сделать предварительный вывод:\n",
    "\n",
    "1. Датафрейм `acquisition_df` имеет пропуски в двух столбцах:\n",
    "- `term_code` - варианты расчёта (80% пропусков)\n",
    "- `acquired_at` - дата сделки (меньше 1% пропусков)\n",
    "\n",
    "2. Датафрейм `company_and_rounds_df` имеет пропуски во всех столбцах:\n",
    "\n",
    "- `closed_at` - дата закрытия компании (98% пропусков)\n",
    "- `funded_at` - дата финансирования \t(75% пропусков)\n",
    "- `is_last_round` - является раунд последним\t(75% пропусков)\n",
    "- `is_first_round` - является ли раунд первым\t(75% пропусков)\n",
    "- `participants` - число участников \t(75% пропусков)\n",
    "- `pre_money_valuation` - предварительная денежная оценка\t(75% пропусков)\n",
    "- `raised_amount` - сумма финансирования\t(75% пропусков)\n",
    "- `funding_round_type` - тип финансирования\t(75% пропусков)\n",
    "- `funding_round_id` - идентификатор этапа финансирования\t(75% пропусков)\n",
    "- `company_id` - идентификатор компании\t\t(75% пропусков)\n",
    "- `network_username` - ник компании в сети\t(75% пропусков)\n",
    "- `country_code` - код страны компании\t\t(75% пропусков)\n",
    "- `founded_at` - дата инвестирования\t\t(75% пропусков)\n",
    "- `category_code` - категория области деятельности компании\t\t(75% пропусков)\n",
    "- `domain` - официальный сайт компании\t\t(75% пропусков)\n",
    "- `company_id` - идентификатор компании\t\t(меньше 1% пропусков)\n",
    "- `milestones` - вехи финансирования\t\t(меньше 1% пропусков)\n",
    "- `name` - название компании\t\t(меньше 1% пропусков)\n",
    "- `funding_rounds` - число раундов финансирования\t\t(меньше 1% пропусков)\n",
    "- `investment_rounds` - число инвестиционных раундов\t\t(меньше 1% пропусков)\n",
    "- `status` - статус компании\t\t(меньше 1% пропусков)\n",
    "- `funding_total` - сумма финансирования\t\t(меньше 1% пропусков)\n",
    "\n",
    "3. Датафрейм `education_df` имеет пропуски в двух столбцах:\n",
    "\n",
    "- `graduated_at` - дата получения образования (47% пропусков)\n",
    "- `instituition` - название учебного заведения (меньше 1% пропусков)\n",
    "\n",
    "4. Датафрейм `people_df` имеет пропуски в четырёх столбцах:\n",
    "\n",
    "- `company_id` - идентификатор компании (84% пропусков)\n",
    "- `network_username` - ник в социальных сетях (82% пропусков)\n",
    "- `first_name` - имя сотрудника (меньше 1% пропусков)\n",
    "- `last_name` - фамилия сотрудника (меньше 1% пропусков)\n",
    "\n",
    "5. Датафрейм `degrees_df` имеет пропуски в двух столбцах:\n",
    "\n",
    "- `subject` - специальность (25% пропусков)\n",
    "- `degree_type` - тип образования (10% пропусков)\n",
    "\n",
    "6. Датафрейм `fund_df` имеет пропуски в пяти столбцах:\n",
    "\n",
    "- `network_username` ник фонда в сети - (81% пропусков)\n",
    "- `founded_at` дата создания фонда - (60% пропусков)\n",
    "- `country_code` код страны фонда - (39% пропусков)\n",
    "- `domain` сайт фонда - (36% пропусков)\n",
    "- `name` название фонда - (меньше 1% пропусков)\n",
    "\n",
    "7. Датафрейм `investment_df` не имеет пропусков\n",
    "\n",
    "Наибольшее количество пропусков содержится в датафрейме `company_and_rounds_df`. Причём доля пропусков в столбцах данного датафрейма может быть как крайне мала (меньше 1% пропусков), так и крайне высока (98% пропусков). Очевидно, что для решения задач проекта необходимо обратить пристальное внимание на имеющиеся пропуски и принять попытки обработать их без потери значительной части данных, которые могут использоваться в ходе исследовательского анализа данных"
   ]
  },
  {
   "cell_type": "markdown",
   "metadata": {
    "id": "u60cHsn6rJg1"
   },
   "source": [
    "## Шаг 2. Предобработка данных, предварительное исследование"
   ]
  },
  {
   "cell_type": "markdown",
   "metadata": {
    "id": "g2bHIIjcrJg1"
   },
   "source": [
    "\n",
    "### 2.1. Раунды финансирования по годам"
   ]
  },
  {
   "cell_type": "markdown",
   "metadata": {
    "id": "ovyDibxNrJg1"
   },
   "source": [
    "Для выполнения данного задания необходимо составить сводную таблицу по годам, в которой на основании столбца `raised_amount` для каждого года указан:\n",
    "\n",
    "* типичный размер средств, выделяемый в рамках одного раунда;\n",
    "* общее количество раундов финансирования за этот год.\n",
    "\n",
    "В этой таблице необходимо оставить информацию для тех лет, для которых есть информация о более чем 50 раундах финансирования.\n",
    "\n",
    "Построим сводную таблицу с помощью метода `pivot_table()`\n",
    "\n",
    "Перед эти извлечём год из даты и добавим в отдельный столбец"
   ]
  },
  {
   "cell_type": "code",
   "execution_count": 41,
   "metadata": {},
   "outputs": [],
   "source": [
    "# Извлекаем год из даты\n",
    "\n",
    "company_and_rounds_df['funded_at_year'] = company_and_rounds_df['funded_at'].dt.year"
   ]
  },
  {
   "cell_type": "code",
   "execution_count": 42,
   "metadata": {
    "id": "HB81GTA9n04M"
   },
   "outputs": [
    {
     "data": {
      "text/html": [
       "<div>\n",
       "<style scoped>\n",
       "    .dataframe tbody tr th:only-of-type {\n",
       "        vertical-align: middle;\n",
       "    }\n",
       "\n",
       "    .dataframe tbody tr th {\n",
       "        vertical-align: top;\n",
       "    }\n",
       "\n",
       "    .dataframe thead th {\n",
       "        text-align: right;\n",
       "    }\n",
       "</style>\n",
       "<table border=\"1\" class=\"dataframe\">\n",
       "  <thead>\n",
       "    <tr style=\"text-align: right;\">\n",
       "      <th></th>\n",
       "      <th>funding_rounds</th>\n",
       "      <th>raised_amount</th>\n",
       "    </tr>\n",
       "    <tr>\n",
       "      <th>funded_at_year</th>\n",
       "      <th></th>\n",
       "      <th></th>\n",
       "    </tr>\n",
       "  </thead>\n",
       "  <tbody>\n",
       "    <tr>\n",
       "      <th>1960.0</th>\n",
       "      <td>9</td>\n",
       "      <td>0.0</td>\n",
       "    </tr>\n",
       "    <tr>\n",
       "      <th>1973.0</th>\n",
       "      <td>1</td>\n",
       "      <td>0.0</td>\n",
       "    </tr>\n",
       "    <tr>\n",
       "      <th>1974.0</th>\n",
       "      <td>2</td>\n",
       "      <td>0.0</td>\n",
       "    </tr>\n",
       "    <tr>\n",
       "      <th>1984.0</th>\n",
       "      <td>3</td>\n",
       "      <td>41000.0</td>\n",
       "    </tr>\n",
       "    <tr>\n",
       "      <th>1985.0</th>\n",
       "      <td>1</td>\n",
       "      <td>0.0</td>\n",
       "    </tr>\n",
       "    <tr>\n",
       "      <th>1987.0</th>\n",
       "      <td>2</td>\n",
       "      <td>1250000.0</td>\n",
       "    </tr>\n",
       "    <tr>\n",
       "      <th>1989.0</th>\n",
       "      <td>1</td>\n",
       "      <td>15000.0</td>\n",
       "    </tr>\n",
       "    <tr>\n",
       "      <th>1990.0</th>\n",
       "      <td>1</td>\n",
       "      <td>1000000.0</td>\n",
       "    </tr>\n",
       "    <tr>\n",
       "      <th>1992.0</th>\n",
       "      <td>1</td>\n",
       "      <td>2000000.0</td>\n",
       "    </tr>\n",
       "    <tr>\n",
       "      <th>1993.0</th>\n",
       "      <td>2</td>\n",
       "      <td>62500.0</td>\n",
       "    </tr>\n",
       "    <tr>\n",
       "      <th>1994.0</th>\n",
       "      <td>2</td>\n",
       "      <td>6700000.0</td>\n",
       "    </tr>\n",
       "    <tr>\n",
       "      <th>1995.0</th>\n",
       "      <td>7</td>\n",
       "      <td>2000000.0</td>\n",
       "    </tr>\n",
       "    <tr>\n",
       "      <th>1996.0</th>\n",
       "      <td>7</td>\n",
       "      <td>12500.0</td>\n",
       "    </tr>\n",
       "    <tr>\n",
       "      <th>1997.0</th>\n",
       "      <td>9</td>\n",
       "      <td>3300000.0</td>\n",
       "    </tr>\n",
       "    <tr>\n",
       "      <th>1998.0</th>\n",
       "      <td>29</td>\n",
       "      <td>100000.0</td>\n",
       "    </tr>\n",
       "    <tr>\n",
       "      <th>1999.0</th>\n",
       "      <td>76</td>\n",
       "      <td>2000000.0</td>\n",
       "    </tr>\n",
       "    <tr>\n",
       "      <th>2000.0</th>\n",
       "      <td>125</td>\n",
       "      <td>4200000.0</td>\n",
       "    </tr>\n",
       "    <tr>\n",
       "      <th>2001.0</th>\n",
       "      <td>95</td>\n",
       "      <td>3000000.0</td>\n",
       "    </tr>\n",
       "    <tr>\n",
       "      <th>2002.0</th>\n",
       "      <td>115</td>\n",
       "      <td>4200000.0</td>\n",
       "    </tr>\n",
       "    <tr>\n",
       "      <th>2003.0</th>\n",
       "      <td>154</td>\n",
       "      <td>3000000.0</td>\n",
       "    </tr>\n",
       "    <tr>\n",
       "      <th>2004.0</th>\n",
       "      <td>286</td>\n",
       "      <td>5000000.0</td>\n",
       "    </tr>\n",
       "    <tr>\n",
       "      <th>2005.0</th>\n",
       "      <td>1624</td>\n",
       "      <td>5500000.0</td>\n",
       "    </tr>\n",
       "    <tr>\n",
       "      <th>2006.0</th>\n",
       "      <td>2409</td>\n",
       "      <td>5000000.0</td>\n",
       "    </tr>\n",
       "    <tr>\n",
       "      <th>2007.0</th>\n",
       "      <td>3220</td>\n",
       "      <td>3973320.0</td>\n",
       "    </tr>\n",
       "    <tr>\n",
       "      <th>2008.0</th>\n",
       "      <td>3735</td>\n",
       "      <td>3110000.0</td>\n",
       "    </tr>\n",
       "    <tr>\n",
       "      <th>2009.0</th>\n",
       "      <td>4112</td>\n",
       "      <td>2000000.0</td>\n",
       "    </tr>\n",
       "    <tr>\n",
       "      <th>2010.0</th>\n",
       "      <td>6194</td>\n",
       "      <td>1602500.0</td>\n",
       "    </tr>\n",
       "    <tr>\n",
       "      <th>2011.0</th>\n",
       "      <td>9162</td>\n",
       "      <td>1200000.0</td>\n",
       "    </tr>\n",
       "    <tr>\n",
       "      <th>2012.0</th>\n",
       "      <td>9956</td>\n",
       "      <td>1000000.0</td>\n",
       "    </tr>\n",
       "    <tr>\n",
       "      <th>2013.0</th>\n",
       "      <td>11042</td>\n",
       "      <td>1200000.0</td>\n",
       "    </tr>\n",
       "  </tbody>\n",
       "</table>\n",
       "</div>"
      ],
      "text/plain": [
       "                funding_rounds  raised_amount\n",
       "funded_at_year                               \n",
       "1960.0                       9            0.0\n",
       "1973.0                       1            0.0\n",
       "1974.0                       2            0.0\n",
       "1984.0                       3        41000.0\n",
       "1985.0                       1            0.0\n",
       "1987.0                       2      1250000.0\n",
       "1989.0                       1        15000.0\n",
       "1990.0                       1      1000000.0\n",
       "1992.0                       1      2000000.0\n",
       "1993.0                       2        62500.0\n",
       "1994.0                       2      6700000.0\n",
       "1995.0                       7      2000000.0\n",
       "1996.0                       7        12500.0\n",
       "1997.0                       9      3300000.0\n",
       "1998.0                      29       100000.0\n",
       "1999.0                      76      2000000.0\n",
       "2000.0                     125      4200000.0\n",
       "2001.0                      95      3000000.0\n",
       "2002.0                     115      4200000.0\n",
       "2003.0                     154      3000000.0\n",
       "2004.0                     286      5000000.0\n",
       "2005.0                    1624      5500000.0\n",
       "2006.0                    2409      5000000.0\n",
       "2007.0                    3220      3973320.0\n",
       "2008.0                    3735      3110000.0\n",
       "2009.0                    4112      2000000.0\n",
       "2010.0                    6194      1602500.0\n",
       "2011.0                    9162      1200000.0\n",
       "2012.0                    9956      1000000.0\n",
       "2013.0                   11042      1200000.0"
      ]
     },
     "metadata": {},
     "output_type": "display_data"
    }
   ],
   "source": [
    "# Строим сводную таблицу\n",
    "\n",
    "pivot_raised_amount = pd.pivot_table(company_and_rounds_df, \n",
    "                                     index = 'funded_at_year', \n",
    "                                     values = ['raised_amount', 'funding_rounds'], \n",
    "                                     aggfunc = {'raised_amount': 'median', 'funding_rounds': 'count'})\n",
    "display(pivot_raised_amount)"
   ]
  },
  {
   "cell_type": "markdown",
   "metadata": {},
   "source": [
    "По условию задания в таблице необходимо оставить информацию для тех лет, для которых есть информация о более чем 50 раундах финансирования. Поэтому проведём фильтрацию получившейся таблицы"
   ]
  },
  {
   "cell_type": "code",
   "execution_count": 43,
   "metadata": {},
   "outputs": [
    {
     "data": {
      "text/html": [
       "<div>\n",
       "<style scoped>\n",
       "    .dataframe tbody tr th:only-of-type {\n",
       "        vertical-align: middle;\n",
       "    }\n",
       "\n",
       "    .dataframe tbody tr th {\n",
       "        vertical-align: top;\n",
       "    }\n",
       "\n",
       "    .dataframe thead th {\n",
       "        text-align: right;\n",
       "    }\n",
       "</style>\n",
       "<table border=\"1\" class=\"dataframe\">\n",
       "  <thead>\n",
       "    <tr style=\"text-align: right;\">\n",
       "      <th></th>\n",
       "      <th>funding_rounds</th>\n",
       "      <th>raised_amount</th>\n",
       "    </tr>\n",
       "    <tr>\n",
       "      <th>funded_at_year</th>\n",
       "      <th></th>\n",
       "      <th></th>\n",
       "    </tr>\n",
       "  </thead>\n",
       "  <tbody>\n",
       "    <tr>\n",
       "      <th>1999.0</th>\n",
       "      <td>76</td>\n",
       "      <td>2000000.0</td>\n",
       "    </tr>\n",
       "    <tr>\n",
       "      <th>2000.0</th>\n",
       "      <td>125</td>\n",
       "      <td>4200000.0</td>\n",
       "    </tr>\n",
       "    <tr>\n",
       "      <th>2001.0</th>\n",
       "      <td>95</td>\n",
       "      <td>3000000.0</td>\n",
       "    </tr>\n",
       "    <tr>\n",
       "      <th>2002.0</th>\n",
       "      <td>115</td>\n",
       "      <td>4200000.0</td>\n",
       "    </tr>\n",
       "    <tr>\n",
       "      <th>2003.0</th>\n",
       "      <td>154</td>\n",
       "      <td>3000000.0</td>\n",
       "    </tr>\n",
       "    <tr>\n",
       "      <th>2004.0</th>\n",
       "      <td>286</td>\n",
       "      <td>5000000.0</td>\n",
       "    </tr>\n",
       "    <tr>\n",
       "      <th>2005.0</th>\n",
       "      <td>1624</td>\n",
       "      <td>5500000.0</td>\n",
       "    </tr>\n",
       "    <tr>\n",
       "      <th>2006.0</th>\n",
       "      <td>2409</td>\n",
       "      <td>5000000.0</td>\n",
       "    </tr>\n",
       "    <tr>\n",
       "      <th>2007.0</th>\n",
       "      <td>3220</td>\n",
       "      <td>3973320.0</td>\n",
       "    </tr>\n",
       "    <tr>\n",
       "      <th>2008.0</th>\n",
       "      <td>3735</td>\n",
       "      <td>3110000.0</td>\n",
       "    </tr>\n",
       "    <tr>\n",
       "      <th>2009.0</th>\n",
       "      <td>4112</td>\n",
       "      <td>2000000.0</td>\n",
       "    </tr>\n",
       "    <tr>\n",
       "      <th>2010.0</th>\n",
       "      <td>6194</td>\n",
       "      <td>1602500.0</td>\n",
       "    </tr>\n",
       "    <tr>\n",
       "      <th>2011.0</th>\n",
       "      <td>9162</td>\n",
       "      <td>1200000.0</td>\n",
       "    </tr>\n",
       "    <tr>\n",
       "      <th>2012.0</th>\n",
       "      <td>9956</td>\n",
       "      <td>1000000.0</td>\n",
       "    </tr>\n",
       "    <tr>\n",
       "      <th>2013.0</th>\n",
       "      <td>11042</td>\n",
       "      <td>1200000.0</td>\n",
       "    </tr>\n",
       "  </tbody>\n",
       "</table>\n",
       "</div>"
      ],
      "text/plain": [
       "                funding_rounds  raised_amount\n",
       "funded_at_year                               \n",
       "1999.0                      76      2000000.0\n",
       "2000.0                     125      4200000.0\n",
       "2001.0                      95      3000000.0\n",
       "2002.0                     115      4200000.0\n",
       "2003.0                     154      3000000.0\n",
       "2004.0                     286      5000000.0\n",
       "2005.0                    1624      5500000.0\n",
       "2006.0                    2409      5000000.0\n",
       "2007.0                    3220      3973320.0\n",
       "2008.0                    3735      3110000.0\n",
       "2009.0                    4112      2000000.0\n",
       "2010.0                    6194      1602500.0\n",
       "2011.0                    9162      1200000.0\n",
       "2012.0                    9956      1000000.0\n",
       "2013.0                   11042      1200000.0"
      ]
     },
     "metadata": {},
     "output_type": "display_data"
    }
   ],
   "source": [
    "# Проведим фильтрацию получившейся таблицы\n",
    "\n",
    "pivot_raised_amount_new = pivot_raised_amount.loc[pivot_raised_amount['funding_rounds'] > 50]\n",
    "display(pivot_raised_amount_new)"
   ]
  },
  {
   "cell_type": "markdown",
   "metadata": {},
   "source": [
    "В рамках данного задания также требуется построить график, который будет отражать динамику типичного размера средств, которые стартапы получали в рамках одного раунда финансирования. Сделаем это с помощью линейных диаграмм"
   ]
  },
  {
   "cell_type": "code",
   "execution_count": 44,
   "metadata": {
    "scrolled": false
   },
   "outputs": [
    {
     "data": {
      "image/png": "[encoded data removed]",
      "text/plain": [
       "<Figure size 864x720 with 1 Axes>"
      ]
     },
     "metadata": {
      "needs_background": "light"
     },
     "output_type": "display_data"
    },
    {
     "name": "stdout",
     "output_type": "stream",
     "text": [
      "\n"
     ]
    },
    {
     "data": {
      "text/html": [
       "<div>\n",
       "<style scoped>\n",
       "    .dataframe tbody tr th:only-of-type {\n",
       "        vertical-align: middle;\n",
       "    }\n",
       "\n",
       "    .dataframe tbody tr th {\n",
       "        vertical-align: top;\n",
       "    }\n",
       "\n",
       "    .dataframe thead th {\n",
       "        text-align: right;\n",
       "    }\n",
       "</style>\n",
       "<table border=\"1\" class=\"dataframe\">\n",
       "  <thead>\n",
       "    <tr style=\"text-align: right;\">\n",
       "      <th></th>\n",
       "      <th>funding_rounds</th>\n",
       "      <th>raised_amount</th>\n",
       "    </tr>\n",
       "    <tr>\n",
       "      <th>funded_at_year</th>\n",
       "      <th></th>\n",
       "      <th></th>\n",
       "    </tr>\n",
       "  </thead>\n",
       "  <tbody>\n",
       "    <tr>\n",
       "      <th>1999.0</th>\n",
       "      <td>76</td>\n",
       "      <td>2000000.0</td>\n",
       "    </tr>\n",
       "    <tr>\n",
       "      <th>2000.0</th>\n",
       "      <td>125</td>\n",
       "      <td>4200000.0</td>\n",
       "    </tr>\n",
       "    <tr>\n",
       "      <th>2001.0</th>\n",
       "      <td>95</td>\n",
       "      <td>3000000.0</td>\n",
       "    </tr>\n",
       "    <tr>\n",
       "      <th>2002.0</th>\n",
       "      <td>115</td>\n",
       "      <td>4200000.0</td>\n",
       "    </tr>\n",
       "    <tr>\n",
       "      <th>2003.0</th>\n",
       "      <td>154</td>\n",
       "      <td>3000000.0</td>\n",
       "    </tr>\n",
       "    <tr>\n",
       "      <th>2004.0</th>\n",
       "      <td>286</td>\n",
       "      <td>5000000.0</td>\n",
       "    </tr>\n",
       "    <tr>\n",
       "      <th>2005.0</th>\n",
       "      <td>1624</td>\n",
       "      <td>5500000.0</td>\n",
       "    </tr>\n",
       "    <tr>\n",
       "      <th>2006.0</th>\n",
       "      <td>2409</td>\n",
       "      <td>5000000.0</td>\n",
       "    </tr>\n",
       "    <tr>\n",
       "      <th>2007.0</th>\n",
       "      <td>3220</td>\n",
       "      <td>3973320.0</td>\n",
       "    </tr>\n",
       "    <tr>\n",
       "      <th>2008.0</th>\n",
       "      <td>3735</td>\n",
       "      <td>3110000.0</td>\n",
       "    </tr>\n",
       "    <tr>\n",
       "      <th>2009.0</th>\n",
       "      <td>4112</td>\n",
       "      <td>2000000.0</td>\n",
       "    </tr>\n",
       "    <tr>\n",
       "      <th>2010.0</th>\n",
       "      <td>6194</td>\n",
       "      <td>1602500.0</td>\n",
       "    </tr>\n",
       "    <tr>\n",
       "      <th>2011.0</th>\n",
       "      <td>9162</td>\n",
       "      <td>1200000.0</td>\n",
       "    </tr>\n",
       "    <tr>\n",
       "      <th>2012.0</th>\n",
       "      <td>9956</td>\n",
       "      <td>1000000.0</td>\n",
       "    </tr>\n",
       "    <tr>\n",
       "      <th>2013.0</th>\n",
       "      <td>11042</td>\n",
       "      <td>1200000.0</td>\n",
       "    </tr>\n",
       "  </tbody>\n",
       "</table>\n",
       "</div>"
      ],
      "text/plain": [
       "                funding_rounds  raised_amount\n",
       "funded_at_year                               \n",
       "1999.0                      76      2000000.0\n",
       "2000.0                     125      4200000.0\n",
       "2001.0                      95      3000000.0\n",
       "2002.0                     115      4200000.0\n",
       "2003.0                     154      3000000.0\n",
       "2004.0                     286      5000000.0\n",
       "2005.0                    1624      5500000.0\n",
       "2006.0                    2409      5000000.0\n",
       "2007.0                    3220      3973320.0\n",
       "2008.0                    3735      3110000.0\n",
       "2009.0                    4112      2000000.0\n",
       "2010.0                    6194      1602500.0\n",
       "2011.0                    9162      1200000.0\n",
       "2012.0                    9956      1000000.0\n",
       "2013.0                   11042      1200000.0"
      ]
     },
     "metadata": {},
     "output_type": "display_data"
    }
   ],
   "source": [
    "# Построим график линейной диаграммы\n",
    "\n",
    "pivot_raised_amount_new['raised_amount'].plot(kind='line',\n",
    "               title=f'Динамика типичного размера средств, которые стартапы получали в рамках одного раунда финансирования',\n",
    "               legend=True,\n",
    "               rot=0,\n",
    "               figsize=(12, 10))\n",
    "\n",
    "plt.xlabel('Год')\n",
    "plt.ylabel('Типичный размер средств')\n",
    "plt.grid()\n",
    "plt.ticklabel_format(style='plain', axis='y')\n",
    "\n",
    "plt.show()\n",
    "print()\n",
    "display(pivot_raised_amount_new)"
   ]
  },
  {
   "cell_type": "markdown",
   "metadata": {},
   "source": [
    "Результатом выполнения данного задания являются ответы на следующие вопросы:\n",
    "\n",
    "* В каком году типичный размер собранных в рамках одного раунда средств был максимален?\n",
    "\n",
    "* Какая тенденция по количеству раундов и выделяемых в рамках каждого раунда средств наблюдалась в 2013 году?\n",
    "\n",
    "На основе полученных данных, мы можем ответить на поставленные перед нами вопросы:\n",
    "\n",
    "- Типичный размер собранных в рамках одного раунда средств был максимален в 2005 году (5.5 млн)\n",
    "\n",
    "- В 2013 году наблюдалась тенденция на увеличение количества раундов по сравнению с предыдущими годами. Тенденция на увеличение типичного размера средств, получаемых в рамках одного раунда финансирования, наблюдалась только по сравнению с 2012 годом. С 1999 по 2010 годы типичный размер средств, получаемых в рамках одного раунда финансирования, был больше по сравнению с 2013 годом"
   ]
  },
  {
   "cell_type": "markdown",
   "metadata": {
    "id": "45if1en1rJg2"
   },
   "source": [
    "\n",
    "### 2.2. Люди и их образование"
   ]
  },
  {
   "cell_type": "markdown",
   "metadata": {
    "id": "psPO7C4MrJg2"
   },
   "source": [
    "Для оценки полноты информации об образовании сотрудников, сначала необходимо объединить датасеты `people.csv` и `education.csv`"
   ]
  },
  {
   "cell_type": "code",
   "execution_count": 45,
   "metadata": {
    "id": "xdQ6H5ZSn1ZM"
   },
   "outputs": [
    {
     "data": {
      "text/html": [
       "<div>\n",
       "<style scoped>\n",
       "    .dataframe tbody tr th:only-of-type {\n",
       "        vertical-align: middle;\n",
       "    }\n",
       "\n",
       "    .dataframe tbody tr th {\n",
       "        vertical-align: top;\n",
       "    }\n",
       "\n",
       "    .dataframe thead th {\n",
       "        text-align: right;\n",
       "    }\n",
       "</style>\n",
       "<table border=\"1\" class=\"dataframe\">\n",
       "  <thead>\n",
       "    <tr style=\"text-align: right;\">\n",
       "      <th></th>\n",
       "      <th>id_x</th>\n",
       "      <th>first_name</th>\n",
       "      <th>last_name</th>\n",
       "      <th>company_id</th>\n",
       "      <th>network_username</th>\n",
       "      <th>id_y</th>\n",
       "      <th>person_id</th>\n",
       "      <th>instituition</th>\n",
       "      <th>graduated_at</th>\n",
       "    </tr>\n",
       "  </thead>\n",
       "  <tbody>\n",
       "    <tr>\n",
       "      <th>0</th>\n",
       "      <td>10</td>\n",
       "      <td>mark</td>\n",
       "      <td>zuckerberg</td>\n",
       "      <td>5.0</td>\n",
       "      <td>NaN</td>\n",
       "      <td>2415.0</td>\n",
       "      <td>10.0</td>\n",
       "      <td>harvard university</td>\n",
       "      <td>NaN</td>\n",
       "    </tr>\n",
       "    <tr>\n",
       "      <th>1</th>\n",
       "      <td>100</td>\n",
       "      <td>peter</td>\n",
       "      <td>lester</td>\n",
       "      <td>27.0</td>\n",
       "      <td>NaN</td>\n",
       "      <td>NaN</td>\n",
       "      <td>NaN</td>\n",
       "      <td>NaN</td>\n",
       "      <td>NaN</td>\n",
       "    </tr>\n",
       "    <tr>\n",
       "      <th>2</th>\n",
       "      <td>1000</td>\n",
       "      <td>dr. steven</td>\n",
       "      <td>e. saunders</td>\n",
       "      <td>292.0</td>\n",
       "      <td>NaN</td>\n",
       "      <td>NaN</td>\n",
       "      <td>NaN</td>\n",
       "      <td>NaN</td>\n",
       "      <td>NaN</td>\n",
       "    </tr>\n",
       "    <tr>\n",
       "      <th>3</th>\n",
       "      <td>10000</td>\n",
       "      <td>neil</td>\n",
       "      <td>capel</td>\n",
       "      <td>2526.0</td>\n",
       "      <td>NaN</td>\n",
       "      <td>NaN</td>\n",
       "      <td>NaN</td>\n",
       "      <td>NaN</td>\n",
       "      <td>NaN</td>\n",
       "    </tr>\n",
       "    <tr>\n",
       "      <th>4</th>\n",
       "      <td>100000</td>\n",
       "      <td>sue</td>\n",
       "      <td>pilsch</td>\n",
       "      <td>NaN</td>\n",
       "      <td>NaN</td>\n",
       "      <td>NaN</td>\n",
       "      <td>NaN</td>\n",
       "      <td>NaN</td>\n",
       "      <td>NaN</td>\n",
       "    </tr>\n",
       "  </tbody>\n",
       "</table>\n",
       "</div>"
      ],
      "text/plain": [
       "     id_x  first_name    last_name  company_id network_username    id_y  \\\n",
       "0      10        mark   zuckerberg         5.0              NaN  2415.0   \n",
       "1     100       peter       lester        27.0              NaN     NaN   \n",
       "2    1000  dr. steven  e. saunders       292.0              NaN     NaN   \n",
       "3   10000        neil        capel      2526.0              NaN     NaN   \n",
       "4  100000         sue       pilsch         NaN              NaN     NaN   \n",
       "\n",
       "   person_id        instituition graduated_at  \n",
       "0       10.0  harvard university          NaN  \n",
       "1        NaN                 NaN          NaN  \n",
       "2        NaN                 NaN          NaN  \n",
       "3        NaN                 NaN          NaN  \n",
       "4        NaN                 NaN          NaN  "
      ]
     },
     "metadata": {},
     "output_type": "display_data"
    }
   ],
   "source": [
    "# Соединяем данные в единый датафрейм people_education_df\n",
    "\n",
    "people_education_df = pd.merge(people_df, education_df, how = 'left', left_on='id', right_on='person_id')\n",
    "display(people_education_df.head())"
   ]
  },
  {
   "cell_type": "markdown",
   "metadata": {},
   "source": [
    "Определяем количество сотрудников в каждой компании"
   ]
  },
  {
   "cell_type": "code",
   "execution_count": 46,
   "metadata": {},
   "outputs": [
    {
     "data": {
      "text/html": [
       "<div>\n",
       "<style scoped>\n",
       "    .dataframe tbody tr th:only-of-type {\n",
       "        vertical-align: middle;\n",
       "    }\n",
       "\n",
       "    .dataframe tbody tr th {\n",
       "        vertical-align: top;\n",
       "    }\n",
       "\n",
       "    .dataframe thead th {\n",
       "        text-align: right;\n",
       "    }\n",
       "</style>\n",
       "<table border=\"1\" class=\"dataframe\">\n",
       "  <thead>\n",
       "    <tr style=\"text-align: right;\">\n",
       "      <th></th>\n",
       "      <th>company_id</th>\n",
       "      <th>id_x</th>\n",
       "    </tr>\n",
       "  </thead>\n",
       "  <tbody>\n",
       "    <tr>\n",
       "      <th>0</th>\n",
       "      <td>1.0</td>\n",
       "      <td>3</td>\n",
       "    </tr>\n",
       "    <tr>\n",
       "      <th>1</th>\n",
       "      <td>2.0</td>\n",
       "      <td>1</td>\n",
       "    </tr>\n",
       "    <tr>\n",
       "      <th>2</th>\n",
       "      <td>3.0</td>\n",
       "      <td>5</td>\n",
       "    </tr>\n",
       "    <tr>\n",
       "      <th>3</th>\n",
       "      <td>4.0</td>\n",
       "      <td>18</td>\n",
       "    </tr>\n",
       "    <tr>\n",
       "      <th>4</th>\n",
       "      <td>5.0</td>\n",
       "      <td>84</td>\n",
       "    </tr>\n",
       "    <tr>\n",
       "      <th>...</th>\n",
       "      <td>...</td>\n",
       "      <td>...</td>\n",
       "    </tr>\n",
       "    <tr>\n",
       "      <th>22917</th>\n",
       "      <td>285897.0</td>\n",
       "      <td>2</td>\n",
       "    </tr>\n",
       "    <tr>\n",
       "      <th>22918</th>\n",
       "      <td>285953.0</td>\n",
       "      <td>1</td>\n",
       "    </tr>\n",
       "    <tr>\n",
       "      <th>22919</th>\n",
       "      <td>285972.0</td>\n",
       "      <td>2</td>\n",
       "    </tr>\n",
       "    <tr>\n",
       "      <th>22920</th>\n",
       "      <td>285996.0</td>\n",
       "      <td>1</td>\n",
       "    </tr>\n",
       "    <tr>\n",
       "      <th>22921</th>\n",
       "      <td>286091.0</td>\n",
       "      <td>7</td>\n",
       "    </tr>\n",
       "  </tbody>\n",
       "</table>\n",
       "<p>22922 rows × 2 columns</p>\n",
       "</div>"
      ],
      "text/plain": [
       "       company_id  id_x\n",
       "0             1.0     3\n",
       "1             2.0     1\n",
       "2             3.0     5\n",
       "3             4.0    18\n",
       "4             5.0    84\n",
       "...           ...   ...\n",
       "22917    285897.0     2\n",
       "22918    285953.0     1\n",
       "22919    285972.0     2\n",
       "22920    285996.0     1\n",
       "22921    286091.0     7\n",
       "\n",
       "[22922 rows x 2 columns]"
      ]
     },
     "metadata": {},
     "output_type": "display_data"
    }
   ],
   "source": [
    "# Определяем количество сотрудников в каждой компании\n",
    "\n",
    "company_people_count = people_education_df.groupby('company_id')['id_x'].count().reset_index()\n",
    "display(company_people_count)"
   ]
  },
  {
   "cell_type": "markdown",
   "metadata": {},
   "source": [
    "Считаем количество сотрудников без образования"
   ]
  },
  {
   "cell_type": "code",
   "execution_count": 47,
   "metadata": {},
   "outputs": [
    {
     "data": {
      "text/html": [
       "<div>\n",
       "<style scoped>\n",
       "    .dataframe tbody tr th:only-of-type {\n",
       "        vertical-align: middle;\n",
       "    }\n",
       "\n",
       "    .dataframe tbody tr th {\n",
       "        vertical-align: top;\n",
       "    }\n",
       "\n",
       "    .dataframe thead th {\n",
       "        text-align: right;\n",
       "    }\n",
       "</style>\n",
       "<table border=\"1\" class=\"dataframe\">\n",
       "  <thead>\n",
       "    <tr style=\"text-align: right;\">\n",
       "      <th></th>\n",
       "      <th>company_id</th>\n",
       "      <th>education_count_0</th>\n",
       "    </tr>\n",
       "  </thead>\n",
       "  <tbody>\n",
       "    <tr>\n",
       "      <th>0</th>\n",
       "      <td>1.0</td>\n",
       "      <td>3</td>\n",
       "    </tr>\n",
       "    <tr>\n",
       "      <th>1</th>\n",
       "      <td>2.0</td>\n",
       "      <td>0</td>\n",
       "    </tr>\n",
       "    <tr>\n",
       "      <th>2</th>\n",
       "      <td>3.0</td>\n",
       "      <td>2</td>\n",
       "    </tr>\n",
       "    <tr>\n",
       "      <th>3</th>\n",
       "      <td>4.0</td>\n",
       "      <td>4</td>\n",
       "    </tr>\n",
       "    <tr>\n",
       "      <th>4</th>\n",
       "      <td>5.0</td>\n",
       "      <td>49</td>\n",
       "    </tr>\n",
       "    <tr>\n",
       "      <th>...</th>\n",
       "      <td>...</td>\n",
       "      <td>...</td>\n",
       "    </tr>\n",
       "    <tr>\n",
       "      <th>22917</th>\n",
       "      <td>285897.0</td>\n",
       "      <td>1</td>\n",
       "    </tr>\n",
       "    <tr>\n",
       "      <th>22918</th>\n",
       "      <td>285953.0</td>\n",
       "      <td>1</td>\n",
       "    </tr>\n",
       "    <tr>\n",
       "      <th>22919</th>\n",
       "      <td>285972.0</td>\n",
       "      <td>2</td>\n",
       "    </tr>\n",
       "    <tr>\n",
       "      <th>22920</th>\n",
       "      <td>285996.0</td>\n",
       "      <td>1</td>\n",
       "    </tr>\n",
       "    <tr>\n",
       "      <th>22921</th>\n",
       "      <td>286091.0</td>\n",
       "      <td>5</td>\n",
       "    </tr>\n",
       "  </tbody>\n",
       "</table>\n",
       "<p>22922 rows × 2 columns</p>\n",
       "</div>"
      ],
      "text/plain": [
       "       company_id  education_count_0\n",
       "0             1.0                  3\n",
       "1             2.0                  0\n",
       "2             3.0                  2\n",
       "3             4.0                  4\n",
       "4             5.0                 49\n",
       "...           ...                ...\n",
       "22917    285897.0                  1\n",
       "22918    285953.0                  1\n",
       "22919    285972.0                  2\n",
       "22920    285996.0                  1\n",
       "22921    286091.0                  5\n",
       "\n",
       "[22922 rows x 2 columns]"
      ]
     },
     "metadata": {},
     "output_type": "display_data"
    }
   ],
   "source": [
    "# Считаем количество сотрудников без образования\n",
    "\n",
    "without_education = people_education_df.groupby('company_id').agg(education_count_0 = ('graduated_at', lambda x: x.isna().sum())).reset_index()\n",
    "display(without_education)"
   ]
  },
  {
   "cell_type": "markdown",
   "metadata": {},
   "source": [
    "Для визуального удобства объединим полученные данные в единую таблицу"
   ]
  },
  {
   "cell_type": "code",
   "execution_count": 48,
   "metadata": {},
   "outputs": [
    {
     "data": {
      "text/html": [
       "<div>\n",
       "<style scoped>\n",
       "    .dataframe tbody tr th:only-of-type {\n",
       "        vertical-align: middle;\n",
       "    }\n",
       "\n",
       "    .dataframe tbody tr th {\n",
       "        vertical-align: top;\n",
       "    }\n",
       "\n",
       "    .dataframe thead th {\n",
       "        text-align: right;\n",
       "    }\n",
       "</style>\n",
       "<table border=\"1\" class=\"dataframe\">\n",
       "  <thead>\n",
       "    <tr style=\"text-align: right;\">\n",
       "      <th></th>\n",
       "      <th>company_id</th>\n",
       "      <th>count_people</th>\n",
       "      <th>education_count_0</th>\n",
       "    </tr>\n",
       "  </thead>\n",
       "  <tbody>\n",
       "    <tr>\n",
       "      <th>0</th>\n",
       "      <td>1.0</td>\n",
       "      <td>3</td>\n",
       "      <td>3</td>\n",
       "    </tr>\n",
       "    <tr>\n",
       "      <th>1</th>\n",
       "      <td>2.0</td>\n",
       "      <td>1</td>\n",
       "      <td>0</td>\n",
       "    </tr>\n",
       "    <tr>\n",
       "      <th>2</th>\n",
       "      <td>3.0</td>\n",
       "      <td>5</td>\n",
       "      <td>2</td>\n",
       "    </tr>\n",
       "    <tr>\n",
       "      <th>3</th>\n",
       "      <td>4.0</td>\n",
       "      <td>18</td>\n",
       "      <td>4</td>\n",
       "    </tr>\n",
       "    <tr>\n",
       "      <th>4</th>\n",
       "      <td>5.0</td>\n",
       "      <td>84</td>\n",
       "      <td>49</td>\n",
       "    </tr>\n",
       "    <tr>\n",
       "      <th>...</th>\n",
       "      <td>...</td>\n",
       "      <td>...</td>\n",
       "      <td>...</td>\n",
       "    </tr>\n",
       "    <tr>\n",
       "      <th>22917</th>\n",
       "      <td>285897.0</td>\n",
       "      <td>2</td>\n",
       "      <td>1</td>\n",
       "    </tr>\n",
       "    <tr>\n",
       "      <th>22918</th>\n",
       "      <td>285953.0</td>\n",
       "      <td>1</td>\n",
       "      <td>1</td>\n",
       "    </tr>\n",
       "    <tr>\n",
       "      <th>22919</th>\n",
       "      <td>285972.0</td>\n",
       "      <td>2</td>\n",
       "      <td>2</td>\n",
       "    </tr>\n",
       "    <tr>\n",
       "      <th>22920</th>\n",
       "      <td>285996.0</td>\n",
       "      <td>1</td>\n",
       "      <td>1</td>\n",
       "    </tr>\n",
       "    <tr>\n",
       "      <th>22921</th>\n",
       "      <td>286091.0</td>\n",
       "      <td>7</td>\n",
       "      <td>5</td>\n",
       "    </tr>\n",
       "  </tbody>\n",
       "</table>\n",
       "<p>22922 rows × 3 columns</p>\n",
       "</div>"
      ],
      "text/plain": [
       "       company_id  count_people  education_count_0\n",
       "0             1.0             3                  3\n",
       "1             2.0             1                  0\n",
       "2             3.0             5                  2\n",
       "3             4.0            18                  4\n",
       "4             5.0            84                 49\n",
       "...           ...           ...                ...\n",
       "22917    285897.0             2                  1\n",
       "22918    285953.0             1                  1\n",
       "22919    285972.0             2                  2\n",
       "22920    285996.0             1                  1\n",
       "22921    286091.0             7                  5\n",
       "\n",
       "[22922 rows x 3 columns]"
      ]
     },
     "metadata": {},
     "output_type": "display_data"
    }
   ],
   "source": [
    "# Объединяем полученные данные в единую таблицу\n",
    "\n",
    "table = pd.merge(company_people_count, without_education, on = 'company_id')\n",
    "table.columns = ['company_id', 'count_people', 'education_count_0']\n",
    "display(table)"
   ]
  },
  {
   "cell_type": "markdown",
   "metadata": {},
   "source": [
    "На данный момент таблица состоит из трёх столбцов:\n",
    "- `company_id` - идентификатор компании\n",
    "- `count_people` - количество сотрудников, работающих в компании\n",
    "- `education_count_0` - - количество сотрудников без информации об уровне образования"
   ]
  },
  {
   "cell_type": "markdown",
   "metadata": {},
   "source": [
    "Рассчитаем долю сотрудников без информации об образовании в каждой компании (в %) и добавим данные в новый столбец к таблице `table`."
   ]
  },
  {
   "cell_type": "code",
   "execution_count": 49,
   "metadata": {},
   "outputs": [
    {
     "data": {
      "text/html": [
       "<div>\n",
       "<style scoped>\n",
       "    .dataframe tbody tr th:only-of-type {\n",
       "        vertical-align: middle;\n",
       "    }\n",
       "\n",
       "    .dataframe tbody tr th {\n",
       "        vertical-align: top;\n",
       "    }\n",
       "\n",
       "    .dataframe thead th {\n",
       "        text-align: right;\n",
       "    }\n",
       "</style>\n",
       "<table border=\"1\" class=\"dataframe\">\n",
       "  <thead>\n",
       "    <tr style=\"text-align: right;\">\n",
       "      <th></th>\n",
       "      <th>company_id</th>\n",
       "      <th>count_people</th>\n",
       "      <th>education_count_0</th>\n",
       "      <th>prop_education_count_0</th>\n",
       "    </tr>\n",
       "  </thead>\n",
       "  <tbody>\n",
       "    <tr>\n",
       "      <th>0</th>\n",
       "      <td>1.0</td>\n",
       "      <td>3</td>\n",
       "      <td>3</td>\n",
       "      <td>100.00</td>\n",
       "    </tr>\n",
       "    <tr>\n",
       "      <th>1</th>\n",
       "      <td>2.0</td>\n",
       "      <td>1</td>\n",
       "      <td>0</td>\n",
       "      <td>0.00</td>\n",
       "    </tr>\n",
       "    <tr>\n",
       "      <th>2</th>\n",
       "      <td>3.0</td>\n",
       "      <td>5</td>\n",
       "      <td>2</td>\n",
       "      <td>40.00</td>\n",
       "    </tr>\n",
       "    <tr>\n",
       "      <th>3</th>\n",
       "      <td>4.0</td>\n",
       "      <td>18</td>\n",
       "      <td>4</td>\n",
       "      <td>22.22</td>\n",
       "    </tr>\n",
       "    <tr>\n",
       "      <th>4</th>\n",
       "      <td>5.0</td>\n",
       "      <td>84</td>\n",
       "      <td>49</td>\n",
       "      <td>58.33</td>\n",
       "    </tr>\n",
       "    <tr>\n",
       "      <th>...</th>\n",
       "      <td>...</td>\n",
       "      <td>...</td>\n",
       "      <td>...</td>\n",
       "      <td>...</td>\n",
       "    </tr>\n",
       "    <tr>\n",
       "      <th>22917</th>\n",
       "      <td>285897.0</td>\n",
       "      <td>2</td>\n",
       "      <td>1</td>\n",
       "      <td>50.00</td>\n",
       "    </tr>\n",
       "    <tr>\n",
       "      <th>22918</th>\n",
       "      <td>285953.0</td>\n",
       "      <td>1</td>\n",
       "      <td>1</td>\n",
       "      <td>100.00</td>\n",
       "    </tr>\n",
       "    <tr>\n",
       "      <th>22919</th>\n",
       "      <td>285972.0</td>\n",
       "      <td>2</td>\n",
       "      <td>2</td>\n",
       "      <td>100.00</td>\n",
       "    </tr>\n",
       "    <tr>\n",
       "      <th>22920</th>\n",
       "      <td>285996.0</td>\n",
       "      <td>1</td>\n",
       "      <td>1</td>\n",
       "      <td>100.00</td>\n",
       "    </tr>\n",
       "    <tr>\n",
       "      <th>22921</th>\n",
       "      <td>286091.0</td>\n",
       "      <td>7</td>\n",
       "      <td>5</td>\n",
       "      <td>71.43</td>\n",
       "    </tr>\n",
       "  </tbody>\n",
       "</table>\n",
       "<p>22922 rows × 4 columns</p>\n",
       "</div>"
      ],
      "text/plain": [
       "       company_id  count_people  education_count_0  prop_education_count_0\n",
       "0             1.0             3                  3                  100.00\n",
       "1             2.0             1                  0                    0.00\n",
       "2             3.0             5                  2                   40.00\n",
       "3             4.0            18                  4                   22.22\n",
       "4             5.0            84                 49                   58.33\n",
       "...           ...           ...                ...                     ...\n",
       "22917    285897.0             2                  1                   50.00\n",
       "22918    285953.0             1                  1                  100.00\n",
       "22919    285972.0             2                  2                  100.00\n",
       "22920    285996.0             1                  1                  100.00\n",
       "22921    286091.0             7                  5                   71.43\n",
       "\n",
       "[22922 rows x 4 columns]"
      ]
     },
     "metadata": {},
     "output_type": "display_data"
    }
   ],
   "source": [
    "# Рассчитываем долю сотрудников без информации об образовании (в %)\n",
    "\n",
    "table['prop_education_count_0'] = round(table['education_count_0']/table['count_people']*100, 2)\n",
    "display(table)"
   ]
  },
  {
   "cell_type": "markdown",
   "metadata": {},
   "source": [
    "Таблица пополнилась новым столбцом `prop_education_count_0` с информацией о доле сотрудников без информации об образовании в каждой компании (в %)"
   ]
  },
  {
   "cell_type": "markdown",
   "metadata": {},
   "source": [
    "Разделим все компании на несколько групп по количеству сотрудников и добавим данные в новый столбец к таблице `table`. Это необходимо для корректной оценки средней доли сотрудников без информации об образовании в каждой из групп"
   ]
  },
  {
   "cell_type": "markdown",
   "metadata": {},
   "source": [
    "Но перед тем, как разделять все компании на группы, необходимо установить границы этих групп. Для этого нам необходимо изучить статистическое описание данных столбца `count_people` с помощью метода `describe()`"
   ]
  },
  {
   "cell_type": "code",
   "execution_count": 50,
   "metadata": {},
   "outputs": [
    {
     "data": {
      "text/plain": [
       "count    22922.000000\n",
       "mean         1.953974\n",
       "std          4.087373\n",
       "min          1.000000\n",
       "25%          1.000000\n",
       "50%          1.000000\n",
       "75%          2.000000\n",
       "80%          2.000000\n",
       "85%          3.000000\n",
       "90%          3.000000\n",
       "95%          5.000000\n",
       "99%         10.790000\n",
       "max        376.000000\n",
       "Name: count_people, dtype: float64"
      ]
     },
     "execution_count": 50,
     "metadata": {},
     "output_type": "execute_result"
    }
   ],
   "source": [
    "# Выведем статистическое описание данных столбца count_people\n",
    "\n",
    "table['count_people'].describe(percentiles=[0.25, 0.5, 0.75, 0.8, 0.85, 0.9, 0.95, 0.99])"
   ]
  },
  {
   "cell_type": "markdown",
   "metadata": {},
   "source": [
    "Мы видим, что в 50% компаний работает всего 1 сотрудник, в 75% компаний количество сотрудников не превышает 2, в 85% компаний - не превышает 3, в 95% компаний - не превышает 5, в 99% - не превышает 10. Поэтому мы не можем взять слишком большие границы для групп.\n",
    "\n",
    "Исходя из этого, мы разделим все компании на следующие группы:\n",
    "\n",
    "- Компании с 1 сотрудником\n",
    "- Компании с 2 сотрудниками\n",
    "- Компании с 3-5 сотрудниками\n",
    "- Компании с 6-10 сотрудниками\n",
    "- Компании с 11+ сотрудниками"
   ]
  },
  {
   "cell_type": "code",
   "execution_count": 51,
   "metadata": {},
   "outputs": [
    {
     "data": {
      "text/html": [
       "<div>\n",
       "<style scoped>\n",
       "    .dataframe tbody tr th:only-of-type {\n",
       "        vertical-align: middle;\n",
       "    }\n",
       "\n",
       "    .dataframe tbody tr th {\n",
       "        vertical-align: top;\n",
       "    }\n",
       "\n",
       "    .dataframe thead th {\n",
       "        text-align: right;\n",
       "    }\n",
       "</style>\n",
       "<table border=\"1\" class=\"dataframe\">\n",
       "  <thead>\n",
       "    <tr style=\"text-align: right;\">\n",
       "      <th></th>\n",
       "      <th>company_id</th>\n",
       "      <th>count_people</th>\n",
       "      <th>education_count_0</th>\n",
       "      <th>prop_education_count_0</th>\n",
       "      <th>people_group_count</th>\n",
       "    </tr>\n",
       "  </thead>\n",
       "  <tbody>\n",
       "    <tr>\n",
       "      <th>0</th>\n",
       "      <td>1.0</td>\n",
       "      <td>3</td>\n",
       "      <td>3</td>\n",
       "      <td>100.00</td>\n",
       "      <td>3-5 сотрудников</td>\n",
       "    </tr>\n",
       "    <tr>\n",
       "      <th>1</th>\n",
       "      <td>2.0</td>\n",
       "      <td>1</td>\n",
       "      <td>0</td>\n",
       "      <td>0.00</td>\n",
       "      <td>1 сотрудник</td>\n",
       "    </tr>\n",
       "    <tr>\n",
       "      <th>2</th>\n",
       "      <td>3.0</td>\n",
       "      <td>5</td>\n",
       "      <td>2</td>\n",
       "      <td>40.00</td>\n",
       "      <td>3-5 сотрудников</td>\n",
       "    </tr>\n",
       "    <tr>\n",
       "      <th>3</th>\n",
       "      <td>4.0</td>\n",
       "      <td>18</td>\n",
       "      <td>4</td>\n",
       "      <td>22.22</td>\n",
       "      <td>11+ сотрудников</td>\n",
       "    </tr>\n",
       "    <tr>\n",
       "      <th>4</th>\n",
       "      <td>5.0</td>\n",
       "      <td>84</td>\n",
       "      <td>49</td>\n",
       "      <td>58.33</td>\n",
       "      <td>11+ сотрудников</td>\n",
       "    </tr>\n",
       "    <tr>\n",
       "      <th>...</th>\n",
       "      <td>...</td>\n",
       "      <td>...</td>\n",
       "      <td>...</td>\n",
       "      <td>...</td>\n",
       "      <td>...</td>\n",
       "    </tr>\n",
       "    <tr>\n",
       "      <th>22917</th>\n",
       "      <td>285897.0</td>\n",
       "      <td>2</td>\n",
       "      <td>1</td>\n",
       "      <td>50.00</td>\n",
       "      <td>2 сотрудника</td>\n",
       "    </tr>\n",
       "    <tr>\n",
       "      <th>22918</th>\n",
       "      <td>285953.0</td>\n",
       "      <td>1</td>\n",
       "      <td>1</td>\n",
       "      <td>100.00</td>\n",
       "      <td>1 сотрудник</td>\n",
       "    </tr>\n",
       "    <tr>\n",
       "      <th>22919</th>\n",
       "      <td>285972.0</td>\n",
       "      <td>2</td>\n",
       "      <td>2</td>\n",
       "      <td>100.00</td>\n",
       "      <td>2 сотрудника</td>\n",
       "    </tr>\n",
       "    <tr>\n",
       "      <th>22920</th>\n",
       "      <td>285996.0</td>\n",
       "      <td>1</td>\n",
       "      <td>1</td>\n",
       "      <td>100.00</td>\n",
       "      <td>1 сотрудник</td>\n",
       "    </tr>\n",
       "    <tr>\n",
       "      <th>22921</th>\n",
       "      <td>286091.0</td>\n",
       "      <td>7</td>\n",
       "      <td>5</td>\n",
       "      <td>71.43</td>\n",
       "      <td>6-10 сотрудников</td>\n",
       "    </tr>\n",
       "  </tbody>\n",
       "</table>\n",
       "<p>22922 rows × 5 columns</p>\n",
       "</div>"
      ],
      "text/plain": [
       "       company_id  count_people  education_count_0  prop_education_count_0  \\\n",
       "0             1.0             3                  3                  100.00   \n",
       "1             2.0             1                  0                    0.00   \n",
       "2             3.0             5                  2                   40.00   \n",
       "3             4.0            18                  4                   22.22   \n",
       "4             5.0            84                 49                   58.33   \n",
       "...           ...           ...                ...                     ...   \n",
       "22917    285897.0             2                  1                   50.00   \n",
       "22918    285953.0             1                  1                  100.00   \n",
       "22919    285972.0             2                  2                  100.00   \n",
       "22920    285996.0             1                  1                  100.00   \n",
       "22921    286091.0             7                  5                   71.43   \n",
       "\n",
       "      people_group_count  \n",
       "0        3-5 сотрудников  \n",
       "1            1 сотрудник  \n",
       "2        3-5 сотрудников  \n",
       "3        11+ сотрудников  \n",
       "4        11+ сотрудников  \n",
       "...                  ...  \n",
       "22917       2 сотрудника  \n",
       "22918        1 сотрудник  \n",
       "22919       2 сотрудника  \n",
       "22920        1 сотрудник  \n",
       "22921   6-10 сотрудников  \n",
       "\n",
       "[22922 rows x 5 columns]"
      ]
     },
     "metadata": {},
     "output_type": "display_data"
    }
   ],
   "source": [
    "# Разделяем все компании на несколько групп по количеству сотрудников\n",
    "\n",
    "table['people_group_count'] = pd.cut(table['count_people'], bins = [1, 2, 3, 6, 11, float('inf')], labels = [\"1 сотрудник\", \"2 сотрудника\", \"3-5 сотрудников\", \"6-10 сотрудников\", \"11+ сотрудников\"], right=False)\n",
    "display(table)"
   ]
  },
  {
   "cell_type": "markdown",
   "metadata": {},
   "source": [
    "Далее рассчитаем среднюю долю сотрудников без информации об образовании в каждой из групп (в %)"
   ]
  },
  {
   "cell_type": "code",
   "execution_count": 52,
   "metadata": {},
   "outputs": [
    {
     "data": {
      "text/plain": [
       "people_group_count\n",
       "1 сотрудник         67.159011\n",
       "2 сотрудника        40.728617\n",
       "3-5 сотрудников     44.176325\n",
       "6-10 сотрудников    52.927188\n",
       "11+ сотрудников     56.682478\n",
       "Name: prop_education_count_0, dtype: float64"
      ]
     },
     "metadata": {},
     "output_type": "display_data"
    }
   ],
   "source": [
    "# Рассчитываем среднюю долю сотрудников без информации об образовании в каждой из групп (в %)\n",
    "\n",
    "group_education_count_0 = table.groupby('people_group_count')['prop_education_count_0'].mean()\n",
    "display(group_education_count_0)"
   ]
  },
  {
   "cell_type": "markdown",
   "metadata": {},
   "source": [
    "Исходя из полученных данных, мы можем сделать вывод о том, что в каждой из групп компаний, разделённых по количеству сотрудников, наблюдается значительное отсутствие информации об образовании сотрудников. Если в случае компаний, в которых работают 2 сотрудника, отсутствует около 40% информации об образовании сотрудников, то в компаниях, где работает 1 сотрудников, отсутствует почти 70% информации об образовании сотрудников. Исходя из этого, мы делаем вывод о том, что информация об образовании сотрудников недостаточно полна\n",
    "\n",
    "Помимо этого, заказчик интересовался тем, зависит ли полнота сведений о сотрудниках (например, об их образовании) от размера компаний. Исходя из расчёта средней долю сотрудников без информации об образовании в каждой из групп, можно заметить, что с увеличением количества сотрудников в компании, увеличивается доля сотрудников без информации об образовании (за исключением группы компаний, где работает всего 1 сотрудник):\n",
    "\n",
    "- 2 сотрудника - отсутствует 40% информации об образовании\n",
    "- 3-5 сотрудников - отсутствует 44% информации об образовании\n",
    "- 6-10 сотрудников - отсутствует 52% информации об образовании\n",
    "- 11+ сотрудников - отсутствует 56% информации об образовании"
   ]
  },
  {
   "cell_type": "markdown",
   "metadata": {},
   "source": [
    "Отвечая на вопрос о том, возможно ли для выполнения задания присоединить к этим таблицам ещё и таблицу `degrees.csv`, необходимо вспомнить о том, какую информацию содержит эта таблица\n",
    "\n",
    "Таблица `degrees` содержит информацию о типе образования сотрудника:\n",
    "- `id` — идентификатор записи.\n",
    "- `object_id` — идентификатор сотрудника.\n",
    "- `degree_type` — тип образования.\n",
    "- `subject` — специальность.\n",
    "\n",
    "Данная таблица помогает узнать больше информации об образовании только тех сотрудников, у которых известна информация об образовании. Следовательно, для изучения доли сотрудников без информации об образовании таблица `degrees.csv` с информацией о типе образования сотрудника - не нужна\n",
    "\n",
    "Присоединить таблицу `degrees.csv` к датафрейму `people_education_df` - не получится, поскольку типы данных в столбцах с идентификаторами сотрудников в данных таблицах - не совпадают (в таблице `people_education_df` тип ланных столбца `id_x` - `int64` - целочисленные значения, а в таблице `degrees_df` тип данных столбцах `object_id` - `object` - строковые данные)"
   ]
  },
  {
   "cell_type": "code",
   "execution_count": 53,
   "metadata": {
    "scrolled": false
   },
   "outputs": [
    {
     "name": "stdout",
     "output_type": "stream",
     "text": [
      "Идентификаторы сотрудников в датафрейме people_education_df:\n"
     ]
    },
    {
     "data": {
      "text/plain": [
       "0             10\n",
       "1            100\n",
       "2           1000\n",
       "3          10000\n",
       "4         100000\n",
       "           ...  \n",
       "267689     99999\n",
       "267690    174088\n",
       "267691    118386\n",
       "267692    175827\n",
       "267693    178190\n",
       "Name: id_x, Length: 267694, dtype: int64"
      ]
     },
     "metadata": {},
     "output_type": "display_data"
    },
    {
     "name": "stdout",
     "output_type": "stream",
     "text": [
      "\n",
      "Идентификаторы сотрудников в датафрейме degrees_df:\n"
     ]
    },
    {
     "data": {
      "text/plain": [
       "0           p:6117\n",
       "1           p:6136\n",
       "2           p:6136\n",
       "3           p:6005\n",
       "4           p:5832\n",
       "            ...   \n",
       "109605    p:268589\n",
       "109606    p:268527\n",
       "109607    p:268527\n",
       "109608    p:268528\n",
       "109609    p:268528\n",
       "Name: object_id, Length: 109610, dtype: object"
      ]
     },
     "metadata": {},
     "output_type": "display_data"
    }
   ],
   "source": [
    "# Подтверждаем, что типы данных идентификаторы сотрудников в таблицах people_education_df и degrees_df - не совпадают\n",
    "\n",
    "print('Идентификаторы сотрудников в датафрейме people_education_df:')\n",
    "display(people_education_df['id_x'])\n",
    "print()\n",
    "print('Идентификаторы сотрудников в датафрейме degrees_df:')\n",
    "display(degrees_df['object_id'])"
   ]
  },
  {
   "cell_type": "markdown",
   "metadata": {},
   "source": [
    "Теперь мы можем точно ответить на вопрос о том, возможно ли для выполнения задания присоединить к этим таблицам ещё и таблицу `degrees.csv` - нет, это невозможно"
   ]
  },
  {
   "cell_type": "markdown",
   "metadata": {},
   "source": [
    "### 2.3. Объединять или не объединять — вот в чём вопрос"
   ]
  },
  {
   "cell_type": "markdown",
   "metadata": {
    "id": "Cf5IjfOQrJg1"
   },
   "source": [
    "Столбец `network_username` встречается в следующих датафреймах:\n",
    "\n",
    "- `company_and_rounds_df` - столбец `network_username` в данном датафрейме выступает в роли ника компании в сети\n",
    "- `people_df` - столбец `network_username` в данном датафрейме выступает в роли ника в социальных сетях\n",
    "- `fund_df` - столбец `network_username` в данном датафрейме выступает в роли ника фонда в сети\n",
    "\n",
    "Изучим количество уникальных значений, а также общее количество значений в столбце `network_username` в трёх разных датафреймах"
   ]
  },
  {
   "cell_type": "code",
   "execution_count": 54,
   "metadata": {
    "id": "CilOkz-inz37"
   },
   "outputs": [
    {
     "name": "stdout",
     "output_type": "stream",
     "text": [
      "Количество уникальных значений в столбце network_username датафрейма company_and_rounds_df: 79374\n",
      "\n",
      "Общее количество значений в столбце network_username датафрейма company_and_rounds_df: 95534\n",
      "\n",
      "Разница между общим и уникальным количеством значений в столбце network_username датафрейма company_and_rounds_df: 16160\n"
     ]
    }
   ],
   "source": [
    "nuniq_network_username_company_and_rounds_df = company_and_rounds_df['network_username'].nunique()\n",
    "print(f'Количество уникальных значений в столбце network_username датафрейма company_and_rounds_df: {nuniq_network_username_company_and_rounds_df}')\n",
    "print()\n",
    "count_network_username_company_and_rounds_df = company_and_rounds_df['network_username'].count()\n",
    "print(f'Общее количество значений в столбце network_username датафрейма company_and_rounds_df: {count_network_username_company_and_rounds_df}')\n",
    "print()\n",
    "delta1 = count_network_username_company_and_rounds_df - nuniq_network_username_company_and_rounds_df\n",
    "print(f'Разница между общим и уникальным количеством значений в столбце network_username датафрейма company_and_rounds_df: {delta1}')"
   ]
  },
  {
   "cell_type": "code",
   "execution_count": 55,
   "metadata": {},
   "outputs": [
    {
     "name": "stdout",
     "output_type": "stream",
     "text": [
      "Количество уникальных значений в столбце network_username датафрейма people_df: 38384\n",
      "\n",
      "Общее количество значений в столбце network_username датафрейма people_df: 38867\n",
      "\n",
      "Разница между общим и уникальным количеством значений в столбце network_username датафрейма people_df: 483\n"
     ]
    }
   ],
   "source": [
    "nuniq_network_username_people_df = people_df['network_username'].nunique()\n",
    "print(f'Количество уникальных значений в столбце network_username датафрейма people_df: {nuniq_network_username_people_df}')\n",
    "print()\n",
    "count_network_username_people_df = people_df['network_username'].count()\n",
    "print(f'Общее количество значений в столбце network_username датафрейма people_df: {count_network_username_people_df}')\n",
    "print()\n",
    "delta2 = count_network_username_people_df - nuniq_network_username_people_df\n",
    "print(f'Разница между общим и уникальным количеством значений в столбце network_username датафрейма people_df: {delta2}')"
   ]
  },
  {
   "cell_type": "code",
   "execution_count": 56,
   "metadata": {},
   "outputs": [
    {
     "name": "stdout",
     "output_type": "stream",
     "text": [
      "Количество уникальных значений в столбце network_username датафрейма fund_df: 2091\n",
      "\n",
      "Общее количество значений в столбце network_username датафрейма fund_df: 2149\n",
      "\n",
      "Разница между общим и уникальным количеством значений в столбце network_username датафрейма fund_df: 58\n"
     ]
    }
   ],
   "source": [
    "nuniq_network_username_fund_df = fund_df['network_username'].nunique()\n",
    "print(f'Количество уникальных значений в столбце network_username датафрейма fund_df: {nuniq_network_username_fund_df}')\n",
    "print()\n",
    "count_network_username_fund_df = fund_df['network_username'].count()\n",
    "print(f'Общее количество значений в столбце network_username датафрейма fund_df: {count_network_username_fund_df}')\n",
    "print()\n",
    "delta3 = count_network_username_fund_df - nuniq_network_username_fund_df\n",
    "print(f'Разница между общим и уникальным количеством значений в столбце network_username датафрейма fund_df: {delta3}')"
   ]
  },
  {
   "cell_type": "markdown",
   "metadata": {},
   "source": [
    "Исходя из проделанных действий, мы можем сделать вывод о том, что в каждом из датафреймов в столбцах `network_username` содержится следующее количество дубликатов:\n",
    "\n",
    "- `company_and_rounds_df` - 16160 дубликатов\n",
    "- `people_df` - 483 дубликатов\n",
    "- `fund_df` - 58 дубликата\n",
    "\n",
    "Но для того, чтобы понять, подходит ли для объединения данных столбец `network_username`, необходимо посмотреть, есть ли пересечения значений столбца `network_username` в разных датафреймах. Для этого используем метод `intersect`"
   ]
  },
  {
   "cell_type": "code",
   "execution_count": 57,
   "metadata": {},
   "outputs": [
    {
     "name": "stdout",
     "output_type": "stream",
     "text": [
      "Количество пересечений network_username между датафреймами company_and_rounds_df и people_df: 2504\n",
      "\n",
      "Количество пересечений network_username между датафреймами company_and_rounds_df и fund_df: 88\n",
      "\n",
      "Количество пересечений network_username между датафреймами people_df и fund_df: 97\n"
     ]
    }
   ],
   "source": [
    "# Используем уникальные значения столбцов для поиска пересечений значений столбца network_username в разных датафреймах\n",
    "\n",
    "uniq_network_username_company_and_rounds_df = company_and_rounds_df['network_username'].unique()\n",
    "uniq_network_username_people_df = people_df['network_username'].unique()\n",
    "uniq_network_username_fund_df = fund_df['network_username'].unique()\n",
    "\n",
    "len_intersection_company_and_rounds_df_people_df = len(set(uniq_network_username_company_and_rounds_df).intersection(set(uniq_network_username_people_df)))\n",
    "len_intersection_company_and_rounds_df_fund_df = len(set(uniq_network_username_company_and_rounds_df).intersection(set(uniq_network_username_fund_df)))\n",
    "len_intersection_people_df_fund_df = len(set(uniq_network_username_people_df).intersection(set(uniq_network_username_fund_df)))\n",
    "\n",
    "print(f'Количество пересечений network_username между датафреймами company_and_rounds_df и people_df: {len_intersection_company_and_rounds_df_people_df}')\n",
    "print()\n",
    "print(f'Количество пересечений network_username между датафреймами company_and_rounds_df и fund_df: {len_intersection_company_and_rounds_df_fund_df}')\n",
    "print()\n",
    "print(f'Количество пересечений network_username между датафреймами people_df и fund_df: {len_intersection_people_df_fund_df}')"
   ]
  },
  {
   "cell_type": "markdown",
   "metadata": {},
   "source": [
    "Исходя из этого, мы можем сделать вывод о том, что производить объединение данных по столбцу `network_username` с датафреймом `fund_df` - не стоит, поскольку количество пересечений - крайне мало. При этом стоит обратить внимание на то, что датафреймы `company_and_rounds_df` и `people_df` можно попробовать объединить между собой, так как количество пересечений существенно выше по сравнению с датафреймом `fund_df`\n",
    "\n",
    "Таким образом, мы делаем вывод о том, что столбцы с именем `network_username` можно использовать для объединения данных из датафреймов `company_and_rounds_df` и `people_df`"
   ]
  },
  {
   "cell_type": "markdown",
   "metadata": {
    "id": "EHcODomVrJg1"
   },
   "source": [
    "\n",
    "### 2.4. Проблемный датасет и причина возникновения пропусков"
   ]
  },
  {
   "cell_type": "markdown",
   "metadata": {},
   "source": [
    "Для приведения датафрейма `company_and_rounds_df` в удобный для анализа отдельных компаний вид, необходимо обработать пропуски в некоторых столбцах, а также провести агрегацию данных по компаниям\n",
    "\n",
    "Перед обработкой пропусков выведем общую информацию о датафрейме, первые строки датафрейма и количество пропусков"
   ]
  },
  {
   "cell_type": "code",
   "execution_count": 58,
   "metadata": {
    "id": "tJ6Sl6MKrJg1"
   },
   "outputs": [
    {
     "name": "stdout",
     "output_type": "stream",
     "text": [
      "<class 'pandas.core.frame.DataFrame'>\n",
      "RangeIndex: 217774 entries, 0 to 217773\n",
      "Data columns (total 23 columns):\n",
      " #   Column               Non-Null Count   Dtype         \n",
      "---  ------               --------------   -----         \n",
      " 0   company_id           217472 non-null  float64       \n",
      " 1   name                 217472 non-null  object        \n",
      " 2   category_code        143886 non-null  object        \n",
      " 3   status               217472 non-null  object        \n",
      " 4   founded_at           109956 non-null  datetime64[ns]\n",
      " 5   closed_at            3449 non-null    datetime64[ns]\n",
      " 6   domain               147159 non-null  object        \n",
      " 7   network_username     95534 non-null   object        \n",
      " 8   country_code         108607 non-null  object        \n",
      " 9   investment_rounds    217472 non-null  float64       \n",
      " 10  funding_rounds       217472 non-null  float64       \n",
      " 11  funding_total        217472 non-null  float64       \n",
      " 12  milestones           217472 non-null  float64       \n",
      " 13  funding_round_id     52928 non-null   float64       \n",
      " 14  company_id           52928 non-null   float64       \n",
      " 15  funded_at            52680 non-null   datetime64[ns]\n",
      " 16  funding_round_type   52928 non-null   object        \n",
      " 17  raised_amount        52928 non-null   float64       \n",
      " 18  pre_money_valuation  52928 non-null   float64       \n",
      " 19  participants         52928 non-null   float64       \n",
      " 20  is_first_round       52928 non-null   float64       \n",
      " 21  is_last_round        52928 non-null   float64       \n",
      " 22  funded_at_year       52680 non-null   float64       \n",
      "dtypes: datetime64[ns](3), float64(13), object(7)\n",
      "memory usage: 38.2+ MB\n"
     ]
    }
   ],
   "source": [
    "# Выводим информацию о датафрейме\n",
    "company_and_rounds_df.info()"
   ]
  },
  {
   "cell_type": "code",
   "execution_count": 59,
   "metadata": {
    "id": "SFfUmzron0Tc"
   },
   "outputs": [
    {
     "data": {
      "text/html": [
       "<div>\n",
       "<style scoped>\n",
       "    .dataframe tbody tr th:only-of-type {\n",
       "        vertical-align: middle;\n",
       "    }\n",
       "\n",
       "    .dataframe tbody tr th {\n",
       "        vertical-align: top;\n",
       "    }\n",
       "\n",
       "    .dataframe thead th {\n",
       "        text-align: right;\n",
       "    }\n",
       "</style>\n",
       "<table border=\"1\" class=\"dataframe\">\n",
       "  <thead>\n",
       "    <tr style=\"text-align: right;\">\n",
       "      <th></th>\n",
       "      <th>company_id</th>\n",
       "      <th>name</th>\n",
       "      <th>category_code</th>\n",
       "      <th>status</th>\n",
       "      <th>founded_at</th>\n",
       "      <th>closed_at</th>\n",
       "      <th>domain</th>\n",
       "      <th>network_username</th>\n",
       "      <th>country_code</th>\n",
       "      <th>investment_rounds</th>\n",
       "      <th>...</th>\n",
       "      <th>funding_round_id</th>\n",
       "      <th>company_id</th>\n",
       "      <th>funded_at</th>\n",
       "      <th>funding_round_type</th>\n",
       "      <th>raised_amount</th>\n",
       "      <th>pre_money_valuation</th>\n",
       "      <th>participants</th>\n",
       "      <th>is_first_round</th>\n",
       "      <th>is_last_round</th>\n",
       "      <th>funded_at_year</th>\n",
       "    </tr>\n",
       "  </thead>\n",
       "  <tbody>\n",
       "    <tr>\n",
       "      <th>0</th>\n",
       "      <td>1.0</td>\n",
       "      <td>wetpaint</td>\n",
       "      <td>web</td>\n",
       "      <td>operating</td>\n",
       "      <td>2005-10-17</td>\n",
       "      <td>NaT</td>\n",
       "      <td>wetpaint-inc.com</td>\n",
       "      <td>bachelrwetpaint</td>\n",
       "      <td>USA</td>\n",
       "      <td>0.0</td>\n",
       "      <td>...</td>\n",
       "      <td>888.0</td>\n",
       "      <td>1.0</td>\n",
       "      <td>2005-10-01</td>\n",
       "      <td>series-a</td>\n",
       "      <td>5250000.0</td>\n",
       "      <td>0.0</td>\n",
       "      <td>2.0</td>\n",
       "      <td>0.0</td>\n",
       "      <td>1.0</td>\n",
       "      <td>2005.0</td>\n",
       "    </tr>\n",
       "    <tr>\n",
       "      <th>1</th>\n",
       "      <td>1.0</td>\n",
       "      <td>wetpaint</td>\n",
       "      <td>web</td>\n",
       "      <td>operating</td>\n",
       "      <td>2005-10-17</td>\n",
       "      <td>NaT</td>\n",
       "      <td>wetpaint-inc.com</td>\n",
       "      <td>bachelrwetpaint</td>\n",
       "      <td>USA</td>\n",
       "      <td>0.0</td>\n",
       "      <td>...</td>\n",
       "      <td>889.0</td>\n",
       "      <td>1.0</td>\n",
       "      <td>2007-01-01</td>\n",
       "      <td>series-b</td>\n",
       "      <td>9500000.0</td>\n",
       "      <td>0.0</td>\n",
       "      <td>3.0</td>\n",
       "      <td>0.0</td>\n",
       "      <td>0.0</td>\n",
       "      <td>2007.0</td>\n",
       "    </tr>\n",
       "    <tr>\n",
       "      <th>2</th>\n",
       "      <td>1.0</td>\n",
       "      <td>wetpaint</td>\n",
       "      <td>web</td>\n",
       "      <td>operating</td>\n",
       "      <td>2005-10-17</td>\n",
       "      <td>NaT</td>\n",
       "      <td>wetpaint-inc.com</td>\n",
       "      <td>bachelrwetpaint</td>\n",
       "      <td>USA</td>\n",
       "      <td>0.0</td>\n",
       "      <td>...</td>\n",
       "      <td>2312.0</td>\n",
       "      <td>1.0</td>\n",
       "      <td>2008-05-19</td>\n",
       "      <td>series-c+</td>\n",
       "      <td>25000000.0</td>\n",
       "      <td>0.0</td>\n",
       "      <td>4.0</td>\n",
       "      <td>1.0</td>\n",
       "      <td>0.0</td>\n",
       "      <td>2008.0</td>\n",
       "    </tr>\n",
       "    <tr>\n",
       "      <th>3</th>\n",
       "      <td>10.0</td>\n",
       "      <td>flektor</td>\n",
       "      <td>games_video</td>\n",
       "      <td>acquired</td>\n",
       "      <td>NaT</td>\n",
       "      <td>NaT</td>\n",
       "      <td>flektor.com</td>\n",
       "      <td>NaN</td>\n",
       "      <td>USA</td>\n",
       "      <td>0.0</td>\n",
       "      <td>...</td>\n",
       "      <td>NaN</td>\n",
       "      <td>NaN</td>\n",
       "      <td>NaT</td>\n",
       "      <td>NaN</td>\n",
       "      <td>NaN</td>\n",
       "      <td>NaN</td>\n",
       "      <td>NaN</td>\n",
       "      <td>NaN</td>\n",
       "      <td>NaN</td>\n",
       "      <td>NaN</td>\n",
       "    </tr>\n",
       "    <tr>\n",
       "      <th>4</th>\n",
       "      <td>100.0</td>\n",
       "      <td>there</td>\n",
       "      <td>games_video</td>\n",
       "      <td>acquired</td>\n",
       "      <td>NaT</td>\n",
       "      <td>NaT</td>\n",
       "      <td>there.com</td>\n",
       "      <td>NaN</td>\n",
       "      <td>USA</td>\n",
       "      <td>0.0</td>\n",
       "      <td>...</td>\n",
       "      <td>NaN</td>\n",
       "      <td>NaN</td>\n",
       "      <td>NaT</td>\n",
       "      <td>NaN</td>\n",
       "      <td>NaN</td>\n",
       "      <td>NaN</td>\n",
       "      <td>NaN</td>\n",
       "      <td>NaN</td>\n",
       "      <td>NaN</td>\n",
       "      <td>NaN</td>\n",
       "    </tr>\n",
       "  </tbody>\n",
       "</table>\n",
       "<p>5 rows × 23 columns</p>\n",
       "</div>"
      ],
      "text/plain": [
       "   company_id      name category_code     status founded_at closed_at  \\\n",
       "0         1.0  wetpaint           web  operating 2005-10-17       NaT   \n",
       "1         1.0  wetpaint           web  operating 2005-10-17       NaT   \n",
       "2         1.0  wetpaint           web  operating 2005-10-17       NaT   \n",
       "3        10.0   flektor   games_video   acquired        NaT       NaT   \n",
       "4       100.0     there   games_video   acquired        NaT       NaT   \n",
       "\n",
       "             domain network_username country_code  investment_rounds  ...  \\\n",
       "0  wetpaint-inc.com  bachelrwetpaint          USA                0.0  ...   \n",
       "1  wetpaint-inc.com  bachelrwetpaint          USA                0.0  ...   \n",
       "2  wetpaint-inc.com  bachelrwetpaint          USA                0.0  ...   \n",
       "3       flektor.com              NaN          USA                0.0  ...   \n",
       "4         there.com              NaN          USA                0.0  ...   \n",
       "\n",
       "   funding_round_id  company_id  funded_at  funding_round_type  raised_amount  \\\n",
       "0             888.0         1.0 2005-10-01            series-a      5250000.0   \n",
       "1             889.0         1.0 2007-01-01            series-b      9500000.0   \n",
       "2            2312.0         1.0 2008-05-19           series-c+     25000000.0   \n",
       "3               NaN         NaN        NaT                 NaN            NaN   \n",
       "4               NaN         NaN        NaT                 NaN            NaN   \n",
       "\n",
       "  pre_money_valuation participants  is_first_round  is_last_round  \\\n",
       "0                 0.0          2.0             0.0            1.0   \n",
       "1                 0.0          3.0             0.0            0.0   \n",
       "2                 0.0          4.0             1.0            0.0   \n",
       "3                 NaN          NaN             NaN            NaN   \n",
       "4                 NaN          NaN             NaN            NaN   \n",
       "\n",
       "   funded_at_year  \n",
       "0          2005.0  \n",
       "1          2007.0  \n",
       "2          2008.0  \n",
       "3             NaN  \n",
       "4             NaN  \n",
       "\n",
       "[5 rows x 23 columns]"
      ]
     },
     "execution_count": 59,
     "metadata": {},
     "output_type": "execute_result"
    }
   ],
   "source": [
    "# Выводим первые строки датафрейма на экран\n",
    "company_and_rounds_df.head()"
   ]
  },
  {
   "cell_type": "code",
   "execution_count": 60,
   "metadata": {},
   "outputs": [
    {
     "name": "stdout",
     "output_type": "stream",
     "text": [
      "Количество пропусков в датафрейме company_and_rounds_df:\n"
     ]
    },
    {
     "data": {
      "text/html": [
       "<style  type=\"text/css\" >\n",
       "#T_6b758_row0_col1,#T_6b758_row0_col2{\n",
       "            background-color:  #b40426;\n",
       "            color:  #f1f1f1;\n",
       "        }#T_6b758_row1_col1,#T_6b758_row1_col2,#T_6b758_row2_col1,#T_6b758_row2_col2{\n",
       "            background-color:  #f29072;\n",
       "            color:  #000000;\n",
       "        }#T_6b758_row3_col1,#T_6b758_row3_col2,#T_6b758_row4_col1,#T_6b758_row4_col2,#T_6b758_row5_col1,#T_6b758_row5_col2,#T_6b758_row6_col1,#T_6b758_row6_col2,#T_6b758_row7_col1,#T_6b758_row7_col2,#T_6b758_row8_col1,#T_6b758_row8_col2,#T_6b758_row9_col1,#T_6b758_row9_col2,#T_6b758_row10_col1,#T_6b758_row10_col2{\n",
       "            background-color:  #f29274;\n",
       "            color:  #000000;\n",
       "        }#T_6b758_row11_col1,#T_6b758_row11_col2{\n",
       "            background-color:  #edd2c3;\n",
       "            color:  #000000;\n",
       "        }#T_6b758_row12_col1,#T_6b758_row12_col2{\n",
       "            background-color:  #dfdbd9;\n",
       "            color:  #000000;\n",
       "        }#T_6b758_row13_col1,#T_6b758_row13_col2{\n",
       "            background-color:  #dddcdc;\n",
       "            color:  #000000;\n",
       "        }#T_6b758_row14_col1,#T_6b758_row14_col2{\n",
       "            background-color:  #aec9fc;\n",
       "            color:  #000000;\n",
       "        }#T_6b758_row15_col1,#T_6b758_row15_col2{\n",
       "            background-color:  #a9c6fd;\n",
       "            color:  #000000;\n",
       "        }#T_6b758_row16_col1,#T_6b758_row16_col2,#T_6b758_row17_col1,#T_6b758_row17_col2,#T_6b758_row18_col1,#T_6b758_row18_col2,#T_6b758_row19_col1,#T_6b758_row19_col2,#T_6b758_row20_col1,#T_6b758_row20_col2,#T_6b758_row21_col1,#T_6b758_row21_col2,#T_6b758_row22_col1,#T_6b758_row22_col2{\n",
       "            background-color:  #3b4cc0;\n",
       "            color:  #f1f1f1;\n",
       "        }</style><table id=\"T_6b758_\" ><thead>    <tr>        <th class=\"blank level0\" ></th>        <th class=\"col_heading level0 col0\" >index</th>        <th class=\"col_heading level0 col1\" >Кол-во пропусков</th>        <th class=\"col_heading level0 col2\" >Доля пропусков (в %)</th>    </tr></thead><tbody>\n",
       "                <tr>\n",
       "                        <th id=\"T_6b758_level0_row0\" class=\"row_heading level0 row0\" >5</th>\n",
       "                        <td id=\"T_6b758_row0_col0\" class=\"data row0 col0\" >closed_at</td>\n",
       "                        <td id=\"T_6b758_row0_col1\" class=\"data row0 col1\" >214325</td>\n",
       "                        <td id=\"T_6b758_row0_col2\" class=\"data row0 col2\" >98.416248</td>\n",
       "            </tr>\n",
       "            <tr>\n",
       "                        <th id=\"T_6b758_level0_row1\" class=\"row_heading level0 row1\" >22</th>\n",
       "                        <td id=\"T_6b758_row1_col0\" class=\"data row1 col0\" >funded_at_year</td>\n",
       "                        <td id=\"T_6b758_row1_col1\" class=\"data row1 col1\" >165094</td>\n",
       "                        <td id=\"T_6b758_row1_col2\" class=\"data row1 col2\" >75.809784</td>\n",
       "            </tr>\n",
       "            <tr>\n",
       "                        <th id=\"T_6b758_level0_row2\" class=\"row_heading level0 row2\" >15</th>\n",
       "                        <td id=\"T_6b758_row2_col0\" class=\"data row2 col0\" >funded_at</td>\n",
       "                        <td id=\"T_6b758_row2_col1\" class=\"data row2 col1\" >165094</td>\n",
       "                        <td id=\"T_6b758_row2_col2\" class=\"data row2 col2\" >75.809784</td>\n",
       "            </tr>\n",
       "            <tr>\n",
       "                        <th id=\"T_6b758_level0_row3\" class=\"row_heading level0 row3\" >16</th>\n",
       "                        <td id=\"T_6b758_row3_col0\" class=\"data row3 col0\" >funding_round_type</td>\n",
       "                        <td id=\"T_6b758_row3_col1\" class=\"data row3 col1\" >164846</td>\n",
       "                        <td id=\"T_6b758_row3_col2\" class=\"data row3 col2\" >75.695905</td>\n",
       "            </tr>\n",
       "            <tr>\n",
       "                        <th id=\"T_6b758_level0_row4\" class=\"row_heading level0 row4\" >21</th>\n",
       "                        <td id=\"T_6b758_row4_col0\" class=\"data row4 col0\" >is_last_round</td>\n",
       "                        <td id=\"T_6b758_row4_col1\" class=\"data row4 col1\" >164846</td>\n",
       "                        <td id=\"T_6b758_row4_col2\" class=\"data row4 col2\" >75.695905</td>\n",
       "            </tr>\n",
       "            <tr>\n",
       "                        <th id=\"T_6b758_level0_row5\" class=\"row_heading level0 row5\" >20</th>\n",
       "                        <td id=\"T_6b758_row5_col0\" class=\"data row5 col0\" >is_first_round</td>\n",
       "                        <td id=\"T_6b758_row5_col1\" class=\"data row5 col1\" >164846</td>\n",
       "                        <td id=\"T_6b758_row5_col2\" class=\"data row5 col2\" >75.695905</td>\n",
       "            </tr>\n",
       "            <tr>\n",
       "                        <th id=\"T_6b758_level0_row6\" class=\"row_heading level0 row6\" >19</th>\n",
       "                        <td id=\"T_6b758_row6_col0\" class=\"data row6 col0\" >participants</td>\n",
       "                        <td id=\"T_6b758_row6_col1\" class=\"data row6 col1\" >164846</td>\n",
       "                        <td id=\"T_6b758_row6_col2\" class=\"data row6 col2\" >75.695905</td>\n",
       "            </tr>\n",
       "            <tr>\n",
       "                        <th id=\"T_6b758_level0_row7\" class=\"row_heading level0 row7\" >18</th>\n",
       "                        <td id=\"T_6b758_row7_col0\" class=\"data row7 col0\" >pre_money_valuation</td>\n",
       "                        <td id=\"T_6b758_row7_col1\" class=\"data row7 col1\" >164846</td>\n",
       "                        <td id=\"T_6b758_row7_col2\" class=\"data row7 col2\" >75.695905</td>\n",
       "            </tr>\n",
       "            <tr>\n",
       "                        <th id=\"T_6b758_level0_row8\" class=\"row_heading level0 row8\" >17</th>\n",
       "                        <td id=\"T_6b758_row8_col0\" class=\"data row8 col0\" >raised_amount</td>\n",
       "                        <td id=\"T_6b758_row8_col1\" class=\"data row8 col1\" >164846</td>\n",
       "                        <td id=\"T_6b758_row8_col2\" class=\"data row8 col2\" >75.695905</td>\n",
       "            </tr>\n",
       "            <tr>\n",
       "                        <th id=\"T_6b758_level0_row9\" class=\"row_heading level0 row9\" >13</th>\n",
       "                        <td id=\"T_6b758_row9_col0\" class=\"data row9 col0\" >funding_round_id</td>\n",
       "                        <td id=\"T_6b758_row9_col1\" class=\"data row9 col1\" >164846</td>\n",
       "                        <td id=\"T_6b758_row9_col2\" class=\"data row9 col2\" >75.695905</td>\n",
       "            </tr>\n",
       "            <tr>\n",
       "                        <th id=\"T_6b758_level0_row10\" class=\"row_heading level0 row10\" >14</th>\n",
       "                        <td id=\"T_6b758_row10_col0\" class=\"data row10 col0\" >company_id</td>\n",
       "                        <td id=\"T_6b758_row10_col1\" class=\"data row10 col1\" >164846</td>\n",
       "                        <td id=\"T_6b758_row10_col2\" class=\"data row10 col2\" >75.695905</td>\n",
       "            </tr>\n",
       "            <tr>\n",
       "                        <th id=\"T_6b758_level0_row11\" class=\"row_heading level0 row11\" >7</th>\n",
       "                        <td id=\"T_6b758_row11_col0\" class=\"data row11 col0\" >network_username</td>\n",
       "                        <td id=\"T_6b758_row11_col1\" class=\"data row11 col1\" >122240</td>\n",
       "                        <td id=\"T_6b758_row11_col2\" class=\"data row11 col2\" >56.131586</td>\n",
       "            </tr>\n",
       "            <tr>\n",
       "                        <th id=\"T_6b758_level0_row12\" class=\"row_heading level0 row12\" >8</th>\n",
       "                        <td id=\"T_6b758_row12_col0\" class=\"data row12 col0\" >country_code</td>\n",
       "                        <td id=\"T_6b758_row12_col1\" class=\"data row12 col1\" >109167</td>\n",
       "                        <td id=\"T_6b758_row12_col2\" class=\"data row12 col2\" >50.128574</td>\n",
       "            </tr>\n",
       "            <tr>\n",
       "                        <th id=\"T_6b758_level0_row13\" class=\"row_heading level0 row13\" >4</th>\n",
       "                        <td id=\"T_6b758_row13_col0\" class=\"data row13 col0\" >founded_at</td>\n",
       "                        <td id=\"T_6b758_row13_col1\" class=\"data row13 col1\" >107818</td>\n",
       "                        <td id=\"T_6b758_row13_col2\" class=\"data row13 col2\" >49.509124</td>\n",
       "            </tr>\n",
       "            <tr>\n",
       "                        <th id=\"T_6b758_level0_row14\" class=\"row_heading level0 row14\" >2</th>\n",
       "                        <td id=\"T_6b758_row14_col0\" class=\"data row14 col0\" >category_code</td>\n",
       "                        <td id=\"T_6b758_row14_col1\" class=\"data row14 col1\" >73888</td>\n",
       "                        <td id=\"T_6b758_row14_col2\" class=\"data row14 col2\" >33.928752</td>\n",
       "            </tr>\n",
       "            <tr>\n",
       "                        <th id=\"T_6b758_level0_row15\" class=\"row_heading level0 row15\" >6</th>\n",
       "                        <td id=\"T_6b758_row15_col0\" class=\"data row15 col0\" >domain</td>\n",
       "                        <td id=\"T_6b758_row15_col1\" class=\"data row15 col1\" >70615</td>\n",
       "                        <td id=\"T_6b758_row15_col2\" class=\"data row15 col2\" >32.425818</td>\n",
       "            </tr>\n",
       "            <tr>\n",
       "                        <th id=\"T_6b758_level0_row16\" class=\"row_heading level0 row16\" >0</th>\n",
       "                        <td id=\"T_6b758_row16_col0\" class=\"data row16 col0\" >company_id</td>\n",
       "                        <td id=\"T_6b758_row16_col1\" class=\"data row16 col1\" >302</td>\n",
       "                        <td id=\"T_6b758_row16_col2\" class=\"data row16 col2\" >0.138676</td>\n",
       "            </tr>\n",
       "            <tr>\n",
       "                        <th id=\"T_6b758_level0_row17\" class=\"row_heading level0 row17\" >12</th>\n",
       "                        <td id=\"T_6b758_row17_col0\" class=\"data row17 col0\" >milestones</td>\n",
       "                        <td id=\"T_6b758_row17_col1\" class=\"data row17 col1\" >302</td>\n",
       "                        <td id=\"T_6b758_row17_col2\" class=\"data row17 col2\" >0.138676</td>\n",
       "            </tr>\n",
       "            <tr>\n",
       "                        <th id=\"T_6b758_level0_row18\" class=\"row_heading level0 row18\" >1</th>\n",
       "                        <td id=\"T_6b758_row18_col0\" class=\"data row18 col0\" >name</td>\n",
       "                        <td id=\"T_6b758_row18_col1\" class=\"data row18 col1\" >302</td>\n",
       "                        <td id=\"T_6b758_row18_col2\" class=\"data row18 col2\" >0.138676</td>\n",
       "            </tr>\n",
       "            <tr>\n",
       "                        <th id=\"T_6b758_level0_row19\" class=\"row_heading level0 row19\" >10</th>\n",
       "                        <td id=\"T_6b758_row19_col0\" class=\"data row19 col0\" >funding_rounds</td>\n",
       "                        <td id=\"T_6b758_row19_col1\" class=\"data row19 col1\" >302</td>\n",
       "                        <td id=\"T_6b758_row19_col2\" class=\"data row19 col2\" >0.138676</td>\n",
       "            </tr>\n",
       "            <tr>\n",
       "                        <th id=\"T_6b758_level0_row20\" class=\"row_heading level0 row20\" >9</th>\n",
       "                        <td id=\"T_6b758_row20_col0\" class=\"data row20 col0\" >investment_rounds</td>\n",
       "                        <td id=\"T_6b758_row20_col1\" class=\"data row20 col1\" >302</td>\n",
       "                        <td id=\"T_6b758_row20_col2\" class=\"data row20 col2\" >0.138676</td>\n",
       "            </tr>\n",
       "            <tr>\n",
       "                        <th id=\"T_6b758_level0_row21\" class=\"row_heading level0 row21\" >3</th>\n",
       "                        <td id=\"T_6b758_row21_col0\" class=\"data row21 col0\" >status</td>\n",
       "                        <td id=\"T_6b758_row21_col1\" class=\"data row21 col1\" >302</td>\n",
       "                        <td id=\"T_6b758_row21_col2\" class=\"data row21 col2\" >0.138676</td>\n",
       "            </tr>\n",
       "            <tr>\n",
       "                        <th id=\"T_6b758_level0_row22\" class=\"row_heading level0 row22\" >11</th>\n",
       "                        <td id=\"T_6b758_row22_col0\" class=\"data row22 col0\" >funding_total</td>\n",
       "                        <td id=\"T_6b758_row22_col1\" class=\"data row22 col1\" >302</td>\n",
       "                        <td id=\"T_6b758_row22_col2\" class=\"data row22 col2\" >0.138676</td>\n",
       "            </tr>\n",
       "    </tbody></table>"
      ],
      "text/plain": [
       "<pandas.io.formats.style.Styler at 0x7f0447da14c0>"
      ]
     },
     "metadata": {},
     "output_type": "display_data"
    }
   ],
   "source": [
    "# Выводим абсолютное и относительное количество пропусков в датафрейме company_and_rounds_df\n",
    "\n",
    "print('Количество пропусков в датафрейме company_and_rounds_df:')\n",
    "display(pd.DataFrame({'Кол-во пропусков': company_and_rounds_df.isna().sum(), \n",
    "               'Доля пропусков (в %)': company_and_rounds_df.isna().mean()*100}).reset_index()\n",
    "           .sort_values(by='Кол-во пропусков', ascending=False)\n",
    "           .style.background_gradient(cmap='coolwarm'))"
   ]
  },
  {
   "cell_type": "markdown",
   "metadata": {},
   "source": [
    "Стоит обратить внимание на то, что в данном датафрейме столбец `company_id` повторяется дважды. Поэтому нам необходимо удалить один из этих столбцов. Оставим тот столбец, в котором меньше пропусков"
   ]
  },
  {
   "cell_type": "code",
   "execution_count": 61,
   "metadata": {},
   "outputs": [
    {
     "name": "stdout",
     "output_type": "stream",
     "text": [
      "<class 'pandas.core.frame.DataFrame'>\n",
      "RangeIndex: 217774 entries, 0 to 217773\n",
      "Data columns (total 22 columns):\n",
      " #   Column               Non-Null Count   Dtype         \n",
      "---  ------               --------------   -----         \n",
      " 0   company_id           217472 non-null  float64       \n",
      " 1   name                 217472 non-null  object        \n",
      " 2   category_code        143886 non-null  object        \n",
      " 3   status               217472 non-null  object        \n",
      " 4   founded_at           109956 non-null  datetime64[ns]\n",
      " 5   closed_at            3449 non-null    datetime64[ns]\n",
      " 6   domain               147159 non-null  object        \n",
      " 7   network_username     95534 non-null   object        \n",
      " 8   country_code         108607 non-null  object        \n",
      " 9   investment_rounds    217472 non-null  float64       \n",
      " 10  funding_rounds       217472 non-null  float64       \n",
      " 11  funding_total        217472 non-null  float64       \n",
      " 12  milestones           217472 non-null  float64       \n",
      " 13  funding_round_id     52928 non-null   float64       \n",
      " 14  funded_at            52680 non-null   datetime64[ns]\n",
      " 15  funding_round_type   52928 non-null   object        \n",
      " 16  raised_amount        52928 non-null   float64       \n",
      " 17  pre_money_valuation  52928 non-null   float64       \n",
      " 18  participants         52928 non-null   float64       \n",
      " 19  is_first_round       52928 non-null   float64       \n",
      " 20  is_last_round        52928 non-null   float64       \n",
      " 21  funded_at_year       52680 non-null   float64       \n",
      "dtypes: datetime64[ns](3), float64(12), object(7)\n",
      "memory usage: 36.6+ MB\n"
     ]
    }
   ],
   "source": [
    "# Удаляем дублирующийся столбец и проверяем, что остался столбец с наименьшим количеством пропусков\n",
    "\n",
    "company_and_rounds_df_new = company_and_rounds_df.loc[:, ~company_and_rounds_df.columns.duplicated()]\n",
    "company_and_rounds_df_new.info()"
   ]
  },
  {
   "cell_type": "markdown",
   "metadata": {},
   "source": [
    "Дублирующийся столбец `company_id` - удалён"
   ]
  },
  {
   "cell_type": "markdown",
   "metadata": {},
   "source": [
    "Анализируя данный датафрейм, мы понимаем, что фактически у нас \"склеены\" две таблицы - данные по компаниям и данные по раундам финансирования\n",
    "\n",
    "Допустим, для анализа нам нужны только данные для компании. Поэтому нам понадобится таблица только с этими данными, без информации о раундах. Возможна и обратная ситуация: для анализа нам нужны только данные по раундам финансирования. Поэтому нам понадобится таблица только с этими данными, без информации о компаниях\n",
    "\n",
    "Поэтому лучше всего будет разделить нашу таблицу на две - таблица со столбцами про компании и таблица со столбцами о раундах финанасирования. Начнём с формирования отдельной таблицы по компаниям"
   ]
  },
  {
   "cell_type": "code",
   "execution_count": 62,
   "metadata": {},
   "outputs": [],
   "source": [
    "# Формируем отдельную таблицу по компаниям\n",
    "\n",
    "company_df = company_and_rounds_df_new[['company_id', 'name', 'category_code', 'status', \n",
    "                                        'founded_at', 'closed_at', 'domain', \n",
    "                                        'network_username', 'country_code', \n",
    "                                        'investment_rounds', 'funding_rounds', \n",
    "                                        'funding_total', 'milestones']]"
   ]
  },
  {
   "cell_type": "markdown",
   "metadata": {},
   "source": [
    "Отдельная таблица по компаниям будет называться `company_df`. В этой таблице произведём удаление дубликатов записей"
   ]
  },
  {
   "cell_type": "code",
   "execution_count": 63,
   "metadata": {},
   "outputs": [],
   "source": [
    "# Удаляем дубликаты записей\n",
    "\n",
    "company_df = company_df.drop_duplicates(subset=['company_id', 'name', 'category_code', 'status', \n",
    "                             'founded_at', 'closed_at', 'domain', \n",
    "                             'network_username', 'country_code', 'investment_rounds', 'funding_rounds', \n",
    "                            'funding_total', 'milestones'], keep='first')"
   ]
  },
  {
   "cell_type": "markdown",
   "metadata": {},
   "source": [
    "Далее приступаем к формированию таблицы по раундам финансирования"
   ]
  },
  {
   "cell_type": "code",
   "execution_count": 64,
   "metadata": {},
   "outputs": [],
   "source": [
    "# Формируем отдельную таблицу по раундам финансирования\n",
    "\n",
    "rounds_df = company_and_rounds_df_new[['company_id', 'raised_amount', 'funding_round_id', \n",
    "                            'funded_at', 'funding_round_type', 'pre_money_valuation', \n",
    "                            'participants', 'is_first_round', \n",
    "                            'is_last_round', 'funded_at_year']]"
   ]
  },
  {
   "cell_type": "markdown",
   "metadata": {},
   "source": [
    "Отдельная таблица по раундам финансирования будет называться `rounds_df`. Изучим пропуски по столбцу с раундами финансирования `funding_round_type` в данной таблице"
   ]
  },
  {
   "cell_type": "code",
   "execution_count": 65,
   "metadata": {},
   "outputs": [
    {
     "data": {
      "text/html": [
       "<div>\n",
       "<style scoped>\n",
       "    .dataframe tbody tr th:only-of-type {\n",
       "        vertical-align: middle;\n",
       "    }\n",
       "\n",
       "    .dataframe tbody tr th {\n",
       "        vertical-align: top;\n",
       "    }\n",
       "\n",
       "    .dataframe thead th {\n",
       "        text-align: right;\n",
       "    }\n",
       "</style>\n",
       "<table border=\"1\" class=\"dataframe\">\n",
       "  <thead>\n",
       "    <tr style=\"text-align: right;\">\n",
       "      <th></th>\n",
       "      <th>company_id</th>\n",
       "      <th>raised_amount</th>\n",
       "      <th>funding_round_id</th>\n",
       "      <th>funded_at</th>\n",
       "      <th>funding_round_type</th>\n",
       "      <th>pre_money_valuation</th>\n",
       "      <th>participants</th>\n",
       "      <th>is_first_round</th>\n",
       "      <th>is_last_round</th>\n",
       "      <th>funded_at_year</th>\n",
       "    </tr>\n",
       "  </thead>\n",
       "  <tbody>\n",
       "    <tr>\n",
       "      <th>3</th>\n",
       "      <td>10.0</td>\n",
       "      <td>NaN</td>\n",
       "      <td>NaN</td>\n",
       "      <td>NaT</td>\n",
       "      <td>NaN</td>\n",
       "      <td>NaN</td>\n",
       "      <td>NaN</td>\n",
       "      <td>NaN</td>\n",
       "      <td>NaN</td>\n",
       "      <td>NaN</td>\n",
       "    </tr>\n",
       "    <tr>\n",
       "      <th>4</th>\n",
       "      <td>100.0</td>\n",
       "      <td>NaN</td>\n",
       "      <td>NaN</td>\n",
       "      <td>NaT</td>\n",
       "      <td>NaN</td>\n",
       "      <td>NaN</td>\n",
       "      <td>NaN</td>\n",
       "      <td>NaN</td>\n",
       "      <td>NaN</td>\n",
       "      <td>NaN</td>\n",
       "    </tr>\n",
       "    <tr>\n",
       "      <th>5</th>\n",
       "      <td>10000.0</td>\n",
       "      <td>NaN</td>\n",
       "      <td>NaN</td>\n",
       "      <td>NaT</td>\n",
       "      <td>NaN</td>\n",
       "      <td>NaN</td>\n",
       "      <td>NaN</td>\n",
       "      <td>NaN</td>\n",
       "      <td>NaN</td>\n",
       "      <td>NaN</td>\n",
       "    </tr>\n",
       "    <tr>\n",
       "      <th>6</th>\n",
       "      <td>10001.0</td>\n",
       "      <td>NaN</td>\n",
       "      <td>NaN</td>\n",
       "      <td>NaT</td>\n",
       "      <td>NaN</td>\n",
       "      <td>NaN</td>\n",
       "      <td>NaN</td>\n",
       "      <td>NaN</td>\n",
       "      <td>NaN</td>\n",
       "      <td>NaN</td>\n",
       "    </tr>\n",
       "    <tr>\n",
       "      <th>7</th>\n",
       "      <td>10002.0</td>\n",
       "      <td>NaN</td>\n",
       "      <td>NaN</td>\n",
       "      <td>NaT</td>\n",
       "      <td>NaN</td>\n",
       "      <td>NaN</td>\n",
       "      <td>NaN</td>\n",
       "      <td>NaN</td>\n",
       "      <td>NaN</td>\n",
       "      <td>NaN</td>\n",
       "    </tr>\n",
       "  </tbody>\n",
       "</table>\n",
       "</div>"
      ],
      "text/plain": [
       "   company_id  raised_amount  funding_round_id funded_at funding_round_type  \\\n",
       "3        10.0            NaN               NaN       NaT                NaN   \n",
       "4       100.0            NaN               NaN       NaT                NaN   \n",
       "5     10000.0            NaN               NaN       NaT                NaN   \n",
       "6     10001.0            NaN               NaN       NaT                NaN   \n",
       "7     10002.0            NaN               NaN       NaT                NaN   \n",
       "\n",
       "   pre_money_valuation  participants  is_first_round  is_last_round  \\\n",
       "3                  NaN           NaN             NaN            NaN   \n",
       "4                  NaN           NaN             NaN            NaN   \n",
       "5                  NaN           NaN             NaN            NaN   \n",
       "6                  NaN           NaN             NaN            NaN   \n",
       "7                  NaN           NaN             NaN            NaN   \n",
       "\n",
       "   funded_at_year  \n",
       "3             NaN  \n",
       "4             NaN  \n",
       "5             NaN  \n",
       "6             NaN  \n",
       "7             NaN  "
      ]
     },
     "metadata": {},
     "output_type": "display_data"
    }
   ],
   "source": [
    "# Выводим имеющиеся пропуски\n",
    "\n",
    "display(rounds_df[rounds_df['funding_round_type'].isna()].head()) "
   ]
  },
  {
   "cell_type": "markdown",
   "metadata": {},
   "source": [
    "Всего 5 записей (меньше 1% от общего объёма данных) - поэтому удаляем эти строки из данной таблицы"
   ]
  },
  {
   "cell_type": "code",
   "execution_count": 66,
   "metadata": {},
   "outputs": [],
   "source": [
    "# Удаляем пропуски\n",
    "\n",
    "rounds_df = rounds_df.dropna(subset=['funding_round_type'])"
   ]
  },
  {
   "cell_type": "markdown",
   "metadata": {},
   "source": [
    "Для наглядности выведём общую информацию о двух новых таблицах - `df_company` и `df_rounds`, и первые их строки"
   ]
  },
  {
   "cell_type": "code",
   "execution_count": 67,
   "metadata": {},
   "outputs": [
    {
     "name": "stdout",
     "output_type": "stream",
     "text": [
      "<class 'pandas.core.frame.DataFrame'>\n",
      "Int64Index: 196554 entries, 0 to 217472\n",
      "Data columns (total 13 columns):\n",
      " #   Column             Non-Null Count   Dtype         \n",
      "---  ------             --------------   -----         \n",
      " 0   company_id         196553 non-null  float64       \n",
      " 1   name               196553 non-null  object        \n",
      " 2   category_code      123186 non-null  object        \n",
      " 3   status             196553 non-null  object        \n",
      " 4   founded_at         91227 non-null   datetime64[ns]\n",
      " 5   closed_at          2620 non-null    datetime64[ns]\n",
      " 6   domain             126545 non-null  object        \n",
      " 7   network_username   80591 non-null   object        \n",
      " 8   country_code       87990 non-null   object        \n",
      " 9   investment_rounds  196553 non-null  float64       \n",
      " 10  funding_rounds     196553 non-null  float64       \n",
      " 11  funding_total      196553 non-null  float64       \n",
      " 12  milestones         196553 non-null  float64       \n",
      "dtypes: datetime64[ns](2), float64(5), object(6)\n",
      "memory usage: 21.0+ MB\n"
     ]
    }
   ],
   "source": [
    "# Выводим информацию о датафрейме company_df\n",
    "\n",
    "company_df.info()"
   ]
  },
  {
   "cell_type": "code",
   "execution_count": 68,
   "metadata": {},
   "outputs": [
    {
     "data": {
      "text/html": [
       "<div>\n",
       "<style scoped>\n",
       "    .dataframe tbody tr th:only-of-type {\n",
       "        vertical-align: middle;\n",
       "    }\n",
       "\n",
       "    .dataframe tbody tr th {\n",
       "        vertical-align: top;\n",
       "    }\n",
       "\n",
       "    .dataframe thead th {\n",
       "        text-align: right;\n",
       "    }\n",
       "</style>\n",
       "<table border=\"1\" class=\"dataframe\">\n",
       "  <thead>\n",
       "    <tr style=\"text-align: right;\">\n",
       "      <th></th>\n",
       "      <th>company_id</th>\n",
       "      <th>name</th>\n",
       "      <th>category_code</th>\n",
       "      <th>status</th>\n",
       "      <th>founded_at</th>\n",
       "      <th>closed_at</th>\n",
       "      <th>domain</th>\n",
       "      <th>network_username</th>\n",
       "      <th>country_code</th>\n",
       "      <th>investment_rounds</th>\n",
       "      <th>funding_rounds</th>\n",
       "      <th>funding_total</th>\n",
       "      <th>milestones</th>\n",
       "    </tr>\n",
       "  </thead>\n",
       "  <tbody>\n",
       "    <tr>\n",
       "      <th>0</th>\n",
       "      <td>1.0</td>\n",
       "      <td>wetpaint</td>\n",
       "      <td>web</td>\n",
       "      <td>operating</td>\n",
       "      <td>2005-10-17</td>\n",
       "      <td>NaT</td>\n",
       "      <td>wetpaint-inc.com</td>\n",
       "      <td>bachelrwetpaint</td>\n",
       "      <td>USA</td>\n",
       "      <td>0.0</td>\n",
       "      <td>3.0</td>\n",
       "      <td>39750000.0</td>\n",
       "      <td>5.0</td>\n",
       "    </tr>\n",
       "    <tr>\n",
       "      <th>3</th>\n",
       "      <td>10.0</td>\n",
       "      <td>flektor</td>\n",
       "      <td>games_video</td>\n",
       "      <td>acquired</td>\n",
       "      <td>NaT</td>\n",
       "      <td>NaT</td>\n",
       "      <td>flektor.com</td>\n",
       "      <td>NaN</td>\n",
       "      <td>USA</td>\n",
       "      <td>0.0</td>\n",
       "      <td>0.0</td>\n",
       "      <td>0.0</td>\n",
       "      <td>0.0</td>\n",
       "    </tr>\n",
       "    <tr>\n",
       "      <th>4</th>\n",
       "      <td>100.0</td>\n",
       "      <td>there</td>\n",
       "      <td>games_video</td>\n",
       "      <td>acquired</td>\n",
       "      <td>NaT</td>\n",
       "      <td>NaT</td>\n",
       "      <td>there.com</td>\n",
       "      <td>NaN</td>\n",
       "      <td>USA</td>\n",
       "      <td>0.0</td>\n",
       "      <td>0.0</td>\n",
       "      <td>0.0</td>\n",
       "      <td>4.0</td>\n",
       "    </tr>\n",
       "    <tr>\n",
       "      <th>5</th>\n",
       "      <td>10000.0</td>\n",
       "      <td>mywebbo</td>\n",
       "      <td>network_hosting</td>\n",
       "      <td>operating</td>\n",
       "      <td>2008-07-26</td>\n",
       "      <td>NaT</td>\n",
       "      <td>mywebbo.com</td>\n",
       "      <td>NaN</td>\n",
       "      <td>NaN</td>\n",
       "      <td>0.0</td>\n",
       "      <td>0.0</td>\n",
       "      <td>0.0</td>\n",
       "      <td>0.0</td>\n",
       "    </tr>\n",
       "    <tr>\n",
       "      <th>6</th>\n",
       "      <td>10001.0</td>\n",
       "      <td>the movie streamer</td>\n",
       "      <td>games_video</td>\n",
       "      <td>operating</td>\n",
       "      <td>2008-07-26</td>\n",
       "      <td>NaT</td>\n",
       "      <td>themoviestreamer.com</td>\n",
       "      <td>NaN</td>\n",
       "      <td>NaN</td>\n",
       "      <td>0.0</td>\n",
       "      <td>0.0</td>\n",
       "      <td>0.0</td>\n",
       "      <td>0.0</td>\n",
       "    </tr>\n",
       "  </tbody>\n",
       "</table>\n",
       "</div>"
      ],
      "text/plain": [
       "   company_id                name    category_code     status founded_at  \\\n",
       "0         1.0            wetpaint              web  operating 2005-10-17   \n",
       "3        10.0             flektor      games_video   acquired        NaT   \n",
       "4       100.0               there      games_video   acquired        NaT   \n",
       "5     10000.0             mywebbo  network_hosting  operating 2008-07-26   \n",
       "6     10001.0  the movie streamer      games_video  operating 2008-07-26   \n",
       "\n",
       "  closed_at                domain network_username country_code  \\\n",
       "0       NaT      wetpaint-inc.com  bachelrwetpaint          USA   \n",
       "3       NaT           flektor.com              NaN          USA   \n",
       "4       NaT             there.com              NaN          USA   \n",
       "5       NaT           mywebbo.com              NaN          NaN   \n",
       "6       NaT  themoviestreamer.com              NaN          NaN   \n",
       "\n",
       "   investment_rounds  funding_rounds  funding_total  milestones  \n",
       "0                0.0             3.0     39750000.0         5.0  \n",
       "3                0.0             0.0            0.0         0.0  \n",
       "4                0.0             0.0            0.0         4.0  \n",
       "5                0.0             0.0            0.0         0.0  \n",
       "6                0.0             0.0            0.0         0.0  "
      ]
     },
     "execution_count": 68,
     "metadata": {},
     "output_type": "execute_result"
    }
   ],
   "source": [
    "# Выводим первые строки датафрейма company_df на экран\n",
    "\n",
    "company_df.head()"
   ]
  },
  {
   "cell_type": "code",
   "execution_count": 69,
   "metadata": {},
   "outputs": [
    {
     "name": "stdout",
     "output_type": "stream",
     "text": [
      "<class 'pandas.core.frame.DataFrame'>\n",
      "Int64Index: 52928 entries, 0 to 217773\n",
      "Data columns (total 10 columns):\n",
      " #   Column               Non-Null Count  Dtype         \n",
      "---  ------               --------------  -----         \n",
      " 0   company_id           52626 non-null  float64       \n",
      " 1   raised_amount        52928 non-null  float64       \n",
      " 2   funding_round_id     52928 non-null  float64       \n",
      " 3   funded_at            52680 non-null  datetime64[ns]\n",
      " 4   funding_round_type   52928 non-null  object        \n",
      " 5   pre_money_valuation  52928 non-null  float64       \n",
      " 6   participants         52928 non-null  float64       \n",
      " 7   is_first_round       52928 non-null  float64       \n",
      " 8   is_last_round        52928 non-null  float64       \n",
      " 9   funded_at_year       52680 non-null  float64       \n",
      "dtypes: datetime64[ns](1), float64(8), object(1)\n",
      "memory usage: 4.4+ MB\n"
     ]
    }
   ],
   "source": [
    "# Выводим информацию о датафрейме rounds_df\n",
    "\n",
    "rounds_df.info()"
   ]
  },
  {
   "cell_type": "code",
   "execution_count": 70,
   "metadata": {},
   "outputs": [
    {
     "data": {
      "text/html": [
       "<div>\n",
       "<style scoped>\n",
       "    .dataframe tbody tr th:only-of-type {\n",
       "        vertical-align: middle;\n",
       "    }\n",
       "\n",
       "    .dataframe tbody tr th {\n",
       "        vertical-align: top;\n",
       "    }\n",
       "\n",
       "    .dataframe thead th {\n",
       "        text-align: right;\n",
       "    }\n",
       "</style>\n",
       "<table border=\"1\" class=\"dataframe\">\n",
       "  <thead>\n",
       "    <tr style=\"text-align: right;\">\n",
       "      <th></th>\n",
       "      <th>company_id</th>\n",
       "      <th>raised_amount</th>\n",
       "      <th>funding_round_id</th>\n",
       "      <th>funded_at</th>\n",
       "      <th>funding_round_type</th>\n",
       "      <th>pre_money_valuation</th>\n",
       "      <th>participants</th>\n",
       "      <th>is_first_round</th>\n",
       "      <th>is_last_round</th>\n",
       "      <th>funded_at_year</th>\n",
       "    </tr>\n",
       "  </thead>\n",
       "  <tbody>\n",
       "    <tr>\n",
       "      <th>0</th>\n",
       "      <td>1.0</td>\n",
       "      <td>5250000.0</td>\n",
       "      <td>888.0</td>\n",
       "      <td>2005-10-01</td>\n",
       "      <td>series-a</td>\n",
       "      <td>0.0</td>\n",
       "      <td>2.0</td>\n",
       "      <td>0.0</td>\n",
       "      <td>1.0</td>\n",
       "      <td>2005.0</td>\n",
       "    </tr>\n",
       "    <tr>\n",
       "      <th>1</th>\n",
       "      <td>1.0</td>\n",
       "      <td>9500000.0</td>\n",
       "      <td>889.0</td>\n",
       "      <td>2007-01-01</td>\n",
       "      <td>series-b</td>\n",
       "      <td>0.0</td>\n",
       "      <td>3.0</td>\n",
       "      <td>0.0</td>\n",
       "      <td>0.0</td>\n",
       "      <td>2007.0</td>\n",
       "    </tr>\n",
       "    <tr>\n",
       "      <th>2</th>\n",
       "      <td>1.0</td>\n",
       "      <td>25000000.0</td>\n",
       "      <td>2312.0</td>\n",
       "      <td>2008-05-19</td>\n",
       "      <td>series-c+</td>\n",
       "      <td>0.0</td>\n",
       "      <td>4.0</td>\n",
       "      <td>1.0</td>\n",
       "      <td>0.0</td>\n",
       "      <td>2008.0</td>\n",
       "    </tr>\n",
       "    <tr>\n",
       "      <th>15</th>\n",
       "      <td>1001.0</td>\n",
       "      <td>5000000.0</td>\n",
       "      <td>1644.0</td>\n",
       "      <td>2008-02-26</td>\n",
       "      <td>series-a</td>\n",
       "      <td>0.0</td>\n",
       "      <td>3.0</td>\n",
       "      <td>1.0</td>\n",
       "      <td>1.0</td>\n",
       "      <td>2008.0</td>\n",
       "    </tr>\n",
       "    <tr>\n",
       "      <th>20</th>\n",
       "      <td>10014.0</td>\n",
       "      <td>0.0</td>\n",
       "      <td>6682.0</td>\n",
       "      <td>2008-09-01</td>\n",
       "      <td>angel</td>\n",
       "      <td>0.0</td>\n",
       "      <td>1.0</td>\n",
       "      <td>1.0</td>\n",
       "      <td>1.0</td>\n",
       "      <td>2008.0</td>\n",
       "    </tr>\n",
       "  </tbody>\n",
       "</table>\n",
       "</div>"
      ],
      "text/plain": [
       "    company_id  raised_amount  funding_round_id  funded_at funding_round_type  \\\n",
       "0          1.0      5250000.0             888.0 2005-10-01           series-a   \n",
       "1          1.0      9500000.0             889.0 2007-01-01           series-b   \n",
       "2          1.0     25000000.0            2312.0 2008-05-19          series-c+   \n",
       "15      1001.0      5000000.0            1644.0 2008-02-26           series-a   \n",
       "20     10014.0            0.0            6682.0 2008-09-01              angel   \n",
       "\n",
       "    pre_money_valuation  participants  is_first_round  is_last_round  \\\n",
       "0                   0.0           2.0             0.0            1.0   \n",
       "1                   0.0           3.0             0.0            0.0   \n",
       "2                   0.0           4.0             1.0            0.0   \n",
       "15                  0.0           3.0             1.0            1.0   \n",
       "20                  0.0           1.0             1.0            1.0   \n",
       "\n",
       "    funded_at_year  \n",
       "0           2005.0  \n",
       "1           2007.0  \n",
       "2           2008.0  \n",
       "15          2008.0  \n",
       "20          2008.0  "
      ]
     },
     "execution_count": 70,
     "metadata": {},
     "output_type": "execute_result"
    }
   ],
   "source": [
    "# Выводим первые строки датафрейма rounds_df на экран\n",
    "\n",
    "rounds_df.head()"
   ]
  },
  {
   "cell_type": "markdown",
   "metadata": {},
   "source": [
    "На этом обработка датафрейма `company_and_rounds_df` - завершена. Результаты преобразований сохранены в два новых датафрейма - \n",
    "`company_df` и `rounds_df`. \n",
    "\n",
    "Датафрейм `company_df` содержит 13 столбцов и 196554 строки, в которых представлена информация о компаниях. \n",
    "\n",
    "- 6 столбцов обладают типом данных `object` (строковые данные):\n",
    "    - `name`\n",
    "    - `category_code`\n",
    "    - `status`\n",
    "    - `domain`\n",
    "    - `network_username`\n",
    "    - `country_code`\n",
    "- 5 столбцов обладают типом данных `float64` (числовое значение с плавающей точкой):\n",
    "    - `company_id`         \n",
    "    - `investment_rounds` \n",
    "    - `funding_rounds`  \n",
    "    - `funding_total`    \n",
    "    - `milestones`        \n",
    "- 2 столбца обладают типом данных `datetime64` (информация о дате и времени):\n",
    "    - `founded_at`   \n",
    "    - `closed_at`          \n",
    "\n",
    "Датафрейм `rounds_df` содержит 10 столбцов и 52928 строк, в которых представлена информация о раундах финансирования.\n",
    "\n",
    "- 8 столбцов обладают типом данных `float64` (числовое значение с плавающей точкой):\n",
    "    - `company_id`         \n",
    "    - `raised_amount` \n",
    "    - `funding_round_id`  \n",
    "    - `pre_money_valuation`    \n",
    "    - `participants`   \n",
    "    - `is_first_round`\n",
    "    - `is_last_round`\n",
    "    - `funded_at_year`\n",
    "- 1 столбец обладают типом данных `datetime64` (информация о дате и времени):\n",
    "    - `funded_at`             \n",
    "- 1 столбец обладает типом данных `object` (строковые данные):\n",
    "    - `funding_round_type`   \n",
    "\n",
    "Детальная обработка датафрейма `company_and_rounds_df` включала в себя:\n",
    "\n",
    "- Удаление дублирующихся столбцов\n",
    "- Разделение датафрейма `company_and_rounds_df` на два отдельных датафрейма - `company_df` и `rounds_df`\n",
    "- Удаление оставшихся дубликатов записей\n",
    "- Удаление имеющихся пропусков\n",
    "\n",
    "Удаление остальных дубликатов, приведение названий столбцов и значений в строках к единому стилю написания и преобразование типов данных были произведены на этапе первичной предобработки данных на `Шаг 1. Знакомство с данными: загрузка и первичная предобработка`\n",
    "\n",
    "Таким образом, мы привели данные в вид, который позволит в дальнейшем проводить анализ в разрезе отдельных компаний. Это обеспечит удобный отбор компаний по параметрам и расчёт показателей из расчёта на одну компанию без промежуточных агрегаций"
   ]
  },
  {
   "cell_type": "markdown",
   "metadata": {
    "id": "bmVYhphNrJg2"
   },
   "source": [
    "\n",
    "## Шаг 3. Исследовательский анализ объединённых таблиц"
   ]
  },
  {
   "cell_type": "markdown",
   "metadata": {
    "id": "3Di6tCT3rJg2"
   },
   "source": [
    "\n",
    "### 3.1. Объединение данных"
   ]
  },
  {
   "cell_type": "markdown",
   "metadata": {},
   "source": [
    "Для выполнения данного задания нам необходимо обратиться к новой таблице `company_df` и сделать по ней срез данных, исходя из следующего условия:\n",
    "\n",
    "- число раундов финансирования (`funding_rounds`) > 0 ИЛИ число инвестиционных раундов (`investment_rounds`) > 0 ИЛИ статус компании (`status`) = acquired (приобретенный)\n",
    "\n",
    "Для создания среда данных образуем новый датафрейм `company_df_new`"
   ]
  },
  {
   "cell_type": "code",
   "execution_count": 71,
   "metadata": {
    "id": "vJZ4mO2Un1yt"
   },
   "outputs": [
    {
     "name": "stdout",
     "output_type": "stream",
     "text": [
      "<class 'pandas.core.frame.DataFrame'>\n",
      "Int64Index: 40747 entries, 0 to 217469\n",
      "Data columns (total 13 columns):\n",
      " #   Column             Non-Null Count  Dtype         \n",
      "---  ------             --------------  -----         \n",
      " 0   company_id         40747 non-null  float64       \n",
      " 1   name               40747 non-null  object        \n",
      " 2   category_code      35315 non-null  object        \n",
      " 3   status             40747 non-null  object        \n",
      " 4   founded_at         27807 non-null  datetime64[ns]\n",
      " 5   closed_at          2128 non-null   datetime64[ns]\n",
      " 6   domain             35754 non-null  object        \n",
      " 7   network_username   20850 non-null  object        \n",
      " 8   country_code       34742 non-null  object        \n",
      " 9   investment_rounds  40747 non-null  float64       \n",
      " 10  funding_rounds     40747 non-null  float64       \n",
      " 11  funding_total      40747 non-null  float64       \n",
      " 12  milestones         40747 non-null  float64       \n",
      "dtypes: datetime64[ns](2), float64(5), object(6)\n",
      "memory usage: 4.4+ MB\n"
     ]
    },
    {
     "data": {
      "text/plain": [
       "None"
      ]
     },
     "metadata": {},
     "output_type": "display_data"
    },
    {
     "data": {
      "text/html": [
       "<div>\n",
       "<style scoped>\n",
       "    .dataframe tbody tr th:only-of-type {\n",
       "        vertical-align: middle;\n",
       "    }\n",
       "\n",
       "    .dataframe tbody tr th {\n",
       "        vertical-align: top;\n",
       "    }\n",
       "\n",
       "    .dataframe thead th {\n",
       "        text-align: right;\n",
       "    }\n",
       "</style>\n",
       "<table border=\"1\" class=\"dataframe\">\n",
       "  <thead>\n",
       "    <tr style=\"text-align: right;\">\n",
       "      <th></th>\n",
       "      <th>company_id</th>\n",
       "      <th>name</th>\n",
       "      <th>category_code</th>\n",
       "      <th>status</th>\n",
       "      <th>founded_at</th>\n",
       "      <th>closed_at</th>\n",
       "      <th>domain</th>\n",
       "      <th>network_username</th>\n",
       "      <th>country_code</th>\n",
       "      <th>investment_rounds</th>\n",
       "      <th>funding_rounds</th>\n",
       "      <th>funding_total</th>\n",
       "      <th>milestones</th>\n",
       "    </tr>\n",
       "  </thead>\n",
       "  <tbody>\n",
       "    <tr>\n",
       "      <th>0</th>\n",
       "      <td>1.0</td>\n",
       "      <td>wetpaint</td>\n",
       "      <td>web</td>\n",
       "      <td>operating</td>\n",
       "      <td>2005-10-17</td>\n",
       "      <td>NaT</td>\n",
       "      <td>wetpaint-inc.com</td>\n",
       "      <td>bachelrwetpaint</td>\n",
       "      <td>USA</td>\n",
       "      <td>0.0</td>\n",
       "      <td>3.0</td>\n",
       "      <td>39750000.0</td>\n",
       "      <td>5.0</td>\n",
       "    </tr>\n",
       "    <tr>\n",
       "      <th>3</th>\n",
       "      <td>10.0</td>\n",
       "      <td>flektor</td>\n",
       "      <td>games_video</td>\n",
       "      <td>acquired</td>\n",
       "      <td>NaT</td>\n",
       "      <td>NaT</td>\n",
       "      <td>flektor.com</td>\n",
       "      <td>NaN</td>\n",
       "      <td>USA</td>\n",
       "      <td>0.0</td>\n",
       "      <td>0.0</td>\n",
       "      <td>0.0</td>\n",
       "      <td>0.0</td>\n",
       "    </tr>\n",
       "    <tr>\n",
       "      <th>4</th>\n",
       "      <td>100.0</td>\n",
       "      <td>there</td>\n",
       "      <td>games_video</td>\n",
       "      <td>acquired</td>\n",
       "      <td>NaT</td>\n",
       "      <td>NaT</td>\n",
       "      <td>there.com</td>\n",
       "      <td>NaN</td>\n",
       "      <td>USA</td>\n",
       "      <td>0.0</td>\n",
       "      <td>0.0</td>\n",
       "      <td>0.0</td>\n",
       "      <td>4.0</td>\n",
       "    </tr>\n",
       "    <tr>\n",
       "      <th>15</th>\n",
       "      <td>1001.0</td>\n",
       "      <td>friendfeed</td>\n",
       "      <td>web</td>\n",
       "      <td>acquired</td>\n",
       "      <td>2007-10-01</td>\n",
       "      <td>NaT</td>\n",
       "      <td>friendfeed.com</td>\n",
       "      <td>friendfeed</td>\n",
       "      <td>USA</td>\n",
       "      <td>0.0</td>\n",
       "      <td>1.0</td>\n",
       "      <td>5000000.0</td>\n",
       "      <td>3.0</td>\n",
       "    </tr>\n",
       "    <tr>\n",
       "      <th>20</th>\n",
       "      <td>10014.0</td>\n",
       "      <td>mobclix</td>\n",
       "      <td>mobile</td>\n",
       "      <td>acquired</td>\n",
       "      <td>2008-03-01</td>\n",
       "      <td>NaT</td>\n",
       "      <td>mobclix.com</td>\n",
       "      <td>mobclix</td>\n",
       "      <td>USA</td>\n",
       "      <td>0.0</td>\n",
       "      <td>1.0</td>\n",
       "      <td>0.0</td>\n",
       "      <td>4.0</td>\n",
       "    </tr>\n",
       "  </tbody>\n",
       "</table>\n",
       "</div>"
      ],
      "text/plain": [
       "    company_id        name category_code     status founded_at closed_at  \\\n",
       "0          1.0    wetpaint           web  operating 2005-10-17       NaT   \n",
       "3         10.0     flektor   games_video   acquired        NaT       NaT   \n",
       "4        100.0       there   games_video   acquired        NaT       NaT   \n",
       "15      1001.0  friendfeed           web   acquired 2007-10-01       NaT   \n",
       "20     10014.0     mobclix        mobile   acquired 2008-03-01       NaT   \n",
       "\n",
       "              domain network_username country_code  investment_rounds  \\\n",
       "0   wetpaint-inc.com  bachelrwetpaint          USA                0.0   \n",
       "3        flektor.com              NaN          USA                0.0   \n",
       "4          there.com              NaN          USA                0.0   \n",
       "15    friendfeed.com       friendfeed          USA                0.0   \n",
       "20       mobclix.com          mobclix          USA                0.0   \n",
       "\n",
       "    funding_rounds  funding_total  milestones  \n",
       "0              3.0     39750000.0         5.0  \n",
       "3              0.0            0.0         0.0  \n",
       "4              0.0            0.0         4.0  \n",
       "15             1.0      5000000.0         3.0  \n",
       "20             1.0            0.0         4.0  "
      ]
     },
     "metadata": {},
     "output_type": "display_data"
    }
   ],
   "source": [
    "# Образуем срез данных\n",
    "\n",
    "company_df_new = company_df.loc[(company_df['funding_rounds'] > 0) | (company_df['investment_rounds'] > 0) | (company_df['status'] == 'acquired')]\n",
    "display(company_df_new.info())\n",
    "display(company_df_new.head())"
   ]
  },
  {
   "cell_type": "markdown",
   "metadata": {},
   "source": [
    "Таким образом, мы получаем новый датафрейм `company_df_new`, который является срезом данных, образованным по условиям данного задания. Он содержит 13 столбцов и 40747 строк. Напомним, что количество строк уменьшилось из-за того, что в новом датафрейме не учитывались компании, у которых количество раундов финансирования или инвестиционных раундов равно 0, а также не учитывались компании, у которых статус не принимает значение acquired (приобретенный)"
   ]
  },
  {
   "cell_type": "markdown",
   "metadata": {
    "id": "DFHINkV3rJg2"
   },
   "source": [
    "\n",
    "### 3.2. Анализ выбросов"
   ]
  },
  {
   "cell_type": "markdown",
   "metadata": {},
   "source": [
    "Для того чтобы понять, какой размер общего финансирования для одной компании будет типичным, а какой — выбивающимся, необходимо построить диаграмму размаха и описательную статистику по столбцу `funding_total`. Тогда мы сможем определить - какие значения являются более распространёнными, а какие значения можно отнести к выбросам и аномалиям"
   ]
  },
  {
   "cell_type": "code",
   "execution_count": 72,
   "metadata": {
    "id": "dIWqyEomn2MU"
   },
   "outputs": [
    {
     "data": {
      "image/png": "[encoded data removed]",
      "text/plain": [
       "<Figure size 1440x432 with 1 Axes>"
      ]
     },
     "metadata": {
      "needs_background": "light"
     },
     "output_type": "display_data"
    }
   ],
   "source": [
    "# Построим график диаграммы размаха\n",
    "\n",
    "plt.figure(figsize=(20, 6))\n",
    "\n",
    "company_df_new.boxplot(column = 'funding_total', vert = False)\n",
    "\n",
    "plt.title('Распределение сумм финансирования')\n",
    "plt.xlabel('Сумма финансирования')\n",
    "plt.ticklabel_format(style='plain', axis='x')\n",
    "\n",
    "plt.show()"
   ]
  },
  {
   "cell_type": "markdown",
   "metadata": {},
   "source": [
    "По данной диаграмме размаха, мы не можем увидеть, где сосредоточено большее количество значений из-за имеющихся выбросов. Вдобавок к этому, мы не можем точно увидеть минимумы и максимумы без учёта аномалий, нижний и верхний квартили, а также медианное значение. Поэтому с помощью `showfliers = False` убёрём имеющиеся выбросы"
   ]
  },
  {
   "cell_type": "code",
   "execution_count": 73,
   "metadata": {},
   "outputs": [
    {
     "data": {
      "image/png": "[encoded data removed]",
      "text/plain": [
       "<Figure size 1440x432 with 1 Axes>"
      ]
     },
     "metadata": {
      "needs_background": "light"
     },
     "output_type": "display_data"
    },
    {
     "name": "stdout",
     "output_type": "stream",
     "text": [
      "\n"
     ]
    },
    {
     "data": {
      "text/plain": [
       "count        40747.000000\n",
       "mean      10135609.636734\n",
       "std       56464359.977256\n",
       "min              0.000000\n",
       "25%              0.000000\n",
       "50%         600000.000000\n",
       "75%        5650650.000000\n",
       "80%        8749416.000000\n",
       "85%       13227320.000000\n",
       "90%       22391380.000000\n",
       "95%       43500000.000000\n",
       "99%      133948660.000000\n",
       "max     5700000000.000000\n",
       "Name: funding_total, dtype: float64"
      ]
     },
     "execution_count": 73,
     "metadata": {},
     "output_type": "execute_result"
    }
   ],
   "source": [
    "# Построим график диаграммы размаха без выбросов\n",
    "\n",
    "plt.figure(figsize=(20, 6))\n",
    "\n",
    "company_df_new.boxplot(column = 'funding_total', vert = False, showfliers = False)\n",
    "\n",
    "plt.title('Распределение сумм финансирования')\n",
    "plt.xlabel('Сумма финансирования')\n",
    "plt.ticklabel_format(style='plain', axis='x')\n",
    "\n",
    "plt.show()\n",
    "print()\n",
    "pd.set_option('float_format', '{:f}'.format)\n",
    "company_df_new['funding_total'].describe(percentiles=[0.25, 0.5, 0.75, 0.8, 0.85, 0.9, 0.95, 0.99])"
   ]
  },
  {
   "cell_type": "markdown",
   "metadata": {},
   "source": [
    "По второй диаграмме размаха, мы можем увидеть, что большее количество значений сосредоточено в диапазоне от 0 до 14 млн. К выбивающимся значениям можно отнести суммы финансирования, превышающие 14 - 15 млн - как раз таки они и будут являться выбросами"
   ]
  },
  {
   "cell_type": "markdown",
   "metadata": {},
   "source": [
    "Теперь мы можем оценить разброс имеющихся значений более детально. Обратим внимание на то, что минимумом без учёта аномалий и нижним квартилем (25% значений) является одно и то же значение - 0. Верхней границей квартиля (75% значений) является значение около 5.5 млн - то есть, 75% значений не превышают 5.5 млн. Максимальным значением без учёта аномалий является значений около 14 млн.\n",
    "\n",
    "Исходя из первой диаграммы размаха, построенной с учётом всех выбросов, мы можем сделать вывод о том, что в качестве типичного размера финансирования мы не можем взять среднее значение, поскольку эти показатели дадут ложное представление об имеющихся данных. Наиболее верным решением будет взять медианное значение - оно и послужит типичным размером финансирования. Значения свыше около 14 миллионов (значение около 85-ого перцентиля) будут являться выбросами, а значения свыше около 130 миллионов (99-ый перцентиль) будут являться аномалиями"
   ]
  },
  {
   "cell_type": "markdown",
   "metadata": {},
   "source": [
    "На основе полученных данных, мы можем ответить на поставленные перед нами вопросы:\n",
    "    \n",
    "- 600 тысяч - типичный размер общего финансирования для одной компании\n",
    "- Свыше 14 - 15 млн - выбивающийся размер общего финансирования для одной компании\n",
    "- По показателю среднего значения, возвращаемого методом `.describe()`, невозможно правильно установить размер типичных значений. При этом можно использовать медианное значение, которое позволит наиболее точно определить типичный размер общего финансирования для одной компании"
   ]
  },
  {
   "cell_type": "markdown",
   "metadata": {
    "id": "JqkRAQrIrJg2"
   },
   "source": [
    "\n",
    "### 3.3. Куплены забесплатно?"
   ]
  },
  {
   "cell_type": "markdown",
   "metadata": {
    "id": "wJHXCBwwrJg2"
   },
   "source": [
    "Для исследования компаний, которые были проданы за ноль или один доллар при ненулевом общем объёме финансирования, необходимо создать новый срез данных, исходя из следующего условия:\n",
    "\n",
    "- сумма сделки (`price_amount`) = 0 или 1\n",
    "- сумма финансирования (`funding_total`) > 0 долларов"
   ]
  },
  {
   "cell_type": "markdown",
   "metadata": {},
   "source": [
    "Но перед этим необходимо объединить два датафрейма - `company_df_new`, который содержит информацию о сумме финансирования и `acquisition_df`, который содержит информацию о сумме сделки. Объединять датафреймы будет по двум столбцам: `company_id` (индетификатор компании) из датафрейма `company_df_new` и `acquired_company_id` (идентификатор покупаемой компании) из датафрейма `acquisition_df`"
   ]
  },
  {
   "cell_type": "code",
   "execution_count": 74,
   "metadata": {
    "id": "-kA4CO27n2ql"
   },
   "outputs": [
    {
     "name": "stdout",
     "output_type": "stream",
     "text": [
      "<class 'pandas.core.frame.DataFrame'>\n",
      "Int64Index: 9390 entries, 0 to 9389\n",
      "Data columns (total 19 columns):\n",
      " #   Column                Non-Null Count  Dtype         \n",
      "---  ------                --------------  -----         \n",
      " 0   company_id            9390 non-null   float64       \n",
      " 1   name                  9390 non-null   object        \n",
      " 2   category_code         6573 non-null   object        \n",
      " 3   status                9390 non-null   object        \n",
      " 4   founded_at            4805 non-null   datetime64[ns]\n",
      " 5   closed_at             35 non-null     datetime64[ns]\n",
      " 6   domain                7075 non-null   object        \n",
      " 7   network_username      2544 non-null   object        \n",
      " 8   country_code          6695 non-null   object        \n",
      " 9   investment_rounds     9390 non-null   float64       \n",
      " 10  funding_rounds        9390 non-null   float64       \n",
      " 11  funding_total         9390 non-null   float64       \n",
      " 12  milestones            9390 non-null   float64       \n",
      " 13  id                    9390 non-null   int64         \n",
      " 14  acquiring_company_id  9390 non-null   int64         \n",
      " 15  acquired_company_id   9390 non-null   int64         \n",
      " 16  term_code             1830 non-null   object        \n",
      " 17  price_amount          9390 non-null   int64         \n",
      " 18  acquired_at           9361 non-null   datetime64[ns]\n",
      "dtypes: datetime64[ns](3), float64(5), int64(4), object(7)\n",
      "memory usage: 1.4+ MB\n"
     ]
    },
    {
     "data": {
      "text/plain": [
       "None"
      ]
     },
     "metadata": {},
     "output_type": "display_data"
    },
    {
     "data": {
      "text/html": [
       "<div>\n",
       "<style scoped>\n",
       "    .dataframe tbody tr th:only-of-type {\n",
       "        vertical-align: middle;\n",
       "    }\n",
       "\n",
       "    .dataframe tbody tr th {\n",
       "        vertical-align: top;\n",
       "    }\n",
       "\n",
       "    .dataframe thead th {\n",
       "        text-align: right;\n",
       "    }\n",
       "</style>\n",
       "<table border=\"1\" class=\"dataframe\">\n",
       "  <thead>\n",
       "    <tr style=\"text-align: right;\">\n",
       "      <th></th>\n",
       "      <th>company_id</th>\n",
       "      <th>name</th>\n",
       "      <th>category_code</th>\n",
       "      <th>status</th>\n",
       "      <th>founded_at</th>\n",
       "      <th>closed_at</th>\n",
       "      <th>domain</th>\n",
       "      <th>network_username</th>\n",
       "      <th>country_code</th>\n",
       "      <th>investment_rounds</th>\n",
       "      <th>funding_rounds</th>\n",
       "      <th>funding_total</th>\n",
       "      <th>milestones</th>\n",
       "      <th>id</th>\n",
       "      <th>acquiring_company_id</th>\n",
       "      <th>acquired_company_id</th>\n",
       "      <th>term_code</th>\n",
       "      <th>price_amount</th>\n",
       "      <th>acquired_at</th>\n",
       "    </tr>\n",
       "  </thead>\n",
       "  <tbody>\n",
       "    <tr>\n",
       "      <th>0</th>\n",
       "      <td>10.000000</td>\n",
       "      <td>flektor</td>\n",
       "      <td>games_video</td>\n",
       "      <td>acquired</td>\n",
       "      <td>NaT</td>\n",
       "      <td>NaT</td>\n",
       "      <td>flektor.com</td>\n",
       "      <td>NaN</td>\n",
       "      <td>USA</td>\n",
       "      <td>0.000000</td>\n",
       "      <td>0.000000</td>\n",
       "      <td>0.000000</td>\n",
       "      <td>0.000000</td>\n",
       "      <td>1</td>\n",
       "      <td>11</td>\n",
       "      <td>10</td>\n",
       "      <td>NaN</td>\n",
       "      <td>20000000</td>\n",
       "      <td>2007-05-30</td>\n",
       "    </tr>\n",
       "    <tr>\n",
       "      <th>1</th>\n",
       "      <td>100.000000</td>\n",
       "      <td>there</td>\n",
       "      <td>games_video</td>\n",
       "      <td>acquired</td>\n",
       "      <td>NaT</td>\n",
       "      <td>NaT</td>\n",
       "      <td>there.com</td>\n",
       "      <td>NaN</td>\n",
       "      <td>USA</td>\n",
       "      <td>0.000000</td>\n",
       "      <td>0.000000</td>\n",
       "      <td>0.000000</td>\n",
       "      <td>4.000000</td>\n",
       "      <td>20</td>\n",
       "      <td>377</td>\n",
       "      <td>100</td>\n",
       "      <td>cash</td>\n",
       "      <td>0</td>\n",
       "      <td>2005-05-29</td>\n",
       "    </tr>\n",
       "    <tr>\n",
       "      <th>2</th>\n",
       "      <td>1001.000000</td>\n",
       "      <td>friendfeed</td>\n",
       "      <td>web</td>\n",
       "      <td>acquired</td>\n",
       "      <td>2007-10-01</td>\n",
       "      <td>NaT</td>\n",
       "      <td>friendfeed.com</td>\n",
       "      <td>friendfeed</td>\n",
       "      <td>USA</td>\n",
       "      <td>0.000000</td>\n",
       "      <td>1.000000</td>\n",
       "      <td>5000000.000000</td>\n",
       "      <td>3.000000</td>\n",
       "      <td>1901</td>\n",
       "      <td>5</td>\n",
       "      <td>1001</td>\n",
       "      <td>cash_and_stock</td>\n",
       "      <td>47500000</td>\n",
       "      <td>2009-08-10</td>\n",
       "    </tr>\n",
       "    <tr>\n",
       "      <th>3</th>\n",
       "      <td>10014.000000</td>\n",
       "      <td>mobclix</td>\n",
       "      <td>mobile</td>\n",
       "      <td>acquired</td>\n",
       "      <td>2008-03-01</td>\n",
       "      <td>NaT</td>\n",
       "      <td>mobclix.com</td>\n",
       "      <td>mobclix</td>\n",
       "      <td>USA</td>\n",
       "      <td>0.000000</td>\n",
       "      <td>1.000000</td>\n",
       "      <td>0.000000</td>\n",
       "      <td>4.000000</td>\n",
       "      <td>3878</td>\n",
       "      <td>23054</td>\n",
       "      <td>10014</td>\n",
       "      <td>NaN</td>\n",
       "      <td>0</td>\n",
       "      <td>2010-09-30</td>\n",
       "    </tr>\n",
       "    <tr>\n",
       "      <th>4</th>\n",
       "      <td>100265.000000</td>\n",
       "      <td>coastal supply company</td>\n",
       "      <td>NaN</td>\n",
       "      <td>acquired</td>\n",
       "      <td>NaT</td>\n",
       "      <td>NaT</td>\n",
       "      <td>NaN</td>\n",
       "      <td>NaN</td>\n",
       "      <td>NaN</td>\n",
       "      <td>0.000000</td>\n",
       "      <td>0.000000</td>\n",
       "      <td>0.000000</td>\n",
       "      <td>1.000000</td>\n",
       "      <td>6106</td>\n",
       "      <td>38215</td>\n",
       "      <td>100265</td>\n",
       "      <td>NaN</td>\n",
       "      <td>0</td>\n",
       "      <td>2011-09-06</td>\n",
       "    </tr>\n",
       "  </tbody>\n",
       "</table>\n",
       "</div>"
      ],
      "text/plain": [
       "     company_id                    name category_code    status founded_at  \\\n",
       "0     10.000000                 flektor   games_video  acquired        NaT   \n",
       "1    100.000000                   there   games_video  acquired        NaT   \n",
       "2   1001.000000              friendfeed           web  acquired 2007-10-01   \n",
       "3  10014.000000                 mobclix        mobile  acquired 2008-03-01   \n",
       "4 100265.000000  coastal supply company           NaN  acquired        NaT   \n",
       "\n",
       "  closed_at          domain network_username country_code  investment_rounds  \\\n",
       "0       NaT     flektor.com              NaN          USA           0.000000   \n",
       "1       NaT       there.com              NaN          USA           0.000000   \n",
       "2       NaT  friendfeed.com       friendfeed          USA           0.000000   \n",
       "3       NaT     mobclix.com          mobclix          USA           0.000000   \n",
       "4       NaT             NaN              NaN          NaN           0.000000   \n",
       "\n",
       "   funding_rounds  funding_total  milestones    id  acquiring_company_id  \\\n",
       "0        0.000000       0.000000    0.000000     1                    11   \n",
       "1        0.000000       0.000000    4.000000    20                   377   \n",
       "2        1.000000 5000000.000000    3.000000  1901                     5   \n",
       "3        1.000000       0.000000    4.000000  3878                 23054   \n",
       "4        0.000000       0.000000    1.000000  6106                 38215   \n",
       "\n",
       "   acquired_company_id       term_code  price_amount acquired_at  \n",
       "0                   10             NaN      20000000  2007-05-30  \n",
       "1                  100            cash             0  2005-05-29  \n",
       "2                 1001  cash_and_stock      47500000  2009-08-10  \n",
       "3                10014             NaN             0  2010-09-30  \n",
       "4               100265             NaN             0  2011-09-06  "
      ]
     },
     "metadata": {},
     "output_type": "display_data"
    }
   ],
   "source": [
    "# Соединяем данные в единый датафрейм company_acquisition_df\n",
    "\n",
    "company_acquisition_df = pd.merge(company_df_new, acquisition_df, left_on='company_id', right_on='acquired_company_id')\n",
    "display(company_acquisition_df.info())\n",
    "display(company_acquisition_df.head())"
   ]
  },
  {
   "cell_type": "markdown",
   "metadata": {},
   "source": [
    "Мы получили новый датафрейм `company_acquisition_df`, в котором содержится информация о компаниях и о приобретениях этих компаний. Он включает в себя 19 столбцов и 9390 строк. Теперь можем приступать к созданию нового среза. Напомним условия:\n",
    "\n",
    "- сумма сделки (`price_amount`) - 0 или 1 доллар\n",
    "- сумма финансирования (`funding_total`) - больше 0 долларов"
   ]
  },
  {
   "cell_type": "code",
   "execution_count": 75,
   "metadata": {},
   "outputs": [
    {
     "name": "stdout",
     "output_type": "stream",
     "text": [
      "<class 'pandas.core.frame.DataFrame'>\n",
      "Int64Index: 1618 entries, 7 to 9386\n",
      "Data columns (total 19 columns):\n",
      " #   Column                Non-Null Count  Dtype         \n",
      "---  ------                --------------  -----         \n",
      " 0   company_id            1618 non-null   float64       \n",
      " 1   name                  1618 non-null   object        \n",
      " 2   category_code         1553 non-null   object        \n",
      " 3   status                1618 non-null   object        \n",
      " 4   founded_at            1285 non-null   datetime64[ns]\n",
      " 5   closed_at             13 non-null     datetime64[ns]\n",
      " 6   domain                1546 non-null   object        \n",
      " 7   network_username      812 non-null    object        \n",
      " 8   country_code          1536 non-null   object        \n",
      " 9   investment_rounds     1618 non-null   float64       \n",
      " 10  funding_rounds        1618 non-null   float64       \n",
      " 11  funding_total         1618 non-null   float64       \n",
      " 12  milestones            1618 non-null   float64       \n",
      " 13  id                    1618 non-null   int64         \n",
      " 14  acquiring_company_id  1618 non-null   int64         \n",
      " 15  acquired_company_id   1618 non-null   int64         \n",
      " 16  term_code             121 non-null    object        \n",
      " 17  price_amount          1618 non-null   int64         \n",
      " 18  acquired_at           1614 non-null   datetime64[ns]\n",
      "dtypes: datetime64[ns](3), float64(5), int64(4), object(7)\n",
      "memory usage: 252.8+ KB\n"
     ]
    },
    {
     "data": {
      "text/plain": [
       "None"
      ]
     },
     "metadata": {},
     "output_type": "display_data"
    },
    {
     "data": {
      "text/html": [
       "<div>\n",
       "<style scoped>\n",
       "    .dataframe tbody tr th:only-of-type {\n",
       "        vertical-align: middle;\n",
       "    }\n",
       "\n",
       "    .dataframe tbody tr th {\n",
       "        vertical-align: top;\n",
       "    }\n",
       "\n",
       "    .dataframe thead th {\n",
       "        text-align: right;\n",
       "    }\n",
       "</style>\n",
       "<table border=\"1\" class=\"dataframe\">\n",
       "  <thead>\n",
       "    <tr style=\"text-align: right;\">\n",
       "      <th></th>\n",
       "      <th>company_id</th>\n",
       "      <th>name</th>\n",
       "      <th>category_code</th>\n",
       "      <th>status</th>\n",
       "      <th>founded_at</th>\n",
       "      <th>closed_at</th>\n",
       "      <th>domain</th>\n",
       "      <th>network_username</th>\n",
       "      <th>country_code</th>\n",
       "      <th>investment_rounds</th>\n",
       "      <th>funding_rounds</th>\n",
       "      <th>funding_total</th>\n",
       "      <th>milestones</th>\n",
       "      <th>id</th>\n",
       "      <th>acquiring_company_id</th>\n",
       "      <th>acquired_company_id</th>\n",
       "      <th>term_code</th>\n",
       "      <th>price_amount</th>\n",
       "      <th>acquired_at</th>\n",
       "    </tr>\n",
       "  </thead>\n",
       "  <tbody>\n",
       "    <tr>\n",
       "      <th>7</th>\n",
       "      <td>10054.000000</td>\n",
       "      <td>jumptap</td>\n",
       "      <td>mobile</td>\n",
       "      <td>acquired</td>\n",
       "      <td>2005-01-01</td>\n",
       "      <td>NaT</td>\n",
       "      <td>jumptap.com</td>\n",
       "      <td>jumptap</td>\n",
       "      <td>USA</td>\n",
       "      <td>0.000000</td>\n",
       "      <td>7.000000</td>\n",
       "      <td>121500000.000000</td>\n",
       "      <td>3.000000</td>\n",
       "      <td>9288</td>\n",
       "      <td>23283</td>\n",
       "      <td>10054</td>\n",
       "      <td>cash_and_stock</td>\n",
       "      <td>0</td>\n",
       "      <td>2013-08-13</td>\n",
       "    </tr>\n",
       "    <tr>\n",
       "      <th>17</th>\n",
       "      <td>101312.000000</td>\n",
       "      <td>sidetour</td>\n",
       "      <td>web</td>\n",
       "      <td>acquired</td>\n",
       "      <td>2011-06-01</td>\n",
       "      <td>NaT</td>\n",
       "      <td>sidetour.com</td>\n",
       "      <td>sidetour</td>\n",
       "      <td>USA</td>\n",
       "      <td>0.000000</td>\n",
       "      <td>3.000000</td>\n",
       "      <td>4000000.000000</td>\n",
       "      <td>2.000000</td>\n",
       "      <td>9653</td>\n",
       "      <td>11391</td>\n",
       "      <td>101312</td>\n",
       "      <td>NaN</td>\n",
       "      <td>0</td>\n",
       "      <td>2013-09-18</td>\n",
       "    </tr>\n",
       "    <tr>\n",
       "      <th>18</th>\n",
       "      <td>101340.000000</td>\n",
       "      <td>choicepass</td>\n",
       "      <td>enterprise</td>\n",
       "      <td>acquired</td>\n",
       "      <td>2011-07-01</td>\n",
       "      <td>NaT</td>\n",
       "      <td>choicepass.com</td>\n",
       "      <td>choicepass</td>\n",
       "      <td>USA</td>\n",
       "      <td>0.000000</td>\n",
       "      <td>1.000000</td>\n",
       "      <td>250000.000000</td>\n",
       "      <td>1.000000</td>\n",
       "      <td>7272</td>\n",
       "      <td>1972</td>\n",
       "      <td>101340</td>\n",
       "      <td>NaN</td>\n",
       "      <td>0</td>\n",
       "      <td>2012-06-18</td>\n",
       "    </tr>\n",
       "    <tr>\n",
       "      <th>19</th>\n",
       "      <td>10137.000000</td>\n",
       "      <td>producteev</td>\n",
       "      <td>software</td>\n",
       "      <td>acquired</td>\n",
       "      <td>2008-07-08</td>\n",
       "      <td>NaT</td>\n",
       "      <td>producteev.com</td>\n",
       "      <td>producteev</td>\n",
       "      <td>USA</td>\n",
       "      <td>0.000000</td>\n",
       "      <td>3.000000</td>\n",
       "      <td>1310000.000000</td>\n",
       "      <td>2.000000</td>\n",
       "      <td>8254</td>\n",
       "      <td>757</td>\n",
       "      <td>10137</td>\n",
       "      <td>cash_and_stock</td>\n",
       "      <td>0</td>\n",
       "      <td>2012-11-05</td>\n",
       "    </tr>\n",
       "    <tr>\n",
       "      <th>20</th>\n",
       "      <td>10139.000000</td>\n",
       "      <td>tradecard</td>\n",
       "      <td>enterprise</td>\n",
       "      <td>acquired</td>\n",
       "      <td>1999-01-01</td>\n",
       "      <td>NaT</td>\n",
       "      <td>tradecard.com</td>\n",
       "      <td>tradecard</td>\n",
       "      <td>USA</td>\n",
       "      <td>0.000000</td>\n",
       "      <td>2.000000</td>\n",
       "      <td>44925000.000000</td>\n",
       "      <td>1.000000</td>\n",
       "      <td>9326</td>\n",
       "      <td>44008</td>\n",
       "      <td>10139</td>\n",
       "      <td>NaN</td>\n",
       "      <td>0</td>\n",
       "      <td>2013-04-01</td>\n",
       "    </tr>\n",
       "  </tbody>\n",
       "</table>\n",
       "</div>"
      ],
      "text/plain": [
       "      company_id        name category_code    status founded_at closed_at  \\\n",
       "7   10054.000000     jumptap        mobile  acquired 2005-01-01       NaT   \n",
       "17 101312.000000    sidetour           web  acquired 2011-06-01       NaT   \n",
       "18 101340.000000  choicepass    enterprise  acquired 2011-07-01       NaT   \n",
       "19  10137.000000  producteev      software  acquired 2008-07-08       NaT   \n",
       "20  10139.000000   tradecard    enterprise  acquired 1999-01-01       NaT   \n",
       "\n",
       "            domain network_username country_code  investment_rounds  \\\n",
       "7      jumptap.com          jumptap          USA           0.000000   \n",
       "17    sidetour.com         sidetour          USA           0.000000   \n",
       "18  choicepass.com       choicepass          USA           0.000000   \n",
       "19  producteev.com       producteev          USA           0.000000   \n",
       "20   tradecard.com        tradecard          USA           0.000000   \n",
       "\n",
       "    funding_rounds    funding_total  milestones    id  acquiring_company_id  \\\n",
       "7         7.000000 121500000.000000    3.000000  9288                 23283   \n",
       "17        3.000000   4000000.000000    2.000000  9653                 11391   \n",
       "18        1.000000    250000.000000    1.000000  7272                  1972   \n",
       "19        3.000000   1310000.000000    2.000000  8254                   757   \n",
       "20        2.000000  44925000.000000    1.000000  9326                 44008   \n",
       "\n",
       "    acquired_company_id       term_code  price_amount acquired_at  \n",
       "7                 10054  cash_and_stock             0  2013-08-13  \n",
       "17               101312             NaN             0  2013-09-18  \n",
       "18               101340             NaN             0  2012-06-18  \n",
       "19                10137  cash_and_stock             0  2012-11-05  \n",
       "20                10139             NaN             0  2013-04-01  "
      ]
     },
     "metadata": {},
     "output_type": "display_data"
    }
   ],
   "source": [
    "# Образуем срез данных\n",
    "\n",
    "company_acquisition_df_new = company_acquisition_df.loc[((company_acquisition_df['price_amount'] == 0) | (company_acquisition_df['price_amount'] == 1)) & (company_acquisition_df['funding_total'] > 0)]\n",
    "display(company_acquisition_df_new.info())\n",
    "display(company_acquisition_df_new.head())"
   ]
  },
  {
   "cell_type": "markdown",
   "metadata": {},
   "source": [
    "Мы получили новый датафрейм `company_acquisition_df_new`, в котором содержится информация только о проданных за 0 или 1 доллар компаниях с ненулывым общим объёмом финансирования. Данный датафрейм включает в себя 19 столбцов и 1618 строк. Исследуем компании, входящие в данный сред данных, с помощью метода `describe()`"
   ]
  },
  {
   "cell_type": "code",
   "execution_count": 76,
   "metadata": {},
   "outputs": [
    {
     "data": {
      "text/html": [
       "<div>\n",
       "<style scoped>\n",
       "    .dataframe tbody tr th:only-of-type {\n",
       "        vertical-align: middle;\n",
       "    }\n",
       "\n",
       "    .dataframe tbody tr th {\n",
       "        vertical-align: top;\n",
       "    }\n",
       "\n",
       "    .dataframe thead th {\n",
       "        text-align: right;\n",
       "    }\n",
       "</style>\n",
       "<table border=\"1\" class=\"dataframe\">\n",
       "  <thead>\n",
       "    <tr style=\"text-align: right;\">\n",
       "      <th></th>\n",
       "      <th>investment_rounds</th>\n",
       "      <th>funding_rounds</th>\n",
       "      <th>funding_total</th>\n",
       "      <th>milestones</th>\n",
       "      <th>price_amount</th>\n",
       "    </tr>\n",
       "  </thead>\n",
       "  <tbody>\n",
       "    <tr>\n",
       "      <th>count</th>\n",
       "      <td>1618.000000</td>\n",
       "      <td>1618.000000</td>\n",
       "      <td>1618.000000</td>\n",
       "      <td>1618.000000</td>\n",
       "      <td>1618.000000</td>\n",
       "    </tr>\n",
       "    <tr>\n",
       "      <th>mean</th>\n",
       "      <td>0.008035</td>\n",
       "      <td>1.890606</td>\n",
       "      <td>18152961.943758</td>\n",
       "      <td>1.457973</td>\n",
       "      <td>0.000000</td>\n",
       "    </tr>\n",
       "    <tr>\n",
       "      <th>std</th>\n",
       "      <td>0.118993</td>\n",
       "      <td>1.243322</td>\n",
       "      <td>144503027.470521</td>\n",
       "      <td>1.226295</td>\n",
       "      <td>0.000000</td>\n",
       "    </tr>\n",
       "    <tr>\n",
       "      <th>min</th>\n",
       "      <td>0.000000</td>\n",
       "      <td>1.000000</td>\n",
       "      <td>3750.000000</td>\n",
       "      <td>0.000000</td>\n",
       "      <td>0.000000</td>\n",
       "    </tr>\n",
       "    <tr>\n",
       "      <th>25%</th>\n",
       "      <td>0.000000</td>\n",
       "      <td>1.000000</td>\n",
       "      <td>2000000.000000</td>\n",
       "      <td>0.000000</td>\n",
       "      <td>0.000000</td>\n",
       "    </tr>\n",
       "    <tr>\n",
       "      <th>50%</th>\n",
       "      <td>0.000000</td>\n",
       "      <td>1.000000</td>\n",
       "      <td>6000000.000000</td>\n",
       "      <td>1.000000</td>\n",
       "      <td>0.000000</td>\n",
       "    </tr>\n",
       "    <tr>\n",
       "      <th>75%</th>\n",
       "      <td>0.000000</td>\n",
       "      <td>2.000000</td>\n",
       "      <td>15500000.000000</td>\n",
       "      <td>2.000000</td>\n",
       "      <td>0.000000</td>\n",
       "    </tr>\n",
       "    <tr>\n",
       "      <th>80%</th>\n",
       "      <td>0.000000</td>\n",
       "      <td>3.000000</td>\n",
       "      <td>20000000.000000</td>\n",
       "      <td>2.000000</td>\n",
       "      <td>0.000000</td>\n",
       "    </tr>\n",
       "    <tr>\n",
       "      <th>85%</th>\n",
       "      <td>0.000000</td>\n",
       "      <td>3.000000</td>\n",
       "      <td>25353735.000000</td>\n",
       "      <td>3.000000</td>\n",
       "      <td>0.000000</td>\n",
       "    </tr>\n",
       "    <tr>\n",
       "      <th>90%</th>\n",
       "      <td>0.000000</td>\n",
       "      <td>3.000000</td>\n",
       "      <td>33015810.000000</td>\n",
       "      <td>3.000000</td>\n",
       "      <td>0.000000</td>\n",
       "    </tr>\n",
       "    <tr>\n",
       "      <th>95%</th>\n",
       "      <td>0.000000</td>\n",
       "      <td>4.000000</td>\n",
       "      <td>51487500.000000</td>\n",
       "      <td>4.000000</td>\n",
       "      <td>0.000000</td>\n",
       "    </tr>\n",
       "    <tr>\n",
       "      <th>99%</th>\n",
       "      <td>0.000000</td>\n",
       "      <td>6.000000</td>\n",
       "      <td>151552930.000000</td>\n",
       "      <td>5.000000</td>\n",
       "      <td>0.000000</td>\n",
       "    </tr>\n",
       "    <tr>\n",
       "      <th>max</th>\n",
       "      <td>3.000000</td>\n",
       "      <td>12.000000</td>\n",
       "      <td>5700000000.000000</td>\n",
       "      <td>6.000000</td>\n",
       "      <td>0.000000</td>\n",
       "    </tr>\n",
       "  </tbody>\n",
       "</table>\n",
       "</div>"
      ],
      "text/plain": [
       "       investment_rounds  funding_rounds     funding_total  milestones  \\\n",
       "count        1618.000000     1618.000000       1618.000000 1618.000000   \n",
       "mean            0.008035        1.890606   18152961.943758    1.457973   \n",
       "std             0.118993        1.243322  144503027.470521    1.226295   \n",
       "min             0.000000        1.000000       3750.000000    0.000000   \n",
       "25%             0.000000        1.000000    2000000.000000    0.000000   \n",
       "50%             0.000000        1.000000    6000000.000000    1.000000   \n",
       "75%             0.000000        2.000000   15500000.000000    2.000000   \n",
       "80%             0.000000        3.000000   20000000.000000    2.000000   \n",
       "85%             0.000000        3.000000   25353735.000000    3.000000   \n",
       "90%             0.000000        3.000000   33015810.000000    3.000000   \n",
       "95%             0.000000        4.000000   51487500.000000    4.000000   \n",
       "99%             0.000000        6.000000  151552930.000000    5.000000   \n",
       "max             3.000000       12.000000 5700000000.000000    6.000000   \n",
       "\n",
       "       price_amount  \n",
       "count   1618.000000  \n",
       "mean       0.000000  \n",
       "std        0.000000  \n",
       "min        0.000000  \n",
       "25%        0.000000  \n",
       "50%        0.000000  \n",
       "75%        0.000000  \n",
       "80%        0.000000  \n",
       "85%        0.000000  \n",
       "90%        0.000000  \n",
       "95%        0.000000  \n",
       "99%        0.000000  \n",
       "max        0.000000  "
      ]
     },
     "execution_count": 76,
     "metadata": {},
     "output_type": "execute_result"
    }
   ],
   "source": [
    "# Выводим описательную статистику\n",
    "\n",
    "company_acquisition_df_new[['investment_rounds', 'funding_rounds', 'funding_total', 'milestones', 'price_amount']].describe(percentiles=[0.25, 0.5, 0.75, 0.8, 0.85, 0.9, 0.95, 0.99])"
   ]
  },
  {
   "cell_type": "markdown",
   "metadata": {},
   "source": [
    "Исходя из полученных данных, можем сделать следующие выводы:\n",
    "\n",
    "Инвестиционные раунды (`investment_rounds`):\n",
    "\n",
    "- Минимальное значение - 0\n",
    "- Медианное значение - 0\n",
    "- Среднее значение - 0.008\n",
    "- Максимальное значение - 3\n",
    "\n",
    "Раунды финансирования (`funding_rounds`):\n",
    "\n",
    "- Минимальное значение - 1\n",
    "- Медиана - 1\n",
    "- Среднее значение - 1.89\n",
    "- Максимальное значение - 12\n",
    "\n",
    "Сумма финансирования (`funding_total`):\n",
    "\n",
    "- Минимальная сумма финансирования - 3750\n",
    "- Медиана - 6 млн\n",
    "- Среднее значение - 18.15 млн\n",
    "- Максимальная сумма финансирования - 5.7 млрд\n",
    "\n",
    "Вехи финансирования (`milestones`):\n",
    "\n",
    "- Минимальное значение вехов финансирования - 0\n",
    "- Медиана - 1\n",
    "- Среднее значение - 1.45\n",
    "- Максимальное значение вехов финансирования - 6\n",
    "\n",
    "Сумма сделки (`price_amount`):\n",
    "\n",
    "- Минимальное значение вехов финансирования - 0\n",
    "- Медиана - 0\n",
    "- Среднее значение - 0\n",
    "- Максимальное значение вехов финансирования - 0\n",
    "\n",
    "Исходя из того, что у всех переменных медианное значение ниже среднего, можно сделать вывод о том, что распределение данных - ненормальное, имеет правостороннюю ассиметрию (положительную скошенность), а значит - в данных по прежнему остались выбросы, которые оттягивают распределение вправо\n",
    "\n",
    "Заметим, что в данных нет компаний, которые были проданы за 1 доллар - это подтверждает одинаковое минимальное и максимальное значение суммы сделки, которое равно 0"
   ]
  },
  {
   "cell_type": "markdown",
   "metadata": {},
   "source": [
    "Далее мы можем приступить к аналитическому расчёту верхней и нижней границы выбросов для столбца `funding_total`."
   ]
  },
  {
   "cell_type": "code",
   "execution_count": 77,
   "metadata": {},
   "outputs": [
    {
     "name": "stdout",
     "output_type": "stream",
     "text": [
      "Нижняя граница выбросов: 18250000.0\n",
      "Верхняя граница выбросов: 35750000.0\n"
     ]
    }
   ],
   "source": [
    "# Вычисляем квартили Q1 и Q3\n",
    "\n",
    "Q1 = company_acquisition_df_new['funding_total'].quantile(0.25)\n",
    "Q3 = company_acquisition_df_new['funding_total'].quantile(0.75)\n",
    "\n",
    "# Вычисляем межквартильный размах IQR\n",
    "\n",
    "IQR = Q3 - Q1\n",
    "\n",
    "# Определяем нижнюю границу выбросов\n",
    "\n",
    "lower_bound = 1.5 * IQR - Q1\n",
    "\n",
    "# Определяем верхнюю границу выбросов\n",
    "\n",
    "upper_bound = Q3 + 1.5 * IQR\n",
    "\n",
    "print(f'Нижняя граница выбросов: {lower_bound}')\n",
    "print(f'Верхняя граница выбросов: {upper_bound}')"
   ]
  },
  {
   "cell_type": "markdown",
   "metadata": {},
   "source": [
    "Исходя из проведённых вычислений, мы можем сделать следующие выводы:\n",
    "\n",
    "- Нижняя граница выбросов для столбца `funding_total` - 18.25 млн (соответствует 25-ому процентилю)\n",
    "- Верхняя граница выбросов для столбца `funding_total` - 35.75 млн (соответствует 75-ому процентилю)\n",
    "\n",
    "Оценивая корректность планируемой заказчиком замены нижней и верхней границы выбросов на значения, рассчитанные по процентилям, важно отметить, что такая замена приведёт к ложному представлению об имеющихся данных. Если брать за нижнюю и верхнюю границы выбросов значения, рассчитанные по процентилям, при устранении этих выбросов можно потерять существенную долю данных. В итоге анализ на искажённом срезе данных приведёт к некорретным результатам исследовательского анализа данных"
   ]
  },
  {
   "cell_type": "markdown",
   "metadata": {
    "id": "mEiWpROjrJg2"
   },
   "source": [
    "\n",
    "### 3.4. Цены стартапов по категориям"
   ]
  },
  {
   "cell_type": "markdown",
   "metadata": {
    "id": "jQ09dYUWrJg2"
   },
   "source": [
    "Для выполнения данного задания воспользуемся датафреймом - `company_df_new`. В нём представлена информация о компаниях. В контексте данного задания нас интересует столбцы `category_code` (категория области деятельности компании) и `funding_total` (сумма финансирования). Именно по ним и будем выделять категории стартапов. Напомним, что среди категорий стартапов необходимо выделить категории стартапов, характеризующиеся:\n",
    "\n",
    "* наибольшими ценами;\n",
    "* и наибольшим разбросом цен за стартап.\n",
    "\n",
    "Для этого мы создадим два отдельных рейтинга. Первый рейтинг будет содержать информацию о категориях стартапов с наибольшими ценами, а второй будет содержать информацию о категориях с наибольшим разбросом цен за стартап\n",
    "\n",
    "Начнём с рейтинга стартапов с наибольшими ценами"
   ]
  },
  {
   "cell_type": "code",
   "execution_count": 78,
   "metadata": {},
   "outputs": [
    {
     "data": {
      "text/html": [
       "<div>\n",
       "<style scoped>\n",
       "    .dataframe tbody tr th:only-of-type {\n",
       "        vertical-align: middle;\n",
       "    }\n",
       "\n",
       "    .dataframe tbody tr th {\n",
       "        vertical-align: top;\n",
       "    }\n",
       "\n",
       "    .dataframe thead th {\n",
       "        text-align: right;\n",
       "    }\n",
       "</style>\n",
       "<table border=\"1\" class=\"dataframe\">\n",
       "  <thead>\n",
       "    <tr style=\"text-align: right;\">\n",
       "      <th></th>\n",
       "      <th>category_code</th>\n",
       "      <th>funding_total</th>\n",
       "    </tr>\n",
       "  </thead>\n",
       "  <tbody>\n",
       "    <tr>\n",
       "      <th>0</th>\n",
       "      <td>semiconductor</td>\n",
       "      <td>8100000.000000</td>\n",
       "    </tr>\n",
       "    <tr>\n",
       "      <th>1</th>\n",
       "      <td>cleantech</td>\n",
       "      <td>6000000.000000</td>\n",
       "    </tr>\n",
       "    <tr>\n",
       "      <th>2</th>\n",
       "      <td>medical</td>\n",
       "      <td>5400000.000000</td>\n",
       "    </tr>\n",
       "    <tr>\n",
       "      <th>3</th>\n",
       "      <td>nanotech</td>\n",
       "      <td>5115960.000000</td>\n",
       "    </tr>\n",
       "    <tr>\n",
       "      <th>4</th>\n",
       "      <td>biotech</td>\n",
       "      <td>4000000.000000</td>\n",
       "    </tr>\n",
       "    <tr>\n",
       "      <th>5</th>\n",
       "      <td>security</td>\n",
       "      <td>2024640.000000</td>\n",
       "    </tr>\n",
       "    <tr>\n",
       "      <th>6</th>\n",
       "      <td>analytics</td>\n",
       "      <td>2000000.000000</td>\n",
       "    </tr>\n",
       "    <tr>\n",
       "      <th>7</th>\n",
       "      <td>network_hosting</td>\n",
       "      <td>2000000.000000</td>\n",
       "    </tr>\n",
       "    <tr>\n",
       "      <th>8</th>\n",
       "      <td>manufacturing</td>\n",
       "      <td>1895040.000000</td>\n",
       "    </tr>\n",
       "    <tr>\n",
       "      <th>9</th>\n",
       "      <td>enterprise</td>\n",
       "      <td>1617100.000000</td>\n",
       "    </tr>\n",
       "    <tr>\n",
       "      <th>10</th>\n",
       "      <td>hardware</td>\n",
       "      <td>1408400.000000</td>\n",
       "    </tr>\n",
       "    <tr>\n",
       "      <th>11</th>\n",
       "      <td>finance</td>\n",
       "      <td>1350000.000000</td>\n",
       "    </tr>\n",
       "    <tr>\n",
       "      <th>12</th>\n",
       "      <td>automotive</td>\n",
       "      <td>1300000.000000</td>\n",
       "    </tr>\n",
       "    <tr>\n",
       "      <th>13</th>\n",
       "      <td>fashion</td>\n",
       "      <td>1200000.000000</td>\n",
       "    </tr>\n",
       "    <tr>\n",
       "      <th>14</th>\n",
       "      <td>transportation</td>\n",
       "      <td>1100000.000000</td>\n",
       "    </tr>\n",
       "  </tbody>\n",
       "</table>\n",
       "</div>"
      ],
      "text/plain": [
       "      category_code  funding_total\n",
       "0     semiconductor 8100000.000000\n",
       "1         cleantech 6000000.000000\n",
       "2           medical 5400000.000000\n",
       "3          nanotech 5115960.000000\n",
       "4           biotech 4000000.000000\n",
       "5          security 2024640.000000\n",
       "6         analytics 2000000.000000\n",
       "7   network_hosting 2000000.000000\n",
       "8     manufacturing 1895040.000000\n",
       "9        enterprise 1617100.000000\n",
       "10         hardware 1408400.000000\n",
       "11          finance 1350000.000000\n",
       "12       automotive 1300000.000000\n",
       "13          fashion 1200000.000000\n",
       "14   transportation 1100000.000000"
      ]
     },
     "execution_count": 78,
     "metadata": {},
     "output_type": "execute_result"
    }
   ],
   "source": [
    "# Составляем рейтинг стартапов с наибольшими ценами\n",
    "\n",
    "top15_price = company_df_new.groupby('category_code')['funding_total'].median().sort_values(ascending = False).reset_index()\n",
    "top15_price.head(15)"
   ]
  },
  {
   "cell_type": "markdown",
   "metadata": {},
   "source": [
    "Мы получаем топ-15 стартапов с наибольшими ценами (`top15_price`). Столбец с ценами был сформирован на основе медианного значения по каждой категории, поскольку ранее мы выявили, что опора на среднее значение при анализе данных может исказить результаты анализа данных. В рейтинг включено именно 15 категорий, поскольку было принято решение отбирать только те категории стартапов, в которых медианное значение по столбцу `funding_total` превышало 1 миллион\n",
    "\n",
    "Далее приступим к составлению рейтинга стартапов с наибольшим разбросом цен"
   ]
  },
  {
   "cell_type": "code",
   "execution_count": 79,
   "metadata": {},
   "outputs": [
    {
     "data": {
      "text/html": [
       "<div>\n",
       "<style scoped>\n",
       "    .dataframe tbody tr th:only-of-type {\n",
       "        vertical-align: middle;\n",
       "    }\n",
       "\n",
       "    .dataframe tbody tr th {\n",
       "        vertical-align: top;\n",
       "    }\n",
       "\n",
       "    .dataframe thead th {\n",
       "        text-align: right;\n",
       "    }\n",
       "</style>\n",
       "<table border=\"1\" class=\"dataframe\">\n",
       "  <thead>\n",
       "    <tr style=\"text-align: right;\">\n",
       "      <th></th>\n",
       "      <th>category_code</th>\n",
       "      <th>IQR</th>\n",
       "    </tr>\n",
       "  </thead>\n",
       "  <tbody>\n",
       "    <tr>\n",
       "      <th>0</th>\n",
       "      <td>cleantech</td>\n",
       "      <td>24737000.000000</td>\n",
       "    </tr>\n",
       "    <tr>\n",
       "      <th>1</th>\n",
       "      <td>semiconductor</td>\n",
       "      <td>23499950.000000</td>\n",
       "    </tr>\n",
       "    <tr>\n",
       "      <th>2</th>\n",
       "      <td>nanotech</td>\n",
       "      <td>21513225.000000</td>\n",
       "    </tr>\n",
       "    <tr>\n",
       "      <th>3</th>\n",
       "      <td>medical</td>\n",
       "      <td>20997987.000000</td>\n",
       "    </tr>\n",
       "    <tr>\n",
       "      <th>4</th>\n",
       "      <td>biotech</td>\n",
       "      <td>18815000.000000</td>\n",
       "    </tr>\n",
       "    <tr>\n",
       "      <th>5</th>\n",
       "      <td>network_hosting</td>\n",
       "      <td>13544375.000000</td>\n",
       "    </tr>\n",
       "    <tr>\n",
       "      <th>6</th>\n",
       "      <td>security</td>\n",
       "      <td>11995000.000000</td>\n",
       "    </tr>\n",
       "  </tbody>\n",
       "</table>\n",
       "</div>"
      ],
      "text/plain": [
       "     category_code             IQR\n",
       "0        cleantech 24737000.000000\n",
       "1    semiconductor 23499950.000000\n",
       "2         nanotech 21513225.000000\n",
       "3          medical 20997987.000000\n",
       "4          biotech 18815000.000000\n",
       "5  network_hosting 13544375.000000\n",
       "6         security 11995000.000000"
      ]
     },
     "execution_count": 79,
     "metadata": {},
     "output_type": "execute_result"
    }
   ],
   "source": [
    "# Составляем рейтинг стартапов с наибольшим разбросом цен за стартап\n",
    "\n",
    "top7_iqr = (company_df_new.groupby('category_code')['funding_total']\n",
    "              .agg(Q1=lambda x: x.quantile(0.25), Q3=lambda x: x.quantile(0.75))\n",
    "              .assign(IQR=lambda x: x['Q3'] - x['Q1'])\n",
    "              .sort_values(by='IQR', ascending=False)\n",
    "              .reset_index()[['category_code', 'IQR']])\n",
    "top7_iqr.head(7)"
   ]
  },
  {
   "cell_type": "markdown",
   "metadata": {},
   "source": [
    "Мы получаем топ-7 стартапов с наибольшим разбросом цен за стартап (`top7_iqr`). Столбец с ценами был сформирован на основе межквартильного размаха по каждой категории, так как именно этот показатель позволяет наиболее точно оценить разброс цен за стартап (в отличии от стандартного отклонения относительно среднего значения - в нашем датасете наблюдается ненормальное распределение данных, поэтому не стоит опираться на среднее значение и связанные с ним показатели при исследовательском анализе данных). В рейтинг включено именно 7 категорий, поскольку было принято решение отбирать только те категории стартапов, в которых межквартильный размах по столбцу `funding_total` превысил 10 миллионов"
   ]
  },
  {
   "cell_type": "markdown",
   "metadata": {},
   "source": [
    "Таким образом мы можем сделать следующие выводы:\n",
    "\n",
    "- Минимальная цена стартапа в топ-15 стартапов с наибольшими ценами - 1.1 млн (категория - `transportation`)\n",
    "- Максимальная цена стартапа в топ-15 стартапов с наибольшими ценами - 8.1 млн (категория - `semiconductor`)\n",
    "- Минимальный разброс цен в топ-7 стартапов с наибольшим разбросом цен за стартап - 11.995 млн (категория - `security`)\n",
    "- Максимальная цена стартапа в топ-7 стартапов с наибольшим разбросом цен за стартап - 24.737 млн (категория - `cleantech`)"
   ]
  },
  {
   "cell_type": "markdown",
   "metadata": {
    "id": "ADOfyVY_rJg3"
   },
   "source": [
    "\n",
    "### 3.5. Сколько раундов продержится стартап перед покупкой"
   ]
  },
  {
   "cell_type": "markdown",
   "metadata": {},
   "source": [
    "Для выполнения данного задания создадим срез данных на основе датафрейма `company_new` (в нём представлена информация о компаниях). Условием данного среза будет являться ненулевое положительное значение раундов финансирования (`funding_rounds > 0`) "
   ]
  },
  {
   "cell_type": "code",
   "execution_count": 80,
   "metadata": {},
   "outputs": [
    {
     "name": "stdout",
     "output_type": "stream",
     "text": [
      "<class 'pandas.core.frame.DataFrame'>\n",
      "Int64Index: 31707 entries, 0 to 217469\n",
      "Data columns (total 13 columns):\n",
      " #   Column             Non-Null Count  Dtype         \n",
      "---  ------             --------------  -----         \n",
      " 0   company_id         31707 non-null  float64       \n",
      " 1   name               31707 non-null  object        \n",
      " 2   category_code      30463 non-null  object        \n",
      " 3   status             31707 non-null  object        \n",
      " 4   founded_at         24467 non-null  datetime64[ns]\n",
      " 5   closed_at          2114 non-null   datetime64[ns]\n",
      " 6   domain             30171 non-null  object        \n",
      " 7   network_username   19070 non-null  object        \n",
      " 8   country_code       29565 non-null  object        \n",
      " 9   investment_rounds  31707 non-null  float64       \n",
      " 10  funding_rounds     31707 non-null  float64       \n",
      " 11  funding_total      31707 non-null  float64       \n",
      " 12  milestones         31707 non-null  float64       \n",
      "dtypes: datetime64[ns](2), float64(5), object(6)\n",
      "memory usage: 3.4+ MB\n"
     ]
    },
    {
     "data": {
      "text/plain": [
       "None"
      ]
     },
     "metadata": {},
     "output_type": "display_data"
    },
    {
     "data": {
      "text/html": [
       "<div>\n",
       "<style scoped>\n",
       "    .dataframe tbody tr th:only-of-type {\n",
       "        vertical-align: middle;\n",
       "    }\n",
       "\n",
       "    .dataframe tbody tr th {\n",
       "        vertical-align: top;\n",
       "    }\n",
       "\n",
       "    .dataframe thead th {\n",
       "        text-align: right;\n",
       "    }\n",
       "</style>\n",
       "<table border=\"1\" class=\"dataframe\">\n",
       "  <thead>\n",
       "    <tr style=\"text-align: right;\">\n",
       "      <th></th>\n",
       "      <th>company_id</th>\n",
       "      <th>name</th>\n",
       "      <th>category_code</th>\n",
       "      <th>status</th>\n",
       "      <th>founded_at</th>\n",
       "      <th>closed_at</th>\n",
       "      <th>domain</th>\n",
       "      <th>network_username</th>\n",
       "      <th>country_code</th>\n",
       "      <th>investment_rounds</th>\n",
       "      <th>funding_rounds</th>\n",
       "      <th>funding_total</th>\n",
       "      <th>milestones</th>\n",
       "    </tr>\n",
       "  </thead>\n",
       "  <tbody>\n",
       "    <tr>\n",
       "      <th>0</th>\n",
       "      <td>1.000000</td>\n",
       "      <td>wetpaint</td>\n",
       "      <td>web</td>\n",
       "      <td>operating</td>\n",
       "      <td>2005-10-17</td>\n",
       "      <td>NaT</td>\n",
       "      <td>wetpaint-inc.com</td>\n",
       "      <td>bachelrwetpaint</td>\n",
       "      <td>USA</td>\n",
       "      <td>0.000000</td>\n",
       "      <td>3.000000</td>\n",
       "      <td>39750000.000000</td>\n",
       "      <td>5.000000</td>\n",
       "    </tr>\n",
       "    <tr>\n",
       "      <th>15</th>\n",
       "      <td>1001.000000</td>\n",
       "      <td>friendfeed</td>\n",
       "      <td>web</td>\n",
       "      <td>acquired</td>\n",
       "      <td>2007-10-01</td>\n",
       "      <td>NaT</td>\n",
       "      <td>friendfeed.com</td>\n",
       "      <td>friendfeed</td>\n",
       "      <td>USA</td>\n",
       "      <td>0.000000</td>\n",
       "      <td>1.000000</td>\n",
       "      <td>5000000.000000</td>\n",
       "      <td>3.000000</td>\n",
       "    </tr>\n",
       "    <tr>\n",
       "      <th>20</th>\n",
       "      <td>10014.000000</td>\n",
       "      <td>mobclix</td>\n",
       "      <td>mobile</td>\n",
       "      <td>acquired</td>\n",
       "      <td>2008-03-01</td>\n",
       "      <td>NaT</td>\n",
       "      <td>mobclix.com</td>\n",
       "      <td>mobclix</td>\n",
       "      <td>USA</td>\n",
       "      <td>0.000000</td>\n",
       "      <td>1.000000</td>\n",
       "      <td>0.000000</td>\n",
       "      <td>4.000000</td>\n",
       "    </tr>\n",
       "    <tr>\n",
       "      <th>21</th>\n",
       "      <td>10015.000000</td>\n",
       "      <td>fitbit</td>\n",
       "      <td>health</td>\n",
       "      <td>operating</td>\n",
       "      <td>2007-10-01</td>\n",
       "      <td>NaT</td>\n",
       "      <td>fitbit.com</td>\n",
       "      <td>fitbit</td>\n",
       "      <td>USA</td>\n",
       "      <td>0.000000</td>\n",
       "      <td>5.000000</td>\n",
       "      <td>68069200.000000</td>\n",
       "      <td>0.000000</td>\n",
       "    </tr>\n",
       "    <tr>\n",
       "      <th>26</th>\n",
       "      <td>100155.000000</td>\n",
       "      <td>mtpv</td>\n",
       "      <td>cleantech</td>\n",
       "      <td>operating</td>\n",
       "      <td>2003-01-01</td>\n",
       "      <td>NaT</td>\n",
       "      <td>mtpv.com</td>\n",
       "      <td>NaN</td>\n",
       "      <td>USA</td>\n",
       "      <td>0.000000</td>\n",
       "      <td>3.000000</td>\n",
       "      <td>10125300.000000</td>\n",
       "      <td>1.000000</td>\n",
       "    </tr>\n",
       "  </tbody>\n",
       "</table>\n",
       "</div>"
      ],
      "text/plain": [
       "      company_id        name category_code     status founded_at closed_at  \\\n",
       "0       1.000000    wetpaint           web  operating 2005-10-17       NaT   \n",
       "15   1001.000000  friendfeed           web   acquired 2007-10-01       NaT   \n",
       "20  10014.000000     mobclix        mobile   acquired 2008-03-01       NaT   \n",
       "21  10015.000000      fitbit        health  operating 2007-10-01       NaT   \n",
       "26 100155.000000        mtpv     cleantech  operating 2003-01-01       NaT   \n",
       "\n",
       "              domain network_username country_code  investment_rounds  \\\n",
       "0   wetpaint-inc.com  bachelrwetpaint          USA           0.000000   \n",
       "15    friendfeed.com       friendfeed          USA           0.000000   \n",
       "20       mobclix.com          mobclix          USA           0.000000   \n",
       "21        fitbit.com           fitbit          USA           0.000000   \n",
       "26          mtpv.com              NaN          USA           0.000000   \n",
       "\n",
       "    funding_rounds   funding_total  milestones  \n",
       "0         3.000000 39750000.000000    5.000000  \n",
       "15        1.000000  5000000.000000    3.000000  \n",
       "20        1.000000        0.000000    4.000000  \n",
       "21        5.000000 68069200.000000    0.000000  \n",
       "26        3.000000 10125300.000000    1.000000  "
      ]
     },
     "metadata": {},
     "output_type": "display_data"
    }
   ],
   "source": [
    "# Образуем срез данных\n",
    "\n",
    "company_df_new_1 = company_df.loc[(company_df['funding_rounds'] > 0)]\n",
    "display(company_df_new_1.info())\n",
    "display(company_df_new_1.head())"
   ]
  },
  {
   "cell_type": "markdown",
   "metadata": {},
   "source": [
    "Таким образом, мы получаем новый датафрейм `company_df_new_1`, который является срезом данных, образованным по условиям данного задания. Он содержит 13 столбцов и 31707 строк. Напомним, что количество строк уменьшилось из-за того, что в новом датафрейме учитывались только те компании, у которых количество раундов финансирования больше 0"
   ]
  },
  {
   "cell_type": "markdown",
   "metadata": {},
   "source": [
    "В контексте данного задания нас интересует столбец `funding_rounds` (число раундов финансирования) и `status` (статус компании). Для нахождения типичного значение количества раундов для каждого возможного статуса стартапа, сгруппируем данные по столбцу `status` и применим к столбцу `funding_rounds` функцию нахождения медианного значения"
   ]
  },
  {
   "cell_type": "code",
   "execution_count": 81,
   "metadata": {},
   "outputs": [
    {
     "data": {
      "text/html": [
       "<div>\n",
       "<style scoped>\n",
       "    .dataframe tbody tr th:only-of-type {\n",
       "        vertical-align: middle;\n",
       "    }\n",
       "\n",
       "    .dataframe tbody tr th {\n",
       "        vertical-align: top;\n",
       "    }\n",
       "\n",
       "    .dataframe thead th {\n",
       "        text-align: right;\n",
       "    }\n",
       "</style>\n",
       "<table border=\"1\" class=\"dataframe\">\n",
       "  <thead>\n",
       "    <tr style=\"text-align: right;\">\n",
       "      <th></th>\n",
       "      <th>status</th>\n",
       "      <th>funding_rounds</th>\n",
       "    </tr>\n",
       "  </thead>\n",
       "  <tbody>\n",
       "    <tr>\n",
       "      <th>0</th>\n",
       "      <td>acquired</td>\n",
       "      <td>1.000000</td>\n",
       "    </tr>\n",
       "    <tr>\n",
       "      <th>1</th>\n",
       "      <td>closed</td>\n",
       "      <td>1.000000</td>\n",
       "    </tr>\n",
       "    <tr>\n",
       "      <th>2</th>\n",
       "      <td>operating</td>\n",
       "      <td>1.000000</td>\n",
       "    </tr>\n",
       "    <tr>\n",
       "      <th>3</th>\n",
       "      <td>ipo</td>\n",
       "      <td>2.000000</td>\n",
       "    </tr>\n",
       "  </tbody>\n",
       "</table>\n",
       "</div>"
      ],
      "text/plain": [
       "      status  funding_rounds\n",
       "0   acquired        1.000000\n",
       "1     closed        1.000000\n",
       "2  operating        1.000000\n",
       "3        ipo        2.000000"
      ]
     },
     "execution_count": 81,
     "metadata": {},
     "output_type": "execute_result"
    }
   ],
   "source": [
    "# Находим типичное значение количества раундов для каждого возможного статуса стартапа\n",
    "\n",
    "status_funding_rounds_median = company_df_new_1.groupby('status')['funding_rounds'].median().sort_values().reset_index()\n",
    "status_funding_rounds_median"
   ]
  },
  {
   "cell_type": "markdown",
   "metadata": {},
   "source": [
    "Мы видим, что для статусов стартапа `acquired`, `closed`, `operating`  типичное значение количества раундов - 1, для статуса стартапа `ipo` типичное значение количества раундов - 2"
   ]
  },
  {
   "cell_type": "markdown",
   "metadata": {},
   "source": [
    "Далее построим график, который отображает, сколько в среднем раундов финансирования проходило для стартапов из каждой группы. Сделаем это с помощью столбчатых диаграмм"
   ]
  },
  {
   "cell_type": "code",
   "execution_count": 82,
   "metadata": {},
   "outputs": [
    {
     "data": {
      "image/png": "[encoded data removed]",
      "text/plain": [
       "<Figure size 864x432 with 1 Axes>"
      ]
     },
     "metadata": {
      "needs_background": "light"
     },
     "output_type": "display_data"
    },
    {
     "name": "stdout",
     "output_type": "stream",
     "text": [
      "\n"
     ]
    },
    {
     "data": {
      "text/html": [
       "<div>\n",
       "<style scoped>\n",
       "    .dataframe tbody tr th:only-of-type {\n",
       "        vertical-align: middle;\n",
       "    }\n",
       "\n",
       "    .dataframe tbody tr th {\n",
       "        vertical-align: top;\n",
       "    }\n",
       "\n",
       "    .dataframe thead th {\n",
       "        text-align: right;\n",
       "    }\n",
       "</style>\n",
       "<table border=\"1\" class=\"dataframe\">\n",
       "  <thead>\n",
       "    <tr style=\"text-align: right;\">\n",
       "      <th></th>\n",
       "      <th>status</th>\n",
       "      <th>funding_rounds</th>\n",
       "    </tr>\n",
       "  </thead>\n",
       "  <tbody>\n",
       "    <tr>\n",
       "      <th>0</th>\n",
       "      <td>closed</td>\n",
       "      <td>1.383437</td>\n",
       "    </tr>\n",
       "    <tr>\n",
       "      <th>1</th>\n",
       "      <td>operating</td>\n",
       "      <td>1.642359</td>\n",
       "    </tr>\n",
       "    <tr>\n",
       "      <th>2</th>\n",
       "      <td>acquired</td>\n",
       "      <td>1.896645</td>\n",
       "    </tr>\n",
       "    <tr>\n",
       "      <th>3</th>\n",
       "      <td>ipo</td>\n",
       "      <td>2.526531</td>\n",
       "    </tr>\n",
       "  </tbody>\n",
       "</table>\n",
       "</div>"
      ],
      "text/plain": [
       "      status  funding_rounds\n",
       "0     closed        1.383437\n",
       "1  operating        1.642359\n",
       "2   acquired        1.896645\n",
       "3        ipo        2.526531"
      ]
     },
     "execution_count": 82,
     "metadata": {},
     "output_type": "execute_result"
    }
   ],
   "source": [
    "# Построим график столбчатой диаграммы\n",
    "\n",
    "status_funding_rounds_mean = company_df_new_1.groupby('status')['funding_rounds'].mean().sort_values()\n",
    "status_funding_rounds_mean.plot(kind='bar',\n",
    "               title=f'Среднее количество раундов финансирования для стартапов из каждой группы статусов',\n",
    "               legend=True,\n",
    "               ylabel='Среднее количество раундов',\n",
    "               xlabel='Статус',\n",
    "               rot=0,\n",
    "               figsize=(12, 6))\n",
    "plt.grid()\n",
    "\n",
    "plt.show()\n",
    "print()\n",
    "status_funding_rounds_mean.reset_index()"
   ]
  },
  {
   "cell_type": "markdown",
   "metadata": {},
   "source": [
    "Исходя из полученной информации, мы можем сделать следующий вывод:\n",
    "\n",
    "- Минимальное количество раундов финансирования принадлежит стартапам со статусом `closed` (закрытый)\n",
    "- Максимальное количество раундов финансирования принадлежит стартапам со статусом `ipo` (первое публичное размещение акций)\n",
    "\n",
    "Таким образом, мы можем предположить, что стартапы со статусом `ipo` нуждаются в больших инвестициях и раундах финансирования, в то время как стартапы со статусом `closed` уже закрыты. Вероятнее всего, стартапы со статусом `closed` были закрыты из-за отсутствия перспективы долгосрочного развития: в перспективе такие стартапы не смогли бы получить огромный успех и принести существенную прибыль компании, которая приобрела данный стартап"
   ]
  },
  {
   "cell_type": "markdown",
   "metadata": {
    "id": "VAFEZ2HBrJg3"
   },
   "source": [
    "\n",
    "## Шаг 4. Итоговый вывод и рекомендации"
   ]
  },
  {
   "cell_type": "markdown",
   "metadata": {},
   "source": [
    "### Общий обзор проделанной работы и ответы на исследовательские вопросы"
   ]
  },
  {
   "cell_type": "markdown",
   "metadata": {},
   "source": [
    "Выполнение данного проекта состояло из нескольких шагов:\n",
    "\n",
    "<big>**Шаг 1. Знакомство с данными: загрузка и первичная предобработка**</big>\n",
    "\n",
    "На данном шаге были выполнены следующие действия:\n",
    "\n",
    "*1.1. Вывод общей информации, исправление названия столбцов*\n",
    "\n",
    "Названия столбцов датафрейма `company_and_rounds_df` приведены к стилю `snake case`\n",
    "\n",
    "Все значения в столбцах со строковыми данными приведены к единому стилю написания (нижний регистр, убранные пробелы в начале и в конце строки)\n",
    "\n",
    "*1.2. Смена типов и анализ пропусков*\n",
    "\n",
    "Изменён тип данных на `datetime64` (информация о дате и времени) у следующих столбцов:\n",
    "\n",
    "- `acquired_at` - датафрейм `acquisition_df`\n",
    "- `founded_at`  - датафрейм `company_and_rounds_df`\n",
    "- `closed_at` - датафрейм `company_and_rounds_df`\n",
    "- `funded_at` - датафрейм `company_and_rounds_df`\n",
    "- `founded_at` - датафрейм `fund_df`\n",
    "\n",
    "Сделан следующий вывод:\n",
    "\n",
    "- Наибольшее количество пропусков содержится в датафрейме `company_and_rounds_df`. Причём доля пропусков в столбцах данного датафрейма может быть как крайне мала (меньше 1% пропусков), так и крайне высока (98% пропусков). Очевидно, что для решения задач проекта необходимо обратить пристальное внимание на имеющиеся пропуски и принять попытки обработать их без потери значительной части данных, которые могут использоваться в ходе исследовательского анализа данных"
   ]
  },
  {
   "cell_type": "markdown",
   "metadata": {},
   "source": [
    "<big>**Шаг 2. Предобработка данных, предварительное исследование**</big>\n",
    "\n",
    "На данном шаге были выполнены следующие действия:\n",
    "\n",
    "*2.1. Раунды финансирования по годам*\n",
    "\n",
    "На основе датасета `company_and_rounds.csv` построена сводная таблица по годам, в которой на основании столбца `raised_amount` для каждого года указан:\n",
    "\n",
    "- типичный размер средств, выделяемый в рамках одного раунда;\n",
    "- общее количество раундов финансирования за этот год (в этой таблице оставлена информация только для тех лет, для которых есть информация о более чем 50 раундах финансирования)\n",
    "    \n",
    "Построен график, который отражает динамику типичного размера средств, которые стартапы получали в рамках одного раунда финансирования\n",
    "\n",
    "Даны ответы на поставленные вопросы:\n",
    "\n",
    "*В каком году типичный размер собранных в рамках одного раунда средств был максимален?*\n",
    "\n",
    "- Ответ: типичный размер собранных в рамках одного раунда средств был максимален в 2005 году (5.5 млн)\n",
    "\n",
    "*Какая тенденция по количеству раундов и выделяемых в рамках каждого раунда средств наблюдалась в 2013 году?*\n",
    "\n",
    "- Ответ: в 2013 году наблюдалась тенденция на увеличение количества раундов по сравнению с предыдущими годами. Тенденция на увеличение типичного размера средств, получаемых в рамках одного раунда финансирования, наблюдалась только по сравнению с 2012 годом. С 1999 по 2010 годы типичный размер средств, получаемых в рамках одного раунда финансирования, был больше по сравнению с 2013 годом\n",
    "\n",
    "*2.2. Люди и их образование*\n",
    "\n",
    "Для оценки полноты информации об образовании сотрудников были объединены датасеты `people.csv` и `education.csv`. Новый датафрейм получил название `people_education_df`\n",
    "\n",
    "Создана таблица, в которой все компании были разделены на несколько групп по количеству сотрудников. Также была оценена средняя доля сотрудников без информации об образовании в каждой из групп\n",
    "\n",
    "Сделан следующий вывод:\n",
    "\n",
    "- В каждой из групп компаний, разделённых по количеству сотрудников, наблюдается значительное отсутствие информации об образовании сотрудников. Если в случае компаний, в которых работают 2 сотрудника, отсутствует около 40% информации об образовании сотрудников, то в компаниях, где работает 1 сотрудников, отсутствует почти 70% информации об образовании сотрудников. Исходя из этого, мы делаем вывод о том, что информация об образовании сотрудников недостаточно полна\n",
    "\n",
    "- С увеличением количества сотрудников в компании, увеличивается доля сотрудников без информации об образовании (за исключением группы компаний, где работает всего 1 сотрудник):\n",
    "\n",
    "    - 2 сотрудника - отсутствует 40% информации об образовании\n",
    "    - 3-5 сотрудников - отсутствует 44% информации об образовании\n",
    "    - 6-10 сотрудников - отсутствует 52% информации об образовании\n",
    "    - 11+ сотрудников - отсутствует 56% информации об образовании\n",
    "\n",
    "Дан ответ на вопрос о том, возможно ли для выполнения задания присоединить к таблице `people_education_df` ещё и таблицу `degrees.csv`:\n",
    "\n",
    "- Присоединить таблицу `degrees.csv` к датафрейму `people_education_df` - не получится, поскольку типы данных в столбцах с идентификаторами сотрудников в данных таблицах - не совпадают\n",
    "\n",
    "*2.3. Объединять или не объединять — вот в чём вопрос*\n",
    "\n",
    "Изучено количество уникальных значений, а также общее количество значений в столбце `network_username` в трёх разных датафреймах - `company_and_rounds_df`, `people_df`, `fund_df`\n",
    "\n",
    "Изучено количество дубликатов, которые содержатся в столбце `network_username` в трёх разных датафреймах - `company_and_rounds_df`, `people_df`, `fund_df`\n",
    "\n",
    "Изучено количество пересечений столбца `network_username` между тремя разными датафреймами - `company_and_rounds_df`, `people_df`, `fund_df`\n",
    "\n",
    "Сделан следующий вывод:\n",
    "\n",
    "- Производить объединение данных по столбцу `network_username` с датафреймом `fund_df` - не стоит, поскольку количество пересечений - крайне мало\n",
    "- Столбцы с именем `network_username` можно использовать для объединения данных из датафреймов `company_and_rounds_df` и `people_df`, так как количество пересечений существенно выше по сравнению с датафреймом `fund_df`\n",
    "\n",
    "*2.4. Проблемный датасет и причина возникновения пропусков*\n",
    "\n",
    "В датафрейме `company_and_rounds_df` удалён дублирующийся столбец `company_id` (результаты сохранены в новый датафрейм `company_and_rounds_df_new`)\n",
    "\n",
    "Датафрейм `company_and_rounds_df_new` разделён на две таблицы - таблица со столбцами про компании и таблица со столбцами о раундах финанасирования. Результаты преобразований сохранены в два новых датафрейма - \n",
    "`company_df` и `rounds_df`\n",
    "\n",
    "Удалены дубликаты записей и имеющиеся пропуски\n",
    "\n",
    "С помощью этих преобразований данные приведены в вид, который позволит в дальнейшем проводить анализ в разрезе отдельных компаний. Это обеспечит удобный отбор компаний по параметрам и расчёт показателей из расчёта на одну компанию без промежуточных агрегаций"
   ]
  },
  {
   "cell_type": "markdown",
   "metadata": {},
   "source": [
    "<big>**Шаг 3. Исследовательский анализ объединённых таблиц**</big>\n",
    "\n",
    "На данном шаге были выполнены следующие действия:\n",
    "\n",
    "*3.1. Объединение данных*\n",
    "\n",
    "Создана новая таблица `company_df_new`, которая является срезом данных таблицы `company_df` со следующими условиями:\n",
    "\n",
    "- число раундов финансирования (`funding_rounds`) > 0 ИЛИ число инвестиционных раундов (`investment_rounds`) > 0 ИЛИ статус компании (`status`) = acquired (приобретенный)\n",
    "\n",
    "*3.2. Анализ выбросов*\n",
    "\n",
    "Построена диаграмма размаха и составлена описательная статистика по столбцу `funding_total` на основе датафрейма `company_df_new`. По ним были сделаны следующие выводы:\n",
    "\n",
    "- Большее количество значений сосредоточено в диапазоне от 0 до 14 млн\n",
    "- Минимумом без учёта аномалий и нижним квартилем (25% значений) является одно и то же значение - 0\n",
    "- Верхней границей квартиля (75% значений) является значение около 5.5 млн\n",
    "- Максимальным значением без учёта аномалий является значений около 14 млн\n",
    "- Значения свыше около 14 миллионов (значение около 85-ого перцентиля) будут являться выбросами, а значения свыше около 130 миллионов (99-ый перцентиль) будут являться аномалиями\n",
    "- 600 тысяч - типичный размер общего финансирования для одной компании\n",
    "- Свыше 14 - 15 млн - выбивающийся размер общего финансирования для одной компании\n",
    "- По показателю среднего значения, возвращаемого методом `.describe()`, невозможно правильно установить размер типичных значений. При этом можно использовать медианное значение, которое позволит наиболее точно определить типичный размер общего финансирования для одной компании\n",
    "\n",
    "*3.3. Куплены забесплатно?*\n",
    "\n",
    "Создан новый датафрейм на основе соединения двух датафреймов - `company_df_new` (информация о компаниях) и `acquisition_df` (информация о покупках одними компаниями других компаний) под названием `company_acquisition_df`\n",
    "\n",
    "Создана новая таблица `company_acquisition_df_new`, которая является срезом данных таблицы `company_acquisition_df` со следующими условиями:\n",
    "\n",
    "- сумма сделки (`price_amount`) = 0 или 1\n",
    "- сумма финансирования (`funding_total`) > 0\n",
    "\n",
    "Проведено исследование компаний, входящих в таблицу `company_acquisition_df_new`. Сделаны следующие выводы:\n",
    "\n",
    "- Распределение данных - ненормальное, имеет правостороннюю ассиметрию (положительную скошенность), а значит - в данных имеются выбросы, которые оттягивают распределение вправо\n",
    "\n",
    "- В данных нет компаний, которые были проданы за 1 доллар\n",
    "\n",
    "С помощью аналитических расчётов найдены верхняя и нижняя границы выбросов для столбца `funding_total`:\n",
    "\n",
    "- Нижняя граница выбросов для столбца `funding_total` - 18.25 млн (соответствует 25-ому процентилю)\n",
    "- Верхняя граница выбросов для столбца `funding_total` - 35.75 млн (соответствует 75-ому процентилю)\n",
    "\n",
    "Сделан следующий вывод:\n",
    "\n",
    "- Если брать за нижнюю и верхнюю границы выбросов значения, рассчитанные по процентилям, при устранении этих выбросов можно потерять существенную долю данных. В итоге анализ на искажённом срезе данных приведёт к некорретным результатам исследовательского анализа данных. Поэтому планируемая заказчиком замена нижней и верхней границы выбросов на значения, рассчитанные по процентилям, приведёт к ложному представлению об имеющихся данных\n",
    "\n",
    "*3.4. Цены стартапов по категориям*\n",
    "\n",
    "Созданы два рейтинга:\n",
    "\n",
    "- Топ-15 стартапов с наибольшими ценами (`top15_price`)\n",
    "- Топ-7 стартапов с наибольшим разбросом цен за стартап (`top7_iqr`)\n",
    "\n",
    "Сделаны следующие выводы:\n",
    "\n",
    "- Минимальная цена стартапа в топ-15 стартапов с наибольшими ценами - 1.1 млн (категория - `transportation`)\n",
    "- Максимальная цена стартапа в топ-15 стартапов с наибольшими ценами - 8.1 млн (категория - `semiconductor`)\n",
    "- Минимальный разброс цен в топ-7 стартапов с наибольшим разбросом цен за стартап - 11.995 млн (категория - `security`)\n",
    "- Максимальная цена стартапа в топ-7 стартапов с наибольшим разбросом цен за стартап - 24.737 млн (категория - `cleantech`)\n",
    "\n",
    "*3.5. Сколько раундов продержится стартап перед покупкой*\n",
    "\n",
    "Создана новая таблица `company_df_new_1`, которая является срезом данных таблицы `company_df` с условием ненулевого положительного значения раундов финансирования (`funding_rounds > 0`) \n",
    "\n",
    "На основе таблицы `company_df_new_1` создана таблица `status_funding_rounds_median`, в которой данные сгруппированы по столбцу `status`, а к столбцу `funding_rounds` применена функцию нахождения медианного значения\n",
    "\n",
    "По созданной таблице `status_funding_rounds_median` сделан следующий вывод:\n",
    "\n",
    "- Для статуса стартапа `acquired` типичное значение количества раундов - 0, для остальных статусов стартапов (`closed`, `ipo`, `operating`) типичное значение количества раундов - 1\n",
    "\n",
    "На основе таблицы `company_df_new_1` построен график `status_funding_rounds_mean`, который отображает, сколько в среднем раундов финансирования проходило для стартапов из каждой группы\n",
    "\n",
    "По построенному графику `status_funding_rounds_mean` сделаны следующие выводы:\n",
    "\n",
    "- Минимальное количество раундов финансирования принадлежит стартапам со статусом `closed` (закрытый)\n",
    "- Максимальное количество раундов финансирования принадлежит стартапам со статусом `ipo` (первое публичное размещение акций)\n",
    "- Cтартапы со статусом `ipo` нуждаются в больших инвестициях и раундах финансирования, в то время как стартапы со статусом `closed` уже закрыты. Вероятнее всего, стартапы со статусом `closed` были закрыты из-за отсутствия перспективы долгосрочного развития: в перспективе такие стартапы не смогли бы получить огромный успех и принести существенную прибыль компании, которая приобрела данный стартап"
   ]
  },
  {
   "cell_type": "markdown",
   "metadata": {},
   "source": [
    "### Рекомендации на основе анализа данных\n",
    "\n",
    "После выполнения ряда действий, полученные данные получилось привести в вид, готовый для полноценного исследовательского анализа данных. Составлено большое количество таблиц, которые можно успешно использовать для анализа данных без дополнительных агрегаций\n",
    "\n",
    "В качестве рекомендаций стоит обратить внимание на вопрос обработки пропусков: на данный момент, существенная доля данных обладает значимыми пропусками, которые влияют на весь ход выполнения исследовательского анализа данных. Вследствие этого, возникают некие сомнения насчёт достоверности предоставленных данных, поскольку сложно установить взаимосвязь между некоторыми гипотезами, которые вызывают определённые противоречия"
   ]
  }
 ],
 "metadata": {
  "ExecuteTimeLog": [
   {
    "duration": 4,
    "start_time": "2025-02-20T08:54:47.190Z"
   },
   {
    "duration": 5697,
    "start_time": "2025-02-20T10:15:44.663Z"
   },
   {
    "duration": 4200,
    "start_time": "2025-02-20T10:19:00.516Z"
   },
   {
    "duration": 2833,
    "start_time": "2025-02-20T10:19:08.214Z"
   },
   {
    "duration": 14,
    "start_time": "2025-02-20T10:20:53.352Z"
   },
   {
    "duration": 14,
    "start_time": "2025-02-20T10:21:09.367Z"
   },
   {
    "duration": 4130,
    "start_time": "2025-02-20T10:25:02.559Z"
   },
   {
    "duration": 2554,
    "start_time": "2025-02-20T10:25:08.532Z"
   },
   {
    "duration": 15,
    "start_time": "2025-02-20T10:25:13.013Z"
   },
   {
    "duration": 14,
    "start_time": "2025-02-20T10:25:13.565Z"
   },
   {
    "duration": 34,
    "start_time": "2025-02-20T10:25:15.103Z"
   },
   {
    "duration": 114,
    "start_time": "2025-02-20T10:25:15.846Z"
   },
   {
    "duration": 18,
    "start_time": "2025-02-20T10:25:17.837Z"
   },
   {
    "duration": 21,
    "start_time": "2025-02-20T10:25:18.549Z"
   },
   {
    "duration": 11,
    "start_time": "2025-02-20T10:25:20.140Z"
   },
   {
    "duration": 69,
    "start_time": "2025-02-20T10:25:20.387Z"
   },
   {
    "duration": 9,
    "start_time": "2025-02-20T10:25:22.149Z"
   },
   {
    "duration": 38,
    "start_time": "2025-02-20T10:25:22.373Z"
   },
   {
    "duration": 11,
    "start_time": "2025-02-20T10:25:23.685Z"
   },
   {
    "duration": 13,
    "start_time": "2025-02-20T10:25:24.244Z"
   },
   {
    "duration": 7,
    "start_time": "2025-02-20T10:25:25.757Z"
   },
   {
    "duration": 17,
    "start_time": "2025-02-20T10:25:26.293Z"
   },
   {
    "duration": 4073,
    "start_time": "2025-02-20T10:28:08.886Z"
   },
   {
    "duration": 2373,
    "start_time": "2025-02-20T10:28:12.961Z"
   },
   {
    "duration": 16,
    "start_time": "2025-02-20T10:28:15.336Z"
   },
   {
    "duration": 27,
    "start_time": "2025-02-20T10:28:15.354Z"
   },
   {
    "duration": 53,
    "start_time": "2025-02-20T10:28:15.383Z"
   },
   {
    "duration": 128,
    "start_time": "2025-02-20T10:28:15.438Z"
   },
   {
    "duration": 8,
    "start_time": "2025-02-20T10:28:15.567Z"
   },
   {
    "duration": 43,
    "start_time": "2025-02-20T10:28:15.577Z"
   },
   {
    "duration": 11,
    "start_time": "2025-02-20T10:28:15.621Z"
   },
   {
    "duration": 88,
    "start_time": "2025-02-20T10:28:15.633Z"
   },
   {
    "duration": 9,
    "start_time": "2025-02-20T10:28:15.723Z"
   },
   {
    "duration": 31,
    "start_time": "2025-02-20T10:28:15.734Z"
   },
   {
    "duration": 23,
    "start_time": "2025-02-20T10:28:15.767Z"
   },
   {
    "duration": 72,
    "start_time": "2025-02-20T10:28:15.793Z"
   },
   {
    "duration": 25,
    "start_time": "2025-02-20T10:28:15.867Z"
   },
   {
    "duration": 117,
    "start_time": "2025-02-20T10:28:15.894Z"
   },
   {
    "duration": 99,
    "start_time": "2025-02-20T10:28:16.013Z"
   },
   {
    "duration": 7,
    "start_time": "2025-02-20T10:28:44.929Z"
   },
   {
    "duration": 7,
    "start_time": "2025-02-20T10:29:00.854Z"
   },
   {
    "duration": 11,
    "start_time": "2025-02-20T10:29:05.594Z"
   },
   {
    "duration": 24,
    "start_time": "2025-02-20T10:29:11.190Z"
   },
   {
    "duration": 122,
    "start_time": "2025-02-20T10:29:17.427Z"
   },
   {
    "duration": 17,
    "start_time": "2025-02-20T10:29:21.238Z"
   },
   {
    "duration": 18,
    "start_time": "2025-02-20T10:30:15.558Z"
   },
   {
    "duration": 17,
    "start_time": "2025-02-20T10:36:32.765Z"
   },
   {
    "duration": 17,
    "start_time": "2025-02-20T10:36:56.717Z"
   },
   {
    "duration": 31,
    "start_time": "2025-02-20T10:37:15.239Z"
   },
   {
    "duration": 40,
    "start_time": "2025-02-20T10:37:32.771Z"
   },
   {
    "duration": 33,
    "start_time": "2025-02-20T10:38:00.780Z"
   },
   {
    "duration": 30,
    "start_time": "2025-02-20T10:38:10.236Z"
   },
   {
    "duration": 43,
    "start_time": "2025-02-20T10:38:20.579Z"
   },
   {
    "duration": 28,
    "start_time": "2025-02-20T10:38:24.550Z"
   },
   {
    "duration": 29,
    "start_time": "2025-02-20T10:38:28.812Z"
   },
   {
    "duration": 4079,
    "start_time": "2025-02-20T10:38:39.916Z"
   },
   {
    "duration": 2461,
    "start_time": "2025-02-20T10:38:43.998Z"
   },
   {
    "duration": 14,
    "start_time": "2025-02-20T10:38:46.461Z"
   },
   {
    "duration": 14,
    "start_time": "2025-02-20T10:38:46.477Z"
   },
   {
    "duration": 31,
    "start_time": "2025-02-20T10:38:46.493Z"
   },
   {
    "duration": 114,
    "start_time": "2025-02-20T10:38:46.526Z"
   },
   {
    "duration": 8,
    "start_time": "2025-02-20T10:38:46.642Z"
   },
   {
    "duration": 23,
    "start_time": "2025-02-20T10:38:46.652Z"
   },
   {
    "duration": 16,
    "start_time": "2025-02-20T10:38:46.701Z"
   },
   {
    "duration": 46,
    "start_time": "2025-02-20T10:38:46.718Z"
   },
   {
    "duration": 9,
    "start_time": "2025-02-20T10:38:46.766Z"
   },
   {
    "duration": 52,
    "start_time": "2025-02-20T10:38:46.776Z"
   },
   {
    "duration": 11,
    "start_time": "2025-02-20T10:38:46.830Z"
   },
   {
    "duration": 18,
    "start_time": "2025-02-20T10:38:46.843Z"
   },
   {
    "duration": 12,
    "start_time": "2025-02-20T10:38:46.863Z"
   },
   {
    "duration": 35,
    "start_time": "2025-02-20T10:38:46.877Z"
   },
   {
    "duration": 19,
    "start_time": "2025-02-20T10:38:46.915Z"
   },
   {
    "duration": 28,
    "start_time": "2025-02-20T10:38:46.935Z"
   },
   {
    "duration": 609,
    "start_time": "2025-02-20T10:49:35.281Z"
   },
   {
    "duration": 8,
    "start_time": "2025-02-20T10:52:09.562Z"
   },
   {
    "duration": 14,
    "start_time": "2025-02-20T10:52:18.241Z"
   },
   {
    "duration": 13,
    "start_time": "2025-02-20T10:52:24.585Z"
   },
   {
    "duration": 75,
    "start_time": "2025-02-20T10:53:53.079Z"
   },
   {
    "duration": 121,
    "start_time": "2025-02-20T10:54:05.340Z"
   },
   {
    "duration": 164,
    "start_time": "2025-02-20T10:55:28.096Z"
   },
   {
    "duration": 64,
    "start_time": "2025-02-20T10:55:43.750Z"
   },
   {
    "duration": 5,
    "start_time": "2025-02-20T10:56:14.203Z"
   },
   {
    "duration": 15,
    "start_time": "2025-02-20T10:56:27.618Z"
   },
   {
    "duration": 134,
    "start_time": "2025-02-20T10:56:46.225Z"
   },
   {
    "duration": 118,
    "start_time": "2025-02-20T10:57:01.216Z"
   },
   {
    "duration": 14,
    "start_time": "2025-02-20T10:57:25.320Z"
   },
   {
    "duration": 11,
    "start_time": "2025-02-20T10:57:34.064Z"
   },
   {
    "duration": 20,
    "start_time": "2025-02-20T10:57:41.019Z"
   },
   {
    "duration": 11,
    "start_time": "2025-02-20T10:57:42.751Z"
   },
   {
    "duration": 141,
    "start_time": "2025-02-20T10:57:49.405Z"
   },
   {
    "duration": 117,
    "start_time": "2025-02-20T10:58:32.357Z"
   },
   {
    "duration": 81,
    "start_time": "2025-02-20T11:00:40.641Z"
   },
   {
    "duration": 4238,
    "start_time": "2025-02-20T11:01:08.313Z"
   },
   {
    "duration": 2811,
    "start_time": "2025-02-20T11:01:12.553Z"
   },
   {
    "duration": 16,
    "start_time": "2025-02-20T11:01:15.366Z"
   },
   {
    "duration": 25,
    "start_time": "2025-02-20T11:01:15.384Z"
   },
   {
    "duration": 28,
    "start_time": "2025-02-20T11:01:15.423Z"
   },
   {
    "duration": 126,
    "start_time": "2025-02-20T11:01:15.452Z"
   },
   {
    "duration": 8,
    "start_time": "2025-02-20T11:01:15.580Z"
   },
   {
    "duration": 48,
    "start_time": "2025-02-20T11:01:15.590Z"
   },
   {
    "duration": 11,
    "start_time": "2025-02-20T11:01:15.640Z"
   },
   {
    "duration": 73,
    "start_time": "2025-02-20T11:01:15.653Z"
   },
   {
    "duration": 8,
    "start_time": "2025-02-20T11:01:15.729Z"
   },
   {
    "duration": 112,
    "start_time": "2025-02-20T11:01:15.739Z"
   },
   {
    "duration": 11,
    "start_time": "2025-02-20T11:01:15.853Z"
   },
   {
    "duration": 35,
    "start_time": "2025-02-20T11:01:15.867Z"
   },
   {
    "duration": 18,
    "start_time": "2025-02-20T11:01:15.911Z"
   },
   {
    "duration": 11,
    "start_time": "2025-02-20T11:01:15.930Z"
   },
   {
    "duration": 101,
    "start_time": "2025-02-20T11:01:15.942Z"
   },
   {
    "duration": 30,
    "start_time": "2025-02-20T11:01:16.045Z"
   },
   {
    "duration": 205,
    "start_time": "2025-02-20T11:01:16.077Z"
   },
   {
    "duration": 3,
    "start_time": "2025-02-20T11:01:16.284Z"
   },
   {
    "duration": 147,
    "start_time": "2025-02-20T11:01:16.288Z"
   },
   {
    "duration": 94,
    "start_time": "2025-02-20T11:05:01.700Z"
   },
   {
    "duration": 93,
    "start_time": "2025-02-20T11:05:27.901Z"
   },
   {
    "duration": 82,
    "start_time": "2025-02-20T11:05:37.781Z"
   },
   {
    "duration": 199,
    "start_time": "2025-02-20T11:06:12.957Z"
   },
   {
    "duration": 92,
    "start_time": "2025-02-20T11:09:50.036Z"
   },
   {
    "duration": 108,
    "start_time": "2025-02-20T11:10:01.973Z"
   },
   {
    "duration": 19,
    "start_time": "2025-02-20T11:12:23.349Z"
   },
   {
    "duration": 17,
    "start_time": "2025-02-20T11:12:28.869Z"
   },
   {
    "duration": 138,
    "start_time": "2025-02-20T11:12:59.322Z"
   },
   {
    "duration": 28,
    "start_time": "2025-02-20T11:13:14.222Z"
   },
   {
    "duration": 86,
    "start_time": "2025-02-20T11:13:29.481Z"
   },
   {
    "duration": 26,
    "start_time": "2025-02-20T11:13:33.865Z"
   },
   {
    "duration": 25,
    "start_time": "2025-02-20T11:13:48.387Z"
   },
   {
    "duration": 22,
    "start_time": "2025-02-20T11:13:55.694Z"
   },
   {
    "duration": 3,
    "start_time": "2025-02-20T11:14:34.720Z"
   },
   {
    "duration": 126,
    "start_time": "2025-02-20T11:14:45.989Z"
   },
   {
    "duration": 19,
    "start_time": "2025-02-20T11:15:59.477Z"
   },
   {
    "duration": 23,
    "start_time": "2025-02-20T11:16:49.793Z"
   },
   {
    "duration": 20,
    "start_time": "2025-02-20T11:17:15.833Z"
   },
   {
    "duration": 25,
    "start_time": "2025-02-20T11:17:29.598Z"
   },
   {
    "duration": 194,
    "start_time": "2025-02-20T11:19:41.113Z"
   },
   {
    "duration": 200,
    "start_time": "2025-02-20T11:20:04.434Z"
   },
   {
    "duration": 205,
    "start_time": "2025-02-20T11:20:41.556Z"
   },
   {
    "duration": 211,
    "start_time": "2025-02-20T11:20:56.635Z"
   },
   {
    "duration": 193,
    "start_time": "2025-02-20T11:21:19.457Z"
   },
   {
    "duration": 19,
    "start_time": "2025-02-20T11:21:38.629Z"
   },
   {
    "duration": 175,
    "start_time": "2025-02-20T11:21:42.301Z"
   },
   {
    "duration": 248,
    "start_time": "2025-02-20T11:21:52.961Z"
   },
   {
    "duration": 181,
    "start_time": "2025-02-20T11:23:15.470Z"
   },
   {
    "duration": 201,
    "start_time": "2025-02-20T11:25:02.400Z"
   },
   {
    "duration": 86,
    "start_time": "2025-02-20T11:25:38.145Z"
   },
   {
    "duration": 444,
    "start_time": "2025-02-20T11:26:01.839Z"
   },
   {
    "duration": 174,
    "start_time": "2025-02-20T11:26:17.445Z"
   },
   {
    "duration": 4284,
    "start_time": "2025-02-20T11:28:31.536Z"
   },
   {
    "duration": 3048,
    "start_time": "2025-02-20T11:28:35.823Z"
   },
   {
    "duration": 16,
    "start_time": "2025-02-20T11:28:38.873Z"
   },
   {
    "duration": 31,
    "start_time": "2025-02-20T11:28:38.891Z"
   },
   {
    "duration": 27,
    "start_time": "2025-02-20T11:28:38.924Z"
   },
   {
    "duration": 128,
    "start_time": "2025-02-20T11:28:38.953Z"
   },
   {
    "duration": 20,
    "start_time": "2025-02-20T11:28:39.083Z"
   },
   {
    "duration": 29,
    "start_time": "2025-02-20T11:28:39.107Z"
   },
   {
    "duration": 19,
    "start_time": "2025-02-20T11:28:39.138Z"
   },
   {
    "duration": 66,
    "start_time": "2025-02-20T11:28:39.160Z"
   },
   {
    "duration": 13,
    "start_time": "2025-02-20T11:28:39.228Z"
   },
   {
    "duration": 27,
    "start_time": "2025-02-20T11:28:39.242Z"
   },
   {
    "duration": 42,
    "start_time": "2025-02-20T11:28:39.271Z"
   },
   {
    "duration": 17,
    "start_time": "2025-02-20T11:28:39.315Z"
   },
   {
    "duration": 11,
    "start_time": "2025-02-20T11:28:39.334Z"
   },
   {
    "duration": 13,
    "start_time": "2025-02-20T11:28:39.348Z"
   },
   {
    "duration": 61,
    "start_time": "2025-02-20T11:28:39.363Z"
   },
   {
    "duration": 29,
    "start_time": "2025-02-20T11:28:39.426Z"
   },
   {
    "duration": 222,
    "start_time": "2025-02-20T11:28:39.457Z"
   },
   {
    "duration": 153,
    "start_time": "2025-02-20T11:28:39.681Z"
   },
   {
    "duration": 89,
    "start_time": "2025-02-20T11:28:39.835Z"
   },
   {
    "duration": 195,
    "start_time": "2025-02-20T11:28:39.929Z"
   },
   {
    "duration": 48,
    "start_time": "2025-02-20T11:28:40.127Z"
   },
   {
    "duration": 130,
    "start_time": "2025-02-20T11:28:40.178Z"
   },
   {
    "duration": 93,
    "start_time": "2025-02-20T11:28:40.318Z"
   },
   {
    "duration": 43,
    "start_time": "2025-02-20T11:28:40.413Z"
   },
   {
    "duration": 95,
    "start_time": "2025-02-20T11:28:40.461Z"
   },
   {
    "duration": 124,
    "start_time": "2025-02-20T11:55:57.413Z"
   },
   {
    "duration": 11,
    "start_time": "2025-02-20T12:00:40.295Z"
   },
   {
    "duration": 14,
    "start_time": "2025-02-20T12:02:08.324Z"
   },
   {
    "duration": 1302,
    "start_time": "2025-02-20T12:02:20.091Z"
   },
   {
    "duration": 100,
    "start_time": "2025-02-20T12:02:41.029Z"
   },
   {
    "duration": 255,
    "start_time": "2025-02-20T12:02:50.252Z"
   },
   {
    "duration": 211,
    "start_time": "2025-02-20T12:04:23.118Z"
   },
   {
    "duration": 195,
    "start_time": "2025-02-20T12:04:40.789Z"
   },
   {
    "duration": 9,
    "start_time": "2025-02-20T12:04:45.272Z"
   },
   {
    "duration": 7,
    "start_time": "2025-02-20T12:04:48.455Z"
   },
   {
    "duration": 21,
    "start_time": "2025-02-20T12:05:10.732Z"
   },
   {
    "duration": 14,
    "start_time": "2025-02-20T12:05:40.498Z"
   },
   {
    "duration": 14,
    "start_time": "2025-02-20T12:05:56.638Z"
   },
   {
    "duration": 13,
    "start_time": "2025-02-20T12:06:14.114Z"
   },
   {
    "duration": 95,
    "start_time": "2025-02-20T12:07:19.760Z"
   },
   {
    "duration": 17,
    "start_time": "2025-02-20T12:07:40.803Z"
   },
   {
    "duration": 19,
    "start_time": "2025-02-20T12:07:56.675Z"
   },
   {
    "duration": 8,
    "start_time": "2025-02-20T12:08:34.131Z"
   },
   {
    "duration": 101,
    "start_time": "2025-02-20T12:09:47.508Z"
   },
   {
    "duration": 25,
    "start_time": "2025-02-20T12:11:02.346Z"
   },
   {
    "duration": 10,
    "start_time": "2025-02-20T12:12:39.477Z"
   },
   {
    "duration": 13,
    "start_time": "2025-02-20T12:12:48.845Z"
   },
   {
    "duration": 443,
    "start_time": "2025-02-20T12:13:39.994Z"
   },
   {
    "duration": 50,
    "start_time": "2025-02-20T12:14:36.802Z"
   },
   {
    "duration": 54,
    "start_time": "2025-02-20T12:15:15.431Z"
   },
   {
    "duration": 225,
    "start_time": "2025-02-20T12:21:14.995Z"
   },
   {
    "duration": 923,
    "start_time": "2025-02-20T12:25:54.867Z"
   },
   {
    "duration": 1003,
    "start_time": "2025-02-20T12:27:08.998Z"
   },
   {
    "duration": 40,
    "start_time": "2025-02-20T12:27:19.516Z"
   },
   {
    "duration": 26,
    "start_time": "2025-02-20T12:27:53.408Z"
   },
   {
    "duration": 1272,
    "start_time": "2025-02-20T12:28:22.680Z"
   },
   {
    "duration": 1069,
    "start_time": "2025-02-20T12:30:20.944Z"
   },
   {
    "duration": 1067,
    "start_time": "2025-02-20T12:31:07.485Z"
   },
   {
    "duration": 946,
    "start_time": "2025-02-20T12:31:37.834Z"
   },
   {
    "duration": 1004,
    "start_time": "2025-02-20T12:31:49.556Z"
   },
   {
    "duration": 109,
    "start_time": "2025-02-20T12:34:15.886Z"
   },
   {
    "duration": 104,
    "start_time": "2025-02-20T12:34:38.386Z"
   },
   {
    "duration": 86,
    "start_time": "2025-02-20T12:34:59.560Z"
   },
   {
    "duration": 1074,
    "start_time": "2025-02-20T12:35:11.330Z"
   },
   {
    "duration": 1249,
    "start_time": "2025-02-20T12:36:39.016Z"
   },
   {
    "duration": 15,
    "start_time": "2025-02-20T12:36:45.465Z"
   },
   {
    "duration": 1265,
    "start_time": "2025-02-20T12:37:17.503Z"
   },
   {
    "duration": 67,
    "start_time": "2025-02-20T12:37:39.340Z"
   },
   {
    "duration": 475,
    "start_time": "2025-02-20T12:38:58.782Z"
   },
   {
    "duration": 12,
    "start_time": "2025-02-20T12:39:28.560Z"
   },
   {
    "duration": 269,
    "start_time": "2025-02-20T12:39:53.840Z"
   },
   {
    "duration": 74,
    "start_time": "2025-02-20T12:40:27.801Z"
   },
   {
    "duration": 33,
    "start_time": "2025-02-20T12:40:50.343Z"
   },
   {
    "duration": 29,
    "start_time": "2025-02-20T12:41:08.363Z"
   },
   {
    "duration": 12,
    "start_time": "2025-02-20T12:43:49.111Z"
   },
   {
    "duration": 1894,
    "start_time": "2025-02-20T12:47:14.391Z"
   },
   {
    "duration": 516,
    "start_time": "2025-02-20T12:47:23.730Z"
   },
   {
    "duration": 71,
    "start_time": "2025-02-20T12:48:27.007Z"
   },
   {
    "duration": 223,
    "start_time": "2025-02-20T12:49:33.924Z"
   },
   {
    "duration": 67,
    "start_time": "2025-02-20T12:50:17.817Z"
   },
   {
    "duration": 31,
    "start_time": "2025-02-20T12:52:44.182Z"
   },
   {
    "duration": 67,
    "start_time": "2025-02-20T12:55:25.415Z"
   },
   {
    "duration": 95,
    "start_time": "2025-02-20T12:56:14.091Z"
   },
   {
    "duration": 140,
    "start_time": "2025-02-20T12:56:36.957Z"
   },
   {
    "duration": 154,
    "start_time": "2025-02-20T12:57:13.863Z"
   },
   {
    "duration": 3950,
    "start_time": "2025-02-20T12:57:38.295Z"
   },
   {
    "duration": 2920,
    "start_time": "2025-02-20T12:57:42.248Z"
   },
   {
    "duration": 15,
    "start_time": "2025-02-20T12:57:45.170Z"
   },
   {
    "duration": 23,
    "start_time": "2025-02-20T12:57:45.187Z"
   },
   {
    "duration": 60,
    "start_time": "2025-02-20T12:57:45.213Z"
   },
   {
    "duration": 127,
    "start_time": "2025-02-20T12:57:45.275Z"
   },
   {
    "duration": 9,
    "start_time": "2025-02-20T12:57:45.405Z"
   },
   {
    "duration": 42,
    "start_time": "2025-02-20T12:57:45.415Z"
   },
   {
    "duration": 9,
    "start_time": "2025-02-20T12:57:45.459Z"
   },
   {
    "duration": 53,
    "start_time": "2025-02-20T12:57:45.470Z"
   },
   {
    "duration": 8,
    "start_time": "2025-02-20T12:57:45.525Z"
   },
   {
    "duration": 33,
    "start_time": "2025-02-20T12:57:45.535Z"
   },
   {
    "duration": 11,
    "start_time": "2025-02-20T12:57:45.570Z"
   },
   {
    "duration": 43,
    "start_time": "2025-02-20T12:57:45.602Z"
   },
   {
    "duration": 30,
    "start_time": "2025-02-20T12:57:45.647Z"
   },
   {
    "duration": 16,
    "start_time": "2025-02-20T12:57:45.679Z"
   },
   {
    "duration": 22,
    "start_time": "2025-02-20T12:57:45.697Z"
   },
   {
    "duration": 31,
    "start_time": "2025-02-20T12:57:45.721Z"
   },
   {
    "duration": 58,
    "start_time": "2025-02-20T12:57:45.754Z"
   },
   {
    "duration": 490,
    "start_time": "2025-02-20T12:57:45.814Z"
   },
   {
    "duration": 51,
    "start_time": "2025-02-20T12:57:46.306Z"
   },
   {
    "duration": 223,
    "start_time": "2025-02-20T12:57:46.359Z"
   },
   {
    "duration": 65,
    "start_time": "2025-02-20T12:57:46.584Z"
   },
   {
    "duration": 54,
    "start_time": "2025-02-20T12:57:46.651Z"
   },
   {
    "duration": 1241,
    "start_time": "2025-02-20T12:57:46.706Z"
   },
   {
    "duration": 138,
    "start_time": "2025-02-20T12:57:47.949Z"
   },
   {
    "duration": 201,
    "start_time": "2025-02-20T12:57:48.089Z"
   },
   {
    "duration": 118,
    "start_time": "2025-02-20T12:57:48.292Z"
   },
   {
    "duration": 90,
    "start_time": "2025-02-20T12:57:48.412Z"
   },
   {
    "duration": 179,
    "start_time": "2025-02-20T12:57:48.505Z"
   },
   {
    "duration": 48,
    "start_time": "2025-02-20T12:57:48.686Z"
   },
   {
    "duration": 95,
    "start_time": "2025-02-20T12:57:48.736Z"
   },
   {
    "duration": 76,
    "start_time": "2025-02-20T12:57:48.833Z"
   },
   {
    "duration": 21,
    "start_time": "2025-02-20T12:57:48.911Z"
   },
   {
    "duration": 16,
    "start_time": "2025-02-20T12:57:48.934Z"
   },
   {
    "duration": 4,
    "start_time": "2025-02-20T12:58:19.555Z"
   },
   {
    "duration": 3916,
    "start_time": "2025-02-20T12:58:41.029Z"
   },
   {
    "duration": 2300,
    "start_time": "2025-02-20T12:58:44.948Z"
   },
   {
    "duration": 15,
    "start_time": "2025-02-20T12:58:47.249Z"
   },
   {
    "duration": 14,
    "start_time": "2025-02-20T12:58:47.266Z"
   },
   {
    "duration": 30,
    "start_time": "2025-02-20T12:58:47.281Z"
   },
   {
    "duration": 108,
    "start_time": "2025-02-20T12:58:47.313Z"
   },
   {
    "duration": 8,
    "start_time": "2025-02-20T12:58:47.423Z"
   },
   {
    "duration": 33,
    "start_time": "2025-02-20T12:58:47.432Z"
   },
   {
    "duration": 9,
    "start_time": "2025-02-20T12:58:47.467Z"
   },
   {
    "duration": 57,
    "start_time": "2025-02-20T12:58:47.478Z"
   },
   {
    "duration": 8,
    "start_time": "2025-02-20T12:58:47.537Z"
   },
   {
    "duration": 46,
    "start_time": "2025-02-20T12:58:47.547Z"
   },
   {
    "duration": 25,
    "start_time": "2025-02-20T12:58:47.595Z"
   },
   {
    "duration": 22,
    "start_time": "2025-02-20T12:58:47.622Z"
   },
   {
    "duration": 8,
    "start_time": "2025-02-20T12:58:47.646Z"
   },
   {
    "duration": 30,
    "start_time": "2025-02-20T12:58:47.656Z"
   },
   {
    "duration": 28,
    "start_time": "2025-02-20T12:58:47.687Z"
   },
   {
    "duration": 28,
    "start_time": "2025-02-20T12:58:47.717Z"
   },
   {
    "duration": 14,
    "start_time": "2025-02-20T12:58:47.746Z"
   },
   {
    "duration": 458,
    "start_time": "2025-02-20T12:58:47.800Z"
   },
   {
    "duration": 74,
    "start_time": "2025-02-20T12:58:48.259Z"
   },
   {
    "duration": 216,
    "start_time": "2025-02-20T12:58:48.335Z"
   },
   {
    "duration": 73,
    "start_time": "2025-02-20T12:58:48.553Z"
   },
   {
    "duration": 39,
    "start_time": "2025-02-20T12:58:48.628Z"
   },
   {
    "duration": 1261,
    "start_time": "2025-02-20T12:58:48.669Z"
   },
   {
    "duration": 143,
    "start_time": "2025-02-20T12:58:49.933Z"
   },
   {
    "duration": 210,
    "start_time": "2025-02-20T12:58:50.078Z"
   },
   {
    "duration": 137,
    "start_time": "2025-02-20T12:58:50.292Z"
   },
   {
    "duration": 95,
    "start_time": "2025-02-20T12:58:50.430Z"
   },
   {
    "duration": 177,
    "start_time": "2025-02-20T12:58:50.527Z"
   },
   {
    "duration": 37,
    "start_time": "2025-02-20T12:58:50.706Z"
   },
   {
    "duration": 94,
    "start_time": "2025-02-20T12:58:50.744Z"
   },
   {
    "duration": 84,
    "start_time": "2025-02-20T12:58:50.840Z"
   },
   {
    "duration": 21,
    "start_time": "2025-02-20T12:58:50.926Z"
   },
   {
    "duration": 16,
    "start_time": "2025-02-20T12:58:50.949Z"
   },
   {
    "duration": 68,
    "start_time": "2025-02-20T12:59:25.010Z"
   },
   {
    "duration": 176,
    "start_time": "2025-02-20T13:00:19.428Z"
   },
   {
    "duration": 194,
    "start_time": "2025-02-20T13:00:59.002Z"
   },
   {
    "duration": 173,
    "start_time": "2025-02-20T13:01:08.324Z"
   },
   {
    "duration": 26,
    "start_time": "2025-02-20T13:01:11.378Z"
   },
   {
    "duration": 39,
    "start_time": "2025-02-20T13:01:44.049Z"
   },
   {
    "duration": 74,
    "start_time": "2025-02-20T13:01:47.907Z"
   },
   {
    "duration": 84,
    "start_time": "2025-02-20T13:02:09.615Z"
   },
   {
    "duration": 157,
    "start_time": "2025-02-20T13:03:00.234Z"
   },
   {
    "duration": 129,
    "start_time": "2025-02-20T13:04:09.551Z"
   },
   {
    "duration": 55,
    "start_time": "2025-02-20T13:04:40.373Z"
   },
   {
    "duration": 75,
    "start_time": "2025-02-20T13:04:56.678Z"
   },
   {
    "duration": 39,
    "start_time": "2025-02-20T13:05:01.055Z"
   },
   {
    "duration": 12,
    "start_time": "2025-02-20T13:06:45.517Z"
   },
   {
    "duration": 9,
    "start_time": "2025-02-20T13:11:29.849Z"
   },
   {
    "duration": 712,
    "start_time": "2025-02-20T13:13:04.280Z"
   },
   {
    "duration": 3986,
    "start_time": "2025-02-20T13:19:38.575Z"
   },
   {
    "duration": 3004,
    "start_time": "2025-02-20T13:19:42.563Z"
   },
   {
    "duration": 14,
    "start_time": "2025-02-20T13:19:45.569Z"
   },
   {
    "duration": 39,
    "start_time": "2025-02-20T13:19:45.585Z"
   },
   {
    "duration": 27,
    "start_time": "2025-02-20T13:19:45.625Z"
   },
   {
    "duration": 109,
    "start_time": "2025-02-20T13:19:45.653Z"
   },
   {
    "duration": 9,
    "start_time": "2025-02-20T13:19:45.764Z"
   },
   {
    "duration": 34,
    "start_time": "2025-02-20T13:19:45.774Z"
   },
   {
    "duration": 15,
    "start_time": "2025-02-20T13:19:45.810Z"
   },
   {
    "duration": 60,
    "start_time": "2025-02-20T13:19:45.828Z"
   },
   {
    "duration": 9,
    "start_time": "2025-02-20T13:19:45.889Z"
   },
   {
    "duration": 47,
    "start_time": "2025-02-20T13:19:45.900Z"
   },
   {
    "duration": 11,
    "start_time": "2025-02-20T13:19:45.949Z"
   },
   {
    "duration": 20,
    "start_time": "2025-02-20T13:19:45.961Z"
   },
   {
    "duration": 7,
    "start_time": "2025-02-20T13:19:45.983Z"
   },
   {
    "duration": 11,
    "start_time": "2025-02-20T13:19:46.000Z"
   },
   {
    "duration": 39,
    "start_time": "2025-02-20T13:19:46.012Z"
   },
   {
    "duration": 46,
    "start_time": "2025-02-20T13:19:46.053Z"
   },
   {
    "duration": 14,
    "start_time": "2025-02-20T13:19:46.101Z"
   },
   {
    "duration": 484,
    "start_time": "2025-02-20T13:19:46.117Z"
   },
   {
    "duration": 51,
    "start_time": "2025-02-20T13:19:46.603Z"
   },
   {
    "duration": 224,
    "start_time": "2025-02-20T13:19:46.656Z"
   },
   {
    "duration": 68,
    "start_time": "2025-02-20T13:19:46.882Z"
   },
   {
    "duration": 64,
    "start_time": "2025-02-20T13:19:46.951Z"
   },
   {
    "duration": 1261,
    "start_time": "2025-02-20T13:19:47.017Z"
   },
   {
    "duration": 175,
    "start_time": "2025-02-20T13:19:48.280Z"
   },
   {
    "duration": 27,
    "start_time": "2025-02-20T13:19:48.456Z"
   },
   {
    "duration": 109,
    "start_time": "2025-02-20T13:19:48.501Z"
   },
   {
    "duration": 36,
    "start_time": "2025-02-20T13:19:48.612Z"
   },
   {
    "duration": 14,
    "start_time": "2025-02-20T13:19:48.649Z"
   },
   {
    "duration": 901,
    "start_time": "2025-02-20T13:19:48.665Z"
   },
   {
    "duration": 256,
    "start_time": "2025-02-20T13:19:49.568Z"
   },
   {
    "duration": 123,
    "start_time": "2025-02-20T13:19:49.826Z"
   },
   {
    "duration": 81,
    "start_time": "2025-02-20T13:19:49.950Z"
   },
   {
    "duration": 187,
    "start_time": "2025-02-20T13:19:50.033Z"
   },
   {
    "duration": 37,
    "start_time": "2025-02-20T13:19:50.221Z"
   },
   {
    "duration": 103,
    "start_time": "2025-02-20T13:19:50.260Z"
   },
   {
    "duration": 82,
    "start_time": "2025-02-20T13:19:50.365Z"
   },
   {
    "duration": 27,
    "start_time": "2025-02-20T13:19:50.449Z"
   },
   {
    "duration": 33,
    "start_time": "2025-02-20T13:19:50.478Z"
   },
   {
    "duration": 42,
    "start_time": "2025-02-20T13:22:24.989Z"
   },
   {
    "duration": 98,
    "start_time": "2025-02-20T13:24:55.393Z"
   },
   {
    "duration": 12,
    "start_time": "2025-02-20T13:25:01.846Z"
   },
   {
    "duration": 9,
    "start_time": "2025-02-20T13:25:40.636Z"
   },
   {
    "duration": 9,
    "start_time": "2025-02-20T13:25:51.195Z"
   },
   {
    "duration": 9,
    "start_time": "2025-02-20T13:25:57.412Z"
   },
   {
    "duration": 10,
    "start_time": "2025-02-20T13:26:28.677Z"
   },
   {
    "duration": 9,
    "start_time": "2025-02-20T13:33:21.240Z"
   },
   {
    "duration": 94,
    "start_time": "2025-02-20T13:33:21.982Z"
   },
   {
    "duration": 490,
    "start_time": "2025-02-20T13:33:37.721Z"
   },
   {
    "duration": 62,
    "start_time": "2025-02-20T13:33:41.303Z"
   },
   {
    "duration": 216,
    "start_time": "2025-02-20T13:33:42.896Z"
   },
   {
    "duration": 76,
    "start_time": "2025-02-20T13:33:44.521Z"
   },
   {
    "duration": 27,
    "start_time": "2025-02-20T13:33:49.216Z"
   },
   {
    "duration": 19,
    "start_time": "2025-02-20T13:33:57.733Z"
   },
   {
    "duration": 29,
    "start_time": "2025-02-20T13:35:16.927Z"
   },
   {
    "duration": 10,
    "start_time": "2025-02-20T13:35:19.323Z"
   },
   {
    "duration": 500,
    "start_time": "2025-02-20T13:35:20.433Z"
   },
   {
    "duration": 68,
    "start_time": "2025-02-20T13:35:21.592Z"
   },
   {
    "duration": 207,
    "start_time": "2025-02-20T13:35:22.112Z"
   },
   {
    "duration": 65,
    "start_time": "2025-02-20T13:35:22.681Z"
   },
   {
    "duration": 21,
    "start_time": "2025-02-20T13:35:23.145Z"
   },
   {
    "duration": 4393,
    "start_time": "2025-02-20T13:38:19.593Z"
   },
   {
    "duration": 4889,
    "start_time": "2025-02-20T13:38:23.990Z"
   },
   {
    "duration": 13,
    "start_time": "2025-02-20T13:38:28.881Z"
   },
   {
    "duration": 37,
    "start_time": "2025-02-20T13:38:28.896Z"
   },
   {
    "duration": 26,
    "start_time": "2025-02-20T13:38:28.935Z"
   },
   {
    "duration": 119,
    "start_time": "2025-02-20T13:38:28.962Z"
   },
   {
    "duration": 37,
    "start_time": "2025-02-20T13:38:29.082Z"
   },
   {
    "duration": 23,
    "start_time": "2025-02-20T13:38:29.121Z"
   },
   {
    "duration": 11,
    "start_time": "2025-02-20T13:38:29.146Z"
   },
   {
    "duration": 67,
    "start_time": "2025-02-20T13:38:29.159Z"
   },
   {
    "duration": 9,
    "start_time": "2025-02-20T13:38:29.228Z"
   },
   {
    "duration": 30,
    "start_time": "2025-02-20T13:38:29.239Z"
   },
   {
    "duration": 37,
    "start_time": "2025-02-20T13:38:29.271Z"
   },
   {
    "duration": 21,
    "start_time": "2025-02-20T13:38:29.314Z"
   },
   {
    "duration": 8,
    "start_time": "2025-02-20T13:38:29.336Z"
   },
   {
    "duration": 10,
    "start_time": "2025-02-20T13:38:29.345Z"
   },
   {
    "duration": 72,
    "start_time": "2025-02-20T13:38:29.357Z"
   },
   {
    "duration": 29,
    "start_time": "2025-02-20T13:38:29.431Z"
   },
   {
    "duration": 11,
    "start_time": "2025-02-20T13:38:29.461Z"
   },
   {
    "duration": 518,
    "start_time": "2025-02-20T13:38:29.474Z"
   },
   {
    "duration": 67,
    "start_time": "2025-02-20T13:38:29.994Z"
   },
   {
    "duration": 275,
    "start_time": "2025-02-20T13:38:30.063Z"
   },
   {
    "duration": 70,
    "start_time": "2025-02-20T13:38:30.340Z"
   },
   {
    "duration": 43,
    "start_time": "2025-02-20T13:38:30.412Z"
   },
   {
    "duration": 1491,
    "start_time": "2025-02-20T13:38:30.457Z"
   },
   {
    "duration": 207,
    "start_time": "2025-02-20T13:38:31.949Z"
   },
   {
    "duration": 26,
    "start_time": "2025-02-20T13:38:32.158Z"
   },
   {
    "duration": 149,
    "start_time": "2025-02-20T13:38:32.186Z"
   },
   {
    "duration": 35,
    "start_time": "2025-02-20T13:38:32.337Z"
   },
   {
    "duration": 34,
    "start_time": "2025-02-20T13:38:32.374Z"
   },
   {
    "duration": 920,
    "start_time": "2025-02-20T13:38:32.415Z"
   },
   {
    "duration": 227,
    "start_time": "2025-02-20T13:38:33.336Z"
   },
   {
    "duration": 141,
    "start_time": "2025-02-20T13:38:33.564Z"
   },
   {
    "duration": 75,
    "start_time": "2025-02-20T13:38:33.708Z"
   },
   {
    "duration": 252,
    "start_time": "2025-02-20T13:38:33.785Z"
   },
   {
    "duration": 37,
    "start_time": "2025-02-20T13:38:34.039Z"
   },
   {
    "duration": 102,
    "start_time": "2025-02-20T13:38:34.077Z"
   },
   {
    "duration": 72,
    "start_time": "2025-02-20T13:38:34.181Z"
   },
   {
    "duration": 22,
    "start_time": "2025-02-20T13:38:34.255Z"
   },
   {
    "duration": 48,
    "start_time": "2025-02-20T13:38:34.279Z"
   },
   {
    "duration": 3842,
    "start_time": "2025-02-20T13:43:54.756Z"
   },
   {
    "duration": 2658,
    "start_time": "2025-02-20T13:43:58.600Z"
   },
   {
    "duration": 15,
    "start_time": "2025-02-20T13:44:01.260Z"
   },
   {
    "duration": 49,
    "start_time": "2025-02-20T13:44:01.277Z"
   },
   {
    "duration": 52,
    "start_time": "2025-02-20T13:44:01.329Z"
   },
   {
    "duration": 121,
    "start_time": "2025-02-20T13:44:01.383Z"
   },
   {
    "duration": 8,
    "start_time": "2025-02-20T13:44:01.506Z"
   },
   {
    "duration": 41,
    "start_time": "2025-02-20T13:44:01.516Z"
   },
   {
    "duration": 53,
    "start_time": "2025-02-20T13:44:01.560Z"
   },
   {
    "duration": 250,
    "start_time": "2025-02-20T13:44:01.615Z"
   },
   {
    "duration": 59,
    "start_time": "2025-02-20T13:44:01.867Z"
   },
   {
    "duration": 90,
    "start_time": "2025-02-20T13:44:01.928Z"
   },
   {
    "duration": 22,
    "start_time": "2025-02-20T13:44:02.020Z"
   },
   {
    "duration": 77,
    "start_time": "2025-02-20T13:44:02.045Z"
   },
   {
    "duration": 44,
    "start_time": "2025-02-20T13:44:02.124Z"
   },
   {
    "duration": 51,
    "start_time": "2025-02-20T13:44:02.170Z"
   },
   {
    "duration": 30,
    "start_time": "2025-02-20T13:44:02.223Z"
   },
   {
    "duration": 46,
    "start_time": "2025-02-20T13:44:02.255Z"
   },
   {
    "duration": 12,
    "start_time": "2025-02-20T13:44:02.303Z"
   },
   {
    "duration": 635,
    "start_time": "2025-02-20T13:44:02.317Z"
   },
   {
    "duration": 61,
    "start_time": "2025-02-20T13:44:02.954Z"
   },
   {
    "duration": 205,
    "start_time": "2025-02-20T13:44:03.017Z"
   },
   {
    "duration": 51,
    "start_time": "2025-02-20T13:44:03.223Z"
   },
   {
    "duration": 53,
    "start_time": "2025-02-20T13:44:03.276Z"
   },
   {
    "duration": 1350,
    "start_time": "2025-02-20T13:44:03.330Z"
   },
   {
    "duration": 187,
    "start_time": "2025-02-20T13:44:04.682Z"
   },
   {
    "duration": 37,
    "start_time": "2025-02-20T13:44:04.870Z"
   },
   {
    "duration": 123,
    "start_time": "2025-02-20T13:44:04.909Z"
   },
   {
    "duration": 104,
    "start_time": "2025-02-20T13:44:05.034Z"
   },
   {
    "duration": 14,
    "start_time": "2025-02-20T13:44:05.140Z"
   },
   {
    "duration": 870,
    "start_time": "2025-02-20T13:44:05.156Z"
   },
   {
    "duration": 209,
    "start_time": "2025-02-20T13:44:06.028Z"
   },
   {
    "duration": 124,
    "start_time": "2025-02-20T13:44:06.239Z"
   },
   {
    "duration": 82,
    "start_time": "2025-02-20T13:44:06.364Z"
   },
   {
    "duration": 186,
    "start_time": "2025-02-20T13:44:06.448Z"
   },
   {
    "duration": 38,
    "start_time": "2025-02-20T13:44:06.635Z"
   },
   {
    "duration": 97,
    "start_time": "2025-02-20T13:44:06.675Z"
   },
   {
    "duration": 75,
    "start_time": "2025-02-20T13:44:06.775Z"
   },
   {
    "duration": 30,
    "start_time": "2025-02-20T13:44:06.852Z"
   },
   {
    "duration": 18,
    "start_time": "2025-02-20T13:44:06.900Z"
   },
   {
    "duration": 3940,
    "start_time": "2025-02-20T13:44:55.023Z"
   },
   {
    "duration": 2730,
    "start_time": "2025-02-20T13:44:58.966Z"
   },
   {
    "duration": 15,
    "start_time": "2025-02-20T13:45:01.698Z"
   },
   {
    "duration": 25,
    "start_time": "2025-02-20T13:45:01.715Z"
   },
   {
    "duration": 67,
    "start_time": "2025-02-20T13:45:01.741Z"
   },
   {
    "duration": 132,
    "start_time": "2025-02-20T13:45:01.810Z"
   },
   {
    "duration": 9,
    "start_time": "2025-02-20T13:45:01.944Z"
   },
   {
    "duration": 116,
    "start_time": "2025-02-20T13:45:01.955Z"
   },
   {
    "duration": 54,
    "start_time": "2025-02-20T13:45:02.073Z"
   },
   {
    "duration": 51,
    "start_time": "2025-02-20T13:45:02.130Z"
   },
   {
    "duration": 10,
    "start_time": "2025-02-20T13:45:02.182Z"
   },
   {
    "duration": 60,
    "start_time": "2025-02-20T13:45:02.194Z"
   },
   {
    "duration": 38,
    "start_time": "2025-02-20T13:45:02.256Z"
   },
   {
    "duration": 128,
    "start_time": "2025-02-20T13:45:02.295Z"
   },
   {
    "duration": 10,
    "start_time": "2025-02-20T13:45:02.425Z"
   },
   {
    "duration": 97,
    "start_time": "2025-02-20T13:45:02.437Z"
   },
   {
    "duration": 26,
    "start_time": "2025-02-20T13:45:02.535Z"
   },
   {
    "duration": 68,
    "start_time": "2025-02-20T13:45:02.563Z"
   },
   {
    "duration": 10,
    "start_time": "2025-02-20T13:45:02.633Z"
   },
   {
    "duration": 489,
    "start_time": "2025-02-20T13:45:02.645Z"
   },
   {
    "duration": 48,
    "start_time": "2025-02-20T13:45:03.136Z"
   },
   {
    "duration": 234,
    "start_time": "2025-02-20T13:45:03.186Z"
   },
   {
    "duration": 51,
    "start_time": "2025-02-20T13:45:03.422Z"
   },
   {
    "duration": 37,
    "start_time": "2025-02-20T13:45:03.475Z"
   },
   {
    "duration": 1342,
    "start_time": "2025-02-20T13:45:03.514Z"
   },
   {
    "duration": 178,
    "start_time": "2025-02-20T13:45:04.858Z"
   },
   {
    "duration": 27,
    "start_time": "2025-02-20T13:45:05.037Z"
   },
   {
    "duration": 172,
    "start_time": "2025-02-20T13:45:05.067Z"
   },
   {
    "duration": 41,
    "start_time": "2025-02-20T13:45:05.241Z"
   },
   {
    "duration": 29,
    "start_time": "2025-02-20T13:45:05.284Z"
   },
   {
    "duration": 829,
    "start_time": "2025-02-20T13:45:05.315Z"
   },
   {
    "duration": 188,
    "start_time": "2025-02-20T13:45:06.146Z"
   },
   {
    "duration": 123,
    "start_time": "2025-02-20T13:45:06.335Z"
   },
   {
    "duration": 81,
    "start_time": "2025-02-20T13:45:06.460Z"
   },
   {
    "duration": 175,
    "start_time": "2025-02-20T13:45:06.543Z"
   },
   {
    "duration": 37,
    "start_time": "2025-02-20T13:45:06.720Z"
   },
   {
    "duration": 168,
    "start_time": "2025-02-20T13:45:06.758Z"
   },
   {
    "duration": 46,
    "start_time": "2025-02-20T13:45:06.928Z"
   },
   {
    "duration": 158,
    "start_time": "2025-02-20T13:45:06.976Z"
   },
   {
    "duration": 16,
    "start_time": "2025-02-20T13:45:07.136Z"
   },
   {
    "duration": 4127,
    "start_time": "2025-02-20T13:45:38.949Z"
   },
   {
    "duration": 2502,
    "start_time": "2025-02-20T13:45:43.079Z"
   },
   {
    "duration": 19,
    "start_time": "2025-02-20T13:45:45.583Z"
   },
   {
    "duration": 14,
    "start_time": "2025-02-20T13:45:45.612Z"
   },
   {
    "duration": 26,
    "start_time": "2025-02-20T13:45:45.630Z"
   },
   {
    "duration": 126,
    "start_time": "2025-02-20T13:45:45.658Z"
   },
   {
    "duration": 30,
    "start_time": "2025-02-20T13:45:45.787Z"
   },
   {
    "duration": 22,
    "start_time": "2025-02-20T13:45:45.819Z"
   },
   {
    "duration": 16,
    "start_time": "2025-02-20T13:45:45.843Z"
   },
   {
    "duration": 65,
    "start_time": "2025-02-20T13:45:45.861Z"
   },
   {
    "duration": 8,
    "start_time": "2025-02-20T13:45:45.928Z"
   },
   {
    "duration": 46,
    "start_time": "2025-02-20T13:45:45.938Z"
   },
   {
    "duration": 11,
    "start_time": "2025-02-20T13:45:45.986Z"
   },
   {
    "duration": 24,
    "start_time": "2025-02-20T13:45:46.000Z"
   },
   {
    "duration": 16,
    "start_time": "2025-02-20T13:45:46.025Z"
   },
   {
    "duration": 21,
    "start_time": "2025-02-20T13:45:46.043Z"
   },
   {
    "duration": 48,
    "start_time": "2025-02-20T13:45:46.066Z"
   },
   {
    "duration": 30,
    "start_time": "2025-02-20T13:45:46.116Z"
   },
   {
    "duration": 11,
    "start_time": "2025-02-20T13:45:46.148Z"
   },
   {
    "duration": 490,
    "start_time": "2025-02-20T13:45:46.160Z"
   },
   {
    "duration": 62,
    "start_time": "2025-02-20T13:45:46.652Z"
   },
   {
    "duration": 210,
    "start_time": "2025-02-20T13:45:46.716Z"
   },
   {
    "duration": 53,
    "start_time": "2025-02-20T13:45:46.928Z"
   },
   {
    "duration": 144,
    "start_time": "2025-02-20T13:45:46.983Z"
   },
   {
    "duration": 1396,
    "start_time": "2025-02-20T13:45:47.129Z"
   },
   {
    "duration": 194,
    "start_time": "2025-02-20T13:45:48.527Z"
   },
   {
    "duration": 31,
    "start_time": "2025-02-20T13:45:48.723Z"
   },
   {
    "duration": 133,
    "start_time": "2025-02-20T13:45:48.756Z"
   },
   {
    "duration": 53,
    "start_time": "2025-02-20T13:45:48.891Z"
   },
   {
    "duration": 13,
    "start_time": "2025-02-20T13:45:48.946Z"
   },
   {
    "duration": 1000,
    "start_time": "2025-02-20T13:45:48.961Z"
   },
   {
    "duration": 219,
    "start_time": "2025-02-20T13:45:49.963Z"
   },
   {
    "duration": 132,
    "start_time": "2025-02-20T13:45:50.184Z"
   },
   {
    "duration": 68,
    "start_time": "2025-02-20T13:45:50.318Z"
   },
   {
    "duration": 232,
    "start_time": "2025-02-20T13:45:50.388Z"
   },
   {
    "duration": 37,
    "start_time": "2025-02-20T13:45:50.622Z"
   },
   {
    "duration": 105,
    "start_time": "2025-02-20T13:45:50.660Z"
   },
   {
    "duration": 60,
    "start_time": "2025-02-20T13:45:50.766Z"
   },
   {
    "duration": 46,
    "start_time": "2025-02-20T13:45:50.828Z"
   },
   {
    "duration": 18,
    "start_time": "2025-02-20T13:45:50.875Z"
   },
   {
    "duration": 4197,
    "start_time": "2025-02-20T13:46:18.949Z"
   },
   {
    "duration": 2581,
    "start_time": "2025-02-20T13:46:23.148Z"
   },
   {
    "duration": 15,
    "start_time": "2025-02-20T13:46:25.731Z"
   },
   {
    "duration": 14,
    "start_time": "2025-02-20T13:46:25.748Z"
   },
   {
    "duration": 55,
    "start_time": "2025-02-20T13:46:25.764Z"
   },
   {
    "duration": 119,
    "start_time": "2025-02-20T13:46:25.821Z"
   },
   {
    "duration": 9,
    "start_time": "2025-02-20T13:46:25.942Z"
   },
   {
    "duration": 28,
    "start_time": "2025-02-20T13:46:25.953Z"
   },
   {
    "duration": 30,
    "start_time": "2025-02-20T13:46:25.983Z"
   },
   {
    "duration": 51,
    "start_time": "2025-02-20T13:46:26.017Z"
   },
   {
    "duration": 9,
    "start_time": "2025-02-20T13:46:26.071Z"
   },
   {
    "duration": 57,
    "start_time": "2025-02-20T13:46:26.082Z"
   },
   {
    "duration": 11,
    "start_time": "2025-02-20T13:46:26.141Z"
   },
   {
    "duration": 14,
    "start_time": "2025-02-20T13:46:26.154Z"
   },
   {
    "duration": 12,
    "start_time": "2025-02-20T13:46:26.170Z"
   },
   {
    "duration": 19,
    "start_time": "2025-02-20T13:46:26.200Z"
   },
   {
    "duration": 25,
    "start_time": "2025-02-20T13:46:26.221Z"
   },
   {
    "duration": 75,
    "start_time": "2025-02-20T13:46:26.248Z"
   },
   {
    "duration": 10,
    "start_time": "2025-02-20T13:46:26.324Z"
   },
   {
    "duration": 521,
    "start_time": "2025-02-20T13:46:26.336Z"
   },
   {
    "duration": 69,
    "start_time": "2025-02-20T13:46:26.858Z"
   },
   {
    "duration": 214,
    "start_time": "2025-02-20T13:46:26.929Z"
   },
   {
    "duration": 57,
    "start_time": "2025-02-20T13:46:27.145Z"
   },
   {
    "duration": 22,
    "start_time": "2025-02-20T13:46:27.212Z"
   },
   {
    "duration": 1421,
    "start_time": "2025-02-20T13:46:27.236Z"
   },
   {
    "duration": 190,
    "start_time": "2025-02-20T13:46:28.659Z"
   },
   {
    "duration": 29,
    "start_time": "2025-02-20T13:46:28.852Z"
   },
   {
    "duration": 117,
    "start_time": "2025-02-20T13:46:28.910Z"
   },
   {
    "duration": 105,
    "start_time": "2025-02-20T13:46:29.029Z"
   },
   {
    "duration": 13,
    "start_time": "2025-02-20T13:46:29.136Z"
   },
   {
    "duration": 828,
    "start_time": "2025-02-20T13:46:29.151Z"
   },
   {
    "duration": 209,
    "start_time": "2025-02-20T13:46:29.980Z"
   },
   {
    "duration": 135,
    "start_time": "2025-02-20T13:46:30.191Z"
   },
   {
    "duration": 88,
    "start_time": "2025-02-20T13:46:30.328Z"
   },
   {
    "duration": 215,
    "start_time": "2025-02-20T13:46:30.418Z"
   },
   {
    "duration": 35,
    "start_time": "2025-02-20T13:46:30.635Z"
   },
   {
    "duration": 100,
    "start_time": "2025-02-20T13:46:30.672Z"
   },
   {
    "duration": 67,
    "start_time": "2025-02-20T13:46:30.773Z"
   },
   {
    "duration": 51,
    "start_time": "2025-02-20T13:46:30.842Z"
   },
   {
    "duration": 32,
    "start_time": "2025-02-20T13:46:30.895Z"
   },
   {
    "duration": 5249,
    "start_time": "2025-02-24T09:26:16.470Z"
   },
   {
    "duration": 2318,
    "start_time": "2025-02-24T09:26:21.721Z"
   },
   {
    "duration": 12,
    "start_time": "2025-02-24T09:26:24.041Z"
   },
   {
    "duration": 12,
    "start_time": "2025-02-24T09:26:24.055Z"
   },
   {
    "duration": 32,
    "start_time": "2025-02-24T09:26:24.069Z"
   },
   {
    "duration": 110,
    "start_time": "2025-02-24T09:26:24.103Z"
   },
   {
    "duration": 9,
    "start_time": "2025-02-24T09:26:24.215Z"
   },
   {
    "duration": 47,
    "start_time": "2025-02-24T09:26:24.226Z"
   },
   {
    "duration": 9,
    "start_time": "2025-02-24T09:26:24.275Z"
   },
   {
    "duration": 47,
    "start_time": "2025-02-24T09:26:24.286Z"
   },
   {
    "duration": 8,
    "start_time": "2025-02-24T09:26:24.335Z"
   },
   {
    "duration": 43,
    "start_time": "2025-02-24T09:26:24.345Z"
   },
   {
    "duration": 11,
    "start_time": "2025-02-24T09:26:24.390Z"
   },
   {
    "duration": 12,
    "start_time": "2025-02-24T09:26:24.413Z"
   },
   {
    "duration": 6,
    "start_time": "2025-02-24T09:26:24.427Z"
   },
   {
    "duration": 17,
    "start_time": "2025-02-24T09:26:24.434Z"
   },
   {
    "duration": 169,
    "start_time": "2025-02-24T09:26:24.453Z"
   },
   {
    "duration": 29,
    "start_time": "2025-02-24T09:26:24.623Z"
   },
   {
    "duration": 11,
    "start_time": "2025-02-24T09:26:24.654Z"
   },
   {
    "duration": 424,
    "start_time": "2025-02-24T09:26:24.667Z"
   },
   {
    "duration": 60,
    "start_time": "2025-02-24T09:26:25.093Z"
   },
   {
    "duration": 181,
    "start_time": "2025-02-24T09:26:25.155Z"
   },
   {
    "duration": 44,
    "start_time": "2025-02-24T09:26:25.337Z"
   },
   {
    "duration": 38,
    "start_time": "2025-02-24T09:26:25.383Z"
   },
   {
    "duration": 1210,
    "start_time": "2025-02-24T09:26:25.423Z"
   },
   {
    "duration": 163,
    "start_time": "2025-02-24T09:26:26.635Z"
   },
   {
    "duration": 29,
    "start_time": "2025-02-24T09:26:26.799Z"
   },
   {
    "duration": 108,
    "start_time": "2025-02-24T09:26:26.830Z"
   },
   {
    "duration": 32,
    "start_time": "2025-02-24T09:26:26.940Z"
   },
   {
    "duration": 11,
    "start_time": "2025-02-24T09:26:26.974Z"
   },
   {
    "duration": 726,
    "start_time": "2025-02-24T09:26:26.987Z"
   },
   {
    "duration": 192,
    "start_time": "2025-02-24T09:26:27.715Z"
   },
   {
    "duration": 115,
    "start_time": "2025-02-24T09:26:27.909Z"
   },
   {
    "duration": 58,
    "start_time": "2025-02-24T09:26:28.026Z"
   },
   {
    "duration": 177,
    "start_time": "2025-02-24T09:26:28.085Z"
   },
   {
    "duration": 36,
    "start_time": "2025-02-24T09:26:28.263Z"
   },
   {
    "duration": 72,
    "start_time": "2025-02-24T09:26:28.313Z"
   },
   {
    "duration": 61,
    "start_time": "2025-02-24T09:26:28.387Z"
   },
   {
    "duration": 21,
    "start_time": "2025-02-24T09:26:28.451Z"
   },
   {
    "duration": 130,
    "start_time": "2025-02-24T09:26:28.474Z"
   },
   {
    "duration": 38,
    "start_time": "2025-02-24T09:26:28.608Z"
   },
   {
    "duration": 30,
    "start_time": "2025-02-24T09:26:40.559Z"
   },
   {
    "duration": 91,
    "start_time": "2025-02-24T09:33:37.906Z"
   },
   {
    "duration": 103,
    "start_time": "2025-02-24T09:33:45.587Z"
   },
   {
    "duration": 13,
    "start_time": "2025-02-24T09:34:51.526Z"
   },
   {
    "duration": 136,
    "start_time": "2025-02-24T09:36:17.354Z"
   },
   {
    "duration": 3635,
    "start_time": "2025-02-24T09:36:32.072Z"
   },
   {
    "duration": 2275,
    "start_time": "2025-02-24T09:36:35.709Z"
   },
   {
    "duration": 13,
    "start_time": "2025-02-24T09:36:37.985Z"
   },
   {
    "duration": 83,
    "start_time": "2025-02-24T09:36:38.000Z"
   },
   {
    "duration": 25,
    "start_time": "2025-02-24T09:36:38.086Z"
   },
   {
    "duration": 101,
    "start_time": "2025-02-24T09:36:38.112Z"
   },
   {
    "duration": 7,
    "start_time": "2025-02-24T09:36:38.215Z"
   },
   {
    "duration": 30,
    "start_time": "2025-02-24T09:36:38.223Z"
   },
   {
    "duration": 8,
    "start_time": "2025-02-24T09:36:38.254Z"
   },
   {
    "duration": 56,
    "start_time": "2025-02-24T09:36:38.264Z"
   },
   {
    "duration": 7,
    "start_time": "2025-02-24T09:36:38.322Z"
   },
   {
    "duration": 24,
    "start_time": "2025-02-24T09:36:38.330Z"
   },
   {
    "duration": 9,
    "start_time": "2025-02-24T09:36:38.355Z"
   },
   {
    "duration": 23,
    "start_time": "2025-02-24T09:36:38.367Z"
   },
   {
    "duration": 23,
    "start_time": "2025-02-24T09:36:38.391Z"
   },
   {
    "duration": 8,
    "start_time": "2025-02-24T09:36:38.416Z"
   },
   {
    "duration": 15,
    "start_time": "2025-02-24T09:36:38.425Z"
   },
   {
    "duration": 75,
    "start_time": "2025-02-24T09:36:38.441Z"
   },
   {
    "duration": 10,
    "start_time": "2025-02-24T09:36:38.517Z"
   },
   {
    "duration": 396,
    "start_time": "2025-02-24T09:36:38.528Z"
   },
   {
    "duration": 45,
    "start_time": "2025-02-24T09:36:38.925Z"
   },
   {
    "duration": 190,
    "start_time": "2025-02-24T09:36:38.971Z"
   },
   {
    "duration": 56,
    "start_time": "2025-02-24T09:36:39.163Z"
   },
   {
    "duration": 19,
    "start_time": "2025-02-24T09:36:39.221Z"
   },
   {
    "duration": 1187,
    "start_time": "2025-02-24T09:36:39.242Z"
   },
   {
    "duration": 156,
    "start_time": "2025-02-24T09:36:40.430Z"
   },
   {
    "duration": 35,
    "start_time": "2025-02-24T09:36:40.587Z"
   },
   {
    "duration": 103,
    "start_time": "2025-02-24T09:36:40.624Z"
   },
   {
    "duration": 33,
    "start_time": "2025-02-24T09:36:40.729Z"
   },
   {
    "duration": 11,
    "start_time": "2025-02-24T09:36:40.764Z"
   },
   {
    "duration": 715,
    "start_time": "2025-02-24T09:36:40.777Z"
   },
   {
    "duration": 195,
    "start_time": "2025-02-24T09:36:41.493Z"
   },
   {
    "duration": 124,
    "start_time": "2025-02-24T09:36:41.690Z"
   },
   {
    "duration": 81,
    "start_time": "2025-02-24T09:36:41.816Z"
   },
   {
    "duration": 157,
    "start_time": "2025-02-24T09:36:41.899Z"
   },
   {
    "duration": 36,
    "start_time": "2025-02-24T09:36:42.059Z"
   },
   {
    "duration": 73,
    "start_time": "2025-02-24T09:36:42.114Z"
   },
   {
    "duration": 56,
    "start_time": "2025-02-24T09:36:42.189Z"
   },
   {
    "duration": 21,
    "start_time": "2025-02-24T09:36:42.248Z"
   },
   {
    "duration": 14,
    "start_time": "2025-02-24T09:36:42.271Z"
   },
   {
    "duration": 37,
    "start_time": "2025-02-24T09:36:42.316Z"
   },
   {
    "duration": 76,
    "start_time": "2025-02-24T09:36:42.355Z"
   },
   {
    "duration": 4006,
    "start_time": "2025-02-24T09:38:09.594Z"
   },
   {
    "duration": 2819,
    "start_time": "2025-02-24T09:38:13.602Z"
   },
   {
    "duration": 16,
    "start_time": "2025-02-24T09:38:16.423Z"
   },
   {
    "duration": 12,
    "start_time": "2025-02-24T09:38:16.441Z"
   },
   {
    "duration": 26,
    "start_time": "2025-02-24T09:38:16.455Z"
   },
   {
    "duration": 190,
    "start_time": "2025-02-24T09:38:16.483Z"
   },
   {
    "duration": 7,
    "start_time": "2025-02-24T09:38:16.675Z"
   },
   {
    "duration": 39,
    "start_time": "2025-02-24T09:38:16.683Z"
   },
   {
    "duration": 25,
    "start_time": "2025-02-24T09:38:16.724Z"
   },
   {
    "duration": 42,
    "start_time": "2025-02-24T09:38:16.750Z"
   },
   {
    "duration": 19,
    "start_time": "2025-02-24T09:38:16.794Z"
   },
   {
    "duration": 26,
    "start_time": "2025-02-24T09:38:16.815Z"
   },
   {
    "duration": 11,
    "start_time": "2025-02-24T09:38:16.843Z"
   },
   {
    "duration": 15,
    "start_time": "2025-02-24T09:38:16.857Z"
   },
   {
    "duration": 48,
    "start_time": "2025-02-24T09:38:16.874Z"
   },
   {
    "duration": 37,
    "start_time": "2025-02-24T09:38:16.923Z"
   },
   {
    "duration": 19,
    "start_time": "2025-02-24T09:38:16.962Z"
   },
   {
    "duration": 45,
    "start_time": "2025-02-24T09:38:16.983Z"
   },
   {
    "duration": 12,
    "start_time": "2025-02-24T09:38:17.030Z"
   },
   {
    "duration": 434,
    "start_time": "2025-02-24T09:38:17.045Z"
   },
   {
    "duration": 63,
    "start_time": "2025-02-24T09:38:17.481Z"
   },
   {
    "duration": 197,
    "start_time": "2025-02-24T09:38:17.546Z"
   },
   {
    "duration": 44,
    "start_time": "2025-02-24T09:38:17.745Z"
   },
   {
    "duration": 102,
    "start_time": "2025-02-24T09:38:17.790Z"
   },
   {
    "duration": 1247,
    "start_time": "2025-02-24T09:38:17.894Z"
   },
   {
    "duration": 179,
    "start_time": "2025-02-24T09:38:19.143Z"
   },
   {
    "duration": 27,
    "start_time": "2025-02-24T09:38:19.323Z"
   },
   {
    "duration": 154,
    "start_time": "2025-02-24T09:38:19.352Z"
   },
   {
    "duration": 35,
    "start_time": "2025-02-24T09:38:19.507Z"
   },
   {
    "duration": 12,
    "start_time": "2025-02-24T09:38:19.544Z"
   },
   {
    "duration": 723,
    "start_time": "2025-02-24T09:38:19.557Z"
   },
   {
    "duration": 198,
    "start_time": "2025-02-24T09:38:20.281Z"
   },
   {
    "duration": 105,
    "start_time": "2025-02-24T09:38:20.481Z"
   },
   {
    "duration": 102,
    "start_time": "2025-02-24T09:38:20.588Z"
   },
   {
    "duration": 146,
    "start_time": "2025-02-24T09:38:20.691Z"
   },
   {
    "duration": 31,
    "start_time": "2025-02-24T09:38:20.839Z"
   },
   {
    "duration": 79,
    "start_time": "2025-02-24T09:38:20.871Z"
   },
   {
    "duration": 40,
    "start_time": "2025-02-24T09:38:20.952Z"
   },
   {
    "duration": 30,
    "start_time": "2025-02-24T09:38:20.994Z"
   },
   {
    "duration": 34,
    "start_time": "2025-02-24T09:38:21.026Z"
   },
   {
    "duration": 14,
    "start_time": "2025-02-24T09:38:21.064Z"
   },
   {
    "duration": 333,
    "start_time": "2025-02-24T09:38:21.080Z"
   },
   {
    "duration": 47,
    "start_time": "2025-02-24T09:38:32.243Z"
   },
   {
    "duration": 32,
    "start_time": "2025-02-24T09:39:03.297Z"
   },
   {
    "duration": 85,
    "start_time": "2025-02-24T09:41:35.086Z"
   },
   {
    "duration": 88,
    "start_time": "2025-02-24T09:42:02.537Z"
   },
   {
    "duration": 25,
    "start_time": "2025-02-24T09:42:24.934Z"
   },
   {
    "duration": 20,
    "start_time": "2025-02-24T09:42:45.662Z"
   },
   {
    "duration": 114,
    "start_time": "2025-02-24T09:43:14.436Z"
   },
   {
    "duration": 30,
    "start_time": "2025-02-24T09:43:19.851Z"
   },
   {
    "duration": 29,
    "start_time": "2025-02-24T09:43:53.735Z"
   },
   {
    "duration": 32,
    "start_time": "2025-02-24T09:44:20.532Z"
   },
   {
    "duration": 130,
    "start_time": "2025-02-24T09:44:54.339Z"
   },
   {
    "duration": 23,
    "start_time": "2025-02-24T09:44:58.594Z"
   },
   {
    "duration": 29,
    "start_time": "2025-02-24T09:45:14.586Z"
   },
   {
    "duration": 4,
    "start_time": "2025-02-24T09:47:35.960Z"
   },
   {
    "duration": 13,
    "start_time": "2025-02-24T09:48:03.138Z"
   },
   {
    "duration": 112,
    "start_time": "2025-02-24T09:51:28.184Z"
   },
   {
    "duration": 283,
    "start_time": "2025-02-24T09:51:45.219Z"
   },
   {
    "duration": 248,
    "start_time": "2025-02-24T09:51:53.876Z"
   },
   {
    "duration": 6,
    "start_time": "2025-02-24T09:53:01.141Z"
   },
   {
    "duration": 12,
    "start_time": "2025-02-24T09:53:08.594Z"
   },
   {
    "duration": 12,
    "start_time": "2025-02-24T09:53:38.019Z"
   },
   {
    "duration": 11,
    "start_time": "2025-02-24T09:53:45.065Z"
   },
   {
    "duration": 11,
    "start_time": "2025-02-24T09:54:12.617Z"
   },
   {
    "duration": 238,
    "start_time": "2025-02-24T09:54:20.244Z"
   },
   {
    "duration": 10,
    "start_time": "2025-02-24T09:54:33.933Z"
   },
   {
    "duration": 250,
    "start_time": "2025-02-24T09:54:35.795Z"
   },
   {
    "duration": 288,
    "start_time": "2025-02-24T09:55:08.931Z"
   },
   {
    "duration": 330,
    "start_time": "2025-02-24T09:55:19.078Z"
   },
   {
    "duration": 254,
    "start_time": "2025-02-24T09:55:57.716Z"
   },
   {
    "duration": 10,
    "start_time": "2025-02-24T09:56:15.767Z"
   },
   {
    "duration": 239,
    "start_time": "2025-02-24T09:56:18.508Z"
   },
   {
    "duration": 239,
    "start_time": "2025-02-24T09:56:25.236Z"
   },
   {
    "duration": 237,
    "start_time": "2025-02-24T09:56:30.703Z"
   },
   {
    "duration": 1295,
    "start_time": "2025-02-24T09:57:24.675Z"
   },
   {
    "duration": 15,
    "start_time": "2025-02-24T09:57:33.777Z"
   },
   {
    "duration": 12,
    "start_time": "2025-02-24T09:57:46.687Z"
   },
   {
    "duration": 283,
    "start_time": "2025-02-24T09:57:49.151Z"
   },
   {
    "duration": 11,
    "start_time": "2025-02-24T09:58:43.687Z"
   },
   {
    "duration": 13,
    "start_time": "2025-02-24T09:58:46.964Z"
   },
   {
    "duration": 242,
    "start_time": "2025-02-24T09:58:54.933Z"
   },
   {
    "duration": 278,
    "start_time": "2025-02-24T09:59:43.187Z"
   },
   {
    "duration": 155,
    "start_time": "2025-02-24T10:00:26.501Z"
   },
   {
    "duration": 115,
    "start_time": "2025-02-24T10:00:56.012Z"
   },
   {
    "duration": 159,
    "start_time": "2025-02-24T10:01:42.715Z"
   },
   {
    "duration": 358,
    "start_time": "2025-02-24T10:02:17.847Z"
   },
   {
    "duration": 6,
    "start_time": "2025-02-24T10:02:46.363Z"
   },
   {
    "duration": 273,
    "start_time": "2025-02-24T10:05:45.520Z"
   },
   {
    "duration": 268,
    "start_time": "2025-02-24T10:07:15.785Z"
   },
   {
    "duration": 286,
    "start_time": "2025-02-24T10:10:37.228Z"
   },
   {
    "duration": 270,
    "start_time": "2025-02-24T10:10:44.610Z"
   },
   {
    "duration": 289,
    "start_time": "2025-02-24T10:11:44.130Z"
   },
   {
    "duration": 88,
    "start_time": "2025-02-24T10:12:17.635Z"
   },
   {
    "duration": 265,
    "start_time": "2025-02-24T10:13:52.813Z"
   },
   {
    "duration": 87,
    "start_time": "2025-02-24T10:14:25.879Z"
   },
   {
    "duration": 12,
    "start_time": "2025-02-24T10:16:01.429Z"
   },
   {
    "duration": 68,
    "start_time": "2025-02-24T10:16:13.059Z"
   },
   {
    "duration": 88,
    "start_time": "2025-02-24T10:18:14.647Z"
   },
   {
    "duration": 7,
    "start_time": "2025-02-24T10:18:55.690Z"
   },
   {
    "duration": 4,
    "start_time": "2025-02-24T10:19:19.407Z"
   },
   {
    "duration": 11,
    "start_time": "2025-02-24T10:19:38.818Z"
   },
   {
    "duration": 231,
    "start_time": "2025-02-24T10:19:40.859Z"
   },
   {
    "duration": 4,
    "start_time": "2025-02-24T10:19:46.691Z"
   },
   {
    "duration": 10,
    "start_time": "2025-02-24T10:19:50.986Z"
   },
   {
    "duration": 239,
    "start_time": "2025-02-24T10:19:51.669Z"
   },
   {
    "duration": 270,
    "start_time": "2025-02-24T10:20:11.261Z"
   },
   {
    "duration": 9,
    "start_time": "2025-02-24T10:29:28.638Z"
   },
   {
    "duration": 8,
    "start_time": "2025-02-24T10:29:32.255Z"
   },
   {
    "duration": 9,
    "start_time": "2025-02-24T10:30:40.356Z"
   },
   {
    "duration": 98,
    "start_time": "2025-02-24T10:37:25.168Z"
   },
   {
    "duration": 124,
    "start_time": "2025-02-24T10:37:35.182Z"
   },
   {
    "duration": 105,
    "start_time": "2025-02-24T10:37:42.219Z"
   },
   {
    "duration": 117,
    "start_time": "2025-02-24T10:37:58.110Z"
   },
   {
    "duration": 4,
    "start_time": "2025-02-24T10:39:00.522Z"
   },
   {
    "duration": 6,
    "start_time": "2025-02-24T10:39:10.999Z"
   },
   {
    "duration": 20,
    "start_time": "2025-02-24T10:39:45.291Z"
   },
   {
    "duration": 10,
    "start_time": "2025-02-24T10:40:45.195Z"
   },
   {
    "duration": 9,
    "start_time": "2025-02-24T10:41:18.756Z"
   },
   {
    "duration": 10,
    "start_time": "2025-02-24T10:41:24.126Z"
   },
   {
    "duration": 4,
    "start_time": "2025-02-24T10:41:35.887Z"
   },
   {
    "duration": 3,
    "start_time": "2025-02-24T10:41:44.877Z"
   },
   {
    "duration": 162,
    "start_time": "2025-02-24T10:41:48.328Z"
   },
   {
    "duration": 22,
    "start_time": "2025-02-24T10:42:04.013Z"
   },
   {
    "duration": 14,
    "start_time": "2025-02-24T10:42:17.533Z"
   },
   {
    "duration": 79,
    "start_time": "2025-02-24T10:49:00.295Z"
   },
   {
    "duration": 15,
    "start_time": "2025-02-24T10:49:08.215Z"
   },
   {
    "duration": 9,
    "start_time": "2025-02-24T10:51:38.636Z"
   },
   {
    "duration": 10,
    "start_time": "2025-02-24T10:53:16.803Z"
   },
   {
    "duration": 111,
    "start_time": "2025-02-24T10:53:30.196Z"
   },
   {
    "duration": 7,
    "start_time": "2025-02-24T10:53:38.946Z"
   },
   {
    "duration": 23,
    "start_time": "2025-02-24T10:53:57.168Z"
   },
   {
    "duration": 15,
    "start_time": "2025-02-24T10:54:10.355Z"
   },
   {
    "duration": 22,
    "start_time": "2025-02-24T10:54:40.550Z"
   },
   {
    "duration": 106,
    "start_time": "2025-02-24T10:55:03.525Z"
   },
   {
    "duration": 20,
    "start_time": "2025-02-24T10:55:38.007Z"
   },
   {
    "duration": 110,
    "start_time": "2025-02-24T10:55:49.845Z"
   },
   {
    "duration": 109,
    "start_time": "2025-02-24T10:56:22.663Z"
   },
   {
    "duration": 121,
    "start_time": "2025-02-24T10:56:30.408Z"
   },
   {
    "duration": 20,
    "start_time": "2025-02-24T10:56:55.055Z"
   },
   {
    "duration": 21,
    "start_time": "2025-02-24T10:57:40.361Z"
   },
   {
    "duration": 19,
    "start_time": "2025-02-24T10:57:54.398Z"
   },
   {
    "duration": 23,
    "start_time": "2025-02-24T10:58:57.213Z"
   },
   {
    "duration": 13,
    "start_time": "2025-02-24T10:59:00.360Z"
   },
   {
    "duration": 19,
    "start_time": "2025-02-24T10:59:24.196Z"
   },
   {
    "duration": 13,
    "start_time": "2025-02-24T10:59:43.059Z"
   },
   {
    "duration": 11,
    "start_time": "2025-02-24T11:00:28.610Z"
   },
   {
    "duration": 12,
    "start_time": "2025-02-24T11:00:33.156Z"
   },
   {
    "duration": 20,
    "start_time": "2025-02-24T11:01:02.395Z"
   },
   {
    "duration": 121,
    "start_time": "2025-02-24T11:01:42.254Z"
   },
   {
    "duration": 7,
    "start_time": "2025-02-24T11:01:42.676Z"
   },
   {
    "duration": 19,
    "start_time": "2025-02-24T11:01:44.605Z"
   },
   {
    "duration": 6,
    "start_time": "2025-02-24T11:02:31.732Z"
   },
   {
    "duration": 7,
    "start_time": "2025-02-24T11:04:58.083Z"
   },
   {
    "duration": 150,
    "start_time": "2025-02-24T11:06:49.979Z"
   },
   {
    "duration": 150,
    "start_time": "2025-02-24T11:07:18.011Z"
   },
   {
    "duration": 10,
    "start_time": "2025-02-24T11:07:34.286Z"
   },
   {
    "duration": 11,
    "start_time": "2025-02-24T11:07:37.745Z"
   },
   {
    "duration": 12,
    "start_time": "2025-02-24T11:07:57.673Z"
   },
   {
    "duration": 11,
    "start_time": "2025-02-24T11:08:05.173Z"
   },
   {
    "duration": 2918,
    "start_time": "2025-02-24T11:10:24.077Z"
   },
   {
    "duration": 2958,
    "start_time": "2025-02-24T11:10:34.874Z"
   },
   {
    "duration": 3,
    "start_time": "2025-02-24T11:10:57.597Z"
   },
   {
    "duration": 34,
    "start_time": "2025-02-24T11:11:06.573Z"
   },
   {
    "duration": 13,
    "start_time": "2025-02-24T11:11:21.322Z"
   },
   {
    "duration": 2864,
    "start_time": "2025-02-24T11:11:35.122Z"
   },
   {
    "duration": 2849,
    "start_time": "2025-02-24T11:14:11.754Z"
   },
   {
    "duration": 7,
    "start_time": "2025-02-24T11:14:58.190Z"
   },
   {
    "duration": 7,
    "start_time": "2025-02-24T11:15:28.529Z"
   },
   {
    "duration": 7,
    "start_time": "2025-02-24T11:15:37.133Z"
   },
   {
    "duration": 6,
    "start_time": "2025-02-24T11:16:14.993Z"
   },
   {
    "duration": 9,
    "start_time": "2025-02-24T11:19:04.099Z"
   },
   {
    "duration": 21,
    "start_time": "2025-02-24T11:22:23.141Z"
   },
   {
    "duration": 23,
    "start_time": "2025-02-24T11:22:29.589Z"
   },
   {
    "duration": 22,
    "start_time": "2025-02-24T11:23:43.350Z"
   },
   {
    "duration": 24,
    "start_time": "2025-02-24T11:23:51.189Z"
   },
   {
    "duration": 7,
    "start_time": "2025-02-24T11:25:32.681Z"
   },
   {
    "duration": 7,
    "start_time": "2025-02-24T11:28:13.169Z"
   },
   {
    "duration": 28,
    "start_time": "2025-02-24T11:28:18.789Z"
   },
   {
    "duration": 14,
    "start_time": "2025-02-24T11:28:46.987Z"
   },
   {
    "duration": 8,
    "start_time": "2025-02-24T11:32:51.867Z"
   },
   {
    "duration": 30,
    "start_time": "2025-02-24T11:33:05.109Z"
   },
   {
    "duration": 21,
    "start_time": "2025-02-24T11:35:04.442Z"
   },
   {
    "duration": 32,
    "start_time": "2025-02-24T11:35:10.699Z"
   },
   {
    "duration": 91,
    "start_time": "2025-02-24T11:35:18.351Z"
   },
   {
    "duration": 9,
    "start_time": "2025-02-24T11:38:01.441Z"
   },
   {
    "duration": 6091,
    "start_time": "2025-02-24T11:38:57.241Z"
   },
   {
    "duration": 2648,
    "start_time": "2025-02-24T11:39:03.335Z"
   },
   {
    "duration": 13,
    "start_time": "2025-02-24T11:39:05.985Z"
   },
   {
    "duration": 38,
    "start_time": "2025-02-24T11:39:05.999Z"
   },
   {
    "duration": 123,
    "start_time": "2025-02-24T11:39:06.040Z"
   },
   {
    "duration": 120,
    "start_time": "2025-02-24T11:39:06.165Z"
   },
   {
    "duration": 8,
    "start_time": "2025-02-24T11:39:06.287Z"
   },
   {
    "duration": 36,
    "start_time": "2025-02-24T11:39:06.297Z"
   },
   {
    "duration": 150,
    "start_time": "2025-02-24T11:39:06.336Z"
   },
   {
    "duration": 84,
    "start_time": "2025-02-24T11:39:06.487Z"
   },
   {
    "duration": 10,
    "start_time": "2025-02-24T11:39:06.574Z"
   },
   {
    "duration": 54,
    "start_time": "2025-02-24T11:39:06.587Z"
   },
   {
    "duration": 11,
    "start_time": "2025-02-24T11:39:06.642Z"
   },
   {
    "duration": 20,
    "start_time": "2025-02-24T11:39:06.658Z"
   },
   {
    "duration": 15,
    "start_time": "2025-02-24T11:39:06.680Z"
   },
   {
    "duration": 36,
    "start_time": "2025-02-24T11:39:06.697Z"
   },
   {
    "duration": 20,
    "start_time": "2025-02-24T11:39:06.734Z"
   },
   {
    "duration": 29,
    "start_time": "2025-02-24T11:39:06.755Z"
   },
   {
    "duration": 39,
    "start_time": "2025-02-24T11:39:06.785Z"
   },
   {
    "duration": 434,
    "start_time": "2025-02-24T11:39:06.826Z"
   },
   {
    "duration": 83,
    "start_time": "2025-02-24T11:39:07.261Z"
   },
   {
    "duration": 206,
    "start_time": "2025-02-24T11:39:07.346Z"
   },
   {
    "duration": 64,
    "start_time": "2025-02-24T11:39:07.553Z"
   },
   {
    "duration": 22,
    "start_time": "2025-02-24T11:39:07.624Z"
   },
   {
    "duration": 1339,
    "start_time": "2025-02-24T11:39:07.648Z"
   },
   {
    "duration": 179,
    "start_time": "2025-02-24T11:39:08.989Z"
   },
   {
    "duration": 28,
    "start_time": "2025-02-24T11:39:09.170Z"
   },
   {
    "duration": 125,
    "start_time": "2025-02-24T11:39:09.213Z"
   },
   {
    "duration": 33,
    "start_time": "2025-02-24T11:39:09.340Z"
   },
   {
    "duration": 15,
    "start_time": "2025-02-24T11:39:09.375Z"
   },
   {
    "duration": 813,
    "start_time": "2025-02-24T11:39:09.391Z"
   },
   {
    "duration": 229,
    "start_time": "2025-02-24T11:39:10.212Z"
   },
   {
    "duration": 116,
    "start_time": "2025-02-24T11:39:10.443Z"
   },
   {
    "duration": 86,
    "start_time": "2025-02-24T11:39:10.560Z"
   },
   {
    "duration": 184,
    "start_time": "2025-02-24T11:39:10.648Z"
   },
   {
    "duration": 37,
    "start_time": "2025-02-24T11:39:10.834Z"
   },
   {
    "duration": 101,
    "start_time": "2025-02-24T11:39:10.873Z"
   },
   {
    "duration": 65,
    "start_time": "2025-02-24T11:39:10.976Z"
   },
   {
    "duration": 33,
    "start_time": "2025-02-24T11:39:11.043Z"
   },
   {
    "duration": 41,
    "start_time": "2025-02-24T11:39:11.078Z"
   },
   {
    "duration": 16,
    "start_time": "2025-02-24T11:39:11.127Z"
   },
   {
    "duration": 57,
    "start_time": "2025-02-24T11:39:11.145Z"
   },
   {
    "duration": 28,
    "start_time": "2025-02-24T11:39:11.204Z"
   },
   {
    "duration": 312,
    "start_time": "2025-02-24T11:39:11.234Z"
   },
   {
    "duration": 130,
    "start_time": "2025-02-24T11:39:11.548Z"
   },
   {
    "duration": 20,
    "start_time": "2025-02-24T11:39:11.680Z"
   },
   {
    "duration": 3117,
    "start_time": "2025-02-24T11:39:11.702Z"
   },
   {
    "duration": 25,
    "start_time": "2025-02-24T11:39:14.825Z"
   },
   {
    "duration": 15,
    "start_time": "2025-02-24T11:39:14.851Z"
   },
   {
    "duration": 19,
    "start_time": "2025-02-24T11:39:14.867Z"
   },
   {
    "duration": 39,
    "start_time": "2025-02-24T11:39:14.887Z"
   },
   {
    "duration": 30,
    "start_time": "2025-02-24T11:46:58.690Z"
   },
   {
    "duration": 11,
    "start_time": "2025-02-24T11:49:35.082Z"
   },
   {
    "duration": 10,
    "start_time": "2025-02-24T11:50:21.749Z"
   },
   {
    "duration": 9,
    "start_time": "2025-02-24T11:55:33.452Z"
   },
   {
    "duration": 24,
    "start_time": "2025-02-24T11:58:14.026Z"
   },
   {
    "duration": 7,
    "start_time": "2025-02-24T11:58:47.874Z"
   },
   {
    "duration": 118,
    "start_time": "2025-02-24T12:07:25.778Z"
   },
   {
    "duration": 11,
    "start_time": "2025-02-24T12:07:32.763Z"
   },
   {
    "duration": 2,
    "start_time": "2025-02-24T12:17:18.441Z"
   },
   {
    "duration": 18,
    "start_time": "2025-02-24T12:18:16.669Z"
   },
   {
    "duration": 15,
    "start_time": "2025-02-24T12:18:28.055Z"
   },
   {
    "duration": 12,
    "start_time": "2025-02-24T12:18:55.834Z"
   },
   {
    "duration": 6,
    "start_time": "2025-02-24T12:20:39.349Z"
   },
   {
    "duration": 6,
    "start_time": "2025-02-24T12:20:50.502Z"
   },
   {
    "duration": 5,
    "start_time": "2025-02-24T12:20:55.897Z"
   },
   {
    "duration": 7,
    "start_time": "2025-02-24T12:21:15.765Z"
   },
   {
    "duration": 8,
    "start_time": "2025-02-24T12:21:25.288Z"
   },
   {
    "duration": 7,
    "start_time": "2025-02-24T12:21:31.011Z"
   },
   {
    "duration": 8,
    "start_time": "2025-02-24T12:22:08.847Z"
   },
   {
    "duration": 10,
    "start_time": "2025-02-24T12:22:35.924Z"
   },
   {
    "duration": 11,
    "start_time": "2025-02-24T12:22:54.608Z"
   },
   {
    "duration": 4039,
    "start_time": "2025-02-24T12:23:12.741Z"
   },
   {
    "duration": 2736,
    "start_time": "2025-02-24T12:23:16.782Z"
   },
   {
    "duration": 14,
    "start_time": "2025-02-24T12:23:19.520Z"
   },
   {
    "duration": 12,
    "start_time": "2025-02-24T12:23:19.536Z"
   },
   {
    "duration": 25,
    "start_time": "2025-02-24T12:23:19.549Z"
   },
   {
    "duration": 127,
    "start_time": "2025-02-24T12:23:19.576Z"
   },
   {
    "duration": 12,
    "start_time": "2025-02-24T12:23:19.705Z"
   },
   {
    "duration": 22,
    "start_time": "2025-02-24T12:23:19.719Z"
   },
   {
    "duration": 10,
    "start_time": "2025-02-24T12:23:19.743Z"
   },
   {
    "duration": 69,
    "start_time": "2025-02-24T12:23:19.756Z"
   },
   {
    "duration": 9,
    "start_time": "2025-02-24T12:23:19.826Z"
   },
   {
    "duration": 101,
    "start_time": "2025-02-24T12:23:19.837Z"
   },
   {
    "duration": 10,
    "start_time": "2025-02-24T12:23:19.940Z"
   },
   {
    "duration": 13,
    "start_time": "2025-02-24T12:23:19.952Z"
   },
   {
    "duration": 7,
    "start_time": "2025-02-24T12:23:19.967Z"
   },
   {
    "duration": 24,
    "start_time": "2025-02-24T12:23:19.976Z"
   },
   {
    "duration": 17,
    "start_time": "2025-02-24T12:23:20.014Z"
   },
   {
    "duration": 92,
    "start_time": "2025-02-24T12:23:20.033Z"
   },
   {
    "duration": 11,
    "start_time": "2025-02-24T12:23:20.126Z"
   },
   {
    "duration": 445,
    "start_time": "2025-02-24T12:23:20.139Z"
   },
   {
    "duration": 63,
    "start_time": "2025-02-24T12:23:20.586Z"
   },
   {
    "duration": 208,
    "start_time": "2025-02-24T12:23:20.651Z"
   },
   {
    "duration": 65,
    "start_time": "2025-02-24T12:23:20.862Z"
   },
   {
    "duration": 21,
    "start_time": "2025-02-24T12:23:20.929Z"
   },
   {
    "duration": 1245,
    "start_time": "2025-02-24T12:23:20.951Z"
   },
   {
    "duration": 180,
    "start_time": "2025-02-24T12:23:22.197Z"
   },
   {
    "duration": 35,
    "start_time": "2025-02-24T12:23:22.378Z"
   },
   {
    "duration": 110,
    "start_time": "2025-02-24T12:23:22.417Z"
   },
   {
    "duration": 36,
    "start_time": "2025-02-24T12:23:22.529Z"
   },
   {
    "duration": 89,
    "start_time": "2025-02-24T12:23:22.567Z"
   },
   {
    "duration": 780,
    "start_time": "2025-02-24T12:23:22.658Z"
   },
   {
    "duration": 186,
    "start_time": "2025-02-24T12:23:23.440Z"
   },
   {
    "duration": 105,
    "start_time": "2025-02-24T12:23:23.628Z"
   },
   {
    "duration": 55,
    "start_time": "2025-02-24T12:23:23.735Z"
   },
   {
    "duration": 197,
    "start_time": "2025-02-24T12:23:23.792Z"
   },
   {
    "duration": 45,
    "start_time": "2025-02-24T12:23:23.991Z"
   },
   {
    "duration": 88,
    "start_time": "2025-02-24T12:23:24.038Z"
   },
   {
    "duration": 46,
    "start_time": "2025-02-24T12:23:24.128Z"
   },
   {
    "duration": 39,
    "start_time": "2025-02-24T12:23:24.176Z"
   },
   {
    "duration": 55,
    "start_time": "2025-02-24T12:23:24.217Z"
   },
   {
    "duration": 14,
    "start_time": "2025-02-24T12:23:24.274Z"
   },
   {
    "duration": 44,
    "start_time": "2025-02-24T12:23:24.290Z"
   },
   {
    "duration": 9,
    "start_time": "2025-02-24T12:23:24.336Z"
   },
   {
    "duration": 283,
    "start_time": "2025-02-24T12:23:24.346Z"
   },
   {
    "duration": 111,
    "start_time": "2025-02-24T12:23:24.631Z"
   },
   {
    "duration": 22,
    "start_time": "2025-02-24T12:23:24.744Z"
   },
   {
    "duration": 2846,
    "start_time": "2025-02-24T12:23:24.768Z"
   },
   {
    "duration": 26,
    "start_time": "2025-02-24T12:23:27.616Z"
   },
   {
    "duration": 16,
    "start_time": "2025-02-24T12:23:27.643Z"
   },
   {
    "duration": 10,
    "start_time": "2025-02-24T12:23:27.660Z"
   },
   {
    "duration": 53,
    "start_time": "2025-02-24T12:23:27.671Z"
   },
   {
    "duration": 6,
    "start_time": "2025-02-24T12:23:27.726Z"
   },
   {
    "duration": 12,
    "start_time": "2025-02-24T12:23:27.734Z"
   },
   {
    "duration": 117,
    "start_time": "2025-02-24T12:27:54.213Z"
   },
   {
    "duration": 26,
    "start_time": "2025-02-24T12:27:59.053Z"
   },
   {
    "duration": 26,
    "start_time": "2025-02-24T12:28:13.613Z"
   },
   {
    "duration": 20,
    "start_time": "2025-02-24T12:28:22.500Z"
   },
   {
    "duration": 5,
    "start_time": "2025-02-24T12:28:23.128Z"
   },
   {
    "duration": 49,
    "start_time": "2025-02-24T12:28:44.888Z"
   },
   {
    "duration": 26,
    "start_time": "2025-02-24T12:28:54.551Z"
   },
   {
    "duration": 44,
    "start_time": "2025-02-24T12:38:13.599Z"
   },
   {
    "duration": 30,
    "start_time": "2025-02-24T12:38:15.441Z"
   },
   {
    "duration": 6,
    "start_time": "2025-02-24T12:38:16.967Z"
   },
   {
    "duration": 47,
    "start_time": "2025-02-24T12:41:26.660Z"
   },
   {
    "duration": 36,
    "start_time": "2025-02-24T12:41:28.506Z"
   },
   {
    "duration": 9,
    "start_time": "2025-02-24T12:41:29.169Z"
   },
   {
    "duration": 101,
    "start_time": "2025-02-24T12:49:09.184Z"
   },
   {
    "duration": 82,
    "start_time": "2025-02-24T12:49:16.633Z"
   },
   {
    "duration": 3,
    "start_time": "2025-02-24T12:49:21.471Z"
   },
   {
    "duration": 37,
    "start_time": "2025-02-24T12:51:41.454Z"
   },
   {
    "duration": 76,
    "start_time": "2025-02-24T12:52:05.602Z"
   },
   {
    "duration": 9,
    "start_time": "2025-02-24T12:55:34.885Z"
   },
   {
    "duration": 63,
    "start_time": "2025-02-24T12:55:38.376Z"
   },
   {
    "duration": 9,
    "start_time": "2025-02-24T12:55:39.284Z"
   },
   {
    "duration": 4,
    "start_time": "2025-02-24T12:55:48.533Z"
   },
   {
    "duration": 72,
    "start_time": "2025-02-24T13:06:29.095Z"
   },
   {
    "duration": 86,
    "start_time": "2025-02-24T13:18:23.215Z"
   },
   {
    "duration": 109,
    "start_time": "2025-02-24T13:22:34.428Z"
   },
   {
    "duration": 39,
    "start_time": "2025-02-24T13:22:55.363Z"
   },
   {
    "duration": 7,
    "start_time": "2025-02-24T13:24:35.274Z"
   },
   {
    "duration": 8,
    "start_time": "2025-02-24T13:24:45.687Z"
   },
   {
    "duration": 7,
    "start_time": "2025-02-24T13:25:03.354Z"
   },
   {
    "duration": 10,
    "start_time": "2025-02-24T13:25:08.107Z"
   },
   {
    "duration": 8,
    "start_time": "2025-02-24T13:25:08.440Z"
   },
   {
    "duration": 15,
    "start_time": "2025-02-24T13:25:48.333Z"
   },
   {
    "duration": 14,
    "start_time": "2025-02-24T13:26:11.347Z"
   },
   {
    "duration": 8,
    "start_time": "2025-02-24T13:26:16.867Z"
   },
   {
    "duration": 175,
    "start_time": "2025-02-24T13:29:36.305Z"
   },
   {
    "duration": 17,
    "start_time": "2025-02-24T13:34:27.151Z"
   },
   {
    "duration": 22,
    "start_time": "2025-02-24T13:36:08.149Z"
   },
   {
    "duration": 61,
    "start_time": "2025-02-24T13:36:22.892Z"
   },
   {
    "duration": 85,
    "start_time": "2025-02-24T13:37:16.765Z"
   },
   {
    "duration": 3814,
    "start_time": "2025-02-24T13:39:59.092Z"
   },
   {
    "duration": 2754,
    "start_time": "2025-02-24T13:40:02.909Z"
   },
   {
    "duration": 14,
    "start_time": "2025-02-24T13:40:05.665Z"
   },
   {
    "duration": 14,
    "start_time": "2025-02-24T13:40:05.680Z"
   },
   {
    "duration": 32,
    "start_time": "2025-02-24T13:40:05.696Z"
   },
   {
    "duration": 137,
    "start_time": "2025-02-24T13:40:05.729Z"
   },
   {
    "duration": 8,
    "start_time": "2025-02-24T13:40:05.868Z"
   },
   {
    "duration": 58,
    "start_time": "2025-02-24T13:40:05.878Z"
   },
   {
    "duration": 12,
    "start_time": "2025-02-24T13:40:05.938Z"
   },
   {
    "duration": 55,
    "start_time": "2025-02-24T13:40:05.952Z"
   },
   {
    "duration": 8,
    "start_time": "2025-02-24T13:40:06.010Z"
   },
   {
    "duration": 62,
    "start_time": "2025-02-24T13:40:06.020Z"
   },
   {
    "duration": 83,
    "start_time": "2025-02-24T13:40:06.084Z"
   },
   {
    "duration": 14,
    "start_time": "2025-02-24T13:40:06.172Z"
   },
   {
    "duration": 8,
    "start_time": "2025-02-24T13:40:06.188Z"
   },
   {
    "duration": 25,
    "start_time": "2025-02-24T13:40:06.197Z"
   },
   {
    "duration": 18,
    "start_time": "2025-02-24T13:40:06.225Z"
   },
   {
    "duration": 30,
    "start_time": "2025-02-24T13:40:06.244Z"
   },
   {
    "duration": 46,
    "start_time": "2025-02-24T13:40:06.276Z"
   },
   {
    "duration": 490,
    "start_time": "2025-02-24T13:40:06.324Z"
   },
   {
    "duration": 48,
    "start_time": "2025-02-24T13:40:06.816Z"
   },
   {
    "duration": 223,
    "start_time": "2025-02-24T13:40:06.866Z"
   },
   {
    "duration": 54,
    "start_time": "2025-02-24T13:40:07.090Z"
   },
   {
    "duration": 20,
    "start_time": "2025-02-24T13:40:07.145Z"
   },
   {
    "duration": 1280,
    "start_time": "2025-02-24T13:40:07.166Z"
   },
   {
    "duration": 185,
    "start_time": "2025-02-24T13:40:08.448Z"
   },
   {
    "duration": 30,
    "start_time": "2025-02-24T13:40:08.636Z"
   },
   {
    "duration": 129,
    "start_time": "2025-02-24T13:40:08.668Z"
   },
   {
    "duration": 54,
    "start_time": "2025-02-24T13:40:08.799Z"
   },
   {
    "duration": 16,
    "start_time": "2025-02-24T13:40:08.855Z"
   },
   {
    "duration": 827,
    "start_time": "2025-02-24T13:40:08.873Z"
   },
   {
    "duration": 201,
    "start_time": "2025-02-24T13:40:09.702Z"
   },
   {
    "duration": 116,
    "start_time": "2025-02-24T13:40:09.905Z"
   },
   {
    "duration": 57,
    "start_time": "2025-02-24T13:40:10.022Z"
   },
   {
    "duration": 177,
    "start_time": "2025-02-24T13:40:10.081Z"
   },
   {
    "duration": 35,
    "start_time": "2025-02-24T13:40:10.260Z"
   },
   {
    "duration": 145,
    "start_time": "2025-02-24T13:40:10.297Z"
   },
   {
    "duration": 46,
    "start_time": "2025-02-24T13:40:10.444Z"
   },
   {
    "duration": 40,
    "start_time": "2025-02-24T13:40:10.492Z"
   },
   {
    "duration": 16,
    "start_time": "2025-02-24T13:40:10.533Z"
   },
   {
    "duration": 15,
    "start_time": "2025-02-24T13:40:10.553Z"
   },
   {
    "duration": 75,
    "start_time": "2025-02-24T13:40:10.570Z"
   },
   {
    "duration": 11,
    "start_time": "2025-02-24T13:40:10.646Z"
   },
   {
    "duration": 304,
    "start_time": "2025-02-24T13:40:10.658Z"
   },
   {
    "duration": 129,
    "start_time": "2025-02-24T13:40:10.964Z"
   },
   {
    "duration": 33,
    "start_time": "2025-02-24T13:40:11.095Z"
   },
   {
    "duration": 2978,
    "start_time": "2025-02-24T13:40:11.130Z"
   },
   {
    "duration": 23,
    "start_time": "2025-02-24T13:40:14.114Z"
   },
   {
    "duration": 15,
    "start_time": "2025-02-24T13:40:14.139Z"
   },
   {
    "duration": 9,
    "start_time": "2025-02-24T13:40:14.156Z"
   },
   {
    "duration": 49,
    "start_time": "2025-02-24T13:40:14.167Z"
   },
   {
    "duration": 7,
    "start_time": "2025-02-24T13:40:14.218Z"
   },
   {
    "duration": 10,
    "start_time": "2025-02-24T13:40:14.227Z"
   },
   {
    "duration": 46,
    "start_time": "2025-02-24T13:40:14.238Z"
   },
   {
    "duration": 29,
    "start_time": "2025-02-24T13:40:14.313Z"
   },
   {
    "duration": 26,
    "start_time": "2025-02-24T13:40:14.344Z"
   },
   {
    "duration": 73,
    "start_time": "2025-02-24T13:40:14.371Z"
   },
   {
    "duration": 171,
    "start_time": "2025-02-24T13:40:14.446Z"
   },
   {
    "duration": 26,
    "start_time": "2025-02-24T13:40:14.619Z"
   },
   {
    "duration": 179,
    "start_time": "2025-02-24T13:40:14.646Z"
   },
   {
    "duration": 7,
    "start_time": "2025-02-24T13:40:14.826Z"
   },
   {
    "duration": 9,
    "start_time": "2025-02-24T13:40:14.834Z"
   },
   {
    "duration": 129,
    "start_time": "2025-02-24T13:42:28.759Z"
   },
   {
    "duration": 164,
    "start_time": "2025-02-24T13:43:02.834Z"
   },
   {
    "duration": 58,
    "start_time": "2025-02-24T13:43:19.133Z"
   },
   {
    "duration": 106,
    "start_time": "2025-02-24T13:43:28.904Z"
   },
   {
    "duration": 127,
    "start_time": "2025-02-24T13:43:44.069Z"
   },
   {
    "duration": 161,
    "start_time": "2025-02-24T13:43:51.658Z"
   },
   {
    "duration": 110,
    "start_time": "2025-02-24T13:44:05.688Z"
   },
   {
    "duration": 106,
    "start_time": "2025-02-24T13:44:12.386Z"
   },
   {
    "duration": 119,
    "start_time": "2025-02-24T13:44:18.102Z"
   },
   {
    "duration": 163,
    "start_time": "2025-02-24T13:44:22.879Z"
   },
   {
    "duration": 6,
    "start_time": "2025-02-24T13:44:23.100Z"
   },
   {
    "duration": 110,
    "start_time": "2025-02-24T13:44:28.664Z"
   },
   {
    "duration": 153,
    "start_time": "2025-02-24T13:45:46.916Z"
   },
   {
    "duration": 125,
    "start_time": "2025-02-24T13:46:30.765Z"
   },
   {
    "duration": 151,
    "start_time": "2025-02-24T13:46:32.633Z"
   },
   {
    "duration": 117,
    "start_time": "2025-02-24T13:47:25.546Z"
   },
   {
    "duration": 160,
    "start_time": "2025-02-24T13:48:18.161Z"
   },
   {
    "duration": 189,
    "start_time": "2025-02-24T13:48:26.522Z"
   },
   {
    "duration": 189,
    "start_time": "2025-02-24T13:48:30.751Z"
   },
   {
    "duration": 162,
    "start_time": "2025-02-24T13:48:34.452Z"
   },
   {
    "duration": 169,
    "start_time": "2025-02-24T13:48:36.555Z"
   },
   {
    "duration": 160,
    "start_time": "2025-02-24T13:48:41.573Z"
   },
   {
    "duration": 153,
    "start_time": "2025-02-24T13:48:45.712Z"
   },
   {
    "duration": 6,
    "start_time": "2025-02-24T13:48:49.691Z"
   },
   {
    "duration": 7,
    "start_time": "2025-02-24T13:48:50.499Z"
   },
   {
    "duration": 110,
    "start_time": "2025-02-24T13:54:27.059Z"
   },
   {
    "duration": 16,
    "start_time": "2025-02-24T13:54:56.978Z"
   },
   {
    "duration": 16,
    "start_time": "2025-02-24T13:56:16.587Z"
   },
   {
    "duration": 10,
    "start_time": "2025-02-24T13:57:51.205Z"
   },
   {
    "duration": 16,
    "start_time": "2025-02-24T13:58:00.847Z"
   },
   {
    "duration": 140,
    "start_time": "2025-02-24T13:58:17.051Z"
   },
   {
    "duration": 19,
    "start_time": "2025-02-24T14:05:21.292Z"
   },
   {
    "duration": 156,
    "start_time": "2025-02-24T14:05:26.505Z"
   },
   {
    "duration": 78,
    "start_time": "2025-02-24T14:05:52.800Z"
   },
   {
    "duration": 20,
    "start_time": "2025-02-24T14:06:18.853Z"
   },
   {
    "duration": 80,
    "start_time": "2025-02-24T14:06:21.371Z"
   },
   {
    "duration": 28,
    "start_time": "2025-02-24T14:07:02.680Z"
   },
   {
    "duration": 150,
    "start_time": "2025-02-24T14:07:07.635Z"
   },
   {
    "duration": 80,
    "start_time": "2025-02-24T14:07:13.729Z"
   },
   {
    "duration": 19,
    "start_time": "2025-02-24T14:07:30.607Z"
   },
   {
    "duration": 77,
    "start_time": "2025-02-24T14:07:31.066Z"
   },
   {
    "duration": 29,
    "start_time": "2025-02-24T14:07:39.125Z"
   },
   {
    "duration": 71,
    "start_time": "2025-02-24T14:07:40.321Z"
   },
   {
    "duration": 40,
    "start_time": "2025-02-24T14:07:52.673Z"
   },
   {
    "duration": 3854,
    "start_time": "2025-02-24T14:08:20.979Z"
   },
   {
    "duration": 2573,
    "start_time": "2025-02-24T14:08:24.835Z"
   },
   {
    "duration": 13,
    "start_time": "2025-02-24T14:08:27.409Z"
   },
   {
    "duration": 12,
    "start_time": "2025-02-24T14:08:27.425Z"
   },
   {
    "duration": 30,
    "start_time": "2025-02-24T14:08:27.438Z"
   },
   {
    "duration": 172,
    "start_time": "2025-02-24T14:08:27.470Z"
   },
   {
    "duration": 7,
    "start_time": "2025-02-24T14:08:27.644Z"
   },
   {
    "duration": 24,
    "start_time": "2025-02-24T14:08:27.652Z"
   },
   {
    "duration": 9,
    "start_time": "2025-02-24T14:08:27.677Z"
   },
   {
    "duration": 59,
    "start_time": "2025-02-24T14:08:27.689Z"
   },
   {
    "duration": 7,
    "start_time": "2025-02-24T14:08:27.750Z"
   },
   {
    "duration": 26,
    "start_time": "2025-02-24T14:08:27.759Z"
   },
   {
    "duration": 29,
    "start_time": "2025-02-24T14:08:27.786Z"
   },
   {
    "duration": 13,
    "start_time": "2025-02-24T14:08:27.817Z"
   },
   {
    "duration": 7,
    "start_time": "2025-02-24T14:08:27.831Z"
   },
   {
    "duration": 15,
    "start_time": "2025-02-24T14:08:27.839Z"
   },
   {
    "duration": 16,
    "start_time": "2025-02-24T14:08:27.856Z"
   },
   {
    "duration": 63,
    "start_time": "2025-02-24T14:08:27.874Z"
   },
   {
    "duration": 9,
    "start_time": "2025-02-24T14:08:27.939Z"
   },
   {
    "duration": 417,
    "start_time": "2025-02-24T14:08:27.950Z"
   },
   {
    "duration": 61,
    "start_time": "2025-02-24T14:08:28.368Z"
   },
   {
    "duration": 189,
    "start_time": "2025-02-24T14:08:28.431Z"
   },
   {
    "duration": 45,
    "start_time": "2025-02-24T14:08:28.621Z"
   },
   {
    "duration": 18,
    "start_time": "2025-02-24T14:08:28.668Z"
   },
   {
    "duration": 1195,
    "start_time": "2025-02-24T14:08:28.688Z"
   },
   {
    "duration": 173,
    "start_time": "2025-02-24T14:08:29.885Z"
   },
   {
    "duration": 26,
    "start_time": "2025-02-24T14:08:30.060Z"
   },
   {
    "duration": 124,
    "start_time": "2025-02-24T14:08:30.090Z"
   },
   {
    "duration": 36,
    "start_time": "2025-02-24T14:08:30.216Z"
   },
   {
    "duration": 38,
    "start_time": "2025-02-24T14:08:30.254Z"
   },
   {
    "duration": 694,
    "start_time": "2025-02-24T14:08:30.294Z"
   },
   {
    "duration": 158,
    "start_time": "2025-02-24T14:08:30.990Z"
   },
   {
    "duration": 106,
    "start_time": "2025-02-24T14:08:31.150Z"
   },
   {
    "duration": 76,
    "start_time": "2025-02-24T14:08:31.257Z"
   },
   {
    "duration": 162,
    "start_time": "2025-02-24T14:08:31.334Z"
   },
   {
    "duration": 42,
    "start_time": "2025-02-24T14:08:31.498Z"
   },
   {
    "duration": 79,
    "start_time": "2025-02-24T14:08:31.541Z"
   },
   {
    "duration": 40,
    "start_time": "2025-02-24T14:08:31.622Z"
   },
   {
    "duration": 21,
    "start_time": "2025-02-24T14:08:31.663Z"
   },
   {
    "duration": 40,
    "start_time": "2025-02-24T14:08:31.685Z"
   },
   {
    "duration": 39,
    "start_time": "2025-02-24T14:08:31.727Z"
   },
   {
    "duration": 63,
    "start_time": "2025-02-24T14:08:31.768Z"
   },
   {
    "duration": 9,
    "start_time": "2025-02-24T14:08:31.832Z"
   },
   {
    "duration": 299,
    "start_time": "2025-02-24T14:08:31.843Z"
   },
   {
    "duration": 110,
    "start_time": "2025-02-24T14:08:32.144Z"
   },
   {
    "duration": 20,
    "start_time": "2025-02-24T14:08:32.255Z"
   },
   {
    "duration": 2828,
    "start_time": "2025-02-24T14:08:32.276Z"
   },
   {
    "duration": 27,
    "start_time": "2025-02-24T14:08:35.105Z"
   },
   {
    "duration": 21,
    "start_time": "2025-02-24T14:08:35.133Z"
   },
   {
    "duration": 20,
    "start_time": "2025-02-24T14:08:35.155Z"
   },
   {
    "duration": 16,
    "start_time": "2025-02-24T14:08:35.177Z"
   },
   {
    "duration": 18,
    "start_time": "2025-02-24T14:08:35.194Z"
   },
   {
    "duration": 38,
    "start_time": "2025-02-24T14:08:35.213Z"
   },
   {
    "duration": 50,
    "start_time": "2025-02-24T14:08:35.252Z"
   },
   {
    "duration": 28,
    "start_time": "2025-02-24T14:08:35.304Z"
   },
   {
    "duration": 17,
    "start_time": "2025-02-24T14:08:35.333Z"
   },
   {
    "duration": 67,
    "start_time": "2025-02-24T14:08:35.352Z"
   },
   {
    "duration": 83,
    "start_time": "2025-02-24T14:08:35.421Z"
   },
   {
    "duration": 24,
    "start_time": "2025-02-24T14:08:35.513Z"
   },
   {
    "duration": 165,
    "start_time": "2025-02-24T14:08:35.539Z"
   },
   {
    "duration": 136,
    "start_time": "2025-02-24T14:08:35.706Z"
   },
   {
    "duration": 164,
    "start_time": "2025-02-24T14:08:35.843Z"
   },
   {
    "duration": 130,
    "start_time": "2025-02-24T14:08:36.008Z"
   },
   {
    "duration": 31,
    "start_time": "2025-02-24T14:09:23.009Z"
   },
   {
    "duration": 81,
    "start_time": "2025-02-24T14:09:29.316Z"
   },
   {
    "duration": 49,
    "start_time": "2025-02-24T14:09:47.433Z"
   },
   {
    "duration": 46,
    "start_time": "2025-02-24T14:10:03.285Z"
   },
   {
    "duration": 81,
    "start_time": "2025-02-24T14:10:06.571Z"
   },
   {
    "duration": 3867,
    "start_time": "2025-02-24T14:10:29.495Z"
   },
   {
    "duration": 2237,
    "start_time": "2025-02-24T14:10:33.364Z"
   },
   {
    "duration": 25,
    "start_time": "2025-02-24T14:10:35.602Z"
   },
   {
    "duration": 25,
    "start_time": "2025-02-24T14:10:35.628Z"
   },
   {
    "duration": 25,
    "start_time": "2025-02-24T14:10:35.655Z"
   },
   {
    "duration": 122,
    "start_time": "2025-02-24T14:10:35.681Z"
   },
   {
    "duration": 7,
    "start_time": "2025-02-24T14:10:35.805Z"
   },
   {
    "duration": 30,
    "start_time": "2025-02-24T14:10:35.826Z"
   },
   {
    "duration": 12,
    "start_time": "2025-02-24T14:10:35.858Z"
   },
   {
    "duration": 52,
    "start_time": "2025-02-24T14:10:35.872Z"
   },
   {
    "duration": 8,
    "start_time": "2025-02-24T14:10:35.926Z"
   },
   {
    "duration": 84,
    "start_time": "2025-02-24T14:10:35.936Z"
   },
   {
    "duration": 11,
    "start_time": "2025-02-24T14:10:36.023Z"
   },
   {
    "duration": 23,
    "start_time": "2025-02-24T14:10:36.037Z"
   },
   {
    "duration": 34,
    "start_time": "2025-02-24T14:10:36.062Z"
   },
   {
    "duration": 42,
    "start_time": "2025-02-24T14:10:36.098Z"
   },
   {
    "duration": 26,
    "start_time": "2025-02-24T14:10:36.142Z"
   },
   {
    "duration": 29,
    "start_time": "2025-02-24T14:10:36.170Z"
   },
   {
    "duration": 44,
    "start_time": "2025-02-24T14:10:36.225Z"
   },
   {
    "duration": 464,
    "start_time": "2025-02-24T14:10:36.271Z"
   },
   {
    "duration": 45,
    "start_time": "2025-02-24T14:10:36.736Z"
   },
   {
    "duration": 208,
    "start_time": "2025-02-24T14:10:36.783Z"
   },
   {
    "duration": 52,
    "start_time": "2025-02-24T14:10:36.993Z"
   },
   {
    "duration": 63,
    "start_time": "2025-02-24T14:10:37.047Z"
   },
   {
    "duration": 1291,
    "start_time": "2025-02-24T14:10:37.112Z"
   },
   {
    "duration": 180,
    "start_time": "2025-02-24T14:10:38.404Z"
   },
   {
    "duration": 40,
    "start_time": "2025-02-24T14:10:38.586Z"
   },
   {
    "duration": 110,
    "start_time": "2025-02-24T14:10:38.629Z"
   },
   {
    "duration": 34,
    "start_time": "2025-02-24T14:10:38.741Z"
   },
   {
    "duration": 12,
    "start_time": "2025-02-24T14:10:38.777Z"
   },
   {
    "duration": 835,
    "start_time": "2025-02-24T14:10:38.790Z"
   },
   {
    "duration": 200,
    "start_time": "2025-02-24T14:10:39.627Z"
   },
   {
    "duration": 116,
    "start_time": "2025-02-24T14:10:39.828Z"
   },
   {
    "duration": 54,
    "start_time": "2025-02-24T14:10:39.946Z"
   },
   {
    "duration": 179,
    "start_time": "2025-02-24T14:10:40.013Z"
   },
   {
    "duration": 53,
    "start_time": "2025-02-24T14:10:40.194Z"
   },
   {
    "duration": 86,
    "start_time": "2025-02-24T14:10:40.249Z"
   },
   {
    "duration": 46,
    "start_time": "2025-02-24T14:10:40.337Z"
   },
   {
    "duration": 50,
    "start_time": "2025-02-24T14:10:40.385Z"
   },
   {
    "duration": 42,
    "start_time": "2025-02-24T14:10:40.437Z"
   },
   {
    "duration": 112,
    "start_time": "2025-02-24T14:10:40.484Z"
   },
   {
    "duration": 46,
    "start_time": "2025-02-24T14:10:40.598Z"
   },
   {
    "duration": 10,
    "start_time": "2025-02-24T14:10:40.646Z"
   },
   {
    "duration": 300,
    "start_time": "2025-02-24T14:10:40.657Z"
   },
   {
    "duration": 112,
    "start_time": "2025-02-24T14:10:40.959Z"
   },
   {
    "duration": 21,
    "start_time": "2025-02-24T14:10:41.073Z"
   },
   {
    "duration": 2980,
    "start_time": "2025-02-24T14:10:41.096Z"
   },
   {
    "duration": 25,
    "start_time": "2025-02-24T14:10:44.077Z"
   },
   {
    "duration": 29,
    "start_time": "2025-02-24T14:10:44.104Z"
   },
   {
    "duration": 8,
    "start_time": "2025-02-24T14:10:44.135Z"
   },
   {
    "duration": 17,
    "start_time": "2025-02-24T14:10:44.144Z"
   },
   {
    "duration": 6,
    "start_time": "2025-02-24T14:10:44.163Z"
   },
   {
    "duration": 105,
    "start_time": "2025-02-24T14:10:44.170Z"
   },
   {
    "duration": 52,
    "start_time": "2025-02-24T14:10:44.276Z"
   },
   {
    "duration": 29,
    "start_time": "2025-02-24T14:10:44.329Z"
   },
   {
    "duration": 6,
    "start_time": "2025-02-24T14:10:44.360Z"
   },
   {
    "duration": 157,
    "start_time": "2025-02-24T14:10:44.368Z"
   },
   {
    "duration": 121,
    "start_time": "2025-02-24T14:10:44.528Z"
   },
   {
    "duration": 24,
    "start_time": "2025-02-24T14:10:44.651Z"
   },
   {
    "duration": 189,
    "start_time": "2025-02-24T14:10:44.677Z"
   },
   {
    "duration": 138,
    "start_time": "2025-02-24T14:10:44.867Z"
   },
   {
    "duration": 184,
    "start_time": "2025-02-24T14:10:45.006Z"
   },
   {
    "duration": 157,
    "start_time": "2025-02-24T14:10:45.191Z"
   },
   {
    "duration": 543,
    "start_time": "2025-02-24T14:11:25.303Z"
   },
   {
    "duration": 14,
    "start_time": "2025-02-24T14:11:30.190Z"
   },
   {
    "duration": 5193,
    "start_time": "2025-02-24T15:40:44.393Z"
   },
   {
    "duration": 2635,
    "start_time": "2025-02-24T15:40:49.588Z"
   },
   {
    "duration": 13,
    "start_time": "2025-02-24T15:40:52.225Z"
   },
   {
    "duration": 36,
    "start_time": "2025-02-24T15:40:52.240Z"
   },
   {
    "duration": 26,
    "start_time": "2025-02-24T15:40:52.278Z"
   },
   {
    "duration": 184,
    "start_time": "2025-02-24T15:40:52.306Z"
   },
   {
    "duration": 11,
    "start_time": "2025-02-24T15:40:52.491Z"
   },
   {
    "duration": 24,
    "start_time": "2025-02-24T15:40:52.503Z"
   },
   {
    "duration": 9,
    "start_time": "2025-02-24T15:40:52.529Z"
   },
   {
    "duration": 62,
    "start_time": "2025-02-24T15:40:52.542Z"
   },
   {
    "duration": 8,
    "start_time": "2025-02-24T15:40:52.606Z"
   },
   {
    "duration": 126,
    "start_time": "2025-02-24T15:40:52.616Z"
   },
   {
    "duration": 9,
    "start_time": "2025-02-24T15:40:52.744Z"
   },
   {
    "duration": 14,
    "start_time": "2025-02-24T15:40:52.755Z"
   },
   {
    "duration": 11,
    "start_time": "2025-02-24T15:40:52.770Z"
   },
   {
    "duration": 24,
    "start_time": "2025-02-24T15:40:52.783Z"
   },
   {
    "duration": 16,
    "start_time": "2025-02-24T15:40:52.808Z"
   },
   {
    "duration": 29,
    "start_time": "2025-02-24T15:40:52.825Z"
   },
   {
    "duration": 12,
    "start_time": "2025-02-24T15:40:52.855Z"
   },
   {
    "duration": 405,
    "start_time": "2025-02-24T15:40:52.902Z"
   },
   {
    "duration": 43,
    "start_time": "2025-02-24T15:40:53.309Z"
   },
   {
    "duration": 204,
    "start_time": "2025-02-24T15:40:53.354Z"
   },
   {
    "duration": 60,
    "start_time": "2025-02-24T15:40:53.560Z"
   },
   {
    "duration": 18,
    "start_time": "2025-02-24T15:40:53.622Z"
   },
   {
    "duration": 1207,
    "start_time": "2025-02-24T15:40:53.642Z"
   },
   {
    "duration": 168,
    "start_time": "2025-02-24T15:40:54.850Z"
   },
   {
    "duration": 25,
    "start_time": "2025-02-24T15:40:55.020Z"
   },
   {
    "duration": 110,
    "start_time": "2025-02-24T15:40:55.048Z"
   },
   {
    "duration": 44,
    "start_time": "2025-02-24T15:40:55.160Z"
   },
   {
    "duration": 11,
    "start_time": "2025-02-24T15:40:55.206Z"
   },
   {
    "duration": 697,
    "start_time": "2025-02-24T15:40:55.218Z"
   },
   {
    "duration": 190,
    "start_time": "2025-02-24T15:40:55.916Z"
   },
   {
    "duration": 104,
    "start_time": "2025-02-24T15:40:56.108Z"
   },
   {
    "duration": 54,
    "start_time": "2025-02-24T15:40:56.214Z"
   },
   {
    "duration": 167,
    "start_time": "2025-02-24T15:40:56.269Z"
   },
   {
    "duration": 31,
    "start_time": "2025-02-24T15:40:56.438Z"
   },
   {
    "duration": 82,
    "start_time": "2025-02-24T15:40:56.471Z"
   },
   {
    "duration": 53,
    "start_time": "2025-02-24T15:40:56.555Z"
   },
   {
    "duration": 18,
    "start_time": "2025-02-24T15:40:56.610Z"
   },
   {
    "duration": 96,
    "start_time": "2025-02-24T15:40:56.629Z"
   },
   {
    "duration": 14,
    "start_time": "2025-02-24T15:40:56.726Z"
   },
   {
    "duration": 54,
    "start_time": "2025-02-24T15:40:56.741Z"
   },
   {
    "duration": 9,
    "start_time": "2025-02-24T15:40:56.797Z"
   },
   {
    "duration": 268,
    "start_time": "2025-02-24T15:40:56.808Z"
   },
   {
    "duration": 107,
    "start_time": "2025-02-24T15:40:57.077Z"
   },
   {
    "duration": 23,
    "start_time": "2025-02-24T15:40:57.186Z"
   },
   {
    "duration": 2712,
    "start_time": "2025-02-24T15:40:57.211Z"
   },
   {
    "duration": 23,
    "start_time": "2025-02-24T15:40:59.925Z"
   },
   {
    "duration": 14,
    "start_time": "2025-02-24T15:40:59.949Z"
   },
   {
    "duration": 106,
    "start_time": "2025-02-24T15:40:59.964Z"
   },
   {
    "duration": 65,
    "start_time": "2025-02-24T15:41:00.071Z"
   },
   {
    "duration": 58,
    "start_time": "2025-02-24T15:41:00.138Z"
   },
   {
    "duration": 288,
    "start_time": "2025-02-24T15:41:00.198Z"
   },
   {
    "duration": 51,
    "start_time": "2025-02-24T15:41:00.487Z"
   },
   {
    "duration": 27,
    "start_time": "2025-02-24T15:41:00.540Z"
   },
   {
    "duration": 18,
    "start_time": "2025-02-24T15:41:00.569Z"
   },
   {
    "duration": 77,
    "start_time": "2025-02-24T15:41:00.588Z"
   },
   {
    "duration": 157,
    "start_time": "2025-02-24T15:41:00.667Z"
   },
   {
    "duration": 25,
    "start_time": "2025-02-24T15:41:00.826Z"
   },
   {
    "duration": 170,
    "start_time": "2025-02-24T15:41:00.853Z"
   },
   {
    "duration": 133,
    "start_time": "2025-02-24T15:41:01.024Z"
   },
   {
    "duration": 172,
    "start_time": "2025-02-24T15:41:01.159Z"
   },
   {
    "duration": 4,
    "start_time": "2025-02-24T15:42:58.697Z"
   },
   {
    "duration": 33,
    "start_time": "2025-02-24T15:43:37.274Z"
   },
   {
    "duration": 185,
    "start_time": "2025-02-24T15:43:42.487Z"
   },
   {
    "duration": 77,
    "start_time": "2025-02-24T15:43:52.242Z"
   },
   {
    "duration": 3701,
    "start_time": "2025-02-24T15:47:26.198Z"
   },
   {
    "duration": 2522,
    "start_time": "2025-02-24T15:47:29.901Z"
   },
   {
    "duration": 13,
    "start_time": "2025-02-24T15:47:32.424Z"
   },
   {
    "duration": 13,
    "start_time": "2025-02-24T15:47:32.439Z"
   },
   {
    "duration": 24,
    "start_time": "2025-02-24T15:47:32.453Z"
   },
   {
    "duration": 136,
    "start_time": "2025-02-24T15:47:32.479Z"
   },
   {
    "duration": 8,
    "start_time": "2025-02-24T15:47:32.616Z"
   },
   {
    "duration": 24,
    "start_time": "2025-02-24T15:47:32.625Z"
   },
   {
    "duration": 82,
    "start_time": "2025-02-24T15:47:32.651Z"
   },
   {
    "duration": 68,
    "start_time": "2025-02-24T15:47:32.736Z"
   },
   {
    "duration": 105,
    "start_time": "2025-02-24T15:47:32.805Z"
   },
   {
    "duration": 57,
    "start_time": "2025-02-24T15:47:32.911Z"
   },
   {
    "duration": 25,
    "start_time": "2025-02-24T15:47:32.970Z"
   },
   {
    "duration": 29,
    "start_time": "2025-02-24T15:47:32.997Z"
   },
   {
    "duration": 7,
    "start_time": "2025-02-24T15:47:33.028Z"
   },
   {
    "duration": 10,
    "start_time": "2025-02-24T15:47:33.037Z"
   },
   {
    "duration": 17,
    "start_time": "2025-02-24T15:47:33.049Z"
   },
   {
    "duration": 52,
    "start_time": "2025-02-24T15:47:33.068Z"
   },
   {
    "duration": 10,
    "start_time": "2025-02-24T15:47:33.121Z"
   },
   {
    "duration": 409,
    "start_time": "2025-02-24T15:47:33.133Z"
   },
   {
    "duration": 60,
    "start_time": "2025-02-24T15:47:33.543Z"
   },
   {
    "duration": 171,
    "start_time": "2025-02-24T15:47:33.605Z"
   },
   {
    "duration": 58,
    "start_time": "2025-02-24T15:47:33.777Z"
   },
   {
    "duration": 66,
    "start_time": "2025-02-24T15:47:33.837Z"
   },
   {
    "duration": 1198,
    "start_time": "2025-02-24T15:47:33.904Z"
   },
   {
    "duration": 157,
    "start_time": "2025-02-24T15:47:35.104Z"
   },
   {
    "duration": 25,
    "start_time": "2025-02-24T15:47:35.262Z"
   },
   {
    "duration": 100,
    "start_time": "2025-02-24T15:47:35.304Z"
   },
   {
    "duration": 208,
    "start_time": "2025-02-24T15:47:35.406Z"
   },
   {
    "duration": 44,
    "start_time": "2025-02-24T15:47:35.615Z"
   },
   {
    "duration": 700,
    "start_time": "2025-02-24T15:47:35.661Z"
   },
   {
    "duration": 163,
    "start_time": "2025-02-24T15:47:36.363Z"
   },
   {
    "duration": 105,
    "start_time": "2025-02-24T15:47:36.527Z"
   },
   {
    "duration": 54,
    "start_time": "2025-02-24T15:47:36.633Z"
   },
   {
    "duration": 228,
    "start_time": "2025-02-24T15:47:36.703Z"
   },
   {
    "duration": 33,
    "start_time": "2025-02-24T15:47:36.933Z"
   },
   {
    "duration": 97,
    "start_time": "2025-02-24T15:47:36.968Z"
   },
   {
    "duration": 57,
    "start_time": "2025-02-24T15:47:37.067Z"
   },
   {
    "duration": 66,
    "start_time": "2025-02-24T15:47:37.125Z"
   },
   {
    "duration": 76,
    "start_time": "2025-02-24T15:47:37.193Z"
   },
   {
    "duration": 69,
    "start_time": "2025-02-24T15:47:37.270Z"
   },
   {
    "duration": 87,
    "start_time": "2025-02-24T15:47:37.340Z"
   },
   {
    "duration": 148,
    "start_time": "2025-02-24T15:47:37.429Z"
   },
   {
    "duration": 326,
    "start_time": "2025-02-24T15:47:37.578Z"
   },
   {
    "duration": 113,
    "start_time": "2025-02-24T15:47:37.906Z"
   },
   {
    "duration": 21,
    "start_time": "2025-02-24T15:47:38.020Z"
   },
   {
    "duration": 2737,
    "start_time": "2025-02-24T15:47:38.043Z"
   },
   {
    "duration": 28,
    "start_time": "2025-02-24T15:47:40.781Z"
   },
   {
    "duration": 68,
    "start_time": "2025-02-24T15:47:40.811Z"
   },
   {
    "duration": 17,
    "start_time": "2025-02-24T15:47:40.881Z"
   },
   {
    "duration": 32,
    "start_time": "2025-02-24T15:47:40.900Z"
   },
   {
    "duration": 17,
    "start_time": "2025-02-24T15:47:40.934Z"
   },
   {
    "duration": 24,
    "start_time": "2025-02-24T15:47:40.953Z"
   },
   {
    "duration": 44,
    "start_time": "2025-02-24T15:47:40.978Z"
   },
   {
    "duration": 28,
    "start_time": "2025-02-24T15:47:41.024Z"
   },
   {
    "duration": 8,
    "start_time": "2025-02-24T15:47:41.053Z"
   },
   {
    "duration": 82,
    "start_time": "2025-02-24T15:47:41.063Z"
   },
   {
    "duration": 88,
    "start_time": "2025-02-24T15:47:41.147Z"
   },
   {
    "duration": 30,
    "start_time": "2025-02-24T15:47:41.237Z"
   },
   {
    "duration": 176,
    "start_time": "2025-02-24T15:47:41.269Z"
   },
   {
    "duration": 119,
    "start_time": "2025-02-24T15:47:41.447Z"
   },
   {
    "duration": 142,
    "start_time": "2025-02-24T15:47:41.567Z"
   },
   {
    "duration": 170,
    "start_time": "2025-02-24T15:47:41.711Z"
   },
   {
    "duration": 114,
    "start_time": "2025-02-24T15:48:56.826Z"
   },
   {
    "duration": 150,
    "start_time": "2025-02-24T15:50:34.274Z"
   },
   {
    "duration": 157,
    "start_time": "2025-02-24T15:51:18.652Z"
   },
   {
    "duration": 187,
    "start_time": "2025-02-24T15:52:03.812Z"
   },
   {
    "duration": 152,
    "start_time": "2025-02-24T15:52:19.134Z"
   },
   {
    "duration": 98,
    "start_time": "2025-02-24T15:53:18.721Z"
   },
   {
    "duration": 153,
    "start_time": "2025-02-24T15:53:24.515Z"
   },
   {
    "duration": 3831,
    "start_time": "2025-02-24T15:54:22.586Z"
   },
   {
    "duration": 2585,
    "start_time": "2025-02-24T15:54:26.419Z"
   },
   {
    "duration": 13,
    "start_time": "2025-02-24T15:54:29.006Z"
   },
   {
    "duration": 59,
    "start_time": "2025-02-24T15:54:29.021Z"
   },
   {
    "duration": 58,
    "start_time": "2025-02-24T15:54:29.082Z"
   },
   {
    "duration": 142,
    "start_time": "2025-02-24T15:54:29.142Z"
   },
   {
    "duration": 8,
    "start_time": "2025-02-24T15:54:29.286Z"
   },
   {
    "duration": 83,
    "start_time": "2025-02-24T15:54:29.301Z"
   },
   {
    "duration": 49,
    "start_time": "2025-02-24T15:54:29.386Z"
   },
   {
    "duration": 190,
    "start_time": "2025-02-24T15:54:29.439Z"
   },
   {
    "duration": 9,
    "start_time": "2025-02-24T15:54:29.630Z"
   },
   {
    "duration": 86,
    "start_time": "2025-02-24T15:54:29.641Z"
   },
   {
    "duration": 41,
    "start_time": "2025-02-24T15:54:29.729Z"
   },
   {
    "duration": 74,
    "start_time": "2025-02-24T15:54:29.772Z"
   },
   {
    "duration": 127,
    "start_time": "2025-02-24T15:54:29.848Z"
   },
   {
    "duration": 156,
    "start_time": "2025-02-24T15:54:29.977Z"
   },
   {
    "duration": 35,
    "start_time": "2025-02-24T15:54:30.135Z"
   },
   {
    "duration": 78,
    "start_time": "2025-02-24T15:54:30.172Z"
   },
   {
    "duration": 46,
    "start_time": "2025-02-24T15:54:30.252Z"
   },
   {
    "duration": 545,
    "start_time": "2025-02-24T15:54:30.300Z"
   },
   {
    "duration": 60,
    "start_time": "2025-02-24T15:54:30.848Z"
   },
   {
    "duration": 193,
    "start_time": "2025-02-24T15:54:30.909Z"
   },
   {
    "duration": 46,
    "start_time": "2025-02-24T15:54:31.104Z"
   },
   {
    "duration": 20,
    "start_time": "2025-02-24T15:54:31.152Z"
   },
   {
    "duration": 1215,
    "start_time": "2025-02-24T15:54:31.174Z"
   },
   {
    "duration": 167,
    "start_time": "2025-02-24T15:54:32.391Z"
   },
   {
    "duration": 104,
    "start_time": "2025-02-24T15:54:32.560Z"
   },
   {
    "duration": 233,
    "start_time": "2025-02-24T15:54:32.668Z"
   },
   {
    "duration": 34,
    "start_time": "2025-02-24T15:54:32.903Z"
   },
   {
    "duration": 13,
    "start_time": "2025-02-24T15:54:32.939Z"
   },
   {
    "duration": 728,
    "start_time": "2025-02-24T15:54:32.953Z"
   },
   {
    "duration": 167,
    "start_time": "2025-02-24T15:54:33.683Z"
   },
   {
    "duration": 132,
    "start_time": "2025-02-24T15:54:33.851Z"
   },
   {
    "duration": 70,
    "start_time": "2025-02-24T15:54:33.985Z"
   },
   {
    "duration": 222,
    "start_time": "2025-02-24T15:54:34.057Z"
   },
   {
    "duration": 43,
    "start_time": "2025-02-24T15:54:34.281Z"
   },
   {
    "duration": 182,
    "start_time": "2025-02-24T15:54:34.326Z"
   },
   {
    "duration": 79,
    "start_time": "2025-02-24T15:54:34.510Z"
   },
   {
    "duration": 41,
    "start_time": "2025-02-24T15:54:34.591Z"
   },
   {
    "duration": 137,
    "start_time": "2025-02-24T15:54:34.634Z"
   },
   {
    "duration": 120,
    "start_time": "2025-02-24T15:54:34.773Z"
   },
   {
    "duration": 131,
    "start_time": "2025-02-24T15:54:34.895Z"
   },
   {
    "duration": 10,
    "start_time": "2025-02-24T15:54:35.027Z"
   },
   {
    "duration": 303,
    "start_time": "2025-02-24T15:54:35.039Z"
   },
   {
    "duration": 115,
    "start_time": "2025-02-24T15:54:35.345Z"
   },
   {
    "duration": 198,
    "start_time": "2025-02-24T15:54:35.462Z"
   },
   {
    "duration": 2861,
    "start_time": "2025-02-24T15:54:35.662Z"
   },
   {
    "duration": 24,
    "start_time": "2025-02-24T15:54:38.524Z"
   },
   {
    "duration": 72,
    "start_time": "2025-02-24T15:54:38.549Z"
   },
   {
    "duration": 26,
    "start_time": "2025-02-24T15:54:38.623Z"
   },
   {
    "duration": 20,
    "start_time": "2025-02-24T15:54:38.650Z"
   },
   {
    "duration": 106,
    "start_time": "2025-02-24T15:54:38.671Z"
   },
   {
    "duration": 60,
    "start_time": "2025-02-24T15:54:38.778Z"
   },
   {
    "duration": 75,
    "start_time": "2025-02-24T15:54:38.840Z"
   },
   {
    "duration": 28,
    "start_time": "2025-02-24T15:54:38.916Z"
   },
   {
    "duration": 52,
    "start_time": "2025-02-24T15:54:38.946Z"
   },
   {
    "duration": 119,
    "start_time": "2025-02-24T15:54:39.000Z"
   },
   {
    "duration": 89,
    "start_time": "2025-02-24T15:54:39.120Z"
   },
   {
    "duration": 25,
    "start_time": "2025-02-24T15:54:39.211Z"
   },
   {
    "duration": 174,
    "start_time": "2025-02-24T15:54:39.238Z"
   },
   {
    "duration": 118,
    "start_time": "2025-02-24T15:54:39.414Z"
   },
   {
    "duration": 199,
    "start_time": "2025-02-24T15:54:39.534Z"
   },
   {
    "duration": 149,
    "start_time": "2025-02-24T15:55:59.837Z"
   },
   {
    "duration": 157,
    "start_time": "2025-02-24T15:56:04.301Z"
   },
   {
    "duration": 92,
    "start_time": "2025-02-24T15:56:24.134Z"
   },
   {
    "duration": 154,
    "start_time": "2025-02-24T15:56:53.184Z"
   },
   {
    "duration": 136,
    "start_time": "2025-02-24T15:58:06.645Z"
   },
   {
    "duration": 101,
    "start_time": "2025-02-24T15:58:27.106Z"
   },
   {
    "duration": 151,
    "start_time": "2025-02-24T15:58:41.457Z"
   },
   {
    "duration": 159,
    "start_time": "2025-02-24T15:58:47.003Z"
   },
   {
    "duration": 90,
    "start_time": "2025-02-24T15:58:55.985Z"
   },
   {
    "duration": 152,
    "start_time": "2025-02-24T15:59:02.584Z"
   },
   {
    "duration": 150,
    "start_time": "2025-02-24T15:59:09.787Z"
   },
   {
    "duration": 121,
    "start_time": "2025-02-24T15:59:21.995Z"
   },
   {
    "duration": 154,
    "start_time": "2025-02-24T15:59:31.629Z"
   },
   {
    "duration": 125,
    "start_time": "2025-02-24T16:00:03.851Z"
   },
   {
    "duration": 72,
    "start_time": "2025-02-24T16:00:21.018Z"
   },
   {
    "duration": 3755,
    "start_time": "2025-02-24T16:01:25.644Z"
   },
   {
    "duration": 2965,
    "start_time": "2025-02-24T16:01:29.402Z"
   },
   {
    "duration": 13,
    "start_time": "2025-02-24T16:01:32.369Z"
   },
   {
    "duration": 271,
    "start_time": "2025-02-24T16:01:32.385Z"
   },
   {
    "duration": 234,
    "start_time": "2025-02-24T16:01:32.658Z"
   },
   {
    "duration": 179,
    "start_time": "2025-02-24T16:01:32.894Z"
   },
   {
    "duration": 9,
    "start_time": "2025-02-24T16:01:33.074Z"
   },
   {
    "duration": 49,
    "start_time": "2025-02-24T16:01:33.084Z"
   },
   {
    "duration": 40,
    "start_time": "2025-02-24T16:01:33.135Z"
   },
   {
    "duration": 138,
    "start_time": "2025-02-24T16:01:33.178Z"
   },
   {
    "duration": 83,
    "start_time": "2025-02-24T16:01:33.317Z"
   },
   {
    "duration": 293,
    "start_time": "2025-02-24T16:01:33.402Z"
   },
   {
    "duration": 50,
    "start_time": "2025-02-24T16:01:33.697Z"
   },
   {
    "duration": 79,
    "start_time": "2025-02-24T16:01:33.749Z"
   },
   {
    "duration": 26,
    "start_time": "2025-02-24T16:01:33.830Z"
   },
   {
    "duration": 23,
    "start_time": "2025-02-24T16:01:33.858Z"
   },
   {
    "duration": 191,
    "start_time": "2025-02-24T16:01:33.883Z"
   },
   {
    "duration": 80,
    "start_time": "2025-02-24T16:01:34.076Z"
   },
   {
    "duration": 10,
    "start_time": "2025-02-24T16:01:34.159Z"
   },
   {
    "duration": 458,
    "start_time": "2025-02-24T16:01:34.172Z"
   },
   {
    "duration": 47,
    "start_time": "2025-02-24T16:01:34.632Z"
   },
   {
    "duration": 347,
    "start_time": "2025-02-24T16:01:34.681Z"
   },
   {
    "duration": 47,
    "start_time": "2025-02-24T16:01:35.030Z"
   },
   {
    "duration": 39,
    "start_time": "2025-02-24T16:01:35.079Z"
   },
   {
    "duration": 1255,
    "start_time": "2025-02-24T16:01:35.120Z"
   },
   {
    "duration": 171,
    "start_time": "2025-02-24T16:01:36.377Z"
   },
   {
    "duration": 26,
    "start_time": "2025-02-24T16:01:36.549Z"
   },
   {
    "duration": 135,
    "start_time": "2025-02-24T16:01:36.579Z"
   },
   {
    "duration": 34,
    "start_time": "2025-02-24T16:01:36.716Z"
   },
   {
    "duration": 107,
    "start_time": "2025-02-24T16:01:36.752Z"
   },
   {
    "duration": 827,
    "start_time": "2025-02-24T16:01:36.861Z"
   },
   {
    "duration": 163,
    "start_time": "2025-02-24T16:01:37.690Z"
   },
   {
    "duration": 257,
    "start_time": "2025-02-24T16:01:37.855Z"
   },
   {
    "duration": 259,
    "start_time": "2025-02-24T16:01:38.114Z"
   },
   {
    "duration": 165,
    "start_time": "2025-02-24T16:01:38.375Z"
   },
   {
    "duration": 36,
    "start_time": "2025-02-24T16:01:38.541Z"
   },
   {
    "duration": 91,
    "start_time": "2025-02-24T16:01:38.578Z"
   },
   {
    "duration": 51,
    "start_time": "2025-02-24T16:01:38.671Z"
   },
   {
    "duration": 121,
    "start_time": "2025-02-24T16:01:38.724Z"
   },
   {
    "duration": 188,
    "start_time": "2025-02-24T16:01:38.847Z"
   },
   {
    "duration": 83,
    "start_time": "2025-02-24T16:01:39.036Z"
   },
   {
    "duration": 62,
    "start_time": "2025-02-24T16:01:39.121Z"
   },
   {
    "duration": 10,
    "start_time": "2025-02-24T16:01:39.185Z"
   },
   {
    "duration": 305,
    "start_time": "2025-02-24T16:01:39.196Z"
   },
   {
    "duration": 118,
    "start_time": "2025-02-24T16:01:39.503Z"
   },
   {
    "duration": 24,
    "start_time": "2025-02-24T16:01:39.623Z"
   },
   {
    "duration": 2957,
    "start_time": "2025-02-24T16:01:39.648Z"
   },
   {
    "duration": 24,
    "start_time": "2025-02-24T16:01:42.607Z"
   },
   {
    "duration": 24,
    "start_time": "2025-02-24T16:01:42.633Z"
   },
   {
    "duration": 44,
    "start_time": "2025-02-24T16:01:42.659Z"
   },
   {
    "duration": 88,
    "start_time": "2025-02-24T16:01:42.705Z"
   },
   {
    "duration": 43,
    "start_time": "2025-02-24T16:01:42.795Z"
   },
   {
    "duration": 72,
    "start_time": "2025-02-24T16:01:42.841Z"
   },
   {
    "duration": 75,
    "start_time": "2025-02-24T16:01:42.916Z"
   },
   {
    "duration": 28,
    "start_time": "2025-02-24T16:01:42.992Z"
   },
   {
    "duration": 17,
    "start_time": "2025-02-24T16:01:43.023Z"
   },
   {
    "duration": 80,
    "start_time": "2025-02-24T16:01:43.042Z"
   },
   {
    "duration": 261,
    "start_time": "2025-02-24T16:01:43.124Z"
   },
   {
    "duration": 26,
    "start_time": "2025-02-24T16:01:43.387Z"
   },
   {
    "duration": 370,
    "start_time": "2025-02-24T16:01:43.415Z"
   },
   {
    "duration": 127,
    "start_time": "2025-02-24T16:01:43.787Z"
   },
   {
    "duration": 179,
    "start_time": "2025-02-24T16:01:43.916Z"
   },
   {
    "duration": 263,
    "start_time": "2025-02-24T16:03:43.766Z"
   },
   {
    "duration": 59,
    "start_time": "2025-02-24T16:03:59.380Z"
   },
   {
    "duration": 213,
    "start_time": "2025-02-24T16:04:32.760Z"
   },
   {
    "duration": 129,
    "start_time": "2025-02-24T16:05:51.900Z"
   },
   {
    "duration": 79,
    "start_time": "2025-02-24T16:06:05.591Z"
   },
   {
    "duration": 100,
    "start_time": "2025-02-24T16:06:14.928Z"
   },
   {
    "duration": 22,
    "start_time": "2025-02-24T16:06:44.427Z"
   },
   {
    "duration": 206,
    "start_time": "2025-02-24T16:10:47.946Z"
   },
   {
    "duration": 7,
    "start_time": "2025-02-24T16:11:06.176Z"
   },
   {
    "duration": 48,
    "start_time": "2025-02-24T16:14:50.618Z"
   },
   {
    "duration": 26,
    "start_time": "2025-02-24T16:15:06.844Z"
   },
   {
    "duration": 89,
    "start_time": "2025-02-24T16:16:43.196Z"
   },
   {
    "duration": 16,
    "start_time": "2025-02-24T16:16:47.274Z"
   },
   {
    "duration": 16,
    "start_time": "2025-02-24T16:17:35.909Z"
   },
   {
    "duration": 293,
    "start_time": "2025-02-24T16:17:43.993Z"
   },
   {
    "duration": 499,
    "start_time": "2025-02-24T16:18:09.438Z"
   },
   {
    "duration": 6,
    "start_time": "2025-02-24T16:19:35.843Z"
   },
   {
    "duration": 722,
    "start_time": "2025-02-24T16:19:42.522Z"
   },
   {
    "duration": 6,
    "start_time": "2025-02-24T16:20:41.921Z"
   },
   {
    "duration": 718,
    "start_time": "2025-02-24T16:22:39.805Z"
   },
   {
    "duration": 721,
    "start_time": "2025-02-24T16:22:57.834Z"
   },
   {
    "duration": 11,
    "start_time": "2025-02-24T16:24:24.915Z"
   },
   {
    "duration": 8,
    "start_time": "2025-02-24T16:24:30.690Z"
   },
   {
    "duration": 737,
    "start_time": "2025-02-24T16:24:33.628Z"
   },
   {
    "duration": 752,
    "start_time": "2025-02-24T16:24:55.531Z"
   },
   {
    "duration": 715,
    "start_time": "2025-02-24T16:27:08.126Z"
   },
   {
    "duration": 707,
    "start_time": "2025-02-24T16:35:34.228Z"
   },
   {
    "duration": 25,
    "start_time": "2025-02-24T16:41:23.214Z"
   },
   {
    "duration": 25,
    "start_time": "2025-02-24T16:41:26.471Z"
   },
   {
    "duration": 13,
    "start_time": "2025-02-24T16:44:43.376Z"
   },
   {
    "duration": 91,
    "start_time": "2025-02-24T16:44:52.511Z"
   },
   {
    "duration": 8,
    "start_time": "2025-02-24T16:45:08.214Z"
   },
   {
    "duration": 7,
    "start_time": "2025-02-24T16:45:19.353Z"
   },
   {
    "duration": 10,
    "start_time": "2025-02-24T16:45:23.587Z"
   },
   {
    "duration": 711,
    "start_time": "2025-02-24T16:52:29.039Z"
   },
   {
    "duration": 710,
    "start_time": "2025-02-24T16:52:34.810Z"
   },
   {
    "duration": 681,
    "start_time": "2025-02-24T16:52:45.006Z"
   },
   {
    "duration": 683,
    "start_time": "2025-02-24T16:52:54.497Z"
   },
   {
    "duration": 69,
    "start_time": "2025-02-24T16:53:15.455Z"
   },
   {
    "duration": 7,
    "start_time": "2025-02-24T16:53:23.468Z"
   },
   {
    "duration": 280,
    "start_time": "2025-02-24T16:54:04.380Z"
   },
   {
    "duration": 105,
    "start_time": "2025-02-24T16:54:26.636Z"
   },
   {
    "duration": 562,
    "start_time": "2025-02-24T16:54:40.734Z"
   },
   {
    "duration": 13,
    "start_time": "2025-02-24T16:54:46.199Z"
   },
   {
    "duration": 34,
    "start_time": "2025-02-24T16:54:49.210Z"
   },
   {
    "duration": 30,
    "start_time": "2025-02-24T16:55:17.621Z"
   },
   {
    "duration": 29,
    "start_time": "2025-02-24T16:55:21.050Z"
   },
   {
    "duration": 30,
    "start_time": "2025-02-24T16:55:23.756Z"
   },
   {
    "duration": 16,
    "start_time": "2025-02-24T16:55:48.994Z"
   },
   {
    "duration": 4,
    "start_time": "2025-02-24T16:57:08.310Z"
   },
   {
    "duration": 1256,
    "start_time": "2025-02-24T16:57:25.472Z"
   },
   {
    "duration": 2773,
    "start_time": "2025-02-24T16:57:26.730Z"
   },
   {
    "duration": 13,
    "start_time": "2025-02-24T16:57:29.504Z"
   },
   {
    "duration": 39,
    "start_time": "2025-02-24T16:57:29.518Z"
   },
   {
    "duration": 25,
    "start_time": "2025-02-24T16:57:29.559Z"
   },
   {
    "duration": 100,
    "start_time": "2025-02-24T16:57:29.586Z"
   },
   {
    "duration": 14,
    "start_time": "2025-02-24T16:57:29.688Z"
   },
   {
    "duration": 19,
    "start_time": "2025-02-24T16:57:29.703Z"
   },
   {
    "duration": 8,
    "start_time": "2025-02-24T16:57:29.724Z"
   },
   {
    "duration": 112,
    "start_time": "2025-02-24T16:57:29.734Z"
   },
   {
    "duration": 8,
    "start_time": "2025-02-24T16:57:29.848Z"
   },
   {
    "duration": 82,
    "start_time": "2025-02-24T16:57:29.857Z"
   },
   {
    "duration": 15,
    "start_time": "2025-02-24T16:57:29.941Z"
   },
   {
    "duration": 25,
    "start_time": "2025-02-24T16:57:29.959Z"
   },
   {
    "duration": 19,
    "start_time": "2025-02-24T16:57:29.986Z"
   },
   {
    "duration": 125,
    "start_time": "2025-02-24T16:57:30.007Z"
   },
   {
    "duration": 159,
    "start_time": "2025-02-24T16:57:30.133Z"
   },
   {
    "duration": 79,
    "start_time": "2025-02-24T16:57:30.294Z"
   },
   {
    "duration": 45,
    "start_time": "2025-02-24T16:57:30.375Z"
   },
   {
    "duration": 429,
    "start_time": "2025-02-24T16:57:30.421Z"
   },
   {
    "duration": 61,
    "start_time": "2025-02-24T16:57:30.851Z"
   },
   {
    "duration": 199,
    "start_time": "2025-02-24T16:57:30.913Z"
   },
   {
    "duration": 67,
    "start_time": "2025-02-24T16:57:31.113Z"
   },
   {
    "duration": 18,
    "start_time": "2025-02-24T16:57:31.182Z"
   },
   {
    "duration": 1215,
    "start_time": "2025-02-24T16:57:31.201Z"
   },
   {
    "duration": 175,
    "start_time": "2025-02-24T16:57:32.417Z"
   },
   {
    "duration": 30,
    "start_time": "2025-02-24T16:57:32.593Z"
   },
   {
    "duration": 143,
    "start_time": "2025-02-24T16:57:32.625Z"
   },
   {
    "duration": 40,
    "start_time": "2025-02-24T16:57:32.770Z"
   },
   {
    "duration": 14,
    "start_time": "2025-02-24T16:57:32.812Z"
   },
   {
    "duration": 733,
    "start_time": "2025-02-24T16:57:32.828Z"
   },
   {
    "duration": 159,
    "start_time": "2025-02-24T16:57:33.563Z"
   },
   {
    "duration": 379,
    "start_time": "2025-02-24T16:57:33.723Z"
   },
   {
    "duration": 57,
    "start_time": "2025-02-24T16:57:34.104Z"
   },
   {
    "duration": 198,
    "start_time": "2025-02-24T16:57:34.163Z"
   },
   {
    "duration": 44,
    "start_time": "2025-02-24T16:57:34.362Z"
   },
   {
    "duration": 84,
    "start_time": "2025-02-24T16:57:34.407Z"
   },
   {
    "duration": 45,
    "start_time": "2025-02-24T16:57:34.493Z"
   },
   {
    "duration": 43,
    "start_time": "2025-02-24T16:57:34.540Z"
   },
   {
    "duration": 149,
    "start_time": "2025-02-24T16:57:34.585Z"
   },
   {
    "duration": 90,
    "start_time": "2025-02-24T16:57:34.739Z"
   },
   {
    "duration": 96,
    "start_time": "2025-02-24T16:57:34.831Z"
   },
   {
    "duration": 36,
    "start_time": "2025-02-24T16:57:34.928Z"
   },
   {
    "duration": 311,
    "start_time": "2025-02-24T16:57:34.966Z"
   },
   {
    "duration": 111,
    "start_time": "2025-02-24T16:57:35.278Z"
   },
   {
    "duration": 26,
    "start_time": "2025-02-24T16:57:35.391Z"
   },
   {
    "duration": 2936,
    "start_time": "2025-02-24T16:57:35.419Z"
   },
   {
    "duration": 24,
    "start_time": "2025-02-24T16:57:38.356Z"
   },
   {
    "duration": 31,
    "start_time": "2025-02-24T16:57:38.381Z"
   },
   {
    "duration": 133,
    "start_time": "2025-02-24T16:57:38.414Z"
   },
   {
    "duration": 136,
    "start_time": "2025-02-24T16:57:38.548Z"
   },
   {
    "duration": 75,
    "start_time": "2025-02-24T16:57:38.686Z"
   },
   {
    "duration": 54,
    "start_time": "2025-02-24T16:57:38.763Z"
   },
   {
    "duration": 60,
    "start_time": "2025-02-24T16:57:38.819Z"
   },
   {
    "duration": 108,
    "start_time": "2025-02-24T16:57:38.881Z"
   },
   {
    "duration": 58,
    "start_time": "2025-02-24T16:57:38.990Z"
   },
   {
    "duration": 159,
    "start_time": "2025-02-24T16:57:39.049Z"
   },
   {
    "duration": 78,
    "start_time": "2025-02-24T16:57:39.210Z"
   },
   {
    "duration": 36,
    "start_time": "2025-02-24T16:57:39.290Z"
   },
   {
    "duration": 175,
    "start_time": "2025-02-24T16:57:39.327Z"
   },
   {
    "duration": 113,
    "start_time": "2025-02-24T16:57:39.504Z"
   },
   {
    "duration": 158,
    "start_time": "2025-02-24T16:57:39.619Z"
   },
   {
    "duration": 210,
    "start_time": "2025-02-24T16:57:39.779Z"
   },
   {
    "duration": 692,
    "start_time": "2025-02-24T16:57:39.990Z"
   },
   {
    "duration": 1193,
    "start_time": "2025-02-24T16:58:31.852Z"
   },
   {
    "duration": 2293,
    "start_time": "2025-02-24T16:58:33.047Z"
   },
   {
    "duration": 12,
    "start_time": "2025-02-24T16:58:35.341Z"
   },
   {
    "duration": 36,
    "start_time": "2025-02-24T16:58:35.355Z"
   },
   {
    "duration": 78,
    "start_time": "2025-02-24T16:58:35.392Z"
   },
   {
    "duration": 233,
    "start_time": "2025-02-24T16:58:35.471Z"
   },
   {
    "duration": 32,
    "start_time": "2025-02-24T16:58:35.706Z"
   },
   {
    "duration": 239,
    "start_time": "2025-02-24T16:58:35.739Z"
   },
   {
    "duration": 79,
    "start_time": "2025-02-24T16:58:35.980Z"
   },
   {
    "duration": 90,
    "start_time": "2025-02-24T16:58:36.063Z"
   },
   {
    "duration": 8,
    "start_time": "2025-02-24T16:58:36.154Z"
   },
   {
    "duration": 255,
    "start_time": "2025-02-24T16:58:36.163Z"
   },
   {
    "duration": 63,
    "start_time": "2025-02-24T16:58:36.420Z"
   },
   {
    "duration": 57,
    "start_time": "2025-02-24T16:58:36.484Z"
   },
   {
    "duration": 32,
    "start_time": "2025-02-24T16:58:36.543Z"
   },
   {
    "duration": 107,
    "start_time": "2025-02-24T16:58:36.576Z"
   },
   {
    "duration": 54,
    "start_time": "2025-02-24T16:58:36.685Z"
   },
   {
    "duration": 38,
    "start_time": "2025-02-24T16:58:36.740Z"
   },
   {
    "duration": 22,
    "start_time": "2025-02-24T16:58:36.779Z"
   },
   {
    "duration": 417,
    "start_time": "2025-02-24T16:58:36.802Z"
   },
   {
    "duration": 45,
    "start_time": "2025-02-24T16:58:37.220Z"
   },
   {
    "duration": 220,
    "start_time": "2025-02-24T16:58:37.266Z"
   },
   {
    "duration": 50,
    "start_time": "2025-02-24T16:58:37.488Z"
   },
   {
    "duration": 74,
    "start_time": "2025-02-24T16:58:37.540Z"
   },
   {
    "duration": 1304,
    "start_time": "2025-02-24T16:58:37.615Z"
   },
   {
    "duration": 162,
    "start_time": "2025-02-24T16:58:38.921Z"
   },
   {
    "duration": 152,
    "start_time": "2025-02-24T16:58:39.084Z"
   },
   {
    "duration": 167,
    "start_time": "2025-02-24T16:58:39.240Z"
   },
   {
    "duration": 34,
    "start_time": "2025-02-24T16:58:39.409Z"
   },
   {
    "duration": 30,
    "start_time": "2025-02-24T16:58:39.445Z"
   },
   {
    "duration": 779,
    "start_time": "2025-02-24T16:58:39.477Z"
   },
   {
    "duration": 163,
    "start_time": "2025-02-24T16:58:40.258Z"
   },
   {
    "duration": 112,
    "start_time": "2025-02-24T16:58:40.423Z"
   },
   {
    "duration": 69,
    "start_time": "2025-02-24T16:58:40.537Z"
   },
   {
    "duration": 255,
    "start_time": "2025-02-24T16:58:40.607Z"
   },
   {
    "duration": 45,
    "start_time": "2025-02-24T16:58:40.864Z"
   },
   {
    "duration": 70,
    "start_time": "2025-02-24T16:58:40.911Z"
   },
   {
    "duration": 44,
    "start_time": "2025-02-24T16:58:41.001Z"
   },
   {
    "duration": 88,
    "start_time": "2025-02-24T16:58:41.047Z"
   },
   {
    "duration": 53,
    "start_time": "2025-02-24T16:58:41.136Z"
   },
   {
    "duration": 19,
    "start_time": "2025-02-24T16:58:41.191Z"
   },
   {
    "duration": 115,
    "start_time": "2025-02-24T16:58:41.211Z"
   },
   {
    "duration": 10,
    "start_time": "2025-02-24T16:58:41.328Z"
   },
   {
    "duration": 297,
    "start_time": "2025-02-24T16:58:41.339Z"
   },
   {
    "duration": 110,
    "start_time": "2025-02-24T16:58:41.637Z"
   },
   {
    "duration": 190,
    "start_time": "2025-02-24T16:58:41.749Z"
   },
   {
    "duration": 2905,
    "start_time": "2025-02-24T16:58:41.940Z"
   },
   {
    "duration": 24,
    "start_time": "2025-02-24T16:58:44.846Z"
   },
   {
    "duration": 31,
    "start_time": "2025-02-24T16:58:44.872Z"
   },
   {
    "duration": 20,
    "start_time": "2025-02-24T16:58:44.905Z"
   },
   {
    "duration": 45,
    "start_time": "2025-02-24T16:58:44.927Z"
   },
   {
    "duration": 13,
    "start_time": "2025-02-24T16:58:44.974Z"
   },
   {
    "duration": 48,
    "start_time": "2025-02-24T16:58:44.989Z"
   },
   {
    "duration": 304,
    "start_time": "2025-02-24T16:58:45.039Z"
   },
   {
    "duration": 208,
    "start_time": "2025-02-24T16:58:45.345Z"
   },
   {
    "duration": 318,
    "start_time": "2025-02-24T16:58:45.555Z"
   },
   {
    "duration": 234,
    "start_time": "2025-02-24T16:58:45.875Z"
   },
   {
    "duration": 95,
    "start_time": "2025-02-24T16:58:46.111Z"
   },
   {
    "duration": 26,
    "start_time": "2025-02-24T16:58:46.208Z"
   },
   {
    "duration": 290,
    "start_time": "2025-02-24T16:58:46.236Z"
   },
   {
    "duration": 121,
    "start_time": "2025-02-24T16:58:46.528Z"
   },
   {
    "duration": 168,
    "start_time": "2025-02-24T16:58:46.651Z"
   },
   {
    "duration": 224,
    "start_time": "2025-02-24T16:58:46.820Z"
   },
   {
    "duration": 746,
    "start_time": "2025-02-24T16:58:47.045Z"
   },
   {
    "duration": 1288,
    "start_time": "2025-02-24T16:59:15.751Z"
   },
   {
    "duration": 2167,
    "start_time": "2025-02-24T16:59:17.041Z"
   },
   {
    "duration": 12,
    "start_time": "2025-02-24T16:59:19.210Z"
   },
   {
    "duration": 21,
    "start_time": "2025-02-24T16:59:19.224Z"
   },
   {
    "duration": 47,
    "start_time": "2025-02-24T16:59:19.246Z"
   },
   {
    "duration": 109,
    "start_time": "2025-02-24T16:59:19.295Z"
   },
   {
    "duration": 8,
    "start_time": "2025-02-24T16:59:19.406Z"
   },
   {
    "duration": 53,
    "start_time": "2025-02-24T16:59:19.417Z"
   },
   {
    "duration": 12,
    "start_time": "2025-02-24T16:59:19.472Z"
   },
   {
    "duration": 41,
    "start_time": "2025-02-24T16:59:19.488Z"
   },
   {
    "duration": 8,
    "start_time": "2025-02-24T16:59:19.531Z"
   },
   {
    "duration": 70,
    "start_time": "2025-02-24T16:59:19.541Z"
   },
   {
    "duration": 98,
    "start_time": "2025-02-24T16:59:19.613Z"
   },
   {
    "duration": 32,
    "start_time": "2025-02-24T16:59:19.713Z"
   },
   {
    "duration": 134,
    "start_time": "2025-02-24T16:59:19.746Z"
   },
   {
    "duration": 57,
    "start_time": "2025-02-24T16:59:19.881Z"
   },
   {
    "duration": 16,
    "start_time": "2025-02-24T16:59:19.940Z"
   },
   {
    "duration": 27,
    "start_time": "2025-02-24T16:59:19.957Z"
   },
   {
    "duration": 17,
    "start_time": "2025-02-24T16:59:19.986Z"
   },
   {
    "duration": 413,
    "start_time": "2025-02-24T16:59:20.005Z"
   },
   {
    "duration": 46,
    "start_time": "2025-02-24T16:59:20.420Z"
   },
   {
    "duration": 192,
    "start_time": "2025-02-24T16:59:20.467Z"
   },
   {
    "duration": 63,
    "start_time": "2025-02-24T16:59:20.661Z"
   },
   {
    "duration": 18,
    "start_time": "2025-02-24T16:59:20.726Z"
   },
   {
    "duration": 1195,
    "start_time": "2025-02-24T16:59:20.746Z"
   },
   {
    "duration": 167,
    "start_time": "2025-02-24T16:59:21.943Z"
   },
   {
    "duration": 25,
    "start_time": "2025-02-24T16:59:22.112Z"
   },
   {
    "duration": 157,
    "start_time": "2025-02-24T16:59:22.141Z"
   },
   {
    "duration": 60,
    "start_time": "2025-02-24T16:59:22.301Z"
   },
   {
    "duration": 12,
    "start_time": "2025-02-24T16:59:22.363Z"
   },
   {
    "duration": 799,
    "start_time": "2025-02-24T16:59:22.376Z"
   },
   {
    "duration": 161,
    "start_time": "2025-02-24T16:59:23.177Z"
   },
   {
    "duration": 112,
    "start_time": "2025-02-24T16:59:23.339Z"
   },
   {
    "duration": 69,
    "start_time": "2025-02-24T16:59:23.453Z"
   },
   {
    "duration": 164,
    "start_time": "2025-02-24T16:59:23.524Z"
   },
   {
    "duration": 44,
    "start_time": "2025-02-24T16:59:23.690Z"
   },
   {
    "duration": 85,
    "start_time": "2025-02-24T16:59:23.736Z"
   },
   {
    "duration": 182,
    "start_time": "2025-02-24T16:59:23.822Z"
   },
   {
    "duration": 22,
    "start_time": "2025-02-24T16:59:24.005Z"
   },
   {
    "duration": 14,
    "start_time": "2025-02-24T16:59:24.028Z"
   },
   {
    "duration": 26,
    "start_time": "2025-02-24T16:59:24.044Z"
   },
   {
    "duration": 62,
    "start_time": "2025-02-24T16:59:24.072Z"
   },
   {
    "duration": 10,
    "start_time": "2025-02-24T16:59:24.136Z"
   },
   {
    "duration": 359,
    "start_time": "2025-02-24T16:59:24.147Z"
   },
   {
    "duration": 115,
    "start_time": "2025-02-24T16:59:24.508Z"
   },
   {
    "duration": 20,
    "start_time": "2025-02-24T16:59:24.625Z"
   },
   {
    "duration": 2814,
    "start_time": "2025-02-24T16:59:24.647Z"
   },
   {
    "duration": 23,
    "start_time": "2025-02-24T16:59:27.463Z"
   },
   {
    "duration": 40,
    "start_time": "2025-02-24T16:59:27.488Z"
   },
   {
    "duration": 50,
    "start_time": "2025-02-24T16:59:27.530Z"
   },
   {
    "duration": 26,
    "start_time": "2025-02-24T16:59:27.581Z"
   },
   {
    "duration": 109,
    "start_time": "2025-02-24T16:59:27.608Z"
   },
   {
    "duration": 217,
    "start_time": "2025-02-24T16:59:27.718Z"
   },
   {
    "duration": 49,
    "start_time": "2025-02-24T16:59:27.936Z"
   },
   {
    "duration": 28,
    "start_time": "2025-02-24T16:59:27.987Z"
   },
   {
    "duration": 36,
    "start_time": "2025-02-24T16:59:28.016Z"
   },
   {
    "duration": 73,
    "start_time": "2025-02-24T16:59:28.054Z"
   },
   {
    "duration": 87,
    "start_time": "2025-02-24T16:59:28.129Z"
   },
   {
    "duration": 25,
    "start_time": "2025-02-24T16:59:28.218Z"
   },
   {
    "duration": 232,
    "start_time": "2025-02-24T16:59:28.245Z"
   },
   {
    "duration": 115,
    "start_time": "2025-02-24T16:59:28.478Z"
   },
   {
    "duration": 172,
    "start_time": "2025-02-24T16:59:28.603Z"
   },
   {
    "duration": 214,
    "start_time": "2025-02-24T16:59:28.777Z"
   },
   {
    "duration": 715,
    "start_time": "2025-02-24T16:59:28.993Z"
   },
   {
    "duration": 1253,
    "start_time": "2025-02-24T16:59:49.482Z"
   },
   {
    "duration": 2235,
    "start_time": "2025-02-24T16:59:50.737Z"
   },
   {
    "duration": 12,
    "start_time": "2025-02-24T16:59:52.974Z"
   },
   {
    "duration": 28,
    "start_time": "2025-02-24T16:59:52.988Z"
   },
   {
    "duration": 52,
    "start_time": "2025-02-24T16:59:53.019Z"
   },
   {
    "duration": 187,
    "start_time": "2025-02-24T16:59:53.073Z"
   },
   {
    "duration": 8,
    "start_time": "2025-02-24T16:59:53.262Z"
   },
   {
    "duration": 73,
    "start_time": "2025-02-24T16:59:53.271Z"
   },
   {
    "duration": 24,
    "start_time": "2025-02-24T16:59:53.345Z"
   },
   {
    "duration": 43,
    "start_time": "2025-02-24T16:59:53.371Z"
   },
   {
    "duration": 8,
    "start_time": "2025-02-24T16:59:53.416Z"
   },
   {
    "duration": 53,
    "start_time": "2025-02-24T16:59:53.426Z"
   },
   {
    "duration": 37,
    "start_time": "2025-02-24T16:59:53.481Z"
   },
   {
    "duration": 65,
    "start_time": "2025-02-24T16:59:53.520Z"
   },
   {
    "duration": 33,
    "start_time": "2025-02-24T16:59:53.587Z"
   },
   {
    "duration": 136,
    "start_time": "2025-02-24T16:59:53.621Z"
   },
   {
    "duration": 224,
    "start_time": "2025-02-24T16:59:53.759Z"
   },
   {
    "duration": 53,
    "start_time": "2025-02-24T16:59:53.985Z"
   },
   {
    "duration": 9,
    "start_time": "2025-02-24T16:59:54.039Z"
   },
   {
    "duration": 452,
    "start_time": "2025-02-24T16:59:54.050Z"
   },
   {
    "duration": 47,
    "start_time": "2025-02-24T16:59:54.503Z"
   },
   {
    "duration": 266,
    "start_time": "2025-02-24T16:59:54.552Z"
   },
   {
    "duration": 47,
    "start_time": "2025-02-24T16:59:54.820Z"
   },
   {
    "duration": 42,
    "start_time": "2025-02-24T16:59:54.869Z"
   },
   {
    "duration": 1242,
    "start_time": "2025-02-24T16:59:54.913Z"
   },
   {
    "duration": 166,
    "start_time": "2025-02-24T16:59:56.156Z"
   },
   {
    "duration": 38,
    "start_time": "2025-02-24T16:59:56.325Z"
   },
   {
    "duration": 112,
    "start_time": "2025-02-24T16:59:56.366Z"
   },
   {
    "duration": 44,
    "start_time": "2025-02-24T16:59:56.480Z"
   },
   {
    "duration": 29,
    "start_time": "2025-02-24T16:59:56.527Z"
   },
   {
    "duration": 809,
    "start_time": "2025-02-24T16:59:56.559Z"
   },
   {
    "duration": 168,
    "start_time": "2025-02-24T16:59:57.370Z"
   },
   {
    "duration": 113,
    "start_time": "2025-02-24T16:59:57.540Z"
   },
   {
    "duration": 140,
    "start_time": "2025-02-24T16:59:57.655Z"
   },
   {
    "duration": 298,
    "start_time": "2025-02-24T16:59:57.797Z"
   },
   {
    "duration": 37,
    "start_time": "2025-02-24T16:59:58.097Z"
   },
   {
    "duration": 89,
    "start_time": "2025-02-24T16:59:58.135Z"
   },
   {
    "duration": 177,
    "start_time": "2025-02-24T16:59:58.226Z"
   },
   {
    "duration": 70,
    "start_time": "2025-02-24T16:59:58.405Z"
   },
   {
    "duration": 50,
    "start_time": "2025-02-24T16:59:58.477Z"
   },
   {
    "duration": 41,
    "start_time": "2025-02-24T16:59:58.531Z"
   },
   {
    "duration": 156,
    "start_time": "2025-02-24T16:59:58.574Z"
   },
   {
    "duration": 9,
    "start_time": "2025-02-24T16:59:58.732Z"
   },
   {
    "duration": 316,
    "start_time": "2025-02-24T16:59:58.743Z"
   },
   {
    "duration": 114,
    "start_time": "2025-02-24T16:59:59.061Z"
   },
   {
    "duration": 50,
    "start_time": "2025-02-24T16:59:59.177Z"
   },
   {
    "duration": 2742,
    "start_time": "2025-02-24T16:59:59.229Z"
   },
   {
    "duration": 39,
    "start_time": "2025-02-24T17:00:01.973Z"
   },
   {
    "duration": 97,
    "start_time": "2025-02-24T17:00:02.014Z"
   },
   {
    "duration": 43,
    "start_time": "2025-02-24T17:00:02.112Z"
   },
   {
    "duration": 348,
    "start_time": "2025-02-24T17:00:02.157Z"
   },
   {
    "duration": 324,
    "start_time": "2025-02-24T17:00:02.507Z"
   },
   {
    "duration": 405,
    "start_time": "2025-02-24T17:00:02.833Z"
   },
   {
    "duration": 118,
    "start_time": "2025-02-24T17:00:03.240Z"
   },
   {
    "duration": 27,
    "start_time": "2025-02-24T17:00:03.360Z"
   },
   {
    "duration": 66,
    "start_time": "2025-02-24T17:00:03.389Z"
   },
   {
    "duration": 150,
    "start_time": "2025-02-24T17:00:03.457Z"
   },
   {
    "duration": 343,
    "start_time": "2025-02-24T17:00:03.609Z"
   },
   {
    "duration": 192,
    "start_time": "2025-02-24T17:00:03.954Z"
   },
   {
    "duration": 361,
    "start_time": "2025-02-24T17:00:04.147Z"
   },
   {
    "duration": 112,
    "start_time": "2025-02-24T17:00:04.510Z"
   },
   {
    "duration": 157,
    "start_time": "2025-02-24T17:00:04.624Z"
   },
   {
    "duration": 220,
    "start_time": "2025-02-24T17:00:04.783Z"
   },
   {
    "duration": 723,
    "start_time": "2025-02-24T17:00:05.005Z"
   },
   {
    "duration": 1239,
    "start_time": "2025-02-24T17:00:45.274Z"
   },
   {
    "duration": 2185,
    "start_time": "2025-02-24T17:00:46.515Z"
   },
   {
    "duration": 13,
    "start_time": "2025-02-24T17:00:48.701Z"
   },
   {
    "duration": 36,
    "start_time": "2025-02-24T17:00:48.715Z"
   },
   {
    "duration": 46,
    "start_time": "2025-02-24T17:00:48.752Z"
   },
   {
    "duration": 143,
    "start_time": "2025-02-24T17:00:48.799Z"
   },
   {
    "duration": 8,
    "start_time": "2025-02-24T17:00:48.943Z"
   },
   {
    "duration": 36,
    "start_time": "2025-02-24T17:00:48.953Z"
   },
   {
    "duration": 12,
    "start_time": "2025-02-24T17:00:48.991Z"
   },
   {
    "duration": 64,
    "start_time": "2025-02-24T17:00:49.006Z"
   },
   {
    "duration": 95,
    "start_time": "2025-02-24T17:00:49.072Z"
   },
   {
    "duration": 40,
    "start_time": "2025-02-24T17:00:49.169Z"
   },
   {
    "duration": 31,
    "start_time": "2025-02-24T17:00:49.211Z"
   },
   {
    "duration": 32,
    "start_time": "2025-02-24T17:00:49.244Z"
   },
   {
    "duration": 7,
    "start_time": "2025-02-24T17:00:49.278Z"
   },
   {
    "duration": 16,
    "start_time": "2025-02-24T17:00:49.286Z"
   },
   {
    "duration": 45,
    "start_time": "2025-02-24T17:00:49.304Z"
   },
   {
    "duration": 37,
    "start_time": "2025-02-24T17:00:49.351Z"
   },
   {
    "duration": 9,
    "start_time": "2025-02-24T17:00:49.389Z"
   },
   {
    "duration": 401,
    "start_time": "2025-02-24T17:00:49.402Z"
   },
   {
    "duration": 52,
    "start_time": "2025-02-24T17:00:49.804Z"
   },
   {
    "duration": 326,
    "start_time": "2025-02-24T17:00:49.858Z"
   },
   {
    "duration": 53,
    "start_time": "2025-02-24T17:00:50.186Z"
   },
   {
    "duration": 144,
    "start_time": "2025-02-24T17:00:50.241Z"
   },
   {
    "duration": 1222,
    "start_time": "2025-02-24T17:00:50.387Z"
   },
   {
    "duration": 161,
    "start_time": "2025-02-24T17:00:51.611Z"
   },
   {
    "duration": 34,
    "start_time": "2025-02-24T17:00:51.774Z"
   },
   {
    "duration": 218,
    "start_time": "2025-02-24T17:00:51.814Z"
   },
   {
    "duration": 34,
    "start_time": "2025-02-24T17:00:52.034Z"
   },
   {
    "duration": 49,
    "start_time": "2025-02-24T17:00:52.070Z"
   },
   {
    "duration": 704,
    "start_time": "2025-02-24T17:00:52.121Z"
   },
   {
    "duration": 162,
    "start_time": "2025-02-24T17:00:52.827Z"
   },
   {
    "duration": 116,
    "start_time": "2025-02-24T17:00:52.991Z"
   },
   {
    "duration": 55,
    "start_time": "2025-02-24T17:00:53.108Z"
   },
   {
    "duration": 181,
    "start_time": "2025-02-24T17:00:53.165Z"
   },
   {
    "duration": 37,
    "start_time": "2025-02-24T17:00:53.348Z"
   },
   {
    "duration": 70,
    "start_time": "2025-02-24T17:00:53.401Z"
   },
   {
    "duration": 54,
    "start_time": "2025-02-24T17:00:53.473Z"
   },
   {
    "duration": 21,
    "start_time": "2025-02-24T17:00:53.529Z"
   },
   {
    "duration": 16,
    "start_time": "2025-02-24T17:00:53.553Z"
   },
   {
    "duration": 56,
    "start_time": "2025-02-24T17:00:53.570Z"
   },
   {
    "duration": 48,
    "start_time": "2025-02-24T17:00:53.628Z"
   },
   {
    "duration": 66,
    "start_time": "2025-02-24T17:00:53.678Z"
   },
   {
    "duration": 289,
    "start_time": "2025-02-24T17:00:53.746Z"
   },
   {
    "duration": 121,
    "start_time": "2025-02-24T17:00:54.037Z"
   },
   {
    "duration": 19,
    "start_time": "2025-02-24T17:00:54.159Z"
   },
   {
    "duration": 2941,
    "start_time": "2025-02-24T17:00:54.180Z"
   },
   {
    "duration": 23,
    "start_time": "2025-02-24T17:00:57.122Z"
   },
   {
    "duration": 39,
    "start_time": "2025-02-24T17:00:57.147Z"
   },
   {
    "duration": 8,
    "start_time": "2025-02-24T17:00:57.187Z"
   },
   {
    "duration": 34,
    "start_time": "2025-02-24T17:00:57.196Z"
   },
   {
    "duration": 7,
    "start_time": "2025-02-24T17:00:57.231Z"
   },
   {
    "duration": 20,
    "start_time": "2025-02-24T17:00:57.239Z"
   },
   {
    "duration": 56,
    "start_time": "2025-02-24T17:00:57.261Z"
   },
   {
    "duration": 29,
    "start_time": "2025-02-24T17:00:57.319Z"
   },
   {
    "duration": 17,
    "start_time": "2025-02-24T17:00:57.350Z"
   },
   {
    "duration": 78,
    "start_time": "2025-02-24T17:00:57.369Z"
   },
   {
    "duration": 87,
    "start_time": "2025-02-24T17:00:57.449Z"
   },
   {
    "duration": 25,
    "start_time": "2025-02-24T17:00:57.538Z"
   },
   {
    "duration": 173,
    "start_time": "2025-02-24T17:00:57.565Z"
   },
   {
    "duration": 121,
    "start_time": "2025-02-24T17:00:57.740Z"
   },
   {
    "duration": 245,
    "start_time": "2025-02-24T17:00:57.863Z"
   },
   {
    "duration": 214,
    "start_time": "2025-02-24T17:00:58.109Z"
   },
   {
    "duration": 723,
    "start_time": "2025-02-24T17:00:58.325Z"
   },
   {
    "duration": 1188,
    "start_time": "2025-02-24T17:01:58.239Z"
   },
   {
    "duration": 2157,
    "start_time": "2025-02-24T17:01:59.429Z"
   },
   {
    "duration": 13,
    "start_time": "2025-02-24T17:02:01.588Z"
   },
   {
    "duration": 84,
    "start_time": "2025-02-24T17:02:01.602Z"
   },
   {
    "duration": 79,
    "start_time": "2025-02-24T17:02:01.688Z"
   },
   {
    "duration": 266,
    "start_time": "2025-02-24T17:02:01.768Z"
   },
   {
    "duration": 7,
    "start_time": "2025-02-24T17:02:02.036Z"
   },
   {
    "duration": 27,
    "start_time": "2025-02-24T17:02:02.044Z"
   },
   {
    "duration": 72,
    "start_time": "2025-02-24T17:02:02.072Z"
   },
   {
    "duration": 230,
    "start_time": "2025-02-24T17:02:02.146Z"
   },
   {
    "duration": 7,
    "start_time": "2025-02-24T17:02:02.378Z"
   },
   {
    "duration": 57,
    "start_time": "2025-02-24T17:02:02.386Z"
   },
   {
    "duration": 18,
    "start_time": "2025-02-24T17:02:02.444Z"
   },
   {
    "duration": 19,
    "start_time": "2025-02-24T17:02:02.463Z"
   },
   {
    "duration": 39,
    "start_time": "2025-02-24T17:02:02.484Z"
   },
   {
    "duration": 29,
    "start_time": "2025-02-24T17:02:02.525Z"
   },
   {
    "duration": 139,
    "start_time": "2025-02-24T17:02:02.557Z"
   },
   {
    "duration": 95,
    "start_time": "2025-02-24T17:02:02.698Z"
   },
   {
    "duration": 29,
    "start_time": "2025-02-24T17:02:02.795Z"
   },
   {
    "duration": 411,
    "start_time": "2025-02-24T17:02:02.826Z"
   },
   {
    "duration": 44,
    "start_time": "2025-02-24T17:02:03.239Z"
   },
   {
    "duration": 287,
    "start_time": "2025-02-24T17:02:03.285Z"
   },
   {
    "duration": 56,
    "start_time": "2025-02-24T17:02:03.573Z"
   },
   {
    "duration": 143,
    "start_time": "2025-02-24T17:02:03.630Z"
   },
   {
    "duration": 1373,
    "start_time": "2025-02-24T17:02:03.775Z"
   },
   {
    "duration": 159,
    "start_time": "2025-02-24T17:02:05.151Z"
   },
   {
    "duration": 24,
    "start_time": "2025-02-24T17:02:05.312Z"
   },
   {
    "duration": 110,
    "start_time": "2025-02-24T17:02:05.339Z"
   },
   {
    "duration": 32,
    "start_time": "2025-02-24T17:02:05.452Z"
   },
   {
    "duration": 28,
    "start_time": "2025-02-24T17:02:05.486Z"
   },
   {
    "duration": 708,
    "start_time": "2025-02-24T17:02:05.515Z"
   },
   {
    "duration": 156,
    "start_time": "2025-02-24T17:02:06.225Z"
   },
   {
    "duration": 132,
    "start_time": "2025-02-24T17:02:06.383Z"
   },
   {
    "duration": 55,
    "start_time": "2025-02-24T17:02:06.516Z"
   },
   {
    "duration": 181,
    "start_time": "2025-02-24T17:02:06.573Z"
   },
   {
    "duration": 34,
    "start_time": "2025-02-24T17:02:06.756Z"
   },
   {
    "duration": 87,
    "start_time": "2025-02-24T17:02:06.802Z"
   },
   {
    "duration": 68,
    "start_time": "2025-02-24T17:02:06.891Z"
   },
   {
    "duration": 21,
    "start_time": "2025-02-24T17:02:06.961Z"
   },
   {
    "duration": 27,
    "start_time": "2025-02-24T17:02:06.984Z"
   },
   {
    "duration": 22,
    "start_time": "2025-02-24T17:02:07.013Z"
   },
   {
    "duration": 44,
    "start_time": "2025-02-24T17:02:07.037Z"
   },
   {
    "duration": 117,
    "start_time": "2025-02-24T17:02:07.082Z"
   },
   {
    "duration": 325,
    "start_time": "2025-02-24T17:02:07.202Z"
   },
   {
    "duration": 115,
    "start_time": "2025-02-24T17:02:07.529Z"
   },
   {
    "duration": 20,
    "start_time": "2025-02-24T17:02:07.646Z"
   },
   {
    "duration": 3059,
    "start_time": "2025-02-24T17:02:07.668Z"
   },
   {
    "duration": 25,
    "start_time": "2025-02-24T17:02:10.729Z"
   },
   {
    "duration": 18,
    "start_time": "2025-02-24T17:02:10.756Z"
   },
   {
    "duration": 33,
    "start_time": "2025-02-24T17:02:10.776Z"
   },
   {
    "duration": 51,
    "start_time": "2025-02-24T17:02:10.811Z"
   },
   {
    "duration": 19,
    "start_time": "2025-02-24T17:02:10.864Z"
   },
   {
    "duration": 37,
    "start_time": "2025-02-24T17:02:10.885Z"
   },
   {
    "duration": 79,
    "start_time": "2025-02-24T17:02:10.923Z"
   },
   {
    "duration": 28,
    "start_time": "2025-02-24T17:02:11.004Z"
   },
   {
    "duration": 116,
    "start_time": "2025-02-24T17:02:11.034Z"
   },
   {
    "duration": 85,
    "start_time": "2025-02-24T17:02:11.152Z"
   },
   {
    "duration": 90,
    "start_time": "2025-02-24T17:02:11.239Z"
   },
   {
    "duration": 25,
    "start_time": "2025-02-24T17:02:11.331Z"
   },
   {
    "duration": 177,
    "start_time": "2025-02-24T17:02:11.357Z"
   },
   {
    "duration": 120,
    "start_time": "2025-02-24T17:02:11.536Z"
   },
   {
    "duration": 160,
    "start_time": "2025-02-24T17:02:11.658Z"
   },
   {
    "duration": 216,
    "start_time": "2025-02-24T17:02:11.820Z"
   },
   {
    "duration": 717,
    "start_time": "2025-02-24T17:02:12.037Z"
   },
   {
    "duration": 2,
    "start_time": "2025-02-24T17:54:25.109Z"
   },
   {
    "duration": 1781,
    "start_time": "2025-02-24T17:54:25.113Z"
   },
   {
    "duration": 9,
    "start_time": "2025-02-24T17:54:26.895Z"
   },
   {
    "duration": 11,
    "start_time": "2025-02-24T17:54:26.905Z"
   },
   {
    "duration": 23,
    "start_time": "2025-02-24T17:54:26.917Z"
   },
   {
    "duration": 112,
    "start_time": "2025-02-24T17:54:26.942Z"
   },
   {
    "duration": 8,
    "start_time": "2025-02-24T17:54:27.055Z"
   },
   {
    "duration": 24,
    "start_time": "2025-02-24T17:54:27.064Z"
   },
   {
    "duration": 9,
    "start_time": "2025-02-24T17:54:27.090Z"
   },
   {
    "duration": 69,
    "start_time": "2025-02-24T17:54:27.101Z"
   },
   {
    "duration": 8,
    "start_time": "2025-02-24T17:54:27.172Z"
   },
   {
    "duration": 27,
    "start_time": "2025-02-24T17:54:27.182Z"
   },
   {
    "duration": 10,
    "start_time": "2025-02-24T17:54:27.211Z"
   },
   {
    "duration": 42,
    "start_time": "2025-02-24T17:54:27.222Z"
   },
   {
    "duration": 6,
    "start_time": "2025-02-24T17:54:27.266Z"
   },
   {
    "duration": 11,
    "start_time": "2025-02-24T17:54:27.273Z"
   },
   {
    "duration": 17,
    "start_time": "2025-02-24T17:54:27.286Z"
   },
   {
    "duration": 74,
    "start_time": "2025-02-24T17:54:27.305Z"
   },
   {
    "duration": 9,
    "start_time": "2025-02-24T17:54:27.381Z"
   },
   {
    "duration": 414,
    "start_time": "2025-02-24T17:54:27.392Z"
   },
   {
    "duration": 64,
    "start_time": "2025-02-24T17:54:27.808Z"
   },
   {
    "duration": 169,
    "start_time": "2025-02-24T17:54:27.874Z"
   },
   {
    "duration": 53,
    "start_time": "2025-02-24T17:54:28.045Z"
   },
   {
    "duration": 19,
    "start_time": "2025-02-24T17:54:28.100Z"
   },
   {
    "duration": 1207,
    "start_time": "2025-02-24T17:54:28.121Z"
   },
   {
    "duration": 174,
    "start_time": "2025-02-24T17:54:29.330Z"
   },
   {
    "duration": 26,
    "start_time": "2025-02-24T17:54:29.506Z"
   },
   {
    "duration": 142,
    "start_time": "2025-02-24T17:54:29.534Z"
   },
   {
    "duration": 33,
    "start_time": "2025-02-24T17:54:29.678Z"
   },
   {
    "duration": 12,
    "start_time": "2025-02-24T17:54:29.713Z"
   },
   {
    "duration": 700,
    "start_time": "2025-02-24T17:54:29.727Z"
   },
   {
    "duration": 166,
    "start_time": "2025-02-24T17:54:30.428Z"
   },
   {
    "duration": 110,
    "start_time": "2025-02-24T17:54:30.596Z"
   },
   {
    "duration": 17,
    "start_time": "2025-02-24T17:54:30.708Z"
   },
   {
    "duration": 194,
    "start_time": "2025-02-24T17:54:30.727Z"
   },
   {
    "duration": 50,
    "start_time": "2025-02-24T17:54:30.923Z"
   },
   {
    "duration": 90,
    "start_time": "2025-02-24T17:54:30.975Z"
   },
   {
    "duration": 44,
    "start_time": "2025-02-24T17:54:31.066Z"
   },
   {
    "duration": 20,
    "start_time": "2025-02-24T17:54:31.111Z"
   },
   {
    "duration": 37,
    "start_time": "2025-02-24T17:54:31.133Z"
   },
   {
    "duration": 30,
    "start_time": "2025-02-24T17:54:31.172Z"
   },
   {
    "duration": 59,
    "start_time": "2025-02-24T17:54:31.203Z"
   },
   {
    "duration": 10,
    "start_time": "2025-02-24T17:54:31.263Z"
   },
   {
    "duration": 283,
    "start_time": "2025-02-24T17:54:31.275Z"
   },
   {
    "duration": 134,
    "start_time": "2025-02-24T17:54:31.560Z"
   },
   {
    "duration": 19,
    "start_time": "2025-02-24T17:54:31.696Z"
   },
   {
    "duration": 2630,
    "start_time": "2025-02-24T17:54:31.717Z"
   },
   {
    "duration": 29,
    "start_time": "2025-02-24T17:54:34.349Z"
   },
   {
    "duration": 14,
    "start_time": "2025-02-24T17:54:34.379Z"
   },
   {
    "duration": 79,
    "start_time": "2025-02-24T17:54:34.395Z"
   },
   {
    "duration": 100,
    "start_time": "2025-02-24T17:54:34.475Z"
   },
   {
    "duration": 7,
    "start_time": "2025-02-24T17:54:34.576Z"
   },
   {
    "duration": 10,
    "start_time": "2025-02-24T17:54:34.585Z"
   },
   {
    "duration": 64,
    "start_time": "2025-02-24T17:54:34.596Z"
   },
   {
    "duration": 27,
    "start_time": "2025-02-24T17:54:34.662Z"
   },
   {
    "duration": 6,
    "start_time": "2025-02-24T17:54:34.691Z"
   },
   {
    "duration": 93,
    "start_time": "2025-02-24T17:54:34.699Z"
   },
   {
    "duration": 86,
    "start_time": "2025-02-24T17:54:34.799Z"
   },
   {
    "duration": 25,
    "start_time": "2025-02-24T17:54:34.886Z"
   },
   {
    "duration": 170,
    "start_time": "2025-02-24T17:54:34.913Z"
   },
   {
    "duration": 142,
    "start_time": "2025-02-24T17:54:35.085Z"
   },
   {
    "duration": 157,
    "start_time": "2025-02-24T17:54:35.228Z"
   },
   {
    "duration": 216,
    "start_time": "2025-02-24T17:54:35.387Z"
   },
   {
    "duration": 701,
    "start_time": "2025-02-24T17:54:35.605Z"
   },
   {
    "duration": 199,
    "start_time": "2025-02-25T15:49:32.546Z"
   },
   {
    "duration": 97,
    "start_time": "2025-02-25T15:52:24.292Z"
   },
   {
    "duration": 91,
    "start_time": "2025-02-25T15:54:09.427Z"
   },
   {
    "duration": 89,
    "start_time": "2025-02-25T16:02:42.135Z"
   },
   {
    "duration": 49,
    "start_time": "2025-02-25T16:03:43.929Z"
   },
   {
    "duration": 1427,
    "start_time": "2025-02-25T16:22:28.850Z"
   },
   {
    "duration": 2285,
    "start_time": "2025-02-25T16:22:30.279Z"
   },
   {
    "duration": 13,
    "start_time": "2025-02-25T16:22:32.566Z"
   },
   {
    "duration": 22,
    "start_time": "2025-02-25T16:22:32.581Z"
   },
   {
    "duration": 25,
    "start_time": "2025-02-25T16:22:32.606Z"
   },
   {
    "duration": 124,
    "start_time": "2025-02-25T16:22:32.634Z"
   },
   {
    "duration": 8,
    "start_time": "2025-02-25T16:22:32.760Z"
   },
   {
    "duration": 113,
    "start_time": "2025-02-25T16:22:32.770Z"
   },
   {
    "duration": 13,
    "start_time": "2025-02-25T16:22:32.885Z"
   },
   {
    "duration": 78,
    "start_time": "2025-02-25T16:22:32.902Z"
   },
   {
    "duration": 7,
    "start_time": "2025-02-25T16:22:32.982Z"
   },
   {
    "duration": 34,
    "start_time": "2025-02-25T16:22:32.991Z"
   },
   {
    "duration": 32,
    "start_time": "2025-02-25T16:22:33.027Z"
   },
   {
    "duration": 14,
    "start_time": "2025-02-25T16:22:33.060Z"
   },
   {
    "duration": 20,
    "start_time": "2025-02-25T16:22:33.075Z"
   },
   {
    "duration": 15,
    "start_time": "2025-02-25T16:22:33.097Z"
   },
   {
    "duration": 46,
    "start_time": "2025-02-25T16:22:33.113Z"
   },
   {
    "duration": 27,
    "start_time": "2025-02-25T16:22:33.161Z"
   },
   {
    "duration": 12,
    "start_time": "2025-02-25T16:22:33.190Z"
   },
   {
    "duration": 462,
    "start_time": "2025-02-25T16:22:33.205Z"
   },
   {
    "duration": 66,
    "start_time": "2025-02-25T16:22:33.670Z"
   },
   {
    "duration": 220,
    "start_time": "2025-02-25T16:22:33.738Z"
   },
   {
    "duration": 76,
    "start_time": "2025-02-25T16:22:33.960Z"
   },
   {
    "duration": 47,
    "start_time": "2025-02-25T16:22:34.039Z"
   },
   {
    "duration": 1223,
    "start_time": "2025-02-25T16:22:34.088Z"
   },
   {
    "duration": 166,
    "start_time": "2025-02-25T16:22:35.313Z"
   },
   {
    "duration": 25,
    "start_time": "2025-02-25T16:22:35.481Z"
   },
   {
    "duration": 122,
    "start_time": "2025-02-25T16:22:35.510Z"
   },
   {
    "duration": 48,
    "start_time": "2025-02-25T16:22:35.633Z"
   },
   {
    "duration": 31,
    "start_time": "2025-02-25T16:22:35.682Z"
   },
   {
    "duration": 731,
    "start_time": "2025-02-25T16:22:35.716Z"
   },
   {
    "duration": 160,
    "start_time": "2025-02-25T16:22:36.448Z"
   },
   {
    "duration": 114,
    "start_time": "2025-02-25T16:22:36.610Z"
   },
   {
    "duration": 76,
    "start_time": "2025-02-25T16:22:36.726Z"
   },
   {
    "duration": 204,
    "start_time": "2025-02-25T16:22:36.803Z"
   },
   {
    "duration": 33,
    "start_time": "2025-02-25T16:22:37.009Z"
   },
   {
    "duration": 72,
    "start_time": "2025-02-25T16:22:37.058Z"
   },
   {
    "duration": 59,
    "start_time": "2025-02-25T16:22:37.132Z"
   },
   {
    "duration": 20,
    "start_time": "2025-02-25T16:22:37.193Z"
   },
   {
    "duration": 45,
    "start_time": "2025-02-25T16:22:37.214Z"
   },
   {
    "duration": 14,
    "start_time": "2025-02-25T16:22:37.261Z"
   },
   {
    "duration": 42,
    "start_time": "2025-02-25T16:22:37.277Z"
   },
   {
    "duration": 37,
    "start_time": "2025-02-25T16:22:37.321Z"
   },
   {
    "duration": 337,
    "start_time": "2025-02-25T16:22:37.361Z"
   },
   {
    "duration": 118,
    "start_time": "2025-02-25T16:22:37.699Z"
   },
   {
    "duration": 22,
    "start_time": "2025-02-25T16:22:37.819Z"
   },
   {
    "duration": 2898,
    "start_time": "2025-02-25T16:22:37.843Z"
   },
   {
    "duration": 41,
    "start_time": "2025-02-25T16:22:40.743Z"
   },
   {
    "duration": 73,
    "start_time": "2025-02-25T16:22:40.786Z"
   },
   {
    "duration": 9,
    "start_time": "2025-02-25T16:22:40.860Z"
   },
   {
    "duration": 31,
    "start_time": "2025-02-25T16:22:40.871Z"
   },
   {
    "duration": 9,
    "start_time": "2025-02-25T16:22:40.904Z"
   },
   {
    "duration": 44,
    "start_time": "2025-02-25T16:22:40.916Z"
   },
   {
    "duration": 45,
    "start_time": "2025-02-25T16:22:40.961Z"
   },
   {
    "duration": 61,
    "start_time": "2025-02-25T16:22:41.008Z"
   },
   {
    "duration": 8,
    "start_time": "2025-02-25T16:22:41.072Z"
   },
   {
    "duration": 113,
    "start_time": "2025-02-25T16:22:41.083Z"
   },
   {
    "duration": 93,
    "start_time": "2025-02-25T16:22:41.198Z"
   },
   {
    "duration": 25,
    "start_time": "2025-02-25T16:22:41.293Z"
   },
   {
    "duration": 203,
    "start_time": "2025-02-25T16:22:41.320Z"
   },
   {
    "duration": 143,
    "start_time": "2025-02-25T16:22:41.526Z"
   },
   {
    "duration": 169,
    "start_time": "2025-02-25T16:22:41.671Z"
   },
   {
    "duration": 221,
    "start_time": "2025-02-25T16:22:41.842Z"
   },
   {
    "duration": 700,
    "start_time": "2025-02-25T16:22:42.065Z"
   },
   {
    "duration": 1222,
    "start_time": "2025-02-25T16:24:27.547Z"
   },
   {
    "duration": 2148,
    "start_time": "2025-02-25T16:24:28.773Z"
   },
   {
    "duration": 14,
    "start_time": "2025-02-25T16:24:30.923Z"
   },
   {
    "duration": 43,
    "start_time": "2025-02-25T16:24:30.939Z"
   },
   {
    "duration": 44,
    "start_time": "2025-02-25T16:24:30.985Z"
   },
   {
    "duration": 164,
    "start_time": "2025-02-25T16:24:31.031Z"
   },
   {
    "duration": 9,
    "start_time": "2025-02-25T16:24:31.197Z"
   },
   {
    "duration": 54,
    "start_time": "2025-02-25T16:24:31.209Z"
   },
   {
    "duration": 10,
    "start_time": "2025-02-25T16:24:31.265Z"
   },
   {
    "duration": 47,
    "start_time": "2025-02-25T16:24:31.277Z"
   },
   {
    "duration": 32,
    "start_time": "2025-02-25T16:24:31.327Z"
   },
   {
    "duration": 40,
    "start_time": "2025-02-25T16:24:31.362Z"
   },
   {
    "duration": 11,
    "start_time": "2025-02-25T16:24:31.403Z"
   },
   {
    "duration": 22,
    "start_time": "2025-02-25T16:24:31.417Z"
   },
   {
    "duration": 55,
    "start_time": "2025-02-25T16:24:31.442Z"
   },
   {
    "duration": 99,
    "start_time": "2025-02-25T16:24:31.500Z"
   },
   {
    "duration": 28,
    "start_time": "2025-02-25T16:24:31.603Z"
   },
   {
    "duration": 42,
    "start_time": "2025-02-25T16:24:31.633Z"
   },
   {
    "duration": 10,
    "start_time": "2025-02-25T16:24:31.677Z"
   },
   {
    "duration": 420,
    "start_time": "2025-02-25T16:24:31.689Z"
   },
   {
    "duration": 101,
    "start_time": "2025-02-25T16:24:32.111Z"
   },
   {
    "duration": 224,
    "start_time": "2025-02-25T16:24:32.214Z"
   },
   {
    "duration": 66,
    "start_time": "2025-02-25T16:24:32.441Z"
   },
   {
    "duration": 57,
    "start_time": "2025-02-25T16:24:32.509Z"
   },
   {
    "duration": 1231,
    "start_time": "2025-02-25T16:24:32.568Z"
   },
   {
    "duration": 188,
    "start_time": "2025-02-25T16:24:33.802Z"
   },
   {
    "duration": 34,
    "start_time": "2025-02-25T16:24:33.993Z"
   },
   {
    "duration": 143,
    "start_time": "2025-02-25T16:24:34.029Z"
   },
   {
    "duration": 43,
    "start_time": "2025-02-25T16:24:34.175Z"
   },
   {
    "duration": 64,
    "start_time": "2025-02-25T16:24:34.221Z"
   },
   {
    "duration": 704,
    "start_time": "2025-02-25T16:24:34.288Z"
   },
   {
    "duration": 169,
    "start_time": "2025-02-25T16:24:34.995Z"
   },
   {
    "duration": 159,
    "start_time": "2025-02-25T16:24:35.167Z"
   },
   {
    "duration": 115,
    "start_time": "2025-02-25T16:24:35.328Z"
   },
   {
    "duration": 274,
    "start_time": "2025-02-25T16:24:35.445Z"
   },
   {
    "duration": 49,
    "start_time": "2025-02-25T16:24:35.722Z"
   },
   {
    "duration": 105,
    "start_time": "2025-02-25T16:24:35.774Z"
   },
   {
    "duration": 45,
    "start_time": "2025-02-25T16:24:35.881Z"
   },
   {
    "duration": 55,
    "start_time": "2025-02-25T16:24:35.929Z"
   },
   {
    "duration": 23,
    "start_time": "2025-02-25T16:24:35.986Z"
   },
   {
    "duration": 48,
    "start_time": "2025-02-25T16:24:36.017Z"
   },
   {
    "duration": 49,
    "start_time": "2025-02-25T16:24:36.068Z"
   },
   {
    "duration": 12,
    "start_time": "2025-02-25T16:24:36.119Z"
   },
   {
    "duration": 433,
    "start_time": "2025-02-25T16:24:36.158Z"
   },
   {
    "duration": 112,
    "start_time": "2025-02-25T16:24:36.593Z"
   },
   {
    "duration": 30,
    "start_time": "2025-02-25T16:24:36.707Z"
   },
   {
    "duration": 2810,
    "start_time": "2025-02-25T16:24:36.740Z"
   },
   {
    "duration": 46,
    "start_time": "2025-02-25T16:24:39.552Z"
   },
   {
    "duration": 19,
    "start_time": "2025-02-25T16:24:39.600Z"
   },
   {
    "duration": 39,
    "start_time": "2025-02-25T16:24:39.620Z"
   },
   {
    "duration": 29,
    "start_time": "2025-02-25T16:24:39.662Z"
   },
   {
    "duration": 9,
    "start_time": "2025-02-25T16:24:39.693Z"
   },
   {
    "duration": 28,
    "start_time": "2025-02-25T16:24:39.704Z"
   },
   {
    "duration": 64,
    "start_time": "2025-02-25T16:24:39.735Z"
   },
   {
    "duration": 29,
    "start_time": "2025-02-25T16:24:39.801Z"
   },
   {
    "duration": 37,
    "start_time": "2025-02-25T16:24:39.831Z"
   },
   {
    "duration": 119,
    "start_time": "2025-02-25T16:24:39.872Z"
   },
   {
    "duration": 95,
    "start_time": "2025-02-25T16:24:39.993Z"
   },
   {
    "duration": 41,
    "start_time": "2025-02-25T16:24:40.091Z"
   },
   {
    "duration": 357,
    "start_time": "2025-02-25T16:24:40.135Z"
   },
   {
    "duration": 130,
    "start_time": "2025-02-25T16:24:40.494Z"
   },
   {
    "duration": 205,
    "start_time": "2025-02-25T16:24:40.627Z"
   },
   {
    "duration": 371,
    "start_time": "2025-02-25T16:24:40.835Z"
   },
   {
    "duration": 822,
    "start_time": "2025-02-25T16:24:41.208Z"
   },
   {
    "duration": 1168,
    "start_time": "2025-02-25T16:25:18.693Z"
   },
   {
    "duration": 2424,
    "start_time": "2025-02-25T16:25:19.863Z"
   },
   {
    "duration": 13,
    "start_time": "2025-02-25T16:25:22.290Z"
   },
   {
    "duration": 17,
    "start_time": "2025-02-25T16:25:22.306Z"
   },
   {
    "duration": 52,
    "start_time": "2025-02-25T16:25:22.325Z"
   },
   {
    "duration": 102,
    "start_time": "2025-02-25T16:25:22.379Z"
   },
   {
    "duration": 8,
    "start_time": "2025-02-25T16:25:22.483Z"
   },
   {
    "duration": 21,
    "start_time": "2025-02-25T16:25:22.492Z"
   },
   {
    "duration": 9,
    "start_time": "2025-02-25T16:25:22.515Z"
   },
   {
    "duration": 77,
    "start_time": "2025-02-25T16:25:22.528Z"
   },
   {
    "duration": 8,
    "start_time": "2025-02-25T16:25:22.607Z"
   },
   {
    "duration": 48,
    "start_time": "2025-02-25T16:25:22.617Z"
   },
   {
    "duration": 12,
    "start_time": "2025-02-25T16:25:22.666Z"
   },
   {
    "duration": 12,
    "start_time": "2025-02-25T16:25:22.679Z"
   },
   {
    "duration": 12,
    "start_time": "2025-02-25T16:25:22.693Z"
   },
   {
    "duration": 33,
    "start_time": "2025-02-25T16:25:22.706Z"
   },
   {
    "duration": 133,
    "start_time": "2025-02-25T16:25:22.741Z"
   },
   {
    "duration": 31,
    "start_time": "2025-02-25T16:25:22.876Z"
   },
   {
    "duration": 58,
    "start_time": "2025-02-25T16:25:22.909Z"
   },
   {
    "duration": 399,
    "start_time": "2025-02-25T16:25:22.969Z"
   },
   {
    "duration": 45,
    "start_time": "2025-02-25T16:25:23.370Z"
   },
   {
    "duration": 200,
    "start_time": "2025-02-25T16:25:23.417Z"
   },
   {
    "duration": 66,
    "start_time": "2025-02-25T16:25:23.619Z"
   },
   {
    "duration": 29,
    "start_time": "2025-02-25T16:25:23.687Z"
   },
   {
    "duration": 1225,
    "start_time": "2025-02-25T16:25:23.718Z"
   },
   {
    "duration": 168,
    "start_time": "2025-02-25T16:25:24.944Z"
   },
   {
    "duration": 27,
    "start_time": "2025-02-25T16:25:25.115Z"
   },
   {
    "duration": 168,
    "start_time": "2025-02-25T16:25:25.162Z"
   },
   {
    "duration": 43,
    "start_time": "2025-02-25T16:25:25.332Z"
   },
   {
    "duration": 115,
    "start_time": "2025-02-25T16:25:25.377Z"
   },
   {
    "duration": 718,
    "start_time": "2025-02-25T16:25:25.494Z"
   },
   {
    "duration": 161,
    "start_time": "2025-02-25T16:25:26.215Z"
   },
   {
    "duration": 114,
    "start_time": "2025-02-25T16:25:26.378Z"
   },
   {
    "duration": 67,
    "start_time": "2025-02-25T16:25:26.494Z"
   },
   {
    "duration": 169,
    "start_time": "2025-02-25T16:25:26.563Z"
   },
   {
    "duration": 44,
    "start_time": "2025-02-25T16:25:26.734Z"
   },
   {
    "duration": 136,
    "start_time": "2025-02-25T16:25:26.779Z"
   },
   {
    "duration": 56,
    "start_time": "2025-02-25T16:25:26.917Z"
   },
   {
    "duration": 22,
    "start_time": "2025-02-25T16:25:26.975Z"
   },
   {
    "duration": 16,
    "start_time": "2025-02-25T16:25:26.999Z"
   },
   {
    "duration": 46,
    "start_time": "2025-02-25T16:25:27.017Z"
   },
   {
    "duration": 45,
    "start_time": "2025-02-25T16:25:27.065Z"
   },
   {
    "duration": 11,
    "start_time": "2025-02-25T16:25:27.111Z"
   },
   {
    "duration": 301,
    "start_time": "2025-02-25T16:25:27.123Z"
   },
   {
    "duration": 114,
    "start_time": "2025-02-25T16:25:27.426Z"
   },
   {
    "duration": 28,
    "start_time": "2025-02-25T16:25:27.542Z"
   },
   {
    "duration": 2763,
    "start_time": "2025-02-25T16:25:27.572Z"
   },
   {
    "duration": 50,
    "start_time": "2025-02-25T16:25:30.337Z"
   },
   {
    "duration": 21,
    "start_time": "2025-02-25T16:25:30.389Z"
   },
   {
    "duration": 12,
    "start_time": "2025-02-25T16:25:30.413Z"
   },
   {
    "duration": 42,
    "start_time": "2025-02-25T16:25:30.427Z"
   },
   {
    "duration": 11,
    "start_time": "2025-02-25T16:25:30.470Z"
   },
   {
    "duration": 28,
    "start_time": "2025-02-25T16:25:30.483Z"
   },
   {
    "duration": 67,
    "start_time": "2025-02-25T16:25:30.513Z"
   },
   {
    "duration": 29,
    "start_time": "2025-02-25T16:25:30.582Z"
   },
   {
    "duration": 7,
    "start_time": "2025-02-25T16:25:30.614Z"
   },
   {
    "duration": 128,
    "start_time": "2025-02-25T16:25:30.624Z"
   },
   {
    "duration": 104,
    "start_time": "2025-02-25T16:25:30.755Z"
   },
   {
    "duration": 29,
    "start_time": "2025-02-25T16:25:30.861Z"
   },
   {
    "duration": 182,
    "start_time": "2025-02-25T16:25:30.892Z"
   },
   {
    "duration": 138,
    "start_time": "2025-02-25T16:25:31.076Z"
   },
   {
    "duration": 162,
    "start_time": "2025-02-25T16:25:31.216Z"
   },
   {
    "duration": 239,
    "start_time": "2025-02-25T16:25:31.379Z"
   },
   {
    "duration": 701,
    "start_time": "2025-02-25T16:25:31.620Z"
   },
   {
    "duration": 1242,
    "start_time": "2025-02-25T16:29:04.627Z"
   },
   {
    "duration": 2308,
    "start_time": "2025-02-25T16:29:05.871Z"
   },
   {
    "duration": 14,
    "start_time": "2025-02-25T16:29:08.180Z"
   },
   {
    "duration": 51,
    "start_time": "2025-02-25T16:29:08.196Z"
   },
   {
    "duration": 47,
    "start_time": "2025-02-25T16:29:08.250Z"
   },
   {
    "duration": 100,
    "start_time": "2025-02-25T16:29:08.298Z"
   },
   {
    "duration": 7,
    "start_time": "2025-02-25T16:29:08.400Z"
   },
   {
    "duration": 23,
    "start_time": "2025-02-25T16:29:08.408Z"
   },
   {
    "duration": 26,
    "start_time": "2025-02-25T16:29:08.433Z"
   },
   {
    "duration": 40,
    "start_time": "2025-02-25T16:29:08.461Z"
   },
   {
    "duration": 8,
    "start_time": "2025-02-25T16:29:08.503Z"
   },
   {
    "duration": 46,
    "start_time": "2025-02-25T16:29:08.513Z"
   },
   {
    "duration": 10,
    "start_time": "2025-02-25T16:29:08.561Z"
   },
   {
    "duration": 14,
    "start_time": "2025-02-25T16:29:08.573Z"
   },
   {
    "duration": 7,
    "start_time": "2025-02-25T16:29:08.588Z"
   },
   {
    "duration": 10,
    "start_time": "2025-02-25T16:29:08.596Z"
   },
   {
    "duration": 58,
    "start_time": "2025-02-25T16:29:08.607Z"
   },
   {
    "duration": 40,
    "start_time": "2025-02-25T16:29:08.667Z"
   },
   {
    "duration": 9,
    "start_time": "2025-02-25T16:29:08.709Z"
   },
   {
    "duration": 412,
    "start_time": "2025-02-25T16:29:08.720Z"
   },
   {
    "duration": 52,
    "start_time": "2025-02-25T16:29:09.134Z"
   },
   {
    "duration": 175,
    "start_time": "2025-02-25T16:29:09.188Z"
   },
   {
    "duration": 44,
    "start_time": "2025-02-25T16:29:09.365Z"
   },
   {
    "duration": 166,
    "start_time": "2025-02-25T16:29:09.411Z"
   },
   {
    "duration": 1142,
    "start_time": "2025-02-25T16:29:09.579Z"
   },
   {
    "duration": 161,
    "start_time": "2025-02-25T16:29:10.722Z"
   },
   {
    "duration": 24,
    "start_time": "2025-02-25T16:29:10.885Z"
   },
   {
    "duration": 114,
    "start_time": "2025-02-25T16:29:10.912Z"
   },
   {
    "duration": 65,
    "start_time": "2025-02-25T16:29:11.029Z"
   },
   {
    "duration": 39,
    "start_time": "2025-02-25T16:29:11.097Z"
   },
   {
    "duration": 693,
    "start_time": "2025-02-25T16:29:11.138Z"
   },
   {
    "duration": 157,
    "start_time": "2025-02-25T16:29:11.833Z"
   },
   {
    "duration": 108,
    "start_time": "2025-02-25T16:29:11.992Z"
   },
   {
    "duration": 71,
    "start_time": "2025-02-25T16:29:12.102Z"
   },
   {
    "duration": 171,
    "start_time": "2025-02-25T16:29:12.174Z"
   },
   {
    "duration": 39,
    "start_time": "2025-02-25T16:29:12.347Z"
   },
   {
    "duration": 88,
    "start_time": "2025-02-25T16:29:12.387Z"
   },
   {
    "duration": 42,
    "start_time": "2025-02-25T16:29:12.477Z"
   },
   {
    "duration": 44,
    "start_time": "2025-02-25T16:29:12.520Z"
   },
   {
    "duration": 15,
    "start_time": "2025-02-25T16:29:12.566Z"
   },
   {
    "duration": 13,
    "start_time": "2025-02-25T16:29:12.583Z"
   },
   {
    "duration": 76,
    "start_time": "2025-02-25T16:29:12.598Z"
   },
   {
    "duration": 10,
    "start_time": "2025-02-25T16:29:12.676Z"
   },
   {
    "duration": 279,
    "start_time": "2025-02-25T16:29:12.688Z"
   },
   {
    "duration": 104,
    "start_time": "2025-02-25T16:29:12.969Z"
   },
   {
    "duration": 20,
    "start_time": "2025-02-25T16:29:13.075Z"
   },
   {
    "duration": 2918,
    "start_time": "2025-02-25T16:29:13.096Z"
   },
   {
    "duration": 25,
    "start_time": "2025-02-25T16:29:16.015Z"
   },
   {
    "duration": 29,
    "start_time": "2025-02-25T16:29:16.041Z"
   },
   {
    "duration": 9,
    "start_time": "2025-02-25T16:29:16.071Z"
   },
   {
    "duration": 18,
    "start_time": "2025-02-25T16:29:16.081Z"
   },
   {
    "duration": 6,
    "start_time": "2025-02-25T16:29:16.100Z"
   },
   {
    "duration": 10,
    "start_time": "2025-02-25T16:29:16.107Z"
   },
   {
    "duration": 88,
    "start_time": "2025-02-25T16:29:16.119Z"
   },
   {
    "duration": 57,
    "start_time": "2025-02-25T16:29:16.209Z"
   },
   {
    "duration": 7,
    "start_time": "2025-02-25T16:29:16.268Z"
   },
   {
    "duration": 69,
    "start_time": "2025-02-25T16:29:16.277Z"
   },
   {
    "duration": 78,
    "start_time": "2025-02-25T16:29:16.358Z"
   },
   {
    "duration": 39,
    "start_time": "2025-02-25T16:29:16.439Z"
   },
   {
    "duration": 164,
    "start_time": "2025-02-25T16:29:16.480Z"
   },
   {
    "duration": 116,
    "start_time": "2025-02-25T16:29:16.645Z"
   },
   {
    "duration": 158,
    "start_time": "2025-02-25T16:29:16.763Z"
   },
   {
    "duration": 213,
    "start_time": "2025-02-25T16:29:16.923Z"
   },
   {
    "duration": 655,
    "start_time": "2025-02-25T16:29:17.138Z"
   },
   {
    "duration": 1324,
    "start_time": "2025-02-25T17:03:25.587Z"
   },
   {
    "duration": 3017,
    "start_time": "2025-02-25T17:03:26.913Z"
   },
   {
    "duration": 11,
    "start_time": "2025-02-25T17:03:29.932Z"
   },
   {
    "duration": 11,
    "start_time": "2025-02-25T17:03:29.945Z"
   },
   {
    "duration": 31,
    "start_time": "2025-02-25T17:03:29.958Z"
   },
   {
    "duration": 156,
    "start_time": "2025-02-25T17:03:29.991Z"
   },
   {
    "duration": 7,
    "start_time": "2025-02-25T17:03:30.148Z"
   },
   {
    "duration": 38,
    "start_time": "2025-02-25T17:03:30.157Z"
   },
   {
    "duration": 19,
    "start_time": "2025-02-25T17:03:30.198Z"
   },
   {
    "duration": 47,
    "start_time": "2025-02-25T17:03:30.220Z"
   },
   {
    "duration": 23,
    "start_time": "2025-02-25T17:03:30.269Z"
   },
   {
    "duration": 32,
    "start_time": "2025-02-25T17:03:30.295Z"
   },
   {
    "duration": 16,
    "start_time": "2025-02-25T17:03:30.329Z"
   },
   {
    "duration": 55,
    "start_time": "2025-02-25T17:03:30.348Z"
   },
   {
    "duration": 12,
    "start_time": "2025-02-25T17:03:30.405Z"
   },
   {
    "duration": 13,
    "start_time": "2025-02-25T17:03:30.419Z"
   },
   {
    "duration": 24,
    "start_time": "2025-02-25T17:03:30.434Z"
   },
   {
    "duration": 46,
    "start_time": "2025-02-25T17:03:30.460Z"
   },
   {
    "duration": 11,
    "start_time": "2025-02-25T17:03:30.508Z"
   },
   {
    "duration": 437,
    "start_time": "2025-02-25T17:03:30.521Z"
   },
   {
    "duration": 73,
    "start_time": "2025-02-25T17:03:30.960Z"
   },
   {
    "duration": 200,
    "start_time": "2025-02-25T17:03:31.035Z"
   },
   {
    "duration": 68,
    "start_time": "2025-02-25T17:03:31.237Z"
   },
   {
    "duration": 31,
    "start_time": "2025-02-25T17:03:31.307Z"
   },
   {
    "duration": 1327,
    "start_time": "2025-02-25T17:03:31.341Z"
   },
   {
    "duration": 176,
    "start_time": "2025-02-25T17:03:32.674Z"
   },
   {
    "duration": 37,
    "start_time": "2025-02-25T17:03:32.851Z"
   },
   {
    "duration": 125,
    "start_time": "2025-02-25T17:03:32.891Z"
   },
   {
    "duration": 35,
    "start_time": "2025-02-25T17:03:33.018Z"
   },
   {
    "duration": 29,
    "start_time": "2025-02-25T17:03:33.055Z"
   },
   {
    "duration": 766,
    "start_time": "2025-02-25T17:03:33.091Z"
   },
   {
    "duration": 179,
    "start_time": "2025-02-25T17:03:33.860Z"
   },
   {
    "duration": 123,
    "start_time": "2025-02-25T17:03:34.041Z"
   },
   {
    "duration": 75,
    "start_time": "2025-02-25T17:03:34.166Z"
   },
   {
    "duration": 186,
    "start_time": "2025-02-25T17:03:34.242Z"
   },
   {
    "duration": 56,
    "start_time": "2025-02-25T17:03:34.429Z"
   },
   {
    "duration": 75,
    "start_time": "2025-02-25T17:03:34.490Z"
   },
   {
    "duration": 57,
    "start_time": "2025-02-25T17:03:34.567Z"
   },
   {
    "duration": 19,
    "start_time": "2025-02-25T17:03:34.626Z"
   },
   {
    "duration": 52,
    "start_time": "2025-02-25T17:03:34.646Z"
   },
   {
    "duration": 14,
    "start_time": "2025-02-25T17:03:34.703Z"
   },
   {
    "duration": 43,
    "start_time": "2025-02-25T17:03:34.719Z"
   },
   {
    "duration": 34,
    "start_time": "2025-02-25T17:03:34.763Z"
   },
   {
    "duration": 290,
    "start_time": "2025-02-25T17:03:34.802Z"
   },
   {
    "duration": 104,
    "start_time": "2025-02-25T17:03:35.097Z"
   },
   {
    "duration": 21,
    "start_time": "2025-02-25T17:03:35.203Z"
   },
   {
    "duration": 2992,
    "start_time": "2025-02-25T17:03:35.225Z"
   },
   {
    "duration": 23,
    "start_time": "2025-02-25T17:03:38.219Z"
   },
   {
    "duration": 36,
    "start_time": "2025-02-25T17:03:38.244Z"
   },
   {
    "duration": 13,
    "start_time": "2025-02-25T17:03:38.291Z"
   },
   {
    "duration": 31,
    "start_time": "2025-02-25T17:03:38.305Z"
   },
   {
    "duration": 15,
    "start_time": "2025-02-25T17:03:38.338Z"
   },
   {
    "duration": 42,
    "start_time": "2025-02-25T17:03:38.354Z"
   },
   {
    "duration": 45,
    "start_time": "2025-02-25T17:03:38.397Z"
   },
   {
    "duration": 56,
    "start_time": "2025-02-25T17:03:38.443Z"
   },
   {
    "duration": 8,
    "start_time": "2025-02-25T17:03:38.504Z"
   },
   {
    "duration": 83,
    "start_time": "2025-02-25T17:03:38.513Z"
   },
   {
    "duration": 93,
    "start_time": "2025-02-25T17:03:38.597Z"
   },
   {
    "duration": 29,
    "start_time": "2025-02-25T17:03:38.691Z"
   },
   {
    "duration": 189,
    "start_time": "2025-02-25T17:03:38.721Z"
   },
   {
    "duration": 138,
    "start_time": "2025-02-25T17:03:38.911Z"
   },
   {
    "duration": 192,
    "start_time": "2025-02-25T17:03:39.050Z"
   },
   {
    "duration": 252,
    "start_time": "2025-02-25T17:03:39.244Z"
   },
   {
    "duration": 732,
    "start_time": "2025-02-25T17:03:39.500Z"
   },
   {
    "duration": 156,
    "start_time": "2025-02-26T11:48:38.253Z"
   },
   {
    "duration": 41,
    "start_time": "2025-02-26T11:50:12.576Z"
   },
   {
    "duration": 1291,
    "start_time": "2025-02-26T11:50:21.134Z"
   },
   {
    "duration": 1994,
    "start_time": "2025-02-26T11:50:22.427Z"
   },
   {
    "duration": 11,
    "start_time": "2025-02-26T11:50:24.423Z"
   },
   {
    "duration": 12,
    "start_time": "2025-02-26T11:50:24.471Z"
   },
   {
    "duration": 92,
    "start_time": "2025-02-26T11:50:24.485Z"
   },
   {
    "duration": 197,
    "start_time": "2025-02-26T11:50:24.578Z"
   },
   {
    "duration": 7,
    "start_time": "2025-02-26T11:50:24.777Z"
   },
   {
    "duration": 21,
    "start_time": "2025-02-26T11:50:24.785Z"
   },
   {
    "duration": 65,
    "start_time": "2025-02-26T11:50:24.807Z"
   },
   {
    "duration": 41,
    "start_time": "2025-02-26T11:50:24.875Z"
   },
   {
    "duration": 57,
    "start_time": "2025-02-26T11:50:24.918Z"
   },
   {
    "duration": 27,
    "start_time": "2025-02-26T11:50:24.976Z"
   },
   {
    "duration": 67,
    "start_time": "2025-02-26T11:50:25.004Z"
   },
   {
    "duration": 12,
    "start_time": "2025-02-26T11:50:25.073Z"
   },
   {
    "duration": 7,
    "start_time": "2025-02-26T11:50:25.087Z"
   },
   {
    "duration": 18,
    "start_time": "2025-02-26T11:50:25.095Z"
   },
   {
    "duration": 66,
    "start_time": "2025-02-26T11:50:25.114Z"
   },
   {
    "duration": 26,
    "start_time": "2025-02-26T11:50:25.182Z"
   },
   {
    "duration": 61,
    "start_time": "2025-02-26T11:50:25.210Z"
   },
   {
    "duration": 545,
    "start_time": "2025-02-26T11:50:25.273Z"
   },
   {
    "duration": 40,
    "start_time": "2025-02-26T11:50:25.820Z"
   },
   {
    "duration": 165,
    "start_time": "2025-02-26T11:50:25.871Z"
   },
   {
    "duration": 51,
    "start_time": "2025-02-26T11:50:26.037Z"
   },
   {
    "duration": 18,
    "start_time": "2025-02-26T11:50:26.090Z"
   },
   {
    "duration": 1100,
    "start_time": "2025-02-26T11:50:26.109Z"
   },
   {
    "duration": 145,
    "start_time": "2025-02-26T11:50:27.210Z"
   },
   {
    "duration": 30,
    "start_time": "2025-02-26T11:50:27.356Z"
   },
   {
    "duration": 106,
    "start_time": "2025-02-26T11:50:27.389Z"
   },
   {
    "duration": 32,
    "start_time": "2025-02-26T11:50:27.496Z"
   },
   {
    "duration": 51,
    "start_time": "2025-02-26T11:50:27.529Z"
   },
   {
    "duration": 637,
    "start_time": "2025-02-26T11:50:27.582Z"
   },
   {
    "duration": 148,
    "start_time": "2025-02-26T11:50:28.220Z"
   },
   {
    "duration": 103,
    "start_time": "2025-02-26T11:50:28.371Z"
   },
   {
    "duration": 50,
    "start_time": "2025-02-26T11:50:28.475Z"
   },
   {
    "duration": 174,
    "start_time": "2025-02-26T11:50:28.526Z"
   },
   {
    "duration": 40,
    "start_time": "2025-02-26T11:50:28.702Z"
   },
   {
    "duration": 135,
    "start_time": "2025-02-26T11:50:28.743Z"
   },
   {
    "duration": 97,
    "start_time": "2025-02-26T11:50:28.880Z"
   },
   {
    "duration": 18,
    "start_time": "2025-02-26T11:50:28.978Z"
   },
   {
    "duration": 12,
    "start_time": "2025-02-26T11:50:28.998Z"
   },
   {
    "duration": 66,
    "start_time": "2025-02-26T11:50:29.012Z"
   },
   {
    "duration": 98,
    "start_time": "2025-02-26T11:50:29.080Z"
   },
   {
    "duration": 9,
    "start_time": "2025-02-26T11:50:29.180Z"
   },
   {
    "duration": 481,
    "start_time": "2025-02-26T11:50:29.190Z"
   },
   {
    "duration": 198,
    "start_time": "2025-02-26T11:50:29.673Z"
   },
   {
    "duration": 18,
    "start_time": "2025-02-26T11:50:29.873Z"
   },
   {
    "duration": 2638,
    "start_time": "2025-02-26T11:50:29.893Z"
   },
   {
    "duration": 23,
    "start_time": "2025-02-26T11:50:32.533Z"
   },
   {
    "duration": 58,
    "start_time": "2025-02-26T11:50:32.571Z"
   },
   {
    "duration": 28,
    "start_time": "2025-02-26T11:50:32.631Z"
   },
   {
    "duration": 21,
    "start_time": "2025-02-26T11:50:32.661Z"
   },
   {
    "duration": 6,
    "start_time": "2025-02-26T11:50:32.683Z"
   },
   {
    "duration": 45,
    "start_time": "2025-02-26T11:50:32.691Z"
   },
   {
    "duration": 44,
    "start_time": "2025-02-26T11:50:32.738Z"
   },
   {
    "duration": 26,
    "start_time": "2025-02-26T11:50:32.784Z"
   },
   {
    "duration": 21,
    "start_time": "2025-02-26T11:50:32.812Z"
   },
   {
    "duration": 87,
    "start_time": "2025-02-26T11:50:32.834Z"
   },
   {
    "duration": 83,
    "start_time": "2025-02-26T11:50:32.923Z"
   },
   {
    "duration": 22,
    "start_time": "2025-02-26T11:50:33.007Z"
   },
   {
    "duration": 158,
    "start_time": "2025-02-26T11:50:33.031Z"
   },
   {
    "duration": 110,
    "start_time": "2025-02-26T11:50:33.190Z"
   },
   {
    "duration": 142,
    "start_time": "2025-02-26T11:50:33.302Z"
   },
   {
    "duration": 202,
    "start_time": "2025-02-26T11:50:33.446Z"
   },
   {
    "duration": 638,
    "start_time": "2025-02-26T11:50:33.650Z"
   },
   {
    "duration": 187,
    "start_time": "2025-02-26T11:51:07.012Z"
   },
   {
    "duration": 189,
    "start_time": "2025-02-26T11:51:14.074Z"
   },
   {
    "duration": 203,
    "start_time": "2025-02-26T11:51:30.512Z"
   },
   {
    "duration": 190,
    "start_time": "2025-02-26T11:51:40.034Z"
   },
   {
    "duration": 192,
    "start_time": "2025-02-26T11:51:57.293Z"
   },
   {
    "duration": 102,
    "start_time": "2025-02-26T11:59:57.738Z"
   },
   {
    "duration": 12,
    "start_time": "2025-02-26T12:00:21.326Z"
   },
   {
    "duration": 12,
    "start_time": "2025-02-26T12:02:06.587Z"
   },
   {
    "duration": 14,
    "start_time": "2025-02-26T12:03:08.899Z"
   },
   {
    "duration": 3,
    "start_time": "2025-02-26T12:04:34.730Z"
   },
   {
    "duration": 1192,
    "start_time": "2025-02-26T12:05:35.667Z"
   },
   {
    "duration": 2300,
    "start_time": "2025-02-26T12:05:36.861Z"
   },
   {
    "duration": 10,
    "start_time": "2025-02-26T12:05:39.163Z"
   },
   {
    "duration": 28,
    "start_time": "2025-02-26T12:05:39.175Z"
   },
   {
    "duration": 28,
    "start_time": "2025-02-26T12:05:39.204Z"
   },
   {
    "duration": 96,
    "start_time": "2025-02-26T12:05:39.234Z"
   },
   {
    "duration": 7,
    "start_time": "2025-02-26T12:05:39.331Z"
   },
   {
    "duration": 34,
    "start_time": "2025-02-26T12:05:39.339Z"
   },
   {
    "duration": 8,
    "start_time": "2025-02-26T12:05:39.374Z"
   },
   {
    "duration": 60,
    "start_time": "2025-02-26T12:05:39.384Z"
   },
   {
    "duration": 7,
    "start_time": "2025-02-26T12:05:39.446Z"
   },
   {
    "duration": 34,
    "start_time": "2025-02-26T12:05:39.455Z"
   },
   {
    "duration": 9,
    "start_time": "2025-02-26T12:05:39.491Z"
   },
   {
    "duration": 13,
    "start_time": "2025-02-26T12:05:39.501Z"
   },
   {
    "duration": 6,
    "start_time": "2025-02-26T12:05:39.516Z"
   },
   {
    "duration": 21,
    "start_time": "2025-02-26T12:05:39.524Z"
   },
   {
    "duration": 34,
    "start_time": "2025-02-26T12:05:39.546Z"
   },
   {
    "duration": 25,
    "start_time": "2025-02-26T12:05:39.581Z"
   },
   {
    "duration": 8,
    "start_time": "2025-02-26T12:05:39.608Z"
   },
   {
    "duration": 379,
    "start_time": "2025-02-26T12:05:39.618Z"
   },
   {
    "duration": 41,
    "start_time": "2025-02-26T12:05:39.999Z"
   },
   {
    "duration": 171,
    "start_time": "2025-02-26T12:05:40.042Z"
   },
   {
    "duration": 55,
    "start_time": "2025-02-26T12:05:40.215Z"
   },
   {
    "duration": 18,
    "start_time": "2025-02-26T12:05:40.272Z"
   },
   {
    "duration": 1106,
    "start_time": "2025-02-26T12:05:40.292Z"
   },
   {
    "duration": 152,
    "start_time": "2025-02-26T12:05:41.400Z"
   },
   {
    "duration": 31,
    "start_time": "2025-02-26T12:05:41.553Z"
   },
   {
    "duration": 102,
    "start_time": "2025-02-26T12:05:41.587Z"
   },
   {
    "duration": 31,
    "start_time": "2025-02-26T12:05:41.691Z"
   },
   {
    "duration": 38,
    "start_time": "2025-02-26T12:05:41.723Z"
   },
   {
    "duration": 630,
    "start_time": "2025-02-26T12:05:41.763Z"
   },
   {
    "duration": 148,
    "start_time": "2025-02-26T12:05:42.394Z"
   },
   {
    "duration": 100,
    "start_time": "2025-02-26T12:05:42.544Z"
   },
   {
    "duration": 68,
    "start_time": "2025-02-26T12:05:42.646Z"
   },
   {
    "duration": 159,
    "start_time": "2025-02-26T12:05:42.716Z"
   },
   {
    "duration": 32,
    "start_time": "2025-02-26T12:05:42.876Z"
   },
   {
    "duration": 77,
    "start_time": "2025-02-26T12:05:42.910Z"
   },
   {
    "duration": 40,
    "start_time": "2025-02-26T12:05:42.989Z"
   },
   {
    "duration": 39,
    "start_time": "2025-02-26T12:05:43.031Z"
   },
   {
    "duration": 13,
    "start_time": "2025-02-26T12:05:43.072Z"
   },
   {
    "duration": 12,
    "start_time": "2025-02-26T12:05:43.087Z"
   },
   {
    "duration": 43,
    "start_time": "2025-02-26T12:05:43.101Z"
   },
   {
    "duration": 25,
    "start_time": "2025-02-26T12:05:43.146Z"
   },
   {
    "duration": 218,
    "start_time": "2025-02-26T12:05:43.173Z"
   },
   {
    "duration": 109,
    "start_time": "2025-02-26T12:05:43.393Z"
   },
   {
    "duration": 22,
    "start_time": "2025-02-26T12:05:43.503Z"
   },
   {
    "duration": 2430,
    "start_time": "2025-02-26T12:05:43.527Z"
   },
   {
    "duration": 27,
    "start_time": "2025-02-26T12:05:45.959Z"
   },
   {
    "duration": 13,
    "start_time": "2025-02-26T12:05:45.988Z"
   },
   {
    "duration": 8,
    "start_time": "2025-02-26T12:05:46.003Z"
   },
   {
    "duration": 31,
    "start_time": "2025-02-26T12:05:46.012Z"
   },
   {
    "duration": 8,
    "start_time": "2025-02-26T12:05:46.045Z"
   },
   {
    "duration": 26,
    "start_time": "2025-02-26T12:05:46.054Z"
   },
   {
    "duration": 65,
    "start_time": "2025-02-26T12:05:46.082Z"
   },
   {
    "duration": 26,
    "start_time": "2025-02-26T12:05:46.149Z"
   },
   {
    "duration": 8,
    "start_time": "2025-02-26T12:05:46.176Z"
   },
   {
    "duration": 64,
    "start_time": "2025-02-26T12:05:46.185Z"
   },
   {
    "duration": 78,
    "start_time": "2025-02-26T12:05:46.251Z"
   },
   {
    "duration": 23,
    "start_time": "2025-02-26T12:05:46.330Z"
   },
   {
    "duration": 160,
    "start_time": "2025-02-26T12:05:46.354Z"
   },
   {
    "duration": 110,
    "start_time": "2025-02-26T12:05:46.515Z"
   },
   {
    "duration": 23,
    "start_time": "2025-02-26T12:05:46.626Z"
   },
   {
    "duration": 156,
    "start_time": "2025-02-26T12:05:46.650Z"
   },
   {
    "duration": 201,
    "start_time": "2025-02-26T12:05:46.807Z"
   },
   {
    "duration": 707,
    "start_time": "2025-02-26T12:05:47.010Z"
   },
   {
    "duration": 129,
    "start_time": "2025-02-26T12:10:33.968Z"
   },
   {
    "duration": 95,
    "start_time": "2025-02-26T12:10:48.303Z"
   },
   {
    "duration": 13,
    "start_time": "2025-02-26T12:11:00.636Z"
   },
   {
    "duration": 7,
    "start_time": "2025-02-26T12:11:39.632Z"
   },
   {
    "duration": 122,
    "start_time": "2025-02-26T12:12:28.566Z"
   },
   {
    "duration": 29,
    "start_time": "2025-02-26T12:12:45.771Z"
   },
   {
    "duration": 142,
    "start_time": "2025-02-26T12:14:14.594Z"
   },
   {
    "duration": 19,
    "start_time": "2025-02-26T12:14:23.317Z"
   },
   {
    "duration": 86,
    "start_time": "2025-02-26T12:15:35.705Z"
   },
   {
    "duration": 1088,
    "start_time": "2025-02-26T12:19:09.384Z"
   },
   {
    "duration": 2506,
    "start_time": "2025-02-26T12:19:10.474Z"
   },
   {
    "duration": 11,
    "start_time": "2025-02-26T12:19:12.981Z"
   },
   {
    "duration": 13,
    "start_time": "2025-02-26T12:19:12.994Z"
   },
   {
    "duration": 44,
    "start_time": "2025-02-26T12:19:13.009Z"
   },
   {
    "duration": 93,
    "start_time": "2025-02-26T12:19:13.054Z"
   },
   {
    "duration": 7,
    "start_time": "2025-02-26T12:19:13.148Z"
   },
   {
    "duration": 29,
    "start_time": "2025-02-26T12:19:13.157Z"
   },
   {
    "duration": 8,
    "start_time": "2025-02-26T12:19:13.188Z"
   },
   {
    "duration": 38,
    "start_time": "2025-02-26T12:19:13.199Z"
   },
   {
    "duration": 7,
    "start_time": "2025-02-26T12:19:13.238Z"
   },
   {
    "duration": 22,
    "start_time": "2025-02-26T12:19:13.271Z"
   },
   {
    "duration": 9,
    "start_time": "2025-02-26T12:19:13.294Z"
   },
   {
    "duration": 36,
    "start_time": "2025-02-26T12:19:13.305Z"
   },
   {
    "duration": 6,
    "start_time": "2025-02-26T12:19:13.342Z"
   },
   {
    "duration": 21,
    "start_time": "2025-02-26T12:19:13.349Z"
   },
   {
    "duration": 21,
    "start_time": "2025-02-26T12:19:13.372Z"
   },
   {
    "duration": 26,
    "start_time": "2025-02-26T12:19:13.394Z"
   },
   {
    "duration": 9,
    "start_time": "2025-02-26T12:19:13.421Z"
   },
   {
    "duration": 368,
    "start_time": "2025-02-26T12:19:13.431Z"
   },
   {
    "duration": 39,
    "start_time": "2025-02-26T12:19:13.801Z"
   },
   {
    "duration": 175,
    "start_time": "2025-02-26T12:19:13.841Z"
   },
   {
    "duration": 55,
    "start_time": "2025-02-26T12:19:14.018Z"
   },
   {
    "duration": 35,
    "start_time": "2025-02-26T12:19:14.075Z"
   },
   {
    "duration": 1075,
    "start_time": "2025-02-26T12:19:14.111Z"
   },
   {
    "duration": 157,
    "start_time": "2025-02-26T12:19:15.187Z"
   },
   {
    "duration": 31,
    "start_time": "2025-02-26T12:19:15.346Z"
   },
   {
    "duration": 124,
    "start_time": "2025-02-26T12:19:15.380Z"
   },
   {
    "duration": 32,
    "start_time": "2025-02-26T12:19:15.505Z"
   },
   {
    "duration": 12,
    "start_time": "2025-02-26T12:19:15.538Z"
   },
   {
    "duration": 636,
    "start_time": "2025-02-26T12:19:15.551Z"
   },
   {
    "duration": 144,
    "start_time": "2025-02-26T12:19:16.188Z"
   },
   {
    "duration": 100,
    "start_time": "2025-02-26T12:19:16.334Z"
   },
   {
    "duration": 61,
    "start_time": "2025-02-26T12:19:16.436Z"
   },
   {
    "duration": 150,
    "start_time": "2025-02-26T12:19:16.499Z"
   },
   {
    "duration": 37,
    "start_time": "2025-02-26T12:19:16.650Z"
   },
   {
    "duration": 83,
    "start_time": "2025-02-26T12:19:16.688Z"
   },
   {
    "duration": 44,
    "start_time": "2025-02-26T12:19:16.773Z"
   },
   {
    "duration": 18,
    "start_time": "2025-02-26T12:19:16.819Z"
   },
   {
    "duration": 37,
    "start_time": "2025-02-26T12:19:16.839Z"
   },
   {
    "duration": 16,
    "start_time": "2025-02-26T12:19:16.877Z"
   },
   {
    "duration": 43,
    "start_time": "2025-02-26T12:19:16.895Z"
   },
   {
    "duration": 17,
    "start_time": "2025-02-26T12:19:16.940Z"
   },
   {
    "duration": 212,
    "start_time": "2025-02-26T12:19:16.959Z"
   },
   {
    "duration": 103,
    "start_time": "2025-02-26T12:19:17.173Z"
   },
   {
    "duration": 18,
    "start_time": "2025-02-26T12:19:17.278Z"
   },
   {
    "duration": 2639,
    "start_time": "2025-02-26T12:19:17.297Z"
   },
   {
    "duration": 21,
    "start_time": "2025-02-26T12:19:19.938Z"
   },
   {
    "duration": 14,
    "start_time": "2025-02-26T12:19:19.970Z"
   },
   {
    "duration": 8,
    "start_time": "2025-02-26T12:19:19.985Z"
   },
   {
    "duration": 17,
    "start_time": "2025-02-26T12:19:19.994Z"
   },
   {
    "duration": 13,
    "start_time": "2025-02-26T12:19:20.012Z"
   },
   {
    "duration": 52,
    "start_time": "2025-02-26T12:19:20.026Z"
   },
   {
    "duration": 49,
    "start_time": "2025-02-26T12:19:20.080Z"
   },
   {
    "duration": 26,
    "start_time": "2025-02-26T12:19:20.131Z"
   },
   {
    "duration": 26,
    "start_time": "2025-02-26T12:19:20.170Z"
   },
   {
    "duration": 65,
    "start_time": "2025-02-26T12:19:20.198Z"
   },
   {
    "duration": 71,
    "start_time": "2025-02-26T12:19:20.264Z"
   },
   {
    "duration": 23,
    "start_time": "2025-02-26T12:19:20.337Z"
   },
   {
    "duration": 156,
    "start_time": "2025-02-26T12:19:20.361Z"
   },
   {
    "duration": 103,
    "start_time": "2025-02-26T12:19:20.519Z"
   },
   {
    "duration": 23,
    "start_time": "2025-02-26T12:19:20.623Z"
   },
   {
    "duration": 162,
    "start_time": "2025-02-26T12:19:20.647Z"
   },
   {
    "duration": 0,
    "start_time": "2025-02-26T12:19:20.811Z"
   },
   {
    "duration": 0,
    "start_time": "2025-02-26T12:19:20.812Z"
   },
   {
    "duration": 0,
    "start_time": "2025-02-26T12:19:20.814Z"
   },
   {
    "duration": 0,
    "start_time": "2025-02-26T12:19:20.815Z"
   },
   {
    "duration": 0,
    "start_time": "2025-02-26T12:19:20.816Z"
   },
   {
    "duration": 0,
    "start_time": "2025-02-26T12:19:20.817Z"
   },
   {
    "duration": 0,
    "start_time": "2025-02-26T12:19:20.818Z"
   },
   {
    "duration": 0,
    "start_time": "2025-02-26T12:19:20.819Z"
   },
   {
    "duration": 0,
    "start_time": "2025-02-26T12:19:20.820Z"
   },
   {
    "duration": 0,
    "start_time": "2025-02-26T12:19:20.821Z"
   },
   {
    "duration": 1116,
    "start_time": "2025-02-26T12:19:48.087Z"
   },
   {
    "duration": 1827,
    "start_time": "2025-02-26T12:19:49.205Z"
   },
   {
    "duration": 10,
    "start_time": "2025-02-26T12:19:51.034Z"
   },
   {
    "duration": 30,
    "start_time": "2025-02-26T12:19:51.046Z"
   },
   {
    "duration": 48,
    "start_time": "2025-02-26T12:19:51.077Z"
   },
   {
    "duration": 112,
    "start_time": "2025-02-26T12:19:51.127Z"
   },
   {
    "duration": 7,
    "start_time": "2025-02-26T12:19:51.241Z"
   },
   {
    "duration": 37,
    "start_time": "2025-02-26T12:19:51.250Z"
   },
   {
    "duration": 16,
    "start_time": "2025-02-26T12:19:51.289Z"
   },
   {
    "duration": 71,
    "start_time": "2025-02-26T12:19:51.308Z"
   },
   {
    "duration": 7,
    "start_time": "2025-02-26T12:19:51.380Z"
   },
   {
    "duration": 72,
    "start_time": "2025-02-26T12:19:51.389Z"
   },
   {
    "duration": 11,
    "start_time": "2025-02-26T12:19:51.463Z"
   },
   {
    "duration": 50,
    "start_time": "2025-02-26T12:19:51.476Z"
   },
   {
    "duration": 32,
    "start_time": "2025-02-26T12:19:51.527Z"
   },
   {
    "duration": 28,
    "start_time": "2025-02-26T12:19:51.560Z"
   },
   {
    "duration": 26,
    "start_time": "2025-02-26T12:19:51.589Z"
   },
   {
    "duration": 25,
    "start_time": "2025-02-26T12:19:51.616Z"
   },
   {
    "duration": 37,
    "start_time": "2025-02-26T12:19:51.642Z"
   },
   {
    "duration": 396,
    "start_time": "2025-02-26T12:19:51.680Z"
   },
   {
    "duration": 41,
    "start_time": "2025-02-26T12:19:52.078Z"
   },
   {
    "duration": 190,
    "start_time": "2025-02-26T12:19:52.121Z"
   },
   {
    "duration": 59,
    "start_time": "2025-02-26T12:19:52.313Z"
   },
   {
    "duration": 17,
    "start_time": "2025-02-26T12:19:52.374Z"
   },
   {
    "duration": 1084,
    "start_time": "2025-02-26T12:19:52.393Z"
   },
   {
    "duration": 148,
    "start_time": "2025-02-26T12:19:53.479Z"
   },
   {
    "duration": 21,
    "start_time": "2025-02-26T12:19:53.629Z"
   },
   {
    "duration": 126,
    "start_time": "2025-02-26T12:19:53.654Z"
   },
   {
    "duration": 30,
    "start_time": "2025-02-26T12:19:53.782Z"
   },
   {
    "duration": 11,
    "start_time": "2025-02-26T12:19:53.814Z"
   },
   {
    "duration": 653,
    "start_time": "2025-02-26T12:19:53.826Z"
   },
   {
    "duration": 145,
    "start_time": "2025-02-26T12:19:54.480Z"
   },
   {
    "duration": 98,
    "start_time": "2025-02-26T12:19:54.627Z"
   },
   {
    "duration": 66,
    "start_time": "2025-02-26T12:19:54.726Z"
   },
   {
    "duration": 150,
    "start_time": "2025-02-26T12:19:54.794Z"
   },
   {
    "duration": 40,
    "start_time": "2025-02-26T12:19:54.946Z"
   },
   {
    "duration": 64,
    "start_time": "2025-02-26T12:19:54.988Z"
   },
   {
    "duration": 54,
    "start_time": "2025-02-26T12:19:55.054Z"
   },
   {
    "duration": 29,
    "start_time": "2025-02-26T12:19:55.110Z"
   },
   {
    "duration": 29,
    "start_time": "2025-02-26T12:19:55.141Z"
   },
   {
    "duration": 13,
    "start_time": "2025-02-26T12:19:55.172Z"
   },
   {
    "duration": 61,
    "start_time": "2025-02-26T12:19:55.187Z"
   },
   {
    "duration": 8,
    "start_time": "2025-02-26T12:19:55.250Z"
   },
   {
    "duration": 249,
    "start_time": "2025-02-26T12:19:55.259Z"
   },
   {
    "duration": 105,
    "start_time": "2025-02-26T12:19:55.509Z"
   },
   {
    "duration": 18,
    "start_time": "2025-02-26T12:19:55.616Z"
   },
   {
    "duration": 2549,
    "start_time": "2025-02-26T12:19:55.636Z"
   },
   {
    "duration": 20,
    "start_time": "2025-02-26T12:19:58.187Z"
   },
   {
    "duration": 14,
    "start_time": "2025-02-26T12:19:58.208Z"
   },
   {
    "duration": 7,
    "start_time": "2025-02-26T12:19:58.224Z"
   },
   {
    "duration": 39,
    "start_time": "2025-02-26T12:19:58.232Z"
   },
   {
    "duration": 6,
    "start_time": "2025-02-26T12:19:58.272Z"
   },
   {
    "duration": 21,
    "start_time": "2025-02-26T12:19:58.279Z"
   },
   {
    "duration": 55,
    "start_time": "2025-02-26T12:19:58.301Z"
   },
   {
    "duration": 26,
    "start_time": "2025-02-26T12:19:58.357Z"
   },
   {
    "duration": 13,
    "start_time": "2025-02-26T12:19:58.385Z"
   },
   {
    "duration": 88,
    "start_time": "2025-02-26T12:19:58.399Z"
   },
   {
    "duration": 70,
    "start_time": "2025-02-26T12:19:58.489Z"
   },
   {
    "duration": 22,
    "start_time": "2025-02-26T12:19:58.569Z"
   },
   {
    "duration": 168,
    "start_time": "2025-02-26T12:19:58.592Z"
   },
   {
    "duration": 110,
    "start_time": "2025-02-26T12:19:58.761Z"
   },
   {
    "duration": 20,
    "start_time": "2025-02-26T12:19:58.873Z"
   },
   {
    "duration": 101,
    "start_time": "2025-02-26T12:19:58.895Z"
   },
   {
    "duration": 0,
    "start_time": "2025-02-26T12:19:58.997Z"
   },
   {
    "duration": 0,
    "start_time": "2025-02-26T12:19:58.998Z"
   },
   {
    "duration": 0,
    "start_time": "2025-02-26T12:19:58.999Z"
   },
   {
    "duration": 0,
    "start_time": "2025-02-26T12:19:59.000Z"
   },
   {
    "duration": 0,
    "start_time": "2025-02-26T12:19:59.001Z"
   },
   {
    "duration": 0,
    "start_time": "2025-02-26T12:19:59.002Z"
   },
   {
    "duration": 0,
    "start_time": "2025-02-26T12:19:59.003Z"
   },
   {
    "duration": 0,
    "start_time": "2025-02-26T12:19:59.004Z"
   },
   {
    "duration": 0,
    "start_time": "2025-02-26T12:19:59.005Z"
   },
   {
    "duration": 0,
    "start_time": "2025-02-26T12:19:59.006Z"
   },
   {
    "duration": 274,
    "start_time": "2025-02-26T12:21:02.291Z"
   },
   {
    "duration": 1156,
    "start_time": "2025-02-26T12:21:13.226Z"
   },
   {
    "duration": 2003,
    "start_time": "2025-02-26T12:21:14.384Z"
   },
   {
    "duration": 12,
    "start_time": "2025-02-26T12:21:16.389Z"
   },
   {
    "duration": 79,
    "start_time": "2025-02-26T12:21:16.403Z"
   },
   {
    "duration": 24,
    "start_time": "2025-02-26T12:21:16.484Z"
   },
   {
    "duration": 126,
    "start_time": "2025-02-26T12:21:16.510Z"
   },
   {
    "duration": 8,
    "start_time": "2025-02-26T12:21:16.638Z"
   },
   {
    "duration": 60,
    "start_time": "2025-02-26T12:21:16.648Z"
   },
   {
    "duration": 24,
    "start_time": "2025-02-26T12:21:16.710Z"
   },
   {
    "duration": 58,
    "start_time": "2025-02-26T12:21:16.738Z"
   },
   {
    "duration": 8,
    "start_time": "2025-02-26T12:21:16.798Z"
   },
   {
    "duration": 44,
    "start_time": "2025-02-26T12:21:16.808Z"
   },
   {
    "duration": 15,
    "start_time": "2025-02-26T12:21:16.854Z"
   },
   {
    "duration": 27,
    "start_time": "2025-02-26T12:21:16.871Z"
   },
   {
    "duration": 7,
    "start_time": "2025-02-26T12:21:16.900Z"
   },
   {
    "duration": 24,
    "start_time": "2025-02-26T12:21:16.908Z"
   },
   {
    "duration": 15,
    "start_time": "2025-02-26T12:21:16.934Z"
   },
   {
    "duration": 37,
    "start_time": "2025-02-26T12:21:16.951Z"
   },
   {
    "duration": 9,
    "start_time": "2025-02-26T12:21:16.990Z"
   },
   {
    "duration": 379,
    "start_time": "2025-02-26T12:21:17.001Z"
   },
   {
    "duration": 41,
    "start_time": "2025-02-26T12:21:17.381Z"
   },
   {
    "duration": 247,
    "start_time": "2025-02-26T12:21:17.423Z"
   },
   {
    "duration": 42,
    "start_time": "2025-02-26T12:21:17.671Z"
   },
   {
    "duration": 17,
    "start_time": "2025-02-26T12:21:17.715Z"
   },
   {
    "duration": 1127,
    "start_time": "2025-02-26T12:21:17.734Z"
   },
   {
    "duration": 149,
    "start_time": "2025-02-26T12:21:18.862Z"
   },
   {
    "duration": 24,
    "start_time": "2025-02-26T12:21:19.012Z"
   },
   {
    "duration": 130,
    "start_time": "2025-02-26T12:21:19.040Z"
   },
   {
    "duration": 32,
    "start_time": "2025-02-26T12:21:19.172Z"
   },
   {
    "duration": 11,
    "start_time": "2025-02-26T12:21:19.206Z"
   },
   {
    "duration": 652,
    "start_time": "2025-02-26T12:21:19.219Z"
   },
   {
    "duration": 148,
    "start_time": "2025-02-26T12:21:19.873Z"
   },
   {
    "duration": 101,
    "start_time": "2025-02-26T12:21:20.023Z"
   },
   {
    "duration": 66,
    "start_time": "2025-02-26T12:21:20.126Z"
   },
   {
    "duration": 149,
    "start_time": "2025-02-26T12:21:20.193Z"
   },
   {
    "duration": 46,
    "start_time": "2025-02-26T12:21:20.344Z"
   },
   {
    "duration": 66,
    "start_time": "2025-02-26T12:21:20.392Z"
   },
   {
    "duration": 71,
    "start_time": "2025-02-26T12:21:20.471Z"
   },
   {
    "duration": 24,
    "start_time": "2025-02-26T12:21:20.544Z"
   },
   {
    "duration": 21,
    "start_time": "2025-02-26T12:21:20.570Z"
   },
   {
    "duration": 55,
    "start_time": "2025-02-26T12:21:20.592Z"
   },
   {
    "duration": 95,
    "start_time": "2025-02-26T12:21:20.649Z"
   },
   {
    "duration": 38,
    "start_time": "2025-02-26T12:21:20.745Z"
   },
   {
    "duration": 251,
    "start_time": "2025-02-26T12:21:20.785Z"
   },
   {
    "duration": 105,
    "start_time": "2025-02-26T12:21:21.038Z"
   },
   {
    "duration": 17,
    "start_time": "2025-02-26T12:21:21.145Z"
   },
   {
    "duration": 2631,
    "start_time": "2025-02-26T12:21:21.170Z"
   },
   {
    "duration": 20,
    "start_time": "2025-02-26T12:21:23.803Z"
   },
   {
    "duration": 18,
    "start_time": "2025-02-26T12:21:23.824Z"
   },
   {
    "duration": 7,
    "start_time": "2025-02-26T12:21:23.844Z"
   },
   {
    "duration": 33,
    "start_time": "2025-02-26T12:21:23.852Z"
   },
   {
    "duration": 6,
    "start_time": "2025-02-26T12:21:23.886Z"
   },
   {
    "duration": 34,
    "start_time": "2025-02-26T12:21:23.893Z"
   },
   {
    "duration": 61,
    "start_time": "2025-02-26T12:21:23.928Z"
   },
   {
    "duration": 26,
    "start_time": "2025-02-26T12:21:23.991Z"
   },
   {
    "duration": 7,
    "start_time": "2025-02-26T12:21:24.018Z"
   },
   {
    "duration": 77,
    "start_time": "2025-02-26T12:21:24.027Z"
   },
   {
    "duration": 81,
    "start_time": "2025-02-26T12:21:24.105Z"
   },
   {
    "duration": 23,
    "start_time": "2025-02-26T12:21:24.188Z"
   },
   {
    "duration": 163,
    "start_time": "2025-02-26T12:21:24.212Z"
   },
   {
    "duration": 112,
    "start_time": "2025-02-26T12:21:24.377Z"
   },
   {
    "duration": 21,
    "start_time": "2025-02-26T12:21:24.491Z"
   },
   {
    "duration": 292,
    "start_time": "2025-02-26T12:21:24.514Z"
   },
   {
    "duration": 7,
    "start_time": "2025-02-26T12:21:24.808Z"
   },
   {
    "duration": 31,
    "start_time": "2025-02-26T12:21:24.816Z"
   },
   {
    "duration": 31,
    "start_time": "2025-02-26T12:21:24.849Z"
   },
   {
    "duration": 66,
    "start_time": "2025-02-26T12:21:24.881Z"
   },
   {
    "duration": 31,
    "start_time": "2025-02-26T12:21:24.949Z"
   },
   {
    "duration": 16,
    "start_time": "2025-02-26T12:21:24.981Z"
   },
   {
    "duration": 14,
    "start_time": "2025-02-26T12:21:24.998Z"
   },
   {
    "duration": 172,
    "start_time": "2025-02-26T12:21:25.013Z"
   },
   {
    "duration": 208,
    "start_time": "2025-02-26T12:21:25.187Z"
   },
   {
    "duration": 691,
    "start_time": "2025-02-26T12:21:25.397Z"
   },
   {
    "duration": 21,
    "start_time": "2025-02-26T12:24:43.391Z"
   },
   {
    "duration": 226,
    "start_time": "2025-02-26T12:24:44.056Z"
   },
   {
    "duration": 8,
    "start_time": "2025-02-26T12:24:44.659Z"
   },
   {
    "duration": 26,
    "start_time": "2025-02-26T12:24:45.726Z"
   },
   {
    "duration": 19,
    "start_time": "2025-02-26T12:24:47.780Z"
   },
   {
    "duration": 68,
    "start_time": "2025-02-26T12:24:48.648Z"
   },
   {
    "duration": 15,
    "start_time": "2025-02-26T12:24:52.387Z"
   },
   {
    "duration": 14,
    "start_time": "2025-02-26T12:24:53.044Z"
   },
   {
    "duration": 14,
    "start_time": "2025-02-26T12:24:54.375Z"
   },
   {
    "duration": 62,
    "start_time": "2025-02-26T12:27:24.199Z"
   },
   {
    "duration": 12,
    "start_time": "2025-02-26T12:27:43.492Z"
   },
   {
    "duration": 15,
    "start_time": "2025-02-26T12:27:43.867Z"
   },
   {
    "duration": 85,
    "start_time": "2025-02-26T12:43:25.123Z"
   },
   {
    "duration": 1138,
    "start_time": "2025-02-26T12:51:39.125Z"
   },
   {
    "duration": 2430,
    "start_time": "2025-02-26T12:51:40.265Z"
   },
   {
    "duration": 11,
    "start_time": "2025-02-26T12:51:42.697Z"
   },
   {
    "duration": 65,
    "start_time": "2025-02-26T12:51:42.710Z"
   },
   {
    "duration": 33,
    "start_time": "2025-02-26T12:51:42.777Z"
   },
   {
    "duration": 98,
    "start_time": "2025-02-26T12:51:42.811Z"
   },
   {
    "duration": 7,
    "start_time": "2025-02-26T12:51:42.910Z"
   },
   {
    "duration": 27,
    "start_time": "2025-02-26T12:51:42.919Z"
   },
   {
    "duration": 8,
    "start_time": "2025-02-26T12:51:42.947Z"
   },
   {
    "duration": 37,
    "start_time": "2025-02-26T12:51:42.970Z"
   },
   {
    "duration": 7,
    "start_time": "2025-02-26T12:51:43.008Z"
   },
   {
    "duration": 40,
    "start_time": "2025-02-26T12:51:43.017Z"
   },
   {
    "duration": 27,
    "start_time": "2025-02-26T12:51:43.058Z"
   },
   {
    "duration": 37,
    "start_time": "2025-02-26T12:51:43.086Z"
   },
   {
    "duration": 6,
    "start_time": "2025-02-26T12:51:43.125Z"
   },
   {
    "duration": 9,
    "start_time": "2025-02-26T12:51:43.132Z"
   },
   {
    "duration": 21,
    "start_time": "2025-02-26T12:51:43.142Z"
   },
   {
    "duration": 36,
    "start_time": "2025-02-26T12:51:43.164Z"
   },
   {
    "duration": 10,
    "start_time": "2025-02-26T12:51:43.202Z"
   },
   {
    "duration": 372,
    "start_time": "2025-02-26T12:51:43.213Z"
   },
   {
    "duration": 42,
    "start_time": "2025-02-26T12:51:43.586Z"
   },
   {
    "duration": 179,
    "start_time": "2025-02-26T12:51:43.630Z"
   },
   {
    "duration": 45,
    "start_time": "2025-02-26T12:51:43.810Z"
   },
   {
    "duration": 18,
    "start_time": "2025-02-26T12:51:43.870Z"
   },
   {
    "duration": 1101,
    "start_time": "2025-02-26T12:51:43.890Z"
   },
   {
    "duration": 149,
    "start_time": "2025-02-26T12:51:44.993Z"
   },
   {
    "duration": 31,
    "start_time": "2025-02-26T12:51:45.144Z"
   },
   {
    "duration": 101,
    "start_time": "2025-02-26T12:51:45.179Z"
   },
   {
    "duration": 49,
    "start_time": "2025-02-26T12:51:45.282Z"
   },
   {
    "duration": 19,
    "start_time": "2025-02-26T12:51:45.332Z"
   },
   {
    "duration": 659,
    "start_time": "2025-02-26T12:51:45.352Z"
   },
   {
    "duration": 157,
    "start_time": "2025-02-26T12:51:46.013Z"
   },
   {
    "duration": 106,
    "start_time": "2025-02-26T12:51:46.172Z"
   },
   {
    "duration": 50,
    "start_time": "2025-02-26T12:51:46.279Z"
   },
   {
    "duration": 160,
    "start_time": "2025-02-26T12:51:46.331Z"
   },
   {
    "duration": 33,
    "start_time": "2025-02-26T12:51:46.492Z"
   },
   {
    "duration": 75,
    "start_time": "2025-02-26T12:51:46.526Z"
   },
   {
    "duration": 39,
    "start_time": "2025-02-26T12:51:46.602Z"
   },
   {
    "duration": 39,
    "start_time": "2025-02-26T12:51:46.642Z"
   },
   {
    "duration": 13,
    "start_time": "2025-02-26T12:51:46.683Z"
   },
   {
    "duration": 82,
    "start_time": "2025-02-26T12:51:46.698Z"
   },
   {
    "duration": 45,
    "start_time": "2025-02-26T12:51:46.781Z"
   },
   {
    "duration": 9,
    "start_time": "2025-02-26T12:51:46.828Z"
   },
   {
    "duration": 221,
    "start_time": "2025-02-26T12:51:46.839Z"
   },
   {
    "duration": 103,
    "start_time": "2025-02-26T12:51:47.070Z"
   },
   {
    "duration": 19,
    "start_time": "2025-02-26T12:51:47.175Z"
   },
   {
    "duration": 2481,
    "start_time": "2025-02-26T12:51:47.196Z"
   },
   {
    "duration": 21,
    "start_time": "2025-02-26T12:51:49.679Z"
   },
   {
    "duration": 13,
    "start_time": "2025-02-26T12:51:49.701Z"
   },
   {
    "duration": 7,
    "start_time": "2025-02-26T12:51:49.715Z"
   },
   {
    "duration": 38,
    "start_time": "2025-02-26T12:51:49.724Z"
   },
   {
    "duration": 7,
    "start_time": "2025-02-26T12:51:49.770Z"
   },
   {
    "duration": 30,
    "start_time": "2025-02-26T12:51:49.778Z"
   },
   {
    "duration": 67,
    "start_time": "2025-02-26T12:51:49.809Z"
   },
   {
    "duration": 27,
    "start_time": "2025-02-26T12:51:49.877Z"
   },
   {
    "duration": 6,
    "start_time": "2025-02-26T12:51:49.905Z"
   },
   {
    "duration": 83,
    "start_time": "2025-02-26T12:51:49.913Z"
   },
   {
    "duration": 81,
    "start_time": "2025-02-26T12:51:49.997Z"
   },
   {
    "duration": 22,
    "start_time": "2025-02-26T12:51:50.080Z"
   },
   {
    "duration": 167,
    "start_time": "2025-02-26T12:51:50.104Z"
   },
   {
    "duration": 105,
    "start_time": "2025-02-26T12:51:50.273Z"
   },
   {
    "duration": 21,
    "start_time": "2025-02-26T12:51:50.380Z"
   },
   {
    "duration": 281,
    "start_time": "2025-02-26T12:51:50.403Z"
   },
   {
    "duration": 8,
    "start_time": "2025-02-26T12:51:50.686Z"
   },
   {
    "duration": 38,
    "start_time": "2025-02-26T12:51:50.695Z"
   },
   {
    "duration": 18,
    "start_time": "2025-02-26T12:51:50.734Z"
   },
   {
    "duration": 68,
    "start_time": "2025-02-26T12:51:50.754Z"
   },
   {
    "duration": 14,
    "start_time": "2025-02-26T12:51:50.825Z"
   },
   {
    "duration": 30,
    "start_time": "2025-02-26T12:51:50.841Z"
   },
   {
    "duration": 14,
    "start_time": "2025-02-26T12:51:50.872Z"
   },
   {
    "duration": 1127,
    "start_time": "2025-02-26T12:52:46.934Z"
   },
   {
    "duration": 3691,
    "start_time": "2025-02-26T12:52:48.063Z"
   },
   {
    "duration": 13,
    "start_time": "2025-02-26T12:52:51.756Z"
   },
   {
    "duration": 11,
    "start_time": "2025-02-26T12:52:51.771Z"
   },
   {
    "duration": 54,
    "start_time": "2025-02-26T12:52:51.784Z"
   },
   {
    "duration": 136,
    "start_time": "2025-02-26T12:52:51.839Z"
   },
   {
    "duration": 7,
    "start_time": "2025-02-26T12:52:51.976Z"
   },
   {
    "duration": 36,
    "start_time": "2025-02-26T12:52:51.984Z"
   },
   {
    "duration": 14,
    "start_time": "2025-02-26T12:52:52.021Z"
   },
   {
    "duration": 45,
    "start_time": "2025-02-26T12:52:52.039Z"
   },
   {
    "duration": 11,
    "start_time": "2025-02-26T12:52:52.086Z"
   },
   {
    "duration": 54,
    "start_time": "2025-02-26T12:52:52.098Z"
   },
   {
    "duration": 19,
    "start_time": "2025-02-26T12:52:52.154Z"
   },
   {
    "duration": 36,
    "start_time": "2025-02-26T12:52:52.175Z"
   },
   {
    "duration": 29,
    "start_time": "2025-02-26T12:52:52.213Z"
   },
   {
    "duration": 30,
    "start_time": "2025-02-26T12:52:52.243Z"
   },
   {
    "duration": 46,
    "start_time": "2025-02-26T12:52:52.275Z"
   },
   {
    "duration": 24,
    "start_time": "2025-02-26T12:52:52.323Z"
   },
   {
    "duration": 23,
    "start_time": "2025-02-26T12:52:52.349Z"
   },
   {
    "duration": 354,
    "start_time": "2025-02-26T12:52:52.374Z"
   },
   {
    "duration": 55,
    "start_time": "2025-02-26T12:52:52.729Z"
   },
   {
    "duration": 162,
    "start_time": "2025-02-26T12:52:52.785Z"
   },
   {
    "duration": 49,
    "start_time": "2025-02-26T12:52:52.948Z"
   },
   {
    "duration": 16,
    "start_time": "2025-02-26T12:52:52.998Z"
   },
   {
    "duration": 1088,
    "start_time": "2025-02-26T12:52:53.015Z"
   },
   {
    "duration": 155,
    "start_time": "2025-02-26T12:52:54.105Z"
   },
   {
    "duration": 27,
    "start_time": "2025-02-26T12:52:54.262Z"
   },
   {
    "duration": 101,
    "start_time": "2025-02-26T12:52:54.292Z"
   },
   {
    "duration": 47,
    "start_time": "2025-02-26T12:52:54.394Z"
   },
   {
    "duration": 29,
    "start_time": "2025-02-26T12:52:54.443Z"
   },
   {
    "duration": 637,
    "start_time": "2025-02-26T12:52:54.473Z"
   },
   {
    "duration": 155,
    "start_time": "2025-02-26T12:52:55.111Z"
   },
   {
    "duration": 110,
    "start_time": "2025-02-26T12:52:55.268Z"
   },
   {
    "duration": 50,
    "start_time": "2025-02-26T12:52:55.380Z"
   },
   {
    "duration": 160,
    "start_time": "2025-02-26T12:52:55.432Z"
   },
   {
    "duration": 31,
    "start_time": "2025-02-26T12:52:55.594Z"
   },
   {
    "duration": 113,
    "start_time": "2025-02-26T12:52:55.627Z"
   },
   {
    "duration": 39,
    "start_time": "2025-02-26T12:52:55.741Z"
   },
   {
    "duration": 18,
    "start_time": "2025-02-26T12:52:55.781Z"
   },
   {
    "duration": 20,
    "start_time": "2025-02-26T12:52:55.800Z"
   },
   {
    "duration": 24,
    "start_time": "2025-02-26T12:52:55.821Z"
   },
   {
    "duration": 51,
    "start_time": "2025-02-26T12:52:55.847Z"
   },
   {
    "duration": 9,
    "start_time": "2025-02-26T12:52:55.900Z"
   },
   {
    "duration": 238,
    "start_time": "2025-02-26T12:52:55.910Z"
   },
   {
    "duration": 113,
    "start_time": "2025-02-26T12:52:56.149Z"
   },
   {
    "duration": 26,
    "start_time": "2025-02-26T12:52:56.263Z"
   },
   {
    "duration": 2702,
    "start_time": "2025-02-26T12:52:56.291Z"
   },
   {
    "duration": 20,
    "start_time": "2025-02-26T12:52:58.994Z"
   },
   {
    "duration": 13,
    "start_time": "2025-02-26T12:52:59.015Z"
   },
   {
    "duration": 9,
    "start_time": "2025-02-26T12:52:59.029Z"
   },
   {
    "duration": 32,
    "start_time": "2025-02-26T12:52:59.040Z"
   },
   {
    "duration": 5,
    "start_time": "2025-02-26T12:52:59.074Z"
   },
   {
    "duration": 27,
    "start_time": "2025-02-26T12:52:59.081Z"
   },
   {
    "duration": 40,
    "start_time": "2025-02-26T12:52:59.110Z"
   },
   {
    "duration": 35,
    "start_time": "2025-02-26T12:52:59.152Z"
   },
   {
    "duration": 27,
    "start_time": "2025-02-26T12:52:59.188Z"
   },
   {
    "duration": 84,
    "start_time": "2025-02-26T12:52:59.216Z"
   },
   {
    "duration": 71,
    "start_time": "2025-02-26T12:52:59.301Z"
   },
   {
    "duration": 23,
    "start_time": "2025-02-26T12:52:59.373Z"
   },
   {
    "duration": 158,
    "start_time": "2025-02-26T12:52:59.398Z"
   },
   {
    "duration": 112,
    "start_time": "2025-02-26T12:52:59.558Z"
   },
   {
    "duration": 23,
    "start_time": "2025-02-26T12:52:59.672Z"
   },
   {
    "duration": 274,
    "start_time": "2025-02-26T12:52:59.696Z"
   },
   {
    "duration": 7,
    "start_time": "2025-02-26T12:52:59.972Z"
   },
   {
    "duration": 136,
    "start_time": "2025-02-26T12:52:59.980Z"
   },
   {
    "duration": 81,
    "start_time": "2025-02-26T12:53:00.118Z"
   },
   {
    "duration": 171,
    "start_time": "2025-02-26T12:53:00.201Z"
   },
   {
    "duration": 42,
    "start_time": "2025-02-26T12:53:00.373Z"
   },
   {
    "duration": 42,
    "start_time": "2025-02-26T12:53:00.416Z"
   },
   {
    "duration": 43,
    "start_time": "2025-02-26T12:53:00.459Z"
   },
   {
    "duration": 1078,
    "start_time": "2025-02-26T12:55:45.502Z"
   },
   {
    "duration": 1996,
    "start_time": "2025-02-26T12:55:46.582Z"
   },
   {
    "duration": 11,
    "start_time": "2025-02-26T12:55:48.580Z"
   },
   {
    "duration": 26,
    "start_time": "2025-02-26T12:55:48.593Z"
   },
   {
    "duration": 47,
    "start_time": "2025-02-26T12:55:48.621Z"
   },
   {
    "duration": 113,
    "start_time": "2025-02-26T12:55:48.670Z"
   },
   {
    "duration": 7,
    "start_time": "2025-02-26T12:55:48.785Z"
   },
   {
    "duration": 34,
    "start_time": "2025-02-26T12:55:48.794Z"
   },
   {
    "duration": 8,
    "start_time": "2025-02-26T12:55:48.830Z"
   },
   {
    "duration": 64,
    "start_time": "2025-02-26T12:55:48.840Z"
   },
   {
    "duration": 7,
    "start_time": "2025-02-26T12:55:48.906Z"
   },
   {
    "duration": 57,
    "start_time": "2025-02-26T12:55:48.914Z"
   },
   {
    "duration": 10,
    "start_time": "2025-02-26T12:55:48.973Z"
   },
   {
    "duration": 13,
    "start_time": "2025-02-26T12:55:48.985Z"
   },
   {
    "duration": 7,
    "start_time": "2025-02-26T12:55:48.999Z"
   },
   {
    "duration": 25,
    "start_time": "2025-02-26T12:55:49.007Z"
   },
   {
    "duration": 39,
    "start_time": "2025-02-26T12:55:49.033Z"
   },
   {
    "duration": 24,
    "start_time": "2025-02-26T12:55:49.074Z"
   },
   {
    "duration": 8,
    "start_time": "2025-02-26T12:55:49.099Z"
   },
   {
    "duration": 374,
    "start_time": "2025-02-26T12:55:49.108Z"
   },
   {
    "duration": 42,
    "start_time": "2025-02-26T12:55:49.483Z"
   },
   {
    "duration": 175,
    "start_time": "2025-02-26T12:55:49.526Z"
   },
   {
    "duration": 40,
    "start_time": "2025-02-26T12:55:49.703Z"
   },
   {
    "duration": 38,
    "start_time": "2025-02-26T12:55:49.745Z"
   },
   {
    "duration": 1080,
    "start_time": "2025-02-26T12:55:49.785Z"
   },
   {
    "duration": 141,
    "start_time": "2025-02-26T12:55:50.870Z"
   },
   {
    "duration": 21,
    "start_time": "2025-02-26T12:55:51.013Z"
   },
   {
    "duration": 100,
    "start_time": "2025-02-26T12:55:51.037Z"
   },
   {
    "duration": 55,
    "start_time": "2025-02-26T12:55:51.139Z"
   },
   {
    "duration": 11,
    "start_time": "2025-02-26T12:55:51.195Z"
   },
   {
    "duration": 662,
    "start_time": "2025-02-26T12:55:51.208Z"
   },
   {
    "duration": 145,
    "start_time": "2025-02-26T12:55:51.872Z"
   },
   {
    "duration": 98,
    "start_time": "2025-02-26T12:55:52.019Z"
   },
   {
    "duration": 66,
    "start_time": "2025-02-26T12:55:52.119Z"
   },
   {
    "duration": 151,
    "start_time": "2025-02-26T12:55:52.187Z"
   },
   {
    "duration": 40,
    "start_time": "2025-02-26T12:55:52.340Z"
   },
   {
    "duration": 92,
    "start_time": "2025-02-26T12:55:52.382Z"
   },
   {
    "duration": 41,
    "start_time": "2025-02-26T12:55:52.475Z"
   },
   {
    "duration": 18,
    "start_time": "2025-02-26T12:55:52.517Z"
   },
   {
    "duration": 35,
    "start_time": "2025-02-26T12:55:52.537Z"
   },
   {
    "duration": 24,
    "start_time": "2025-02-26T12:55:52.573Z"
   },
   {
    "duration": 52,
    "start_time": "2025-02-26T12:55:52.599Z"
   },
   {
    "duration": 10,
    "start_time": "2025-02-26T12:55:52.653Z"
   },
   {
    "duration": 213,
    "start_time": "2025-02-26T12:55:52.665Z"
   },
   {
    "duration": 104,
    "start_time": "2025-02-26T12:55:52.880Z"
   },
   {
    "duration": 19,
    "start_time": "2025-02-26T12:55:52.986Z"
   },
   {
    "duration": 2499,
    "start_time": "2025-02-26T12:55:53.007Z"
   },
   {
    "duration": 20,
    "start_time": "2025-02-26T12:55:55.508Z"
   },
   {
    "duration": 12,
    "start_time": "2025-02-26T12:55:55.529Z"
   },
   {
    "duration": 28,
    "start_time": "2025-02-26T12:55:55.542Z"
   },
   {
    "duration": 16,
    "start_time": "2025-02-26T12:55:55.572Z"
   },
   {
    "duration": 6,
    "start_time": "2025-02-26T12:55:55.589Z"
   },
   {
    "duration": 16,
    "start_time": "2025-02-26T12:55:55.596Z"
   },
   {
    "duration": 58,
    "start_time": "2025-02-26T12:55:55.613Z"
   },
   {
    "duration": 27,
    "start_time": "2025-02-26T12:55:55.673Z"
   },
   {
    "duration": 7,
    "start_time": "2025-02-26T12:55:55.701Z"
   },
   {
    "duration": 88,
    "start_time": "2025-02-26T12:55:55.709Z"
   },
   {
    "duration": 84,
    "start_time": "2025-02-26T12:55:55.799Z"
   },
   {
    "duration": 23,
    "start_time": "2025-02-26T12:55:55.885Z"
   },
   {
    "duration": 162,
    "start_time": "2025-02-26T12:55:55.910Z"
   },
   {
    "duration": 111,
    "start_time": "2025-02-26T12:55:56.074Z"
   },
   {
    "duration": 25,
    "start_time": "2025-02-26T12:55:56.187Z"
   },
   {
    "duration": 286,
    "start_time": "2025-02-26T12:55:56.213Z"
   },
   {
    "duration": 8,
    "start_time": "2025-02-26T12:55:56.500Z"
   },
   {
    "duration": 35,
    "start_time": "2025-02-26T12:55:56.509Z"
   },
   {
    "duration": 31,
    "start_time": "2025-02-26T12:55:56.546Z"
   },
   {
    "duration": 56,
    "start_time": "2025-02-26T12:55:56.578Z"
   },
   {
    "duration": 14,
    "start_time": "2025-02-26T12:55:56.635Z"
   },
   {
    "duration": 13,
    "start_time": "2025-02-26T12:55:56.671Z"
   },
   {
    "duration": 14,
    "start_time": "2025-02-26T12:55:56.686Z"
   },
   {
    "duration": 1372,
    "start_time": "2025-02-27T10:14:05.727Z"
   },
   {
    "duration": 2105,
    "start_time": "2025-02-27T10:14:07.101Z"
   },
   {
    "duration": 12,
    "start_time": "2025-02-27T10:14:09.207Z"
   },
   {
    "duration": 13,
    "start_time": "2025-02-27T10:14:09.221Z"
   },
   {
    "duration": 24,
    "start_time": "2025-02-27T10:14:09.236Z"
   },
   {
    "duration": 129,
    "start_time": "2025-02-27T10:14:09.262Z"
   },
   {
    "duration": 7,
    "start_time": "2025-02-27T10:14:09.393Z"
   },
   {
    "duration": 26,
    "start_time": "2025-02-27T10:14:09.402Z"
   },
   {
    "duration": 19,
    "start_time": "2025-02-27T10:14:09.430Z"
   },
   {
    "duration": 60,
    "start_time": "2025-02-27T10:14:09.453Z"
   },
   {
    "duration": 10,
    "start_time": "2025-02-27T10:14:09.515Z"
   },
   {
    "duration": 38,
    "start_time": "2025-02-27T10:14:09.527Z"
   },
   {
    "duration": 10,
    "start_time": "2025-02-27T10:14:09.566Z"
   },
   {
    "duration": 27,
    "start_time": "2025-02-27T10:14:09.577Z"
   },
   {
    "duration": 13,
    "start_time": "2025-02-27T10:14:09.606Z"
   },
   {
    "duration": 13,
    "start_time": "2025-02-27T10:14:09.620Z"
   },
   {
    "duration": 27,
    "start_time": "2025-02-27T10:14:09.634Z"
   },
   {
    "duration": 36,
    "start_time": "2025-02-27T10:14:09.669Z"
   },
   {
    "duration": 8,
    "start_time": "2025-02-27T10:14:09.707Z"
   },
   {
    "duration": 392,
    "start_time": "2025-02-27T10:14:09.717Z"
   },
   {
    "duration": 61,
    "start_time": "2025-02-27T10:14:10.111Z"
   },
   {
    "duration": 172,
    "start_time": "2025-02-27T10:14:10.174Z"
   },
   {
    "duration": 57,
    "start_time": "2025-02-27T10:14:10.347Z"
   },
   {
    "duration": 21,
    "start_time": "2025-02-27T10:14:10.406Z"
   },
   {
    "duration": 1128,
    "start_time": "2025-02-27T10:14:10.428Z"
   },
   {
    "duration": 160,
    "start_time": "2025-02-27T10:14:11.558Z"
   },
   {
    "duration": 24,
    "start_time": "2025-02-27T10:14:11.720Z"
   },
   {
    "duration": 130,
    "start_time": "2025-02-27T10:14:11.748Z"
   },
   {
    "duration": 33,
    "start_time": "2025-02-27T10:14:11.879Z"
   },
   {
    "duration": 11,
    "start_time": "2025-02-27T10:14:11.914Z"
   },
   {
    "duration": 661,
    "start_time": "2025-02-27T10:14:11.927Z"
   },
   {
    "duration": 154,
    "start_time": "2025-02-27T10:14:12.590Z"
   },
   {
    "duration": 110,
    "start_time": "2025-02-27T10:14:12.745Z"
   },
   {
    "duration": 53,
    "start_time": "2025-02-27T10:14:12.870Z"
   },
   {
    "duration": 164,
    "start_time": "2025-02-27T10:14:12.926Z"
   },
   {
    "duration": 35,
    "start_time": "2025-02-27T10:14:13.092Z"
   },
   {
    "duration": 81,
    "start_time": "2025-02-27T10:14:13.128Z"
   },
   {
    "duration": 40,
    "start_time": "2025-02-27T10:14:13.211Z"
   },
   {
    "duration": 37,
    "start_time": "2025-02-27T10:14:13.253Z"
   },
   {
    "duration": 15,
    "start_time": "2025-02-27T10:14:13.293Z"
   },
   {
    "duration": 14,
    "start_time": "2025-02-27T10:14:13.310Z"
   },
   {
    "duration": 76,
    "start_time": "2025-02-27T10:14:13.325Z"
   },
   {
    "duration": 9,
    "start_time": "2025-02-27T10:14:13.402Z"
   },
   {
    "duration": 250,
    "start_time": "2025-02-27T10:14:13.412Z"
   },
   {
    "duration": 112,
    "start_time": "2025-02-27T10:14:13.664Z"
   },
   {
    "duration": 19,
    "start_time": "2025-02-27T10:14:13.777Z"
   },
   {
    "duration": 2573,
    "start_time": "2025-02-27T10:14:13.798Z"
   },
   {
    "duration": 21,
    "start_time": "2025-02-27T10:14:16.373Z"
   },
   {
    "duration": 13,
    "start_time": "2025-02-27T10:14:16.396Z"
   },
   {
    "duration": 9,
    "start_time": "2025-02-27T10:14:16.411Z"
   },
   {
    "duration": 16,
    "start_time": "2025-02-27T10:14:16.422Z"
   },
   {
    "duration": 36,
    "start_time": "2025-02-27T10:14:16.439Z"
   },
   {
    "duration": 11,
    "start_time": "2025-02-27T10:14:16.476Z"
   },
   {
    "duration": 57,
    "start_time": "2025-02-27T10:14:16.488Z"
   },
   {
    "duration": 30,
    "start_time": "2025-02-27T10:14:16.547Z"
   },
   {
    "duration": 7,
    "start_time": "2025-02-27T10:14:16.578Z"
   },
   {
    "duration": 87,
    "start_time": "2025-02-27T10:14:16.586Z"
   },
   {
    "duration": 77,
    "start_time": "2025-02-27T10:14:16.675Z"
   },
   {
    "duration": 45,
    "start_time": "2025-02-27T10:14:16.754Z"
   },
   {
    "duration": 155,
    "start_time": "2025-02-27T10:14:16.800Z"
   },
   {
    "duration": 100,
    "start_time": "2025-02-27T10:14:16.957Z"
   },
   {
    "duration": 30,
    "start_time": "2025-02-27T10:14:17.059Z"
   },
   {
    "duration": 285,
    "start_time": "2025-02-27T10:14:17.091Z"
   },
   {
    "duration": 8,
    "start_time": "2025-02-27T10:14:17.378Z"
   },
   {
    "duration": 40,
    "start_time": "2025-02-27T10:14:17.387Z"
   },
   {
    "duration": 23,
    "start_time": "2025-02-27T10:14:17.429Z"
   },
   {
    "duration": 79,
    "start_time": "2025-02-27T10:14:17.455Z"
   },
   {
    "duration": 13,
    "start_time": "2025-02-27T10:14:17.536Z"
   },
   {
    "duration": 29,
    "start_time": "2025-02-27T10:14:17.551Z"
   },
   {
    "duration": 23,
    "start_time": "2025-02-27T10:14:17.584Z"
   },
   {
    "duration": 133,
    "start_time": "2025-02-27T10:14:17.609Z"
   },
   {
    "duration": 12,
    "start_time": "2025-02-27T10:15:00.241Z"
   },
   {
    "duration": 11,
    "start_time": "2025-02-27T10:15:03.380Z"
   },
   {
    "duration": 11,
    "start_time": "2025-02-27T10:15:09.412Z"
   },
   {
    "duration": 23,
    "start_time": "2025-02-27T10:16:00.765Z"
   },
   {
    "duration": 25,
    "start_time": "2025-02-27T10:16:02.871Z"
   },
   {
    "duration": 42,
    "start_time": "2025-02-27T10:16:18.264Z"
   },
   {
    "duration": 41,
    "start_time": "2025-02-27T10:16:33.229Z"
   },
   {
    "duration": 65,
    "start_time": "2025-02-27T10:16:52.474Z"
   },
   {
    "duration": 13,
    "start_time": "2025-02-27T10:24:14.802Z"
   },
   {
    "duration": 12,
    "start_time": "2025-02-27T10:24:56.292Z"
   },
   {
    "duration": 134,
    "start_time": "2025-02-27T10:25:10.347Z"
   },
   {
    "duration": 131,
    "start_time": "2025-02-27T10:25:27.086Z"
   },
   {
    "duration": 141,
    "start_time": "2025-02-27T10:25:57.254Z"
   },
   {
    "duration": 227,
    "start_time": "2025-02-27T10:25:59.568Z"
   },
   {
    "duration": 135,
    "start_time": "2025-02-27T10:26:02.161Z"
   },
   {
    "duration": 136,
    "start_time": "2025-02-27T10:26:25.091Z"
   },
   {
    "duration": 139,
    "start_time": "2025-02-27T10:26:28.878Z"
   },
   {
    "duration": 139,
    "start_time": "2025-02-27T10:26:44.885Z"
   },
   {
    "duration": 174,
    "start_time": "2025-02-27T10:26:50.488Z"
   },
   {
    "duration": 145,
    "start_time": "2025-02-27T10:26:57.863Z"
   },
   {
    "duration": 155,
    "start_time": "2025-02-27T10:27:17.999Z"
   },
   {
    "duration": 118,
    "start_time": "2025-02-27T10:29:19.088Z"
   },
   {
    "duration": 124,
    "start_time": "2025-02-27T10:29:30.502Z"
   },
   {
    "duration": 224,
    "start_time": "2025-02-27T10:29:33.910Z"
   },
   {
    "duration": 117,
    "start_time": "2025-02-27T10:30:08.240Z"
   },
   {
    "duration": 171,
    "start_time": "2025-02-27T10:31:43.135Z"
   },
   {
    "duration": 184,
    "start_time": "2025-02-27T10:32:01.855Z"
   },
   {
    "duration": 7,
    "start_time": "2025-02-27T10:32:42.464Z"
   },
   {
    "duration": 154,
    "start_time": "2025-02-27T10:33:19.654Z"
   },
   {
    "duration": 155,
    "start_time": "2025-02-27T10:33:31.252Z"
   },
   {
    "duration": 1080,
    "start_time": "2025-02-27T10:34:21.193Z"
   },
   {
    "duration": 2364,
    "start_time": "2025-02-27T10:34:22.275Z"
   },
   {
    "duration": 12,
    "start_time": "2025-02-27T10:34:24.641Z"
   },
   {
    "duration": 12,
    "start_time": "2025-02-27T10:34:24.656Z"
   },
   {
    "duration": 23,
    "start_time": "2025-02-27T10:34:24.670Z"
   },
   {
    "duration": 101,
    "start_time": "2025-02-27T10:34:24.695Z"
   },
   {
    "duration": 8,
    "start_time": "2025-02-27T10:34:24.798Z"
   },
   {
    "duration": 21,
    "start_time": "2025-02-27T10:34:24.808Z"
   },
   {
    "duration": 17,
    "start_time": "2025-02-27T10:34:24.831Z"
   },
   {
    "duration": 50,
    "start_time": "2025-02-27T10:34:24.870Z"
   },
   {
    "duration": 8,
    "start_time": "2025-02-27T10:34:24.922Z"
   },
   {
    "duration": 49,
    "start_time": "2025-02-27T10:34:24.931Z"
   },
   {
    "duration": 22,
    "start_time": "2025-02-27T10:34:24.982Z"
   },
   {
    "duration": 19,
    "start_time": "2025-02-27T10:34:25.006Z"
   },
   {
    "duration": 6,
    "start_time": "2025-02-27T10:34:25.027Z"
   },
   {
    "duration": 32,
    "start_time": "2025-02-27T10:34:25.035Z"
   },
   {
    "duration": 31,
    "start_time": "2025-02-27T10:34:25.069Z"
   },
   {
    "duration": 27,
    "start_time": "2025-02-27T10:34:25.101Z"
   },
   {
    "duration": 10,
    "start_time": "2025-02-27T10:34:25.129Z"
   },
   {
    "duration": 374,
    "start_time": "2025-02-27T10:34:25.140Z"
   },
   {
    "duration": 59,
    "start_time": "2025-02-27T10:34:25.515Z"
   },
   {
    "duration": 159,
    "start_time": "2025-02-27T10:34:25.575Z"
   },
   {
    "duration": 54,
    "start_time": "2025-02-27T10:34:25.735Z"
   },
   {
    "duration": 17,
    "start_time": "2025-02-27T10:34:25.790Z"
   },
   {
    "duration": 1095,
    "start_time": "2025-02-27T10:34:25.809Z"
   },
   {
    "duration": 149,
    "start_time": "2025-02-27T10:34:26.905Z"
   },
   {
    "duration": 31,
    "start_time": "2025-02-27T10:34:27.055Z"
   },
   {
    "duration": 126,
    "start_time": "2025-02-27T10:34:27.090Z"
   },
   {
    "duration": 30,
    "start_time": "2025-02-27T10:34:27.218Z"
   },
   {
    "duration": 25,
    "start_time": "2025-02-27T10:34:27.250Z"
   },
   {
    "duration": 663,
    "start_time": "2025-02-27T10:34:27.277Z"
   },
   {
    "duration": 159,
    "start_time": "2025-02-27T10:34:27.941Z"
   },
   {
    "duration": 105,
    "start_time": "2025-02-27T10:34:28.101Z"
   },
   {
    "duration": 49,
    "start_time": "2025-02-27T10:34:28.208Z"
   },
   {
    "duration": 146,
    "start_time": "2025-02-27T10:34:28.271Z"
   },
   {
    "duration": 33,
    "start_time": "2025-02-27T10:34:28.419Z"
   },
   {
    "duration": 100,
    "start_time": "2025-02-27T10:34:28.453Z"
   },
   {
    "duration": 39,
    "start_time": "2025-02-27T10:34:28.554Z"
   },
   {
    "duration": 17,
    "start_time": "2025-02-27T10:34:28.595Z"
   },
   {
    "duration": 16,
    "start_time": "2025-02-27T10:34:28.614Z"
   },
   {
    "duration": 38,
    "start_time": "2025-02-27T10:34:28.632Z"
   },
   {
    "duration": 44,
    "start_time": "2025-02-27T10:34:28.672Z"
   },
   {
    "duration": 9,
    "start_time": "2025-02-27T10:34:28.718Z"
   },
   {
    "duration": 221,
    "start_time": "2025-02-27T10:34:28.728Z"
   },
   {
    "duration": 104,
    "start_time": "2025-02-27T10:34:28.950Z"
   },
   {
    "duration": 26,
    "start_time": "2025-02-27T10:34:29.055Z"
   },
   {
    "duration": 2466,
    "start_time": "2025-02-27T10:34:29.083Z"
   },
   {
    "duration": 30,
    "start_time": "2025-02-27T10:34:31.550Z"
   },
   {
    "duration": 16,
    "start_time": "2025-02-27T10:34:31.582Z"
   },
   {
    "duration": 7,
    "start_time": "2025-02-27T10:34:31.599Z"
   },
   {
    "duration": 50,
    "start_time": "2025-02-27T10:34:31.608Z"
   },
   {
    "duration": 7,
    "start_time": "2025-02-27T10:34:31.659Z"
   },
   {
    "duration": 31,
    "start_time": "2025-02-27T10:34:31.667Z"
   },
   {
    "duration": 58,
    "start_time": "2025-02-27T10:34:31.700Z"
   },
   {
    "duration": 25,
    "start_time": "2025-02-27T10:34:31.760Z"
   },
   {
    "duration": 24,
    "start_time": "2025-02-27T10:34:31.786Z"
   },
   {
    "duration": 70,
    "start_time": "2025-02-27T10:34:31.811Z"
   },
   {
    "duration": 79,
    "start_time": "2025-02-27T10:34:31.883Z"
   },
   {
    "duration": 22,
    "start_time": "2025-02-27T10:34:31.964Z"
   },
   {
    "duration": 150,
    "start_time": "2025-02-27T10:34:31.987Z"
   },
   {
    "duration": 114,
    "start_time": "2025-02-27T10:34:32.138Z"
   },
   {
    "duration": 27,
    "start_time": "2025-02-27T10:34:32.253Z"
   },
   {
    "duration": 262,
    "start_time": "2025-02-27T10:34:32.282Z"
   },
   {
    "duration": 8,
    "start_time": "2025-02-27T10:34:32.546Z"
   },
   {
    "duration": 50,
    "start_time": "2025-02-27T10:34:32.555Z"
   },
   {
    "duration": 49,
    "start_time": "2025-02-27T10:34:32.606Z"
   },
   {
    "duration": 72,
    "start_time": "2025-02-27T10:34:32.656Z"
   },
   {
    "duration": 14,
    "start_time": "2025-02-27T10:34:32.729Z"
   },
   {
    "duration": 26,
    "start_time": "2025-02-27T10:34:32.744Z"
   },
   {
    "duration": 29,
    "start_time": "2025-02-27T10:34:32.771Z"
   },
   {
    "duration": 83,
    "start_time": "2025-02-27T10:34:32.801Z"
   },
   {
    "duration": 150,
    "start_time": "2025-02-27T10:34:32.885Z"
   },
   {
    "duration": 1193,
    "start_time": "2025-02-27T10:35:40.184Z"
   },
   {
    "duration": 1941,
    "start_time": "2025-02-27T10:35:41.379Z"
   },
   {
    "duration": 11,
    "start_time": "2025-02-27T10:35:43.322Z"
   },
   {
    "duration": 17,
    "start_time": "2025-02-27T10:35:43.335Z"
   },
   {
    "duration": 52,
    "start_time": "2025-02-27T10:35:43.353Z"
   },
   {
    "duration": 110,
    "start_time": "2025-02-27T10:35:43.407Z"
   },
   {
    "duration": 7,
    "start_time": "2025-02-27T10:35:43.519Z"
   },
   {
    "duration": 20,
    "start_time": "2025-02-27T10:35:43.527Z"
   },
   {
    "duration": 22,
    "start_time": "2025-02-27T10:35:43.548Z"
   },
   {
    "duration": 39,
    "start_time": "2025-02-27T10:35:43.573Z"
   },
   {
    "duration": 7,
    "start_time": "2025-02-27T10:35:43.614Z"
   },
   {
    "duration": 33,
    "start_time": "2025-02-27T10:35:43.623Z"
   },
   {
    "duration": 21,
    "start_time": "2025-02-27T10:35:43.658Z"
   },
   {
    "duration": 20,
    "start_time": "2025-02-27T10:35:43.680Z"
   },
   {
    "duration": 7,
    "start_time": "2025-02-27T10:35:43.702Z"
   },
   {
    "duration": 15,
    "start_time": "2025-02-27T10:35:43.710Z"
   },
   {
    "duration": 15,
    "start_time": "2025-02-27T10:35:43.726Z"
   },
   {
    "duration": 51,
    "start_time": "2025-02-27T10:35:43.742Z"
   },
   {
    "duration": 8,
    "start_time": "2025-02-27T10:35:43.795Z"
   },
   {
    "duration": 391,
    "start_time": "2025-02-27T10:35:43.805Z"
   },
   {
    "duration": 42,
    "start_time": "2025-02-27T10:35:44.197Z"
   },
   {
    "duration": 184,
    "start_time": "2025-02-27T10:35:44.240Z"
   },
   {
    "duration": 54,
    "start_time": "2025-02-27T10:35:44.426Z"
   },
   {
    "duration": 18,
    "start_time": "2025-02-27T10:35:44.482Z"
   },
   {
    "duration": 1102,
    "start_time": "2025-02-27T10:35:44.501Z"
   },
   {
    "duration": 153,
    "start_time": "2025-02-27T10:35:45.605Z"
   },
   {
    "duration": 27,
    "start_time": "2025-02-27T10:35:45.760Z"
   },
   {
    "duration": 128,
    "start_time": "2025-02-27T10:35:45.792Z"
   },
   {
    "duration": 33,
    "start_time": "2025-02-27T10:35:45.922Z"
   },
   {
    "duration": 11,
    "start_time": "2025-02-27T10:35:45.970Z"
   },
   {
    "duration": 663,
    "start_time": "2025-02-27T10:35:45.983Z"
   },
   {
    "duration": 156,
    "start_time": "2025-02-27T10:35:46.648Z"
   },
   {
    "duration": 99,
    "start_time": "2025-02-27T10:35:46.806Z"
   },
   {
    "duration": 64,
    "start_time": "2025-02-27T10:35:46.907Z"
   },
   {
    "duration": 147,
    "start_time": "2025-02-27T10:35:46.973Z"
   },
   {
    "duration": 32,
    "start_time": "2025-02-27T10:35:47.122Z"
   },
   {
    "duration": 76,
    "start_time": "2025-02-27T10:35:47.155Z"
   },
   {
    "duration": 56,
    "start_time": "2025-02-27T10:35:47.232Z"
   },
   {
    "duration": 19,
    "start_time": "2025-02-27T10:35:47.290Z"
   },
   {
    "duration": 12,
    "start_time": "2025-02-27T10:35:47.311Z"
   },
   {
    "duration": 12,
    "start_time": "2025-02-27T10:35:47.325Z"
   },
   {
    "duration": 68,
    "start_time": "2025-02-27T10:35:47.338Z"
   },
   {
    "duration": 8,
    "start_time": "2025-02-27T10:35:47.408Z"
   },
   {
    "duration": 238,
    "start_time": "2025-02-27T10:35:47.418Z"
   },
   {
    "duration": 101,
    "start_time": "2025-02-27T10:35:47.657Z"
   },
   {
    "duration": 26,
    "start_time": "2025-02-27T10:35:47.759Z"
   },
   {
    "duration": 2520,
    "start_time": "2025-02-27T10:35:47.786Z"
   },
   {
    "duration": 22,
    "start_time": "2025-02-27T10:35:50.307Z"
   },
   {
    "duration": 36,
    "start_time": "2025-02-27T10:35:50.330Z"
   },
   {
    "duration": 8,
    "start_time": "2025-02-27T10:35:50.368Z"
   },
   {
    "duration": 28,
    "start_time": "2025-02-27T10:35:50.377Z"
   },
   {
    "duration": 12,
    "start_time": "2025-02-27T10:35:50.407Z"
   },
   {
    "duration": 59,
    "start_time": "2025-02-27T10:35:50.420Z"
   },
   {
    "duration": 93,
    "start_time": "2025-02-27T10:35:50.481Z"
   },
   {
    "duration": 24,
    "start_time": "2025-02-27T10:35:50.576Z"
   },
   {
    "duration": 9,
    "start_time": "2025-02-27T10:35:50.602Z"
   },
   {
    "duration": 83,
    "start_time": "2025-02-27T10:35:50.612Z"
   },
   {
    "duration": 80,
    "start_time": "2025-02-27T10:35:50.696Z"
   },
   {
    "duration": 23,
    "start_time": "2025-02-27T10:35:50.778Z"
   },
   {
    "duration": 155,
    "start_time": "2025-02-27T10:35:50.802Z"
   },
   {
    "duration": 112,
    "start_time": "2025-02-27T10:35:50.959Z"
   },
   {
    "duration": 22,
    "start_time": "2025-02-27T10:35:51.073Z"
   },
   {
    "duration": 275,
    "start_time": "2025-02-27T10:35:51.096Z"
   },
   {
    "duration": 7,
    "start_time": "2025-02-27T10:35:51.373Z"
   },
   {
    "duration": 92,
    "start_time": "2025-02-27T10:35:51.382Z"
   },
   {
    "duration": 19,
    "start_time": "2025-02-27T10:35:51.476Z"
   },
   {
    "duration": 84,
    "start_time": "2025-02-27T10:35:51.497Z"
   },
   {
    "duration": 13,
    "start_time": "2025-02-27T10:35:51.583Z"
   },
   {
    "duration": 36,
    "start_time": "2025-02-27T10:35:51.598Z"
   },
   {
    "duration": 19,
    "start_time": "2025-02-27T10:35:51.636Z"
   },
   {
    "duration": 113,
    "start_time": "2025-02-27T10:35:51.656Z"
   },
   {
    "duration": 139,
    "start_time": "2025-02-27T10:35:51.770Z"
   },
   {
    "duration": 6,
    "start_time": "2025-02-27T10:35:51.911Z"
   },
   {
    "duration": 7,
    "start_time": "2025-02-27T10:36:20.574Z"
   },
   {
    "duration": 8,
    "start_time": "2025-02-27T10:36:41.323Z"
   },
   {
    "duration": 148,
    "start_time": "2025-02-27T10:40:18.073Z"
   },
   {
    "duration": 137,
    "start_time": "2025-02-27T10:40:25.055Z"
   },
   {
    "duration": 153,
    "start_time": "2025-02-27T10:40:28.225Z"
   },
   {
    "duration": 523,
    "start_time": "2025-02-27T10:41:08.129Z"
   },
   {
    "duration": 577,
    "start_time": "2025-02-27T10:41:21.254Z"
   },
   {
    "duration": 158,
    "start_time": "2025-02-27T10:46:22.199Z"
   },
   {
    "duration": 258,
    "start_time": "2025-02-27T10:48:35.749Z"
   },
   {
    "duration": 161,
    "start_time": "2025-02-27T10:49:37.926Z"
   },
   {
    "duration": 27,
    "start_time": "2025-02-27T10:50:52.493Z"
   },
   {
    "duration": 10,
    "start_time": "2025-02-27T10:51:06.572Z"
   },
   {
    "duration": 9,
    "start_time": "2025-02-27T10:51:36.864Z"
   },
   {
    "duration": 9,
    "start_time": "2025-02-27T10:51:40.229Z"
   },
   {
    "duration": 15,
    "start_time": "2025-02-27T10:53:40.971Z"
   },
   {
    "duration": 13,
    "start_time": "2025-02-27T10:54:04.777Z"
   },
   {
    "duration": 9,
    "start_time": "2025-02-27T10:54:10.837Z"
   },
   {
    "duration": 888,
    "start_time": "2025-02-27T11:03:22.570Z"
   },
   {
    "duration": 1146,
    "start_time": "2025-02-27T11:03:48.037Z"
   },
   {
    "duration": 2588,
    "start_time": "2025-02-27T11:03:49.184Z"
   },
   {
    "duration": 12,
    "start_time": "2025-02-27T11:03:51.774Z"
   },
   {
    "duration": 46,
    "start_time": "2025-02-27T11:03:51.788Z"
   },
   {
    "duration": 23,
    "start_time": "2025-02-27T11:03:51.836Z"
   },
   {
    "duration": 102,
    "start_time": "2025-02-27T11:03:51.861Z"
   },
   {
    "duration": 8,
    "start_time": "2025-02-27T11:03:51.964Z"
   },
   {
    "duration": 46,
    "start_time": "2025-02-27T11:03:51.974Z"
   },
   {
    "duration": 8,
    "start_time": "2025-02-27T11:03:52.022Z"
   },
   {
    "duration": 94,
    "start_time": "2025-02-27T11:03:52.033Z"
   },
   {
    "duration": 14,
    "start_time": "2025-02-27T11:03:52.128Z"
   },
   {
    "duration": 50,
    "start_time": "2025-02-27T11:03:52.144Z"
   },
   {
    "duration": 16,
    "start_time": "2025-02-27T11:03:52.196Z"
   },
   {
    "duration": 40,
    "start_time": "2025-02-27T11:03:52.214Z"
   },
   {
    "duration": 17,
    "start_time": "2025-02-27T11:03:52.256Z"
   },
   {
    "duration": 28,
    "start_time": "2025-02-27T11:03:52.275Z"
   },
   {
    "duration": 23,
    "start_time": "2025-02-27T11:03:52.305Z"
   },
   {
    "duration": 62,
    "start_time": "2025-02-27T11:03:52.329Z"
   },
   {
    "duration": 33,
    "start_time": "2025-02-27T11:03:52.393Z"
   },
   {
    "duration": 385,
    "start_time": "2025-02-27T11:03:52.427Z"
   },
   {
    "duration": 56,
    "start_time": "2025-02-27T11:03:52.814Z"
   },
   {
    "duration": 180,
    "start_time": "2025-02-27T11:03:52.872Z"
   },
   {
    "duration": 46,
    "start_time": "2025-02-27T11:03:53.054Z"
   },
   {
    "duration": 16,
    "start_time": "2025-02-27T11:03:53.102Z"
   },
   {
    "duration": 1147,
    "start_time": "2025-02-27T11:03:53.119Z"
   },
   {
    "duration": 168,
    "start_time": "2025-02-27T11:03:54.268Z"
   },
   {
    "duration": 35,
    "start_time": "2025-02-27T11:03:54.438Z"
   },
   {
    "duration": 123,
    "start_time": "2025-02-27T11:03:54.477Z"
   },
   {
    "duration": 37,
    "start_time": "2025-02-27T11:03:54.602Z"
   },
   {
    "duration": 69,
    "start_time": "2025-02-27T11:03:54.640Z"
   },
   {
    "duration": 691,
    "start_time": "2025-02-27T11:03:54.710Z"
   },
   {
    "duration": 156,
    "start_time": "2025-02-27T11:03:55.403Z"
   },
   {
    "duration": 111,
    "start_time": "2025-02-27T11:03:55.560Z"
   },
   {
    "duration": 51,
    "start_time": "2025-02-27T11:03:55.672Z"
   },
   {
    "duration": 173,
    "start_time": "2025-02-27T11:03:55.724Z"
   },
   {
    "duration": 34,
    "start_time": "2025-02-27T11:03:55.898Z"
   },
   {
    "duration": 82,
    "start_time": "2025-02-27T11:03:55.933Z"
   },
   {
    "duration": 39,
    "start_time": "2025-02-27T11:03:56.017Z"
   },
   {
    "duration": 19,
    "start_time": "2025-02-27T11:03:56.070Z"
   },
   {
    "duration": 57,
    "start_time": "2025-02-27T11:03:56.091Z"
   },
   {
    "duration": 92,
    "start_time": "2025-02-27T11:03:56.149Z"
   },
   {
    "duration": 66,
    "start_time": "2025-02-27T11:03:56.243Z"
   },
   {
    "duration": 10,
    "start_time": "2025-02-27T11:03:56.310Z"
   },
   {
    "duration": 277,
    "start_time": "2025-02-27T11:03:56.321Z"
   },
   {
    "duration": 107,
    "start_time": "2025-02-27T11:03:56.600Z"
   },
   {
    "duration": 23,
    "start_time": "2025-02-27T11:03:56.708Z"
   },
   {
    "duration": 2612,
    "start_time": "2025-02-27T11:03:56.733Z"
   },
   {
    "duration": 36,
    "start_time": "2025-02-27T11:03:59.347Z"
   },
   {
    "duration": 13,
    "start_time": "2025-02-27T11:03:59.385Z"
   },
   {
    "duration": 14,
    "start_time": "2025-02-27T11:03:59.400Z"
   },
   {
    "duration": 54,
    "start_time": "2025-02-27T11:03:59.416Z"
   },
   {
    "duration": 28,
    "start_time": "2025-02-27T11:03:59.472Z"
   },
   {
    "duration": 30,
    "start_time": "2025-02-27T11:03:59.502Z"
   },
   {
    "duration": 58,
    "start_time": "2025-02-27T11:03:59.534Z"
   },
   {
    "duration": 26,
    "start_time": "2025-02-27T11:03:59.594Z"
   },
   {
    "duration": 6,
    "start_time": "2025-02-27T11:03:59.621Z"
   },
   {
    "duration": 80,
    "start_time": "2025-02-27T11:03:59.629Z"
   },
   {
    "duration": 82,
    "start_time": "2025-02-27T11:03:59.711Z"
   },
   {
    "duration": 23,
    "start_time": "2025-02-27T11:03:59.794Z"
   },
   {
    "duration": 212,
    "start_time": "2025-02-27T11:03:59.819Z"
   },
   {
    "duration": 109,
    "start_time": "2025-02-27T11:04:00.033Z"
   },
   {
    "duration": 154,
    "start_time": "2025-02-27T11:04:00.143Z"
   },
   {
    "duration": 367,
    "start_time": "2025-02-27T11:04:00.299Z"
   },
   {
    "duration": 9,
    "start_time": "2025-02-27T11:04:00.668Z"
   },
   {
    "duration": 94,
    "start_time": "2025-02-27T11:04:00.678Z"
   },
   {
    "duration": 57,
    "start_time": "2025-02-27T11:04:00.773Z"
   },
   {
    "duration": 152,
    "start_time": "2025-02-27T11:04:00.832Z"
   },
   {
    "duration": 34,
    "start_time": "2025-02-27T11:04:00.986Z"
   },
   {
    "duration": 69,
    "start_time": "2025-02-27T11:04:01.022Z"
   },
   {
    "duration": 59,
    "start_time": "2025-02-27T11:04:01.092Z"
   },
   {
    "duration": 95,
    "start_time": "2025-02-27T11:04:01.153Z"
   },
   {
    "duration": 160,
    "start_time": "2025-02-27T11:04:01.249Z"
   },
   {
    "duration": 268,
    "start_time": "2025-02-27T11:04:01.411Z"
   },
   {
    "duration": 0,
    "start_time": "2025-02-27T11:04:01.681Z"
   },
   {
    "duration": 179,
    "start_time": "2025-02-27T11:04:25.331Z"
   },
   {
    "duration": 172,
    "start_time": "2025-02-27T11:04:37.768Z"
   },
   {
    "duration": 148,
    "start_time": "2025-02-27T11:05:06.224Z"
   },
   {
    "duration": 1165,
    "start_time": "2025-02-27T11:06:33.113Z"
   },
   {
    "duration": 3486,
    "start_time": "2025-02-27T11:06:34.280Z"
   },
   {
    "duration": 12,
    "start_time": "2025-02-27T11:06:37.767Z"
   },
   {
    "duration": 72,
    "start_time": "2025-02-27T11:06:37.781Z"
   },
   {
    "duration": 66,
    "start_time": "2025-02-27T11:06:37.855Z"
   },
   {
    "duration": 137,
    "start_time": "2025-02-27T11:06:37.922Z"
   },
   {
    "duration": 13,
    "start_time": "2025-02-27T11:06:38.060Z"
   },
   {
    "duration": 48,
    "start_time": "2025-02-27T11:06:38.075Z"
   },
   {
    "duration": 40,
    "start_time": "2025-02-27T11:06:38.125Z"
   },
   {
    "duration": 70,
    "start_time": "2025-02-27T11:06:38.168Z"
   },
   {
    "duration": 8,
    "start_time": "2025-02-27T11:06:38.239Z"
   },
   {
    "duration": 35,
    "start_time": "2025-02-27T11:06:38.248Z"
   },
   {
    "duration": 39,
    "start_time": "2025-02-27T11:06:38.285Z"
   },
   {
    "duration": 71,
    "start_time": "2025-02-27T11:06:38.326Z"
   },
   {
    "duration": 24,
    "start_time": "2025-02-27T11:06:38.399Z"
   },
   {
    "duration": 85,
    "start_time": "2025-02-27T11:06:38.424Z"
   },
   {
    "duration": 32,
    "start_time": "2025-02-27T11:06:38.511Z"
   },
   {
    "duration": 56,
    "start_time": "2025-02-27T11:06:38.544Z"
   },
   {
    "duration": 35,
    "start_time": "2025-02-27T11:06:38.601Z"
   },
   {
    "duration": 418,
    "start_time": "2025-02-27T11:06:38.639Z"
   },
   {
    "duration": 43,
    "start_time": "2025-02-27T11:06:39.070Z"
   },
   {
    "duration": 177,
    "start_time": "2025-02-27T11:06:39.115Z"
   },
   {
    "duration": 45,
    "start_time": "2025-02-27T11:06:39.294Z"
   },
   {
    "duration": 54,
    "start_time": "2025-02-27T11:06:39.341Z"
   },
   {
    "duration": 1201,
    "start_time": "2025-02-27T11:06:39.397Z"
   },
   {
    "duration": 173,
    "start_time": "2025-02-27T11:06:40.600Z"
   },
   {
    "duration": 24,
    "start_time": "2025-02-27T11:06:40.775Z"
   },
   {
    "duration": 131,
    "start_time": "2025-02-27T11:06:40.803Z"
   },
   {
    "duration": 46,
    "start_time": "2025-02-27T11:06:40.936Z"
   },
   {
    "duration": 12,
    "start_time": "2025-02-27T11:06:40.983Z"
   },
   {
    "duration": 688,
    "start_time": "2025-02-27T11:06:40.996Z"
   },
   {
    "duration": 155,
    "start_time": "2025-02-27T11:06:41.685Z"
   },
   {
    "duration": 103,
    "start_time": "2025-02-27T11:06:41.842Z"
   },
   {
    "duration": 64,
    "start_time": "2025-02-27T11:06:41.946Z"
   },
   {
    "duration": 158,
    "start_time": "2025-02-27T11:06:42.012Z"
   },
   {
    "duration": 33,
    "start_time": "2025-02-27T11:06:42.172Z"
   },
   {
    "duration": 84,
    "start_time": "2025-02-27T11:06:42.208Z"
   },
   {
    "duration": 40,
    "start_time": "2025-02-27T11:06:42.294Z"
   },
   {
    "duration": 18,
    "start_time": "2025-02-27T11:06:42.335Z"
   },
   {
    "duration": 13,
    "start_time": "2025-02-27T11:06:42.371Z"
   },
   {
    "duration": 13,
    "start_time": "2025-02-27T11:06:42.386Z"
   },
   {
    "duration": 46,
    "start_time": "2025-02-27T11:06:42.401Z"
   },
   {
    "duration": 9,
    "start_time": "2025-02-27T11:06:42.471Z"
   },
   {
    "duration": 226,
    "start_time": "2025-02-27T11:06:42.482Z"
   },
   {
    "duration": 112,
    "start_time": "2025-02-27T11:06:42.709Z"
   },
   {
    "duration": 20,
    "start_time": "2025-02-27T11:06:42.822Z"
   },
   {
    "duration": 2571,
    "start_time": "2025-02-27T11:06:42.844Z"
   },
   {
    "duration": 22,
    "start_time": "2025-02-27T11:06:45.416Z"
   },
   {
    "duration": 35,
    "start_time": "2025-02-27T11:06:45.439Z"
   },
   {
    "duration": 10,
    "start_time": "2025-02-27T11:06:45.476Z"
   },
   {
    "duration": 47,
    "start_time": "2025-02-27T11:06:45.489Z"
   },
   {
    "duration": 8,
    "start_time": "2025-02-27T11:06:45.538Z"
   },
   {
    "duration": 40,
    "start_time": "2025-02-27T11:06:45.548Z"
   },
   {
    "duration": 61,
    "start_time": "2025-02-27T11:06:45.590Z"
   },
   {
    "duration": 55,
    "start_time": "2025-02-27T11:06:45.653Z"
   },
   {
    "duration": 7,
    "start_time": "2025-02-27T11:06:45.710Z"
   },
   {
    "duration": 127,
    "start_time": "2025-02-27T11:06:45.719Z"
   },
   {
    "duration": 78,
    "start_time": "2025-02-27T11:06:45.848Z"
   },
   {
    "duration": 24,
    "start_time": "2025-02-27T11:06:45.928Z"
   },
   {
    "duration": 185,
    "start_time": "2025-02-27T11:06:45.954Z"
   },
   {
    "duration": 108,
    "start_time": "2025-02-27T11:06:46.141Z"
   },
   {
    "duration": 29,
    "start_time": "2025-02-27T11:06:46.251Z"
   },
   {
    "duration": 357,
    "start_time": "2025-02-27T11:06:46.282Z"
   },
   {
    "duration": 9,
    "start_time": "2025-02-27T11:06:46.641Z"
   },
   {
    "duration": 118,
    "start_time": "2025-02-27T11:06:46.651Z"
   },
   {
    "duration": 29,
    "start_time": "2025-02-27T11:06:46.770Z"
   },
   {
    "duration": 73,
    "start_time": "2025-02-27T11:06:46.801Z"
   },
   {
    "duration": 34,
    "start_time": "2025-02-27T11:06:46.876Z"
   },
   {
    "duration": 62,
    "start_time": "2025-02-27T11:06:46.912Z"
   },
   {
    "duration": 31,
    "start_time": "2025-02-27T11:06:46.975Z"
   },
   {
    "duration": 67,
    "start_time": "2025-02-27T11:06:47.008Z"
   },
   {
    "duration": 173,
    "start_time": "2025-02-27T11:06:47.077Z"
   },
   {
    "duration": 174,
    "start_time": "2025-02-27T11:06:47.252Z"
   },
   {
    "duration": 11,
    "start_time": "2025-02-27T11:06:47.427Z"
   },
   {
    "duration": 10,
    "start_time": "2025-02-27T11:07:03.659Z"
   },
   {
    "duration": 163,
    "start_time": "2025-02-27T11:08:38.778Z"
   },
   {
    "duration": 169,
    "start_time": "2025-02-27T11:09:02.197Z"
   },
   {
    "duration": 157,
    "start_time": "2025-02-27T11:12:33.198Z"
   },
   {
    "duration": 244,
    "start_time": "2025-02-27T11:14:23.960Z"
   },
   {
    "duration": 252,
    "start_time": "2025-02-27T11:14:43.398Z"
   },
   {
    "duration": 185,
    "start_time": "2025-02-27T11:14:48.615Z"
   },
   {
    "duration": 183,
    "start_time": "2025-02-27T11:20:51.400Z"
   },
   {
    "duration": 172,
    "start_time": "2025-02-27T11:21:36.208Z"
   },
   {
    "duration": 175,
    "start_time": "2025-02-27T11:21:44.368Z"
   },
   {
    "duration": 5,
    "start_time": "2025-02-27T11:39:55.811Z"
   },
   {
    "duration": 7,
    "start_time": "2025-02-27T11:40:02.743Z"
   },
   {
    "duration": 14,
    "start_time": "2025-02-27T11:51:08.951Z"
   },
   {
    "duration": 51,
    "start_time": "2025-02-27T11:51:16.696Z"
   },
   {
    "duration": 38,
    "start_time": "2025-02-27T11:51:43.906Z"
   },
   {
    "duration": 32,
    "start_time": "2025-02-27T11:52:15.095Z"
   },
   {
    "duration": 50,
    "start_time": "2025-02-27T11:52:20.136Z"
   },
   {
    "duration": 73,
    "start_time": "2025-02-27T11:52:48.728Z"
   },
   {
    "duration": 54,
    "start_time": "2025-02-27T11:53:11.218Z"
   },
   {
    "duration": 31,
    "start_time": "2025-02-27T11:57:48.971Z"
   },
   {
    "duration": 10,
    "start_time": "2025-02-27T12:23:51.363Z"
   },
   {
    "duration": 12,
    "start_time": "2025-02-27T12:24:03.960Z"
   },
   {
    "duration": 9,
    "start_time": "2025-02-27T12:26:35.750Z"
   },
   {
    "duration": 9,
    "start_time": "2025-02-27T12:26:44.610Z"
   },
   {
    "duration": 28,
    "start_time": "2025-02-27T12:26:59.870Z"
   },
   {
    "duration": 20,
    "start_time": "2025-02-27T12:28:45.545Z"
   },
   {
    "duration": 17,
    "start_time": "2025-02-27T12:29:35.177Z"
   },
   {
    "duration": 20,
    "start_time": "2025-02-27T12:29:44.447Z"
   },
   {
    "duration": 22,
    "start_time": "2025-02-27T12:31:10.073Z"
   },
   {
    "duration": 5,
    "start_time": "2025-02-27T12:31:57.451Z"
   },
   {
    "duration": 9,
    "start_time": "2025-02-27T12:32:11.237Z"
   },
   {
    "duration": 6,
    "start_time": "2025-02-27T12:32:19.322Z"
   },
   {
    "duration": 11,
    "start_time": "2025-02-27T12:32:32.864Z"
   },
   {
    "duration": 19,
    "start_time": "2025-02-27T12:32:50.165Z"
   },
   {
    "duration": 16,
    "start_time": "2025-02-27T12:32:56.100Z"
   },
   {
    "duration": 162,
    "start_time": "2025-02-27T12:46:21.986Z"
   },
   {
    "duration": 611,
    "start_time": "2025-02-27T12:47:03.316Z"
   },
   {
    "duration": 8,
    "start_time": "2025-02-27T12:51:10.652Z"
   },
   {
    "duration": 10,
    "start_time": "2025-02-27T12:53:39.242Z"
   },
   {
    "duration": 8,
    "start_time": "2025-02-27T13:03:04.765Z"
   },
   {
    "duration": 43,
    "start_time": "2025-02-27T13:06:21.341Z"
   },
   {
    "duration": 13,
    "start_time": "2025-02-27T13:10:59.873Z"
   },
   {
    "duration": 33,
    "start_time": "2025-02-27T13:11:01.184Z"
   },
   {
    "duration": 10,
    "start_time": "2025-02-27T13:11:08.405Z"
   },
   {
    "duration": 23,
    "start_time": "2025-02-27T13:11:09.047Z"
   },
   {
    "duration": 11,
    "start_time": "2025-02-27T13:11:15.942Z"
   },
   {
    "duration": 27,
    "start_time": "2025-02-27T13:11:16.829Z"
   },
   {
    "duration": 24,
    "start_time": "2025-02-27T13:11:17.582Z"
   },
   {
    "duration": 58,
    "start_time": "2025-02-27T13:11:19.264Z"
   },
   {
    "duration": 13,
    "start_time": "2025-02-27T13:11:19.489Z"
   },
   {
    "duration": 16,
    "start_time": "2025-02-27T13:11:21.516Z"
   },
   {
    "duration": 12,
    "start_time": "2025-02-27T13:11:22.826Z"
   },
   {
    "duration": 14,
    "start_time": "2025-02-27T13:20:39.492Z"
   },
   {
    "duration": 17,
    "start_time": "2025-02-27T13:20:45.243Z"
   },
   {
    "duration": 19,
    "start_time": "2025-02-27T13:21:11.228Z"
   },
   {
    "duration": 17,
    "start_time": "2025-02-27T13:21:50.221Z"
   },
   {
    "duration": 17,
    "start_time": "2025-02-27T13:21:58.147Z"
   },
   {
    "duration": 16,
    "start_time": "2025-02-27T13:23:30.003Z"
   },
   {
    "duration": 17,
    "start_time": "2025-02-27T13:23:45.304Z"
   },
   {
    "duration": 13,
    "start_time": "2025-02-27T13:36:16.867Z"
   },
   {
    "duration": 18,
    "start_time": "2025-02-27T13:36:45.567Z"
   },
   {
    "duration": 16,
    "start_time": "2025-02-27T13:36:52.913Z"
   },
   {
    "duration": 17,
    "start_time": "2025-02-27T13:39:11.674Z"
   },
   {
    "duration": 16,
    "start_time": "2025-02-27T13:39:24.600Z"
   },
   {
    "duration": 15,
    "start_time": "2025-02-27T13:39:34.116Z"
   },
   {
    "duration": 16,
    "start_time": "2025-02-27T13:39:38.775Z"
   },
   {
    "duration": 15,
    "start_time": "2025-02-27T13:39:41.921Z"
   },
   {
    "duration": 19,
    "start_time": "2025-02-27T13:39:44.859Z"
   },
   {
    "duration": 16,
    "start_time": "2025-02-27T13:39:59.595Z"
   },
   {
    "duration": 16,
    "start_time": "2025-02-27T13:43:19.845Z"
   },
   {
    "duration": 16,
    "start_time": "2025-02-27T13:43:32.384Z"
   },
   {
    "duration": 17,
    "start_time": "2025-02-27T13:44:38.852Z"
   },
   {
    "duration": 20,
    "start_time": "2025-02-27T13:47:00.203Z"
   },
   {
    "duration": 14,
    "start_time": "2025-02-27T13:48:17.850Z"
   },
   {
    "duration": 25,
    "start_time": "2025-02-27T13:48:36.996Z"
   },
   {
    "duration": 14,
    "start_time": "2025-02-27T13:48:44.563Z"
   },
   {
    "duration": 24,
    "start_time": "2025-02-27T13:48:59.684Z"
   },
   {
    "duration": 26,
    "start_time": "2025-02-27T13:49:38.364Z"
   },
   {
    "duration": 23,
    "start_time": "2025-02-27T13:49:49.157Z"
   },
   {
    "duration": 23,
    "start_time": "2025-02-27T13:50:00.419Z"
   },
   {
    "duration": 22,
    "start_time": "2025-02-27T13:50:04.393Z"
   },
   {
    "duration": 23,
    "start_time": "2025-02-27T13:50:10.389Z"
   },
   {
    "duration": 22,
    "start_time": "2025-02-27T13:50:13.898Z"
   },
   {
    "duration": 16,
    "start_time": "2025-02-27T13:50:30.879Z"
   },
   {
    "duration": 10,
    "start_time": "2025-02-27T13:59:27.813Z"
   },
   {
    "duration": 9,
    "start_time": "2025-02-27T14:00:31.194Z"
   },
   {
    "duration": 8,
    "start_time": "2025-02-27T14:00:42.154Z"
   },
   {
    "duration": 8,
    "start_time": "2025-02-27T14:00:45.362Z"
   },
   {
    "duration": 9,
    "start_time": "2025-02-27T14:02:04.783Z"
   },
   {
    "duration": 6,
    "start_time": "2025-02-27T14:02:21.577Z"
   },
   {
    "duration": 11,
    "start_time": "2025-02-27T14:02:32.536Z"
   },
   {
    "duration": 457,
    "start_time": "2025-02-27T14:02:45.579Z"
   },
   {
    "duration": 5,
    "start_time": "2025-02-27T14:03:05.058Z"
   },
   {
    "duration": 10,
    "start_time": "2025-02-27T14:03:18.845Z"
   },
   {
    "duration": 5,
    "start_time": "2025-02-27T14:03:34.215Z"
   },
   {
    "duration": 12,
    "start_time": "2025-02-27T14:03:41.599Z"
   },
   {
    "duration": 12,
    "start_time": "2025-02-27T14:03:44.161Z"
   },
   {
    "duration": 12,
    "start_time": "2025-02-27T14:04:17.405Z"
   },
   {
    "duration": 11,
    "start_time": "2025-02-27T14:04:23.043Z"
   },
   {
    "duration": 21,
    "start_time": "2025-02-27T14:04:55.382Z"
   },
   {
    "duration": 11,
    "start_time": "2025-02-27T14:04:59.129Z"
   },
   {
    "duration": 10,
    "start_time": "2025-02-27T14:05:52.808Z"
   },
   {
    "duration": 10,
    "start_time": "2025-02-27T14:06:03.543Z"
   },
   {
    "duration": 22,
    "start_time": "2025-02-27T14:06:10.460Z"
   },
   {
    "duration": 1291,
    "start_time": "2025-02-27T14:06:44.154Z"
   },
   {
    "duration": 3852,
    "start_time": "2025-02-27T14:06:45.448Z"
   },
   {
    "duration": 11,
    "start_time": "2025-02-27T14:06:49.301Z"
   },
   {
    "duration": 31,
    "start_time": "2025-02-27T14:06:49.314Z"
   },
   {
    "duration": 92,
    "start_time": "2025-02-27T14:06:49.347Z"
   },
   {
    "duration": 111,
    "start_time": "2025-02-27T14:06:49.441Z"
   },
   {
    "duration": 18,
    "start_time": "2025-02-27T14:06:49.554Z"
   },
   {
    "duration": 29,
    "start_time": "2025-02-27T14:06:49.582Z"
   },
   {
    "duration": 11,
    "start_time": "2025-02-27T14:06:49.612Z"
   },
   {
    "duration": 57,
    "start_time": "2025-02-27T14:06:49.626Z"
   },
   {
    "duration": 9,
    "start_time": "2025-02-27T14:06:49.694Z"
   },
   {
    "duration": 36,
    "start_time": "2025-02-27T14:06:49.704Z"
   },
   {
    "duration": 9,
    "start_time": "2025-02-27T14:06:49.742Z"
   },
   {
    "duration": 50,
    "start_time": "2025-02-27T14:06:49.752Z"
   },
   {
    "duration": 6,
    "start_time": "2025-02-27T14:06:49.804Z"
   },
   {
    "duration": 14,
    "start_time": "2025-02-27T14:06:49.811Z"
   },
   {
    "duration": 15,
    "start_time": "2025-02-27T14:06:49.826Z"
   },
   {
    "duration": 60,
    "start_time": "2025-02-27T14:06:49.843Z"
   },
   {
    "duration": 10,
    "start_time": "2025-02-27T14:06:49.905Z"
   },
   {
    "duration": 427,
    "start_time": "2025-02-27T14:06:49.916Z"
   },
   {
    "duration": 72,
    "start_time": "2025-02-27T14:06:50.344Z"
   },
   {
    "duration": 203,
    "start_time": "2025-02-27T14:06:50.417Z"
   },
   {
    "duration": 69,
    "start_time": "2025-02-27T14:06:50.622Z"
   },
   {
    "duration": 20,
    "start_time": "2025-02-27T14:06:50.697Z"
   },
   {
    "duration": 1335,
    "start_time": "2025-02-27T14:06:50.719Z"
   },
   {
    "duration": 191,
    "start_time": "2025-02-27T14:06:52.056Z"
   },
   {
    "duration": 40,
    "start_time": "2025-02-27T14:06:52.249Z"
   },
   {
    "duration": 130,
    "start_time": "2025-02-27T14:06:52.296Z"
   },
   {
    "duration": 30,
    "start_time": "2025-02-27T14:06:52.428Z"
   },
   {
    "duration": 58,
    "start_time": "2025-02-27T14:06:52.460Z"
   },
   {
    "duration": 725,
    "start_time": "2025-02-27T14:06:52.520Z"
   },
   {
    "duration": 189,
    "start_time": "2025-02-27T14:06:53.247Z"
   },
   {
    "duration": 122,
    "start_time": "2025-02-27T14:06:53.437Z"
   },
   {
    "duration": 76,
    "start_time": "2025-02-27T14:06:53.561Z"
   },
   {
    "duration": 191,
    "start_time": "2025-02-27T14:06:53.639Z"
   },
   {
    "duration": 56,
    "start_time": "2025-02-27T14:06:53.831Z"
   },
   {
    "duration": 71,
    "start_time": "2025-02-27T14:06:53.891Z"
   },
   {
    "duration": 61,
    "start_time": "2025-02-27T14:06:53.963Z"
   },
   {
    "duration": 18,
    "start_time": "2025-02-27T14:06:54.026Z"
   },
   {
    "duration": 41,
    "start_time": "2025-02-27T14:06:54.046Z"
   },
   {
    "duration": 17,
    "start_time": "2025-02-27T14:06:54.091Z"
   },
   {
    "duration": 52,
    "start_time": "2025-02-27T14:06:54.110Z"
   },
   {
    "duration": 26,
    "start_time": "2025-02-27T14:06:54.165Z"
   },
   {
    "duration": 249,
    "start_time": "2025-02-27T14:06:54.197Z"
   },
   {
    "duration": 132,
    "start_time": "2025-02-27T14:06:54.448Z"
   },
   {
    "duration": 25,
    "start_time": "2025-02-27T14:06:54.590Z"
   },
   {
    "duration": 3122,
    "start_time": "2025-02-27T14:06:54.617Z"
   },
   {
    "duration": 41,
    "start_time": "2025-02-27T14:06:57.740Z"
   },
   {
    "duration": 25,
    "start_time": "2025-02-27T14:06:57.784Z"
   },
   {
    "duration": 50,
    "start_time": "2025-02-27T14:06:57.810Z"
   },
   {
    "duration": 49,
    "start_time": "2025-02-27T14:06:57.862Z"
   },
   {
    "duration": 6,
    "start_time": "2025-02-27T14:06:57.912Z"
   },
   {
    "duration": 10,
    "start_time": "2025-02-27T14:06:57.919Z"
   },
   {
    "duration": 42,
    "start_time": "2025-02-27T14:06:57.930Z"
   },
   {
    "duration": 34,
    "start_time": "2025-02-27T14:06:57.982Z"
   },
   {
    "duration": 9,
    "start_time": "2025-02-27T14:06:58.018Z"
   },
   {
    "duration": 95,
    "start_time": "2025-02-27T14:06:58.029Z"
   },
   {
    "duration": 113,
    "start_time": "2025-02-27T14:06:58.126Z"
   },
   {
    "duration": 49,
    "start_time": "2025-02-27T14:06:58.241Z"
   },
   {
    "duration": 163,
    "start_time": "2025-02-27T14:06:58.293Z"
   },
   {
    "duration": 125,
    "start_time": "2025-02-27T14:06:58.458Z"
   },
   {
    "duration": 29,
    "start_time": "2025-02-27T14:06:58.588Z"
   },
   {
    "duration": 363,
    "start_time": "2025-02-27T14:06:58.618Z"
   },
   {
    "duration": 13,
    "start_time": "2025-02-27T14:06:58.983Z"
   },
   {
    "duration": 60,
    "start_time": "2025-02-27T14:06:59.000Z"
   },
   {
    "duration": 29,
    "start_time": "2025-02-27T14:06:59.061Z"
   },
   {
    "duration": 61,
    "start_time": "2025-02-27T14:06:59.094Z"
   },
   {
    "duration": 45,
    "start_time": "2025-02-27T14:06:59.156Z"
   },
   {
    "duration": 19,
    "start_time": "2025-02-27T14:06:59.203Z"
   },
   {
    "duration": 16,
    "start_time": "2025-02-27T14:06:59.224Z"
   },
   {
    "duration": 105,
    "start_time": "2025-02-27T14:06:59.242Z"
   },
   {
    "duration": 188,
    "start_time": "2025-02-27T14:06:59.348Z"
   },
   {
    "duration": 202,
    "start_time": "2025-02-27T14:06:59.538Z"
   },
   {
    "duration": 69,
    "start_time": "2025-02-27T14:06:59.742Z"
   },
   {
    "duration": 30,
    "start_time": "2025-02-27T14:06:59.812Z"
   },
   {
    "duration": 53,
    "start_time": "2025-02-27T14:06:59.844Z"
   },
   {
    "duration": 8,
    "start_time": "2025-02-27T14:06:59.900Z"
   },
   {
    "duration": 28,
    "start_time": "2025-02-27T14:06:59.910Z"
   },
   {
    "duration": 155,
    "start_time": "2025-02-27T14:06:59.940Z"
   },
   {
    "duration": 82,
    "start_time": "2025-02-27T14:09:09.760Z"
   },
   {
    "duration": 89,
    "start_time": "2025-02-27T14:09:39.450Z"
   },
   {
    "duration": 85,
    "start_time": "2025-02-27T14:09:42.707Z"
   },
   {
    "duration": 110,
    "start_time": "2025-02-27T14:09:51.813Z"
   },
   {
    "duration": 71,
    "start_time": "2025-02-27T14:10:24.883Z"
   },
   {
    "duration": 77,
    "start_time": "2025-02-27T14:11:09.438Z"
   },
   {
    "duration": 74,
    "start_time": "2025-02-27T14:11:20.031Z"
   },
   {
    "duration": 77,
    "start_time": "2025-02-27T14:11:23.443Z"
   },
   {
    "duration": 121,
    "start_time": "2025-02-27T14:11:45.957Z"
   },
   {
    "duration": 82,
    "start_time": "2025-02-27T14:11:52.716Z"
   },
   {
    "duration": 102,
    "start_time": "2025-02-27T14:12:20.995Z"
   },
   {
    "duration": 74,
    "start_time": "2025-02-27T14:12:25.057Z"
   },
   {
    "duration": 76,
    "start_time": "2025-02-27T14:15:11.939Z"
   },
   {
    "duration": 79,
    "start_time": "2025-02-27T14:15:44.727Z"
   },
   {
    "duration": 68,
    "start_time": "2025-02-27T14:15:46.992Z"
   },
   {
    "duration": 102,
    "start_time": "2025-02-27T14:16:58.915Z"
   },
   {
    "duration": 76,
    "start_time": "2025-02-27T14:17:18.777Z"
   },
   {
    "duration": 62,
    "start_time": "2025-02-27T14:17:25.805Z"
   },
   {
    "duration": 66,
    "start_time": "2025-02-27T14:17:38.509Z"
   },
   {
    "duration": 76,
    "start_time": "2025-02-27T14:17:44.819Z"
   },
   {
    "duration": 73,
    "start_time": "2025-02-27T14:17:59.759Z"
   },
   {
    "duration": 17,
    "start_time": "2025-02-27T14:19:27.641Z"
   },
   {
    "duration": 15,
    "start_time": "2025-02-27T14:20:24.623Z"
   },
   {
    "duration": 16,
    "start_time": "2025-02-27T14:20:33.095Z"
   },
   {
    "duration": 10,
    "start_time": "2025-02-27T14:40:40.663Z"
   },
   {
    "duration": 27,
    "start_time": "2025-02-27T14:40:41.211Z"
   },
   {
    "duration": 17,
    "start_time": "2025-02-27T14:40:42.196Z"
   },
   {
    "duration": 66,
    "start_time": "2025-02-27T14:40:45.351Z"
   },
   {
    "duration": 13,
    "start_time": "2025-02-27T14:40:46.106Z"
   },
   {
    "duration": 12,
    "start_time": "2025-02-27T14:40:46.727Z"
   },
   {
    "duration": 12,
    "start_time": "2025-02-27T14:40:49.282Z"
   },
   {
    "duration": 5,
    "start_time": "2025-02-27T14:43:09.145Z"
   },
   {
    "duration": 6,
    "start_time": "2025-02-27T14:43:21.408Z"
   },
   {
    "duration": 12,
    "start_time": "2025-02-27T14:45:41.671Z"
   },
   {
    "duration": 8,
    "start_time": "2025-02-27T14:45:48.757Z"
   },
   {
    "duration": 8,
    "start_time": "2025-02-27T14:46:51.690Z"
   },
   {
    "duration": 8,
    "start_time": "2025-02-27T14:46:59.135Z"
   },
   {
    "duration": 6,
    "start_time": "2025-02-27T14:47:07.414Z"
   },
   {
    "duration": 8,
    "start_time": "2025-02-27T14:47:14.803Z"
   },
   {
    "duration": 14,
    "start_time": "2025-02-27T14:47:21.965Z"
   },
   {
    "duration": 11,
    "start_time": "2025-02-27T14:47:30.206Z"
   },
   {
    "duration": 14,
    "start_time": "2025-02-27T14:48:04.779Z"
   },
   {
    "duration": 11,
    "start_time": "2025-02-27T14:48:29.786Z"
   },
   {
    "duration": 182,
    "start_time": "2025-02-27T14:52:19.862Z"
   },
   {
    "duration": 179,
    "start_time": "2025-02-27T14:52:41.126Z"
   },
   {
    "duration": 175,
    "start_time": "2025-02-27T14:52:46.986Z"
   },
   {
    "duration": 170,
    "start_time": "2025-02-27T14:53:05.795Z"
   },
   {
    "duration": 266,
    "start_time": "2025-02-27T14:53:20.191Z"
   },
   {
    "duration": 181,
    "start_time": "2025-02-27T14:54:27.698Z"
   },
   {
    "duration": 188,
    "start_time": "2025-02-27T14:57:17.857Z"
   },
   {
    "duration": 1180,
    "start_time": "2025-02-27T15:10:50.855Z"
   },
   {
    "duration": 2091,
    "start_time": "2025-02-27T15:10:52.037Z"
   },
   {
    "duration": 10,
    "start_time": "2025-02-27T15:10:54.130Z"
   },
   {
    "duration": 23,
    "start_time": "2025-02-27T15:10:54.142Z"
   },
   {
    "duration": 36,
    "start_time": "2025-02-27T15:10:54.167Z"
   },
   {
    "duration": 114,
    "start_time": "2025-02-27T15:10:54.205Z"
   },
   {
    "duration": 7,
    "start_time": "2025-02-27T15:10:54.321Z"
   },
   {
    "duration": 32,
    "start_time": "2025-02-27T15:10:54.330Z"
   },
   {
    "duration": 20,
    "start_time": "2025-02-27T15:10:54.364Z"
   },
   {
    "duration": 37,
    "start_time": "2025-02-27T15:10:54.388Z"
   },
   {
    "duration": 10,
    "start_time": "2025-02-27T15:10:54.427Z"
   },
   {
    "duration": 53,
    "start_time": "2025-02-27T15:10:54.439Z"
   },
   {
    "duration": 9,
    "start_time": "2025-02-27T15:10:54.494Z"
   },
   {
    "duration": 13,
    "start_time": "2025-02-27T15:10:54.504Z"
   },
   {
    "duration": 6,
    "start_time": "2025-02-27T15:10:54.518Z"
   },
   {
    "duration": 10,
    "start_time": "2025-02-27T15:10:54.525Z"
   },
   {
    "duration": 46,
    "start_time": "2025-02-27T15:10:54.536Z"
   },
   {
    "duration": 27,
    "start_time": "2025-02-27T15:10:54.585Z"
   },
   {
    "duration": 9,
    "start_time": "2025-02-27T15:10:54.613Z"
   },
   {
    "duration": 421,
    "start_time": "2025-02-27T15:10:54.624Z"
   },
   {
    "duration": 61,
    "start_time": "2025-02-27T15:10:55.047Z"
   },
   {
    "duration": 192,
    "start_time": "2025-02-27T15:10:55.110Z"
   },
   {
    "duration": 45,
    "start_time": "2025-02-27T15:10:55.304Z"
   },
   {
    "duration": 44,
    "start_time": "2025-02-27T15:10:55.350Z"
   },
   {
    "duration": 1247,
    "start_time": "2025-02-27T15:10:55.396Z"
   },
   {
    "duration": 167,
    "start_time": "2025-02-27T15:10:56.644Z"
   },
   {
    "duration": 22,
    "start_time": "2025-02-27T15:10:56.813Z"
   },
   {
    "duration": 103,
    "start_time": "2025-02-27T15:10:56.874Z"
   },
   {
    "duration": 33,
    "start_time": "2025-02-27T15:10:56.982Z"
   },
   {
    "duration": 12,
    "start_time": "2025-02-27T15:10:57.016Z"
   },
   {
    "duration": 722,
    "start_time": "2025-02-27T15:10:57.029Z"
   },
   {
    "duration": 167,
    "start_time": "2025-02-27T15:10:57.753Z"
   },
   {
    "duration": 109,
    "start_time": "2025-02-27T15:10:57.921Z"
   },
   {
    "duration": 75,
    "start_time": "2025-02-27T15:10:58.031Z"
   },
   {
    "duration": 172,
    "start_time": "2025-02-27T15:10:58.108Z"
   },
   {
    "duration": 35,
    "start_time": "2025-02-27T15:10:58.283Z"
   },
   {
    "duration": 86,
    "start_time": "2025-02-27T15:10:58.320Z"
   },
   {
    "duration": 40,
    "start_time": "2025-02-27T15:10:58.408Z"
   },
   {
    "duration": 43,
    "start_time": "2025-02-27T15:10:58.450Z"
   },
   {
    "duration": 15,
    "start_time": "2025-02-27T15:10:58.495Z"
   },
   {
    "duration": 34,
    "start_time": "2025-02-27T15:10:58.512Z"
   },
   {
    "duration": 75,
    "start_time": "2025-02-27T15:10:58.547Z"
   },
   {
    "duration": 11,
    "start_time": "2025-02-27T15:10:58.624Z"
   },
   {
    "duration": 262,
    "start_time": "2025-02-27T15:10:58.636Z"
   },
   {
    "duration": 120,
    "start_time": "2025-02-27T15:10:58.899Z"
   },
   {
    "duration": 19,
    "start_time": "2025-02-27T15:10:59.020Z"
   },
   {
    "duration": 2805,
    "start_time": "2025-02-27T15:10:59.040Z"
   },
   {
    "duration": 37,
    "start_time": "2025-02-27T15:11:01.846Z"
   },
   {
    "duration": 29,
    "start_time": "2025-02-27T15:11:01.886Z"
   },
   {
    "duration": 31,
    "start_time": "2025-02-27T15:11:01.917Z"
   },
   {
    "duration": 60,
    "start_time": "2025-02-27T15:11:01.949Z"
   },
   {
    "duration": 20,
    "start_time": "2025-02-27T15:11:02.011Z"
   },
   {
    "duration": 62,
    "start_time": "2025-02-27T15:11:02.032Z"
   },
   {
    "duration": 52,
    "start_time": "2025-02-27T15:11:02.095Z"
   },
   {
    "duration": 59,
    "start_time": "2025-02-27T15:11:02.148Z"
   },
   {
    "duration": 16,
    "start_time": "2025-02-27T15:11:02.209Z"
   },
   {
    "duration": 154,
    "start_time": "2025-02-27T15:11:02.227Z"
   },
   {
    "duration": 139,
    "start_time": "2025-02-27T15:11:02.384Z"
   },
   {
    "duration": 22,
    "start_time": "2025-02-27T15:11:02.525Z"
   },
   {
    "duration": 185,
    "start_time": "2025-02-27T15:11:02.548Z"
   },
   {
    "duration": 114,
    "start_time": "2025-02-27T15:11:02.735Z"
   },
   {
    "duration": 41,
    "start_time": "2025-02-27T15:11:02.851Z"
   },
   {
    "duration": 345,
    "start_time": "2025-02-27T15:11:02.894Z"
   },
   {
    "duration": 8,
    "start_time": "2025-02-27T15:11:03.241Z"
   },
   {
    "duration": 68,
    "start_time": "2025-02-27T15:11:03.251Z"
   },
   {
    "duration": 23,
    "start_time": "2025-02-27T15:11:03.321Z"
   },
   {
    "duration": 114,
    "start_time": "2025-02-27T15:11:03.346Z"
   },
   {
    "duration": 21,
    "start_time": "2025-02-27T15:11:03.462Z"
   },
   {
    "duration": 21,
    "start_time": "2025-02-27T15:11:03.487Z"
   },
   {
    "duration": 50,
    "start_time": "2025-02-27T15:11:03.509Z"
   },
   {
    "duration": 85,
    "start_time": "2025-02-27T15:11:03.561Z"
   },
   {
    "duration": 169,
    "start_time": "2025-02-27T15:11:03.648Z"
   },
   {
    "duration": 187,
    "start_time": "2025-02-27T15:11:03.819Z"
   },
   {
    "duration": 69,
    "start_time": "2025-02-27T15:11:04.007Z"
   },
   {
    "duration": 34,
    "start_time": "2025-02-27T15:11:04.080Z"
   },
   {
    "duration": 38,
    "start_time": "2025-02-27T15:11:04.115Z"
   },
   {
    "duration": 48,
    "start_time": "2025-02-27T15:11:04.154Z"
   },
   {
    "duration": 56,
    "start_time": "2025-02-27T15:11:04.204Z"
   },
   {
    "duration": 104,
    "start_time": "2025-02-27T15:11:04.262Z"
   },
   {
    "duration": 23,
    "start_time": "2025-02-27T15:11:04.367Z"
   },
   {
    "duration": 194,
    "start_time": "2025-02-27T15:11:04.392Z"
   },
   {
    "duration": 540,
    "start_time": "2025-02-27T16:03:05.810Z"
   },
   {
    "duration": 3,
    "start_time": "2025-02-27T16:20:20.221Z"
   },
   {
    "duration": 103,
    "start_time": "2025-02-27T16:33:03.732Z"
   },
   {
    "duration": 110,
    "start_time": "2025-02-27T16:36:55.863Z"
   },
   {
    "duration": 1130,
    "start_time": "2025-02-27T16:38:16.155Z"
   },
   {
    "duration": 1940,
    "start_time": "2025-02-27T16:38:17.287Z"
   },
   {
    "duration": 14,
    "start_time": "2025-02-27T16:38:19.229Z"
   },
   {
    "duration": 11,
    "start_time": "2025-02-27T16:38:19.245Z"
   },
   {
    "duration": 22,
    "start_time": "2025-02-27T16:38:19.257Z"
   },
   {
    "duration": 101,
    "start_time": "2025-02-27T16:38:19.281Z"
   },
   {
    "duration": 7,
    "start_time": "2025-02-27T16:38:19.383Z"
   },
   {
    "duration": 22,
    "start_time": "2025-02-27T16:38:19.391Z"
   },
   {
    "duration": 17,
    "start_time": "2025-02-27T16:38:19.415Z"
   },
   {
    "duration": 39,
    "start_time": "2025-02-27T16:38:19.435Z"
   },
   {
    "duration": 6,
    "start_time": "2025-02-27T16:38:19.476Z"
   },
   {
    "duration": 43,
    "start_time": "2025-02-27T16:38:19.484Z"
   },
   {
    "duration": 9,
    "start_time": "2025-02-27T16:38:19.529Z"
   },
   {
    "duration": 13,
    "start_time": "2025-02-27T16:38:19.539Z"
   },
   {
    "duration": 6,
    "start_time": "2025-02-27T16:38:19.553Z"
   },
   {
    "duration": 38,
    "start_time": "2025-02-27T16:38:19.560Z"
   },
   {
    "duration": 30,
    "start_time": "2025-02-27T16:38:19.600Z"
   },
   {
    "duration": 46,
    "start_time": "2025-02-27T16:38:19.631Z"
   },
   {
    "duration": 21,
    "start_time": "2025-02-27T16:38:19.679Z"
   },
   {
    "duration": 376,
    "start_time": "2025-02-27T16:38:19.702Z"
   },
   {
    "duration": 40,
    "start_time": "2025-02-27T16:38:20.080Z"
   },
   {
    "duration": 164,
    "start_time": "2025-02-27T16:38:20.121Z"
   },
   {
    "duration": 43,
    "start_time": "2025-02-27T16:38:20.286Z"
   },
   {
    "duration": 18,
    "start_time": "2025-02-27T16:38:20.330Z"
   },
   {
    "duration": 1099,
    "start_time": "2025-02-27T16:38:20.371Z"
   },
   {
    "duration": 147,
    "start_time": "2025-02-27T16:38:21.472Z"
   },
   {
    "duration": 22,
    "start_time": "2025-02-27T16:38:21.620Z"
   },
   {
    "duration": 100,
    "start_time": "2025-02-27T16:38:21.677Z"
   },
   {
    "duration": 34,
    "start_time": "2025-02-27T16:38:21.778Z"
   },
   {
    "duration": 12,
    "start_time": "2025-02-27T16:38:21.814Z"
   },
   {
    "duration": 660,
    "start_time": "2025-02-27T16:38:21.827Z"
   },
   {
    "duration": 149,
    "start_time": "2025-02-27T16:38:22.489Z"
   },
   {
    "duration": 102,
    "start_time": "2025-02-27T16:38:22.640Z"
   },
   {
    "duration": 71,
    "start_time": "2025-02-27T16:38:22.744Z"
   },
   {
    "duration": 162,
    "start_time": "2025-02-27T16:38:22.817Z"
   },
   {
    "duration": 34,
    "start_time": "2025-02-27T16:38:22.981Z"
   },
   {
    "duration": 86,
    "start_time": "2025-02-27T16:38:23.016Z"
   },
   {
    "duration": 41,
    "start_time": "2025-02-27T16:38:23.104Z"
   },
   {
    "duration": 37,
    "start_time": "2025-02-27T16:38:23.147Z"
   },
   {
    "duration": 13,
    "start_time": "2025-02-27T16:38:23.186Z"
   },
   {
    "duration": 13,
    "start_time": "2025-02-27T16:38:23.201Z"
   },
   {
    "duration": 69,
    "start_time": "2025-02-27T16:38:23.216Z"
   },
   {
    "duration": 9,
    "start_time": "2025-02-27T16:38:23.286Z"
   },
   {
    "duration": 216,
    "start_time": "2025-02-27T16:38:23.296Z"
   },
   {
    "duration": 112,
    "start_time": "2025-02-27T16:38:23.514Z"
   },
   {
    "duration": 20,
    "start_time": "2025-02-27T16:38:23.628Z"
   },
   {
    "duration": 2574,
    "start_time": "2025-02-27T16:38:23.650Z"
   },
   {
    "duration": 21,
    "start_time": "2025-02-27T16:38:26.226Z"
   },
   {
    "duration": 30,
    "start_time": "2025-02-27T16:38:26.248Z"
   },
   {
    "duration": 8,
    "start_time": "2025-02-27T16:38:26.279Z"
   },
   {
    "duration": 23,
    "start_time": "2025-02-27T16:38:26.288Z"
   },
   {
    "duration": 51,
    "start_time": "2025-02-27T16:38:26.312Z"
   },
   {
    "duration": 29,
    "start_time": "2025-02-27T16:38:26.365Z"
   },
   {
    "duration": 39,
    "start_time": "2025-02-27T16:38:26.396Z"
   },
   {
    "duration": 26,
    "start_time": "2025-02-27T16:38:26.436Z"
   },
   {
    "duration": 13,
    "start_time": "2025-02-27T16:38:26.464Z"
   },
   {
    "duration": 83,
    "start_time": "2025-02-27T16:38:26.479Z"
   },
   {
    "duration": 72,
    "start_time": "2025-02-27T16:38:26.564Z"
   },
   {
    "duration": 22,
    "start_time": "2025-02-27T16:38:26.638Z"
   },
   {
    "duration": 153,
    "start_time": "2025-02-27T16:38:26.670Z"
   },
   {
    "duration": 111,
    "start_time": "2025-02-27T16:38:26.824Z"
   },
   {
    "duration": 25,
    "start_time": "2025-02-27T16:38:26.936Z"
   },
   {
    "duration": 282,
    "start_time": "2025-02-27T16:38:26.971Z"
   },
   {
    "duration": 8,
    "start_time": "2025-02-27T16:38:27.254Z"
   },
   {
    "duration": 39,
    "start_time": "2025-02-27T16:38:27.270Z"
   },
   {
    "duration": 18,
    "start_time": "2025-02-27T16:38:27.311Z"
   },
   {
    "duration": 81,
    "start_time": "2025-02-27T16:38:27.330Z"
   },
   {
    "duration": 14,
    "start_time": "2025-02-27T16:38:27.412Z"
   },
   {
    "duration": 27,
    "start_time": "2025-02-27T16:38:27.427Z"
   },
   {
    "duration": 15,
    "start_time": "2025-02-27T16:38:27.456Z"
   },
   {
    "duration": 63,
    "start_time": "2025-02-27T16:38:27.473Z"
   },
   {
    "duration": 184,
    "start_time": "2025-02-27T16:38:27.537Z"
   },
   {
    "duration": 173,
    "start_time": "2025-02-27T16:38:27.723Z"
   },
   {
    "duration": 47,
    "start_time": "2025-02-27T16:38:27.897Z"
   },
   {
    "duration": 51,
    "start_time": "2025-02-27T16:38:27.946Z"
   },
   {
    "duration": 22,
    "start_time": "2025-02-27T16:38:27.999Z"
   },
   {
    "duration": 7,
    "start_time": "2025-02-27T16:38:28.023Z"
   },
   {
    "duration": 95,
    "start_time": "2025-02-27T16:38:28.032Z"
   },
   {
    "duration": 65,
    "start_time": "2025-02-27T16:38:28.129Z"
   },
   {
    "duration": 11,
    "start_time": "2025-02-27T16:38:28.196Z"
   },
   {
    "duration": 179,
    "start_time": "2025-02-27T16:38:28.209Z"
   },
   {
    "duration": 1145,
    "start_time": "2025-02-27T16:40:18.064Z"
   },
   {
    "duration": 2427,
    "start_time": "2025-02-27T16:40:19.211Z"
   },
   {
    "duration": 12,
    "start_time": "2025-02-27T16:40:21.640Z"
   },
   {
    "duration": 42,
    "start_time": "2025-02-27T16:40:21.654Z"
   },
   {
    "duration": 35,
    "start_time": "2025-02-27T16:40:21.699Z"
   },
   {
    "duration": 111,
    "start_time": "2025-02-27T16:40:21.736Z"
   },
   {
    "duration": 7,
    "start_time": "2025-02-27T16:40:21.848Z"
   },
   {
    "duration": 31,
    "start_time": "2025-02-27T16:40:21.856Z"
   },
   {
    "duration": 18,
    "start_time": "2025-02-27T16:40:21.889Z"
   },
   {
    "duration": 40,
    "start_time": "2025-02-27T16:40:21.908Z"
   },
   {
    "duration": 6,
    "start_time": "2025-02-27T16:40:21.950Z"
   },
   {
    "duration": 40,
    "start_time": "2025-02-27T16:40:21.958Z"
   },
   {
    "duration": 17,
    "start_time": "2025-02-27T16:40:21.999Z"
   },
   {
    "duration": 19,
    "start_time": "2025-02-27T16:40:22.018Z"
   },
   {
    "duration": 6,
    "start_time": "2025-02-27T16:40:22.039Z"
   },
   {
    "duration": 15,
    "start_time": "2025-02-27T16:40:22.046Z"
   },
   {
    "duration": 18,
    "start_time": "2025-02-27T16:40:22.063Z"
   },
   {
    "duration": 24,
    "start_time": "2025-02-27T16:40:22.082Z"
   },
   {
    "duration": 8,
    "start_time": "2025-02-27T16:40:22.108Z"
   },
   {
    "duration": 380,
    "start_time": "2025-02-27T16:40:22.117Z"
   },
   {
    "duration": 39,
    "start_time": "2025-02-27T16:40:22.499Z"
   },
   {
    "duration": 163,
    "start_time": "2025-02-27T16:40:22.540Z"
   },
   {
    "duration": 41,
    "start_time": "2025-02-27T16:40:22.705Z"
   },
   {
    "duration": 36,
    "start_time": "2025-02-27T16:40:22.748Z"
   },
   {
    "duration": 1113,
    "start_time": "2025-02-27T16:40:22.785Z"
   },
   {
    "duration": 147,
    "start_time": "2025-02-27T16:40:23.900Z"
   },
   {
    "duration": 33,
    "start_time": "2025-02-27T16:40:24.048Z"
   },
   {
    "duration": 98,
    "start_time": "2025-02-27T16:40:24.085Z"
   },
   {
    "duration": 32,
    "start_time": "2025-02-27T16:40:24.184Z"
   },
   {
    "duration": 11,
    "start_time": "2025-02-27T16:40:24.217Z"
   },
   {
    "duration": 666,
    "start_time": "2025-02-27T16:40:24.229Z"
   },
   {
    "duration": 154,
    "start_time": "2025-02-27T16:40:24.897Z"
   },
   {
    "duration": 95,
    "start_time": "2025-02-27T16:40:25.053Z"
   },
   {
    "duration": 73,
    "start_time": "2025-02-27T16:40:25.149Z"
   },
   {
    "duration": 160,
    "start_time": "2025-02-27T16:40:25.223Z"
   },
   {
    "duration": 32,
    "start_time": "2025-02-27T16:40:25.385Z"
   },
   {
    "duration": 88,
    "start_time": "2025-02-27T16:40:25.419Z"
   },
   {
    "duration": 43,
    "start_time": "2025-02-27T16:40:25.509Z"
   },
   {
    "duration": 21,
    "start_time": "2025-02-27T16:40:25.570Z"
   },
   {
    "duration": 15,
    "start_time": "2025-02-27T16:40:25.593Z"
   },
   {
    "duration": 13,
    "start_time": "2025-02-27T16:40:25.613Z"
   },
   {
    "duration": 77,
    "start_time": "2025-02-27T16:40:25.628Z"
   },
   {
    "duration": 8,
    "start_time": "2025-02-27T16:40:25.707Z"
   },
   {
    "duration": 217,
    "start_time": "2025-02-27T16:40:25.717Z"
   },
   {
    "duration": 107,
    "start_time": "2025-02-27T16:40:25.936Z"
   },
   {
    "duration": 27,
    "start_time": "2025-02-27T16:40:26.044Z"
   },
   {
    "duration": 2529,
    "start_time": "2025-02-27T16:40:26.072Z"
   },
   {
    "duration": 23,
    "start_time": "2025-02-27T16:40:28.603Z"
   },
   {
    "duration": 14,
    "start_time": "2025-02-27T16:40:28.628Z"
   },
   {
    "duration": 32,
    "start_time": "2025-02-27T16:40:28.644Z"
   },
   {
    "duration": 24,
    "start_time": "2025-02-27T16:40:28.678Z"
   },
   {
    "duration": 8,
    "start_time": "2025-02-27T16:40:28.704Z"
   },
   {
    "duration": 10,
    "start_time": "2025-02-27T16:40:28.713Z"
   },
   {
    "duration": 75,
    "start_time": "2025-02-27T16:40:28.724Z"
   },
   {
    "duration": 27,
    "start_time": "2025-02-27T16:40:28.800Z"
   },
   {
    "duration": 6,
    "start_time": "2025-02-27T16:40:28.828Z"
   },
   {
    "duration": 85,
    "start_time": "2025-02-27T16:40:28.836Z"
   },
   {
    "duration": 82,
    "start_time": "2025-02-27T16:40:28.923Z"
   },
   {
    "duration": 23,
    "start_time": "2025-02-27T16:40:29.007Z"
   },
   {
    "duration": 161,
    "start_time": "2025-02-27T16:40:29.032Z"
   },
   {
    "duration": 118,
    "start_time": "2025-02-27T16:40:29.195Z"
   },
   {
    "duration": 24,
    "start_time": "2025-02-27T16:40:29.315Z"
   },
   {
    "duration": 282,
    "start_time": "2025-02-27T16:40:29.341Z"
   },
   {
    "duration": 8,
    "start_time": "2025-02-27T16:40:29.624Z"
   },
   {
    "duration": 39,
    "start_time": "2025-02-27T16:40:29.634Z"
   },
   {
    "duration": 37,
    "start_time": "2025-02-27T16:40:29.674Z"
   },
   {
    "duration": 60,
    "start_time": "2025-02-27T16:40:29.712Z"
   },
   {
    "duration": 14,
    "start_time": "2025-02-27T16:40:29.773Z"
   },
   {
    "duration": 29,
    "start_time": "2025-02-27T16:40:29.788Z"
   },
   {
    "duration": 21,
    "start_time": "2025-02-27T16:40:29.819Z"
   },
   {
    "duration": 79,
    "start_time": "2025-02-27T16:40:29.841Z"
   },
   {
    "duration": 163,
    "start_time": "2025-02-27T16:40:29.921Z"
   },
   {
    "duration": 178,
    "start_time": "2025-02-27T16:40:30.086Z"
   },
   {
    "duration": 51,
    "start_time": "2025-02-27T16:40:30.265Z"
   },
   {
    "duration": 29,
    "start_time": "2025-02-27T16:40:30.317Z"
   },
   {
    "duration": 55,
    "start_time": "2025-02-27T16:40:30.348Z"
   },
   {
    "duration": 84,
    "start_time": "2025-02-27T16:40:30.404Z"
   },
   {
    "duration": 57,
    "start_time": "2025-02-27T16:40:30.489Z"
   },
   {
    "duration": 82,
    "start_time": "2025-02-27T16:40:30.548Z"
   },
   {
    "duration": 10,
    "start_time": "2025-02-27T16:40:30.631Z"
   },
   {
    "duration": 181,
    "start_time": "2025-02-27T16:40:30.643Z"
   },
   {
    "duration": 1108,
    "start_time": "2025-02-27T16:43:08.898Z"
   },
   {
    "duration": 1870,
    "start_time": "2025-02-27T16:43:10.008Z"
   },
   {
    "duration": 11,
    "start_time": "2025-02-27T16:43:11.880Z"
   },
   {
    "duration": 32,
    "start_time": "2025-02-27T16:43:11.892Z"
   },
   {
    "duration": 21,
    "start_time": "2025-02-27T16:43:11.925Z"
   },
   {
    "duration": 97,
    "start_time": "2025-02-27T16:43:11.947Z"
   },
   {
    "duration": 7,
    "start_time": "2025-02-27T16:43:12.046Z"
   },
   {
    "duration": 78,
    "start_time": "2025-02-27T16:43:12.054Z"
   },
   {
    "duration": 8,
    "start_time": "2025-02-27T16:43:12.134Z"
   },
   {
    "duration": 41,
    "start_time": "2025-02-27T16:43:12.144Z"
   },
   {
    "duration": 6,
    "start_time": "2025-02-27T16:43:12.187Z"
   },
   {
    "duration": 25,
    "start_time": "2025-02-27T16:43:12.194Z"
   },
   {
    "duration": 9,
    "start_time": "2025-02-27T16:43:12.220Z"
   },
   {
    "duration": 17,
    "start_time": "2025-02-27T16:43:12.230Z"
   },
   {
    "duration": 23,
    "start_time": "2025-02-27T16:43:12.248Z"
   },
   {
    "duration": 9,
    "start_time": "2025-02-27T16:43:12.272Z"
   },
   {
    "duration": 14,
    "start_time": "2025-02-27T16:43:12.283Z"
   },
   {
    "duration": 23,
    "start_time": "2025-02-27T16:43:12.299Z"
   },
   {
    "duration": 8,
    "start_time": "2025-02-27T16:43:12.323Z"
   },
   {
    "duration": 359,
    "start_time": "2025-02-27T16:43:12.371Z"
   },
   {
    "duration": 52,
    "start_time": "2025-02-27T16:43:12.732Z"
   },
   {
    "duration": 157,
    "start_time": "2025-02-27T16:43:12.786Z"
   },
   {
    "duration": 54,
    "start_time": "2025-02-27T16:43:12.944Z"
   },
   {
    "duration": 19,
    "start_time": "2025-02-27T16:43:12.999Z"
   },
   {
    "duration": 1109,
    "start_time": "2025-02-27T16:43:13.019Z"
   },
   {
    "duration": 148,
    "start_time": "2025-02-27T16:43:14.129Z"
   },
   {
    "duration": 22,
    "start_time": "2025-02-27T16:43:14.278Z"
   },
   {
    "duration": 106,
    "start_time": "2025-02-27T16:43:14.322Z"
   },
   {
    "duration": 45,
    "start_time": "2025-02-27T16:43:14.430Z"
   },
   {
    "duration": 12,
    "start_time": "2025-02-27T16:43:14.478Z"
   },
   {
    "duration": 644,
    "start_time": "2025-02-27T16:43:14.492Z"
   },
   {
    "duration": 150,
    "start_time": "2025-02-27T16:43:15.138Z"
   },
   {
    "duration": 108,
    "start_time": "2025-02-27T16:43:15.290Z"
   },
   {
    "duration": 72,
    "start_time": "2025-02-27T16:43:15.400Z"
   },
   {
    "duration": 162,
    "start_time": "2025-02-27T16:43:15.473Z"
   },
   {
    "duration": 38,
    "start_time": "2025-02-27T16:43:15.636Z"
   },
   {
    "duration": 107,
    "start_time": "2025-02-27T16:43:15.676Z"
   },
   {
    "duration": 42,
    "start_time": "2025-02-27T16:43:15.784Z"
   },
   {
    "duration": 76,
    "start_time": "2025-02-27T16:43:15.828Z"
   },
   {
    "duration": 13,
    "start_time": "2025-02-27T16:43:15.906Z"
   },
   {
    "duration": 21,
    "start_time": "2025-02-27T16:43:15.920Z"
   },
   {
    "duration": 73,
    "start_time": "2025-02-27T16:43:15.942Z"
   },
   {
    "duration": 9,
    "start_time": "2025-02-27T16:43:16.017Z"
   },
   {
    "duration": 209,
    "start_time": "2025-02-27T16:43:16.028Z"
   },
   {
    "duration": 108,
    "start_time": "2025-02-27T16:43:16.239Z"
   },
   {
    "duration": 25,
    "start_time": "2025-02-27T16:43:16.349Z"
   },
   {
    "duration": 2502,
    "start_time": "2025-02-27T16:43:16.376Z"
   },
   {
    "duration": 21,
    "start_time": "2025-02-27T16:43:18.880Z"
   },
   {
    "duration": 21,
    "start_time": "2025-02-27T16:43:18.902Z"
   },
   {
    "duration": 8,
    "start_time": "2025-02-27T16:43:18.924Z"
   },
   {
    "duration": 20,
    "start_time": "2025-02-27T16:43:18.934Z"
   },
   {
    "duration": 7,
    "start_time": "2025-02-27T16:43:18.970Z"
   },
   {
    "duration": 32,
    "start_time": "2025-02-27T16:43:18.978Z"
   },
   {
    "duration": 39,
    "start_time": "2025-02-27T16:43:19.012Z"
   },
   {
    "duration": 30,
    "start_time": "2025-02-27T16:43:19.053Z"
   },
   {
    "duration": 52,
    "start_time": "2025-02-27T16:43:19.085Z"
   },
   {
    "duration": 62,
    "start_time": "2025-02-27T16:43:19.138Z"
   },
   {
    "duration": 76,
    "start_time": "2025-02-27T16:43:19.202Z"
   },
   {
    "duration": 23,
    "start_time": "2025-02-27T16:43:19.280Z"
   },
   {
    "duration": 156,
    "start_time": "2025-02-27T16:43:19.305Z"
   },
   {
    "duration": 113,
    "start_time": "2025-02-27T16:43:19.463Z"
   },
   {
    "duration": 24,
    "start_time": "2025-02-27T16:43:19.578Z"
   },
   {
    "duration": 301,
    "start_time": "2025-02-27T16:43:19.603Z"
   },
   {
    "duration": 9,
    "start_time": "2025-02-27T16:43:19.905Z"
   },
   {
    "duration": 36,
    "start_time": "2025-02-27T16:43:19.915Z"
   },
   {
    "duration": 29,
    "start_time": "2025-02-27T16:43:19.952Z"
   },
   {
    "duration": 56,
    "start_time": "2025-02-27T16:43:19.983Z"
   },
   {
    "duration": 13,
    "start_time": "2025-02-27T16:43:20.041Z"
   },
   {
    "duration": 101,
    "start_time": "2025-02-27T16:43:20.056Z"
   },
   {
    "duration": 12,
    "start_time": "2025-02-27T16:43:20.159Z"
   },
   {
    "duration": 99,
    "start_time": "2025-02-27T16:43:20.173Z"
   },
   {
    "duration": 164,
    "start_time": "2025-02-27T16:43:20.274Z"
   },
   {
    "duration": 172,
    "start_time": "2025-02-27T16:43:20.440Z"
   },
   {
    "duration": 63,
    "start_time": "2025-02-27T16:43:20.613Z"
   },
   {
    "duration": 30,
    "start_time": "2025-02-27T16:43:20.677Z"
   },
   {
    "duration": 19,
    "start_time": "2025-02-27T16:43:20.709Z"
   },
   {
    "duration": 79,
    "start_time": "2025-02-27T16:43:20.730Z"
   },
   {
    "duration": 130,
    "start_time": "2025-02-27T16:43:20.810Z"
   },
   {
    "duration": 98,
    "start_time": "2025-02-27T16:43:20.942Z"
   },
   {
    "duration": 10,
    "start_time": "2025-02-27T16:43:21.042Z"
   },
   {
    "duration": 191,
    "start_time": "2025-02-27T16:43:21.054Z"
   },
   {
    "duration": 1120,
    "start_time": "2025-02-27T16:46:47.790Z"
   },
   {
    "duration": 2115,
    "start_time": "2025-02-27T16:46:48.911Z"
   },
   {
    "duration": 12,
    "start_time": "2025-02-27T16:46:51.027Z"
   },
   {
    "duration": 10,
    "start_time": "2025-02-27T16:46:51.041Z"
   },
   {
    "duration": 43,
    "start_time": "2025-02-27T16:46:51.052Z"
   },
   {
    "duration": 120,
    "start_time": "2025-02-27T16:46:51.096Z"
   },
   {
    "duration": 7,
    "start_time": "2025-02-27T16:46:51.218Z"
   },
   {
    "duration": 26,
    "start_time": "2025-02-27T16:46:51.227Z"
   },
   {
    "duration": 11,
    "start_time": "2025-02-27T16:46:51.255Z"
   },
   {
    "duration": 48,
    "start_time": "2025-02-27T16:46:51.271Z"
   },
   {
    "duration": 8,
    "start_time": "2025-02-27T16:46:51.320Z"
   },
   {
    "duration": 70,
    "start_time": "2025-02-27T16:46:51.329Z"
   },
   {
    "duration": 18,
    "start_time": "2025-02-27T16:46:51.400Z"
   },
   {
    "duration": 21,
    "start_time": "2025-02-27T16:46:51.420Z"
   },
   {
    "duration": 13,
    "start_time": "2025-02-27T16:46:51.443Z"
   },
   {
    "duration": 23,
    "start_time": "2025-02-27T16:46:51.457Z"
   },
   {
    "duration": 23,
    "start_time": "2025-02-27T16:46:51.482Z"
   },
   {
    "duration": 32,
    "start_time": "2025-02-27T16:46:51.507Z"
   },
   {
    "duration": 36,
    "start_time": "2025-02-27T16:46:51.540Z"
   },
   {
    "duration": 357,
    "start_time": "2025-02-27T16:46:51.577Z"
   },
   {
    "duration": 56,
    "start_time": "2025-02-27T16:46:51.936Z"
   },
   {
    "duration": 182,
    "start_time": "2025-02-27T16:46:51.994Z"
   },
   {
    "duration": 43,
    "start_time": "2025-02-27T16:46:52.178Z"
   },
   {
    "duration": 19,
    "start_time": "2025-02-27T16:46:52.222Z"
   },
   {
    "duration": 1118,
    "start_time": "2025-02-27T16:46:52.242Z"
   },
   {
    "duration": 152,
    "start_time": "2025-02-27T16:46:53.362Z"
   },
   {
    "duration": 23,
    "start_time": "2025-02-27T16:46:53.515Z"
   },
   {
    "duration": 97,
    "start_time": "2025-02-27T16:46:53.573Z"
   },
   {
    "duration": 32,
    "start_time": "2025-02-27T16:46:53.672Z"
   },
   {
    "duration": 11,
    "start_time": "2025-02-27T16:46:53.706Z"
   },
   {
    "duration": 641,
    "start_time": "2025-02-27T16:46:53.719Z"
   },
   {
    "duration": 154,
    "start_time": "2025-02-27T16:46:54.361Z"
   },
   {
    "duration": 102,
    "start_time": "2025-02-27T16:46:54.516Z"
   },
   {
    "duration": 69,
    "start_time": "2025-02-27T16:46:54.620Z"
   },
   {
    "duration": 148,
    "start_time": "2025-02-27T16:46:54.691Z"
   },
   {
    "duration": 40,
    "start_time": "2025-02-27T16:46:54.841Z"
   },
   {
    "duration": 64,
    "start_time": "2025-02-27T16:46:54.882Z"
   },
   {
    "duration": 55,
    "start_time": "2025-02-27T16:46:54.948Z"
   },
   {
    "duration": 17,
    "start_time": "2025-02-27T16:46:55.005Z"
   },
   {
    "duration": 46,
    "start_time": "2025-02-27T16:46:55.024Z"
   },
   {
    "duration": 13,
    "start_time": "2025-02-27T16:46:55.071Z"
   },
   {
    "duration": 40,
    "start_time": "2025-02-27T16:46:55.085Z"
   },
   {
    "duration": 8,
    "start_time": "2025-02-27T16:46:55.127Z"
   },
   {
    "duration": 240,
    "start_time": "2025-02-27T16:46:55.137Z"
   },
   {
    "duration": 100,
    "start_time": "2025-02-27T16:46:55.378Z"
   },
   {
    "duration": 19,
    "start_time": "2025-02-27T16:46:55.479Z"
   },
   {
    "duration": 2542,
    "start_time": "2025-02-27T16:46:55.499Z"
   },
   {
    "duration": 30,
    "start_time": "2025-02-27T16:46:58.043Z"
   },
   {
    "duration": 13,
    "start_time": "2025-02-27T16:46:58.075Z"
   },
   {
    "duration": 9,
    "start_time": "2025-02-27T16:46:58.089Z"
   },
   {
    "duration": 41,
    "start_time": "2025-02-27T16:46:58.099Z"
   },
   {
    "duration": 6,
    "start_time": "2025-02-27T16:46:58.142Z"
   },
   {
    "duration": 23,
    "start_time": "2025-02-27T16:46:58.149Z"
   },
   {
    "duration": 38,
    "start_time": "2025-02-27T16:46:58.174Z"
   },
   {
    "duration": 27,
    "start_time": "2025-02-27T16:46:58.214Z"
   },
   {
    "duration": 32,
    "start_time": "2025-02-27T16:46:58.242Z"
   },
   {
    "duration": 71,
    "start_time": "2025-02-27T16:46:58.276Z"
   },
   {
    "duration": 76,
    "start_time": "2025-02-27T16:46:58.349Z"
   },
   {
    "duration": 23,
    "start_time": "2025-02-27T16:46:58.427Z"
   },
   {
    "duration": 158,
    "start_time": "2025-02-27T16:46:58.452Z"
   },
   {
    "duration": 136,
    "start_time": "2025-02-27T16:46:58.612Z"
   },
   {
    "duration": 29,
    "start_time": "2025-02-27T16:46:58.749Z"
   },
   {
    "duration": 298,
    "start_time": "2025-02-27T16:46:58.779Z"
   },
   {
    "duration": 8,
    "start_time": "2025-02-27T16:46:59.078Z"
   },
   {
    "duration": 63,
    "start_time": "2025-02-27T16:46:59.087Z"
   },
   {
    "duration": 27,
    "start_time": "2025-02-27T16:46:59.152Z"
   },
   {
    "duration": 98,
    "start_time": "2025-02-27T16:46:59.180Z"
   },
   {
    "duration": 14,
    "start_time": "2025-02-27T16:46:59.280Z"
   },
   {
    "duration": 71,
    "start_time": "2025-02-27T16:46:59.295Z"
   },
   {
    "duration": 51,
    "start_time": "2025-02-27T16:46:59.367Z"
   },
   {
    "duration": 85,
    "start_time": "2025-02-27T16:46:59.419Z"
   },
   {
    "duration": 162,
    "start_time": "2025-02-27T16:46:59.505Z"
   },
   {
    "duration": 169,
    "start_time": "2025-02-27T16:46:59.670Z"
   },
   {
    "duration": 56,
    "start_time": "2025-02-27T16:46:59.840Z"
   },
   {
    "duration": 29,
    "start_time": "2025-02-27T16:46:59.897Z"
   },
   {
    "duration": 54,
    "start_time": "2025-02-27T16:46:59.927Z"
   },
   {
    "duration": 22,
    "start_time": "2025-02-27T16:46:59.983Z"
   },
   {
    "duration": 122,
    "start_time": "2025-02-27T16:47:00.007Z"
   },
   {
    "duration": 115,
    "start_time": "2025-02-27T16:47:00.130Z"
   },
   {
    "duration": 67,
    "start_time": "2025-02-27T16:47:00.247Z"
   },
   {
    "duration": 219,
    "start_time": "2025-02-27T16:47:00.316Z"
   },
   {
    "duration": 1133,
    "start_time": "2025-02-27T16:48:36.989Z"
   },
   {
    "duration": 1902,
    "start_time": "2025-02-27T16:48:38.124Z"
   },
   {
    "duration": 11,
    "start_time": "2025-02-27T16:48:40.027Z"
   },
   {
    "duration": 29,
    "start_time": "2025-02-27T16:48:40.040Z"
   },
   {
    "duration": 26,
    "start_time": "2025-02-27T16:48:40.071Z"
   },
   {
    "duration": 105,
    "start_time": "2025-02-27T16:48:40.099Z"
   },
   {
    "duration": 6,
    "start_time": "2025-02-27T16:48:40.206Z"
   },
   {
    "duration": 27,
    "start_time": "2025-02-27T16:48:40.214Z"
   },
   {
    "duration": 11,
    "start_time": "2025-02-27T16:48:40.243Z"
   },
   {
    "duration": 46,
    "start_time": "2025-02-27T16:48:40.257Z"
   },
   {
    "duration": 8,
    "start_time": "2025-02-27T16:48:40.304Z"
   },
   {
    "duration": 46,
    "start_time": "2025-02-27T16:48:40.313Z"
   },
   {
    "duration": 15,
    "start_time": "2025-02-27T16:48:40.361Z"
   },
   {
    "duration": 22,
    "start_time": "2025-02-27T16:48:40.377Z"
   },
   {
    "duration": 5,
    "start_time": "2025-02-27T16:48:40.401Z"
   },
   {
    "duration": 14,
    "start_time": "2025-02-27T16:48:40.408Z"
   },
   {
    "duration": 14,
    "start_time": "2025-02-27T16:48:40.424Z"
   },
   {
    "duration": 46,
    "start_time": "2025-02-27T16:48:40.439Z"
   },
   {
    "duration": 9,
    "start_time": "2025-02-27T16:48:40.487Z"
   },
   {
    "duration": 378,
    "start_time": "2025-02-27T16:48:40.497Z"
   },
   {
    "duration": 43,
    "start_time": "2025-02-27T16:48:40.877Z"
   },
   {
    "duration": 164,
    "start_time": "2025-02-27T16:48:40.921Z"
   },
   {
    "duration": 42,
    "start_time": "2025-02-27T16:48:41.086Z"
   },
   {
    "duration": 16,
    "start_time": "2025-02-27T16:48:41.130Z"
   },
   {
    "duration": 1115,
    "start_time": "2025-02-27T16:48:41.171Z"
   },
   {
    "duration": 160,
    "start_time": "2025-02-27T16:48:42.287Z"
   },
   {
    "duration": 33,
    "start_time": "2025-02-27T16:48:42.448Z"
   },
   {
    "duration": 104,
    "start_time": "2025-02-27T16:48:42.504Z"
   },
   {
    "duration": 34,
    "start_time": "2025-02-27T16:48:42.609Z"
   },
   {
    "duration": 28,
    "start_time": "2025-02-27T16:48:42.644Z"
   },
   {
    "duration": 643,
    "start_time": "2025-02-27T16:48:42.674Z"
   },
   {
    "duration": 151,
    "start_time": "2025-02-27T16:48:43.319Z"
   },
   {
    "duration": 107,
    "start_time": "2025-02-27T16:48:43.472Z"
   },
   {
    "duration": 51,
    "start_time": "2025-02-27T16:48:43.581Z"
   },
   {
    "duration": 156,
    "start_time": "2025-02-27T16:48:43.634Z"
   },
   {
    "duration": 32,
    "start_time": "2025-02-27T16:48:43.792Z"
   },
   {
    "duration": 83,
    "start_time": "2025-02-27T16:48:43.826Z"
   },
   {
    "duration": 41,
    "start_time": "2025-02-27T16:48:43.910Z"
   },
   {
    "duration": 46,
    "start_time": "2025-02-27T16:48:43.953Z"
   },
   {
    "duration": 67,
    "start_time": "2025-02-27T16:48:44.000Z"
   },
   {
    "duration": 26,
    "start_time": "2025-02-27T16:48:44.068Z"
   },
   {
    "duration": 41,
    "start_time": "2025-02-27T16:48:44.096Z"
   },
   {
    "duration": 9,
    "start_time": "2025-02-27T16:48:44.139Z"
   },
   {
    "duration": 213,
    "start_time": "2025-02-27T16:48:44.149Z"
   },
   {
    "duration": 105,
    "start_time": "2025-02-27T16:48:44.371Z"
   },
   {
    "duration": 21,
    "start_time": "2025-02-27T16:48:44.478Z"
   },
   {
    "duration": 2398,
    "start_time": "2025-02-27T16:48:44.500Z"
   },
   {
    "duration": 21,
    "start_time": "2025-02-27T16:48:46.900Z"
   },
   {
    "duration": 17,
    "start_time": "2025-02-27T16:48:46.922Z"
   },
   {
    "duration": 8,
    "start_time": "2025-02-27T16:48:46.941Z"
   },
   {
    "duration": 18,
    "start_time": "2025-02-27T16:48:46.969Z"
   },
   {
    "duration": 6,
    "start_time": "2025-02-27T16:48:46.988Z"
   },
   {
    "duration": 14,
    "start_time": "2025-02-27T16:48:46.996Z"
   },
   {
    "duration": 61,
    "start_time": "2025-02-27T16:48:47.011Z"
   },
   {
    "duration": 26,
    "start_time": "2025-02-27T16:48:47.074Z"
   },
   {
    "duration": 7,
    "start_time": "2025-02-27T16:48:47.101Z"
   },
   {
    "duration": 84,
    "start_time": "2025-02-27T16:48:47.109Z"
   },
   {
    "duration": 81,
    "start_time": "2025-02-27T16:48:47.195Z"
   },
   {
    "duration": 22,
    "start_time": "2025-02-27T16:48:47.278Z"
   },
   {
    "duration": 151,
    "start_time": "2025-02-27T16:48:47.301Z"
   },
   {
    "duration": 122,
    "start_time": "2025-02-27T16:48:47.454Z"
   },
   {
    "duration": 30,
    "start_time": "2025-02-27T16:48:47.578Z"
   },
   {
    "duration": 286,
    "start_time": "2025-02-27T16:48:47.611Z"
   },
   {
    "duration": 8,
    "start_time": "2025-02-27T16:48:47.898Z"
   },
   {
    "duration": 53,
    "start_time": "2025-02-27T16:48:47.907Z"
   },
   {
    "duration": 17,
    "start_time": "2025-02-27T16:48:47.962Z"
   },
   {
    "duration": 72,
    "start_time": "2025-02-27T16:48:47.980Z"
   },
   {
    "duration": 14,
    "start_time": "2025-02-27T16:48:48.054Z"
   },
   {
    "duration": 31,
    "start_time": "2025-02-27T16:48:48.069Z"
   },
   {
    "duration": 21,
    "start_time": "2025-02-27T16:48:48.102Z"
   },
   {
    "duration": 74,
    "start_time": "2025-02-27T16:48:48.124Z"
   },
   {
    "duration": 156,
    "start_time": "2025-02-27T16:48:48.199Z"
   },
   {
    "duration": 171,
    "start_time": "2025-02-27T16:48:48.356Z"
   },
   {
    "duration": 54,
    "start_time": "2025-02-27T16:48:48.529Z"
   },
   {
    "duration": 27,
    "start_time": "2025-02-27T16:48:48.585Z"
   },
   {
    "duration": 26,
    "start_time": "2025-02-27T16:48:48.613Z"
   },
   {
    "duration": 36,
    "start_time": "2025-02-27T16:48:48.641Z"
   },
   {
    "duration": 37,
    "start_time": "2025-02-27T16:48:48.679Z"
   },
   {
    "duration": 62,
    "start_time": "2025-02-27T16:48:48.718Z"
   },
   {
    "duration": 10,
    "start_time": "2025-02-27T16:48:48.782Z"
   },
   {
    "duration": 185,
    "start_time": "2025-02-27T16:48:48.793Z"
   },
   {
    "duration": 65,
    "start_time": "2025-02-27T16:49:22.181Z"
   },
   {
    "duration": 64,
    "start_time": "2025-02-27T16:49:25.815Z"
   },
   {
    "duration": 62,
    "start_time": "2025-02-27T16:49:42.379Z"
   },
   {
    "duration": 1127,
    "start_time": "2025-02-27T16:51:03.861Z"
   },
   {
    "duration": 2002,
    "start_time": "2025-02-27T16:51:04.990Z"
   },
   {
    "duration": 12,
    "start_time": "2025-02-27T16:51:06.994Z"
   },
   {
    "duration": 35,
    "start_time": "2025-02-27T16:51:07.009Z"
   },
   {
    "duration": 42,
    "start_time": "2025-02-27T16:51:07.045Z"
   },
   {
    "duration": 97,
    "start_time": "2025-02-27T16:51:07.088Z"
   },
   {
    "duration": 8,
    "start_time": "2025-02-27T16:51:07.186Z"
   },
   {
    "duration": 38,
    "start_time": "2025-02-27T16:51:07.195Z"
   },
   {
    "duration": 25,
    "start_time": "2025-02-27T16:51:07.234Z"
   },
   {
    "duration": 76,
    "start_time": "2025-02-27T16:51:07.261Z"
   },
   {
    "duration": 9,
    "start_time": "2025-02-27T16:51:07.339Z"
   },
   {
    "duration": 44,
    "start_time": "2025-02-27T16:51:07.350Z"
   },
   {
    "duration": 39,
    "start_time": "2025-02-27T16:51:07.396Z"
   },
   {
    "duration": 64,
    "start_time": "2025-02-27T16:51:07.436Z"
   },
   {
    "duration": 46,
    "start_time": "2025-02-27T16:51:07.501Z"
   },
   {
    "duration": 74,
    "start_time": "2025-02-27T16:51:07.550Z"
   },
   {
    "duration": 35,
    "start_time": "2025-02-27T16:51:07.625Z"
   },
   {
    "duration": 71,
    "start_time": "2025-02-27T16:51:07.662Z"
   },
   {
    "duration": 56,
    "start_time": "2025-02-27T16:51:07.734Z"
   },
   {
    "duration": 367,
    "start_time": "2025-02-27T16:51:07.792Z"
   },
   {
    "duration": 52,
    "start_time": "2025-02-27T16:51:08.161Z"
   },
   {
    "duration": 164,
    "start_time": "2025-02-27T16:51:08.215Z"
   },
   {
    "duration": 42,
    "start_time": "2025-02-27T16:51:08.381Z"
   },
   {
    "duration": 47,
    "start_time": "2025-02-27T16:51:08.425Z"
   },
   {
    "duration": 1145,
    "start_time": "2025-02-27T16:51:08.473Z"
   },
   {
    "duration": 154,
    "start_time": "2025-02-27T16:51:09.620Z"
   },
   {
    "duration": 23,
    "start_time": "2025-02-27T16:51:09.775Z"
   },
   {
    "duration": 101,
    "start_time": "2025-02-27T16:51:09.820Z"
   },
   {
    "duration": 31,
    "start_time": "2025-02-27T16:51:09.924Z"
   },
   {
    "duration": 12,
    "start_time": "2025-02-27T16:51:09.970Z"
   },
   {
    "duration": 627,
    "start_time": "2025-02-27T16:51:09.983Z"
   },
   {
    "duration": 159,
    "start_time": "2025-02-27T16:51:10.611Z"
   },
   {
    "duration": 106,
    "start_time": "2025-02-27T16:51:10.772Z"
   },
   {
    "duration": 54,
    "start_time": "2025-02-27T16:51:10.880Z"
   },
   {
    "duration": 167,
    "start_time": "2025-02-27T16:51:10.935Z"
   },
   {
    "duration": 33,
    "start_time": "2025-02-27T16:51:11.104Z"
   },
   {
    "duration": 82,
    "start_time": "2025-02-27T16:51:11.138Z"
   },
   {
    "duration": 55,
    "start_time": "2025-02-27T16:51:11.221Z"
   },
   {
    "duration": 19,
    "start_time": "2025-02-27T16:51:11.278Z"
   },
   {
    "duration": 14,
    "start_time": "2025-02-27T16:51:11.298Z"
   },
   {
    "duration": 13,
    "start_time": "2025-02-27T16:51:11.313Z"
   },
   {
    "duration": 68,
    "start_time": "2025-02-27T16:51:11.328Z"
   },
   {
    "duration": 8,
    "start_time": "2025-02-27T16:51:11.397Z"
   },
   {
    "duration": 221,
    "start_time": "2025-02-27T16:51:11.407Z"
   },
   {
    "duration": 105,
    "start_time": "2025-02-27T16:51:11.630Z"
   },
   {
    "duration": 19,
    "start_time": "2025-02-27T16:51:11.736Z"
   },
   {
    "duration": 2578,
    "start_time": "2025-02-27T16:51:11.756Z"
   },
   {
    "duration": 21,
    "start_time": "2025-02-27T16:51:14.336Z"
   },
   {
    "duration": 23,
    "start_time": "2025-02-27T16:51:14.358Z"
   },
   {
    "duration": 8,
    "start_time": "2025-02-27T16:51:14.382Z"
   },
   {
    "duration": 22,
    "start_time": "2025-02-27T16:51:14.391Z"
   },
   {
    "duration": 5,
    "start_time": "2025-02-27T16:51:14.414Z"
   },
   {
    "duration": 15,
    "start_time": "2025-02-27T16:51:14.421Z"
   },
   {
    "duration": 65,
    "start_time": "2025-02-27T16:51:14.437Z"
   },
   {
    "duration": 26,
    "start_time": "2025-02-27T16:51:14.504Z"
   },
   {
    "duration": 7,
    "start_time": "2025-02-27T16:51:14.532Z"
   },
   {
    "duration": 82,
    "start_time": "2025-02-27T16:51:14.540Z"
   },
   {
    "duration": 81,
    "start_time": "2025-02-27T16:51:14.624Z"
   },
   {
    "duration": 23,
    "start_time": "2025-02-27T16:51:14.706Z"
   },
   {
    "duration": 159,
    "start_time": "2025-02-27T16:51:14.730Z"
   },
   {
    "duration": 113,
    "start_time": "2025-02-27T16:51:14.890Z"
   },
   {
    "duration": 23,
    "start_time": "2025-02-27T16:51:15.004Z"
   },
   {
    "duration": 322,
    "start_time": "2025-02-27T16:51:15.029Z"
   },
   {
    "duration": 8,
    "start_time": "2025-02-27T16:51:15.352Z"
   },
   {
    "duration": 51,
    "start_time": "2025-02-27T16:51:15.370Z"
   },
   {
    "duration": 18,
    "start_time": "2025-02-27T16:51:15.422Z"
   },
   {
    "duration": 61,
    "start_time": "2025-02-27T16:51:15.442Z"
   },
   {
    "duration": 14,
    "start_time": "2025-02-27T16:51:15.505Z"
   },
   {
    "duration": 33,
    "start_time": "2025-02-27T16:51:15.520Z"
   },
   {
    "duration": 15,
    "start_time": "2025-02-27T16:51:15.555Z"
   },
   {
    "duration": 70,
    "start_time": "2025-02-27T16:51:15.571Z"
   },
   {
    "duration": 163,
    "start_time": "2025-02-27T16:51:15.642Z"
   },
   {
    "duration": 177,
    "start_time": "2025-02-27T16:51:15.806Z"
   },
   {
    "duration": 47,
    "start_time": "2025-02-27T16:51:15.985Z"
   },
   {
    "duration": 49,
    "start_time": "2025-02-27T16:51:16.034Z"
   },
   {
    "duration": 20,
    "start_time": "2025-02-27T16:51:16.084Z"
   },
   {
    "duration": 6,
    "start_time": "2025-02-27T16:51:16.106Z"
   },
   {
    "duration": 22,
    "start_time": "2025-02-27T16:51:16.114Z"
   },
   {
    "duration": 80,
    "start_time": "2025-02-27T16:51:16.138Z"
   },
   {
    "duration": 10,
    "start_time": "2025-02-27T16:51:16.220Z"
   },
   {
    "duration": 186,
    "start_time": "2025-02-27T16:51:16.232Z"
   },
   {
    "duration": 1053,
    "start_time": "2025-02-27T16:53:51.922Z"
   },
   {
    "duration": 1821,
    "start_time": "2025-02-27T16:53:52.977Z"
   },
   {
    "duration": 11,
    "start_time": "2025-02-27T16:53:54.800Z"
   },
   {
    "duration": 11,
    "start_time": "2025-02-27T16:53:54.812Z"
   },
   {
    "duration": 23,
    "start_time": "2025-02-27T16:53:54.825Z"
   },
   {
    "duration": 98,
    "start_time": "2025-02-27T16:53:54.849Z"
   },
   {
    "duration": 6,
    "start_time": "2025-02-27T16:53:54.948Z"
   },
   {
    "duration": 29,
    "start_time": "2025-02-27T16:53:54.956Z"
   },
   {
    "duration": 8,
    "start_time": "2025-02-27T16:53:54.986Z"
   },
   {
    "duration": 38,
    "start_time": "2025-02-27T16:53:54.996Z"
   },
   {
    "duration": 6,
    "start_time": "2025-02-27T16:53:55.036Z"
   },
   {
    "duration": 44,
    "start_time": "2025-02-27T16:53:55.044Z"
   },
   {
    "duration": 25,
    "start_time": "2025-02-27T16:53:55.090Z"
   },
   {
    "duration": 11,
    "start_time": "2025-02-27T16:53:55.117Z"
   },
   {
    "duration": 19,
    "start_time": "2025-02-27T16:53:55.129Z"
   },
   {
    "duration": 40,
    "start_time": "2025-02-27T16:53:55.149Z"
   },
   {
    "duration": 15,
    "start_time": "2025-02-27T16:53:55.190Z"
   },
   {
    "duration": 27,
    "start_time": "2025-02-27T16:53:55.206Z"
   },
   {
    "duration": 9,
    "start_time": "2025-02-27T16:53:55.234Z"
   },
   {
    "duration": 378,
    "start_time": "2025-02-27T16:53:55.244Z"
   },
   {
    "duration": 47,
    "start_time": "2025-02-27T16:53:55.624Z"
   },
   {
    "duration": 158,
    "start_time": "2025-02-27T16:53:55.673Z"
   },
   {
    "duration": 54,
    "start_time": "2025-02-27T16:53:55.832Z"
   },
   {
    "duration": 16,
    "start_time": "2025-02-27T16:53:55.888Z"
   },
   {
    "duration": 1106,
    "start_time": "2025-02-27T16:53:55.906Z"
   },
   {
    "duration": 147,
    "start_time": "2025-02-27T16:53:57.014Z"
   },
   {
    "duration": 27,
    "start_time": "2025-02-27T16:53:57.162Z"
   },
   {
    "duration": 99,
    "start_time": "2025-02-27T16:53:57.191Z"
   },
   {
    "duration": 31,
    "start_time": "2025-02-27T16:53:57.292Z"
   },
   {
    "duration": 11,
    "start_time": "2025-02-27T16:53:57.324Z"
   },
   {
    "duration": 648,
    "start_time": "2025-02-27T16:53:57.337Z"
   },
   {
    "duration": 155,
    "start_time": "2025-02-27T16:53:57.986Z"
   },
   {
    "duration": 93,
    "start_time": "2025-02-27T16:53:58.143Z"
   },
   {
    "duration": 66,
    "start_time": "2025-02-27T16:53:58.238Z"
   },
   {
    "duration": 145,
    "start_time": "2025-02-27T16:53:58.305Z"
   },
   {
    "duration": 37,
    "start_time": "2025-02-27T16:53:58.452Z"
   },
   {
    "duration": 59,
    "start_time": "2025-02-27T16:53:58.491Z"
   },
   {
    "duration": 52,
    "start_time": "2025-02-27T16:53:58.552Z"
   },
   {
    "duration": 19,
    "start_time": "2025-02-27T16:53:58.606Z"
   },
   {
    "duration": 37,
    "start_time": "2025-02-27T16:53:58.627Z"
   },
   {
    "duration": 23,
    "start_time": "2025-02-27T16:53:58.668Z"
   },
   {
    "duration": 52,
    "start_time": "2025-02-27T16:53:58.693Z"
   },
   {
    "duration": 29,
    "start_time": "2025-02-27T16:53:58.746Z"
   },
   {
    "duration": 205,
    "start_time": "2025-02-27T16:53:58.776Z"
   },
   {
    "duration": 107,
    "start_time": "2025-02-27T16:53:58.983Z"
   },
   {
    "duration": 18,
    "start_time": "2025-02-27T16:53:59.091Z"
   },
   {
    "duration": 2610,
    "start_time": "2025-02-27T16:53:59.110Z"
   },
   {
    "duration": 20,
    "start_time": "2025-02-27T16:54:01.722Z"
   },
   {
    "duration": 55,
    "start_time": "2025-02-27T16:54:01.744Z"
   },
   {
    "duration": 48,
    "start_time": "2025-02-27T16:54:01.800Z"
   },
   {
    "duration": 79,
    "start_time": "2025-02-27T16:54:01.850Z"
   },
   {
    "duration": 44,
    "start_time": "2025-02-27T16:54:01.930Z"
   },
   {
    "duration": 16,
    "start_time": "2025-02-27T16:54:01.975Z"
   },
   {
    "duration": 59,
    "start_time": "2025-02-27T16:54:01.992Z"
   },
   {
    "duration": 46,
    "start_time": "2025-02-27T16:54:02.053Z"
   },
   {
    "duration": 6,
    "start_time": "2025-02-27T16:54:02.101Z"
   },
   {
    "duration": 121,
    "start_time": "2025-02-27T16:54:02.108Z"
   },
   {
    "duration": 145,
    "start_time": "2025-02-27T16:54:02.230Z"
   },
   {
    "duration": 23,
    "start_time": "2025-02-27T16:54:02.376Z"
   },
   {
    "duration": 197,
    "start_time": "2025-02-27T16:54:02.400Z"
   },
   {
    "duration": 110,
    "start_time": "2025-02-27T16:54:02.598Z"
   },
   {
    "duration": 24,
    "start_time": "2025-02-27T16:54:02.709Z"
   },
   {
    "duration": 320,
    "start_time": "2025-02-27T16:54:02.734Z"
   },
   {
    "duration": 14,
    "start_time": "2025-02-27T16:54:03.056Z"
   },
   {
    "duration": 40,
    "start_time": "2025-02-27T16:54:03.071Z"
   },
   {
    "duration": 17,
    "start_time": "2025-02-27T16:54:03.113Z"
   },
   {
    "duration": 93,
    "start_time": "2025-02-27T16:54:03.131Z"
   },
   {
    "duration": 13,
    "start_time": "2025-02-27T16:54:03.226Z"
   },
   {
    "duration": 44,
    "start_time": "2025-02-27T16:54:03.241Z"
   },
   {
    "duration": 16,
    "start_time": "2025-02-27T16:54:03.286Z"
   },
   {
    "duration": 76,
    "start_time": "2025-02-27T16:54:03.303Z"
   },
   {
    "duration": 166,
    "start_time": "2025-02-27T16:54:03.380Z"
   },
   {
    "duration": 175,
    "start_time": "2025-02-27T16:54:03.547Z"
   },
   {
    "duration": 54,
    "start_time": "2025-02-27T16:54:03.724Z"
   },
   {
    "duration": 31,
    "start_time": "2025-02-27T16:54:03.780Z"
   },
   {
    "duration": 22,
    "start_time": "2025-02-27T16:54:03.812Z"
   },
   {
    "duration": 35,
    "start_time": "2025-02-27T16:54:03.836Z"
   },
   {
    "duration": 26,
    "start_time": "2025-02-27T16:54:03.872Z"
   },
   {
    "duration": 71,
    "start_time": "2025-02-27T16:54:03.900Z"
   },
   {
    "duration": 12,
    "start_time": "2025-02-27T16:54:03.973Z"
   },
   {
    "duration": 184,
    "start_time": "2025-02-27T16:54:03.987Z"
   },
   {
    "duration": 1327,
    "start_time": "2025-02-27T18:09:14.959Z"
   },
   {
    "duration": 2727,
    "start_time": "2025-02-27T18:09:16.288Z"
   },
   {
    "duration": 11,
    "start_time": "2025-02-27T18:09:19.016Z"
   },
   {
    "duration": 19,
    "start_time": "2025-02-27T18:09:19.028Z"
   },
   {
    "duration": 23,
    "start_time": "2025-02-27T18:09:19.049Z"
   },
   {
    "duration": 110,
    "start_time": "2025-02-27T18:09:19.074Z"
   },
   {
    "duration": 6,
    "start_time": "2025-02-27T18:09:19.186Z"
   },
   {
    "duration": 18,
    "start_time": "2025-02-27T18:09:19.194Z"
   },
   {
    "duration": 12,
    "start_time": "2025-02-27T18:09:19.229Z"
   },
   {
    "duration": 41,
    "start_time": "2025-02-27T18:09:19.244Z"
   },
   {
    "duration": 8,
    "start_time": "2025-02-27T18:09:19.286Z"
   },
   {
    "duration": 62,
    "start_time": "2025-02-27T18:09:19.295Z"
   },
   {
    "duration": 9,
    "start_time": "2025-02-27T18:09:19.358Z"
   },
   {
    "duration": 12,
    "start_time": "2025-02-27T18:09:19.369Z"
   },
   {
    "duration": 6,
    "start_time": "2025-02-27T18:09:19.382Z"
   },
   {
    "duration": 9,
    "start_time": "2025-02-27T18:09:19.390Z"
   },
   {
    "duration": 52,
    "start_time": "2025-02-27T18:09:19.400Z"
   },
   {
    "duration": 58,
    "start_time": "2025-02-27T18:09:19.453Z"
   },
   {
    "duration": 9,
    "start_time": "2025-02-27T18:09:19.512Z"
   },
   {
    "duration": 390,
    "start_time": "2025-02-27T18:09:19.522Z"
   },
   {
    "duration": 63,
    "start_time": "2025-02-27T18:09:19.914Z"
   },
   {
    "duration": 187,
    "start_time": "2025-02-27T18:09:19.979Z"
   },
   {
    "duration": 42,
    "start_time": "2025-02-27T18:09:20.167Z"
   },
   {
    "duration": 37,
    "start_time": "2025-02-27T18:09:20.210Z"
   },
   {
    "duration": 1219,
    "start_time": "2025-02-27T18:09:20.250Z"
   },
   {
    "duration": 159,
    "start_time": "2025-02-27T18:09:21.471Z"
   },
   {
    "duration": 33,
    "start_time": "2025-02-27T18:09:21.633Z"
   },
   {
    "duration": 117,
    "start_time": "2025-02-27T18:09:21.687Z"
   },
   {
    "duration": 50,
    "start_time": "2025-02-27T18:09:21.806Z"
   },
   {
    "duration": 12,
    "start_time": "2025-02-27T18:09:21.858Z"
   },
   {
    "duration": 694,
    "start_time": "2025-02-27T18:09:21.871Z"
   },
   {
    "duration": 158,
    "start_time": "2025-02-27T18:09:22.566Z"
   },
   {
    "duration": 126,
    "start_time": "2025-02-27T18:09:22.727Z"
   },
   {
    "duration": 53,
    "start_time": "2025-02-27T18:09:22.855Z"
   },
   {
    "duration": 148,
    "start_time": "2025-02-27T18:09:22.929Z"
   },
   {
    "duration": 30,
    "start_time": "2025-02-27T18:09:23.079Z"
   },
   {
    "duration": 80,
    "start_time": "2025-02-27T18:09:23.111Z"
   },
   {
    "duration": 52,
    "start_time": "2025-02-27T18:09:23.192Z"
   },
   {
    "duration": 19,
    "start_time": "2025-02-27T18:09:23.246Z"
   },
   {
    "duration": 12,
    "start_time": "2025-02-27T18:09:23.267Z"
   },
   {
    "duration": 12,
    "start_time": "2025-02-27T18:09:23.280Z"
   },
   {
    "duration": 69,
    "start_time": "2025-02-27T18:09:23.293Z"
   },
   {
    "duration": 9,
    "start_time": "2025-02-27T18:09:23.363Z"
   },
   {
    "duration": 235,
    "start_time": "2025-02-27T18:09:23.373Z"
   },
   {
    "duration": 110,
    "start_time": "2025-02-27T18:09:23.609Z"
   },
   {
    "duration": 34,
    "start_time": "2025-02-27T18:09:23.720Z"
   },
   {
    "duration": 3175,
    "start_time": "2025-02-27T18:09:23.756Z"
   },
   {
    "duration": 30,
    "start_time": "2025-02-27T18:09:26.933Z"
   },
   {
    "duration": 13,
    "start_time": "2025-02-27T18:09:26.964Z"
   },
   {
    "duration": 12,
    "start_time": "2025-02-27T18:09:26.978Z"
   },
   {
    "duration": 48,
    "start_time": "2025-02-27T18:09:26.991Z"
   },
   {
    "duration": 10,
    "start_time": "2025-02-27T18:09:27.041Z"
   },
   {
    "duration": 9,
    "start_time": "2025-02-27T18:09:27.053Z"
   },
   {
    "duration": 44,
    "start_time": "2025-02-27T18:09:27.064Z"
   },
   {
    "duration": 54,
    "start_time": "2025-02-27T18:09:27.109Z"
   },
   {
    "duration": 6,
    "start_time": "2025-02-27T18:09:27.164Z"
   },
   {
    "duration": 88,
    "start_time": "2025-02-27T18:09:27.172Z"
   },
   {
    "duration": 88,
    "start_time": "2025-02-27T18:09:27.261Z"
   },
   {
    "duration": 24,
    "start_time": "2025-02-27T18:09:27.350Z"
   },
   {
    "duration": 180,
    "start_time": "2025-02-27T18:09:27.376Z"
   },
   {
    "duration": 126,
    "start_time": "2025-02-27T18:09:27.559Z"
   },
   {
    "duration": 24,
    "start_time": "2025-02-27T18:09:27.687Z"
   },
   {
    "duration": 347,
    "start_time": "2025-02-27T18:09:27.712Z"
   },
   {
    "duration": 8,
    "start_time": "2025-02-27T18:09:28.060Z"
   },
   {
    "duration": 34,
    "start_time": "2025-02-27T18:09:28.069Z"
   },
   {
    "duration": 31,
    "start_time": "2025-02-27T18:09:28.104Z"
   },
   {
    "duration": 62,
    "start_time": "2025-02-27T18:09:28.138Z"
   },
   {
    "duration": 28,
    "start_time": "2025-02-27T18:09:28.202Z"
   },
   {
    "duration": 20,
    "start_time": "2025-02-27T18:09:28.232Z"
   },
   {
    "duration": 14,
    "start_time": "2025-02-27T18:09:28.253Z"
   },
   {
    "duration": 80,
    "start_time": "2025-02-27T18:09:28.269Z"
   },
   {
    "duration": 183,
    "start_time": "2025-02-27T18:09:28.351Z"
   },
   {
    "duration": 199,
    "start_time": "2025-02-27T18:09:28.537Z"
   },
   {
    "duration": 52,
    "start_time": "2025-02-27T18:09:28.738Z"
   },
   {
    "duration": 56,
    "start_time": "2025-02-27T18:09:28.791Z"
   },
   {
    "duration": 21,
    "start_time": "2025-02-27T18:09:28.850Z"
   },
   {
    "duration": 6,
    "start_time": "2025-02-27T18:09:28.872Z"
   },
   {
    "duration": 31,
    "start_time": "2025-02-27T18:09:28.879Z"
   },
   {
    "duration": 82,
    "start_time": "2025-02-27T18:09:28.911Z"
   },
   {
    "duration": 12,
    "start_time": "2025-02-27T18:09:28.995Z"
   },
   {
    "duration": 204,
    "start_time": "2025-02-27T18:09:29.009Z"
   },
   {
    "duration": 105,
    "start_time": "2025-02-28T08:02:55.936Z"
   },
   {
    "duration": 1358,
    "start_time": "2025-02-28T08:03:08.307Z"
   },
   {
    "duration": 2323,
    "start_time": "2025-02-28T08:03:09.667Z"
   },
   {
    "duration": 13,
    "start_time": "2025-02-28T08:03:11.992Z"
   },
   {
    "duration": 16,
    "start_time": "2025-02-28T08:03:12.007Z"
   },
   {
    "duration": 24,
    "start_time": "2025-02-28T08:03:12.025Z"
   },
   {
    "duration": 102,
    "start_time": "2025-02-28T08:03:12.051Z"
   },
   {
    "duration": 7,
    "start_time": "2025-02-28T08:03:12.155Z"
   },
   {
    "duration": 31,
    "start_time": "2025-02-28T08:03:12.164Z"
   },
   {
    "duration": 8,
    "start_time": "2025-02-28T08:03:12.197Z"
   },
   {
    "duration": 58,
    "start_time": "2025-02-28T08:03:12.210Z"
   },
   {
    "duration": 9,
    "start_time": "2025-02-28T08:03:12.270Z"
   },
   {
    "duration": 42,
    "start_time": "2025-02-28T08:03:12.281Z"
   },
   {
    "duration": 35,
    "start_time": "2025-02-28T08:03:12.326Z"
   },
   {
    "duration": 48,
    "start_time": "2025-02-28T08:03:12.363Z"
   },
   {
    "duration": 15,
    "start_time": "2025-02-28T08:03:12.413Z"
   },
   {
    "duration": 12,
    "start_time": "2025-02-28T08:03:12.430Z"
   },
   {
    "duration": 16,
    "start_time": "2025-02-28T08:03:12.444Z"
   },
   {
    "duration": 27,
    "start_time": "2025-02-28T08:03:12.462Z"
   },
   {
    "duration": 10,
    "start_time": "2025-02-28T08:03:12.490Z"
   },
   {
    "duration": 464,
    "start_time": "2025-02-28T08:03:12.502Z"
   },
   {
    "duration": 43,
    "start_time": "2025-02-28T08:03:12.968Z"
   },
   {
    "duration": 197,
    "start_time": "2025-02-28T08:03:13.013Z"
   },
   {
    "duration": 53,
    "start_time": "2025-02-28T08:03:13.211Z"
   },
   {
    "duration": 17,
    "start_time": "2025-02-28T08:03:13.265Z"
   },
   {
    "duration": 1171,
    "start_time": "2025-02-28T08:03:13.284Z"
   },
   {
    "duration": 162,
    "start_time": "2025-02-28T08:03:14.457Z"
   },
   {
    "duration": 34,
    "start_time": "2025-02-28T08:03:14.620Z"
   },
   {
    "duration": 108,
    "start_time": "2025-02-28T08:03:14.675Z"
   },
   {
    "duration": 33,
    "start_time": "2025-02-28T08:03:14.785Z"
   },
   {
    "duration": 52,
    "start_time": "2025-02-28T08:03:14.819Z"
   },
   {
    "duration": 695,
    "start_time": "2025-02-28T08:03:14.873Z"
   },
   {
    "duration": 155,
    "start_time": "2025-02-28T08:03:15.570Z"
   },
   {
    "duration": 127,
    "start_time": "2025-02-28T08:03:15.726Z"
   },
   {
    "duration": 54,
    "start_time": "2025-02-28T08:03:15.855Z"
   },
   {
    "duration": 181,
    "start_time": "2025-02-28T08:03:15.910Z"
   },
   {
    "duration": 35,
    "start_time": "2025-02-28T08:03:16.093Z"
   },
   {
    "duration": 85,
    "start_time": "2025-02-28T08:03:16.129Z"
   },
   {
    "duration": 151,
    "start_time": "2025-02-28T08:03:16.216Z"
   },
   {
    "duration": 21,
    "start_time": "2025-02-28T08:03:16.368Z"
   },
   {
    "duration": 15,
    "start_time": "2025-02-28T08:03:16.391Z"
   },
   {
    "duration": 42,
    "start_time": "2025-02-28T08:03:16.408Z"
   },
   {
    "duration": 45,
    "start_time": "2025-02-28T08:03:16.452Z"
   },
   {
    "duration": 9,
    "start_time": "2025-02-28T08:03:16.499Z"
   },
   {
    "duration": 249,
    "start_time": "2025-02-28T08:03:16.509Z"
   },
   {
    "duration": 117,
    "start_time": "2025-02-28T08:03:16.761Z"
   },
   {
    "duration": 21,
    "start_time": "2025-02-28T08:03:16.880Z"
   },
   {
    "duration": 2718,
    "start_time": "2025-02-28T08:03:16.902Z"
   },
   {
    "duration": 36,
    "start_time": "2025-02-28T08:03:19.621Z"
   },
   {
    "duration": 14,
    "start_time": "2025-02-28T08:03:19.658Z"
   },
   {
    "duration": 8,
    "start_time": "2025-02-28T08:03:19.674Z"
   },
   {
    "duration": 17,
    "start_time": "2025-02-28T08:03:19.684Z"
   },
   {
    "duration": 6,
    "start_time": "2025-02-28T08:03:19.703Z"
   },
   {
    "duration": 50,
    "start_time": "2025-02-28T08:03:19.711Z"
   },
   {
    "duration": 41,
    "start_time": "2025-02-28T08:03:19.762Z"
   },
   {
    "duration": 53,
    "start_time": "2025-02-28T08:03:19.805Z"
   },
   {
    "duration": 59,
    "start_time": "2025-02-28T08:03:19.860Z"
   },
   {
    "duration": 90,
    "start_time": "2025-02-28T08:03:19.921Z"
   },
   {
    "duration": 86,
    "start_time": "2025-02-28T08:03:20.013Z"
   },
   {
    "duration": 27,
    "start_time": "2025-02-28T08:03:20.101Z"
   },
   {
    "duration": 235,
    "start_time": "2025-02-28T08:03:20.130Z"
   },
   {
    "duration": 139,
    "start_time": "2025-02-28T08:03:20.367Z"
   },
   {
    "duration": 25,
    "start_time": "2025-02-28T08:03:20.508Z"
   },
   {
    "duration": 438,
    "start_time": "2025-02-28T08:03:20.534Z"
   },
   {
    "duration": 8,
    "start_time": "2025-02-28T08:03:20.974Z"
   },
   {
    "duration": 244,
    "start_time": "2025-02-28T08:03:20.984Z"
   },
   {
    "duration": 19,
    "start_time": "2025-02-28T08:03:21.230Z"
   },
   {
    "duration": 119,
    "start_time": "2025-02-28T08:03:21.251Z"
   },
   {
    "duration": 16,
    "start_time": "2025-02-28T08:03:21.372Z"
   },
   {
    "duration": 50,
    "start_time": "2025-02-28T08:03:21.390Z"
   },
   {
    "duration": 30,
    "start_time": "2025-02-28T08:03:21.442Z"
   },
   {
    "duration": 110,
    "start_time": "2025-02-28T08:03:21.474Z"
   },
   {
    "duration": 194,
    "start_time": "2025-02-28T08:03:21.585Z"
   },
   {
    "duration": 193,
    "start_time": "2025-02-28T08:03:21.781Z"
   },
   {
    "duration": 115,
    "start_time": "2025-02-28T08:03:21.977Z"
   },
   {
    "duration": 0,
    "start_time": "2025-02-28T08:03:22.094Z"
   },
   {
    "duration": 0,
    "start_time": "2025-02-28T08:03:22.096Z"
   },
   {
    "duration": 0,
    "start_time": "2025-02-28T08:03:22.098Z"
   },
   {
    "duration": 0,
    "start_time": "2025-02-28T08:03:22.099Z"
   },
   {
    "duration": 0,
    "start_time": "2025-02-28T08:03:22.100Z"
   },
   {
    "duration": 0,
    "start_time": "2025-02-28T08:03:22.102Z"
   },
   {
    "duration": 0,
    "start_time": "2025-02-28T08:03:22.103Z"
   },
   {
    "duration": 0,
    "start_time": "2025-02-28T08:03:22.105Z"
   },
   {
    "duration": 754,
    "start_time": "2025-02-28T08:03:39.518Z"
   },
   {
    "duration": 621,
    "start_time": "2025-02-28T08:03:57.127Z"
   },
   {
    "duration": 671,
    "start_time": "2025-02-28T08:04:02.485Z"
   },
   {
    "duration": 692,
    "start_time": "2025-02-28T08:04:15.496Z"
   },
   {
    "duration": 598,
    "start_time": "2025-02-28T08:04:18.484Z"
   },
   {
    "duration": 711,
    "start_time": "2025-02-28T08:04:24.306Z"
   },
   {
    "duration": 592,
    "start_time": "2025-02-28T08:04:31.035Z"
   },
   {
    "duration": 720,
    "start_time": "2025-02-28T08:04:35.328Z"
   },
   {
    "duration": 1294,
    "start_time": "2025-02-28T08:05:07.044Z"
   },
   {
    "duration": 2133,
    "start_time": "2025-02-28T08:05:08.340Z"
   },
   {
    "duration": 13,
    "start_time": "2025-02-28T08:05:10.474Z"
   },
   {
    "duration": 45,
    "start_time": "2025-02-28T08:05:10.489Z"
   },
   {
    "duration": 25,
    "start_time": "2025-02-28T08:05:10.536Z"
   },
   {
    "duration": 200,
    "start_time": "2025-02-28T08:05:10.562Z"
   },
   {
    "duration": 8,
    "start_time": "2025-02-28T08:05:10.764Z"
   },
   {
    "duration": 135,
    "start_time": "2025-02-28T08:05:10.774Z"
   },
   {
    "duration": 24,
    "start_time": "2025-02-28T08:05:10.911Z"
   },
   {
    "duration": 63,
    "start_time": "2025-02-28T08:05:10.939Z"
   },
   {
    "duration": 9,
    "start_time": "2025-02-28T08:05:11.003Z"
   },
   {
    "duration": 154,
    "start_time": "2025-02-28T08:05:11.014Z"
   },
   {
    "duration": 93,
    "start_time": "2025-02-28T08:05:11.169Z"
   },
   {
    "duration": 44,
    "start_time": "2025-02-28T08:05:11.264Z"
   },
   {
    "duration": 10,
    "start_time": "2025-02-28T08:05:11.310Z"
   },
   {
    "duration": 13,
    "start_time": "2025-02-28T08:05:11.322Z"
   },
   {
    "duration": 20,
    "start_time": "2025-02-28T08:05:11.337Z"
   },
   {
    "duration": 31,
    "start_time": "2025-02-28T08:05:11.359Z"
   },
   {
    "duration": 10,
    "start_time": "2025-02-28T08:05:11.391Z"
   },
   {
    "duration": 430,
    "start_time": "2025-02-28T08:05:11.403Z"
   },
   {
    "duration": 60,
    "start_time": "2025-02-28T08:05:11.835Z"
   },
   {
    "duration": 216,
    "start_time": "2025-02-28T08:05:11.896Z"
   },
   {
    "duration": 59,
    "start_time": "2025-02-28T08:05:12.114Z"
   },
   {
    "duration": 21,
    "start_time": "2025-02-28T08:05:12.175Z"
   },
   {
    "duration": 1289,
    "start_time": "2025-02-28T08:05:12.197Z"
   },
   {
    "duration": 186,
    "start_time": "2025-02-28T08:05:13.488Z"
   },
   {
    "duration": 24,
    "start_time": "2025-02-28T08:05:13.675Z"
   },
   {
    "duration": 129,
    "start_time": "2025-02-28T08:05:13.724Z"
   },
   {
    "duration": 39,
    "start_time": "2025-02-28T08:05:13.854Z"
   },
   {
    "duration": 42,
    "start_time": "2025-02-28T08:05:13.895Z"
   },
   {
    "duration": 736,
    "start_time": "2025-02-28T08:05:13.939Z"
   },
   {
    "duration": 176,
    "start_time": "2025-02-28T08:05:14.677Z"
   },
   {
    "duration": 112,
    "start_time": "2025-02-28T08:05:14.854Z"
   },
   {
    "duration": 57,
    "start_time": "2025-02-28T08:05:14.968Z"
   },
   {
    "duration": 154,
    "start_time": "2025-02-28T08:05:15.047Z"
   },
   {
    "duration": 62,
    "start_time": "2025-02-28T08:05:15.203Z"
   },
   {
    "duration": 109,
    "start_time": "2025-02-28T08:05:15.267Z"
   },
   {
    "duration": 42,
    "start_time": "2025-02-28T08:05:15.378Z"
   },
   {
    "duration": 33,
    "start_time": "2025-02-28T08:05:15.421Z"
   },
   {
    "duration": 14,
    "start_time": "2025-02-28T08:05:15.455Z"
   },
   {
    "duration": 39,
    "start_time": "2025-02-28T08:05:15.471Z"
   },
   {
    "duration": 58,
    "start_time": "2025-02-28T08:05:15.512Z"
   },
   {
    "duration": 10,
    "start_time": "2025-02-28T08:05:15.573Z"
   },
   {
    "duration": 251,
    "start_time": "2025-02-28T08:05:15.585Z"
   },
   {
    "duration": 111,
    "start_time": "2025-02-28T08:05:15.838Z"
   },
   {
    "duration": 22,
    "start_time": "2025-02-28T08:05:15.951Z"
   },
   {
    "duration": 2647,
    "start_time": "2025-02-28T08:05:15.975Z"
   },
   {
    "duration": 32,
    "start_time": "2025-02-28T08:05:18.624Z"
   },
   {
    "duration": 34,
    "start_time": "2025-02-28T08:05:18.658Z"
   },
   {
    "duration": 19,
    "start_time": "2025-02-28T08:05:18.694Z"
   },
   {
    "duration": 25,
    "start_time": "2025-02-28T08:05:18.715Z"
   },
   {
    "duration": 10,
    "start_time": "2025-02-28T08:05:18.742Z"
   },
   {
    "duration": 11,
    "start_time": "2025-02-28T08:05:18.754Z"
   },
   {
    "duration": 48,
    "start_time": "2025-02-28T08:05:18.767Z"
   },
   {
    "duration": 107,
    "start_time": "2025-02-28T08:05:18.817Z"
   },
   {
    "duration": 18,
    "start_time": "2025-02-28T08:05:18.926Z"
   },
   {
    "duration": 74,
    "start_time": "2025-02-28T08:05:18.946Z"
   },
   {
    "duration": 176,
    "start_time": "2025-02-28T08:05:19.022Z"
   },
   {
    "duration": 27,
    "start_time": "2025-02-28T08:05:19.199Z"
   },
   {
    "duration": 163,
    "start_time": "2025-02-28T08:05:19.227Z"
   },
   {
    "duration": 109,
    "start_time": "2025-02-28T08:05:19.392Z"
   },
   {
    "duration": 23,
    "start_time": "2025-02-28T08:05:19.503Z"
   },
   {
    "duration": 306,
    "start_time": "2025-02-28T08:05:19.528Z"
   },
   {
    "duration": 13,
    "start_time": "2025-02-28T08:05:19.835Z"
   },
   {
    "duration": 92,
    "start_time": "2025-02-28T08:05:19.850Z"
   },
   {
    "duration": 19,
    "start_time": "2025-02-28T08:05:19.944Z"
   },
   {
    "duration": 77,
    "start_time": "2025-02-28T08:05:19.965Z"
   },
   {
    "duration": 16,
    "start_time": "2025-02-28T08:05:20.043Z"
   },
   {
    "duration": 47,
    "start_time": "2025-02-28T08:05:20.060Z"
   },
   {
    "duration": 20,
    "start_time": "2025-02-28T08:05:20.109Z"
   },
   {
    "duration": 111,
    "start_time": "2025-02-28T08:05:20.131Z"
   },
   {
    "duration": 266,
    "start_time": "2025-02-28T08:05:20.244Z"
   },
   {
    "duration": 172,
    "start_time": "2025-02-28T08:05:20.512Z"
   },
   {
    "duration": 66,
    "start_time": "2025-02-28T08:05:20.685Z"
   },
   {
    "duration": 32,
    "start_time": "2025-02-28T08:05:20.756Z"
   },
   {
    "duration": 111,
    "start_time": "2025-02-28T08:05:20.790Z"
   },
   {
    "duration": 8,
    "start_time": "2025-02-28T08:05:20.902Z"
   },
   {
    "duration": 27,
    "start_time": "2025-02-28T08:05:20.911Z"
   },
   {
    "duration": 66,
    "start_time": "2025-02-28T08:05:20.940Z"
   },
   {
    "duration": 10,
    "start_time": "2025-02-28T08:05:21.008Z"
   },
   {
    "duration": 271,
    "start_time": "2025-02-28T08:05:21.019Z"
   },
   {
    "duration": 45,
    "start_time": "2025-02-28T08:08:19.480Z"
   },
   {
    "duration": 13,
    "start_time": "2025-02-28T08:08:39.089Z"
   },
   {
    "duration": 12,
    "start_time": "2025-02-28T08:08:41.556Z"
   },
   {
    "duration": 12,
    "start_time": "2025-02-28T08:08:45.514Z"
   },
   {
    "duration": 163,
    "start_time": "2025-02-28T08:08:52.756Z"
   },
   {
    "duration": 45,
    "start_time": "2025-02-28T08:12:51.524Z"
   },
   {
    "duration": 15,
    "start_time": "2025-02-28T08:13:59.183Z"
   },
   {
    "duration": 15,
    "start_time": "2025-02-28T08:14:07.018Z"
   },
   {
    "duration": 11,
    "start_time": "2025-02-28T08:14:09.314Z"
   },
   {
    "duration": 11,
    "start_time": "2025-02-28T08:15:04.948Z"
   },
   {
    "duration": 163,
    "start_time": "2025-02-28T08:15:15.030Z"
   },
   {
    "duration": 108,
    "start_time": "2025-02-28T08:17:27.085Z"
   },
   {
    "duration": 83,
    "start_time": "2025-02-28T08:17:42.824Z"
   },
   {
    "duration": 118,
    "start_time": "2025-02-28T08:17:57.913Z"
   },
   {
    "duration": 84,
    "start_time": "2025-02-28T08:18:10.381Z"
   },
   {
    "duration": 90,
    "start_time": "2025-02-28T08:18:34.384Z"
   },
   {
    "duration": 108,
    "start_time": "2025-02-28T08:20:53.504Z"
   },
   {
    "duration": 1158,
    "start_time": "2025-02-28T08:22:09.896Z"
   },
   {
    "duration": 2260,
    "start_time": "2025-02-28T08:22:11.056Z"
   },
   {
    "duration": 13,
    "start_time": "2025-02-28T08:22:13.317Z"
   },
   {
    "duration": 13,
    "start_time": "2025-02-28T08:22:13.332Z"
   },
   {
    "duration": 25,
    "start_time": "2025-02-28T08:22:13.347Z"
   },
   {
    "duration": 102,
    "start_time": "2025-02-28T08:22:13.374Z"
   },
   {
    "duration": 7,
    "start_time": "2025-02-28T08:22:13.478Z"
   },
   {
    "duration": 31,
    "start_time": "2025-02-28T08:22:13.487Z"
   },
   {
    "duration": 29,
    "start_time": "2025-02-28T08:22:13.519Z"
   },
   {
    "duration": 39,
    "start_time": "2025-02-28T08:22:13.550Z"
   },
   {
    "duration": 8,
    "start_time": "2025-02-28T08:22:13.591Z"
   },
   {
    "duration": 24,
    "start_time": "2025-02-28T08:22:13.601Z"
   },
   {
    "duration": 11,
    "start_time": "2025-02-28T08:22:13.648Z"
   },
   {
    "duration": 15,
    "start_time": "2025-02-28T08:22:13.660Z"
   },
   {
    "duration": 6,
    "start_time": "2025-02-28T08:22:13.677Z"
   },
   {
    "duration": 9,
    "start_time": "2025-02-28T08:22:13.685Z"
   },
   {
    "duration": 55,
    "start_time": "2025-02-28T08:22:13.696Z"
   },
   {
    "duration": 29,
    "start_time": "2025-02-28T08:22:13.753Z"
   },
   {
    "duration": 9,
    "start_time": "2025-02-28T08:22:13.784Z"
   },
   {
    "duration": 401,
    "start_time": "2025-02-28T08:22:13.795Z"
   },
   {
    "duration": 59,
    "start_time": "2025-02-28T08:22:14.198Z"
   },
   {
    "duration": 169,
    "start_time": "2025-02-28T08:22:14.259Z"
   },
   {
    "duration": 51,
    "start_time": "2025-02-28T08:22:14.430Z"
   },
   {
    "duration": 22,
    "start_time": "2025-02-28T08:22:14.483Z"
   },
   {
    "duration": 1141,
    "start_time": "2025-02-28T08:22:14.507Z"
   },
   {
    "duration": 179,
    "start_time": "2025-02-28T08:22:15.649Z"
   },
   {
    "duration": 33,
    "start_time": "2025-02-28T08:22:15.830Z"
   },
   {
    "duration": 97,
    "start_time": "2025-02-28T08:22:15.884Z"
   },
   {
    "duration": 36,
    "start_time": "2025-02-28T08:22:15.982Z"
   },
   {
    "duration": 30,
    "start_time": "2025-02-28T08:22:16.020Z"
   },
   {
    "duration": 658,
    "start_time": "2025-02-28T08:22:16.052Z"
   },
   {
    "duration": 156,
    "start_time": "2025-02-28T08:22:16.712Z"
   },
   {
    "duration": 103,
    "start_time": "2025-02-28T08:22:16.870Z"
   },
   {
    "duration": 86,
    "start_time": "2025-02-28T08:22:16.974Z"
   },
   {
    "duration": 154,
    "start_time": "2025-02-28T08:22:17.062Z"
   },
   {
    "duration": 41,
    "start_time": "2025-02-28T08:22:17.217Z"
   },
   {
    "duration": 127,
    "start_time": "2025-02-28T08:22:17.260Z"
   },
   {
    "duration": 45,
    "start_time": "2025-02-28T08:22:17.389Z"
   },
   {
    "duration": 29,
    "start_time": "2025-02-28T08:22:17.435Z"
   },
   {
    "duration": 16,
    "start_time": "2025-02-28T08:22:17.466Z"
   },
   {
    "duration": 14,
    "start_time": "2025-02-28T08:22:17.484Z"
   },
   {
    "duration": 81,
    "start_time": "2025-02-28T08:22:17.500Z"
   },
   {
    "duration": 10,
    "start_time": "2025-02-28T08:22:17.583Z"
   },
   {
    "duration": 246,
    "start_time": "2025-02-28T08:22:17.595Z"
   },
   {
    "duration": 123,
    "start_time": "2025-02-28T08:22:17.843Z"
   },
   {
    "duration": 32,
    "start_time": "2025-02-28T08:22:17.969Z"
   },
   {
    "duration": 2628,
    "start_time": "2025-02-28T08:22:18.003Z"
   },
   {
    "duration": 32,
    "start_time": "2025-02-28T08:22:20.632Z"
   },
   {
    "duration": 98,
    "start_time": "2025-02-28T08:22:20.665Z"
   },
   {
    "duration": 21,
    "start_time": "2025-02-28T08:22:20.764Z"
   },
   {
    "duration": 38,
    "start_time": "2025-02-28T08:22:20.786Z"
   },
   {
    "duration": 9,
    "start_time": "2025-02-28T08:22:20.825Z"
   },
   {
    "duration": 91,
    "start_time": "2025-02-28T08:22:20.836Z"
   },
   {
    "duration": 127,
    "start_time": "2025-02-28T08:22:20.928Z"
   },
   {
    "duration": 28,
    "start_time": "2025-02-28T08:22:21.056Z"
   },
   {
    "duration": 91,
    "start_time": "2025-02-28T08:22:21.086Z"
   },
   {
    "duration": 192,
    "start_time": "2025-02-28T08:22:21.179Z"
   },
   {
    "duration": 85,
    "start_time": "2025-02-28T08:22:21.373Z"
   },
   {
    "duration": 24,
    "start_time": "2025-02-28T08:22:21.460Z"
   },
   {
    "duration": 175,
    "start_time": "2025-02-28T08:22:21.485Z"
   },
   {
    "duration": 116,
    "start_time": "2025-02-28T08:22:21.662Z"
   },
   {
    "duration": 24,
    "start_time": "2025-02-28T08:22:21.780Z"
   },
   {
    "duration": 296,
    "start_time": "2025-02-28T08:22:21.805Z"
   },
   {
    "duration": 8,
    "start_time": "2025-02-28T08:22:22.103Z"
   },
   {
    "duration": 58,
    "start_time": "2025-02-28T08:22:22.112Z"
   },
   {
    "duration": 33,
    "start_time": "2025-02-28T08:22:22.171Z"
   },
   {
    "duration": 55,
    "start_time": "2025-02-28T08:22:22.206Z"
   },
   {
    "duration": 14,
    "start_time": "2025-02-28T08:22:22.263Z"
   },
   {
    "duration": 15,
    "start_time": "2025-02-28T08:22:22.278Z"
   },
   {
    "duration": 16,
    "start_time": "2025-02-28T08:22:22.295Z"
   },
   {
    "duration": 188,
    "start_time": "2025-02-28T08:22:22.312Z"
   },
   {
    "duration": 168,
    "start_time": "2025-02-28T08:22:22.502Z"
   },
   {
    "duration": 187,
    "start_time": "2025-02-28T08:22:22.672Z"
   },
   {
    "duration": 48,
    "start_time": "2025-02-28T08:22:22.860Z"
   },
   {
    "duration": 139,
    "start_time": "2025-02-28T08:22:22.909Z"
   },
   {
    "duration": 22,
    "start_time": "2025-02-28T08:22:23.049Z"
   },
   {
    "duration": 21,
    "start_time": "2025-02-28T08:22:23.073Z"
   },
   {
    "duration": 195,
    "start_time": "2025-02-28T08:22:23.096Z"
   },
   {
    "duration": 121,
    "start_time": "2025-02-28T08:22:23.293Z"
   },
   {
    "duration": 41,
    "start_time": "2025-02-28T08:22:23.416Z"
   },
   {
    "duration": 10,
    "start_time": "2025-02-28T08:22:23.459Z"
   },
   {
    "duration": 174,
    "start_time": "2025-02-28T08:22:23.474Z"
   },
   {
    "duration": 1181,
    "start_time": "2025-02-28T08:24:15.154Z"
   },
   {
    "duration": 2296,
    "start_time": "2025-02-28T08:24:16.337Z"
   },
   {
    "duration": 11,
    "start_time": "2025-02-28T08:24:18.636Z"
   },
   {
    "duration": 12,
    "start_time": "2025-02-28T08:24:18.648Z"
   },
   {
    "duration": 58,
    "start_time": "2025-02-28T08:24:18.662Z"
   },
   {
    "duration": 135,
    "start_time": "2025-02-28T08:24:18.722Z"
   },
   {
    "duration": 6,
    "start_time": "2025-02-28T08:24:18.859Z"
   },
   {
    "duration": 152,
    "start_time": "2025-02-28T08:24:18.867Z"
   },
   {
    "duration": 54,
    "start_time": "2025-02-28T08:24:19.022Z"
   },
   {
    "duration": 72,
    "start_time": "2025-02-28T08:24:19.078Z"
   },
   {
    "duration": 135,
    "start_time": "2025-02-28T08:24:19.152Z"
   },
   {
    "duration": 56,
    "start_time": "2025-02-28T08:24:19.289Z"
   },
   {
    "duration": 13,
    "start_time": "2025-02-28T08:24:19.347Z"
   },
   {
    "duration": 42,
    "start_time": "2025-02-28T08:24:19.362Z"
   },
   {
    "duration": 30,
    "start_time": "2025-02-28T08:24:19.406Z"
   },
   {
    "duration": 11,
    "start_time": "2025-02-28T08:24:19.438Z"
   },
   {
    "duration": 24,
    "start_time": "2025-02-28T08:24:19.451Z"
   },
   {
    "duration": 25,
    "start_time": "2025-02-28T08:24:19.477Z"
   },
   {
    "duration": 49,
    "start_time": "2025-02-28T08:24:19.504Z"
   },
   {
    "duration": 393,
    "start_time": "2025-02-28T08:24:19.555Z"
   },
   {
    "duration": 42,
    "start_time": "2025-02-28T08:24:19.949Z"
   },
   {
    "duration": 192,
    "start_time": "2025-02-28T08:24:19.993Z"
   },
   {
    "duration": 61,
    "start_time": "2025-02-28T08:24:20.187Z"
   },
   {
    "duration": 18,
    "start_time": "2025-02-28T08:24:20.250Z"
   },
   {
    "duration": 1137,
    "start_time": "2025-02-28T08:24:20.270Z"
   },
   {
    "duration": 158,
    "start_time": "2025-02-28T08:24:21.409Z"
   },
   {
    "duration": 26,
    "start_time": "2025-02-28T08:24:21.593Z"
   },
   {
    "duration": 111,
    "start_time": "2025-02-28T08:24:21.621Z"
   },
   {
    "duration": 45,
    "start_time": "2025-02-28T08:24:21.733Z"
   },
   {
    "duration": 12,
    "start_time": "2025-02-28T08:24:21.781Z"
   },
   {
    "duration": 671,
    "start_time": "2025-02-28T08:24:21.795Z"
   },
   {
    "duration": 155,
    "start_time": "2025-02-28T08:24:22.468Z"
   },
   {
    "duration": 100,
    "start_time": "2025-02-28T08:24:22.624Z"
   },
   {
    "duration": 70,
    "start_time": "2025-02-28T08:24:22.726Z"
   },
   {
    "duration": 158,
    "start_time": "2025-02-28T08:24:22.798Z"
   },
   {
    "duration": 33,
    "start_time": "2025-02-28T08:24:22.957Z"
   },
   {
    "duration": 80,
    "start_time": "2025-02-28T08:24:22.991Z"
   },
   {
    "duration": 40,
    "start_time": "2025-02-28T08:24:23.073Z"
   },
   {
    "duration": 36,
    "start_time": "2025-02-28T08:24:23.115Z"
   },
   {
    "duration": 143,
    "start_time": "2025-02-28T08:24:23.153Z"
   },
   {
    "duration": 13,
    "start_time": "2025-02-28T08:24:23.298Z"
   },
   {
    "duration": 50,
    "start_time": "2025-02-28T08:24:23.313Z"
   },
   {
    "duration": 9,
    "start_time": "2025-02-28T08:24:23.365Z"
   },
   {
    "duration": 220,
    "start_time": "2025-02-28T08:24:23.375Z"
   },
   {
    "duration": 108,
    "start_time": "2025-02-28T08:24:23.596Z"
   },
   {
    "duration": 19,
    "start_time": "2025-02-28T08:24:23.706Z"
   },
   {
    "duration": 2765,
    "start_time": "2025-02-28T08:24:23.728Z"
   },
   {
    "duration": 23,
    "start_time": "2025-02-28T08:24:26.495Z"
   },
   {
    "duration": 30,
    "start_time": "2025-02-28T08:24:26.519Z"
   },
   {
    "duration": 12,
    "start_time": "2025-02-28T08:24:26.550Z"
   },
   {
    "duration": 23,
    "start_time": "2025-02-28T08:24:26.563Z"
   },
   {
    "duration": 8,
    "start_time": "2025-02-28T08:24:26.587Z"
   },
   {
    "duration": 14,
    "start_time": "2025-02-28T08:24:26.597Z"
   },
   {
    "duration": 63,
    "start_time": "2025-02-28T08:24:26.613Z"
   },
   {
    "duration": 27,
    "start_time": "2025-02-28T08:24:26.677Z"
   },
   {
    "duration": 63,
    "start_time": "2025-02-28T08:24:26.706Z"
   },
   {
    "duration": 65,
    "start_time": "2025-02-28T08:24:26.771Z"
   },
   {
    "duration": 74,
    "start_time": "2025-02-28T08:24:26.838Z"
   },
   {
    "duration": 88,
    "start_time": "2025-02-28T08:24:26.914Z"
   },
   {
    "duration": 152,
    "start_time": "2025-02-28T08:24:27.004Z"
   },
   {
    "duration": 111,
    "start_time": "2025-02-28T08:24:27.158Z"
   },
   {
    "duration": 25,
    "start_time": "2025-02-28T08:24:27.271Z"
   },
   {
    "duration": 289,
    "start_time": "2025-02-28T08:24:27.297Z"
   },
   {
    "duration": 8,
    "start_time": "2025-02-28T08:24:27.588Z"
   },
   {
    "duration": 59,
    "start_time": "2025-02-28T08:24:27.597Z"
   },
   {
    "duration": 38,
    "start_time": "2025-02-28T08:24:27.657Z"
   },
   {
    "duration": 62,
    "start_time": "2025-02-28T08:24:27.697Z"
   },
   {
    "duration": 15,
    "start_time": "2025-02-28T08:24:27.761Z"
   },
   {
    "duration": 16,
    "start_time": "2025-02-28T08:24:27.777Z"
   },
   {
    "duration": 14,
    "start_time": "2025-02-28T08:24:27.794Z"
   },
   {
    "duration": 88,
    "start_time": "2025-02-28T08:24:27.809Z"
   },
   {
    "duration": 185,
    "start_time": "2025-02-28T08:24:27.898Z"
   },
   {
    "duration": 212,
    "start_time": "2025-02-28T08:24:28.085Z"
   },
   {
    "duration": 64,
    "start_time": "2025-02-28T08:24:28.298Z"
   },
   {
    "duration": 87,
    "start_time": "2025-02-28T08:24:28.364Z"
   },
   {
    "duration": 22,
    "start_time": "2025-02-28T08:24:28.453Z"
   },
   {
    "duration": 6,
    "start_time": "2025-02-28T08:24:28.476Z"
   },
   {
    "duration": 43,
    "start_time": "2025-02-28T08:24:28.484Z"
   },
   {
    "duration": 90,
    "start_time": "2025-02-28T08:24:28.529Z"
   },
   {
    "duration": 50,
    "start_time": "2025-02-28T08:24:28.621Z"
   },
   {
    "duration": 10,
    "start_time": "2025-02-28T08:24:28.676Z"
   },
   {
    "duration": 238,
    "start_time": "2025-02-28T08:24:28.687Z"
   },
   {
    "duration": 1166,
    "start_time": "2025-02-28T09:44:01.769Z"
   },
   {
    "duration": 2282,
    "start_time": "2025-02-28T09:44:02.937Z"
   },
   {
    "duration": 11,
    "start_time": "2025-02-28T09:44:05.221Z"
   },
   {
    "duration": 25,
    "start_time": "2025-02-28T09:44:05.234Z"
   },
   {
    "duration": 117,
    "start_time": "2025-02-28T09:44:05.261Z"
   },
   {
    "duration": 114,
    "start_time": "2025-02-28T09:44:05.380Z"
   },
   {
    "duration": 7,
    "start_time": "2025-02-28T09:44:05.495Z"
   },
   {
    "duration": 157,
    "start_time": "2025-02-28T09:44:05.504Z"
   },
   {
    "duration": 49,
    "start_time": "2025-02-28T09:44:05.663Z"
   },
   {
    "duration": 64,
    "start_time": "2025-02-28T09:44:05.714Z"
   },
   {
    "duration": 18,
    "start_time": "2025-02-28T09:44:05.780Z"
   },
   {
    "duration": 69,
    "start_time": "2025-02-28T09:44:05.800Z"
   },
   {
    "duration": 35,
    "start_time": "2025-02-28T09:44:05.870Z"
   },
   {
    "duration": 46,
    "start_time": "2025-02-28T09:44:05.906Z"
   },
   {
    "duration": 45,
    "start_time": "2025-02-28T09:44:05.953Z"
   },
   {
    "duration": 13,
    "start_time": "2025-02-28T09:44:05.999Z"
   },
   {
    "duration": 37,
    "start_time": "2025-02-28T09:44:06.013Z"
   },
   {
    "duration": 59,
    "start_time": "2025-02-28T09:44:06.051Z"
   },
   {
    "duration": 27,
    "start_time": "2025-02-28T09:44:06.111Z"
   },
   {
    "duration": 372,
    "start_time": "2025-02-28T09:44:06.139Z"
   },
   {
    "duration": 61,
    "start_time": "2025-02-28T09:44:06.512Z"
   },
   {
    "duration": 181,
    "start_time": "2025-02-28T09:44:06.576Z"
   },
   {
    "duration": 44,
    "start_time": "2025-02-28T09:44:06.761Z"
   },
   {
    "duration": 18,
    "start_time": "2025-02-28T09:44:06.806Z"
   },
   {
    "duration": 1062,
    "start_time": "2025-02-28T09:44:06.847Z"
   },
   {
    "duration": 148,
    "start_time": "2025-02-28T09:44:07.910Z"
   },
   {
    "duration": 22,
    "start_time": "2025-02-28T09:44:08.059Z"
   },
   {
    "duration": 103,
    "start_time": "2025-02-28T09:44:08.102Z"
   },
   {
    "duration": 55,
    "start_time": "2025-02-28T09:44:08.206Z"
   },
   {
    "duration": 12,
    "start_time": "2025-02-28T09:44:08.263Z"
   },
   {
    "duration": 634,
    "start_time": "2025-02-28T09:44:08.277Z"
   },
   {
    "duration": 148,
    "start_time": "2025-02-28T09:44:08.912Z"
   },
   {
    "duration": 194,
    "start_time": "2025-02-28T09:44:09.062Z"
   },
   {
    "duration": 52,
    "start_time": "2025-02-28T09:44:09.257Z"
   },
   {
    "duration": 253,
    "start_time": "2025-02-28T09:44:09.310Z"
   },
   {
    "duration": 30,
    "start_time": "2025-02-28T09:44:09.564Z"
   },
   {
    "duration": 131,
    "start_time": "2025-02-28T09:44:09.595Z"
   },
   {
    "duration": 39,
    "start_time": "2025-02-28T09:44:09.728Z"
   },
   {
    "duration": 18,
    "start_time": "2025-02-28T09:44:09.768Z"
   },
   {
    "duration": 20,
    "start_time": "2025-02-28T09:44:09.787Z"
   },
   {
    "duration": 38,
    "start_time": "2025-02-28T09:44:09.808Z"
   },
   {
    "duration": 52,
    "start_time": "2025-02-28T09:44:09.847Z"
   },
   {
    "duration": 16,
    "start_time": "2025-02-28T09:44:09.901Z"
   },
   {
    "duration": 260,
    "start_time": "2025-02-28T09:44:09.919Z"
   },
   {
    "duration": 106,
    "start_time": "2025-02-28T09:44:10.181Z"
   },
   {
    "duration": 21,
    "start_time": "2025-02-28T09:44:10.288Z"
   },
   {
    "duration": 2480,
    "start_time": "2025-02-28T09:44:10.310Z"
   },
   {
    "duration": 21,
    "start_time": "2025-02-28T09:44:12.792Z"
   },
   {
    "duration": 12,
    "start_time": "2025-02-28T09:44:12.814Z"
   },
   {
    "duration": 25,
    "start_time": "2025-02-28T09:44:12.828Z"
   },
   {
    "duration": 26,
    "start_time": "2025-02-28T09:44:12.855Z"
   },
   {
    "duration": 6,
    "start_time": "2025-02-28T09:44:12.882Z"
   },
   {
    "duration": 8,
    "start_time": "2025-02-28T09:44:12.889Z"
   },
   {
    "duration": 62,
    "start_time": "2025-02-28T09:44:12.898Z"
   },
   {
    "duration": 26,
    "start_time": "2025-02-28T09:44:12.962Z"
   },
   {
    "duration": 174,
    "start_time": "2025-02-28T09:44:12.990Z"
   },
   {
    "duration": 76,
    "start_time": "2025-02-28T09:44:13.165Z"
   },
   {
    "duration": 71,
    "start_time": "2025-02-28T09:44:13.243Z"
   },
   {
    "duration": 22,
    "start_time": "2025-02-28T09:44:13.315Z"
   },
   {
    "duration": 168,
    "start_time": "2025-02-28T09:44:13.347Z"
   },
   {
    "duration": 108,
    "start_time": "2025-02-28T09:44:13.516Z"
   },
   {
    "duration": 50,
    "start_time": "2025-02-28T09:44:13.626Z"
   },
   {
    "duration": 290,
    "start_time": "2025-02-28T09:44:13.678Z"
   },
   {
    "duration": 9,
    "start_time": "2025-02-28T09:44:13.970Z"
   },
   {
    "duration": 72,
    "start_time": "2025-02-28T09:44:13.980Z"
   },
   {
    "duration": 19,
    "start_time": "2025-02-28T09:44:14.053Z"
   },
   {
    "duration": 68,
    "start_time": "2025-02-28T09:44:14.073Z"
   },
   {
    "duration": 16,
    "start_time": "2025-02-28T09:44:14.143Z"
   },
   {
    "duration": 15,
    "start_time": "2025-02-28T09:44:14.160Z"
   },
   {
    "duration": 14,
    "start_time": "2025-02-28T09:44:14.176Z"
   },
   {
    "duration": 91,
    "start_time": "2025-02-28T09:44:14.192Z"
   },
   {
    "duration": 181,
    "start_time": "2025-02-28T09:44:14.284Z"
   },
   {
    "duration": 190,
    "start_time": "2025-02-28T09:44:14.467Z"
   },
   {
    "duration": 47,
    "start_time": "2025-02-28T09:44:14.658Z"
   },
   {
    "duration": 63,
    "start_time": "2025-02-28T09:44:14.707Z"
   },
   {
    "duration": 22,
    "start_time": "2025-02-28T09:44:14.772Z"
   },
   {
    "duration": 7,
    "start_time": "2025-02-28T09:44:14.796Z"
   },
   {
    "duration": 46,
    "start_time": "2025-02-28T09:44:14.805Z"
   },
   {
    "duration": 63,
    "start_time": "2025-02-28T09:44:14.853Z"
   },
   {
    "duration": 45,
    "start_time": "2025-02-28T09:44:14.917Z"
   },
   {
    "duration": 9,
    "start_time": "2025-02-28T09:44:14.964Z"
   },
   {
    "duration": 378,
    "start_time": "2025-02-28T09:44:14.978Z"
   },
   {
    "duration": 1163,
    "start_time": "2025-02-28T09:46:04.226Z"
   },
   {
    "duration": 2617,
    "start_time": "2025-02-28T09:46:05.391Z"
   },
   {
    "duration": 11,
    "start_time": "2025-02-28T09:46:08.009Z"
   },
   {
    "duration": 19,
    "start_time": "2025-02-28T09:46:08.021Z"
   },
   {
    "duration": 24,
    "start_time": "2025-02-28T09:46:08.042Z"
   },
   {
    "duration": 113,
    "start_time": "2025-02-28T09:46:08.068Z"
   },
   {
    "duration": 7,
    "start_time": "2025-02-28T09:46:08.182Z"
   },
   {
    "duration": 29,
    "start_time": "2025-02-28T09:46:08.190Z"
   },
   {
    "duration": 16,
    "start_time": "2025-02-28T09:46:08.222Z"
   },
   {
    "duration": 55,
    "start_time": "2025-02-28T09:46:08.242Z"
   },
   {
    "duration": 10,
    "start_time": "2025-02-28T09:46:08.298Z"
   },
   {
    "duration": 28,
    "start_time": "2025-02-28T09:46:08.310Z"
   },
   {
    "duration": 9,
    "start_time": "2025-02-28T09:46:08.348Z"
   },
   {
    "duration": 33,
    "start_time": "2025-02-28T09:46:08.359Z"
   },
   {
    "duration": 74,
    "start_time": "2025-02-28T09:46:08.394Z"
   },
   {
    "duration": 12,
    "start_time": "2025-02-28T09:46:08.470Z"
   },
   {
    "duration": 22,
    "start_time": "2025-02-28T09:46:08.483Z"
   },
   {
    "duration": 28,
    "start_time": "2025-02-28T09:46:08.506Z"
   },
   {
    "duration": 10,
    "start_time": "2025-02-28T09:46:08.547Z"
   },
   {
    "duration": 453,
    "start_time": "2025-02-28T09:46:08.559Z"
   },
   {
    "duration": 59,
    "start_time": "2025-02-28T09:46:09.013Z"
   },
   {
    "duration": 239,
    "start_time": "2025-02-28T09:46:09.073Z"
   },
   {
    "duration": 56,
    "start_time": "2025-02-28T09:46:09.313Z"
   },
   {
    "duration": 46,
    "start_time": "2025-02-28T09:46:09.370Z"
   },
   {
    "duration": 1063,
    "start_time": "2025-02-28T09:46:09.418Z"
   },
   {
    "duration": 148,
    "start_time": "2025-02-28T09:46:10.483Z"
   },
   {
    "duration": 30,
    "start_time": "2025-02-28T09:46:10.633Z"
   },
   {
    "duration": 136,
    "start_time": "2025-02-28T09:46:10.684Z"
   },
   {
    "duration": 31,
    "start_time": "2025-02-28T09:46:10.822Z"
   },
   {
    "duration": 13,
    "start_time": "2025-02-28T09:46:10.855Z"
   },
   {
    "duration": 628,
    "start_time": "2025-02-28T09:46:10.870Z"
   },
   {
    "duration": 148,
    "start_time": "2025-02-28T09:46:11.500Z"
   },
   {
    "duration": 110,
    "start_time": "2025-02-28T09:46:11.650Z"
   },
   {
    "duration": 54,
    "start_time": "2025-02-28T09:46:11.762Z"
   },
   {
    "duration": 170,
    "start_time": "2025-02-28T09:46:11.818Z"
   },
   {
    "duration": 31,
    "start_time": "2025-02-28T09:46:11.990Z"
   },
   {
    "duration": 83,
    "start_time": "2025-02-28T09:46:12.023Z"
   },
   {
    "duration": 53,
    "start_time": "2025-02-28T09:46:12.107Z"
   },
   {
    "duration": 18,
    "start_time": "2025-02-28T09:46:12.162Z"
   },
   {
    "duration": 15,
    "start_time": "2025-02-28T09:46:12.181Z"
   },
   {
    "duration": 13,
    "start_time": "2025-02-28T09:46:12.198Z"
   },
   {
    "duration": 74,
    "start_time": "2025-02-28T09:46:12.212Z"
   },
   {
    "duration": 9,
    "start_time": "2025-02-28T09:46:12.288Z"
   },
   {
    "duration": 213,
    "start_time": "2025-02-28T09:46:12.299Z"
   },
   {
    "duration": 109,
    "start_time": "2025-02-28T09:46:12.514Z"
   },
   {
    "duration": 27,
    "start_time": "2025-02-28T09:46:12.625Z"
   },
   {
    "duration": 2551,
    "start_time": "2025-02-28T09:46:12.653Z"
   },
   {
    "duration": 22,
    "start_time": "2025-02-28T09:46:15.205Z"
   },
   {
    "duration": 30,
    "start_time": "2025-02-28T09:46:15.229Z"
   },
   {
    "duration": 101,
    "start_time": "2025-02-28T09:46:15.260Z"
   },
   {
    "duration": 97,
    "start_time": "2025-02-28T09:46:15.363Z"
   },
   {
    "duration": 100,
    "start_time": "2025-02-28T09:46:15.462Z"
   },
   {
    "duration": 91,
    "start_time": "2025-02-28T09:46:15.564Z"
   },
   {
    "duration": 53,
    "start_time": "2025-02-28T09:46:15.657Z"
   },
   {
    "duration": 25,
    "start_time": "2025-02-28T09:46:15.712Z"
   },
   {
    "duration": 7,
    "start_time": "2025-02-28T09:46:15.747Z"
   },
   {
    "duration": 93,
    "start_time": "2025-02-28T09:46:15.755Z"
   },
   {
    "duration": 70,
    "start_time": "2025-02-28T09:46:15.850Z"
   },
   {
    "duration": 35,
    "start_time": "2025-02-28T09:46:15.922Z"
   },
   {
    "duration": 199,
    "start_time": "2025-02-28T09:46:15.958Z"
   },
   {
    "duration": 109,
    "start_time": "2025-02-28T09:46:16.158Z"
   },
   {
    "duration": 21,
    "start_time": "2025-02-28T09:46:16.269Z"
   },
   {
    "duration": 282,
    "start_time": "2025-02-28T09:46:16.291Z"
   },
   {
    "duration": 10,
    "start_time": "2025-02-28T09:46:16.574Z"
   },
   {
    "duration": 42,
    "start_time": "2025-02-28T09:46:16.585Z"
   },
   {
    "duration": 28,
    "start_time": "2025-02-28T09:46:16.629Z"
   },
   {
    "duration": 147,
    "start_time": "2025-02-28T09:46:16.659Z"
   },
   {
    "duration": 15,
    "start_time": "2025-02-28T09:46:16.808Z"
   },
   {
    "duration": 23,
    "start_time": "2025-02-28T09:46:16.825Z"
   },
   {
    "duration": 14,
    "start_time": "2025-02-28T09:46:16.850Z"
   },
   {
    "duration": 59,
    "start_time": "2025-02-28T09:46:16.866Z"
   },
   {
    "duration": 182,
    "start_time": "2025-02-28T09:46:16.926Z"
   },
   {
    "duration": 210,
    "start_time": "2025-02-28T09:46:17.109Z"
   },
   {
    "duration": 57,
    "start_time": "2025-02-28T09:46:17.320Z"
   },
   {
    "duration": 55,
    "start_time": "2025-02-28T09:46:17.378Z"
   },
   {
    "duration": 23,
    "start_time": "2025-02-28T09:46:17.434Z"
   },
   {
    "duration": 6,
    "start_time": "2025-02-28T09:46:17.459Z"
   },
   {
    "duration": 144,
    "start_time": "2025-02-28T09:46:17.466Z"
   },
   {
    "duration": 108,
    "start_time": "2025-02-28T09:46:17.611Z"
   },
   {
    "duration": 41,
    "start_time": "2025-02-28T09:46:17.720Z"
   },
   {
    "duration": 10,
    "start_time": "2025-02-28T09:46:17.762Z"
   },
   {
    "duration": 179,
    "start_time": "2025-02-28T09:46:17.777Z"
   },
   {
    "duration": 1122,
    "start_time": "2025-02-28T09:47:19.266Z"
   },
   {
    "duration": 2161,
    "start_time": "2025-02-28T09:47:20.390Z"
   },
   {
    "duration": 11,
    "start_time": "2025-02-28T09:47:22.552Z"
   },
   {
    "duration": 34,
    "start_time": "2025-02-28T09:47:22.565Z"
   },
   {
    "duration": 36,
    "start_time": "2025-02-28T09:47:22.601Z"
   },
   {
    "duration": 222,
    "start_time": "2025-02-28T09:47:22.639Z"
   },
   {
    "duration": 8,
    "start_time": "2025-02-28T09:47:22.862Z"
   },
   {
    "duration": 49,
    "start_time": "2025-02-28T09:47:22.871Z"
   },
   {
    "duration": 8,
    "start_time": "2025-02-28T09:47:22.922Z"
   },
   {
    "duration": 59,
    "start_time": "2025-02-28T09:47:22.933Z"
   },
   {
    "duration": 180,
    "start_time": "2025-02-28T09:47:22.994Z"
   },
   {
    "duration": 85,
    "start_time": "2025-02-28T09:47:23.175Z"
   },
   {
    "duration": 124,
    "start_time": "2025-02-28T09:47:23.262Z"
   },
   {
    "duration": 82,
    "start_time": "2025-02-28T09:47:23.388Z"
   },
   {
    "duration": 159,
    "start_time": "2025-02-28T09:47:23.471Z"
   },
   {
    "duration": 79,
    "start_time": "2025-02-28T09:47:23.632Z"
   },
   {
    "duration": 18,
    "start_time": "2025-02-28T09:47:23.713Z"
   },
   {
    "duration": 44,
    "start_time": "2025-02-28T09:47:23.732Z"
   },
   {
    "duration": 9,
    "start_time": "2025-02-28T09:47:23.777Z"
   },
   {
    "duration": 367,
    "start_time": "2025-02-28T09:47:23.787Z"
   },
   {
    "duration": 41,
    "start_time": "2025-02-28T09:47:24.155Z"
   },
   {
    "duration": 179,
    "start_time": "2025-02-28T09:47:24.197Z"
   },
   {
    "duration": 42,
    "start_time": "2025-02-28T09:47:24.377Z"
   },
   {
    "duration": 67,
    "start_time": "2025-02-28T09:47:24.421Z"
   },
   {
    "duration": 1067,
    "start_time": "2025-02-28T09:47:24.490Z"
   },
   {
    "duration": 142,
    "start_time": "2025-02-28T09:47:25.558Z"
   },
   {
    "duration": 23,
    "start_time": "2025-02-28T09:47:25.702Z"
   },
   {
    "duration": 110,
    "start_time": "2025-02-28T09:47:25.760Z"
   },
   {
    "duration": 30,
    "start_time": "2025-02-28T09:47:25.872Z"
   },
   {
    "duration": 11,
    "start_time": "2025-02-28T09:47:25.904Z"
   },
   {
    "duration": 642,
    "start_time": "2025-02-28T09:47:25.916Z"
   },
   {
    "duration": 159,
    "start_time": "2025-02-28T09:47:26.560Z"
   },
   {
    "duration": 99,
    "start_time": "2025-02-28T09:47:26.721Z"
   },
   {
    "duration": 63,
    "start_time": "2025-02-28T09:47:26.822Z"
   },
   {
    "duration": 150,
    "start_time": "2025-02-28T09:47:26.886Z"
   },
   {
    "duration": 40,
    "start_time": "2025-02-28T09:47:27.038Z"
   },
   {
    "duration": 148,
    "start_time": "2025-02-28T09:47:27.080Z"
   },
   {
    "duration": 42,
    "start_time": "2025-02-28T09:47:27.230Z"
   },
   {
    "duration": 19,
    "start_time": "2025-02-28T09:47:27.274Z"
   },
   {
    "duration": 13,
    "start_time": "2025-02-28T09:47:27.294Z"
   },
   {
    "duration": 103,
    "start_time": "2025-02-28T09:47:27.308Z"
   },
   {
    "duration": 42,
    "start_time": "2025-02-28T09:47:27.413Z"
   },
   {
    "duration": 9,
    "start_time": "2025-02-28T09:47:27.456Z"
   },
   {
    "duration": 287,
    "start_time": "2025-02-28T09:47:27.467Z"
   },
   {
    "duration": 97,
    "start_time": "2025-02-28T09:47:27.755Z"
   },
   {
    "duration": 21,
    "start_time": "2025-02-28T09:47:27.853Z"
   },
   {
    "duration": 2678,
    "start_time": "2025-02-28T09:47:27.875Z"
   },
   {
    "duration": 21,
    "start_time": "2025-02-28T09:47:30.554Z"
   },
   {
    "duration": 23,
    "start_time": "2025-02-28T09:47:30.576Z"
   },
   {
    "duration": 11,
    "start_time": "2025-02-28T09:47:30.601Z"
   },
   {
    "duration": 47,
    "start_time": "2025-02-28T09:47:30.613Z"
   },
   {
    "duration": 106,
    "start_time": "2025-02-28T09:47:30.662Z"
   },
   {
    "duration": 19,
    "start_time": "2025-02-28T09:47:30.770Z"
   },
   {
    "duration": 47,
    "start_time": "2025-02-28T09:47:30.790Z"
   },
   {
    "duration": 31,
    "start_time": "2025-02-28T09:47:30.839Z"
   },
   {
    "duration": 8,
    "start_time": "2025-02-28T09:47:30.871Z"
   },
   {
    "duration": 88,
    "start_time": "2025-02-28T09:47:30.880Z"
   },
   {
    "duration": 78,
    "start_time": "2025-02-28T09:47:30.970Z"
   },
   {
    "duration": 97,
    "start_time": "2025-02-28T09:47:31.049Z"
   },
   {
    "duration": 175,
    "start_time": "2025-02-28T09:47:31.147Z"
   },
   {
    "duration": 110,
    "start_time": "2025-02-28T09:47:31.324Z"
   },
   {
    "duration": 29,
    "start_time": "2025-02-28T09:47:31.435Z"
   },
   {
    "duration": 423,
    "start_time": "2025-02-28T09:47:31.466Z"
   },
   {
    "duration": 9,
    "start_time": "2025-02-28T09:47:31.890Z"
   },
   {
    "duration": 54,
    "start_time": "2025-02-28T09:47:31.900Z"
   },
   {
    "duration": 18,
    "start_time": "2025-02-28T09:47:31.956Z"
   },
   {
    "duration": 86,
    "start_time": "2025-02-28T09:47:31.976Z"
   },
   {
    "duration": 15,
    "start_time": "2025-02-28T09:47:32.063Z"
   },
   {
    "duration": 35,
    "start_time": "2025-02-28T09:47:32.080Z"
   },
   {
    "duration": 15,
    "start_time": "2025-02-28T09:47:32.117Z"
   },
   {
    "duration": 64,
    "start_time": "2025-02-28T09:47:32.134Z"
   },
   {
    "duration": 178,
    "start_time": "2025-02-28T09:47:32.200Z"
   },
   {
    "duration": 179,
    "start_time": "2025-02-28T09:47:32.380Z"
   },
   {
    "duration": 50,
    "start_time": "2025-02-28T09:47:32.561Z"
   },
   {
    "duration": 57,
    "start_time": "2025-02-28T09:47:32.613Z"
   },
   {
    "duration": 23,
    "start_time": "2025-02-28T09:47:32.672Z"
   },
   {
    "duration": 51,
    "start_time": "2025-02-28T09:47:32.697Z"
   },
   {
    "duration": 130,
    "start_time": "2025-02-28T09:47:32.750Z"
   },
   {
    "duration": 80,
    "start_time": "2025-02-28T09:47:32.882Z"
   },
   {
    "duration": 44,
    "start_time": "2025-02-28T09:47:32.964Z"
   },
   {
    "duration": 117,
    "start_time": "2025-02-28T09:47:33.009Z"
   },
   {
    "duration": 209,
    "start_time": "2025-02-28T09:47:33.132Z"
   },
   {
    "duration": 1207,
    "start_time": "2025-02-28T09:51:11.761Z"
   },
   {
    "duration": 1896,
    "start_time": "2025-02-28T09:51:12.970Z"
   },
   {
    "duration": 12,
    "start_time": "2025-02-28T09:51:14.867Z"
   },
   {
    "duration": 36,
    "start_time": "2025-02-28T09:51:14.880Z"
   },
   {
    "duration": 24,
    "start_time": "2025-02-28T09:51:14.918Z"
   },
   {
    "duration": 104,
    "start_time": "2025-02-28T09:51:14.943Z"
   },
   {
    "duration": 7,
    "start_time": "2025-02-28T09:51:15.048Z"
   },
   {
    "duration": 192,
    "start_time": "2025-02-28T09:51:15.056Z"
   },
   {
    "duration": 28,
    "start_time": "2025-02-28T09:51:15.249Z"
   },
   {
    "duration": 200,
    "start_time": "2025-02-28T09:51:15.279Z"
   },
   {
    "duration": 172,
    "start_time": "2025-02-28T09:51:15.480Z"
   },
   {
    "duration": 47,
    "start_time": "2025-02-28T09:51:15.653Z"
   },
   {
    "duration": 15,
    "start_time": "2025-02-28T09:51:15.702Z"
   },
   {
    "duration": 28,
    "start_time": "2025-02-28T09:51:15.718Z"
   },
   {
    "duration": 11,
    "start_time": "2025-02-28T09:51:15.748Z"
   },
   {
    "duration": 17,
    "start_time": "2025-02-28T09:51:15.762Z"
   },
   {
    "duration": 24,
    "start_time": "2025-02-28T09:51:15.782Z"
   },
   {
    "duration": 63,
    "start_time": "2025-02-28T09:51:15.808Z"
   },
   {
    "duration": 9,
    "start_time": "2025-02-28T09:51:15.872Z"
   },
   {
    "duration": 425,
    "start_time": "2025-02-28T09:51:15.883Z"
   },
   {
    "duration": 53,
    "start_time": "2025-02-28T09:51:16.310Z"
   },
   {
    "duration": 170,
    "start_time": "2025-02-28T09:51:16.365Z"
   },
   {
    "duration": 44,
    "start_time": "2025-02-28T09:51:16.548Z"
   },
   {
    "duration": 18,
    "start_time": "2025-02-28T09:51:16.594Z"
   },
   {
    "duration": 1158,
    "start_time": "2025-02-28T09:51:16.614Z"
   },
   {
    "duration": 164,
    "start_time": "2025-02-28T09:51:17.774Z"
   },
   {
    "duration": 31,
    "start_time": "2025-02-28T09:51:17.948Z"
   },
   {
    "duration": 113,
    "start_time": "2025-02-28T09:51:18.003Z"
   },
   {
    "duration": 42,
    "start_time": "2025-02-28T09:51:18.118Z"
   },
   {
    "duration": 13,
    "start_time": "2025-02-28T09:51:18.162Z"
   },
   {
    "duration": 732,
    "start_time": "2025-02-28T09:51:18.178Z"
   },
   {
    "duration": 158,
    "start_time": "2025-02-28T09:51:18.912Z"
   },
   {
    "duration": 104,
    "start_time": "2025-02-28T09:51:19.072Z"
   },
   {
    "duration": 71,
    "start_time": "2025-02-28T09:51:19.178Z"
   },
   {
    "duration": 162,
    "start_time": "2025-02-28T09:51:19.251Z"
   },
   {
    "duration": 44,
    "start_time": "2025-02-28T09:51:19.414Z"
   },
   {
    "duration": 68,
    "start_time": "2025-02-28T09:51:19.460Z"
   },
   {
    "duration": 117,
    "start_time": "2025-02-28T09:51:19.530Z"
   },
   {
    "duration": 43,
    "start_time": "2025-02-28T09:51:19.650Z"
   },
   {
    "duration": 17,
    "start_time": "2025-02-28T09:51:19.695Z"
   },
   {
    "duration": 23,
    "start_time": "2025-02-28T09:51:19.714Z"
   },
   {
    "duration": 47,
    "start_time": "2025-02-28T09:51:19.739Z"
   },
   {
    "duration": 10,
    "start_time": "2025-02-28T09:51:19.788Z"
   },
   {
    "duration": 242,
    "start_time": "2025-02-28T09:51:19.800Z"
   },
   {
    "duration": 115,
    "start_time": "2025-02-28T09:51:20.048Z"
   },
   {
    "duration": 21,
    "start_time": "2025-02-28T09:51:20.165Z"
   },
   {
    "duration": 2619,
    "start_time": "2025-02-28T09:51:20.189Z"
   },
   {
    "duration": 21,
    "start_time": "2025-02-28T09:51:22.810Z"
   },
   {
    "duration": 25,
    "start_time": "2025-02-28T09:51:22.832Z"
   },
   {
    "duration": 20,
    "start_time": "2025-02-28T09:51:22.859Z"
   },
   {
    "duration": 20,
    "start_time": "2025-02-28T09:51:22.881Z"
   },
   {
    "duration": 31,
    "start_time": "2025-02-28T09:51:22.903Z"
   },
   {
    "duration": 12,
    "start_time": "2025-02-28T09:51:22.936Z"
   },
   {
    "duration": 41,
    "start_time": "2025-02-28T09:51:22.950Z"
   },
   {
    "duration": 26,
    "start_time": "2025-02-28T09:51:22.993Z"
   },
   {
    "duration": 31,
    "start_time": "2025-02-28T09:51:23.020Z"
   },
   {
    "duration": 204,
    "start_time": "2025-02-28T09:51:23.053Z"
   },
   {
    "duration": 72,
    "start_time": "2025-02-28T09:51:23.260Z"
   },
   {
    "duration": 28,
    "start_time": "2025-02-28T09:51:23.334Z"
   },
   {
    "duration": 226,
    "start_time": "2025-02-28T09:51:23.363Z"
   },
   {
    "duration": 114,
    "start_time": "2025-02-28T09:51:23.590Z"
   },
   {
    "duration": 28,
    "start_time": "2025-02-28T09:51:23.706Z"
   },
   {
    "duration": 283,
    "start_time": "2025-02-28T09:51:23.737Z"
   },
   {
    "duration": 8,
    "start_time": "2025-02-28T09:51:24.021Z"
   },
   {
    "duration": 41,
    "start_time": "2025-02-28T09:51:24.031Z"
   },
   {
    "duration": 17,
    "start_time": "2025-02-28T09:51:24.073Z"
   },
   {
    "duration": 92,
    "start_time": "2025-02-28T09:51:24.091Z"
   },
   {
    "duration": 14,
    "start_time": "2025-02-28T09:51:24.184Z"
   },
   {
    "duration": 28,
    "start_time": "2025-02-28T09:51:24.199Z"
   },
   {
    "duration": 20,
    "start_time": "2025-02-28T09:51:24.228Z"
   },
   {
    "duration": 81,
    "start_time": "2025-02-28T09:51:24.250Z"
   },
   {
    "duration": 158,
    "start_time": "2025-02-28T09:51:24.333Z"
   },
   {
    "duration": 176,
    "start_time": "2025-02-28T09:51:24.493Z"
   },
   {
    "duration": 46,
    "start_time": "2025-02-28T09:51:24.671Z"
   },
   {
    "duration": 70,
    "start_time": "2025-02-28T09:51:24.719Z"
   },
   {
    "duration": 21,
    "start_time": "2025-02-28T09:51:24.790Z"
   },
   {
    "duration": 6,
    "start_time": "2025-02-28T09:51:24.812Z"
   },
   {
    "duration": 22,
    "start_time": "2025-02-28T09:51:24.820Z"
   },
   {
    "duration": 61,
    "start_time": "2025-02-28T09:51:24.848Z"
   },
   {
    "duration": 55,
    "start_time": "2025-02-28T09:51:24.910Z"
   },
   {
    "duration": 9,
    "start_time": "2025-02-28T09:51:24.967Z"
   },
   {
    "duration": 170,
    "start_time": "2025-02-28T09:51:24.981Z"
   },
   {
    "duration": 1161,
    "start_time": "2025-02-28T09:53:14.127Z"
   },
   {
    "duration": 1974,
    "start_time": "2025-02-28T09:53:15.289Z"
   },
   {
    "duration": 12,
    "start_time": "2025-02-28T09:53:17.264Z"
   },
   {
    "duration": 33,
    "start_time": "2025-02-28T09:53:17.277Z"
   },
   {
    "duration": 119,
    "start_time": "2025-02-28T09:53:17.312Z"
   },
   {
    "duration": 98,
    "start_time": "2025-02-28T09:53:17.433Z"
   },
   {
    "duration": 8,
    "start_time": "2025-02-28T09:53:17.532Z"
   },
   {
    "duration": 182,
    "start_time": "2025-02-28T09:53:17.541Z"
   },
   {
    "duration": 17,
    "start_time": "2025-02-28T09:53:17.724Z"
   },
   {
    "duration": 37,
    "start_time": "2025-02-28T09:53:17.744Z"
   },
   {
    "duration": 9,
    "start_time": "2025-02-28T09:53:17.782Z"
   },
   {
    "duration": 28,
    "start_time": "2025-02-28T09:53:17.792Z"
   },
   {
    "duration": 17,
    "start_time": "2025-02-28T09:53:17.821Z"
   },
   {
    "duration": 21,
    "start_time": "2025-02-28T09:53:17.840Z"
   },
   {
    "duration": 6,
    "start_time": "2025-02-28T09:53:17.863Z"
   },
   {
    "duration": 31,
    "start_time": "2025-02-28T09:53:17.870Z"
   },
   {
    "duration": 31,
    "start_time": "2025-02-28T09:53:17.902Z"
   },
   {
    "duration": 35,
    "start_time": "2025-02-28T09:53:17.934Z"
   },
   {
    "duration": 16,
    "start_time": "2025-02-28T09:53:17.970Z"
   },
   {
    "duration": 413,
    "start_time": "2025-02-28T09:53:17.988Z"
   },
   {
    "duration": 53,
    "start_time": "2025-02-28T09:53:18.403Z"
   },
   {
    "duration": 206,
    "start_time": "2025-02-28T09:53:18.458Z"
   },
   {
    "duration": 42,
    "start_time": "2025-02-28T09:53:18.666Z"
   },
   {
    "duration": 118,
    "start_time": "2025-02-28T09:53:18.710Z"
   },
   {
    "duration": 1077,
    "start_time": "2025-02-28T09:53:18.830Z"
   },
   {
    "duration": 158,
    "start_time": "2025-02-28T09:53:19.909Z"
   },
   {
    "duration": 24,
    "start_time": "2025-02-28T09:53:20.069Z"
   },
   {
    "duration": 112,
    "start_time": "2025-02-28T09:53:20.114Z"
   },
   {
    "duration": 41,
    "start_time": "2025-02-28T09:53:20.228Z"
   },
   {
    "duration": 11,
    "start_time": "2025-02-28T09:53:20.270Z"
   },
   {
    "duration": 657,
    "start_time": "2025-02-28T09:53:20.283Z"
   },
   {
    "duration": 158,
    "start_time": "2025-02-28T09:53:20.949Z"
   },
   {
    "duration": 99,
    "start_time": "2025-02-28T09:53:21.109Z"
   },
   {
    "duration": 66,
    "start_time": "2025-02-28T09:53:21.209Z"
   },
   {
    "duration": 151,
    "start_time": "2025-02-28T09:53:21.276Z"
   },
   {
    "duration": 39,
    "start_time": "2025-02-28T09:53:21.429Z"
   },
   {
    "duration": 92,
    "start_time": "2025-02-28T09:53:21.469Z"
   },
   {
    "duration": 41,
    "start_time": "2025-02-28T09:53:21.563Z"
   },
   {
    "duration": 91,
    "start_time": "2025-02-28T09:53:21.606Z"
   },
   {
    "duration": 19,
    "start_time": "2025-02-28T09:53:21.699Z"
   },
   {
    "duration": 25,
    "start_time": "2025-02-28T09:53:21.719Z"
   },
   {
    "duration": 43,
    "start_time": "2025-02-28T09:53:21.746Z"
   },
   {
    "duration": 15,
    "start_time": "2025-02-28T09:53:21.791Z"
   },
   {
    "duration": 216,
    "start_time": "2025-02-28T09:53:21.807Z"
   },
   {
    "duration": 113,
    "start_time": "2025-02-28T09:53:22.024Z"
   },
   {
    "duration": 25,
    "start_time": "2025-02-28T09:53:22.139Z"
   },
   {
    "duration": 2558,
    "start_time": "2025-02-28T09:53:22.166Z"
   },
   {
    "duration": 29,
    "start_time": "2025-02-28T09:53:24.725Z"
   },
   {
    "duration": 56,
    "start_time": "2025-02-28T09:53:24.756Z"
   },
   {
    "duration": 7,
    "start_time": "2025-02-28T09:53:24.813Z"
   },
   {
    "duration": 17,
    "start_time": "2025-02-28T09:53:24.821Z"
   },
   {
    "duration": 6,
    "start_time": "2025-02-28T09:53:24.840Z"
   },
   {
    "duration": 15,
    "start_time": "2025-02-28T09:53:24.847Z"
   },
   {
    "duration": 40,
    "start_time": "2025-02-28T09:53:24.864Z"
   },
   {
    "duration": 24,
    "start_time": "2025-02-28T09:53:24.906Z"
   },
   {
    "duration": 20,
    "start_time": "2025-02-28T09:53:24.932Z"
   },
   {
    "duration": 80,
    "start_time": "2025-02-28T09:53:24.953Z"
   },
   {
    "duration": 251,
    "start_time": "2025-02-28T09:53:25.035Z"
   },
   {
    "duration": 24,
    "start_time": "2025-02-28T09:53:25.288Z"
   },
   {
    "duration": 246,
    "start_time": "2025-02-28T09:53:25.314Z"
   },
   {
    "duration": 106,
    "start_time": "2025-02-28T09:53:25.562Z"
   },
   {
    "duration": 37,
    "start_time": "2025-02-28T09:53:25.670Z"
   },
   {
    "duration": 290,
    "start_time": "2025-02-28T09:53:25.709Z"
   },
   {
    "duration": 8,
    "start_time": "2025-02-28T09:53:26.000Z"
   },
   {
    "duration": 44,
    "start_time": "2025-02-28T09:53:26.009Z"
   },
   {
    "duration": 18,
    "start_time": "2025-02-28T09:53:26.054Z"
   },
   {
    "duration": 61,
    "start_time": "2025-02-28T09:53:26.073Z"
   },
   {
    "duration": 24,
    "start_time": "2025-02-28T09:53:26.136Z"
   },
   {
    "duration": 31,
    "start_time": "2025-02-28T09:53:26.161Z"
   },
   {
    "duration": 30,
    "start_time": "2025-02-28T09:53:26.194Z"
   },
   {
    "duration": 61,
    "start_time": "2025-02-28T09:53:26.225Z"
   },
   {
    "duration": 164,
    "start_time": "2025-02-28T09:53:26.287Z"
   },
   {
    "duration": 175,
    "start_time": "2025-02-28T09:53:26.453Z"
   },
   {
    "duration": 60,
    "start_time": "2025-02-28T09:53:26.630Z"
   },
   {
    "duration": 78,
    "start_time": "2025-02-28T09:53:26.692Z"
   },
   {
    "duration": 133,
    "start_time": "2025-02-28T09:53:26.771Z"
   },
   {
    "duration": 5,
    "start_time": "2025-02-28T09:53:26.906Z"
   },
   {
    "duration": 115,
    "start_time": "2025-02-28T09:53:26.913Z"
   },
   {
    "duration": 237,
    "start_time": "2025-02-28T09:53:27.030Z"
   },
   {
    "duration": 40,
    "start_time": "2025-02-28T09:53:27.268Z"
   },
   {
    "duration": 16,
    "start_time": "2025-02-28T09:53:27.310Z"
   },
   {
    "duration": 241,
    "start_time": "2025-02-28T09:53:27.350Z"
   }
  ],
  "colab": {
   "provenance": []
  },
  "kernelspec": {
   "display_name": "Python 3 (ipykernel)",
   "language": "python",
   "name": "python3"
  },
  "language_info": {
   "codemirror_mode": {
    "name": "ipython",
    "version": 3
   },
   "file_extension": ".py",
   "mimetype": "text/x-python",
   "name": "python",
   "nbconvert_exporter": "python",
   "pygments_lexer": "ipython3",
   "version": "3.9.7"
  },
  "toc": {
   "base_numbering": 1,
   "nav_menu": {},
   "number_sections": true,
   "sideBar": true,
   "skip_h1_title": true,
   "title_cell": "Table of Contents",
   "title_sidebar": "Contents",
   "toc_cell": false,
   "toc_position": {
    "height": "calc(100% - 180px)",
    "left": "10px",
    "top": "150px",
    "width": "281.047px"
   },
   "toc_section_display": true,
   "toc_window_display": true
  }
 },
 "nbformat": 4,
 "nbformat_minor": 1
}
