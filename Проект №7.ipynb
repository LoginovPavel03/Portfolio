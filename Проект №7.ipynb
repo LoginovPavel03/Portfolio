{
 "cells": [
  {
   "cell_type": "markdown",
   "id": "a3d64dac",
   "metadata": {
    "id": "a3d64dac"
   },
   "source": [
    "**ФИО:** Логинов Павел Александрович\n",
    "\n",
    "**Дата:** 19.08.2025\n",
    "\n",
    "# Поиск инсайтов и точек роста\n",
    "\n",
    "С данными сервиса доставки еды «Всё.из.кафе» мы уже работали в одном из проектов базового курса. Тогда мы описывали ключевые метрики продукта — количество пользователей, заказов и выручку.\n",
    "\n",
    "Однако конкуренты сервиса не дремлют, и руководство ждёт от продукта роста. Найти инсайты, которые позволят сервису повысить показатель удержания пользователей и улучшить взаимодействие с партнёрами, поручено продуктовому аналитику, то есть нам.\n",
    "\n",
    "Нам необходимо помочь бизнесу ответить на следующие вопросы:\n",
    "\n",
    "- Как ведут себя пользователи? Как наиболее эффективно выстроить работу с ними, чтобы они продолжали пользоваться продуктом?\n",
    "- Какой путь проходят пользователи в сервисе? Где «проваливаются»?\n",
    "- Как улучшить взаимодействие с партнёрами-ресторанами?\n",
    "\n",
    "### Задачи \n",
    "\n",
    "В рамках данного проекта мы проведём комплексный анализ данных:\n",
    "\n",
    "- изучим пользовательский путь и проанализируем конверсии через воронки;\n",
    "- сегментируем пользователей с помощью RFM-модели для оценки лояльности и поведения клиентов;\n",
    "- кластеризуем рестораны методом K-Means, чтобы выделить группы с разными моделями работы и разработать персонализированные маркетинговые стратегии.\n",
    "\n",
    "Такой подход позволит ближе познакомиться с работой сервиса, выявить узкие места и предложить решения для удержания пользователей и повышения эффективности сотрудничества с ресторанами.\n",
    "\n",
    "\n",
    "### Данные\n",
    "\n",
    "Данные включают следующие сведения:\n",
    "      \n",
    "- `visitor_uuid` — идентификатор посетителя. Это идентификатор, который присваивается системой любому новому пользователю вне зависимости от того, зарегистрировался он в продукте или нет.\n",
    "- `user_id` — идентификатор зарегистрированного пользователя. Присваивается посетителю после создания учётной записи: ввода логина, пароля, адреса доставки и контактных данных.\n",
    "- `device_type` — тип платформы, с которой посетитель зашёл в продукт.\n",
    "- `city_id` — город, из которого посетитель зашёл в сервис.\n",
    "- `source` — рекламный источник привлечения посетителя.\n",
    "- `first_date` — дата первого посещения продукта.\n",
    "- `visit_id` — уникальный идентификатор сессии.\n",
    "- `event` — название аналитического события.\n",
    "- `datetime` — дата и время события.\n",
    "- `rest_id` — уникальный идентификатор ресторана (заполняется для заказов, карточек ресторанов и блюд).\n",
    "- `object_id` — уникальный идентификатор блюда (заполняется для заказов и карточек блюд).\n",
    "- `order_id` — уникальный идентификатор заказа.\n",
    "- `revenue` — выручка от заказа (в рублях). Это та сумма, которую пользователь видит при оплате.\n",
    "- `delivery` — стоимость доставки (в рублях).\n",
    "- `commission` — комиссия, которую «Всё.из.кафе» берёт с выручки ресторана, в процентах.\n",
    "\n",
    "    \n",
    "### План проекта\n",
    "- Загрузка данных и их предобработка.\n",
    "- Анализ пользовательского пути новых пользователей.\n",
    "- RFM сегментация.\n",
    "- K-Means кластеризация.\n",
    "- Итоговый вывод и рекомендации."
   ]
  },
  {
   "cell_type": "markdown",
   "id": "cd31b396",
   "metadata": {
    "id": "cd31b396"
   },
   "source": [
    "---\n",
    "\n",
    "## 1. Загрузка данных и их предобработка"
   ]
  },
  {
   "cell_type": "markdown",
   "id": "2638542b",
   "metadata": {},
   "source": [
    "Начнём с загрузки библиотек `pandas` (для работы со структурированными табличными данными), `matplotlib.pyplot` (для визуализации данных), `numpy` (для работы с массивами и выполнения математических операций), `seaborn` (для создания статистических графиков), `matplotlib.colors` (для работы с цветами), `sklearn.cluster` (для проведения кластеризации) и датасета `insides_data.csv`"
   ]
  },
  {
   "cell_type": "code",
   "execution_count": 1,
   "id": "95cbfb7b",
   "metadata": {},
   "outputs": [],
   "source": [
    "# Импортируем библиотеки\n",
    "\n",
    "import pandas as pd\n",
    "import matplotlib.pyplot as plt\n",
    "import numpy as np\n",
    "import seaborn as sns\n",
    "import matplotlib.colors as mcolors\n",
    "from sklearn.cluster import KMeans"
   ]
  },
  {
   "cell_type": "code",
   "execution_count": 2,
   "id": "26c09788",
   "metadata": {},
   "outputs": [],
   "source": [
    "# Выгружаем данные в переменные\n",
    "\n",
    "try:\n",
    "    df = pd.read_csv('C:/Users/Student/Desktop/insides_data.csv')\n",
    "except:\n",
    "    df = pd.read_csv('https://code.s3.yandex.net/datasets/insides_data.csv')"
   ]
  },
  {
   "cell_type": "markdown",
   "id": "5f795172",
   "metadata": {},
   "source": [
    "Познакомимся с данными датасета `insides_data.csv` — выведем первые строки методом `head()`, а информацию о датафрейме методом `info()`:"
   ]
  },
  {
   "cell_type": "code",
   "execution_count": 3,
   "id": "ad786e57",
   "metadata": {},
   "outputs": [
    {
     "data": {
      "text/html": [
       "<div>\n",
       "<style scoped>\n",
       "    .dataframe tbody tr th:only-of-type {\n",
       "        vertical-align: middle;\n",
       "    }\n",
       "\n",
       "    .dataframe tbody tr th {\n",
       "        vertical-align: top;\n",
       "    }\n",
       "\n",
       "    .dataframe thead th {\n",
       "        text-align: right;\n",
       "    }\n",
       "</style>\n",
       "<table border=\"1\" class=\"dataframe\">\n",
       "  <thead>\n",
       "    <tr style=\"text-align: right;\">\n",
       "      <th></th>\n",
       "      <th>visitor_uuid</th>\n",
       "      <th>user_id</th>\n",
       "      <th>device_type</th>\n",
       "      <th>city_id</th>\n",
       "      <th>source</th>\n",
       "      <th>first_date</th>\n",
       "      <th>visit_id</th>\n",
       "      <th>event</th>\n",
       "      <th>datetime</th>\n",
       "      <th>rest_id</th>\n",
       "      <th>object_id</th>\n",
       "      <th>order_id</th>\n",
       "      <th>revenue</th>\n",
       "      <th>delivery</th>\n",
       "      <th>commission</th>\n",
       "    </tr>\n",
       "  </thead>\n",
       "  <tbody>\n",
       "    <tr>\n",
       "      <th>0</th>\n",
       "      <td>01b5da38-3022-48ff-87c0-5519247fef1b</td>\n",
       "      <td>567317.0</td>\n",
       "      <td>Desktop</td>\n",
       "      <td>6</td>\n",
       "      <td>Source_B</td>\n",
       "      <td>2021-05-01</td>\n",
       "      <td>171481813</td>\n",
       "      <td>authorization</td>\n",
       "      <td>2021-05-01 16:07:53</td>\n",
       "      <td>NaN</td>\n",
       "      <td>NaN</td>\n",
       "      <td>NaN</td>\n",
       "      <td>NaN</td>\n",
       "      <td>NaN</td>\n",
       "      <td>NaN</td>\n",
       "    </tr>\n",
       "    <tr>\n",
       "      <th>1</th>\n",
       "      <td>01b5da38-3022-48ff-87c0-5519247fef1b</td>\n",
       "      <td>567317.0</td>\n",
       "      <td>Desktop</td>\n",
       "      <td>6</td>\n",
       "      <td>Source_B</td>\n",
       "      <td>2021-05-01</td>\n",
       "      <td>171481813</td>\n",
       "      <td>reg_page</td>\n",
       "      <td>2021-05-01 16:09:16</td>\n",
       "      <td>NaN</td>\n",
       "      <td>NaN</td>\n",
       "      <td>NaN</td>\n",
       "      <td>NaN</td>\n",
       "      <td>NaN</td>\n",
       "      <td>NaN</td>\n",
       "    </tr>\n",
       "    <tr>\n",
       "      <th>2</th>\n",
       "      <td>01b5da38-3022-48ff-87c0-5519247fef1b</td>\n",
       "      <td>567317.0</td>\n",
       "      <td>Desktop</td>\n",
       "      <td>6</td>\n",
       "      <td>Source_B</td>\n",
       "      <td>2021-05-01</td>\n",
       "      <td>171481813</td>\n",
       "      <td>confirm_phone</td>\n",
       "      <td>2021-05-01 16:09:19</td>\n",
       "      <td>NaN</td>\n",
       "      <td>NaN</td>\n",
       "      <td>NaN</td>\n",
       "      <td>NaN</td>\n",
       "      <td>NaN</td>\n",
       "      <td>NaN</td>\n",
       "    </tr>\n",
       "    <tr>\n",
       "      <th>3</th>\n",
       "      <td>01b5da38-3022-48ff-87c0-5519247fef1b</td>\n",
       "      <td>567317.0</td>\n",
       "      <td>Desktop</td>\n",
       "      <td>6</td>\n",
       "      <td>Source_B</td>\n",
       "      <td>2021-05-01</td>\n",
       "      <td>171481813</td>\n",
       "      <td>login</td>\n",
       "      <td>2021-05-01 16:09:23</td>\n",
       "      <td>NaN</td>\n",
       "      <td>NaN</td>\n",
       "      <td>NaN</td>\n",
       "      <td>NaN</td>\n",
       "      <td>NaN</td>\n",
       "      <td>NaN</td>\n",
       "    </tr>\n",
       "    <tr>\n",
       "      <th>4</th>\n",
       "      <td>01b5da38-3022-48ff-87c0-5519247fef1b</td>\n",
       "      <td>567317.0</td>\n",
       "      <td>Desktop</td>\n",
       "      <td>6</td>\n",
       "      <td>Source_B</td>\n",
       "      <td>2021-05-01</td>\n",
       "      <td>171481813</td>\n",
       "      <td>main_page</td>\n",
       "      <td>2021-05-01 16:09:34</td>\n",
       "      <td>2c6095730b514c189ee41c65f03febc3</td>\n",
       "      <td>NaN</td>\n",
       "      <td>NaN</td>\n",
       "      <td>NaN</td>\n",
       "      <td>NaN</td>\n",
       "      <td>NaN</td>\n",
       "    </tr>\n",
       "  </tbody>\n",
       "</table>\n",
       "</div>"
      ],
      "text/plain": [
       "                           visitor_uuid   user_id device_type  city_id  \\\n",
       "0  01b5da38-3022-48ff-87c0-5519247fef1b  567317.0     Desktop        6   \n",
       "1  01b5da38-3022-48ff-87c0-5519247fef1b  567317.0     Desktop        6   \n",
       "2  01b5da38-3022-48ff-87c0-5519247fef1b  567317.0     Desktop        6   \n",
       "3  01b5da38-3022-48ff-87c0-5519247fef1b  567317.0     Desktop        6   \n",
       "4  01b5da38-3022-48ff-87c0-5519247fef1b  567317.0     Desktop        6   \n",
       "\n",
       "     source  first_date   visit_id          event             datetime  \\\n",
       "0  Source_B  2021-05-01  171481813  authorization  2021-05-01 16:07:53   \n",
       "1  Source_B  2021-05-01  171481813       reg_page  2021-05-01 16:09:16   \n",
       "2  Source_B  2021-05-01  171481813  confirm_phone  2021-05-01 16:09:19   \n",
       "3  Source_B  2021-05-01  171481813          login  2021-05-01 16:09:23   \n",
       "4  Source_B  2021-05-01  171481813      main_page  2021-05-01 16:09:34   \n",
       "\n",
       "                            rest_id  object_id  order_id  revenue  delivery  \\\n",
       "0                               NaN        NaN       NaN      NaN       NaN   \n",
       "1                               NaN        NaN       NaN      NaN       NaN   \n",
       "2                               NaN        NaN       NaN      NaN       NaN   \n",
       "3                               NaN        NaN       NaN      NaN       NaN   \n",
       "4  2c6095730b514c189ee41c65f03febc3        NaN       NaN      NaN       NaN   \n",
       "\n",
       "   commission  \n",
       "0         NaN  \n",
       "1         NaN  \n",
       "2         NaN  \n",
       "3         NaN  \n",
       "4         NaN  "
      ]
     },
     "execution_count": 3,
     "metadata": {},
     "output_type": "execute_result"
    }
   ],
   "source": [
    "# Выводим первые строки датафрейма на экран\n",
    "\n",
    "df.head()"
   ]
  },
  {
   "cell_type": "code",
   "execution_count": 4,
   "id": "72436cdb",
   "metadata": {},
   "outputs": [
    {
     "name": "stdout",
     "output_type": "stream",
     "text": [
      "<class 'pandas.core.frame.DataFrame'>\n",
      "RangeIndex: 205510 entries, 0 to 205509\n",
      "Data columns (total 15 columns):\n",
      " #   Column        Non-Null Count   Dtype  \n",
      "---  ------        --------------   -----  \n",
      " 0   visitor_uuid  205510 non-null  object \n",
      " 1   user_id       205510 non-null  float64\n",
      " 2   device_type   205510 non-null  object \n",
      " 3   city_id       205510 non-null  int64  \n",
      " 4   source        205510 non-null  object \n",
      " 5   first_date    205510 non-null  object \n",
      " 6   visit_id      205510 non-null  int64  \n",
      " 7   event         205510 non-null  object \n",
      " 8   datetime      205510 non-null  object \n",
      " 9   rest_id       166915 non-null  object \n",
      " 10  object_id     21308 non-null   float64\n",
      " 11  order_id      7008 non-null    float64\n",
      " 12  revenue       7008 non-null    float64\n",
      " 13  delivery      7008 non-null    float64\n",
      " 14  commission    21308 non-null   float64\n",
      "dtypes: float64(6), int64(2), object(7)\n",
      "memory usage: 23.5+ MB\n"
     ]
    }
   ],
   "source": [
    "# Выводим информацию о датафрейме\n",
    "\n",
    "df.info()"
   ]
  },
  {
   "cell_type": "markdown",
   "id": "f3522464",
   "metadata": {},
   "source": [
    "Датафрейм `df` содержит 15 столбцов и 205510 строк, в котором представлена информация о данных сервиса доставки еды \"Всё.из.кафе\"\n",
    "\n",
    "В датафрейме присутствуют пропуски в следующих столбцах:\n",
    "\n",
    "- `rest_id` — уникальный идентификатор ресторана (заполняется для заказов, карточек ресторанов и блюд).\n",
    "- `object_id` — уникальный идентификатор блюда (заполняется для заказов и карточек блюд).\n",
    "- `order_id` — уникальный идентификатор заказа.\n",
    "- `revenue` — выручка от заказа (в рублях). Это та сумма, которую пользователь видит при оплате.\n",
    "- `delivery` — стоимость доставки (в рублях).\n",
    "- `commission` — комиссия, которую «Всё.из.кафе» берёт с выручки ресторана, в процентах.\n",
    "\n",
    "Поскольку в датафрейме представлена информация не только о зарегистрированных пользователях, но и об идентификаторах посетителя, которые присваиваются системой любому новому пользователю вне зависимости от того, зарегистрировался он в продукте или нет. Также стоит учесть тот факт, что датафрейм содержит информацию о разных типах событий, отличных от целевого действия (заказа). Исходя из этого можно сделать вывод о том, что не все строки датафрейма содержат информацию о ресторанах, блюдах, заказах, выручке, стоимости доставки и комиссии с выручки ресторана. Соответственно, пропуски в данных строках сложно заполнить какими-либо средними/медианными значениями, поскольку произвольный выбор подобного значения может привести к некорректному анализу и ошибочным выводам\n",
    "\n",
    "Несоответствие типа данных наблюдается в столбцах:\n",
    "\n",
    "- `user_id` — идентификатор зарегистрированного пользователя. Присваивается посетителю после создания учётной записи: ввода логина, пароля, адреса доставки и контактных данных. \n",
    "- `object_id` — уникальный идентификатор блюда (заполняется для заказов и карточек блюд).\n",
    "- `order_id` — уникальный идентификатор заказа.\n",
    "\n",
    "Число с плавающей точкой не подходит для отражения идентификатора - он должен быть представлен в виде целого числа\n",
    "\n",
    "- `first_date` — дата первого посещения продукта.\n",
    "- `datetime` — дата и время события.\n",
    "\n",
    "Столбцы с информацией о дате и времени должны обладать типом данных `datetime64`"
   ]
  },
  {
   "cell_type": "code",
   "execution_count": 5,
   "id": "eab2288b",
   "metadata": {},
   "outputs": [
    {
     "name": "stdout",
     "output_type": "stream",
     "text": [
      "<class 'pandas.core.frame.DataFrame'>\n",
      "RangeIndex: 205510 entries, 0 to 205509\n",
      "Data columns (total 15 columns):\n",
      " #   Column        Non-Null Count   Dtype         \n",
      "---  ------        --------------   -----         \n",
      " 0   visitor_uuid  205510 non-null  object        \n",
      " 1   user_id       205510 non-null  int64         \n",
      " 2   device_type   205510 non-null  object        \n",
      " 3   city_id       205510 non-null  int64         \n",
      " 4   source        205510 non-null  object        \n",
      " 5   first_date    205510 non-null  datetime64[ns]\n",
      " 6   visit_id      205510 non-null  int64         \n",
      " 7   event         205510 non-null  object        \n",
      " 8   datetime      205510 non-null  datetime64[ns]\n",
      " 9   rest_id       166915 non-null  object        \n",
      " 10  object_id     205510 non-null  int64         \n",
      " 11  order_id      205510 non-null  int64         \n",
      " 12  revenue       7008 non-null    float64       \n",
      " 13  delivery      7008 non-null    float64       \n",
      " 14  commission    21308 non-null   float64       \n",
      "dtypes: datetime64[ns](2), float64(3), int64(5), object(5)\n",
      "memory usage: 23.5+ MB\n"
     ]
    }
   ],
   "source": [
    "# Меняем тип данных\n",
    "\n",
    "df['user_id'] = df['user_id'].astype(int)\n",
    "df['object_id'] = df['user_id'].astype(int)\n",
    "df['order_id'] = df['user_id'].astype(int)\n",
    "\n",
    "df['first_date'] = pd.to_datetime(df['first_date'])\n",
    "df['datetime'] = pd.to_datetime(df['datetime'])\n",
    "\n",
    "# Выводим информацию о датафрейме\n",
    "\n",
    "df.info()"
   ]
  },
  {
   "cell_type": "markdown",
   "id": "5008e0cb",
   "metadata": {},
   "source": [
    "Далее проверим датафрейм на наличие дубликатов"
   ]
  },
  {
   "cell_type": "code",
   "execution_count": 6,
   "id": "f43589ac",
   "metadata": {},
   "outputs": [
    {
     "name": "stdout",
     "output_type": "stream",
     "text": [
      "0\n"
     ]
    }
   ],
   "source": [
    "# Проверяем данные на наличие дубликатов\n",
    "\n",
    "duplicates_df = df.duplicated().sum()\n",
    "\n",
    "print(duplicates_df)"
   ]
  },
  {
   "cell_type": "markdown",
   "id": "eb487a52",
   "metadata": {},
   "source": [
    "Датафрейм не содержит полные дубликаты"
   ]
  },
  {
   "cell_type": "markdown",
   "id": "881199cc",
   "metadata": {},
   "source": [
    "Далее проверим значения столбцов категориальных данных"
   ]
  },
  {
   "cell_type": "code",
   "execution_count": 7,
   "id": "eb584478",
   "metadata": {},
   "outputs": [
    {
     "name": "stdout",
     "output_type": "stream",
     "text": [
      "['Desktop' 'Mobile']\n",
      "\n",
      "['Source_B' 'organic' 'Source_A' 'Source_C']\n",
      "\n",
      "['authorization' 'reg_page' 'confirm_phone' 'login' 'main_page'\n",
      " 'object_page' 'add_to_cart' 'order']\n"
     ]
    }
   ],
   "source": [
    "# Проверяем значения столбцов категориальных данных во всех датафреймах\n",
    "\n",
    "name_device_type =  df['device_type'].unique()\n",
    "name_source = df['source'].unique()\n",
    "name_event = df['event'].unique()\n",
    "\n",
    "print(name_device_type)\n",
    "print()\n",
    "print(name_source)\n",
    "print()\n",
    "print(name_event)"
   ]
  },
  {
   "cell_type": "markdown",
   "id": "41a01a2e",
   "metadata": {},
   "source": [
    "Все значения - корректны и не повторяются из-за различных стилей написания"
   ]
  },
  {
   "cell_type": "markdown",
   "id": "665bfb1b",
   "metadata": {},
   "source": [
    "Таким образом, датафреймы подготовлены к дальнейшему анализу:\n",
    "\n",
    "- Дубликаты - отсутствуют\n",
    "- Значения категориальных данных - корректны\n",
    "- Столбцы, которые содержат информацию об идентификаторах, приведены к корректному типу данных `int64`\n",
    "- Столбцы, которые содержат информацию о дате и времени, приведены к корректному типу данных `datetime64`\n",
    "- Тип данных имеющихся столбцов соответствуют характеру данных\n",
    "\n",
    "Теперь можно приступать к следующим шагам анализа данных"
   ]
  },
  {
   "cell_type": "markdown",
   "id": "e7c9d578",
   "metadata": {
    "id": "e7c9d578"
   },
   "source": [
    "---\n",
    "\n",
    "## 2. Анализ пользовательского пути"
   ]
  },
  {
   "cell_type": "markdown",
   "id": "35acd0f6",
   "metadata": {},
   "source": [
    "Построим и визуализируем общую воронку (по всем данным), затем опишем пользовательский путь: какие этапы представлены, какова их последовательность, на каком (или на каких) этапах теряется большая часть новых пользователей.\n",
    "    \n",
    "При решении построим две воронки: \n",
    "- **классическую воронку** — доля от первого шага в процентах\n",
    "- **step-by-step** — с конверсией от предыдущего этапа.\n",
    "\n",
    "Предполагается, что пользователь проходит такой путь к оформлению доставки блюда из ресторанов:\n",
    "1. `authorization` — авторизация пользователя — запуск приложения.\n",
    "2. `main_page` — загрузка основной страницы приложения.\n",
    "2. `reg_page` — переход на страницу регистрации.\n",
    "2. `confirm_phone` — подтверждение телефона (окончание процесса регистрации).\n",
    "2. `object_page` — страница блюда.\n",
    "2. `add_to_cart` — переход в корзину.\n",
    "2. `order` — оформление заказа.    "
   ]
  },
  {
   "cell_type": "markdown",
   "id": "c9a8217b",
   "metadata": {},
   "source": [
    "Начнём с построения **классической** воронки, которая будет отражать долю от первого шага в процентах. Представим её в виде таблицы, куда также добавим **step-by-step** воронку для удобства анализа и построения визуализации"
   ]
  },
  {
   "cell_type": "code",
   "execution_count": 8,
   "id": "c194aeb5",
   "metadata": {},
   "outputs": [
    {
     "data": {
      "image/png": "[encoded data removed]",
      "text/plain": [
       "<Figure size 720x432 with 1 Axes>"
      ]
     },
     "metadata": {
      "needs_background": "light"
     },
     "output_type": "display_data"
    },
    {
     "data": {
      "image/png": "[encoded data removed]",
      "text/plain": [
       "<Figure size 720x432 with 1 Axes>"
      ]
     },
     "metadata": {
      "needs_background": "light"
     },
     "output_type": "display_data"
    },
    {
     "name": "stdout",
     "output_type": "stream",
     "text": [
      "            step  users  conversion_from_first_%  conversion_from_previous_%\n",
      "0  authorization   7410                    100.0                         NaN\n",
      "1      main_page   6537                     88.2                        88.2\n",
      "2       reg_page   5417                     73.1                        82.9\n",
      "3  confirm_phone   4190                     56.5                        77.3\n",
      "4    object_page   3453                     46.6                        82.4\n",
      "5    add_to_cart   2899                     39.1                        84.0\n",
      "6          order   2416                     32.6                        83.3\n"
     ]
    }
   ],
   "source": [
    "# Задаем порядок шагов в воронке\n",
    "funnel_steps = ['authorization', 'main_page', 'reg_page', 'confirm_phone', 'object_page', 'add_to_cart', 'order']\n",
    "\n",
    "# Фильтруем датасет оставляя только нужные шаги воронки\n",
    "funnel_df_steps = df[df['event'].isin(funnel_steps)]\n",
    "\n",
    "# Считаем число уникальных пользователей на каждом шаге\n",
    "funnel_counts = funnel_df_steps.groupby('event')['user_id'].nunique().reindex(funnel_steps)\n",
    "\n",
    "# Собираем таблицу воронки\n",
    "funnel_df = pd.DataFrame({\n",
    "   'step': funnel_steps,\n",
    "   'users': funnel_counts.values\n",
    "})\n",
    "\n",
    "\n",
    "# Строим классическую воронку\n",
    "\n",
    "funnel_df['conversion_from_first_%'] = (funnel_df['users'] / funnel_df['users'].iloc[0] * 100).round(1)\n",
    "\n",
    "# Визуализируем классическую воронку\n",
    "\n",
    "plt.figure(figsize=(10, 6))\n",
    "plt.bar(funnel_df['step'], funnel_df['conversion_from_first_%'], color='blue')\n",
    "plt.title('Классическая воронка: конверсия от первого шага')\n",
    "plt.ylabel('Конверсия от первого шага (%)')\n",
    "plt.xlabel('Этапы воронки')\n",
    "plt.show()\n",
    "\n",
    "# Строим step-by-step воронку\n",
    "\n",
    "funnel_df['conversion_from_previous_%'] = (funnel_df['users'] / funnel_df['users'].shift(1) * 100).round(1)\n",
    "\n",
    "# Визуализируем step-by-step воронку\n",
    "\n",
    "plt.figure(figsize=(10, 6))\n",
    "plt.bar(funnel_df['step'][1:], funnel_df['conversion_from_previous_%'][1:], color='skyblue')\n",
    "plt.title('Step-by-step воронка: конверсия от предыдущего шага')\n",
    "plt.ylabel('Конверсия от предыдущего шага (%)')\n",
    "plt.xlabel('Этапы воронки')\n",
    "plt.show()\n",
    "\n",
    "# Выводим таблицу воронки\n",
    "\n",
    "print(funnel_df)"
   ]
  },
  {
   "cell_type": "markdown",
   "id": "b0922a80",
   "metadata": {},
   "source": [
    "После построения **классической** воронки можно увидеть, что конверсия шагов от первого шага изменяется стабильно, без резких снижений. Конверсия в целевое действие (`order`) составляет 32% - с данной метрикой стоит поработать для увеличения прибыли компании\n",
    "\n",
    "После построения **step-by-step** воронки мы обратили внимание, что на этапе подтверждения телефона (`confirm_phone`) происходит большая потеря пользователей. Возможно, проблема возникает не на всех типах устройств, а только некоторых"
   ]
  },
  {
   "cell_type": "markdown",
   "id": "2544fa1b",
   "metadata": {
    "id": "2544fa1b"
   },
   "source": [
    "Далее сравним пользовательский путь в двух приложениях: в мобильной версии и десктопной. Для этого построим и визуализируем **две воронки step-by-step**: для новых пользователей **мобильной** и **десктопной** версий приложения."
   ]
  },
  {
   "cell_type": "markdown",
   "id": "e77658d5",
   "metadata": {},
   "source": [
    "Для этого мы построим **step-by-step** воронку относительно предыдущего шага отдельно для мобильной и десктоптной версии"
   ]
  },
  {
   "cell_type": "code",
   "execution_count": 9,
   "id": "ab5cadbb",
   "metadata": {},
   "outputs": [
    {
     "data": {
      "image/png": "[encoded data removed]",
      "text/plain": [
       "<Figure size 720x432 with 1 Axes>"
      ]
     },
     "metadata": {
      "needs_background": "light"
     },
     "output_type": "display_data"
    },
    {
     "data": {
      "image/png": "[encoded data removed]",
      "text/plain": [
       "<Figure size 720x432 with 1 Axes>"
      ]
     },
     "metadata": {
      "needs_background": "light"
     },
     "output_type": "display_data"
    },
    {
     "name": "stdout",
     "output_type": "stream",
     "text": [
      "            step  mobile  desktop\n",
      "0      main_page    83.3     91.1\n",
      "1       reg_page    88.4     79.4\n",
      "2  confirm_phone    55.1     90.2\n",
      "3    object_page    72.5     85.8\n",
      "4    add_to_cart    86.7     82.9\n",
      "5          order    85.8     82.3\n"
     ]
    }
   ],
   "source": [
    "# Разделим данные по платформам\n",
    "\n",
    "desktop_df = df[(df['device_type'] == 'Desktop') & (df['event'].isin(funnel_steps))]\n",
    "mobile_df = df[(df['device_type'] == 'Mobile') & (df['event'].isin(funnel_steps))]\n",
    "\n",
    "# Фильтруем датасет, оставляя только нужные шаги воронки для desktop\n",
    "\n",
    "counts_desktop = desktop_df[desktop_df['event'].isin(funnel_steps)]\n",
    "\n",
    "# Считаем количество клиентов на каждом шаге\n",
    "\n",
    "counts_desktop_agg = counts_desktop.groupby('event')['user_id'].nunique().reindex(funnel_steps).reset_index()\n",
    "\n",
    "# Считаем конверсию для desktop и округляем значение до 1 знака после запятой\n",
    "\n",
    "desktop_funnel = counts_desktop_agg['user_id'] / counts_desktop_agg['user_id'].shift(1) * 100\n",
    "\n",
    "# Повторяем шаги для mobile\n",
    "\n",
    "counts_mobile = mobile_df[mobile_df['event'].isin(funnel_steps)]\n",
    "counts_mobile_agg = counts_mobile.groupby('event')['user_id'].nunique().reindex(funnel_steps).reset_index()\n",
    "mobile_funnel = counts_mobile_agg['user_id'] / counts_mobile_agg['user_id'].shift(1) * 100\n",
    "\n",
    "# Соберём через словарь данные в датафрейм и исключим первый шаг для каждого элемента\n",
    "\n",
    "funnel_compare = pd.DataFrame({\n",
    "   'step': funnel_steps[1:],\n",
    "   'mobile': mobile_funnel[1:].round(1).values,\n",
    "   'desktop': desktop_funnel[1:].round(1).values\n",
    "})\n",
    "\n",
    "# Визуализируем desktop-версию\n",
    "\n",
    "plt.figure(figsize=(10, 6))\n",
    "plt.bar(funnel_compare['step'], funnel_compare['desktop'], color='green')\n",
    "plt.title('Step-by-step воронка для desktop-версии: конверсия от предыдущего шага')\n",
    "plt.ylabel('Конверсия от первого шага (%)')\n",
    "plt.xlabel('Этапы воронки')\n",
    "plt.show()\n",
    "\n",
    "# Визуализируем mobile-версию\n",
    "\n",
    "plt.figure(figsize=(10, 6))\n",
    "plt.bar(funnel_compare['step'][1:], funnel_compare['mobile'][1:], color='orange')\n",
    "plt.title('Step-by-step воронка для mobile-версии: конверсия от предыдущего шага')\n",
    "plt.ylabel('Конверсия от предыдущего шага (%)')\n",
    "plt.xlabel('Этапы воронки')\n",
    "plt.show()\n",
    "\n",
    "# Выводим таблицу воронки\n",
    "\n",
    "print(funnel_compare)"
   ]
  },
  {
   "cell_type": "markdown",
   "id": "f1fab054",
   "metadata": {},
   "source": [
    "После построения **step-by-step** воронки относительно предыдущего шага отдельно для мобильной и десктоптной версии мы видим, что основная потеря аудитории происходит на этапе перехода от страницы регистрации к подтверждению телефона (55% мобильных пользователей продолжают путь, в то время как на десктопной версии это делают 90% десктопных пользователей) и от подтверждения телефона к странице с блюдом (72% мобильных пользователей продолжают путь, в то время как на десктопной версии это делают 85% десктопных пользователей) именно для мобильной версии. Это наиболее ярко выраженное расхождение между платформами - именно здесь происходит основная потеря мобильной аудитории."
   ]
  },
  {
   "cell_type": "markdown",
   "id": "1ecc7b8a",
   "metadata": {},
   "source": [
    "Чтобы лучше понять поведение пользователей, нужно разобраться, сколько времени у них уходит на переход от одного шага к другому. Возможно, причина кроется в том, что пользователям просто неудобно переходить по интерфейсу. Для этого построим таблицу с медианным временем, которое тратят пользователи с десктопных и мобильных устройств на переход от одного этапа воронки к следующему, и визуализируем её"
   ]
  },
  {
   "cell_type": "code",
   "execution_count": 10,
   "id": "6750481b",
   "metadata": {},
   "outputs": [
    {
     "data": {
      "image/png": "[encoded data removed]",
      "text/plain": [
       "<Figure size 864x432 with 1 Axes>"
      ]
     },
     "metadata": {
      "needs_background": "light"
     },
     "output_type": "display_data"
    },
    {
     "name": "stdout",
     "output_type": "stream",
     "text": [
      "                           step  desktop_users_median_sec  \\\n",
      "0    authorization to main_page                     627.0   \n",
      "1         main_page to reg_page                    -938.0   \n",
      "2     reg_page to confirm_phone                       3.0   \n",
      "3  confirm_phone to object_page                    1197.0   \n",
      "4    object_page to add_to_cart                      -3.0   \n",
      "5          add_to_cart to order                       3.0   \n",
      "\n",
      "   mobile_users_median_sec  \n",
      "0                    516.0  \n",
      "1                   -107.0  \n",
      "2                      3.0  \n",
      "3                    572.5  \n",
      "4                     -3.0  \n",
      "5                      3.0  \n"
     ]
    }
   ],
   "source": [
    "# Получаем списки пользователей по платформам\n",
    "\n",
    "desktop_ids = df[df['device_type'] == 'Desktop']['user_id'].unique()\n",
    "mobile_ids = df[df['device_type'] == 'Mobile']['user_id'].unique()\n",
    "\n",
    "# Словари для хранения медианных времён\n",
    "\n",
    "deltas_mobile = {}\n",
    "deltas_desktop = {}\n",
    "\n",
    "# Цикл по парам шагов воронки\n",
    "\n",
    "for i in range(1, len(funnel_steps)):\n",
    "   step1 = funnel_steps[i - 1]\n",
    "   step2 = funnel_steps[i]\n",
    "    \n",
    "   # Для пользователей с desktop фильтруем данные первого шага\n",
    "\n",
    "   t1_desktop = df[(df['event'] == step1) & (df['device_type'] == 'Desktop')]\n",
    "    \n",
    "   # Для пользователей с desktop фильтруем данные второго шага\n",
    "\n",
    "   t2_desktop = df[(df['event'] == step2) & (df['device_type'] == 'Desktop')]\n",
    "    \n",
    "   # Фильтруем, оставляя только user_id с desktop_ids\n",
    "   t1_desktop = t1_desktop[t1_desktop['user_id'].isin(desktop_ids)]\n",
    "   t2_desktop = t2_desktop[t2_desktop['user_id'].isin(desktop_ids)]\n",
    "\n",
    "   # Объединяем датасеты\n",
    "    \n",
    "   t_desktop = pd.merge(t1_desktop, t2_desktop, on='user_id', suffixes=('_start', '_end'))\n",
    "\n",
    "   # Считаем время между шагами\n",
    "    \n",
    "   delta_desktop = (t_desktop['datetime_end'] - t_desktop['datetime_start']).dt.total_seconds()\n",
    "\n",
    "   # Считаем медианное время между шагами и округляем до 1 знака после запятой\n",
    "    \n",
    "   deltas_desktop[f'{step1} to {step2}'] = round(delta_desktop.median(), 1)\n",
    "    \n",
    "   # Для пользователей с mobile фильтруем данные первого шага\n",
    "\n",
    "   t1_mobile = df[(df['event'] == step1) & (df['device_type'] == 'Mobile')]\n",
    "    \n",
    "   # Для пользователей с mobile фильтруем данные второго шага\n",
    "\n",
    "   t2_mobile = df[(df['event'] == step2) & (df['device_type'] == 'Mobile')]\n",
    "    \n",
    "   # Фильтруем, оставляя только user_id с mobile_ids\n",
    "\n",
    "   t1_mobile = t1_mobile[t1_mobile['user_id'].isin(mobile_ids)]\n",
    "   t2_mobile = t2_mobile[t2_mobile['user_id'].isin(mobile_ids)]\n",
    "\n",
    "   # Объединяем датасеты\n",
    "    \n",
    "   t_mobile = pd.merge(t1_mobile, t2_mobile, on='user_id', suffixes=('_start', '_end'))\n",
    "\n",
    "   # Считаем время между шагами\n",
    "    \n",
    "   delta_mobile = (t_mobile['datetime_end'] - t_mobile['datetime_start']).dt.total_seconds()\n",
    "\n",
    "   # Считаем медианное время между шагами и округляем до 1 знака после запятой\n",
    "    \n",
    "   deltas_mobile[f'{step1} to {step2}'] = round(delta_mobile.median(), 1)\n",
    "\n",
    "# Через словарь собираем в таблицу\n",
    "\n",
    "comparison_df = pd.DataFrame({\n",
    "   'step': list(deltas_mobile.keys()),\n",
    "   'desktop_users_median_sec': list(deltas_desktop.values()),\n",
    "   'mobile_users_median_sec': list(deltas_mobile.values())\n",
    "})\n",
    "\n",
    "# Визуализируем таблицу с медианным временем\n",
    "\n",
    "plt.figure(figsize=(12, 6))\n",
    "\n",
    "# Строим linechart для mobile_users_median_sec по шагам\n",
    "\n",
    "plt.plot(comparison_df['step'], comparison_df['mobile_users_median_sec'], \n",
    "         marker='o', label='Mobile')\n",
    "\n",
    "# Строим linechart для desktop_users_median_sec по шагам\n",
    "\n",
    "plt.plot(comparison_df['step'], comparison_df['desktop_users_median_sec'], \n",
    "         marker='o', label='Desktop')\n",
    "\n",
    "plt.title('Медианное время между этапами')\n",
    "plt.xlabel('Этапы')\n",
    "plt.xticks(rotation=45)\n",
    "plt.ylabel('Время (секунды)')\n",
    "plt.legend()\n",
    "plt.grid(True)\n",
    "plt.show()\n",
    "\n",
    "# Выводим результат\n",
    "\n",
    "print(comparison_df)\n",
    "\n",
    "pd.set_option('display.max_columns', None)  # Показывать все столбцы\n",
    "pd.set_option('display.expand_frame_repr', False)  # Не переносить строки"
   ]
  },
  {
   "cell_type": "markdown",
   "id": "8ffdffca",
   "metadata": {},
   "source": [
    "На этапе `reg_page → confirm_page` у мобильных пользователей самая низкая конверсия (55%), но на этапе `confirm_page → object_page` наибольшее медианное время ожидания перехода с одного этапа воронки к следующему - у десктопных пользователей (выше чем у мобильных пользователей почти на 2 минуты). Это может говорить о трудностях при переходе к подтверждению телефона: вероятно, интерфейс неудобен, долго загружается или содержит лишние поля. Упрощение UI/UX — логичный первый шаг для роста конверсии"
   ]
  },
  {
   "cell_type": "markdown",
   "id": "604db53d",
   "metadata": {},
   "source": [
    "Таким образом, мы можем сделать следующие выводы:\n",
    "\n",
    "- **Классическая** воронка показала, что конверсия шагов от первого шага изменяется стабильно, без резких снижений. Однако стоит обратить внимание на показатель конверсии целевого действия - он составляет 32%. Данный показатель требует к себе особого внимания, поскольку именно он влияет на размер общей выручки компании\n",
    "\n",
    "- **Step-by-step** воронка показала, что на этапе подтверждения телефона (``confirm_phone``) происходит большая потеря пользователей именно на мобильной версии - 45% пользователей не продолжают путь к целевому действию (`order`)\n",
    "\n",
    "- Изучение времени на переход от одного шага воронки к другому показало, что десктопные пользователи испытывают больше трудностей при переходе к подтверждению телефона (затрачивают на данный переход практически на 2 минуты больше, чем мобильные пользователи)"
   ]
  },
  {
   "cell_type": "markdown",
   "id": "688346cf",
   "metadata": {
    "id": "688346cf"
   },
   "source": [
    "---\n",
    "\n",
    "## 3. RFM сегментация\n",
    "\n",
    "Для запуска рекламных кампаний, направленных на удержание платящих пользователей и их возврат в сервис, если они давно не совершали заказы, необходимо сегментировать пользователей на различные поведенческие сегменты с помощью RFM-сегментации по трём показателям:\n",
    "\n",
    "- **давность** (Recency), \n",
    "- **частота покупок** (Frequency), \n",
    "- **сумма трат** (Monetary).\n",
    "\n",
    "В качестве даты анализа установим **03 июля 2021 года**.\n",
    "\n",
    "После этого построим три гистограммы и проанализируем их"
   ]
  },
  {
   "cell_type": "markdown",
   "id": "dce5b4ee",
   "metadata": {},
   "source": [
    "Начнём с небольшого исследовательского анализа и построим гистограммы значений столбцов `recency`, `frequency`, `monetary_value`. Это поможет определить, какие подходы применить для сегментации  "
   ]
  },
  {
   "cell_type": "code",
   "execution_count": 11,
   "id": "8a9197e9",
   "metadata": {},
   "outputs": [
    {
     "data": {
      "image/png": "[encoded data removed]",
      "text/plain": [
       "<Figure size 1080x1080 with 3 Axes>"
      ]
     },
     "metadata": {
      "needs_background": "light"
     },
     "output_type": "display_data"
    }
   ],
   "source": [
    "# Оставляем только события целевого действия order\n",
    "\n",
    "df_order = df[df['event'] == 'order'].copy()\n",
    "\n",
    "# Рассчитываем количество дней с покупки до анализа:\n",
    "\n",
    "df_order['order_recency'] = pd.to_datetime('2021-07-03') - pd.to_datetime(df_order['datetime'].dt.date)\n",
    "\n",
    "# Группируем данные для каждого пользователя и рассчитываем данные для RFM-анализа:\n",
    "\n",
    "df_order_rfm = df_order.groupby('user_id').agg(\n",
    "    \n",
    "    # Количество дней с последнего заказа:\n",
    "    \n",
    "    recency = ('order_recency', lambda x: x.min().days),\n",
    "    \n",
    "    # Количество заказов за период времени:\n",
    "    \n",
    "    frequency = ('datetime', 'count'),\n",
    "    \n",
    "    # Сумма стоимости всех заказов:\n",
    "    \n",
    "    monetary_value = ('revenue', 'sum')\n",
    ").reset_index()\n",
    "\n",
    "# Строим три гистограммы\n",
    "\n",
    "fig, axes = plt.subplots(3, 1, figsize=(15, 15))\n",
    "\n",
    "# Давность\n",
    "\n",
    "axes[0].hist(df_order_rfm['recency'], bins=75)\n",
    "axes[0].set_title('Recency (дни с последней покупки)')\n",
    "axes[0].set_xlabel('Дни')\n",
    "axes[0].set_ylabel('Количество пользователей')\n",
    "\n",
    "# Частота\n",
    "\n",
    "axes[1].hist(df_order_rfm['frequency'], bins=75)\n",
    "axes[1].set_title('Frequency (число заказов)')\n",
    "axes[1].set_xlabel('Количество заказов')\n",
    "axes[1].set_ylabel('Количество пользователей')\n",
    "\n",
    "# Сумма всех заказов\n",
    "\n",
    "axes[2].hist(df_order_rfm['monetary_value'], bins=75)\n",
    "axes[2].set_title('Monetary (стоимость заказов)')\n",
    "axes[2].set_xlabel('Стоимость заказов')\n",
    "axes[2].set_ylabel('Количество пользователей')\n",
    "\n",
    "# Визуализируем гистограммы\n",
    "\n",
    "plt.show()"
   ]
  },
  {
   "cell_type": "markdown",
   "id": "edf15f02",
   "metadata": {},
   "source": [
    "Проанализируем получившиеся графики\n",
    "\n",
    "Диапазон значений метрики `Recency` - от 1 до 63 дней с последней покупки без смещения к определённым значениям. Значит, отсутствует преобладание пользователи, которые совершили покупку давно или совсем недавно. Это может говорить о равномерной степени вовлечённости части аудитории. Для сегментации по этому признаку используем разбиение на равные интервалы, что получить простой и понятный результат: деление пользователей на тех, кто покупал давно, у кого прошло какое-то время или кто покупал совсем недавно\n",
    "\n",
    "График метрики `Frequency` показывает, что число заказов варьируется в меньшем диапазоне, от 1 до 12, но преобладают пользователи с количеством покупок от 1 до 3. Для сегментации можно применить разбиение на три группы:\n",
    "\n",
    "- пользователи с 1 заказом (F-сегмент с небольшим количеством заказов);\n",
    "- пользователи с 2 заказами (F-сегмент со средним количеством заказов);\n",
    "- пользователи с 3 и более заказами (F-сегмент с большим количеством заказов).\n",
    "\n",
    "Распределение метрики `Monetary` также смещено в левую сторону — резко преобладают пользователи с заказами до 10.000 рублей. Для сегментации по этому признаку применим перцентили: разделим значения по 33 и 66% перцентилям распределения. Это позволит учесть вариативность значений и разделить пользователей на три примерно равных сегмента"
   ]
  },
  {
   "cell_type": "markdown",
   "id": "dad0c7d9",
   "metadata": {
    "id": "dad0c7d9"
   },
   "source": [
    "Выделим **RFM-сегменты** и изучим распределение пользователей по ним\n",
    "    \n",
    "Применим следующие подходы к выделению RFM сегментов:\n",
    "- **Recency** — разделим на три равные группы.\n",
    "- **Frequency** —  разделим на три группы: \n",
    "    - пользователи с 1 заказом (F-сегмент с небольшим количеством заказов);\n",
    "    - пользователи с 2 заказами (F-сегмент со средним количеством заказов);\n",
    "    - пользователи с 3 и более заказами (F-сегмент с большим количеством заказов).\n",
    "- **Monetary** — разделим на три группы по 33-му и 66-му перцентилям.\n",
    "    \n",
    "После этого посчитаем количество покупателей в каждом сегменте, сделаем промежуточные выводы и напишем рекомендации"
   ]
  },
  {
   "cell_type": "markdown",
   "id": "ace30371",
   "metadata": {},
   "source": [
    "Приступим к выделению RFM-сегментов"
   ]
  },
  {
   "cell_type": "code",
   "execution_count": 12,
   "id": "8ce89139",
   "metadata": {
    "scrolled": false
   },
   "outputs": [
    {
     "name": "stdout",
     "output_type": "stream",
     "text": [
      "   user_id  recency  frequency  monetary_value  r  f  m rfm_group\n",
      "0     5506       33          2         3752.00  2  2  1       221\n",
      "1     6291       58          1         1750.00  1  1  2       112\n",
      "2     6820       42          1         1260.14  2  1  2       212\n"
     ]
    }
   ],
   "source": [
    "# Определяем группу пользователя по количеству дней с момента последнего заказа: \n",
    "\n",
    "df_order_rfm['r'] = pd.cut(df_order_rfm['recency'], bins=3, labels=[3,2,1])\n",
    "\n",
    "# Определяем группу пользователя по количеству заказов: \n",
    "\n",
    "df_order_rfm['f'] = pd.cut(df_order_rfm['frequency'], [1, 2, 3, float('inf')], labels=[1,2,3], include_lowest=True, right = False)\n",
    "\n",
    "# Определяем группу пользователя по сумме стоимости заказов: \n",
    "\n",
    "conditions = [\n",
    "    df_order_rfm['monetary_value'] == 0,\n",
    "    (df_order_rfm['monetary_value'] > 0) & \n",
    "    (df_order_rfm['monetary_value'] <= df_order_rfm[df_order_rfm['monetary_value'] > 0]['monetary_value'].median()),\n",
    "    df_order_rfm['monetary_value'] > df_order_rfm[df_order_rfm['monetary_value'] > 0]['monetary_value'].median()\n",
    "]\n",
    "\n",
    "choices = [3, 2, 1]\n",
    "df_order_rfm['m'] = np.select(conditions, choices, default=3)\n",
    "\n",
    "# Находим групповой RFM-индекс:\n",
    "\n",
    "df_order_rfm[['r','f','m']] = df_order_rfm[['r','f','m']].astype('str')\n",
    "df_order_rfm['rfm_group'] = df_order_rfm['r'] + df_order_rfm['f'] + df_order_rfm['m']\n",
    "\n",
    "# Выводим первые строки таблицы:\n",
    "\n",
    "print(df_order_rfm.head(3))"
   ]
  },
  {
   "cell_type": "markdown",
   "id": "0ecd5b0f",
   "metadata": {},
   "source": [
    "Получаем таблицу с идентификатором пользователя (`user_id`), давностью (`recency`), частотой (`frequency`), суммой покупок (`monetary_value`), присвоенными баллами по каждой из метрик (`r`, `f`, `m`), а также групповым RFM-индексом (`rfm_group`)"
   ]
  },
  {
   "cell_type": "markdown",
   "id": "ff9bc4a0",
   "metadata": {},
   "source": [
    "Далее проведём RFM-анализ и посчитаем общее количество клиентов в каждом RFM-сегменте, а затем посчитаем и визуализируем долю пользователей в каждом сегменте"
   ]
  },
  {
   "cell_type": "code",
   "execution_count": 13,
   "id": "588a6be4",
   "metadata": {},
   "outputs": [
    {
     "data": {
      "image/png": "[encoded data removed]",
      "text/plain": [
       "<Figure size 720x432 with 1 Axes>"
      ]
     },
     "metadata": {
      "needs_background": "light"
     },
     "output_type": "display_data"
    },
    {
     "name": "stdout",
     "output_type": "stream",
     "text": [
      "   rfm_group  user_id  user_share\n",
      "7        212      408    0.168874\n",
      "1        112      359    0.148593\n",
      "13       312      343    0.141970\n",
      "6        211      232    0.096026\n",
      "12       311      188    0.077815\n",
      "0        111      179    0.074089\n",
      "8        221      150    0.062086\n",
      "14       321      117    0.048427\n",
      "2        121      113    0.046772\n",
      "10       231      110    0.045530\n",
      "16       331       72    0.029801\n",
      "4        131       46    0.019040\n",
      "3        122       33    0.013659\n",
      "9        222       32    0.013245\n",
      "15       322       28    0.011589\n",
      "5        132        3    0.001242\n",
      "11       232        2    0.000828\n",
      "17       332        1    0.000414\n"
     ]
    }
   ],
   "source": [
    "# Группируем данные по сегментам и считаем их размер\n",
    "\n",
    "rfm_group = df_order_rfm.groupby('rfm_group').agg({'user_id':'nunique'}).reset_index()\n",
    "\n",
    "# Считаем долю пользователей в каждом сегменте\n",
    "\n",
    "rfm_group['user_share'] = rfm_group['user_id'] / rfm_group['user_id'].sum()\n",
    "\n",
    "# Визуализируем долю пользователей в каждом сегменте\n",
    "\n",
    "plt.figure(figsize=(10, 6))\n",
    "plt.bar(rfm_group['rfm_group'], rfm_group['user_share'], color='red')\n",
    "plt.title('Долю пользователей в каждом сегменте RFM-анализа')\n",
    "plt.ylabel('Доля пользователей (%)')\n",
    "plt.xlabel('Сегменты')\n",
    "plt.show()\n",
    "\n",
    "# Выводим результат\n",
    "\n",
    "print(rfm_group.sort_values(by='user_id', ascending=False))"
   ]
  },
  {
   "cell_type": "markdown",
   "id": "ddc2772a",
   "metadata": {},
   "source": [
    "Результаты RFM-анализа показывают, что:\n",
    "\n",
    "- Самые многочисленные сегменты — это `212`, `112` и `312`. Значит, основная часть пользователей делает редкие покупки среднего размера с разной степенью давности (\"давно\", \"прошло какое-то время\", \"совсем недавно\")\n",
    "\n",
    "- Сегмент самой лояльной аудитории (`333`) по результатам данного RFM-анализа - не представлен\n",
    "\n",
    "- Сегменты `132`, `232`, `332` почти не представлены (менее 1%). В них собраны пользователи с редкими паттернами поведения"
   ]
  },
  {
   "cell_type": "markdown",
   "id": "0ef2faa6",
   "metadata": {},
   "source": [
    "Таким образом, мы можем сделать следующие выводы:\n",
    "\n",
    "- Сегменты с высокими показателями всех метрик  — это самые активные и ценные клиенты. Их стоит удерживать с помощью персонализированных предложений, программ лояльности и эксклюзивных акций\n",
    "- Активные клиенты с потенциалом роста совершали покупки недавно и перспективны для вовлечения. Важно поддерживать их вовлечённость, повышать интерес к продукту и стимулировать к повторным покупкам. Сюда относятся сегменты `312`, `311`, `212`, `211`. \n",
    "- Неактивные клиенты давно не делали покупок, но среди них есть те, кто может принести прибыль. Чтобы вернуть их, стоит разработать специальные предложения, направленные на возврат клиентов. К неактивным клиентам сейчас относятся сегменты `111`, `112`, `121`, `122`. "
   ]
  },
  {
   "cell_type": "markdown",
   "id": "50194012",
   "metadata": {
    "id": "50194012"
   },
   "source": [
    "---\n",
    "\n",
    "## 4. K-Means кластеризация\n",
    "\n",
    "С помощью метода K-Means разделим рестораны на кластеры, отражающие различные модели работы и целевые сегменты. Это позволяет выделить группы ресторанов с похожими характеристиками и разрабатывать для них эффективные маркетинговые стратегии."
   ]
  },
  {
   "cell_type": "markdown",
   "id": "3227a337",
   "metadata": {
    "id": "3227a337"
   },
   "source": [
    "Подготовим данные для кластеризации и для каждого ресторана подсчитаем:\n",
    "- общее количество заказов;\n",
    "- средняя стоимость заказа;\n",
    "- общее число заказанных уникальных блюд (ассортимент ресторана)."
   ]
  },
  {
   "cell_type": "code",
   "execution_count": 14,
   "id": "66670e9b",
   "metadata": {},
   "outputs": [
    {
     "name": "stdout",
     "output_type": "stream",
     "text": [
      "                             rest_id  orders    avg_price  dishes\n",
      "0   1be5a933aab34fbab594bebba48e976e     144  2260.180222     137\n",
      "1   1d6bb74687104fa1953924c9684fe624     108  2959.256481     104\n",
      "2   2c6095730b514c189ee41c65f03febc3       8  1673.000000       7\n",
      "3   3247a3b5f9494812a3c1a73c5b61f004      33  2777.209697      33\n",
      "4   39b7eab4f4704ed2886fafe171489960      33  2011.269697      32\n",
      "5   43e40bacafe8409bb5592877a42d737e      43  3313.064186      42\n",
      "6   4a693ca500b44ba499f92a724aec5f17     107  2989.588785     104\n",
      "7   4b9cde3378c447ed81c2c6d4854d4f7e       7  2544.000000       7\n",
      "8   55d4027ac83e438f9f893892f6903409    1001  2674.652364     870\n",
      "9   55d6470712ee48e98509478ad6aa18ee       5  4754.400000       5\n",
      "10  56edd124dfa44656afe0c0d041eba562     135  1507.735289     132\n",
      "11  59fc1a894303462e8205a759d906499c      77  1874.545455      73\n",
      "12  5b262d151ec1410e94602e422c525c3d      48  1706.891667      48\n",
      "13  815a6b063cd84005b02b1fc3b48af951     102  1778.322824      99\n",
      "14  8c9307a1485d4f8aa48c6746e46540d8     184  2101.293630     171\n",
      "15  8d4f8073da2945c6bd8615fa95c74852     163  4561.140393     158\n",
      "16  8d9fb9d5992f400eaf02660973a66adf    1199  2323.005241    1025\n",
      "17  a29747e18d3f4ff487b355d34312aacb      94  3565.386553      90\n",
      "18  a59b5279a8674d7a8a16fbf5d92b5551      23  2399.843478      23\n",
      "19  c91517a6ca264aadae9725e1774d93ca      23  2369.043478      23\n",
      "20  fe285c3040794705afbc17089aafc687      12  1565.666667      11\n"
     ]
    }
   ],
   "source": [
    "# Подготавливаем данные для кластеризации\n",
    "\n",
    "delivery_grouped = df_order.groupby('rest_id').agg(\n",
    "    # Общее количество заказов:    \n",
    "    orders = ('order_id', 'count'),\n",
    "    # Средняя стоимость заказа: \n",
    "    avg_price = ('revenue', 'mean'),\n",
    "    # Общее число заказанных уникальных блюд: \n",
    "    dishes = ('object_id', 'nunique')\n",
    ").reset_index()\n",
    "\n",
    "# Выводим результат\n",
    "\n",
    "print(delivery_grouped)"
   ]
  },
  {
   "cell_type": "markdown",
   "id": "087cde78",
   "metadata": {},
   "source": [
    "После группировки данных мы получили таблицу с идентификатором ресторана (`rest_id`), общим количеством заказов (`orders`), средней стоимостью заказа (`avg_price`), общим числом заказанных уникальных блюд (`dishes`), которая будет использована для кластеризации"
   ]
  },
  {
   "cell_type": "markdown",
   "id": "a98599e0",
   "metadata": {},
   "source": [
    "Для нахождения оптимального количества кластеров воспользуемся методом `.inertia_`, который покажет суммарное внутрикластерное расстояние, а также построим график зависимости инерции от числа кластеров (метод \"локтя\"), который позволит визуально оценить оптимальное количество кластеров. Перед этим не забудем нормализовать данные для корректной работы метода `.inertia_`"
   ]
  },
  {
   "cell_type": "code",
   "execution_count": 15,
   "id": "638b3cf4",
   "metadata": {},
   "outputs": [
    {
     "data": {
      "image/png": "[encoded data removed]",
      "text/plain": [
       "<Figure size 864x576 with 1 Axes>"
      ]
     },
     "metadata": {
      "needs_background": "light"
     },
     "output_type": "display_data"
    }
   ],
   "source": [
    "# Нормализуем данные\n",
    "\n",
    "delivery_grouped_clear = delivery_grouped.drop('rest_id', axis=1)\n",
    "\n",
    "# Создаём массив, в котором будем хранить значения inertia для разбиения с разным числом кластеров\n",
    "\n",
    "i = []\n",
    "\n",
    "# Задаём диапазон количества кластеров\n",
    "\n",
    "min_k = 1\n",
    "max_k = 12\n",
    "\n",
    "plt.figure(figsize=(12, 8))\n",
    "\n",
    "# Перебираем разное количество кластеров\n",
    "\n",
    "for k in range(min_k, max_k + 1):\n",
    "   km = KMeans(n_clusters=k)  # Создаём модель KMeans для текущего значения k\n",
    "   km.fit_transform(delivery_grouped_clear)  # Обучаем модель и получаем координаты точек в пространстве кластеров\n",
    "   i.append(km.inertia_)  # Сохраняем значение инерции для текущего k\n",
    "\n",
    "# Строим график зависимости инерции от количества кластеров\n",
    "\n",
    "plt.plot(range(min_k, max_k + 1), i, marker='o')\n",
    "plt.xlabel('Число кластеров K')  # Подпись оси X\n",
    "plt.ylabel('Суммарное внутрикластерное расстояние (Inertia)')  # Подпись оси Y\n",
    "plt.title('График зависимости инерции от числа кластеров (метод локтя)')  # Заголовок\n",
    "plt.show()"
   ]
  },
  {
   "cell_type": "markdown",
   "id": "a91c678d",
   "metadata": {},
   "source": [
    "При числе кластеров `K=4` график начинает показывать \"плавный\" спад, а значит, эта точка является локтём, то есть, соответствует оптимальному количеству кластеров - **4**"
   ]
  },
  {
   "cell_type": "markdown",
   "id": "c59f8739",
   "metadata": {},
   "source": [
    "Данные - готовы, оптимальное количество кластеров - найдено, следовательно, можно приступать к проведению кластеризации"
   ]
  },
  {
   "cell_type": "code",
   "execution_count": 16,
   "id": "2c046576",
   "metadata": {},
   "outputs": [
    {
     "name": "stdout",
     "output_type": "stream",
     "text": [
      "           Общее количество заказов  Средняя стоимость заказа  Общее число заказанных уникальных блюд\n",
      "Кластер 1                        65                      3025                                      63\n",
      "Кластер 2                        72                      1932                                      69\n",
      "Кластер 3                        84                      4658                                      82\n",
      "Кластер 4                      1100                      2499                                     948\n"
     ]
    }
   ],
   "source": [
    "# Создаём переменные\n",
    "\n",
    "kmeans = KMeans(n_clusters=4, random_state=1)\n",
    "labels = kmeans.fit_predict(delivery_grouped_clear)\n",
    "\n",
    "# Сортируем кластеры по возрастанию «Общего количества заказов» (первый столбец, индекс 0)\n",
    "\n",
    "sorted_indices = np.argsort(kmeans.cluster_centers_[:, 0])\n",
    "sorted_centroids = kmeans.cluster_centers_[sorted_indices]\n",
    "\n",
    "# Создаём DataFrame из центроидов\n",
    "\n",
    "centroids_df = pd.DataFrame(\n",
    "   sorted_centroids,\n",
    "   columns=['Общее количество заказов', 'Средняя стоимость заказа', 'Общее число заказанных уникальных блюд'],\n",
    "   index=[f'Кластер {i + 1}' for i in range(kmeans.n_clusters)]\n",
    ")\n",
    "\n",
    "# Форматируем числа для вывода (0 знаков после точки)\n",
    "\n",
    "pd.options.display.float_format = '{:.0f}'.format\n",
    "\n",
    "# Выводим таблицу\n",
    "\n",
    "print(centroids_df.head())"
   ]
  },
  {
   "cell_type": "markdown",
   "id": "a4bf964d",
   "metadata": {},
   "source": [
    "В результате мы получили таблицу со средними значениями признаков. Каждый из 4-х кластеров имеет свою отличительную особенность:\n",
    "\n",
    "- **Кластер 1:** пользователи с наименьшим количеством заказов и блюд\n",
    "- **Кластер 2:** пользователи с наименьшей средней стоимостью заказа\n",
    "- **Кластер 3:** пользователи с наибольшей средней стоимостью заказа\n",
    "- **Кластер 4:** пользователи с наибольшим количеством заказов и блюд\n",
    "\n",
    "Проанализировав данные по каждому кластеру, можно прийти к следующим выводам:\n",
    "\n",
    "- **Кластер 1**, **Кластер 2** и **Кластер 3** имеют примерное равно общее количество заказов и блюд, при этом, средняя стоимость заказа пользователей из **Кластера 1** на 1100 рублей больше, чем в **Кластере 2**, а средняя стоимость заказа пользователей из **Кластера 3** на 1600 рублей больше, чем в **Кластере 1**\n",
    "\n",
    "- **Кластер 4** выступает в роли самого прибыльного кластера по показателю выручки (общее количество заказов * среднюю стоимость заказа). Однако, при более детальных расчётах, стоит учитывать показатели стоимости доставки (`delivery`) и комиссии (`commission`), которые существенно влияют на прибыль компании"
   ]
  },
  {
   "cell_type": "markdown",
   "id": "ff4fd93b",
   "metadata": {},
   "source": [
    "Также визуализируем результаты, чтобы проследить зависимость признаков друг от друга. Для этого построим две визуализации, на которые нанесём все кластеры:\n",
    "\n",
    "- средний чек в зависимости от количества заказов;\n",
    "- количество блюд в зависимости от количества заказов."
   ]
  },
  {
   "cell_type": "code",
   "execution_count": 17,
   "id": "4577c68a",
   "metadata": {},
   "outputs": [
    {
     "data": {
      "image/png": "[encoded data removed]",
      "text/plain": [
       "<Figure size 1296x432 with 2 Axes>"
      ]
     },
     "metadata": {
      "needs_background": "light"
     },
     "output_type": "display_data"
    }
   ],
   "source": [
    "# Получаем координаты центров (центроидов) кластеров\n",
    "\n",
    "centroids = kmeans.cluster_centers_\n",
    "\n",
    "# Создаём 2 графика (1 строка × 2 столбца) для отображения попарных комбинаций признаков\n",
    "\n",
    "fig, axes = plt.subplots(1, 2, figsize=(18, 6))\n",
    "\n",
    "# Список названий признаков, которые будут использоваться на графиках\n",
    "\n",
    "axs = [\"orders\", \"avg_price\", \"dishes\"]\n",
    "\n",
    "# Перебираем пары признаков: (orders vs avg_price), (orders vs dishes)\n",
    "\n",
    "for i, (x_idx, y_idx) in enumerate([[0, 1], [0, 2]]):\n",
    "   x_label, y_label = axs[x_idx], axs[y_idx]  # Названия признаков для осей\n",
    "\n",
    "   # Строим точки — объекты из датафрейма, раскрашенные по меткам кластера\n",
    "    \n",
    "   axes[i].scatter(\n",
    "       delivery_grouped_clear[x_label],  # Значения по оси X\n",
    "       delivery_grouped_clear[y_label],  # Значения по оси Y\n",
    "       c=labels,  # Цвет зависит от номера кластера\n",
    "       cmap='viridis',  # Цветовая карта\n",
    "       s=50  # Размер точек\n",
    "   )\n",
    "\n",
    "   # Строим центроиды кластеров красными крестами\n",
    "    \n",
    "   axes[i].scatter(\n",
    "       centroids[:, x_idx],  # X-координаты центров\n",
    "       centroids[:, y_idx],  # Y-координаты центров\n",
    "       s=200,  # Размер крестов\n",
    "       c='red',  # Цвет — красный\n",
    "       edgecolors='black',  # Обводка — чёрная\n",
    "       linewidths=2,  # Толщина обводки\n",
    "       marker='X'  # Форма маркера — крест\n",
    "   )\n",
    "\n",
    "   # Подписи осей и заголовок графика\n",
    "    \n",
    "   axes[i].set_xlabel(x_label)\n",
    "   axes[i].set_ylabel(y_label)\n",
    "   axes[i].set_title(f'{x_label} vs {y_label}')\n",
    "\n",
    "# Подгоняем макет, оставляя место снизу для подписи с инерцией\n",
    "\n",
    "plt.tight_layout(rect=[0, 0.05, 1, 1])\n",
    "\n",
    "# Добавляем текст с СВР внизу графика (по центру)\n",
    "\n",
    "fig.text(0.5, 0.01, f'Inertia: {kmeans.inertia_:.2f}', ha='center', fontsize=12)\n",
    "\n",
    "# Показываем итоговый набор визуализаций\n",
    "\n",
    "plt.show()"
   ]
  },
  {
   "cell_type": "markdown",
   "id": "87d76f00",
   "metadata": {},
   "source": [
    "На основе анализа данных графиков можно сделать следующие выводы:\n",
    "\n",
    "- Средний чек (`avg_price`) не зависит от количества заказов (`orders`): на левом графике мы видим, что фиолетовый (**Кластер 1**), синий (**Кластер 2**) и жёлтый (**Кластер 3**) обладают примерно одинаковым количеством заказов, но средний чек - сильно отличается. Также стоит отметить, что зеленый (**Кластер 4**) обладает ещё большим количеством заказов, но средний чек находится примерно посередине между синим (**Кластером 2**) и фиолетовым (**Кластером 1**)\n",
    "\n",
    "- Количество блюд (`dishes`) прямопрорционально зависит от количества заказов (`orders`): на правом графике мы видим, что фиолетовый (**Кластер 1**), синий (**Кластер 2**) и жёлтый (**Кластер 3**) обладают меньшим (по сравнению с **Кластером 4**) количеством заказов на уровне 0-200 и меньшим (по сравнению с **Кластером 4**) числом блюд на уровне 0-200, в то время как зелёный (**Кластер 4**) обладает большим (по сравнению с **Кластерами 1, 2 и 3**) количеством заказов на уровне 1.000-1.200 и большим (по сравнению с **Кластерами 1, 2 и 3**) числом блюд на уровне 900-1.100"
   ]
  },
  {
   "cell_type": "markdown",
   "id": "268ed4c1",
   "metadata": {
    "id": "50194012"
   },
   "source": [
    "---\n",
    "\n",
    "## 5. Итоговый вывод и рекомендации"
   ]
  },
  {
   "cell_type": "markdown",
   "id": "bf4ae087",
   "metadata": {},
   "source": [
    "Вывод и рекомендации представлены в формате ответов на поставленные заказчиком вопросы:\n",
    "    \n",
    "- **Как ведут себя пользователи? Как наиболее эффективно выстроить работу с ними, чтобы они продолжали пользоваться продуктом?**\n",
    "\n",
    "Для того, чтобы пользователи продолжали пользоваться продуктом, необходимо:\n",
    "\n",
    "- Для активных клиентов (недавние и частые покупки с большой суммой трат): \n",
    "    - внедрить систему персонализированных предложений: ранний доступ к новинкам, подборка ресторанов на основе их истории покупок и просмотров\n",
    "    - внедрить систему программ лояльности: повышенный кэшбэк, бесплатная доставка, бесплатный сервис или подарки к покупкам\n",
    "    - внедрить систему эксклюзивных акций: не публикуемые в общем доступе промокоды с повышенным кэшбэком или подарком к покупке\n",
    "- Для менее активных клиентов, но с потенциалом роста (недавние, но редкосовершаемые покупки с большой суммой трат): \n",
    "    - поддерживать вовлечённость: сообщения о том, что пользователи близки к получению статуса в программе лояльности\n",
    "    - повышать интерес к продукту: персональные приглашения, бесплатный доступ к платным услугам \n",
    "    - стимулировать к новым покупкам: сниженные цены в период праздничный дней\n",
    "- Для неактивных клиентов (давние и редкосовершаемые покупки с малой суммой трат): \n",
    "    - разработать специальные предложения, направленные на возврат клиентов: большие скидки, бесплатный пробный период на использование обновлённой версии продукта без платных подписок, персональные звонки от менеджеров с призывом вернуться в сервис на сниженных к доставке условиям\n",
    "\n",
    "\n",
    "- **Какой путь проходят пользователи в сервисе? Где «проваливаются»?**\n",
    "\n",
    "Предполагается, что пользователь проходит такой путь к оформлению доставки блюда из ресторанов:\n",
    "1. `authorization` — авторизация пользователя — запуск приложения.\n",
    "2. `main_page` — загрузка основной страницы приложения.\n",
    "2. `reg_page` — переход на страницу регистрации.\n",
    "2. `confirm_phone` — подтверждение телефона (окончание процесса регистрации).\n",
    "2. `object_page` — страница блюда.\n",
    "2. `add_to_cart` — переход в корзину.\n",
    "2. `order` — оформление заказа.    \n",
    "\n",
    "Пользователи \"проваливаются\" на этапе перехода от страницы регистрации к подтверждению телефона (около 45%) и на этапе перехода от подтверждения телефона к странице с блюдом (около 28%) - всё это происходит именно на мобильной версии\n",
    "\n",
    "Для того, чтобы устранить провалы, необходимо:\n",
    "\n",
    "- Поработать над пользовательским путём: наибольшая потеря пользователей наблюдается на этапе перехода от страницы регистрации к подтверждению телефона (около 45%) и на этапе перехода от подтверждения телефона к странице с блюдом (около 28%). Причём, происходит это именно на мобильных устройствах\n",
    "\n",
    "Также рекомендуется упростить UI/UX для пользователей десктопной версии, поскольку наибольшее медианное время ожидания перехода с этапа подтверждения телефона на страницу с блюдом - у десктопных пользователей (выше чем у мобильных пользователей почти на 2 минуты)\n",
    "\n",
    "- **Как улучшить взаимодействие с партнёрами-ресторанами?**\n",
    "\n",
    "Для улучшения взаимодействия с партнёрами-ресторанами необходимо обратить внимание на:\n",
    "\n",
    "- Отсутствие зависимости среднего чека от количества заказов: то есть, стоит изучить факторы, которые объяснят, почему данные метрики не связаны друг с другом (или всё же корреляция есть, но она скрыта)\n",
    "\n",
    "- Прямопропорциональную зависимость количества блюд от количества заказов: чем больше заказов - тем больше количество уникальных блюд, которые пробуют пользователи. Именно с увеличением количества заказов можно наблюдать охват всего ассортимента, который предлагают рестораны - соответственно, пользователи будут чаще возвращаться в данный сервис (повышается показатель удержания пользователей), поскольку у них будет возможность попробовать разные блюда, а не прибегать к выбору одних и тех же блюд. Благодаря этому, компания может сохранять лояльность ресторанов и сотрудничество с ними на хороших условиях, при этом наращивая стоимость доставки и комиссии, взимаемой с ресторанов, что непосредственно приведёт к увеличению прибыли сервиса доставки \"Всё.из.кафе\"\n",
    "\n",
    "- Показатель конверсии целевого действия: при должном внимании показатель конверсии, на данный момент равный 32%, можно увеличить на 8-10% за счёт внедрения новых маркетинговых компаний. Лучше всего использовать онлайн-рекламу, например, контекстную рекламу, таргетированную рекламу, баннеры с рекламой в видеохостингах или на стримах, email-рассылки, нативная реклама в статьях и блогах, инфлюенс-реклама от блогеров, рекламные интеграции в мобильных приложениях и прочие каналы привлечения новых пользователей. Засчёт этого может возникнуть приток новых пользователей как для ресторанов, так и для сервиса доставки \"Всё.из.кафе\""
   ]
  }
 ],
 "metadata": {
  "ExecuteTimeLog": [
   {
    "duration": 1294,
    "start_time": "2025-08-18T12:16:27.059Z"
   },
   {
    "duration": 2583,
    "start_time": "2025-08-18T12:17:13.715Z"
   },
   {
    "duration": 18,
    "start_time": "2025-08-18T12:18:09.260Z"
   },
   {
    "duration": 75,
    "start_time": "2025-08-18T12:18:16.765Z"
   },
   {
    "duration": 17,
    "start_time": "2025-08-18T12:43:21.478Z"
   },
   {
    "duration": 17,
    "start_time": "2025-08-18T12:43:38.106Z"
   },
   {
    "duration": 199,
    "start_time": "2025-08-18T12:47:11.300Z"
   },
   {
    "duration": 168,
    "start_time": "2025-08-18T12:47:33.951Z"
   },
   {
    "duration": 91,
    "start_time": "2025-08-18T12:47:56.900Z"
   },
   {
    "duration": 143,
    "start_time": "2025-08-18T12:48:18.744Z"
   },
   {
    "duration": 112,
    "start_time": "2025-08-18T12:48:36.407Z"
   },
   {
    "duration": 121,
    "start_time": "2025-08-18T12:48:51.306Z"
   },
   {
    "duration": 129,
    "start_time": "2025-08-18T12:48:57.097Z"
   },
   {
    "duration": 126,
    "start_time": "2025-08-18T12:50:16.023Z"
   },
   {
    "duration": 120,
    "start_time": "2025-08-18T12:50:23.281Z"
   },
   {
    "duration": 122,
    "start_time": "2025-08-18T12:51:31.108Z"
   },
   {
    "duration": 87,
    "start_time": "2025-08-18T12:51:54.496Z"
   },
   {
    "duration": 20,
    "start_time": "2025-08-18T12:53:18.404Z"
   },
   {
    "duration": 46,
    "start_time": "2025-08-18T12:55:26.000Z"
   },
   {
    "duration": 40,
    "start_time": "2025-08-18T12:55:35.269Z"
   },
   {
    "duration": 57,
    "start_time": "2025-08-18T12:55:38.471Z"
   },
   {
    "duration": 56,
    "start_time": "2025-08-18T12:55:55.834Z"
   },
   {
    "duration": 14,
    "start_time": "2025-08-18T13:02:19.675Z"
   },
   {
    "duration": 14,
    "start_time": "2025-08-18T13:02:22.255Z"
   },
   {
    "duration": 69,
    "start_time": "2025-08-18T13:02:58.670Z"
   },
   {
    "duration": 1622,
    "start_time": "2025-08-18T13:05:11.815Z"
   },
   {
    "duration": 46,
    "start_time": "2025-08-18T13:05:23.240Z"
   },
   {
    "duration": 47,
    "start_time": "2025-08-18T13:08:18.532Z"
   },
   {
    "duration": 36,
    "start_time": "2025-08-18T13:08:48.168Z"
   },
   {
    "duration": 1593,
    "start_time": "2025-08-18T13:11:04.900Z"
   },
   {
    "duration": 347,
    "start_time": "2025-08-18T13:11:44.449Z"
   },
   {
    "duration": 304,
    "start_time": "2025-08-18T13:14:20.470Z"
   },
   {
    "duration": 399,
    "start_time": "2025-08-18T13:18:03.304Z"
   },
   {
    "duration": 328,
    "start_time": "2025-08-18T13:18:08.154Z"
   },
   {
    "duration": 36,
    "start_time": "2025-08-18T13:32:19.147Z"
   },
   {
    "duration": 74,
    "start_time": "2025-08-18T13:33:40.698Z"
   },
   {
    "duration": 391,
    "start_time": "2025-08-18T13:42:23.435Z"
   },
   {
    "duration": 58,
    "start_time": "2025-08-18T14:34:26.460Z"
   },
   {
    "duration": 13,
    "start_time": "2025-08-18T14:34:29.715Z"
   },
   {
    "duration": 3,
    "start_time": "2025-08-18T14:34:37.853Z"
   },
   {
    "duration": 2,
    "start_time": "2025-08-18T14:34:38.074Z"
   },
   {
    "duration": 1176,
    "start_time": "2025-08-18T14:34:38.953Z"
   },
   {
    "duration": 1694,
    "start_time": "2025-08-18T14:34:41.059Z"
   },
   {
    "duration": 18,
    "start_time": "2025-08-18T14:34:43.398Z"
   },
   {
    "duration": 71,
    "start_time": "2025-08-18T14:34:45.518Z"
   },
   {
    "duration": 157,
    "start_time": "2025-08-18T14:35:05.734Z"
   },
   {
    "duration": 15,
    "start_time": "2025-08-18T14:35:10.197Z"
   },
   {
    "duration": 54,
    "start_time": "2025-08-18T14:35:16.880Z"
   },
   {
    "duration": 78,
    "start_time": "2025-08-18T14:35:20.509Z"
   },
   {
    "duration": 156,
    "start_time": "2025-08-18T14:35:22.282Z"
   },
   {
    "duration": 196,
    "start_time": "2025-08-18T14:35:23.129Z"
   },
   {
    "duration": 33,
    "start_time": "2025-08-18T14:35:25.252Z"
   },
   {
    "duration": 325,
    "start_time": "2025-08-18T14:35:34.340Z"
   },
   {
    "duration": 369,
    "start_time": "2025-08-18T14:35:37.450Z"
   },
   {
    "duration": 135,
    "start_time": "2025-08-18T14:38:45.982Z"
   },
   {
    "duration": 1624,
    "start_time": "2025-08-18T14:40:22.955Z"
   },
   {
    "duration": 1739,
    "start_time": "2025-08-18T14:40:47.458Z"
   },
   {
    "duration": 759,
    "start_time": "2025-08-18T14:41:44.799Z"
   },
   {
    "duration": 693,
    "start_time": "2025-08-18T14:41:59.754Z"
   },
   {
    "duration": 1160,
    "start_time": "2025-08-18T14:42:55.036Z"
   },
   {
    "duration": 1178,
    "start_time": "2025-08-18T14:43:10.275Z"
   },
   {
    "duration": 1173,
    "start_time": "2025-08-18T14:43:22.018Z"
   },
   {
    "duration": 1255,
    "start_time": "2025-08-18T14:44:43.687Z"
   },
   {
    "duration": 1404,
    "start_time": "2025-08-18T14:45:30.188Z"
   },
   {
    "duration": 1371,
    "start_time": "2025-08-18T14:47:47.433Z"
   },
   {
    "duration": 1351,
    "start_time": "2025-08-18T14:48:10.146Z"
   },
   {
    "duration": 1284,
    "start_time": "2025-08-18T14:48:35.487Z"
   },
   {
    "duration": 1390,
    "start_time": "2025-08-18T14:48:47.883Z"
   },
   {
    "duration": 1494,
    "start_time": "2025-08-18T14:49:00.179Z"
   },
   {
    "duration": 1402,
    "start_time": "2025-08-18T14:49:11.404Z"
   },
   {
    "duration": 1268,
    "start_time": "2025-08-18T14:49:16.192Z"
   },
   {
    "duration": 1305,
    "start_time": "2025-08-18T14:49:40.652Z"
   },
   {
    "duration": 1343,
    "start_time": "2025-08-18T14:49:52.575Z"
   },
   {
    "duration": 1455,
    "start_time": "2025-08-18T14:50:13.163Z"
   },
   {
    "duration": 3,
    "start_time": "2025-08-18T14:59:20.515Z"
   },
   {
    "duration": 105,
    "start_time": "2025-08-18T14:59:20.521Z"
   },
   {
    "duration": 1219,
    "start_time": "2025-08-18T14:59:20.628Z"
   },
   {
    "duration": 1824,
    "start_time": "2025-08-18T14:59:21.849Z"
   },
   {
    "duration": 18,
    "start_time": "2025-08-18T14:59:23.675Z"
   },
   {
    "duration": 99,
    "start_time": "2025-08-18T14:59:23.695Z"
   },
   {
    "duration": 163,
    "start_time": "2025-08-18T14:59:23.795Z"
   },
   {
    "duration": 178,
    "start_time": "2025-08-18T14:59:23.960Z"
   },
   {
    "duration": 243,
    "start_time": "2025-08-18T14:59:24.141Z"
   },
   {
    "duration": 32,
    "start_time": "2025-08-18T14:59:24.385Z"
   },
   {
    "duration": 379,
    "start_time": "2025-08-18T14:59:24.419Z"
   },
   {
    "duration": 426,
    "start_time": "2025-08-18T14:59:24.800Z"
   },
   {
    "duration": 1465,
    "start_time": "2025-08-18T14:59:25.235Z"
   },
   {
    "duration": 1395,
    "start_time": "2025-08-18T15:26:09.145Z"
   },
   {
    "duration": 1359,
    "start_time": "2025-08-18T15:28:12.285Z"
   },
   {
    "duration": 1311,
    "start_time": "2025-08-18T15:28:21.096Z"
   },
   {
    "duration": 1386,
    "start_time": "2025-08-18T15:34:50.174Z"
   },
   {
    "duration": 1163,
    "start_time": "2025-08-18T15:35:26.422Z"
   },
   {
    "duration": 1234,
    "start_time": "2025-08-18T15:35:31.801Z"
   },
   {
    "duration": 1291,
    "start_time": "2025-08-18T15:35:38.682Z"
   },
   {
    "duration": 1165,
    "start_time": "2025-08-18T15:35:48.639Z"
   },
   {
    "duration": 90,
    "start_time": "2025-08-18T15:39:59.273Z"
   },
   {
    "duration": 94,
    "start_time": "2025-08-18T15:40:05.707Z"
   },
   {
    "duration": 96,
    "start_time": "2025-08-18T15:40:07.400Z"
   },
   {
    "duration": 114,
    "start_time": "2025-08-18T15:45:53.322Z"
   },
   {
    "duration": 82,
    "start_time": "2025-08-18T15:47:22.673Z"
   },
   {
    "duration": 1400,
    "start_time": "2025-08-18T15:47:38.560Z"
   },
   {
    "duration": 1311,
    "start_time": "2025-08-18T15:47:47.478Z"
   },
   {
    "duration": 18,
    "start_time": "2025-08-18T15:47:51.576Z"
   },
   {
    "duration": 22,
    "start_time": "2025-08-18T15:50:33.320Z"
   },
   {
    "duration": 18,
    "start_time": "2025-08-18T15:50:48.511Z"
   },
   {
    "duration": 24,
    "start_time": "2025-08-18T15:52:37.193Z"
   },
   {
    "duration": 21,
    "start_time": "2025-08-18T15:55:07.716Z"
   },
   {
    "duration": 20,
    "start_time": "2025-08-18T15:57:16.560Z"
   },
   {
    "duration": 20,
    "start_time": "2025-08-18T15:57:22.367Z"
   },
   {
    "duration": 18,
    "start_time": "2025-08-18T15:57:28.132Z"
   },
   {
    "duration": 22,
    "start_time": "2025-08-18T15:57:41.350Z"
   },
   {
    "duration": 22,
    "start_time": "2025-08-18T15:57:54.704Z"
   },
   {
    "duration": 38,
    "start_time": "2025-08-18T15:58:06.518Z"
   },
   {
    "duration": 32,
    "start_time": "2025-08-18T15:58:29.864Z"
   },
   {
    "duration": 20,
    "start_time": "2025-08-18T15:59:46.018Z"
   },
   {
    "duration": 30,
    "start_time": "2025-08-18T16:02:24.850Z"
   },
   {
    "duration": 21,
    "start_time": "2025-08-18T16:03:53.712Z"
   },
   {
    "duration": 36,
    "start_time": "2025-08-18T16:04:11.717Z"
   },
   {
    "duration": 11,
    "start_time": "2025-08-18T16:05:30.090Z"
   },
   {
    "duration": 1241,
    "start_time": "2025-08-18T16:27:32.985Z"
   },
   {
    "duration": 2533,
    "start_time": "2025-08-18T16:27:34.228Z"
   },
   {
    "duration": 19,
    "start_time": "2025-08-18T16:27:36.764Z"
   },
   {
    "duration": 195,
    "start_time": "2025-08-18T16:27:36.785Z"
   },
   {
    "duration": 185,
    "start_time": "2025-08-18T16:27:36.982Z"
   },
   {
    "duration": 170,
    "start_time": "2025-08-18T16:27:37.168Z"
   },
   {
    "duration": 214,
    "start_time": "2025-08-18T16:27:37.342Z"
   },
   {
    "duration": 33,
    "start_time": "2025-08-18T16:27:37.558Z"
   },
   {
    "duration": 376,
    "start_time": "2025-08-18T16:27:37.593Z"
   },
   {
    "duration": 384,
    "start_time": "2025-08-18T16:27:37.970Z"
   },
   {
    "duration": 1432,
    "start_time": "2025-08-18T16:27:38.356Z"
   },
   {
    "duration": 1644,
    "start_time": "2025-08-18T16:27:39.790Z"
   },
   {
    "duration": 4,
    "start_time": "2025-08-18T16:27:41.437Z"
   },
   {
    "duration": 177,
    "start_time": "2025-08-18T16:27:41.444Z"
   },
   {
    "duration": 13,
    "start_time": "2025-08-18T16:27:41.623Z"
   },
   {
    "duration": 222,
    "start_time": "2025-08-18T16:29:02.965Z"
   },
   {
    "duration": 197,
    "start_time": "2025-08-18T16:29:34.046Z"
   },
   {
    "duration": 215,
    "start_time": "2025-08-18T16:29:40.076Z"
   },
   {
    "duration": 193,
    "start_time": "2025-08-18T16:29:44.292Z"
   },
   {
    "duration": 193,
    "start_time": "2025-08-18T16:32:23.150Z"
   },
   {
    "duration": 1194,
    "start_time": "2025-08-18T16:34:48.630Z"
   },
   {
    "duration": 2518,
    "start_time": "2025-08-18T16:34:49.826Z"
   },
   {
    "duration": 22,
    "start_time": "2025-08-18T16:34:52.346Z"
   },
   {
    "duration": 92,
    "start_time": "2025-08-18T16:34:52.370Z"
   },
   {
    "duration": 201,
    "start_time": "2025-08-18T16:34:52.464Z"
   },
   {
    "duration": 173,
    "start_time": "2025-08-18T16:34:52.666Z"
   },
   {
    "duration": 247,
    "start_time": "2025-08-18T16:34:52.842Z"
   },
   {
    "duration": 48,
    "start_time": "2025-08-18T16:34:53.091Z"
   },
   {
    "duration": 369,
    "start_time": "2025-08-18T16:34:53.142Z"
   },
   {
    "duration": 407,
    "start_time": "2025-08-18T16:34:53.512Z"
   },
   {
    "duration": 1346,
    "start_time": "2025-08-18T16:34:53.921Z"
   },
   {
    "duration": 1504,
    "start_time": "2025-08-18T16:34:55.269Z"
   },
   {
    "duration": 2,
    "start_time": "2025-08-18T16:34:56.775Z"
   },
   {
    "duration": 121,
    "start_time": "2025-08-18T16:34:56.780Z"
   },
   {
    "duration": 190,
    "start_time": "2025-08-18T16:34:56.903Z"
   },
   {
    "duration": 1125,
    "start_time": "2025-08-18T16:35:37.259Z"
   },
   {
    "duration": 2330,
    "start_time": "2025-08-18T16:35:38.386Z"
   },
   {
    "duration": 30,
    "start_time": "2025-08-18T16:35:40.718Z"
   },
   {
    "duration": 170,
    "start_time": "2025-08-18T16:35:40.750Z"
   },
   {
    "duration": 180,
    "start_time": "2025-08-18T16:35:40.922Z"
   },
   {
    "duration": 188,
    "start_time": "2025-08-18T16:35:41.103Z"
   },
   {
    "duration": 202,
    "start_time": "2025-08-18T16:35:41.292Z"
   },
   {
    "duration": 41,
    "start_time": "2025-08-18T16:35:41.496Z"
   },
   {
    "duration": 372,
    "start_time": "2025-08-18T16:35:41.540Z"
   },
   {
    "duration": 425,
    "start_time": "2025-08-18T16:35:41.914Z"
   },
   {
    "duration": 1453,
    "start_time": "2025-08-18T16:35:42.341Z"
   },
   {
    "duration": 1398,
    "start_time": "2025-08-18T16:35:43.795Z"
   },
   {
    "duration": 48,
    "start_time": "2025-08-18T16:35:45.196Z"
   },
   {
    "duration": 300,
    "start_time": "2025-08-18T16:35:45.248Z"
   },
   {
    "duration": 1334,
    "start_time": "2025-08-18T16:36:06.115Z"
   },
   {
    "duration": 1177,
    "start_time": "2025-08-18T16:36:45.782Z"
   },
   {
    "duration": 1223,
    "start_time": "2025-08-18T16:36:46.962Z"
   },
   {
    "duration": 18,
    "start_time": "2025-08-18T16:36:48.187Z"
   },
   {
    "duration": 89,
    "start_time": "2025-08-18T16:36:48.206Z"
   },
   {
    "duration": 166,
    "start_time": "2025-08-18T16:36:48.297Z"
   },
   {
    "duration": 170,
    "start_time": "2025-08-18T16:36:48.465Z"
   },
   {
    "duration": 212,
    "start_time": "2025-08-18T16:36:48.638Z"
   },
   {
    "duration": 36,
    "start_time": "2025-08-18T16:36:48.852Z"
   },
   {
    "duration": 386,
    "start_time": "2025-08-18T16:36:48.890Z"
   },
   {
    "duration": 421,
    "start_time": "2025-08-18T16:36:49.278Z"
   },
   {
    "duration": 1495,
    "start_time": "2025-08-18T16:36:49.700Z"
   },
   {
    "duration": 1530,
    "start_time": "2025-08-18T16:36:51.197Z"
   },
   {
    "duration": 38,
    "start_time": "2025-08-18T16:36:52.729Z"
   },
   {
    "duration": 209,
    "start_time": "2025-08-18T16:36:52.769Z"
   },
   {
    "duration": 1225,
    "start_time": "2025-08-18T16:37:39.221Z"
   },
   {
    "duration": 1078,
    "start_time": "2025-08-18T16:37:40.448Z"
   },
   {
    "duration": 27,
    "start_time": "2025-08-18T16:37:41.528Z"
   },
   {
    "duration": 88,
    "start_time": "2025-08-18T16:37:41.558Z"
   },
   {
    "duration": 169,
    "start_time": "2025-08-18T16:37:41.649Z"
   },
   {
    "duration": 161,
    "start_time": "2025-08-18T16:37:41.819Z"
   },
   {
    "duration": 208,
    "start_time": "2025-08-18T16:37:41.982Z"
   },
   {
    "duration": 32,
    "start_time": "2025-08-18T16:37:42.191Z"
   },
   {
    "duration": 367,
    "start_time": "2025-08-18T16:37:42.235Z"
   },
   {
    "duration": 416,
    "start_time": "2025-08-18T16:37:42.604Z"
   },
   {
    "duration": 1464,
    "start_time": "2025-08-18T16:37:43.023Z"
   },
   {
    "duration": 1550,
    "start_time": "2025-08-18T16:37:44.489Z"
   },
   {
    "duration": 31,
    "start_time": "2025-08-18T16:37:46.041Z"
   },
   {
    "duration": 239,
    "start_time": "2025-08-18T16:37:46.075Z"
   },
   {
    "duration": 1197,
    "start_time": "2025-08-18T16:38:16.825Z"
   },
   {
    "duration": 1119,
    "start_time": "2025-08-18T16:38:18.024Z"
   },
   {
    "duration": 23,
    "start_time": "2025-08-18T16:38:19.145Z"
   },
   {
    "duration": 90,
    "start_time": "2025-08-18T16:38:19.170Z"
   },
   {
    "duration": 160,
    "start_time": "2025-08-18T16:38:19.263Z"
   },
   {
    "duration": 167,
    "start_time": "2025-08-18T16:38:19.425Z"
   },
   {
    "duration": 207,
    "start_time": "2025-08-18T16:38:19.594Z"
   },
   {
    "duration": 50,
    "start_time": "2025-08-18T16:38:19.802Z"
   },
   {
    "duration": 399,
    "start_time": "2025-08-18T16:38:19.854Z"
   },
   {
    "duration": 418,
    "start_time": "2025-08-18T16:38:20.257Z"
   },
   {
    "duration": 1458,
    "start_time": "2025-08-18T16:38:20.677Z"
   },
   {
    "duration": 1537,
    "start_time": "2025-08-18T16:38:22.137Z"
   },
   {
    "duration": 27,
    "start_time": "2025-08-18T16:38:23.676Z"
   },
   {
    "duration": 224,
    "start_time": "2025-08-18T16:38:23.706Z"
   },
   {
    "duration": 1417,
    "start_time": "2025-08-19T09:34:22.960Z"
   },
   {
    "duration": 1413,
    "start_time": "2025-08-19T09:34:24.379Z"
   },
   {
    "duration": 19,
    "start_time": "2025-08-19T09:34:25.794Z"
   },
   {
    "duration": 99,
    "start_time": "2025-08-19T09:34:25.815Z"
   },
   {
    "duration": 181,
    "start_time": "2025-08-19T09:34:25.917Z"
   },
   {
    "duration": 165,
    "start_time": "2025-08-19T09:34:26.100Z"
   },
   {
    "duration": 234,
    "start_time": "2025-08-19T09:34:26.267Z"
   },
   {
    "duration": 36,
    "start_time": "2025-08-19T09:34:26.503Z"
   },
   {
    "duration": 366,
    "start_time": "2025-08-19T09:34:26.552Z"
   },
   {
    "duration": 428,
    "start_time": "2025-08-19T09:34:26.920Z"
   },
   {
    "duration": 1464,
    "start_time": "2025-08-19T09:34:27.352Z"
   },
   {
    "duration": 1574,
    "start_time": "2025-08-19T09:34:28.818Z"
   },
   {
    "duration": 29,
    "start_time": "2025-08-19T09:34:30.394Z"
   },
   {
    "duration": 240,
    "start_time": "2025-08-19T09:34:30.425Z"
   },
   {
    "duration": 48,
    "start_time": "2025-08-19T09:45:08.491Z"
   },
   {
    "duration": 403,
    "start_time": "2025-08-19T09:50:30.472Z"
   },
   {
    "duration": 146,
    "start_time": "2025-08-19T09:53:36.726Z"
   },
   {
    "duration": 51,
    "start_time": "2025-08-19T09:54:32.177Z"
   },
   {
    "duration": 48,
    "start_time": "2025-08-19T09:54:38.701Z"
   },
   {
    "duration": 29,
    "start_time": "2025-08-19T09:55:52.941Z"
   },
   {
    "duration": 899,
    "start_time": "2025-08-19T09:56:01.714Z"
   },
   {
    "duration": 27,
    "start_time": "2025-08-19T10:01:43.825Z"
   },
   {
    "duration": 25,
    "start_time": "2025-08-19T10:04:28.237Z"
   },
   {
    "duration": 1436,
    "start_time": "2025-08-19T10:04:47.631Z"
   },
   {
    "duration": 26,
    "start_time": "2025-08-19T10:04:54.349Z"
   },
   {
    "duration": 27,
    "start_time": "2025-08-19T10:04:56.287Z"
   },
   {
    "duration": 25,
    "start_time": "2025-08-19T10:05:18.408Z"
   },
   {
    "duration": 25,
    "start_time": "2025-08-19T10:05:27.172Z"
   },
   {
    "duration": 28,
    "start_time": "2025-08-19T10:05:42.247Z"
   },
   {
    "duration": 25,
    "start_time": "2025-08-19T10:06:09.712Z"
   },
   {
    "duration": 94,
    "start_time": "2025-08-19T10:15:32.140Z"
   },
   {
    "duration": 458,
    "start_time": "2025-08-19T10:20:09.456Z"
   },
   {
    "duration": 600,
    "start_time": "2025-08-19T10:21:36.679Z"
   },
   {
    "duration": 499,
    "start_time": "2025-08-19T10:21:41.731Z"
   },
   {
    "duration": 442,
    "start_time": "2025-08-19T10:21:47.322Z"
   },
   {
    "duration": 434,
    "start_time": "2025-08-19T10:23:04.141Z"
   },
   {
    "duration": 1450,
    "start_time": "2025-08-19T11:44:20.211Z"
   },
   {
    "duration": 1273,
    "start_time": "2025-08-19T11:44:21.663Z"
   },
   {
    "duration": 24,
    "start_time": "2025-08-19T11:44:22.937Z"
   },
   {
    "duration": 77,
    "start_time": "2025-08-19T11:44:22.962Z"
   },
   {
    "duration": 160,
    "start_time": "2025-08-19T11:44:23.052Z"
   },
   {
    "duration": 161,
    "start_time": "2025-08-19T11:44:23.214Z"
   },
   {
    "duration": 211,
    "start_time": "2025-08-19T11:44:23.377Z"
   },
   {
    "duration": 35,
    "start_time": "2025-08-19T11:44:23.590Z"
   },
   {
    "duration": 357,
    "start_time": "2025-08-19T11:44:23.627Z"
   },
   {
    "duration": 477,
    "start_time": "2025-08-19T11:44:23.988Z"
   },
   {
    "duration": 1321,
    "start_time": "2025-08-19T11:44:24.467Z"
   },
   {
    "duration": 1398,
    "start_time": "2025-08-19T11:44:25.790Z"
   },
   {
    "duration": 29,
    "start_time": "2025-08-19T11:44:27.191Z"
   },
   {
    "duration": 240,
    "start_time": "2025-08-19T11:44:27.223Z"
   },
   {
    "duration": 47,
    "start_time": "2025-08-19T11:44:27.466Z"
   },
   {
    "duration": 667,
    "start_time": "2025-08-19T11:44:27.515Z"
   },
   {
    "duration": 24,
    "start_time": "2025-08-19T11:44:28.184Z"
   },
   {
    "duration": 451,
    "start_time": "2025-08-19T11:44:28.210Z"
   },
   {
    "duration": 1542,
    "start_time": "2025-08-19T11:50:27.636Z"
   },
   {
    "duration": 1358,
    "start_time": "2025-08-19T11:50:29.179Z"
   },
   {
    "duration": 26,
    "start_time": "2025-08-19T11:50:30.539Z"
   },
   {
    "duration": 87,
    "start_time": "2025-08-19T11:50:30.567Z"
   },
   {
    "duration": 161,
    "start_time": "2025-08-19T11:50:30.657Z"
   },
   {
    "duration": 171,
    "start_time": "2025-08-19T11:50:30.820Z"
   },
   {
    "duration": 216,
    "start_time": "2025-08-19T11:50:30.993Z"
   },
   {
    "duration": 45,
    "start_time": "2025-08-19T11:50:31.211Z"
   },
   {
    "duration": 402,
    "start_time": "2025-08-19T11:50:31.258Z"
   },
   {
    "duration": 496,
    "start_time": "2025-08-19T11:50:31.661Z"
   },
   {
    "duration": 1348,
    "start_time": "2025-08-19T11:50:32.159Z"
   },
   {
    "duration": 1397,
    "start_time": "2025-08-19T11:50:33.508Z"
   },
   {
    "duration": 30,
    "start_time": "2025-08-19T11:50:34.906Z"
   },
   {
    "duration": 222,
    "start_time": "2025-08-19T11:50:34.952Z"
   },
   {
    "duration": 48,
    "start_time": "2025-08-19T11:50:35.175Z"
   },
   {
    "duration": 721,
    "start_time": "2025-08-19T11:50:35.225Z"
   },
   {
    "duration": 25,
    "start_time": "2025-08-19T11:50:35.951Z"
   },
   {
    "duration": 595,
    "start_time": "2025-08-19T11:50:35.978Z"
   },
   {
    "duration": 1519,
    "start_time": "2025-08-19T11:52:35.969Z"
   },
   {
    "duration": 1236,
    "start_time": "2025-08-19T11:52:37.489Z"
   },
   {
    "duration": 29,
    "start_time": "2025-08-19T11:52:38.727Z"
   },
   {
    "duration": 81,
    "start_time": "2025-08-19T11:52:38.758Z"
   },
   {
    "duration": 204,
    "start_time": "2025-08-19T11:52:38.841Z"
   },
   {
    "duration": 168,
    "start_time": "2025-08-19T11:52:39.047Z"
   },
   {
    "duration": 212,
    "start_time": "2025-08-19T11:52:39.217Z"
   },
   {
    "duration": 44,
    "start_time": "2025-08-19T11:52:39.431Z"
   },
   {
    "duration": 375,
    "start_time": "2025-08-19T11:52:39.477Z"
   },
   {
    "duration": 467,
    "start_time": "2025-08-19T11:52:39.854Z"
   },
   {
    "duration": 1352,
    "start_time": "2025-08-19T11:52:40.323Z"
   },
   {
    "duration": 1444,
    "start_time": "2025-08-19T11:52:41.676Z"
   },
   {
    "duration": 37,
    "start_time": "2025-08-19T11:52:43.122Z"
   },
   {
    "duration": 210,
    "start_time": "2025-08-19T11:52:43.161Z"
   },
   {
    "duration": 63,
    "start_time": "2025-08-19T11:52:43.373Z"
   },
   {
    "duration": 722,
    "start_time": "2025-08-19T11:52:43.451Z"
   },
   {
    "duration": 25,
    "start_time": "2025-08-19T11:52:44.175Z"
   },
   {
    "duration": 464,
    "start_time": "2025-08-19T11:52:44.202Z"
   },
   {
    "duration": 1523,
    "start_time": "2025-08-19T11:53:08.575Z"
   },
   {
    "duration": 1032,
    "start_time": "2025-08-19T11:53:10.100Z"
   },
   {
    "duration": 24,
    "start_time": "2025-08-19T11:53:11.133Z"
   },
   {
    "duration": 92,
    "start_time": "2025-08-19T11:53:11.159Z"
   },
   {
    "duration": 168,
    "start_time": "2025-08-19T11:53:11.253Z"
   },
   {
    "duration": 164,
    "start_time": "2025-08-19T11:53:11.422Z"
   },
   {
    "duration": 224,
    "start_time": "2025-08-19T11:53:11.588Z"
   },
   {
    "duration": 44,
    "start_time": "2025-08-19T11:53:11.814Z"
   },
   {
    "duration": 357,
    "start_time": "2025-08-19T11:53:11.859Z"
   },
   {
    "duration": 467,
    "start_time": "2025-08-19T11:53:12.219Z"
   },
   {
    "duration": 1341,
    "start_time": "2025-08-19T11:53:12.688Z"
   },
   {
    "duration": 1445,
    "start_time": "2025-08-19T11:53:14.031Z"
   },
   {
    "duration": 29,
    "start_time": "2025-08-19T11:53:15.478Z"
   },
   {
    "duration": 221,
    "start_time": "2025-08-19T11:53:15.509Z"
   },
   {
    "duration": 56,
    "start_time": "2025-08-19T11:53:15.731Z"
   },
   {
    "duration": 736,
    "start_time": "2025-08-19T11:53:15.789Z"
   },
   {
    "duration": 34,
    "start_time": "2025-08-19T11:53:16.527Z"
   },
   {
    "duration": 497,
    "start_time": "2025-08-19T11:53:16.563Z"
   },
   {
    "duration": 1439,
    "start_time": "2025-08-19T11:53:36.799Z"
   },
   {
    "duration": 1033,
    "start_time": "2025-08-19T11:53:38.240Z"
   },
   {
    "duration": 20,
    "start_time": "2025-08-19T11:53:39.275Z"
   },
   {
    "duration": 95,
    "start_time": "2025-08-19T11:53:39.297Z"
   },
   {
    "duration": 171,
    "start_time": "2025-08-19T11:53:39.394Z"
   },
   {
    "duration": 164,
    "start_time": "2025-08-19T11:53:39.567Z"
   },
   {
    "duration": 210,
    "start_time": "2025-08-19T11:53:39.733Z"
   },
   {
    "duration": 37,
    "start_time": "2025-08-19T11:53:39.945Z"
   },
   {
    "duration": 504,
    "start_time": "2025-08-19T11:53:39.983Z"
   },
   {
    "duration": 455,
    "start_time": "2025-08-19T11:53:40.488Z"
   },
   {
    "duration": 1448,
    "start_time": "2025-08-19T11:53:40.945Z"
   },
   {
    "duration": 1447,
    "start_time": "2025-08-19T11:53:42.394Z"
   },
   {
    "duration": 33,
    "start_time": "2025-08-19T11:53:43.843Z"
   },
   {
    "duration": 213,
    "start_time": "2025-08-19T11:53:43.879Z"
   },
   {
    "duration": 59,
    "start_time": "2025-08-19T11:53:44.093Z"
   },
   {
    "duration": 707,
    "start_time": "2025-08-19T11:53:44.154Z"
   },
   {
    "duration": 25,
    "start_time": "2025-08-19T11:53:44.863Z"
   },
   {
    "duration": 468,
    "start_time": "2025-08-19T11:53:44.889Z"
   },
   {
    "duration": 3649,
    "start_time": "2025-08-19T12:12:39.007Z"
   },
   {
    "duration": 1846,
    "start_time": "2025-08-19T12:12:42.659Z"
   },
   {
    "duration": 27,
    "start_time": "2025-08-19T12:12:44.508Z"
   },
   {
    "duration": 102,
    "start_time": "2025-08-19T12:12:44.537Z"
   },
   {
    "duration": 188,
    "start_time": "2025-08-19T12:12:44.642Z"
   },
   {
    "duration": 204,
    "start_time": "2025-08-19T12:12:44.832Z"
   },
   {
    "duration": 250,
    "start_time": "2025-08-19T12:12:45.038Z"
   },
   {
    "duration": 37,
    "start_time": "2025-08-19T12:12:45.291Z"
   },
   {
    "duration": 430,
    "start_time": "2025-08-19T12:12:45.331Z"
   },
   {
    "duration": 1128,
    "start_time": "2025-08-19T12:12:45.764Z"
   },
   {
    "duration": 1906,
    "start_time": "2025-08-19T12:12:46.894Z"
   },
   {
    "duration": 1564,
    "start_time": "2025-08-19T12:12:48.802Z"
   },
   {
    "duration": 42,
    "start_time": "2025-08-19T12:12:50.368Z"
   },
   {
    "duration": 250,
    "start_time": "2025-08-19T12:12:50.414Z"
   },
   {
    "duration": 58,
    "start_time": "2025-08-19T12:12:50.667Z"
   },
   {
    "duration": 812,
    "start_time": "2025-08-19T12:12:50.727Z"
   },
   {
    "duration": 39,
    "start_time": "2025-08-19T12:12:51.541Z"
   },
   {
    "duration": 527,
    "start_time": "2025-08-19T12:12:51.583Z"
   },
   {
    "duration": 199,
    "start_time": "2025-08-19T12:13:25.576Z"
   },
   {
    "duration": 18,
    "start_time": "2025-08-19T12:19:47.161Z"
   },
   {
    "duration": 385,
    "start_time": "2025-08-19T12:21:39.098Z"
   },
   {
    "duration": 555,
    "start_time": "2025-08-19T12:21:46.269Z"
   },
   {
    "duration": 1898,
    "start_time": "2025-08-19T13:48:21.974Z"
   },
   {
    "duration": 1225,
    "start_time": "2025-08-19T13:48:24.651Z"
   },
   {
    "duration": 27,
    "start_time": "2025-08-19T13:48:26.530Z"
   },
   {
    "duration": 82,
    "start_time": "2025-08-19T13:48:28.290Z"
   },
   {
    "duration": 169,
    "start_time": "2025-08-19T13:48:31.702Z"
   },
   {
    "duration": 193,
    "start_time": "2025-08-19T13:48:33.862Z"
   },
   {
    "duration": 239,
    "start_time": "2025-08-19T13:48:38.382Z"
   },
   {
    "duration": 233,
    "start_time": "2025-08-19T13:50:22.315Z"
   },
   {
    "duration": 243,
    "start_time": "2025-08-19T13:50:41.048Z"
   },
   {
    "duration": 227,
    "start_time": "2025-08-19T13:50:42.795Z"
   },
   {
    "duration": 37,
    "start_time": "2025-08-19T13:50:58.750Z"
   },
   {
    "duration": 113,
    "start_time": "2025-08-19T13:52:03.314Z"
   },
   {
    "duration": 395,
    "start_time": "2025-08-19T13:52:14.231Z"
   },
   {
    "duration": 569,
    "start_time": "2025-08-19T13:54:58.401Z"
   },
   {
    "duration": 250,
    "start_time": "2025-08-19T13:55:38.810Z"
   },
   {
    "duration": 219,
    "start_time": "2025-08-19T13:55:50.534Z"
   },
   {
    "duration": 218,
    "start_time": "2025-08-19T13:55:54.189Z"
   },
   {
    "duration": 202,
    "start_time": "2025-08-19T13:55:59.220Z"
   },
   {
    "duration": 372,
    "start_time": "2025-08-19T13:56:10.137Z"
   },
   {
    "duration": 82,
    "start_time": "2025-08-19T13:56:38.710Z"
   },
   {
    "duration": 389,
    "start_time": "2025-08-19T13:57:18.407Z"
   },
   {
    "duration": 393,
    "start_time": "2025-08-19T13:57:22.405Z"
   },
   {
    "duration": 499,
    "start_time": "2025-08-19T13:57:25.868Z"
   },
   {
    "duration": 183,
    "start_time": "2025-08-19T13:57:54.100Z"
   },
   {
    "duration": 377,
    "start_time": "2025-08-19T13:58:00.504Z"
   },
   {
    "duration": 123,
    "start_time": "2025-08-19T13:58:26.612Z"
   },
   {
    "duration": 428,
    "start_time": "2025-08-19T14:00:16.500Z"
   },
   {
    "duration": 1545,
    "start_time": "2025-08-19T14:00:19.134Z"
   },
   {
    "duration": 1059,
    "start_time": "2025-08-19T14:04:03.056Z"
   },
   {
    "duration": 1176,
    "start_time": "2025-08-19T14:04:17.417Z"
   },
   {
    "duration": 1123,
    "start_time": "2025-08-19T14:05:19.269Z"
   },
   {
    "duration": 38,
    "start_time": "2025-08-19T14:07:29.939Z"
   },
   {
    "duration": 28,
    "start_time": "2025-08-19T14:08:14.111Z"
   },
   {
    "duration": 277,
    "start_time": "2025-08-19T14:08:45.441Z"
   },
   {
    "duration": 90,
    "start_time": "2025-08-19T14:18:09.226Z"
   },
   {
    "duration": 21,
    "start_time": "2025-08-19T14:18:31.583Z"
   },
   {
    "duration": 24,
    "start_time": "2025-08-19T14:19:23.503Z"
   },
   {
    "duration": 788,
    "start_time": "2025-08-19T14:19:42.188Z"
   },
   {
    "duration": 30,
    "start_time": "2025-08-19T14:21:03.824Z"
   },
   {
    "duration": 542,
    "start_time": "2025-08-19T14:24:40.576Z"
   },
   {
    "duration": 29,
    "start_time": "2025-08-19T14:38:11.820Z"
   },
   {
    "duration": 44,
    "start_time": "2025-08-19T14:38:23.031Z"
   },
   {
    "duration": 30,
    "start_time": "2025-08-19T14:39:30.636Z"
   },
   {
    "duration": 687,
    "start_time": "2025-08-19T14:40:47.402Z"
   },
   {
    "duration": 475,
    "start_time": "2025-08-19T14:45:00.407Z"
   },
   {
    "duration": 118,
    "start_time": "2025-08-19T15:04:21.239Z"
   },
   {
    "duration": 1770,
    "start_time": "2025-08-19T15:12:48.226Z"
   },
   {
    "duration": 1322,
    "start_time": "2025-08-19T15:12:49.998Z"
   },
   {
    "duration": 38,
    "start_time": "2025-08-19T15:12:51.322Z"
   },
   {
    "duration": 82,
    "start_time": "2025-08-19T15:12:51.363Z"
   },
   {
    "duration": 174,
    "start_time": "2025-08-19T15:12:51.460Z"
   },
   {
    "duration": 210,
    "start_time": "2025-08-19T15:12:51.637Z"
   },
   {
    "duration": 42,
    "start_time": "2025-08-19T15:12:51.849Z"
   },
   {
    "duration": 423,
    "start_time": "2025-08-19T15:12:51.893Z"
   },
   {
    "duration": 549,
    "start_time": "2025-08-19T15:12:52.318Z"
   },
   {
    "duration": 1561,
    "start_time": "2025-08-19T15:12:52.869Z"
   },
   {
    "duration": 1013,
    "start_time": "2025-08-19T15:12:54.432Z"
   },
   {
    "duration": 31,
    "start_time": "2025-08-19T15:12:55.460Z"
   },
   {
    "duration": 274,
    "start_time": "2025-08-19T15:12:55.493Z"
   },
   {
    "duration": 32,
    "start_time": "2025-08-19T15:12:55.772Z"
   },
   {
    "duration": 847,
    "start_time": "2025-08-19T15:12:55.807Z"
   },
   {
    "duration": 30,
    "start_time": "2025-08-19T15:12:56.656Z"
   },
   {
    "duration": 499,
    "start_time": "2025-08-19T15:12:56.688Z"
   },
   {
    "duration": 1657,
    "start_time": "2025-08-19T15:13:22.519Z"
   },
   {
    "duration": 1245,
    "start_time": "2025-08-19T15:13:24.178Z"
   },
   {
    "duration": 37,
    "start_time": "2025-08-19T15:13:25.425Z"
   },
   {
    "duration": 83,
    "start_time": "2025-08-19T15:13:25.464Z"
   },
   {
    "duration": 199,
    "start_time": "2025-08-19T15:13:25.562Z"
   },
   {
    "duration": 223,
    "start_time": "2025-08-19T15:13:25.764Z"
   },
   {
    "duration": 38,
    "start_time": "2025-08-19T15:13:25.989Z"
   },
   {
    "duration": 432,
    "start_time": "2025-08-19T15:13:26.029Z"
   },
   {
    "duration": 564,
    "start_time": "2025-08-19T15:13:26.464Z"
   },
   {
    "duration": 1582,
    "start_time": "2025-08-19T15:13:27.030Z"
   },
   {
    "duration": 1054,
    "start_time": "2025-08-19T15:13:28.614Z"
   },
   {
    "duration": 28,
    "start_time": "2025-08-19T15:13:29.670Z"
   },
   {
    "duration": 270,
    "start_time": "2025-08-19T15:13:29.700Z"
   },
   {
    "duration": 27,
    "start_time": "2025-08-19T15:13:29.974Z"
   },
   {
    "duration": 868,
    "start_time": "2025-08-19T15:13:30.005Z"
   },
   {
    "duration": 30,
    "start_time": "2025-08-19T15:13:30.876Z"
   },
   {
    "duration": 482,
    "start_time": "2025-08-19T15:13:30.908Z"
   },
   {
    "duration": 1698,
    "start_time": "2025-08-19T15:15:55.309Z"
   },
   {
    "duration": 1207,
    "start_time": "2025-08-19T15:15:57.010Z"
   },
   {
    "duration": 25,
    "start_time": "2025-08-19T15:15:58.219Z"
   },
   {
    "duration": 94,
    "start_time": "2025-08-19T15:15:58.246Z"
   },
   {
    "duration": 192,
    "start_time": "2025-08-19T15:15:58.342Z"
   },
   {
    "duration": 211,
    "start_time": "2025-08-19T15:15:58.536Z"
   },
   {
    "duration": 41,
    "start_time": "2025-08-19T15:15:58.749Z"
   },
   {
    "duration": 442,
    "start_time": "2025-08-19T15:15:58.793Z"
   },
   {
    "duration": 546,
    "start_time": "2025-08-19T15:15:59.237Z"
   },
   {
    "duration": 1591,
    "start_time": "2025-08-19T15:15:59.787Z"
   },
   {
    "duration": 1048,
    "start_time": "2025-08-19T15:16:01.380Z"
   },
   {
    "duration": 45,
    "start_time": "2025-08-19T15:16:02.430Z"
   },
   {
    "duration": 293,
    "start_time": "2025-08-19T15:16:02.477Z"
   },
   {
    "duration": 32,
    "start_time": "2025-08-19T15:16:02.773Z"
   },
   {
    "duration": 840,
    "start_time": "2025-08-19T15:16:02.807Z"
   },
   {
    "duration": 35,
    "start_time": "2025-08-19T15:16:03.650Z"
   },
   {
    "duration": 498,
    "start_time": "2025-08-19T15:16:03.687Z"
   },
   {
    "duration": 1746,
    "start_time": "2025-08-19T15:16:41.803Z"
   },
   {
    "duration": 1272,
    "start_time": "2025-08-19T15:16:43.551Z"
   },
   {
    "duration": 42,
    "start_time": "2025-08-19T15:16:44.825Z"
   },
   {
    "duration": 92,
    "start_time": "2025-08-19T15:16:44.870Z"
   },
   {
    "duration": 190,
    "start_time": "2025-08-19T15:16:44.966Z"
   },
   {
    "duration": 216,
    "start_time": "2025-08-19T15:16:45.161Z"
   },
   {
    "duration": 42,
    "start_time": "2025-08-19T15:16:45.380Z"
   },
   {
    "duration": 464,
    "start_time": "2025-08-19T15:16:45.425Z"
   },
   {
    "duration": 549,
    "start_time": "2025-08-19T15:16:45.891Z"
   },
   {
    "duration": 1593,
    "start_time": "2025-08-19T15:16:46.442Z"
   },
   {
    "duration": 1036,
    "start_time": "2025-08-19T15:16:48.038Z"
   },
   {
    "duration": 30,
    "start_time": "2025-08-19T15:16:49.076Z"
   },
   {
    "duration": 272,
    "start_time": "2025-08-19T15:16:49.108Z"
   },
   {
    "duration": 22,
    "start_time": "2025-08-19T15:16:49.383Z"
   },
   {
    "duration": 838,
    "start_time": "2025-08-19T15:16:49.408Z"
   },
   {
    "duration": 36,
    "start_time": "2025-08-19T15:16:50.248Z"
   },
   {
    "duration": 495,
    "start_time": "2025-08-19T15:16:50.286Z"
   },
   {
    "duration": 1665,
    "start_time": "2025-08-19T15:17:41.723Z"
   },
   {
    "duration": 1128,
    "start_time": "2025-08-19T15:17:43.391Z"
   },
   {
    "duration": 23,
    "start_time": "2025-08-19T15:17:44.522Z"
   },
   {
    "duration": 125,
    "start_time": "2025-08-19T15:17:44.547Z"
   },
   {
    "duration": 193,
    "start_time": "2025-08-19T15:17:44.676Z"
   },
   {
    "duration": 215,
    "start_time": "2025-08-19T15:17:44.872Z"
   },
   {
    "duration": 38,
    "start_time": "2025-08-19T15:17:45.089Z"
   },
   {
    "duration": 504,
    "start_time": "2025-08-19T15:17:45.129Z"
   },
   {
    "duration": 559,
    "start_time": "2025-08-19T15:17:45.635Z"
   },
   {
    "duration": 1592,
    "start_time": "2025-08-19T15:17:46.197Z"
   },
   {
    "duration": 1002,
    "start_time": "2025-08-19T15:17:47.792Z"
   },
   {
    "duration": 32,
    "start_time": "2025-08-19T15:17:48.796Z"
   },
   {
    "duration": 309,
    "start_time": "2025-08-19T15:17:48.830Z"
   },
   {
    "duration": 35,
    "start_time": "2025-08-19T15:17:49.142Z"
   },
   {
    "duration": 774,
    "start_time": "2025-08-19T15:17:49.179Z"
   },
   {
    "duration": 37,
    "start_time": "2025-08-19T15:17:49.955Z"
   },
   {
    "duration": 505,
    "start_time": "2025-08-19T15:17:49.994Z"
   },
   {
    "duration": 1723,
    "start_time": "2025-08-19T15:18:16.778Z"
   },
   {
    "duration": 1146,
    "start_time": "2025-08-19T15:18:18.503Z"
   },
   {
    "duration": 30,
    "start_time": "2025-08-19T15:18:19.652Z"
   },
   {
    "duration": 100,
    "start_time": "2025-08-19T15:18:19.684Z"
   },
   {
    "duration": 186,
    "start_time": "2025-08-19T15:18:19.787Z"
   },
   {
    "duration": 205,
    "start_time": "2025-08-19T15:18:19.975Z"
   },
   {
    "duration": 37,
    "start_time": "2025-08-19T15:18:20.182Z"
   },
   {
    "duration": 414,
    "start_time": "2025-08-19T15:18:20.221Z"
   },
   {
    "duration": 549,
    "start_time": "2025-08-19T15:18:20.637Z"
   },
   {
    "duration": 1555,
    "start_time": "2025-08-19T15:18:21.189Z"
   },
   {
    "duration": 1016,
    "start_time": "2025-08-19T15:18:22.746Z"
   },
   {
    "duration": 30,
    "start_time": "2025-08-19T15:18:23.764Z"
   },
   {
    "duration": 273,
    "start_time": "2025-08-19T15:18:23.796Z"
   },
   {
    "duration": 22,
    "start_time": "2025-08-19T15:18:24.072Z"
   },
   {
    "duration": 967,
    "start_time": "2025-08-19T15:18:24.097Z"
   },
   {
    "duration": 29,
    "start_time": "2025-08-19T15:18:25.067Z"
   },
   {
    "duration": 602,
    "start_time": "2025-08-19T15:18:25.098Z"
   },
   {
    "duration": 2040,
    "start_time": "2025-08-19T15:22:30.828Z"
   },
   {
    "duration": 1198,
    "start_time": "2025-08-19T15:22:32.871Z"
   },
   {
    "duration": 25,
    "start_time": "2025-08-19T15:22:34.071Z"
   },
   {
    "duration": 111,
    "start_time": "2025-08-19T15:22:34.099Z"
   },
   {
    "duration": 190,
    "start_time": "2025-08-19T15:22:34.214Z"
   },
   {
    "duration": 204,
    "start_time": "2025-08-19T15:22:34.407Z"
   },
   {
    "duration": 57,
    "start_time": "2025-08-19T15:22:34.614Z"
   },
   {
    "duration": 440,
    "start_time": "2025-08-19T15:22:34.673Z"
   },
   {
    "duration": 573,
    "start_time": "2025-08-19T15:22:35.115Z"
   },
   {
    "duration": 1682,
    "start_time": "2025-08-19T15:22:35.690Z"
   },
   {
    "duration": 1132,
    "start_time": "2025-08-19T15:22:37.374Z"
   },
   {
    "duration": 31,
    "start_time": "2025-08-19T15:22:38.508Z"
   },
   {
    "duration": 281,
    "start_time": "2025-08-19T15:22:38.561Z"
   },
   {
    "duration": 34,
    "start_time": "2025-08-19T15:22:38.846Z"
   },
   {
    "duration": 848,
    "start_time": "2025-08-19T15:22:38.882Z"
   },
   {
    "duration": 50,
    "start_time": "2025-08-19T15:22:39.733Z"
   },
   {
    "duration": 509,
    "start_time": "2025-08-19T15:22:39.785Z"
   },
   {
    "duration": 1688,
    "start_time": "2025-08-19T15:23:32.898Z"
   },
   {
    "duration": 1245,
    "start_time": "2025-08-19T15:23:34.589Z"
   },
   {
    "duration": 39,
    "start_time": "2025-08-19T15:23:35.836Z"
   },
   {
    "duration": 94,
    "start_time": "2025-08-19T15:23:35.877Z"
   },
   {
    "duration": 192,
    "start_time": "2025-08-19T15:23:35.976Z"
   },
   {
    "duration": 211,
    "start_time": "2025-08-19T15:23:36.170Z"
   },
   {
    "duration": 39,
    "start_time": "2025-08-19T15:23:36.383Z"
   },
   {
    "duration": 445,
    "start_time": "2025-08-19T15:23:36.424Z"
   },
   {
    "duration": 565,
    "start_time": "2025-08-19T15:23:36.871Z"
   },
   {
    "duration": 1604,
    "start_time": "2025-08-19T15:23:37.438Z"
   },
   {
    "duration": 1008,
    "start_time": "2025-08-19T15:23:39.046Z"
   },
   {
    "duration": 29,
    "start_time": "2025-08-19T15:23:40.061Z"
   },
   {
    "duration": 275,
    "start_time": "2025-08-19T15:23:40.093Z"
   },
   {
    "duration": 21,
    "start_time": "2025-08-19T15:23:40.371Z"
   },
   {
    "duration": 893,
    "start_time": "2025-08-19T15:23:40.394Z"
   },
   {
    "duration": 32,
    "start_time": "2025-08-19T15:23:41.289Z"
   },
   {
    "duration": 501,
    "start_time": "2025-08-19T15:23:41.323Z"
   },
   {
    "duration": 1927,
    "start_time": "2025-08-19T15:25:46.063Z"
   },
   {
    "duration": 1330,
    "start_time": "2025-08-19T15:25:47.993Z"
   },
   {
    "duration": 35,
    "start_time": "2025-08-19T15:25:49.325Z"
   },
   {
    "duration": 98,
    "start_time": "2025-08-19T15:25:49.363Z"
   },
   {
    "duration": 193,
    "start_time": "2025-08-19T15:25:49.464Z"
   },
   {
    "duration": 204,
    "start_time": "2025-08-19T15:25:49.659Z"
   },
   {
    "duration": 38,
    "start_time": "2025-08-19T15:25:49.866Z"
   },
   {
    "duration": 435,
    "start_time": "2025-08-19T15:25:49.906Z"
   },
   {
    "duration": 556,
    "start_time": "2025-08-19T15:25:50.344Z"
   },
   {
    "duration": 1577,
    "start_time": "2025-08-19T15:25:50.903Z"
   },
   {
    "duration": 1022,
    "start_time": "2025-08-19T15:25:52.482Z"
   },
   {
    "duration": 24,
    "start_time": "2025-08-19T15:25:53.506Z"
   },
   {
    "duration": 271,
    "start_time": "2025-08-19T15:25:53.532Z"
   },
   {
    "duration": 23,
    "start_time": "2025-08-19T15:25:53.806Z"
   },
   {
    "duration": 823,
    "start_time": "2025-08-19T15:25:53.831Z"
   },
   {
    "duration": 33,
    "start_time": "2025-08-19T15:25:54.657Z"
   },
   {
    "duration": 498,
    "start_time": "2025-08-19T15:25:54.692Z"
   },
   {
    "duration": 1701,
    "start_time": "2025-08-19T15:27:17.579Z"
   },
   {
    "duration": 1245,
    "start_time": "2025-08-19T15:27:19.282Z"
   },
   {
    "duration": 33,
    "start_time": "2025-08-19T15:27:20.529Z"
   },
   {
    "duration": 97,
    "start_time": "2025-08-19T15:27:20.564Z"
   },
   {
    "duration": 188,
    "start_time": "2025-08-19T15:27:20.664Z"
   },
   {
    "duration": 202,
    "start_time": "2025-08-19T15:27:20.855Z"
   },
   {
    "duration": 38,
    "start_time": "2025-08-19T15:27:21.058Z"
   },
   {
    "duration": 550,
    "start_time": "2025-08-19T15:27:21.098Z"
   },
   {
    "duration": 536,
    "start_time": "2025-08-19T15:27:21.660Z"
   },
   {
    "duration": 1570,
    "start_time": "2025-08-19T15:27:22.198Z"
   },
   {
    "duration": 1012,
    "start_time": "2025-08-19T15:27:23.771Z"
   },
   {
    "duration": 29,
    "start_time": "2025-08-19T15:27:24.786Z"
   },
   {
    "duration": 301,
    "start_time": "2025-08-19T15:27:24.818Z"
   },
   {
    "duration": 21,
    "start_time": "2025-08-19T15:27:25.122Z"
   },
   {
    "duration": 929,
    "start_time": "2025-08-19T15:27:25.160Z"
   },
   {
    "duration": 31,
    "start_time": "2025-08-19T15:27:26.092Z"
   },
   {
    "duration": 464,
    "start_time": "2025-08-19T15:27:26.125Z"
   },
   {
    "duration": 1146,
    "start_time": "2025-08-19T15:28:13.221Z"
   },
   {
    "duration": 1809,
    "start_time": "2025-08-19T15:28:43.577Z"
   },
   {
    "duration": 1325,
    "start_time": "2025-08-19T15:28:45.389Z"
   },
   {
    "duration": 28,
    "start_time": "2025-08-19T15:28:46.717Z"
   },
   {
    "duration": 93,
    "start_time": "2025-08-19T15:28:46.747Z"
   },
   {
    "duration": 237,
    "start_time": "2025-08-19T15:28:46.843Z"
   },
   {
    "duration": 213,
    "start_time": "2025-08-19T15:28:47.083Z"
   },
   {
    "duration": 64,
    "start_time": "2025-08-19T15:28:47.298Z"
   },
   {
    "duration": 462,
    "start_time": "2025-08-19T15:28:47.365Z"
   },
   {
    "duration": 631,
    "start_time": "2025-08-19T15:28:47.830Z"
   },
   {
    "duration": 1705,
    "start_time": "2025-08-19T15:28:48.463Z"
   },
   {
    "duration": 1099,
    "start_time": "2025-08-19T15:28:50.170Z"
   },
   {
    "duration": 32,
    "start_time": "2025-08-19T15:28:51.271Z"
   },
   {
    "duration": 286,
    "start_time": "2025-08-19T15:28:51.305Z"
   },
   {
    "duration": 23,
    "start_time": "2025-08-19T15:28:51.595Z"
   },
   {
    "duration": 906,
    "start_time": "2025-08-19T15:28:51.621Z"
   },
   {
    "duration": 42,
    "start_time": "2025-08-19T15:28:52.529Z"
   },
   {
    "duration": 558,
    "start_time": "2025-08-19T15:28:52.574Z"
   },
   {
    "duration": 3238,
    "start_time": "2025-08-20T06:07:30.143Z"
   },
   {
    "duration": 1095,
    "start_time": "2025-08-20T06:07:33.382Z"
   },
   {
    "duration": 20,
    "start_time": "2025-08-20T06:07:34.479Z"
   },
   {
    "duration": 87,
    "start_time": "2025-08-20T06:07:34.501Z"
   },
   {
    "duration": 158,
    "start_time": "2025-08-20T06:07:34.591Z"
   },
   {
    "duration": 166,
    "start_time": "2025-08-20T06:07:34.751Z"
   },
   {
    "duration": 34,
    "start_time": "2025-08-20T06:07:34.919Z"
   },
   {
    "duration": 331,
    "start_time": "2025-08-20T06:07:34.955Z"
   },
   {
    "duration": 420,
    "start_time": "2025-08-20T06:07:35.288Z"
   },
   {
    "duration": 1219,
    "start_time": "2025-08-20T06:07:35.710Z"
   },
   {
    "duration": 797,
    "start_time": "2025-08-20T06:07:36.931Z"
   },
   {
    "duration": 20,
    "start_time": "2025-08-20T06:07:37.729Z"
   },
   {
    "duration": 265,
    "start_time": "2025-08-20T06:07:37.751Z"
   },
   {
    "duration": 15,
    "start_time": "2025-08-20T06:07:38.018Z"
   },
   {
    "duration": 804,
    "start_time": "2025-08-20T06:07:38.034Z"
   },
   {
    "duration": 24,
    "start_time": "2025-08-20T06:07:38.840Z"
   },
   {
    "duration": 380,
    "start_time": "2025-08-20T06:07:38.876Z"
   },
   {
    "duration": 3110,
    "start_time": "2025-08-20T06:12:40.778Z"
   },
   {
    "duration": 1050,
    "start_time": "2025-08-20T06:12:43.890Z"
   },
   {
    "duration": 18,
    "start_time": "2025-08-20T06:12:44.941Z"
   },
   {
    "duration": 76,
    "start_time": "2025-08-20T06:12:44.961Z"
   },
   {
    "duration": 154,
    "start_time": "2025-08-20T06:12:45.039Z"
   },
   {
    "duration": 157,
    "start_time": "2025-08-20T06:12:45.194Z"
   },
   {
    "duration": 44,
    "start_time": "2025-08-20T06:12:45.352Z"
   },
   {
    "duration": 372,
    "start_time": "2025-08-20T06:12:45.397Z"
   },
   {
    "duration": 433,
    "start_time": "2025-08-20T06:12:45.771Z"
   },
   {
    "duration": 1224,
    "start_time": "2025-08-20T06:12:46.206Z"
   },
   {
    "duration": 840,
    "start_time": "2025-08-20T06:12:47.432Z"
   },
   {
    "duration": 22,
    "start_time": "2025-08-20T06:12:48.274Z"
   },
   {
    "duration": 220,
    "start_time": "2025-08-20T06:12:48.298Z"
   },
   {
    "duration": 17,
    "start_time": "2025-08-20T06:12:48.520Z"
   },
   {
    "duration": 712,
    "start_time": "2025-08-20T06:12:48.538Z"
   },
   {
    "duration": 32,
    "start_time": "2025-08-20T06:12:49.252Z"
   },
   {
    "duration": 379,
    "start_time": "2025-08-20T06:12:49.286Z"
   },
   {
    "duration": 334,
    "start_time": "2025-08-20T06:16:11.665Z"
   },
   {
    "duration": 81,
    "start_time": "2025-08-20T17:26:52.864Z"
   },
   {
    "duration": 1707,
    "start_time": "2025-08-20T17:30:31.919Z"
   },
   {
    "duration": 1163,
    "start_time": "2025-08-20T17:30:33.628Z"
   },
   {
    "duration": 23,
    "start_time": "2025-08-20T17:30:34.792Z"
   },
   {
    "duration": 100,
    "start_time": "2025-08-20T17:30:34.816Z"
   },
   {
    "duration": 173,
    "start_time": "2025-08-20T17:30:34.918Z"
   },
   {
    "duration": 183,
    "start_time": "2025-08-20T17:30:35.093Z"
   },
   {
    "duration": 39,
    "start_time": "2025-08-20T17:30:35.277Z"
   },
   {
    "duration": 373,
    "start_time": "2025-08-20T17:30:35.319Z"
   },
   {
    "duration": 499,
    "start_time": "2025-08-20T17:30:35.695Z"
   },
   {
    "duration": 1345,
    "start_time": "2025-08-20T17:30:36.196Z"
   },
   {
    "duration": 916,
    "start_time": "2025-08-20T17:30:37.543Z"
   },
   {
    "duration": 38,
    "start_time": "2025-08-20T17:30:38.461Z"
   },
   {
    "duration": 224,
    "start_time": "2025-08-20T17:30:38.501Z"
   },
   {
    "duration": 20,
    "start_time": "2025-08-20T17:30:38.727Z"
   },
   {
    "duration": 874,
    "start_time": "2025-08-20T17:30:38.749Z"
   },
   {
    "duration": 27,
    "start_time": "2025-08-20T17:30:39.625Z"
   },
   {
    "duration": 433,
    "start_time": "2025-08-20T17:30:39.654Z"
   },
   {
    "duration": 1579,
    "start_time": "2025-08-20T17:32:40.873Z"
   },
   {
    "duration": 903,
    "start_time": "2025-08-20T17:32:42.454Z"
   },
   {
    "duration": 19,
    "start_time": "2025-08-20T17:32:43.359Z"
   },
   {
    "duration": 76,
    "start_time": "2025-08-20T17:32:43.390Z"
   },
   {
    "duration": 178,
    "start_time": "2025-08-20T17:32:43.469Z"
   },
   {
    "duration": 174,
    "start_time": "2025-08-20T17:32:43.649Z"
   },
   {
    "duration": 33,
    "start_time": "2025-08-20T17:32:43.825Z"
   },
   {
    "duration": 446,
    "start_time": "2025-08-20T17:32:43.860Z"
   },
   {
    "duration": 514,
    "start_time": "2025-08-20T17:32:44.308Z"
   },
   {
    "duration": 1390,
    "start_time": "2025-08-20T17:32:44.824Z"
   },
   {
    "duration": 904,
    "start_time": "2025-08-20T17:32:46.217Z"
   },
   {
    "duration": 23,
    "start_time": "2025-08-20T17:32:47.123Z"
   },
   {
    "duration": 316,
    "start_time": "2025-08-20T17:32:47.148Z"
   },
   {
    "duration": 32,
    "start_time": "2025-08-20T17:32:47.466Z"
   },
   {
    "duration": 733,
    "start_time": "2025-08-20T17:32:47.500Z"
   },
   {
    "duration": 26,
    "start_time": "2025-08-20T17:32:48.235Z"
   },
   {
    "duration": 423,
    "start_time": "2025-08-20T17:32:48.263Z"
   },
   {
    "duration": 1484,
    "start_time": "2025-08-20T17:33:39.341Z"
   },
   {
    "duration": 1389,
    "start_time": "2025-08-20T17:33:40.826Z"
   },
   {
    "duration": 20,
    "start_time": "2025-08-20T17:33:42.217Z"
   },
   {
    "duration": 106,
    "start_time": "2025-08-20T17:33:42.238Z"
   },
   {
    "duration": 175,
    "start_time": "2025-08-20T17:33:42.346Z"
   },
   {
    "duration": 168,
    "start_time": "2025-08-20T17:33:42.523Z"
   },
   {
    "duration": 34,
    "start_time": "2025-08-20T17:33:42.693Z"
   },
   {
    "duration": 370,
    "start_time": "2025-08-20T17:33:42.728Z"
   },
   {
    "duration": 490,
    "start_time": "2025-08-20T17:33:43.100Z"
   },
   {
    "duration": 1386,
    "start_time": "2025-08-20T17:33:43.592Z"
   },
   {
    "duration": 949,
    "start_time": "2025-08-20T17:33:44.980Z"
   },
   {
    "duration": 24,
    "start_time": "2025-08-20T17:33:45.930Z"
   },
   {
    "duration": 328,
    "start_time": "2025-08-20T17:33:45.956Z"
   },
   {
    "duration": 17,
    "start_time": "2025-08-20T17:33:46.290Z"
   },
   {
    "duration": 726,
    "start_time": "2025-08-20T17:33:46.309Z"
   },
   {
    "duration": 26,
    "start_time": "2025-08-20T17:33:47.037Z"
   },
   {
    "duration": 439,
    "start_time": "2025-08-20T17:33:47.064Z"
   },
   {
    "duration": 1569,
    "start_time": "2025-08-20T17:35:36.872Z"
   },
   {
    "duration": 1024,
    "start_time": "2025-08-20T17:35:38.443Z"
   },
   {
    "duration": 29,
    "start_time": "2025-08-20T17:35:39.469Z"
   },
   {
    "duration": 108,
    "start_time": "2025-08-20T17:35:39.499Z"
   },
   {
    "duration": 164,
    "start_time": "2025-08-20T17:35:39.610Z"
   },
   {
    "duration": 170,
    "start_time": "2025-08-20T17:35:39.776Z"
   },
   {
    "duration": 42,
    "start_time": "2025-08-20T17:35:39.948Z"
   },
   {
    "duration": 389,
    "start_time": "2025-08-20T17:35:39.992Z"
   },
   {
    "duration": 478,
    "start_time": "2025-08-20T17:35:40.382Z"
   },
   {
    "duration": 1328,
    "start_time": "2025-08-20T17:35:40.861Z"
   },
   {
    "duration": 868,
    "start_time": "2025-08-20T17:35:42.191Z"
   },
   {
    "duration": 36,
    "start_time": "2025-08-20T17:35:43.060Z"
   },
   {
    "duration": 219,
    "start_time": "2025-08-20T17:35:43.098Z"
   },
   {
    "duration": 17,
    "start_time": "2025-08-20T17:35:43.319Z"
   },
   {
    "duration": 756,
    "start_time": "2025-08-20T17:35:43.337Z"
   },
   {
    "duration": 30,
    "start_time": "2025-08-20T17:35:44.095Z"
   },
   {
    "duration": 467,
    "start_time": "2025-08-20T17:35:44.127Z"
   },
   {
    "duration": 106,
    "start_time": "2025-08-20T17:36:14.115Z"
   },
   {
    "duration": 1465,
    "start_time": "2025-08-20T17:37:18.125Z"
   },
   {
    "duration": 1170,
    "start_time": "2025-08-20T17:37:19.592Z"
   },
   {
    "duration": 26,
    "start_time": "2025-08-20T17:37:20.764Z"
   },
   {
    "duration": 107,
    "start_time": "2025-08-20T17:37:20.791Z"
   },
   {
    "duration": 160,
    "start_time": "2025-08-20T17:37:20.900Z"
   },
   {
    "duration": 157,
    "start_time": "2025-08-20T17:37:21.062Z"
   },
   {
    "duration": 31,
    "start_time": "2025-08-20T17:37:21.221Z"
   },
   {
    "duration": 403,
    "start_time": "2025-08-20T17:37:21.254Z"
   },
   {
    "duration": 478,
    "start_time": "2025-08-20T17:37:21.659Z"
   },
   {
    "duration": 1300,
    "start_time": "2025-08-20T17:37:22.139Z"
   },
   {
    "duration": 874,
    "start_time": "2025-08-20T17:37:23.441Z"
   },
   {
    "duration": 25,
    "start_time": "2025-08-20T17:37:24.317Z"
   },
   {
    "duration": 230,
    "start_time": "2025-08-20T17:37:24.344Z"
   },
   {
    "duration": 27,
    "start_time": "2025-08-20T17:37:24.577Z"
   },
   {
    "duration": 750,
    "start_time": "2025-08-20T17:37:24.606Z"
   },
   {
    "duration": 37,
    "start_time": "2025-08-20T17:37:25.358Z"
   },
   {
    "duration": 397,
    "start_time": "2025-08-20T17:37:25.397Z"
   }
  ],
  "colab": {
   "provenance": []
  },
  "kernelspec": {
   "display_name": "Python 3 (ipykernel)",
   "language": "python",
   "name": "python3"
  },
  "language_info": {
   "codemirror_mode": {
    "name": "ipython",
    "version": 3
   },
   "file_extension": ".py",
   "mimetype": "text/x-python",
   "name": "python",
   "nbconvert_exporter": "python",
   "pygments_lexer": "ipython3",
   "version": "3.9.7"
  },
  "toc": {
   "base_numbering": 1,
   "nav_menu": {},
   "number_sections": true,
   "sideBar": true,
   "skip_h1_title": true,
   "title_cell": "Table of Contents",
   "title_sidebar": "Contents",
   "toc_cell": false,
   "toc_position": {
    "height": "calc(100% - 180px)",
    "left": "10px",
    "top": "150px",
    "width": "409.600006px"
   },
   "toc_section_display": true,
   "toc_window_display": true
  }
 },
 "nbformat": 4,
 "nbformat_minor": 5
}
