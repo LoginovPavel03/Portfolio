{
 "cells": [
  {
   "cell_type": "markdown",
   "metadata": {
    "id": "u98L9TgH0eMk"
   },
   "source": [
    "# Разработка A/B-тестирования и анализ результатов\n",
    "\n",
    "- Автор: Логинов Павел Александрович\n",
    "- Дата: 19.04.2025"
   ]
  },
  {
   "cell_type": "markdown",
   "metadata": {
    "id": "LJBRALHs0eMf"
   },
   "source": [
    "## Описание данных\n",
    "\n",
    "Таблицы:\n",
    "\n",
    "- `sessions_project_history.csv` — таблица с историческими данными по сессиям пользователей на период с 2025-08-15 по 2025-09-23. Путь к файлу: `/datasets/sessions_project_history.csv`.\n",
    "\n",
    "- `sessions_project_test_part.csv` — таблица с данными за первый день проведения A/B-теста, то есть за 2025-10-14. Путь к файлу: `/datasets/sessions_project_test_part.csv`.\n",
    "\n",
    "- `sessions_project_test.csv` — таблица с данными за весь период проведения A/B-теста, то есть с 2025-10-14 по 2025-11-02. Путь к файлу: `/datasets/sessions_project_test.csv`.\n",
    "\n",
    "У этих таблиц почти совпадает структура и содержание колонок, различаются лишь периоды наблюдения.\n",
    "\n",
    "Поля таблиц `sessions_project_history.csv`, `sessions_project_test.csv`, `sessions_project_test_part.csv`:\n",
    "\n",
    "- `user_id` — идентификатор пользователя;\n",
    "\n",
    "- `session_id` — идентификатор сессии в приложении;\n",
    "\n",
    "- `session_date` — дата сессии;\n",
    "\n",
    "- `session_start_ts` — дата и время начала сессии;\n",
    "\n",
    "- `install_date` — дата установки приложения;\n",
    "\n",
    "- `session_number` — порядковый номер сессии для конкретного пользователя;\n",
    "\n",
    "- `registration_flag` — является ли пользователь зарегистрированным;\n",
    "\n",
    "- `page_counter` — количество просмотренных страниц во время сессии;\n",
    "\n",
    "- `region` — регион пользователя;\n",
    "\n",
    "- `device` — тип устройства пользователя;\n",
    "\n",
    "- `test_group` — тестовая группа (в таблице с историческими данными этого столбца нет)."
   ]
  },
  {
   "cell_type": "markdown",
   "metadata": {
    "id": "UpOucjID0eMl"
   },
   "source": [
    "### 1. Работа с историческими данными (EDA)"
   ]
  },
  {
   "cell_type": "markdown",
   "metadata": {
    "id": "8iJMtL-30eMl"
   },
   "source": [
    "#### 1.1. Загрузка исторических данных"
   ]
  },
  {
   "cell_type": "markdown",
   "metadata": {},
   "source": [
    "Начнём с загрузки библиотеки `pandas` (для работы со структурированными табличными данными), `matplotlib` (для визуализации данных), `NormalIndPower` (для вычисления статистической мощности z-теста для двух независимых выборок), `ceil` (для округления чисел до ближайшего целого значения в большую сторону), `ttest_ind` (для проведения статистического t-теста с двумя выборками), `proportions_ztest` (для проведения статистического Z-теста пропорций с двумя выборками) и датасета `sessions_project_history.csv`. Данные датасета сохраним в переменной `sessions_history`"
   ]
  },
  {
   "cell_type": "code",
   "execution_count": 1,
   "metadata": {
    "id": "6TPR2-1RPboT"
   },
   "outputs": [],
   "source": [
    "# Импортируем библиотеки\n",
    "\n",
    "import pandas as pd\n",
    "import matplotlib.pyplot as plt\n",
    "from statsmodels.stats.power import NormalIndPower\n",
    "from math import ceil\n",
    "from scipy.stats import ttest_ind\n",
    "from statsmodels.stats.proportion import proportions_ztest"
   ]
  },
  {
   "cell_type": "code",
   "execution_count": 2,
   "metadata": {},
   "outputs": [],
   "source": [
    "# Выгружаем данные в переменную\n",
    "try:\n",
    "    sessions_history = pd.read_csv('C:/Users/Student/Desktop/sessions_project_history.csv')\n",
    "except:\n",
    "    sessions_history = pd.read_csv('https://code.s3.yandex.net/datasets/sessions_project_history.csv')"
   ]
  },
  {
   "cell_type": "markdown",
   "metadata": {},
   "source": [
    "Познакомимся с данными датасета `sessions_project_history.csv` — выведем первые строки методом `head()`, а информацию о датафрейме методом `info()`:"
   ]
  },
  {
   "cell_type": "code",
   "execution_count": 3,
   "metadata": {},
   "outputs": [
    {
     "data": {
      "text/html": [
       "<div>\n",
       "<style scoped>\n",
       "    .dataframe tbody tr th:only-of-type {\n",
       "        vertical-align: middle;\n",
       "    }\n",
       "\n",
       "    .dataframe tbody tr th {\n",
       "        vertical-align: top;\n",
       "    }\n",
       "\n",
       "    .dataframe thead th {\n",
       "        text-align: right;\n",
       "    }\n",
       "</style>\n",
       "<table border=\"1\" class=\"dataframe\">\n",
       "  <thead>\n",
       "    <tr style=\"text-align: right;\">\n",
       "      <th></th>\n",
       "      <th>user_id</th>\n",
       "      <th>session_id</th>\n",
       "      <th>session_date</th>\n",
       "      <th>session_start_ts</th>\n",
       "      <th>install_date</th>\n",
       "      <th>session_number</th>\n",
       "      <th>registration_flag</th>\n",
       "      <th>page_counter</th>\n",
       "      <th>region</th>\n",
       "      <th>device</th>\n",
       "    </tr>\n",
       "  </thead>\n",
       "  <tbody>\n",
       "    <tr>\n",
       "      <th>0</th>\n",
       "      <td>E302123B7000BFE4</td>\n",
       "      <td>F9AF61A0C2023832</td>\n",
       "      <td>2025-08-15</td>\n",
       "      <td>2025-08-15 17:47:35</td>\n",
       "      <td>2025-08-15</td>\n",
       "      <td>1</td>\n",
       "      <td>0</td>\n",
       "      <td>3</td>\n",
       "      <td>CIS</td>\n",
       "      <td>iPhone</td>\n",
       "    </tr>\n",
       "    <tr>\n",
       "      <th>1</th>\n",
       "      <td>2530F72E221829FB</td>\n",
       "      <td>85003A206CBDAC6F</td>\n",
       "      <td>2025-08-15</td>\n",
       "      <td>2025-08-15 16:42:14</td>\n",
       "      <td>2025-08-15</td>\n",
       "      <td>1</td>\n",
       "      <td>0</td>\n",
       "      <td>4</td>\n",
       "      <td>MENA</td>\n",
       "      <td>Android</td>\n",
       "    </tr>\n",
       "    <tr>\n",
       "      <th>2</th>\n",
       "      <td>876E020A4FC512F5</td>\n",
       "      <td>3677423E49D72DEE</td>\n",
       "      <td>2025-08-15</td>\n",
       "      <td>2025-08-15 12:30:00</td>\n",
       "      <td>2025-08-15</td>\n",
       "      <td>1</td>\n",
       "      <td>0</td>\n",
       "      <td>4</td>\n",
       "      <td>EU</td>\n",
       "      <td>PC</td>\n",
       "    </tr>\n",
       "    <tr>\n",
       "      <th>3</th>\n",
       "      <td>2640B349E1D81584</td>\n",
       "      <td>956B45F5915CA225</td>\n",
       "      <td>2025-08-15</td>\n",
       "      <td>2025-08-15 15:31:31</td>\n",
       "      <td>2025-08-15</td>\n",
       "      <td>1</td>\n",
       "      <td>0</td>\n",
       "      <td>4</td>\n",
       "      <td>CIS</td>\n",
       "      <td>Android</td>\n",
       "    </tr>\n",
       "    <tr>\n",
       "      <th>4</th>\n",
       "      <td>94E1CBFAEF1F5EE9</td>\n",
       "      <td>83BF0DA35F9F1F40</td>\n",
       "      <td>2025-08-15</td>\n",
       "      <td>2025-08-15 21:33:53</td>\n",
       "      <td>2025-08-15</td>\n",
       "      <td>1</td>\n",
       "      <td>0</td>\n",
       "      <td>3</td>\n",
       "      <td>CIS</td>\n",
       "      <td>Android</td>\n",
       "    </tr>\n",
       "  </tbody>\n",
       "</table>\n",
       "</div>"
      ],
      "text/plain": [
       "            user_id        session_id session_date     session_start_ts  \\\n",
       "0  E302123B7000BFE4  F9AF61A0C2023832   2025-08-15  2025-08-15 17:47:35   \n",
       "1  2530F72E221829FB  85003A206CBDAC6F   2025-08-15  2025-08-15 16:42:14   \n",
       "2  876E020A4FC512F5  3677423E49D72DEE   2025-08-15  2025-08-15 12:30:00   \n",
       "3  2640B349E1D81584  956B45F5915CA225   2025-08-15  2025-08-15 15:31:31   \n",
       "4  94E1CBFAEF1F5EE9  83BF0DA35F9F1F40   2025-08-15  2025-08-15 21:33:53   \n",
       "\n",
       "  install_date  session_number  registration_flag  page_counter region  \\\n",
       "0   2025-08-15               1                  0             3    CIS   \n",
       "1   2025-08-15               1                  0             4   MENA   \n",
       "2   2025-08-15               1                  0             4     EU   \n",
       "3   2025-08-15               1                  0             4    CIS   \n",
       "4   2025-08-15               1                  0             3    CIS   \n",
       "\n",
       "    device  \n",
       "0   iPhone  \n",
       "1  Android  \n",
       "2       PC  \n",
       "3  Android  \n",
       "4  Android  "
      ]
     },
     "execution_count": 3,
     "metadata": {},
     "output_type": "execute_result"
    }
   ],
   "source": [
    "# Выводим первые строки датафрейма на экран\n",
    "\n",
    "sessions_history.head()"
   ]
  },
  {
   "cell_type": "code",
   "execution_count": 4,
   "metadata": {},
   "outputs": [
    {
     "name": "stdout",
     "output_type": "stream",
     "text": [
      "<class 'pandas.core.frame.DataFrame'>\n",
      "RangeIndex: 435924 entries, 0 to 435923\n",
      "Data columns (total 10 columns):\n",
      " #   Column             Non-Null Count   Dtype \n",
      "---  ------             --------------   ----- \n",
      " 0   user_id            435924 non-null  object\n",
      " 1   session_id         435924 non-null  object\n",
      " 2   session_date       435924 non-null  object\n",
      " 3   session_start_ts   435924 non-null  object\n",
      " 4   install_date       435924 non-null  object\n",
      " 5   session_number     435924 non-null  int64 \n",
      " 6   registration_flag  435924 non-null  int64 \n",
      " 7   page_counter       435924 non-null  int64 \n",
      " 8   region             435924 non-null  object\n",
      " 9   device             435924 non-null  object\n",
      "dtypes: int64(3), object(7)\n",
      "memory usage: 33.3+ MB\n"
     ]
    }
   ],
   "source": [
    "# Выводим информацию о датафрейме\n",
    "\n",
    "sessions_history.info()"
   ]
  },
  {
   "cell_type": "markdown",
   "metadata": {},
   "source": [
    "Датафрейм `sessions_history` содержит 10 столбцов и 435924 строки, в котором представлена информация о исторических данных по сессиям пользователей на период с *2025-08-15* по *2025-09-23*\n",
    "\n",
    "После первичного анализа данных можно сделать следующие выводы:\n",
    "\n",
    "- Названия столбцов приведены к единому виду\n",
    "- Все представленные данные хранятся в типах данных `object` (строковые данные) или `int64` (целочисленные значения)\n",
    "- **Строковые данные (object).** 7 столбцов имеют тип данных `object`:\n",
    "    - `user_id` — идентификатор пользователя;\n",
    "    - `session_id` — идентификатор сессии в приложении;\n",
    "    - `session_date` — дата сессии;\n",
    "    - `session_start_ts` — дата и время начала сессии;\n",
    "    - `install_date` — дата установки приложения; \n",
    "    - `region` — регион пользователя;\n",
    "    - `device` — тип устройства пользователя;\n",
    "    \n",
    "Стоит обратить внимание на тип данных столбцов `session_date`, `session_start_ts`, `install_date`, поскольку они содержат информацию о дате и времени того или иного события, но при этом обладают типом данных `object`. Поэтому приведём к более привычному виду (YYYY-MM-DD) столбцы с датами `session_date`, `session_start_ts` и `install_date`"
   ]
  },
  {
   "cell_type": "code",
   "execution_count": 5,
   "metadata": {},
   "outputs": [
    {
     "data": {
      "text/html": [
       "<div>\n",
       "<style scoped>\n",
       "    .dataframe tbody tr th:only-of-type {\n",
       "        vertical-align: middle;\n",
       "    }\n",
       "\n",
       "    .dataframe tbody tr th {\n",
       "        vertical-align: top;\n",
       "    }\n",
       "\n",
       "    .dataframe thead th {\n",
       "        text-align: right;\n",
       "    }\n",
       "</style>\n",
       "<table border=\"1\" class=\"dataframe\">\n",
       "  <thead>\n",
       "    <tr style=\"text-align: right;\">\n",
       "      <th></th>\n",
       "      <th>user_id</th>\n",
       "      <th>session_id</th>\n",
       "      <th>session_date</th>\n",
       "      <th>session_start_ts</th>\n",
       "      <th>install_date</th>\n",
       "      <th>session_number</th>\n",
       "      <th>registration_flag</th>\n",
       "      <th>page_counter</th>\n",
       "      <th>region</th>\n",
       "      <th>device</th>\n",
       "    </tr>\n",
       "  </thead>\n",
       "  <tbody>\n",
       "    <tr>\n",
       "      <th>0</th>\n",
       "      <td>E302123B7000BFE4</td>\n",
       "      <td>F9AF61A0C2023832</td>\n",
       "      <td>2025-08-15</td>\n",
       "      <td>2025-08-15 17:47:35</td>\n",
       "      <td>2025-08-15</td>\n",
       "      <td>1</td>\n",
       "      <td>0</td>\n",
       "      <td>3</td>\n",
       "      <td>CIS</td>\n",
       "      <td>iPhone</td>\n",
       "    </tr>\n",
       "    <tr>\n",
       "      <th>1</th>\n",
       "      <td>2530F72E221829FB</td>\n",
       "      <td>85003A206CBDAC6F</td>\n",
       "      <td>2025-08-15</td>\n",
       "      <td>2025-08-15 16:42:14</td>\n",
       "      <td>2025-08-15</td>\n",
       "      <td>1</td>\n",
       "      <td>0</td>\n",
       "      <td>4</td>\n",
       "      <td>MENA</td>\n",
       "      <td>Android</td>\n",
       "    </tr>\n",
       "    <tr>\n",
       "      <th>2</th>\n",
       "      <td>876E020A4FC512F5</td>\n",
       "      <td>3677423E49D72DEE</td>\n",
       "      <td>2025-08-15</td>\n",
       "      <td>2025-08-15 12:30:00</td>\n",
       "      <td>2025-08-15</td>\n",
       "      <td>1</td>\n",
       "      <td>0</td>\n",
       "      <td>4</td>\n",
       "      <td>EU</td>\n",
       "      <td>PC</td>\n",
       "    </tr>\n",
       "    <tr>\n",
       "      <th>3</th>\n",
       "      <td>2640B349E1D81584</td>\n",
       "      <td>956B45F5915CA225</td>\n",
       "      <td>2025-08-15</td>\n",
       "      <td>2025-08-15 15:31:31</td>\n",
       "      <td>2025-08-15</td>\n",
       "      <td>1</td>\n",
       "      <td>0</td>\n",
       "      <td>4</td>\n",
       "      <td>CIS</td>\n",
       "      <td>Android</td>\n",
       "    </tr>\n",
       "    <tr>\n",
       "      <th>4</th>\n",
       "      <td>94E1CBFAEF1F5EE9</td>\n",
       "      <td>83BF0DA35F9F1F40</td>\n",
       "      <td>2025-08-15</td>\n",
       "      <td>2025-08-15 21:33:53</td>\n",
       "      <td>2025-08-15</td>\n",
       "      <td>1</td>\n",
       "      <td>0</td>\n",
       "      <td>3</td>\n",
       "      <td>CIS</td>\n",
       "      <td>Android</td>\n",
       "    </tr>\n",
       "  </tbody>\n",
       "</table>\n",
       "</div>"
      ],
      "text/plain": [
       "            user_id        session_id session_date    session_start_ts  \\\n",
       "0  E302123B7000BFE4  F9AF61A0C2023832   2025-08-15 2025-08-15 17:47:35   \n",
       "1  2530F72E221829FB  85003A206CBDAC6F   2025-08-15 2025-08-15 16:42:14   \n",
       "2  876E020A4FC512F5  3677423E49D72DEE   2025-08-15 2025-08-15 12:30:00   \n",
       "3  2640B349E1D81584  956B45F5915CA225   2025-08-15 2025-08-15 15:31:31   \n",
       "4  94E1CBFAEF1F5EE9  83BF0DA35F9F1F40   2025-08-15 2025-08-15 21:33:53   \n",
       "\n",
       "  install_date  session_number  registration_flag  page_counter region  \\\n",
       "0   2025-08-15               1                  0             3    CIS   \n",
       "1   2025-08-15               1                  0             4   MENA   \n",
       "2   2025-08-15               1                  0             4     EU   \n",
       "3   2025-08-15               1                  0             4    CIS   \n",
       "4   2025-08-15               1                  0             3    CIS   \n",
       "\n",
       "    device  \n",
       "0   iPhone  \n",
       "1  Android  \n",
       "2       PC  \n",
       "3  Android  \n",
       "4  Android  "
      ]
     },
     "execution_count": 5,
     "metadata": {},
     "output_type": "execute_result"
    }
   ],
   "source": [
    "# Изменяем тип данных столбцов с информацией о дате и времени с object на datetime64\n",
    "\n",
    "sessions_history['session_date'] = pd.to_datetime(sessions_history['session_date'])\n",
    "sessions_history['session_start_ts'] = pd.to_datetime(sessions_history['session_start_ts'])\n",
    "sessions_history['install_date'] = pd.to_datetime(sessions_history['install_date'])\n",
    "sessions_history.head() "
   ]
  },
  {
   "cell_type": "markdown",
   "metadata": {},
   "source": [
    "Для остальных столбцов верно подобран строковый тип данных, поскольку отображается текстовая информация, которая не может быть представлена в числовом формате\n",
    "\n",
    "- **Числовые значения с плавающей точкой (float64).** 3 столбца имеют тип данных `float64`:\n",
    "    - `session_number` — порядковый номер сессии для конкретного пользователя;\n",
    "    - `registration_flag` — является ли пользователь зарегистрированным;\n",
    "    - `page_counter` — количество просмотренных страниц во время сессии;\n",
    "    \n",
    "Для данных столбцов верно подобран числовой тип данных с плавающей точкой, поскольку отображается информация о номере сессии, факте регистрации (0 - не зарегистрирован, 1 - зарегистрирован) и количестве просморенных страниц в числовом формате\n",
    "\n",
    "- Столбцы датафрейма не содержат пропусков\n",
    "- Судя по первому знакомству с данными, значения в столбцах соответствуют своему описанию"
   ]
  },
  {
   "cell_type": "markdown",
   "metadata": {
    "id": "qTDoiODz0eMo"
   },
   "source": [
    "#### 1.2. Знакомство с данными"
   ]
  },
  {
   "cell_type": "markdown",
   "metadata": {},
   "source": [
    "Для каждого уникального пользователя `user_id` рассчитаем количество уникальных сессий `session_id`."
   ]
  },
  {
   "cell_type": "code",
   "execution_count": 6,
   "metadata": {
    "id": "PWZO9vTIPbPN"
   },
   "outputs": [
    {
     "data": {
      "text/plain": [
       "user_id\n",
       "00005FB6A13A6FBE    2\n",
       "0000B15A18D77ED9    3\n",
       "0000C4E3A4A571A9    2\n",
       "000293FAF9E67A81    4\n",
       "00029C5AE889A6C3    2\n",
       "                   ..\n",
       "FFFCDE7746148710    4\n",
       "FFFDD413285E753F    3\n",
       "FFFECBA0F2578AB0    2\n",
       "FFFEDB68228B5F21    5\n",
       "FFFF4228DF580C3B    3\n",
       "Name: session_id, Length: 134039, dtype: int64"
      ]
     },
     "execution_count": 6,
     "metadata": {},
     "output_type": "execute_result"
    }
   ],
   "source": [
    "# Определяем количество уникальных сессий для каждого пользователя\n",
    "\n",
    "unique_session_id = sessions_history.groupby('user_id')['session_id'].nunique()\n",
    "unique_session_id"
   ]
  },
  {
   "cell_type": "markdown",
   "metadata": {},
   "source": [
    "Из предыдущей группировки уникальных сессий для каждого пользователя `unique_session_id` выделим пользователя с максимальным количеством уникальных сессий. Для этого отсортируем датафрейм `unique_session_id` по убыванию и оставим только первого пользователя"
   ]
  },
  {
   "cell_type": "code",
   "execution_count": 7,
   "metadata": {},
   "outputs": [
    {
     "data": {
      "text/plain": [
       "user_id\n",
       "10E0DEFC1ABDBBE0    10\n",
       "6A73CB5566BB494D    10\n",
       "8A60431A825D035B     9\n",
       "D11541BAC141FB94     9\n",
       "5BCFE7C4DCC148E9     9\n",
       "                    ..\n",
       "1DF13BB1953B3497     1\n",
       "628502A3CE7E0A3C     1\n",
       "1DEEF40DEFBD0C65     1\n",
       "AC08479B7472C628     1\n",
       "8A0882B6715D9EE5     1\n",
       "Name: session_id, Length: 134039, dtype: int64"
      ]
     },
     "execution_count": 7,
     "metadata": {},
     "output_type": "execute_result"
    }
   ],
   "source": [
    "# Сортируем данные по убыванию\n",
    "\n",
    "unique_session_id = unique_session_id.sort_values(ascending = False)\n",
    "unique_session_id"
   ]
  },
  {
   "cell_type": "markdown",
   "metadata": {},
   "source": [
    "Заметим, что максимальное количество уникальных сессий (10) наблюдается у двух пользователей. По условию задания необходимо изучить информацию о любом из пользователей с максимальным количеством уникальных сессий. Поэтому в качестве изучаемого пользователя возьмём данные о первом пользователе из датафрейма `unique_session_id`"
   ]
  },
  {
   "cell_type": "code",
   "execution_count": 8,
   "metadata": {},
   "outputs": [
    {
     "data": {
      "text/plain": [
       "user_id\n",
       "10E0DEFC1ABDBBE0    10\n",
       "Name: session_id, dtype: int64"
      ]
     },
     "execution_count": 8,
     "metadata": {},
     "output_type": "execute_result"
    }
   ],
   "source": [
    "# Выводим user_id пользователя с максимальным количеством уникальных сессий\n",
    "\n",
    "unique_session_id.head(1)"
   ]
  },
  {
   "cell_type": "markdown",
   "metadata": {},
   "source": [
    "Изучим таблицу c данными по сессиям этого пользователя, чтобы лучше понять логику формирования каждого столбца данных"
   ]
  },
  {
   "cell_type": "code",
   "execution_count": 9,
   "metadata": {},
   "outputs": [
    {
     "data": {
      "text/html": [
       "<div>\n",
       "<style scoped>\n",
       "    .dataframe tbody tr th:only-of-type {\n",
       "        vertical-align: middle;\n",
       "    }\n",
       "\n",
       "    .dataframe tbody tr th {\n",
       "        vertical-align: top;\n",
       "    }\n",
       "\n",
       "    .dataframe thead th {\n",
       "        text-align: right;\n",
       "    }\n",
       "</style>\n",
       "<table border=\"1\" class=\"dataframe\">\n",
       "  <thead>\n",
       "    <tr style=\"text-align: right;\">\n",
       "      <th></th>\n",
       "      <th>user_id</th>\n",
       "      <th>session_id</th>\n",
       "      <th>session_date</th>\n",
       "      <th>session_start_ts</th>\n",
       "      <th>install_date</th>\n",
       "      <th>session_number</th>\n",
       "      <th>registration_flag</th>\n",
       "      <th>page_counter</th>\n",
       "      <th>region</th>\n",
       "      <th>device</th>\n",
       "    </tr>\n",
       "  </thead>\n",
       "  <tbody>\n",
       "    <tr>\n",
       "      <th>115558</th>\n",
       "      <td>10E0DEFC1ABDBBE0</td>\n",
       "      <td>B8F0423BBFFCF5DC</td>\n",
       "      <td>2025-08-14</td>\n",
       "      <td>2025-08-14 13:57:39</td>\n",
       "      <td>2025-08-14</td>\n",
       "      <td>1</td>\n",
       "      <td>0</td>\n",
       "      <td>4</td>\n",
       "      <td>CIS</td>\n",
       "      <td>Android</td>\n",
       "    </tr>\n",
       "    <tr>\n",
       "      <th>191751</th>\n",
       "      <td>10E0DEFC1ABDBBE0</td>\n",
       "      <td>87CA2FA549473837</td>\n",
       "      <td>2025-08-15</td>\n",
       "      <td>2025-08-15 16:42:10</td>\n",
       "      <td>2025-08-14</td>\n",
       "      <td>2</td>\n",
       "      <td>0</td>\n",
       "      <td>3</td>\n",
       "      <td>CIS</td>\n",
       "      <td>Android</td>\n",
       "    </tr>\n",
       "    <tr>\n",
       "      <th>239370</th>\n",
       "      <td>10E0DEFC1ABDBBE0</td>\n",
       "      <td>4ADD8011DCDCE318</td>\n",
       "      <td>2025-08-16</td>\n",
       "      <td>2025-08-16 19:53:21</td>\n",
       "      <td>2025-08-14</td>\n",
       "      <td>3</td>\n",
       "      <td>0</td>\n",
       "      <td>3</td>\n",
       "      <td>CIS</td>\n",
       "      <td>Android</td>\n",
       "    </tr>\n",
       "    <tr>\n",
       "      <th>274629</th>\n",
       "      <td>10E0DEFC1ABDBBE0</td>\n",
       "      <td>DF0FD0E09BF1F3D7</td>\n",
       "      <td>2025-08-17</td>\n",
       "      <td>2025-08-17 15:03:43</td>\n",
       "      <td>2025-08-14</td>\n",
       "      <td>4</td>\n",
       "      <td>0</td>\n",
       "      <td>1</td>\n",
       "      <td>CIS</td>\n",
       "      <td>Android</td>\n",
       "    </tr>\n",
       "    <tr>\n",
       "      <th>302501</th>\n",
       "      <td>10E0DEFC1ABDBBE0</td>\n",
       "      <td>3C221774B4DE6885</td>\n",
       "      <td>2025-08-18</td>\n",
       "      <td>2025-08-18 17:29:14</td>\n",
       "      <td>2025-08-14</td>\n",
       "      <td>5</td>\n",
       "      <td>0</td>\n",
       "      <td>4</td>\n",
       "      <td>CIS</td>\n",
       "      <td>Android</td>\n",
       "    </tr>\n",
       "    <tr>\n",
       "      <th>325557</th>\n",
       "      <td>10E0DEFC1ABDBBE0</td>\n",
       "      <td>031BD7A67048105B</td>\n",
       "      <td>2025-08-19</td>\n",
       "      <td>2025-08-19 13:23:55</td>\n",
       "      <td>2025-08-14</td>\n",
       "      <td>6</td>\n",
       "      <td>0</td>\n",
       "      <td>2</td>\n",
       "      <td>CIS</td>\n",
       "      <td>Android</td>\n",
       "    </tr>\n",
       "    <tr>\n",
       "      <th>345336</th>\n",
       "      <td>10E0DEFC1ABDBBE0</td>\n",
       "      <td>FF4315CF4AD4B100</td>\n",
       "      <td>2025-08-20</td>\n",
       "      <td>2025-08-20 19:31:54</td>\n",
       "      <td>2025-08-14</td>\n",
       "      <td>7</td>\n",
       "      <td>0</td>\n",
       "      <td>2</td>\n",
       "      <td>CIS</td>\n",
       "      <td>Android</td>\n",
       "    </tr>\n",
       "    <tr>\n",
       "      <th>377532</th>\n",
       "      <td>10E0DEFC1ABDBBE0</td>\n",
       "      <td>4045FEA0747203B4</td>\n",
       "      <td>2025-08-22</td>\n",
       "      <td>2025-08-22 17:54:13</td>\n",
       "      <td>2025-08-14</td>\n",
       "      <td>8</td>\n",
       "      <td>0</td>\n",
       "      <td>2</td>\n",
       "      <td>CIS</td>\n",
       "      <td>Android</td>\n",
       "    </tr>\n",
       "    <tr>\n",
       "      <th>403538</th>\n",
       "      <td>10E0DEFC1ABDBBE0</td>\n",
       "      <td>344B086C421C7F37</td>\n",
       "      <td>2025-08-24</td>\n",
       "      <td>2025-08-24 14:46:13</td>\n",
       "      <td>2025-08-14</td>\n",
       "      <td>9</td>\n",
       "      <td>0</td>\n",
       "      <td>2</td>\n",
       "      <td>CIS</td>\n",
       "      <td>Android</td>\n",
       "    </tr>\n",
       "    <tr>\n",
       "      <th>414743</th>\n",
       "      <td>10E0DEFC1ABDBBE0</td>\n",
       "      <td>054F20BA371E4C9D</td>\n",
       "      <td>2025-08-25</td>\n",
       "      <td>2025-08-25 18:36:41</td>\n",
       "      <td>2025-08-14</td>\n",
       "      <td>10</td>\n",
       "      <td>0</td>\n",
       "      <td>3</td>\n",
       "      <td>CIS</td>\n",
       "      <td>Android</td>\n",
       "    </tr>\n",
       "  </tbody>\n",
       "</table>\n",
       "</div>"
      ],
      "text/plain": [
       "                 user_id        session_id session_date    session_start_ts  \\\n",
       "115558  10E0DEFC1ABDBBE0  B8F0423BBFFCF5DC   2025-08-14 2025-08-14 13:57:39   \n",
       "191751  10E0DEFC1ABDBBE0  87CA2FA549473837   2025-08-15 2025-08-15 16:42:10   \n",
       "239370  10E0DEFC1ABDBBE0  4ADD8011DCDCE318   2025-08-16 2025-08-16 19:53:21   \n",
       "274629  10E0DEFC1ABDBBE0  DF0FD0E09BF1F3D7   2025-08-17 2025-08-17 15:03:43   \n",
       "302501  10E0DEFC1ABDBBE0  3C221774B4DE6885   2025-08-18 2025-08-18 17:29:14   \n",
       "325557  10E0DEFC1ABDBBE0  031BD7A67048105B   2025-08-19 2025-08-19 13:23:55   \n",
       "345336  10E0DEFC1ABDBBE0  FF4315CF4AD4B100   2025-08-20 2025-08-20 19:31:54   \n",
       "377532  10E0DEFC1ABDBBE0  4045FEA0747203B4   2025-08-22 2025-08-22 17:54:13   \n",
       "403538  10E0DEFC1ABDBBE0  344B086C421C7F37   2025-08-24 2025-08-24 14:46:13   \n",
       "414743  10E0DEFC1ABDBBE0  054F20BA371E4C9D   2025-08-25 2025-08-25 18:36:41   \n",
       "\n",
       "       install_date  session_number  registration_flag  page_counter region  \\\n",
       "115558   2025-08-14               1                  0             4    CIS   \n",
       "191751   2025-08-14               2                  0             3    CIS   \n",
       "239370   2025-08-14               3                  0             3    CIS   \n",
       "274629   2025-08-14               4                  0             1    CIS   \n",
       "302501   2025-08-14               5                  0             4    CIS   \n",
       "325557   2025-08-14               6                  0             2    CIS   \n",
       "345336   2025-08-14               7                  0             2    CIS   \n",
       "377532   2025-08-14               8                  0             2    CIS   \n",
       "403538   2025-08-14               9                  0             2    CIS   \n",
       "414743   2025-08-14              10                  0             3    CIS   \n",
       "\n",
       "         device  \n",
       "115558  Android  \n",
       "191751  Android  \n",
       "239370  Android  \n",
       "274629  Android  \n",
       "302501  Android  \n",
       "325557  Android  \n",
       "345336  Android  \n",
       "377532  Android  \n",
       "403538  Android  \n",
       "414743  Android  "
      ]
     },
     "execution_count": 9,
     "metadata": {},
     "output_type": "execute_result"
    }
   ],
   "source": [
    "# Делаем срез данных по одному из пользователей с максимальным количеством уникальных сессий\n",
    "\n",
    "max_unique_session_id = sessions_history.loc[sessions_history['user_id'] == '10E0DEFC1ABDBBE0']\n",
    "max_unique_session_id"
   ]
  },
  {
   "cell_type": "markdown",
   "metadata": {},
   "source": [
    "В датафрейме `sessions_history` фиксируется информация о том, сколько страниц (`page_counter`) пользователь (`user_id`) просмотрел в течение одной сессии (`session_id`). При этом для каждой сессии фиксируется номер сессии (`session_number`) дата начала сессии (`session_date`) и дата и время начала сессии (`session_start_ts`). Также можно увидеть информацию о дате установки приложения (`install_date`). Заметим, что во всех строках, принадлежащих сессиям одного пользователя, дата уставноки приложения - одна и та же. Помимо этого содержится информация о факте регистрации пользователя (`registration_flag`): 0 - не зарегистрирован, 1 - зарегистрирован. Также можно увидеть информацию о регионе пользователя (`region`) и типе устройства (`device`), с которых пользователь смотрит короткие видео"
   ]
  },
  {
   "cell_type": "markdown",
   "metadata": {
    "id": "CmcGpJTP0eMq"
   },
   "source": [
    "#### 1.3. Анализ числа регистраций"
   ]
  },
  {
   "cell_type": "markdown",
   "metadata": {},
   "source": [
    "Расчитаем количество уникальных пользователей для каждого для наблюдения"
   ]
  },
  {
   "cell_type": "code",
   "execution_count": 10,
   "metadata": {
    "id": "tN_6Ml3EPatS"
   },
   "outputs": [
    {
     "data": {
      "text/plain": [
       "session_date\n",
       "2025-08-11     3919\n",
       "2025-08-12     6056\n",
       "2025-08-13     8489\n",
       "2025-08-14    10321\n",
       "2025-08-15    14065\n",
       "2025-08-16    12205\n",
       "2025-08-17    11200\n",
       "2025-08-18    10839\n",
       "2025-08-19    12118\n",
       "2025-08-20    13514\n",
       "2025-08-21    15051\n",
       "2025-08-22    17563\n",
       "2025-08-23    16082\n",
       "2025-08-24    13683\n",
       "2025-08-25    13635\n",
       "2025-08-26    13289\n",
       "2025-08-27    14766\n",
       "2025-08-28    15388\n",
       "2025-08-29    16873\n",
       "2025-08-30    14891\n",
       "2025-08-31    13266\n",
       "2025-09-01    12685\n",
       "2025-09-02    12672\n",
       "2025-09-03    12777\n",
       "2025-09-04    13683\n",
       "2025-09-05    15324\n",
       "2025-09-06    13078\n",
       "2025-09-07    12367\n",
       "2025-09-08    11826\n",
       "2025-09-09    11780\n",
       "2025-09-10    12526\n",
       "2025-09-11     8623\n",
       "2025-09-12     6436\n",
       "2025-09-13     5183\n",
       "2025-09-14     4364\n",
       "2025-09-15     3698\n",
       "2025-09-16     3032\n",
       "2025-09-17     2548\n",
       "2025-09-18     1952\n",
       "2025-09-19     1418\n",
       "2025-09-20     1100\n",
       "2025-09-21      776\n",
       "2025-09-22      546\n",
       "2025-09-23      317\n",
       "Name: user_id, dtype: int64"
      ]
     },
     "execution_count": 10,
     "metadata": {},
     "output_type": "execute_result"
    }
   ],
   "source": [
    "# Рассчитываем количество уникальных пользователей для каждого дня наблюдения\n",
    "\n",
    "count_day_unique_user_id = sessions_history.groupby('session_date')['user_id'].nunique()\n",
    "count_day_unique_user_id"
   ]
  },
  {
   "cell_type": "markdown",
   "metadata": {},
   "source": [
    "Затем рассчитаем количество зарегистрированных пользователей для каждого дня наблюдения"
   ]
  },
  {
   "cell_type": "code",
   "execution_count": 11,
   "metadata": {},
   "outputs": [
    {
     "data": {
      "text/plain": [
       "session_date\n",
       "2025-08-11     169\n",
       "2025-08-12     336\n",
       "2025-08-13     464\n",
       "2025-08-14     625\n",
       "2025-08-15     840\n",
       "2025-08-16     916\n",
       "2025-08-17     833\n",
       "2025-08-18     860\n",
       "2025-08-19     831\n",
       "2025-08-20    1008\n",
       "2025-08-21    1063\n",
       "2025-08-22    1251\n",
       "2025-08-23    1253\n",
       "2025-08-24    1181\n",
       "2025-08-25    1060\n",
       "2025-08-26    1050\n",
       "2025-08-27    1076\n",
       "2025-08-28    1175\n",
       "2025-08-29    1174\n",
       "2025-08-30    1165\n",
       "2025-08-31    1105\n",
       "2025-09-01    1028\n",
       "2025-09-02    1039\n",
       "2025-09-03    1035\n",
       "2025-09-04    1007\n",
       "2025-09-05    1030\n",
       "2025-09-06    1023\n",
       "2025-09-07    1069\n",
       "2025-09-08    1009\n",
       "2025-09-09     980\n",
       "2025-09-10    1015\n",
       "2025-09-11     824\n",
       "2025-09-12     669\n",
       "2025-09-13     537\n",
       "2025-09-14     440\n",
       "2025-09-15     383\n",
       "2025-09-16     286\n",
       "2025-09-17     272\n",
       "2025-09-18     201\n",
       "2025-09-19     132\n",
       "2025-09-20     107\n",
       "2025-09-21      87\n",
       "2025-09-22      68\n",
       "2025-09-23      32\n",
       "Name: user_id, dtype: int64"
      ]
     },
     "execution_count": 11,
     "metadata": {},
     "output_type": "execute_result"
    }
   ],
   "source": [
    "# Рассчитываем количество зарегистрированных пользователей для каждого дня наблюдения\n",
    "\n",
    "count_reg_user_id = sessions_history[sessions_history['registration_flag'] == 1]\n",
    "count_reg_user_id = count_reg_user_id.groupby('session_date')['user_id'].nunique()\n",
    "count_reg_user_id"
   ]
  },
  {
   "cell_type": "markdown",
   "metadata": {},
   "source": [
    "Для визуализации расчёта уникальных пользователей и числа зарегистрированных пользователей для каждого дня наблюдения построим линейные графики общего числа пользователей и общего числа зарегистрированных пользователей по дням, отобразив их на одном графике"
   ]
  },
  {
   "cell_type": "code",
   "execution_count": 12,
   "metadata": {
    "scrolled": true
   },
   "outputs": [
    {
     "data": {
      "image/png": "[encoded data removed]",
      "text/plain": [
       "<Figure size 1080x576 with 1 Axes>"
      ]
     },
     "metadata": {
      "needs_background": "light"
     },
     "output_type": "display_data"
    },
    {
     "data": {
      "text/html": [
       "<div>\n",
       "<style scoped>\n",
       "    .dataframe tbody tr th:only-of-type {\n",
       "        vertical-align: middle;\n",
       "    }\n",
       "\n",
       "    .dataframe tbody tr th {\n",
       "        vertical-align: top;\n",
       "    }\n",
       "\n",
       "    .dataframe thead th {\n",
       "        text-align: right;\n",
       "    }\n",
       "</style>\n",
       "<table border=\"1\" class=\"dataframe\">\n",
       "  <thead>\n",
       "    <tr style=\"text-align: right;\">\n",
       "      <th></th>\n",
       "      <th>unique_users</th>\n",
       "      <th>registered_users</th>\n",
       "    </tr>\n",
       "    <tr>\n",
       "      <th>session_date</th>\n",
       "      <th></th>\n",
       "      <th></th>\n",
       "    </tr>\n",
       "  </thead>\n",
       "  <tbody>\n",
       "    <tr>\n",
       "      <th>2025-08-11</th>\n",
       "      <td>3919</td>\n",
       "      <td>169</td>\n",
       "    </tr>\n",
       "    <tr>\n",
       "      <th>2025-08-12</th>\n",
       "      <td>6056</td>\n",
       "      <td>336</td>\n",
       "    </tr>\n",
       "    <tr>\n",
       "      <th>2025-08-13</th>\n",
       "      <td>8489</td>\n",
       "      <td>464</td>\n",
       "    </tr>\n",
       "    <tr>\n",
       "      <th>2025-08-14</th>\n",
       "      <td>10321</td>\n",
       "      <td>625</td>\n",
       "    </tr>\n",
       "    <tr>\n",
       "      <th>2025-08-15</th>\n",
       "      <td>14065</td>\n",
       "      <td>840</td>\n",
       "    </tr>\n",
       "    <tr>\n",
       "      <th>2025-08-16</th>\n",
       "      <td>12205</td>\n",
       "      <td>916</td>\n",
       "    </tr>\n",
       "    <tr>\n",
       "      <th>2025-08-17</th>\n",
       "      <td>11200</td>\n",
       "      <td>833</td>\n",
       "    </tr>\n",
       "    <tr>\n",
       "      <th>2025-08-18</th>\n",
       "      <td>10839</td>\n",
       "      <td>860</td>\n",
       "    </tr>\n",
       "    <tr>\n",
       "      <th>2025-08-19</th>\n",
       "      <td>12118</td>\n",
       "      <td>831</td>\n",
       "    </tr>\n",
       "    <tr>\n",
       "      <th>2025-08-20</th>\n",
       "      <td>13514</td>\n",
       "      <td>1008</td>\n",
       "    </tr>\n",
       "    <tr>\n",
       "      <th>2025-08-21</th>\n",
       "      <td>15051</td>\n",
       "      <td>1063</td>\n",
       "    </tr>\n",
       "    <tr>\n",
       "      <th>2025-08-22</th>\n",
       "      <td>17563</td>\n",
       "      <td>1251</td>\n",
       "    </tr>\n",
       "    <tr>\n",
       "      <th>2025-08-23</th>\n",
       "      <td>16082</td>\n",
       "      <td>1253</td>\n",
       "    </tr>\n",
       "    <tr>\n",
       "      <th>2025-08-24</th>\n",
       "      <td>13683</td>\n",
       "      <td>1181</td>\n",
       "    </tr>\n",
       "    <tr>\n",
       "      <th>2025-08-25</th>\n",
       "      <td>13635</td>\n",
       "      <td>1060</td>\n",
       "    </tr>\n",
       "    <tr>\n",
       "      <th>2025-08-26</th>\n",
       "      <td>13289</td>\n",
       "      <td>1050</td>\n",
       "    </tr>\n",
       "    <tr>\n",
       "      <th>2025-08-27</th>\n",
       "      <td>14766</td>\n",
       "      <td>1076</td>\n",
       "    </tr>\n",
       "    <tr>\n",
       "      <th>2025-08-28</th>\n",
       "      <td>15388</td>\n",
       "      <td>1175</td>\n",
       "    </tr>\n",
       "    <tr>\n",
       "      <th>2025-08-29</th>\n",
       "      <td>16873</td>\n",
       "      <td>1174</td>\n",
       "    </tr>\n",
       "    <tr>\n",
       "      <th>2025-08-30</th>\n",
       "      <td>14891</td>\n",
       "      <td>1165</td>\n",
       "    </tr>\n",
       "    <tr>\n",
       "      <th>2025-08-31</th>\n",
       "      <td>13266</td>\n",
       "      <td>1105</td>\n",
       "    </tr>\n",
       "    <tr>\n",
       "      <th>2025-09-01</th>\n",
       "      <td>12685</td>\n",
       "      <td>1028</td>\n",
       "    </tr>\n",
       "    <tr>\n",
       "      <th>2025-09-02</th>\n",
       "      <td>12672</td>\n",
       "      <td>1039</td>\n",
       "    </tr>\n",
       "    <tr>\n",
       "      <th>2025-09-03</th>\n",
       "      <td>12777</td>\n",
       "      <td>1035</td>\n",
       "    </tr>\n",
       "    <tr>\n",
       "      <th>2025-09-04</th>\n",
       "      <td>13683</td>\n",
       "      <td>1007</td>\n",
       "    </tr>\n",
       "    <tr>\n",
       "      <th>2025-09-05</th>\n",
       "      <td>15324</td>\n",
       "      <td>1030</td>\n",
       "    </tr>\n",
       "    <tr>\n",
       "      <th>2025-09-06</th>\n",
       "      <td>13078</td>\n",
       "      <td>1023</td>\n",
       "    </tr>\n",
       "    <tr>\n",
       "      <th>2025-09-07</th>\n",
       "      <td>12367</td>\n",
       "      <td>1069</td>\n",
       "    </tr>\n",
       "    <tr>\n",
       "      <th>2025-09-08</th>\n",
       "      <td>11826</td>\n",
       "      <td>1009</td>\n",
       "    </tr>\n",
       "    <tr>\n",
       "      <th>2025-09-09</th>\n",
       "      <td>11780</td>\n",
       "      <td>980</td>\n",
       "    </tr>\n",
       "    <tr>\n",
       "      <th>2025-09-10</th>\n",
       "      <td>12526</td>\n",
       "      <td>1015</td>\n",
       "    </tr>\n",
       "    <tr>\n",
       "      <th>2025-09-11</th>\n",
       "      <td>8623</td>\n",
       "      <td>824</td>\n",
       "    </tr>\n",
       "    <tr>\n",
       "      <th>2025-09-12</th>\n",
       "      <td>6436</td>\n",
       "      <td>669</td>\n",
       "    </tr>\n",
       "    <tr>\n",
       "      <th>2025-09-13</th>\n",
       "      <td>5183</td>\n",
       "      <td>537</td>\n",
       "    </tr>\n",
       "    <tr>\n",
       "      <th>2025-09-14</th>\n",
       "      <td>4364</td>\n",
       "      <td>440</td>\n",
       "    </tr>\n",
       "    <tr>\n",
       "      <th>2025-09-15</th>\n",
       "      <td>3698</td>\n",
       "      <td>383</td>\n",
       "    </tr>\n",
       "    <tr>\n",
       "      <th>2025-09-16</th>\n",
       "      <td>3032</td>\n",
       "      <td>286</td>\n",
       "    </tr>\n",
       "    <tr>\n",
       "      <th>2025-09-17</th>\n",
       "      <td>2548</td>\n",
       "      <td>272</td>\n",
       "    </tr>\n",
       "    <tr>\n",
       "      <th>2025-09-18</th>\n",
       "      <td>1952</td>\n",
       "      <td>201</td>\n",
       "    </tr>\n",
       "    <tr>\n",
       "      <th>2025-09-19</th>\n",
       "      <td>1418</td>\n",
       "      <td>132</td>\n",
       "    </tr>\n",
       "    <tr>\n",
       "      <th>2025-09-20</th>\n",
       "      <td>1100</td>\n",
       "      <td>107</td>\n",
       "    </tr>\n",
       "    <tr>\n",
       "      <th>2025-09-21</th>\n",
       "      <td>776</td>\n",
       "      <td>87</td>\n",
       "    </tr>\n",
       "    <tr>\n",
       "      <th>2025-09-22</th>\n",
       "      <td>546</td>\n",
       "      <td>68</td>\n",
       "    </tr>\n",
       "    <tr>\n",
       "      <th>2025-09-23</th>\n",
       "      <td>317</td>\n",
       "      <td>32</td>\n",
       "    </tr>\n",
       "  </tbody>\n",
       "</table>\n",
       "</div>"
      ],
      "text/plain": [
       "              unique_users  registered_users\n",
       "session_date                                \n",
       "2025-08-11            3919               169\n",
       "2025-08-12            6056               336\n",
       "2025-08-13            8489               464\n",
       "2025-08-14           10321               625\n",
       "2025-08-15           14065               840\n",
       "2025-08-16           12205               916\n",
       "2025-08-17           11200               833\n",
       "2025-08-18           10839               860\n",
       "2025-08-19           12118               831\n",
       "2025-08-20           13514              1008\n",
       "2025-08-21           15051              1063\n",
       "2025-08-22           17563              1251\n",
       "2025-08-23           16082              1253\n",
       "2025-08-24           13683              1181\n",
       "2025-08-25           13635              1060\n",
       "2025-08-26           13289              1050\n",
       "2025-08-27           14766              1076\n",
       "2025-08-28           15388              1175\n",
       "2025-08-29           16873              1174\n",
       "2025-08-30           14891              1165\n",
       "2025-08-31           13266              1105\n",
       "2025-09-01           12685              1028\n",
       "2025-09-02           12672              1039\n",
       "2025-09-03           12777              1035\n",
       "2025-09-04           13683              1007\n",
       "2025-09-05           15324              1030\n",
       "2025-09-06           13078              1023\n",
       "2025-09-07           12367              1069\n",
       "2025-09-08           11826              1009\n",
       "2025-09-09           11780               980\n",
       "2025-09-10           12526              1015\n",
       "2025-09-11            8623               824\n",
       "2025-09-12            6436               669\n",
       "2025-09-13            5183               537\n",
       "2025-09-14            4364               440\n",
       "2025-09-15            3698               383\n",
       "2025-09-16            3032               286\n",
       "2025-09-17            2548               272\n",
       "2025-09-18            1952               201\n",
       "2025-09-19            1418               132\n",
       "2025-09-20            1100               107\n",
       "2025-09-21             776                87\n",
       "2025-09-22             546                68\n",
       "2025-09-23             317                32"
      ]
     },
     "execution_count": 12,
     "metadata": {},
     "output_type": "execute_result"
    }
   ],
   "source": [
    "# Построим график линейной диаграммы\n",
    "\n",
    "x = count_day_unique_user_id.index\n",
    "y_a = count_day_unique_user_id.values\n",
    "y_b = count_reg_user_id.values\n",
    "\n",
    "plt.figure(figsize=(15, 8))\n",
    "plt.plot(x, y_a, label ='Уникальные пользователи')\n",
    "plt.plot(x, y_b,label ='Зарегистрированные пользователи')\n",
    "\n",
    "plt.xlabel(\"Дата\")\n",
    "plt.ylabel(\"Количество пользователей\")\n",
    "plt.legend()\n",
    "plt.title('Сравнение общего числа пользователей и общего числа зарегистрированных пользователей')\n",
    "plt.show()\n",
    "\n",
    "general_table = pd.concat([count_day_unique_user_id.rename('unique_users'), count_reg_user_id.rename('registered_users')], axis=1)\n",
    "general_table"
   ]
  },
  {
   "cell_type": "markdown",
   "metadata": {},
   "source": [
    "Исходя из построенных графиков и табличного представления построенных графиков, мы можем увидеть, что рост числа уникальных и зарегистрированных пользователей наблюдается с 11 по 15 августа. Затем с 16 августа по 9 сентября число уникальных пользователей находится на уровне 10-17 тысяч пользователей, число зарегистрированных пользователей находится на уровне 1000-1300 пользователей. С 10 по 23 сентября наблюдается снижение числа уникальных и зарегистрированных пользователей "
   ]
  },
  {
   "cell_type": "markdown",
   "metadata": {},
   "source": [
    "Рассчитаем долю зарегистрированных пользователей от всех пользователей по дням в %"
   ]
  },
  {
   "cell_type": "code",
   "execution_count": 13,
   "metadata": {},
   "outputs": [
    {
     "data": {
      "text/plain": [
       "session_date\n",
       "2025-08-11    0.126083\n",
       "2025-08-12    0.250673\n",
       "2025-08-13    0.346168\n",
       "2025-08-14    0.466282\n",
       "2025-08-15    0.626683\n",
       "2025-08-16    0.683383\n",
       "2025-08-17    0.621461\n",
       "2025-08-18    0.641604\n",
       "2025-08-19    0.619969\n",
       "2025-08-20    0.752020\n",
       "2025-08-21    0.793053\n",
       "2025-08-22    0.933310\n",
       "2025-08-23    0.934803\n",
       "2025-08-24    0.881087\n",
       "2025-08-25    0.790815\n",
       "2025-08-26    0.783354\n",
       "2025-08-27    0.802751\n",
       "2025-08-28    0.876611\n",
       "2025-08-29    0.875864\n",
       "2025-08-30    0.869150\n",
       "2025-08-31    0.824387\n",
       "2025-09-01    0.766941\n",
       "2025-09-02    0.775148\n",
       "2025-09-03    0.772163\n",
       "2025-09-04    0.751274\n",
       "2025-09-05    0.768433\n",
       "2025-09-06    0.763211\n",
       "2025-09-07    0.797529\n",
       "2025-09-08    0.752766\n",
       "2025-09-09    0.731130\n",
       "2025-09-10    0.757242\n",
       "2025-09-11    0.614746\n",
       "2025-09-12    0.499108\n",
       "2025-09-13    0.400630\n",
       "2025-09-14    0.328263\n",
       "2025-09-15    0.285738\n",
       "2025-09-16    0.213371\n",
       "2025-09-17    0.202926\n",
       "2025-09-18    0.149956\n",
       "2025-09-19    0.098479\n",
       "2025-09-20    0.079828\n",
       "2025-09-21    0.064906\n",
       "2025-09-22    0.050732\n",
       "2025-09-23    0.023874\n",
       "Name: user_id, dtype: float64"
      ]
     },
     "execution_count": 13,
     "metadata": {},
     "output_type": "execute_result"
    }
   ],
   "source": [
    "# Рассчитываем долю зарегистрированных пользователей от всех пользователей по дням в %\n",
    "\n",
    "prop_count_reg_user_id = (count_reg_user_id/sessions_history['user_id'].nunique())*100\n",
    "prop_count_reg_user_id"
   ]
  },
  {
   "cell_type": "markdown",
   "metadata": {},
   "source": [
    "Построим отдельный линейный график доли зарегистрированных пользователей от всех пользователей по дням"
   ]
  },
  {
   "cell_type": "code",
   "execution_count": 14,
   "metadata": {},
   "outputs": [
    {
     "data": {
      "image/png": "[encoded data removed]",
      "text/plain": [
       "<Figure size 1080x576 with 1 Axes>"
      ]
     },
     "metadata": {
      "needs_background": "light"
     },
     "output_type": "display_data"
    }
   ],
   "source": [
    "# Построим график линейной диаграммы\n",
    "\n",
    "plt.figure(figsize=(15, 8))\n",
    "plt.plot(prop_count_reg_user_id.index, prop_count_reg_user_id.values, label ='Зарегистрированные пользователи')\n",
    "\n",
    "plt.xlabel(\"Дата\")\n",
    "plt.ylabel(\"Доля зарегистрированных пользователей\")\n",
    "plt.legend()\n",
    "plt.title('Доля зарегистрированных пользователей от всех пользователей по дням')\n",
    "plt.show()"
   ]
  },
  {
   "cell_type": "markdown",
   "metadata": {},
   "source": [
    "Исходя из построенного графика, мы можем увидеть, что доля зарегистрированных пользователей от всех пользователей по дням ни в один из дней не превышает 1% пользователей"
   ]
  },
  {
   "cell_type": "markdown",
   "metadata": {
    "id": "UR7D7RhF0eMr"
   },
   "source": [
    "#### 1.4. Анализ числа просмотренных страниц"
   ]
  },
  {
   "cell_type": "markdown",
   "metadata": {
    "id": "cb6hPlVzPaSf"
   },
   "source": [
    "Найдём количество сессий для каждого значения количества просмотренных страниц"
   ]
  },
  {
   "cell_type": "code",
   "execution_count": 15,
   "metadata": {},
   "outputs": [
    {
     "data": {
      "text/plain": [
       "page_counter\n",
       "1     29160\n",
       "2    105536\n",
       "3    166690\n",
       "4    105569\n",
       "5     26288\n",
       "6      2589\n",
       "7        92\n",
       "Name: session_id, dtype: int64"
      ]
     },
     "execution_count": 15,
     "metadata": {},
     "output_type": "execute_result"
    }
   ],
   "source": [
    "# Находим количество сессий для каждого значения количества просмотренных страниц\n",
    "\n",
    "value_counts_page_counter = sessions_history.groupby('page_counter')['session_id'].count()\n",
    "value_counts_page_counter"
   ]
  },
  {
   "cell_type": "markdown",
   "metadata": {},
   "source": [
    "Построим столбчатую диаграмму, где по оси X будет число просмотренных страниц, по оси Y — количество сессий"
   ]
  },
  {
   "cell_type": "code",
   "execution_count": 16,
   "metadata": {},
   "outputs": [
    {
     "data": {
      "image/png": "[encoded data removed]",
      "text/plain": [
       "<Figure size 1080x576 with 1 Axes>"
      ]
     },
     "metadata": {
      "needs_background": "light"
     },
     "output_type": "display_data"
    }
   ],
   "source": [
    "# Построим график столбчатой диаграммы\n",
    "\n",
    "plt.figure(figsize=(15, 8))\n",
    "plt.bar(value_counts_page_counter.index, value_counts_page_counter.values, label ='Количество сессий')\n",
    "\n",
    "plt.xlabel(\"Значение количества просмотренных страниц\")\n",
    "plt.ylabel(\"Количество сессий\")\n",
    "plt.legend()\n",
    "plt.title('Количество сессий для каждого значения количества просмотренных страниц')\n",
    "plt.show()"
   ]
  },
  {
   "cell_type": "markdown",
   "metadata": {},
   "source": [
    "Исходя из построенного графика, мы можем заметить, что наименьшее количество сессий характерно для 7 просмотренных страниц, а наибольшее количество сессий характерно для 3 просмотренных страниц"
   ]
  },
  {
   "cell_type": "markdown",
   "metadata": {
    "id": "xDltSpVP0eMr"
   },
   "source": [
    "#### 1.5. Доля пользователей, просмотревших более четырёх страниц"
   ]
  },
  {
   "cell_type": "markdown",
   "metadata": {
    "id": "iygaPfixPYMW"
   },
   "source": [
    "В датафрейм `sessions_history` добавим столбец `good_session`. В него войдёт значение 1, если за одну сессию было просмотрено 4 и более страниц, и значение 0, если было просмотрено меньше."
   ]
  },
  {
   "cell_type": "code",
   "execution_count": 17,
   "metadata": {},
   "outputs": [
    {
     "data": {
      "text/html": [
       "<div>\n",
       "<style scoped>\n",
       "    .dataframe tbody tr th:only-of-type {\n",
       "        vertical-align: middle;\n",
       "    }\n",
       "\n",
       "    .dataframe tbody tr th {\n",
       "        vertical-align: top;\n",
       "    }\n",
       "\n",
       "    .dataframe thead th {\n",
       "        text-align: right;\n",
       "    }\n",
       "</style>\n",
       "<table border=\"1\" class=\"dataframe\">\n",
       "  <thead>\n",
       "    <tr style=\"text-align: right;\">\n",
       "      <th></th>\n",
       "      <th>user_id</th>\n",
       "      <th>session_id</th>\n",
       "      <th>session_date</th>\n",
       "      <th>session_start_ts</th>\n",
       "      <th>install_date</th>\n",
       "      <th>session_number</th>\n",
       "      <th>registration_flag</th>\n",
       "      <th>page_counter</th>\n",
       "      <th>region</th>\n",
       "      <th>device</th>\n",
       "      <th>good_session</th>\n",
       "    </tr>\n",
       "  </thead>\n",
       "  <tbody>\n",
       "    <tr>\n",
       "      <th>0</th>\n",
       "      <td>E302123B7000BFE4</td>\n",
       "      <td>F9AF61A0C2023832</td>\n",
       "      <td>2025-08-15</td>\n",
       "      <td>2025-08-15 17:47:35</td>\n",
       "      <td>2025-08-15</td>\n",
       "      <td>1</td>\n",
       "      <td>0</td>\n",
       "      <td>3</td>\n",
       "      <td>CIS</td>\n",
       "      <td>iPhone</td>\n",
       "      <td>0</td>\n",
       "    </tr>\n",
       "    <tr>\n",
       "      <th>1</th>\n",
       "      <td>2530F72E221829FB</td>\n",
       "      <td>85003A206CBDAC6F</td>\n",
       "      <td>2025-08-15</td>\n",
       "      <td>2025-08-15 16:42:14</td>\n",
       "      <td>2025-08-15</td>\n",
       "      <td>1</td>\n",
       "      <td>0</td>\n",
       "      <td>4</td>\n",
       "      <td>MENA</td>\n",
       "      <td>Android</td>\n",
       "      <td>1</td>\n",
       "    </tr>\n",
       "    <tr>\n",
       "      <th>2</th>\n",
       "      <td>876E020A4FC512F5</td>\n",
       "      <td>3677423E49D72DEE</td>\n",
       "      <td>2025-08-15</td>\n",
       "      <td>2025-08-15 12:30:00</td>\n",
       "      <td>2025-08-15</td>\n",
       "      <td>1</td>\n",
       "      <td>0</td>\n",
       "      <td>4</td>\n",
       "      <td>EU</td>\n",
       "      <td>PC</td>\n",
       "      <td>1</td>\n",
       "    </tr>\n",
       "    <tr>\n",
       "      <th>3</th>\n",
       "      <td>2640B349E1D81584</td>\n",
       "      <td>956B45F5915CA225</td>\n",
       "      <td>2025-08-15</td>\n",
       "      <td>2025-08-15 15:31:31</td>\n",
       "      <td>2025-08-15</td>\n",
       "      <td>1</td>\n",
       "      <td>0</td>\n",
       "      <td>4</td>\n",
       "      <td>CIS</td>\n",
       "      <td>Android</td>\n",
       "      <td>1</td>\n",
       "    </tr>\n",
       "    <tr>\n",
       "      <th>4</th>\n",
       "      <td>94E1CBFAEF1F5EE9</td>\n",
       "      <td>83BF0DA35F9F1F40</td>\n",
       "      <td>2025-08-15</td>\n",
       "      <td>2025-08-15 21:33:53</td>\n",
       "      <td>2025-08-15</td>\n",
       "      <td>1</td>\n",
       "      <td>0</td>\n",
       "      <td>3</td>\n",
       "      <td>CIS</td>\n",
       "      <td>Android</td>\n",
       "      <td>0</td>\n",
       "    </tr>\n",
       "    <tr>\n",
       "      <th>...</th>\n",
       "      <td>...</td>\n",
       "      <td>...</td>\n",
       "      <td>...</td>\n",
       "      <td>...</td>\n",
       "      <td>...</td>\n",
       "      <td>...</td>\n",
       "      <td>...</td>\n",
       "      <td>...</td>\n",
       "      <td>...</td>\n",
       "      <td>...</td>\n",
       "      <td>...</td>\n",
       "    </tr>\n",
       "    <tr>\n",
       "      <th>435919</th>\n",
       "      <td>769BC199AF26FEF8</td>\n",
       "      <td>914903B51D69C5EA</td>\n",
       "      <td>2025-09-17</td>\n",
       "      <td>2025-09-17 21:33:57</td>\n",
       "      <td>2025-09-04</td>\n",
       "      <td>3</td>\n",
       "      <td>1</td>\n",
       "      <td>3</td>\n",
       "      <td>CIS</td>\n",
       "      <td>PC</td>\n",
       "      <td>0</td>\n",
       "    </tr>\n",
       "    <tr>\n",
       "      <th>435920</th>\n",
       "      <td>599DED39F3CD2ADE</td>\n",
       "      <td>66ADBE343C94DCDA</td>\n",
       "      <td>2025-09-17</td>\n",
       "      <td>2025-09-17 17:11:46</td>\n",
       "      <td>2025-09-04</td>\n",
       "      <td>4</td>\n",
       "      <td>0</td>\n",
       "      <td>4</td>\n",
       "      <td>MENA</td>\n",
       "      <td>iPhone</td>\n",
       "      <td>1</td>\n",
       "    </tr>\n",
       "    <tr>\n",
       "      <th>435921</th>\n",
       "      <td>1FA20C4BC94E64B2</td>\n",
       "      <td>C4CCD7E81733665F</td>\n",
       "      <td>2025-09-17</td>\n",
       "      <td>2025-09-17 19:36:55</td>\n",
       "      <td>2025-09-04</td>\n",
       "      <td>4</td>\n",
       "      <td>0</td>\n",
       "      <td>4</td>\n",
       "      <td>CIS</td>\n",
       "      <td>Android</td>\n",
       "      <td>1</td>\n",
       "    </tr>\n",
       "    <tr>\n",
       "      <th>435922</th>\n",
       "      <td>88E5FC3016A7A0AD</td>\n",
       "      <td>6834FB4914B56200</td>\n",
       "      <td>2025-09-17</td>\n",
       "      <td>2025-09-17 22:13:33</td>\n",
       "      <td>2025-09-04</td>\n",
       "      <td>5</td>\n",
       "      <td>0</td>\n",
       "      <td>4</td>\n",
       "      <td>MENA</td>\n",
       "      <td>PC</td>\n",
       "      <td>1</td>\n",
       "    </tr>\n",
       "    <tr>\n",
       "      <th>435923</th>\n",
       "      <td>5CC144801F7B0D1D</td>\n",
       "      <td>8CC9E67AFF5D9CA8</td>\n",
       "      <td>2025-09-17</td>\n",
       "      <td>2025-09-17 15:23:46</td>\n",
       "      <td>2025-09-04</td>\n",
       "      <td>3</td>\n",
       "      <td>0</td>\n",
       "      <td>2</td>\n",
       "      <td>MENA</td>\n",
       "      <td>iPhone</td>\n",
       "      <td>0</td>\n",
       "    </tr>\n",
       "  </tbody>\n",
       "</table>\n",
       "<p>435924 rows × 11 columns</p>\n",
       "</div>"
      ],
      "text/plain": [
       "                 user_id        session_id session_date    session_start_ts  \\\n",
       "0       E302123B7000BFE4  F9AF61A0C2023832   2025-08-15 2025-08-15 17:47:35   \n",
       "1       2530F72E221829FB  85003A206CBDAC6F   2025-08-15 2025-08-15 16:42:14   \n",
       "2       876E020A4FC512F5  3677423E49D72DEE   2025-08-15 2025-08-15 12:30:00   \n",
       "3       2640B349E1D81584  956B45F5915CA225   2025-08-15 2025-08-15 15:31:31   \n",
       "4       94E1CBFAEF1F5EE9  83BF0DA35F9F1F40   2025-08-15 2025-08-15 21:33:53   \n",
       "...                  ...               ...          ...                 ...   \n",
       "435919  769BC199AF26FEF8  914903B51D69C5EA   2025-09-17 2025-09-17 21:33:57   \n",
       "435920  599DED39F3CD2ADE  66ADBE343C94DCDA   2025-09-17 2025-09-17 17:11:46   \n",
       "435921  1FA20C4BC94E64B2  C4CCD7E81733665F   2025-09-17 2025-09-17 19:36:55   \n",
       "435922  88E5FC3016A7A0AD  6834FB4914B56200   2025-09-17 2025-09-17 22:13:33   \n",
       "435923  5CC144801F7B0D1D  8CC9E67AFF5D9CA8   2025-09-17 2025-09-17 15:23:46   \n",
       "\n",
       "       install_date  session_number  registration_flag  page_counter region  \\\n",
       "0        2025-08-15               1                  0             3    CIS   \n",
       "1        2025-08-15               1                  0             4   MENA   \n",
       "2        2025-08-15               1                  0             4     EU   \n",
       "3        2025-08-15               1                  0             4    CIS   \n",
       "4        2025-08-15               1                  0             3    CIS   \n",
       "...             ...             ...                ...           ...    ...   \n",
       "435919   2025-09-04               3                  1             3    CIS   \n",
       "435920   2025-09-04               4                  0             4   MENA   \n",
       "435921   2025-09-04               4                  0             4    CIS   \n",
       "435922   2025-09-04               5                  0             4   MENA   \n",
       "435923   2025-09-04               3                  0             2   MENA   \n",
       "\n",
       "         device  good_session  \n",
       "0        iPhone             0  \n",
       "1       Android             1  \n",
       "2            PC             1  \n",
       "3       Android             1  \n",
       "4       Android             0  \n",
       "...         ...           ...  \n",
       "435919       PC             0  \n",
       "435920   iPhone             1  \n",
       "435921  Android             1  \n",
       "435922       PC             1  \n",
       "435923   iPhone             0  \n",
       "\n",
       "[435924 rows x 11 columns]"
      ]
     },
     "execution_count": 17,
     "metadata": {},
     "output_type": "execute_result"
    }
   ],
   "source": [
    "# Создаём дополнительный столбец good_session, исходя из заданных условий\n",
    "\n",
    "def good_session_0_1(value):\n",
    "    if value < 4:\n",
    "        return 0\n",
    "    else:\n",
    "        return 1\n",
    "\n",
    "sessions_history['good_session'] = sessions_history['page_counter'].apply(good_session_0_1)\n",
    "sessions_history"
   ]
  },
  {
   "cell_type": "markdown",
   "metadata": {},
   "source": [
    "Рассчитаем количество успешных сессий по дням за весь период наблюдения"
   ]
  },
  {
   "cell_type": "code",
   "execution_count": 18,
   "metadata": {},
   "outputs": [
    {
     "data": {
      "text/plain": [
       "session_date\n",
       "2025-08-11    1226\n",
       "2025-08-12    1829\n",
       "2025-08-13    2604\n",
       "2025-08-14    3262\n",
       "2025-08-15    4289\n",
       "2025-08-16    3737\n",
       "2025-08-17    3557\n",
       "2025-08-18    3366\n",
       "2025-08-19    3791\n",
       "2025-08-20    4148\n",
       "2025-08-21    4563\n",
       "2025-08-22    5500\n",
       "2025-08-23    4858\n",
       "2025-08-24    4239\n",
       "2025-08-25    4165\n",
       "2025-08-26    4132\n",
       "2025-08-27    4594\n",
       "2025-08-28    4779\n",
       "2025-08-29    5283\n",
       "2025-08-30    4673\n",
       "2025-08-31    4013\n",
       "2025-09-01    3964\n",
       "2025-09-02    3998\n",
       "2025-09-03    3886\n",
       "2025-09-04    4317\n",
       "2025-09-05    4656\n",
       "2025-09-06    3983\n",
       "2025-09-07    3860\n",
       "2025-09-08    3652\n",
       "2025-09-09    3599\n",
       "2025-09-10    3822\n",
       "2025-09-11    2627\n",
       "2025-09-12    1941\n",
       "2025-09-13    1550\n",
       "2025-09-14    1343\n",
       "2025-09-15    1131\n",
       "2025-09-16     946\n",
       "2025-09-17     816\n",
       "2025-09-18     571\n",
       "2025-09-19     451\n",
       "2025-09-20     332\n",
       "2025-09-21     224\n",
       "2025-09-22     169\n",
       "2025-09-23      92\n",
       "Name: good_session, dtype: int64"
      ]
     },
     "execution_count": 18,
     "metadata": {},
     "output_type": "execute_result"
    }
   ],
   "source": [
    "# Рассчитываем количество успешных сессий по дням\n",
    "\n",
    "good_session_1 = sessions_history.groupby('session_date')['good_session'].sum()\n",
    "good_session_1"
   ]
  },
  {
   "cell_type": "markdown",
   "metadata": {},
   "source": [
    "Рассчитаем количество всех сессий по дням за весь период наблюдения"
   ]
  },
  {
   "cell_type": "code",
   "execution_count": 19,
   "metadata": {},
   "outputs": [
    {
     "data": {
      "text/plain": [
       "session_date\n",
       "2025-08-11     3919\n",
       "2025-08-12     6056\n",
       "2025-08-13     8489\n",
       "2025-08-14    10321\n",
       "2025-08-15    14065\n",
       "2025-08-16    12205\n",
       "2025-08-17    11200\n",
       "2025-08-18    10839\n",
       "2025-08-19    12118\n",
       "2025-08-20    13514\n",
       "2025-08-21    15051\n",
       "2025-08-22    17563\n",
       "2025-08-23    16082\n",
       "2025-08-24    13683\n",
       "2025-08-25    13635\n",
       "2025-08-26    13289\n",
       "2025-08-27    14766\n",
       "2025-08-28    15388\n",
       "2025-08-29    16873\n",
       "2025-08-30    14891\n",
       "2025-08-31    13266\n",
       "2025-09-01    12685\n",
       "2025-09-02    12672\n",
       "2025-09-03    12777\n",
       "2025-09-04    13683\n",
       "2025-09-05    15324\n",
       "2025-09-06    13078\n",
       "2025-09-07    12367\n",
       "2025-09-08    11826\n",
       "2025-09-09    11780\n",
       "2025-09-10    12526\n",
       "2025-09-11     8623\n",
       "2025-09-12     6436\n",
       "2025-09-13     5183\n",
       "2025-09-14     4364\n",
       "2025-09-15     3698\n",
       "2025-09-16     3032\n",
       "2025-09-17     2548\n",
       "2025-09-18     1952\n",
       "2025-09-19     1418\n",
       "2025-09-20     1100\n",
       "2025-09-21      776\n",
       "2025-09-22      546\n",
       "2025-09-23      317\n",
       "Name: session_id, dtype: int64"
      ]
     },
     "execution_count": 19,
     "metadata": {},
     "output_type": "execute_result"
    }
   ],
   "source": [
    "# Рассчитываем количество всех сессий по дням\n",
    "\n",
    "all_session = sessions_history.groupby('session_date')['session_id'].count()\n",
    "all_session"
   ]
  },
  {
   "cell_type": "markdown",
   "metadata": {},
   "source": [
    "Рассчитаем среднее значение доли успешных сессий ко всем сессиям по дням за весь период наблюдения в %"
   ]
  },
  {
   "cell_type": "code",
   "execution_count": 20,
   "metadata": {},
   "outputs": [
    {
     "data": {
      "text/plain": [
       "session_date\n",
       "2025-08-11    31.283491\n",
       "2025-08-12    30.201453\n",
       "2025-08-13    30.674991\n",
       "2025-08-14    31.605465\n",
       "2025-08-15    30.494134\n",
       "2025-08-16    30.618599\n",
       "2025-08-17    31.758929\n",
       "2025-08-18    31.054525\n",
       "2025-08-19    31.284040\n",
       "2025-08-20    30.694095\n",
       "2025-08-21    30.316922\n",
       "2025-08-22    31.315834\n",
       "2025-08-23    30.207686\n",
       "2025-08-24    30.980048\n",
       "2025-08-25    30.546388\n",
       "2025-08-26    31.093386\n",
       "2025-08-27    31.112014\n",
       "2025-08-28    31.056668\n",
       "2025-08-29    31.310378\n",
       "2025-08-30    31.381371\n",
       "2025-08-31    30.250264\n",
       "2025-09-01    31.249507\n",
       "2025-09-02    31.549874\n",
       "2025-09-03    30.414025\n",
       "2025-09-04    31.550099\n",
       "2025-09-05    30.383712\n",
       "2025-09-06    30.455727\n",
       "2025-09-07    31.212097\n",
       "2025-09-08    30.881109\n",
       "2025-09-09    30.551783\n",
       "2025-09-10    30.512534\n",
       "2025-09-11    30.465035\n",
       "2025-09-12    30.158484\n",
       "2025-09-13    29.905460\n",
       "2025-09-14    30.774519\n",
       "2025-09-15    30.584100\n",
       "2025-09-16    31.200528\n",
       "2025-09-17    32.025118\n",
       "2025-09-18    29.252049\n",
       "2025-09-19    31.805360\n",
       "2025-09-20    30.181818\n",
       "2025-09-21    28.865979\n",
       "2025-09-22    30.952381\n",
       "2025-09-23    29.022082\n",
       "dtype: float64"
      ]
     },
     "execution_count": 20,
     "metadata": {},
     "output_type": "execute_result"
    }
   ],
   "source": [
    "# Рассчитаем среднее значением доли успешных сессий по дням\n",
    "\n",
    "prop_good_session_1 = (good_session_1/all_session)*100\n",
    "prop_good_session_1"
   ]
  },
  {
   "cell_type": "markdown",
   "metadata": {},
   "source": [
    "Построим график со средним значением доли успешных сессий ко всем сессиям по дням за весь период наблюдения в %"
   ]
  },
  {
   "cell_type": "code",
   "execution_count": 21,
   "metadata": {
    "scrolled": true
   },
   "outputs": [
    {
     "data": {
      "image/png": "[encoded data removed]",
      "text/plain": [
       "<Figure size 1080x576 with 1 Axes>"
      ]
     },
     "metadata": {
      "needs_background": "light"
     },
     "output_type": "display_data"
    },
    {
     "data": {
      "text/html": [
       "<div>\n",
       "<style scoped>\n",
       "    .dataframe tbody tr th:only-of-type {\n",
       "        vertical-align: middle;\n",
       "    }\n",
       "\n",
       "    .dataframe tbody tr th {\n",
       "        vertical-align: top;\n",
       "    }\n",
       "\n",
       "    .dataframe thead th {\n",
       "        text-align: right;\n",
       "    }\n",
       "</style>\n",
       "<table border=\"1\" class=\"dataframe\">\n",
       "  <thead>\n",
       "    <tr style=\"text-align: right;\">\n",
       "      <th></th>\n",
       "      <th>all_session</th>\n",
       "      <th>good_session_1</th>\n",
       "      <th>prop_good_session_1</th>\n",
       "    </tr>\n",
       "    <tr>\n",
       "      <th>session_date</th>\n",
       "      <th></th>\n",
       "      <th></th>\n",
       "      <th></th>\n",
       "    </tr>\n",
       "  </thead>\n",
       "  <tbody>\n",
       "    <tr>\n",
       "      <th>2025-08-11</th>\n",
       "      <td>3919</td>\n",
       "      <td>1226</td>\n",
       "      <td>31.283491</td>\n",
       "    </tr>\n",
       "    <tr>\n",
       "      <th>2025-08-12</th>\n",
       "      <td>6056</td>\n",
       "      <td>1829</td>\n",
       "      <td>30.201453</td>\n",
       "    </tr>\n",
       "    <tr>\n",
       "      <th>2025-08-13</th>\n",
       "      <td>8489</td>\n",
       "      <td>2604</td>\n",
       "      <td>30.674991</td>\n",
       "    </tr>\n",
       "    <tr>\n",
       "      <th>2025-08-14</th>\n",
       "      <td>10321</td>\n",
       "      <td>3262</td>\n",
       "      <td>31.605465</td>\n",
       "    </tr>\n",
       "    <tr>\n",
       "      <th>2025-08-15</th>\n",
       "      <td>14065</td>\n",
       "      <td>4289</td>\n",
       "      <td>30.494134</td>\n",
       "    </tr>\n",
       "    <tr>\n",
       "      <th>2025-08-16</th>\n",
       "      <td>12205</td>\n",
       "      <td>3737</td>\n",
       "      <td>30.618599</td>\n",
       "    </tr>\n",
       "    <tr>\n",
       "      <th>2025-08-17</th>\n",
       "      <td>11200</td>\n",
       "      <td>3557</td>\n",
       "      <td>31.758929</td>\n",
       "    </tr>\n",
       "    <tr>\n",
       "      <th>2025-08-18</th>\n",
       "      <td>10839</td>\n",
       "      <td>3366</td>\n",
       "      <td>31.054525</td>\n",
       "    </tr>\n",
       "    <tr>\n",
       "      <th>2025-08-19</th>\n",
       "      <td>12118</td>\n",
       "      <td>3791</td>\n",
       "      <td>31.284040</td>\n",
       "    </tr>\n",
       "    <tr>\n",
       "      <th>2025-08-20</th>\n",
       "      <td>13514</td>\n",
       "      <td>4148</td>\n",
       "      <td>30.694095</td>\n",
       "    </tr>\n",
       "    <tr>\n",
       "      <th>2025-08-21</th>\n",
       "      <td>15051</td>\n",
       "      <td>4563</td>\n",
       "      <td>30.316922</td>\n",
       "    </tr>\n",
       "    <tr>\n",
       "      <th>2025-08-22</th>\n",
       "      <td>17563</td>\n",
       "      <td>5500</td>\n",
       "      <td>31.315834</td>\n",
       "    </tr>\n",
       "    <tr>\n",
       "      <th>2025-08-23</th>\n",
       "      <td>16082</td>\n",
       "      <td>4858</td>\n",
       "      <td>30.207686</td>\n",
       "    </tr>\n",
       "    <tr>\n",
       "      <th>2025-08-24</th>\n",
       "      <td>13683</td>\n",
       "      <td>4239</td>\n",
       "      <td>30.980048</td>\n",
       "    </tr>\n",
       "    <tr>\n",
       "      <th>2025-08-25</th>\n",
       "      <td>13635</td>\n",
       "      <td>4165</td>\n",
       "      <td>30.546388</td>\n",
       "    </tr>\n",
       "    <tr>\n",
       "      <th>2025-08-26</th>\n",
       "      <td>13289</td>\n",
       "      <td>4132</td>\n",
       "      <td>31.093386</td>\n",
       "    </tr>\n",
       "    <tr>\n",
       "      <th>2025-08-27</th>\n",
       "      <td>14766</td>\n",
       "      <td>4594</td>\n",
       "      <td>31.112014</td>\n",
       "    </tr>\n",
       "    <tr>\n",
       "      <th>2025-08-28</th>\n",
       "      <td>15388</td>\n",
       "      <td>4779</td>\n",
       "      <td>31.056668</td>\n",
       "    </tr>\n",
       "    <tr>\n",
       "      <th>2025-08-29</th>\n",
       "      <td>16873</td>\n",
       "      <td>5283</td>\n",
       "      <td>31.310378</td>\n",
       "    </tr>\n",
       "    <tr>\n",
       "      <th>2025-08-30</th>\n",
       "      <td>14891</td>\n",
       "      <td>4673</td>\n",
       "      <td>31.381371</td>\n",
       "    </tr>\n",
       "    <tr>\n",
       "      <th>2025-08-31</th>\n",
       "      <td>13266</td>\n",
       "      <td>4013</td>\n",
       "      <td>30.250264</td>\n",
       "    </tr>\n",
       "    <tr>\n",
       "      <th>2025-09-01</th>\n",
       "      <td>12685</td>\n",
       "      <td>3964</td>\n",
       "      <td>31.249507</td>\n",
       "    </tr>\n",
       "    <tr>\n",
       "      <th>2025-09-02</th>\n",
       "      <td>12672</td>\n",
       "      <td>3998</td>\n",
       "      <td>31.549874</td>\n",
       "    </tr>\n",
       "    <tr>\n",
       "      <th>2025-09-03</th>\n",
       "      <td>12777</td>\n",
       "      <td>3886</td>\n",
       "      <td>30.414025</td>\n",
       "    </tr>\n",
       "    <tr>\n",
       "      <th>2025-09-04</th>\n",
       "      <td>13683</td>\n",
       "      <td>4317</td>\n",
       "      <td>31.550099</td>\n",
       "    </tr>\n",
       "    <tr>\n",
       "      <th>2025-09-05</th>\n",
       "      <td>15324</td>\n",
       "      <td>4656</td>\n",
       "      <td>30.383712</td>\n",
       "    </tr>\n",
       "    <tr>\n",
       "      <th>2025-09-06</th>\n",
       "      <td>13078</td>\n",
       "      <td>3983</td>\n",
       "      <td>30.455727</td>\n",
       "    </tr>\n",
       "    <tr>\n",
       "      <th>2025-09-07</th>\n",
       "      <td>12367</td>\n",
       "      <td>3860</td>\n",
       "      <td>31.212097</td>\n",
       "    </tr>\n",
       "    <tr>\n",
       "      <th>2025-09-08</th>\n",
       "      <td>11826</td>\n",
       "      <td>3652</td>\n",
       "      <td>30.881109</td>\n",
       "    </tr>\n",
       "    <tr>\n",
       "      <th>2025-09-09</th>\n",
       "      <td>11780</td>\n",
       "      <td>3599</td>\n",
       "      <td>30.551783</td>\n",
       "    </tr>\n",
       "    <tr>\n",
       "      <th>2025-09-10</th>\n",
       "      <td>12526</td>\n",
       "      <td>3822</td>\n",
       "      <td>30.512534</td>\n",
       "    </tr>\n",
       "    <tr>\n",
       "      <th>2025-09-11</th>\n",
       "      <td>8623</td>\n",
       "      <td>2627</td>\n",
       "      <td>30.465035</td>\n",
       "    </tr>\n",
       "    <tr>\n",
       "      <th>2025-09-12</th>\n",
       "      <td>6436</td>\n",
       "      <td>1941</td>\n",
       "      <td>30.158484</td>\n",
       "    </tr>\n",
       "    <tr>\n",
       "      <th>2025-09-13</th>\n",
       "      <td>5183</td>\n",
       "      <td>1550</td>\n",
       "      <td>29.905460</td>\n",
       "    </tr>\n",
       "    <tr>\n",
       "      <th>2025-09-14</th>\n",
       "      <td>4364</td>\n",
       "      <td>1343</td>\n",
       "      <td>30.774519</td>\n",
       "    </tr>\n",
       "    <tr>\n",
       "      <th>2025-09-15</th>\n",
       "      <td>3698</td>\n",
       "      <td>1131</td>\n",
       "      <td>30.584100</td>\n",
       "    </tr>\n",
       "    <tr>\n",
       "      <th>2025-09-16</th>\n",
       "      <td>3032</td>\n",
       "      <td>946</td>\n",
       "      <td>31.200528</td>\n",
       "    </tr>\n",
       "    <tr>\n",
       "      <th>2025-09-17</th>\n",
       "      <td>2548</td>\n",
       "      <td>816</td>\n",
       "      <td>32.025118</td>\n",
       "    </tr>\n",
       "    <tr>\n",
       "      <th>2025-09-18</th>\n",
       "      <td>1952</td>\n",
       "      <td>571</td>\n",
       "      <td>29.252049</td>\n",
       "    </tr>\n",
       "    <tr>\n",
       "      <th>2025-09-19</th>\n",
       "      <td>1418</td>\n",
       "      <td>451</td>\n",
       "      <td>31.805360</td>\n",
       "    </tr>\n",
       "    <tr>\n",
       "      <th>2025-09-20</th>\n",
       "      <td>1100</td>\n",
       "      <td>332</td>\n",
       "      <td>30.181818</td>\n",
       "    </tr>\n",
       "    <tr>\n",
       "      <th>2025-09-21</th>\n",
       "      <td>776</td>\n",
       "      <td>224</td>\n",
       "      <td>28.865979</td>\n",
       "    </tr>\n",
       "    <tr>\n",
       "      <th>2025-09-22</th>\n",
       "      <td>546</td>\n",
       "      <td>169</td>\n",
       "      <td>30.952381</td>\n",
       "    </tr>\n",
       "    <tr>\n",
       "      <th>2025-09-23</th>\n",
       "      <td>317</td>\n",
       "      <td>92</td>\n",
       "      <td>29.022082</td>\n",
       "    </tr>\n",
       "  </tbody>\n",
       "</table>\n",
       "</div>"
      ],
      "text/plain": [
       "              all_session  good_session_1  prop_good_session_1\n",
       "session_date                                                  \n",
       "2025-08-11           3919            1226            31.283491\n",
       "2025-08-12           6056            1829            30.201453\n",
       "2025-08-13           8489            2604            30.674991\n",
       "2025-08-14          10321            3262            31.605465\n",
       "2025-08-15          14065            4289            30.494134\n",
       "2025-08-16          12205            3737            30.618599\n",
       "2025-08-17          11200            3557            31.758929\n",
       "2025-08-18          10839            3366            31.054525\n",
       "2025-08-19          12118            3791            31.284040\n",
       "2025-08-20          13514            4148            30.694095\n",
       "2025-08-21          15051            4563            30.316922\n",
       "2025-08-22          17563            5500            31.315834\n",
       "2025-08-23          16082            4858            30.207686\n",
       "2025-08-24          13683            4239            30.980048\n",
       "2025-08-25          13635            4165            30.546388\n",
       "2025-08-26          13289            4132            31.093386\n",
       "2025-08-27          14766            4594            31.112014\n",
       "2025-08-28          15388            4779            31.056668\n",
       "2025-08-29          16873            5283            31.310378\n",
       "2025-08-30          14891            4673            31.381371\n",
       "2025-08-31          13266            4013            30.250264\n",
       "2025-09-01          12685            3964            31.249507\n",
       "2025-09-02          12672            3998            31.549874\n",
       "2025-09-03          12777            3886            30.414025\n",
       "2025-09-04          13683            4317            31.550099\n",
       "2025-09-05          15324            4656            30.383712\n",
       "2025-09-06          13078            3983            30.455727\n",
       "2025-09-07          12367            3860            31.212097\n",
       "2025-09-08          11826            3652            30.881109\n",
       "2025-09-09          11780            3599            30.551783\n",
       "2025-09-10          12526            3822            30.512534\n",
       "2025-09-11           8623            2627            30.465035\n",
       "2025-09-12           6436            1941            30.158484\n",
       "2025-09-13           5183            1550            29.905460\n",
       "2025-09-14           4364            1343            30.774519\n",
       "2025-09-15           3698            1131            30.584100\n",
       "2025-09-16           3032             946            31.200528\n",
       "2025-09-17           2548             816            32.025118\n",
       "2025-09-18           1952             571            29.252049\n",
       "2025-09-19           1418             451            31.805360\n",
       "2025-09-20           1100             332            30.181818\n",
       "2025-09-21            776             224            28.865979\n",
       "2025-09-22            546             169            30.952381\n",
       "2025-09-23            317              92            29.022082"
      ]
     },
     "execution_count": 21,
     "metadata": {},
     "output_type": "execute_result"
    }
   ],
   "source": [
    "# Построим график линейной диаграммы\n",
    "\n",
    "plt.figure(figsize=(15, 8))\n",
    "plt.plot(prop_good_session_1.index, prop_good_session_1.values, label ='Успешные сессии')\n",
    "\n",
    "plt.xlabel(\"Дата\")\n",
    "plt.ylabel(\"Доля успешных сессий\")\n",
    "plt.legend()\n",
    "plt.title('Среднее значение доли успешных сессий ко всем сессиям по дням за весь период наблюдения')\n",
    "plt.show()\n",
    "\n",
    "general_table_1 = pd.concat([all_session.rename('all_session'), good_session_1.rename('good_session_1'), prop_good_session_1.rename('prop_good_session_1')], axis=1)\n",
    "general_table_1"
   ]
  },
  {
   "cell_type": "markdown",
   "metadata": {},
   "source": [
    "Исходя из построенного графика и табличного представления построенного графика, мы можем увидить, что в среднем значение доли успешных сессий по дням составлят от 28% до 32%"
   ]
  },
  {
   "cell_type": "markdown",
   "metadata": {
    "id": "21JcG77Y0eMt"
   },
   "source": [
    "### 2. Подготовка к тесту\n",
    "При планировании теста необходимо проделать несколько важных шагов:\n",
    "\n",
    "- Определиться с целевой метрикой.\n",
    "\n",
    "- Рассчитать необходимый размер выборки.\n",
    "\n",
    "- Исходя из текущих значений трафика, рассчитать необходимую длительность проведения теста."
   ]
  },
  {
   "cell_type": "markdown",
   "metadata": {
    "id": "uzaeln270eMt"
   },
   "source": [
    "#### 2.1. Расчёт размера выборки"
   ]
  },
  {
   "cell_type": "markdown",
   "metadata": {},
   "source": [
    "Рассчитаем необходимое для дизайна эксперимента количество пользователей при заданных параметрах:\n",
    "\n",
    "- Уровень значимости — 0.05.\n",
    "- Вероятность ошибки второго рода — 0.2.\n",
    "- Мощность теста.\n",
    "- Минимальный детектируемый эффект, или MDE, — 3%.\n",
    "\n",
    "При расчёте размера выборки мы будем использовать метод `solve_power()` из класса `power.NormalIndPower` модуля `statsmodels.stats`."
   ]
  },
  {
   "cell_type": "code",
   "execution_count": 22,
   "metadata": {
    "id": "zSxJyPGPNdaI"
   },
   "outputs": [
    {
     "name": "stdout",
     "output_type": "stream",
     "text": [
      "Необходимый размер выборки для каждой группы: 17441\n"
     ]
    }
   ],
   "source": [
    "# Задаём параметры\n",
    "alpha = 0.05  # Уровень значимости\n",
    "beta = 0.2  # Ошибка второго рода, часто 1 - мощность\n",
    "power = 1 - beta  # Мощность теста\n",
    "mde = 0.03  # Минимальный детектируемый эффект\n",
    "\n",
    "# Инициализируем класс NormalIndPower\n",
    "power_analysis = NormalIndPower()\n",
    "\n",
    "# Рассчитываем размер выборки\n",
    "sample_size = power_analysis.solve_power(\n",
    "    effect_size = mde,\n",
    "    power = power,\n",
    "    alpha = alpha,\n",
    "    ratio = 1 # Равномерное распределение выборок\n",
    ")\n",
    "\n",
    "print(f\"Необходимый размер выборки для каждой группы: {int(sample_size)}\")"
   ]
  },
  {
   "cell_type": "markdown",
   "metadata": {},
   "source": [
    "Исходя из полученных вычислений, мы можем увидеть, что необходимое для дизайна эксперимента количество пользователей при заданных параметрах составляет 17441 пользователь для каждой группы"
   ]
  },
  {
   "cell_type": "markdown",
   "metadata": {
    "id": "qLEv4RoV0eMu"
   },
   "source": [
    "#### 2.1. Расчёт длительности A/B-теста"
   ]
  },
  {
   "cell_type": "markdown",
   "metadata": {},
   "source": [
    "Рассчитаем среднее количество уникальных пользователей приложения в день и определим длительность теста, исходя из рассчитанного значения размера выборок и среднего дневного трафика приложения. Количество дней округлим в большую сторону"
   ]
  },
  {
   "cell_type": "code",
   "execution_count": 23,
   "metadata": {
    "id": "KZDRbryDOGHa"
   },
   "outputs": [
    {
     "name": "stdout",
     "output_type": "stream",
     "text": [
      "Рассчитанная длительность A/B-теста при текущем уровене трафика в 9907.363636363636 пользователей в день составит 4 дней\n"
     ]
    }
   ],
   "source": [
    "# Среднее количество пользователей приложения в день по историческим данным\n",
    "avg_daily_users = sessions_history.groupby('session_date')['user_id'].nunique().mean()\n",
    "\n",
    "# Рассчитываем длительность теста в днях как отношение размера выборки к среднему числу пользователей\n",
    "test_duration = ceil((sample_size*2)/avg_daily_users)\n",
    "\n",
    "print(f\"Рассчитанная длительность A/B-теста при текущем уровене трафика в {avg_daily_users} пользователей в день составит {test_duration} дней\")"
   ]
  },
  {
   "cell_type": "markdown",
   "metadata": {},
   "source": [
    "Исходя из полученных вычислений, мы можем увидеть, что рассчитанная длительность A/B теста при текущем трафике в 9907 пользователей составит 4 дня"
   ]
  },
  {
   "cell_type": "markdown",
   "metadata": {},
   "source": [
    "Исходя из полученных вычислений, мы можем увидеть, что среднее количество уникальных пользователей в день составляет 9907 пользователей, а рассчитанная длительность A/B теста составит 4 дня"
   ]
  },
  {
   "cell_type": "markdown",
   "metadata": {
    "id": "ZuvtAdha0eMv"
   },
   "source": [
    "### 3. Мониторинг А/В-теста"
   ]
  },
  {
   "cell_type": "markdown",
   "metadata": {
    "id": "jq5sE3Ya0eMv"
   },
   "source": [
    "#### 3.1. Проверка распределения пользователей"
   ]
  },
  {
   "cell_type": "markdown",
   "metadata": {},
   "source": [
    "Сохраним в датафрейм `sessions_test_part` CSV-файл `sessions_project_test_part.csv` с данными за первый день проведения A/B-теста, то есть за 2025-10-14 "
   ]
  },
  {
   "cell_type": "code",
   "execution_count": 24,
   "metadata": {
    "id": "G1bqIzDJOUiz"
   },
   "outputs": [],
   "source": [
    "# Выгружаем данные в переменную\n",
    "try:\n",
    "    sessions_test_part = pd.read_csv('C:/Users/Student/Desktop/sessions_project_test_part.csv')\n",
    "except:\n",
    "    sessions_test_part = pd.read_csv('https://code.s3.yandex.net/datasets/sessions_project_test_part.csv')"
   ]
  },
  {
   "cell_type": "markdown",
   "metadata": {},
   "source": [
    "Рассчитаем количество уникальных пользователей в каждой из экспериментальных групп для одного дня наблюдения"
   ]
  },
  {
   "cell_type": "code",
   "execution_count": 25,
   "metadata": {},
   "outputs": [
    {
     "data": {
      "text/plain": [
       "test_group\n",
       "A    1477\n",
       "B    1466\n",
       "Name: user_id, dtype: int64"
      ]
     },
     "execution_count": 25,
     "metadata": {},
     "output_type": "execute_result"
    }
   ],
   "source": [
    "# Рассчитываем количество уникальных пользователей для одного дня наблюдения\n",
    "\n",
    "count_test_group = sessions_test_part.groupby('test_group')['user_id'].nunique()\n",
    "count_test_group"
   ]
  },
  {
   "cell_type": "markdown",
   "metadata": {},
   "source": [
    "Исходя из вычислений, можем увидеть, что в контрольной группе (А) содержится 1477 уникальных пользователей, а в тестовой группе (B) содержится 1466 уникальных пользователей"
   ]
  },
  {
   "cell_type": "markdown",
   "metadata": {},
   "source": [
    "Рассчитаем и выведем на экран процентную разницу в количестве пользователей в группах A и B\n",
    "\n",
    "Для расчёта процентной разницы воспользуемся формулой:\n",
    "$$P = 100 \\cdot  \\frac{|A − B|}{A}$$"
   ]
  },
  {
   "cell_type": "code",
   "execution_count": 26,
   "metadata": {},
   "outputs": [
    {
     "data": {
      "text/plain": [
       "0.7447528774542992"
      ]
     },
     "execution_count": 26,
     "metadata": {},
     "output_type": "execute_result"
    }
   ],
   "source": [
    "# Рассчитываем процентную разницу в количестве пользователей в группах A и B\n",
    "\n",
    "A = sessions_test_part[sessions_test_part['test_group'] == 'A']['user_id'].nunique()\n",
    "B = sessions_test_part[sessions_test_part['test_group'] == 'B']['user_id'].nunique()\n",
    "\n",
    "difference_a_b = 100 * (abs(A-B)/A)\n",
    "difference_a_b"
   ]
  },
  {
   "cell_type": "markdown",
   "metadata": {},
   "source": [
    "Построим визуализацию, на которой можно было бы увидеть возможное различие двух групп."
   ]
  },
  {
   "cell_type": "code",
   "execution_count": 27,
   "metadata": {},
   "outputs": [
    {
     "data": {
      "image/png": "[encoded data removed]",
      "text/plain": [
       "<Figure size 1080x576 with 1 Axes>"
      ]
     },
     "metadata": {
      "needs_background": "light"
     },
     "output_type": "display_data"
    }
   ],
   "source": [
    "# Построим график линейчатой диаграммы\n",
    "\n",
    "plt.figure(figsize=(15, 8))\n",
    "plt.barh(count_test_group.index, count_test_group.values, label ='Количество уникальных пользователей')\n",
    "\n",
    "plt.xlabel(\"Количество уникальных пользователей\")\n",
    "plt.ylabel(\"Название группы\")\n",
    "plt.legend()\n",
    "plt.title('Различие группы A и B по количеству уникальных пользователей')\n",
    "plt.show()"
   ]
  },
  {
   "cell_type": "markdown",
   "metadata": {},
   "source": [
    "Исходя из вычислений и построенного графика, мы можем увидеть, что между группами не наблюдается ощутимая разница (меньше 1%). Поэтому расхождением в 11 пользователей можно пренебречь"
   ]
  },
  {
   "cell_type": "markdown",
   "metadata": {
    "id": "sgpNY5bv0eM0"
   },
   "source": [
    "#### 3.2. Проверка пересечений пользователей"
   ]
  },
  {
   "cell_type": "markdown",
   "metadata": {
    "id": "E72ozN9FOX1u"
   },
   "source": [
    "Рассчитаем количество пользователей, которые встречаются одновременно в группах A и B, чтобы убедиться в том, что никто из пользователей случайно не попал в обе группы одновременно"
   ]
  },
  {
   "cell_type": "code",
   "execution_count": 28,
   "metadata": {},
   "outputs": [
    {
     "name": "stdout",
     "output_type": "stream",
     "text": [
      "[]\n"
     ]
    }
   ],
   "source": [
    "a1 = sessions_test_part[sessions_test_part['test_group'] == 'A']['user_id']\n",
    "b1 = sessions_test_part[sessions_test_part['test_group'] == 'B']['user_id']\n",
    "\n",
    "intersection = list(set(a1) & set(b1))\n",
    "print(intersection)"
   ]
  },
  {
   "cell_type": "markdown",
   "metadata": {},
   "source": [
    "После выполнения данного кода мы видим, что пользователей, которые встречаются одновременного в группах A и B - нет"
   ]
  },
  {
   "cell_type": "markdown",
   "metadata": {
    "id": "6RvkNLrg0eM1"
   },
   "source": [
    "#### 3.3. Равномерность разделения пользователей по устройствам"
   ]
  },
  {
   "cell_type": "markdown",
   "metadata": {},
   "source": [
    "Cоздадим два среза данных: пользователи, которые входят в группу A, пользователи, которые входят в группу B"
   ]
  },
  {
   "cell_type": "code",
   "execution_count": 29,
   "metadata": {},
   "outputs": [],
   "source": [
    "# Создаём срезы данных\n",
    "\n",
    "group_a = sessions_test_part[sessions_test_part['test_group'] == 'A']\n",
    "group_b = sessions_test_part[sessions_test_part['test_group'] == 'B']"
   ]
  },
  {
   "cell_type": "markdown",
   "metadata": {
    "id": "x_IP6PUNPWHC"
   },
   "source": [
    "Рассчитаем доли каждого типа устройства для пользователей из группы A"
   ]
  },
  {
   "cell_type": "code",
   "execution_count": 30,
   "metadata": {},
   "outputs": [
    {
     "data": {
      "text/plain": [
       "device\n",
       "Android    44.414353\n",
       "PC         24.983074\n",
       "iPhone     20.040623\n",
       "Mac        10.561950\n",
       "Name: user_id, dtype: float64"
      ]
     },
     "execution_count": 30,
     "metadata": {},
     "output_type": "execute_result"
    }
   ],
   "source": [
    "# Рассчитываем долю каждого типа устройства для пользователей из группы A\n",
    "\n",
    "device_group_a = (group_a.groupby('device')['user_id'].nunique()/group_a['user_id'].nunique())*100\n",
    "device_group_a = device_group_a.sort_values(ascending = False)\n",
    "device_group_a"
   ]
  },
  {
   "cell_type": "markdown",
   "metadata": {},
   "source": [
    "Построим диаграмму для визуализации доли каждого типа устройства для пользователей из группы A"
   ]
  },
  {
   "cell_type": "code",
   "execution_count": 31,
   "metadata": {},
   "outputs": [
    {
     "data": {
      "image/png": "[encoded data removed]",
      "text/plain": [
       "<Figure size 576x432 with 1 Axes>"
      ]
     },
     "metadata": {},
     "output_type": "display_data"
    }
   ],
   "source": [
    "# Строим круговую диаграмму\n",
    "\n",
    "plt.figure(figsize=(8, 6))\n",
    "\n",
    "device_group_a.plot(\n",
    "               kind='pie',\n",
    "               autopct = '%1.0f%%',\n",
    "               legend=True,\n",
    "               title=f'Визуализация доли каждого типа устройства для пользователей из группы A'\n",
    ")\n",
    "\n",
    "plt.xlabel('Тип устройства')\n",
    "plt.ylabel('Процентное соотношение')\n",
    "plt.grid()\n",
    "\n",
    "plt.show()"
   ]
  },
  {
   "cell_type": "markdown",
   "metadata": {},
   "source": [
    "Рассчитаем доли каждого типа устройства для пользователей из группы B"
   ]
  },
  {
   "cell_type": "code",
   "execution_count": 32,
   "metadata": {},
   "outputs": [
    {
     "data": {
      "text/plain": [
       "device\n",
       "Android    45.566166\n",
       "PC         25.989086\n",
       "iPhone     18.349250\n",
       "Mac        10.095498\n",
       "Name: user_id, dtype: float64"
      ]
     },
     "execution_count": 32,
     "metadata": {},
     "output_type": "execute_result"
    }
   ],
   "source": [
    "# Рассчитываем долю каждого типа устройства для пользователей из группы B\n",
    "\n",
    "device_group_b = (group_b.groupby('device')['user_id'].nunique()/group_b['user_id'].nunique())*100\n",
    "device_group_b = device_group_b.sort_values(ascending = False)\n",
    "device_group_b"
   ]
  },
  {
   "cell_type": "markdown",
   "metadata": {},
   "source": [
    "Построим диаграмму для визуализации доли каждого типа устройства для пользователей из группы B"
   ]
  },
  {
   "cell_type": "code",
   "execution_count": 33,
   "metadata": {},
   "outputs": [
    {
     "data": {
      "image/png": "[encoded data removed]",
      "text/plain": [
       "<Figure size 576x432 with 1 Axes>"
      ]
     },
     "metadata": {},
     "output_type": "display_data"
    }
   ],
   "source": [
    "# Строим круговую диаграмму\n",
    "\n",
    "plt.figure(figsize=(8, 6))\n",
    "\n",
    "device_group_b.plot(\n",
    "               kind='pie',\n",
    "               autopct = '%1.0f%%',\n",
    "               legend=True,\n",
    "               title=f'Визуализация доли каждого типа устройства для пользователей из группы B'\n",
    ")\n",
    "\n",
    "plt.xlabel('Тип устройства')\n",
    "plt.ylabel('Процентное соотношение')\n",
    "plt.grid()\n",
    "\n",
    "plt.show()"
   ]
  },
  {
   "cell_type": "markdown",
   "metadata": {},
   "source": [
    "Объединим данные о долях каждого типа устройства для пользователей из групп A и B"
   ]
  },
  {
   "cell_type": "code",
   "execution_count": 34,
   "metadata": {},
   "outputs": [
    {
     "data": {
      "text/html": [
       "<div>\n",
       "<style scoped>\n",
       "    .dataframe tbody tr th:only-of-type {\n",
       "        vertical-align: middle;\n",
       "    }\n",
       "\n",
       "    .dataframe tbody tr th {\n",
       "        vertical-align: top;\n",
       "    }\n",
       "\n",
       "    .dataframe thead th {\n",
       "        text-align: right;\n",
       "    }\n",
       "</style>\n",
       "<table border=\"1\" class=\"dataframe\">\n",
       "  <thead>\n",
       "    <tr style=\"text-align: right;\">\n",
       "      <th></th>\n",
       "      <th>device_a</th>\n",
       "      <th>device_b</th>\n",
       "    </tr>\n",
       "    <tr>\n",
       "      <th>device</th>\n",
       "      <th></th>\n",
       "      <th></th>\n",
       "    </tr>\n",
       "  </thead>\n",
       "  <tbody>\n",
       "    <tr>\n",
       "      <th>Android</th>\n",
       "      <td>44.414353</td>\n",
       "      <td>45.566166</td>\n",
       "    </tr>\n",
       "    <tr>\n",
       "      <th>PC</th>\n",
       "      <td>24.983074</td>\n",
       "      <td>25.989086</td>\n",
       "    </tr>\n",
       "    <tr>\n",
       "      <th>iPhone</th>\n",
       "      <td>20.040623</td>\n",
       "      <td>18.349250</td>\n",
       "    </tr>\n",
       "    <tr>\n",
       "      <th>Mac</th>\n",
       "      <td>10.561950</td>\n",
       "      <td>10.095498</td>\n",
       "    </tr>\n",
       "  </tbody>\n",
       "</table>\n",
       "</div>"
      ],
      "text/plain": [
       "          device_a   device_b\n",
       "device                       \n",
       "Android  44.414353  45.566166\n",
       "PC       24.983074  25.989086\n",
       "iPhone   20.040623  18.349250\n",
       "Mac      10.561950  10.095498"
      ]
     },
     "execution_count": 34,
     "metadata": {},
     "output_type": "execute_result"
    }
   ],
   "source": [
    "# Объединяем данные о долях каждого типа устройства для пользователей из групп A и B\n",
    "\n",
    "general_table_2 = pd.concat([device_group_a.rename('device_a'), device_group_b.rename('device_b')], axis=1)\n",
    "general_table_2"
   ]
  },
  {
   "cell_type": "markdown",
   "metadata": {},
   "source": [
    "Построим диаграмму для визуализации доли каждого типа устройства для пользователей из группы A и из группы B"
   ]
  },
  {
   "cell_type": "code",
   "execution_count": 35,
   "metadata": {},
   "outputs": [
    {
     "data": {
      "image/png": "[encoded data removed]",
      "text/plain": [
       "<Figure size 864x432 with 1 Axes>"
      ]
     },
     "metadata": {
      "needs_background": "light"
     },
     "output_type": "display_data"
    }
   ],
   "source": [
    "# Построим график столбчатой диаграммы\n",
    "\n",
    "general_table_2.plot(kind='bar',\n",
    "               title=f'Сравнение долей каждого типа устройства для пользователей из групп A и B',\n",
    "               legend=True,\n",
    "               ylabel='Доля устройств',\n",
    "               xlabel='Тип устройства',\n",
    "               rot=0,\n",
    "               figsize=(12, 6))\n",
    "plt.grid()\n",
    "\n",
    "plt.show()"
   ]
  },
  {
   "cell_type": "markdown",
   "metadata": {},
   "source": [
    "Исходя из построенных графиков, мы можем увидеть, что распределение устройств в группах A и B - практически идентично:\n",
    "\n",
    "- `Android`: группа A - 44.4%, группа B - 45.5%\n",
    "- `PC`: группа A - 24.9%, группа B - 25.9%\n",
    "- `iPhone`: группа A - 20%, группа B - 18.3%\n",
    "- `Mac`: группа A - 10.5%, группа B - 10%\n",
    "\n",
    "Следовательно, мы можем сделать вывод о том, что распределение устройств в группах A и B - совпадает"
   ]
  },
  {
   "cell_type": "markdown",
   "metadata": {
    "id": "gAgmP6vo0eM1"
   },
   "source": [
    "#### 3.4. Равномерность распределения пользователей по регионам"
   ]
  },
  {
   "cell_type": "markdown",
   "metadata": {},
   "source": [
    "Рассчитаем доли каждого региона для пользователей из группы A"
   ]
  },
  {
   "cell_type": "code",
   "execution_count": 36,
   "metadata": {},
   "outputs": [
    {
     "data": {
      "text/plain": [
       "region\n",
       "CIS     43.601896\n",
       "MENA    41.232227\n",
       "EU      15.165877\n",
       "Name: user_id, dtype: float64"
      ]
     },
     "execution_count": 36,
     "metadata": {},
     "output_type": "execute_result"
    }
   ],
   "source": [
    "# Рассчитываем долю каждого региона для пользователей из группы A\n",
    "\n",
    "region_group_a = (group_a.groupby('region')['user_id'].nunique()/group_a['user_id'].nunique())*100\n",
    "region_group_a = region_group_a.sort_values(ascending = False)\n",
    "region_group_a"
   ]
  },
  {
   "cell_type": "markdown",
   "metadata": {},
   "source": [
    "Построим диаграмму для визуализации доли каждого региона для пользователей из группы A"
   ]
  },
  {
   "cell_type": "code",
   "execution_count": 37,
   "metadata": {},
   "outputs": [
    {
     "data": {
      "image/png": "[encoded data removed]",
      "text/plain": [
       "<Figure size 1080x576 with 1 Axes>"
      ]
     },
     "metadata": {
      "needs_background": "light"
     },
     "output_type": "display_data"
    }
   ],
   "source": [
    "# Построим график столбчатой диаграммы\n",
    "\n",
    "plt.figure(figsize=(15, 8))\n",
    "plt.bar(region_group_a.index, region_group_a.values, label ='Доля региона')\n",
    "\n",
    "plt.xlabel(\"Название региона\")\n",
    "plt.ylabel(\"Доля региона\")\n",
    "plt.legend()\n",
    "plt.title('Визуализация доли каждого региона для пользователей из группы A')\n",
    "plt.show()"
   ]
  },
  {
   "cell_type": "markdown",
   "metadata": {},
   "source": [
    "Рассчитаем доли каждого региона для пользователей из группы B"
   ]
  },
  {
   "cell_type": "code",
   "execution_count": 38,
   "metadata": {},
   "outputs": [
    {
     "data": {
      "text/plain": [
       "region\n",
       "CIS     43.997271\n",
       "MENA    41.200546\n",
       "EU      14.802183\n",
       "Name: user_id, dtype: float64"
      ]
     },
     "execution_count": 38,
     "metadata": {},
     "output_type": "execute_result"
    }
   ],
   "source": [
    "# Рассчитываем долю каждого региона для пользователей из группы B\n",
    "\n",
    "region_group_b = (group_b.groupby('region')['user_id'].nunique()/group_b['user_id'].nunique())*100\n",
    "region_group_b = region_group_b.sort_values(ascending = False)\n",
    "region_group_b"
   ]
  },
  {
   "cell_type": "markdown",
   "metadata": {},
   "source": [
    "Построим диаграмму для визуализации доли каждого региона для пользователей из группы B"
   ]
  },
  {
   "cell_type": "code",
   "execution_count": 39,
   "metadata": {},
   "outputs": [
    {
     "data": {
      "image/png": "[encoded data removed]",
      "text/plain": [
       "<Figure size 1080x576 with 1 Axes>"
      ]
     },
     "metadata": {
      "needs_background": "light"
     },
     "output_type": "display_data"
    }
   ],
   "source": [
    "# Построим график столбчатой диаграммы\n",
    "\n",
    "plt.figure(figsize=(15, 8))\n",
    "plt.bar(region_group_b.index, region_group_b.values, label ='Доля региона', color = 'darkorange')\n",
    "\n",
    "plt.xlabel(\"Название региона\")\n",
    "plt.ylabel(\"Доля региона\")\n",
    "plt.legend()\n",
    "plt.title('Визуализация доли каждого региона для пользователей из группы B')\n",
    "plt.show()"
   ]
  },
  {
   "cell_type": "markdown",
   "metadata": {},
   "source": [
    "Объединим данные о долях каждого региона для пользователей из группы A и из группы B"
   ]
  },
  {
   "cell_type": "code",
   "execution_count": 40,
   "metadata": {},
   "outputs": [
    {
     "data": {
      "text/html": [
       "<div>\n",
       "<style scoped>\n",
       "    .dataframe tbody tr th:only-of-type {\n",
       "        vertical-align: middle;\n",
       "    }\n",
       "\n",
       "    .dataframe tbody tr th {\n",
       "        vertical-align: top;\n",
       "    }\n",
       "\n",
       "    .dataframe thead th {\n",
       "        text-align: right;\n",
       "    }\n",
       "</style>\n",
       "<table border=\"1\" class=\"dataframe\">\n",
       "  <thead>\n",
       "    <tr style=\"text-align: right;\">\n",
       "      <th></th>\n",
       "      <th>region_a</th>\n",
       "      <th>region_b</th>\n",
       "    </tr>\n",
       "    <tr>\n",
       "      <th>region</th>\n",
       "      <th></th>\n",
       "      <th></th>\n",
       "    </tr>\n",
       "  </thead>\n",
       "  <tbody>\n",
       "    <tr>\n",
       "      <th>CIS</th>\n",
       "      <td>43.601896</td>\n",
       "      <td>43.997271</td>\n",
       "    </tr>\n",
       "    <tr>\n",
       "      <th>MENA</th>\n",
       "      <td>41.232227</td>\n",
       "      <td>41.200546</td>\n",
       "    </tr>\n",
       "    <tr>\n",
       "      <th>EU</th>\n",
       "      <td>15.165877</td>\n",
       "      <td>14.802183</td>\n",
       "    </tr>\n",
       "  </tbody>\n",
       "</table>\n",
       "</div>"
      ],
      "text/plain": [
       "         region_a   region_b\n",
       "region                      \n",
       "CIS     43.601896  43.997271\n",
       "MENA    41.232227  41.200546\n",
       "EU      15.165877  14.802183"
      ]
     },
     "execution_count": 40,
     "metadata": {},
     "output_type": "execute_result"
    }
   ],
   "source": [
    "# Объединяем данные о долях каждого региона для пользователей из групп A и B\n",
    "\n",
    "general_table_3 = pd.concat([region_group_a.rename('region_a'), region_group_b.rename('region_b')], axis=1)\n",
    "general_table_3"
   ]
  },
  {
   "cell_type": "markdown",
   "metadata": {},
   "source": [
    "Построим диаграмму для визуализации доли каждого региона для пользователей из группы A и из группы B"
   ]
  },
  {
   "cell_type": "code",
   "execution_count": 41,
   "metadata": {},
   "outputs": [
    {
     "data": {
      "image/png": "[encoded data removed]",
      "text/plain": [
       "<Figure size 864x432 with 1 Axes>"
      ]
     },
     "metadata": {
      "needs_background": "light"
     },
     "output_type": "display_data"
    }
   ],
   "source": [
    "# Построим график столбчатой диаграммы\n",
    "\n",
    "general_table_3.plot(kind='barh',\n",
    "               title=f'Сравнение долей каждого региона для пользователей из групп A и B',\n",
    "               legend=True,\n",
    "               rot=0,\n",
    "               figsize=(12, 6))\n",
    "\n",
    "plt.xlabel(\"Доля региона\")\n",
    "plt.ylabel(\"Название региона\")\n",
    "plt.grid()\n",
    "\n",
    "plt.show()"
   ]
  },
  {
   "cell_type": "markdown",
   "metadata": {},
   "source": [
    "Исходя из построенных графиков, мы можем увидеть, что распределение регионов в группах A и B - практически идентично:\n",
    "\n",
    "- `CIS`: группа A - 43.6%, группа B - 43.9%\n",
    "- `MENA`: группа A - 41.23%, группа B - 41.2%\n",
    "- `EU`: группа A - 15.1%, группа B - 14.8%\n",
    "\n",
    "Следовательно, мы можем сделать вывод о том, что распределение регионов в группах A и B - совпадает"
   ]
  },
  {
   "cell_type": "markdown",
   "metadata": {
    "id": "X2WSZ-sDrSUi"
   },
   "source": [
    "#### 3.5. Вывод после проверки A/B-теста"
   ]
  },
  {
   "cell_type": "markdown",
   "metadata": {},
   "source": [
    "На основе проведённого анализа A/B теста можно сделать следующие выводы:\n",
    "\n",
    "- Различие в количестве пользователей в двух группах составило 11 пользователей (менее 1%), что не влияет на корректность проведения A/B теста\n",
    "- Выборки являются независимыми, поскольку пересечение пользователей из тестовой и контрольной групп - не обнаружено\n",
    "- Между тестовой и контрольной группами по категориальным переменным (устройствам и регионам) сохраняется равномерное распределение пользователей (максимальная разница в устройствах - менее 2%, максимальная разница в регионах - менее 1%)\n",
    "\n",
    "Таким образом, мы можем сделать заключение о том, что A/B проходит корректно и никаких нарушений - не наблюдается"
   ]
  },
  {
   "cell_type": "markdown",
   "metadata": {
    "id": "nudRr_BQ0eM2"
   },
   "source": [
    "### 4. Проверка результатов A/B-теста\n",
    "\n",
    "A/B-тест завершён, и у нас есть результаты за все дни проведения эксперимента. Необходимо убедиться в корректности теста и верно интерпретировать результаты."
   ]
  },
  {
   "cell_type": "markdown",
   "metadata": {
    "id": "JVve-YBB0eM2"
   },
   "source": [
    "#### 4.1. Получение результатов теста и подсчёт основной метрики"
   ]
  },
  {
   "cell_type": "markdown",
   "metadata": {},
   "source": [
    "Сохраним в датафрейм `sessions_test` CSV-файл `sessions_project_test.csv` с данными за весь период проведения A/B-теста, то есть с 2025-10-14 по 2025-11-02"
   ]
  },
  {
   "cell_type": "code",
   "execution_count": 42,
   "metadata": {},
   "outputs": [],
   "source": [
    "# Выгружаем данные в переменную\n",
    "try:\n",
    "    sessions_test = pd.read_csv('C:/Users/Student/Desktop/sessions_project_test.csv')\n",
    "except:\n",
    "    sessions_test = pd.read_csv('https://code.s3.yandex.net/datasets/sessions_project_test.csv')"
   ]
  },
  {
   "cell_type": "markdown",
   "metadata": {},
   "source": [
    "В датафрейм `sessions_test` добавим столбец `good_session`. В него войдёт значение 1, если за одну сессию было просмотрено 4 и более страниц, и значение 0, если было просмотрено меньше."
   ]
  },
  {
   "cell_type": "code",
   "execution_count": 43,
   "metadata": {},
   "outputs": [
    {
     "data": {
      "text/html": [
       "<div>\n",
       "<style scoped>\n",
       "    .dataframe tbody tr th:only-of-type {\n",
       "        vertical-align: middle;\n",
       "    }\n",
       "\n",
       "    .dataframe tbody tr th {\n",
       "        vertical-align: top;\n",
       "    }\n",
       "\n",
       "    .dataframe thead th {\n",
       "        text-align: right;\n",
       "    }\n",
       "</style>\n",
       "<table border=\"1\" class=\"dataframe\">\n",
       "  <thead>\n",
       "    <tr style=\"text-align: right;\">\n",
       "      <th></th>\n",
       "      <th>user_id</th>\n",
       "      <th>session_id</th>\n",
       "      <th>session_date</th>\n",
       "      <th>session_start_ts</th>\n",
       "      <th>install_date</th>\n",
       "      <th>session_number</th>\n",
       "      <th>registration_flag</th>\n",
       "      <th>page_counter</th>\n",
       "      <th>region</th>\n",
       "      <th>device</th>\n",
       "      <th>test_group</th>\n",
       "      <th>good_session</th>\n",
       "    </tr>\n",
       "  </thead>\n",
       "  <tbody>\n",
       "    <tr>\n",
       "      <th>0</th>\n",
       "      <td>6DAE3B3654DA738E</td>\n",
       "      <td>C69249E26E58F6E2</td>\n",
       "      <td>2025-10-26</td>\n",
       "      <td>2025-10-26 18:15:05</td>\n",
       "      <td>2025-10-16</td>\n",
       "      <td>3</td>\n",
       "      <td>0</td>\n",
       "      <td>3</td>\n",
       "      <td>MENA</td>\n",
       "      <td>Android</td>\n",
       "      <td>A</td>\n",
       "      <td>0</td>\n",
       "    </tr>\n",
       "    <tr>\n",
       "      <th>1</th>\n",
       "      <td>0A3FE5D1DD59110A</td>\n",
       "      <td>66D66D7C9F5181B7</td>\n",
       "      <td>2025-10-21</td>\n",
       "      <td>2025-10-21 17:04:53</td>\n",
       "      <td>2025-10-15</td>\n",
       "      <td>2</td>\n",
       "      <td>1</td>\n",
       "      <td>2</td>\n",
       "      <td>CIS</td>\n",
       "      <td>Android</td>\n",
       "      <td>B</td>\n",
       "      <td>0</td>\n",
       "    </tr>\n",
       "    <tr>\n",
       "      <th>2</th>\n",
       "      <td>2041F1D7AA740B88</td>\n",
       "      <td>50DE51D42215E74C</td>\n",
       "      <td>2025-10-23</td>\n",
       "      <td>2025-10-23 17:39:29</td>\n",
       "      <td>2025-10-19</td>\n",
       "      <td>3</td>\n",
       "      <td>0</td>\n",
       "      <td>2</td>\n",
       "      <td>MENA</td>\n",
       "      <td>Android</td>\n",
       "      <td>A</td>\n",
       "      <td>0</td>\n",
       "    </tr>\n",
       "    <tr>\n",
       "      <th>3</th>\n",
       "      <td>43D7585009168086</td>\n",
       "      <td>5763C0C353C22263</td>\n",
       "      <td>2025-10-24</td>\n",
       "      <td>2025-10-24 15:01:57</td>\n",
       "      <td>2025-10-18</td>\n",
       "      <td>4</td>\n",
       "      <td>0</td>\n",
       "      <td>1</td>\n",
       "      <td>CIS</td>\n",
       "      <td>iPhone</td>\n",
       "      <td>B</td>\n",
       "      <td>0</td>\n",
       "    </tr>\n",
       "    <tr>\n",
       "      <th>4</th>\n",
       "      <td>15AD68B14D62D88C</td>\n",
       "      <td>B1AD09F93C1053BC</td>\n",
       "      <td>2025-10-17</td>\n",
       "      <td>2025-10-17 17:34:39</td>\n",
       "      <td>2025-10-17</td>\n",
       "      <td>1</td>\n",
       "      <td>0</td>\n",
       "      <td>2</td>\n",
       "      <td>MENA</td>\n",
       "      <td>Android</td>\n",
       "      <td>B</td>\n",
       "      <td>0</td>\n",
       "    </tr>\n",
       "    <tr>\n",
       "      <th>...</th>\n",
       "      <td>...</td>\n",
       "      <td>...</td>\n",
       "      <td>...</td>\n",
       "      <td>...</td>\n",
       "      <td>...</td>\n",
       "      <td>...</td>\n",
       "      <td>...</td>\n",
       "      <td>...</td>\n",
       "      <td>...</td>\n",
       "      <td>...</td>\n",
       "      <td>...</td>\n",
       "      <td>...</td>\n",
       "    </tr>\n",
       "    <tr>\n",
       "      <th>100000</th>\n",
       "      <td>CF77C27B238C1BE3</td>\n",
       "      <td>0F7BC9B33685377C</td>\n",
       "      <td>2025-10-22</td>\n",
       "      <td>2025-10-22 19:01:50</td>\n",
       "      <td>2025-10-20</td>\n",
       "      <td>3</td>\n",
       "      <td>0</td>\n",
       "      <td>3</td>\n",
       "      <td>MENA</td>\n",
       "      <td>Android</td>\n",
       "      <td>A</td>\n",
       "      <td>0</td>\n",
       "    </tr>\n",
       "    <tr>\n",
       "      <th>100001</th>\n",
       "      <td>D7ED66C581409AC2</td>\n",
       "      <td>26C4475005E70F47</td>\n",
       "      <td>2025-10-17</td>\n",
       "      <td>2025-10-17 22:12:38</td>\n",
       "      <td>2025-10-17</td>\n",
       "      <td>1</td>\n",
       "      <td>0</td>\n",
       "      <td>5</td>\n",
       "      <td>CIS</td>\n",
       "      <td>PC</td>\n",
       "      <td>A</td>\n",
       "      <td>1</td>\n",
       "    </tr>\n",
       "    <tr>\n",
       "      <th>100002</th>\n",
       "      <td>E7EA2D51238020C6</td>\n",
       "      <td>9B9CDE6A612CBD73</td>\n",
       "      <td>2025-10-24</td>\n",
       "      <td>2025-10-24 14:54:07</td>\n",
       "      <td>2025-10-14</td>\n",
       "      <td>2</td>\n",
       "      <td>0</td>\n",
       "      <td>3</td>\n",
       "      <td>MENA</td>\n",
       "      <td>PC</td>\n",
       "      <td>B</td>\n",
       "      <td>0</td>\n",
       "    </tr>\n",
       "    <tr>\n",
       "      <th>100003</th>\n",
       "      <td>8A6FEFD7F34C5DA1</td>\n",
       "      <td>37291EC27106EF9D</td>\n",
       "      <td>2025-10-18</td>\n",
       "      <td>2025-10-18 00:05:10</td>\n",
       "      <td>2025-10-14</td>\n",
       "      <td>3</td>\n",
       "      <td>0</td>\n",
       "      <td>4</td>\n",
       "      <td>EU</td>\n",
       "      <td>Android</td>\n",
       "      <td>B</td>\n",
       "      <td>1</td>\n",
       "    </tr>\n",
       "    <tr>\n",
       "      <th>100004</th>\n",
       "      <td>EE2CA3C8481A0DE8</td>\n",
       "      <td>A4C833633CD4412E</td>\n",
       "      <td>2025-10-23</td>\n",
       "      <td>2025-10-23 10:02:27</td>\n",
       "      <td>2025-10-19</td>\n",
       "      <td>2</td>\n",
       "      <td>0</td>\n",
       "      <td>2</td>\n",
       "      <td>MENA</td>\n",
       "      <td>Android</td>\n",
       "      <td>B</td>\n",
       "      <td>0</td>\n",
       "    </tr>\n",
       "  </tbody>\n",
       "</table>\n",
       "<p>100005 rows × 12 columns</p>\n",
       "</div>"
      ],
      "text/plain": [
       "                 user_id        session_id session_date     session_start_ts  \\\n",
       "0       6DAE3B3654DA738E  C69249E26E58F6E2   2025-10-26  2025-10-26 18:15:05   \n",
       "1       0A3FE5D1DD59110A  66D66D7C9F5181B7   2025-10-21  2025-10-21 17:04:53   \n",
       "2       2041F1D7AA740B88  50DE51D42215E74C   2025-10-23  2025-10-23 17:39:29   \n",
       "3       43D7585009168086  5763C0C353C22263   2025-10-24  2025-10-24 15:01:57   \n",
       "4       15AD68B14D62D88C  B1AD09F93C1053BC   2025-10-17  2025-10-17 17:34:39   \n",
       "...                  ...               ...          ...                  ...   \n",
       "100000  CF77C27B238C1BE3  0F7BC9B33685377C   2025-10-22  2025-10-22 19:01:50   \n",
       "100001  D7ED66C581409AC2  26C4475005E70F47   2025-10-17  2025-10-17 22:12:38   \n",
       "100002  E7EA2D51238020C6  9B9CDE6A612CBD73   2025-10-24  2025-10-24 14:54:07   \n",
       "100003  8A6FEFD7F34C5DA1  37291EC27106EF9D   2025-10-18  2025-10-18 00:05:10   \n",
       "100004  EE2CA3C8481A0DE8  A4C833633CD4412E   2025-10-23  2025-10-23 10:02:27   \n",
       "\n",
       "       install_date  session_number  registration_flag  page_counter region  \\\n",
       "0        2025-10-16               3                  0             3   MENA   \n",
       "1        2025-10-15               2                  1             2    CIS   \n",
       "2        2025-10-19               3                  0             2   MENA   \n",
       "3        2025-10-18               4                  0             1    CIS   \n",
       "4        2025-10-17               1                  0             2   MENA   \n",
       "...             ...             ...                ...           ...    ...   \n",
       "100000   2025-10-20               3                  0             3   MENA   \n",
       "100001   2025-10-17               1                  0             5    CIS   \n",
       "100002   2025-10-14               2                  0             3   MENA   \n",
       "100003   2025-10-14               3                  0             4     EU   \n",
       "100004   2025-10-19               2                  0             2   MENA   \n",
       "\n",
       "         device test_group  good_session  \n",
       "0       Android          A             0  \n",
       "1       Android          B             0  \n",
       "2       Android          A             0  \n",
       "3        iPhone          B             0  \n",
       "4       Android          B             0  \n",
       "...         ...        ...           ...  \n",
       "100000  Android          A             0  \n",
       "100001       PC          A             1  \n",
       "100002       PC          B             0  \n",
       "100003  Android          B             1  \n",
       "100004  Android          B             0  \n",
       "\n",
       "[100005 rows x 12 columns]"
      ]
     },
     "execution_count": 43,
     "metadata": {},
     "output_type": "execute_result"
    }
   ],
   "source": [
    "# Создаём дополнительный столбец good_session, исходя из заданных условий\n",
    "\n",
    "sessions_test['good_session'] = sessions_test['page_counter'].apply(good_session_0_1)\n",
    "sessions_test"
   ]
  },
  {
   "cell_type": "markdown",
   "metadata": {},
   "source": [
    "Таким образом, мы получили новый датафрейм `sessions_test`, основанный на данных за весь период проведения A/B-теста, то есть с 2025-10-14 по 2025-11-02, а также добавили в него столбец `good_session`, который содержит в себе информацию об успешных сессиях (значение 0 - если за одну сессию было просмотрено меньше 4 страниц, 1 - если за одну сессию было просмотрено 4 и более страниц)"
   ]
  },
  {
   "cell_type": "markdown",
   "metadata": {
    "id": "aeYhrMYy0eM2"
   },
   "source": [
    "#### 4.2. Проверка корректности результатов теста"
   ]
  },
  {
   "cell_type": "markdown",
   "metadata": {
    "id": "5NUlcltkTTSU"
   },
   "source": [
    "Cоздадим два среза данных: пользователи, которые входят в группу A, пользователи, которые входят в группу B"
   ]
  },
  {
   "cell_type": "code",
   "execution_count": 44,
   "metadata": {},
   "outputs": [],
   "source": [
    "# Создаём срезы данных\n",
    "\n",
    "group_a1 = sessions_test[sessions_test['test_group'] == 'A']\n",
    "group_b1 = sessions_test[sessions_test['test_group'] == 'B']"
   ]
  },
  {
   "cell_type": "markdown",
   "metadata": {},
   "source": [
    "Рассчитаем количество уникальных сессий для каждого дня в контрольной группе"
   ]
  },
  {
   "cell_type": "code",
   "execution_count": 45,
   "metadata": {},
   "outputs": [
    {
     "data": {
      "text/plain": [
       "session_date\n",
       "2025-10-14    1502\n",
       "2025-10-15    2235\n",
       "2025-10-16    3280\n",
       "2025-10-17    4089\n",
       "2025-10-18    5013\n",
       "2025-10-19    6535\n",
       "2025-10-20    5837\n",
       "2025-10-21    3927\n",
       "2025-10-22    3083\n",
       "2025-10-23    2470\n",
       "2025-10-24    2090\n",
       "2025-10-25    1897\n",
       "2025-10-26    1669\n",
       "2025-10-27    1454\n",
       "2025-10-28    1279\n",
       "2025-10-29    1068\n",
       "2025-10-30     887\n",
       "2025-10-31     644\n",
       "2025-11-01     434\n",
       "2025-11-02     158\n",
       "Name: session_id, dtype: int64"
      ]
     },
     "execution_count": 45,
     "metadata": {},
     "output_type": "execute_result"
    }
   ],
   "source": [
    "# Рассчитываем количество уникальных сессий для каждого дня в контрольной группе\n",
    "\n",
    "unique_session_a = group_a1.groupby('session_date')['session_id'].nunique()\n",
    "unique_session_a"
   ]
  },
  {
   "cell_type": "markdown",
   "metadata": {},
   "source": [
    "Рассчитаем количество уникальных сессий для каждого дня в тестовой группе"
   ]
  },
  {
   "cell_type": "code",
   "execution_count": 46,
   "metadata": {},
   "outputs": [
    {
     "data": {
      "text/plain": [
       "session_date\n",
       "2025-10-14    1628\n",
       "2025-10-15    2283\n",
       "2025-10-16    3241\n",
       "2025-10-17    4054\n",
       "2025-10-18    5059\n",
       "2025-10-19    6779\n",
       "2025-10-20    6089\n",
       "2025-10-21    3981\n",
       "2025-10-22    3111\n",
       "2025-10-23    2548\n",
       "2025-10-24    2068\n",
       "2025-10-25    1814\n",
       "2025-10-26    1692\n",
       "2025-10-27    1517\n",
       "2025-10-28    1289\n",
       "2025-10-29    1131\n",
       "2025-10-30     876\n",
       "2025-10-31     669\n",
       "2025-11-01     465\n",
       "2025-11-02     160\n",
       "Name: session_id, dtype: int64"
      ]
     },
     "execution_count": 46,
     "metadata": {},
     "output_type": "execute_result"
    }
   ],
   "source": [
    "# Рассчитываем количество уникальных сессий для каждого дня в тестовой группе\n",
    "\n",
    "unique_session_b = group_b1.groupby('session_date')['session_id'].nunique()\n",
    "unique_session_b"
   ]
  },
  {
   "cell_type": "markdown",
   "metadata": {},
   "source": [
    "Объединим данные о количестве уникальных сессий для пользователей из группы A и из группы B"
   ]
  },
  {
   "cell_type": "code",
   "execution_count": 47,
   "metadata": {},
   "outputs": [
    {
     "data": {
      "text/html": [
       "<div>\n",
       "<style scoped>\n",
       "    .dataframe tbody tr th:only-of-type {\n",
       "        vertical-align: middle;\n",
       "    }\n",
       "\n",
       "    .dataframe tbody tr th {\n",
       "        vertical-align: top;\n",
       "    }\n",
       "\n",
       "    .dataframe thead th {\n",
       "        text-align: right;\n",
       "    }\n",
       "</style>\n",
       "<table border=\"1\" class=\"dataframe\">\n",
       "  <thead>\n",
       "    <tr style=\"text-align: right;\">\n",
       "      <th></th>\n",
       "      <th>session_a</th>\n",
       "      <th>session_b</th>\n",
       "    </tr>\n",
       "    <tr>\n",
       "      <th>session_date</th>\n",
       "      <th></th>\n",
       "      <th></th>\n",
       "    </tr>\n",
       "  </thead>\n",
       "  <tbody>\n",
       "    <tr>\n",
       "      <th>2025-10-14</th>\n",
       "      <td>1502</td>\n",
       "      <td>1628</td>\n",
       "    </tr>\n",
       "    <tr>\n",
       "      <th>2025-10-15</th>\n",
       "      <td>2235</td>\n",
       "      <td>2283</td>\n",
       "    </tr>\n",
       "    <tr>\n",
       "      <th>2025-10-16</th>\n",
       "      <td>3280</td>\n",
       "      <td>3241</td>\n",
       "    </tr>\n",
       "    <tr>\n",
       "      <th>2025-10-17</th>\n",
       "      <td>4089</td>\n",
       "      <td>4054</td>\n",
       "    </tr>\n",
       "    <tr>\n",
       "      <th>2025-10-18</th>\n",
       "      <td>5013</td>\n",
       "      <td>5059</td>\n",
       "    </tr>\n",
       "    <tr>\n",
       "      <th>2025-10-19</th>\n",
       "      <td>6535</td>\n",
       "      <td>6779</td>\n",
       "    </tr>\n",
       "    <tr>\n",
       "      <th>2025-10-20</th>\n",
       "      <td>5837</td>\n",
       "      <td>6089</td>\n",
       "    </tr>\n",
       "    <tr>\n",
       "      <th>2025-10-21</th>\n",
       "      <td>3927</td>\n",
       "      <td>3981</td>\n",
       "    </tr>\n",
       "    <tr>\n",
       "      <th>2025-10-22</th>\n",
       "      <td>3083</td>\n",
       "      <td>3111</td>\n",
       "    </tr>\n",
       "    <tr>\n",
       "      <th>2025-10-23</th>\n",
       "      <td>2470</td>\n",
       "      <td>2548</td>\n",
       "    </tr>\n",
       "    <tr>\n",
       "      <th>2025-10-24</th>\n",
       "      <td>2090</td>\n",
       "      <td>2068</td>\n",
       "    </tr>\n",
       "    <tr>\n",
       "      <th>2025-10-25</th>\n",
       "      <td>1897</td>\n",
       "      <td>1814</td>\n",
       "    </tr>\n",
       "    <tr>\n",
       "      <th>2025-10-26</th>\n",
       "      <td>1669</td>\n",
       "      <td>1692</td>\n",
       "    </tr>\n",
       "    <tr>\n",
       "      <th>2025-10-27</th>\n",
       "      <td>1454</td>\n",
       "      <td>1517</td>\n",
       "    </tr>\n",
       "    <tr>\n",
       "      <th>2025-10-28</th>\n",
       "      <td>1279</td>\n",
       "      <td>1289</td>\n",
       "    </tr>\n",
       "    <tr>\n",
       "      <th>2025-10-29</th>\n",
       "      <td>1068</td>\n",
       "      <td>1131</td>\n",
       "    </tr>\n",
       "    <tr>\n",
       "      <th>2025-10-30</th>\n",
       "      <td>887</td>\n",
       "      <td>876</td>\n",
       "    </tr>\n",
       "    <tr>\n",
       "      <th>2025-10-31</th>\n",
       "      <td>644</td>\n",
       "      <td>669</td>\n",
       "    </tr>\n",
       "    <tr>\n",
       "      <th>2025-11-01</th>\n",
       "      <td>434</td>\n",
       "      <td>465</td>\n",
       "    </tr>\n",
       "    <tr>\n",
       "      <th>2025-11-02</th>\n",
       "      <td>158</td>\n",
       "      <td>160</td>\n",
       "    </tr>\n",
       "  </tbody>\n",
       "</table>\n",
       "</div>"
      ],
      "text/plain": [
       "              session_a  session_b\n",
       "session_date                      \n",
       "2025-10-14         1502       1628\n",
       "2025-10-15         2235       2283\n",
       "2025-10-16         3280       3241\n",
       "2025-10-17         4089       4054\n",
       "2025-10-18         5013       5059\n",
       "2025-10-19         6535       6779\n",
       "2025-10-20         5837       6089\n",
       "2025-10-21         3927       3981\n",
       "2025-10-22         3083       3111\n",
       "2025-10-23         2470       2548\n",
       "2025-10-24         2090       2068\n",
       "2025-10-25         1897       1814\n",
       "2025-10-26         1669       1692\n",
       "2025-10-27         1454       1517\n",
       "2025-10-28         1279       1289\n",
       "2025-10-29         1068       1131\n",
       "2025-10-30          887        876\n",
       "2025-10-31          644        669\n",
       "2025-11-01          434        465\n",
       "2025-11-02          158        160"
      ]
     },
     "execution_count": 47,
     "metadata": {},
     "output_type": "execute_result"
    }
   ],
   "source": [
    "# Объединяем данные о долях каждого региона для пользователей из групп A и B\n",
    "\n",
    "general_table_4 = pd.concat([unique_session_a.rename('session_a'), unique_session_b.rename('session_b')], axis=1)\n",
    "general_table_4"
   ]
  },
  {
   "cell_type": "markdown",
   "metadata": {},
   "source": [
    "Проверим, что количество уникальных дневных сессий в двух выборках не различается или различия не статистически значимы. Используем статистический тест Стьюдента, который позволит сделать вывод о равенстве средних двух выборок."
   ]
  },
  {
   "cell_type": "code",
   "execution_count": 48,
   "metadata": {},
   "outputs": [
    {
     "name": "stdout",
     "output_type": "stream",
     "text": [
      "pvalue=0.938219304859116 > 0.05\n",
      "Не получилось отвергнуть нулевую гипотезу\n"
     ]
    }
   ],
   "source": [
    "# Выборка средних сессий для группы А\n",
    "sample_a = general_table_4['session_a']\n",
    "# Выборка средних сессий для группы B\n",
    "sample_b = general_table_4['session_b']\n",
    "\n",
    "test_result = ttest_ind(\n",
    "    sample_a,\n",
    "    sample_b,\n",
    "    alternative='two-sided' # HO: mu_a = mu_b, H1: mu_a ≠ mu_b\n",
    ")\n",
    "\n",
    "# Фиксируем уровень значимости\n",
    "alpha = 0.05\n",
    "\n",
    "if test_result.pvalue > alpha:\n",
    "    print(f'pvalue={test_result.pvalue} > {alpha}')\n",
    "    print('Не получилось отвергнуть нулевую гипотезу')\n",
    "else:\n",
    "    print(f'pvalue={test_result.pvalue} < {alpha}')\n",
    "    print('Отвергаем нулевую гипотезу')"
   ]
  },
  {
   "cell_type": "markdown",
   "metadata": {},
   "source": [
    "Так как pvalue = 0.938219304859116 > 0.05, мы можем сделать вывод о том, что нулевую гипотезу отвергнуть не получилось. Это значит, что статистически значимых различий среднего количества уникальных сессий двух выборок при уровне значимости alpha = 0.05 - не наблюдается"
   ]
  },
  {
   "cell_type": "markdown",
   "metadata": {
    "id": "7kwRxzg70eM3"
   },
   "source": [
    "#### 4.3. Сравнение доли успешных сессий"
   ]
  },
  {
   "cell_type": "markdown",
   "metadata": {},
   "source": [
    "Рассчитаем долю успешных сессий для выборки A"
   ]
  },
  {
   "cell_type": "code",
   "execution_count": 49,
   "metadata": {},
   "outputs": [
    {
     "data": {
      "text/plain": [
       "0.3077233557344958"
      ]
     },
     "execution_count": 49,
     "metadata": {},
     "output_type": "execute_result"
    }
   ],
   "source": [
    "# Рассчитываем долю успешных сессий для выборки A\n",
    "\n",
    "prop_good_session_a = (group_a1['good_session'].sum()/group_a1['session_id'].nunique())\n",
    "prop_good_session_a"
   ]
  },
  {
   "cell_type": "markdown",
   "metadata": {},
   "source": [
    "Рассчитаем долю успешных сессий для выборки B"
   ]
  },
  {
   "cell_type": "code",
   "execution_count": 50,
   "metadata": {},
   "outputs": [
    {
     "data": {
      "text/plain": [
       "0.31828992745867524"
      ]
     },
     "execution_count": 50,
     "metadata": {},
     "output_type": "execute_result"
    }
   ],
   "source": [
    "# Рассчитываем долю успешных сессий для выборки A\n",
    "\n",
    "prop_good_session_b = (group_b1['good_session'].sum()/group_b1['session_id'].nunique())\n",
    "prop_good_session_b"
   ]
  },
  {
   "cell_type": "markdown",
   "metadata": {},
   "source": [
    "Рассчитаем разницу между долей успешных сессий для выборки A и долей успешных сессий для выборки B"
   ]
  },
  {
   "cell_type": "code",
   "execution_count": 51,
   "metadata": {},
   "outputs": [
    {
     "data": {
      "text/plain": [
       "-0.010566571724179463"
      ]
     },
     "execution_count": 51,
     "metadata": {},
     "output_type": "execute_result"
    }
   ],
   "source": [
    "# Рассчитываем разницу между долей успешных сессий для выборки A и долей успешных сессий для выборки B\n",
    "\n",
    "prog_good_session_a_b = prop_good_session_a - prop_good_session_b\n",
    "prog_good_session_a_b"
   ]
  },
  {
   "cell_type": "markdown",
   "metadata": {},
   "source": [
    "Исходя из вычисленных, можно сделать вывод о том, что доля успешных сессий в тестовой выборке примерно на 1.1% выше, чем в контрольной выборке"
   ]
  },
  {
   "cell_type": "markdown",
   "metadata": {
    "id": "9fMFuja10eM4"
   },
   "source": [
    "#### 4.4. Насколько статистически значимо изменение ключевой метрики"
   ]
  },
  {
   "cell_type": "markdown",
   "metadata": {
    "id": "gFvhRGwlPLS0"
   },
   "source": [
    "Рассчитаем, является ли изменение в метрике доли успешных сессий статистически значимым. Для этого используем статистический Z-тест пропорций, поскольку диапазон значений нашей метрики колеблется от 0 до 1"
   ]
  },
  {
   "cell_type": "code",
   "execution_count": 52,
   "metadata": {},
   "outputs": [
    {
     "name": "stdout",
     "output_type": "stream",
     "text": [
      "Предпосылка о достаточном количестве данных выполняется!\n",
      "pvalue=0.0001574739988036123 < 0.05\n",
      "Отвергаем нулевую гипотезу\n",
      "Наблюдается статистически значимое изменение доли успешных сессий в группе B по сравнению с группой A\n"
     ]
    }
   ],
   "source": [
    "n_a = group_a1.shape[0] # размер группы A\n",
    "\n",
    "n_b = group_b1.shape[0] # размер группы B\n",
    "\n",
    "m_a = group_a1['good_session'].sum() # количество успешных сессий в группе A\n",
    "\n",
    "m_b = group_b1['good_session'].sum() # количество успешных сессий в группе B\n",
    "\n",
    "p_a, p_b = m_a/n_a, m_b/n_b # доли успешных сессий для каждой группы: A и B\n",
    "\n",
    "if (p_a*n_a>10)and((1-p_a)*n_a>10)and(p_b*n_b>10)and((1-p_b)*n_b>10): # проверяем предпосылку о достаточном количестве данных\n",
    "    print('Предпосылка о достаточном количестве данных выполняется!')\n",
    "else:\n",
    "    print('Предпосылка о достаточном количестве данных не выполняется!')\n",
    "\n",
    "alpha = 0.05 ## установите уровень значимости\n",
    "\n",
    "\n",
    "stat_ztest, p_value_ztest = proportions_ztest(\n",
    "  [m_a, m_b],\n",
    "  [n_a, n_b],\n",
    "  alternative='smaller' # проводим Z-тест пропорций, H0: p_a = p_b, H1: p_a < p_b, так как мы проверяем: значимо ли статистически увеличение доли успешных сессий в группе B по сравнению с группой A\n",
    ") \n",
    "\n",
    "if p_value_ztest > alpha:\n",
    "    print(f'pvalue={p_value_ztest} > {alpha}')\n",
    "    print('Не получилось отвергнуть нулевую гипотезу')\n",
    "    print('Статистически значимое увеличение доли успешных сессий в группе B по сравнению с группой A - не наблюдается')\n",
    "else:\n",
    "    print(f'pvalue={p_value_ztest} < {alpha}')\n",
    "    print('Отвергаем нулевую гипотезу')\n",
    "    print('Наблюдается статистически значимое изменение доли успешных сессий в группе B по сравнению с группой A')"
   ]
  },
  {
   "cell_type": "markdown",
   "metadata": {},
   "source": [
    "Так как pvalue = 0.0001574739988036123 < 0.05, мы можем сделать вывод о том, что мы отвергаем нулевую гипотезу. Это значит, что наблюдается статичестически значимое увеличение доли успешных сессий в группе B по сравнению с группой A при уровне значимости alpha = 0.05"
   ]
  },
  {
   "cell_type": "markdown",
   "metadata": {
    "id": "GnJrkY9Q63zS"
   },
   "source": [
    "#### 4.5. Вывод по результатам A/B-эксперимента"
   ]
  },
  {
   "cell_type": "markdown",
   "metadata": {},
   "source": [
    "Характеристики проведённого эксперимента:\n",
    "\n",
    "- Уровень значимости — 0.05.\n",
    "- Вероятность ошибки второго рода — 0.2.\n",
    "- Мощность теста - 0.8.\n",
    "- Минимальный детектируемый эффект, или MDE, — 3%.\n",
    "- Необходимый размер выборки для каждой группы: 17441 пользователь\n",
    "- Рассчитанная длительность A/B теста составила 4 дня\n",
    "\n",
    "На основе проведённого анализа результатов теста по вышезаданным параметрам мы можем сделать следующие выводы:\n",
    "\n",
    "- Внедрение нового алгоритма рекомендаций увеличило ключевую метрику на 1.1%. То есть, произошло увеличение доли успешных сессий на 1.1%\n",
    "- 0.0001574739988036123 - значение p-value, которое использовалось для оценки статистической значимости выявленного эффекта\n",
    "- Данное нововведение стоит внедрять в приложение, поскольку проведённый Z-тест пропорций показал, что существует статистически значимое различие доли успешных сессий в группе B по сравнению с группой A. Если быть точнее, то в тестовой группе B наблюдается статически значимое увеличение доли успешных сессий по сравнению с контрольной группой A на 1.1%"
   ]
  }
 ],
 "metadata": {
  "ExecuteTimeLog": [
   {
    "duration": 363,
    "start_time": "2025-04-17T08:50:08.911Z"
   },
   {
    "duration": 2085,
    "start_time": "2025-04-17T08:52:35.219Z"
   },
   {
    "duration": 15,
    "start_time": "2025-04-17T08:53:02.502Z"
   },
   {
    "duration": 61,
    "start_time": "2025-04-17T08:56:14.460Z"
   },
   {
    "duration": 549,
    "start_time": "2025-04-17T08:56:55.458Z"
   },
   {
    "duration": 47,
    "start_time": "2025-04-17T09:02:10.250Z"
   },
   {
    "duration": 44,
    "start_time": "2025-04-17T09:02:14.903Z"
   },
   {
    "duration": 53,
    "start_time": "2025-04-17T09:04:29.885Z"
   },
   {
    "duration": 7,
    "start_time": "2025-04-17T09:04:49.405Z"
   },
   {
    "duration": 5,
    "start_time": "2025-04-17T09:04:55.826Z"
   },
   {
    "duration": 4,
    "start_time": "2025-04-17T09:05:18.702Z"
   },
   {
    "duration": 8,
    "start_time": "2025-04-17T09:07:00.233Z"
   },
   {
    "duration": 38,
    "start_time": "2025-04-17T09:08:07.449Z"
   },
   {
    "duration": 138,
    "start_time": "2025-04-17T09:12:44.078Z"
   },
   {
    "duration": 441,
    "start_time": "2025-04-17T10:39:41.960Z"
   },
   {
    "duration": 2165,
    "start_time": "2025-04-17T10:39:42.891Z"
   },
   {
    "duration": 17,
    "start_time": "2025-04-17T10:39:46.123Z"
   },
   {
    "duration": 134,
    "start_time": "2025-04-17T10:39:47.586Z"
   },
   {
    "duration": 500,
    "start_time": "2025-04-17T10:39:49.208Z"
   },
   {
    "duration": 559,
    "start_time": "2025-04-17T10:39:56.247Z"
   },
   {
    "duration": 42,
    "start_time": "2025-04-17T10:39:58.798Z"
   },
   {
    "duration": 5,
    "start_time": "2025-04-17T10:40:00.249Z"
   },
   {
    "duration": 37,
    "start_time": "2025-04-17T10:40:01.206Z"
   },
   {
    "duration": 182,
    "start_time": "2025-04-17T10:43:11.440Z"
   },
   {
    "duration": 69,
    "start_time": "2025-04-17T10:43:40.633Z"
   },
   {
    "duration": 63,
    "start_time": "2025-04-17T10:44:22.065Z"
   },
   {
    "duration": 29,
    "start_time": "2025-04-17T10:45:45.613Z"
   },
   {
    "duration": 181,
    "start_time": "2025-04-17T10:46:20.550Z"
   },
   {
    "duration": 40,
    "start_time": "2025-04-17T10:46:44.052Z"
   },
   {
    "duration": 79,
    "start_time": "2025-04-17T10:51:46.836Z"
   },
   {
    "duration": 157,
    "start_time": "2025-04-17T10:51:55.398Z"
   },
   {
    "duration": 59,
    "start_time": "2025-04-17T10:51:57.976Z"
   },
   {
    "duration": 29,
    "start_time": "2025-04-17T10:52:00.048Z"
   },
   {
    "duration": 420,
    "start_time": "2025-04-17T10:54:18.388Z"
   },
   {
    "duration": 330,
    "start_time": "2025-04-17T10:54:23.160Z"
   },
   {
    "duration": 216,
    "start_time": "2025-04-17T10:54:42.405Z"
   },
   {
    "duration": 211,
    "start_time": "2025-04-17T11:01:00.623Z"
   },
   {
    "duration": 280,
    "start_time": "2025-04-17T11:01:26.220Z"
   },
   {
    "duration": 220,
    "start_time": "2025-04-17T11:02:31.909Z"
   },
   {
    "duration": 218,
    "start_time": "2025-04-17T11:02:54.561Z"
   },
   {
    "duration": 228,
    "start_time": "2025-04-17T11:03:00.011Z"
   },
   {
    "duration": 216,
    "start_time": "2025-04-17T11:03:02.729Z"
   },
   {
    "duration": 4,
    "start_time": "2025-04-17T11:05:10.569Z"
   },
   {
    "duration": 10,
    "start_time": "2025-04-17T11:05:15.875Z"
   },
   {
    "duration": 81,
    "start_time": "2025-04-17T11:06:08.748Z"
   },
   {
    "duration": 10,
    "start_time": "2025-04-17T11:06:13.796Z"
   },
   {
    "duration": 239,
    "start_time": "2025-04-17T11:06:41.503Z"
   },
   {
    "duration": 194,
    "start_time": "2025-04-17T11:12:48.302Z"
   },
   {
    "duration": 182,
    "start_time": "2025-04-17T11:12:52.007Z"
   },
   {
    "duration": 176,
    "start_time": "2025-04-17T11:13:01.106Z"
   },
   {
    "duration": 24,
    "start_time": "2025-04-17T11:15:23.611Z"
   },
   {
    "duration": 25,
    "start_time": "2025-04-17T11:15:28.182Z"
   },
   {
    "duration": 22,
    "start_time": "2025-04-17T11:15:42.109Z"
   },
   {
    "duration": 114,
    "start_time": "2025-04-17T11:15:57.757Z"
   },
   {
    "duration": 115,
    "start_time": "2025-04-17T11:16:09.794Z"
   },
   {
    "duration": 24,
    "start_time": "2025-04-17T11:16:57.205Z"
   },
   {
    "duration": 121,
    "start_time": "2025-04-17T11:17:00.611Z"
   },
   {
    "duration": 196,
    "start_time": "2025-04-17T11:19:41.254Z"
   },
   {
    "duration": 120,
    "start_time": "2025-04-17T11:20:31.316Z"
   },
   {
    "duration": 119,
    "start_time": "2025-04-17T11:20:34.227Z"
   },
   {
    "duration": 112,
    "start_time": "2025-04-17T11:20:42.931Z"
   },
   {
    "duration": 195,
    "start_time": "2025-04-17T11:20:46.051Z"
   },
   {
    "duration": 78,
    "start_time": "2025-04-17T11:22:19.000Z"
   },
   {
    "duration": 6,
    "start_time": "2025-04-17T11:23:19.619Z"
   },
   {
    "duration": 8,
    "start_time": "2025-04-17T11:23:21.894Z"
   },
   {
    "duration": 17,
    "start_time": "2025-04-17T11:24:28.068Z"
   },
   {
    "duration": 8,
    "start_time": "2025-04-17T11:24:35.371Z"
   },
   {
    "duration": 194,
    "start_time": "2025-04-17T11:25:26.628Z"
   },
   {
    "duration": 166,
    "start_time": "2025-04-17T11:25:29.028Z"
   },
   {
    "duration": 183,
    "start_time": "2025-04-17T11:25:31.826Z"
   },
   {
    "duration": 206,
    "start_time": "2025-04-17T11:26:24.092Z"
   },
   {
    "duration": 9,
    "start_time": "2025-04-17T11:26:40.997Z"
   },
   {
    "duration": 8,
    "start_time": "2025-04-17T11:26:48.994Z"
   },
   {
    "duration": 8,
    "start_time": "2025-04-17T11:26:54.605Z"
   },
   {
    "duration": 1007,
    "start_time": "2025-04-17T11:28:58.994Z"
   },
   {
    "duration": 172,
    "start_time": "2025-04-17T11:29:35.742Z"
   },
   {
    "duration": 178,
    "start_time": "2025-04-17T11:29:39.504Z"
   },
   {
    "duration": 217,
    "start_time": "2025-04-17T11:30:03.137Z"
   },
   {
    "duration": 210,
    "start_time": "2025-04-17T11:31:02.658Z"
   },
   {
    "duration": 33,
    "start_time": "2025-04-17T11:32:04.499Z"
   },
   {
    "duration": 253,
    "start_time": "2025-04-17T11:32:10.274Z"
   },
   {
    "duration": 3017,
    "start_time": "2025-04-17T11:35:31.859Z"
   },
   {
    "duration": 159,
    "start_time": "2025-04-17T11:38:58.380Z"
   },
   {
    "duration": 142,
    "start_time": "2025-04-17T11:39:34.082Z"
   },
   {
    "duration": 3,
    "start_time": "2025-04-17T11:42:30.841Z"
   },
   {
    "duration": 3,
    "start_time": "2025-04-17T11:42:33.846Z"
   },
   {
    "duration": 22,
    "start_time": "2025-04-17T11:42:57.662Z"
   },
   {
    "duration": 71,
    "start_time": "2025-04-17T11:43:25.690Z"
   },
   {
    "duration": 21,
    "start_time": "2025-04-17T11:43:33.241Z"
   },
   {
    "duration": 35,
    "start_time": "2025-04-17T11:45:42.442Z"
   },
   {
    "duration": 414,
    "start_time": "2025-04-17T11:48:46.088Z"
   },
   {
    "duration": 65,
    "start_time": "2025-04-17T11:49:09.093Z"
   },
   {
    "duration": 66,
    "start_time": "2025-04-17T11:49:26.755Z"
   },
   {
    "duration": 60,
    "start_time": "2025-04-17T11:49:35.502Z"
   },
   {
    "duration": 63,
    "start_time": "2025-04-17T11:49:41.583Z"
   },
   {
    "duration": 65,
    "start_time": "2025-04-17T11:50:34.482Z"
   },
   {
    "duration": 1459,
    "start_time": "2025-04-17T11:51:06.785Z"
   },
   {
    "duration": 53,
    "start_time": "2025-04-17T11:51:20.281Z"
   },
   {
    "duration": 3,
    "start_time": "2025-04-17T11:52:25.237Z"
   },
   {
    "duration": 6,
    "start_time": "2025-04-17T11:52:27.942Z"
   },
   {
    "duration": 252,
    "start_time": "2025-04-17T11:53:57.830Z"
   },
   {
    "duration": 6,
    "start_time": "2025-04-17T11:54:15.422Z"
   },
   {
    "duration": 213,
    "start_time": "2025-04-17T11:54:30.279Z"
   },
   {
    "duration": 8,
    "start_time": "2025-04-17T11:54:49.637Z"
   },
   {
    "duration": 216,
    "start_time": "2025-04-17T11:54:51.790Z"
   },
   {
    "duration": 7,
    "start_time": "2025-04-17T11:55:01.823Z"
   },
   {
    "duration": 7,
    "start_time": "2025-04-17T11:55:04.873Z"
   },
   {
    "duration": 6,
    "start_time": "2025-04-17T11:55:18.838Z"
   },
   {
    "duration": 212,
    "start_time": "2025-04-17T11:55:20.938Z"
   },
   {
    "duration": 231,
    "start_time": "2025-04-17T11:58:50.853Z"
   },
   {
    "duration": 225,
    "start_time": "2025-04-17T11:59:54.571Z"
   },
   {
    "duration": 8,
    "start_time": "2025-04-17T12:04:07.655Z"
   },
   {
    "duration": 8,
    "start_time": "2025-04-17T12:04:13.742Z"
   },
   {
    "duration": 54,
    "start_time": "2025-04-17T12:04:20.474Z"
   },
   {
    "duration": 120,
    "start_time": "2025-04-17T12:06:14.867Z"
   },
   {
    "duration": 204,
    "start_time": "2025-04-17T12:06:56.461Z"
   },
   {
    "duration": 309,
    "start_time": "2025-04-17T12:07:02.675Z"
   },
   {
    "duration": 417,
    "start_time": "2025-04-17T12:07:12.148Z"
   },
   {
    "duration": 142,
    "start_time": "2025-04-17T12:07:20.300Z"
   },
   {
    "duration": 449,
    "start_time": "2025-04-17T12:07:25.861Z"
   },
   {
    "duration": 411,
    "start_time": "2025-04-17T12:07:56.245Z"
   },
   {
    "duration": 148,
    "start_time": "2025-04-17T12:08:01.865Z"
   },
   {
    "duration": 92,
    "start_time": "2025-04-17T12:08:03.769Z"
   },
   {
    "duration": 54,
    "start_time": "2025-04-17T12:08:38.451Z"
   },
   {
    "duration": 702,
    "start_time": "2025-04-17T12:09:22.037Z"
   },
   {
    "duration": 2302,
    "start_time": "2025-04-17T12:09:23.258Z"
   },
   {
    "duration": 15,
    "start_time": "2025-04-17T12:09:26.519Z"
   },
   {
    "duration": 148,
    "start_time": "2025-04-17T12:09:28.325Z"
   },
   {
    "duration": 349,
    "start_time": "2025-04-17T12:09:34.604Z"
   },
   {
    "duration": 585,
    "start_time": "2025-04-17T12:09:39.361Z"
   },
   {
    "duration": 52,
    "start_time": "2025-04-17T12:09:56.023Z"
   },
   {
    "duration": 5,
    "start_time": "2025-04-17T12:09:57.881Z"
   },
   {
    "duration": 45,
    "start_time": "2025-04-17T12:10:43.633Z"
   },
   {
    "duration": 39,
    "start_time": "2025-04-17T12:10:46.524Z"
   },
   {
    "duration": 41,
    "start_time": "2025-04-17T12:10:47.807Z"
   },
   {
    "duration": 41,
    "start_time": "2025-04-17T12:10:49.678Z"
   },
   {
    "duration": 156,
    "start_time": "2025-04-17T12:10:55.408Z"
   },
   {
    "duration": 143,
    "start_time": "2025-04-17T12:10:57.603Z"
   },
   {
    "duration": 142,
    "start_time": "2025-04-17T12:10:58.114Z"
   },
   {
    "duration": 142,
    "start_time": "2025-04-17T12:10:58.767Z"
   },
   {
    "duration": 40,
    "start_time": "2025-04-17T12:11:01.303Z"
   },
   {
    "duration": 146,
    "start_time": "2025-04-17T12:11:02.080Z"
   },
   {
    "duration": 33,
    "start_time": "2025-04-17T12:11:02.720Z"
   },
   {
    "duration": 320,
    "start_time": "2025-04-17T12:11:03.033Z"
   },
   {
    "duration": 125,
    "start_time": "2025-04-17T12:11:04.028Z"
   },
   {
    "duration": 204,
    "start_time": "2025-04-17T12:11:04.472Z"
   },
   {
    "duration": 29,
    "start_time": "2025-04-17T12:11:05.738Z"
   },
   {
    "duration": 215,
    "start_time": "2025-04-17T12:11:06.466Z"
   },
   {
    "duration": 149,
    "start_time": "2025-04-17T12:11:07.722Z"
   },
   {
    "duration": 14,
    "start_time": "2025-04-17T12:11:08.651Z"
   },
   {
    "duration": 32,
    "start_time": "2025-04-17T12:11:09.340Z"
   },
   {
    "duration": 8,
    "start_time": "2025-04-17T12:11:10.027Z"
   },
   {
    "duration": 232,
    "start_time": "2025-04-17T12:11:10.691Z"
   },
   {
    "duration": 484,
    "start_time": "2025-04-17T12:14:59.237Z"
   },
   {
    "duration": 100,
    "start_time": "2025-04-17T12:27:27.175Z"
   },
   {
    "duration": 14,
    "start_time": "2025-04-17T12:27:49.241Z"
   },
   {
    "duration": 141,
    "start_time": "2025-04-17T12:30:41.952Z"
   },
   {
    "duration": 156,
    "start_time": "2025-04-17T12:31:19.994Z"
   },
   {
    "duration": 154,
    "start_time": "2025-04-17T12:33:28.463Z"
   },
   {
    "duration": 152,
    "start_time": "2025-04-17T12:33:38.350Z"
   },
   {
    "duration": 152,
    "start_time": "2025-04-17T12:36:16.480Z"
   },
   {
    "duration": 146,
    "start_time": "2025-04-17T12:36:32.410Z"
   },
   {
    "duration": 173,
    "start_time": "2025-04-17T12:36:38.008Z"
   },
   {
    "duration": 145,
    "start_time": "2025-04-17T12:36:43.010Z"
   },
   {
    "duration": 153,
    "start_time": "2025-04-17T12:36:50.729Z"
   },
   {
    "duration": 151,
    "start_time": "2025-04-17T12:36:53.817Z"
   },
   {
    "duration": 153,
    "start_time": "2025-04-17T12:36:56.704Z"
   },
   {
    "duration": 154,
    "start_time": "2025-04-17T12:36:58.566Z"
   },
   {
    "duration": 146,
    "start_time": "2025-04-17T12:40:50.290Z"
   },
   {
    "duration": 147,
    "start_time": "2025-04-17T12:40:54.536Z"
   },
   {
    "duration": 145,
    "start_time": "2025-04-17T12:41:01.099Z"
   },
   {
    "duration": 127,
    "start_time": "2025-04-17T12:49:24.580Z"
   },
   {
    "duration": 129,
    "start_time": "2025-04-17T12:50:41.092Z"
   },
   {
    "duration": 15,
    "start_time": "2025-04-17T12:51:15.684Z"
   },
   {
    "duration": 132,
    "start_time": "2025-04-17T12:51:17.674Z"
   },
   {
    "duration": 709,
    "start_time": "2025-04-17T12:56:19.756Z"
   },
   {
    "duration": 2277,
    "start_time": "2025-04-17T12:56:20.467Z"
   },
   {
    "duration": 18,
    "start_time": "2025-04-17T12:56:22.745Z"
   },
   {
    "duration": 146,
    "start_time": "2025-04-17T12:56:22.764Z"
   },
   {
    "duration": 323,
    "start_time": "2025-04-17T12:56:22.912Z"
   },
   {
    "duration": 570,
    "start_time": "2025-04-17T12:56:23.236Z"
   },
   {
    "duration": 42,
    "start_time": "2025-04-17T12:56:23.807Z"
   },
   {
    "duration": 5,
    "start_time": "2025-04-17T12:56:23.862Z"
   },
   {
    "duration": 47,
    "start_time": "2025-04-17T12:56:23.868Z"
   },
   {
    "duration": 163,
    "start_time": "2025-04-17T12:56:23.916Z"
   },
   {
    "duration": 33,
    "start_time": "2025-04-17T12:56:24.080Z"
   },
   {
    "duration": 353,
    "start_time": "2025-04-17T12:56:24.115Z"
   },
   {
    "duration": 118,
    "start_time": "2025-04-17T12:56:24.469Z"
   },
   {
    "duration": 202,
    "start_time": "2025-04-17T12:56:24.589Z"
   },
   {
    "duration": 28,
    "start_time": "2025-04-17T12:56:24.793Z"
   },
   {
    "duration": 212,
    "start_time": "2025-04-17T12:56:24.822Z"
   },
   {
    "duration": 147,
    "start_time": "2025-04-17T12:56:25.036Z"
   },
   {
    "duration": 12,
    "start_time": "2025-04-17T12:56:25.184Z"
   },
   {
    "duration": 38,
    "start_time": "2025-04-17T12:56:25.198Z"
   },
   {
    "duration": 6,
    "start_time": "2025-04-17T12:56:25.237Z"
   },
   {
    "duration": 231,
    "start_time": "2025-04-17T12:56:25.244Z"
   },
   {
    "duration": 512,
    "start_time": "2025-04-17T12:56:25.477Z"
   },
   {
    "duration": 142,
    "start_time": "2025-04-17T12:56:25.991Z"
   },
   {
    "duration": 618,
    "start_time": "2025-04-17T12:59:25.567Z"
   },
   {
    "duration": 1785,
    "start_time": "2025-04-17T12:59:26.186Z"
   },
   {
    "duration": 19,
    "start_time": "2025-04-17T12:59:27.972Z"
   },
   {
    "duration": 152,
    "start_time": "2025-04-17T12:59:27.992Z"
   },
   {
    "duration": 333,
    "start_time": "2025-04-17T12:59:28.147Z"
   },
   {
    "duration": 565,
    "start_time": "2025-04-17T12:59:28.481Z"
   },
   {
    "duration": 52,
    "start_time": "2025-04-17T12:59:29.047Z"
   },
   {
    "duration": 4,
    "start_time": "2025-04-17T12:59:29.101Z"
   },
   {
    "duration": 71,
    "start_time": "2025-04-17T12:59:29.107Z"
   },
   {
    "duration": 155,
    "start_time": "2025-04-17T12:59:29.179Z"
   },
   {
    "duration": 38,
    "start_time": "2025-04-17T12:59:29.336Z"
   },
   {
    "duration": 322,
    "start_time": "2025-04-17T12:59:29.376Z"
   },
   {
    "duration": 121,
    "start_time": "2025-04-17T12:59:29.700Z"
   },
   {
    "duration": 200,
    "start_time": "2025-04-17T12:59:29.823Z"
   },
   {
    "duration": 45,
    "start_time": "2025-04-17T12:59:30.025Z"
   },
   {
    "duration": 333,
    "start_time": "2025-04-17T12:59:30.072Z"
   },
   {
    "duration": 143,
    "start_time": "2025-04-17T12:59:30.406Z"
   },
   {
    "duration": 16,
    "start_time": "2025-04-17T12:59:30.551Z"
   },
   {
    "duration": 115,
    "start_time": "2025-04-17T12:59:30.568Z"
   },
   {
    "duration": 7,
    "start_time": "2025-04-17T12:59:30.684Z"
   },
   {
    "duration": 231,
    "start_time": "2025-04-17T12:59:30.692Z"
   },
   {
    "duration": 474,
    "start_time": "2025-04-17T12:59:30.924Z"
   },
   {
    "duration": 146,
    "start_time": "2025-04-17T12:59:31.400Z"
   },
   {
    "duration": 667,
    "start_time": "2025-04-17T13:00:30.135Z"
   },
   {
    "duration": 1732,
    "start_time": "2025-04-17T13:00:30.804Z"
   },
   {
    "duration": 14,
    "start_time": "2025-04-17T13:00:32.537Z"
   },
   {
    "duration": 232,
    "start_time": "2025-04-17T13:00:32.552Z"
   },
   {
    "duration": 335,
    "start_time": "2025-04-17T13:00:32.786Z"
   },
   {
    "duration": 540,
    "start_time": "2025-04-17T13:00:33.123Z"
   },
   {
    "duration": 38,
    "start_time": "2025-04-17T13:00:33.664Z"
   },
   {
    "duration": 40,
    "start_time": "2025-04-17T13:00:33.704Z"
   },
   {
    "duration": 59,
    "start_time": "2025-04-17T13:00:33.745Z"
   },
   {
    "duration": 169,
    "start_time": "2025-04-17T13:00:33.806Z"
   },
   {
    "duration": 31,
    "start_time": "2025-04-17T13:00:33.977Z"
   },
   {
    "duration": 325,
    "start_time": "2025-04-17T13:00:34.010Z"
   },
   {
    "duration": 118,
    "start_time": "2025-04-17T13:00:34.336Z"
   },
   {
    "duration": 201,
    "start_time": "2025-04-17T13:00:34.464Z"
   },
   {
    "duration": 28,
    "start_time": "2025-04-17T13:00:34.667Z"
   },
   {
    "duration": 205,
    "start_time": "2025-04-17T13:00:34.696Z"
   },
   {
    "duration": 150,
    "start_time": "2025-04-17T13:00:34.903Z"
   },
   {
    "duration": 17,
    "start_time": "2025-04-17T13:00:35.054Z"
   },
   {
    "duration": 57,
    "start_time": "2025-04-17T13:00:35.073Z"
   },
   {
    "duration": 10,
    "start_time": "2025-04-17T13:00:35.132Z"
   },
   {
    "duration": 238,
    "start_time": "2025-04-17T13:00:35.143Z"
   },
   {
    "duration": 509,
    "start_time": "2025-04-17T13:00:35.383Z"
   },
   {
    "duration": 151,
    "start_time": "2025-04-17T13:00:35.894Z"
   },
   {
    "duration": 634,
    "start_time": "2025-04-17T13:01:31.497Z"
   },
   {
    "duration": 1990,
    "start_time": "2025-04-17T13:01:32.134Z"
   },
   {
    "duration": 13,
    "start_time": "2025-04-17T13:01:34.126Z"
   },
   {
    "duration": 156,
    "start_time": "2025-04-17T13:01:34.140Z"
   },
   {
    "duration": 324,
    "start_time": "2025-04-17T13:01:34.298Z"
   },
   {
    "duration": 573,
    "start_time": "2025-04-17T13:01:34.624Z"
   },
   {
    "duration": 37,
    "start_time": "2025-04-17T13:01:35.198Z"
   },
   {
    "duration": 4,
    "start_time": "2025-04-17T13:01:35.236Z"
   },
   {
    "duration": 60,
    "start_time": "2025-04-17T13:01:35.241Z"
   },
   {
    "duration": 158,
    "start_time": "2025-04-17T13:01:35.302Z"
   },
   {
    "duration": 35,
    "start_time": "2025-04-17T13:01:35.462Z"
   },
   {
    "duration": 316,
    "start_time": "2025-04-17T13:01:35.498Z"
   },
   {
    "duration": 119,
    "start_time": "2025-04-17T13:01:35.816Z"
   },
   {
    "duration": 202,
    "start_time": "2025-04-17T13:01:35.938Z"
   },
   {
    "duration": 36,
    "start_time": "2025-04-17T13:01:36.142Z"
   },
   {
    "duration": 201,
    "start_time": "2025-04-17T13:01:36.179Z"
   },
   {
    "duration": 146,
    "start_time": "2025-04-17T13:01:36.382Z"
   },
   {
    "duration": 13,
    "start_time": "2025-04-17T13:01:36.529Z"
   },
   {
    "duration": 44,
    "start_time": "2025-04-17T13:01:36.544Z"
   },
   {
    "duration": 70,
    "start_time": "2025-04-17T13:01:36.589Z"
   },
   {
    "duration": 235,
    "start_time": "2025-04-17T13:01:36.661Z"
   },
   {
    "duration": 497,
    "start_time": "2025-04-17T13:01:36.897Z"
   },
   {
    "duration": 142,
    "start_time": "2025-04-17T13:01:37.396Z"
   },
   {
    "duration": 648,
    "start_time": "2025-04-17T13:05:48.763Z"
   },
   {
    "duration": 1922,
    "start_time": "2025-04-17T13:05:49.412Z"
   },
   {
    "duration": 13,
    "start_time": "2025-04-17T13:05:51.336Z"
   },
   {
    "duration": 155,
    "start_time": "2025-04-17T13:05:51.351Z"
   },
   {
    "duration": 321,
    "start_time": "2025-04-17T13:05:51.508Z"
   },
   {
    "duration": 563,
    "start_time": "2025-04-17T13:05:51.831Z"
   },
   {
    "duration": 42,
    "start_time": "2025-04-17T13:05:52.396Z"
   },
   {
    "duration": 4,
    "start_time": "2025-04-17T13:05:52.439Z"
   },
   {
    "duration": 56,
    "start_time": "2025-04-17T13:05:52.445Z"
   },
   {
    "duration": 282,
    "start_time": "2025-04-17T13:05:52.503Z"
   },
   {
    "duration": 31,
    "start_time": "2025-04-17T13:05:52.786Z"
   },
   {
    "duration": 304,
    "start_time": "2025-04-17T13:05:52.819Z"
   },
   {
    "duration": 105,
    "start_time": "2025-04-17T13:05:53.125Z"
   },
   {
    "duration": 192,
    "start_time": "2025-04-17T13:05:53.232Z"
   },
   {
    "duration": 40,
    "start_time": "2025-04-17T13:05:53.425Z"
   },
   {
    "duration": 189,
    "start_time": "2025-04-17T13:05:53.467Z"
   },
   {
    "duration": 148,
    "start_time": "2025-04-17T13:05:53.657Z"
   },
   {
    "duration": 13,
    "start_time": "2025-04-17T13:05:53.806Z"
   },
   {
    "duration": 46,
    "start_time": "2025-04-17T13:05:53.821Z"
   },
   {
    "duration": 7,
    "start_time": "2025-04-17T13:05:53.869Z"
   },
   {
    "duration": 226,
    "start_time": "2025-04-17T13:05:53.877Z"
   },
   {
    "duration": 489,
    "start_time": "2025-04-17T13:05:54.106Z"
   },
   {
    "duration": 147,
    "start_time": "2025-04-17T13:05:54.598Z"
   },
   {
    "duration": 654,
    "start_time": "2025-04-17T13:06:28.158Z"
   },
   {
    "duration": 1841,
    "start_time": "2025-04-17T13:06:28.814Z"
   },
   {
    "duration": 19,
    "start_time": "2025-04-17T13:06:30.656Z"
   },
   {
    "duration": 154,
    "start_time": "2025-04-17T13:06:30.677Z"
   },
   {
    "duration": 330,
    "start_time": "2025-04-17T13:06:30.833Z"
   },
   {
    "duration": 575,
    "start_time": "2025-04-17T13:06:31.165Z"
   },
   {
    "duration": 52,
    "start_time": "2025-04-17T13:06:31.742Z"
   },
   {
    "duration": 5,
    "start_time": "2025-04-17T13:06:31.795Z"
   },
   {
    "duration": 47,
    "start_time": "2025-04-17T13:06:31.801Z"
   },
   {
    "duration": 159,
    "start_time": "2025-04-17T13:06:31.863Z"
   },
   {
    "duration": 31,
    "start_time": "2025-04-17T13:06:32.023Z"
   },
   {
    "duration": 313,
    "start_time": "2025-04-17T13:06:32.063Z"
   },
   {
    "duration": 126,
    "start_time": "2025-04-17T13:06:32.378Z"
   },
   {
    "duration": 197,
    "start_time": "2025-04-17T13:06:32.506Z"
   },
   {
    "duration": 27,
    "start_time": "2025-04-17T13:06:32.705Z"
   },
   {
    "duration": 209,
    "start_time": "2025-04-17T13:06:32.733Z"
   },
   {
    "duration": 148,
    "start_time": "2025-04-17T13:06:32.944Z"
   },
   {
    "duration": 13,
    "start_time": "2025-04-17T13:06:33.094Z"
   },
   {
    "duration": 43,
    "start_time": "2025-04-17T13:06:33.108Z"
   },
   {
    "duration": 11,
    "start_time": "2025-04-17T13:06:33.152Z"
   },
   {
    "duration": 227,
    "start_time": "2025-04-17T13:06:33.164Z"
   },
   {
    "duration": 507,
    "start_time": "2025-04-17T13:06:33.393Z"
   },
   {
    "duration": 150,
    "start_time": "2025-04-17T13:06:33.902Z"
   },
   {
    "duration": 724,
    "start_time": "2025-04-17T13:06:49.473Z"
   },
   {
    "duration": 1653,
    "start_time": "2025-04-17T13:06:50.199Z"
   },
   {
    "duration": 13,
    "start_time": "2025-04-17T13:06:51.854Z"
   },
   {
    "duration": 151,
    "start_time": "2025-04-17T13:06:51.869Z"
   },
   {
    "duration": 341,
    "start_time": "2025-04-17T13:06:52.022Z"
   },
   {
    "duration": 644,
    "start_time": "2025-04-17T13:06:52.365Z"
   },
   {
    "duration": 57,
    "start_time": "2025-04-17T13:06:53.011Z"
   },
   {
    "duration": 4,
    "start_time": "2025-04-17T13:06:53.070Z"
   },
   {
    "duration": 50,
    "start_time": "2025-04-17T13:06:53.076Z"
   },
   {
    "duration": 192,
    "start_time": "2025-04-17T13:06:53.127Z"
   },
   {
    "duration": 45,
    "start_time": "2025-04-17T13:06:53.320Z"
   },
   {
    "duration": 343,
    "start_time": "2025-04-17T13:06:53.366Z"
   },
   {
    "duration": 132,
    "start_time": "2025-04-17T13:06:53.711Z"
   },
   {
    "duration": 223,
    "start_time": "2025-04-17T13:06:53.846Z"
   },
   {
    "duration": 31,
    "start_time": "2025-04-17T13:06:54.071Z"
   },
   {
    "duration": 248,
    "start_time": "2025-04-17T13:06:54.104Z"
   },
   {
    "duration": 160,
    "start_time": "2025-04-17T13:06:54.354Z"
   },
   {
    "duration": 14,
    "start_time": "2025-04-17T13:06:54.516Z"
   },
   {
    "duration": 65,
    "start_time": "2025-04-17T13:06:54.531Z"
   },
   {
    "duration": 6,
    "start_time": "2025-04-17T13:06:54.598Z"
   },
   {
    "duration": 299,
    "start_time": "2025-04-17T13:06:54.605Z"
   },
   {
    "duration": 496,
    "start_time": "2025-04-17T13:06:54.905Z"
   },
   {
    "duration": 163,
    "start_time": "2025-04-17T13:06:55.403Z"
   },
   {
    "duration": 87,
    "start_time": "2025-04-17T15:09:06.603Z"
   },
   {
    "duration": 631,
    "start_time": "2025-04-17T15:12:40.970Z"
   },
   {
    "duration": 2268,
    "start_time": "2025-04-17T15:12:41.603Z"
   },
   {
    "duration": 13,
    "start_time": "2025-04-17T15:12:43.872Z"
   },
   {
    "duration": 148,
    "start_time": "2025-04-17T15:12:43.887Z"
   },
   {
    "duration": 329,
    "start_time": "2025-04-17T15:12:44.038Z"
   },
   {
    "duration": 558,
    "start_time": "2025-04-17T15:12:44.368Z"
   },
   {
    "duration": 50,
    "start_time": "2025-04-17T15:12:44.927Z"
   },
   {
    "duration": 4,
    "start_time": "2025-04-17T15:12:44.978Z"
   },
   {
    "duration": 52,
    "start_time": "2025-04-17T15:12:44.984Z"
   },
   {
    "duration": 289,
    "start_time": "2025-04-17T15:12:45.037Z"
   },
   {
    "duration": 41,
    "start_time": "2025-04-17T15:12:45.327Z"
   },
   {
    "duration": 310,
    "start_time": "2025-04-17T15:12:45.369Z"
   },
   {
    "duration": 114,
    "start_time": "2025-04-17T15:12:45.680Z"
   },
   {
    "duration": 204,
    "start_time": "2025-04-17T15:12:45.796Z"
   },
   {
    "duration": 28,
    "start_time": "2025-04-17T15:12:46.001Z"
   },
   {
    "duration": 211,
    "start_time": "2025-04-17T15:12:46.030Z"
   },
   {
    "duration": 144,
    "start_time": "2025-04-17T15:12:46.243Z"
   },
   {
    "duration": 12,
    "start_time": "2025-04-17T15:12:46.388Z"
   },
   {
    "duration": 28,
    "start_time": "2025-04-17T15:12:46.402Z"
   },
   {
    "duration": 6,
    "start_time": "2025-04-17T15:12:46.432Z"
   },
   {
    "duration": 213,
    "start_time": "2025-04-17T15:12:46.463Z"
   },
   {
    "duration": 512,
    "start_time": "2025-04-17T15:12:46.677Z"
   },
   {
    "duration": 141,
    "start_time": "2025-04-17T15:12:47.191Z"
   },
   {
    "duration": 654,
    "start_time": "2025-04-17T15:13:21.074Z"
   },
   {
    "duration": 2590,
    "start_time": "2025-04-17T15:13:21.730Z"
   },
   {
    "duration": 13,
    "start_time": "2025-04-17T15:13:24.322Z"
   },
   {
    "duration": 151,
    "start_time": "2025-04-17T15:13:24.337Z"
   },
   {
    "duration": 330,
    "start_time": "2025-04-17T15:13:24.491Z"
   },
   {
    "duration": 567,
    "start_time": "2025-04-17T15:13:24.823Z"
   },
   {
    "duration": 43,
    "start_time": "2025-04-17T15:13:25.392Z"
   },
   {
    "duration": 5,
    "start_time": "2025-04-17T15:13:25.437Z"
   },
   {
    "duration": 45,
    "start_time": "2025-04-17T15:13:25.461Z"
   },
   {
    "duration": 166,
    "start_time": "2025-04-17T15:13:25.508Z"
   },
   {
    "duration": 32,
    "start_time": "2025-04-17T15:13:25.676Z"
   },
   {
    "duration": 313,
    "start_time": "2025-04-17T15:13:25.709Z"
   },
   {
    "duration": 119,
    "start_time": "2025-04-17T15:13:26.024Z"
   },
   {
    "duration": 191,
    "start_time": "2025-04-17T15:13:26.145Z"
   },
   {
    "duration": 36,
    "start_time": "2025-04-17T15:13:26.338Z"
   },
   {
    "duration": 210,
    "start_time": "2025-04-17T15:13:26.375Z"
   },
   {
    "duration": 145,
    "start_time": "2025-04-17T15:13:26.586Z"
   },
   {
    "duration": 12,
    "start_time": "2025-04-17T15:13:26.733Z"
   },
   {
    "duration": 88,
    "start_time": "2025-04-17T15:13:26.747Z"
   },
   {
    "duration": 6,
    "start_time": "2025-04-17T15:13:26.836Z"
   },
   {
    "duration": 208,
    "start_time": "2025-04-17T15:13:26.843Z"
   },
   {
    "duration": 435,
    "start_time": "2025-04-17T15:13:27.052Z"
   },
   {
    "duration": 136,
    "start_time": "2025-04-17T15:13:27.488Z"
   },
   {
    "duration": 687,
    "start_time": "2025-04-17T15:14:22.930Z"
   },
   {
    "duration": 1706,
    "start_time": "2025-04-17T15:14:23.619Z"
   },
   {
    "duration": 16,
    "start_time": "2025-04-17T15:14:25.328Z"
   },
   {
    "duration": 163,
    "start_time": "2025-04-17T15:14:25.347Z"
   },
   {
    "duration": 337,
    "start_time": "2025-04-17T15:14:25.514Z"
   },
   {
    "duration": 559,
    "start_time": "2025-04-17T15:14:25.853Z"
   },
   {
    "duration": 53,
    "start_time": "2025-04-17T15:14:26.414Z"
   },
   {
    "duration": 5,
    "start_time": "2025-04-17T15:14:26.469Z"
   },
   {
    "duration": 56,
    "start_time": "2025-04-17T15:14:26.476Z"
   },
   {
    "duration": 172,
    "start_time": "2025-04-17T15:14:26.533Z"
   },
   {
    "duration": 33,
    "start_time": "2025-04-17T15:14:26.707Z"
   },
   {
    "duration": 337,
    "start_time": "2025-04-17T15:14:26.742Z"
   },
   {
    "duration": 131,
    "start_time": "2025-04-17T15:14:27.081Z"
   },
   {
    "duration": 209,
    "start_time": "2025-04-17T15:14:27.215Z"
   },
   {
    "duration": 37,
    "start_time": "2025-04-17T15:14:27.426Z"
   },
   {
    "duration": 200,
    "start_time": "2025-04-17T15:14:27.465Z"
   },
   {
    "duration": 154,
    "start_time": "2025-04-17T15:14:27.667Z"
   },
   {
    "duration": 13,
    "start_time": "2025-04-17T15:14:27.823Z"
   },
   {
    "duration": 45,
    "start_time": "2025-04-17T15:14:27.838Z"
   },
   {
    "duration": 7,
    "start_time": "2025-04-17T15:14:27.884Z"
   },
   {
    "duration": 272,
    "start_time": "2025-04-17T15:14:27.892Z"
   },
   {
    "duration": 493,
    "start_time": "2025-04-17T15:14:28.166Z"
   },
   {
    "duration": 150,
    "start_time": "2025-04-17T15:14:28.662Z"
   },
   {
    "duration": 623,
    "start_time": "2025-04-17T15:15:50.102Z"
   },
   {
    "duration": 2687,
    "start_time": "2025-04-17T15:15:50.727Z"
   },
   {
    "duration": 16,
    "start_time": "2025-04-17T15:15:53.416Z"
   },
   {
    "duration": 153,
    "start_time": "2025-04-17T15:15:53.433Z"
   },
   {
    "duration": 333,
    "start_time": "2025-04-17T15:15:53.589Z"
   },
   {
    "duration": 574,
    "start_time": "2025-04-17T15:15:53.924Z"
   },
   {
    "duration": 35,
    "start_time": "2025-04-17T15:15:54.499Z"
   },
   {
    "duration": 4,
    "start_time": "2025-04-17T15:15:54.535Z"
   },
   {
    "duration": 57,
    "start_time": "2025-04-17T15:15:54.541Z"
   },
   {
    "duration": 137,
    "start_time": "2025-04-17T15:15:54.599Z"
   },
   {
    "duration": 37,
    "start_time": "2025-04-17T15:15:54.738Z"
   },
   {
    "duration": 300,
    "start_time": "2025-04-17T15:15:54.777Z"
   },
   {
    "duration": 111,
    "start_time": "2025-04-17T15:15:55.078Z"
   },
   {
    "duration": 195,
    "start_time": "2025-04-17T15:15:55.192Z"
   },
   {
    "duration": 27,
    "start_time": "2025-04-17T15:15:55.389Z"
   },
   {
    "duration": 200,
    "start_time": "2025-04-17T15:15:55.417Z"
   },
   {
    "duration": 145,
    "start_time": "2025-04-17T15:15:55.618Z"
   },
   {
    "duration": 12,
    "start_time": "2025-04-17T15:15:55.764Z"
   },
   {
    "duration": 31,
    "start_time": "2025-04-17T15:15:55.777Z"
   },
   {
    "duration": 6,
    "start_time": "2025-04-17T15:15:55.809Z"
   },
   {
    "duration": 238,
    "start_time": "2025-04-17T15:15:55.817Z"
   },
   {
    "duration": 443,
    "start_time": "2025-04-17T15:15:56.056Z"
   },
   {
    "duration": 138,
    "start_time": "2025-04-17T15:15:56.501Z"
   },
   {
    "duration": 652,
    "start_time": "2025-04-17T16:16:59.984Z"
   },
   {
    "duration": 2039,
    "start_time": "2025-04-17T16:17:00.638Z"
   },
   {
    "duration": 12,
    "start_time": "2025-04-17T16:17:02.679Z"
   },
   {
    "duration": 168,
    "start_time": "2025-04-17T16:17:02.693Z"
   },
   {
    "duration": 315,
    "start_time": "2025-04-17T16:17:02.865Z"
   },
   {
    "duration": 544,
    "start_time": "2025-04-17T16:17:03.182Z"
   },
   {
    "duration": 51,
    "start_time": "2025-04-17T16:17:03.727Z"
   },
   {
    "duration": 4,
    "start_time": "2025-04-17T16:17:03.780Z"
   },
   {
    "duration": 55,
    "start_time": "2025-04-17T16:17:03.785Z"
   },
   {
    "duration": 148,
    "start_time": "2025-04-17T16:17:03.842Z"
   },
   {
    "duration": 28,
    "start_time": "2025-04-17T16:17:03.992Z"
   },
   {
    "duration": 345,
    "start_time": "2025-04-17T16:17:04.021Z"
   },
   {
    "duration": 115,
    "start_time": "2025-04-17T16:17:04.374Z"
   },
   {
    "duration": 208,
    "start_time": "2025-04-17T16:17:04.491Z"
   },
   {
    "duration": 30,
    "start_time": "2025-04-17T16:17:04.701Z"
   },
   {
    "duration": 220,
    "start_time": "2025-04-17T16:17:04.733Z"
   },
   {
    "duration": 145,
    "start_time": "2025-04-17T16:17:04.971Z"
   },
   {
    "duration": 12,
    "start_time": "2025-04-17T16:17:05.117Z"
   },
   {
    "duration": 42,
    "start_time": "2025-04-17T16:17:05.131Z"
   },
   {
    "duration": 7,
    "start_time": "2025-04-17T16:17:05.175Z"
   },
   {
    "duration": 229,
    "start_time": "2025-04-17T16:17:05.184Z"
   },
   {
    "duration": 493,
    "start_time": "2025-04-17T16:17:05.415Z"
   },
   {
    "duration": 141,
    "start_time": "2025-04-17T16:17:05.910Z"
   },
   {
    "duration": 164,
    "start_time": "2025-04-17T16:23:01.296Z"
   },
   {
    "duration": 16,
    "start_time": "2025-04-17T16:23:10.173Z"
   },
   {
    "duration": 15,
    "start_time": "2025-04-17T16:25:57.645Z"
   },
   {
    "duration": 6,
    "start_time": "2025-04-17T16:26:41.231Z"
   },
   {
    "duration": 63,
    "start_time": "2025-04-17T16:29:56.076Z"
   },
   {
    "duration": 7,
    "start_time": "2025-04-17T16:32:50.642Z"
   },
   {
    "duration": 99,
    "start_time": "2025-04-17T16:33:36.025Z"
   },
   {
    "duration": 79,
    "start_time": "2025-04-17T16:33:40.422Z"
   },
   {
    "duration": 1517,
    "start_time": "2025-04-17T16:34:15.139Z"
   },
   {
    "duration": 10,
    "start_time": "2025-04-17T16:34:33.242Z"
   },
   {
    "duration": 9,
    "start_time": "2025-04-17T16:34:35.542Z"
   },
   {
    "duration": 9,
    "start_time": "2025-04-17T16:35:22.831Z"
   },
   {
    "duration": 4,
    "start_time": "2025-04-17T16:36:50.889Z"
   },
   {
    "duration": 7,
    "start_time": "2025-04-17T16:36:54.512Z"
   },
   {
    "duration": 9,
    "start_time": "2025-04-17T16:37:18.999Z"
   },
   {
    "duration": 8,
    "start_time": "2025-04-17T16:37:22.099Z"
   },
   {
    "duration": 9,
    "start_time": "2025-04-17T16:37:27.222Z"
   },
   {
    "duration": 9,
    "start_time": "2025-04-17T16:37:30.201Z"
   },
   {
    "duration": 8,
    "start_time": "2025-04-17T16:37:33.844Z"
   },
   {
    "duration": 10,
    "start_time": "2025-04-17T16:37:36.151Z"
   },
   {
    "duration": 9,
    "start_time": "2025-04-17T16:37:38.705Z"
   },
   {
    "duration": 9,
    "start_time": "2025-04-17T16:37:43.472Z"
   },
   {
    "duration": 9,
    "start_time": "2025-04-17T16:37:46.049Z"
   },
   {
    "duration": 1227,
    "start_time": "2025-04-17T16:37:54.744Z"
   },
   {
    "duration": 1217,
    "start_time": "2025-04-17T16:37:58.676Z"
   },
   {
    "duration": 1243,
    "start_time": "2025-04-17T16:38:01.647Z"
   },
   {
    "duration": 1339,
    "start_time": "2025-04-17T16:38:05.024Z"
   },
   {
    "duration": 1185,
    "start_time": "2025-04-17T16:38:07.474Z"
   },
   {
    "duration": 1220,
    "start_time": "2025-04-17T16:38:09.962Z"
   },
   {
    "duration": 1196,
    "start_time": "2025-04-17T16:38:13.079Z"
   },
   {
    "duration": 1271,
    "start_time": "2025-04-17T16:38:15.653Z"
   },
   {
    "duration": 7,
    "start_time": "2025-04-17T16:38:27.628Z"
   },
   {
    "duration": 13,
    "start_time": "2025-04-17T16:41:47.418Z"
   },
   {
    "duration": 10,
    "start_time": "2025-04-17T16:42:20.210Z"
   },
   {
    "duration": 8,
    "start_time": "2025-04-17T16:43:52.032Z"
   },
   {
    "duration": 67,
    "start_time": "2025-04-17T16:44:16.502Z"
   },
   {
    "duration": 150,
    "start_time": "2025-04-17T16:46:05.872Z"
   },
   {
    "duration": 161,
    "start_time": "2025-04-17T16:47:09.582Z"
   },
   {
    "duration": 11,
    "start_time": "2025-04-17T16:50:53.743Z"
   },
   {
    "duration": 7,
    "start_time": "2025-04-17T16:51:38.775Z"
   },
   {
    "duration": 62,
    "start_time": "2025-04-17T16:52:24.509Z"
   },
   {
    "duration": 6,
    "start_time": "2025-04-17T16:58:28.150Z"
   },
   {
    "duration": 4,
    "start_time": "2025-04-17T17:00:00.817Z"
   },
   {
    "duration": 6,
    "start_time": "2025-04-17T17:00:02.991Z"
   },
   {
    "duration": 11,
    "start_time": "2025-04-17T17:00:28.107Z"
   },
   {
    "duration": 6,
    "start_time": "2025-04-17T17:00:37.525Z"
   },
   {
    "duration": 5,
    "start_time": "2025-04-17T17:00:52.786Z"
   },
   {
    "duration": 8,
    "start_time": "2025-04-17T17:01:24.184Z"
   },
   {
    "duration": 7,
    "start_time": "2025-04-17T17:01:31.295Z"
   },
   {
    "duration": 7,
    "start_time": "2025-04-17T17:02:32.570Z"
   },
   {
    "duration": 9,
    "start_time": "2025-04-17T17:04:54.903Z"
   },
   {
    "duration": 155,
    "start_time": "2025-04-17T17:06:57.193Z"
   },
   {
    "duration": 11,
    "start_time": "2025-04-17T17:07:18.702Z"
   },
   {
    "duration": 5,
    "start_time": "2025-04-17T17:07:33.391Z"
   },
   {
    "duration": 7,
    "start_time": "2025-04-17T17:07:38.621Z"
   },
   {
    "duration": 8,
    "start_time": "2025-04-17T17:07:46.170Z"
   },
   {
    "duration": 78,
    "start_time": "2025-04-17T17:07:48.564Z"
   },
   {
    "duration": 162,
    "start_time": "2025-04-17T17:07:51.971Z"
   },
   {
    "duration": 213,
    "start_time": "2025-04-17T17:08:17.602Z"
   },
   {
    "duration": 8,
    "start_time": "2025-04-17T17:08:41.713Z"
   },
   {
    "duration": 7,
    "start_time": "2025-04-17T17:08:45.807Z"
   },
   {
    "duration": 8,
    "start_time": "2025-04-17T17:08:55.894Z"
   },
   {
    "duration": 11,
    "start_time": "2025-04-17T17:10:15.342Z"
   },
   {
    "duration": 125,
    "start_time": "2025-04-17T17:10:21.934Z"
   },
   {
    "duration": 12,
    "start_time": "2025-04-17T17:10:51.433Z"
   },
   {
    "duration": 151,
    "start_time": "2025-04-17T17:10:55.255Z"
   },
   {
    "duration": 179,
    "start_time": "2025-04-17T17:11:49.089Z"
   },
   {
    "duration": 174,
    "start_time": "2025-04-17T17:17:08.715Z"
   },
   {
    "duration": 175,
    "start_time": "2025-04-17T17:17:12.095Z"
   },
   {
    "duration": 155,
    "start_time": "2025-04-17T17:18:06.367Z"
   },
   {
    "duration": 165,
    "start_time": "2025-04-17T17:18:19.344Z"
   },
   {
    "duration": 180,
    "start_time": "2025-04-17T17:18:40.067Z"
   },
   {
    "duration": 165,
    "start_time": "2025-04-17T17:19:17.528Z"
   },
   {
    "duration": 164,
    "start_time": "2025-04-17T17:20:16.469Z"
   },
   {
    "duration": 225,
    "start_time": "2025-04-17T17:20:21.784Z"
   },
   {
    "duration": 148,
    "start_time": "2025-04-17T17:20:38.148Z"
   },
   {
    "duration": 8,
    "start_time": "2025-04-17T17:27:32.343Z"
   },
   {
    "duration": 139,
    "start_time": "2025-04-17T17:31:13.965Z"
   },
   {
    "duration": 8,
    "start_time": "2025-04-17T17:31:37.760Z"
   },
   {
    "duration": 142,
    "start_time": "2025-04-17T17:32:13.701Z"
   },
   {
    "duration": 9,
    "start_time": "2025-04-17T17:33:46.712Z"
   },
   {
    "duration": 167,
    "start_time": "2025-04-17T17:35:10.767Z"
   },
   {
    "duration": 154,
    "start_time": "2025-04-17T17:35:15.610Z"
   },
   {
    "duration": 150,
    "start_time": "2025-04-17T17:35:46.176Z"
   },
   {
    "duration": 144,
    "start_time": "2025-04-17T17:38:48.615Z"
   },
   {
    "duration": 137,
    "start_time": "2025-04-17T17:40:21.094Z"
   },
   {
    "duration": 141,
    "start_time": "2025-04-17T17:40:23.311Z"
   },
   {
    "duration": 147,
    "start_time": "2025-04-17T17:40:25.759Z"
   },
   {
    "duration": 66,
    "start_time": "2025-04-17T17:40:37.206Z"
   },
   {
    "duration": 536,
    "start_time": "2025-04-17T18:07:17.261Z"
   },
   {
    "duration": 44,
    "start_time": "2025-04-17T18:08:38.540Z"
   },
   {
    "duration": 136,
    "start_time": "2025-04-17T18:08:48.221Z"
   },
   {
    "duration": 131,
    "start_time": "2025-04-17T18:09:29.667Z"
   },
   {
    "duration": 141,
    "start_time": "2025-04-17T18:09:39.227Z"
   },
   {
    "duration": 45,
    "start_time": "2025-04-17T18:09:45.220Z"
   },
   {
    "duration": 36,
    "start_time": "2025-04-17T18:17:17.408Z"
   },
   {
    "duration": 29,
    "start_time": "2025-04-17T18:18:59.777Z"
   },
   {
    "duration": 22,
    "start_time": "2025-04-17T18:19:08.127Z"
   },
   {
    "duration": 38,
    "start_time": "2025-04-17T18:19:10.332Z"
   },
   {
    "duration": 22,
    "start_time": "2025-04-17T18:19:12.400Z"
   },
   {
    "duration": 23,
    "start_time": "2025-04-17T18:19:22.383Z"
   },
   {
    "duration": 37,
    "start_time": "2025-04-17T18:19:35.514Z"
   },
   {
    "duration": 21,
    "start_time": "2025-04-17T18:19:41.806Z"
   },
   {
    "duration": 40,
    "start_time": "2025-04-17T18:19:55.688Z"
   },
   {
    "duration": 26,
    "start_time": "2025-04-17T18:20:00.007Z"
   },
   {
    "duration": 70,
    "start_time": "2025-04-17T18:20:02.307Z"
   },
   {
    "duration": 3134,
    "start_time": "2025-04-17T18:25:53.557Z"
   },
   {
    "duration": 2316,
    "start_time": "2025-04-17T18:27:12.127Z"
   },
   {
    "duration": 54,
    "start_time": "2025-04-17T18:29:13.114Z"
   },
   {
    "duration": 53,
    "start_time": "2025-04-17T18:29:21.527Z"
   },
   {
    "duration": 56,
    "start_time": "2025-04-17T18:29:27.808Z"
   },
   {
    "duration": 9,
    "start_time": "2025-04-17T18:35:27.399Z"
   },
   {
    "duration": 8,
    "start_time": "2025-04-17T18:35:33.003Z"
   },
   {
    "duration": 37,
    "start_time": "2025-04-17T18:38:51.717Z"
   },
   {
    "duration": 44,
    "start_time": "2025-04-17T18:38:54.987Z"
   },
   {
    "duration": 5,
    "start_time": "2025-04-17T18:39:12.203Z"
   },
   {
    "duration": 5,
    "start_time": "2025-04-17T18:39:15.605Z"
   },
   {
    "duration": 4,
    "start_time": "2025-04-17T18:39:37.450Z"
   },
   {
    "duration": 4,
    "start_time": "2025-04-17T18:41:11.105Z"
   },
   {
    "duration": 5,
    "start_time": "2025-04-17T18:41:16.633Z"
   },
   {
    "duration": 5,
    "start_time": "2025-04-17T18:42:12.482Z"
   },
   {
    "duration": 61,
    "start_time": "2025-04-17T18:43:56.663Z"
   },
   {
    "duration": 44,
    "start_time": "2025-04-17T18:45:18.664Z"
   },
   {
    "duration": 4,
    "start_time": "2025-04-17T18:45:28.284Z"
   },
   {
    "duration": 4,
    "start_time": "2025-04-17T18:45:28.908Z"
   },
   {
    "duration": 4,
    "start_time": "2025-04-17T18:45:29.437Z"
   },
   {
    "duration": 5,
    "start_time": "2025-04-17T18:45:32.711Z"
   },
   {
    "duration": 5,
    "start_time": "2025-04-17T18:54:13.376Z"
   },
   {
    "duration": 4,
    "start_time": "2025-04-17T18:54:27.082Z"
   },
   {
    "duration": 4,
    "start_time": "2025-04-17T18:54:32.964Z"
   },
   {
    "duration": 16,
    "start_time": "2025-04-17T18:55:07.391Z"
   },
   {
    "duration": 18,
    "start_time": "2025-04-17T18:55:16.516Z"
   },
   {
    "duration": 17,
    "start_time": "2025-04-17T18:55:33.536Z"
   },
   {
    "duration": 2,
    "start_time": "2025-04-17T18:57:02.059Z"
   },
   {
    "duration": 4,
    "start_time": "2025-04-17T18:57:07.616Z"
   },
   {
    "duration": 4,
    "start_time": "2025-04-17T18:57:27.672Z"
   },
   {
    "duration": 4,
    "start_time": "2025-04-17T18:57:57.611Z"
   },
   {
    "duration": 16,
    "start_time": "2025-04-17T18:59:17.119Z"
   },
   {
    "duration": 80,
    "start_time": "2025-04-17T18:59:17.565Z"
   },
   {
    "duration": 17,
    "start_time": "2025-04-17T18:59:17.830Z"
   },
   {
    "duration": 16,
    "start_time": "2025-04-17T18:59:21.595Z"
   },
   {
    "duration": 63,
    "start_time": "2025-04-17T18:59:22.153Z"
   },
   {
    "duration": 3,
    "start_time": "2025-04-17T18:59:25.461Z"
   },
   {
    "duration": 4,
    "start_time": "2025-04-17T18:59:38.260Z"
   },
   {
    "duration": 45,
    "start_time": "2025-04-17T19:12:47.654Z"
   },
   {
    "duration": 5,
    "start_time": "2025-04-17T19:12:53.685Z"
   },
   {
    "duration": 43,
    "start_time": "2025-04-17T19:12:55.504Z"
   },
   {
    "duration": 10,
    "start_time": "2025-04-17T19:15:33.371Z"
   },
   {
    "duration": 8,
    "start_time": "2025-04-17T19:17:32.635Z"
   },
   {
    "duration": 67,
    "start_time": "2025-04-17T19:23:07.412Z"
   },
   {
    "duration": 7,
    "start_time": "2025-04-17T19:29:11.358Z"
   },
   {
    "duration": 7,
    "start_time": "2025-04-17T19:29:30.380Z"
   },
   {
    "duration": 8,
    "start_time": "2025-04-17T19:29:33.504Z"
   },
   {
    "duration": 213,
    "start_time": "2025-04-17T19:36:59.649Z"
   },
   {
    "duration": 58,
    "start_time": "2025-04-17T19:39:26.231Z"
   },
   {
    "duration": 643,
    "start_time": "2025-04-17T19:48:50.446Z"
   },
   {
    "duration": 2525,
    "start_time": "2025-04-17T19:48:51.091Z"
   },
   {
    "duration": 13,
    "start_time": "2025-04-17T19:48:53.618Z"
   },
   {
    "duration": 148,
    "start_time": "2025-04-17T19:48:53.633Z"
   },
   {
    "duration": 327,
    "start_time": "2025-04-17T19:48:53.784Z"
   },
   {
    "duration": 555,
    "start_time": "2025-04-17T19:48:54.112Z"
   },
   {
    "duration": 42,
    "start_time": "2025-04-17T19:48:54.669Z"
   },
   {
    "duration": 5,
    "start_time": "2025-04-17T19:48:54.713Z"
   },
   {
    "duration": 65,
    "start_time": "2025-04-17T19:48:54.719Z"
   },
   {
    "duration": 148,
    "start_time": "2025-04-17T19:48:54.786Z"
   },
   {
    "duration": 41,
    "start_time": "2025-04-17T19:48:54.935Z"
   },
   {
    "duration": 303,
    "start_time": "2025-04-17T19:48:54.977Z"
   },
   {
    "duration": 121,
    "start_time": "2025-04-17T19:48:55.282Z"
   },
   {
    "duration": 209,
    "start_time": "2025-04-17T19:48:55.406Z"
   },
   {
    "duration": 26,
    "start_time": "2025-04-17T19:48:55.617Z"
   },
   {
    "duration": 207,
    "start_time": "2025-04-17T19:48:55.645Z"
   },
   {
    "duration": 135,
    "start_time": "2025-04-17T19:48:55.862Z"
   },
   {
    "duration": 12,
    "start_time": "2025-04-17T19:48:55.999Z"
   },
   {
    "duration": 65,
    "start_time": "2025-04-17T19:48:56.013Z"
   },
   {
    "duration": 6,
    "start_time": "2025-04-17T19:48:56.080Z"
   },
   {
    "duration": 218,
    "start_time": "2025-04-17T19:48:56.087Z"
   },
   {
    "duration": 466,
    "start_time": "2025-04-17T19:48:56.307Z"
   },
   {
    "duration": 130,
    "start_time": "2025-04-17T19:48:56.775Z"
   },
   {
    "duration": 160,
    "start_time": "2025-04-17T19:48:56.907Z"
   },
   {
    "duration": 6,
    "start_time": "2025-04-17T19:48:57.069Z"
   },
   {
    "duration": 8,
    "start_time": "2025-04-17T19:48:57.077Z"
   },
   {
    "duration": 170,
    "start_time": "2025-04-17T19:48:57.086Z"
   },
   {
    "duration": 12,
    "start_time": "2025-04-17T19:48:57.257Z"
   },
   {
    "duration": 6,
    "start_time": "2025-04-17T19:48:57.271Z"
   },
   {
    "duration": 9,
    "start_time": "2025-04-17T19:48:57.278Z"
   },
   {
    "duration": 212,
    "start_time": "2025-04-17T19:48:57.288Z"
   },
   {
    "duration": 8,
    "start_time": "2025-04-17T19:48:57.501Z"
   },
   {
    "duration": 67,
    "start_time": "2025-04-17T19:48:57.510Z"
   },
   {
    "duration": 0,
    "start_time": "2025-04-17T19:48:57.579Z"
   },
   {
    "duration": 0,
    "start_time": "2025-04-17T19:48:57.580Z"
   },
   {
    "duration": 0,
    "start_time": "2025-04-17T19:48:57.581Z"
   },
   {
    "duration": 0,
    "start_time": "2025-04-17T19:48:57.582Z"
   },
   {
    "duration": 0,
    "start_time": "2025-04-17T19:48:57.583Z"
   },
   {
    "duration": 0,
    "start_time": "2025-04-17T19:48:57.584Z"
   },
   {
    "duration": 0,
    "start_time": "2025-04-17T19:48:57.585Z"
   },
   {
    "duration": 0,
    "start_time": "2025-04-17T19:48:57.586Z"
   },
   {
    "duration": 0,
    "start_time": "2025-04-17T19:48:57.587Z"
   },
   {
    "duration": 0,
    "start_time": "2025-04-17T19:48:57.588Z"
   },
   {
    "duration": 0,
    "start_time": "2025-04-17T19:48:57.590Z"
   },
   {
    "duration": 0,
    "start_time": "2025-04-17T19:48:57.590Z"
   },
   {
    "duration": 0,
    "start_time": "2025-04-17T19:48:57.591Z"
   },
   {
    "duration": 0,
    "start_time": "2025-04-17T19:48:57.592Z"
   },
   {
    "duration": 0,
    "start_time": "2025-04-17T19:48:57.593Z"
   },
   {
    "duration": 0,
    "start_time": "2025-04-17T19:48:57.594Z"
   },
   {
    "duration": 0,
    "start_time": "2025-04-17T19:48:57.596Z"
   },
   {
    "duration": 0,
    "start_time": "2025-04-17T19:48:57.597Z"
   },
   {
    "duration": 0,
    "start_time": "2025-04-17T19:48:57.598Z"
   },
   {
    "duration": 0,
    "start_time": "2025-04-17T19:48:57.599Z"
   },
   {
    "duration": 0,
    "start_time": "2025-04-17T19:48:57.600Z"
   },
   {
    "duration": 0,
    "start_time": "2025-04-17T19:48:57.600Z"
   },
   {
    "duration": 0,
    "start_time": "2025-04-17T19:48:57.601Z"
   },
   {
    "duration": 0,
    "start_time": "2025-04-17T19:48:57.603Z"
   },
   {
    "duration": 64,
    "start_time": "2025-04-17T19:49:15.716Z"
   },
   {
    "duration": 603,
    "start_time": "2025-04-17T19:49:46.779Z"
   },
   {
    "duration": 9353,
    "start_time": "2025-04-17T19:49:47.384Z"
   },
   {
    "duration": 12,
    "start_time": "2025-04-17T19:49:56.739Z"
   },
   {
    "duration": 133,
    "start_time": "2025-04-17T19:49:56.763Z"
   },
   {
    "duration": 318,
    "start_time": "2025-04-17T19:49:56.898Z"
   },
   {
    "duration": 529,
    "start_time": "2025-04-17T19:49:57.218Z"
   },
   {
    "duration": 51,
    "start_time": "2025-04-17T19:49:57.749Z"
   },
   {
    "duration": 4,
    "start_time": "2025-04-17T19:49:57.801Z"
   },
   {
    "duration": 60,
    "start_time": "2025-04-17T19:49:57.807Z"
   },
   {
    "duration": 178,
    "start_time": "2025-04-17T19:49:57.870Z"
   },
   {
    "duration": 36,
    "start_time": "2025-04-17T19:49:58.050Z"
   },
   {
    "duration": 311,
    "start_time": "2025-04-17T19:49:58.088Z"
   },
   {
    "duration": 119,
    "start_time": "2025-04-17T19:49:58.401Z"
   },
   {
    "duration": 200,
    "start_time": "2025-04-17T19:49:58.522Z"
   },
   {
    "duration": 39,
    "start_time": "2025-04-17T19:49:58.724Z"
   },
   {
    "duration": 202,
    "start_time": "2025-04-17T19:49:58.765Z"
   },
   {
    "duration": 161,
    "start_time": "2025-04-17T19:49:58.969Z"
   },
   {
    "duration": 12,
    "start_time": "2025-04-17T19:49:59.132Z"
   },
   {
    "duration": 40,
    "start_time": "2025-04-17T19:49:59.145Z"
   },
   {
    "duration": 6,
    "start_time": "2025-04-17T19:49:59.186Z"
   },
   {
    "duration": 285,
    "start_time": "2025-04-17T19:49:59.193Z"
   },
   {
    "duration": 508,
    "start_time": "2025-04-17T19:49:59.479Z"
   },
   {
    "duration": 152,
    "start_time": "2025-04-17T19:49:59.989Z"
   },
   {
    "duration": 109,
    "start_time": "2025-04-17T19:50:00.143Z"
   },
   {
    "duration": 6,
    "start_time": "2025-04-17T19:50:00.254Z"
   },
   {
    "duration": 17,
    "start_time": "2025-04-17T19:50:00.261Z"
   },
   {
    "duration": 182,
    "start_time": "2025-04-17T19:50:00.280Z"
   },
   {
    "duration": 8,
    "start_time": "2025-04-17T19:50:00.465Z"
   },
   {
    "duration": 54,
    "start_time": "2025-04-17T19:50:00.474Z"
   },
   {
    "duration": 18,
    "start_time": "2025-04-17T19:50:00.530Z"
   },
   {
    "duration": 188,
    "start_time": "2025-04-17T19:50:00.550Z"
   },
   {
    "duration": 8,
    "start_time": "2025-04-17T19:50:00.739Z"
   },
   {
    "duration": 186,
    "start_time": "2025-04-17T19:50:00.748Z"
   },
   {
    "duration": 8,
    "start_time": "2025-04-17T19:50:00.936Z"
   },
   {
    "duration": 174,
    "start_time": "2025-04-17T19:50:00.945Z"
   },
   {
    "duration": 8,
    "start_time": "2025-04-17T19:50:01.120Z"
   },
   {
    "duration": 150,
    "start_time": "2025-04-17T19:50:01.129Z"
   },
   {
    "duration": 8,
    "start_time": "2025-04-17T19:50:01.280Z"
   },
   {
    "duration": 241,
    "start_time": "2025-04-17T19:50:01.290Z"
   },
   {
    "duration": 8,
    "start_time": "2025-04-17T19:50:01.533Z"
   },
   {
    "duration": 170,
    "start_time": "2025-04-17T19:50:01.543Z"
   },
   {
    "duration": 560,
    "start_time": "2025-04-17T19:50:01.715Z"
   },
   {
    "duration": 43,
    "start_time": "2025-04-17T19:50:02.277Z"
   },
   {
    "duration": 46,
    "start_time": "2025-04-17T19:50:02.322Z"
   },
   {
    "duration": 20,
    "start_time": "2025-04-17T19:50:02.370Z"
   },
   {
    "duration": 39,
    "start_time": "2025-04-17T19:50:02.392Z"
   },
   {
    "duration": 36,
    "start_time": "2025-04-17T19:50:02.433Z"
   },
   {
    "duration": 61,
    "start_time": "2025-04-17T19:50:02.471Z"
   },
   {
    "duration": 29,
    "start_time": "2025-04-17T19:50:02.534Z"
   },
   {
    "duration": 42,
    "start_time": "2025-04-17T19:50:02.564Z"
   },
   {
    "duration": 10,
    "start_time": "2025-04-17T19:50:02.607Z"
   },
   {
    "duration": 14,
    "start_time": "2025-04-17T19:50:02.619Z"
   },
   {
    "duration": 600,
    "start_time": "2025-04-17T19:51:22.605Z"
   },
   {
    "duration": 3291,
    "start_time": "2025-04-17T19:51:23.207Z"
   },
   {
    "duration": 13,
    "start_time": "2025-04-17T19:51:26.500Z"
   },
   {
    "duration": 147,
    "start_time": "2025-04-17T19:51:26.515Z"
   },
   {
    "duration": 304,
    "start_time": "2025-04-17T19:51:26.663Z"
   },
   {
    "duration": 485,
    "start_time": "2025-04-17T19:51:26.968Z"
   },
   {
    "duration": 41,
    "start_time": "2025-04-17T19:51:27.455Z"
   },
   {
    "duration": 4,
    "start_time": "2025-04-17T19:51:27.498Z"
   },
   {
    "duration": 42,
    "start_time": "2025-04-17T19:51:27.503Z"
   },
   {
    "duration": 133,
    "start_time": "2025-04-17T19:51:27.563Z"
   },
   {
    "duration": 30,
    "start_time": "2025-04-17T19:51:27.697Z"
   },
   {
    "duration": 326,
    "start_time": "2025-04-17T19:51:27.728Z"
   },
   {
    "duration": 101,
    "start_time": "2025-04-17T19:51:28.062Z"
   },
   {
    "duration": 191,
    "start_time": "2025-04-17T19:51:28.164Z"
   },
   {
    "duration": 28,
    "start_time": "2025-04-17T19:51:28.357Z"
   },
   {
    "duration": 206,
    "start_time": "2025-04-17T19:51:28.386Z"
   },
   {
    "duration": 149,
    "start_time": "2025-04-17T19:51:28.593Z"
   },
   {
    "duration": 22,
    "start_time": "2025-04-17T19:51:28.744Z"
   },
   {
    "duration": 30,
    "start_time": "2025-04-17T19:51:28.768Z"
   },
   {
    "duration": 7,
    "start_time": "2025-04-17T19:51:28.799Z"
   },
   {
    "duration": 224,
    "start_time": "2025-04-17T19:51:28.808Z"
   },
   {
    "duration": 453,
    "start_time": "2025-04-17T19:51:29.034Z"
   },
   {
    "duration": 134,
    "start_time": "2025-04-17T19:51:29.488Z"
   },
   {
    "duration": 129,
    "start_time": "2025-04-17T19:51:29.623Z"
   },
   {
    "duration": 6,
    "start_time": "2025-04-17T19:51:29.754Z"
   },
   {
    "duration": 67,
    "start_time": "2025-04-17T19:51:29.762Z"
   },
   {
    "duration": 146,
    "start_time": "2025-04-17T19:51:29.831Z"
   },
   {
    "duration": 7,
    "start_time": "2025-04-17T19:51:29.980Z"
   },
   {
    "duration": 84,
    "start_time": "2025-04-17T19:51:29.988Z"
   },
   {
    "duration": 33,
    "start_time": "2025-04-17T19:51:30.074Z"
   },
   {
    "duration": 204,
    "start_time": "2025-04-17T19:51:30.109Z"
   },
   {
    "duration": 8,
    "start_time": "2025-04-17T19:51:30.314Z"
   },
   {
    "duration": 196,
    "start_time": "2025-04-17T19:51:30.323Z"
   },
   {
    "duration": 9,
    "start_time": "2025-04-17T19:51:30.520Z"
   },
   {
    "duration": 170,
    "start_time": "2025-04-17T19:51:30.530Z"
   },
   {
    "duration": 8,
    "start_time": "2025-04-17T19:51:30.701Z"
   },
   {
    "duration": 153,
    "start_time": "2025-04-17T19:51:30.711Z"
   },
   {
    "duration": 8,
    "start_time": "2025-04-17T19:51:30.865Z"
   },
   {
    "duration": 212,
    "start_time": "2025-04-17T19:51:30.874Z"
   },
   {
    "duration": 8,
    "start_time": "2025-04-17T19:51:31.088Z"
   },
   {
    "duration": 144,
    "start_time": "2025-04-17T19:51:31.098Z"
   },
   {
    "duration": 459,
    "start_time": "2025-04-17T19:51:31.243Z"
   },
   {
    "duration": 44,
    "start_time": "2025-04-17T19:51:31.704Z"
   },
   {
    "duration": 35,
    "start_time": "2025-04-17T19:51:31.749Z"
   },
   {
    "duration": 74,
    "start_time": "2025-04-17T19:51:31.786Z"
   },
   {
    "duration": 20,
    "start_time": "2025-04-17T19:51:31.862Z"
   },
   {
    "duration": 52,
    "start_time": "2025-04-17T19:51:31.883Z"
   },
   {
    "duration": 15,
    "start_time": "2025-04-17T19:51:31.937Z"
   },
   {
    "duration": 23,
    "start_time": "2025-04-17T19:51:31.954Z"
   },
   {
    "duration": 102,
    "start_time": "2025-04-17T19:51:31.979Z"
   },
   {
    "duration": 22,
    "start_time": "2025-04-17T19:51:32.082Z"
   },
   {
    "duration": 15,
    "start_time": "2025-04-17T19:51:32.106Z"
   },
   {
    "duration": 612,
    "start_time": "2025-04-17T19:52:10.085Z"
   },
   {
    "duration": 1632,
    "start_time": "2025-04-17T19:52:10.698Z"
   },
   {
    "duration": 14,
    "start_time": "2025-04-17T19:52:12.331Z"
   },
   {
    "duration": 151,
    "start_time": "2025-04-17T19:52:12.347Z"
   },
   {
    "duration": 305,
    "start_time": "2025-04-17T19:52:12.500Z"
   },
   {
    "duration": 513,
    "start_time": "2025-04-17T19:52:12.807Z"
   },
   {
    "duration": 44,
    "start_time": "2025-04-17T19:52:13.321Z"
   },
   {
    "duration": 5,
    "start_time": "2025-04-17T19:52:13.366Z"
   },
   {
    "duration": 45,
    "start_time": "2025-04-17T19:52:13.372Z"
   },
   {
    "duration": 157,
    "start_time": "2025-04-17T19:52:13.418Z"
   },
   {
    "duration": 30,
    "start_time": "2025-04-17T19:52:13.576Z"
   },
   {
    "duration": 305,
    "start_time": "2025-04-17T19:52:13.608Z"
   },
   {
    "duration": 109,
    "start_time": "2025-04-17T19:52:13.914Z"
   },
   {
    "duration": 191,
    "start_time": "2025-04-17T19:52:14.026Z"
   },
   {
    "duration": 29,
    "start_time": "2025-04-17T19:52:14.219Z"
   },
   {
    "duration": 187,
    "start_time": "2025-04-17T19:52:14.262Z"
   },
   {
    "duration": 141,
    "start_time": "2025-04-17T19:52:14.451Z"
   },
   {
    "duration": 12,
    "start_time": "2025-04-17T19:52:14.593Z"
   },
   {
    "duration": 28,
    "start_time": "2025-04-17T19:52:14.606Z"
   },
   {
    "duration": 5,
    "start_time": "2025-04-17T19:52:14.636Z"
   },
   {
    "duration": 210,
    "start_time": "2025-04-17T19:52:14.662Z"
   },
   {
    "duration": 475,
    "start_time": "2025-04-17T19:52:14.874Z"
   },
   {
    "duration": 145,
    "start_time": "2025-04-17T19:52:15.351Z"
   },
   {
    "duration": 96,
    "start_time": "2025-04-17T19:52:15.498Z"
   },
   {
    "duration": 6,
    "start_time": "2025-04-17T19:52:15.596Z"
   },
   {
    "duration": 7,
    "start_time": "2025-04-17T19:52:15.603Z"
   },
   {
    "duration": 140,
    "start_time": "2025-04-17T19:52:15.611Z"
   },
   {
    "duration": 9,
    "start_time": "2025-04-17T19:52:15.753Z"
   },
   {
    "duration": 59,
    "start_time": "2025-04-17T19:52:15.764Z"
   },
   {
    "duration": 7,
    "start_time": "2025-04-17T19:52:15.824Z"
   },
   {
    "duration": 171,
    "start_time": "2025-04-17T19:52:15.833Z"
   },
   {
    "duration": 7,
    "start_time": "2025-04-17T19:52:16.005Z"
   },
   {
    "duration": 202,
    "start_time": "2025-04-17T19:52:16.014Z"
   },
   {
    "duration": 9,
    "start_time": "2025-04-17T19:52:16.218Z"
   },
   {
    "duration": 168,
    "start_time": "2025-04-17T19:52:16.228Z"
   },
   {
    "duration": 8,
    "start_time": "2025-04-17T19:52:16.398Z"
   },
   {
    "duration": 151,
    "start_time": "2025-04-17T19:52:16.408Z"
   },
   {
    "duration": 7,
    "start_time": "2025-04-17T19:52:16.561Z"
   },
   {
    "duration": 206,
    "start_time": "2025-04-17T19:52:16.569Z"
   },
   {
    "duration": 9,
    "start_time": "2025-04-17T19:52:16.776Z"
   },
   {
    "duration": 154,
    "start_time": "2025-04-17T19:52:16.789Z"
   },
   {
    "duration": 430,
    "start_time": "2025-04-17T19:52:16.945Z"
   },
   {
    "duration": 45,
    "start_time": "2025-04-17T19:52:17.377Z"
   },
   {
    "duration": 43,
    "start_time": "2025-04-17T19:52:17.423Z"
   },
   {
    "duration": 20,
    "start_time": "2025-04-17T19:52:17.468Z"
   },
   {
    "duration": 22,
    "start_time": "2025-04-17T19:52:17.490Z"
   },
   {
    "duration": 8,
    "start_time": "2025-04-17T19:52:17.514Z"
   },
   {
    "duration": 6,
    "start_time": "2025-04-17T19:52:17.523Z"
   },
   {
    "duration": 43,
    "start_time": "2025-04-17T19:52:17.530Z"
   },
   {
    "duration": 33,
    "start_time": "2025-04-17T19:52:17.574Z"
   },
   {
    "duration": 4,
    "start_time": "2025-04-17T19:52:17.609Z"
   },
   {
    "duration": 22,
    "start_time": "2025-04-17T19:52:17.614Z"
   },
   {
    "duration": 578,
    "start_time": "2025-04-17T19:54:15.108Z"
   },
   {
    "duration": 2075,
    "start_time": "2025-04-17T19:54:15.688Z"
   },
   {
    "duration": 13,
    "start_time": "2025-04-17T19:54:17.765Z"
   },
   {
    "duration": 149,
    "start_time": "2025-04-17T19:54:17.780Z"
   },
   {
    "duration": 324,
    "start_time": "2025-04-17T19:54:17.932Z"
   },
   {
    "duration": 524,
    "start_time": "2025-04-17T19:54:18.261Z"
   },
   {
    "duration": 37,
    "start_time": "2025-04-17T19:54:18.786Z"
   },
   {
    "duration": 4,
    "start_time": "2025-04-17T19:54:18.825Z"
   },
   {
    "duration": 57,
    "start_time": "2025-04-17T19:54:18.830Z"
   },
   {
    "duration": 152,
    "start_time": "2025-04-17T19:54:18.888Z"
   },
   {
    "duration": 39,
    "start_time": "2025-04-17T19:54:19.042Z"
   },
   {
    "duration": 300,
    "start_time": "2025-04-17T19:54:19.083Z"
   },
   {
    "duration": 126,
    "start_time": "2025-04-17T19:54:19.385Z"
   },
   {
    "duration": 195,
    "start_time": "2025-04-17T19:54:19.514Z"
   },
   {
    "duration": 27,
    "start_time": "2025-04-17T19:54:19.710Z"
   },
   {
    "duration": 205,
    "start_time": "2025-04-17T19:54:19.739Z"
   },
   {
    "duration": 160,
    "start_time": "2025-04-17T19:54:19.945Z"
   },
   {
    "duration": 14,
    "start_time": "2025-04-17T19:54:20.106Z"
   },
   {
    "duration": 41,
    "start_time": "2025-04-17T19:54:20.122Z"
   },
   {
    "duration": 6,
    "start_time": "2025-04-17T19:54:20.164Z"
   },
   {
    "duration": 223,
    "start_time": "2025-04-17T19:54:20.172Z"
   },
   {
    "duration": 485,
    "start_time": "2025-04-17T19:54:20.396Z"
   },
   {
    "duration": 127,
    "start_time": "2025-04-17T19:54:20.883Z"
   },
   {
    "duration": 97,
    "start_time": "2025-04-17T19:54:21.012Z"
   },
   {
    "duration": 6,
    "start_time": "2025-04-17T19:54:21.111Z"
   },
   {
    "duration": 8,
    "start_time": "2025-04-17T19:54:21.118Z"
   },
   {
    "duration": 141,
    "start_time": "2025-04-17T19:54:21.127Z"
   },
   {
    "duration": 7,
    "start_time": "2025-04-17T19:54:21.269Z"
   },
   {
    "duration": 9,
    "start_time": "2025-04-17T19:54:21.277Z"
   },
   {
    "duration": 6,
    "start_time": "2025-04-17T19:54:21.287Z"
   },
   {
    "duration": 196,
    "start_time": "2025-04-17T19:54:21.295Z"
   },
   {
    "duration": 7,
    "start_time": "2025-04-17T19:54:21.493Z"
   },
   {
    "duration": 175,
    "start_time": "2025-04-17T19:54:21.502Z"
   },
   {
    "duration": 8,
    "start_time": "2025-04-17T19:54:21.679Z"
   },
   {
    "duration": 168,
    "start_time": "2025-04-17T19:54:21.688Z"
   },
   {
    "duration": 7,
    "start_time": "2025-04-17T19:54:21.861Z"
   },
   {
    "duration": 145,
    "start_time": "2025-04-17T19:54:21.870Z"
   },
   {
    "duration": 7,
    "start_time": "2025-04-17T19:54:22.017Z"
   },
   {
    "duration": 232,
    "start_time": "2025-04-17T19:54:22.025Z"
   },
   {
    "duration": 9,
    "start_time": "2025-04-17T19:54:22.261Z"
   },
   {
    "duration": 150,
    "start_time": "2025-04-17T19:54:22.273Z"
   },
   {
    "duration": 381,
    "start_time": "2025-04-17T19:54:22.424Z"
   },
   {
    "duration": 42,
    "start_time": "2025-04-17T19:54:22.806Z"
   },
   {
    "duration": 32,
    "start_time": "2025-04-17T19:54:22.850Z"
   },
   {
    "duration": 18,
    "start_time": "2025-04-17T19:54:22.884Z"
   },
   {
    "duration": 18,
    "start_time": "2025-04-17T19:54:22.904Z"
   },
   {
    "duration": 7,
    "start_time": "2025-04-17T19:54:22.924Z"
   },
   {
    "duration": 30,
    "start_time": "2025-04-17T19:54:22.932Z"
   },
   {
    "duration": 14,
    "start_time": "2025-04-17T19:54:22.964Z"
   },
   {
    "duration": 13,
    "start_time": "2025-04-17T19:54:22.979Z"
   },
   {
    "duration": 4,
    "start_time": "2025-04-17T19:54:22.993Z"
   },
   {
    "duration": 10,
    "start_time": "2025-04-17T19:54:22.998Z"
   },
   {
    "duration": 47,
    "start_time": "2025-04-17T19:57:00.398Z"
   },
   {
    "duration": 625,
    "start_time": "2025-04-17T19:57:08.128Z"
   },
   {
    "duration": 2684,
    "start_time": "2025-04-17T19:57:08.755Z"
   },
   {
    "duration": 22,
    "start_time": "2025-04-17T19:57:11.441Z"
   },
   {
    "duration": 143,
    "start_time": "2025-04-17T19:57:11.465Z"
   },
   {
    "duration": 316,
    "start_time": "2025-04-17T19:57:11.610Z"
   },
   {
    "duration": 527,
    "start_time": "2025-04-17T19:57:11.927Z"
   },
   {
    "duration": 38,
    "start_time": "2025-04-17T19:57:12.455Z"
   },
   {
    "duration": 42,
    "start_time": "2025-04-17T19:57:12.496Z"
   },
   {
    "duration": 67,
    "start_time": "2025-04-17T19:57:12.540Z"
   },
   {
    "duration": 141,
    "start_time": "2025-04-17T19:57:12.609Z"
   },
   {
    "duration": 35,
    "start_time": "2025-04-17T19:57:12.751Z"
   },
   {
    "duration": 310,
    "start_time": "2025-04-17T19:57:12.788Z"
   },
   {
    "duration": 111,
    "start_time": "2025-04-17T19:57:13.100Z"
   },
   {
    "duration": 191,
    "start_time": "2025-04-17T19:57:13.212Z"
   },
   {
    "duration": 26,
    "start_time": "2025-04-17T19:57:13.404Z"
   },
   {
    "duration": 207,
    "start_time": "2025-04-17T19:57:13.432Z"
   },
   {
    "duration": 143,
    "start_time": "2025-04-17T19:57:13.641Z"
   },
   {
    "duration": 13,
    "start_time": "2025-04-17T19:57:13.785Z"
   },
   {
    "duration": 56,
    "start_time": "2025-04-17T19:57:13.799Z"
   },
   {
    "duration": 6,
    "start_time": "2025-04-17T19:57:13.856Z"
   },
   {
    "duration": 214,
    "start_time": "2025-04-17T19:57:13.863Z"
   },
   {
    "duration": 495,
    "start_time": "2025-04-17T19:57:14.078Z"
   },
   {
    "duration": 133,
    "start_time": "2025-04-17T19:57:14.574Z"
   },
   {
    "duration": 100,
    "start_time": "2025-04-17T19:57:14.709Z"
   },
   {
    "duration": 6,
    "start_time": "2025-04-17T19:57:14.811Z"
   },
   {
    "duration": 14,
    "start_time": "2025-04-17T19:57:14.818Z"
   },
   {
    "duration": 140,
    "start_time": "2025-04-17T19:57:14.833Z"
   },
   {
    "duration": 7,
    "start_time": "2025-04-17T19:57:14.976Z"
   },
   {
    "duration": 4,
    "start_time": "2025-04-17T19:57:14.984Z"
   },
   {
    "duration": 7,
    "start_time": "2025-04-17T19:57:14.990Z"
   },
   {
    "duration": 202,
    "start_time": "2025-04-17T19:57:14.998Z"
   },
   {
    "duration": 10,
    "start_time": "2025-04-17T19:57:15.202Z"
   },
   {
    "duration": 243,
    "start_time": "2025-04-17T19:57:15.214Z"
   },
   {
    "duration": 8,
    "start_time": "2025-04-17T19:57:15.459Z"
   },
   {
    "duration": 158,
    "start_time": "2025-04-17T19:57:15.469Z"
   },
   {
    "duration": 8,
    "start_time": "2025-04-17T19:57:15.628Z"
   },
   {
    "duration": 152,
    "start_time": "2025-04-17T19:57:15.638Z"
   },
   {
    "duration": 9,
    "start_time": "2025-04-17T19:57:15.791Z"
   },
   {
    "duration": 228,
    "start_time": "2025-04-17T19:57:15.802Z"
   },
   {
    "duration": 9,
    "start_time": "2025-04-17T19:57:16.031Z"
   },
   {
    "duration": 185,
    "start_time": "2025-04-17T19:57:16.041Z"
   },
   {
    "duration": 450,
    "start_time": "2025-04-17T19:57:16.228Z"
   },
   {
    "duration": 44,
    "start_time": "2025-04-17T19:57:16.679Z"
   },
   {
    "duration": 43,
    "start_time": "2025-04-17T19:57:16.724Z"
   },
   {
    "duration": 24,
    "start_time": "2025-04-17T19:57:16.769Z"
   },
   {
    "duration": 20,
    "start_time": "2025-04-17T19:57:16.795Z"
   },
   {
    "duration": 8,
    "start_time": "2025-04-17T19:57:16.817Z"
   },
   {
    "duration": 9,
    "start_time": "2025-04-17T19:57:16.826Z"
   },
   {
    "duration": 17,
    "start_time": "2025-04-17T19:57:16.863Z"
   },
   {
    "duration": 17,
    "start_time": "2025-04-17T19:57:16.881Z"
   },
   {
    "duration": 4,
    "start_time": "2025-04-17T19:57:16.900Z"
   },
   {
    "duration": 11,
    "start_time": "2025-04-17T19:57:16.905Z"
   },
   {
    "duration": 629,
    "start_time": "2025-04-17T19:59:32.962Z"
   },
   {
    "duration": 1833,
    "start_time": "2025-04-17T19:59:33.592Z"
   },
   {
    "duration": 13,
    "start_time": "2025-04-17T19:59:35.427Z"
   },
   {
    "duration": 162,
    "start_time": "2025-04-17T19:59:35.442Z"
   },
   {
    "duration": 308,
    "start_time": "2025-04-17T19:59:35.606Z"
   },
   {
    "duration": 524,
    "start_time": "2025-04-17T19:59:35.915Z"
   },
   {
    "duration": 47,
    "start_time": "2025-04-17T19:59:36.441Z"
   },
   {
    "duration": 4,
    "start_time": "2025-04-17T19:59:36.489Z"
   },
   {
    "duration": 138,
    "start_time": "2025-04-17T19:59:36.495Z"
   },
   {
    "duration": 124,
    "start_time": "2025-04-17T19:59:36.634Z"
   },
   {
    "duration": 29,
    "start_time": "2025-04-17T19:59:36.763Z"
   },
   {
    "duration": 295,
    "start_time": "2025-04-17T19:59:36.793Z"
   },
   {
    "duration": 114,
    "start_time": "2025-04-17T19:59:37.089Z"
   },
   {
    "duration": 187,
    "start_time": "2025-04-17T19:59:37.206Z"
   },
   {
    "duration": 29,
    "start_time": "2025-04-17T19:59:37.394Z"
   },
   {
    "duration": 214,
    "start_time": "2025-04-17T19:59:37.425Z"
   },
   {
    "duration": 137,
    "start_time": "2025-04-17T19:59:37.640Z"
   },
   {
    "duration": 12,
    "start_time": "2025-04-17T19:59:37.778Z"
   },
   {
    "duration": 81,
    "start_time": "2025-04-17T19:59:37.791Z"
   },
   {
    "duration": 5,
    "start_time": "2025-04-17T19:59:37.874Z"
   },
   {
    "duration": 225,
    "start_time": "2025-04-17T19:59:37.881Z"
   },
   {
    "duration": 477,
    "start_time": "2025-04-17T19:59:38.108Z"
   },
   {
    "duration": 117,
    "start_time": "2025-04-17T19:59:38.587Z"
   },
   {
    "duration": 110,
    "start_time": "2025-04-17T19:59:38.705Z"
   },
   {
    "duration": 6,
    "start_time": "2025-04-17T19:59:38.817Z"
   },
   {
    "duration": 11,
    "start_time": "2025-04-17T19:59:38.824Z"
   },
   {
    "duration": 149,
    "start_time": "2025-04-17T19:59:38.837Z"
   },
   {
    "duration": 7,
    "start_time": "2025-04-17T19:59:38.987Z"
   },
   {
    "duration": 10,
    "start_time": "2025-04-17T19:59:38.995Z"
   },
   {
    "duration": 11,
    "start_time": "2025-04-17T19:59:39.006Z"
   },
   {
    "duration": 188,
    "start_time": "2025-04-17T19:59:39.019Z"
   },
   {
    "duration": 7,
    "start_time": "2025-04-17T19:59:39.208Z"
   },
   {
    "duration": 246,
    "start_time": "2025-04-17T19:59:39.216Z"
   },
   {
    "duration": 9,
    "start_time": "2025-04-17T19:59:39.463Z"
   },
   {
    "duration": 159,
    "start_time": "2025-04-17T19:59:39.473Z"
   },
   {
    "duration": 8,
    "start_time": "2025-04-17T19:59:39.634Z"
   },
   {
    "duration": 142,
    "start_time": "2025-04-17T19:59:39.644Z"
   },
   {
    "duration": 7,
    "start_time": "2025-04-17T19:59:39.788Z"
   },
   {
    "duration": 263,
    "start_time": "2025-04-17T19:59:39.796Z"
   },
   {
    "duration": 9,
    "start_time": "2025-04-17T19:59:40.064Z"
   },
   {
    "duration": 175,
    "start_time": "2025-04-17T19:59:40.077Z"
   },
   {
    "duration": 585,
    "start_time": "2025-04-17T19:59:40.253Z"
   },
   {
    "duration": 46,
    "start_time": "2025-04-17T19:59:40.840Z"
   },
   {
    "duration": 40,
    "start_time": "2025-04-17T19:59:40.887Z"
   },
   {
    "duration": 28,
    "start_time": "2025-04-17T19:59:40.929Z"
   },
   {
    "duration": 19,
    "start_time": "2025-04-17T19:59:40.958Z"
   },
   {
    "duration": 7,
    "start_time": "2025-04-17T19:59:40.979Z"
   },
   {
    "duration": 10,
    "start_time": "2025-04-17T19:59:40.988Z"
   },
   {
    "duration": 35,
    "start_time": "2025-04-17T19:59:41.000Z"
   },
   {
    "duration": 28,
    "start_time": "2025-04-17T19:59:41.036Z"
   },
   {
    "duration": 15,
    "start_time": "2025-04-17T19:59:41.066Z"
   },
   {
    "duration": 15,
    "start_time": "2025-04-17T19:59:41.082Z"
   },
   {
    "duration": 53,
    "start_time": "2025-04-17T20:02:31.527Z"
   },
   {
    "duration": 628,
    "start_time": "2025-04-17T20:03:15.085Z"
   },
   {
    "duration": 1749,
    "start_time": "2025-04-17T20:03:15.715Z"
   },
   {
    "duration": 14,
    "start_time": "2025-04-17T20:03:17.466Z"
   },
   {
    "duration": 145,
    "start_time": "2025-04-17T20:03:17.482Z"
   },
   {
    "duration": 300,
    "start_time": "2025-04-17T20:03:17.629Z"
   },
   {
    "duration": 523,
    "start_time": "2025-04-17T20:03:17.931Z"
   },
   {
    "duration": 41,
    "start_time": "2025-04-17T20:03:18.455Z"
   },
   {
    "duration": 4,
    "start_time": "2025-04-17T20:03:18.497Z"
   },
   {
    "duration": 88,
    "start_time": "2025-04-17T20:03:18.502Z"
   },
   {
    "duration": 132,
    "start_time": "2025-04-17T20:03:18.591Z"
   },
   {
    "duration": 27,
    "start_time": "2025-04-17T20:03:18.725Z"
   },
   {
    "duration": 288,
    "start_time": "2025-04-17T20:03:18.762Z"
   },
   {
    "duration": 113,
    "start_time": "2025-04-17T20:03:19.052Z"
   },
   {
    "duration": 184,
    "start_time": "2025-04-17T20:03:19.168Z"
   },
   {
    "duration": 30,
    "start_time": "2025-04-17T20:03:19.354Z"
   },
   {
    "duration": 192,
    "start_time": "2025-04-17T20:03:19.386Z"
   },
   {
    "duration": 139,
    "start_time": "2025-04-17T20:03:19.580Z"
   },
   {
    "duration": 11,
    "start_time": "2025-04-17T20:03:19.720Z"
   },
   {
    "duration": 38,
    "start_time": "2025-04-17T20:03:19.733Z"
   },
   {
    "duration": 6,
    "start_time": "2025-04-17T20:03:19.772Z"
   },
   {
    "duration": 216,
    "start_time": "2025-04-17T20:03:19.779Z"
   },
   {
    "duration": 493,
    "start_time": "2025-04-17T20:03:19.997Z"
   },
   {
    "duration": 147,
    "start_time": "2025-04-17T20:03:20.492Z"
   },
   {
    "duration": 187,
    "start_time": "2025-04-17T20:03:20.641Z"
   },
   {
    "duration": 7,
    "start_time": "2025-04-17T20:03:20.829Z"
   },
   {
    "duration": 9,
    "start_time": "2025-04-17T20:03:20.837Z"
   },
   {
    "duration": 142,
    "start_time": "2025-04-17T20:03:20.848Z"
   },
   {
    "duration": 7,
    "start_time": "2025-04-17T20:03:20.992Z"
   },
   {
    "duration": 20,
    "start_time": "2025-04-17T20:03:21.000Z"
   },
   {
    "duration": 15,
    "start_time": "2025-04-17T20:03:21.022Z"
   },
   {
    "duration": 185,
    "start_time": "2025-04-17T20:03:21.038Z"
   },
   {
    "duration": 8,
    "start_time": "2025-04-17T20:03:21.225Z"
   },
   {
    "duration": 215,
    "start_time": "2025-04-17T20:03:21.234Z"
   },
   {
    "duration": 11,
    "start_time": "2025-04-17T20:03:21.451Z"
   },
   {
    "duration": 169,
    "start_time": "2025-04-17T20:03:21.463Z"
   },
   {
    "duration": 7,
    "start_time": "2025-04-17T20:03:21.634Z"
   },
   {
    "duration": 144,
    "start_time": "2025-04-17T20:03:21.643Z"
   },
   {
    "duration": 7,
    "start_time": "2025-04-17T20:03:21.789Z"
   },
   {
    "duration": 275,
    "start_time": "2025-04-17T20:03:21.797Z"
   },
   {
    "duration": 8,
    "start_time": "2025-04-17T20:03:22.073Z"
   },
   {
    "duration": 179,
    "start_time": "2025-04-17T20:03:22.085Z"
   },
   {
    "duration": 1508,
    "start_time": "2025-04-17T20:03:22.266Z"
   },
   {
    "duration": 45,
    "start_time": "2025-04-17T20:03:23.775Z"
   },
   {
    "duration": 69,
    "start_time": "2025-04-17T20:03:23.821Z"
   },
   {
    "duration": 21,
    "start_time": "2025-04-17T20:03:23.892Z"
   },
   {
    "duration": 20,
    "start_time": "2025-04-17T20:03:23.915Z"
   },
   {
    "duration": 53,
    "start_time": "2025-04-17T20:03:23.937Z"
   },
   {
    "duration": 8,
    "start_time": "2025-04-17T20:03:23.992Z"
   },
   {
    "duration": 20,
    "start_time": "2025-04-17T20:03:24.002Z"
   },
   {
    "duration": 16,
    "start_time": "2025-04-17T20:03:24.023Z"
   },
   {
    "duration": 5,
    "start_time": "2025-04-17T20:03:24.041Z"
   },
   {
    "duration": 76,
    "start_time": "2025-04-17T20:03:24.047Z"
   },
   {
    "duration": 219,
    "start_time": "2025-04-17T20:03:30.645Z"
   },
   {
    "duration": 27,
    "start_time": "2025-04-17T20:03:50.589Z"
   },
   {
    "duration": 646,
    "start_time": "2025-04-17T20:04:28.754Z"
   },
   {
    "duration": 1947,
    "start_time": "2025-04-17T20:04:29.402Z"
   },
   {
    "duration": 19,
    "start_time": "2025-04-17T20:04:31.350Z"
   },
   {
    "duration": 159,
    "start_time": "2025-04-17T20:04:31.371Z"
   },
   {
    "duration": 314,
    "start_time": "2025-04-17T20:04:31.532Z"
   },
   {
    "duration": 535,
    "start_time": "2025-04-17T20:04:31.847Z"
   },
   {
    "duration": 38,
    "start_time": "2025-04-17T20:04:32.383Z"
   },
   {
    "duration": 4,
    "start_time": "2025-04-17T20:04:32.422Z"
   },
   {
    "duration": 58,
    "start_time": "2025-04-17T20:04:32.427Z"
   },
   {
    "duration": 168,
    "start_time": "2025-04-17T20:04:32.487Z"
   },
   {
    "duration": 34,
    "start_time": "2025-04-17T20:04:32.656Z"
   },
   {
    "duration": 297,
    "start_time": "2025-04-17T20:04:32.691Z"
   },
   {
    "duration": 118,
    "start_time": "2025-04-17T20:04:32.990Z"
   },
   {
    "duration": 189,
    "start_time": "2025-04-17T20:04:33.111Z"
   },
   {
    "duration": 27,
    "start_time": "2025-04-17T20:04:33.301Z"
   },
   {
    "duration": 204,
    "start_time": "2025-04-17T20:04:33.329Z"
   },
   {
    "duration": 149,
    "start_time": "2025-04-17T20:04:33.535Z"
   },
   {
    "duration": 12,
    "start_time": "2025-04-17T20:04:33.686Z"
   },
   {
    "duration": 38,
    "start_time": "2025-04-17T20:04:33.699Z"
   },
   {
    "duration": 6,
    "start_time": "2025-04-17T20:04:33.738Z"
   },
   {
    "duration": 227,
    "start_time": "2025-04-17T20:04:33.746Z"
   },
   {
    "duration": 485,
    "start_time": "2025-04-17T20:04:33.974Z"
   },
   {
    "duration": 127,
    "start_time": "2025-04-17T20:04:34.462Z"
   },
   {
    "duration": 120,
    "start_time": "2025-04-17T20:04:34.590Z"
   },
   {
    "duration": 6,
    "start_time": "2025-04-17T20:04:34.711Z"
   },
   {
    "duration": 18,
    "start_time": "2025-04-17T20:04:34.718Z"
   },
   {
    "duration": 160,
    "start_time": "2025-04-17T20:04:34.737Z"
   },
   {
    "duration": 6,
    "start_time": "2025-04-17T20:04:34.899Z"
   },
   {
    "duration": 35,
    "start_time": "2025-04-17T20:04:34.907Z"
   },
   {
    "duration": 22,
    "start_time": "2025-04-17T20:04:34.944Z"
   },
   {
    "duration": 215,
    "start_time": "2025-04-17T20:04:34.968Z"
   },
   {
    "duration": 8,
    "start_time": "2025-04-17T20:04:35.184Z"
   },
   {
    "duration": 206,
    "start_time": "2025-04-17T20:04:35.193Z"
   },
   {
    "duration": 9,
    "start_time": "2025-04-17T20:04:35.400Z"
   },
   {
    "duration": 202,
    "start_time": "2025-04-17T20:04:35.411Z"
   },
   {
    "duration": 8,
    "start_time": "2025-04-17T20:04:35.615Z"
   },
   {
    "duration": 151,
    "start_time": "2025-04-17T20:04:35.624Z"
   },
   {
    "duration": 7,
    "start_time": "2025-04-17T20:04:35.777Z"
   },
   {
    "duration": 315,
    "start_time": "2025-04-17T20:04:35.786Z"
   },
   {
    "duration": 9,
    "start_time": "2025-04-17T20:04:36.103Z"
   },
   {
    "duration": 195,
    "start_time": "2025-04-17T20:04:36.116Z"
   },
   {
    "duration": 1107,
    "start_time": "2025-04-17T20:04:36.313Z"
   },
   {
    "duration": 52,
    "start_time": "2025-04-17T20:04:37.421Z"
   },
   {
    "duration": 27,
    "start_time": "2025-04-17T20:04:37.475Z"
   },
   {
    "duration": 34,
    "start_time": "2025-04-17T20:04:37.504Z"
   },
   {
    "duration": 27,
    "start_time": "2025-04-17T20:04:37.540Z"
   },
   {
    "duration": 9,
    "start_time": "2025-04-17T20:04:37.569Z"
   },
   {
    "duration": 17,
    "start_time": "2025-04-17T20:04:37.580Z"
   },
   {
    "duration": 27,
    "start_time": "2025-04-17T20:04:37.599Z"
   },
   {
    "duration": 26,
    "start_time": "2025-04-17T20:04:37.627Z"
   },
   {
    "duration": 19,
    "start_time": "2025-04-17T20:04:37.655Z"
   },
   {
    "duration": 23,
    "start_time": "2025-04-17T20:04:37.676Z"
   },
   {
    "duration": 880,
    "start_time": "2025-04-18T06:41:41.594Z"
   },
   {
    "duration": 2097,
    "start_time": "2025-04-18T06:41:42.477Z"
   },
   {
    "duration": 28,
    "start_time": "2025-04-18T06:41:44.576Z"
   },
   {
    "duration": 162,
    "start_time": "2025-04-18T06:41:44.606Z"
   },
   {
    "duration": 361,
    "start_time": "2025-04-18T06:41:44.771Z"
   },
   {
    "duration": 637,
    "start_time": "2025-04-18T06:41:45.134Z"
   },
   {
    "duration": 56,
    "start_time": "2025-04-18T06:41:45.773Z"
   },
   {
    "duration": 64,
    "start_time": "2025-04-18T06:41:45.830Z"
   },
   {
    "duration": 142,
    "start_time": "2025-04-18T06:41:45.896Z"
   },
   {
    "duration": 190,
    "start_time": "2025-04-18T06:41:46.041Z"
   },
   {
    "duration": 84,
    "start_time": "2025-04-18T06:41:46.232Z"
   },
   {
    "duration": 713,
    "start_time": "2025-04-18T06:41:46.318Z"
   },
   {
    "duration": 281,
    "start_time": "2025-04-18T06:41:47.033Z"
   },
   {
    "duration": 426,
    "start_time": "2025-04-18T06:41:47.316Z"
   },
   {
    "duration": 82,
    "start_time": "2025-04-18T06:41:47.744Z"
   },
   {
    "duration": 227,
    "start_time": "2025-04-18T06:41:47.827Z"
   },
   {
    "duration": 172,
    "start_time": "2025-04-18T06:41:48.055Z"
   },
   {
    "duration": 20,
    "start_time": "2025-04-18T06:41:48.230Z"
   },
   {
    "duration": 59,
    "start_time": "2025-04-18T06:41:48.253Z"
   },
   {
    "duration": 6,
    "start_time": "2025-04-18T06:41:48.314Z"
   },
   {
    "duration": 276,
    "start_time": "2025-04-18T06:41:48.322Z"
   },
   {
    "duration": 549,
    "start_time": "2025-04-18T06:41:48.600Z"
   },
   {
    "duration": 163,
    "start_time": "2025-04-18T06:41:49.150Z"
   },
   {
    "duration": 142,
    "start_time": "2025-04-18T06:41:49.314Z"
   },
   {
    "duration": 9,
    "start_time": "2025-04-18T06:41:49.458Z"
   },
   {
    "duration": 48,
    "start_time": "2025-04-18T06:41:49.469Z"
   },
   {
    "duration": 178,
    "start_time": "2025-04-18T06:41:49.519Z"
   },
   {
    "duration": 10,
    "start_time": "2025-04-18T06:41:49.703Z"
   },
   {
    "duration": 33,
    "start_time": "2025-04-18T06:41:49.715Z"
   },
   {
    "duration": 111,
    "start_time": "2025-04-18T06:41:49.750Z"
   },
   {
    "duration": 304,
    "start_time": "2025-04-18T06:41:49.863Z"
   },
   {
    "duration": 8,
    "start_time": "2025-04-18T06:41:50.169Z"
   },
   {
    "duration": 212,
    "start_time": "2025-04-18T06:41:50.178Z"
   },
   {
    "duration": 15,
    "start_time": "2025-04-18T06:41:50.391Z"
   },
   {
    "duration": 192,
    "start_time": "2025-04-18T06:41:50.407Z"
   },
   {
    "duration": 7,
    "start_time": "2025-04-18T06:41:50.604Z"
   },
   {
    "duration": 208,
    "start_time": "2025-04-18T06:41:50.613Z"
   },
   {
    "duration": 8,
    "start_time": "2025-04-18T06:41:50.823Z"
   },
   {
    "duration": 263,
    "start_time": "2025-04-18T06:41:50.832Z"
   },
   {
    "duration": 15,
    "start_time": "2025-04-18T06:41:51.096Z"
   },
   {
    "duration": 226,
    "start_time": "2025-04-18T06:41:51.113Z"
   },
   {
    "duration": 544,
    "start_time": "2025-04-18T06:41:51.341Z"
   },
   {
    "duration": 66,
    "start_time": "2025-04-18T06:41:51.887Z"
   },
   {
    "duration": 56,
    "start_time": "2025-04-18T06:41:51.955Z"
   },
   {
    "duration": 27,
    "start_time": "2025-04-18T06:41:52.013Z"
   },
   {
    "duration": 39,
    "start_time": "2025-04-18T06:41:52.042Z"
   },
   {
    "duration": 19,
    "start_time": "2025-04-18T06:41:52.083Z"
   },
   {
    "duration": 11,
    "start_time": "2025-04-18T06:41:52.104Z"
   },
   {
    "duration": 29,
    "start_time": "2025-04-18T06:41:52.116Z"
   },
   {
    "duration": 26,
    "start_time": "2025-04-18T06:41:52.147Z"
   },
   {
    "duration": 36,
    "start_time": "2025-04-18T06:41:52.175Z"
   },
   {
    "duration": 26,
    "start_time": "2025-04-18T06:41:52.213Z"
   },
   {
    "duration": 6,
    "start_time": "2025-04-18T06:44:05.551Z"
   },
   {
    "duration": 6,
    "start_time": "2025-04-18T06:44:16.983Z"
   },
   {
    "duration": 5,
    "start_time": "2025-04-18T06:44:28.570Z"
   },
   {
    "duration": 8,
    "start_time": "2025-04-18T06:48:02.777Z"
   },
   {
    "duration": 80,
    "start_time": "2025-04-18T06:48:10.522Z"
   },
   {
    "duration": 8,
    "start_time": "2025-04-18T06:48:14.890Z"
   },
   {
    "duration": 7,
    "start_time": "2025-04-18T06:48:23.662Z"
   },
   {
    "duration": 819,
    "start_time": "2025-04-18T09:03:29.359Z"
   },
   {
    "duration": 1890,
    "start_time": "2025-04-18T09:03:30.180Z"
   },
   {
    "duration": 15,
    "start_time": "2025-04-18T09:03:32.072Z"
   },
   {
    "duration": 169,
    "start_time": "2025-04-18T09:03:32.090Z"
   },
   {
    "duration": 339,
    "start_time": "2025-04-18T09:03:32.260Z"
   },
   {
    "duration": 549,
    "start_time": "2025-04-18T09:03:32.600Z"
   },
   {
    "duration": 39,
    "start_time": "2025-04-18T09:03:33.151Z"
   },
   {
    "duration": 5,
    "start_time": "2025-04-18T09:03:33.191Z"
   },
   {
    "duration": 65,
    "start_time": "2025-04-18T09:03:33.197Z"
   },
   {
    "duration": 150,
    "start_time": "2025-04-18T09:03:33.264Z"
   },
   {
    "duration": 41,
    "start_time": "2025-04-18T09:03:33.415Z"
   },
   {
    "duration": 326,
    "start_time": "2025-04-18T09:03:33.458Z"
   },
   {
    "duration": 117,
    "start_time": "2025-04-18T09:03:33.786Z"
   },
   {
    "duration": 216,
    "start_time": "2025-04-18T09:03:33.905Z"
   },
   {
    "duration": 50,
    "start_time": "2025-04-18T09:03:34.123Z"
   },
   {
    "duration": 219,
    "start_time": "2025-04-18T09:03:34.175Z"
   },
   {
    "duration": 164,
    "start_time": "2025-04-18T09:03:34.396Z"
   },
   {
    "duration": 14,
    "start_time": "2025-04-18T09:03:34.562Z"
   },
   {
    "duration": 29,
    "start_time": "2025-04-18T09:03:34.579Z"
   },
   {
    "duration": 39,
    "start_time": "2025-04-18T09:03:34.609Z"
   },
   {
    "duration": 247,
    "start_time": "2025-04-18T09:03:34.650Z"
   },
   {
    "duration": 487,
    "start_time": "2025-04-18T09:03:34.899Z"
   },
   {
    "duration": 131,
    "start_time": "2025-04-18T09:03:35.389Z"
   },
   {
    "duration": 705,
    "start_time": "2025-04-18T09:03:35.521Z"
   },
   {
    "duration": 11,
    "start_time": "2025-04-18T09:03:36.227Z"
   },
   {
    "duration": 9,
    "start_time": "2025-04-18T09:03:36.243Z"
   },
   {
    "duration": 158,
    "start_time": "2025-04-18T09:03:36.254Z"
   },
   {
    "duration": 7,
    "start_time": "2025-04-18T09:03:36.416Z"
   },
   {
    "duration": 6,
    "start_time": "2025-04-18T09:03:36.444Z"
   },
   {
    "duration": 119,
    "start_time": "2025-04-18T09:03:36.451Z"
   },
   {
    "duration": 203,
    "start_time": "2025-04-18T09:03:36.572Z"
   },
   {
    "duration": 8,
    "start_time": "2025-04-18T09:03:36.777Z"
   },
   {
    "duration": 190,
    "start_time": "2025-04-18T09:03:36.787Z"
   },
   {
    "duration": 9,
    "start_time": "2025-04-18T09:03:36.979Z"
   },
   {
    "duration": 190,
    "start_time": "2025-04-18T09:03:36.989Z"
   },
   {
    "duration": 8,
    "start_time": "2025-04-18T09:03:37.180Z"
   },
   {
    "duration": 177,
    "start_time": "2025-04-18T09:03:37.190Z"
   },
   {
    "duration": 7,
    "start_time": "2025-04-18T09:03:37.369Z"
   },
   {
    "duration": 264,
    "start_time": "2025-04-18T09:03:37.377Z"
   },
   {
    "duration": 10,
    "start_time": "2025-04-18T09:03:37.643Z"
   },
   {
    "duration": 165,
    "start_time": "2025-04-18T09:03:37.655Z"
   },
   {
    "duration": 457,
    "start_time": "2025-04-18T09:03:37.823Z"
   },
   {
    "duration": 55,
    "start_time": "2025-04-18T09:03:38.282Z"
   },
   {
    "duration": 31,
    "start_time": "2025-04-18T09:03:38.339Z"
   },
   {
    "duration": 21,
    "start_time": "2025-04-18T09:03:38.372Z"
   },
   {
    "duration": 50,
    "start_time": "2025-04-18T09:03:38.395Z"
   },
   {
    "duration": 9,
    "start_time": "2025-04-18T09:03:38.447Z"
   },
   {
    "duration": 74,
    "start_time": "2025-04-18T09:03:38.458Z"
   },
   {
    "duration": 25,
    "start_time": "2025-04-18T09:03:38.534Z"
   },
   {
    "duration": 17,
    "start_time": "2025-04-18T09:03:38.561Z"
   },
   {
    "duration": 3,
    "start_time": "2025-04-18T09:03:38.580Z"
   },
   {
    "duration": 10,
    "start_time": "2025-04-18T09:03:38.585Z"
   },
   {
    "duration": 170,
    "start_time": "2025-04-18T09:04:24.801Z"
   },
   {
    "duration": 21,
    "start_time": "2025-04-18T09:05:24.629Z"
   },
   {
    "duration": 12,
    "start_time": "2025-04-18T09:05:34.093Z"
   },
   {
    "duration": 8,
    "start_time": "2025-04-18T09:05:43.719Z"
   },
   {
    "duration": 8,
    "start_time": "2025-04-18T09:05:50.220Z"
   },
   {
    "duration": 9,
    "start_time": "2025-04-18T09:06:49.999Z"
   },
   {
    "duration": 8,
    "start_time": "2025-04-18T09:06:59.877Z"
   },
   {
    "duration": 8,
    "start_time": "2025-04-18T09:07:33.626Z"
   },
   {
    "duration": 9,
    "start_time": "2025-04-18T09:07:39.389Z"
   },
   {
    "duration": 8,
    "start_time": "2025-04-18T09:07:47.720Z"
   },
   {
    "duration": 9,
    "start_time": "2025-04-18T09:08:17.862Z"
   },
   {
    "duration": 183,
    "start_time": "2025-04-18T09:08:21.288Z"
   },
   {
    "duration": 10,
    "start_time": "2025-04-18T09:08:35.341Z"
   },
   {
    "duration": 186,
    "start_time": "2025-04-18T09:08:37.502Z"
   },
   {
    "duration": 10,
    "start_time": "2025-04-18T09:08:40.394Z"
   },
   {
    "duration": 164,
    "start_time": "2025-04-18T09:08:45.244Z"
   },
   {
    "duration": 9,
    "start_time": "2025-04-18T09:11:52.190Z"
   },
   {
    "duration": 152,
    "start_time": "2025-04-18T09:11:56.926Z"
   },
   {
    "duration": 8,
    "start_time": "2025-04-18T09:12:08.269Z"
   },
   {
    "duration": 150,
    "start_time": "2025-04-18T09:12:10.381Z"
   },
   {
    "duration": 8,
    "start_time": "2025-04-18T09:12:13.095Z"
   },
   {
    "duration": 163,
    "start_time": "2025-04-18T09:12:19.071Z"
   },
   {
    "duration": 666,
    "start_time": "2025-04-18T09:21:04.365Z"
   },
   {
    "duration": 2162,
    "start_time": "2025-04-18T09:21:05.033Z"
   },
   {
    "duration": 15,
    "start_time": "2025-04-18T09:21:07.197Z"
   },
   {
    "duration": 182,
    "start_time": "2025-04-18T09:21:07.214Z"
   },
   {
    "duration": 351,
    "start_time": "2025-04-18T09:21:07.398Z"
   },
   {
    "duration": 566,
    "start_time": "2025-04-18T09:21:07.751Z"
   },
   {
    "duration": 47,
    "start_time": "2025-04-18T09:21:08.319Z"
   },
   {
    "duration": 5,
    "start_time": "2025-04-18T09:21:08.368Z"
   },
   {
    "duration": 76,
    "start_time": "2025-04-18T09:21:08.375Z"
   },
   {
    "duration": 141,
    "start_time": "2025-04-18T09:21:08.454Z"
   },
   {
    "duration": 29,
    "start_time": "2025-04-18T09:21:08.597Z"
   },
   {
    "duration": 335,
    "start_time": "2025-04-18T09:21:08.628Z"
   },
   {
    "duration": 123,
    "start_time": "2025-04-18T09:21:08.964Z"
   },
   {
    "duration": 212,
    "start_time": "2025-04-18T09:21:09.089Z"
   },
   {
    "duration": 43,
    "start_time": "2025-04-18T09:21:09.303Z"
   },
   {
    "duration": 205,
    "start_time": "2025-04-18T09:21:09.348Z"
   },
   {
    "duration": 164,
    "start_time": "2025-04-18T09:21:09.555Z"
   },
   {
    "duration": 31,
    "start_time": "2025-04-18T09:21:09.721Z"
   },
   {
    "duration": 34,
    "start_time": "2025-04-18T09:21:09.754Z"
   },
   {
    "duration": 6,
    "start_time": "2025-04-18T09:21:09.790Z"
   },
   {
    "duration": 287,
    "start_time": "2025-04-18T09:21:09.798Z"
   },
   {
    "duration": 489,
    "start_time": "2025-04-18T09:21:10.087Z"
   },
   {
    "duration": 144,
    "start_time": "2025-04-18T09:21:10.578Z"
   },
   {
    "duration": 82,
    "start_time": "2025-04-18T09:21:10.724Z"
   },
   {
    "duration": 6,
    "start_time": "2025-04-18T09:21:10.808Z"
   },
   {
    "duration": 8,
    "start_time": "2025-04-18T09:21:10.815Z"
   },
   {
    "duration": 161,
    "start_time": "2025-04-18T09:21:10.824Z"
   },
   {
    "duration": 7,
    "start_time": "2025-04-18T09:21:10.989Z"
   },
   {
    "duration": 53,
    "start_time": "2025-04-18T09:21:10.998Z"
   },
   {
    "duration": 15,
    "start_time": "2025-04-18T09:21:11.052Z"
   },
   {
    "duration": 187,
    "start_time": "2025-04-18T09:21:11.069Z"
   },
   {
    "duration": 9,
    "start_time": "2025-04-18T09:21:11.257Z"
   },
   {
    "duration": 196,
    "start_time": "2025-04-18T09:21:11.268Z"
   },
   {
    "duration": 9,
    "start_time": "2025-04-18T09:21:11.465Z"
   },
   {
    "duration": 188,
    "start_time": "2025-04-18T09:21:11.475Z"
   },
   {
    "duration": 8,
    "start_time": "2025-04-18T09:21:11.665Z"
   },
   {
    "duration": 161,
    "start_time": "2025-04-18T09:21:11.674Z"
   },
   {
    "duration": 14,
    "start_time": "2025-04-18T09:21:11.839Z"
   },
   {
    "duration": 233,
    "start_time": "2025-04-18T09:21:11.854Z"
   },
   {
    "duration": 9,
    "start_time": "2025-04-18T09:21:12.089Z"
   },
   {
    "duration": 177,
    "start_time": "2025-04-18T09:21:12.099Z"
   },
   {
    "duration": 6710,
    "start_time": "2025-04-18T09:21:12.278Z"
   },
   {
    "duration": 50,
    "start_time": "2025-04-18T09:21:18.990Z"
   },
   {
    "duration": 32,
    "start_time": "2025-04-18T09:21:19.042Z"
   },
   {
    "duration": 21,
    "start_time": "2025-04-18T09:21:19.075Z"
   },
   {
    "duration": 51,
    "start_time": "2025-04-18T09:21:19.097Z"
   },
   {
    "duration": 9,
    "start_time": "2025-04-18T09:21:19.150Z"
   },
   {
    "duration": 5,
    "start_time": "2025-04-18T09:21:19.161Z"
   },
   {
    "duration": 18,
    "start_time": "2025-04-18T09:21:19.168Z"
   },
   {
    "duration": 18,
    "start_time": "2025-04-18T09:21:19.187Z"
   },
   {
    "duration": 3,
    "start_time": "2025-04-18T09:21:19.207Z"
   },
   {
    "duration": 15,
    "start_time": "2025-04-18T09:21:19.236Z"
   },
   {
    "duration": 658,
    "start_time": "2025-04-18T09:25:18.309Z"
   },
   {
    "duration": 2182,
    "start_time": "2025-04-18T09:25:18.969Z"
   },
   {
    "duration": 14,
    "start_time": "2025-04-18T09:25:21.153Z"
   },
   {
    "duration": 157,
    "start_time": "2025-04-18T09:25:21.169Z"
   },
   {
    "duration": 341,
    "start_time": "2025-04-18T09:25:21.335Z"
   },
   {
    "duration": 637,
    "start_time": "2025-04-18T09:25:21.678Z"
   },
   {
    "duration": 54,
    "start_time": "2025-04-18T09:25:22.318Z"
   },
   {
    "duration": 5,
    "start_time": "2025-04-18T09:25:22.374Z"
   },
   {
    "duration": 63,
    "start_time": "2025-04-18T09:25:22.381Z"
   },
   {
    "duration": 166,
    "start_time": "2025-04-18T09:25:22.451Z"
   },
   {
    "duration": 47,
    "start_time": "2025-04-18T09:25:22.619Z"
   },
   {
    "duration": 334,
    "start_time": "2025-04-18T09:25:22.668Z"
   },
   {
    "duration": 127,
    "start_time": "2025-04-18T09:25:23.004Z"
   },
   {
    "duration": 218,
    "start_time": "2025-04-18T09:25:23.133Z"
   },
   {
    "duration": 29,
    "start_time": "2025-04-18T09:25:23.353Z"
   },
   {
    "duration": 211,
    "start_time": "2025-04-18T09:25:23.384Z"
   },
   {
    "duration": 166,
    "start_time": "2025-04-18T09:25:23.597Z"
   },
   {
    "duration": 15,
    "start_time": "2025-04-18T09:25:23.765Z"
   },
   {
    "duration": 29,
    "start_time": "2025-04-18T09:25:23.781Z"
   },
   {
    "duration": 36,
    "start_time": "2025-04-18T09:25:23.811Z"
   },
   {
    "duration": 248,
    "start_time": "2025-04-18T09:25:23.849Z"
   },
   {
    "duration": 476,
    "start_time": "2025-04-18T09:25:24.100Z"
   },
   {
    "duration": 148,
    "start_time": "2025-04-18T09:25:24.578Z"
   },
   {
    "duration": 89,
    "start_time": "2025-04-18T09:25:24.727Z"
   },
   {
    "duration": 6,
    "start_time": "2025-04-18T09:25:24.818Z"
   },
   {
    "duration": 23,
    "start_time": "2025-04-18T09:25:24.825Z"
   },
   {
    "duration": 161,
    "start_time": "2025-04-18T09:25:24.850Z"
   },
   {
    "duration": 7,
    "start_time": "2025-04-18T09:25:25.015Z"
   },
   {
    "duration": 23,
    "start_time": "2025-04-18T09:25:25.035Z"
   },
   {
    "duration": 12,
    "start_time": "2025-04-18T09:25:25.060Z"
   },
   {
    "duration": 191,
    "start_time": "2025-04-18T09:25:25.074Z"
   },
   {
    "duration": 8,
    "start_time": "2025-04-18T09:25:25.266Z"
   },
   {
    "duration": 197,
    "start_time": "2025-04-18T09:25:25.276Z"
   },
   {
    "duration": 9,
    "start_time": "2025-04-18T09:25:25.474Z"
   },
   {
    "duration": 185,
    "start_time": "2025-04-18T09:25:25.484Z"
   },
   {
    "duration": 8,
    "start_time": "2025-04-18T09:25:25.671Z"
   },
   {
    "duration": 168,
    "start_time": "2025-04-18T09:25:25.680Z"
   },
   {
    "duration": 12,
    "start_time": "2025-04-18T09:25:25.850Z"
   },
   {
    "duration": 227,
    "start_time": "2025-04-18T09:25:25.864Z"
   },
   {
    "duration": 9,
    "start_time": "2025-04-18T09:25:26.092Z"
   },
   {
    "duration": 174,
    "start_time": "2025-04-18T09:25:26.102Z"
   },
   {
    "duration": 567,
    "start_time": "2025-04-18T09:25:26.278Z"
   },
   {
    "duration": 55,
    "start_time": "2025-04-18T09:25:26.847Z"
   },
   {
    "duration": 43,
    "start_time": "2025-04-18T09:25:26.904Z"
   },
   {
    "duration": 22,
    "start_time": "2025-04-18T09:25:26.951Z"
   },
   {
    "duration": 105,
    "start_time": "2025-04-18T09:25:26.975Z"
   },
   {
    "duration": 14,
    "start_time": "2025-04-18T09:25:27.082Z"
   },
   {
    "duration": 7,
    "start_time": "2025-04-18T09:25:27.099Z"
   },
   {
    "duration": 18,
    "start_time": "2025-04-18T09:25:27.108Z"
   },
   {
    "duration": 21,
    "start_time": "2025-04-18T09:25:27.128Z"
   },
   {
    "duration": 5,
    "start_time": "2025-04-18T09:25:27.152Z"
   },
   {
    "duration": 14,
    "start_time": "2025-04-18T09:25:27.159Z"
   },
   {
    "duration": 674,
    "start_time": "2025-04-18T09:26:48.534Z"
   },
   {
    "duration": 2037,
    "start_time": "2025-04-18T09:26:49.209Z"
   },
   {
    "duration": 14,
    "start_time": "2025-04-18T09:26:51.250Z"
   },
   {
    "duration": 150,
    "start_time": "2025-04-18T09:26:51.267Z"
   },
   {
    "duration": 339,
    "start_time": "2025-04-18T09:26:51.419Z"
   },
   {
    "duration": 590,
    "start_time": "2025-04-18T09:26:51.760Z"
   },
   {
    "duration": 41,
    "start_time": "2025-04-18T09:26:52.351Z"
   },
   {
    "duration": 4,
    "start_time": "2025-04-18T09:26:52.394Z"
   },
   {
    "duration": 57,
    "start_time": "2025-04-18T09:26:52.399Z"
   },
   {
    "duration": 142,
    "start_time": "2025-04-18T09:26:52.458Z"
   },
   {
    "duration": 49,
    "start_time": "2025-04-18T09:26:52.602Z"
   },
   {
    "duration": 337,
    "start_time": "2025-04-18T09:26:52.652Z"
   },
   {
    "duration": 125,
    "start_time": "2025-04-18T09:26:52.991Z"
   },
   {
    "duration": 211,
    "start_time": "2025-04-18T09:26:53.117Z"
   },
   {
    "duration": 37,
    "start_time": "2025-04-18T09:26:53.329Z"
   },
   {
    "duration": 228,
    "start_time": "2025-04-18T09:26:53.367Z"
   },
   {
    "duration": 173,
    "start_time": "2025-04-18T09:26:53.596Z"
   },
   {
    "duration": 15,
    "start_time": "2025-04-18T09:26:53.771Z"
   },
   {
    "duration": 29,
    "start_time": "2025-04-18T09:26:53.787Z"
   },
   {
    "duration": 13,
    "start_time": "2025-04-18T09:26:53.838Z"
   },
   {
    "duration": 248,
    "start_time": "2025-04-18T09:26:53.853Z"
   },
   {
    "duration": 478,
    "start_time": "2025-04-18T09:26:54.104Z"
   },
   {
    "duration": 147,
    "start_time": "2025-04-18T09:26:54.584Z"
   },
   {
    "duration": 259,
    "start_time": "2025-04-18T09:26:54.739Z"
   },
   {
    "duration": 7,
    "start_time": "2025-04-18T09:26:55.000Z"
   },
   {
    "duration": 62,
    "start_time": "2025-04-18T09:26:55.009Z"
   },
   {
    "duration": 155,
    "start_time": "2025-04-18T09:26:55.073Z"
   },
   {
    "duration": 11,
    "start_time": "2025-04-18T09:26:55.236Z"
   },
   {
    "duration": 10,
    "start_time": "2025-04-18T09:26:55.249Z"
   },
   {
    "duration": 23,
    "start_time": "2025-04-18T09:26:55.260Z"
   },
   {
    "duration": 189,
    "start_time": "2025-04-18T09:26:55.284Z"
   },
   {
    "duration": 9,
    "start_time": "2025-04-18T09:26:55.474Z"
   },
   {
    "duration": 206,
    "start_time": "2025-04-18T09:26:55.484Z"
   },
   {
    "duration": 9,
    "start_time": "2025-04-18T09:26:55.692Z"
   },
   {
    "duration": 179,
    "start_time": "2025-04-18T09:26:55.702Z"
   },
   {
    "duration": 8,
    "start_time": "2025-04-18T09:26:55.882Z"
   },
   {
    "duration": 267,
    "start_time": "2025-04-18T09:26:55.891Z"
   },
   {
    "duration": 8,
    "start_time": "2025-04-18T09:26:56.159Z"
   },
   {
    "duration": 230,
    "start_time": "2025-04-18T09:26:56.168Z"
   },
   {
    "duration": 9,
    "start_time": "2025-04-18T09:26:56.399Z"
   },
   {
    "duration": 188,
    "start_time": "2025-04-18T09:26:56.409Z"
   },
   {
    "duration": 702,
    "start_time": "2025-04-18T09:26:56.599Z"
   },
   {
    "duration": 56,
    "start_time": "2025-04-18T09:26:57.303Z"
   },
   {
    "duration": 28,
    "start_time": "2025-04-18T09:26:57.361Z"
   },
   {
    "duration": 21,
    "start_time": "2025-04-18T09:26:57.391Z"
   },
   {
    "duration": 61,
    "start_time": "2025-04-18T09:26:57.414Z"
   },
   {
    "duration": 14,
    "start_time": "2025-04-18T09:26:57.477Z"
   },
   {
    "duration": 12,
    "start_time": "2025-04-18T09:26:57.492Z"
   },
   {
    "duration": 18,
    "start_time": "2025-04-18T09:26:57.506Z"
   },
   {
    "duration": 20,
    "start_time": "2025-04-18T09:26:57.526Z"
   },
   {
    "duration": 4,
    "start_time": "2025-04-18T09:26:57.549Z"
   },
   {
    "duration": 23,
    "start_time": "2025-04-18T09:26:57.554Z"
   },
   {
    "duration": 693,
    "start_time": "2025-04-18T09:29:13.861Z"
   },
   {
    "duration": 2059,
    "start_time": "2025-04-18T09:29:14.556Z"
   },
   {
    "duration": 32,
    "start_time": "2025-04-18T09:29:16.616Z"
   },
   {
    "duration": 153,
    "start_time": "2025-04-18T09:29:16.651Z"
   },
   {
    "duration": 361,
    "start_time": "2025-04-18T09:29:16.806Z"
   },
   {
    "duration": 593,
    "start_time": "2025-04-18T09:29:17.169Z"
   },
   {
    "duration": 44,
    "start_time": "2025-04-18T09:29:17.763Z"
   },
   {
    "duration": 4,
    "start_time": "2025-04-18T09:29:17.809Z"
   },
   {
    "duration": 61,
    "start_time": "2025-04-18T09:29:17.815Z"
   },
   {
    "duration": 154,
    "start_time": "2025-04-18T09:29:17.879Z"
   },
   {
    "duration": 30,
    "start_time": "2025-04-18T09:29:18.047Z"
   },
   {
    "duration": 343,
    "start_time": "2025-04-18T09:29:18.078Z"
   },
   {
    "duration": 125,
    "start_time": "2025-04-18T09:29:18.423Z"
   },
   {
    "duration": 208,
    "start_time": "2025-04-18T09:29:18.550Z"
   },
   {
    "duration": 29,
    "start_time": "2025-04-18T09:29:18.760Z"
   },
   {
    "duration": 213,
    "start_time": "2025-04-18T09:29:18.791Z"
   },
   {
    "duration": 160,
    "start_time": "2025-04-18T09:29:19.006Z"
   },
   {
    "duration": 13,
    "start_time": "2025-04-18T09:29:19.168Z"
   },
   {
    "duration": 30,
    "start_time": "2025-04-18T09:29:19.182Z"
   },
   {
    "duration": 34,
    "start_time": "2025-04-18T09:29:19.213Z"
   },
   {
    "duration": 256,
    "start_time": "2025-04-18T09:29:19.249Z"
   },
   {
    "duration": 478,
    "start_time": "2025-04-18T09:29:19.506Z"
   },
   {
    "duration": 152,
    "start_time": "2025-04-18T09:29:19.986Z"
   },
   {
    "duration": 96,
    "start_time": "2025-04-18T09:29:20.148Z"
   },
   {
    "duration": 7,
    "start_time": "2025-04-18T09:29:20.246Z"
   },
   {
    "duration": 14,
    "start_time": "2025-04-18T09:29:20.254Z"
   },
   {
    "duration": 161,
    "start_time": "2025-04-18T09:29:20.270Z"
   },
   {
    "duration": 16,
    "start_time": "2025-04-18T09:29:20.435Z"
   },
   {
    "duration": 6,
    "start_time": "2025-04-18T09:29:20.453Z"
   },
   {
    "duration": 18,
    "start_time": "2025-04-18T09:29:20.460Z"
   },
   {
    "duration": 209,
    "start_time": "2025-04-18T09:29:20.479Z"
   },
   {
    "duration": 9,
    "start_time": "2025-04-18T09:29:20.690Z"
   },
   {
    "duration": 204,
    "start_time": "2025-04-18T09:29:20.700Z"
   },
   {
    "duration": 9,
    "start_time": "2025-04-18T09:29:20.905Z"
   },
   {
    "duration": 205,
    "start_time": "2025-04-18T09:29:20.915Z"
   },
   {
    "duration": 24,
    "start_time": "2025-04-18T09:29:21.122Z"
   },
   {
    "duration": 174,
    "start_time": "2025-04-18T09:29:21.149Z"
   },
   {
    "duration": 27,
    "start_time": "2025-04-18T09:29:21.325Z"
   },
   {
    "duration": 225,
    "start_time": "2025-04-18T09:29:21.354Z"
   },
   {
    "duration": 9,
    "start_time": "2025-04-18T09:29:21.581Z"
   },
   {
    "duration": 193,
    "start_time": "2025-04-18T09:29:21.592Z"
   },
   {
    "duration": 507,
    "start_time": "2025-04-18T09:29:21.787Z"
   },
   {
    "duration": 56,
    "start_time": "2025-04-18T09:29:22.296Z"
   },
   {
    "duration": 27,
    "start_time": "2025-04-18T09:29:22.353Z"
   },
   {
    "duration": 21,
    "start_time": "2025-04-18T09:29:22.382Z"
   },
   {
    "duration": 46,
    "start_time": "2025-04-18T09:29:22.404Z"
   },
   {
    "duration": 8,
    "start_time": "2025-04-18T09:29:22.452Z"
   },
   {
    "duration": 5,
    "start_time": "2025-04-18T09:29:22.461Z"
   },
   {
    "duration": 17,
    "start_time": "2025-04-18T09:29:22.467Z"
   },
   {
    "duration": 16,
    "start_time": "2025-04-18T09:29:22.485Z"
   },
   {
    "duration": 4,
    "start_time": "2025-04-18T09:29:22.502Z"
   },
   {
    "duration": 20,
    "start_time": "2025-04-18T09:29:22.540Z"
   },
   {
    "duration": 1046,
    "start_time": "2025-04-18T09:30:07.053Z"
   },
   {
    "duration": 2287,
    "start_time": "2025-04-18T09:30:08.101Z"
   },
   {
    "duration": 13,
    "start_time": "2025-04-18T09:30:10.390Z"
   },
   {
    "duration": 173,
    "start_time": "2025-04-18T09:30:10.404Z"
   },
   {
    "duration": 352,
    "start_time": "2025-04-18T09:30:10.580Z"
   },
   {
    "duration": 592,
    "start_time": "2025-04-18T09:30:10.933Z"
   },
   {
    "duration": 60,
    "start_time": "2025-04-18T09:30:11.527Z"
   },
   {
    "duration": 4,
    "start_time": "2025-04-18T09:30:11.589Z"
   },
   {
    "duration": 60,
    "start_time": "2025-04-18T09:30:11.595Z"
   },
   {
    "duration": 156,
    "start_time": "2025-04-18T09:30:11.657Z"
   },
   {
    "duration": 44,
    "start_time": "2025-04-18T09:30:11.814Z"
   },
   {
    "duration": 347,
    "start_time": "2025-04-18T09:30:11.860Z"
   },
   {
    "duration": 121,
    "start_time": "2025-04-18T09:30:12.208Z"
   },
   {
    "duration": 229,
    "start_time": "2025-04-18T09:30:12.332Z"
   },
   {
    "duration": 30,
    "start_time": "2025-04-18T09:30:12.563Z"
   },
   {
    "duration": 264,
    "start_time": "2025-04-18T09:30:12.595Z"
   },
   {
    "duration": 152,
    "start_time": "2025-04-18T09:30:12.860Z"
   },
   {
    "duration": 12,
    "start_time": "2025-04-18T09:30:13.014Z"
   },
   {
    "duration": 89,
    "start_time": "2025-04-18T09:30:13.027Z"
   },
   {
    "duration": 6,
    "start_time": "2025-04-18T09:30:13.117Z"
   },
   {
    "duration": 260,
    "start_time": "2025-04-18T09:30:13.125Z"
   },
   {
    "duration": 506,
    "start_time": "2025-04-18T09:30:13.387Z"
   },
   {
    "duration": 159,
    "start_time": "2025-04-18T09:30:13.895Z"
   },
   {
    "duration": 124,
    "start_time": "2025-04-18T09:30:14.056Z"
   },
   {
    "duration": 9,
    "start_time": "2025-04-18T09:30:14.182Z"
   },
   {
    "duration": 11,
    "start_time": "2025-04-18T09:30:14.193Z"
   },
   {
    "duration": 185,
    "start_time": "2025-04-18T09:30:14.205Z"
   },
   {
    "duration": 7,
    "start_time": "2025-04-18T09:30:14.391Z"
   },
   {
    "duration": 5,
    "start_time": "2025-04-18T09:30:14.400Z"
   },
   {
    "duration": 12,
    "start_time": "2025-04-18T09:30:14.406Z"
   },
   {
    "duration": 213,
    "start_time": "2025-04-18T09:30:14.420Z"
   },
   {
    "duration": 16,
    "start_time": "2025-04-18T09:30:14.635Z"
   },
   {
    "duration": 207,
    "start_time": "2025-04-18T09:30:14.653Z"
   },
   {
    "duration": 8,
    "start_time": "2025-04-18T09:30:14.862Z"
   },
   {
    "duration": 184,
    "start_time": "2025-04-18T09:30:14.872Z"
   },
   {
    "duration": 9,
    "start_time": "2025-04-18T09:30:15.058Z"
   },
   {
    "duration": 251,
    "start_time": "2025-04-18T09:30:15.068Z"
   },
   {
    "duration": 9,
    "start_time": "2025-04-18T09:30:15.320Z"
   },
   {
    "duration": 258,
    "start_time": "2025-04-18T09:30:15.330Z"
   },
   {
    "duration": 9,
    "start_time": "2025-04-18T09:30:15.589Z"
   },
   {
    "duration": 183,
    "start_time": "2025-04-18T09:30:15.602Z"
   },
   {
    "duration": 1018,
    "start_time": "2025-04-18T09:30:15.787Z"
   },
   {
    "duration": 55,
    "start_time": "2025-04-18T09:30:16.807Z"
   },
   {
    "duration": 29,
    "start_time": "2025-04-18T09:30:16.864Z"
   },
   {
    "duration": 21,
    "start_time": "2025-04-18T09:30:16.895Z"
   },
   {
    "duration": 52,
    "start_time": "2025-04-18T09:30:16.918Z"
   },
   {
    "duration": 10,
    "start_time": "2025-04-18T09:30:16.971Z"
   },
   {
    "duration": 88,
    "start_time": "2025-04-18T09:30:16.982Z"
   },
   {
    "duration": 25,
    "start_time": "2025-04-18T09:30:17.072Z"
   },
   {
    "duration": 17,
    "start_time": "2025-04-18T09:30:17.099Z"
   },
   {
    "duration": 4,
    "start_time": "2025-04-18T09:30:17.118Z"
   },
   {
    "duration": 23,
    "start_time": "2025-04-18T09:30:17.124Z"
   },
   {
    "duration": 674,
    "start_time": "2025-04-18T09:31:22.719Z"
   },
   {
    "duration": 2009,
    "start_time": "2025-04-18T09:31:23.395Z"
   },
   {
    "duration": 15,
    "start_time": "2025-04-18T09:31:25.406Z"
   },
   {
    "duration": 170,
    "start_time": "2025-04-18T09:31:25.423Z"
   },
   {
    "duration": 343,
    "start_time": "2025-04-18T09:31:25.594Z"
   },
   {
    "duration": 559,
    "start_time": "2025-04-18T09:31:25.950Z"
   },
   {
    "duration": 54,
    "start_time": "2025-04-18T09:31:26.511Z"
   },
   {
    "duration": 5,
    "start_time": "2025-04-18T09:31:26.567Z"
   },
   {
    "duration": 115,
    "start_time": "2025-04-18T09:31:26.575Z"
   },
   {
    "duration": 152,
    "start_time": "2025-04-18T09:31:26.693Z"
   },
   {
    "duration": 31,
    "start_time": "2025-04-18T09:31:26.852Z"
   },
   {
    "duration": 359,
    "start_time": "2025-04-18T09:31:26.885Z"
   },
   {
    "duration": 109,
    "start_time": "2025-04-18T09:31:27.246Z"
   },
   {
    "duration": 208,
    "start_time": "2025-04-18T09:31:27.357Z"
   },
   {
    "duration": 30,
    "start_time": "2025-04-18T09:31:27.568Z"
   },
   {
    "duration": 223,
    "start_time": "2025-04-18T09:31:27.600Z"
   },
   {
    "duration": 172,
    "start_time": "2025-04-18T09:31:27.825Z"
   },
   {
    "duration": 13,
    "start_time": "2025-04-18T09:31:27.999Z"
   },
   {
    "duration": 81,
    "start_time": "2025-04-18T09:31:28.014Z"
   },
   {
    "duration": 7,
    "start_time": "2025-04-18T09:31:28.097Z"
   },
   {
    "duration": 252,
    "start_time": "2025-04-18T09:31:28.105Z"
   },
   {
    "duration": 495,
    "start_time": "2025-04-18T09:31:28.359Z"
   },
   {
    "duration": 136,
    "start_time": "2025-04-18T09:31:28.855Z"
   },
   {
    "duration": 86,
    "start_time": "2025-04-18T09:31:28.993Z"
   },
   {
    "duration": 6,
    "start_time": "2025-04-18T09:31:29.081Z"
   },
   {
    "duration": 9,
    "start_time": "2025-04-18T09:31:29.089Z"
   },
   {
    "duration": 166,
    "start_time": "2025-04-18T09:31:29.100Z"
   },
   {
    "duration": 7,
    "start_time": "2025-04-18T09:31:29.270Z"
   },
   {
    "duration": 12,
    "start_time": "2025-04-18T09:31:29.279Z"
   },
   {
    "duration": 8,
    "start_time": "2025-04-18T09:31:29.293Z"
   },
   {
    "duration": 203,
    "start_time": "2025-04-18T09:31:29.303Z"
   },
   {
    "duration": 8,
    "start_time": "2025-04-18T09:31:29.507Z"
   },
   {
    "duration": 202,
    "start_time": "2025-04-18T09:31:29.516Z"
   },
   {
    "duration": 8,
    "start_time": "2025-04-18T09:31:29.720Z"
   },
   {
    "duration": 176,
    "start_time": "2025-04-18T09:31:29.729Z"
   },
   {
    "duration": 7,
    "start_time": "2025-04-18T09:31:29.906Z"
   },
   {
    "duration": 271,
    "start_time": "2025-04-18T09:31:29.915Z"
   },
   {
    "duration": 9,
    "start_time": "2025-04-18T09:31:30.187Z"
   },
   {
    "duration": 243,
    "start_time": "2025-04-18T09:31:30.197Z"
   },
   {
    "duration": 9,
    "start_time": "2025-04-18T09:31:30.446Z"
   },
   {
    "duration": 163,
    "start_time": "2025-04-18T09:31:30.457Z"
   },
   {
    "duration": 443,
    "start_time": "2025-04-18T09:31:30.621Z"
   },
   {
    "duration": 45,
    "start_time": "2025-04-18T09:31:31.066Z"
   },
   {
    "duration": 44,
    "start_time": "2025-04-18T09:31:31.113Z"
   },
   {
    "duration": 21,
    "start_time": "2025-04-18T09:31:31.159Z"
   },
   {
    "duration": 19,
    "start_time": "2025-04-18T09:31:31.182Z"
   },
   {
    "duration": 8,
    "start_time": "2025-04-18T09:31:31.203Z"
   },
   {
    "duration": 13,
    "start_time": "2025-04-18T09:31:31.235Z"
   },
   {
    "duration": 16,
    "start_time": "2025-04-18T09:31:31.251Z"
   },
   {
    "duration": 18,
    "start_time": "2025-04-18T09:31:31.269Z"
   },
   {
    "duration": 4,
    "start_time": "2025-04-18T09:31:31.289Z"
   },
   {
    "duration": 51,
    "start_time": "2025-04-18T09:31:31.296Z"
   },
   {
    "duration": 676,
    "start_time": "2025-04-18T09:33:06.424Z"
   },
   {
    "duration": 3040,
    "start_time": "2025-04-18T09:33:07.102Z"
   },
   {
    "duration": 15,
    "start_time": "2025-04-18T09:33:10.149Z"
   },
   {
    "duration": 163,
    "start_time": "2025-04-18T09:33:10.167Z"
   },
   {
    "duration": 349,
    "start_time": "2025-04-18T09:33:10.332Z"
   },
   {
    "duration": 573,
    "start_time": "2025-04-18T09:33:10.683Z"
   },
   {
    "duration": 40,
    "start_time": "2025-04-18T09:33:11.258Z"
   },
   {
    "duration": 5,
    "start_time": "2025-04-18T09:33:11.299Z"
   },
   {
    "duration": 70,
    "start_time": "2025-04-18T09:33:11.305Z"
   },
   {
    "duration": 155,
    "start_time": "2025-04-18T09:33:11.377Z"
   },
   {
    "duration": 35,
    "start_time": "2025-04-18T09:33:11.533Z"
   },
   {
    "duration": 332,
    "start_time": "2025-04-18T09:33:11.570Z"
   },
   {
    "duration": 122,
    "start_time": "2025-04-18T09:33:11.903Z"
   },
   {
    "duration": 239,
    "start_time": "2025-04-18T09:33:12.026Z"
   },
   {
    "duration": 27,
    "start_time": "2025-04-18T09:33:12.267Z"
   },
   {
    "duration": 208,
    "start_time": "2025-04-18T09:33:12.295Z"
   },
   {
    "duration": 165,
    "start_time": "2025-04-18T09:33:12.505Z"
   },
   {
    "duration": 12,
    "start_time": "2025-04-18T09:33:12.672Z"
   },
   {
    "duration": 28,
    "start_time": "2025-04-18T09:33:12.686Z"
   },
   {
    "duration": 36,
    "start_time": "2025-04-18T09:33:12.715Z"
   },
   {
    "duration": 280,
    "start_time": "2025-04-18T09:33:12.753Z"
   },
   {
    "duration": 463,
    "start_time": "2025-04-18T09:33:13.035Z"
   },
   {
    "duration": 140,
    "start_time": "2025-04-18T09:33:13.500Z"
   },
   {
    "duration": 68,
    "start_time": "2025-04-18T09:33:13.644Z"
   },
   {
    "duration": 7,
    "start_time": "2025-04-18T09:33:13.713Z"
   },
   {
    "duration": 41,
    "start_time": "2025-04-18T09:33:13.721Z"
   },
   {
    "duration": 155,
    "start_time": "2025-04-18T09:33:13.764Z"
   },
   {
    "duration": 18,
    "start_time": "2025-04-18T09:33:13.923Z"
   },
   {
    "duration": 99,
    "start_time": "2025-04-18T09:33:13.943Z"
   },
   {
    "duration": 12,
    "start_time": "2025-04-18T09:33:14.045Z"
   },
   {
    "duration": 213,
    "start_time": "2025-04-18T09:33:14.059Z"
   },
   {
    "duration": 10,
    "start_time": "2025-04-18T09:33:14.273Z"
   },
   {
    "duration": 200,
    "start_time": "2025-04-18T09:33:14.284Z"
   },
   {
    "duration": 8,
    "start_time": "2025-04-18T09:33:14.486Z"
   },
   {
    "duration": 180,
    "start_time": "2025-04-18T09:33:14.496Z"
   },
   {
    "duration": 8,
    "start_time": "2025-04-18T09:33:14.678Z"
   },
   {
    "duration": 165,
    "start_time": "2025-04-18T09:33:14.688Z"
   },
   {
    "duration": 8,
    "start_time": "2025-04-18T09:33:14.855Z"
   },
   {
    "duration": 226,
    "start_time": "2025-04-18T09:33:14.864Z"
   },
   {
    "duration": 9,
    "start_time": "2025-04-18T09:33:15.092Z"
   },
   {
    "duration": 243,
    "start_time": "2025-04-18T09:33:15.102Z"
   },
   {
    "duration": 540,
    "start_time": "2025-04-18T09:33:15.348Z"
   },
   {
    "duration": 63,
    "start_time": "2025-04-18T09:33:15.890Z"
   },
   {
    "duration": 120,
    "start_time": "2025-04-18T09:33:15.955Z"
   },
   {
    "duration": 20,
    "start_time": "2025-04-18T09:33:16.077Z"
   },
   {
    "duration": 19,
    "start_time": "2025-04-18T09:33:16.099Z"
   },
   {
    "duration": 21,
    "start_time": "2025-04-18T09:33:16.119Z"
   },
   {
    "duration": 12,
    "start_time": "2025-04-18T09:33:16.143Z"
   },
   {
    "duration": 27,
    "start_time": "2025-04-18T09:33:16.156Z"
   },
   {
    "duration": 17,
    "start_time": "2025-04-18T09:33:16.185Z"
   },
   {
    "duration": 4,
    "start_time": "2025-04-18T09:33:16.204Z"
   },
   {
    "duration": 39,
    "start_time": "2025-04-18T09:33:16.210Z"
   },
   {
    "duration": 1787,
    "start_time": "2025-04-18T18:49:49.151Z"
   },
   {
    "duration": 2180,
    "start_time": "2025-04-18T18:49:50.940Z"
   },
   {
    "duration": 21,
    "start_time": "2025-04-18T18:49:53.122Z"
   },
   {
    "duration": 151,
    "start_time": "2025-04-18T18:49:53.145Z"
   },
   {
    "duration": 255,
    "start_time": "2025-04-18T18:49:53.298Z"
   },
   {
    "duration": 448,
    "start_time": "2025-04-18T18:49:53.555Z"
   },
   {
    "duration": 53,
    "start_time": "2025-04-18T18:49:54.005Z"
   },
   {
    "duration": 4,
    "start_time": "2025-04-18T18:49:54.060Z"
   },
   {
    "duration": 47,
    "start_time": "2025-04-18T18:49:54.066Z"
   },
   {
    "duration": 175,
    "start_time": "2025-04-18T18:49:54.117Z"
   },
   {
    "duration": 29,
    "start_time": "2025-04-18T18:49:54.294Z"
   },
   {
    "duration": 369,
    "start_time": "2025-04-18T18:49:54.325Z"
   },
   {
    "duration": 117,
    "start_time": "2025-04-18T18:49:54.697Z"
   },
   {
    "duration": 415,
    "start_time": "2025-04-18T18:49:54.816Z"
   },
   {
    "duration": 28,
    "start_time": "2025-04-18T18:49:55.237Z"
   },
   {
    "duration": 301,
    "start_time": "2025-04-18T18:49:55.267Z"
   },
   {
    "duration": 159,
    "start_time": "2025-04-18T18:49:55.569Z"
   },
   {
    "duration": 16,
    "start_time": "2025-04-18T18:49:55.730Z"
   },
   {
    "duration": 28,
    "start_time": "2025-04-18T18:49:55.748Z"
   },
   {
    "duration": 6,
    "start_time": "2025-04-18T18:49:55.777Z"
   },
   {
    "duration": 340,
    "start_time": "2025-04-18T18:49:55.785Z"
   },
   {
    "duration": 556,
    "start_time": "2025-04-18T18:49:56.127Z"
   },
   {
    "duration": 152,
    "start_time": "2025-04-18T18:49:56.685Z"
   },
   {
    "duration": 70,
    "start_time": "2025-04-18T18:49:56.839Z"
   },
   {
    "duration": 7,
    "start_time": "2025-04-18T18:49:56.911Z"
   },
   {
    "duration": 13,
    "start_time": "2025-04-18T18:49:56.920Z"
   },
   {
    "duration": 269,
    "start_time": "2025-04-18T18:49:56.935Z"
   },
   {
    "duration": 8,
    "start_time": "2025-04-18T18:49:57.209Z"
   },
   {
    "duration": 23,
    "start_time": "2025-04-18T18:49:57.219Z"
   },
   {
    "duration": 16,
    "start_time": "2025-04-18T18:49:57.244Z"
   },
   {
    "duration": 277,
    "start_time": "2025-04-18T18:49:57.263Z"
   },
   {
    "duration": 8,
    "start_time": "2025-04-18T18:49:57.542Z"
   },
   {
    "duration": 212,
    "start_time": "2025-04-18T18:49:57.552Z"
   },
   {
    "duration": 77,
    "start_time": "2025-04-18T18:49:57.767Z"
   },
   {
    "duration": 378,
    "start_time": "2025-04-18T18:49:57.846Z"
   },
   {
    "duration": 13,
    "start_time": "2025-04-18T18:49:58.225Z"
   },
   {
    "duration": 251,
    "start_time": "2025-04-18T18:49:58.240Z"
   },
   {
    "duration": 8,
    "start_time": "2025-04-18T18:49:58.493Z"
   },
   {
    "duration": 282,
    "start_time": "2025-04-18T18:49:58.503Z"
   },
   {
    "duration": 9,
    "start_time": "2025-04-18T18:49:58.786Z"
   },
   {
    "duration": 291,
    "start_time": "2025-04-18T18:49:58.797Z"
   },
   {
    "duration": 720,
    "start_time": "2025-04-18T18:49:59.090Z"
   },
   {
    "duration": 54,
    "start_time": "2025-04-18T18:49:59.812Z"
   },
   {
    "duration": 29,
    "start_time": "2025-04-18T18:49:59.868Z"
   },
   {
    "duration": 21,
    "start_time": "2025-04-18T18:49:59.899Z"
   },
   {
    "duration": 20,
    "start_time": "2025-04-18T18:49:59.938Z"
   },
   {
    "duration": 8,
    "start_time": "2025-04-18T18:49:59.960Z"
   },
   {
    "duration": 9,
    "start_time": "2025-04-18T18:49:59.970Z"
   },
   {
    "duration": 21,
    "start_time": "2025-04-18T18:49:59.980Z"
   },
   {
    "duration": 52,
    "start_time": "2025-04-18T18:50:00.003Z"
   },
   {
    "duration": 33,
    "start_time": "2025-04-18T18:50:00.056Z"
   },
   {
    "duration": 47,
    "start_time": "2025-04-18T18:50:00.092Z"
   },
   {
    "duration": 75,
    "start_time": "2025-04-18T18:52:37.705Z"
   },
   {
    "duration": 7,
    "start_time": "2025-04-18T18:52:40.987Z"
   },
   {
    "duration": 7,
    "start_time": "2025-04-18T18:52:51.138Z"
   },
   {
    "duration": 7,
    "start_time": "2025-04-18T18:52:56.047Z"
   },
   {
    "duration": 6,
    "start_time": "2025-04-18T18:53:14.314Z"
   },
   {
    "duration": 6,
    "start_time": "2025-04-18T18:53:19.112Z"
   },
   {
    "duration": 1257,
    "start_time": "2025-04-18T20:43:53.300Z"
   },
   {
    "duration": 2123,
    "start_time": "2025-04-18T20:43:54.559Z"
   },
   {
    "duration": 14,
    "start_time": "2025-04-18T20:43:56.684Z"
   },
   {
    "duration": 225,
    "start_time": "2025-04-18T20:43:56.700Z"
   },
   {
    "duration": 328,
    "start_time": "2025-04-18T20:43:56.927Z"
   },
   {
    "duration": 557,
    "start_time": "2025-04-18T20:43:57.256Z"
   },
   {
    "duration": 46,
    "start_time": "2025-04-18T20:43:57.814Z"
   },
   {
    "duration": 5,
    "start_time": "2025-04-18T20:43:57.861Z"
   },
   {
    "duration": 47,
    "start_time": "2025-04-18T20:43:57.867Z"
   },
   {
    "duration": 154,
    "start_time": "2025-04-18T20:43:57.917Z"
   },
   {
    "duration": 31,
    "start_time": "2025-04-18T20:43:58.072Z"
   },
   {
    "duration": 326,
    "start_time": "2025-04-18T20:43:58.104Z"
   },
   {
    "duration": 115,
    "start_time": "2025-04-18T20:43:58.431Z"
   },
   {
    "duration": 197,
    "start_time": "2025-04-18T20:43:58.547Z"
   },
   {
    "duration": 27,
    "start_time": "2025-04-18T20:43:58.746Z"
   },
   {
    "duration": 208,
    "start_time": "2025-04-18T20:43:58.774Z"
   },
   {
    "duration": 169,
    "start_time": "2025-04-18T20:43:58.983Z"
   },
   {
    "duration": 14,
    "start_time": "2025-04-18T20:43:59.154Z"
   },
   {
    "duration": 47,
    "start_time": "2025-04-18T20:43:59.170Z"
   },
   {
    "duration": 6,
    "start_time": "2025-04-18T20:43:59.219Z"
   },
   {
    "duration": 306,
    "start_time": "2025-04-18T20:43:59.227Z"
   },
   {
    "duration": 15,
    "start_time": "2025-04-18T20:43:59.535Z"
   },
   {
    "duration": 128,
    "start_time": "2025-04-18T20:43:59.551Z"
   },
   {
    "duration": 73,
    "start_time": "2025-04-18T20:43:59.681Z"
   },
   {
    "duration": 6,
    "start_time": "2025-04-18T20:43:59.756Z"
   },
   {
    "duration": 8,
    "start_time": "2025-04-18T20:43:59.763Z"
   },
   {
    "duration": 164,
    "start_time": "2025-04-18T20:43:59.772Z"
   },
   {
    "duration": 7,
    "start_time": "2025-04-18T20:43:59.939Z"
   },
   {
    "duration": 5,
    "start_time": "2025-04-18T20:43:59.947Z"
   },
   {
    "duration": 9,
    "start_time": "2025-04-18T20:43:59.953Z"
   },
   {
    "duration": 226,
    "start_time": "2025-04-18T20:43:59.964Z"
   },
   {
    "duration": 10,
    "start_time": "2025-04-18T20:44:00.192Z"
   },
   {
    "duration": 218,
    "start_time": "2025-04-18T20:44:00.204Z"
   },
   {
    "duration": 18,
    "start_time": "2025-04-18T20:44:00.424Z"
   },
   {
    "duration": 192,
    "start_time": "2025-04-18T20:44:00.444Z"
   },
   {
    "duration": 10,
    "start_time": "2025-04-18T20:44:00.638Z"
   },
   {
    "duration": 237,
    "start_time": "2025-04-18T20:44:00.649Z"
   },
   {
    "duration": 10,
    "start_time": "2025-04-18T20:44:00.888Z"
   },
   {
    "duration": 157,
    "start_time": "2025-04-18T20:44:00.900Z"
   },
   {
    "duration": 9,
    "start_time": "2025-04-18T20:44:01.059Z"
   },
   {
    "duration": 260,
    "start_time": "2025-04-18T20:44:01.070Z"
   },
   {
    "duration": 489,
    "start_time": "2025-04-18T20:44:01.332Z"
   },
   {
    "duration": 50,
    "start_time": "2025-04-18T20:44:01.822Z"
   },
   {
    "duration": 28,
    "start_time": "2025-04-18T20:44:01.873Z"
   },
   {
    "duration": 36,
    "start_time": "2025-04-18T20:44:01.903Z"
   },
   {
    "duration": 22,
    "start_time": "2025-04-18T20:44:01.940Z"
   },
   {
    "duration": 28,
    "start_time": "2025-04-18T20:44:01.964Z"
   },
   {
    "duration": 13,
    "start_time": "2025-04-18T20:44:01.994Z"
   },
   {
    "duration": 82,
    "start_time": "2025-04-18T20:44:02.009Z"
   },
   {
    "duration": 15,
    "start_time": "2025-04-18T20:44:02.092Z"
   },
   {
    "duration": 4,
    "start_time": "2025-04-18T20:44:02.109Z"
   },
   {
    "duration": 63,
    "start_time": "2025-04-18T20:44:02.114Z"
   },
   {
    "duration": 1075,
    "start_time": "2025-04-18T20:49:15.346Z"
   },
   {
    "duration": 2337,
    "start_time": "2025-04-18T20:49:16.423Z"
   },
   {
    "duration": 13,
    "start_time": "2025-04-18T20:49:18.762Z"
   },
   {
    "duration": 185,
    "start_time": "2025-04-18T20:49:18.776Z"
   },
   {
    "duration": 347,
    "start_time": "2025-04-18T20:49:18.963Z"
   },
   {
    "duration": 542,
    "start_time": "2025-04-18T20:49:19.312Z"
   },
   {
    "duration": 39,
    "start_time": "2025-04-18T20:49:19.855Z"
   },
   {
    "duration": 4,
    "start_time": "2025-04-18T20:49:19.895Z"
   },
   {
    "duration": 62,
    "start_time": "2025-04-18T20:49:19.901Z"
   },
   {
    "duration": 154,
    "start_time": "2025-04-18T20:49:19.966Z"
   },
   {
    "duration": 35,
    "start_time": "2025-04-18T20:49:20.122Z"
   },
   {
    "duration": 320,
    "start_time": "2025-04-18T20:49:20.159Z"
   },
   {
    "duration": 111,
    "start_time": "2025-04-18T20:49:20.481Z"
   },
   {
    "duration": 206,
    "start_time": "2025-04-18T20:49:20.593Z"
   },
   {
    "duration": 42,
    "start_time": "2025-04-18T20:49:20.801Z"
   },
   {
    "duration": 206,
    "start_time": "2025-04-18T20:49:20.844Z"
   },
   {
    "duration": 151,
    "start_time": "2025-04-18T20:49:21.052Z"
   },
   {
    "duration": 17,
    "start_time": "2025-04-18T20:49:21.205Z"
   },
   {
    "duration": 70,
    "start_time": "2025-04-18T20:49:21.223Z"
   },
   {
    "duration": 62,
    "start_time": "2025-04-18T20:49:21.294Z"
   },
   {
    "duration": 281,
    "start_time": "2025-04-18T20:49:21.357Z"
   },
   {
    "duration": 16,
    "start_time": "2025-04-18T20:49:21.639Z"
   },
   {
    "duration": 154,
    "start_time": "2025-04-18T20:49:21.657Z"
   },
   {
    "duration": 63,
    "start_time": "2025-04-18T20:49:21.813Z"
   },
   {
    "duration": 7,
    "start_time": "2025-04-18T20:49:21.877Z"
   },
   {
    "duration": 11,
    "start_time": "2025-04-18T20:49:21.886Z"
   },
   {
    "duration": 173,
    "start_time": "2025-04-18T20:49:21.898Z"
   },
   {
    "duration": 8,
    "start_time": "2025-04-18T20:49:22.075Z"
   },
   {
    "duration": 9,
    "start_time": "2025-04-18T20:49:22.084Z"
   },
   {
    "duration": 26,
    "start_time": "2025-04-18T20:49:22.094Z"
   },
   {
    "duration": 184,
    "start_time": "2025-04-18T20:49:22.122Z"
   },
   {
    "duration": 9,
    "start_time": "2025-04-18T20:49:22.308Z"
   },
   {
    "duration": 197,
    "start_time": "2025-04-18T20:49:22.320Z"
   },
   {
    "duration": 8,
    "start_time": "2025-04-18T20:49:22.519Z"
   },
   {
    "duration": 166,
    "start_time": "2025-04-18T20:49:22.536Z"
   },
   {
    "duration": 8,
    "start_time": "2025-04-18T20:49:22.704Z"
   },
   {
    "duration": 301,
    "start_time": "2025-04-18T20:49:22.714Z"
   },
   {
    "duration": 9,
    "start_time": "2025-04-18T20:49:23.017Z"
   },
   {
    "duration": 146,
    "start_time": "2025-04-18T20:49:23.035Z"
   },
   {
    "duration": 8,
    "start_time": "2025-04-18T20:49:23.183Z"
   },
   {
    "duration": 171,
    "start_time": "2025-04-18T20:49:23.192Z"
   },
   {
    "duration": 430,
    "start_time": "2025-04-18T20:49:23.365Z"
   },
   {
    "duration": 54,
    "start_time": "2025-04-18T20:49:23.797Z"
   },
   {
    "duration": 27,
    "start_time": "2025-04-18T20:49:23.853Z"
   },
   {
    "duration": 21,
    "start_time": "2025-04-18T20:49:23.881Z"
   },
   {
    "duration": 41,
    "start_time": "2025-04-18T20:49:23.903Z"
   },
   {
    "duration": 8,
    "start_time": "2025-04-18T20:49:23.946Z"
   },
   {
    "duration": 7,
    "start_time": "2025-04-18T20:49:23.956Z"
   },
   {
    "duration": 18,
    "start_time": "2025-04-18T20:49:23.965Z"
   },
   {
    "duration": 16,
    "start_time": "2025-04-18T20:49:23.985Z"
   },
   {
    "duration": 4,
    "start_time": "2025-04-18T20:49:24.002Z"
   },
   {
    "duration": 35,
    "start_time": "2025-04-18T20:49:24.008Z"
   },
   {
    "duration": 1120,
    "start_time": "2025-04-18T20:50:20.100Z"
   },
   {
    "duration": 1903,
    "start_time": "2025-04-18T20:50:21.222Z"
   },
   {
    "duration": 19,
    "start_time": "2025-04-18T20:50:23.127Z"
   },
   {
    "duration": 237,
    "start_time": "2025-04-18T20:50:23.148Z"
   },
   {
    "duration": 327,
    "start_time": "2025-04-18T20:50:23.386Z"
   },
   {
    "duration": 541,
    "start_time": "2025-04-18T20:50:23.715Z"
   },
   {
    "duration": 39,
    "start_time": "2025-04-18T20:50:24.257Z"
   },
   {
    "duration": 4,
    "start_time": "2025-04-18T20:50:24.298Z"
   },
   {
    "duration": 63,
    "start_time": "2025-04-18T20:50:24.303Z"
   },
   {
    "duration": 177,
    "start_time": "2025-04-18T20:50:24.369Z"
   },
   {
    "duration": 31,
    "start_time": "2025-04-18T20:50:24.548Z"
   },
   {
    "duration": 322,
    "start_time": "2025-04-18T20:50:24.581Z"
   },
   {
    "duration": 113,
    "start_time": "2025-04-18T20:50:24.905Z"
   },
   {
    "duration": 202,
    "start_time": "2025-04-18T20:50:25.019Z"
   },
   {
    "duration": 37,
    "start_time": "2025-04-18T20:50:25.222Z"
   },
   {
    "duration": 204,
    "start_time": "2025-04-18T20:50:25.261Z"
   },
   {
    "duration": 151,
    "start_time": "2025-04-18T20:50:25.467Z"
   },
   {
    "duration": 25,
    "start_time": "2025-04-18T20:50:25.619Z"
   },
   {
    "duration": 29,
    "start_time": "2025-04-18T20:50:25.646Z"
   },
   {
    "duration": 6,
    "start_time": "2025-04-18T20:50:25.677Z"
   },
   {
    "duration": 261,
    "start_time": "2025-04-18T20:50:25.685Z"
   },
   {
    "duration": 15,
    "start_time": "2025-04-18T20:50:25.948Z"
   },
   {
    "duration": 148,
    "start_time": "2025-04-18T20:50:25.964Z"
   },
   {
    "duration": 244,
    "start_time": "2025-04-18T20:50:26.114Z"
   },
   {
    "duration": 7,
    "start_time": "2025-04-18T20:50:26.359Z"
   },
   {
    "duration": 32,
    "start_time": "2025-04-18T20:50:26.368Z"
   },
   {
    "duration": 154,
    "start_time": "2025-04-18T20:50:26.402Z"
   },
   {
    "duration": 7,
    "start_time": "2025-04-18T20:50:26.560Z"
   },
   {
    "duration": 14,
    "start_time": "2025-04-18T20:50:26.569Z"
   },
   {
    "duration": 16,
    "start_time": "2025-04-18T20:50:26.584Z"
   },
   {
    "duration": 194,
    "start_time": "2025-04-18T20:50:26.602Z"
   },
   {
    "duration": 10,
    "start_time": "2025-04-18T20:50:26.798Z"
   },
   {
    "duration": 202,
    "start_time": "2025-04-18T20:50:26.810Z"
   },
   {
    "duration": 9,
    "start_time": "2025-04-18T20:50:27.014Z"
   },
   {
    "duration": 171,
    "start_time": "2025-04-18T20:50:27.037Z"
   },
   {
    "duration": 7,
    "start_time": "2025-04-18T20:50:27.210Z"
   },
   {
    "duration": 227,
    "start_time": "2025-04-18T20:50:27.219Z"
   },
   {
    "duration": 9,
    "start_time": "2025-04-18T20:50:27.448Z"
   },
   {
    "duration": 174,
    "start_time": "2025-04-18T20:50:27.458Z"
   },
   {
    "duration": 11,
    "start_time": "2025-04-18T20:50:27.636Z"
   },
   {
    "duration": 190,
    "start_time": "2025-04-18T20:50:27.649Z"
   },
   {
    "duration": 558,
    "start_time": "2025-04-18T20:50:27.840Z"
   },
   {
    "duration": 53,
    "start_time": "2025-04-18T20:50:28.399Z"
   },
   {
    "duration": 29,
    "start_time": "2025-04-18T20:50:28.454Z"
   },
   {
    "duration": 22,
    "start_time": "2025-04-18T20:50:28.485Z"
   },
   {
    "duration": 42,
    "start_time": "2025-04-18T20:50:28.509Z"
   },
   {
    "duration": 10,
    "start_time": "2025-04-18T20:50:28.553Z"
   },
   {
    "duration": 16,
    "start_time": "2025-04-18T20:50:28.565Z"
   },
   {
    "duration": 21,
    "start_time": "2025-04-18T20:50:28.583Z"
   },
   {
    "duration": 43,
    "start_time": "2025-04-18T20:50:28.606Z"
   },
   {
    "duration": 4,
    "start_time": "2025-04-18T20:50:28.651Z"
   },
   {
    "duration": 13,
    "start_time": "2025-04-18T20:50:28.657Z"
   },
   {
    "duration": 1150,
    "start_time": "2025-04-18T20:51:38.676Z"
   },
   {
    "duration": 1568,
    "start_time": "2025-04-18T20:51:39.828Z"
   },
   {
    "duration": 13,
    "start_time": "2025-04-18T20:51:41.398Z"
   },
   {
    "duration": 151,
    "start_time": "2025-04-18T20:51:41.413Z"
   },
   {
    "duration": 333,
    "start_time": "2025-04-18T20:51:41.566Z"
   },
   {
    "duration": 551,
    "start_time": "2025-04-18T20:51:41.901Z"
   },
   {
    "duration": 38,
    "start_time": "2025-04-18T20:51:42.454Z"
   },
   {
    "duration": 4,
    "start_time": "2025-04-18T20:51:42.493Z"
   },
   {
    "duration": 105,
    "start_time": "2025-04-18T20:51:42.499Z"
   },
   {
    "duration": 129,
    "start_time": "2025-04-18T20:51:42.606Z"
   },
   {
    "duration": 29,
    "start_time": "2025-04-18T20:51:42.736Z"
   },
   {
    "duration": 341,
    "start_time": "2025-04-18T20:51:42.767Z"
   },
   {
    "duration": 109,
    "start_time": "2025-04-18T20:51:43.109Z"
   },
   {
    "duration": 206,
    "start_time": "2025-04-18T20:51:43.220Z"
   },
   {
    "duration": 31,
    "start_time": "2025-04-18T20:51:43.427Z"
   },
   {
    "duration": 201,
    "start_time": "2025-04-18T20:51:43.460Z"
   },
   {
    "duration": 147,
    "start_time": "2025-04-18T20:51:43.663Z"
   },
   {
    "duration": 26,
    "start_time": "2025-04-18T20:51:43.811Z"
   },
   {
    "duration": 29,
    "start_time": "2025-04-18T20:51:43.839Z"
   },
   {
    "duration": 6,
    "start_time": "2025-04-18T20:51:43.869Z"
   },
   {
    "duration": 257,
    "start_time": "2025-04-18T20:51:43.877Z"
   },
   {
    "duration": 15,
    "start_time": "2025-04-18T20:51:44.136Z"
   },
   {
    "duration": 144,
    "start_time": "2025-04-18T20:51:44.153Z"
   },
   {
    "duration": 72,
    "start_time": "2025-04-18T20:51:44.299Z"
   },
   {
    "duration": 13,
    "start_time": "2025-04-18T20:51:44.379Z"
   },
   {
    "duration": 68,
    "start_time": "2025-04-18T20:51:44.394Z"
   },
   {
    "duration": 188,
    "start_time": "2025-04-18T20:51:44.463Z"
   },
   {
    "duration": 7,
    "start_time": "2025-04-18T20:51:44.656Z"
   },
   {
    "duration": 13,
    "start_time": "2025-04-18T20:51:44.665Z"
   },
   {
    "duration": 18,
    "start_time": "2025-04-18T20:51:44.680Z"
   },
   {
    "duration": 295,
    "start_time": "2025-04-18T20:51:44.700Z"
   },
   {
    "duration": 10,
    "start_time": "2025-04-18T20:51:44.997Z"
   },
   {
    "duration": 251,
    "start_time": "2025-04-18T20:51:45.009Z"
   },
   {
    "duration": 9,
    "start_time": "2025-04-18T20:51:45.262Z"
   },
   {
    "duration": 274,
    "start_time": "2025-04-18T20:51:45.273Z"
   },
   {
    "duration": 9,
    "start_time": "2025-04-18T20:51:45.549Z"
   },
   {
    "duration": 254,
    "start_time": "2025-04-18T20:51:45.560Z"
   },
   {
    "duration": 22,
    "start_time": "2025-04-18T20:51:45.816Z"
   },
   {
    "duration": 149,
    "start_time": "2025-04-18T20:51:45.840Z"
   },
   {
    "duration": 8,
    "start_time": "2025-04-18T20:51:45.991Z"
   },
   {
    "duration": 164,
    "start_time": "2025-04-18T20:51:46.001Z"
   },
   {
    "duration": 413,
    "start_time": "2025-04-18T20:51:46.167Z"
   },
   {
    "duration": 56,
    "start_time": "2025-04-18T20:51:46.581Z"
   },
   {
    "duration": 30,
    "start_time": "2025-04-18T20:51:46.639Z"
   },
   {
    "duration": 22,
    "start_time": "2025-04-18T20:51:46.670Z"
   },
   {
    "duration": 45,
    "start_time": "2025-04-18T20:51:46.694Z"
   },
   {
    "duration": 67,
    "start_time": "2025-04-18T20:51:46.741Z"
   },
   {
    "duration": 10,
    "start_time": "2025-04-18T20:51:46.810Z"
   },
   {
    "duration": 21,
    "start_time": "2025-04-18T20:51:46.822Z"
   },
   {
    "duration": 16,
    "start_time": "2025-04-18T20:51:46.845Z"
   },
   {
    "duration": 4,
    "start_time": "2025-04-18T20:51:46.863Z"
   },
   {
    "duration": 9,
    "start_time": "2025-04-18T20:51:46.869Z"
   },
   {
    "duration": 1089,
    "start_time": "2025-04-18T20:53:09.123Z"
   },
   {
    "duration": 1548,
    "start_time": "2025-04-18T20:53:10.214Z"
   },
   {
    "duration": 13,
    "start_time": "2025-04-18T20:53:11.764Z"
   },
   {
    "duration": 157,
    "start_time": "2025-04-18T20:53:11.779Z"
   },
   {
    "duration": 333,
    "start_time": "2025-04-18T20:53:11.938Z"
   },
   {
    "duration": 538,
    "start_time": "2025-04-18T20:53:12.273Z"
   },
   {
    "duration": 46,
    "start_time": "2025-04-18T20:53:12.813Z"
   },
   {
    "duration": 4,
    "start_time": "2025-04-18T20:53:12.861Z"
   },
   {
    "duration": 46,
    "start_time": "2025-04-18T20:53:12.866Z"
   },
   {
    "duration": 147,
    "start_time": "2025-04-18T20:53:12.915Z"
   },
   {
    "duration": 31,
    "start_time": "2025-04-18T20:53:13.063Z"
   },
   {
    "duration": 318,
    "start_time": "2025-04-18T20:53:13.096Z"
   },
   {
    "duration": 111,
    "start_time": "2025-04-18T20:53:13.416Z"
   },
   {
    "duration": 201,
    "start_time": "2025-04-18T20:53:13.528Z"
   },
   {
    "duration": 32,
    "start_time": "2025-04-18T20:53:13.731Z"
   },
   {
    "duration": 202,
    "start_time": "2025-04-18T20:53:13.765Z"
   },
   {
    "duration": 155,
    "start_time": "2025-04-18T20:53:13.969Z"
   },
   {
    "duration": 16,
    "start_time": "2025-04-18T20:53:14.126Z"
   },
   {
    "duration": 51,
    "start_time": "2025-04-18T20:53:14.144Z"
   },
   {
    "duration": 7,
    "start_time": "2025-04-18T20:53:14.196Z"
   },
   {
    "duration": 269,
    "start_time": "2025-04-18T20:53:14.205Z"
   },
   {
    "duration": 15,
    "start_time": "2025-04-18T20:53:14.475Z"
   },
   {
    "duration": 129,
    "start_time": "2025-04-18T20:53:14.492Z"
   },
   {
    "duration": 59,
    "start_time": "2025-04-18T20:53:14.623Z"
   },
   {
    "duration": 7,
    "start_time": "2025-04-18T20:53:14.683Z"
   },
   {
    "duration": 22,
    "start_time": "2025-04-18T20:53:14.691Z"
   },
   {
    "duration": 260,
    "start_time": "2025-04-18T20:53:14.715Z"
   },
   {
    "duration": 7,
    "start_time": "2025-04-18T20:53:14.978Z"
   },
   {
    "duration": 72,
    "start_time": "2025-04-18T20:53:14.986Z"
   },
   {
    "duration": 97,
    "start_time": "2025-04-18T20:53:15.059Z"
   },
   {
    "duration": 346,
    "start_time": "2025-04-18T20:53:15.158Z"
   },
   {
    "duration": 7,
    "start_time": "2025-04-18T20:53:15.506Z"
   },
   {
    "duration": 282,
    "start_time": "2025-04-18T20:53:15.515Z"
   },
   {
    "duration": 9,
    "start_time": "2025-04-18T20:53:15.799Z"
   },
   {
    "duration": 183,
    "start_time": "2025-04-18T20:53:15.810Z"
   },
   {
    "duration": 8,
    "start_time": "2025-04-18T20:53:15.995Z"
   },
   {
    "duration": 256,
    "start_time": "2025-04-18T20:53:16.004Z"
   },
   {
    "duration": 8,
    "start_time": "2025-04-18T20:53:16.262Z"
   },
   {
    "duration": 170,
    "start_time": "2025-04-18T20:53:16.271Z"
   },
   {
    "duration": 9,
    "start_time": "2025-04-18T20:53:16.443Z"
   },
   {
    "duration": 175,
    "start_time": "2025-04-18T20:53:16.454Z"
   },
   {
    "duration": 429,
    "start_time": "2025-04-18T20:53:16.631Z"
   },
   {
    "duration": 45,
    "start_time": "2025-04-18T20:53:17.061Z"
   },
   {
    "duration": 172,
    "start_time": "2025-04-18T20:53:17.107Z"
   },
   {
    "duration": 99,
    "start_time": "2025-04-18T20:53:17.280Z"
   },
   {
    "duration": 35,
    "start_time": "2025-04-18T20:53:17.380Z"
   },
   {
    "duration": 25,
    "start_time": "2025-04-18T20:53:17.417Z"
   },
   {
    "duration": 145,
    "start_time": "2025-04-18T20:53:17.443Z"
   },
   {
    "duration": 56,
    "start_time": "2025-04-18T20:53:17.589Z"
   },
   {
    "duration": 25,
    "start_time": "2025-04-18T20:53:17.647Z"
   },
   {
    "duration": 25,
    "start_time": "2025-04-18T20:53:17.674Z"
   },
   {
    "duration": 38,
    "start_time": "2025-04-18T20:53:17.701Z"
   },
   {
    "duration": 1063,
    "start_time": "2025-04-18T20:55:54.665Z"
   },
   {
    "duration": 1668,
    "start_time": "2025-04-18T20:55:55.731Z"
   },
   {
    "duration": 13,
    "start_time": "2025-04-18T20:55:57.401Z"
   },
   {
    "duration": 144,
    "start_time": "2025-04-18T20:55:57.416Z"
   },
   {
    "duration": 342,
    "start_time": "2025-04-18T20:55:57.562Z"
   },
   {
    "duration": 562,
    "start_time": "2025-04-18T20:55:57.905Z"
   },
   {
    "duration": 40,
    "start_time": "2025-04-18T20:55:58.469Z"
   },
   {
    "duration": 5,
    "start_time": "2025-04-18T20:55:58.511Z"
   },
   {
    "duration": 43,
    "start_time": "2025-04-18T20:55:58.536Z"
   },
   {
    "duration": 151,
    "start_time": "2025-04-18T20:55:58.581Z"
   },
   {
    "duration": 33,
    "start_time": "2025-04-18T20:55:58.735Z"
   },
   {
    "duration": 340,
    "start_time": "2025-04-18T20:55:58.769Z"
   },
   {
    "duration": 111,
    "start_time": "2025-04-18T20:55:59.111Z"
   },
   {
    "duration": 208,
    "start_time": "2025-04-18T20:55:59.223Z"
   },
   {
    "duration": 28,
    "start_time": "2025-04-18T20:55:59.436Z"
   },
   {
    "duration": 206,
    "start_time": "2025-04-18T20:55:59.465Z"
   },
   {
    "duration": 157,
    "start_time": "2025-04-18T20:55:59.673Z"
   },
   {
    "duration": 14,
    "start_time": "2025-04-18T20:55:59.832Z"
   },
   {
    "duration": 29,
    "start_time": "2025-04-18T20:55:59.848Z"
   },
   {
    "duration": 7,
    "start_time": "2025-04-18T20:55:59.879Z"
   },
   {
    "duration": 259,
    "start_time": "2025-04-18T20:55:59.887Z"
   },
   {
    "duration": 18,
    "start_time": "2025-04-18T20:56:00.148Z"
   },
   {
    "duration": 184,
    "start_time": "2025-04-18T20:56:00.168Z"
   },
   {
    "duration": 79,
    "start_time": "2025-04-18T20:56:00.354Z"
   },
   {
    "duration": 6,
    "start_time": "2025-04-18T20:56:00.435Z"
   },
   {
    "duration": 33,
    "start_time": "2025-04-18T20:56:00.442Z"
   },
   {
    "duration": 154,
    "start_time": "2025-04-18T20:56:00.478Z"
   },
   {
    "duration": 8,
    "start_time": "2025-04-18T20:56:00.634Z"
   },
   {
    "duration": 34,
    "start_time": "2025-04-18T20:56:00.644Z"
   },
   {
    "duration": 15,
    "start_time": "2025-04-18T20:56:00.679Z"
   },
   {
    "duration": 183,
    "start_time": "2025-04-18T20:56:00.696Z"
   },
   {
    "duration": 9,
    "start_time": "2025-04-18T20:56:00.881Z"
   },
   {
    "duration": 195,
    "start_time": "2025-04-18T20:56:00.892Z"
   },
   {
    "duration": 9,
    "start_time": "2025-04-18T20:56:01.089Z"
   },
   {
    "duration": 304,
    "start_time": "2025-04-18T20:56:01.100Z"
   },
   {
    "duration": 9,
    "start_time": "2025-04-18T20:56:01.406Z"
   },
   {
    "duration": 239,
    "start_time": "2025-04-18T20:56:01.416Z"
   },
   {
    "duration": 9,
    "start_time": "2025-04-18T20:56:01.656Z"
   },
   {
    "duration": 172,
    "start_time": "2025-04-18T20:56:01.666Z"
   },
   {
    "duration": 9,
    "start_time": "2025-04-18T20:56:01.840Z"
   },
   {
    "duration": 177,
    "start_time": "2025-04-18T20:56:01.851Z"
   },
   {
    "duration": 568,
    "start_time": "2025-04-18T20:56:02.030Z"
   },
   {
    "duration": 50,
    "start_time": "2025-04-18T20:56:02.600Z"
   },
   {
    "duration": 51,
    "start_time": "2025-04-18T20:56:02.652Z"
   },
   {
    "duration": 50,
    "start_time": "2025-04-18T20:56:02.705Z"
   },
   {
    "duration": 121,
    "start_time": "2025-04-18T20:56:02.757Z"
   },
   {
    "duration": 25,
    "start_time": "2025-04-18T20:56:02.880Z"
   },
   {
    "duration": 13,
    "start_time": "2025-04-18T20:56:02.906Z"
   },
   {
    "duration": 28,
    "start_time": "2025-04-18T20:56:02.920Z"
   },
   {
    "duration": 16,
    "start_time": "2025-04-18T20:56:02.949Z"
   },
   {
    "duration": 3,
    "start_time": "2025-04-18T20:56:02.967Z"
   },
   {
    "duration": 43,
    "start_time": "2025-04-18T20:56:02.971Z"
   },
   {
    "duration": 1061,
    "start_time": "2025-04-18T20:59:44.589Z"
   },
   {
    "duration": 2167,
    "start_time": "2025-04-18T20:59:45.652Z"
   },
   {
    "duration": 23,
    "start_time": "2025-04-18T20:59:47.820Z"
   },
   {
    "duration": 149,
    "start_time": "2025-04-18T20:59:47.845Z"
   },
   {
    "duration": 333,
    "start_time": "2025-04-18T20:59:47.996Z"
   },
   {
    "duration": 544,
    "start_time": "2025-04-18T20:59:48.331Z"
   },
   {
    "duration": 39,
    "start_time": "2025-04-18T20:59:48.877Z"
   },
   {
    "duration": 4,
    "start_time": "2025-04-18T20:59:48.918Z"
   },
   {
    "duration": 57,
    "start_time": "2025-04-18T20:59:48.936Z"
   },
   {
    "duration": 149,
    "start_time": "2025-04-18T20:59:48.995Z"
   },
   {
    "duration": 32,
    "start_time": "2025-04-18T20:59:49.146Z"
   },
   {
    "duration": 357,
    "start_time": "2025-04-18T20:59:49.180Z"
   },
   {
    "duration": 112,
    "start_time": "2025-04-18T20:59:49.538Z"
   },
   {
    "duration": 200,
    "start_time": "2025-04-18T20:59:49.652Z"
   },
   {
    "duration": 28,
    "start_time": "2025-04-18T20:59:49.853Z"
   },
   {
    "duration": 208,
    "start_time": "2025-04-18T20:59:49.883Z"
   },
   {
    "duration": 145,
    "start_time": "2025-04-18T20:59:50.093Z"
   },
   {
    "duration": 12,
    "start_time": "2025-04-18T20:59:50.240Z"
   },
   {
    "duration": 29,
    "start_time": "2025-04-18T20:59:50.254Z"
   },
   {
    "duration": 6,
    "start_time": "2025-04-18T20:59:50.285Z"
   },
   {
    "duration": 269,
    "start_time": "2025-04-18T20:59:50.293Z"
   },
   {
    "duration": 14,
    "start_time": "2025-04-18T20:59:50.564Z"
   },
   {
    "duration": 137,
    "start_time": "2025-04-18T20:59:50.580Z"
   },
   {
    "duration": 67,
    "start_time": "2025-04-18T20:59:50.718Z"
   },
   {
    "duration": 7,
    "start_time": "2025-04-18T20:59:50.786Z"
   },
   {
    "duration": 79,
    "start_time": "2025-04-18T20:59:50.794Z"
   },
   {
    "duration": 196,
    "start_time": "2025-04-18T20:59:50.875Z"
   },
   {
    "duration": 7,
    "start_time": "2025-04-18T20:59:51.074Z"
   },
   {
    "duration": 23,
    "start_time": "2025-04-18T20:59:51.083Z"
   },
   {
    "duration": 14,
    "start_time": "2025-04-18T20:59:51.107Z"
   },
   {
    "duration": 311,
    "start_time": "2025-04-18T20:59:51.122Z"
   },
   {
    "duration": 8,
    "start_time": "2025-04-18T20:59:51.435Z"
   },
   {
    "duration": 204,
    "start_time": "2025-04-18T20:59:51.444Z"
   },
   {
    "duration": 8,
    "start_time": "2025-04-18T20:59:51.650Z"
   },
   {
    "duration": 172,
    "start_time": "2025-04-18T20:59:51.660Z"
   },
   {
    "duration": 9,
    "start_time": "2025-04-18T20:59:51.835Z"
   },
   {
    "duration": 229,
    "start_time": "2025-04-18T20:59:51.846Z"
   },
   {
    "duration": 9,
    "start_time": "2025-04-18T20:59:52.076Z"
   },
   {
    "duration": 166,
    "start_time": "2025-04-18T20:59:52.086Z"
   },
   {
    "duration": 9,
    "start_time": "2025-04-18T20:59:52.254Z"
   },
   {
    "duration": 173,
    "start_time": "2025-04-18T20:59:52.264Z"
   },
   {
    "duration": 508,
    "start_time": "2025-04-18T20:59:52.439Z"
   },
   {
    "duration": 43,
    "start_time": "2025-04-18T20:59:52.949Z"
   },
   {
    "duration": 46,
    "start_time": "2025-04-18T20:59:52.994Z"
   },
   {
    "duration": 22,
    "start_time": "2025-04-18T20:59:53.042Z"
   },
   {
    "duration": 23,
    "start_time": "2025-04-18T20:59:53.065Z"
   },
   {
    "duration": 23,
    "start_time": "2025-04-18T20:59:53.090Z"
   },
   {
    "duration": 140,
    "start_time": "2025-04-18T20:59:53.115Z"
   },
   {
    "duration": 130,
    "start_time": "2025-04-18T20:59:53.257Z"
   },
   {
    "duration": 41,
    "start_time": "2025-04-18T20:59:53.389Z"
   },
   {
    "duration": 10,
    "start_time": "2025-04-18T20:59:53.432Z"
   },
   {
    "duration": 11,
    "start_time": "2025-04-18T20:59:53.444Z"
   },
   {
    "duration": 1109,
    "start_time": "2025-04-18T21:06:41.717Z"
   },
   {
    "duration": 2071,
    "start_time": "2025-04-18T21:06:42.828Z"
   },
   {
    "duration": 15,
    "start_time": "2025-04-18T21:06:44.901Z"
   },
   {
    "duration": 172,
    "start_time": "2025-04-18T21:06:44.917Z"
   },
   {
    "duration": 343,
    "start_time": "2025-04-18T21:06:45.090Z"
   },
   {
    "duration": 553,
    "start_time": "2025-04-18T21:06:45.435Z"
   },
   {
    "duration": 54,
    "start_time": "2025-04-18T21:06:45.989Z"
   },
   {
    "duration": 5,
    "start_time": "2025-04-18T21:06:46.046Z"
   },
   {
    "duration": 45,
    "start_time": "2025-04-18T21:06:46.052Z"
   },
   {
    "duration": 150,
    "start_time": "2025-04-18T21:06:46.100Z"
   },
   {
    "duration": 29,
    "start_time": "2025-04-18T21:06:46.252Z"
   },
   {
    "duration": 332,
    "start_time": "2025-04-18T21:06:46.283Z"
   },
   {
    "duration": 126,
    "start_time": "2025-04-18T21:06:46.616Z"
   },
   {
    "duration": 214,
    "start_time": "2025-04-18T21:06:46.745Z"
   },
   {
    "duration": 28,
    "start_time": "2025-04-18T21:06:46.960Z"
   },
   {
    "duration": 210,
    "start_time": "2025-04-18T21:06:46.990Z"
   },
   {
    "duration": 156,
    "start_time": "2025-04-18T21:06:47.202Z"
   },
   {
    "duration": 12,
    "start_time": "2025-04-18T21:06:47.360Z"
   },
   {
    "duration": 76,
    "start_time": "2025-04-18T21:06:47.373Z"
   },
   {
    "duration": 6,
    "start_time": "2025-04-18T21:06:47.451Z"
   },
   {
    "duration": 244,
    "start_time": "2025-04-18T21:06:47.458Z"
   },
   {
    "duration": 17,
    "start_time": "2025-04-18T21:06:47.704Z"
   },
   {
    "duration": 139,
    "start_time": "2025-04-18T21:06:47.722Z"
   },
   {
    "duration": 150,
    "start_time": "2025-04-18T21:06:47.863Z"
   },
   {
    "duration": 6,
    "start_time": "2025-04-18T21:06:48.015Z"
   },
   {
    "duration": 13,
    "start_time": "2025-04-18T21:06:48.022Z"
   },
   {
    "duration": 165,
    "start_time": "2025-04-18T21:06:48.036Z"
   },
   {
    "duration": 6,
    "start_time": "2025-04-18T21:06:48.204Z"
   },
   {
    "duration": 13,
    "start_time": "2025-04-18T21:06:48.212Z"
   },
   {
    "duration": 20,
    "start_time": "2025-04-18T21:06:48.226Z"
   },
   {
    "duration": 214,
    "start_time": "2025-04-18T21:06:48.247Z"
   },
   {
    "duration": 9,
    "start_time": "2025-04-18T21:06:48.463Z"
   },
   {
    "duration": 205,
    "start_time": "2025-04-18T21:06:48.473Z"
   },
   {
    "duration": 9,
    "start_time": "2025-04-18T21:06:48.679Z"
   },
   {
    "duration": 200,
    "start_time": "2025-04-18T21:06:48.690Z"
   },
   {
    "duration": 10,
    "start_time": "2025-04-18T21:06:48.892Z"
   },
   {
    "duration": 246,
    "start_time": "2025-04-18T21:06:48.904Z"
   },
   {
    "duration": 8,
    "start_time": "2025-04-18T21:06:49.152Z"
   },
   {
    "duration": 249,
    "start_time": "2025-04-18T21:06:49.161Z"
   },
   {
    "duration": 8,
    "start_time": "2025-04-18T21:06:49.412Z"
   },
   {
    "duration": 175,
    "start_time": "2025-04-18T21:06:49.422Z"
   },
   {
    "duration": 475,
    "start_time": "2025-04-18T21:06:49.598Z"
   },
   {
    "duration": 47,
    "start_time": "2025-04-18T21:06:50.074Z"
   },
   {
    "duration": 53,
    "start_time": "2025-04-18T21:06:50.123Z"
   },
   {
    "duration": 25,
    "start_time": "2025-04-18T21:06:50.177Z"
   },
   {
    "duration": 21,
    "start_time": "2025-04-18T21:06:50.204Z"
   },
   {
    "duration": 21,
    "start_time": "2025-04-18T21:06:50.226Z"
   },
   {
    "duration": 39,
    "start_time": "2025-04-18T21:06:50.250Z"
   },
   {
    "duration": 42,
    "start_time": "2025-04-18T21:06:50.291Z"
   },
   {
    "duration": 27,
    "start_time": "2025-04-18T21:06:50.335Z"
   },
   {
    "duration": 4,
    "start_time": "2025-04-18T21:06:50.365Z"
   },
   {
    "duration": 13,
    "start_time": "2025-04-18T21:06:50.370Z"
   },
   {
    "duration": 1132,
    "start_time": "2025-04-18T21:12:53.798Z"
   },
   {
    "duration": 1755,
    "start_time": "2025-04-18T21:12:54.932Z"
   },
   {
    "duration": 13,
    "start_time": "2025-04-18T21:12:56.689Z"
   },
   {
    "duration": 152,
    "start_time": "2025-04-18T21:12:56.703Z"
   },
   {
    "duration": 318,
    "start_time": "2025-04-18T21:12:56.856Z"
   },
   {
    "duration": 525,
    "start_time": "2025-04-18T21:12:57.176Z"
   },
   {
    "duration": 47,
    "start_time": "2025-04-18T21:12:57.702Z"
   },
   {
    "duration": 4,
    "start_time": "2025-04-18T21:12:57.751Z"
   },
   {
    "duration": 55,
    "start_time": "2025-04-18T21:12:57.756Z"
   },
   {
    "duration": 146,
    "start_time": "2025-04-18T21:12:57.814Z"
   },
   {
    "duration": 31,
    "start_time": "2025-04-18T21:12:57.962Z"
   },
   {
    "duration": 320,
    "start_time": "2025-04-18T21:12:57.994Z"
   },
   {
    "duration": 122,
    "start_time": "2025-04-18T21:12:58.315Z"
   },
   {
    "duration": 203,
    "start_time": "2025-04-18T21:12:58.439Z"
   },
   {
    "duration": 28,
    "start_time": "2025-04-18T21:12:58.644Z"
   },
   {
    "duration": 207,
    "start_time": "2025-04-18T21:12:58.673Z"
   },
   {
    "duration": 172,
    "start_time": "2025-04-18T21:12:58.882Z"
   },
   {
    "duration": 13,
    "start_time": "2025-04-18T21:12:59.056Z"
   },
   {
    "duration": 28,
    "start_time": "2025-04-18T21:12:59.071Z"
   },
   {
    "duration": 6,
    "start_time": "2025-04-18T21:12:59.101Z"
   },
   {
    "duration": 261,
    "start_time": "2025-04-18T21:12:59.109Z"
   },
   {
    "duration": 14,
    "start_time": "2025-04-18T21:12:59.371Z"
   },
   {
    "duration": 169,
    "start_time": "2025-04-18T21:12:59.386Z"
   },
   {
    "duration": 59,
    "start_time": "2025-04-18T21:12:59.557Z"
   },
   {
    "duration": 50,
    "start_time": "2025-04-18T21:12:59.618Z"
   },
   {
    "duration": 18,
    "start_time": "2025-04-18T21:12:59.670Z"
   },
   {
    "duration": 151,
    "start_time": "2025-04-18T21:12:59.690Z"
   },
   {
    "duration": 6,
    "start_time": "2025-04-18T21:12:59.845Z"
   },
   {
    "duration": 6,
    "start_time": "2025-04-18T21:12:59.852Z"
   },
   {
    "duration": 7,
    "start_time": "2025-04-18T21:12:59.860Z"
   },
   {
    "duration": 196,
    "start_time": "2025-04-18T21:12:59.869Z"
   },
   {
    "duration": 8,
    "start_time": "2025-04-18T21:13:00.067Z"
   },
   {
    "duration": 211,
    "start_time": "2025-04-18T21:13:00.076Z"
   },
   {
    "duration": 9,
    "start_time": "2025-04-18T21:13:00.289Z"
   },
   {
    "duration": 181,
    "start_time": "2025-04-18T21:13:00.300Z"
   },
   {
    "duration": 9,
    "start_time": "2025-04-18T21:13:00.483Z"
   },
   {
    "duration": 340,
    "start_time": "2025-04-18T21:13:00.493Z"
   },
   {
    "duration": 9,
    "start_time": "2025-04-18T21:13:00.837Z"
   },
   {
    "duration": 221,
    "start_time": "2025-04-18T21:13:00.848Z"
   },
   {
    "duration": 9,
    "start_time": "2025-04-18T21:13:01.071Z"
   },
   {
    "duration": 164,
    "start_time": "2025-04-18T21:13:01.082Z"
   },
   {
    "duration": 492,
    "start_time": "2025-04-18T21:13:01.248Z"
   },
   {
    "duration": 45,
    "start_time": "2025-04-18T21:13:01.742Z"
   },
   {
    "duration": 124,
    "start_time": "2025-04-18T21:13:01.789Z"
   },
   {
    "duration": 39,
    "start_time": "2025-04-18T21:13:01.914Z"
   },
   {
    "duration": 22,
    "start_time": "2025-04-18T21:13:01.954Z"
   },
   {
    "duration": 22,
    "start_time": "2025-04-18T21:13:01.978Z"
   },
   {
    "duration": 20,
    "start_time": "2025-04-18T21:13:02.002Z"
   },
   {
    "duration": 35,
    "start_time": "2025-04-18T21:13:02.024Z"
   },
   {
    "duration": 22,
    "start_time": "2025-04-18T21:13:02.061Z"
   },
   {
    "duration": 19,
    "start_time": "2025-04-18T21:13:02.084Z"
   },
   {
    "duration": 21,
    "start_time": "2025-04-18T21:13:02.105Z"
   },
   {
    "duration": 1037,
    "start_time": "2025-04-18T21:16:52.781Z"
   },
   {
    "duration": 1895,
    "start_time": "2025-04-18T21:16:53.820Z"
   },
   {
    "duration": 21,
    "start_time": "2025-04-18T21:16:55.717Z"
   },
   {
    "duration": 141,
    "start_time": "2025-04-18T21:16:55.741Z"
   },
   {
    "duration": 321,
    "start_time": "2025-04-18T21:16:55.884Z"
   },
   {
    "duration": 520,
    "start_time": "2025-04-18T21:16:56.206Z"
   },
   {
    "duration": 43,
    "start_time": "2025-04-18T21:16:56.728Z"
   },
   {
    "duration": 4,
    "start_time": "2025-04-18T21:16:56.773Z"
   },
   {
    "duration": 58,
    "start_time": "2025-04-18T21:16:56.779Z"
   },
   {
    "duration": 136,
    "start_time": "2025-04-18T21:16:56.840Z"
   },
   {
    "duration": 29,
    "start_time": "2025-04-18T21:16:56.977Z"
   },
   {
    "duration": 318,
    "start_time": "2025-04-18T21:16:57.007Z"
   },
   {
    "duration": 112,
    "start_time": "2025-04-18T21:16:57.326Z"
   },
   {
    "duration": 191,
    "start_time": "2025-04-18T21:16:57.440Z"
   },
   {
    "duration": 30,
    "start_time": "2025-04-18T21:16:57.632Z"
   },
   {
    "duration": 222,
    "start_time": "2025-04-18T21:16:57.664Z"
   },
   {
    "duration": 151,
    "start_time": "2025-04-18T21:16:57.887Z"
   },
   {
    "duration": 12,
    "start_time": "2025-04-18T21:16:58.040Z"
   },
   {
    "duration": 28,
    "start_time": "2025-04-18T21:16:58.054Z"
   },
   {
    "duration": 5,
    "start_time": "2025-04-18T21:16:58.084Z"
   },
   {
    "duration": 255,
    "start_time": "2025-04-18T21:16:58.091Z"
   },
   {
    "duration": 21,
    "start_time": "2025-04-18T21:16:58.348Z"
   },
   {
    "duration": 129,
    "start_time": "2025-04-18T21:16:58.371Z"
   },
   {
    "duration": 58,
    "start_time": "2025-04-18T21:16:58.501Z"
   },
   {
    "duration": 6,
    "start_time": "2025-04-18T21:16:58.561Z"
   },
   {
    "duration": 10,
    "start_time": "2025-04-18T21:16:58.568Z"
   },
   {
    "duration": 148,
    "start_time": "2025-04-18T21:16:58.579Z"
   },
   {
    "duration": 7,
    "start_time": "2025-04-18T21:16:58.737Z"
   },
   {
    "duration": 10,
    "start_time": "2025-04-18T21:16:58.746Z"
   },
   {
    "duration": 8,
    "start_time": "2025-04-18T21:16:58.757Z"
   },
   {
    "duration": 196,
    "start_time": "2025-04-18T21:16:58.767Z"
   },
   {
    "duration": 8,
    "start_time": "2025-04-18T21:16:58.965Z"
   },
   {
    "duration": 202,
    "start_time": "2025-04-18T21:16:58.975Z"
   },
   {
    "duration": 9,
    "start_time": "2025-04-18T21:16:59.179Z"
   },
   {
    "duration": 287,
    "start_time": "2025-04-18T21:16:59.190Z"
   },
   {
    "duration": 9,
    "start_time": "2025-04-18T21:16:59.479Z"
   },
   {
    "duration": 226,
    "start_time": "2025-04-18T21:16:59.489Z"
   },
   {
    "duration": 19,
    "start_time": "2025-04-18T21:16:59.717Z"
   },
   {
    "duration": 151,
    "start_time": "2025-04-18T21:16:59.738Z"
   },
   {
    "duration": 9,
    "start_time": "2025-04-18T21:16:59.891Z"
   },
   {
    "duration": 168,
    "start_time": "2025-04-18T21:16:59.901Z"
   },
   {
    "duration": 570,
    "start_time": "2025-04-18T21:17:00.071Z"
   },
   {
    "duration": 45,
    "start_time": "2025-04-18T21:17:00.642Z"
   },
   {
    "duration": 32,
    "start_time": "2025-04-18T21:17:00.688Z"
   },
   {
    "duration": 32,
    "start_time": "2025-04-18T21:17:00.722Z"
   },
   {
    "duration": 27,
    "start_time": "2025-04-18T21:17:00.756Z"
   },
   {
    "duration": 18,
    "start_time": "2025-04-18T21:17:00.785Z"
   },
   {
    "duration": 76,
    "start_time": "2025-04-18T21:17:00.805Z"
   },
   {
    "duration": 98,
    "start_time": "2025-04-18T21:17:00.883Z"
   },
   {
    "duration": 30,
    "start_time": "2025-04-18T21:17:00.982Z"
   },
   {
    "duration": 13,
    "start_time": "2025-04-18T21:17:01.013Z"
   },
   {
    "duration": 11,
    "start_time": "2025-04-18T21:17:01.028Z"
   },
   {
    "duration": 1056,
    "start_time": "2025-04-18T21:17:36.163Z"
   },
   {
    "duration": 1978,
    "start_time": "2025-04-18T21:17:37.221Z"
   },
   {
    "duration": 13,
    "start_time": "2025-04-18T21:17:39.201Z"
   },
   {
    "duration": 154,
    "start_time": "2025-04-18T21:17:39.216Z"
   },
   {
    "duration": 324,
    "start_time": "2025-04-18T21:17:39.371Z"
   },
   {
    "duration": 532,
    "start_time": "2025-04-18T21:17:39.697Z"
   },
   {
    "duration": 44,
    "start_time": "2025-04-18T21:17:40.230Z"
   },
   {
    "duration": 5,
    "start_time": "2025-04-18T21:17:40.276Z"
   },
   {
    "duration": 61,
    "start_time": "2025-04-18T21:17:40.282Z"
   },
   {
    "duration": 135,
    "start_time": "2025-04-18T21:17:40.346Z"
   },
   {
    "duration": 30,
    "start_time": "2025-04-18T21:17:40.483Z"
   },
   {
    "duration": 319,
    "start_time": "2025-04-18T21:17:40.514Z"
   },
   {
    "duration": 113,
    "start_time": "2025-04-18T21:17:40.837Z"
   },
   {
    "duration": 202,
    "start_time": "2025-04-18T21:17:40.952Z"
   },
   {
    "duration": 29,
    "start_time": "2025-04-18T21:17:41.155Z"
   },
   {
    "duration": 215,
    "start_time": "2025-04-18T21:17:41.186Z"
   },
   {
    "duration": 149,
    "start_time": "2025-04-18T21:17:41.404Z"
   },
   {
    "duration": 14,
    "start_time": "2025-04-18T21:17:41.555Z"
   },
   {
    "duration": 44,
    "start_time": "2025-04-18T21:17:41.571Z"
   },
   {
    "duration": 101,
    "start_time": "2025-04-18T21:17:41.617Z"
   },
   {
    "duration": 243,
    "start_time": "2025-04-18T21:17:41.719Z"
   },
   {
    "duration": 17,
    "start_time": "2025-04-18T21:17:41.964Z"
   },
   {
    "duration": 128,
    "start_time": "2025-04-18T21:17:41.983Z"
   },
   {
    "duration": 62,
    "start_time": "2025-04-18T21:17:42.113Z"
   },
   {
    "duration": 7,
    "start_time": "2025-04-18T21:17:42.177Z"
   },
   {
    "duration": 17,
    "start_time": "2025-04-18T21:17:42.186Z"
   },
   {
    "duration": 154,
    "start_time": "2025-04-18T21:17:42.205Z"
   },
   {
    "duration": 8,
    "start_time": "2025-04-18T21:17:42.364Z"
   },
   {
    "duration": 6,
    "start_time": "2025-04-18T21:17:42.373Z"
   },
   {
    "duration": 8,
    "start_time": "2025-04-18T21:17:42.381Z"
   },
   {
    "duration": 218,
    "start_time": "2025-04-18T21:17:42.392Z"
   },
   {
    "duration": 10,
    "start_time": "2025-04-18T21:17:42.612Z"
   },
   {
    "duration": 190,
    "start_time": "2025-04-18T21:17:42.636Z"
   },
   {
    "duration": 8,
    "start_time": "2025-04-18T21:17:42.836Z"
   },
   {
    "duration": 174,
    "start_time": "2025-04-18T21:17:42.846Z"
   },
   {
    "duration": 8,
    "start_time": "2025-04-18T21:17:43.022Z"
   },
   {
    "duration": 214,
    "start_time": "2025-04-18T21:17:43.036Z"
   },
   {
    "duration": 9,
    "start_time": "2025-04-18T21:17:43.252Z"
   },
   {
    "duration": 171,
    "start_time": "2025-04-18T21:17:43.262Z"
   },
   {
    "duration": 8,
    "start_time": "2025-04-18T21:17:43.435Z"
   },
   {
    "duration": 196,
    "start_time": "2025-04-18T21:17:43.445Z"
   },
   {
    "duration": 507,
    "start_time": "2025-04-18T21:17:43.642Z"
   },
   {
    "duration": 45,
    "start_time": "2025-04-18T21:17:44.151Z"
   },
   {
    "duration": 39,
    "start_time": "2025-04-18T21:17:44.198Z"
   },
   {
    "duration": 21,
    "start_time": "2025-04-18T21:17:44.239Z"
   },
   {
    "duration": 20,
    "start_time": "2025-04-18T21:17:44.261Z"
   },
   {
    "duration": 11,
    "start_time": "2025-04-18T21:17:44.284Z"
   },
   {
    "duration": 8,
    "start_time": "2025-04-18T21:17:44.297Z"
   },
   {
    "duration": 22,
    "start_time": "2025-04-18T21:17:44.335Z"
   },
   {
    "duration": 28,
    "start_time": "2025-04-18T21:17:44.360Z"
   },
   {
    "duration": 5,
    "start_time": "2025-04-18T21:17:44.391Z"
   },
   {
    "duration": 41,
    "start_time": "2025-04-18T21:17:44.398Z"
   },
   {
    "duration": 1114,
    "start_time": "2025-04-18T21:24:33.912Z"
   },
   {
    "duration": 1763,
    "start_time": "2025-04-18T21:24:35.027Z"
   },
   {
    "duration": 13,
    "start_time": "2025-04-18T21:24:36.792Z"
   },
   {
    "duration": 152,
    "start_time": "2025-04-18T21:24:36.807Z"
   },
   {
    "duration": 320,
    "start_time": "2025-04-18T21:24:36.960Z"
   },
   {
    "duration": 527,
    "start_time": "2025-04-18T21:24:37.281Z"
   },
   {
    "duration": 48,
    "start_time": "2025-04-18T21:24:37.809Z"
   },
   {
    "duration": 4,
    "start_time": "2025-04-18T21:24:37.858Z"
   },
   {
    "duration": 43,
    "start_time": "2025-04-18T21:24:37.864Z"
   },
   {
    "duration": 162,
    "start_time": "2025-04-18T21:24:37.910Z"
   },
   {
    "duration": 31,
    "start_time": "2025-04-18T21:24:38.074Z"
   },
   {
    "duration": 330,
    "start_time": "2025-04-18T21:24:38.107Z"
   },
   {
    "duration": 107,
    "start_time": "2025-04-18T21:24:38.439Z"
   },
   {
    "duration": 208,
    "start_time": "2025-04-18T21:24:38.548Z"
   },
   {
    "duration": 31,
    "start_time": "2025-04-18T21:24:38.758Z"
   },
   {
    "duration": 224,
    "start_time": "2025-04-18T21:24:38.791Z"
   },
   {
    "duration": 163,
    "start_time": "2025-04-18T21:24:39.017Z"
   },
   {
    "duration": 13,
    "start_time": "2025-04-18T21:24:39.181Z"
   },
   {
    "duration": 45,
    "start_time": "2025-04-18T21:24:39.195Z"
   },
   {
    "duration": 109,
    "start_time": "2025-04-18T21:24:39.242Z"
   },
   {
    "duration": 242,
    "start_time": "2025-04-18T21:24:39.352Z"
   },
   {
    "duration": 15,
    "start_time": "2025-04-18T21:24:39.596Z"
   },
   {
    "duration": 244,
    "start_time": "2025-04-18T21:24:39.612Z"
   },
   {
    "duration": 77,
    "start_time": "2025-04-18T21:24:39.857Z"
   },
   {
    "duration": 6,
    "start_time": "2025-04-18T21:24:39.936Z"
   },
   {
    "duration": 21,
    "start_time": "2025-04-18T21:24:39.944Z"
   },
   {
    "duration": 159,
    "start_time": "2025-04-18T21:24:39.967Z"
   },
   {
    "duration": 9,
    "start_time": "2025-04-18T21:24:40.130Z"
   },
   {
    "duration": 17,
    "start_time": "2025-04-18T21:24:40.141Z"
   },
   {
    "duration": 26,
    "start_time": "2025-04-18T21:24:40.159Z"
   },
   {
    "duration": 223,
    "start_time": "2025-04-18T21:24:40.186Z"
   },
   {
    "duration": 10,
    "start_time": "2025-04-18T21:24:40.410Z"
   },
   {
    "duration": 251,
    "start_time": "2025-04-18T21:24:40.422Z"
   },
   {
    "duration": 11,
    "start_time": "2025-04-18T21:24:40.675Z"
   },
   {
    "duration": 233,
    "start_time": "2025-04-18T21:24:40.688Z"
   },
   {
    "duration": 15,
    "start_time": "2025-04-18T21:24:40.923Z"
   },
   {
    "duration": 277,
    "start_time": "2025-04-18T21:24:40.940Z"
   },
   {
    "duration": 18,
    "start_time": "2025-04-18T21:24:41.219Z"
   },
   {
    "duration": 272,
    "start_time": "2025-04-18T21:24:41.239Z"
   },
   {
    "duration": 10,
    "start_time": "2025-04-18T21:24:41.513Z"
   },
   {
    "duration": 186,
    "start_time": "2025-04-18T21:24:41.524Z"
   },
   {
    "duration": 520,
    "start_time": "2025-04-18T21:24:41.711Z"
   },
   {
    "duration": 45,
    "start_time": "2025-04-18T21:24:42.236Z"
   },
   {
    "duration": 29,
    "start_time": "2025-04-18T21:24:42.282Z"
   },
   {
    "duration": 38,
    "start_time": "2025-04-18T21:24:42.312Z"
   },
   {
    "duration": 19,
    "start_time": "2025-04-18T21:24:42.352Z"
   },
   {
    "duration": 14,
    "start_time": "2025-04-18T21:24:42.373Z"
   },
   {
    "duration": 12,
    "start_time": "2025-04-18T21:24:42.388Z"
   },
   {
    "duration": 40,
    "start_time": "2025-04-18T21:24:42.401Z"
   },
   {
    "duration": 18,
    "start_time": "2025-04-18T21:24:42.442Z"
   },
   {
    "duration": 11,
    "start_time": "2025-04-18T21:24:42.461Z"
   },
   {
    "duration": 33,
    "start_time": "2025-04-18T21:24:42.473Z"
   },
   {
    "duration": 1045,
    "start_time": "2025-04-18T22:42:40.465Z"
   },
   {
    "duration": 2272,
    "start_time": "2025-04-18T22:42:41.512Z"
   },
   {
    "duration": 14,
    "start_time": "2025-04-18T22:42:43.786Z"
   },
   {
    "duration": 154,
    "start_time": "2025-04-18T22:42:43.802Z"
   },
   {
    "duration": 328,
    "start_time": "2025-04-18T22:42:43.957Z"
   },
   {
    "duration": 564,
    "start_time": "2025-04-18T22:42:44.287Z"
   },
   {
    "duration": 39,
    "start_time": "2025-04-18T22:42:44.853Z"
   },
   {
    "duration": 5,
    "start_time": "2025-04-18T22:42:44.893Z"
   },
   {
    "duration": 58,
    "start_time": "2025-04-18T22:42:44.899Z"
   },
   {
    "duration": 156,
    "start_time": "2025-04-18T22:42:44.960Z"
   },
   {
    "duration": 36,
    "start_time": "2025-04-18T22:42:45.118Z"
   },
   {
    "duration": 313,
    "start_time": "2025-04-18T22:42:45.156Z"
   },
   {
    "duration": 117,
    "start_time": "2025-04-18T22:42:45.471Z"
   },
   {
    "duration": 196,
    "start_time": "2025-04-18T22:42:45.590Z"
   },
   {
    "duration": 29,
    "start_time": "2025-04-18T22:42:45.788Z"
   },
   {
    "duration": 210,
    "start_time": "2025-04-18T22:42:45.819Z"
   },
   {
    "duration": 146,
    "start_time": "2025-04-18T22:42:46.031Z"
   },
   {
    "duration": 14,
    "start_time": "2025-04-18T22:42:46.179Z"
   },
   {
    "duration": 50,
    "start_time": "2025-04-18T22:42:46.195Z"
   },
   {
    "duration": 7,
    "start_time": "2025-04-18T22:42:46.247Z"
   },
   {
    "duration": 228,
    "start_time": "2025-04-18T22:42:46.256Z"
   },
   {
    "duration": 18,
    "start_time": "2025-04-18T22:42:46.485Z"
   },
   {
    "duration": 137,
    "start_time": "2025-04-18T22:42:46.505Z"
   },
   {
    "duration": 62,
    "start_time": "2025-04-18T22:42:46.644Z"
   },
   {
    "duration": 6,
    "start_time": "2025-04-18T22:42:46.708Z"
   },
   {
    "duration": 26,
    "start_time": "2025-04-18T22:42:46.715Z"
   },
   {
    "duration": 157,
    "start_time": "2025-04-18T22:42:46.743Z"
   },
   {
    "duration": 7,
    "start_time": "2025-04-18T22:42:46.904Z"
   },
   {
    "duration": 17,
    "start_time": "2025-04-18T22:42:46.912Z"
   },
   {
    "duration": 10,
    "start_time": "2025-04-18T22:42:46.931Z"
   },
   {
    "duration": 182,
    "start_time": "2025-04-18T22:42:46.942Z"
   },
   {
    "duration": 16,
    "start_time": "2025-04-18T22:42:47.126Z"
   },
   {
    "duration": 189,
    "start_time": "2025-04-18T22:42:47.143Z"
   },
   {
    "duration": 9,
    "start_time": "2025-04-18T22:42:47.333Z"
   },
   {
    "duration": 170,
    "start_time": "2025-04-18T22:42:47.344Z"
   },
   {
    "duration": 8,
    "start_time": "2025-04-18T22:42:47.516Z"
   },
   {
    "duration": 299,
    "start_time": "2025-04-18T22:42:47.536Z"
   },
   {
    "duration": 8,
    "start_time": "2025-04-18T22:42:47.837Z"
   },
   {
    "duration": 152,
    "start_time": "2025-04-18T22:42:47.846Z"
   },
   {
    "duration": 9,
    "start_time": "2025-04-18T22:42:48.000Z"
   },
   {
    "duration": 158,
    "start_time": "2025-04-18T22:42:48.010Z"
   },
   {
    "duration": 815,
    "start_time": "2025-04-18T22:42:48.170Z"
   },
   {
    "duration": 75,
    "start_time": "2025-04-18T22:42:48.987Z"
   },
   {
    "duration": 28,
    "start_time": "2025-04-18T22:42:49.064Z"
   },
   {
    "duration": 19,
    "start_time": "2025-04-18T22:42:49.094Z"
   },
   {
    "duration": 41,
    "start_time": "2025-04-18T22:42:49.115Z"
   },
   {
    "duration": 8,
    "start_time": "2025-04-18T22:42:49.157Z"
   },
   {
    "duration": 12,
    "start_time": "2025-04-18T22:42:49.167Z"
   },
   {
    "duration": 25,
    "start_time": "2025-04-18T22:42:49.180Z"
   },
   {
    "duration": 29,
    "start_time": "2025-04-18T22:42:49.207Z"
   },
   {
    "duration": 8,
    "start_time": "2025-04-18T22:42:49.238Z"
   },
   {
    "duration": 134,
    "start_time": "2025-04-18T22:42:49.248Z"
   },
   {
    "duration": 1033,
    "start_time": "2025-04-18T22:43:36.774Z"
   },
   {
    "duration": 1799,
    "start_time": "2025-04-18T22:43:37.809Z"
   },
   {
    "duration": 14,
    "start_time": "2025-04-18T22:43:39.609Z"
   },
   {
    "duration": 148,
    "start_time": "2025-04-18T22:43:39.624Z"
   },
   {
    "duration": 323,
    "start_time": "2025-04-18T22:43:39.774Z"
   },
   {
    "duration": 556,
    "start_time": "2025-04-18T22:43:40.098Z"
   },
   {
    "duration": 39,
    "start_time": "2025-04-18T22:43:40.656Z"
   },
   {
    "duration": 4,
    "start_time": "2025-04-18T22:43:40.697Z"
   },
   {
    "duration": 63,
    "start_time": "2025-04-18T22:43:40.703Z"
   },
   {
    "duration": 141,
    "start_time": "2025-04-18T22:43:40.768Z"
   },
   {
    "duration": 39,
    "start_time": "2025-04-18T22:43:40.911Z"
   },
   {
    "duration": 307,
    "start_time": "2025-04-18T22:43:40.952Z"
   },
   {
    "duration": 116,
    "start_time": "2025-04-18T22:43:41.261Z"
   },
   {
    "duration": 195,
    "start_time": "2025-04-18T22:43:41.380Z"
   },
   {
    "duration": 27,
    "start_time": "2025-04-18T22:43:41.577Z"
   },
   {
    "duration": 207,
    "start_time": "2025-04-18T22:43:41.605Z"
   },
   {
    "duration": 150,
    "start_time": "2025-04-18T22:43:41.814Z"
   },
   {
    "duration": 12,
    "start_time": "2025-04-18T22:43:41.965Z"
   },
   {
    "duration": 37,
    "start_time": "2025-04-18T22:43:41.978Z"
   },
   {
    "duration": 6,
    "start_time": "2025-04-18T22:43:42.016Z"
   },
   {
    "duration": 320,
    "start_time": "2025-04-18T22:43:42.024Z"
   },
   {
    "duration": 16,
    "start_time": "2025-04-18T22:43:42.347Z"
   },
   {
    "duration": 164,
    "start_time": "2025-04-18T22:43:42.365Z"
   },
   {
    "duration": 66,
    "start_time": "2025-04-18T22:43:42.532Z"
   },
   {
    "duration": 7,
    "start_time": "2025-04-18T22:43:42.600Z"
   },
   {
    "duration": 10,
    "start_time": "2025-04-18T22:43:42.609Z"
   },
   {
    "duration": 155,
    "start_time": "2025-04-18T22:43:42.622Z"
   },
   {
    "duration": 7,
    "start_time": "2025-04-18T22:43:42.778Z"
   },
   {
    "duration": 23,
    "start_time": "2025-04-18T22:43:42.786Z"
   },
   {
    "duration": 14,
    "start_time": "2025-04-18T22:43:42.811Z"
   },
   {
    "duration": 175,
    "start_time": "2025-04-18T22:43:42.826Z"
   },
   {
    "duration": 8,
    "start_time": "2025-04-18T22:43:43.002Z"
   },
   {
    "duration": 196,
    "start_time": "2025-04-18T22:43:43.011Z"
   },
   {
    "duration": 8,
    "start_time": "2025-04-18T22:43:43.208Z"
   },
   {
    "duration": 167,
    "start_time": "2025-04-18T22:43:43.217Z"
   },
   {
    "duration": 7,
    "start_time": "2025-04-18T22:43:43.386Z"
   },
   {
    "duration": 216,
    "start_time": "2025-04-18T22:43:43.395Z"
   },
   {
    "duration": 9,
    "start_time": "2025-04-18T22:43:43.612Z"
   },
   {
    "duration": 160,
    "start_time": "2025-04-18T22:43:43.622Z"
   },
   {
    "duration": 9,
    "start_time": "2025-04-18T22:43:43.783Z"
   },
   {
    "duration": 160,
    "start_time": "2025-04-18T22:43:43.796Z"
   },
   {
    "duration": 464,
    "start_time": "2025-04-18T22:43:43.958Z"
   },
   {
    "duration": 52,
    "start_time": "2025-04-18T22:43:44.424Z"
   },
   {
    "duration": 30,
    "start_time": "2025-04-18T22:43:44.478Z"
   },
   {
    "duration": 38,
    "start_time": "2025-04-18T22:43:44.509Z"
   },
   {
    "duration": 21,
    "start_time": "2025-04-18T22:43:44.549Z"
   },
   {
    "duration": 8,
    "start_time": "2025-04-18T22:43:44.572Z"
   },
   {
    "duration": 6,
    "start_time": "2025-04-18T22:43:44.582Z"
   },
   {
    "duration": 18,
    "start_time": "2025-04-18T22:43:44.590Z"
   },
   {
    "duration": 41,
    "start_time": "2025-04-18T22:43:44.610Z"
   },
   {
    "duration": 5,
    "start_time": "2025-04-18T22:43:44.653Z"
   },
   {
    "duration": 8,
    "start_time": "2025-04-18T22:43:44.660Z"
   },
   {
    "duration": 1062,
    "start_time": "2025-04-18T22:44:55.952Z"
   },
   {
    "duration": 2438,
    "start_time": "2025-04-18T22:44:57.016Z"
   },
   {
    "duration": 15,
    "start_time": "2025-04-18T22:44:59.456Z"
   },
   {
    "duration": 142,
    "start_time": "2025-04-18T22:44:59.473Z"
   },
   {
    "duration": 323,
    "start_time": "2025-04-18T22:44:59.616Z"
   },
   {
    "duration": 560,
    "start_time": "2025-04-18T22:44:59.940Z"
   },
   {
    "duration": 47,
    "start_time": "2025-04-18T22:45:00.501Z"
   },
   {
    "duration": 5,
    "start_time": "2025-04-18T22:45:00.549Z"
   },
   {
    "duration": 78,
    "start_time": "2025-04-18T22:45:00.555Z"
   },
   {
    "duration": 137,
    "start_time": "2025-04-18T22:45:00.636Z"
   },
   {
    "duration": 33,
    "start_time": "2025-04-18T22:45:00.774Z"
   },
   {
    "duration": 316,
    "start_time": "2025-04-18T22:45:00.808Z"
   },
   {
    "duration": 112,
    "start_time": "2025-04-18T22:45:01.126Z"
   },
   {
    "duration": 210,
    "start_time": "2025-04-18T22:45:01.239Z"
   },
   {
    "duration": 28,
    "start_time": "2025-04-18T22:45:01.450Z"
   },
   {
    "duration": 220,
    "start_time": "2025-04-18T22:45:01.480Z"
   },
   {
    "duration": 149,
    "start_time": "2025-04-18T22:45:01.702Z"
   },
   {
    "duration": 14,
    "start_time": "2025-04-18T22:45:01.852Z"
   },
   {
    "duration": 60,
    "start_time": "2025-04-18T22:45:01.868Z"
   },
   {
    "duration": 8,
    "start_time": "2025-04-18T22:45:01.930Z"
   },
   {
    "duration": 228,
    "start_time": "2025-04-18T22:45:01.939Z"
   },
   {
    "duration": 14,
    "start_time": "2025-04-18T22:45:02.169Z"
   },
   {
    "duration": 149,
    "start_time": "2025-04-18T22:45:02.184Z"
   },
   {
    "duration": 68,
    "start_time": "2025-04-18T22:45:02.335Z"
   },
   {
    "duration": 7,
    "start_time": "2025-04-18T22:45:02.405Z"
   },
   {
    "duration": 24,
    "start_time": "2025-04-18T22:45:02.413Z"
   },
   {
    "duration": 187,
    "start_time": "2025-04-18T22:45:02.438Z"
   },
   {
    "duration": 13,
    "start_time": "2025-04-18T22:45:02.628Z"
   },
   {
    "duration": 32,
    "start_time": "2025-04-18T22:45:02.643Z"
   },
   {
    "duration": 60,
    "start_time": "2025-04-18T22:45:02.676Z"
   },
   {
    "duration": 201,
    "start_time": "2025-04-18T22:45:02.738Z"
   },
   {
    "duration": 8,
    "start_time": "2025-04-18T22:45:02.941Z"
   },
   {
    "duration": 212,
    "start_time": "2025-04-18T22:45:02.950Z"
   },
   {
    "duration": 8,
    "start_time": "2025-04-18T22:45:03.164Z"
   },
   {
    "duration": 171,
    "start_time": "2025-04-18T22:45:03.174Z"
   },
   {
    "duration": 9,
    "start_time": "2025-04-18T22:45:03.346Z"
   },
   {
    "duration": 281,
    "start_time": "2025-04-18T22:45:03.357Z"
   },
   {
    "duration": 13,
    "start_time": "2025-04-18T22:45:03.639Z"
   },
   {
    "duration": 150,
    "start_time": "2025-04-18T22:45:03.653Z"
   },
   {
    "duration": 9,
    "start_time": "2025-04-18T22:45:03.805Z"
   },
   {
    "duration": 170,
    "start_time": "2025-04-18T22:45:03.816Z"
   },
   {
    "duration": 749,
    "start_time": "2025-04-18T22:45:03.988Z"
   },
   {
    "duration": 43,
    "start_time": "2025-04-18T22:45:04.738Z"
   },
   {
    "duration": 29,
    "start_time": "2025-04-18T22:45:04.783Z"
   },
   {
    "duration": 37,
    "start_time": "2025-04-18T22:45:04.813Z"
   },
   {
    "duration": 20,
    "start_time": "2025-04-18T22:45:04.852Z"
   },
   {
    "duration": 8,
    "start_time": "2025-04-18T22:45:04.874Z"
   },
   {
    "duration": 10,
    "start_time": "2025-04-18T22:45:04.883Z"
   },
   {
    "duration": 42,
    "start_time": "2025-04-18T22:45:04.895Z"
   },
   {
    "duration": 15,
    "start_time": "2025-04-18T22:45:04.939Z"
   },
   {
    "duration": 3,
    "start_time": "2025-04-18T22:45:04.956Z"
   },
   {
    "duration": 11,
    "start_time": "2025-04-18T22:45:04.961Z"
   },
   {
    "duration": 1124,
    "start_time": "2025-04-18T22:46:13.707Z"
   },
   {
    "duration": 1928,
    "start_time": "2025-04-18T22:46:14.835Z"
   },
   {
    "duration": 14,
    "start_time": "2025-04-18T22:46:16.765Z"
   },
   {
    "duration": 149,
    "start_time": "2025-04-18T22:46:16.781Z"
   },
   {
    "duration": 323,
    "start_time": "2025-04-18T22:46:16.936Z"
   },
   {
    "duration": 547,
    "start_time": "2025-04-18T22:46:17.261Z"
   },
   {
    "duration": 48,
    "start_time": "2025-04-18T22:46:17.810Z"
   },
   {
    "duration": 5,
    "start_time": "2025-04-18T22:46:17.859Z"
   },
   {
    "duration": 46,
    "start_time": "2025-04-18T22:46:17.866Z"
   },
   {
    "duration": 154,
    "start_time": "2025-04-18T22:46:17.916Z"
   },
   {
    "duration": 32,
    "start_time": "2025-04-18T22:46:18.072Z"
   },
   {
    "duration": 345,
    "start_time": "2025-04-18T22:46:18.106Z"
   },
   {
    "duration": 130,
    "start_time": "2025-04-18T22:46:18.453Z"
   },
   {
    "duration": 205,
    "start_time": "2025-04-18T22:46:18.585Z"
   },
   {
    "duration": 30,
    "start_time": "2025-04-18T22:46:18.792Z"
   },
   {
    "duration": 231,
    "start_time": "2025-04-18T22:46:18.824Z"
   },
   {
    "duration": 149,
    "start_time": "2025-04-18T22:46:19.057Z"
   },
   {
    "duration": 14,
    "start_time": "2025-04-18T22:46:19.208Z"
   },
   {
    "duration": 38,
    "start_time": "2025-04-18T22:46:19.224Z"
   },
   {
    "duration": 6,
    "start_time": "2025-04-18T22:46:19.265Z"
   },
   {
    "duration": 323,
    "start_time": "2025-04-18T22:46:19.274Z"
   },
   {
    "duration": 15,
    "start_time": "2025-04-18T22:46:19.598Z"
   },
   {
    "duration": 160,
    "start_time": "2025-04-18T22:46:19.615Z"
   },
   {
    "duration": 80,
    "start_time": "2025-04-18T22:46:19.777Z"
   },
   {
    "duration": 7,
    "start_time": "2025-04-18T22:46:19.858Z"
   },
   {
    "duration": 10,
    "start_time": "2025-04-18T22:46:19.867Z"
   },
   {
    "duration": 169,
    "start_time": "2025-04-18T22:46:19.878Z"
   },
   {
    "duration": 6,
    "start_time": "2025-04-18T22:46:20.051Z"
   },
   {
    "duration": 115,
    "start_time": "2025-04-18T22:46:20.059Z"
   },
   {
    "duration": 23,
    "start_time": "2025-04-18T22:46:20.176Z"
   },
   {
    "duration": 198,
    "start_time": "2025-04-18T22:46:20.201Z"
   },
   {
    "duration": 8,
    "start_time": "2025-04-18T22:46:20.400Z"
   },
   {
    "duration": 196,
    "start_time": "2025-04-18T22:46:20.409Z"
   },
   {
    "duration": 9,
    "start_time": "2025-04-18T22:46:20.606Z"
   },
   {
    "duration": 187,
    "start_time": "2025-04-18T22:46:20.617Z"
   },
   {
    "duration": 9,
    "start_time": "2025-04-18T22:46:20.806Z"
   },
   {
    "duration": 232,
    "start_time": "2025-04-18T22:46:20.816Z"
   },
   {
    "duration": 8,
    "start_time": "2025-04-18T22:46:21.050Z"
   },
   {
    "duration": 155,
    "start_time": "2025-04-18T22:46:21.060Z"
   },
   {
    "duration": 8,
    "start_time": "2025-04-18T22:46:21.217Z"
   },
   {
    "duration": 162,
    "start_time": "2025-04-18T22:46:21.226Z"
   },
   {
    "duration": 445,
    "start_time": "2025-04-18T22:46:21.390Z"
   },
   {
    "duration": 47,
    "start_time": "2025-04-18T22:46:21.836Z"
   },
   {
    "duration": 29,
    "start_time": "2025-04-18T22:46:21.885Z"
   },
   {
    "duration": 35,
    "start_time": "2025-04-18T22:46:21.916Z"
   },
   {
    "duration": 21,
    "start_time": "2025-04-18T22:46:21.952Z"
   },
   {
    "duration": 8,
    "start_time": "2025-04-18T22:46:21.975Z"
   },
   {
    "duration": 6,
    "start_time": "2025-04-18T22:46:21.985Z"
   },
   {
    "duration": 45,
    "start_time": "2025-04-18T22:46:21.993Z"
   },
   {
    "duration": 18,
    "start_time": "2025-04-18T22:46:22.040Z"
   },
   {
    "duration": 88,
    "start_time": "2025-04-18T22:46:22.059Z"
   },
   {
    "duration": 10,
    "start_time": "2025-04-18T22:46:22.148Z"
   },
   {
    "duration": 1047,
    "start_time": "2025-04-18T22:59:45.965Z"
   },
   {
    "duration": 2264,
    "start_time": "2025-04-18T22:59:47.014Z"
   },
   {
    "duration": 13,
    "start_time": "2025-04-18T22:59:49.280Z"
   },
   {
    "duration": 151,
    "start_time": "2025-04-18T22:59:49.294Z"
   },
   {
    "duration": 330,
    "start_time": "2025-04-18T22:59:49.446Z"
   },
   {
    "duration": 539,
    "start_time": "2025-04-18T22:59:49.777Z"
   },
   {
    "duration": 48,
    "start_time": "2025-04-18T22:59:50.318Z"
   },
   {
    "duration": 4,
    "start_time": "2025-04-18T22:59:50.369Z"
   },
   {
    "duration": 47,
    "start_time": "2025-04-18T22:59:50.375Z"
   },
   {
    "duration": 146,
    "start_time": "2025-04-18T22:59:50.438Z"
   },
   {
    "duration": 30,
    "start_time": "2025-04-18T22:59:50.586Z"
   },
   {
    "duration": 315,
    "start_time": "2025-04-18T22:59:50.618Z"
   },
   {
    "duration": 110,
    "start_time": "2025-04-18T22:59:50.937Z"
   },
   {
    "duration": 191,
    "start_time": "2025-04-18T22:59:51.048Z"
   },
   {
    "duration": 27,
    "start_time": "2025-04-18T22:59:51.241Z"
   },
   {
    "duration": 205,
    "start_time": "2025-04-18T22:59:51.269Z"
   },
   {
    "duration": 147,
    "start_time": "2025-04-18T22:59:51.475Z"
   },
   {
    "duration": 21,
    "start_time": "2025-04-18T22:59:51.624Z"
   },
   {
    "duration": 99,
    "start_time": "2025-04-18T22:59:51.647Z"
   },
   {
    "duration": 6,
    "start_time": "2025-04-18T22:59:51.748Z"
   },
   {
    "duration": 235,
    "start_time": "2025-04-18T22:59:51.756Z"
   },
   {
    "duration": 15,
    "start_time": "2025-04-18T22:59:51.992Z"
   },
   {
    "duration": 152,
    "start_time": "2025-04-18T22:59:52.008Z"
   },
   {
    "duration": 84,
    "start_time": "2025-04-18T22:59:52.162Z"
   },
   {
    "duration": 8,
    "start_time": "2025-04-18T22:59:52.247Z"
   },
   {
    "duration": 9,
    "start_time": "2025-04-18T22:59:52.256Z"
   },
   {
    "duration": 169,
    "start_time": "2025-04-18T22:59:52.266Z"
   },
   {
    "duration": 7,
    "start_time": "2025-04-18T22:59:52.439Z"
   },
   {
    "duration": 16,
    "start_time": "2025-04-18T22:59:52.447Z"
   },
   {
    "duration": 18,
    "start_time": "2025-04-18T22:59:52.465Z"
   },
   {
    "duration": 198,
    "start_time": "2025-04-18T22:59:52.485Z"
   },
   {
    "duration": 8,
    "start_time": "2025-04-18T22:59:52.685Z"
   },
   {
    "duration": 203,
    "start_time": "2025-04-18T22:59:52.695Z"
   },
   {
    "duration": 8,
    "start_time": "2025-04-18T22:59:52.900Z"
   },
   {
    "duration": 170,
    "start_time": "2025-04-18T22:59:52.910Z"
   },
   {
    "duration": 8,
    "start_time": "2025-04-18T22:59:53.082Z"
   },
   {
    "duration": 225,
    "start_time": "2025-04-18T22:59:53.091Z"
   },
   {
    "duration": 9,
    "start_time": "2025-04-18T22:59:53.318Z"
   },
   {
    "duration": 237,
    "start_time": "2025-04-18T22:59:53.329Z"
   },
   {
    "duration": 8,
    "start_time": "2025-04-18T22:59:53.568Z"
   },
   {
    "duration": 266,
    "start_time": "2025-04-18T22:59:53.577Z"
   },
   {
    "duration": 493,
    "start_time": "2025-04-18T22:59:53.844Z"
   },
   {
    "duration": 52,
    "start_time": "2025-04-18T22:59:54.339Z"
   },
   {
    "duration": 56,
    "start_time": "2025-04-18T22:59:54.394Z"
   },
   {
    "duration": 21,
    "start_time": "2025-04-18T22:59:54.451Z"
   },
   {
    "duration": 20,
    "start_time": "2025-04-18T22:59:54.474Z"
   },
   {
    "duration": 8,
    "start_time": "2025-04-18T22:59:54.496Z"
   },
   {
    "duration": 32,
    "start_time": "2025-04-18T22:59:54.506Z"
   },
   {
    "duration": 20,
    "start_time": "2025-04-18T22:59:54.540Z"
   },
   {
    "duration": 18,
    "start_time": "2025-04-18T22:59:54.561Z"
   },
   {
    "duration": 17,
    "start_time": "2025-04-18T22:59:54.581Z"
   },
   {
    "duration": 11,
    "start_time": "2025-04-18T22:59:54.599Z"
   },
   {
    "duration": 1253,
    "start_time": "2025-05-02T18:20:35.244Z"
   },
   {
    "duration": 1945,
    "start_time": "2025-05-02T18:20:36.501Z"
   },
   {
    "duration": 19,
    "start_time": "2025-05-02T18:20:38.456Z"
   },
   {
    "duration": 157,
    "start_time": "2025-05-02T18:20:38.477Z"
   },
   {
    "duration": 360,
    "start_time": "2025-05-02T18:20:38.645Z"
   },
   {
    "duration": 662,
    "start_time": "2025-05-02T18:20:39.007Z"
   },
   {
    "duration": 43,
    "start_time": "2025-05-02T18:20:39.670Z"
   },
   {
    "duration": 4,
    "start_time": "2025-05-02T18:20:39.715Z"
   },
   {
    "duration": 76,
    "start_time": "2025-05-02T18:20:39.721Z"
   },
   {
    "duration": 176,
    "start_time": "2025-05-02T18:20:39.798Z"
   },
   {
    "duration": 31,
    "start_time": "2025-05-02T18:20:39.976Z"
   },
   {
    "duration": 395,
    "start_time": "2025-05-02T18:20:40.009Z"
   },
   {
    "duration": 123,
    "start_time": "2025-05-02T18:20:40.406Z"
   },
   {
    "duration": 249,
    "start_time": "2025-05-02T18:20:40.532Z"
   },
   {
    "duration": 29,
    "start_time": "2025-05-02T18:20:40.782Z"
   },
   {
    "duration": 246,
    "start_time": "2025-05-02T18:20:40.813Z"
   },
   {
    "duration": 166,
    "start_time": "2025-05-02T18:20:41.068Z"
   },
   {
    "duration": 29,
    "start_time": "2025-05-02T18:20:41.237Z"
   },
   {
    "duration": 51,
    "start_time": "2025-05-02T18:20:41.267Z"
   },
   {
    "duration": 6,
    "start_time": "2025-05-02T18:20:41.320Z"
   },
   {
    "duration": 314,
    "start_time": "2025-05-02T18:20:41.328Z"
   },
   {
    "duration": 28,
    "start_time": "2025-05-02T18:20:41.644Z"
   },
   {
    "duration": 182,
    "start_time": "2025-05-02T18:20:41.673Z"
   },
   {
    "duration": 85,
    "start_time": "2025-05-02T18:20:41.856Z"
   },
   {
    "duration": 12,
    "start_time": "2025-05-02T18:20:41.945Z"
   },
   {
    "duration": 49,
    "start_time": "2025-05-02T18:20:41.960Z"
   },
   {
    "duration": 208,
    "start_time": "2025-05-02T18:20:42.011Z"
   },
   {
    "duration": 7,
    "start_time": "2025-05-02T18:20:42.220Z"
   },
   {
    "duration": 10,
    "start_time": "2025-05-02T18:20:42.229Z"
   },
   {
    "duration": 17,
    "start_time": "2025-05-02T18:20:42.242Z"
   },
   {
    "duration": 237,
    "start_time": "2025-05-02T18:20:42.261Z"
   },
   {
    "duration": 8,
    "start_time": "2025-05-02T18:20:42.501Z"
   },
   {
    "duration": 228,
    "start_time": "2025-05-02T18:20:42.511Z"
   },
   {
    "duration": 14,
    "start_time": "2025-05-02T18:20:42.740Z"
   },
   {
    "duration": 202,
    "start_time": "2025-05-02T18:20:42.756Z"
   },
   {
    "duration": 11,
    "start_time": "2025-05-02T18:20:42.961Z"
   },
   {
    "duration": 248,
    "start_time": "2025-05-02T18:20:42.974Z"
   },
   {
    "duration": 13,
    "start_time": "2025-05-02T18:20:43.224Z"
   },
   {
    "duration": 201,
    "start_time": "2025-05-02T18:20:43.239Z"
   },
   {
    "duration": 15,
    "start_time": "2025-05-02T18:20:43.443Z"
   },
   {
    "duration": 184,
    "start_time": "2025-05-02T18:20:43.464Z"
   },
   {
    "duration": 542,
    "start_time": "2025-05-02T18:20:43.650Z"
   },
   {
    "duration": 74,
    "start_time": "2025-05-02T18:20:44.194Z"
   },
   {
    "duration": 29,
    "start_time": "2025-05-02T18:20:44.270Z"
   },
   {
    "duration": 20,
    "start_time": "2025-05-02T18:20:44.301Z"
   },
   {
    "duration": 64,
    "start_time": "2025-05-02T18:20:44.323Z"
   },
   {
    "duration": 8,
    "start_time": "2025-05-02T18:20:44.388Z"
   },
   {
    "duration": 5,
    "start_time": "2025-05-02T18:20:44.398Z"
   },
   {
    "duration": 17,
    "start_time": "2025-05-02T18:20:44.405Z"
   },
   {
    "duration": 21,
    "start_time": "2025-05-02T18:20:44.424Z"
   },
   {
    "duration": 9,
    "start_time": "2025-05-02T18:20:44.450Z"
   },
   {
    "duration": 13,
    "start_time": "2025-05-02T18:20:44.461Z"
   },
   {
    "duration": 1107,
    "start_time": "2025-05-02T18:21:29.189Z"
   },
   {
    "duration": 1953,
    "start_time": "2025-05-02T18:21:30.298Z"
   },
   {
    "duration": 17,
    "start_time": "2025-05-02T18:21:32.253Z"
   },
   {
    "duration": 156,
    "start_time": "2025-05-02T18:21:32.272Z"
   },
   {
    "duration": 344,
    "start_time": "2025-05-02T18:21:32.430Z"
   },
   {
    "duration": 586,
    "start_time": "2025-05-02T18:21:32.776Z"
   },
   {
    "duration": 51,
    "start_time": "2025-05-02T18:21:33.364Z"
   },
   {
    "duration": 16,
    "start_time": "2025-05-02T18:21:33.440Z"
   },
   {
    "duration": 63,
    "start_time": "2025-05-02T18:21:33.459Z"
   },
   {
    "duration": 157,
    "start_time": "2025-05-02T18:21:33.525Z"
   },
   {
    "duration": 38,
    "start_time": "2025-05-02T18:21:33.683Z"
   },
   {
    "duration": 351,
    "start_time": "2025-05-02T18:21:33.735Z"
   },
   {
    "duration": 140,
    "start_time": "2025-05-02T18:21:34.088Z"
   },
   {
    "duration": 210,
    "start_time": "2025-05-02T18:21:34.230Z"
   },
   {
    "duration": 33,
    "start_time": "2025-05-02T18:21:34.442Z"
   },
   {
    "duration": 229,
    "start_time": "2025-05-02T18:21:34.477Z"
   },
   {
    "duration": 174,
    "start_time": "2025-05-02T18:21:34.708Z"
   },
   {
    "duration": 13,
    "start_time": "2025-05-02T18:21:34.884Z"
   },
   {
    "duration": 58,
    "start_time": "2025-05-02T18:21:34.899Z"
   },
   {
    "duration": 5,
    "start_time": "2025-05-02T18:21:34.959Z"
   },
   {
    "duration": 244,
    "start_time": "2025-05-02T18:21:34.966Z"
   },
   {
    "duration": 33,
    "start_time": "2025-05-02T18:21:35.211Z"
   },
   {
    "duration": 188,
    "start_time": "2025-05-02T18:21:35.246Z"
   },
   {
    "duration": 69,
    "start_time": "2025-05-02T18:21:35.446Z"
   },
   {
    "duration": 6,
    "start_time": "2025-05-02T18:21:35.517Z"
   },
   {
    "duration": 24,
    "start_time": "2025-05-02T18:21:35.525Z"
   },
   {
    "duration": 164,
    "start_time": "2025-05-02T18:21:35.552Z"
   },
   {
    "duration": 17,
    "start_time": "2025-05-02T18:21:35.720Z"
   },
   {
    "duration": 8,
    "start_time": "2025-05-02T18:21:35.746Z"
   },
   {
    "duration": 10,
    "start_time": "2025-05-02T18:21:35.756Z"
   },
   {
    "duration": 232,
    "start_time": "2025-05-02T18:21:35.768Z"
   },
   {
    "duration": 8,
    "start_time": "2025-05-02T18:21:36.002Z"
   },
   {
    "duration": 217,
    "start_time": "2025-05-02T18:21:36.012Z"
   },
   {
    "duration": 23,
    "start_time": "2025-05-02T18:21:36.231Z"
   },
   {
    "duration": 190,
    "start_time": "2025-05-02T18:21:36.257Z"
   },
   {
    "duration": 11,
    "start_time": "2025-05-02T18:21:36.449Z"
   },
   {
    "duration": 258,
    "start_time": "2025-05-02T18:21:36.461Z"
   },
   {
    "duration": 26,
    "start_time": "2025-05-02T18:21:36.722Z"
   },
   {
    "duration": 151,
    "start_time": "2025-05-02T18:21:36.755Z"
   },
   {
    "duration": 8,
    "start_time": "2025-05-02T18:21:36.908Z"
   },
   {
    "duration": 176,
    "start_time": "2025-05-02T18:21:36.918Z"
   },
   {
    "duration": 395,
    "start_time": "2025-05-02T18:21:37.097Z"
   },
   {
    "duration": 60,
    "start_time": "2025-05-02T18:21:37.494Z"
   },
   {
    "duration": 27,
    "start_time": "2025-05-02T18:21:37.557Z"
   },
   {
    "duration": 22,
    "start_time": "2025-05-02T18:21:37.587Z"
   },
   {
    "duration": 47,
    "start_time": "2025-05-02T18:21:37.611Z"
   },
   {
    "duration": 8,
    "start_time": "2025-05-02T18:21:37.660Z"
   },
   {
    "duration": 7,
    "start_time": "2025-05-02T18:21:37.670Z"
   },
   {
    "duration": 27,
    "start_time": "2025-05-02T18:21:37.679Z"
   },
   {
    "duration": 46,
    "start_time": "2025-05-02T18:21:37.708Z"
   },
   {
    "duration": 4,
    "start_time": "2025-05-02T18:21:37.757Z"
   },
   {
    "duration": 13,
    "start_time": "2025-05-02T18:21:37.764Z"
   }
  ],
  "colab": {
   "provenance": []
  },
  "kernelspec": {
   "display_name": "Python 3 (ipykernel)",
   "language": "python",
   "name": "python3"
  },
  "language_info": {
   "codemirror_mode": {
    "name": "ipython",
    "version": 3
   },
   "file_extension": ".py",
   "mimetype": "text/x-python",
   "name": "python",
   "nbconvert_exporter": "python",
   "pygments_lexer": "ipython3",
   "version": "3.9.7"
  },
  "toc": {
   "base_numbering": 1,
   "nav_menu": {},
   "number_sections": true,
   "sideBar": true,
   "skip_h1_title": true,
   "title_cell": "Table of Contents",
   "title_sidebar": "Contents",
   "toc_cell": false,
   "toc_position": {
    "height": "calc(100% - 180px)",
    "left": "10px",
    "top": "150px",
    "width": "311.27px"
   },
   "toc_section_display": true,
   "toc_window_display": true
  }
 },
 "nbformat": 4,
 "nbformat_minor": 1
}
